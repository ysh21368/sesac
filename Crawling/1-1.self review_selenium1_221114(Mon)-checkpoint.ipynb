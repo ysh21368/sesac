{
 "cells": [
  {
   "cell_type": "code",
   "execution_count": null,
   "id": "7f80a690-5fe9-4f48-b9bd-ba9ced9874dc",
   "metadata": {},
   "outputs": [],
   "source": [
    "import time\n",
    "import requests\n",
    "\n",
    "from bs4 import BeautifulSoup\n",
    "from selenium import webdriver\n",
    "from selenium.webdriver.common.keys import Keys\n",
    "from selenium.webdriver.common.by import By"
   ]
  },
  {
   "cell_type": "code",
   "execution_count": null,
   "id": "8c90fb5a-6c6b-4659-b45b-1ce7c4e1597c",
   "metadata": {},
   "outputs": [],
   "source": [
    "DRIVER_DIR = './chromedriver.exe'\n",
    "driver = webdriver.Chrome(DRIVER_DIR)"
   ]
  },
  {
   "cell_type": "code",
   "execution_count": 10,
   "id": "26208a5c-7c6b-4001-ab74-23e2fdcfba2e",
   "metadata": {},
   "outputs": [],
   "source": [
    "# 페이지 이동하기: driver.get(url) / (v-room 홈페이지로 이동)\n",
    "driver.get('http://v-room.kr/')"
   ]
  },
  {
   "cell_type": "code",
   "execution_count": 11,
   "id": "e17c0434-0782-4ae3-8176-169595292031",
   "metadata": {},
   "outputs": [],
   "source": [
    "# 페이지 이동하기(v-room 로그인 창으로 이동)\n",
    "driver.get('http://v-room.kr/login/')"
   ]
  },
  {
   "cell_type": "code",
   "execution_count": 12,
   "id": "113f7548-b15f-4116-9bc5-0a823bcbbbcd",
   "metadata": {},
   "outputs": [],
   "source": [
    "#아이디 창에 'test'라는 값 넣기\n",
    "ele = driver.find_element(By.ID, 'inputID') #v-room 로그인 창의 ID 칸을 찾아라.\n",
    "ele.send_keys('test') #v-room 로그인 창에서 찾은 ID 칸에 ID 입력해라."
   ]
  },
  {
   "cell_type": "code",
   "execution_count": 13,
   "id": "bdbf16eb-4311-493f-9cbe-f2239748db37",
   "metadata": {},
   "outputs": [],
   "source": [
    "#비밀번호에 'test'라는 값 넣기\n",
    "ele2 = driver.find_element(By.ID, 'inputPW') #v-room 로그인 창의 패스워드 칸을 찾아라.\n",
    "ele2.send_keys('test') #v-room 로그인 창에서 찾은 패스워드 칸에 패스워드를 입력해라."
   ]
  },
  {
   "cell_type": "code",
   "execution_count": 14,
   "id": "c8217c21-5115-4008-a156-2e627cc5f754",
   "metadata": {},
   "outputs": [],
   "source": [
    "# 로그인 할 수 있는 방법 2가지 중 첫번째 방법 이용): 엔터 키로 로그인 하기 (Keys.ENTER) = (Keys.RETRUN)\n",
    "ele2.send_keys(Keys.ENTER)"
   ]
  },
  {
   "cell_type": "code",
   "execution_count": 19,
   "id": "f9fdbc96-6257-461e-9df4-24281da9d5e7",
   "metadata": {},
   "outputs": [],
   "source": [
    "### 데이터 가져오기\n",
    "driver.get('http://v-room.kr/classlist/') #(v-room 사이트 내 훈련목록 사이트에 접속하여 데이터 가져오기)"
   ]
  },
  {
   "cell_type": "code",
   "execution_count": 21,
   "id": "ec30ffa1-868c-427f-a93a-79325e71f4de",
   "metadata": {},
   "outputs": [],
   "source": [
    "# -> 왜 이렇게 해야 하는지 물어보기 !!!!!!!!!!!!!!!!!!!!!!!!!!!!!!\n",
    "elem = driver.find_elements(By.CSS_SELECTOR, '.course.register') # .course.register의 칸을 찾아라."
   ]
  },
  {
   "cell_type": "code",
   "execution_count": 22,
   "id": "8ada5cfe-f9e0-429a-ac67-816721603d02",
   "metadata": {},
   "outputs": [
    {
     "data": {
      "text/plain": [
       "[<selenium.webdriver.remote.webelement.WebElement (session=\"fa09df2cba65ee123bef3bc782b1a84b\", element=\"4ce2044a-12b5-48e1-a2b7-a7bf1304bb66\")>,\n",
       " <selenium.webdriver.remote.webelement.WebElement (session=\"fa09df2cba65ee123bef3bc782b1a84b\", element=\"7bfdc6bf-757f-4f84-b0c8-8b62e7534a73\")>,\n",
       " <selenium.webdriver.remote.webelement.WebElement (session=\"fa09df2cba65ee123bef3bc782b1a84b\", element=\"801890b8-2769-4ed0-abee-8b7da4323eb7\")>,\n",
       " <selenium.webdriver.remote.webelement.WebElement (session=\"fa09df2cba65ee123bef3bc782b1a84b\", element=\"2ba7c140-23ed-4c1b-9de6-ea30435f0396\")>,\n",
       " <selenium.webdriver.remote.webelement.WebElement (session=\"fa09df2cba65ee123bef3bc782b1a84b\", element=\"cebf16ba-d6d7-4f70-ac6a-3f4967853b3f\")>,\n",
       " <selenium.webdriver.remote.webelement.WebElement (session=\"fa09df2cba65ee123bef3bc782b1a84b\", element=\"4208ef5b-d667-41d8-8ee8-e62fc268dda2\")>,\n",
       " <selenium.webdriver.remote.webelement.WebElement (session=\"fa09df2cba65ee123bef3bc782b1a84b\", element=\"5ebe927f-22c2-483c-9bd9-059436c2b882\")>]"
      ]
     },
     "execution_count": 22,
     "metadata": {},
     "output_type": "execute_result"
    }
   ],
   "source": [
    "elem"
   ]
  },
  {
   "cell_type": "code",
   "execution_count": 23,
   "id": "cbc1cbc4-9a8c-433c-92ba-7772b7691142",
   "metadata": {},
   "outputs": [
    {
     "data": {
      "text/plain": [
       "list"
      ]
     },
     "execution_count": 23,
     "metadata": {},
     "output_type": "execute_result"
    }
   ],
   "source": [
    "type(elem)"
   ]
  },
  {
   "cell_type": "code",
   "execution_count": 24,
   "id": "2e4d6507-e560-4c0e-a588-4f89321b2348",
   "metadata": {},
   "outputs": [
    {
     "data": {
      "text/plain": [
       "<selenium.webdriver.remote.webelement.WebElement (session=\"fa09df2cba65ee123bef3bc782b1a84b\", element=\"4ce2044a-12b5-48e1-a2b7-a7bf1304bb66\")>"
      ]
     },
     "execution_count": 24,
     "metadata": {},
     "output_type": "execute_result"
    }
   ],
   "source": [
    "elem[0]"
   ]
  },
  {
   "cell_type": "code",
   "execution_count": 27,
   "id": "200066f5-a9a2-4955-98ea-b0d69fce1ad2",
   "metadata": {},
   "outputs": [
    {
     "data": {
      "text/plain": [
       "'[전자정부] 정보보호 개념 이해 및 정립(테스트)'"
      ]
     },
     "execution_count": 27,
     "metadata": {},
     "output_type": "execute_result"
    }
   ],
   "source": [
    "elem[0].text"
   ]
  },
  {
   "cell_type": "code",
   "execution_count": 28,
   "id": "dae142cd-4477-4d3b-8a8e-8b508101a91d",
   "metadata": {},
   "outputs": [
    {
     "name": "stdout",
     "output_type": "stream",
     "text": [
      "[전자정부] 정보보호 개념 이해 및 정립(테스트)\n"
     ]
    }
   ],
   "source": [
    "print(elem[0].text)"
   ]
  },
  {
   "cell_type": "code",
   "execution_count": 29,
   "id": "94c5e39a-a920-4a0d-8e2b-3888c6d09f7c",
   "metadata": {},
   "outputs": [],
   "source": [
    "# 실행한 웹 브라우저 창 닫기\n",
    "driver.close()"
   ]
  },
  {
   "cell_type": "markdown",
   "id": "ab620b13-a701-4d52-b943-c82144452194",
   "metadata": {},
   "source": [
    "----"
   ]
  },
  {
   "cell_type": "code",
   "execution_count": null,
   "id": "96530064-00c9-4984-a1fa-0d5dae91cc07",
   "metadata": {},
   "outputs": [],
   "source": [
    "# 셀프 최종 정리 처음 부분"
   ]
  },
  {
   "cell_type": "code",
   "execution_count": 2,
   "id": "faa66cce-fecc-4d9f-982b-34c11f256983",
   "metadata": {},
   "outputs": [],
   "source": [
    "#라이브러리 가져오기\n",
    "import time\n",
    "import requests\n",
    "\n",
    "from bs4 import BeautifulSoup\n",
    "from selenium import webdriver\n",
    "from selenium.webdriver.common.keys import Keys\n",
    "from selenium.webdriver.common.by import By"
   ]
  },
  {
   "cell_type": "code",
   "execution_count": 9,
   "id": "cc632e21-ae9e-4ea9-b2f7-f2212ff002bd",
   "metadata": {},
   "outputs": [
    {
     "name": "stderr",
     "output_type": "stream",
     "text": [
      "C:\\Users\\user\\AppData\\Local\\Temp\\ipykernel_2808\\1173960455.py:3: DeprecationWarning: executable_path has been deprecated, please pass in a Service object\n",
      "  driver = webdriver.Chrome(DRIVER_DIR)\n"
     ]
    }
   ],
   "source": [
    "# 과거에 사용했던 방식(?)\n",
    "DRIVER_DIR = './chromedriver.exe'\n",
    "driver = webdriver.Chrome(DRIVER_DIR)"
   ]
  },
  {
   "cell_type": "code",
   "execution_count": 10,
   "id": "10ff739c-4c19-4bdd-91fe-de47e55f70d5",
   "metadata": {},
   "outputs": [],
   "source": [
    "# 페이지 이동하기: driver.get(url) / (v-room 홈페이지로 이동)\n",
    "driver.get('http://v-room.kr/')"
   ]
  },
  {
   "cell_type": "code",
   "execution_count": null,
   "id": "4c799114-fb36-40fd-a3d1-9f85afad5d3c",
   "metadata": {},
   "outputs": [],
   "source": [
    "### 페이지와 상호 작용하기\n",
    "- element - driver.find_element(By.ID, 'passwd-id')\n",
    "- element - driver.find_element(By.Name, 'passwd')\n",
    "- element - driver.find-element(By.XPATH, '//input[@id='passwd-id']')\n",
    "- element - driver.find-element(By.CSS_SELECTOR, 'input#passwd-id')"
   ]
  },
  {
   "cell_type": "code",
   "execution_count": 11,
   "id": "3c231e4a-552a-42b0-9987-a406133a900e",
   "metadata": {},
   "outputs": [],
   "source": [
    "# 페이지 이동하기(v-room 로그인 창으로 이동)\n",
    "driver.get('http://v-room.kr/login/')"
   ]
  },
  {
   "cell_type": "code",
   "execution_count": 12,
   "id": "a3cd02eb-32c0-42f8-b17b-25926d45392b",
   "metadata": {},
   "outputs": [],
   "source": [
    "#아이디 창에 'test'라는 값 넣기\n",
    "ele = driver.find_element(By.ID, 'inputID') #v-room 로그인 창의 ID 칸을 찾아라.\n",
    "ele.send_keys('test') #v-room 로그인 창에서 찾은 ID 칸에 ID 입력해라."
   ]
  },
  {
   "cell_type": "code",
   "execution_count": 13,
   "id": "1583c210-5851-4276-91b6-90bf6d4613d7",
   "metadata": {},
   "outputs": [],
   "source": [
    "#비밀번호에 'test'라는 값 넣기\n",
    "ele2 = driver.find_element(By.ID, 'inputPW') #v-room 로그인 창의 패스워드 칸을 찾아라.\n",
    "ele2.send_keys('test') #v-room 로그인 창에서 찾은 패스워드 칸에 패스워드를 입력해라."
   ]
  },
  {
   "cell_type": "code",
   "execution_count": 14,
   "id": "f60473e4-d438-45db-8e58-d53812cb59c3",
   "metadata": {},
   "outputs": [],
   "source": [
    "# 로그인 할 수 있는 방법1): 엔터 키로 로그인 하기 (Keys.ENTER) = (Keys.RETRUN)\n",
    "ele2.send_keys(Keys.ENTER)"
   ]
  },
  {
   "cell_type": "code",
   "execution_count": null,
   "id": "c9f34f75-0489-47a1-94ea-2b511e326e40",
   "metadata": {},
   "outputs": [],
   "source": [
    "# 로그인 할 수 있는 방법2): Login 버튼 클릭해서 로그인하기\n",
    "ele3 = driver.find_element(By.CSS_SELECTOR, '.login-bottom')\n",
    "ele3.click()"
   ]
  },
  {
   "cell_type": "markdown",
   "id": "86c31504-f24e-48e6-b3c6-a64ae664cf3c",
   "metadata": {},
   "source": [
    "## (참고): class는 닷(.)으로 표기, id는 샵(#)으로 표기"
   ]
  },
  {
   "cell_type": "code",
   "execution_count": null,
   "id": "6a01d283-d8ca-49b2-b57b-7a027beec9fc",
   "metadata": {},
   "outputs": [],
   "source": [
    "# 현재 화면 저장\n",
    "driver.save_screenshot('screenshot.png')"
   ]
  },
  {
   "cell_type": "code",
   "execution_count": null,
   "id": "8e8cb94e-510b-4054-9fe0-e68af1af8470",
   "metadata": {},
   "outputs": [],
   "source": [
    "# 페이지 이동: 뒤로가기, 앞으로 가기\n",
    "driver.back() # 페이지 이동: 뒤로가기\n",
    "driver.forward() # 페이지 이동: 앞으로 가기"
   ]
  },
  {
   "cell_type": "code",
   "execution_count": 19,
   "id": "2e90b9ac-8bdf-4f62-a352-26cfa0c64478",
   "metadata": {},
   "outputs": [],
   "source": [
    "### 데이터 가져오기\n",
    "driver.get('http://v-room.kr/classlist/') #(v-room 사이트 내 훈련목록 사이트에 접속하여 데이터 가져오기)"
   ]
  },
  {
   "cell_type": "code",
   "execution_count": 21,
   "id": "a0e4ff86-2ad3-447d-9f13-3d168e03666f",
   "metadata": {},
   "outputs": [],
   "source": [
    "# -> 왜 이렇게 해야 하는지 물어보기 !!!!!!!!!!!!!!!!!!!!!!!!!!!!!!\n",
    "elem = driver.find_elements(By.CSS_SELECTOR, '.course.register') # .course.register의 칸을 찾아라."
   ]
  },
  {
   "cell_type": "code",
   "execution_count": 22,
   "id": "aac766c9-a5f3-46b7-9621-5d89f70aa510",
   "metadata": {},
   "outputs": [
    {
     "data": {
      "text/plain": [
       "[<selenium.webdriver.remote.webelement.WebElement (session=\"fa09df2cba65ee123bef3bc782b1a84b\", element=\"4ce2044a-12b5-48e1-a2b7-a7bf1304bb66\")>,\n",
       " <selenium.webdriver.remote.webelement.WebElement (session=\"fa09df2cba65ee123bef3bc782b1a84b\", element=\"7bfdc6bf-757f-4f84-b0c8-8b62e7534a73\")>,\n",
       " <selenium.webdriver.remote.webelement.WebElement (session=\"fa09df2cba65ee123bef3bc782b1a84b\", element=\"801890b8-2769-4ed0-abee-8b7da4323eb7\")>,\n",
       " <selenium.webdriver.remote.webelement.WebElement (session=\"fa09df2cba65ee123bef3bc782b1a84b\", element=\"2ba7c140-23ed-4c1b-9de6-ea30435f0396\")>,\n",
       " <selenium.webdriver.remote.webelement.WebElement (session=\"fa09df2cba65ee123bef3bc782b1a84b\", element=\"cebf16ba-d6d7-4f70-ac6a-3f4967853b3f\")>,\n",
       " <selenium.webdriver.remote.webelement.WebElement (session=\"fa09df2cba65ee123bef3bc782b1a84b\", element=\"4208ef5b-d667-41d8-8ee8-e62fc268dda2\")>,\n",
       " <selenium.webdriver.remote.webelement.WebElement (session=\"fa09df2cba65ee123bef3bc782b1a84b\", element=\"5ebe927f-22c2-483c-9bd9-059436c2b882\")>]"
      ]
     },
     "execution_count": 22,
     "metadata": {},
     "output_type": "execute_result"
    }
   ],
   "source": [
    "elem"
   ]
  },
  {
   "cell_type": "code",
   "execution_count": 23,
   "id": "474f37ce-a70f-4c02-96f6-b896956686ea",
   "metadata": {},
   "outputs": [
    {
     "data": {
      "text/plain": [
       "list"
      ]
     },
     "execution_count": 23,
     "metadata": {},
     "output_type": "execute_result"
    }
   ],
   "source": [
    "type(elem)"
   ]
  },
  {
   "cell_type": "code",
   "execution_count": 24,
   "id": "b9bb07ec-e698-422a-aeb2-81029754f7dc",
   "metadata": {},
   "outputs": [
    {
     "data": {
      "text/plain": [
       "<selenium.webdriver.remote.webelement.WebElement (session=\"fa09df2cba65ee123bef3bc782b1a84b\", element=\"4ce2044a-12b5-48e1-a2b7-a7bf1304bb66\")>"
      ]
     },
     "execution_count": 24,
     "metadata": {},
     "output_type": "execute_result"
    }
   ],
   "source": [
    "elem[0]"
   ]
  },
  {
   "cell_type": "code",
   "execution_count": 27,
   "id": "590185a5-56e9-4ac0-821d-4a350ce932b6",
   "metadata": {},
   "outputs": [
    {
     "data": {
      "text/plain": [
       "'[전자정부] 정보보호 개념 이해 및 정립(테스트)'"
      ]
     },
     "execution_count": 27,
     "metadata": {},
     "output_type": "execute_result"
    }
   ],
   "source": [
    "elem[0].text"
   ]
  },
  {
   "cell_type": "code",
   "execution_count": 28,
   "id": "cc6cd6e1-1851-4135-9d5a-e3ec92a92b4a",
   "metadata": {},
   "outputs": [
    {
     "name": "stdout",
     "output_type": "stream",
     "text": [
      "[전자정부] 정보보호 개념 이해 및 정립(테스트)\n"
     ]
    }
   ],
   "source": [
    "print(elem[0].text)"
   ]
  },
  {
   "cell_type": "code",
   "execution_count": 29,
   "id": "b3cc00cf-ee06-4556-a637-3905f312743a",
   "metadata": {},
   "outputs": [],
   "source": [
    "# 실행한 웹 브라우저 창 닫기\n",
    "driver.close()"
   ]
  },
  {
   "cell_type": "code",
   "execution_count": null,
   "id": "e0e086f4-f55d-474c-851b-db553d4b7a25",
   "metadata": {},
   "outputs": [],
   "source": [
    "# 셀프 최종 정리 마지막 부분"
   ]
  }
 ],
 "metadata": {
  "kernelspec": {
   "display_name": "Python 3.9.13 ('base')",
   "language": "python",
   "name": "python3"
  },
  "language_info": {
   "codemirror_mode": {
    "name": "ipython",
    "version": 3
   },
   "file_extension": ".py",
   "mimetype": "text/x-python",
   "name": "python",
   "nbconvert_exporter": "python",
   "pygments_lexer": "ipython3",
   "version": "3.9.13"
  },
  "vscode": {
   "interpreter": {
    "hash": "701d4f28dcd0866722f5108a3a4cbcd08882d26398b6d44117e791d7b8102912"
   }
  }
 },
 "nbformat": 4,
 "nbformat_minor": 5
}
