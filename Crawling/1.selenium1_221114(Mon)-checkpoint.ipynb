{
 "cells": [
  {
   "cell_type": "markdown",
   "id": "92bce309-d18d-4aa4-b0c0-119fbb99ad41",
   "metadata": {},
   "source": [
    "#  셀레니움을 활용한 동적페이지 크롤링"
   ]
  },
  {
   "cell_type": "markdown",
   "id": "69e24893-be9c-4f00-9fe5-20612ef8c85a",
   "metadata": {},
   "source": [
    "## 라이브러리 가져오기"
   ]
  },
  {
   "cell_type": "code",
   "execution_count": null,
   "id": "93fadc6f-1a69-4beb-a305-72537d6b3307",
   "metadata": {},
   "outputs": [],
   "source": [
    "!pip install selenium"
   ]
  },
  {
   "cell_type": "code",
   "execution_count": 1,
   "id": "417694a7-d8a0-43ed-8d90-3b3718289950",
   "metadata": {},
   "outputs": [],
   "source": [
    "import time"
   ]
  },
  {
   "cell_type": "code",
   "execution_count": 2,
   "id": "543795a6-07da-44e1-b270-2040d614907a",
   "metadata": {},
   "outputs": [],
   "source": [
    "import requests"
   ]
  },
  {
   "cell_type": "code",
   "execution_count": 3,
   "id": "35c0f12e-9499-4415-a3b6-d888cb6e4376",
   "metadata": {},
   "outputs": [],
   "source": [
    "from bs4 import BeautifulSoup"
   ]
  },
  {
   "cell_type": "code",
   "execution_count": 4,
   "id": "08846636-31a7-421f-bc3b-dc793a672894",
   "metadata": {},
   "outputs": [],
   "source": [
    "from selenium import webdriver"
   ]
  },
  {
   "cell_type": "code",
   "execution_count": 5,
   "id": "078b74a4-1d98-416d-8389-84c60ff2a7bb",
   "metadata": {},
   "outputs": [],
   "source": [
    "from selenium.webdriver.common.keys import Keys"
   ]
  },
  {
   "cell_type": "code",
   "execution_count": 6,
   "id": "6a014293-2884-470c-82d4-8a2939920598",
   "metadata": {},
   "outputs": [],
   "source": [
    "from selenium.webdriver.common.by import By"
   ]
  },
  {
   "cell_type": "code",
   "execution_count": 7,
   "id": "15645f33-d239-4639-befc-149226371e27",
   "metadata": {},
   "outputs": [
    {
     "name": "stderr",
     "output_type": "stream",
     "text": [
      "C:\\Users\\user\\AppData\\Local\\Temp\\ipykernel_11916\\2094539522.py:2: DeprecationWarning: executable_path has been deprecated, please pass in a Service object\n",
      "  driver = webdriver.Chrome(DRIVER_DIR) #driver 객체\n"
     ]
    }
   ],
   "source": [
    "DRIVER_DIR = './chromedriver.exe'\n",
    "driver = webdriver.Chrome(DRIVER_DIR) #driver 객체"
   ]
  },
  {
   "cell_type": "markdown",
   "id": "e9fb6d9d-24e1-41c9-bc40-52f72e8dba43",
   "metadata": {},
   "source": [
    "# 페이지 이동하기"
   ]
  },
  {
   "cell_type": "markdown",
   "id": "5f217161-9b34-4f96-a4f8-2f5d829aaf00",
   "metadata": {},
   "source": [
    "## driver.get(url)"
   ]
  },
  {
   "cell_type": "code",
   "execution_count": null,
   "id": "b6d58ed2-f0cd-417e-9b9e-6ca75423a056",
   "metadata": {
    "tags": []
   },
   "outputs": [],
   "source": [
    "driver.get('http://v-room.kr')"
   ]
  },
  {
   "cell_type": "markdown",
   "id": "da2be536-379f-49e9-99f1-a5cd89c8849d",
   "metadata": {
    "tags": []
   },
   "source": [
    "### 페이지와 상호작용하기\n",
    "- element - driver.find_element(By.ID, 'passwd-id')\n",
    "- element - driver.find_element(By.Name, 'passwd')\n",
    "- element - driver.find_element(By.XPATH, '//input[@id='passwd-id']')\n",
    "- element - driver.find_element(By.CSS_SELECTOR, 'input#passwd-id')"
   ]
  },
  {
   "cell_type": "code",
   "execution_count": 8,
   "id": "c92d0b08-4552-4758-b3a8-eb51b4f0ee0c",
   "metadata": {},
   "outputs": [],
   "source": [
    "driver.get('http://v-room.kr/login')"
   ]
  },
  {
   "cell_type": "code",
   "execution_count": 9,
   "id": "a0b3c9f9-e73f-4a38-abfc-4ce091dc4051",
   "metadata": {},
   "outputs": [],
   "source": [
    "ele = driver.find_element(By.ID, 'inputID')"
   ]
  },
  {
   "cell_type": "code",
   "execution_count": null,
   "id": "6452ee66-8f05-4f2e-9661-33026c9221b4",
   "metadata": {},
   "outputs": [],
   "source": [
    "ele"
   ]
  },
  {
   "cell_type": "code",
   "execution_count": 10,
   "id": "e613ab49-eba3-4812-8f51-7cf95b426093",
   "metadata": {},
   "outputs": [],
   "source": [
    "ele.send_keys('test')"
   ]
  },
  {
   "cell_type": "code",
   "execution_count": null,
   "id": "cf362045-0595-4a9d-813b-1d46fd0a0db9",
   "metadata": {},
   "outputs": [],
   "source": [
    "# 비밀번호에 'test'라는 값 넣기"
   ]
  },
  {
   "cell_type": "code",
   "execution_count": 11,
   "id": "1117401d-5a0b-4e3e-8a73-6d119bcd8385",
   "metadata": {},
   "outputs": [],
   "source": [
    "ele2 = driver.find_element(By.ID, 'inputPW')\n",
    "ele2.send_keys('test')"
   ]
  },
  {
   "cell_type": "code",
   "execution_count": null,
   "id": "069e26dc-679b-4f01-8ae5-6f1975c01ea9",
   "metadata": {},
   "outputs": [],
   "source": [
    "# 엔터 키로 로그인 하기\n",
    "ele2.send_keys(Keys.RETRUN) #지금 상황에서는 ('Keys.ENTER')랑 같이 사용 가능 \n",
    "# ele2.send_keys(Keys.ENTER)"
   ]
  },
  {
   "cell_type": "code",
   "execution_count": 12,
   "id": "ebe6c15c-43a4-44f2-9079-04da09ce0afc",
   "metadata": {},
   "outputs": [],
   "source": [
    "# Login 버튼 클릭해서 로그인하기\n",
    "ele3 = driver.find_element(By.CSS_SELECTOR, '.login-bottom')\n",
    "ele3.click()\n",
    "# ('#container_login > div > form > div > div') 이걸로 뭐했는지 물어보기"
   ]
  },
  {
   "cell_type": "markdown",
   "id": "cae1d7fa-7353-437b-9093-bd24886d08bd",
   "metadata": {},
   "source": [
    "class는 점(.)으로 표기, id는 샵(#)으로 표기"
   ]
  },
  {
   "cell_type": "code",
   "execution_count": null,
   "id": "8ec1fd63-7d97-4e61-a08a-bba2d088fa96",
   "metadata": {},
   "outputs": [],
   "source": [
    "#현재 화면 저장\n",
    "driver.save_screenshot('screenshot.png')"
   ]
  },
  {
   "cell_type": "code",
   "execution_count": null,
   "id": "72c8dfa7-239c-4b08-a42d-f9357ee86070",
   "metadata": {},
   "outputs": [],
   "source": [
    "# 페이지 이동: 뒤로가기, 앞으로 가기"
   ]
  },
  {
   "cell_type": "code",
   "execution_count": null,
   "id": "034aa285-38e7-4da3-9c63-b28f71d5720a",
   "metadata": {},
   "outputs": [],
   "source": [
    "driver.back()\n",
    "driver.forward()"
   ]
  },
  {
   "cell_type": "markdown",
   "id": "206503b6-5a25-4c9e-b5d1-d43bb355f47f",
   "metadata": {},
   "source": [
    "### 데이터 가져오기"
   ]
  },
  {
   "cell_type": "code",
   "execution_count": 13,
   "id": "b281143b-55d9-4465-bcfd-5a9719b39a37",
   "metadata": {},
   "outputs": [],
   "source": [
    "driver.get('https://v-room.kr/classlist')"
   ]
  },
  {
   "cell_type": "code",
   "execution_count": null,
   "id": "53e13809-69c3-4c99-93c8-a7d680262dfe",
   "metadata": {},
   "outputs": [],
   "source": [
    "#container_course > ul > li.course.register.active"
   ]
  },
  {
   "cell_type": "code",
   "execution_count": 19,
   "id": "3bc9c3be-ca72-49ca-8175-daaa1b6dbce6",
   "metadata": {},
   "outputs": [
    {
     "data": {
      "text/plain": [
       "[<selenium.webdriver.remote.webelement.WebElement (session=\"e02629b2ee02ad58ceba1e7ee519b1f1\", element=\"c4ea75df-3a35-4d6e-b417-6591bf095717\")>,\n",
       " <selenium.webdriver.remote.webelement.WebElement (session=\"e02629b2ee02ad58ceba1e7ee519b1f1\", element=\"3ccc9df8-8a95-4165-b8e0-7ab6065e8a70\")>,\n",
       " <selenium.webdriver.remote.webelement.WebElement (session=\"e02629b2ee02ad58ceba1e7ee519b1f1\", element=\"617bfded-48b7-4cf6-a10c-2b6356c4f51c\")>,\n",
       " <selenium.webdriver.remote.webelement.WebElement (session=\"e02629b2ee02ad58ceba1e7ee519b1f1\", element=\"f4ed6b03-e876-477e-a25c-7d1bb118b927\")>,\n",
       " <selenium.webdriver.remote.webelement.WebElement (session=\"e02629b2ee02ad58ceba1e7ee519b1f1\", element=\"7b55a016-556e-4b40-ba2e-3239d967d184\")>,\n",
       " <selenium.webdriver.remote.webelement.WebElement (session=\"e02629b2ee02ad58ceba1e7ee519b1f1\", element=\"d599fbb7-41c7-4795-9e95-7a6d61a47a6a\")>,\n",
       " <selenium.webdriver.remote.webelement.WebElement (session=\"e02629b2ee02ad58ceba1e7ee519b1f1\", element=\"4e27d8e3-7052-4691-9340-cedd586b6756\")>]"
      ]
     },
     "execution_count": 19,
     "metadata": {},
     "output_type": "execute_result"
    }
   ],
   "source": [
    "#container_course > ul > li:nth-child(1)\n",
    "elem = driver.find_elements(By.CSS_SELECTOR, '.course.register') #element에 s를 붙여주면 관련 요소를 모두 가져올 수 있음\n",
    "elem"
   ]
  },
  {
   "cell_type": "code",
   "execution_count": 20,
   "id": "27faab7b-b9af-4fe0-9615-60c0d5273fff",
   "metadata": {},
   "outputs": [
    {
     "name": "stdout",
     "output_type": "stream",
     "text": [
      "[전자정부] 정보보호 개념 이해 및 정립(테스트)\n",
      "[전자정부] 네트워크 보안실무 과정\n",
      "[대검] 사이버수사 전문가 양성교육\n",
      "[전자정부] 웹 해킹 보안 및 취약점 분석(test)\n",
      "[전자정부] 웹 해킹 보안 및 취약점 분석\n",
      "[전자정부] test\n",
      "[VROOM] 체험하기\n"
     ]
    }
   ],
   "source": [
    "for i in elem:\n",
    "    print(i.text)"
   ]
  },
  {
   "cell_type": "code",
   "execution_count": 22,
   "id": "f1b41f55-8e27-4888-bf5a-afd0d5d78453",
   "metadata": {},
   "outputs": [],
   "source": [
    "driver.close() # 웹 브라우저 창 끄기"
   ]
  },
  {
   "cell_type": "code",
   "execution_count": null,
   "id": "29bbedec-9c8a-4fdb-9b08-b70a16519f1b",
   "metadata": {},
   "outputs": [],
   "source": [
    "!pip"
   ]
  },
  {
   "cell_type": "code",
   "execution_count": null,
   "id": "671b5bf1-6603-4c4f-a004-0ac1c5e080b6",
   "metadata": {},
   "outputs": [],
   "source": [
    "from dotenv import load_dotenv"
   ]
  }
 ],
 "metadata": {
  "kernelspec": {
   "display_name": "Python 3 (ipykernel)",
   "language": "python",
   "name": "python3"
  },
  "language_info": {
   "codemirror_mode": {
    "name": "ipython",
    "version": 3
   },
   "file_extension": ".py",
   "mimetype": "text/x-python",
   "name": "python",
   "nbconvert_exporter": "python",
   "pygments_lexer": "ipython3",
   "version": "3.9.12"
  }
 },
 "nbformat": 4,
 "nbformat_minor": 5
}
