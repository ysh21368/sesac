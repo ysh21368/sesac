{
 "cells": [
  {
   "cell_type": "code",
   "execution_count": 1,
   "id": "526a35e4-76b1-48f3-b46e-c7ae3bd9c1fb",
   "metadata": {},
   "outputs": [],
   "source": [
    "import time\n",
    "import requests\n",
    "import os\n",
    "\n",
    "from bs4 import BeautifulSoup\n",
    "from selenium import webdriver\n",
    "from selenium.webdriver.common.keys import Keys\n",
    "from selenium.webdriver.common.by import By\n",
    "from dotenv import load_dotenv"
   ]
  },
  {
   "cell_type": "code",
   "execution_count": 2,
   "id": "14c3018a-3542-4e61-bf51-2a55bfabedc7",
   "metadata": {},
   "outputs": [
    {
     "data": {
      "text/plain": [
       "True"
      ]
     },
     "execution_count": 2,
     "metadata": {},
     "output_type": "execute_result"
    }
   ],
   "source": [
    "load_dotenv() # 이걸 해줘야 cgv 사이트 내 아이디 입력창과 비밀번호 입력창에 각각 입력할 수 있음 "
   ]
  },
  {
   "cell_type": "code",
   "execution_count": 3,
   "id": "ca9c38e2-ecaf-4cab-83e7-4298a847995e",
   "metadata": {},
   "outputs": [
    {
     "name": "stderr",
     "output_type": "stream",
     "text": [
      "C:\\Users\\user\\AppData\\Local\\Temp\\ipykernel_12076\\656777330.py:2: DeprecationWarning: executable_path has been deprecated, please pass in a Service object\n",
      "  driver = webdriver.Chrome(DRIVER_DIR) #옛날 드라이버 버젼\n"
     ]
    }
   ],
   "source": [
    "DRIVER_DIR = './chromedriver.exe'\n",
    "driver = webdriver.Chrome(DRIVER_DIR) #옛날 드라이버 버젼"
   ]
  },
  {
   "cell_type": "code",
   "execution_count": 4,
   "id": "987dcb94-1aa7-4620-9676-ef87768ed771",
   "metadata": {
    "tags": []
   },
   "outputs": [],
   "source": [
    "driver.get('https://www.cgv.co.kr/') #cgv 사이트로 이동"
   ]
  },
  {
   "cell_type": "code",
   "execution_count": 5,
   "id": "6ce1e9f4-d8a4-42b2-9aa3-9a45cc5a015b",
   "metadata": {},
   "outputs": [],
   "source": [
    "driver.get('https://www.cgv.co.kr/user/login/?returnURL=https%3a%2f%2fwww.cgv.co.kr%2fdefault.aspx') #괄호 안에 해당하는 url로 이동"
   ]
  },
  {
   "cell_type": "code",
   "execution_count": 6,
   "id": "209d711b-8f79-4cb0-91c0-9c6123a8d38b",
   "metadata": {},
   "outputs": [],
   "source": [
    "# 아이디 창에 아이디 붙여넣기\n",
    "ele = driver.find_element(By.ID, 'txtUserId') # cgv 사이트에 있는 로그인 아이디 입력 창을 찾으시오.\n",
    "ele.send_keys(os.getenv('id')) # cgv 사이트에서 찾은 아이디 입력 창에 아이디를 입력하시오."
   ]
  },
  {
   "cell_type": "code",
   "execution_count": 7,
   "id": "553025d9-5c80-4775-ba02-77d779cc5c99",
   "metadata": {},
   "outputs": [],
   "source": [
    "# 비밀번호 창에 비밀번호 붙여넣기\n",
    "ele2 = driver.find_element(By.ID, 'txtPassword') # cgv 사이트에 있는 비밀번호 입력 창을 찾으시오.\n",
    "ele2.send_keys(os.getenv('pw')) # cgv 사이트에서 찾은 비밀번호 입력 창에 비밀번호를 입력하시오."
   ]
  },
  {
   "cell_type": "code",
   "execution_count": 8,
   "id": "3e773b2d-0a69-4c46-85fd-f21d86ef908f",
   "metadata": {},
   "outputs": [],
   "source": [
    "# 로그인 창 누르는 방법 2): Login 버튼 클릭해서 로그인하기\n",
    "ele3 = driver.find_element(By.CSS_SELECTOR, '#submit > span')\n",
    "ele3.click()"
   ]
  },
  {
   "cell_type": "code",
   "execution_count": 9,
   "id": "a56b7362-8f25-4f1d-897a-fc981592d4f5",
   "metadata": {},
   "outputs": [],
   "source": [
    "driver.close() # 웹 브라우저 창 끄기"
   ]
  },
  {
   "cell_type": "markdown",
   "id": "72f66eca-2499-4672-afab-5a55d07c0ed3",
   "metadata": {},
   "source": [
    "---"
   ]
  },
  {
   "cell_type": "code",
   "execution_count": null,
   "id": "32f5a938-84d5-4f79-adc9-ae2b8d750970",
   "metadata": {},
   "outputs": [],
   "source": [
    "# 셀프 최종 정리 처음 부분"
   ]
  },
  {
   "cell_type": "markdown",
   "id": "d52574e2-21d6-4198-a917-bf1df40e0be1",
   "metadata": {
    "tags": []
   },
   "source": [
    "# CGV 사이트 로그인 하기"
   ]
  },
  {
   "cell_type": "code",
   "execution_count": null,
   "id": "272daf23-98ae-45f6-a7d6-fb5b8ab2d935",
   "metadata": {},
   "outputs": [],
   "source": [
    "import os\n",
    "from dotenv import load_dotenv"
   ]
  },
  {
   "cell_type": "code",
   "execution_count": null,
   "id": "18a016a3-7bb8-4df5-8e8a-5104e7173013",
   "metadata": {},
   "outputs": [],
   "source": [
    "load_dotenv"
   ]
  },
  {
   "cell_type": "code",
   "execution_count": null,
   "id": "3781c153-fd1e-4b6c-a00c-1f8d8aa32b8f",
   "metadata": {},
   "outputs": [],
   "source": [
    "load_dotenv() # 이걸 해줘야 cgv 사이트 내 아이디 입력창과 비밀번호 입력창에 각각 입력할 수 있음 "
   ]
  },
  {
   "cell_type": "code",
   "execution_count": null,
   "id": "fe613f05-bd98-4370-99e2-4c66821c47ea",
   "metadata": {},
   "outputs": [],
   "source": [
    "load_dotenv() \n",
    "print(os.getenv('id')) #env 파일에 적혀 있는 ID를 os.getenv('id')에 넣어 출력하시오."
   ]
  },
  {
   "cell_type": "code",
   "execution_count": null,
   "id": "0317fd0b-ef30-47c4-b718-99ff2deb1da7",
   "metadata": {},
   "outputs": [],
   "source": [
    "import time\n",
    "import requests\n",
    "\n",
    "from bs4 import BeautifulSoup\n",
    "from selenium import webdriver\n",
    "from selenium.webdriver.common.keys import Keys\n",
    "from selenium.webdriver.common.by import By"
   ]
  },
  {
   "cell_type": "code",
   "execution_count": null,
   "id": "20c09033-22f2-481b-909b-ae20b28ef0ad",
   "metadata": {},
   "outputs": [],
   "source": [
    "DRIVER_DIR = './chromedriver.exe'\n",
    "driver = webdriver.Chrome(DRIVER_DIR) #옛날 드라이버 버젼"
   ]
  },
  {
   "cell_type": "code",
   "execution_count": null,
   "id": "8caff3bd-9a2f-4810-8937-e59c1af090eb",
   "metadata": {
    "tags": []
   },
   "outputs": [],
   "source": [
    "driver.get('https://www.cgv.co.kr/') #cgv 사이트로 이동"
   ]
  },
  {
   "cell_type": "code",
   "execution_count": null,
   "id": "b7594efa-5361-42b2-a34a-78be24afc02d",
   "metadata": {},
   "outputs": [],
   "source": [
    "driver.get('https://www.cgv.co.kr/user/login/?returnURL=https%3a%2f%2fwww.cgv.co.kr%2fdefault.aspx') #괄호 안에 해당하는 url로 이동"
   ]
  },
  {
   "cell_type": "code",
   "execution_count": null,
   "id": "8e6940f0-b576-47c5-9bc6-779b04502de9",
   "metadata": {},
   "outputs": [],
   "source": [
    "# 아이디 창에 아이디 붙여넣기\n",
    "ele = driver.find_element(By.ID, 'txtUserId') # cgv 사이트에 있는 로그인 아이디 입력 창을 찾으시오.\n",
    "ele.send_keys(os.getenv('id')) # cgv 사이트에서 찾은 아이디 입력 창에 아이디를 입력하시오."
   ]
  },
  {
   "cell_type": "code",
   "execution_count": null,
   "id": "03096818-d00e-4bcb-a0d9-84621092aaf7",
   "metadata": {},
   "outputs": [],
   "source": [
    "# 비밀번호 창에 비밀번호 붙여넣기\n",
    "ele2 = driver.find_element(By.ID, 'txtPassword') # cgv 사이트에 있는 비밀번호 입력 창을 찾으시오.\n",
    "ele2.send_keys(os.getenv('pw')) # cgv 사이트에서 찾은 비밀번호 입력 창에 비밀번호를 입력하시오."
   ]
  },
  {
   "cell_type": "code",
   "execution_count": null,
   "id": "775f9c4f-ebaa-41fa-81ae-d3a90d7bb104",
   "metadata": {},
   "outputs": [],
   "source": [
    "# 로그인 창 누르는 방법 1): 엔터 키로 로그인 하기\n",
    "ele2.send_keys(Keys.ENTER)"
   ]
  },
  {
   "cell_type": "code",
   "execution_count": null,
   "id": "473f5de9-9326-48cb-91e4-2b99f9fd35f1",
   "metadata": {},
   "outputs": [],
   "source": [
    "# 로그인 창 누르는 방법 2): Login 버튼 클릭해서 로그인하기\n",
    "ele3 = driver.find_element(By.CSS_SELECTOR, '#submit > span')\n",
    "ele3.click()"
   ]
  },
  {
   "cell_type": "code",
   "execution_count": null,
   "id": "94c5e639-5644-4350-9f20-d32376c7e984",
   "metadata": {},
   "outputs": [],
   "source": [
    "driver.close() # 웹 브라우저 창 끄기"
   ]
  },
  {
   "cell_type": "code",
   "execution_count": null,
   "id": "2417dcde-e245-41cb-9bb4-096e1c740c25",
   "metadata": {},
   "outputs": [],
   "source": [
    "# 셀프 최종 정리 마지막 부분"
   ]
  },
  {
   "cell_type": "markdown",
   "id": "fa654aaf-d7ba-44c2-a005-f9787259cdf9",
   "metadata": {},
   "source": [
    "---"
   ]
  },
  {
   "cell_type": "code",
   "execution_count": null,
   "id": "00ec91a6-3620-4578-be6e-3f1308f8df82",
   "metadata": {},
   "outputs": [],
   "source": [
    "# 강사님 버전: CGV 사이트 로그인 하기\n",
    "import os\n",
    "from dotenv import load_dotenv\n",
    "\n",
    "from selenium import webdriver\n",
    "from selenium.webdriver.common.by import By\n",
    "from selenium.webdriver.common.keys import Keys\n",
    "from selenium.webdriver.chrome.service import Service\n",
    "from webdriver_manager.chrome import ChromeDriverManager\n",
    "\n",
    "load_dotenv()\n",
    "driver = webdriver.Chrome(service=Service(ChromeDriverManager().install())) # 최신 드라이버 버젼\n",
    "driver.get('https://www.cgv.co.kr/user/login/')\n",
    "driver.find_element(By.CSS_SELECTOR,'#txtUserId').send_keys(os.getenv('id'))\n",
    "driver.find_element(By.CSS_SELECTOR,'#txtPassword').send_keys(os.getenv('pw'))\n",
    "driver.find_element(By.CSS_SELECTOR,'#txtPassword').send_keys(Keys.ENTER)"
   ]
  }
 ],
 "metadata": {
  "kernelspec": {
   "display_name": "Python 3 (ipykernel)",
   "language": "python",
   "name": "python3"
  },
  "language_info": {
   "codemirror_mode": {
    "name": "ipython",
    "version": 3
   },
   "file_extension": ".py",
   "mimetype": "text/x-python",
   "name": "python",
   "nbconvert_exporter": "python",
   "pygments_lexer": "ipython3",
   "version": "3.9.12"
  }
 },
 "nbformat": 4,
 "nbformat_minor": 5
}
