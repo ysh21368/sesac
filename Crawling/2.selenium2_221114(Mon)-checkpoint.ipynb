{
 "cells": [
  {
   "cell_type": "markdown",
   "id": "be39b0c4-8def-4c08-8184-f2ddf3b564fe",
   "metadata": {
    "tags": []
   },
   "source": [
    "# CGV 사이트 로그인하기"
   ]
  },
  {
   "cell_type": "code",
   "execution_count": null,
   "id": "a0e8f37a-506d-4ec3-a1e4-b0f9c6b23bb6",
   "metadata": {
    "tags": []
   },
   "outputs": [],
   "source": [
    "conda install -c conda-forge python-dotenv"
   ]
  },
  {
   "cell_type": "code",
   "execution_count": 1,
   "id": "86067551-7488-4750-b594-214135786dad",
   "metadata": {},
   "outputs": [],
   "source": [
    "import os\n",
    "from dotenv import load_dotenv"
   ]
  },
  {
   "cell_type": "code",
   "execution_count": 2,
   "id": "90809e5c-37f6-48e0-b01b-75bef1f1cf0d",
   "metadata": {},
   "outputs": [
    {
     "name": "stdout",
     "output_type": "stream",
     "text": [
      "stgdonga\n"
     ]
    }
   ],
   "source": [
    "load_dotenv()\n",
    "print(os.getenv('id'))"
   ]
  },
  {
   "cell_type": "code",
   "execution_count": 3,
   "id": "37db775b-96fb-42d9-8a23-ee11d9a96c49",
   "metadata": {},
   "outputs": [],
   "source": [
    "#옛날 버젼\n",
    "import time\n",
    "import requests\n",
    "\n",
    "from bs4 import BeautifulSoup\n",
    "from selenium import webdriver\n",
    "from selenium.webdriver.common.keys import Keys\n",
    "from selenium.webdriver.common.by import By"
   ]
  },
  {
   "cell_type": "code",
   "execution_count": 4,
   "id": "abbfa1ea-6419-4a17-a2a2-7a4bac9e91b8",
   "metadata": {},
   "outputs": [
    {
     "name": "stderr",
     "output_type": "stream",
     "text": [
      "C:\\Users\\user\\AppData\\Local\\Temp\\ipykernel_14652\\2094539522.py:2: DeprecationWarning: executable_path has been deprecated, please pass in a Service object\n",
      "  driver = webdriver.Chrome(DRIVER_DIR) #driver 객체\n"
     ]
    }
   ],
   "source": [
    "DRIVER_DIR = './chromedriver.exe'\n",
    "driver = webdriver.Chrome(DRIVER_DIR) #옛날 드라이버 버젼"
   ]
  },
  {
   "cell_type": "code",
   "execution_count": 5,
   "id": "43074466-d251-4f36-b23c-7d7d73e3701c",
   "metadata": {
    "tags": []
   },
   "outputs": [],
   "source": [
    "driver.get('https://www.cgv.co.kr/')"
   ]
  },
  {
   "cell_type": "code",
   "execution_count": 6,
   "id": "00a84cab-271a-4104-bd32-8183ac756ba3",
   "metadata": {},
   "outputs": [],
   "source": [
    "driver.get('https://www.cgv.co.kr/user/login/?returnURL=https%3a%2f%2fwww.cgv.co.kr%2fdefault.aspx')"
   ]
  },
  {
   "cell_type": "code",
   "execution_count": 13,
   "id": "5aa6f127-a2af-4c6c-924e-7313cf1c5b99",
   "metadata": {},
   "outputs": [],
   "source": [
    "# 아이디 창에 아이디 붙여넣기\n",
    "ele = driver.find_element(By.ID, 'txtUserId')\n",
    "ele.send_keys(os.getenv('id'))"
   ]
  },
  {
   "cell_type": "code",
   "execution_count": 14,
   "id": "8c083afa-a2ec-4f65-a7bf-eb862c54410a",
   "metadata": {},
   "outputs": [],
   "source": [
    "# 비밀번호 창에 비밀번호 붙여넣기\n",
    "ele2 = driver.find_element(By.ID, 'txtPassword')\n",
    "ele2.send_keys(os.getenv('pw'))"
   ]
  },
  {
   "cell_type": "code",
   "execution_count": 15,
   "id": "976843c0-997a-44dd-8d17-5dabd9f01234",
   "metadata": {},
   "outputs": [],
   "source": [
    "# 엔터 키로 로그인 하기\n",
    "ele2.send_keys(Keys.ENTER)"
   ]
  },
  {
   "cell_type": "code",
   "execution_count": 12,
   "id": "347262ee-a00e-475d-b43f-114a693c75bb",
   "metadata": {},
   "outputs": [],
   "source": [
    "# Login 버튼 클릭해서 로그인하기\n",
    "ele3 = driver.find_element(By.CSS_SELECTOR, '#submit > span')\n",
    "ele3.click()"
   ]
  },
  {
   "cell_type": "code",
   "execution_count": 16,
   "id": "99fae646-38ae-41bf-8ef8-a858da44089b",
   "metadata": {},
   "outputs": [],
   "source": [
    "driver.close() # 웹 브라우저 창 끄기"
   ]
  },
  {
   "cell_type": "markdown",
   "id": "1e55c3d1-03bc-4c58-9115-0da4403d1d39",
   "metadata": {},
   "source": [
    "----"
   ]
  },
  {
   "cell_type": "code",
   "execution_count": null,
   "id": "dfe78c66-5206-41cf-ad63-ef94acefbe1a",
   "metadata": {},
   "outputs": [],
   "source": [
    "#최신 버젼\n",
    "import os\n",
    "from dotenv import load_dotenv\n",
    "\n",
    "from selenium import webdriver\n",
    "from selenium.webdriver.common.by import By\n",
    "from selenium.webdriver.common.keys import Keys\n",
    "from selenium.webdriver.chrome.service import Service\n",
    "from webdriver_manager.chrome import ChromeDriverManager\n",
    "\n",
    "load_dotenv()\n",
    "driver = webdriver.Chrome(service=Service(ChromeDriverManager().install())) # 최신 드라이버 버젼\n",
    "driver.get('https://www.cgv.co.kr/user/login/')\n",
    "driver.find_element(By.CSS_SELECTOR,'#txtUserId').send_keys(os.getenv('id'))\n",
    "driver.find_element(By.CSS_SELECTOR,'#txtPassword').send_keys(os.getenv('pw'))\n",
    "driver.find_element(By.CSS_SELECTOR,'#txtPassword').send_keys(Keys.ENTER)"
   ]
  }
 ],
 "metadata": {
  "kernelspec": {
   "display_name": "Python 3 (ipykernel)",
   "language": "python",
   "name": "python3"
  },
  "language_info": {
   "codemirror_mode": {
    "name": "ipython",
    "version": 3
   },
   "file_extension": ".py",
   "mimetype": "text/x-python",
   "name": "python",
   "nbconvert_exporter": "python",
   "pygments_lexer": "ipython3",
   "version": "3.9.12"
  }
 },
 "nbformat": 4,
 "nbformat_minor": 5
}
