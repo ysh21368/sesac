{
 "cells": [
  {
   "cell_type": "code",
   "execution_count": null,
   "id": "de543dc5-144f-4f87-aee1-6458c38583ca",
   "metadata": {},
   "outputs": [],
   "source": [
    "## 1. 라이브러리 불러오기\n",
    "from selenium import webdriver # selenium으로부터 webdriver를 불러와라.\n",
    "from selenium.webdriver.common.by import By #selenium에 있는 webdriver.common.by로부터 By를 불러와라.\n",
    "from selenium.webdriver.common.keys import Keys #selenium에 있는 webdriver.common.keys로부터 Keys를 불러와라.\n",
    "from selenium.webdriver.chrome.service import Service #selenium에 있는 webdriver.chrome.service로부터 Service를 불러와라.\n",
    "\n",
    "from webdriver_manager.chrome import ChromeDriverManager #webdriver_manager에 있는 chrome로부터 ChromeDriveManger를 불러와라."
   ]
  },
  {
   "cell_type": "code",
   "execution_count": null,
   "id": "64bd882c-dc95-432b-ab0c-e698096c7493",
   "metadata": {},
   "outputs": [],
   "source": [
    "## 2. 페이지 이동\n",
    "driver = webdriver.Chrome(service = Service(ChromeDriverManager().install())) # 최신 버전의 드라이버\n",
    "driver.get('https://search.naver.com/search.naver?sm=tab_hty.top&where=image&query') # 네이버 사이트 이미지 검색창으로 이동하시오."
   ]
  },
  {
   "cell_type": "code",
   "execution_count": null,
   "id": "9b26dcde-e3d4-4e11-9ddc-dd423f84948a",
   "metadata": {},
   "outputs": [],
   "source": [
    "## 3. 이미지 검색\n",
    "search_box = driver.find_element(By.CSS_SELECTOR, '#nx_query') # 네이버의 이미지 검색창 사이트에서 ''에 있는 것을 찾으시오.\n",
    "search_box.send_keys('고양이') # 네이버 검색창에 고양이 라는 글자가 입력된다.\n",
    "search_box.send_keys(Keys.ENTER) # 네이버 검색창에 고양이라는 글자가 입력되어 있는 상태에서 엔터 키를 눌러주시오."
   ]
  },
  {
   "cell_type": "code",
   "execution_count": null,
   "id": "622db850-9fbe-4f1d-a0f6-39f9a0f77459",
   "metadata": {},
   "outputs": [],
   "source": [
    "## 4. 페이지 스크롤\n",
    "elem = driver.find_element(By.CSS_SELECTOR, 'body') #네이버의 이미지 검색창 사이트에서 'body'에 해당하는 것을 찾으시오."
   ]
  },
  {
   "cell_type": "code",
   "execution_count": null,
   "id": "4d1c18ae-87dd-42d6-a779-9faf1d6d1c6e",
   "metadata": {},
   "outputs": [],
   "source": [
    "import time"
   ]
  },
  {
   "cell_type": "code",
   "execution_count": null,
   "id": "dd458c87-6f04-42d0-bfee-d311cf717a89",
   "metadata": {
    "tags": []
   },
   "outputs": [],
   "source": [
    "while True :\n",
    "    first_height = driver.execute_script('return document.body.scrollHeight')\n",
    "    for i in range(20) :\n",
    "        elem.send_keys(Keys.PAGE_DOWN)\n",
    "        time.sleep(0.1)\n",
    "    second_height = driver.execute_script('return document.body.scrollHeight')\n",
    "    print(first_height, second_height)\n",
    "    if first_height == second_height :\n",
    "        break"
   ]
  },
  {
   "cell_type": "code",
   "execution_count": null,
   "id": "5f02cf58-87f8-4171-94c5-21ff4f30b13b",
   "metadata": {},
   "outputs": [],
   "source": [
    "## 5. 이미지 링크 추출\n",
    "images = driver.find_elements(By.CSS_SELECTOR, '.thumb img') # 네이버의 이미지 검색창 사이트에서 '.thumb img'에 있는 것을 찾으시오.\n",
    "image_link = [x.get_attribute('src') for x in images] # images에 포함된 것 중에 'src'에 해당하는 것들을 불러오시오. (?)"
   ]
  },
  {
   "cell_type": "code",
   "execution_count": null,
   "id": "37efb80d-4fed-4f0c-a8bc-a6f992a60d05",
   "metadata": {},
   "outputs": [],
   "source": [
    "## 6. 이미지 다운로드\n",
    "import urllib.request"
   ]
  },
  {
   "cell_type": "code",
   "execution_count": null,
   "id": "034e4358-c4da-4bfb-a7a5-46ab624f6033",
   "metadata": {},
   "outputs": [],
   "source": [
    "len(image_link)"
   ]
  },
  {
   "cell_type": "code",
   "execution_count": null,
   "id": "97a4d23e-d603-4b95-bbfe-47218cdb6f1d",
   "metadata": {},
   "outputs": [],
   "source": [
    "#처음(0번째의 인덱스)부터 image_link의 갯수(496개)에서 / 모든 사진 파일(496개)을 다 출력하시오.\n",
    "for i in range(len(image_link)) :                                               \n",
    "    urllib.request.urlretrieve(image_link[i], './images/{}.jpeg'.format(i + 1)) "
   ]
  },
  {
   "cell_type": "markdown",
   "id": "1818cbf6-ef87-4833-8df6-569dad23f8b2",
   "metadata": {
    "tags": []
   },
   "source": [
    "### images라는 폴더에 496개의 고양이 사진 모두 다운로드 완료"
   ]
  },
  {
   "cell_type": "markdown",
   "id": "8c84cb13-9631-4618-9e90-b7d18aa7c112",
   "metadata": {},
   "source": [
    "---"
   ]
  },
  {
   "cell_type": "markdown",
   "id": "115146c2-3980-42eb-a3cd-58740f5169df",
   "metadata": {
    "tags": []
   },
   "source": [
    "# 셀레니움(selenium)으로 네이버에서 이미지 다운로드 받기"
   ]
  },
  {
   "cell_type": "markdown",
   "id": "56c006d0-a6e8-4ece-a696-3ec328aa0e52",
   "metadata": {
    "tags": []
   },
   "source": [
    "## 1. 라이브러리 불러오기"
   ]
  },
  {
   "cell_type": "code",
   "execution_count": null,
   "id": "74f98cbf-34fe-4b37-9437-1f34318c4880",
   "metadata": {},
   "outputs": [],
   "source": [
    "## 1. 라이브러리 불러오기\n",
    "from selenium import webdriver # selenium으로부터 webdriver를 불러와라.\n",
    "from selenium.webdriver.common.by import By #selenium에 있는 webdriver.common.by로부터 By를 불러와라.\n",
    "from selenium.webdriver.common.keys import Keys #selenium에 있는 webdriver.common.keys로부터 Keys를 불러와라.\n",
    "from selenium.webdriver.chrome.service import Service #selenium에 있는 webdriver.chrome.service로부터 Service를 불러와라.\n",
    "\n",
    "from webdriver_manager.chrome import ChromeDriverManager #webdriver_manager에 있는 chrome로부터 ChromeDriveManger를 불러와라."
   ]
  },
  {
   "cell_type": "markdown",
   "id": "961a23d8-6b53-46b6-b036-7d8c96f74075",
   "metadata": {},
   "source": [
    "## 2. 페이지 이동"
   ]
  },
  {
   "cell_type": "code",
   "execution_count": null,
   "id": "160b48d4-dc6e-4bc1-b6df-2112df49e68d",
   "metadata": {},
   "outputs": [],
   "source": [
    "## 2. 페이지 이동\n",
    "driver = webdriver.Chrome(service = Service(ChromeDriveManager().install())) # 최신 버전의 드라이버(크롬 드리이버 버전)ㄴ\n",
    "driver.get('https://search.naver.com/search.naver?sm=tab_hty.top&where=image&query') # 네이버 사이트 이미지 검색창으로 이동하시오."
   ]
  },
  {
   "cell_type": "markdown",
   "id": "b34fee52-5108-4bb3-99d9-f02b3a24fbfa",
   "metadata": {},
   "source": [
    "## 3. 이미지 검색"
   ]
  },
  {
   "cell_type": "code",
   "execution_count": null,
   "id": "9ab98b80-5f06-453a-af3d-dabb4d03b6bf",
   "metadata": {},
   "outputs": [],
   "source": [
    "## 3. 이미지 검색\n",
    "search_box = driver.find_element(By.CSS_SELECTOR, '') # 네이버의 이미지 검색창 사이트에서 ''에 있는 것을 찾으시오.\n",
    "search_box.send_keys('고양이')\n",
    "search_box.send_keys(Keys.ENTER)"
   ]
  },
  {
   "cell_type": "markdown",
   "id": "d8d4bcce-17e8-41f5-a350-3616e63a83f6",
   "metadata": {
    "tags": []
   },
   "source": [
    "## 4. 페이지 스크롤 ***** (코드 확실히 이해하기) (확실히 할 줄 알아야함)"
   ]
  },
  {
   "cell_type": "code",
   "execution_count": null,
   "id": "48eaa539-1fe3-4124-9cbe-4f40f1c92bda",
   "metadata": {},
   "outputs": [],
   "source": [
    "1(A). 현재 높이를 가져온다.\n",
    "2(A). 스크롤을 실행한다.\n",
    "3(A). 스크롤 후의 높이를 가져온다.\n",
    "4. 처음 높이와 스크롤의 높이가 같으면 break, 다르면 (A)를 반복"
   ]
  },
  {
   "cell_type": "code",
   "execution_count": null,
   "id": "d307b7eb-a7ba-4310-b224-a4cb61222425",
   "metadata": {},
   "outputs": [],
   "source": [
    "## 4. 페이지 스크롤\n",
    "elem = driver.find_element(By.CSS_SELECTOR, 'body') #네이버의 이미지 검색창 사이트에서 'body'에 해당하는 것을 찾으시오."
   ]
  },
  {
   "cell_type": "code",
   "execution_count": null,
   "id": "bc653566-1124-47a0-bbb8-7ca0f28118d1",
   "metadata": {},
   "outputs": [],
   "source": [
    "import time"
   ]
  },
  {
   "cell_type": "code",
   "execution_count": null,
   "id": "8d3c6344-3037-4fa2-95c4-3112f4b0adce",
   "metadata": {},
   "outputs": [],
   "source": [
    "while True :\n",
    "    first_height = driver.execute_script('return document.body.scrollHeight') #\n",
    "    for i in range(10) : # \n",
    "        elem.send_keys(Keys.PAGE_DOWN) # \n",
    "        time.sleep(1) #\n",
    "    second_height = driver.execute_script('return document.body.scrollHeight') #\n",
    "    \n",
    "    if first_height = second_height :\n",
    "        break"
   ]
  },
  {
   "cell_type": "markdown",
   "id": "fa787fa0-a63c-425c-ace6-44095eabcfaa",
   "metadata": {},
   "source": [
    "## 5. 이미지 링크 추출 ***** (코드 확실히 이해하기)"
   ]
  },
  {
   "cell_type": "code",
   "execution_count": null,
   "id": "58e3a63f-66c2-490b-9c98-34eb4dd42601",
   "metadata": {},
   "outputs": [],
   "source": [
    "## 5. 이미지 링크 추출\n",
    "images = driver.find_elements(By.CSS_SELECTOR, '.thumb img') # 네이버의 이미지 검색창 사이트에서 '.thumb img'에 있는 것을 찾으시오.\n",
    "image_link = [x.get_attribute('src') for x in images] # images에 포함된 것 중에 'src'에 해당하는 것들을 불러오시오. (?)"
   ]
  },
  {
   "cell_type": "markdown",
   "id": "b1864543-4dae-4e16-a10f-593ef99b1659",
   "metadata": {},
   "source": [
    "## 6. 이미지 다운로드 ***** (코드 확실히 이해하기)"
   ]
  },
  {
   "cell_type": "code",
   "execution_count": null,
   "id": "85c0b20c-a754-4218-ac3d-6062e50e876f",
   "metadata": {},
   "outputs": [],
   "source": [
    "## 6. 이미지 다운로드\n",
    "import urllib.request"
   ]
  },
  {
   "cell_type": "code",
   "execution_count": null,
   "id": "6972800b-926c-40c0-88a5-9ee039c98110",
   "metadata": {},
   "outputs": [],
   "source": [
    "for i in range(len(image_link)) :                                               #image_link의 갯수가 i번째부터 ~ \n",
    "    urllib.request.urlretrieve(image_link[i], './images/{}.jpeg'.format(i + 1)) #"
   ]
  }
 ],
 "metadata": {
  "kernelspec": {
   "display_name": "Python 3 (ipykernel)",
   "language": "python",
   "name": "python3"
  },
  "language_info": {
   "codemirror_mode": {
    "name": "ipython",
    "version": 3
   },
   "file_extension": ".py",
   "mimetype": "text/x-python",
   "name": "python",
   "nbconvert_exporter": "python",
   "pygments_lexer": "ipython3",
   "version": "3.9.12"
  }
 },
 "nbformat": 4,
 "nbformat_minor": 5
}
