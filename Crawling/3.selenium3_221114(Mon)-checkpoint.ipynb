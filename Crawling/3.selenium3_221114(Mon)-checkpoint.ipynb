{
 "cells": [
  {
   "cell_type": "markdown",
   "id": "1c48ab0f-bb2c-4bd2-ad92-a2ec45f85d27",
   "metadata": {},
   "source": [
    "---"
   ]
  },
  {
   "cell_type": "code",
   "execution_count": null,
   "id": "7405a5ca-eb19-486c-b301-7a8dcb57e481",
   "metadata": {},
   "outputs": [],
   "source": [
    "# 최종 정리"
   ]
  },
  {
   "cell_type": "code",
   "execution_count": null,
   "id": "f12639ae-82c8-4f06-b8bc-d8ee11e9fb48",
   "metadata": {},
   "outputs": [],
   "source": [
    "from selenium import webdriver\n",
    "from selenium.webdriver.common.by import By\n",
    "from selenium.webdriver.common.keys import Keys\n",
    "\n",
    "from selenium.webdriver.chrome.service import Service\n",
    "from webdriver_manager.chrome import ChromeDriverManager"
   ]
  },
  {
   "cell_type": "code",
   "execution_count": 2,
   "id": "63034469-1ea9-4f04-b0b7-edcb9661201f",
   "metadata": {},
   "outputs": [],
   "source": [
    "driver = webdriver.Chrome(service=Service(ChromeDriverManager().install()))\n",
    "driver.get('https://search.naver.com/search.naver?where=image')"
   ]
  },
  {
   "cell_type": "code",
   "execution_count": 3,
   "id": "91a2b03e-d684-4256-bdbd-f9d65b22ea99",
   "metadata": {},
   "outputs": [],
   "source": [
    "search_box = driver.find_element(By.CSS_SELECTOR, '#nx_query')"
   ]
  },
  {
   "cell_type": "code",
   "execution_count": 4,
   "id": "3632de85-efdf-4507-9ee9-9eaff83b36f4",
   "metadata": {},
   "outputs": [],
   "source": [
    "search_box.send_keys('고양이')"
   ]
  },
  {
   "cell_type": "code",
   "execution_count": 5,
   "id": "619d5a47-38f4-4b71-a346-5c7e1c954093",
   "metadata": {},
   "outputs": [],
   "source": [
    "search_box.send_keys(Keys.ENTER)"
   ]
  },
  {
   "cell_type": "code",
   "execution_count": 6,
   "id": "8275d422-a58a-4bbe-a578-15d3c91cf3fc",
   "metadata": {},
   "outputs": [],
   "source": [
    "# 처음 스크롤 내렸을 때: 3081\n",
    "elem = driver.find_element(By.CSS_SELECTOR, 'body')"
   ]
  },
  {
   "cell_type": "code",
   "execution_count": 7,
   "id": "539e0f4e-3580-4a8a-9fb8-268fd95acb35",
   "metadata": {},
   "outputs": [],
   "source": [
    "import time"
   ]
  },
  {
   "cell_type": "code",
   "execution_count": 8,
   "id": "15f8c335-2865-4ee2-8ee7-42ce1ba9bf77",
   "metadata": {},
   "outputs": [],
   "source": [
    "while True :\n",
    "    first_height = driver.execute_script('return document.body.scrollHeight')\n",
    "    for i in range(10) :\n",
    "        elem.send_keys(Keys.PAGE_DOWN)\n",
    "        time.sleep(1)\n",
    "    second_height = driver.execute_script('return document.body.scrollHeight')\n",
    "   \n",
    "\n",
    "    if (first_height == second_height) :\n",
    "        break"
   ]
  },
  {
   "cell_type": "code",
   "execution_count": null,
   "id": "e6a60702-721d-4297-9d5a-6b713f46429d",
   "metadata": {},
   "outputs": [],
   "source": []
  },
  {
   "cell_type": "code",
   "execution_count": 9,
   "id": "4296950a-07af-4a4d-94c6-7b35492ed314",
   "metadata": {},
   "outputs": [],
   "source": [
    "images = driver.find_elements(By.CSS_SELECTOR, '.thumb img')\n",
    "image_link = [x.get_attribute('src') for x in images]"
   ]
  },
  {
   "cell_type": "code",
   "execution_count": null,
   "id": "9745b9c8-3d15-4571-a2dc-a1c3399df742",
   "metadata": {},
   "outputs": [],
   "source": []
  },
  {
   "cell_type": "code",
   "execution_count": 10,
   "id": "141deb3d-e9ec-4c6a-9244-607a77030ed6",
   "metadata": {},
   "outputs": [],
   "source": [
    "import urllib.request"
   ]
  },
  {
   "cell_type": "code",
   "execution_count": null,
   "id": "bf254795-8405-42a2-b7a9-e60932ed690c",
   "metadata": {},
   "outputs": [],
   "source": [
    "for i in range(len(image_link)) :\n",
    "    urllib.request.urlretrieve(image_link[i], 'C:/Users/user/Desktop/python/22년 11월 3주(5주차)/images/{}.jpeg'.format(i+1))"
   ]
  },
  {
   "cell_type": "code",
   "execution_count": null,
   "id": "7112c773-f907-4acc-b4af-187bcbc84d5b",
   "metadata": {},
   "outputs": [],
   "source": [
    "# 최종 정리 끝"
   ]
  },
  {
   "cell_type": "code",
   "execution_count": 13,
   "id": "71a2d460-c895-4593-8eb2-9ce259baec2a",
   "metadata": {},
   "outputs": [],
   "source": [
    "driver.close() # 웹 브라우저 창 끄기"
   ]
  },
  {
   "cell_type": "markdown",
   "id": "7cca0ffc-62f2-4032-956c-2c1530b336e0",
   "metadata": {},
   "source": [
    "----"
   ]
  },
  {
   "cell_type": "code",
   "execution_count": null,
   "id": "17352fee-cfe8-4be7-8fde-c1906251af2a",
   "metadata": {
    "tags": []
   },
   "outputs": [],
   "source": [
    "pip install webdriver_manager"
   ]
  },
  {
   "cell_type": "markdown",
   "id": "45c00e93-92c4-42d9-ad0b-96f25eec7907",
   "metadata": {
    "tags": []
   },
   "source": [
    "# 셀레니움으로 네이버에서 이미지 다운로드 받기"
   ]
  },
  {
   "cell_type": "markdown",
   "id": "33b40754-f969-40dc-b292-d2b9353ccf6f",
   "metadata": {
    "tags": []
   },
   "source": [
    "## 1. 라이브러리 불러오기"
   ]
  },
  {
   "cell_type": "code",
   "execution_count": 1,
   "id": "2a4fc2fe-dc44-4ac5-9952-c0b1459caef7",
   "metadata": {},
   "outputs": [],
   "source": [
    "from selenium import webdriver\n",
    "from selenium.webdriver.common.by import By\n",
    "from selenium.webdriver.common.keys import Keys\n",
    "\n",
    "from selenium.webdriver.chrome.service import Service\n",
    "from webdriver_manager.chrome import ChromeDriverManager"
   ]
  },
  {
   "cell_type": "markdown",
   "id": "9682ed45-3194-4795-9117-ada604f926d3",
   "metadata": {
    "tags": []
   },
   "source": [
    "## 2. 페이지 이동"
   ]
  },
  {
   "cell_type": "code",
   "execution_count": 2,
   "id": "a3df98b4-300e-4eae-b083-bf812a55628e",
   "metadata": {},
   "outputs": [],
   "source": [
    "driver = webdriver.Chrome(service=Service(ChromeDriverManager().install()))\n",
    "driver.get('https://search.naver.com/search.naver?where=image')"
   ]
  },
  {
   "cell_type": "markdown",
   "id": "57b0f1db-774b-4ab4-a0ec-bf642fabb0f0",
   "metadata": {
    "tags": []
   },
   "source": [
    "## 3. 이미지 검색"
   ]
  },
  {
   "cell_type": "code",
   "execution_count": 3,
   "id": "a5f02895-38db-425f-9873-c4c21bd46749",
   "metadata": {},
   "outputs": [],
   "source": [
    "search_box = driver.find_element(By.CSS_SELECTOR, '#nx_query')"
   ]
  },
  {
   "cell_type": "code",
   "execution_count": 4,
   "id": "9af840b5-7486-48d5-b02a-6380cd09c481",
   "metadata": {},
   "outputs": [],
   "source": [
    "search_box.send_keys('고양이')"
   ]
  },
  {
   "cell_type": "code",
   "execution_count": 5,
   "id": "868a6184-07da-41fb-b4d6-6b0ab119b372",
   "metadata": {},
   "outputs": [],
   "source": [
    "search_box.send_keys(Keys.ENTER)"
   ]
  },
  {
   "cell_type": "markdown",
   "id": "8be1fb96-c0d9-4cd9-9089-a787c9376e06",
   "metadata": {},
   "source": [
    "## 4. 페이지 스크롤"
   ]
  },
  {
   "cell_type": "code",
   "execution_count": null,
   "id": "11c74a3d-bdaa-457f-85c2-7e0aff4630bb",
   "metadata": {},
   "outputs": [],
   "source": [
    "1(A). 현재 높이를 가져온다.\n",
    "2(A). 스크롤을 실행한다.\n",
    "3(A). 스크롤 후의 높이를 가져온다.\n",
    "4. 처음 높이와 스크롤의 높이가 같으면 break, 다르면 (A)를 반복"
   ]
  },
  {
   "cell_type": "code",
   "execution_count": 6,
   "id": "6597637d-8190-4fbe-9a89-2b8186a7839b",
   "metadata": {},
   "outputs": [],
   "source": [
    "# 처음 스크롤 내렸을 때: 3081\n",
    "elem = driver.find_element(By.CSS_SELECTOR, 'body')"
   ]
  },
  {
   "cell_type": "code",
   "execution_count": null,
   "id": "ec7af5e6-a261-4c5c-9fa9-8083283cc253",
   "metadata": {},
   "outputs": [],
   "source": [
    "driver.execute_script('return document.body.scrollHeight')\n",
    "# 스크롤 끝까지 내렸을 때 : 22910"
   ]
  },
  {
   "cell_type": "markdown",
   "id": "b4a29d53-f83b-49d8-a02b-68368d68851c",
   "metadata": {},
   "source": [
    "for i in range(20):\n",
    "    elem.send_keys(Keys.PAGE_DOWN)"
   ]
  },
  {
   "cell_type": "code",
   "execution_count": 7,
   "id": "147df0f1-d3e7-44ea-adde-a4a83923a2cd",
   "metadata": {},
   "outputs": [],
   "source": [
    "import time"
   ]
  },
  {
   "cell_type": "markdown",
   "id": "00306ef7-db2d-4692-8c24-b73287b94c55",
   "metadata": {
    "tags": []
   },
   "source": [
    "elem = driver.execute_script(\"body\")"
   ]
  },
  {
   "cell_type": "markdown",
   "id": "e6282804-1fcc-4410-887c-7cdc8c6a04a2",
   "metadata": {
    "tags": []
   },
   "source": [
    "first_height = driver.execute_script('return document.body.scrollHeight')\n",
    "for i in range(10):\n",
    "    elem.send_keys(Keys.PAGE_DOWN)\n",
    "    time.sleep(1)\n",
    "second_height = driver.execute_script('return document.body.scrollHeight')\n",
    "print(first_height, second_height)"
   ]
  },
  {
   "cell_type": "code",
   "execution_count": 8,
   "id": "b0c81f51-28e3-4bcb-b9d9-250dffca0304",
   "metadata": {},
   "outputs": [],
   "source": [
    "while True :\n",
    "    first_height = driver.execute_script('return document.body.scrollHeight')\n",
    "    for i in range(20) :\n",
    "        elem.send_keys(Keys.PAGE_DOWN)\n",
    "        time.sleep(1)\n",
    "    second_height = driver.execute_script('return document.body.scrollHeight')\n",
    "   \n",
    "\n",
    "    if (first_height == second_height) :\n",
    "        break"
   ]
  },
  {
   "cell_type": "markdown",
   "id": "c7d8fa91-b674-4b9d-ac62-4347e948bb10",
   "metadata": {},
   "source": [
    "---"
   ]
  },
  {
   "cell_type": "code",
   "execution_count": null,
   "id": "c5026783-5f27-409d-9d12-d7ae06b85170",
   "metadata": {},
   "outputs": [],
   "source": [
    "# 혼자 연습"
   ]
  },
  {
   "cell_type": "code",
   "execution_count": null,
   "id": "14cbd219-aec5-4108-8f25-84b0714f0f05",
   "metadata": {},
   "outputs": [],
   "source": [
    "1(A). 현재 높이를 가져온다.\n",
    "2(A). 스크롤을 실행한다.\n",
    "3(A). 스크롤 실행 후의 높이와 처음 높이를 비교한다.\n",
    "4. 처음 높이와 스크롤의 높이가 같으면 break, 다르면 (A)를 반복"
   ]
  },
  {
   "cell_type": "code",
   "execution_count": null,
   "id": "ef256874-9ad5-425b-b6da-dfb74b46beac",
   "metadata": {
    "tags": []
   },
   "outputs": [],
   "source": [
    "for i in range(100):\n",
    "    elem.send_keys(Keys.PAGE_DOWN)"
   ]
  },
  {
   "cell_type": "code",
   "execution_count": null,
   "id": "3f806810-fbec-477c-9ba3-84c837e526e4",
   "metadata": {},
   "outputs": [],
   "source": [
    "driver.execute_script('return document.body.scrollHeight')"
   ]
  },
  {
   "cell_type": "code",
   "execution_count": null,
   "id": "bd09bca6-f8ed-4284-ad5d-b59be9e323c5",
   "metadata": {},
   "outputs": [],
   "source": [
    "while True:\n",
    "    if : # scroll Height가 변하지 않으면\n",
    "        break\n",
    "    else : # 계속 스크롤"
   ]
  },
  {
   "cell_type": "markdown",
   "id": "3614cb6b-73f9-4ef5-80fc-8dc6a5e42600",
   "metadata": {},
   "source": [
    "---"
   ]
  },
  {
   "cell_type": "code",
   "execution_count": null,
   "id": "2911d153-7f0e-4409-87c9-13fb97ac7360",
   "metadata": {},
   "outputs": [],
   "source": [
    "# 혼자 연습"
   ]
  },
  {
   "cell_type": "code",
   "execution_count": null,
   "id": "77d2370e-bef3-4cca-9e3e-9cffc1ac5129",
   "metadata": {},
   "outputs": [],
   "source": [
    "last = driver.execute_script('return document.body.scrollHeight')\n",
    "\n",
    "while True :\n",
    "    new = driver.execute_script('return document.body.scrollHeight')\n",
    "    if new == last :\n",
    "        break\n",
    "    last = new"
   ]
  },
  {
   "cell_type": "code",
   "execution_count": null,
   "id": "6ccc28c1-6866-4f4a-9978-b53345a67b1a",
   "metadata": {},
   "outputs": [],
   "source": [
    "driver.execute_script('return document.body.scrollHeight')"
   ]
  },
  {
   "cell_type": "markdown",
   "id": "c527c2bf-0d19-4b3a-b790-8f1c5bbaaf1f",
   "metadata": {},
   "source": [
    "---"
   ]
  },
  {
   "cell_type": "code",
   "execution_count": null,
   "id": "25020fb5-7654-4d53-b8f4-44c693216717",
   "metadata": {},
   "outputs": [],
   "source": [
    "# 혼자 연습"
   ]
  },
  {
   "cell_type": "code",
   "execution_count": null,
   "id": "f73f2520-c2cf-4b46-9a93-39cdc58e77c5",
   "metadata": {},
   "outputs": [],
   "source": [
    "driver.execute_script()"
   ]
  },
  {
   "cell_type": "code",
   "execution_count": null,
   "id": "c59badb7-9a0a-48a3-9ad3-af720a86dfd0",
   "metadata": {},
   "outputs": [],
   "source": [
    "last_height = driver.execute_script(\"return document.body.scrollHeight\")"
   ]
  },
  {
   "cell_type": "code",
   "execution_count": null,
   "id": "b3067092-2862-41e6-9064-401ee1c38230",
   "metadata": {},
   "outputs": [],
   "source": [
    "driver.execute_script(\"window.scrollTo(0, document.body.scrollHeight);\")"
   ]
  },
  {
   "cell_type": "code",
   "execution_count": null,
   "id": "e46c6a5b-2506-4711-a216-ca31e9c10726",
   "metadata": {},
   "outputs": [],
   "source": [
    "    new_height = driver.execute_script(\"return document.body.scrollHeight\")\n",
    "    if new_height == last_height:\n",
    "        break\n",
    "    last_height = new_height"
   ]
  },
  {
   "cell_type": "markdown",
   "id": "ed1252e0-6385-4b6a-bdf7-c31b90c5202d",
   "metadata": {},
   "source": [
    "---"
   ]
  },
  {
   "cell_type": "markdown",
   "id": "a12aac23-3ffe-4e1b-a904-20c315da0262",
   "metadata": {
    "tags": []
   },
   "source": [
    "## 5. 이미지 링크 추출"
   ]
  },
  {
   "cell_type": "code",
   "execution_count": 9,
   "id": "de20b494-0824-4955-8f3b-c6c6f444bce2",
   "metadata": {},
   "outputs": [],
   "source": [
    "images = driver.find_elements(By.CSS_SELECTOR, '.thumb img')\n",
    "image_link = [x.get_attribute('src') for x in images]"
   ]
  },
  {
   "cell_type": "markdown",
   "id": "ec164c19-a65c-4431-9165-67202c33c26d",
   "metadata": {},
   "source": [
    "---"
   ]
  },
  {
   "cell_type": "code",
   "execution_count": null,
   "id": "2234473f-dea5-4f96-a84e-07688fd99eb8",
   "metadata": {},
   "outputs": [],
   "source": [
    "#혼자 연습"
   ]
  },
  {
   "cell_type": "code",
   "execution_count": null,
   "id": "a5021ece-2982-49a7-a012-5af27c55746e",
   "metadata": {},
   "outputs": [],
   "source": [
    "images = driver.find_elements(By.CSS_SELECTOR, '.thumb img')\n",
    "len(images)"
   ]
  },
  {
   "cell_type": "code",
   "execution_count": null,
   "id": "77a779bc-9571-4d31-9c31-15e6da46abf6",
   "metadata": {},
   "outputs": [],
   "source": [
    "image_link = []\n",
    "for i in images :\n",
    "    ima"
   ]
  },
  {
   "cell_type": "code",
   "execution_count": null,
   "id": "20d559ce-1f83-4e8e-80e1-91fd981f5387",
   "metadata": {
    "tags": []
   },
   "outputs": [],
   "source": [
    "images = driver.find_elements(By.CSS_SELECTOR, '.thumb img')\n",
    "images"
   ]
  },
  {
   "cell_type": "code",
   "execution_count": null,
   "id": "f5ef935a-3708-440a-bf43-1d817d387d68",
   "metadata": {},
   "outputs": [],
   "source": [
    "len(images)"
   ]
  },
  {
   "cell_type": "code",
   "execution_count": null,
   "id": "d66d30bc-351b-4d9e-8562-95bbe55931f5",
   "metadata": {
    "tags": []
   },
   "outputs": [],
   "source": [
    "for i in images :\n",
    "    print(i.text)"
   ]
  },
  {
   "cell_type": "markdown",
   "id": "9487b892-77a3-45f7-82be-76a7ab51d5da",
   "metadata": {},
   "source": [
    "----"
   ]
  },
  {
   "cell_type": "markdown",
   "id": "0eec1503-5df5-442a-bedf-22bbf5bf0add",
   "metadata": {},
   "source": [
    "## 6. 이미지 다운로드"
   ]
  },
  {
   "cell_type": "code",
   "execution_count": 10,
   "id": "ffc42508-37f9-43ed-84a8-c537f43a355e",
   "metadata": {},
   "outputs": [],
   "source": [
    "import urllib.request"
   ]
  },
  {
   "cell_type": "code",
   "execution_count": null,
   "id": "bd152939-f6b2-44c5-9fae-32be29814221",
   "metadata": {},
   "outputs": [],
   "source": [
    "for i in range(len(image_link)) :\n",
    "    urllib.request.urlretrieve(image_link[i], 'C:/Users/user/Desktop/python/22년 11월 3주(5주차)/images/{}.jpeg'.format(i+1))"
   ]
  },
  {
   "cell_type": "markdown",
   "id": "0124884f-3a72-45c9-b43b-c5f7f1c9c0de",
   "metadata": {},
   "source": [
    "import urllib.request\n",
    "urllib.request.urlretrieve(image_link[0], '')"
   ]
  }
 ],
 "metadata": {
  "kernelspec": {
   "display_name": "Python 3 (ipykernel)",
   "language": "python",
   "name": "python3"
  },
  "language_info": {
   "codemirror_mode": {
    "name": "ipython",
    "version": 3
   },
   "file_extension": ".py",
   "mimetype": "text/x-python",
   "name": "python",
   "nbconvert_exporter": "python",
   "pygments_lexer": "ipython3",
   "version": "3.9.12"
  }
 },
 "nbformat": 4,
 "nbformat_minor": 5
}
