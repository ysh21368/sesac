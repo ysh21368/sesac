{
 "cells": [
  {
   "cell_type": "markdown",
   "id": "028c70a3-b026-4135-b1b0-b7e3a82a1ace",
   "metadata": {},
   "source": [
    "# 셀레니움(selenium)으로 유튜브 영상 긁어오기\n",
    "## pytube"
   ]
  },
  {
   "cell_type": "code",
   "execution_count": null,
   "id": "453e20d1-3fc7-4d8a-9fcc-d778107fd379",
   "metadata": {},
   "outputs": [],
   "source": [
    "## 1. 라이브러리 불러오기\n",
    "from selenium import webdriver\n",
    "from selenium.webdriver.common.by import By\n",
    "from selenium.webdriver.common.keys import Keys\n",
    "from selenium.webdriver.chrome.service import Service\n",
    "from webdriver_manager.chrome import ChromeDriverManager\n",
    "from pytube import YouTube"
   ]
  },
  {
   "cell_type": "code",
   "execution_count": null,
   "id": "bb350537-f8e4-4568-bbf6-9e78b69c6e83",
   "metadata": {},
   "outputs": [],
   "source": [
    "## 2. 페이지 이동\n",
    "driver = webdriver.Chrome(service = Service(ChromeDriverManager().install()))\n",
    "driver.get('https://www.youtube.com/results?search_query')"
   ]
  },
  {
   "cell_type": "code",
   "execution_count": null,
   "id": "12b1d3c7-c58e-448d-8ea4-646ffc979abc",
   "metadata": {},
   "outputs": [],
   "source": [
    "## 3. 영상 검색\n",
    "search_box = driver.find_element(By.NAME, 'search_query')\n",
    "search_box.send_keys(input('검색할 키워드를 입력하세요.'))\n",
    "search_box.send_keys(Keys.ENTER)"
   ]
  },
  {
   "cell_type": "code",
   "execution_count": null,
   "id": "9dc45dde-4c96-49a5-a186-68b5b15962ab",
   "metadata": {},
   "outputs": [],
   "source": [
    "## 4. 페이지 스크롤\n",
    "elem = driver.find_elements(By.ID, 'thumbnail')"
   ]
  },
  {
   "cell_type": "code",
   "execution_count": null,
   "id": "0cc326eb-e429-4782-bd06-743e482a1275",
   "metadata": {},
   "outputs": [],
   "source": [
    "len(elem)"
   ]
  },
  {
   "cell_type": "code",
   "execution_count": null,
   "id": "5087cae9-5e84-4955-b85d-de7c0b49bcd2",
   "metadata": {},
   "outputs": [],
   "source": [
    "## 5. 영상 링크 추출\n",
    "videos = driver.find_elements(By.ID, 'thumbnail')\n",
    "videos_link = [x.get_attribute('href') for x in videos] # 'href'와 관련된 url을 모두 들고 와라."
   ]
  },
  {
   "cell_type": "code",
   "execution_count": null,
   "id": "96154db5-9258-49ed-92d1-0f1febdc1916",
   "metadata": {
    "tags": []
   },
   "outputs": [],
   "source": [
    "videos"
   ]
  },
  {
   "cell_type": "code",
   "execution_count": null,
   "id": "583329e5-5d3a-4335-a883-99674ce0e189",
   "metadata": {},
   "outputs": [],
   "source": [
    "videos_link4 = videos_link[4]"
   ]
  },
  {
   "cell_type": "code",
   "execution_count": null,
   "id": "bd4bd16a-c2ab-43bc-b3e5-82b2995bc01e",
   "metadata": {},
   "outputs": [],
   "source": [
    "videos_link4"
   ]
  },
  {
   "cell_type": "code",
   "execution_count": null,
   "id": "3ed9d45c-48c1-4ec9-8ea9-1a275980cc1b",
   "metadata": {},
   "outputs": [],
   "source": [
    "yt_videos_link4 = YouTube(videos_link4)"
   ]
  },
  {
   "cell_type": "code",
   "execution_count": null,
   "id": "3ad45f85-ebbd-4330-9a04-1ab192baa4c9",
   "metadata": {},
   "outputs": [],
   "source": [
    "yt_videos_link4"
   ]
  },
  {
   "cell_type": "code",
   "execution_count": null,
   "id": "1cd1f99b-1604-4257-a54c-71ec1596be88",
   "metadata": {},
   "outputs": [],
   "source": [
    "print(yt_videos_link4)"
   ]
  },
  {
   "cell_type": "code",
   "execution_count": null,
   "id": "793fbd59-13cf-48e8-b82a-f4aed6725a53",
   "metadata": {},
   "outputs": [],
   "source": [
    "type(yt_videos_link4)"
   ]
  },
  {
   "cell_type": "code",
   "execution_count": null,
   "id": "a1dc7fe1-f672-48e6-861b-d1ac3901bd73",
   "metadata": {},
   "outputs": [],
   "source": [
    "stream = yt_videos_link4.streams.get_by_itag(22) # yt.streams.filter(file_extension = 'mp4')에서 찍었을 때, itag=\"22\"를 불러와서 쉽게 사용하기 위해 이렇게 사용한다."
   ]
  },
  {
   "cell_type": "code",
   "execution_count": null,
   "id": "61cc1c6e-3fa0-4ba9-8cd6-2e659ea2479f",
   "metadata": {},
   "outputs": [],
   "source": [
    "stream.download()"
   ]
  },
  {
   "cell_type": "code",
   "execution_count": null,
   "id": "f8287594-10da-440c-a627-d782b97c7753",
   "metadata": {},
   "outputs": [],
   "source": [
    "driver.close()"
   ]
  },
  {
   "cell_type": "markdown",
   "id": "cc91a1e2-5f5f-4ab9-9f6a-a81522121683",
   "metadata": {},
   "source": [
    "---"
   ]
  },
  {
   "cell_type": "code",
   "execution_count": 1,
   "id": "513f6c09-fcfe-4b53-8d5d-5a1a634bf722",
   "metadata": {},
   "outputs": [],
   "source": [
    "# 강사님 버전: 셀레니움으로 유튜브 영상 긁어오기\n",
    "import os\n",
    "import time\n",
    "from selenium import webdriver\n",
    "from selenium.webdriver.common.by import By\n",
    "from selenium.webdriver.common.keys import Keys\n",
    "from selenium.webdriver.chrome.service import Service\n",
    "from webdriver_manager.chrome import ChromeDriverManager\n",
    "from pytube import YouTube"
   ]
  },
  {
   "cell_type": "code",
   "execution_count": 2,
   "id": "3b53f1ed-bc19-4751-9f4b-855b7c3af3ce",
   "metadata": {},
   "outputs": [],
   "source": [
    "driver = webdriver.Chrome(service=Service(ChromeDriverManager().install()))\n",
    "driver.get('https://www.youtube.com/channel/UCEI1bBdeeDFPZK5tguqPjqA/videos')\n",
    "body = driver.find_element(By.CSS_SELECTOR,'body')"
   ]
  },
  {
   "cell_type": "code",
   "execution_count": 3,
   "id": "c5f4f70b-241b-491b-84d8-44c4f0621724",
   "metadata": {},
   "outputs": [],
   "source": [
    "for i in range(10):\n",
    "    body.send_keys(Keys.PAGE_DOWN)\n",
    "    time.sleep(1)\n",
    "ele = driver.find_elements(By.CSS_SELECTOR,'#content a#thumbnail')"
   ]
  },
  {
   "cell_type": "code",
   "execution_count": 4,
   "id": "dcb995c6-6ecb-455d-8735-fe4a3f1485df",
   "metadata": {
    "tags": []
   },
   "outputs": [
    {
     "name": "stdout",
     "output_type": "stream",
     "text": [
      "2022 올잇원 회사소개영상\n",
      "PUT method를 통한 서버 장악\n",
      "John the ripper를 이용한 패스워드 크랙\n",
      "ARP SCAN을 통한 내부 자원 스캔\n",
      "Mimikatz를 이용한 패스워드 크랙\n",
      "reg 값 변경을 통한 windows 10 원격 설정 활성화\n"
     ]
    }
   ],
   "source": [
    "for i in ele:\n",
    "    link = i.get_attribute('href')\n",
    "    if(link):\n",
    "        try:\n",
    "            yt = YouTube(link)\n",
    "            stream = yt.streams.get_by_itag(22)\n",
    "            print(yt.title)\n",
    "            stream.download(output_path='./videos')\n",
    "        except:\n",
    "                pass"
   ]
  },
  {
   "cell_type": "code",
   "execution_count": null,
   "id": "837586f1-3bd5-4902-9a72-698effb7e700",
   "metadata": {},
   "outputs": [],
   "source": []
  }
 ],
 "metadata": {
  "kernelspec": {
   "display_name": "Python 3 (ipykernel)",
   "language": "python",
   "name": "python3"
  },
  "language_info": {
   "codemirror_mode": {
    "name": "ipython",
    "version": 3
   },
   "file_extension": ".py",
   "mimetype": "text/x-python",
   "name": "python",
   "nbconvert_exporter": "python",
   "pygments_lexer": "ipython3",
   "version": "3.9.12"
  }
 },
 "nbformat": 4,
 "nbformat_minor": 5
}
