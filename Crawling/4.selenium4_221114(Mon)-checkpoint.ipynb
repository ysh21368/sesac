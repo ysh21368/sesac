{
 "cells": [
  {
   "cell_type": "code",
   "execution_count": null,
   "id": "5e2ea4e3-7fba-4c09-b31a-ec03edc7f9c3",
   "metadata": {},
   "outputs": [],
   "source": [
    "!pip install pytube"
   ]
  },
  {
   "cell_type": "markdown",
   "id": "53f1217f-ec1b-4de9-a822-449f36bbf596",
   "metadata": {
    "tags": []
   },
   "source": [
    "# 셀레니움으로 유튜브 영상 긁어오기\n",
    "## pytube"
   ]
  },
  {
   "cell_type": "code",
   "execution_count": 15,
   "id": "69e59758-ed0a-47b3-af48-d90b78b5e98e",
   "metadata": {},
   "outputs": [],
   "source": [
    "from pytube import YouTube"
   ]
  },
  {
   "cell_type": "code",
   "execution_count": 16,
   "id": "4b310bf8-395e-402f-b81d-00111a075c1c",
   "metadata": {},
   "outputs": [],
   "source": [
    "yt = YouTube('https://www.youtube.com/watch?v=UidhQTm1ulw')"
   ]
  },
  {
   "cell_type": "code",
   "execution_count": 17,
   "id": "240f036c-be68-4db3-b2bc-712431320f88",
   "metadata": {},
   "outputs": [
    {
     "data": {
      "text/plain": [
       "[<Stream: itag=\"18\" mime_type=\"video/mp4\" res=\"360p\" fps=\"29fps\" vcodec=\"avc1.42001E\" acodec=\"mp4a.40.2\" progressive=\"True\" type=\"video\">, <Stream: itag=\"22\" mime_type=\"video/mp4\" res=\"720p\" fps=\"29fps\" vcodec=\"avc1.64001F\" acodec=\"mp4a.40.2\" progressive=\"True\" type=\"video\">, <Stream: itag=\"137\" mime_type=\"video/mp4\" res=\"1080p\" fps=\"29fps\" vcodec=\"avc1.640028\" progressive=\"False\" type=\"video\">, <Stream: itag=\"399\" mime_type=\"video/mp4\" res=\"1080p\" fps=\"29fps\" vcodec=\"av01.0.08M.08\" progressive=\"False\" type=\"video\">, <Stream: itag=\"136\" mime_type=\"video/mp4\" res=\"720p\" fps=\"29fps\" vcodec=\"avc1.4d401f\" progressive=\"False\" type=\"video\">, <Stream: itag=\"398\" mime_type=\"video/mp4\" res=\"720p\" fps=\"29fps\" vcodec=\"av01.0.05M.08\" progressive=\"False\" type=\"video\">, <Stream: itag=\"135\" mime_type=\"video/mp4\" res=\"480p\" fps=\"29fps\" vcodec=\"avc1.4d401f\" progressive=\"False\" type=\"video\">, <Stream: itag=\"397\" mime_type=\"video/mp4\" res=\"480p\" fps=\"29fps\" vcodec=\"av01.0.04M.08\" progressive=\"False\" type=\"video\">, <Stream: itag=\"134\" mime_type=\"video/mp4\" res=\"360p\" fps=\"29fps\" vcodec=\"avc1.4d401e\" progressive=\"False\" type=\"video\">, <Stream: itag=\"396\" mime_type=\"video/mp4\" res=\"360p\" fps=\"29fps\" vcodec=\"av01.0.01M.08\" progressive=\"False\" type=\"video\">, <Stream: itag=\"133\" mime_type=\"video/mp4\" res=\"240p\" fps=\"29fps\" vcodec=\"avc1.4d4015\" progressive=\"False\" type=\"video\">, <Stream: itag=\"395\" mime_type=\"video/mp4\" res=\"240p\" fps=\"29fps\" vcodec=\"av01.0.00M.08\" progressive=\"False\" type=\"video\">, <Stream: itag=\"160\" mime_type=\"video/mp4\" res=\"144p\" fps=\"29fps\" vcodec=\"avc1.4d400c\" progressive=\"False\" type=\"video\">, <Stream: itag=\"394\" mime_type=\"video/mp4\" res=\"144p\" fps=\"29fps\" vcodec=\"av01.0.00M.08\" progressive=\"False\" type=\"video\">, <Stream: itag=\"139\" mime_type=\"audio/mp4\" abr=\"48kbps\" acodec=\"mp4a.40.5\" progressive=\"False\" type=\"audio\">, <Stream: itag=\"140\" mime_type=\"audio/mp4\" abr=\"128kbps\" acodec=\"mp4a.40.2\" progressive=\"False\" type=\"audio\">]"
      ]
     },
     "execution_count": 17,
     "metadata": {},
     "output_type": "execute_result"
    }
   ],
   "source": [
    "yt.streams.filter(file_extension = 'mp4')"
   ]
  },
  {
   "cell_type": "code",
   "execution_count": null,
   "id": "0179ee3f-854e-4ed1-a6df-b0e37df0515e",
   "metadata": {},
   "outputs": [],
   "source": [
    "# yt.streams.filter(file_extenstion = 'mp4') #이건 복잡해서 잘 사용하지 않는다."
   ]
  },
  {
   "cell_type": "code",
   "execution_count": 18,
   "id": "204401d1-ec2b-424d-9c58-aa82cdf64251",
   "metadata": {},
   "outputs": [],
   "source": [
    "stream = yt.streams.get_by_itag(22) # yt.streams.filter(file_extension = 'mp4')에서 찍었을 때, itag=\"22\"를 불러와서 쉽게 사용하기 위해 이렇게 사용한다.  "
   ]
  },
  {
   "cell_type": "code",
   "execution_count": null,
   "id": "00d8b867-8d50-4eab-a3cc-6491e605fa06",
   "metadata": {},
   "outputs": [],
   "source": [
    "stream.download() # 영상 다운로드"
   ]
  },
  {
   "cell_type": "code",
   "execution_count": null,
   "id": "bbfc09bb-3495-4341-a4ec-f69c289b7ab5",
   "metadata": {},
   "outputs": [],
   "source": [
    "# 여기서 부터 실행하기!!!!"
   ]
  },
  {
   "cell_type": "code",
   "execution_count": 1,
   "id": "eeb8540c-c0da-457b-87e0-180f388f046c",
   "metadata": {
    "tags": []
   },
   "outputs": [],
   "source": [
    "## 1. 라이브러리 불러오기\n",
    "from selenium import webdriver\n",
    "from selenium.webdriver.common.by import By\n",
    "from selenium.webdriver.common.keys import Keys\n",
    "\n",
    "from selenium.webdriver.chrome.service import Service\n",
    "from webdriver_manager.chrome import ChromeDriverManager\n",
    "\n",
    "from pytube import YouTube"
   ]
  },
  {
   "cell_type": "code",
   "execution_count": 2,
   "id": "160944b1-71bf-46ce-923f-f7b4368e8973",
   "metadata": {},
   "outputs": [],
   "source": [
    "## 2. 페이지 이동\n",
    "driver = webdriver.Chrome(service=Service(ChromeDriverManager().install()))\n",
    "driver.get('https://www.youtube.com/results?search_query=')"
   ]
  },
  {
   "cell_type": "markdown",
   "id": "158ef68d-6b0d-486d-8e49-a1b5fbe8019f",
   "metadata": {
    "tags": []
   },
   "source": [
    "## 3. 영상 검색\n",
    "search_box = driver.find_element(By.CSS_SELECTOR, '#search')\n",
    "search_box.send_keys('allitone')\n",
    "search_box.send_keys(Keys.ENTER)"
   ]
  },
  {
   "cell_type": "code",
   "execution_count": 3,
   "id": "d6948205-c597-4def-aede-31bd425cfb63",
   "metadata": {},
   "outputs": [],
   "source": [
    "search_box = driver.find_element(By.NAME, 'search_query')"
   ]
  },
  {
   "cell_type": "code",
   "execution_count": 4,
   "id": "b40c1533-78f5-4743-8d1f-8df0ed9eaaeb",
   "metadata": {},
   "outputs": [
    {
     "name": "stdin",
     "output_type": "stream",
     "text": [
      "검색할 키워드를 입력하세요. 안녕\n"
     ]
    }
   ],
   "source": [
    "search_box.send_keys(input('검색할 키워드를 입력하세요.'))\n",
    "# search_box.send_keys('안녕')"
   ]
  },
  {
   "cell_type": "code",
   "execution_count": 5,
   "id": "24635780-87f5-4dfc-bb3c-5fbda6f25e22",
   "metadata": {},
   "outputs": [],
   "source": [
    "search_box.send_keys(Keys.ENTER)"
   ]
  },
  {
   "cell_type": "code",
   "execution_count": 6,
   "id": "d2f47678-33b8-4528-9393-c46aa901048f",
   "metadata": {},
   "outputs": [],
   "source": [
    "## 4. 페이지 스크롤\n",
    "elem = driver.find_elements(By.ID, 'thumbnail')"
   ]
  },
  {
   "cell_type": "code",
   "execution_count": 7,
   "id": "38462514-254d-4601-87cf-44f82bea03f0",
   "metadata": {},
   "outputs": [
    {
     "data": {
      "text/plain": [
       "26"
      ]
     },
     "execution_count": 7,
     "metadata": {},
     "output_type": "execute_result"
    }
   ],
   "source": [
    "len(elem)"
   ]
  },
  {
   "cell_type": "code",
   "execution_count": 8,
   "id": "e1e488e5-fd70-4264-9a18-b5db553399c9",
   "metadata": {},
   "outputs": [],
   "source": [
    "## 5. 영상 링크 추출\n",
    "videos = driver.find_elements(By.ID, 'thumbnail')\n",
    "videos_link = [x.get_attribute('href') for x in videos]"
   ]
  },
  {
   "cell_type": "code",
   "execution_count": 9,
   "id": "dfa3f49f-68e9-409f-af17-82483713a96f",
   "metadata": {
    "tags": []
   },
   "outputs": [
    {
     "data": {
      "text/plain": [
       "26"
      ]
     },
     "execution_count": 9,
     "metadata": {},
     "output_type": "execute_result"
    }
   ],
   "source": [
    "len(videos)"
   ]
  },
  {
   "cell_type": "code",
   "execution_count": 10,
   "id": "a8dd3303-33e8-4c4a-b9f7-2eb08f8c761c",
   "metadata": {},
   "outputs": [],
   "source": [
    "videoso_link4 = videos_link[4]"
   ]
  },
  {
   "cell_type": "code",
   "execution_count": 11,
   "id": "ac1968ab-1e80-4bda-8646-7ef67bacbc11",
   "metadata": {},
   "outputs": [],
   "source": [
    "yt = YouTube(videoso_link4)"
   ]
  },
  {
   "cell_type": "code",
   "execution_count": 12,
   "id": "ccf194b5-22a2-49b9-9e01-de2441582c44",
   "metadata": {},
   "outputs": [
    {
     "name": "stdout",
     "output_type": "stream",
     "text": [
      "<pytube.__main__.YouTube object: videoId=6Y8euqMma0E>\n"
     ]
    }
   ],
   "source": [
    "print(yt)"
   ]
  },
  {
   "cell_type": "code",
   "execution_count": 13,
   "id": "c6100cc0-2a3f-42ea-baa7-ad63b440018e",
   "metadata": {},
   "outputs": [],
   "source": [
    "stream = yt.streams.get_by_itag(22)"
   ]
  },
  {
   "cell_type": "code",
   "execution_count": 14,
   "id": "b31f20e5-8357-4ea8-a8f2-a26566263d93",
   "metadata": {},
   "outputs": [
    {
     "data": {
      "text/plain": [
       "'C:\\\\Users\\\\user\\\\Desktop\\\\python\\\\22년 11월 3주(5주차)\\\\1시간  가사  안녕 - 해요 (2022)  앨범  해요 (2022).mp4'"
      ]
     },
     "execution_count": 14,
     "metadata": {},
     "output_type": "execute_result"
    }
   ],
   "source": [
    "stream.download()"
   ]
  },
  {
   "cell_type": "code",
   "execution_count": null,
   "id": "c0106916-45ff-47d5-946e-ab867dbfb74b",
   "metadata": {},
   "outputs": [],
   "source": []
  },
  {
   "cell_type": "code",
   "execution_count": null,
   "id": "4d202eed-c78f-4cf3-a742-144a5c9adba8",
   "metadata": {},
   "outputs": [],
   "source": []
  },
  {
   "cell_type": "code",
   "execution_count": null,
   "id": "36cf68f1-7000-429f-9c50-dbc5fd19ffd4",
   "metadata": {},
   "outputs": [],
   "source": [
    "for i in range(videos_link[1:3]) :\n",
    "    if :\n",
    "        ''\n",
    "    else :\n",
    "        "
   ]
  },
  {
   "cell_type": "code",
   "execution_count": null,
   "id": "2c594ef4-42c8-4749-874d-afa7f0a0ba32",
   "metadata": {},
   "outputs": [],
   "source": []
  },
  {
   "cell_type": "code",
   "execution_count": null,
   "id": "9bf6f366-7174-4c55-a4aa-ebc83c7ed7c2",
   "metadata": {},
   "outputs": [],
   "source": []
  },
  {
   "cell_type": "code",
   "execution_count": null,
   "id": "3660c71f-92c7-4c8a-8e2d-5197735a4a49",
   "metadata": {},
   "outputs": [],
   "source": [
    "yt = YouTube('https://www.youtube.com/watch?v=UidhQTm1ulw')"
   ]
  },
  {
   "cell_type": "code",
   "execution_count": null,
   "id": "f7d5520a-dcbe-4cd1-85a0-84b111bde29a",
   "metadata": {},
   "outputs": [],
   "source": [
    "print(yt)"
   ]
  },
  {
   "cell_type": "code",
   "execution_count": null,
   "id": "eaf0cd15-47c2-4b42-bb25-052ac47ebbfa",
   "metadata": {},
   "outputs": [],
   "source": [
    "## 5. 영상 링크 추출\n",
    "stream = yt.streams.get_by_itag(0)"
   ]
  },
  {
   "cell_type": "code",
   "execution_count": null,
   "id": "11fb3e17-b7d1-4f3a-84bd-61d11f4b82e1",
   "metadata": {},
   "outputs": [],
   "source": [
    "## 6. 영상 다운로드\n",
    "stream.download()"
   ]
  },
  {
   "cell_type": "code",
   "execution_count": null,
   "id": "1a1956cc-4f59-4eb0-ae58-f7eb9d4409f0",
   "metadata": {},
   "outputs": [],
   "source": []
  },
  {
   "cell_type": "code",
   "execution_count": null,
   "id": "03cb317b-0932-41f8-9a14-3cb4fc6d2737",
   "metadata": {},
   "outputs": [],
   "source": []
  },
  {
   "cell_type": "code",
   "execution_count": null,
   "id": "5a187e9f-090a-48fc-a99d-134348d84274",
   "metadata": {},
   "outputs": [],
   "source": []
  },
  {
   "cell_type": "code",
   "execution_count": null,
   "id": "e1beff8d-d09c-4f96-9c7f-226f8b7a7912",
   "metadata": {},
   "outputs": [],
   "source": [
    "driver.close()"
   ]
  },
  {
   "cell_type": "code",
   "execution_count": null,
   "id": "ae98f91b-e053-4973-a199-7ce3da0b546a",
   "metadata": {},
   "outputs": [],
   "source": [
    "과제: 현재 상영중인 영화목록 전체를 가져와서 \n",
    "상세 페이지로 이동 후, 각 영화 리뷰의 (작성자, 내용, 날짜)를 데이터 프레임으로 만들어 보시오."
   ]
  },
  {
   "cell_type": "code",
   "execution_count": null,
   "id": "746ae84b-f1ba-4daf-85c4-c339fabcf015",
   "metadata": {},
   "outputs": [],
   "source": []
  },
  {
   "cell_type": "code",
   "execution_count": null,
   "id": "14895324-63e4-4c05-8a32-c0afb3a0ff64",
   "metadata": {},
   "outputs": [],
   "source": []
  },
  {
   "cell_type": "markdown",
   "id": "4a81515e-fbf1-4973-982c-af1426444fce",
   "metadata": {},
   "source": [
    "---------"
   ]
  },
  {
   "cell_type": "code",
   "execution_count": null,
   "id": "fff7c337-2489-4bb1-a0fd-a671a002b6b0",
   "metadata": {},
   "outputs": [],
   "source": [
    "# 강사님 코드\n",
    "import os\n",
    "import time\n",
    "from selenium import webdriver\n",
    "from selenium.webdriver.common.by import By\n",
    "from selenium.webdriver.common.keys import Keys\n",
    "from selenium.webdriver.chrome.service import Service\n",
    "from webdriver_manager.chrome import ChromeDriverManager\n",
    "from pytube import YouTube\n",
    "\n",
    "driver = webdriver.Chrome(service=Service(ChromeDriverManager().install()))\n",
    "driver.get('https://www.youtube.com/channel/UCEI1bBdeeDFPZK5tguqPjqA/videos')\n",
    "body = driver.find_element(By.CSS_SELECTOR,'body')\n",
    "\n",
    "for i in range(10):\n",
    "    body.send_keys(Keys.PAGE_DOWN)\n",
    "    time.sleep(1)\n",
    "ele = driver.find_elements(By.CSS_SELECTOR,'#content a#thumbnail')\n",
    "for i in ele:\n",
    "    link = i.get_attribute('href')\n",
    "    if(link):\n",
    "        try:\n",
    "            yt = YouTube(link)\n",
    "            stream = yt.streams.get_by_itag(22)\n",
    "            print(yt.title)\n",
    "            stream.download(output_path='./videos')\n",
    "        except:\n",
    "                pass"
   ]
  },
  {
   "cell_type": "code",
   "execution_count": null,
   "id": "961f3b0e-d60a-4a27-bf20-e4ef0809751b",
   "metadata": {},
   "outputs": [],
   "source": []
  }
 ],
 "metadata": {
  "kernelspec": {
   "display_name": "Python 3 (ipykernel)",
   "language": "python",
   "name": "python3"
  },
  "language_info": {
   "codemirror_mode": {
    "name": "ipython",
    "version": 3
   },
   "file_extension": ".py",
   "mimetype": "text/x-python",
   "name": "python",
   "nbconvert_exporter": "python",
   "pygments_lexer": "ipython3",
   "version": "3.9.12"
  }
 },
 "nbformat": 4,
 "nbformat_minor": 5
}
