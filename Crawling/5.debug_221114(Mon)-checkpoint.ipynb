{
 "cells": [
  {
   "cell_type": "code",
   "execution_count": null,
   "id": "39f5c5f1-ff5e-4add-9546-c3896fa686b1",
   "metadata": {},
   "outputs": [],
   "source": [
    "for i in range(10) :\n",
    "    j = i ** 2\n",
    "    print(i, j)"
   ]
  },
  {
   "cell_type": "code",
   "execution_count": null,
   "id": "c60d5d77-6c07-4201-a47f-5a429ab2fae1",
   "metadata": {},
   "outputs": [
    {
     "name": "stdout",
     "output_type": "stream",
     "text": [
      "0\n",
      "1\n",
      "2\n",
      "3\n",
      "4\n",
      "5\n",
      "6\n",
      "7\n",
      "8\n",
      "9\n",
      "1\n",
      "2\n",
      "3\n",
      "4\n",
      "5\n",
      "6\n",
      "7\n",
      "8\n",
      "9\n",
      "10\n",
      "2\n",
      "3\n",
      "4\n",
      "5\n",
      "6\n",
      "7\n",
      "8\n",
      "9\n",
      "10\n",
      "11\n",
      "3\n",
      "4\n",
      "5\n",
      "6\n",
      "7\n",
      "8\n",
      "9\n",
      "10\n",
      "11\n",
      "12\n",
      "4\n"
     ]
    }
   ],
   "source": [
    "for i in range(10) :\n",
    "    for j in range(10) :\n",
    "        for k in range(10) :\n",
    "            print(i+j+k) "
   ]
  },
  {
   "cell_type": "code",
   "execution_count": null,
   "id": "43968bb1-a0ef-4800-8f6f-2352e745e134",
   "metadata": {},
   "outputs": [],
   "source": []
  }
 ],
 "metadata": {
  "kernelspec": {
   "display_name": "Python 3 (ipykernel)",
   "language": "python",
   "name": "python3"
  },
  "language_info": {
   "codemirror_mode": {
    "name": "ipython",
    "version": 3
   },
   "file_extension": ".py",
   "mimetype": "text/x-python",
   "name": "python",
   "nbconvert_exporter": "python",
   "pygments_lexer": "ipython3",
   "version": "3.9.12"
  }
 },
 "nbformat": 4,
 "nbformat_minor": 5
}
