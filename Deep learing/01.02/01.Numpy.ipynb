{
 "cells": [
  {
   "cell_type": "code",
   "execution_count": 1,
   "id": "f20c30a0-4ed6-459d-a518-ce03e6fe60cd",
   "metadata": {},
   "outputs": [],
   "source": [
    "import numpy as np"
   ]
  },
  {
   "cell_type": "markdown",
   "id": "836b5295-d9ed-47ff-ac08-c9cd423051eb",
   "metadata": {},
   "source": [
    "## Numpy 연산"
   ]
  },
  {
   "cell_type": "code",
   "execution_count": 3,
   "id": "4f5c6e8f-618d-4aa1-9c15-cfdb1621c8d7",
   "metadata": {},
   "outputs": [],
   "source": [
    "A = np.array([[1,2],[3,4]])\n",
    "B = np.array([[3,1],[1,6]])"
   ]
  },
  {
   "cell_type": "code",
   "execution_count": 7,
   "id": "275d7043-e7b4-40d1-a085-a72298529542",
   "metadata": {},
   "outputs": [
    {
     "data": {
      "text/plain": [
       "array([[1, 2],\n",
       "       [3, 4]])"
      ]
     },
     "execution_count": 7,
     "metadata": {},
     "output_type": "execute_result"
    }
   ],
   "source": [
    "A"
   ]
  },
  {
   "cell_type": "code",
   "execution_count": 8,
   "id": "0fd28c46-e4e0-4860-8c23-16946a523d39",
   "metadata": {},
   "outputs": [
    {
     "data": {
      "text/plain": [
       "array([[3, 1],\n",
       "       [1, 6]])"
      ]
     },
     "execution_count": 8,
     "metadata": {},
     "output_type": "execute_result"
    }
   ],
   "source": [
    "B"
   ]
  },
  {
   "cell_type": "code",
   "execution_count": 9,
   "id": "7fde43d7-50c1-4d95-9e33-ea887d0020e7",
   "metadata": {},
   "outputs": [
    {
     "data": {
      "text/plain": [
       "array([[ 4,  3],\n",
       "       [ 4, 10]])"
      ]
     },
     "execution_count": 9,
     "metadata": {},
     "output_type": "execute_result"
    }
   ],
   "source": [
    "A+B"
   ]
  },
  {
   "cell_type": "code",
   "execution_count": 11,
   "id": "2b445e2e-a928-456e-8376-e3162622e965",
   "metadata": {},
   "outputs": [
    {
     "data": {
      "text/plain": [
       "array([[ 3,  2],\n",
       "       [ 3, 24]])"
      ]
     },
     "execution_count": 11,
     "metadata": {},
     "output_type": "execute_result"
    }
   ],
   "source": [
    "A*B"
   ]
  },
  {
   "cell_type": "code",
   "execution_count": 13,
   "id": "480a309b-8a01-4c64-9a65-555642107ee9",
   "metadata": {},
   "outputs": [],
   "source": [
    "C = 10 "
   ]
  },
  {
   "cell_type": "code",
   "execution_count": 14,
   "id": "9a5c6556-0775-436f-8540-7831c30c9e48",
   "metadata": {},
   "outputs": [
    {
     "data": {
      "text/plain": [
       "array([[11, 12],\n",
       "       [13, 14]])"
      ]
     },
     "execution_count": 14,
     "metadata": {},
     "output_type": "execute_result"
    }
   ],
   "source": [
    "A+C"
   ]
  },
  {
   "cell_type": "code",
   "execution_count": 15,
   "id": "84ba2fd5-3e8a-4601-9282-ae7db363ba95",
   "metadata": {},
   "outputs": [],
   "source": [
    "D = np.array([10,20])"
   ]
  },
  {
   "cell_type": "code",
   "execution_count": 17,
   "id": "78d0b190-dd3d-43d6-b567-b7a8d31fab21",
   "metadata": {},
   "outputs": [
    {
     "data": {
      "text/plain": [
       "array([[11, 22],\n",
       "       [13, 24]])"
      ]
     },
     "execution_count": 17,
     "metadata": {},
     "output_type": "execute_result"
    }
   ],
   "source": [
    "A+D"
   ]
  },
  {
   "cell_type": "code",
   "execution_count": 19,
   "id": "c1d101c5-a202-40de-b3ad-8bc07fc614fa",
   "metadata": {},
   "outputs": [
    {
     "data": {
      "text/plain": [
       "array([[ 5, 13],\n",
       "       [13, 27]])"
      ]
     },
     "execution_count": 19,
     "metadata": {},
     "output_type": "execute_result"
    }
   ],
   "source": [
    "np.dot(A,B) #행렬의 내적 / A*B와 다름 혼동될수 있음."
   ]
  },
  {
   "cell_type": "code",
   "execution_count": 26,
   "id": "a990eb61-c526-4886-a4d9-b08439bb1f05",
   "metadata": {},
   "outputs": [
    {
     "data": {
      "text/plain": [
       "array([ 50, 110])"
      ]
     },
     "execution_count": 26,
     "metadata": {},
     "output_type": "execute_result"
    }
   ],
   "source": [
    "np.dot(A,D)"
   ]
  },
  {
   "cell_type": "code",
   "execution_count": 35,
   "id": "c160c339-e339-4dd8-beae-04db39e9cd23",
   "metadata": {},
   "outputs": [],
   "source": [
    "E = np.array,([[1],[3],[5]])"
   ]
  },
  {
   "cell_type": "code",
   "execution_count": 38,
   "id": "31307051-96f6-4f0d-ad7e-3bf8062ac94c",
   "metadata": {},
   "outputs": [
    {
     "data": {
      "text/plain": [
       "array([[1, 2],\n",
       "       [3, 4]])"
      ]
     },
     "execution_count": 38,
     "metadata": {},
     "output_type": "execute_result"
    }
   ],
   "source": [
    "A"
   ]
  },
  {
   "cell_type": "code",
   "execution_count": 39,
   "id": "3b84b7e8-0c78-4b81-9d52-7dd84d686db6",
   "metadata": {},
   "outputs": [
    {
     "data": {
      "text/plain": [
       "(<function numpy.array>, [[1], [3], [5]])"
      ]
     },
     "execution_count": 39,
     "metadata": {},
     "output_type": "execute_result"
    }
   ],
   "source": [
    "E"
   ]
  },
  {
   "cell_type": "code",
   "execution_count": 37,
   "id": "7322c59a-5fe7-4674-9262-604db86cb6ca",
   "metadata": {},
   "outputs": [
    {
     "name": "stderr",
     "output_type": "stream",
     "text": [
      "<__array_function__ internals>:5: VisibleDeprecationWarning: Creating an ndarray from ragged nested sequences (which is a list-or-tuple of lists-or-tuples-or ndarrays with different lengths or shapes) is deprecated. If you meant to do this, you must specify 'dtype=object' when creating the ndarray.\n"
     ]
    },
    {
     "ename": "TypeError",
     "evalue": "unsupported operand type(s) for *: 'int' and 'builtin_function_or_method'",
     "output_type": "error",
     "traceback": [
      "\u001b[1;31m---------------------------------------------------------------------------\u001b[0m",
      "\u001b[1;31mTypeError\u001b[0m                                 Traceback (most recent call last)",
      "Cell \u001b[1;32mIn[37], line 1\u001b[0m\n\u001b[1;32m----> 1\u001b[0m \u001b[43mnp\u001b[49m\u001b[38;5;241;43m.\u001b[39;49m\u001b[43mdot\u001b[49m\u001b[43m(\u001b[49m\u001b[43mA\u001b[49m\u001b[43m,\u001b[49m\u001b[43mE\u001b[49m\u001b[43m)\u001b[49m\n",
      "File \u001b[1;32m<__array_function__ internals>:5\u001b[0m, in \u001b[0;36mdot\u001b[1;34m(*args, **kwargs)\u001b[0m\n",
      "\u001b[1;31mTypeError\u001b[0m: unsupported operand type(s) for *: 'int' and 'builtin_function_or_method'"
     ]
    }
   ],
   "source": [
    "np.dot(A,E)"
   ]
  },
  {
   "cell_type": "code",
   "execution_count": null,
   "id": "d968c138-bcf0-4fe0-b546-3deabfad773d",
   "metadata": {},
   "outputs": [],
   "source": []
  }
 ],
 "metadata": {
  "kernelspec": {
   "display_name": "Python 3 (ipykernel)",
   "language": "python",
   "name": "python3"
  },
  "language_info": {
   "codemirror_mode": {
    "name": "ipython",
    "version": 3
   },
   "file_extension": ".py",
   "mimetype": "text/x-python",
   "name": "python",
   "nbconvert_exporter": "python",
   "pygments_lexer": "ipython3",
   "version": "3.9.15"
  }
 },
 "nbformat": 4,
 "nbformat_minor": 5
}
