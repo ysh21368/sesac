{
 "cells": [
  {
   "cell_type": "code",
   "execution_count": 25,
   "id": "393cddef-5ca8-4261-b4d9-1e5f7bb40f71",
   "metadata": {},
   "outputs": [],
   "source": [
    "def AND(x1, x2) :\n",
    "    w1, w2, theta = 0.5, 0.5, 0.7\n",
    "    tmp = x1 * w1 + x2* w2\n",
    "    \n",
    "    if tmp <= theta :\n",
    "        return 0\n",
    "    elif tmp > theta :\n",
    "        return 1"
   ]
  },
  {
   "cell_type": "code",
   "execution_count": 26,
   "id": "faa53ea0-4fb7-4591-b027-4d2dfd8a372b",
   "metadata": {},
   "outputs": [
    {
     "name": "stdout",
     "output_type": "stream",
     "text": [
      "AND(0,0) : 0\n",
      "AND(1,0) : 0\n",
      "AND(0,1) : 0\n",
      "AND(1,1) : 1\n"
     ]
    }
   ],
   "source": [
    "print(\"AND(0,0) :\", AND(0,0))\n",
    "print(\"AND(1,0) :\", AND(1,0))\n",
    "print(\"AND(0,1) :\", AND(0,1))\n",
    "print(\"AND(1,1) :\", AND(1,1))"
   ]
  },
  {
   "cell_type": "code",
   "execution_count": 58,
   "id": "f050ad55-e0a4-496f-8993-6da13bbd43b7",
   "metadata": {},
   "outputs": [],
   "source": [
    "def NAND(x1, x2) :\n",
    "    w1, w2, theta = -0.5, -0.5, -0.7\n",
    "    tmp = x1 * w1 + x2* w2\n",
    "    \n",
    "    if tmp <= theta :\n",
    "        return 0\n",
    "    elif tmp > theta :\n",
    "        return 1"
   ]
  },
  {
   "cell_type": "code",
   "execution_count": 59,
   "id": "ac49c135-439a-4500-904b-c6dd2b49c662",
   "metadata": {},
   "outputs": [
    {
     "name": "stdout",
     "output_type": "stream",
     "text": [
      "NAND(0,0) : 1\n",
      "NAND(1,0) : 1\n",
      "NAND(0,1) : 1\n",
      "NAND(1,1) : 0\n"
     ]
    }
   ],
   "source": [
    "print(\"NAND(0,0) :\", NAND(0,0))\n",
    "print(\"NAND(1,0) :\", NAND(1,0))\n",
    "print(\"NAND(0,1) :\", NAND(0,1))\n",
    "print(\"NAND(1,1) :\", NAND(1,1))"
   ]
  },
  {
   "cell_type": "code",
   "execution_count": 62,
   "id": "dedb6675-8e36-4dc6-a2f4-9722b27cb833",
   "metadata": {},
   "outputs": [],
   "source": [
    "def OR(x1, x2) :\n",
    "    w1, w2, theta = 0.5, 0.5, 0.3\n",
    "    tmp = x1 * w1 + x2* w2\n",
    "    \n",
    "    if tmp <= theta :\n",
    "        return 0\n",
    "    elif tmp > theta :\n",
    "        return 1"
   ]
  },
  {
   "cell_type": "code",
   "execution_count": 63,
   "id": "4aa3227b-250a-46aa-ae6e-a576f5552962",
   "metadata": {},
   "outputs": [
    {
     "name": "stdout",
     "output_type": "stream",
     "text": [
      "OR(0,0) : 0\n",
      "OR(1,0) : 1\n",
      "OR(0,1) : 1\n",
      "OR(1,1) : 1\n"
     ]
    }
   ],
   "source": [
    "print(\"OR(0,0) :\", OR(0,0))\n",
    "print(\"OR(1,0) :\", OR(1,0))\n",
    "print(\"OR(0,1) :\", OR(0,1))\n",
    "print(\"OR(1,1) :\", OR(1,1))"
   ]
  },
  {
   "cell_type": "code",
   "execution_count": null,
   "id": "c208ec53-70ac-4ea9-bec6-aecf0be59713",
   "metadata": {},
   "outputs": [],
   "source": [
    "x = np.array([x1, x2])\n",
    "w = np.array([w1, w2])\n",
    "b = −θ\n",
    "tmp = np.sum(w*x) + b"
   ]
  },
  {
   "cell_type": "code",
   "execution_count": 84,
   "id": "943077c5-8233-4da1-ba72-b5bb710030d6",
   "metadata": {},
   "outputs": [],
   "source": [
    "import numpy as np"
   ]
  },
  {
   "cell_type": "code",
   "execution_count": 92,
   "id": "4906058f-9aee-483a-aabe-fb7752e4c62e",
   "metadata": {},
   "outputs": [],
   "source": [
    "def AND_(x1, x2) :\n",
    "    w1, w2, theta = 0.5, 0.5, 0.7\n",
    "    x = np.array([x1, x2])\n",
    "    w = np.array([w1, w2])\n",
    "    b = -theta\n",
    "    tmp = np.sum(w * x) + b\n",
    "    \n",
    "    if tmp <= 0  :\n",
    "        return 0\n",
    "    elif tmp > 0 :\n",
    "        return 1"
   ]
  },
  {
   "cell_type": "code",
   "execution_count": 93,
   "id": "ad223857-7c8e-4851-9186-9dab2120bf99",
   "metadata": {},
   "outputs": [
    {
     "name": "stdout",
     "output_type": "stream",
     "text": [
      "AND(0,0) : 0\n",
      "AND(1,0) : 0\n",
      "AND(0,1) : 0\n",
      "AND(1,1) : 1\n"
     ]
    }
   ],
   "source": [
    "print(\"AND(0,0) :\", AND_(0,0))\n",
    "print(\"AND(1,0) :\", AND_(1,0))\n",
    "print(\"AND(0,1) :\", AND_(0,1))\n",
    "print(\"AND(1,1) :\", AND_(1,1))"
   ]
  },
  {
   "cell_type": "code",
   "execution_count": 94,
   "id": "3b42eaa7-e930-444b-af5a-4e7023539ee3",
   "metadata": {},
   "outputs": [],
   "source": [
    "def NAND_(x1, x2) :\n",
    "    w1, w2, theta = -0.5, -0.5, -0.7\n",
    "    x = np.array([x1, x2])\n",
    "    w = np.array([w1, w2])\n",
    "    b = -theta\n",
    "    tmp = np.sum(w * x) + b\n",
    "    \n",
    "    if tmp <= 0  :\n",
    "        return 0\n",
    "    elif tmp > 0 :\n",
    "        return 1"
   ]
  },
  {
   "cell_type": "code",
   "execution_count": 95,
   "id": "45d1e42e-cf79-49e5-b889-31fe09658a5e",
   "metadata": {},
   "outputs": [
    {
     "name": "stdout",
     "output_type": "stream",
     "text": [
      "NAND(0,0) : 1\n",
      "NAND(1,0) : 1\n",
      "NAND(0,1) : 1\n",
      "NAND(1,1) : 0\n"
     ]
    }
   ],
   "source": [
    "print(\"NAND(0,0) :\", NAND_(0,0))\n",
    "print(\"NAND(1,0) :\", NAND_(1,0))\n",
    "print(\"NAND(0,1) :\", NAND_(0,1))\n",
    "print(\"NAND(1,1) :\", NAND_(1,1))"
   ]
  },
  {
   "cell_type": "code",
   "execution_count": 98,
   "id": "759fc00a-8404-4e39-891b-ac017e744603",
   "metadata": {},
   "outputs": [],
   "source": [
    "def OR_(x1, x2) :\n",
    "    w1, w2, theta = 0.5, 0.5, 0.3\n",
    "    x = np.array([x1, x2])\n",
    "    w = np.array([w1, w2])\n",
    "    b = -theta\n",
    "    tmp = np.sum(w * x) + b\n",
    "    \n",
    "    if tmp <= 0  :\n",
    "        return 0\n",
    "    elif tmp > 0 :\n",
    "        return 1"
   ]
  },
  {
   "cell_type": "code",
   "execution_count": 99,
   "id": "ef8d154f-152d-465e-8e07-fdd64a168419",
   "metadata": {},
   "outputs": [
    {
     "name": "stdout",
     "output_type": "stream",
     "text": [
      "OR(0,0) : 0\n",
      "OR(1,0) : 1\n",
      "OR(0,1) : 1\n",
      "OR(1,1) : 1\n"
     ]
    }
   ],
   "source": [
    "print(\"OR(0,0) :\", OR_(0,0))\n",
    "print(\"OR(1,0) :\", OR_(1,0))\n",
    "print(\"OR(0,1) :\", OR_(0,1))\n",
    "print(\"OR(1,1) :\", OR_(1,1))"
   ]
  },
  {
   "cell_type": "code",
   "execution_count": 101,
   "id": "4562c435-4a0b-41ba-9a55-eaf4a5260de5",
   "metadata": {},
   "outputs": [],
   "source": [
    "def XOR(x1, x2) :\n",
    "    s1 = NAND(x1,x2) \n",
    "    s2 = OR(x1,x2)\n",
    "    y = AND(s1,s2)\n",
    "    return y    "
   ]
  },
  {
   "cell_type": "code",
   "execution_count": 103,
   "id": "db74d5e1-6cc7-4fec-b7d8-ac31bc1405e7",
   "metadata": {},
   "outputs": [
    {
     "name": "stdout",
     "output_type": "stream",
     "text": [
      "XOR(0,0) : 1\n",
      "XOR(1,0) : 1\n",
      "XOR(0,1) : 1\n",
      "XOR(1,1) : 0\n"
     ]
    }
   ],
   "source": [
    "print(\"XOR(0,0) :\", XOR(0,0))\n",
    "print(\"XOR(1,0) :\", XOR(1,0))\n",
    "print(\"XOR(0,1) :\", XOR(0,1))\n",
    "print(\"XOR(1,1) :\", XOR(1,1))"
   ]
  }
 ],
 "metadata": {
  "kernelspec": {
   "display_name": "Python 3 (ipykernel)",
   "language": "python",
   "name": "python3"
  },
  "language_info": {
   "codemirror_mode": {
    "name": "ipython",
    "version": 3
   },
   "file_extension": ".py",
   "mimetype": "text/x-python",
   "name": "python",
   "nbconvert_exporter": "python",
   "pygments_lexer": "ipython3",
   "version": "3.9.15"
  }
 },
 "nbformat": 4,
 "nbformat_minor": 5
}
