{
 "cells": [
  {
   "cell_type": "markdown",
   "id": "a60e8532-46b7-4752-99fe-1e34f4bb1553",
   "metadata": {},
   "source": [
    "## 활성화함수"
   ]
  },
  {
   "cell_type": "code",
   "execution_count": 1,
   "id": "6cf99005-36c2-4ed1-8c81-c7c44a050eab",
   "metadata": {},
   "outputs": [],
   "source": [
    "import numpy as np"
   ]
  },
  {
   "cell_type": "code",
   "execution_count": 3,
   "id": "140d170a-11a4-4a1a-85c2-7ae23e05c9d1",
   "metadata": {},
   "outputs": [],
   "source": [
    "def step_function(x):\n",
    "    if x > 0:\n",
    "        return 1\n",
    "    elif x <= 0 :\n",
    "        return 0"
   ]
  },
  {
   "cell_type": "code",
   "execution_count": 5,
   "id": "3cf37255-a059-43a4-b80a-cd4616c5e4e1",
   "metadata": {},
   "outputs": [
    {
     "data": {
      "text/plain": [
       "1"
      ]
     },
     "execution_count": 5,
     "metadata": {},
     "output_type": "execute_result"
    }
   ],
   "source": [
    "step_function(3)"
   ]
  },
  {
   "cell_type": "markdown",
   "id": "84f016f9-c94c-4b12-b796-9464c03315de",
   "metadata": {},
   "source": [
    "## Numpy를 활용한 계단함수"
   ]
  },
  {
   "cell_type": "code",
   "execution_count": 13,
   "id": "dfe50f50-dca0-41e6-abf5-1d3d382a795c",
   "metadata": {},
   "outputs": [],
   "source": [
    "x = np.array([-1.0, 5.0, 2.0])"
   ]
  },
  {
   "cell_type": "code",
   "execution_count": 14,
   "id": "856492c7-cf80-4add-b60b-24f6ca7c733e",
   "metadata": {},
   "outputs": [],
   "source": [
    "y = x >0"
   ]
  },
  {
   "cell_type": "code",
   "execution_count": 15,
   "id": "6b0f8981-abe9-4a65-baca-c5aa1ee0b690",
   "metadata": {},
   "outputs": [
    {
     "data": {
      "text/plain": [
       "array([False,  True,  True])"
      ]
     },
     "execution_count": 15,
     "metadata": {},
     "output_type": "execute_result"
    }
   ],
   "source": [
    "y"
   ]
  },
  {
   "cell_type": "code",
   "execution_count": 17,
   "id": "e3edbfc3-1a79-4a23-9689-00c891b7fdd2",
   "metadata": {},
   "outputs": [
    {
     "data": {
      "text/plain": [
       "array([0, 1, 1], dtype=int64)"
      ]
     },
     "execution_count": 17,
     "metadata": {},
     "output_type": "execute_result"
    }
   ],
   "source": [
    "y.astype(np.int64)"
   ]
  },
  {
   "cell_type": "code",
   "execution_count": 18,
   "id": "aa07dc3b-d4ba-4026-b58a-d3da61fba867",
   "metadata": {},
   "outputs": [],
   "source": [
    "def step_function(x):\n",
    "    y = x > 0 \n",
    "    return y.astype(np.int64)"
   ]
  },
  {
   "cell_type": "code",
   "execution_count": 19,
   "id": "896ac104-a597-4da6-b01e-9b7bb9bded1d",
   "metadata": {},
   "outputs": [
    {
     "data": {
      "text/plain": [
       "array([0, 1, 1], dtype=int64)"
      ]
     },
     "execution_count": 19,
     "metadata": {},
     "output_type": "execute_result"
    }
   ],
   "source": [
    "x =np.array([-1.0,5.0,2.0])\n",
    "step_function(x)"
   ]
  },
  {
   "cell_type": "markdown",
   "id": "6a906ae4-9665-4dea-adf7-a5aa38761427",
   "metadata": {},
   "source": [
    "##### 계단함수는 미분이 안됨 / 시그모이드 함수는 미분이 가능"
   ]
  },
  {
   "cell_type": "markdown",
   "id": "452492fb-75ce-44b0-a326-d20a65853b31",
   "metadata": {},
   "source": [
    "## 시그모이드 함수"
   ]
  },
  {
   "cell_type": "code",
   "execution_count": 25,
   "id": "69ce31c5-9758-4de1-8d1d-db1cfe31b7aa",
   "metadata": {},
   "outputs": [],
   "source": [
    "def sigmoid(x):\n",
    "    return 1 / (1+ np.exp(-x))"
   ]
  },
  {
   "cell_type": "code",
   "execution_count": 35,
   "id": "704f25a3-d8e8-4663-8fdb-a6b5dc9244be",
   "metadata": {},
   "outputs": [
    {
     "data": {
      "text/plain": [
       "array([0.26894142, 0.5       , 0.99330715, 0.88079708])"
      ]
     },
     "execution_count": 35,
     "metadata": {},
     "output_type": "execute_result"
    }
   ],
   "source": [
    "x =np.array([-1.0,0,5.0,2.0])\n",
    "sigmoid(x)"
   ]
  },
  {
   "cell_type": "markdown",
   "id": "ff3f4b47-a5ec-4232-a3f0-67bb3f177d74",
   "metadata": {},
   "source": [
    "## RELU 함수 구현"
   ]
  },
  {
   "cell_type": "code",
   "execution_count": 38,
   "id": "ce84c293-617c-4636-8a8d-afe8e1672d73",
   "metadata": {},
   "outputs": [],
   "source": [
    "def relu(X):\n",
    "    return np.maximum(0,x)"
   ]
  },
  {
   "cell_type": "code",
   "execution_count": 40,
   "id": "4eaa3656-9910-4662-ba2a-ee500933fe95",
   "metadata": {},
   "outputs": [
    {
     "data": {
      "text/plain": [
       "array([  0.,   0.,   5.,   2., 100.])"
      ]
     },
     "execution_count": 40,
     "metadata": {},
     "output_type": "execute_result"
    }
   ],
   "source": [
    "x =np.array([-1.0,0,5.0,2.0,100.0])\n",
    "relu(x)"
   ]
  },
  {
   "cell_type": "code",
   "execution_count": null,
   "id": "6c53939f-5e92-4e94-8ebb-9d04638bb963",
   "metadata": {},
   "outputs": [],
   "source": []
  }
 ],
 "metadata": {
  "kernelspec": {
   "display_name": "Python 3 (ipykernel)",
   "language": "python",
   "name": "python3"
  },
  "language_info": {
   "codemirror_mode": {
    "name": "ipython",
    "version": 3
   },
   "file_extension": ".py",
   "mimetype": "text/x-python",
   "name": "python",
   "nbconvert_exporter": "python",
   "pygments_lexer": "ipython3",
   "version": "3.9.15"
  }
 },
 "nbformat": 4,
 "nbformat_minor": 5
}
