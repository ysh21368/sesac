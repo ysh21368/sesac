{
 "cells": [
  {
   "cell_type": "code",
   "execution_count": 1,
   "id": "0925cb66-4ec2-4a2b-ad26-cdf867fc6ca3",
   "metadata": {},
   "outputs": [],
   "source": [
    "import numpy as np"
   ]
  },
  {
   "cell_type": "code",
   "execution_count": 2,
   "id": "0cec8cd6-f57f-4ea4-9715-0dd0b7305b43",
   "metadata": {},
   "outputs": [],
   "source": [
    "X  =np.array([1,2])\n",
    "W = np.array([[1,3,5],[2,4,6]])"
   ]
  },
  {
   "cell_type": "code",
   "execution_count": 3,
   "id": "4a87e317-b95b-44b7-833c-ea7f03a7ae90",
   "metadata": {},
   "outputs": [],
   "source": [
    "Y = np.dot(X,W)"
   ]
  },
  {
   "cell_type": "code",
   "execution_count": 5,
   "id": "bed7e844-690d-4928-b61f-5353c40327c2",
   "metadata": {},
   "outputs": [],
   "source": [
    "B = np.array([1,1,1])"
   ]
  },
  {
   "cell_type": "code",
   "execution_count": 13,
   "id": "e2660036-9aba-4471-8d00-1c698eace35a",
   "metadata": {},
   "outputs": [],
   "source": [
    "\n",
    "X1 = np.array([1.0,0.5])\n",
    "W1 = np.array([[0.1,0.3,0.5],[0.2,0.4,0.6]])\n",
    "B1 = np.array([0.1,0.2,0.3])\n",
    "A1 = np.dot(X1,W1)+B1"
   ]
  },
  {
   "cell_type": "code",
   "execution_count": 14,
   "id": "ff9133fe-9dd6-477e-ac2c-923895fcf1ba",
   "metadata": {},
   "outputs": [
    {
     "data": {
      "text/plain": [
       "array([0.3, 0.7, 1.1])"
      ]
     },
     "execution_count": 14,
     "metadata": {},
     "output_type": "execute_result"
    }
   ],
   "source": [
    "A1"
   ]
  },
  {
   "cell_type": "markdown",
   "id": "dbd3dac0-09bf-49c7-96d5-88146e4d9f74",
   "metadata": {},
   "source": [
    "## 1층"
   ]
  },
  {
   "cell_type": "code",
   "execution_count": 16,
   "id": "133e5f6d-887e-4300-bb67-123e76e5e06c",
   "metadata": {},
   "outputs": [],
   "source": [
    "X = np.array([1.0,0.5])\n",
    "W1 = np.array([[0.1,0.3,0.5],[0.2,0.4,0.6]])\n",
    "B1 = np.array([0.1,0.2,0.3])\n",
    "A1 = np.dot(X1,W1)+B1"
   ]
  },
  {
   "cell_type": "code",
   "execution_count": 18,
   "id": "04a57eb5-d2db-4e81-8e59-e1cc303e22d3",
   "metadata": {},
   "outputs": [],
   "source": [
    "def sigmoid(x):\n",
    "    return 1 / (1+ np.exp(-x))"
   ]
  },
  {
   "cell_type": "code",
   "execution_count": 21,
   "id": "f7c33967-7ff2-418f-aee0-d8065600bd73",
   "metadata": {},
   "outputs": [],
   "source": [
    "Z1 = sigmoid(A1)"
   ]
  },
  {
   "cell_type": "markdown",
   "id": "0971baff-d613-4025-80ae-ce6a8229554c",
   "metadata": {},
   "source": [
    "## 2층"
   ]
  },
  {
   "cell_type": "code",
   "execution_count": 29,
   "id": "66a43ce8-e1be-4049-a61a-183f9e146421",
   "metadata": {},
   "outputs": [],
   "source": [
    "B2 = np.array([0.1,0.2])\n",
    "W2 = np.array([[0.1,0.4],[0.2,0.5],[0.3,0.6]])\n",
    "A2 = np.dot(Z1,W2)+B2"
   ]
  },
  {
   "cell_type": "code",
   "execution_count": 32,
   "id": "5e91b22f-7036-4046-8105-9b5ac36626d9",
   "metadata": {},
   "outputs": [],
   "source": [
    "Z2 = sigmoid(A2)"
   ]
  },
  {
   "cell_type": "code",
   "execution_count": 33,
   "id": "3feb4c9b-111a-405e-954c-228a15a3993c",
   "metadata": {},
   "outputs": [
    {
     "data": {
      "text/plain": [
       "array([0.62624937, 0.7710107 ])"
      ]
     },
     "execution_count": 33,
     "metadata": {},
     "output_type": "execute_result"
    }
   ],
   "source": [
    "Z2"
   ]
  },
  {
   "cell_type": "markdown",
   "id": "88a561c3-2704-412c-9597-b427ab7a999b",
   "metadata": {},
   "source": [
    "## 3층"
   ]
  },
  {
   "cell_type": "code",
   "execution_count": 38,
   "id": "4c2b82cc-86b9-415c-8f42-089eb49d8b41",
   "metadata": {},
   "outputs": [],
   "source": [
    "W3 = np.array([[0.1,0.3],[0.2,0.4]])\n",
    "B3 = np.array([0.1,0.2])\n",
    "A3 = np.dot(Z2,W3)+B3"
   ]
  },
  {
   "cell_type": "code",
   "execution_count": 42,
   "id": "931f0704-7aa6-45e9-a65e-2b0c97563e9b",
   "metadata": {},
   "outputs": [
    {
     "data": {
      "text/plain": [
       "array([0.31682708, 0.69627909])"
      ]
     },
     "execution_count": 42,
     "metadata": {},
     "output_type": "execute_result"
    }
   ],
   "source": [
    "A3"
   ]
  },
  {
   "cell_type": "code",
   "execution_count": 43,
   "id": "b7d3f536-56e7-433d-a90f-763d8ba4ef62",
   "metadata": {},
   "outputs": [],
   "source": [
    "def identity_function(x):\n",
    "    return x"
   ]
  },
  {
   "cell_type": "code",
   "execution_count": 44,
   "id": "5736dcc4-1907-4e5f-9b08-2d2836bd1586",
   "metadata": {},
   "outputs": [],
   "source": [
    "Y = identity_function(A3)"
   ]
  },
  {
   "cell_type": "code",
   "execution_count": 45,
   "id": "d12c2574-d032-4fd2-8aaa-3ff00244d8ab",
   "metadata": {},
   "outputs": [
    {
     "data": {
      "text/plain": [
       "array([0.31682708, 0.69627909])"
      ]
     },
     "execution_count": 45,
     "metadata": {},
     "output_type": "execute_result"
    }
   ],
   "source": [
    "Y"
   ]
  },
  {
   "cell_type": "markdown",
   "id": "1b24920a-75bb-437c-8ba9-e9eec52e9cb0",
   "metadata": {},
   "source": [
    "## 전체코드"
   ]
  },
  {
   "cell_type": "code",
   "execution_count": 46,
   "id": "3c7f02a5-3f38-4ce0-83d7-a484cf35c711",
   "metadata": {},
   "outputs": [],
   "source": [
    "def sigmoid(x):\n",
    "    return 1 / (1+ np.exp(-x))"
   ]
  },
  {
   "cell_type": "code",
   "execution_count": 47,
   "id": "7492d209-4aa5-458d-a62e-90e85be309f5",
   "metadata": {},
   "outputs": [],
   "source": [
    "def identity_function(x):\n",
    "    return x"
   ]
  },
  {
   "cell_type": "code",
   "execution_count": 58,
   "id": "7465326c-f0db-452c-9019-475c3e2a68d2",
   "metadata": {},
   "outputs": [],
   "source": [
    "def init_network(): #마지막 출력값\n",
    "    network = {}\n",
    "    \n",
    "    network['W1'] = np.array([[0.1,0.3,0.5],[0.2,0.4,0.6]])\n",
    "    network['b1'] = np.array([0.1,0.2,0.3])\n",
    "    \n",
    "    network['W2'] = np.array([[0.1,0.4],[0.2,0.5],[0.3,0.6]])\n",
    "    network['b2'] = np.array([0.1,0.2])\n",
    "    \n",
    "    network['W3'] = np.array([[0.1,0.3],[0.2,0.4]])\n",
    "    network['b3'] = np.array([0.1,0.2])\n",
    "    \n",
    "    return network"
   ]
  },
  {
   "cell_type": "code",
   "execution_count": 63,
   "id": "0c08d798-b556-4378-8946-d15c2fb0fa83",
   "metadata": {},
   "outputs": [],
   "source": [
    "def forward(network, x) :\n",
    "    W1, W2, W3 = network['W1'], network['W2'], network['W3']\n",
    "    b1, b2, b3 = network['b1'], network['b2'], network['b3']\n",
    "    \n",
    "    a1 = np.dot(x,W1) + b1\n",
    "    z1 = sigmoid(a1)\n",
    "    \n",
    "    a2 = np.dot(z1,W2) + b2\n",
    "    z2 = sigmoid(a2)\n",
    "    \n",
    "    a3 = np.dot(z2,W3) + b3\n",
    "    y = identity_function(a3)\n",
    "    \n",
    "    return y"
   ]
  },
  {
   "cell_type": "code",
   "execution_count": 64,
   "id": "c9d22e63-ff51-47ef-8ea0-e53f2562e3b8",
   "metadata": {},
   "outputs": [],
   "source": [
    "network = init_network()"
   ]
  },
  {
   "cell_type": "code",
   "execution_count": 65,
   "id": "d214418b-3d8b-475c-9131-f958d4b7768e",
   "metadata": {},
   "outputs": [],
   "source": [
    "x = np.array([1.0,0.5])"
   ]
  },
  {
   "cell_type": "code",
   "execution_count": 66,
   "id": "3e98049d-3724-4c0b-a35a-1dcf7bd1ba56",
   "metadata": {},
   "outputs": [],
   "source": [
    "y = forward(network,x)"
   ]
  },
  {
   "cell_type": "code",
   "execution_count": 67,
   "id": "7f09b2c1-b841-424b-8db1-1d2d18eb4b0a",
   "metadata": {},
   "outputs": [
    {
     "data": {
      "text/plain": [
       "array([0.31682708, 0.69627909])"
      ]
     },
     "execution_count": 67,
     "metadata": {},
     "output_type": "execute_result"
    }
   ],
   "source": [
    "y"
   ]
  },
  {
   "cell_type": "markdown",
   "id": "4961676e-9544-4aa4-8a61-a7e9d251710a",
   "metadata": {},
   "source": [
    "## 소프트 맥스 함수"
   ]
  },
  {
   "cell_type": "code",
   "execution_count": 68,
   "id": "c1c82bc1-ec2a-4130-9a74-a80dd7b93e23",
   "metadata": {},
   "outputs": [],
   "source": [
    "a = np.array([0.3, 2.9, 4.0])"
   ]
  },
  {
   "cell_type": "code",
   "execution_count": 84,
   "id": "ab751b3c-85cd-4096-9e3f-1af6fdd2f539",
   "metadata": {},
   "outputs": [],
   "source": [
    "def softmax(a):\n",
    "    c = np.max(a)\n",
    "    exp_a = np.exp(a-c)\n",
    "    sum_exp_a = np.sum(exp_a)\n",
    "    y = exp_a / sum_exp_a\n",
    "    \n",
    "    return y"
   ]
  },
  {
   "cell_type": "code",
   "execution_count": 85,
   "id": "8a5f5dbe-c8fc-4c7f-94ac-d0da6fc706b4",
   "metadata": {},
   "outputs": [
    {
     "data": {
      "text/plain": [
       "array([9.99954600e-01, 4.53978686e-05, 2.06106005e-09])"
      ]
     },
     "execution_count": 85,
     "metadata": {},
     "output_type": "execute_result"
    }
   ],
   "source": [
    "softmax(a)"
   ]
  },
  {
   "cell_type": "code",
   "execution_count": 86,
   "id": "d71587c5-16ae-4aa9-a3c9-56365b09d1e3",
   "metadata": {},
   "outputs": [
    {
     "data": {
      "text/plain": [
       "1.0"
      ]
     },
     "execution_count": 86,
     "metadata": {},
     "output_type": "execute_result"
    }
   ],
   "source": [
    "np.sum(softmax(a))"
   ]
  },
  {
   "cell_type": "code",
   "execution_count": 87,
   "id": "27b7fc14-4c01-49d2-81ac-2f99e758a88a",
   "metadata": {},
   "outputs": [],
   "source": [
    "a = np.array([1010,1000,990])"
   ]
  },
  {
   "cell_type": "code",
   "execution_count": 98,
   "id": "f30e21eb-4038-42ac-a842-b389cdc7fa85",
   "metadata": {},
   "outputs": [
    {
     "data": {
      "text/plain": [
       "array([9.99954600e-01, 4.53978686e-05, 2.06106005e-09])"
      ]
     },
     "execution_count": 98,
     "metadata": {},
     "output_type": "execute_result"
    }
   ],
   "source": [
    "softmax(a)"
   ]
  },
  {
   "cell_type": "code",
   "execution_count": null,
   "id": "c9bfef06-4105-48bc-a3ce-ce7e353f97cd",
   "metadata": {},
   "outputs": [],
   "source": []
  }
 ],
 "metadata": {
  "kernelspec": {
   "display_name": "Python 3 (ipykernel)",
   "language": "python",
   "name": "python3"
  },
  "language_info": {
   "codemirror_mode": {
    "name": "ipython",
    "version": 3
   },
   "file_extension": ".py",
   "mimetype": "text/x-python",
   "name": "python",
   "nbconvert_exporter": "python",
   "pygments_lexer": "ipython3",
   "version": "3.9.15"
  }
 },
 "nbformat": 4,
 "nbformat_minor": 5
}
