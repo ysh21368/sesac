{
 "cells": [
  {
   "cell_type": "code",
   "execution_count": 21,
   "id": "f2dcc55c-dc0a-4d19-97d9-6071cedceb3a",
   "metadata": {},
   "outputs": [],
   "source": [
    "from util.mnist import load_mnist\n",
    "from PIL import Image\n",
    "import numpy as np"
   ]
  },
  {
   "cell_type": "code",
   "execution_count": 7,
   "id": "e577b6f5-1cf5-4f8f-b4be-61953474c6fa",
   "metadata": {},
   "outputs": [],
   "source": [
    "(x_train,t_train),(x_test,t_test) = load_mnist(flatten=True, normalize=False, one_hot_label=False)"
   ]
  },
  {
   "cell_type": "code",
   "execution_count": 8,
   "id": "21d02309-a30f-4e56-a8ed-626699619662",
   "metadata": {},
   "outputs": [
    {
     "name": "stdout",
     "output_type": "stream",
     "text": [
      "(60000, 784)\n",
      "(60000,)\n",
      "(10000, 784)\n",
      "(10000,)\n"
     ]
    }
   ],
   "source": [
    "print(x_train.shape)\n",
    "print(t_train.shape)\n",
    "print(x_test.shape)\n",
    "print(t_test.shape)"
   ]
  },
  {
   "cell_type": "code",
   "execution_count": 23,
   "id": "29b8a55b-a307-45ed-9f2d-052617554791",
   "metadata": {},
   "outputs": [],
   "source": [
    "def img_show(img):\n",
    "    pil_img = Image.fromarray(np.uint8(img))\n",
    "    pil_img.show()"
   ]
  },
  {
   "cell_type": "code",
   "execution_count": 47,
   "id": "840c97b5-f1c9-4fe5-96ed-74853430a4fd",
   "metadata": {},
   "outputs": [
    {
     "name": "stdout",
     "output_type": "stream",
     "text": [
      "[  0   0   0   0   0   0   0   0   0   0   0   0   0   0   0   0   0   0\n",
      "   0   0   0   0   0   0   0   0   0   0   0   0   0   0   0   0   0   0\n",
      "   0   0   0   0   0   0   0   0   0   0   0   0   0   0   0   0   0   0\n",
      "   0   0   0   0   0   0   0   0   0   0   0   0   0   0   0   0   0   0\n",
      "   0   0   0   0   0   0   0   0   0   0   0   0   0   0   0   0   0   0\n",
      "   0   0   0   0   0   0   0   0   0   0   0   0   0   0   0   0   0   0\n",
      "   0   0   0   0   0   0   0   0   0   0   0   0   0   0   0   0   0   0\n",
      "   0   0   0   0   0   0   0   0   0   0   0   0   0   0   0   0   0   0\n",
      "   0   0   0   0   0   0   0  38  43 105 255 253 253 253 253 253 174   6\n",
      "   0   0   0   0   0   0   0   0   0   0   0   0   0   0   0  43 139 224\n",
      " 226 252 253 252 252 252 252 252 252 158  14   0   0   0   0   0   0   0\n",
      "   0   0   0   0   0   0   0 178 252 252 252 252 253 252 252 252 252 252\n",
      " 252 252  59   0   0   0   0   0   0   0   0   0   0   0   0   0   0 109\n",
      " 252 252 230 132 133 132 132 189 252 252 252 252  59   0   0   0   0   0\n",
      "   0   0   0   0   0   0   0   0   0   4  29  29  24   0   0   0   0  14\n",
      " 226 252 252 172   7   0   0   0   0   0   0   0   0   0   0   0   0   0\n",
      "   0   0   0   0   0   0   0   0   0  85 243 252 252 144   0   0   0   0\n",
      "   0   0   0   0   0   0   0   0   0   0   0   0   0   0   0   0   0   0\n",
      "  88 189 252 252 252  14   0   0   0   0   0   0   0   0   0   0   0   0\n",
      "   0   0   0   0   0   0   0   0  91 212 247 252 252 252 204   9   0   0\n",
      "   0   0   0   0   0   0   0   0   0   0   0   0   0  32 125 193 193 193\n",
      " 253 252 252 252 238 102  28   0   0   0   0   0   0   0   0   0   0   0\n",
      "   0   0   0   0  45 222 252 252 252 252 253 252 252 252 177   0   0   0\n",
      "   0   0   0   0   0   0   0   0   0   0   0   0   0   0  45 223 253 253\n",
      " 253 253 255 253 253 253 253  74   0   0   0   0   0   0   0   0   0   0\n",
      "   0   0   0   0   0   0   0  31 123  52  44  44  44  44 143 252 252  74\n",
      "   0   0   0   0   0   0   0   0   0   0   0   0   0   0   0   0   0   0\n",
      "   0   0   0   0   0   0  15 252 252  74   0   0   0   0   0   0   0   0\n",
      "   0   0   0   0   0   0   0   0   0   0   0   0   0   0   0   0  86 252\n",
      " 252  74   0   0   0   0   0   0   0   0   0   0   0   0   0   0   5  75\n",
      "   9   0   0   0   0   0   0  98 242 252 252  74   0   0   0   0   0   0\n",
      "   0   0   0   0   0   0   0  61 183 252  29   0   0   0   0  18  92 239\n",
      " 252 252 243  65   0   0   0   0   0   0   0   0   0   0   0   0   0 208\n",
      " 252 252 147 134 134 134 134 203 253 252 252 188  83   0   0   0   0   0\n",
      "   0   0   0   0   0   0   0   0   0 208 252 252 252 252 252 252 252 252\n",
      " 253 230 153   8   0   0   0   0   0   0   0   0   0   0   0   0   0   0\n",
      "   0  49 157 252 252 252 252 252 217 207 146  45   0   0   0   0   0   0\n",
      "   0   0   0   0   0   0   0   0   0   0   0   0   7 103 235 252 172 103\n",
      "  24   0   0   0   0   0   0   0   0   0   0   0   0   0   0   0   0   0\n",
      "   0   0   0   0   0   0   0   0   0   0   0   0   0   0   0   0   0   0\n",
      "   0   0   0   0   0   0   0   0   0   0   0   0   0   0   0   0   0   0\n",
      "   0   0   0   0   0   0   0   0   0   0   0   0   0   0   0   0   0   0\n",
      "   0   0   0   0   0   0   0   0   0   0   0   0   0   0   0   0   0   0\n",
      "   0   0   0   0   0   0   0   0   0   0]\n",
      "3\n"
     ]
    }
   ],
   "source": [
    "img = x_train[7]\n",
    "label = t_train[7]\n",
    "print(img)\n",
    "print(label)"
   ]
  },
  {
   "cell_type": "code",
   "execution_count": 48,
   "id": "6aeca3b2-b880-4863-afe8-7f62c4210ca3",
   "metadata": {},
   "outputs": [],
   "source": [
    "img_show(img.reshape(28,28))"
   ]
  },
  {
   "cell_type": "code",
   "execution_count": 49,
   "id": "eb721286-13ad-4294-9a6b-7ecb0bd629af",
   "metadata": {},
   "outputs": [],
   "source": [
    "def get_data() :\n",
    "    (x_train,t_train),(x_test,t_test) = load_mnist(flatten=True, normalize=True, one_hot_label=False) #flatten 행열을 펴줌 normalize 너무큰갑을 \n",
    "    return x_test, t_test"
   ]
  },
  {
   "cell_type": "code",
   "execution_count": 50,
   "id": "152a5f49-5d81-4501-94dd-22d704cdaa98",
   "metadata": {},
   "outputs": [],
   "source": [
    "import pickle"
   ]
  },
  {
   "cell_type": "code",
   "execution_count": 51,
   "id": "f72d0eb4-560c-4678-9e58-babaad58a4d3",
   "metadata": {},
   "outputs": [],
   "source": [
    "def init_network() :\n",
    "    with open('util/sample_weight.pkl', 'rb') as f:\n",
    "        network = pickle.load(f)\n",
    "        \n",
    "        \n",
    "    return network"
   ]
  },
  {
   "cell_type": "code",
   "execution_count": 52,
   "id": "a79ede5d-e1bd-44bd-bb99-9558eeb9221c",
   "metadata": {},
   "outputs": [],
   "source": [
    "def sigmoid(x):\n",
    "    return 1 / (1+ np.exp(-x))"
   ]
  },
  {
   "cell_type": "code",
   "execution_count": 53,
   "id": "7b61870f-ff23-40d2-ac4a-aad6bd24a429",
   "metadata": {},
   "outputs": [],
   "source": [
    "def softmax(a):\n",
    "    c = np.max(a)\n",
    "    exp_a = np.exp(a-c)\n",
    "    sum_exp_a = np.sum(exp_a)\n",
    "    y = exp_a / sum_exp_a\n",
    "    \n",
    "    return y"
   ]
  },
  {
   "cell_type": "code",
   "execution_count": 54,
   "id": "a0703c6c-e1e9-424c-bf81-a37c5c723c83",
   "metadata": {},
   "outputs": [],
   "source": [
    "def predict(network, x) :\n",
    "    W1, W2, W3 = network['W1'], network['W2'], network['W3']\n",
    "    b1, b2, b3 = network['b1'], network['b2'], network['b3']\n",
    "    \n",
    "    a1 = np.dot(x,W1) + b1\n",
    "    z1 = sigmoid(a1)\n",
    "    \n",
    "    a2 = np.dot(z1,W2) + b2\n",
    "    z2 = sigmoid(a2)\n",
    "    \n",
    "    a3 = np.dot(z2,W3) + b3\n",
    "    y = softmax(a3)\n",
    "    \n",
    "    return y"
   ]
  },
  {
   "cell_type": "code",
   "execution_count": 55,
   "id": "c6932ef5-91ff-469b-96b9-01c7685ce17f",
   "metadata": {},
   "outputs": [],
   "source": [
    "x, t = get_data()"
   ]
  },
  {
   "cell_type": "code",
   "execution_count": 56,
   "id": "6b47e520-a49c-4407-a54c-966efc5eabe1",
   "metadata": {},
   "outputs": [
    {
     "name": "stdout",
     "output_type": "stream",
     "text": [
      "(10000, 784)\n"
     ]
    }
   ],
   "source": [
    "print(x.shape)"
   ]
  },
  {
   "cell_type": "code",
   "execution_count": 57,
   "id": "34e09a72-c52b-433d-8bbe-e85311fa5f66",
   "metadata": {},
   "outputs": [],
   "source": [
    "network = init_network()"
   ]
  },
  {
   "cell_type": "code",
   "execution_count": 68,
   "id": "b2f5e286-d4cc-4f83-b089-dc88a8b08a18",
   "metadata": {},
   "outputs": [],
   "source": [
    "accuracy_cnt =  0 \n",
    "for i in range(len(x)):\n",
    "    y = predict(network, x[i])\n",
    "    p = np.argmax(y)\n",
    "    if p == t[i]:\n",
    "        accuracy_cnt +=1"
   ]
  },
  {
   "cell_type": "code",
   "execution_count": 69,
   "id": "e3095c9d-4222-4942-886a-bd002cfac05a",
   "metadata": {},
   "outputs": [
    {
     "name": "stdout",
     "output_type": "stream",
     "text": [
      "Accuracy: 93.52000000000001\n"
     ]
    }
   ],
   "source": [
    "print(\"Accuracy:\", accuracy_cnt/len(x) *100)"
   ]
  },
  {
   "cell_type": "markdown",
   "id": "a516704d-0987-4332-bb9c-cad8ac1e84ca",
   "metadata": {},
   "source": [
    "------------------------------------------------"
   ]
  },
  {
   "cell_type": "code",
   "execution_count": 83,
   "id": "17c514eb-35b1-4b30-8a56-f6a688f98941",
   "metadata": {},
   "outputs": [],
   "source": [
    "x, y = get_data()\n",
    "network = init_network()"
   ]
  },
  {
   "cell_type": "code",
   "execution_count": 84,
   "id": "3bf1e80e-9742-4e27-8ea5-bac7efc2ce70",
   "metadata": {},
   "outputs": [
    {
     "data": {
      "text/plain": [
       "(100, 784)"
      ]
     },
     "execution_count": 84,
     "metadata": {},
     "output_type": "execute_result"
    }
   ],
   "source": [
    "x[0:100].shape"
   ]
  },
  {
   "cell_type": "code",
   "execution_count": 85,
   "id": "2199c936-10d2-449d-ad51-a5351834ee66",
   "metadata": {},
   "outputs": [],
   "source": [
    "batch_size = 100\n",
    "accuracy_cnt =  0 \n",
    "\n",
    "for i in range(0, len(x), batch_size):\n",
    "    x_batch = x[i:i+batch_size]\n",
    "    y_batch = predict(network,x_batch)\n",
    "    p = np.argmax(y_batch,axis=1)\n",
    "    accuracy_cnt += np.sum(p == t[i:i+batch_size])"
   ]
  },
  {
   "cell_type": "code",
   "execution_count": 86,
   "id": "75a62a1c-610c-468b-a659-c5809f021ceb",
   "metadata": {},
   "outputs": [
    {
     "name": "stdout",
     "output_type": "stream",
     "text": [
      "Accuracy: 93.52000000000001\n"
     ]
    }
   ],
   "source": [
    "print(\"Accuracy:\", accuracy_cnt/len(x) *100)"
   ]
  },
  {
   "cell_type": "code",
   "execution_count": null,
   "id": "6bd83938-8ace-41ef-a31d-2bc428cea0a3",
   "metadata": {},
   "outputs": [],
   "source": []
  }
 ],
 "metadata": {
  "kernelspec": {
   "display_name": "Python 3 (ipykernel)",
   "language": "python",
   "name": "python3"
  },
  "language_info": {
   "codemirror_mode": {
    "name": "ipython",
    "version": 3
   },
   "file_extension": ".py",
   "mimetype": "text/x-python",
   "name": "python",
   "nbconvert_exporter": "python",
   "pygments_lexer": "ipython3",
   "version": "3.9.15"
  }
 },
 "nbformat": 4,
 "nbformat_minor": 5
}
