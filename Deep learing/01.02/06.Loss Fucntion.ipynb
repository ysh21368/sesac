{
 "cells": [
  {
   "cell_type": "markdown",
   "id": "45864a2c-b163-40f5-8028-189d1c481464",
   "metadata": {},
   "source": [
    "## 평균 제곱 오차(MSE)"
   ]
  },
  {
   "cell_type": "code",
   "execution_count": 38,
   "id": "8c47e737-d5ae-4844-8090-7dda46b479b2",
   "metadata": {},
   "outputs": [],
   "source": [
    "import numpy as np"
   ]
  },
  {
   "cell_type": "code",
   "execution_count": 52,
   "id": "32e35f90-618e-4b85-b6a5-622430805c9d",
   "metadata": {},
   "outputs": [],
   "source": [
    "def mean_squared_error(y, t) :\n",
    "    return (np.sum(y - t)**2).mean()\n",
    "    \n",
    "    # y 예측\n",
    "    # t 실제 값"
   ]
  },
  {
   "cell_type": "code",
   "execution_count": 53,
   "id": "ee3ca221-1fbc-4213-8f2f-fdb8989f2428",
   "metadata": {},
   "outputs": [],
   "source": [
    "t = np.array([0,0,1,0,0,0,0,0,0,0])\n",
    "y = np.array([0,0,1,0,0,0,0,0,0,0])\n"
   ]
  },
  {
   "cell_type": "code",
   "execution_count": 54,
   "id": "32e142cd-e8b1-4bad-bcae-0d8baa0e40d9",
   "metadata": {},
   "outputs": [],
   "source": [
    "y1 = np.array([0.1, 0.05, 0.6, 0.0, 0.05, 0.1, 0.0, 0.1, 0.0, 0.0]) # 2가 0.6으로 가장높음\n",
    "y2 = np.array([0.1, 0.05, 0.1, 0.0, 0.05, 0.1, 0.0, 0.6, 0.0, 0.0]) # 7이 0.6으로 가장높음"
   ]
  },
  {
   "cell_type": "code",
   "execution_count": 64,
   "id": "07858cd4-4729-40b9-9de7-e05f6e6d0062",
   "metadata": {},
   "outputs": [
    {
     "data": {
      "text/plain": [
       "0.0"
      ]
     },
     "execution_count": 64,
     "metadata": {},
     "output_type": "execute_result"
    }
   ],
   "source": [
    "mean_squared_error(y1,t)"
   ]
  },
  {
   "cell_type": "markdown",
   "id": "8b3db4a9-586d-4dc0-b2bc-e26b85070346",
   "metadata": {},
   "source": [
    "## 교차 엔트로피 오차(CEE)"
   ]
  },
  {
   "cell_type": "code",
   "execution_count": 65,
   "id": "7b23afb2-1086-4e4b-807b-1ed1c659af29",
   "metadata": {},
   "outputs": [],
   "source": [
    "def cross_entropy_error(y,t):\n",
    "    delta = 1e-7\n",
    "    return -np.sum(t * np.log(y+delta))"
   ]
  },
  {
   "cell_type": "code",
   "execution_count": 66,
   "id": "a3e11338-4ea3-4a2f-a7f0-28f2c77bc944",
   "metadata": {},
   "outputs": [
    {
     "data": {
      "text/plain": [
       "0.510825457099338"
      ]
     },
     "execution_count": 66,
     "metadata": {},
     "output_type": "execute_result"
    }
   ],
   "source": [
    "cross_entropy_error(y1,t)"
   ]
  },
  {
   "cell_type": "code",
   "execution_count": 67,
   "id": "e17d2c30-2a09-41f2-9ec3-73ff4d2fca51",
   "metadata": {},
   "outputs": [
    {
     "data": {
      "text/plain": [
       "2.302584092994546"
      ]
     },
     "execution_count": 67,
     "metadata": {},
     "output_type": "execute_result"
    }
   ],
   "source": [
    "cross_entropy_error(y2,t)"
   ]
  },
  {
   "cell_type": "code",
   "execution_count": null,
   "id": "92779595-ac10-4bc0-af1b-30a156494f17",
   "metadata": {},
   "outputs": [],
   "source": []
  }
 ],
 "metadata": {
  "kernelspec": {
   "display_name": "Python 3 (ipykernel)",
   "language": "python",
   "name": "python3"
  },
  "language_info": {
   "codemirror_mode": {
    "name": "ipython",
    "version": 3
   },
   "file_extension": ".py",
   "mimetype": "text/x-python",
   "name": "python",
   "nbconvert_exporter": "python",
   "pygments_lexer": "ipython3",
   "version": "3.9.15"
  }
 },
 "nbformat": 4,
 "nbformat_minor": 5
}
