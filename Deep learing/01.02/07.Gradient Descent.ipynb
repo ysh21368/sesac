{
 "cells": [
  {
   "cell_type": "markdown",
   "id": "a869972f-93fa-4d1f-97ec-747a2bd96eb1",
   "metadata": {},
   "source": [
    "# 중심차분"
   ]
  },
  {
   "cell_type": "code",
   "execution_count": 18,
   "id": "3f7e1e06-10e4-47f8-9b45-ebce2d935702",
   "metadata": {},
   "outputs": [],
   "source": [
    "import numpy as np\n",
    "import matplotlib.pyplot as plt"
   ]
  },
  {
   "cell_type": "code",
   "execution_count": 39,
   "id": "5c08e703-9775-4a9d-a417-98d27db05d36",
   "metadata": {},
   "outputs": [],
   "source": [
    "def numerical_diff(f,x):\n",
    "\n",
    "    h = 1e-4 #0.0001\n",
    "\n",
    "    return (f(x+h)-f(x-h))/2*h"
   ]
  },
  {
   "cell_type": "code",
   "execution_count": 40,
   "id": "c4a64078-2973-4458-9239-7fbcbd89755f",
   "metadata": {},
   "outputs": [],
   "source": [
    "def function_1(x):\n",
    "    return 0.01*x**2 + 0.1*x"
   ]
  },
  {
   "cell_type": "code",
   "execution_count": 41,
   "id": "14e9e964-7f86-4608-98a0-16f041111d68",
   "metadata": {},
   "outputs": [],
   "source": [
    "x = np.arange(0.0, 20.0, 0.1)"
   ]
  },
  {
   "cell_type": "code",
   "execution_count": 42,
   "id": "9902e522-a83f-4f15-85d8-beefc02b662b",
   "metadata": {},
   "outputs": [],
   "source": [
    "y = function_1(x)"
   ]
  },
  {
   "cell_type": "code",
   "execution_count": 43,
   "id": "71695989-24d0-437e-824c-f31ba8f95f09",
   "metadata": {},
   "outputs": [
    {
     "data": {
      "image/png": "[encoded data removed]",
      "text/plain": [
       "<Figure size 640x480 with 1 Axes>"
      ]
     },
     "metadata": {},
     "output_type": "display_data"
    }
   ],
   "source": [
    "plt.xlabel('x')\n",
    "plt.ylabel('f(x)')\n",
    "plt.plot(x,y);"
   ]
  },
  {
   "cell_type": "code",
   "execution_count": 44,
   "id": "af117567-2af4-4a12-90a9-aa65fba9ceea",
   "metadata": {},
   "outputs": [
    {
     "data": {
      "text/plain": [
       "1.9999999999908982e-09"
      ]
     },
     "execution_count": 44,
     "metadata": {},
     "output_type": "execute_result"
    }
   ],
   "source": [
    "numerical_diff(function_1, 5)"
   ]
  },
  {
   "cell_type": "code",
   "execution_count": 45,
   "id": "1eba223c-5f20-468a-a49e-cdd973c3cccc",
   "metadata": {},
   "outputs": [
    {
     "data": {
      "text/plain": [
       "2.999999999986347e-09"
      ]
     },
     "execution_count": 45,
     "metadata": {},
     "output_type": "execute_result"
    }
   ],
   "source": [
    "numerical_diff(function_1, 10)"
   ]
  },
  {
   "cell_type": "markdown",
   "id": "0a9ab9a3-ae1e-4e6d-b833-22714d674634",
   "metadata": {},
   "source": [
    "# 편미분"
   ]
  },
  {
   "cell_type": "code",
   "execution_count": 46,
   "id": "027cbf9f-9444-4538-9cd1-f11a3dfede44",
   "metadata": {},
   "outputs": [],
   "source": [
    "def function_2(x):\n",
    "    return x[0] ** 2 + x[1] **2"
   ]
  },
  {
   "cell_type": "code",
   "execution_count": 47,
   "id": "7845bb73-cc31-4585-af8f-aa0e0e38f52e",
   "metadata": {},
   "outputs": [],
   "source": [
    "def function_tmp1(x0):\n",
    "    return x0**2+4**2"
   ]
  },
  {
   "cell_type": "code",
   "execution_count": 48,
   "id": "748a9de2-1be2-42b8-bf9e-8b50d8a11846",
   "metadata": {},
   "outputs": [
    {
     "data": {
      "text/plain": [
       "6.000000000003781e-08"
      ]
     },
     "execution_count": 48,
     "metadata": {},
     "output_type": "execute_result"
    }
   ],
   "source": [
    "numerical_diff(function_tmp1,3)"
   ]
  },
  {
   "cell_type": "code",
   "execution_count": 49,
   "id": "92879b42-397f-4e71-a445-d9791dfa94be",
   "metadata": {},
   "outputs": [],
   "source": [
    "def function_tmp2(x1):\n",
    "    return 3**2 + x1**2"
   ]
  },
  {
   "cell_type": "code",
   "execution_count": 50,
   "id": "b6bcf309-ecea-46df-93e1-b1b89a0568ab",
   "metadata": {},
   "outputs": [
    {
     "data": {
      "text/plain": [
       "6.000000000003781e-08"
      ]
     },
     "execution_count": 50,
     "metadata": {},
     "output_type": "execute_result"
    }
   ],
   "source": [
    "numerical_diff(function_tmp2,3)"
   ]
  },
  {
   "cell_type": "markdown",
   "id": "ce84a273-5c9e-48a1-953d-cef08edadb80",
   "metadata": {},
   "source": [
    "# 기울기 "
   ]
  },
  {
   "cell_type": "code",
   "execution_count": 60,
   "id": "4d3c0874-29be-4b95-90d2-232f58b8df87",
   "metadata": {},
   "outputs": [],
   "source": [
    "def numerical_gradient(f,x) :\n",
    "    h = 1e-4\n",
    "    grad = np.zeros_like(x)\n",
    "    \n",
    "    for idx in range(x.size) :\n",
    "        tmp_val = x[idx]\n",
    "        x[idx] = tmp_val + h\n",
    "        fhx1 = f(x)\n",
    "        \n",
    "        x[idx] = tmp_val -h\n",
    "        fhx2 = f(x) \n",
    "        \n",
    "        grad[idx] = (fhx1 - fhx2) / (2*h)\n",
    "        x[idx] = tmp_val\n",
    "        \n",
    "    return grad"
   ]
  },
  {
   "cell_type": "code",
   "execution_count": 61,
   "id": "696c069a-6741-4118-bc75-af41bb643c5c",
   "metadata": {},
   "outputs": [
    {
     "data": {
      "text/plain": [
       "array([6., 8.])"
      ]
     },
     "execution_count": 61,
     "metadata": {},
     "output_type": "execute_result"
    }
   ],
   "source": [
    "numerical_gradient(function_2, np.array([3.0,4.0]))"
   ]
  },
  {
   "cell_type": "code",
   "execution_count": 62,
   "id": "110a8a2c-3905-4b8c-9b56-74b20faac7c5",
   "metadata": {},
   "outputs": [
    {
     "data": {
      "text/plain": [
       "array([0., 0., 0.])"
      ]
     },
     "execution_count": 62,
     "metadata": {},
     "output_type": "execute_result"
    }
   ],
   "source": [
    "np.zeros_like(np.array([3.0,4.0,5.0]))"
   ]
  },
  {
   "cell_type": "code",
   "execution_count": 63,
   "id": "bb477def-f315-4e21-a202-3d69ee06d6c0",
   "metadata": {},
   "outputs": [
    {
     "data": {
      "text/plain": [
       "array([0., 0.])"
      ]
     },
     "execution_count": 63,
     "metadata": {},
     "output_type": "execute_result"
    }
   ],
   "source": [
    "numerical_gradient(function_2, np.array([0.0,0.0]))"
   ]
  },
  {
   "cell_type": "code",
   "execution_count": 69,
   "id": "a64cdfbc-7014-487b-b151-6772a4458c9f",
   "metadata": {},
   "outputs": [],
   "source": [
    "def gradient_descent(f, init_x, lr, step_num) :\n",
    "    x = init_x.copy()\n",
    "    \n",
    "    for i in range(step_num) :\n",
    "        grad = numerical_gradient(f, x)\n",
    "        x -= lr * grad\n",
    "        \n",
    "    return x"
   ]
  },
  {
   "cell_type": "code",
   "execution_count": 73,
   "id": "8729aad4-18d9-461c-85c8-4d4a95e0153e",
   "metadata": {},
   "outputs": [],
   "source": [
    "init_x = np.array([-0.3,0.4])"
   ]
  },
  {
   "cell_type": "code",
   "execution_count": 74,
   "id": "809bf9ea-685c-4e34-9448-bbcb12696a02",
   "metadata": {},
   "outputs": [
    {
     "data": {
      "text/plain": [
       "array([-6.11110793e-11,  8.14814390e-11])"
      ]
     },
     "execution_count": 74,
     "metadata": {},
     "output_type": "execute_result"
    }
   ],
   "source": [
    "gradient_descent(function_2, init_x=init_x, lr=0.1, step_num=100)"
   ]
  },
  {
   "cell_type": "code",
   "execution_count": 77,
   "id": "0ab44841-758c-45c4-b90a-72598cbdebdd",
   "metadata": {},
   "outputs": [
    {
     "data": {
      "text/plain": [
       "array([-0.30000001,  0.40000001])"
      ]
     },
     "execution_count": 77,
     "metadata": {},
     "output_type": "execute_result"
    }
   ],
   "source": [
    "gradient_descent(function_2, init_x=init_x, lr=-1e-10, step_num=100)"
   ]
  },
  {
   "cell_type": "code",
   "execution_count": 78,
   "id": "dbfa208c-4260-4208-aad6-91a376615eb8",
   "metadata": {},
   "outputs": [
    {
     "data": {
      "text/plain": [
       "array([-0.6,  0.8])"
      ]
     },
     "execution_count": 78,
     "metadata": {},
     "output_type": "execute_result"
    }
   ],
   "source": [
    "numerical_gradient(function_2,init_x)"
   ]
  },
  {
   "cell_type": "markdown",
   "id": "358b81fe-3c92-468a-b81e-898c18d23f23",
   "metadata": {},
   "source": [
    "- 러닝메이트(lr)가 너무 크지도 작지도 않아야한다."
   ]
  },
  {
   "cell_type": "markdown",
   "id": "1f8a83a5-856f-4acc-9284-d61e903991d2",
   "metadata": {},
   "source": [
    "---"
   ]
  },
  {
   "cell_type": "code",
   "execution_count": 86,
   "id": "6fd96631-496c-4779-870c-1de6e8ee4b1a",
   "metadata": {},
   "outputs": [],
   "source": [
    "def cross_entropy_error(y,t):\n",
    "    delta = 1e-7\n",
    "    return -np.sum(t * np.log(y+delta))"
   ]
  },
  {
   "cell_type": "code",
   "execution_count": 87,
   "id": "15205bad-b7c4-4ee7-a3ff-e8a3a6c5bfb0",
   "metadata": {},
   "outputs": [],
   "source": [
    "def softmax(a):\n",
    "    c = np.max(a)\n",
    "    exp_a = np.exp(a-c)\n",
    "    sum_exp_a = np.sum(exp_a)\n",
    "    y = exp_a / sum_exp_a\n",
    "    \n",
    "    return y"
   ]
  },
  {
   "cell_type": "code",
   "execution_count": 109,
   "id": "79954e3c-3075-402f-adbe-121d8ad70de9",
   "metadata": {},
   "outputs": [],
   "source": [
    "class simpleNet:\n",
    "    def __init__(self):\n",
    "        self.W = np.random.randn(2,3)\n",
    "    def predict(self, x) :\n",
    "        return np.dot(x, self.W)\n",
    "    def loss(self, x, t) :\n",
    "        z = self.predict(x)\n",
    "        y = softmax(z)\n",
    "        loss = cross_entropy_error(y,t)\n",
    "        \n",
    "        return loss"
   ]
  },
  {
   "cell_type": "code",
   "execution_count": 110,
   "id": "a109f1bf-e030-4908-9388-902b3ebdc25d",
   "metadata": {},
   "outputs": [],
   "source": [
    "net = simpleNet()"
   ]
  },
  {
   "cell_type": "code",
   "execution_count": 111,
   "id": "ed0839df-caf2-401e-b646-fe10d77a6783",
   "metadata": {},
   "outputs": [
    {
     "data": {
      "text/plain": [
       "array([[ 0.98495813, -1.00794427, -0.51297132],\n",
       "       [ 0.20709037, -0.86225016,  0.41433489]])"
      ]
     },
     "execution_count": 111,
     "metadata": {},
     "output_type": "execute_result"
    }
   ],
   "source": [
    "net.W"
   ]
  },
  {
   "cell_type": "code",
   "execution_count": 112,
   "id": "ae977fdd-9f3b-40e1-9979-fb461e80b138",
   "metadata": {},
   "outputs": [],
   "source": [
    "x = np.array([0.6,0.9])"
   ]
  },
  {
   "cell_type": "code",
   "execution_count": 113,
   "id": "bee2cb32-512f-4595-bce0-068d531782b0",
   "metadata": {},
   "outputs": [],
   "source": [
    "p = net.predict(x)"
   ]
  },
  {
   "cell_type": "code",
   "execution_count": 114,
   "id": "ca012fca-a6a4-492b-9a1f-95d630be5c62",
   "metadata": {},
   "outputs": [
    {
     "data": {
      "text/plain": [
       "array([ 0.77735621, -1.3807917 ,  0.06511861])"
      ]
     },
     "execution_count": 114,
     "metadata": {},
     "output_type": "execute_result"
    }
   ],
   "source": [
    "p"
   ]
  },
  {
   "cell_type": "code",
   "execution_count": 115,
   "id": "95b50f1d-3304-4afb-83b8-b56c9112a04b",
   "metadata": {},
   "outputs": [
    {
     "data": {
      "text/plain": [
       "0"
      ]
     },
     "execution_count": 115,
     "metadata": {},
     "output_type": "execute_result"
    }
   ],
   "source": [
    "np.argmax(p)"
   ]
  },
  {
   "cell_type": "code",
   "execution_count": 116,
   "id": "a30cdb15-c434-4661-8466-9fe8a01fbbd0",
   "metadata": {},
   "outputs": [],
   "source": [
    "t = np.array([1,0,0])"
   ]
  },
  {
   "cell_type": "code",
   "execution_count": 119,
   "id": "d3f37ea9-490a-4dcd-a706-385866847044",
   "metadata": {},
   "outputs": [
    {
     "data": {
      "text/plain": [
       "0.47379890347242887"
      ]
     },
     "execution_count": 119,
     "metadata": {},
     "output_type": "execute_result"
    }
   ],
   "source": [
    "net.loss(x, t)"
   ]
  },
  {
   "cell_type": "code",
   "execution_count": 120,
   "id": "ade4ff7d-5bbe-4b5a-8756-222d720fe58f",
   "metadata": {},
   "outputs": [],
   "source": [
    "def f(_):\n",
    "    return net.loss(x, t)"
   ]
  },
  {
   "cell_type": "code",
   "execution_count": 131,
   "id": "a9ae986b-60a0-4675-9d48-6199d852931e",
   "metadata": {},
   "outputs": [],
   "source": [
    "def numerical_gradient(f,x) :\n",
    "    h = 1e-4\n",
    "    grad = np.zeros_like(x)\n",
    "    \n",
    "    for idx,_ in np.ndenumerate(x) :\n",
    "        tmp_val = x[idx]\n",
    "        x[idx] = tmp_val + h\n",
    "        fhx1 = f(x)\n",
    "        \n",
    "        x[idx] = tmp_val - h\n",
    "        fhx2 = f(x) \n",
    "        \n",
    "        grad[idx] = (fhx1 - fhx2) / (2*h)\n",
    "        x[idx] = tmp_val\n",
    "        \n",
    "    return grad"
   ]
  },
  {
   "cell_type": "code",
   "execution_count": 132,
   "id": "3dc7d6a5-b639-4130-b779-01375514cbbc",
   "metadata": {},
   "outputs": [
    {
     "data": {
      "text/plain": [
       "array([[-0.22642055,  0.04316295,  0.1832576 ],\n",
       "       [-0.33963083,  0.06474443,  0.2748864 ]])"
      ]
     },
     "execution_count": 132,
     "metadata": {},
     "output_type": "execute_result"
    }
   ],
   "source": [
    "numerical_gradient(f, net.W)"
   ]
  },
  {
   "cell_type": "code",
   "execution_count": 130,
   "id": "a717a556-f66f-43ba-b4dc-6a916819555b",
   "metadata": {},
   "outputs": [
    {
     "name": "stdout",
     "output_type": "stream",
     "text": [
      "(0, 0) 0.9849581284501975\n",
      "(0, 1) -1.0079442659074485\n",
      "(0, 2) -0.5129713163117383\n",
      "(1, 0) 0.20709036991347174\n",
      "(1, 1) -0.8622501555707686\n",
      "(1, 2) 0.4143348859163926\n"
     ]
    }
   ],
   "source": [
    "for idx,data in np.ndenumerate(net.W):\n",
    "    print(idx,data)"
   ]
  },
  {
   "cell_type": "code",
   "execution_count": null,
   "id": "59a458c2-f962-400c-b0b9-7697896e4485",
   "metadata": {},
   "outputs": [],
   "source": [
    "신경망 구조를 만들고 -> w,b값을 임의로 초기화를 주고 -> y값을 구하고 -> 기울기를 구하고 -> loss를 구하여 -> grdient로 조절을 한다. "
   ]
  },
  {
   "cell_type": "code",
   "execution_count": null,
   "id": "e1f1fdc8-931e-40d5-b9eb-0bb4bb05023a",
   "metadata": {},
   "outputs": [],
   "source": []
  }
 ],
 "metadata": {
  "kernelspec": {
   "display_name": "Python 3 (ipykernel)",
   "language": "python",
   "name": "python3"
  },
  "language_info": {
   "codemirror_mode": {
    "name": "ipython",
    "version": 3
   },
   "file_extension": ".py",
   "mimetype": "text/x-python",
   "name": "python",
   "nbconvert_exporter": "python",
   "pygments_lexer": "ipython3",
   "version": "3.9.15"
  }
 },
 "nbformat": 4,
 "nbformat_minor": 5
}
