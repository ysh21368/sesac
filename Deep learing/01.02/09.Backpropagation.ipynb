{
 "cells": [
  {
   "cell_type": "code",
   "execution_count": 38,
   "id": "a166ab0b-afbd-4040-9ed5-69ae8ec5c315",
   "metadata": {},
   "outputs": [],
   "source": [
    "class MulLayer :\n",
    "    def __init__(self):\n",
    "        self.x = None\n",
    "        self.y = None\n",
    "        \n",
    "    def forward(self,x,y):\n",
    "        self.x = x\n",
    "        self.y = y\n",
    "        \n",
    "        out = x * y\n",
    "        \n",
    "        return out\n",
    "    \n",
    "    def backward(self, dout):\n",
    "        dx = dout * self.y\n",
    "        dy = dout * self.x\n",
    "        \n",
    "        return dx, dy"
   ]
  },
  {
   "cell_type": "code",
   "execution_count": 66,
   "id": "031e327c-6811-4357-b092-9cf5a5ae5ec5",
   "metadata": {},
   "outputs": [],
   "source": [
    "apple = 100\n",
    "apple_num =2\n",
    "tax = 1.1"
   ]
  },
  {
   "cell_type": "code",
   "execution_count": 67,
   "id": "16aa3a6b-764c-4244-aa66-832b59d3fcf1",
   "metadata": {},
   "outputs": [],
   "source": [
    "mul_apple = MulLayer()\n",
    "mul_tax_layer = MulLayer()"
   ]
  },
  {
   "cell_type": "code",
   "execution_count": 68,
   "id": "cc1d9231-619d-4660-8522-65fa94fd232f",
   "metadata": {},
   "outputs": [
    {
     "data": {
      "text/plain": [
       "220.00000000000003"
      ]
     },
     "execution_count": 68,
     "metadata": {},
     "output_type": "execute_result"
    }
   ],
   "source": [
    "apple_price = mul_apple.forward(apple,apple_num)\n",
    "mul_tax_layer.forward(tax,apple_price)"
   ]
  },
  {
   "cell_type": "code",
   "execution_count": 69,
   "id": "539466f2-8aa3-45d6-b604-7f67c0f9ef65",
   "metadata": {},
   "outputs": [],
   "source": [
    "dprice = 1"
   ]
  },
  {
   "cell_type": "code",
   "execution_count": 70,
   "id": "d0090897-c441-4eea-9119-b9922e7be06c",
   "metadata": {},
   "outputs": [],
   "source": [
    "dapple_price, dtax = mul_tax_layer.backward(dprice)"
   ]
  },
  {
   "cell_type": "code",
   "execution_count": 71,
   "id": "b4e549d7-2401-4628-a973-dde15e6f7748",
   "metadata": {},
   "outputs": [],
   "source": [
    "dapple, dapple_num = mul_tax_layer.backward(dapple_price)"
   ]
  },
  {
   "cell_type": "code",
   "execution_count": 72,
   "id": "1e01d7e3-fdc8-4cdf-90a1-7ae129dbcc28",
   "metadata": {},
   "outputs": [
    {
     "name": "stdout",
     "output_type": "stream",
     "text": [
      "200 1.1 40000 220.00000000000003\n"
     ]
    }
   ],
   "source": [
    "print(dapple_price, dtax, dapple, dapple_num)"
   ]
  },
  {
   "cell_type": "code",
   "execution_count": 79,
   "id": "a7d0e324-46b7-4336-9147-a4eeaa5c3a50",
   "metadata": {},
   "outputs": [],
   "source": [
    "class AddLayer :\n",
    "    def __init__(self) :\n",
    "        pass\n",
    "    def forward(self, x, y) :\n",
    "\n",
    "        out = x + y\n",
    "        \n",
    "        return out\n",
    "    \n",
    "    def backward(self,dout):\n",
    "        dx =  dout * 1\n",
    "        dy =  dout * 1\n",
    "        \n",
    "        return dx, dy"
   ]
  },
  {
   "cell_type": "code",
   "execution_count": 88,
   "id": "ffdd45cf-cea9-4528-8784-dc4a7891f7ec",
   "metadata": {},
   "outputs": [],
   "source": [
    "apple = 100\n",
    "apple_num = 2\n",
    "apple_tax = 1.1\n",
    "orange = 150\n",
    "orange_num = 3\n",
    "orange_tax = 1.1"
   ]
  },
  {
   "cell_type": "code",
   "execution_count": 89,
   "id": "ab326183-9355-4c35-93bc-5c84b289141b",
   "metadata": {},
   "outputs": [],
   "source": [
    "mul_apple = MulLayer()\n",
    "add_fruit = AddLayer()\n",
    "mul_tax_layer = MulLayer()\n",
    "mul_orange = MulLayer()"
   ]
  },
  {
   "cell_type": "code",
   "execution_count": 92,
   "id": "ca95a32f-e531-4901-aa06-bf2bb6dd755e",
   "metadata": {},
   "outputs": [],
   "source": [
    "ap1 = mul_apple.forward(apple, apple_num)\n",
    "or1 = mul_orange.forward(orange,orange_num)"
   ]
  },
  {
   "cell_type": "code",
   "execution_count": 96,
   "id": "b5f34501-11b3-4971-8028-60354562e2ec",
   "metadata": {},
   "outputs": [],
   "source": [
    "fruit_tax = add_fruit.forward(ap1,or1)"
   ]
  },
  {
   "cell_type": "code",
   "execution_count": 98,
   "id": "b97b756c-eec6-49c5-9535-a19cec60e628",
   "metadata": {},
   "outputs": [],
   "source": [
    "final = mul_tax_layer.forward(fruit_tax,apple_tax)"
   ]
  },
  {
   "cell_type": "code",
   "execution_count": 99,
   "id": "544d24e8-7b78-4d56-b49a-16cc8378dbdb",
   "metadata": {},
   "outputs": [
    {
     "name": "stdout",
     "output_type": "stream",
     "text": [
      "200 450 650 715.0000000000001\n"
     ]
    }
   ],
   "source": [
    "print(ap1, or1, fruit_tax, final)"
   ]
  },
  {
   "cell_type": "code",
   "execution_count": 100,
   "id": "32ac0452-2856-41c6-8707-704d0a8b51c2",
   "metadata": {},
   "outputs": [],
   "source": [
    "dprice = 1"
   ]
  },
  {
   "cell_type": "code",
   "execution_count": 102,
   "id": "7b9d881f-d76c-42eb-b428-18a276501c97",
   "metadata": {},
   "outputs": [],
   "source": [
    "dfruit_tax,dtax = mul_tax_layer.backward(dprice)"
   ]
  },
  {
   "cell_type": "code",
   "execution_count": 106,
   "id": "35d417a4-582d-4151-b062-bd8546c378c6",
   "metadata": {},
   "outputs": [],
   "source": [
    "dap1, dor1 = add_fruit.backward(dfruit_tax)"
   ]
  },
  {
   "cell_type": "code",
   "execution_count": 111,
   "id": "24ad7209-f543-4ba0-a921-faeba59fe632",
   "metadata": {},
   "outputs": [],
   "source": [
    "dapple, dapple_num = mul_apple.backward(dap1)"
   ]
  },
  {
   "cell_type": "code",
   "execution_count": 112,
   "id": "9418ad1b-d12e-4ae7-9515-8fffd601ade9",
   "metadata": {},
   "outputs": [],
   "source": [
    "dorange, dorange_num = mul_orange.backward(dor1)"
   ]
  },
  {
   "cell_type": "code",
   "execution_count": 113,
   "id": "cace2122-3d73-4e71-b0de-bee2960c880e",
   "metadata": {},
   "outputs": [
    {
     "name": "stdout",
     "output_type": "stream",
     "text": [
      "1.1 650 1.1 1.1 2.2 110.00000000000001 3.3000000000000003 165.0\n"
     ]
    }
   ],
   "source": [
    "print(dfruit_tax, dtax, dap1, dor1, dapple, dapple_num, dorange, dorange_num)"
   ]
  },
  {
   "cell_type": "markdown",
   "id": "44dfdf03-4bef-450b-892c-3b679a4afa03",
   "metadata": {},
   "source": [
    "----------------------------------------------------"
   ]
  },
  {
   "cell_type": "code",
   "execution_count": 143,
   "id": "395f98c2-b52c-4046-ab7a-82ecfa745022",
   "metadata": {},
   "outputs": [],
   "source": [
    "class Relu :\n",
    "    def __init__(self):\n",
    "        self.mask = None\n",
    "    def forward(self, x):\n",
    "        self.mask  = (x<=0)\n",
    "        out = x.copy()\n",
    "        out[self.mask] = 0\n",
    "        \n",
    "    def backward(self, dout) :\n",
    "        dout[self.mask] = 0\n",
    "        dx = dout\n",
    "        \n",
    "        return dx"
   ]
  },
  {
   "cell_type": "code",
   "execution_count": 144,
   "id": "67434d6f-bc33-486d-ba89-c737db8db52a",
   "metadata": {},
   "outputs": [],
   "source": [
    "import numpy as np"
   ]
  },
  {
   "cell_type": "code",
   "execution_count": 145,
   "id": "2ee2c721-8456-4deb-a2b0-f0d1c884a986",
   "metadata": {},
   "outputs": [],
   "source": [
    "x = np.array([[1.0,0.5],[-2.0,3.0]])"
   ]
  },
  {
   "cell_type": "code",
   "execution_count": 146,
   "id": "8537a2f0-b068-44c2-89b8-28e17a240bfc",
   "metadata": {},
   "outputs": [
    {
     "data": {
      "text/plain": [
       "array([[False, False],\n",
       "       [ True, False]])"
      ]
     },
     "execution_count": 146,
     "metadata": {},
     "output_type": "execute_result"
    }
   ],
   "source": [
    "x <= 0"
   ]
  },
  {
   "cell_type": "code",
   "execution_count": 147,
   "id": "d6c734c2-5366-46dc-83b8-1872d807b29d",
   "metadata": {},
   "outputs": [],
   "source": [
    "relu = Relu()"
   ]
  },
  {
   "cell_type": "code",
   "execution_count": 148,
   "id": "dbadb260-edac-41ef-b3bf-781885f23f3f",
   "metadata": {},
   "outputs": [],
   "source": [
    "relu.forward(x)"
   ]
  },
  {
   "cell_type": "code",
   "execution_count": 151,
   "id": "5bb24aa8-b718-49a6-9de9-1311ccc9854d",
   "metadata": {},
   "outputs": [],
   "source": [
    "dout = np.array([[5.0,6.0],[7.0,8.0]])"
   ]
  },
  {
   "cell_type": "code",
   "execution_count": 152,
   "id": "a9bff561-5d18-4bce-9b7e-67e05cd3bb7e",
   "metadata": {},
   "outputs": [
    {
     "data": {
      "text/plain": [
       "array([[5., 6.],\n",
       "       [0., 8.]])"
      ]
     },
     "execution_count": 152,
     "metadata": {},
     "output_type": "execute_result"
    }
   ],
   "source": [
    "relu.backward(dout)"
   ]
  },
  {
   "cell_type": "markdown",
   "id": "56057c20-af5c-4ea3-aebf-f5ec06f4b2b3",
   "metadata": {},
   "source": [
    "---------------------------"
   ]
  },
  {
   "cell_type": "code",
   "execution_count": 154,
   "id": "0cc417a7-2886-44fd-997b-acc6b1b69a8e",
   "metadata": {},
   "outputs": [],
   "source": [
    "X = np.random.rand(2)\n",
    "W = np.random.rand(2,3)\n",
    "B = np.random.rand(3)"
   ]
  },
  {
   "cell_type": "code",
   "execution_count": 155,
   "id": "bee829d8-f9de-46fa-b4b2-216f351e3fcd",
   "metadata": {},
   "outputs": [
    {
     "data": {
      "text/plain": [
       "array([0.07853178, 0.7233189 ])"
      ]
     },
     "execution_count": 155,
     "metadata": {},
     "output_type": "execute_result"
    }
   ],
   "source": [
    "X"
   ]
  },
  {
   "cell_type": "code",
   "execution_count": 156,
   "id": "a99fba7c-7d68-437f-bf21-44208097b64f",
   "metadata": {},
   "outputs": [],
   "source": [
    "Y = np.dot(X,W) +B"
   ]
  },
  {
   "cell_type": "code",
   "execution_count": 157,
   "id": "ccaead66-150f-4635-899f-7df7f68d3b94",
   "metadata": {},
   "outputs": [
    {
     "data": {
      "text/plain": [
       "array([1.30961835, 1.03049783, 0.72520172])"
      ]
     },
     "execution_count": 157,
     "metadata": {},
     "output_type": "execute_result"
    }
   ],
   "source": [
    "Y"
   ]
  },
  {
   "cell_type": "markdown",
   "id": "163b5fc7-54a8-4165-a09f-33c6bd7312c7",
   "metadata": {},
   "source": [
    "------------------------------------"
   ]
  },
  {
   "cell_type": "code",
   "execution_count": 167,
   "id": "a3d5cb0b-81fd-4334-bf87-df3e21fd54d6",
   "metadata": {},
   "outputs": [
    {
     "data": {
      "text/plain": [
       "(3,)"
      ]
     },
     "execution_count": 167,
     "metadata": {},
     "output_type": "execute_result"
    }
   ],
   "source": [
    "Y.T.shape"
   ]
  },
  {
   "cell_type": "code",
   "execution_count": 170,
   "id": "438c8f7c-1e68-4459-a14a-4727f416fbf4",
   "metadata": {},
   "outputs": [
    {
     "data": {
      "text/plain": [
       "array([1.30961835, 1.03049783, 0.72520172])"
      ]
     },
     "execution_count": 170,
     "metadata": {},
     "output_type": "execute_result"
    }
   ],
   "source": [
    "Y.T"
   ]
  },
  {
   "cell_type": "markdown",
   "id": "646a94a0-5182-4f79-ae24-05081d46dc8e",
   "metadata": {},
   "source": [
    "--------------------------------------------"
   ]
  },
  {
   "cell_type": "code",
   "execution_count": 176,
   "id": "f9a7769b-3c89-48b3-9c6d-e7869654aa2f",
   "metadata": {},
   "outputs": [],
   "source": [
    "x_dot_W = np.array([[0,0,0],[10,10,10]]) #3 * 2\n",
    "B = np.array([1,2,3]) # 3* 1"
   ]
  },
  {
   "cell_type": "code",
   "execution_count": 177,
   "id": "8804f60e-d85e-4821-b80b-12c93758bff9",
   "metadata": {},
   "outputs": [],
   "source": [
    "dy = np.array([[1,2,3],[4,5,6]])"
   ]
  },
  {
   "cell_type": "code",
   "execution_count": 178,
   "id": "8d0f0303-c0f4-4661-abf6-73cac668a7aa",
   "metadata": {},
   "outputs": [],
   "source": [
    "db = np.sum(dy, axis=0)"
   ]
  },
  {
   "cell_type": "code",
   "execution_count": 180,
   "id": "d3a9739f-6a23-401f-bade-abf5370b48e3",
   "metadata": {},
   "outputs": [
    {
     "data": {
      "text/plain": [
       "array([5, 7, 9])"
      ]
     },
     "execution_count": 180,
     "metadata": {},
     "output_type": "execute_result"
    }
   ],
   "source": [
    "db"
   ]
  },
  {
   "cell_type": "markdown",
   "id": "a0a07a97-7edf-405c-9258-ba9ac3befedb",
   "metadata": {},
   "source": [
    "-----------------------------------"
   ]
  },
  {
   "cell_type": "code",
   "execution_count": 190,
   "id": "187f2ff6-71db-4bb5-8d95-483f34a88109",
   "metadata": {},
   "outputs": [],
   "source": [
    "class Affine :\n",
    "    def __init__(self, W, b) :\n",
    "        self.W = W\n",
    "        self.b = b\n",
    "        self.x = None\n",
    "        self.dW = None\n",
    "        self.db = None\n",
    "    def forward(self, x): \n",
    "        self.x = x\n",
    "        out = np.dot(x, self.W)  + self.b\n",
    "        \n",
    "        return out\n",
    "    \n",
    "    def backward(self, dout):\n",
    "        dx = np.dot(dout,self.W.T)\n",
    "        self.dW = np.dot(self.x.T, dout)\n",
    "        self.db = np.sum(dout, axis = 0)\n",
    "        \n",
    "        return dx"
   ]
  },
  {
   "cell_type": "code",
   "execution_count": 191,
   "id": "5e2bdd0b-d7d7-4d19-a5ec-8684b90f6d53",
   "metadata": {},
   "outputs": [],
   "source": [
    "from common.functions import *"
   ]
  },
  {
   "cell_type": "code",
   "execution_count": 194,
   "id": "52568f59-81c2-4aba-8f35-66ce716f772c",
   "metadata": {},
   "outputs": [],
   "source": [
    "class SoftmaxWithLoss :\n",
    "    def __init__(self) :\n",
    "        self.loss = None\n",
    "        self.y = None\n",
    "        self.t = None\n",
    "        \n",
    "    def forword(self, x, t) :\n",
    "        self.t = t\n",
    "        self.y =softmax()\n",
    "        self.loss = cross_entropy_error(self.y,self.t)\n",
    "        \n",
    "        return self.loss\n",
    "    \n",
    "    def backward(self, dout=1):\n",
    "        batch_size = self.t.shape[0]\n",
    "        dx = self.y -self.t / batch_size\n",
    "        \n",
    "        return dx"
   ]
  },
  {
   "cell_type": "code",
   "execution_count": null,
   "id": "80f1e04f-c34e-4c5f-b9ab-5189b88e24f6",
   "metadata": {},
   "outputs": [],
   "source": []
  }
 ],
 "metadata": {
  "kernelspec": {
   "display_name": "Python 3 (ipykernel)",
   "language": "python",
   "name": "python3"
  },
  "language_info": {
   "codemirror_mode": {
    "name": "ipython",
    "version": 3
   },
   "file_extension": ".py",
   "mimetype": "text/x-python",
   "name": "python",
   "nbconvert_exporter": "python",
   "pygments_lexer": "ipython3",
   "version": "3.9.15"
  }
 },
 "nbformat": 4,
 "nbformat_minor": 5
}
