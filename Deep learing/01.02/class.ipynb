{
 "cells": [
  {
   "cell_type": "code",
   "execution_count": 37,
   "id": "1f8d8cb9-b398-416e-8bff-199ceb17c4f6",
   "metadata": {},
   "outputs": [],
   "source": [
    "result = 0\n",
    "\n",
    "def add(num):\n",
    "    global result\n",
    "    result1 += num\n",
    "    return result"
   ]
  },
  {
   "cell_type": "code",
   "execution_count": 38,
   "id": "6f6edc85-dbee-4dc8-87ba-21fb90e13005",
   "metadata": {},
   "outputs": [],
   "source": [
    "result1 = 0\n",
    "\n",
    "def add(num):\n",
    "    global result1\n",
    "    result1 += num\n",
    "    return result1"
   ]
  },
  {
   "cell_type": "code",
   "execution_count": 46,
   "id": "80acbc7d-955c-4d87-bda4-fa88f97ec389",
   "metadata": {},
   "outputs": [],
   "source": [
    "class Calculato :\n",
    "    def __init__(self):\n",
    "        self.result = 0\n",
    "        \n",
    "    def add(self, num) :\n",
    "        self.result += num\n",
    "        return self.result\n",
    "    def sub(self, num) :\n",
    "        self.add(1)\n",
    "        self.result -= num\n",
    "        return self.result"
   ]
  },
  {
   "cell_type": "code",
   "execution_count": 47,
   "id": "a4252593-0a84-4850-9d3d-56724de1bfc0",
   "metadata": {},
   "outputs": [],
   "source": [
    "calc1 = Calculato() #init이 먼저실행댐"
   ]
  },
  {
   "cell_type": "code",
   "execution_count": 48,
   "id": "317d80ad-a429-48e2-a4f6-438e6bf27923",
   "metadata": {},
   "outputs": [
    {
     "data": {
      "text/plain": [
       "3"
      ]
     },
     "execution_count": 48,
     "metadata": {},
     "output_type": "execute_result"
    }
   ],
   "source": [
    "calc1.add(3)"
   ]
  },
  {
   "cell_type": "code",
   "execution_count": 49,
   "id": "c86f023c-568f-40b8-8b92-bbc03b171cd0",
   "metadata": {},
   "outputs": [
    {
     "data": {
      "text/plain": [
       "7"
      ]
     },
     "execution_count": 49,
     "metadata": {},
     "output_type": "execute_result"
    }
   ],
   "source": [
    "calc1.add(4)"
   ]
  },
  {
   "cell_type": "code",
   "execution_count": 50,
   "id": "c93f76e0-4e88-4a13-9d49-af2092e6ad4e",
   "metadata": {},
   "outputs": [],
   "source": [
    "calc2 = Calculato()"
   ]
  },
  {
   "cell_type": "code",
   "execution_count": 51,
   "id": "c7947e09-b7d1-4e39-9d6b-b53bc4de28c1",
   "metadata": {},
   "outputs": [
    {
     "data": {
      "text/plain": [
       "4"
      ]
     },
     "execution_count": 51,
     "metadata": {},
     "output_type": "execute_result"
    }
   ],
   "source": [
    "calc2.add(4)"
   ]
  },
  {
   "cell_type": "code",
   "execution_count": 54,
   "id": "b9290dc2-0372-4ad6-8052-8040a721965e",
   "metadata": {},
   "outputs": [
    {
     "data": {
      "text/plain": [
       "4"
      ]
     },
     "execution_count": 54,
     "metadata": {},
     "output_type": "execute_result"
    }
   ],
   "source": [
    "calc2.sub(1)"
   ]
  },
  {
   "cell_type": "code",
   "execution_count": null,
   "id": "5260b6bc-d6cb-460e-8793-fb96b372d020",
   "metadata": {},
   "outputs": [],
   "source": []
  }
 ],
 "metadata": {
  "kernelspec": {
   "display_name": "Python 3 (ipykernel)",
   "language": "python",
   "name": "python3"
  },
  "language_info": {
   "codemirror_mode": {
    "name": "ipython",
    "version": 3
   },
   "file_extension": ".py",
   "mimetype": "text/x-python",
   "name": "python",
   "nbconvert_exporter": "python",
   "pygments_lexer": "ipython3",
   "version": "3.9.15"
  }
 },
 "nbformat": 4,
 "nbformat_minor": 5
}
