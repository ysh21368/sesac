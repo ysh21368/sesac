{
 "cells": [
  {
   "cell_type": "markdown",
   "id": "4755da9d-7d04-42ef-938f-56b7688ec80e",
   "metadata": {},
   "source": [
    "## 데이터 전처리"
   ]
  },
  {
   "cell_type": "markdown",
   "id": "f60e8004-3213-43ad-96ea-9ac6e430b71f",
   "metadata": {
    "jp-MarkdownHeadingCollapsed": true,
    "tags": []
   },
   "source": [
    "- 1.이상치 삭제하기(item_price, item_cnt_day가 0보다 같거나 적은거 삭제)  \n",
    "- 2.년(year), 월(month), 일(day) 로 date를 분리하기 \n",
    "- 3.수입(income), 연일(y_m), 월일(m_d) 데이터 만들기  "
   ]
  },
  {
   "cell_type": "markdown",
   "id": "88e396f6-81dc-42ac-9c3d-393a2970009b",
   "metadata": {},
   "source": [
    "전체 데이터 2928492 개  / \n",
    "컬럼 11개\n",
    "(date, shop_id, item_id, item_price, item_cnt_day, income, day, month, year, y_m, m_d)"
   ]
  },
  {
   "cell_type": "code",
   "execution_count": null,
   "id": "3a29d9b1-5c05-4c6f-8dd8-8402f1f25399",
   "metadata": {},
   "outputs": [],
   "source": [
    "# 1. 데이터 불러오기"
   ]
  },
  {
   "cell_type": "code",
   "execution_count": 1,
   "id": "46899915-91b4-4ad7-87f9-3ae15fff17ed",
   "metadata": {},
   "outputs": [],
   "source": [
    "import pandas as pd"
   ]
  },
  {
   "cell_type": "code",
   "execution_count": 2,
   "id": "1d2d93ea-bbe3-4222-a67f-cd4cbb28ed3e",
   "metadata": {},
   "outputs": [],
   "source": [
    "sales = pd.read_csv('sales.csv')"
   ]
  },
  {
   "cell_type": "code",
   "execution_count": 3,
   "id": "de79c27c-a42f-4d6c-8ed8-c47de1f25a9a",
   "metadata": {},
   "outputs": [
    {
     "name": "stdout",
     "output_type": "stream",
     "text": [
      "<class 'pandas.core.frame.DataFrame'>\n",
      "RangeIndex: 2935849 entries, 0 to 2935848\n",
      "Data columns (total 5 columns):\n",
      " #   Column        Dtype  \n",
      "---  ------        -----  \n",
      " 0   date          object \n",
      " 1   shop_id       int64  \n",
      " 2   item_id       int64  \n",
      " 3   item_price    float64\n",
      " 4   item_cnt_day  float64\n",
      "dtypes: float64(2), int64(2), object(1)\n",
      "memory usage: 112.0+ MB\n"
     ]
    }
   ],
   "source": [
    "sales.info()"
   ]
  },
  {
   "cell_type": "code",
   "execution_count": 4,
   "id": "b79ca230-971b-4b86-8f18-3c7405af5ca6",
   "metadata": {},
   "outputs": [
    {
     "data": {
      "text/html": [
       "<div>\n",
       "<style scoped>\n",
       "    .dataframe tbody tr th:only-of-type {\n",
       "        vertical-align: middle;\n",
       "    }\n",
       "\n",
       "    .dataframe tbody tr th {\n",
       "        vertical-align: top;\n",
       "    }\n",
       "\n",
       "    .dataframe thead th {\n",
       "        text-align: right;\n",
       "    }\n",
       "</style>\n",
       "<table border=\"1\" class=\"dataframe\">\n",
       "  <thead>\n",
       "    <tr style=\"text-align: right;\">\n",
       "      <th></th>\n",
       "      <th>date</th>\n",
       "      <th>shop_id</th>\n",
       "      <th>item_id</th>\n",
       "      <th>item_price</th>\n",
       "      <th>item_cnt_day</th>\n",
       "    </tr>\n",
       "  </thead>\n",
       "  <tbody>\n",
       "    <tr>\n",
       "      <th>0</th>\n",
       "      <td>02.01.2013</td>\n",
       "      <td>59</td>\n",
       "      <td>22154</td>\n",
       "      <td>999.00</td>\n",
       "      <td>1.0</td>\n",
       "    </tr>\n",
       "    <tr>\n",
       "      <th>1</th>\n",
       "      <td>03.01.2013</td>\n",
       "      <td>25</td>\n",
       "      <td>2552</td>\n",
       "      <td>899.00</td>\n",
       "      <td>1.0</td>\n",
       "    </tr>\n",
       "    <tr>\n",
       "      <th>2</th>\n",
       "      <td>05.01.2013</td>\n",
       "      <td>25</td>\n",
       "      <td>2552</td>\n",
       "      <td>899.00</td>\n",
       "      <td>-1.0</td>\n",
       "    </tr>\n",
       "    <tr>\n",
       "      <th>3</th>\n",
       "      <td>06.01.2013</td>\n",
       "      <td>25</td>\n",
       "      <td>2554</td>\n",
       "      <td>1709.05</td>\n",
       "      <td>1.0</td>\n",
       "    </tr>\n",
       "    <tr>\n",
       "      <th>4</th>\n",
       "      <td>15.01.2013</td>\n",
       "      <td>25</td>\n",
       "      <td>2555</td>\n",
       "      <td>1099.00</td>\n",
       "      <td>1.0</td>\n",
       "    </tr>\n",
       "  </tbody>\n",
       "</table>\n",
       "</div>"
      ],
      "text/plain": [
       "         date  shop_id  item_id  item_price  item_cnt_day\n",
       "0  02.01.2013       59    22154      999.00           1.0\n",
       "1  03.01.2013       25     2552      899.00           1.0\n",
       "2  05.01.2013       25     2552      899.00          -1.0\n",
       "3  06.01.2013       25     2554     1709.05           1.0\n",
       "4  15.01.2013       25     2555     1099.00           1.0"
      ]
     },
     "execution_count": 4,
     "metadata": {},
     "output_type": "execute_result"
    }
   ],
   "source": [
    "sales.head()"
   ]
  },
  {
   "cell_type": "code",
   "execution_count": 5,
   "id": "ce5c5bc8-bd2b-46f8-ae74-45f02f683c9d",
   "metadata": {},
   "outputs": [],
   "source": [
    "# 1-1.'item_price'의 이상치 삭제하기"
   ]
  },
  {
   "cell_type": "code",
   "execution_count": 6,
   "id": "df2f468a-cd52-4f60-9430-182053e98551",
   "metadata": {},
   "outputs": [
    {
     "data": {
      "text/plain": [
       "484683"
      ]
     },
     "execution_count": 6,
     "metadata": {},
     "output_type": "execute_result"
    }
   ],
   "source": [
    "sales[sales['item_price'] <= 0].index[0]"
   ]
  },
  {
   "cell_type": "code",
   "execution_count": 7,
   "id": "b6fe4b77-e351-4668-bc8c-97059e050da5",
   "metadata": {},
   "outputs": [
    {
     "name": "stdout",
     "output_type": "stream",
     "text": [
      "date            15.05.2013\n",
      "shop_id                 32\n",
      "item_id               2973\n",
      "item_price            -1.0\n",
      "item_cnt_day           1.0\n",
      "Name: 484683, dtype: object\n"
     ]
    }
   ],
   "source": [
    "print(sales.iloc[484683])"
   ]
  },
  {
   "cell_type": "code",
   "execution_count": 8,
   "id": "2501bde8-27c7-4b0d-b609-e41257e40801",
   "metadata": {},
   "outputs": [
    {
     "data": {
      "text/plain": [
       "Int64Index([484683], dtype='int64')"
      ]
     },
     "execution_count": 8,
     "metadata": {},
     "output_type": "execute_result"
    }
   ],
   "source": [
    "sales[sales['item_price'] <= 0].index"
   ]
  },
  {
   "cell_type": "code",
   "execution_count": 9,
   "id": "04e540d3-0d24-4a22-a0f0-9ee2a28b158e",
   "metadata": {},
   "outputs": [],
   "source": [
    "sales.drop(sales[sales['item_price'] <= 0].index, inplace=True)"
   ]
  },
  {
   "cell_type": "code",
   "execution_count": 10,
   "id": "90058532-dbfd-485b-b6a3-0df36f0daf90",
   "metadata": {},
   "outputs": [
    {
     "data": {
      "text/plain": [
       "Int64Index([], dtype='int64')"
      ]
     },
     "execution_count": 10,
     "metadata": {},
     "output_type": "execute_result"
    }
   ],
   "source": [
    "sales[sales['item_price'] <= 0].index"
   ]
  },
  {
   "cell_type": "code",
   "execution_count": null,
   "id": "149021e3-0d66-451a-9feb-534438015923",
   "metadata": {},
   "outputs": [],
   "source": [
    "# 1-2.'item_cnt_day'의 이상치 삭제하기"
   ]
  },
  {
   "cell_type": "code",
   "execution_count": 11,
   "id": "16067fb5-93ff-4edf-9f62-f48b65407443",
   "metadata": {},
   "outputs": [
    {
     "data": {
      "text/plain": [
       "2"
      ]
     },
     "execution_count": 11,
     "metadata": {},
     "output_type": "execute_result"
    }
   ],
   "source": [
    "sales[sales['item_cnt_day'] <= 0].index[0]"
   ]
  },
  {
   "cell_type": "code",
   "execution_count": 12,
   "id": "17bf8782-2b99-4d60-bd42-cccf0aa218b4",
   "metadata": {},
   "outputs": [
    {
     "data": {
      "text/plain": [
       "Int64Index([      2,     148,     175,     807,    1041,    1193,    1674,\n",
       "               1825,    2411,    3216,\n",
       "            ...\n",
       "            2932589, 2932636, 2932721, 2933448, 2933712, 2934243, 2934462,\n",
       "            2935263, 2935643, 2935779],\n",
       "           dtype='int64', length=7356)"
      ]
     },
     "execution_count": 12,
     "metadata": {},
     "output_type": "execute_result"
    }
   ],
   "source": [
    "sales[sales['item_cnt_day'] < 0].index"
   ]
  },
  {
   "cell_type": "code",
   "execution_count": 13,
   "id": "8f686e88-9023-4a11-9aa2-3e5ab3c7ab1d",
   "metadata": {},
   "outputs": [],
   "source": [
    "sales.drop(sales[sales['item_cnt_day'] <= 0].index, inplace=True)"
   ]
  },
  {
   "cell_type": "code",
   "execution_count": 14,
   "id": "ca275949-41fe-42ce-90bf-88a32a27c934",
   "metadata": {},
   "outputs": [
    {
     "data": {
      "text/plain": [
       "Int64Index([], dtype='int64')"
      ]
     },
     "execution_count": 14,
     "metadata": {},
     "output_type": "execute_result"
    }
   ],
   "source": [
    "sales[sales['item_cnt_day'] < 0].index"
   ]
  },
  {
   "cell_type": "code",
   "execution_count": 29,
   "id": "dccc3e35-0d28-49d3-8968-5ea33ceb63bb",
   "metadata": {},
   "outputs": [
    {
     "data": {
      "text/plain": [
       "(2928492, 11)"
      ]
     },
     "execution_count": 29,
     "metadata": {},
     "output_type": "execute_result"
    }
   ],
   "source": [
    "sales.shape"
   ]
  },
  {
   "cell_type": "code",
   "execution_count": null,
   "id": "47dab8af-d403-4b03-b621-a003e0c1e154",
   "metadata": {},
   "outputs": [],
   "source": []
  },
  {
   "cell_type": "code",
   "execution_count": null,
   "id": "4a55b536-fee3-423e-aa2e-12affc5cd8ce",
   "metadata": {},
   "outputs": [],
   "source": [
    "# 2.년(year), 월(month), 일(day) 로 date를 분리하기 "
   ]
  },
  {
   "cell_type": "code",
   "execution_count": null,
   "id": "0d9ece88-bf60-40dc-b414-f9c41451acef",
   "metadata": {},
   "outputs": [],
   "source": []
  },
  {
   "cell_type": "code",
   "execution_count": null,
   "id": "8359944b-6cf6-49d5-8162-afa984786464",
   "metadata": {},
   "outputs": [],
   "source": []
  },
  {
   "cell_type": "code",
   "execution_count": null,
   "id": "e1487c61-ac99-48f6-ada2-31b366a56c52",
   "metadata": {},
   "outputs": [],
   "source": []
  },
  {
   "cell_type": "code",
   "execution_count": null,
   "id": "df1703b8-b5a6-4712-8cc1-7b1f0249a2c4",
   "metadata": {},
   "outputs": [],
   "source": []
  },
  {
   "cell_type": "code",
   "execution_count": 15,
   "id": "dcb3acff-6328-4d72-8869-4a04697a4da3",
   "metadata": {},
   "outputs": [
    {
     "data": {
      "text/html": [
       "<div>\n",
       "<style scoped>\n",
       "    .dataframe tbody tr th:only-of-type {\n",
       "        vertical-align: middle;\n",
       "    }\n",
       "\n",
       "    .dataframe tbody tr th {\n",
       "        vertical-align: top;\n",
       "    }\n",
       "\n",
       "    .dataframe thead th {\n",
       "        text-align: right;\n",
       "    }\n",
       "</style>\n",
       "<table border=\"1\" class=\"dataframe\">\n",
       "  <thead>\n",
       "    <tr style=\"text-align: right;\">\n",
       "      <th></th>\n",
       "      <th>0</th>\n",
       "    </tr>\n",
       "  </thead>\n",
       "  <tbody>\n",
       "    <tr>\n",
       "      <th>0</th>\n",
       "      <td>02.01.2013</td>\n",
       "    </tr>\n",
       "    <tr>\n",
       "      <th>1</th>\n",
       "      <td>03.01.2013</td>\n",
       "    </tr>\n",
       "    <tr>\n",
       "      <th>3</th>\n",
       "      <td>06.01.2013</td>\n",
       "    </tr>\n",
       "    <tr>\n",
       "      <th>4</th>\n",
       "      <td>15.01.2013</td>\n",
       "    </tr>\n",
       "    <tr>\n",
       "      <th>5</th>\n",
       "      <td>10.01.2013</td>\n",
       "    </tr>\n",
       "    <tr>\n",
       "      <th>...</th>\n",
       "      <td>...</td>\n",
       "    </tr>\n",
       "    <tr>\n",
       "      <th>2935844</th>\n",
       "      <td>10.10.2015</td>\n",
       "    </tr>\n",
       "    <tr>\n",
       "      <th>2935845</th>\n",
       "      <td>09.10.2015</td>\n",
       "    </tr>\n",
       "    <tr>\n",
       "      <th>2935846</th>\n",
       "      <td>14.10.2015</td>\n",
       "    </tr>\n",
       "    <tr>\n",
       "      <th>2935847</th>\n",
       "      <td>22.10.2015</td>\n",
       "    </tr>\n",
       "    <tr>\n",
       "      <th>2935848</th>\n",
       "      <td>03.10.2015</td>\n",
       "    </tr>\n",
       "  </tbody>\n",
       "</table>\n",
       "<p>2928492 rows × 1 columns</p>\n",
       "</div>"
      ],
      "text/plain": [
       "                  0\n",
       "0        02.01.2013\n",
       "1        03.01.2013\n",
       "3        06.01.2013\n",
       "4        15.01.2013\n",
       "5        10.01.2013\n",
       "...             ...\n",
       "2935844  10.10.2015\n",
       "2935845  09.10.2015\n",
       "2935846  14.10.2015\n",
       "2935847  22.10.2015\n",
       "2935848  03.10.2015\n",
       "\n",
       "[2928492 rows x 1 columns]"
      ]
     },
     "execution_count": 15,
     "metadata": {},
     "output_type": "execute_result"
    }
   ],
   "source": [
    "sales['date'].str.split(',', expand=True)"
   ]
  },
  {
   "cell_type": "code",
   "execution_count": 27,
   "id": "065e4bbe-683c-4cd5-b82f-b311e3076566",
   "metadata": {},
   "outputs": [],
   "source": [
    "sales[['day','month','year']] = sales['date'].str.split('.', expand=True)"
   ]
  },
  {
   "cell_type": "code",
   "execution_count": 28,
   "id": "ec95a60f-cdf3-4be4-a417-f54401bdc1d2",
   "metadata": {},
   "outputs": [
    {
     "data": {
      "text/html": [
       "<div>\n",
       "<style scoped>\n",
       "    .dataframe tbody tr th:only-of-type {\n",
       "        vertical-align: middle;\n",
       "    }\n",
       "\n",
       "    .dataframe tbody tr th {\n",
       "        vertical-align: top;\n",
       "    }\n",
       "\n",
       "    .dataframe thead th {\n",
       "        text-align: right;\n",
       "    }\n",
       "</style>\n",
       "<table border=\"1\" class=\"dataframe\">\n",
       "  <thead>\n",
       "    <tr style=\"text-align: right;\">\n",
       "      <th></th>\n",
       "      <th>date</th>\n",
       "      <th>shop_id</th>\n",
       "      <th>item_id</th>\n",
       "      <th>item_price</th>\n",
       "      <th>item_cnt_day</th>\n",
       "      <th>day</th>\n",
       "      <th>month</th>\n",
       "      <th>year</th>\n",
       "      <th>income</th>\n",
       "      <th>y_m</th>\n",
       "      <th>m_d</th>\n",
       "    </tr>\n",
       "  </thead>\n",
       "  <tbody>\n",
       "    <tr>\n",
       "      <th>0</th>\n",
       "      <td>02.01.2013</td>\n",
       "      <td>59</td>\n",
       "      <td>22154</td>\n",
       "      <td>999.00</td>\n",
       "      <td>1.0</td>\n",
       "      <td>02</td>\n",
       "      <td>01</td>\n",
       "      <td>2013</td>\n",
       "      <td>999.00</td>\n",
       "      <td>2013년 01월</td>\n",
       "      <td>01월 02일</td>\n",
       "    </tr>\n",
       "    <tr>\n",
       "      <th>1</th>\n",
       "      <td>03.01.2013</td>\n",
       "      <td>25</td>\n",
       "      <td>2552</td>\n",
       "      <td>899.00</td>\n",
       "      <td>1.0</td>\n",
       "      <td>03</td>\n",
       "      <td>01</td>\n",
       "      <td>2013</td>\n",
       "      <td>899.00</td>\n",
       "      <td>2013년 01월</td>\n",
       "      <td>01월 03일</td>\n",
       "    </tr>\n",
       "    <tr>\n",
       "      <th>3</th>\n",
       "      <td>06.01.2013</td>\n",
       "      <td>25</td>\n",
       "      <td>2554</td>\n",
       "      <td>1709.05</td>\n",
       "      <td>1.0</td>\n",
       "      <td>06</td>\n",
       "      <td>01</td>\n",
       "      <td>2013</td>\n",
       "      <td>1709.05</td>\n",
       "      <td>2013년 01월</td>\n",
       "      <td>01월 06일</td>\n",
       "    </tr>\n",
       "    <tr>\n",
       "      <th>4</th>\n",
       "      <td>15.01.2013</td>\n",
       "      <td>25</td>\n",
       "      <td>2555</td>\n",
       "      <td>1099.00</td>\n",
       "      <td>1.0</td>\n",
       "      <td>15</td>\n",
       "      <td>01</td>\n",
       "      <td>2013</td>\n",
       "      <td>1099.00</td>\n",
       "      <td>2013년 01월</td>\n",
       "      <td>01월 15일</td>\n",
       "    </tr>\n",
       "    <tr>\n",
       "      <th>5</th>\n",
       "      <td>10.01.2013</td>\n",
       "      <td>25</td>\n",
       "      <td>2564</td>\n",
       "      <td>349.00</td>\n",
       "      <td>1.0</td>\n",
       "      <td>10</td>\n",
       "      <td>01</td>\n",
       "      <td>2013</td>\n",
       "      <td>349.00</td>\n",
       "      <td>2013년 01월</td>\n",
       "      <td>01월 10일</td>\n",
       "    </tr>\n",
       "    <tr>\n",
       "      <th>...</th>\n",
       "      <td>...</td>\n",
       "      <td>...</td>\n",
       "      <td>...</td>\n",
       "      <td>...</td>\n",
       "      <td>...</td>\n",
       "      <td>...</td>\n",
       "      <td>...</td>\n",
       "      <td>...</td>\n",
       "      <td>...</td>\n",
       "      <td>...</td>\n",
       "      <td>...</td>\n",
       "    </tr>\n",
       "    <tr>\n",
       "      <th>2935844</th>\n",
       "      <td>10.10.2015</td>\n",
       "      <td>25</td>\n",
       "      <td>7409</td>\n",
       "      <td>299.00</td>\n",
       "      <td>1.0</td>\n",
       "      <td>10</td>\n",
       "      <td>10</td>\n",
       "      <td>2015</td>\n",
       "      <td>299.00</td>\n",
       "      <td>2015년 10월</td>\n",
       "      <td>10월 10일</td>\n",
       "    </tr>\n",
       "    <tr>\n",
       "      <th>2935845</th>\n",
       "      <td>09.10.2015</td>\n",
       "      <td>25</td>\n",
       "      <td>7460</td>\n",
       "      <td>299.00</td>\n",
       "      <td>1.0</td>\n",
       "      <td>09</td>\n",
       "      <td>10</td>\n",
       "      <td>2015</td>\n",
       "      <td>299.00</td>\n",
       "      <td>2015년 10월</td>\n",
       "      <td>10월 09일</td>\n",
       "    </tr>\n",
       "    <tr>\n",
       "      <th>2935846</th>\n",
       "      <td>14.10.2015</td>\n",
       "      <td>25</td>\n",
       "      <td>7459</td>\n",
       "      <td>349.00</td>\n",
       "      <td>1.0</td>\n",
       "      <td>14</td>\n",
       "      <td>10</td>\n",
       "      <td>2015</td>\n",
       "      <td>349.00</td>\n",
       "      <td>2015년 10월</td>\n",
       "      <td>10월 14일</td>\n",
       "    </tr>\n",
       "    <tr>\n",
       "      <th>2935847</th>\n",
       "      <td>22.10.2015</td>\n",
       "      <td>25</td>\n",
       "      <td>7440</td>\n",
       "      <td>299.00</td>\n",
       "      <td>1.0</td>\n",
       "      <td>22</td>\n",
       "      <td>10</td>\n",
       "      <td>2015</td>\n",
       "      <td>299.00</td>\n",
       "      <td>2015년 10월</td>\n",
       "      <td>10월 22일</td>\n",
       "    </tr>\n",
       "    <tr>\n",
       "      <th>2935848</th>\n",
       "      <td>03.10.2015</td>\n",
       "      <td>25</td>\n",
       "      <td>7460</td>\n",
       "      <td>299.00</td>\n",
       "      <td>1.0</td>\n",
       "      <td>03</td>\n",
       "      <td>10</td>\n",
       "      <td>2015</td>\n",
       "      <td>299.00</td>\n",
       "      <td>2015년 10월</td>\n",
       "      <td>10월 03일</td>\n",
       "    </tr>\n",
       "  </tbody>\n",
       "</table>\n",
       "<p>2928492 rows × 11 columns</p>\n",
       "</div>"
      ],
      "text/plain": [
       "               date  shop_id  item_id  item_price  item_cnt_day day month  \\\n",
       "0        02.01.2013       59    22154      999.00           1.0  02    01   \n",
       "1        03.01.2013       25     2552      899.00           1.0  03    01   \n",
       "3        06.01.2013       25     2554     1709.05           1.0  06    01   \n",
       "4        15.01.2013       25     2555     1099.00           1.0  15    01   \n",
       "5        10.01.2013       25     2564      349.00           1.0  10    01   \n",
       "...             ...      ...      ...         ...           ...  ..   ...   \n",
       "2935844  10.10.2015       25     7409      299.00           1.0  10    10   \n",
       "2935845  09.10.2015       25     7460      299.00           1.0  09    10   \n",
       "2935846  14.10.2015       25     7459      349.00           1.0  14    10   \n",
       "2935847  22.10.2015       25     7440      299.00           1.0  22    10   \n",
       "2935848  03.10.2015       25     7460      299.00           1.0  03    10   \n",
       "\n",
       "         year   income        y_m      m_d  \n",
       "0        2013   999.00  2013년 01월  01월 02일  \n",
       "1        2013   899.00  2013년 01월  01월 03일  \n",
       "3        2013  1709.05  2013년 01월  01월 06일  \n",
       "4        2013  1099.00  2013년 01월  01월 15일  \n",
       "5        2013   349.00  2013년 01월  01월 10일  \n",
       "...       ...      ...        ...      ...  \n",
       "2935844  2015   299.00  2015년 10월  10월 10일  \n",
       "2935845  2015   299.00  2015년 10월  10월 09일  \n",
       "2935846  2015   349.00  2015년 10월  10월 14일  \n",
       "2935847  2015   299.00  2015년 10월  10월 22일  \n",
       "2935848  2015   299.00  2015년 10월  10월 03일  \n",
       "\n",
       "[2928492 rows x 11 columns]"
      ]
     },
     "execution_count": 28,
     "metadata": {},
     "output_type": "execute_result"
    }
   ],
   "source": [
    "sales"
   ]
  },
  {
   "cell_type": "code",
   "execution_count": null,
   "id": "bd21f060-c59f-4849-9e25-b90e35c1bba3",
   "metadata": {},
   "outputs": [],
   "source": [
    "# 3. 수입(income), 연일(y_m), 월일(m_d) 데이터 만들기"
   ]
  },
  {
   "cell_type": "code",
   "execution_count": 18,
   "id": "639c7ec8-c9ec-47fd-b2d7-fe50e8c5c570",
   "metadata": {},
   "outputs": [],
   "source": [
    "sales['income'] = sales['item_price'] * sales['item_cnt_day']"
   ]
  },
  {
   "cell_type": "code",
   "execution_count": 19,
   "id": "45aea6b8-006f-44a7-a15d-e16c811b67ba",
   "metadata": {},
   "outputs": [
    {
     "data": {
      "text/plain": [
       "0           999.00\n",
       "1           899.00\n",
       "3          1709.05\n",
       "4          1099.00\n",
       "5           349.00\n",
       "            ...   \n",
       "2935844     299.00\n",
       "2935845     299.00\n",
       "2935846     349.00\n",
       "2935847     299.00\n",
       "2935848     299.00\n",
       "Name: income, Length: 2928492, dtype: float64"
      ]
     },
     "execution_count": 19,
     "metadata": {},
     "output_type": "execute_result"
    }
   ],
   "source": [
    "sales['income']"
   ]
  },
  {
   "cell_type": "code",
   "execution_count": 20,
   "id": "ea750f75-2d72-4f7c-a7b1-6d31a2a3a2d1",
   "metadata": {},
   "outputs": [
    {
     "data": {
      "text/html": [
       "<div>\n",
       "<style scoped>\n",
       "    .dataframe tbody tr th:only-of-type {\n",
       "        vertical-align: middle;\n",
       "    }\n",
       "\n",
       "    .dataframe tbody tr th {\n",
       "        vertical-align: top;\n",
       "    }\n",
       "\n",
       "    .dataframe thead th {\n",
       "        text-align: right;\n",
       "    }\n",
       "</style>\n",
       "<table border=\"1\" class=\"dataframe\">\n",
       "  <thead>\n",
       "    <tr style=\"text-align: right;\">\n",
       "      <th></th>\n",
       "      <th>date</th>\n",
       "      <th>shop_id</th>\n",
       "      <th>item_id</th>\n",
       "      <th>item_price</th>\n",
       "      <th>item_cnt_day</th>\n",
       "      <th>day</th>\n",
       "      <th>month</th>\n",
       "      <th>year</th>\n",
       "      <th>income</th>\n",
       "    </tr>\n",
       "  </thead>\n",
       "  <tbody>\n",
       "    <tr>\n",
       "      <th>0</th>\n",
       "      <td>02.01.2013</td>\n",
       "      <td>59</td>\n",
       "      <td>22154</td>\n",
       "      <td>999.00</td>\n",
       "      <td>1.0</td>\n",
       "      <td>02</td>\n",
       "      <td>01</td>\n",
       "      <td>2013</td>\n",
       "      <td>999.00</td>\n",
       "    </tr>\n",
       "    <tr>\n",
       "      <th>1</th>\n",
       "      <td>03.01.2013</td>\n",
       "      <td>25</td>\n",
       "      <td>2552</td>\n",
       "      <td>899.00</td>\n",
       "      <td>1.0</td>\n",
       "      <td>03</td>\n",
       "      <td>01</td>\n",
       "      <td>2013</td>\n",
       "      <td>899.00</td>\n",
       "    </tr>\n",
       "    <tr>\n",
       "      <th>3</th>\n",
       "      <td>06.01.2013</td>\n",
       "      <td>25</td>\n",
       "      <td>2554</td>\n",
       "      <td>1709.05</td>\n",
       "      <td>1.0</td>\n",
       "      <td>06</td>\n",
       "      <td>01</td>\n",
       "      <td>2013</td>\n",
       "      <td>1709.05</td>\n",
       "    </tr>\n",
       "    <tr>\n",
       "      <th>4</th>\n",
       "      <td>15.01.2013</td>\n",
       "      <td>25</td>\n",
       "      <td>2555</td>\n",
       "      <td>1099.00</td>\n",
       "      <td>1.0</td>\n",
       "      <td>15</td>\n",
       "      <td>01</td>\n",
       "      <td>2013</td>\n",
       "      <td>1099.00</td>\n",
       "    </tr>\n",
       "    <tr>\n",
       "      <th>5</th>\n",
       "      <td>10.01.2013</td>\n",
       "      <td>25</td>\n",
       "      <td>2564</td>\n",
       "      <td>349.00</td>\n",
       "      <td>1.0</td>\n",
       "      <td>10</td>\n",
       "      <td>01</td>\n",
       "      <td>2013</td>\n",
       "      <td>349.00</td>\n",
       "    </tr>\n",
       "    <tr>\n",
       "      <th>...</th>\n",
       "      <td>...</td>\n",
       "      <td>...</td>\n",
       "      <td>...</td>\n",
       "      <td>...</td>\n",
       "      <td>...</td>\n",
       "      <td>...</td>\n",
       "      <td>...</td>\n",
       "      <td>...</td>\n",
       "      <td>...</td>\n",
       "    </tr>\n",
       "    <tr>\n",
       "      <th>2935844</th>\n",
       "      <td>10.10.2015</td>\n",
       "      <td>25</td>\n",
       "      <td>7409</td>\n",
       "      <td>299.00</td>\n",
       "      <td>1.0</td>\n",
       "      <td>10</td>\n",
       "      <td>10</td>\n",
       "      <td>2015</td>\n",
       "      <td>299.00</td>\n",
       "    </tr>\n",
       "    <tr>\n",
       "      <th>2935845</th>\n",
       "      <td>09.10.2015</td>\n",
       "      <td>25</td>\n",
       "      <td>7460</td>\n",
       "      <td>299.00</td>\n",
       "      <td>1.0</td>\n",
       "      <td>09</td>\n",
       "      <td>10</td>\n",
       "      <td>2015</td>\n",
       "      <td>299.00</td>\n",
       "    </tr>\n",
       "    <tr>\n",
       "      <th>2935846</th>\n",
       "      <td>14.10.2015</td>\n",
       "      <td>25</td>\n",
       "      <td>7459</td>\n",
       "      <td>349.00</td>\n",
       "      <td>1.0</td>\n",
       "      <td>14</td>\n",
       "      <td>10</td>\n",
       "      <td>2015</td>\n",
       "      <td>349.00</td>\n",
       "    </tr>\n",
       "    <tr>\n",
       "      <th>2935847</th>\n",
       "      <td>22.10.2015</td>\n",
       "      <td>25</td>\n",
       "      <td>7440</td>\n",
       "      <td>299.00</td>\n",
       "      <td>1.0</td>\n",
       "      <td>22</td>\n",
       "      <td>10</td>\n",
       "      <td>2015</td>\n",
       "      <td>299.00</td>\n",
       "    </tr>\n",
       "    <tr>\n",
       "      <th>2935848</th>\n",
       "      <td>03.10.2015</td>\n",
       "      <td>25</td>\n",
       "      <td>7460</td>\n",
       "      <td>299.00</td>\n",
       "      <td>1.0</td>\n",
       "      <td>03</td>\n",
       "      <td>10</td>\n",
       "      <td>2015</td>\n",
       "      <td>299.00</td>\n",
       "    </tr>\n",
       "  </tbody>\n",
       "</table>\n",
       "<p>2928492 rows × 9 columns</p>\n",
       "</div>"
      ],
      "text/plain": [
       "               date  shop_id  item_id  item_price  item_cnt_day day month  \\\n",
       "0        02.01.2013       59    22154      999.00           1.0  02    01   \n",
       "1        03.01.2013       25     2552      899.00           1.0  03    01   \n",
       "3        06.01.2013       25     2554     1709.05           1.0  06    01   \n",
       "4        15.01.2013       25     2555     1099.00           1.0  15    01   \n",
       "5        10.01.2013       25     2564      349.00           1.0  10    01   \n",
       "...             ...      ...      ...         ...           ...  ..   ...   \n",
       "2935844  10.10.2015       25     7409      299.00           1.0  10    10   \n",
       "2935845  09.10.2015       25     7460      299.00           1.0  09    10   \n",
       "2935846  14.10.2015       25     7459      349.00           1.0  14    10   \n",
       "2935847  22.10.2015       25     7440      299.00           1.0  22    10   \n",
       "2935848  03.10.2015       25     7460      299.00           1.0  03    10   \n",
       "\n",
       "         year   income  \n",
       "0        2013   999.00  \n",
       "1        2013   899.00  \n",
       "3        2013  1709.05  \n",
       "4        2013  1099.00  \n",
       "5        2013   349.00  \n",
       "...       ...      ...  \n",
       "2935844  2015   299.00  \n",
       "2935845  2015   299.00  \n",
       "2935846  2015   349.00  \n",
       "2935847  2015   299.00  \n",
       "2935848  2015   299.00  \n",
       "\n",
       "[2928492 rows x 9 columns]"
      ]
     },
     "execution_count": 20,
     "metadata": {},
     "output_type": "execute_result"
    }
   ],
   "source": [
    "sales"
   ]
  },
  {
   "cell_type": "markdown",
   "id": "9bf90f37-a626-4b0d-bcff-34685617ffa2",
   "metadata": {},
   "source": [
    "## 연월(y_m) 만들기"
   ]
  },
  {
   "cell_type": "code",
   "execution_count": 21,
   "id": "6436f0fc-508c-4490-b9f0-9a9387418327",
   "metadata": {},
   "outputs": [],
   "source": [
    "sales['y_m'] = sales['year'] + '년 ' + sales['month'] + '월'"
   ]
  },
  {
   "cell_type": "code",
   "execution_count": 22,
   "id": "58357ba1-1033-4171-9dae-7464bc2fea63",
   "metadata": {},
   "outputs": [
    {
     "data": {
      "text/html": [
       "<div>\n",
       "<style scoped>\n",
       "    .dataframe tbody tr th:only-of-type {\n",
       "        vertical-align: middle;\n",
       "    }\n",
       "\n",
       "    .dataframe tbody tr th {\n",
       "        vertical-align: top;\n",
       "    }\n",
       "\n",
       "    .dataframe thead th {\n",
       "        text-align: right;\n",
       "    }\n",
       "</style>\n",
       "<table border=\"1\" class=\"dataframe\">\n",
       "  <thead>\n",
       "    <tr style=\"text-align: right;\">\n",
       "      <th></th>\n",
       "      <th>date</th>\n",
       "      <th>shop_id</th>\n",
       "      <th>item_id</th>\n",
       "      <th>item_price</th>\n",
       "      <th>item_cnt_day</th>\n",
       "      <th>day</th>\n",
       "      <th>month</th>\n",
       "      <th>year</th>\n",
       "      <th>income</th>\n",
       "      <th>y_m</th>\n",
       "    </tr>\n",
       "  </thead>\n",
       "  <tbody>\n",
       "    <tr>\n",
       "      <th>0</th>\n",
       "      <td>02.01.2013</td>\n",
       "      <td>59</td>\n",
       "      <td>22154</td>\n",
       "      <td>999.00</td>\n",
       "      <td>1.0</td>\n",
       "      <td>02</td>\n",
       "      <td>01</td>\n",
       "      <td>2013</td>\n",
       "      <td>999.00</td>\n",
       "      <td>2013년 01월</td>\n",
       "    </tr>\n",
       "    <tr>\n",
       "      <th>1</th>\n",
       "      <td>03.01.2013</td>\n",
       "      <td>25</td>\n",
       "      <td>2552</td>\n",
       "      <td>899.00</td>\n",
       "      <td>1.0</td>\n",
       "      <td>03</td>\n",
       "      <td>01</td>\n",
       "      <td>2013</td>\n",
       "      <td>899.00</td>\n",
       "      <td>2013년 01월</td>\n",
       "    </tr>\n",
       "    <tr>\n",
       "      <th>3</th>\n",
       "      <td>06.01.2013</td>\n",
       "      <td>25</td>\n",
       "      <td>2554</td>\n",
       "      <td>1709.05</td>\n",
       "      <td>1.0</td>\n",
       "      <td>06</td>\n",
       "      <td>01</td>\n",
       "      <td>2013</td>\n",
       "      <td>1709.05</td>\n",
       "      <td>2013년 01월</td>\n",
       "    </tr>\n",
       "    <tr>\n",
       "      <th>4</th>\n",
       "      <td>15.01.2013</td>\n",
       "      <td>25</td>\n",
       "      <td>2555</td>\n",
       "      <td>1099.00</td>\n",
       "      <td>1.0</td>\n",
       "      <td>15</td>\n",
       "      <td>01</td>\n",
       "      <td>2013</td>\n",
       "      <td>1099.00</td>\n",
       "      <td>2013년 01월</td>\n",
       "    </tr>\n",
       "    <tr>\n",
       "      <th>5</th>\n",
       "      <td>10.01.2013</td>\n",
       "      <td>25</td>\n",
       "      <td>2564</td>\n",
       "      <td>349.00</td>\n",
       "      <td>1.0</td>\n",
       "      <td>10</td>\n",
       "      <td>01</td>\n",
       "      <td>2013</td>\n",
       "      <td>349.00</td>\n",
       "      <td>2013년 01월</td>\n",
       "    </tr>\n",
       "    <tr>\n",
       "      <th>...</th>\n",
       "      <td>...</td>\n",
       "      <td>...</td>\n",
       "      <td>...</td>\n",
       "      <td>...</td>\n",
       "      <td>...</td>\n",
       "      <td>...</td>\n",
       "      <td>...</td>\n",
       "      <td>...</td>\n",
       "      <td>...</td>\n",
       "      <td>...</td>\n",
       "    </tr>\n",
       "    <tr>\n",
       "      <th>2935844</th>\n",
       "      <td>10.10.2015</td>\n",
       "      <td>25</td>\n",
       "      <td>7409</td>\n",
       "      <td>299.00</td>\n",
       "      <td>1.0</td>\n",
       "      <td>10</td>\n",
       "      <td>10</td>\n",
       "      <td>2015</td>\n",
       "      <td>299.00</td>\n",
       "      <td>2015년 10월</td>\n",
       "    </tr>\n",
       "    <tr>\n",
       "      <th>2935845</th>\n",
       "      <td>09.10.2015</td>\n",
       "      <td>25</td>\n",
       "      <td>7460</td>\n",
       "      <td>299.00</td>\n",
       "      <td>1.0</td>\n",
       "      <td>09</td>\n",
       "      <td>10</td>\n",
       "      <td>2015</td>\n",
       "      <td>299.00</td>\n",
       "      <td>2015년 10월</td>\n",
       "    </tr>\n",
       "    <tr>\n",
       "      <th>2935846</th>\n",
       "      <td>14.10.2015</td>\n",
       "      <td>25</td>\n",
       "      <td>7459</td>\n",
       "      <td>349.00</td>\n",
       "      <td>1.0</td>\n",
       "      <td>14</td>\n",
       "      <td>10</td>\n",
       "      <td>2015</td>\n",
       "      <td>349.00</td>\n",
       "      <td>2015년 10월</td>\n",
       "    </tr>\n",
       "    <tr>\n",
       "      <th>2935847</th>\n",
       "      <td>22.10.2015</td>\n",
       "      <td>25</td>\n",
       "      <td>7440</td>\n",
       "      <td>299.00</td>\n",
       "      <td>1.0</td>\n",
       "      <td>22</td>\n",
       "      <td>10</td>\n",
       "      <td>2015</td>\n",
       "      <td>299.00</td>\n",
       "      <td>2015년 10월</td>\n",
       "    </tr>\n",
       "    <tr>\n",
       "      <th>2935848</th>\n",
       "      <td>03.10.2015</td>\n",
       "      <td>25</td>\n",
       "      <td>7460</td>\n",
       "      <td>299.00</td>\n",
       "      <td>1.0</td>\n",
       "      <td>03</td>\n",
       "      <td>10</td>\n",
       "      <td>2015</td>\n",
       "      <td>299.00</td>\n",
       "      <td>2015년 10월</td>\n",
       "    </tr>\n",
       "  </tbody>\n",
       "</table>\n",
       "<p>2928492 rows × 10 columns</p>\n",
       "</div>"
      ],
      "text/plain": [
       "               date  shop_id  item_id  item_price  item_cnt_day day month  \\\n",
       "0        02.01.2013       59    22154      999.00           1.0  02    01   \n",
       "1        03.01.2013       25     2552      899.00           1.0  03    01   \n",
       "3        06.01.2013       25     2554     1709.05           1.0  06    01   \n",
       "4        15.01.2013       25     2555     1099.00           1.0  15    01   \n",
       "5        10.01.2013       25     2564      349.00           1.0  10    01   \n",
       "...             ...      ...      ...         ...           ...  ..   ...   \n",
       "2935844  10.10.2015       25     7409      299.00           1.0  10    10   \n",
       "2935845  09.10.2015       25     7460      299.00           1.0  09    10   \n",
       "2935846  14.10.2015       25     7459      349.00           1.0  14    10   \n",
       "2935847  22.10.2015       25     7440      299.00           1.0  22    10   \n",
       "2935848  03.10.2015       25     7460      299.00           1.0  03    10   \n",
       "\n",
       "         year   income        y_m  \n",
       "0        2013   999.00  2013년 01월  \n",
       "1        2013   899.00  2013년 01월  \n",
       "3        2013  1709.05  2013년 01월  \n",
       "4        2013  1099.00  2013년 01월  \n",
       "5        2013   349.00  2013년 01월  \n",
       "...       ...      ...        ...  \n",
       "2935844  2015   299.00  2015년 10월  \n",
       "2935845  2015   299.00  2015년 10월  \n",
       "2935846  2015   349.00  2015년 10월  \n",
       "2935847  2015   299.00  2015년 10월  \n",
       "2935848  2015   299.00  2015년 10월  \n",
       "\n",
       "[2928492 rows x 10 columns]"
      ]
     },
     "execution_count": 22,
     "metadata": {},
     "output_type": "execute_result"
    }
   ],
   "source": [
    "sales"
   ]
  },
  {
   "cell_type": "markdown",
   "id": "187ecd92-3935-409a-9eb5-5203748f731b",
   "metadata": {
    "tags": []
   },
   "source": [
    "## 월일(m_d) 만들기"
   ]
  },
  {
   "cell_type": "code",
   "execution_count": 23,
   "id": "13812926-85fa-4c2a-8fd6-a7fa44b27cd6",
   "metadata": {},
   "outputs": [],
   "source": [
    "sales['m_d'] = sales['month'] + '월 ' + sales['day'] + '일'"
   ]
  },
  {
   "cell_type": "code",
   "execution_count": 24,
   "id": "968e92ad-f6eb-4c89-9c5a-55fed0f5c2c0",
   "metadata": {},
   "outputs": [
    {
     "data": {
      "text/html": [
       "<div>\n",
       "<style scoped>\n",
       "    .dataframe tbody tr th:only-of-type {\n",
       "        vertical-align: middle;\n",
       "    }\n",
       "\n",
       "    .dataframe tbody tr th {\n",
       "        vertical-align: top;\n",
       "    }\n",
       "\n",
       "    .dataframe thead th {\n",
       "        text-align: right;\n",
       "    }\n",
       "</style>\n",
       "<table border=\"1\" class=\"dataframe\">\n",
       "  <thead>\n",
       "    <tr style=\"text-align: right;\">\n",
       "      <th></th>\n",
       "      <th>date</th>\n",
       "      <th>shop_id</th>\n",
       "      <th>item_id</th>\n",
       "      <th>item_price</th>\n",
       "      <th>item_cnt_day</th>\n",
       "      <th>day</th>\n",
       "      <th>month</th>\n",
       "      <th>year</th>\n",
       "      <th>income</th>\n",
       "      <th>y_m</th>\n",
       "      <th>m_d</th>\n",
       "    </tr>\n",
       "  </thead>\n",
       "  <tbody>\n",
       "    <tr>\n",
       "      <th>0</th>\n",
       "      <td>02.01.2013</td>\n",
       "      <td>59</td>\n",
       "      <td>22154</td>\n",
       "      <td>999.00</td>\n",
       "      <td>1.0</td>\n",
       "      <td>02</td>\n",
       "      <td>01</td>\n",
       "      <td>2013</td>\n",
       "      <td>999.00</td>\n",
       "      <td>2013년 01월</td>\n",
       "      <td>01월 02일</td>\n",
       "    </tr>\n",
       "    <tr>\n",
       "      <th>1</th>\n",
       "      <td>03.01.2013</td>\n",
       "      <td>25</td>\n",
       "      <td>2552</td>\n",
       "      <td>899.00</td>\n",
       "      <td>1.0</td>\n",
       "      <td>03</td>\n",
       "      <td>01</td>\n",
       "      <td>2013</td>\n",
       "      <td>899.00</td>\n",
       "      <td>2013년 01월</td>\n",
       "      <td>01월 03일</td>\n",
       "    </tr>\n",
       "    <tr>\n",
       "      <th>3</th>\n",
       "      <td>06.01.2013</td>\n",
       "      <td>25</td>\n",
       "      <td>2554</td>\n",
       "      <td>1709.05</td>\n",
       "      <td>1.0</td>\n",
       "      <td>06</td>\n",
       "      <td>01</td>\n",
       "      <td>2013</td>\n",
       "      <td>1709.05</td>\n",
       "      <td>2013년 01월</td>\n",
       "      <td>01월 06일</td>\n",
       "    </tr>\n",
       "    <tr>\n",
       "      <th>4</th>\n",
       "      <td>15.01.2013</td>\n",
       "      <td>25</td>\n",
       "      <td>2555</td>\n",
       "      <td>1099.00</td>\n",
       "      <td>1.0</td>\n",
       "      <td>15</td>\n",
       "      <td>01</td>\n",
       "      <td>2013</td>\n",
       "      <td>1099.00</td>\n",
       "      <td>2013년 01월</td>\n",
       "      <td>01월 15일</td>\n",
       "    </tr>\n",
       "    <tr>\n",
       "      <th>5</th>\n",
       "      <td>10.01.2013</td>\n",
       "      <td>25</td>\n",
       "      <td>2564</td>\n",
       "      <td>349.00</td>\n",
       "      <td>1.0</td>\n",
       "      <td>10</td>\n",
       "      <td>01</td>\n",
       "      <td>2013</td>\n",
       "      <td>349.00</td>\n",
       "      <td>2013년 01월</td>\n",
       "      <td>01월 10일</td>\n",
       "    </tr>\n",
       "    <tr>\n",
       "      <th>...</th>\n",
       "      <td>...</td>\n",
       "      <td>...</td>\n",
       "      <td>...</td>\n",
       "      <td>...</td>\n",
       "      <td>...</td>\n",
       "      <td>...</td>\n",
       "      <td>...</td>\n",
       "      <td>...</td>\n",
       "      <td>...</td>\n",
       "      <td>...</td>\n",
       "      <td>...</td>\n",
       "    </tr>\n",
       "    <tr>\n",
       "      <th>2935844</th>\n",
       "      <td>10.10.2015</td>\n",
       "      <td>25</td>\n",
       "      <td>7409</td>\n",
       "      <td>299.00</td>\n",
       "      <td>1.0</td>\n",
       "      <td>10</td>\n",
       "      <td>10</td>\n",
       "      <td>2015</td>\n",
       "      <td>299.00</td>\n",
       "      <td>2015년 10월</td>\n",
       "      <td>10월 10일</td>\n",
       "    </tr>\n",
       "    <tr>\n",
       "      <th>2935845</th>\n",
       "      <td>09.10.2015</td>\n",
       "      <td>25</td>\n",
       "      <td>7460</td>\n",
       "      <td>299.00</td>\n",
       "      <td>1.0</td>\n",
       "      <td>09</td>\n",
       "      <td>10</td>\n",
       "      <td>2015</td>\n",
       "      <td>299.00</td>\n",
       "      <td>2015년 10월</td>\n",
       "      <td>10월 09일</td>\n",
       "    </tr>\n",
       "    <tr>\n",
       "      <th>2935846</th>\n",
       "      <td>14.10.2015</td>\n",
       "      <td>25</td>\n",
       "      <td>7459</td>\n",
       "      <td>349.00</td>\n",
       "      <td>1.0</td>\n",
       "      <td>14</td>\n",
       "      <td>10</td>\n",
       "      <td>2015</td>\n",
       "      <td>349.00</td>\n",
       "      <td>2015년 10월</td>\n",
       "      <td>10월 14일</td>\n",
       "    </tr>\n",
       "    <tr>\n",
       "      <th>2935847</th>\n",
       "      <td>22.10.2015</td>\n",
       "      <td>25</td>\n",
       "      <td>7440</td>\n",
       "      <td>299.00</td>\n",
       "      <td>1.0</td>\n",
       "      <td>22</td>\n",
       "      <td>10</td>\n",
       "      <td>2015</td>\n",
       "      <td>299.00</td>\n",
       "      <td>2015년 10월</td>\n",
       "      <td>10월 22일</td>\n",
       "    </tr>\n",
       "    <tr>\n",
       "      <th>2935848</th>\n",
       "      <td>03.10.2015</td>\n",
       "      <td>25</td>\n",
       "      <td>7460</td>\n",
       "      <td>299.00</td>\n",
       "      <td>1.0</td>\n",
       "      <td>03</td>\n",
       "      <td>10</td>\n",
       "      <td>2015</td>\n",
       "      <td>299.00</td>\n",
       "      <td>2015년 10월</td>\n",
       "      <td>10월 03일</td>\n",
       "    </tr>\n",
       "  </tbody>\n",
       "</table>\n",
       "<p>2928492 rows × 11 columns</p>\n",
       "</div>"
      ],
      "text/plain": [
       "               date  shop_id  item_id  item_price  item_cnt_day day month  \\\n",
       "0        02.01.2013       59    22154      999.00           1.0  02    01   \n",
       "1        03.01.2013       25     2552      899.00           1.0  03    01   \n",
       "3        06.01.2013       25     2554     1709.05           1.0  06    01   \n",
       "4        15.01.2013       25     2555     1099.00           1.0  15    01   \n",
       "5        10.01.2013       25     2564      349.00           1.0  10    01   \n",
       "...             ...      ...      ...         ...           ...  ..   ...   \n",
       "2935844  10.10.2015       25     7409      299.00           1.0  10    10   \n",
       "2935845  09.10.2015       25     7460      299.00           1.0  09    10   \n",
       "2935846  14.10.2015       25     7459      349.00           1.0  14    10   \n",
       "2935847  22.10.2015       25     7440      299.00           1.0  22    10   \n",
       "2935848  03.10.2015       25     7460      299.00           1.0  03    10   \n",
       "\n",
       "         year   income        y_m      m_d  \n",
       "0        2013   999.00  2013년 01월  01월 02일  \n",
       "1        2013   899.00  2013년 01월  01월 03일  \n",
       "3        2013  1709.05  2013년 01월  01월 06일  \n",
       "4        2013  1099.00  2013년 01월  01월 15일  \n",
       "5        2013   349.00  2013년 01월  01월 10일  \n",
       "...       ...      ...        ...      ...  \n",
       "2935844  2015   299.00  2015년 10월  10월 10일  \n",
       "2935845  2015   299.00  2015년 10월  10월 09일  \n",
       "2935846  2015   349.00  2015년 10월  10월 14일  \n",
       "2935847  2015   299.00  2015년 10월  10월 22일  \n",
       "2935848  2015   299.00  2015년 10월  10월 03일  \n",
       "\n",
       "[2928492 rows x 11 columns]"
      ]
     },
     "execution_count": 24,
     "metadata": {},
     "output_type": "execute_result"
    }
   ],
   "source": [
    "sales"
   ]
  },
  {
   "cell_type": "code",
   "execution_count": null,
   "id": "9f51d88a-ab37-4890-a05b-1ec388d4a50e",
   "metadata": {},
   "outputs": [],
   "source": []
  },
  {
   "cell_type": "code",
   "execution_count": null,
   "id": "33f7a7e8-6d73-478c-bd7b-5c86ffb65195",
   "metadata": {},
   "outputs": [],
   "source": [
    "#년, 월, 일 구분하기 (강사님 방법)"
   ]
  },
  {
   "cell_type": "code",
   "execution_count": 30,
   "id": "802a4498-4592-4ba5-9a27-ed8de8588890",
   "metadata": {},
   "outputs": [
    {
     "data": {
      "text/plain": [
       "0    02.01.2013\n",
       "Name: date, dtype: object"
      ]
     },
     "execution_count": 30,
     "metadata": {},
     "output_type": "execute_result"
    }
   ],
   "source": [
    "sales['date'].head(1)"
   ]
  },
  {
   "cell_type": "code",
   "execution_count": 31,
   "id": "193b62d4-4a48-486c-9f17-19771a91b5c0",
   "metadata": {},
   "outputs": [
    {
     "data": {
      "text/plain": [
       "0         2013-01-02\n",
       "1         2013-01-03\n",
       "3         2013-01-06\n",
       "4         2013-01-15\n",
       "5         2013-01-10\n",
       "             ...    \n",
       "2935844   2015-10-10\n",
       "2935845   2015-10-09\n",
       "2935846   2015-10-14\n",
       "2935847   2015-10-22\n",
       "2935848   2015-10-03\n",
       "Name: date, Length: 2928492, dtype: datetime64[ns]"
      ]
     },
     "execution_count": 31,
     "metadata": {},
     "output_type": "execute_result"
    }
   ],
   "source": [
    "pd.to_datetime(sales['date'], format = '%d.%m.%Y')"
   ]
  },
  {
   "cell_type": "code",
   "execution_count": null,
   "id": "27ac77a8-f924-4448-a5e8-08305889553a",
   "metadata": {},
   "outputs": [],
   "source": [
    "sales['day', 'month', 'year'] = sales['date'].str.split(',', expand=True)"
   ]
  },
  {
   "cell_type": "code",
   "execution_count": 33,
   "id": "1464eebc-a2a0-488b-bc6d-82ec7c0c7093",
   "metadata": {},
   "outputs": [
    {
     "data": {
      "text/html": [
       "<div>\n",
       "<style scoped>\n",
       "    .dataframe tbody tr th:only-of-type {\n",
       "        vertical-align: middle;\n",
       "    }\n",
       "\n",
       "    .dataframe tbody tr th {\n",
       "        vertical-align: top;\n",
       "    }\n",
       "\n",
       "    .dataframe thead th {\n",
       "        text-align: right;\n",
       "    }\n",
       "</style>\n",
       "<table border=\"1\" class=\"dataframe\">\n",
       "  <thead>\n",
       "    <tr style=\"text-align: right;\">\n",
       "      <th></th>\n",
       "      <th>date</th>\n",
       "      <th>shop_id</th>\n",
       "      <th>item_id</th>\n",
       "      <th>item_price</th>\n",
       "      <th>item_cnt_day</th>\n",
       "      <th>day</th>\n",
       "      <th>month</th>\n",
       "      <th>year</th>\n",
       "      <th>income</th>\n",
       "      <th>y_m</th>\n",
       "      <th>m_d</th>\n",
       "    </tr>\n",
       "  </thead>\n",
       "  <tbody>\n",
       "    <tr>\n",
       "      <th>0</th>\n",
       "      <td>02.01.2013</td>\n",
       "      <td>59</td>\n",
       "      <td>22154</td>\n",
       "      <td>999.0</td>\n",
       "      <td>1.0</td>\n",
       "      <td>02</td>\n",
       "      <td>01</td>\n",
       "      <td>2013</td>\n",
       "      <td>999.0</td>\n",
       "      <td>2013년 01월</td>\n",
       "      <td>01월 02일</td>\n",
       "    </tr>\n",
       "  </tbody>\n",
       "</table>\n",
       "</div>"
      ],
      "text/plain": [
       "         date  shop_id  item_id  item_price  item_cnt_day day month  year  \\\n",
       "0  02.01.2013       59    22154       999.0           1.0  02    01  2013   \n",
       "\n",
       "   income        y_m      m_d  \n",
       "0   999.0  2013년 01월  01월 02일  "
      ]
     },
     "execution_count": 33,
     "metadata": {},
     "output_type": "execute_result"
    }
   ],
   "source": [
    "sales.head(1)"
   ]
  },
  {
   "cell_type": "code",
   "execution_count": null,
   "id": "e0962f5e-7aa1-42fa-8169-5999d038a314",
   "metadata": {},
   "outputs": [],
   "source": []
  },
  {
   "cell_type": "code",
   "execution_count": 34,
   "id": "0e92f503-bff9-48e4-8561-9730f4b97635",
   "metadata": {},
   "outputs": [
    {
     "data": {
      "text/plain": [
       "2013    1264490\n",
       "2014    1053211\n",
       "2015     610791\n",
       "Name: year, dtype: int64"
      ]
     },
     "execution_count": 34,
     "metadata": {},
     "output_type": "execute_result"
    }
   ],
   "source": [
    "sales['year'].value_counts() #15년도 데이터가 상대적으로 왜 작을지 의문 품기"
   ]
  },
  {
   "cell_type": "code",
   "execution_count": 35,
   "id": "26460cc1-1906-4498-a552-3dd6302f14c5",
   "metadata": {},
   "outputs": [
    {
     "data": {
      "text/plain": [
       "array(['2013년 01월', '2013년 02월', '2013년 03월', '2013년 04월', '2013년 05월',\n",
       "       '2013년 06월', '2013년 07월', '2013년 08월', '2013년 09월', '2013년 10월',\n",
       "       '2013년 11월', '2013년 12월', '2014년 01월', '2014년 02월', '2014년 03월',\n",
       "       '2014년 04월', '2014년 05월', '2014년 06월', '2014년 07월', '2014년 08월',\n",
       "       '2014년 09월', '2014년 10월', '2014년 11월', '2014년 12월', '2015년 01월',\n",
       "       '2015년 02월', '2015년 03월', '2015년 04월', '2015년 05월', '2015년 06월',\n",
       "       '2015년 07월', '2015년 08월', '2015년 09월', '2015년 10월'], dtype=object)"
      ]
     },
     "execution_count": 35,
     "metadata": {},
     "output_type": "execute_result"
    }
   ],
   "source": [
    "sales['y_m'].unique() #15년도 중 11월, 12월 데이터가 없기 때문에 다른 연도에 비해 상대적으로 데이터가 적을 수 밖에 없음"
   ]
  },
  {
   "cell_type": "code",
   "execution_count": 36,
   "id": "5f2cc119-5e85-4e09-a53a-c0147c5cfdc6",
   "metadata": {},
   "outputs": [
    {
     "data": {
      "text/plain": [
       "01    302546\n",
       "03    283349\n",
       "12    273410\n",
       "02    269471\n",
       "08    247835\n",
       "06    236914\n",
       "07    234324\n",
       "04    227740\n",
       "10    226493\n",
       "05    224378\n",
       "09    219304\n",
       "11    182728\n",
       "Name: month, dtype: int64"
      ]
     },
     "execution_count": 36,
     "metadata": {},
     "output_type": "execute_result"
    }
   ],
   "source": [
    "sales['month'].value_counts()"
   ]
  },
  {
   "cell_type": "code",
   "execution_count": 37,
   "id": "caaded8e-92d5-4520-b53d-a13cd491ede6",
   "metadata": {},
   "outputs": [
    {
     "data": {
      "text/plain": [
       "02    103081\n",
       "07    102064\n",
       "23    101117\n",
       "22    101105\n",
       "08    100718\n",
       "21    100004\n",
       "28     99576\n",
       "27     98743\n",
       "03     98725\n",
       "06     97808\n",
       "30     97209\n",
       "20     96777\n",
       "26     95907\n",
       "05     95158\n",
       "19     94716\n",
       "04     94192\n",
       "01     94182\n",
       "25     93228\n",
       "24     93113\n",
       "16     92631\n",
       "15     92399\n",
       "17     92205\n",
       "12     92099\n",
       "14     91841\n",
       "09     91775\n",
       "13     90780\n",
       "29     90709\n",
       "18     90389\n",
       "10     89838\n",
       "11     88964\n",
       "31     67439\n",
       "Name: day, dtype: int64"
      ]
     },
     "execution_count": 37,
     "metadata": {},
     "output_type": "execute_result"
    }
   ],
   "source": [
    "sales['day'].value_counts() #31일 데이터가 가장 적음. 왜? 월마다 31일이 계속 있지 않기 때문 "
   ]
  },
  {
   "cell_type": "markdown",
   "id": "6627c665-8c41-4082-8215-c0421042cffe",
   "metadata": {},
   "source": [
    "데이터 사이언티스트는 데이터 분석 노트 !!!!!! 필수!!!!!"
   ]
  },
  {
   "cell_type": "code",
   "execution_count": 38,
   "id": "e1c96437-6767-4c4d-b428-b3e8e3c026d1",
   "metadata": {},
   "outputs": [
    {
     "data": {
      "text/plain": [
       "array(['2013년 01월', '2013년 02월', '2013년 03월', '2013년 04월', '2013년 05월',\n",
       "       '2013년 06월', '2013년 07월', '2013년 08월', '2013년 09월', '2013년 10월',\n",
       "       '2013년 11월', '2013년 12월', '2014년 01월', '2014년 02월', '2014년 03월',\n",
       "       '2014년 04월', '2014년 05월', '2014년 06월', '2014년 07월', '2014년 08월',\n",
       "       '2014년 09월', '2014년 10월', '2014년 11월', '2014년 12월', '2015년 01월',\n",
       "       '2015년 02월', '2015년 03월', '2015년 04월', '2015년 05월', '2015년 06월',\n",
       "       '2015년 07월', '2015년 08월', '2015년 09월', '2015년 10월'], dtype=object)"
      ]
     },
     "execution_count": 38,
     "metadata": {},
     "output_type": "execute_result"
    }
   ],
   "source": [
    "sales['y_m'].unique()"
   ]
  },
  {
   "cell_type": "code",
   "execution_count": 39,
   "id": "7935b0fe-cc04-4001-9e50-1a5e759fdc26",
   "metadata": {},
   "outputs": [
    {
     "data": {
      "text/plain": [
       "34"
      ]
     },
     "execution_count": 39,
     "metadata": {},
     "output_type": "execute_result"
    }
   ],
   "source": [
    "len(sales['y_m'].unique())"
   ]
  },
  {
   "cell_type": "code",
   "execution_count": null,
   "id": "8907e669-f84e-4279-a05c-b07070b14d3f",
   "metadata": {},
   "outputs": [],
   "source": []
  },
  {
   "cell_type": "markdown",
   "id": "d4f717cf-07db-4a8f-b196-0f87c5562725",
   "metadata": {},
   "source": [
    "## mapping 해보기"
   ]
  },
  {
   "cell_type": "code",
   "execution_count": null,
   "id": "849be704-9481-4a10-93ca-fc8a07ef6ddc",
   "metadata": {},
   "outputs": [],
   "source": [
    "#내가 직접 맵핑한 것"
   ]
  },
  {
   "cell_type": "code",
   "execution_count": 53,
   "id": "6770f3d2-6d17-423e-98cb-aaf6903cab49",
   "metadata": {
    "collapsed": true,
    "jupyter": {
     "outputs_hidden": true
    },
    "tags": []
   },
   "outputs": [
    {
     "name": "stdout",
     "output_type": "stream",
     "text": [
      "0 2013년 01월\n",
      "1 2013년 02월\n",
      "2 2013년 03월\n",
      "3 2013년 04월\n",
      "4 2013년 05월\n",
      "5 2013년 06월\n",
      "6 2013년 07월\n",
      "7 2013년 08월\n",
      "8 2013년 09월\n",
      "9 2013년 10월\n",
      "10 2013년 11월\n",
      "11 2013년 12월\n",
      "12 2014년 01월\n",
      "13 2014년 02월\n",
      "14 2014년 03월\n",
      "15 2014년 04월\n",
      "16 2014년 05월\n",
      "17 2014년 06월\n",
      "18 2014년 07월\n",
      "19 2014년 08월\n",
      "20 2014년 09월\n",
      "21 2014년 10월\n",
      "22 2014년 11월\n",
      "23 2014년 12월\n",
      "24 2015년 01월\n",
      "25 2015년 02월\n",
      "26 2015년 03월\n",
      "27 2015년 04월\n",
      "28 2015년 05월\n",
      "29 2015년 06월\n",
      "30 2015년 07월\n",
      "31 2015년 08월\n",
      "32 2015년 09월\n",
      "33 2015년 10월\n"
     ]
    }
   ],
   "source": [
    "sales_map = {}\n",
    "\n",
    "for value, key in enumerate(sales['y_m'].unique()) :\n",
    "    if value >= 34 :\n",
    "        sales_map[key] = 34\n",
    "    else :\n",
    "        sales_map[key] = value\n",
    "    print(value, key)"
   ]
  },
  {
   "cell_type": "code",
   "execution_count": null,
   "id": "46800810-b09f-4e40-b2c6-8ef10c47b895",
   "metadata": {},
   "outputs": [],
   "source": [
    "# 강사님이 맵핑하신 것"
   ]
  },
  {
   "cell_type": "code",
   "execution_count": 48,
   "id": "48f4fc5c-8d7e-4e17-b110-d909b734afdb",
   "metadata": {
    "collapsed": true,
    "jupyter": {
     "outputs_hidden": true
    },
    "tags": []
   },
   "outputs": [
    {
     "name": "stdout",
     "output_type": "stream",
     "text": [
      "1 2013년 01월\n",
      "2 2013년 02월\n",
      "3 2013년 03월\n",
      "4 2013년 04월\n",
      "5 2013년 05월\n",
      "6 2013년 06월\n",
      "7 2013년 07월\n",
      "8 2013년 08월\n",
      "9 2013년 09월\n",
      "10 2013년 10월\n",
      "11 2013년 11월\n",
      "12 2013년 12월\n",
      "13 2014년 01월\n",
      "14 2014년 02월\n",
      "15 2014년 03월\n",
      "16 2014년 04월\n",
      "17 2014년 05월\n",
      "18 2014년 06월\n",
      "19 2014년 07월\n",
      "20 2014년 08월\n",
      "21 2014년 09월\n",
      "22 2014년 10월\n",
      "23 2014년 11월\n",
      "24 2014년 12월\n",
      "25 2015년 01월\n",
      "26 2015년 02월\n",
      "27 2015년 03월\n",
      "28 2015년 04월\n",
      "29 2015년 05월\n",
      "30 2015년 06월\n",
      "31 2015년 07월\n",
      "32 2015년 08월\n",
      "33 2015년 09월\n",
      "34 2015년 10월\n"
     ]
    }
   ],
   "source": [
    "ym_mapping = {}\n",
    "\n",
    "for value, key in enumerate(sales['y_m'].unique()) :\n",
    "    ym_mapping[key] = value + 1\n",
    "    print(value+1, key)"
   ]
  },
  {
   "cell_type": "code",
   "execution_count": 49,
   "id": "58f6cf6f-eead-4f2a-b27a-72feea894e6d",
   "metadata": {
    "collapsed": true,
    "jupyter": {
     "outputs_hidden": true
    },
    "tags": []
   },
   "outputs": [
    {
     "data": {
      "text/plain": [
       "{'2013년 01월': 1,\n",
       " '2013년 02월': 2,\n",
       " '2013년 03월': 3,\n",
       " '2013년 04월': 4,\n",
       " '2013년 05월': 5,\n",
       " '2013년 06월': 6,\n",
       " '2013년 07월': 7,\n",
       " '2013년 08월': 8,\n",
       " '2013년 09월': 9,\n",
       " '2013년 10월': 10,\n",
       " '2013년 11월': 11,\n",
       " '2013년 12월': 12,\n",
       " '2014년 01월': 13,\n",
       " '2014년 02월': 14,\n",
       " '2014년 03월': 15,\n",
       " '2014년 04월': 16,\n",
       " '2014년 05월': 17,\n",
       " '2014년 06월': 18,\n",
       " '2014년 07월': 19,\n",
       " '2014년 08월': 20,\n",
       " '2014년 09월': 21,\n",
       " '2014년 10월': 22,\n",
       " '2014년 11월': 23,\n",
       " '2014년 12월': 24,\n",
       " '2015년 01월': 25,\n",
       " '2015년 02월': 26,\n",
       " '2015년 03월': 27,\n",
       " '2015년 04월': 28,\n",
       " '2015년 05월': 29,\n",
       " '2015년 06월': 30,\n",
       " '2015년 07월': 31,\n",
       " '2015년 08월': 32,\n",
       " '2015년 09월': 33,\n",
       " '2015년 10월': 34}"
      ]
     },
     "execution_count": 49,
     "metadata": {},
     "output_type": "execute_result"
    }
   ],
   "source": [
    "ym_mapping"
   ]
  },
  {
   "cell_type": "code",
   "execution_count": null,
   "id": "532b8441-3424-44cb-b191-c39b74ef1026",
   "metadata": {},
   "outputs": [],
   "source": [
    "# 맵핑 다른 방법"
   ]
  },
  {
   "cell_type": "code",
   "execution_count": null,
   "id": "72d64c63-4a25-44d7-bc20-ba81b7872046",
   "metadata": {},
   "outputs": [],
   "source": [
    "[i for i in range(10)] # list comprehension"
   ]
  },
  {
   "cell_type": "markdown",
   "id": "240eeb2d-47a7-4669-84b2-d770bd2a6fbd",
   "metadata": {},
   "source": [
    "ym mapping 하기 (강사님 version)"
   ]
  },
  {
   "cell_type": "code",
   "execution_count": 54,
   "id": "1d49fdfa-8551-4d0d-a241-faee29b341a3",
   "metadata": {},
   "outputs": [],
   "source": [
    "ym_mapping = {key: value + 1 for value, key in enumerate(sales['y_m'].unique())}"
   ]
  },
  {
   "cell_type": "code",
   "execution_count": 55,
   "id": "2ae10acd-96c6-48df-a4ec-a4cd4aa31b69",
   "metadata": {
    "collapsed": true,
    "jupyter": {
     "outputs_hidden": true
    },
    "tags": []
   },
   "outputs": [
    {
     "data": {
      "text/plain": [
       "{'2013년 01월': 1,\n",
       " '2013년 02월': 2,\n",
       " '2013년 03월': 3,\n",
       " '2013년 04월': 4,\n",
       " '2013년 05월': 5,\n",
       " '2013년 06월': 6,\n",
       " '2013년 07월': 7,\n",
       " '2013년 08월': 8,\n",
       " '2013년 09월': 9,\n",
       " '2013년 10월': 10,\n",
       " '2013년 11월': 11,\n",
       " '2013년 12월': 12,\n",
       " '2014년 01월': 13,\n",
       " '2014년 02월': 14,\n",
       " '2014년 03월': 15,\n",
       " '2014년 04월': 16,\n",
       " '2014년 05월': 17,\n",
       " '2014년 06월': 18,\n",
       " '2014년 07월': 19,\n",
       " '2014년 08월': 20,\n",
       " '2014년 09월': 21,\n",
       " '2014년 10월': 22,\n",
       " '2014년 11월': 23,\n",
       " '2014년 12월': 24,\n",
       " '2015년 01월': 25,\n",
       " '2015년 02월': 26,\n",
       " '2015년 03월': 27,\n",
       " '2015년 04월': 28,\n",
       " '2015년 05월': 29,\n",
       " '2015년 06월': 30,\n",
       " '2015년 07월': 31,\n",
       " '2015년 08월': 32,\n",
       " '2015년 09월': 33,\n",
       " '2015년 10월': 34}"
      ]
     },
     "execution_count": 55,
     "metadata": {},
     "output_type": "execute_result"
    }
   ],
   "source": [
    "ym_mapping"
   ]
  },
  {
   "cell_type": "code",
   "execution_count": 56,
   "id": "0c2776c3-6055-4852-b71e-03ec1355ba9d",
   "metadata": {},
   "outputs": [],
   "source": [
    "sales['y_m2'] = sales['y_m'].map(ym_mapping)"
   ]
  },
  {
   "cell_type": "code",
   "execution_count": 57,
   "id": "b54f7ac2-b44b-4ed8-be7b-38ea9347ff26",
   "metadata": {},
   "outputs": [
    {
     "data": {
      "text/plain": [
       "1    115338\n",
       "2    108326\n",
       "3    121053\n",
       "Name: y_m2, dtype: int64"
      ]
     },
     "execution_count": 57,
     "metadata": {},
     "output_type": "execute_result"
    }
   ],
   "source": [
    "sales['y_m2'].value_counts().sort_index()[:3]"
   ]
  },
  {
   "cell_type": "markdown",
   "id": "f28fe471-efba-4bb2-b3a2-59649359a764",
   "metadata": {
    "jupyter": {
     "outputs_hidden": true
    },
    "tags": []
   },
   "source": [
    "md mapping 하기"
   ]
  },
  {
   "cell_type": "code",
   "execution_count": 72,
   "id": "33899bef-b35d-4d11-8823-8725a8040a14",
   "metadata": {},
   "outputs": [],
   "source": [
    "md_mapping = {key: value + 1 for value, key in enumerate(md)}"
   ]
  },
  {
   "cell_type": "code",
   "execution_count": 73,
   "id": "c5b50551-5363-4c8a-9008-3d72e4facf1b",
   "metadata": {
    "collapsed": true,
    "jupyter": {
     "outputs_hidden": true
    },
    "tags": []
   },
   "outputs": [
    {
     "data": {
      "text/plain": [
       "{'01월 01일': 1,\n",
       " '01월 02일': 2,\n",
       " '01월 03일': 3,\n",
       " '01월 04일': 4,\n",
       " '01월 05일': 5,\n",
       " '01월 06일': 6,\n",
       " '01월 07일': 7,\n",
       " '01월 08일': 8,\n",
       " '01월 09일': 9,\n",
       " '01월 10일': 10,\n",
       " '01월 11일': 11,\n",
       " '01월 12일': 12,\n",
       " '01월 13일': 13,\n",
       " '01월 14일': 14,\n",
       " '01월 15일': 15,\n",
       " '01월 16일': 16,\n",
       " '01월 17일': 17,\n",
       " '01월 18일': 18,\n",
       " '01월 19일': 19,\n",
       " '01월 20일': 20,\n",
       " '01월 21일': 21,\n",
       " '01월 22일': 22,\n",
       " '01월 23일': 23,\n",
       " '01월 24일': 24,\n",
       " '01월 25일': 25,\n",
       " '01월 26일': 26,\n",
       " '01월 27일': 27,\n",
       " '01월 28일': 28,\n",
       " '01월 29일': 29,\n",
       " '01월 30일': 30,\n",
       " '01월 31일': 31,\n",
       " '02월 01일': 32,\n",
       " '02월 02일': 33,\n",
       " '02월 03일': 34,\n",
       " '02월 04일': 35,\n",
       " '02월 05일': 36,\n",
       " '02월 06일': 37,\n",
       " '02월 07일': 38,\n",
       " '02월 08일': 39,\n",
       " '02월 09일': 40,\n",
       " '02월 10일': 41,\n",
       " '02월 11일': 42,\n",
       " '02월 12일': 43,\n",
       " '02월 13일': 44,\n",
       " '02월 14일': 45,\n",
       " '02월 15일': 46,\n",
       " '02월 16일': 47,\n",
       " '02월 17일': 48,\n",
       " '02월 18일': 49,\n",
       " '02월 19일': 50,\n",
       " '02월 20일': 51,\n",
       " '02월 21일': 52,\n",
       " '02월 22일': 53,\n",
       " '02월 23일': 54,\n",
       " '02월 24일': 55,\n",
       " '02월 25일': 56,\n",
       " '02월 26일': 57,\n",
       " '02월 27일': 58,\n",
       " '02월 28일': 59,\n",
       " '03월 01일': 60,\n",
       " '03월 02일': 61,\n",
       " '03월 03일': 62,\n",
       " '03월 04일': 63,\n",
       " '03월 05일': 64,\n",
       " '03월 06일': 65,\n",
       " '03월 07일': 66,\n",
       " '03월 08일': 67,\n",
       " '03월 09일': 68,\n",
       " '03월 10일': 69,\n",
       " '03월 11일': 70,\n",
       " '03월 12일': 71,\n",
       " '03월 13일': 72,\n",
       " '03월 14일': 73,\n",
       " '03월 15일': 74,\n",
       " '03월 16일': 75,\n",
       " '03월 17일': 76,\n",
       " '03월 18일': 77,\n",
       " '03월 19일': 78,\n",
       " '03월 20일': 79,\n",
       " '03월 21일': 80,\n",
       " '03월 22일': 81,\n",
       " '03월 23일': 82,\n",
       " '03월 24일': 83,\n",
       " '03월 25일': 84,\n",
       " '03월 26일': 85,\n",
       " '03월 27일': 86,\n",
       " '03월 28일': 87,\n",
       " '03월 29일': 88,\n",
       " '03월 30일': 89,\n",
       " '03월 31일': 90,\n",
       " '04월 01일': 91,\n",
       " '04월 02일': 92,\n",
       " '04월 03일': 93,\n",
       " '04월 04일': 94,\n",
       " '04월 05일': 95,\n",
       " '04월 06일': 96,\n",
       " '04월 07일': 97,\n",
       " '04월 08일': 98,\n",
       " '04월 09일': 99,\n",
       " '04월 10일': 100,\n",
       " '04월 11일': 101,\n",
       " '04월 12일': 102,\n",
       " '04월 13일': 103,\n",
       " '04월 14일': 104,\n",
       " '04월 15일': 105,\n",
       " '04월 16일': 106,\n",
       " '04월 17일': 107,\n",
       " '04월 18일': 108,\n",
       " '04월 19일': 109,\n",
       " '04월 20일': 110,\n",
       " '04월 21일': 111,\n",
       " '04월 22일': 112,\n",
       " '04월 23일': 113,\n",
       " '04월 24일': 114,\n",
       " '04월 25일': 115,\n",
       " '04월 26일': 116,\n",
       " '04월 27일': 117,\n",
       " '04월 28일': 118,\n",
       " '04월 29일': 119,\n",
       " '04월 30일': 120,\n",
       " '05월 01일': 121,\n",
       " '05월 02일': 122,\n",
       " '05월 03일': 123,\n",
       " '05월 04일': 124,\n",
       " '05월 05일': 125,\n",
       " '05월 06일': 126,\n",
       " '05월 07일': 127,\n",
       " '05월 08일': 128,\n",
       " '05월 09일': 129,\n",
       " '05월 10일': 130,\n",
       " '05월 11일': 131,\n",
       " '05월 12일': 132,\n",
       " '05월 13일': 133,\n",
       " '05월 14일': 134,\n",
       " '05월 15일': 135,\n",
       " '05월 16일': 136,\n",
       " '05월 17일': 137,\n",
       " '05월 18일': 138,\n",
       " '05월 19일': 139,\n",
       " '05월 20일': 140,\n",
       " '05월 21일': 141,\n",
       " '05월 22일': 142,\n",
       " '05월 23일': 143,\n",
       " '05월 24일': 144,\n",
       " '05월 25일': 145,\n",
       " '05월 26일': 146,\n",
       " '05월 27일': 147,\n",
       " '05월 28일': 148,\n",
       " '05월 29일': 149,\n",
       " '05월 30일': 150,\n",
       " '05월 31일': 151,\n",
       " '06월 01일': 152,\n",
       " '06월 02일': 153,\n",
       " '06월 03일': 154,\n",
       " '06월 04일': 155,\n",
       " '06월 05일': 156,\n",
       " '06월 06일': 157,\n",
       " '06월 07일': 158,\n",
       " '06월 08일': 159,\n",
       " '06월 09일': 160,\n",
       " '06월 10일': 161,\n",
       " '06월 11일': 162,\n",
       " '06월 12일': 163,\n",
       " '06월 13일': 164,\n",
       " '06월 14일': 165,\n",
       " '06월 15일': 166,\n",
       " '06월 16일': 167,\n",
       " '06월 17일': 168,\n",
       " '06월 18일': 169,\n",
       " '06월 19일': 170,\n",
       " '06월 20일': 171,\n",
       " '06월 21일': 172,\n",
       " '06월 22일': 173,\n",
       " '06월 23일': 174,\n",
       " '06월 24일': 175,\n",
       " '06월 25일': 176,\n",
       " '06월 26일': 177,\n",
       " '06월 27일': 178,\n",
       " '06월 28일': 179,\n",
       " '06월 29일': 180,\n",
       " '06월 30일': 181,\n",
       " '07월 01일': 182,\n",
       " '07월 02일': 183,\n",
       " '07월 03일': 184,\n",
       " '07월 04일': 185,\n",
       " '07월 05일': 186,\n",
       " '07월 06일': 187,\n",
       " '07월 07일': 188,\n",
       " '07월 08일': 189,\n",
       " '07월 09일': 190,\n",
       " '07월 10일': 191,\n",
       " '07월 11일': 192,\n",
       " '07월 12일': 193,\n",
       " '07월 13일': 194,\n",
       " '07월 14일': 195,\n",
       " '07월 15일': 196,\n",
       " '07월 16일': 197,\n",
       " '07월 17일': 198,\n",
       " '07월 18일': 199,\n",
       " '07월 19일': 200,\n",
       " '07월 20일': 201,\n",
       " '07월 21일': 202,\n",
       " '07월 22일': 203,\n",
       " '07월 23일': 204,\n",
       " '07월 24일': 205,\n",
       " '07월 25일': 206,\n",
       " '07월 26일': 207,\n",
       " '07월 27일': 208,\n",
       " '07월 28일': 209,\n",
       " '07월 29일': 210,\n",
       " '07월 30일': 211,\n",
       " '07월 31일': 212,\n",
       " '08월 01일': 213,\n",
       " '08월 02일': 214,\n",
       " '08월 03일': 215,\n",
       " '08월 04일': 216,\n",
       " '08월 05일': 217,\n",
       " '08월 06일': 218,\n",
       " '08월 07일': 219,\n",
       " '08월 08일': 220,\n",
       " '08월 09일': 221,\n",
       " '08월 10일': 222,\n",
       " '08월 11일': 223,\n",
       " '08월 12일': 224,\n",
       " '08월 13일': 225,\n",
       " '08월 14일': 226,\n",
       " '08월 15일': 227,\n",
       " '08월 16일': 228,\n",
       " '08월 17일': 229,\n",
       " '08월 18일': 230,\n",
       " '08월 19일': 231,\n",
       " '08월 20일': 232,\n",
       " '08월 21일': 233,\n",
       " '08월 22일': 234,\n",
       " '08월 23일': 235,\n",
       " '08월 24일': 236,\n",
       " '08월 25일': 237,\n",
       " '08월 26일': 238,\n",
       " '08월 27일': 239,\n",
       " '08월 28일': 240,\n",
       " '08월 29일': 241,\n",
       " '08월 30일': 242,\n",
       " '08월 31일': 243,\n",
       " '09월 01일': 244,\n",
       " '09월 02일': 245,\n",
       " '09월 03일': 246,\n",
       " '09월 04일': 247,\n",
       " '09월 05일': 248,\n",
       " '09월 06일': 249,\n",
       " '09월 07일': 250,\n",
       " '09월 08일': 251,\n",
       " '09월 09일': 252,\n",
       " '09월 10일': 253,\n",
       " '09월 11일': 254,\n",
       " '09월 12일': 255,\n",
       " '09월 13일': 256,\n",
       " '09월 14일': 257,\n",
       " '09월 15일': 258,\n",
       " '09월 16일': 259,\n",
       " '09월 17일': 260,\n",
       " '09월 18일': 261,\n",
       " '09월 19일': 262,\n",
       " '09월 20일': 263,\n",
       " '09월 21일': 264,\n",
       " '09월 22일': 265,\n",
       " '09월 23일': 266,\n",
       " '09월 24일': 267,\n",
       " '09월 25일': 268,\n",
       " '09월 26일': 269,\n",
       " '09월 27일': 270,\n",
       " '09월 28일': 271,\n",
       " '09월 29일': 272,\n",
       " '09월 30일': 273,\n",
       " '10월 01일': 274,\n",
       " '10월 02일': 275,\n",
       " '10월 03일': 276,\n",
       " '10월 04일': 277,\n",
       " '10월 05일': 278,\n",
       " '10월 06일': 279,\n",
       " '10월 07일': 280,\n",
       " '10월 08일': 281,\n",
       " '10월 09일': 282,\n",
       " '10월 10일': 283,\n",
       " '10월 11일': 284,\n",
       " '10월 12일': 285,\n",
       " '10월 13일': 286,\n",
       " '10월 14일': 287,\n",
       " '10월 15일': 288,\n",
       " '10월 16일': 289,\n",
       " '10월 17일': 290,\n",
       " '10월 18일': 291,\n",
       " '10월 19일': 292,\n",
       " '10월 20일': 293,\n",
       " '10월 21일': 294,\n",
       " '10월 22일': 295,\n",
       " '10월 23일': 296,\n",
       " '10월 24일': 297,\n",
       " '10월 25일': 298,\n",
       " '10월 26일': 299,\n",
       " '10월 27일': 300,\n",
       " '10월 28일': 301,\n",
       " '10월 29일': 302,\n",
       " '10월 30일': 303,\n",
       " '10월 31일': 304,\n",
       " '11월 01일': 305,\n",
       " '11월 02일': 306,\n",
       " '11월 03일': 307,\n",
       " '11월 04일': 308,\n",
       " '11월 05일': 309,\n",
       " '11월 06일': 310,\n",
       " '11월 07일': 311,\n",
       " '11월 08일': 312,\n",
       " '11월 09일': 313,\n",
       " '11월 10일': 314,\n",
       " '11월 11일': 315,\n",
       " '11월 12일': 316,\n",
       " '11월 13일': 317,\n",
       " '11월 14일': 318,\n",
       " '11월 15일': 319,\n",
       " '11월 16일': 320,\n",
       " '11월 17일': 321,\n",
       " '11월 18일': 322,\n",
       " '11월 19일': 323,\n",
       " '11월 20일': 324,\n",
       " '11월 21일': 325,\n",
       " '11월 22일': 326,\n",
       " '11월 23일': 327,\n",
       " '11월 24일': 328,\n",
       " '11월 25일': 329,\n",
       " '11월 26일': 330,\n",
       " '11월 27일': 331,\n",
       " '11월 28일': 332,\n",
       " '11월 29일': 333,\n",
       " '11월 30일': 334,\n",
       " '12월 01일': 335,\n",
       " '12월 02일': 336,\n",
       " '12월 03일': 337,\n",
       " '12월 04일': 338,\n",
       " '12월 05일': 339,\n",
       " '12월 06일': 340,\n",
       " '12월 07일': 341,\n",
       " '12월 08일': 342,\n",
       " '12월 09일': 343,\n",
       " '12월 10일': 344,\n",
       " '12월 11일': 345,\n",
       " '12월 12일': 346,\n",
       " '12월 13일': 347,\n",
       " '12월 14일': 348,\n",
       " '12월 15일': 349,\n",
       " '12월 16일': 350,\n",
       " '12월 17일': 351,\n",
       " '12월 18일': 352,\n",
       " '12월 19일': 353,\n",
       " '12월 20일': 354,\n",
       " '12월 21일': 355,\n",
       " '12월 22일': 356,\n",
       " '12월 23일': 357,\n",
       " '12월 24일': 358,\n",
       " '12월 25일': 359,\n",
       " '12월 26일': 360,\n",
       " '12월 27일': 361,\n",
       " '12월 28일': 362,\n",
       " '12월 29일': 363,\n",
       " '12월 30일': 364,\n",
       " '12월 31일': 365}"
      ]
     },
     "execution_count": 73,
     "metadata": {},
     "output_type": "execute_result"
    }
   ],
   "source": [
    "md_mapping"
   ]
  },
  {
   "cell_type": "code",
   "execution_count": 74,
   "id": "a5b226bd-1590-4a1d-95c5-a092e91901e3",
   "metadata": {},
   "outputs": [],
   "source": [
    "sales['m_d2'] = sales['m_d'].map(md_mapping)"
   ]
  },
  {
   "cell_type": "code",
   "execution_count": 76,
   "id": "6e01ea14-7851-4647-acc8-b4ccf71a27d4",
   "metadata": {},
   "outputs": [],
   "source": [
    "sales.drop(columns = ['y_m','m_d'], inplace = True)"
   ]
  },
  {
   "cell_type": "code",
   "execution_count": 77,
   "id": "a19fe201-a062-46c2-81a6-ef115710b71c",
   "metadata": {},
   "outputs": [],
   "source": [
    "sales.rename({'y_m2': 'y_m', 'm_d2':'m_d'}, axis = 1, inplace = True)"
   ]
  },
  {
   "cell_type": "code",
   "execution_count": 78,
   "id": "4d71e4ca-656e-425c-8680-029e99a3fdd4",
   "metadata": {},
   "outputs": [],
   "source": [
    "sales.to_csv('sales_pre.csv', index = False)"
   ]
  },
  {
   "cell_type": "code",
   "execution_count": 80,
   "id": "83726639-a804-42ff-9a98-f101a1b1bdb3",
   "metadata": {},
   "outputs": [
    {
     "data": {
      "text/html": [
       "<div>\n",
       "<style scoped>\n",
       "    .dataframe tbody tr th:only-of-type {\n",
       "        vertical-align: middle;\n",
       "    }\n",
       "\n",
       "    .dataframe tbody tr th {\n",
       "        vertical-align: top;\n",
       "    }\n",
       "\n",
       "    .dataframe thead th {\n",
       "        text-align: right;\n",
       "    }\n",
       "</style>\n",
       "<table border=\"1\" class=\"dataframe\">\n",
       "  <thead>\n",
       "    <tr style=\"text-align: right;\">\n",
       "      <th></th>\n",
       "      <th>date</th>\n",
       "      <th>shop_id</th>\n",
       "      <th>item_id</th>\n",
       "      <th>item_price</th>\n",
       "      <th>item_cnt_day</th>\n",
       "      <th>day</th>\n",
       "      <th>month</th>\n",
       "      <th>year</th>\n",
       "      <th>income</th>\n",
       "      <th>y_m</th>\n",
       "      <th>m_d</th>\n",
       "    </tr>\n",
       "  </thead>\n",
       "  <tbody>\n",
       "    <tr>\n",
       "      <th>0</th>\n",
       "      <td>02.01.2013</td>\n",
       "      <td>59</td>\n",
       "      <td>22154</td>\n",
       "      <td>999.00</td>\n",
       "      <td>1.0</td>\n",
       "      <td>02</td>\n",
       "      <td>01</td>\n",
       "      <td>2013</td>\n",
       "      <td>999.00</td>\n",
       "      <td>1</td>\n",
       "      <td>2</td>\n",
       "    </tr>\n",
       "    <tr>\n",
       "      <th>1</th>\n",
       "      <td>03.01.2013</td>\n",
       "      <td>25</td>\n",
       "      <td>2552</td>\n",
       "      <td>899.00</td>\n",
       "      <td>1.0</td>\n",
       "      <td>03</td>\n",
       "      <td>01</td>\n",
       "      <td>2013</td>\n",
       "      <td>899.00</td>\n",
       "      <td>1</td>\n",
       "      <td>3</td>\n",
       "    </tr>\n",
       "    <tr>\n",
       "      <th>3</th>\n",
       "      <td>06.01.2013</td>\n",
       "      <td>25</td>\n",
       "      <td>2554</td>\n",
       "      <td>1709.05</td>\n",
       "      <td>1.0</td>\n",
       "      <td>06</td>\n",
       "      <td>01</td>\n",
       "      <td>2013</td>\n",
       "      <td>1709.05</td>\n",
       "      <td>1</td>\n",
       "      <td>6</td>\n",
       "    </tr>\n",
       "    <tr>\n",
       "      <th>4</th>\n",
       "      <td>15.01.2013</td>\n",
       "      <td>25</td>\n",
       "      <td>2555</td>\n",
       "      <td>1099.00</td>\n",
       "      <td>1.0</td>\n",
       "      <td>15</td>\n",
       "      <td>01</td>\n",
       "      <td>2013</td>\n",
       "      <td>1099.00</td>\n",
       "      <td>1</td>\n",
       "      <td>15</td>\n",
       "    </tr>\n",
       "    <tr>\n",
       "      <th>5</th>\n",
       "      <td>10.01.2013</td>\n",
       "      <td>25</td>\n",
       "      <td>2564</td>\n",
       "      <td>349.00</td>\n",
       "      <td>1.0</td>\n",
       "      <td>10</td>\n",
       "      <td>01</td>\n",
       "      <td>2013</td>\n",
       "      <td>349.00</td>\n",
       "      <td>1</td>\n",
       "      <td>10</td>\n",
       "    </tr>\n",
       "  </tbody>\n",
       "</table>\n",
       "</div>"
      ],
      "text/plain": [
       "         date  shop_id  item_id  item_price  item_cnt_day day month  year  \\\n",
       "0  02.01.2013       59    22154      999.00           1.0  02    01  2013   \n",
       "1  03.01.2013       25     2552      899.00           1.0  03    01  2013   \n",
       "3  06.01.2013       25     2554     1709.05           1.0  06    01  2013   \n",
       "4  15.01.2013       25     2555     1099.00           1.0  15    01  2013   \n",
       "5  10.01.2013       25     2564      349.00           1.0  10    01  2013   \n",
       "\n",
       "    income  y_m  m_d  \n",
       "0   999.00    1    2  \n",
       "1   899.00    1    3  \n",
       "3  1709.05    1    6  \n",
       "4  1099.00    1   15  \n",
       "5   349.00    1   10  "
      ]
     },
     "execution_count": 80,
     "metadata": {},
     "output_type": "execute_result"
    }
   ],
   "source": [
    "sales.head()"
   ]
  },
  {
   "cell_type": "code",
   "execution_count": null,
   "id": "af14fced-77ee-49ab-8520-b4dcead5d7e6",
   "metadata": {},
   "outputs": [],
   "source": []
  },
  {
   "cell_type": "code",
   "execution_count": null,
   "id": "13255cf0-3c23-4f4e-a4f0-7dd25386e393",
   "metadata": {},
   "outputs": [],
   "source": []
  },
  {
   "cell_type": "code",
   "execution_count": null,
   "id": "b857a466-ddaa-47ba-aaa5-3c917d422237",
   "metadata": {},
   "outputs": [],
   "source": []
  },
  {
   "cell_type": "code",
   "execution_count": null,
   "id": "48487780-914d-479f-aca0-dcd4237799e8",
   "metadata": {},
   "outputs": [],
   "source": []
  },
  {
   "cell_type": "code",
   "execution_count": null,
   "id": "9b4f6161-e88a-48b9-a584-5bd069784d65",
   "metadata": {},
   "outputs": [],
   "source": []
  },
  {
   "cell_type": "code",
   "execution_count": null,
   "id": "e5b0f7d2-d38c-4706-8898-002b156b9130",
   "metadata": {},
   "outputs": [],
   "source": []
  },
  {
   "cell_type": "code",
   "execution_count": 75,
   "id": "92a93cc5-c7aa-4162-9911-937d746ef02a",
   "metadata": {},
   "outputs": [
    {
     "data": {
      "text/plain": [
       "1       5180\n",
       "2      18584\n",
       "3      17059\n",
       "4      15538\n",
       "5      15009\n",
       "       ...  \n",
       "361    14232\n",
       "362    16773\n",
       "363    15815\n",
       "364    18412\n",
       "365    16072\n",
       "Name: m_d2, Length: 365, dtype: int64"
      ]
     },
     "execution_count": 75,
     "metadata": {},
     "output_type": "execute_result"
    }
   ],
   "source": [
    "sales['m_d2'].value_counts().sort_index()"
   ]
  },
  {
   "cell_type": "code",
   "execution_count": 67,
   "id": "ac634061-0a27-45e2-b2c5-21ada9eeb218",
   "metadata": {},
   "outputs": [],
   "source": [
    "md = sales['m_d'].unique()"
   ]
  },
  {
   "cell_type": "code",
   "execution_count": 68,
   "id": "b2faacc8-ea6e-404c-8ebb-85ae2807d2f2",
   "metadata": {},
   "outputs": [],
   "source": [
    "md.sort()"
   ]
  },
  {
   "cell_type": "code",
   "execution_count": 69,
   "id": "9ae26b20-8118-4a7e-81eb-a3126b466824",
   "metadata": {},
   "outputs": [
    {
     "data": {
      "text/plain": [
       "array(['01월 01일', '01월 02일', '01월 03일', '01월 04일', '01월 05일', '01월 06일',\n",
       "       '01월 07일', '01월 08일', '01월 09일', '01월 10일', '01월 11일', '01월 12일',\n",
       "       '01월 13일', '01월 14일', '01월 15일', '01월 16일', '01월 17일', '01월 18일',\n",
       "       '01월 19일', '01월 20일', '01월 21일', '01월 22일', '01월 23일', '01월 24일',\n",
       "       '01월 25일', '01월 26일', '01월 27일', '01월 28일', '01월 29일', '01월 30일',\n",
       "       '01월 31일', '02월 01일', '02월 02일', '02월 03일', '02월 04일', '02월 05일',\n",
       "       '02월 06일', '02월 07일', '02월 08일', '02월 09일', '02월 10일', '02월 11일',\n",
       "       '02월 12일', '02월 13일', '02월 14일', '02월 15일', '02월 16일', '02월 17일',\n",
       "       '02월 18일', '02월 19일', '02월 20일', '02월 21일', '02월 22일', '02월 23일',\n",
       "       '02월 24일', '02월 25일', '02월 26일', '02월 27일', '02월 28일', '03월 01일',\n",
       "       '03월 02일', '03월 03일', '03월 04일', '03월 05일', '03월 06일', '03월 07일',\n",
       "       '03월 08일', '03월 09일', '03월 10일', '03월 11일', '03월 12일', '03월 13일',\n",
       "       '03월 14일', '03월 15일', '03월 16일', '03월 17일', '03월 18일', '03월 19일',\n",
       "       '03월 20일', '03월 21일', '03월 22일', '03월 23일', '03월 24일', '03월 25일',\n",
       "       '03월 26일', '03월 27일', '03월 28일', '03월 29일', '03월 30일', '03월 31일',\n",
       "       '04월 01일', '04월 02일', '04월 03일', '04월 04일', '04월 05일', '04월 06일',\n",
       "       '04월 07일', '04월 08일', '04월 09일', '04월 10일', '04월 11일', '04월 12일',\n",
       "       '04월 13일', '04월 14일', '04월 15일', '04월 16일', '04월 17일', '04월 18일',\n",
       "       '04월 19일', '04월 20일', '04월 21일', '04월 22일', '04월 23일', '04월 24일',\n",
       "       '04월 25일', '04월 26일', '04월 27일', '04월 28일', '04월 29일', '04월 30일',\n",
       "       '05월 01일', '05월 02일', '05월 03일', '05월 04일', '05월 05일', '05월 06일',\n",
       "       '05월 07일', '05월 08일', '05월 09일', '05월 10일', '05월 11일', '05월 12일',\n",
       "       '05월 13일', '05월 14일', '05월 15일', '05월 16일', '05월 17일', '05월 18일',\n",
       "       '05월 19일', '05월 20일', '05월 21일', '05월 22일', '05월 23일', '05월 24일',\n",
       "       '05월 25일', '05월 26일', '05월 27일', '05월 28일', '05월 29일', '05월 30일',\n",
       "       '05월 31일', '06월 01일', '06월 02일', '06월 03일', '06월 04일', '06월 05일',\n",
       "       '06월 06일', '06월 07일', '06월 08일', '06월 09일', '06월 10일', '06월 11일',\n",
       "       '06월 12일', '06월 13일', '06월 14일', '06월 15일', '06월 16일', '06월 17일',\n",
       "       '06월 18일', '06월 19일', '06월 20일', '06월 21일', '06월 22일', '06월 23일',\n",
       "       '06월 24일', '06월 25일', '06월 26일', '06월 27일', '06월 28일', '06월 29일',\n",
       "       '06월 30일', '07월 01일', '07월 02일', '07월 03일', '07월 04일', '07월 05일',\n",
       "       '07월 06일', '07월 07일', '07월 08일', '07월 09일', '07월 10일', '07월 11일',\n",
       "       '07월 12일', '07월 13일', '07월 14일', '07월 15일', '07월 16일', '07월 17일',\n",
       "       '07월 18일', '07월 19일', '07월 20일', '07월 21일', '07월 22일', '07월 23일',\n",
       "       '07월 24일', '07월 25일', '07월 26일', '07월 27일', '07월 28일', '07월 29일',\n",
       "       '07월 30일', '07월 31일', '08월 01일', '08월 02일', '08월 03일', '08월 04일',\n",
       "       '08월 05일', '08월 06일', '08월 07일', '08월 08일', '08월 09일', '08월 10일',\n",
       "       '08월 11일', '08월 12일', '08월 13일', '08월 14일', '08월 15일', '08월 16일',\n",
       "       '08월 17일', '08월 18일', '08월 19일', '08월 20일', '08월 21일', '08월 22일',\n",
       "       '08월 23일', '08월 24일', '08월 25일', '08월 26일', '08월 27일', '08월 28일',\n",
       "       '08월 29일', '08월 30일', '08월 31일', '09월 01일', '09월 02일', '09월 03일',\n",
       "       '09월 04일', '09월 05일', '09월 06일', '09월 07일', '09월 08일', '09월 09일',\n",
       "       '09월 10일', '09월 11일', '09월 12일', '09월 13일', '09월 14일', '09월 15일',\n",
       "       '09월 16일', '09월 17일', '09월 18일', '09월 19일', '09월 20일', '09월 21일',\n",
       "       '09월 22일', '09월 23일', '09월 24일', '09월 25일', '09월 26일', '09월 27일',\n",
       "       '09월 28일', '09월 29일', '09월 30일', '10월 01일', '10월 02일', '10월 03일',\n",
       "       '10월 04일', '10월 05일', '10월 06일', '10월 07일', '10월 08일', '10월 09일',\n",
       "       '10월 10일', '10월 11일', '10월 12일', '10월 13일', '10월 14일', '10월 15일',\n",
       "       '10월 16일', '10월 17일', '10월 18일', '10월 19일', '10월 20일', '10월 21일',\n",
       "       '10월 22일', '10월 23일', '10월 24일', '10월 25일', '10월 26일', '10월 27일',\n",
       "       '10월 28일', '10월 29일', '10월 30일', '10월 31일', '11월 01일', '11월 02일',\n",
       "       '11월 03일', '11월 04일', '11월 05일', '11월 06일', '11월 07일', '11월 08일',\n",
       "       '11월 09일', '11월 10일', '11월 11일', '11월 12일', '11월 13일', '11월 14일',\n",
       "       '11월 15일', '11월 16일', '11월 17일', '11월 18일', '11월 19일', '11월 20일',\n",
       "       '11월 21일', '11월 22일', '11월 23일', '11월 24일', '11월 25일', '11월 26일',\n",
       "       '11월 27일', '11월 28일', '11월 29일', '11월 30일', '12월 01일', '12월 02일',\n",
       "       '12월 03일', '12월 04일', '12월 05일', '12월 06일', '12월 07일', '12월 08일',\n",
       "       '12월 09일', '12월 10일', '12월 11일', '12월 12일', '12월 13일', '12월 14일',\n",
       "       '12월 15일', '12월 16일', '12월 17일', '12월 18일', '12월 19일', '12월 20일',\n",
       "       '12월 21일', '12월 22일', '12월 23일', '12월 24일', '12월 25일', '12월 26일',\n",
       "       '12월 27일', '12월 28일', '12월 29일', '12월 30일', '12월 31일'],\n",
       "      dtype=object)"
      ]
     },
     "execution_count": 69,
     "metadata": {},
     "output_type": "execute_result"
    }
   ],
   "source": [
    "md"
   ]
  },
  {
   "cell_type": "code",
   "execution_count": null,
   "id": "0a68debe-52ce-4ce9-88d1-862306e4d9dc",
   "metadata": {},
   "outputs": [],
   "source": []
  }
 ],
 "metadata": {
  "kernelspec": {
   "display_name": "Python 3 (ipykernel)",
   "language": "python",
   "name": "python3"
  },
  "language_info": {
   "codemirror_mode": {
    "name": "ipython",
    "version": 3
   },
   "file_extension": ".py",
   "mimetype": "text/x-python",
   "name": "python",
   "nbconvert_exporter": "python",
   "pygments_lexer": "ipython3",
   "version": "3.9.12"
  }
 },
 "nbformat": 4,
 "nbformat_minor": 5
}
