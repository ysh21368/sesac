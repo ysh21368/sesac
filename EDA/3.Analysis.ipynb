{
 "cells": [
  {
   "cell_type": "code",
   "execution_count": 1,
   "id": "fc3ab46e-62cb-4b31-ab78-74552af7c72e",
   "metadata": {},
   "outputs": [],
   "source": [
    "import pandas as pd"
   ]
  },
  {
   "cell_type": "code",
   "execution_count": 27,
   "id": "7b4bc9c7-955d-4769-831c-66bfc66770af",
   "metadata": {},
   "outputs": [],
   "source": [
    "pd.options.display.float_format = '{:.5f}'.format"
   ]
  },
  {
   "cell_type": "code",
   "execution_count": 2,
   "id": "0855a763-f480-44d7-b5c0-d40b433daf69",
   "metadata": {},
   "outputs": [],
   "source": [
    "sales = pd.read_csv('sales_pre.csv')"
   ]
  },
  {
   "cell_type": "code",
   "execution_count": 3,
   "id": "0c8450f5-0e28-4df1-8fc6-48fb687bd1c2",
   "metadata": {},
   "outputs": [
    {
     "data": {
      "text/html": [
       "<div>\n",
       "<style scoped>\n",
       "    .dataframe tbody tr th:only-of-type {\n",
       "        vertical-align: middle;\n",
       "    }\n",
       "\n",
       "    .dataframe tbody tr th {\n",
       "        vertical-align: top;\n",
       "    }\n",
       "\n",
       "    .dataframe thead th {\n",
       "        text-align: right;\n",
       "    }\n",
       "</style>\n",
       "<table border=\"1\" class=\"dataframe\">\n",
       "  <thead>\n",
       "    <tr style=\"text-align: right;\">\n",
       "      <th></th>\n",
       "      <th>date</th>\n",
       "      <th>shop_id</th>\n",
       "      <th>item_id</th>\n",
       "      <th>item_price</th>\n",
       "      <th>item_cnt_day</th>\n",
       "      <th>day</th>\n",
       "      <th>month</th>\n",
       "      <th>year</th>\n",
       "      <th>income</th>\n",
       "      <th>y_m</th>\n",
       "      <th>m_d</th>\n",
       "    </tr>\n",
       "  </thead>\n",
       "  <tbody>\n",
       "    <tr>\n",
       "      <th>0</th>\n",
       "      <td>02.01.2013</td>\n",
       "      <td>59</td>\n",
       "      <td>22154</td>\n",
       "      <td>999.00</td>\n",
       "      <td>1.0</td>\n",
       "      <td>2</td>\n",
       "      <td>1</td>\n",
       "      <td>2013</td>\n",
       "      <td>999.00</td>\n",
       "      <td>1</td>\n",
       "      <td>2</td>\n",
       "    </tr>\n",
       "    <tr>\n",
       "      <th>1</th>\n",
       "      <td>03.01.2013</td>\n",
       "      <td>25</td>\n",
       "      <td>2552</td>\n",
       "      <td>899.00</td>\n",
       "      <td>1.0</td>\n",
       "      <td>3</td>\n",
       "      <td>1</td>\n",
       "      <td>2013</td>\n",
       "      <td>899.00</td>\n",
       "      <td>1</td>\n",
       "      <td>3</td>\n",
       "    </tr>\n",
       "    <tr>\n",
       "      <th>2</th>\n",
       "      <td>06.01.2013</td>\n",
       "      <td>25</td>\n",
       "      <td>2554</td>\n",
       "      <td>1709.05</td>\n",
       "      <td>1.0</td>\n",
       "      <td>6</td>\n",
       "      <td>1</td>\n",
       "      <td>2013</td>\n",
       "      <td>1709.05</td>\n",
       "      <td>1</td>\n",
       "      <td>6</td>\n",
       "    </tr>\n",
       "    <tr>\n",
       "      <th>3</th>\n",
       "      <td>15.01.2013</td>\n",
       "      <td>25</td>\n",
       "      <td>2555</td>\n",
       "      <td>1099.00</td>\n",
       "      <td>1.0</td>\n",
       "      <td>15</td>\n",
       "      <td>1</td>\n",
       "      <td>2013</td>\n",
       "      <td>1099.00</td>\n",
       "      <td>1</td>\n",
       "      <td>15</td>\n",
       "    </tr>\n",
       "    <tr>\n",
       "      <th>4</th>\n",
       "      <td>10.01.2013</td>\n",
       "      <td>25</td>\n",
       "      <td>2564</td>\n",
       "      <td>349.00</td>\n",
       "      <td>1.0</td>\n",
       "      <td>10</td>\n",
       "      <td>1</td>\n",
       "      <td>2013</td>\n",
       "      <td>349.00</td>\n",
       "      <td>1</td>\n",
       "      <td>10</td>\n",
       "    </tr>\n",
       "  </tbody>\n",
       "</table>\n",
       "</div>"
      ],
      "text/plain": [
       "         date  shop_id  item_id  item_price  item_cnt_day  day  month  year  \\\n",
       "0  02.01.2013       59    22154      999.00           1.0    2      1  2013   \n",
       "1  03.01.2013       25     2552      899.00           1.0    3      1  2013   \n",
       "2  06.01.2013       25     2554     1709.05           1.0    6      1  2013   \n",
       "3  15.01.2013       25     2555     1099.00           1.0   15      1  2013   \n",
       "4  10.01.2013       25     2564      349.00           1.0   10      1  2013   \n",
       "\n",
       "    income  y_m  m_d  \n",
       "0   999.00    1    2  \n",
       "1   899.00    1    3  \n",
       "2  1709.05    1    6  \n",
       "3  1099.00    1   15  \n",
       "4   349.00    1   10  "
      ]
     },
     "execution_count": 3,
     "metadata": {},
     "output_type": "execute_result"
    }
   ],
   "source": [
    "sales.head()"
   ]
  },
  {
   "cell_type": "markdown",
   "id": "a115fbfd-6358-4748-bd6a-7ce904abffe2",
   "metadata": {},
   "source": [
    "## 2013~2015 연간 아이템 판매량"
   ]
  },
  {
   "cell_type": "markdown",
   "id": "f5289330-cdca-40a8-a367-4433064f23be",
   "metadata": {},
   "source": [
    "year_g = sales.groupby('year')"
   ]
  },
  {
   "cell_type": "markdown",
   "id": "5139b2df-1811-44a5-a71f-2ecf3c9d83a1",
   "metadata": {},
   "source": [
    "year_g['item_cnt_day'].sum()"
   ]
  },
  {
   "cell_type": "code",
   "execution_count": 4,
   "id": "90bfdd8e-96a9-4b05-9b71-797d2f0d84d7",
   "metadata": {},
   "outputs": [],
   "source": [
    "item_cnt_year = sales.groupby('year')['item_cnt_day'].sum()"
   ]
  },
  {
   "cell_type": "code",
   "execution_count": 5,
   "id": "7bbdfa9d-a44d-4782-94f3-c53adc0c4519",
   "metadata": {},
   "outputs": [
    {
     "data": {
      "text/plain": [
       "year\n",
       "2013    1565896.0\n",
       "2014    1323594.0\n",
       "2015     766256.0\n",
       "Name: item_cnt_day, dtype: float64"
      ]
     },
     "execution_count": 5,
     "metadata": {},
     "output_type": "execute_result"
    }
   ],
   "source": [
    "item_cnt_year"
   ]
  },
  {
   "cell_type": "code",
   "execution_count": 6,
   "id": "b57d8f0f-8afa-4d54-8240-cc89d367b547",
   "metadata": {},
   "outputs": [
    {
     "data": {
      "text/plain": [
       "<AxesSubplot:xlabel='year'>"
      ]
     },
     "execution_count": 6,
     "metadata": {},
     "output_type": "execute_result"
    },
    {
     "data": {
      "image/png": "[encoded data removed]",
      "text/plain": [
       "<Figure size 432x288 with 1 Axes>"
      ]
     },
     "metadata": {
      "needs_background": "light"
     },
     "output_type": "display_data"
    }
   ],
   "source": [
    "item_cnt_year.plot.bar()"
   ]
  },
  {
   "cell_type": "markdown",
   "id": "826d7021-40f9-407b-81b3-4a6883a60411",
   "metadata": {},
   "source": [
    "11, 12월을 제외한 13, 14, 15 연도 비교"
   ]
  },
  {
   "cell_type": "code",
   "execution_count": 7,
   "id": "fccb24d7-a5e8-41a8-8738-5bbd64d9ba8d",
   "metadata": {},
   "outputs": [],
   "source": [
    "a = sales[(sales['month'] != 11) & (sales['month'] != 12)].value_counts()"
   ]
  },
  {
   "cell_type": "code",
   "execution_count": 8,
   "id": "0a75298f-9259-48eb-9809-4f881d447145",
   "metadata": {},
   "outputs": [
    {
     "data": {
      "text/plain": [
       "date        shop_id  item_id  item_price  item_cnt_day  day  month  year  income  y_m  m_d\n",
       "23.02.2014  50       3423     999.0       1.0           23   2      2014  999.0   14   54     2\n",
       "23.03.2014  21       3423     999.0       1.0           23   3      2014  999.0   15   82     2\n",
       "12.07.2014  25       3423     999.0       1.0           12   7      2014  999.0   19   193    2\n",
       "01.05.2014  50       3423     999.0       1.0           1    5      2014  999.0   17   121    2\n",
       "05.01.2013  54       20130    149.0       1.0           5    1      2013  149.0   1    5      2\n",
       "                                                                                             ..\n",
       "10.08.2013  53       9053     449.0       1.0           10   8      2013  449.0   8    222    1\n",
       "                     9539     199.0       1.0           10   8      2013  199.0   8    222    1\n",
       "                     9780     149.0       1.0           10   8      2013  149.0   8    222    1\n",
       "                     9817     149.0       1.0           10   8      2013  149.0   8    222    1\n",
       "31.10.2015  59       21449    449.0       1.0           31   10     2015  449.0   34   304    1\n",
       "Length: 2472349, dtype: int64"
      ]
     },
     "execution_count": 8,
     "metadata": {},
     "output_type": "execute_result"
    }
   ],
   "source": [
    "a"
   ]
  },
  {
   "cell_type": "code",
   "execution_count": 17,
   "id": "c4be620c-7b0e-49fd-a751-809d118d6c48",
   "metadata": {},
   "outputs": [],
   "source": [
    "sales2 = sales[(sales['month'] != 11) & (sales['month'] != 12)]"
   ]
  },
  {
   "cell_type": "code",
   "execution_count": 18,
   "id": "0d4294e6-1067-4c17-8e2e-132d9b0e6746",
   "metadata": {},
   "outputs": [
    {
     "data": {
      "text/html": [
       "<div>\n",
       "<style scoped>\n",
       "    .dataframe tbody tr th:only-of-type {\n",
       "        vertical-align: middle;\n",
       "    }\n",
       "\n",
       "    .dataframe tbody tr th {\n",
       "        vertical-align: top;\n",
       "    }\n",
       "\n",
       "    .dataframe thead th {\n",
       "        text-align: right;\n",
       "    }\n",
       "</style>\n",
       "<table border=\"1\" class=\"dataframe\">\n",
       "  <thead>\n",
       "    <tr style=\"text-align: right;\">\n",
       "      <th></th>\n",
       "      <th>date</th>\n",
       "      <th>shop_id</th>\n",
       "      <th>item_id</th>\n",
       "      <th>item_price</th>\n",
       "      <th>item_cnt_day</th>\n",
       "      <th>day</th>\n",
       "      <th>month</th>\n",
       "      <th>year</th>\n",
       "      <th>income</th>\n",
       "      <th>y_m</th>\n",
       "      <th>m_d</th>\n",
       "    </tr>\n",
       "  </thead>\n",
       "  <tbody>\n",
       "    <tr>\n",
       "      <th>0</th>\n",
       "      <td>02.01.2013</td>\n",
       "      <td>59</td>\n",
       "      <td>22154</td>\n",
       "      <td>999.00</td>\n",
       "      <td>1.0</td>\n",
       "      <td>2</td>\n",
       "      <td>1</td>\n",
       "      <td>2013</td>\n",
       "      <td>999.00</td>\n",
       "      <td>1</td>\n",
       "      <td>2</td>\n",
       "    </tr>\n",
       "    <tr>\n",
       "      <th>1</th>\n",
       "      <td>03.01.2013</td>\n",
       "      <td>25</td>\n",
       "      <td>2552</td>\n",
       "      <td>899.00</td>\n",
       "      <td>1.0</td>\n",
       "      <td>3</td>\n",
       "      <td>1</td>\n",
       "      <td>2013</td>\n",
       "      <td>899.00</td>\n",
       "      <td>1</td>\n",
       "      <td>3</td>\n",
       "    </tr>\n",
       "    <tr>\n",
       "      <th>2</th>\n",
       "      <td>06.01.2013</td>\n",
       "      <td>25</td>\n",
       "      <td>2554</td>\n",
       "      <td>1709.05</td>\n",
       "      <td>1.0</td>\n",
       "      <td>6</td>\n",
       "      <td>1</td>\n",
       "      <td>2013</td>\n",
       "      <td>1709.05</td>\n",
       "      <td>1</td>\n",
       "      <td>6</td>\n",
       "    </tr>\n",
       "    <tr>\n",
       "      <th>3</th>\n",
       "      <td>15.01.2013</td>\n",
       "      <td>25</td>\n",
       "      <td>2555</td>\n",
       "      <td>1099.00</td>\n",
       "      <td>1.0</td>\n",
       "      <td>15</td>\n",
       "      <td>1</td>\n",
       "      <td>2013</td>\n",
       "      <td>1099.00</td>\n",
       "      <td>1</td>\n",
       "      <td>15</td>\n",
       "    </tr>\n",
       "    <tr>\n",
       "      <th>4</th>\n",
       "      <td>10.01.2013</td>\n",
       "      <td>25</td>\n",
       "      <td>2564</td>\n",
       "      <td>349.00</td>\n",
       "      <td>1.0</td>\n",
       "      <td>10</td>\n",
       "      <td>1</td>\n",
       "      <td>2013</td>\n",
       "      <td>349.00</td>\n",
       "      <td>1</td>\n",
       "      <td>10</td>\n",
       "    </tr>\n",
       "    <tr>\n",
       "      <th>...</th>\n",
       "      <td>...</td>\n",
       "      <td>...</td>\n",
       "      <td>...</td>\n",
       "      <td>...</td>\n",
       "      <td>...</td>\n",
       "      <td>...</td>\n",
       "      <td>...</td>\n",
       "      <td>...</td>\n",
       "      <td>...</td>\n",
       "      <td>...</td>\n",
       "      <td>...</td>\n",
       "    </tr>\n",
       "    <tr>\n",
       "      <th>2928487</th>\n",
       "      <td>10.10.2015</td>\n",
       "      <td>25</td>\n",
       "      <td>7409</td>\n",
       "      <td>299.00</td>\n",
       "      <td>1.0</td>\n",
       "      <td>10</td>\n",
       "      <td>10</td>\n",
       "      <td>2015</td>\n",
       "      <td>299.00</td>\n",
       "      <td>34</td>\n",
       "      <td>283</td>\n",
       "    </tr>\n",
       "    <tr>\n",
       "      <th>2928488</th>\n",
       "      <td>09.10.2015</td>\n",
       "      <td>25</td>\n",
       "      <td>7460</td>\n",
       "      <td>299.00</td>\n",
       "      <td>1.0</td>\n",
       "      <td>9</td>\n",
       "      <td>10</td>\n",
       "      <td>2015</td>\n",
       "      <td>299.00</td>\n",
       "      <td>34</td>\n",
       "      <td>282</td>\n",
       "    </tr>\n",
       "    <tr>\n",
       "      <th>2928489</th>\n",
       "      <td>14.10.2015</td>\n",
       "      <td>25</td>\n",
       "      <td>7459</td>\n",
       "      <td>349.00</td>\n",
       "      <td>1.0</td>\n",
       "      <td>14</td>\n",
       "      <td>10</td>\n",
       "      <td>2015</td>\n",
       "      <td>349.00</td>\n",
       "      <td>34</td>\n",
       "      <td>287</td>\n",
       "    </tr>\n",
       "    <tr>\n",
       "      <th>2928490</th>\n",
       "      <td>22.10.2015</td>\n",
       "      <td>25</td>\n",
       "      <td>7440</td>\n",
       "      <td>299.00</td>\n",
       "      <td>1.0</td>\n",
       "      <td>22</td>\n",
       "      <td>10</td>\n",
       "      <td>2015</td>\n",
       "      <td>299.00</td>\n",
       "      <td>34</td>\n",
       "      <td>295</td>\n",
       "    </tr>\n",
       "    <tr>\n",
       "      <th>2928491</th>\n",
       "      <td>03.10.2015</td>\n",
       "      <td>25</td>\n",
       "      <td>7460</td>\n",
       "      <td>299.00</td>\n",
       "      <td>1.0</td>\n",
       "      <td>3</td>\n",
       "      <td>10</td>\n",
       "      <td>2015</td>\n",
       "      <td>299.00</td>\n",
       "      <td>34</td>\n",
       "      <td>276</td>\n",
       "    </tr>\n",
       "  </tbody>\n",
       "</table>\n",
       "<p>2472354 rows × 11 columns</p>\n",
       "</div>"
      ],
      "text/plain": [
       "               date  shop_id  item_id  item_price  item_cnt_day  day  month  \\\n",
       "0        02.01.2013       59    22154      999.00           1.0    2      1   \n",
       "1        03.01.2013       25     2552      899.00           1.0    3      1   \n",
       "2        06.01.2013       25     2554     1709.05           1.0    6      1   \n",
       "3        15.01.2013       25     2555     1099.00           1.0   15      1   \n",
       "4        10.01.2013       25     2564      349.00           1.0   10      1   \n",
       "...             ...      ...      ...         ...           ...  ...    ...   \n",
       "2928487  10.10.2015       25     7409      299.00           1.0   10     10   \n",
       "2928488  09.10.2015       25     7460      299.00           1.0    9     10   \n",
       "2928489  14.10.2015       25     7459      349.00           1.0   14     10   \n",
       "2928490  22.10.2015       25     7440      299.00           1.0   22     10   \n",
       "2928491  03.10.2015       25     7460      299.00           1.0    3     10   \n",
       "\n",
       "         year   income  y_m  m_d  \n",
       "0        2013   999.00    1    2  \n",
       "1        2013   899.00    1    3  \n",
       "2        2013  1709.05    1    6  \n",
       "3        2013  1099.00    1   15  \n",
       "4        2013   349.00    1   10  \n",
       "...       ...      ...  ...  ...  \n",
       "2928487  2015   299.00   34  283  \n",
       "2928488  2015   299.00   34  282  \n",
       "2928489  2015   349.00   34  287  \n",
       "2928490  2015   299.00   34  295  \n",
       "2928491  2015   299.00   34  276  \n",
       "\n",
       "[2472354 rows x 11 columns]"
      ]
     },
     "execution_count": 18,
     "metadata": {},
     "output_type": "execute_result"
    }
   ],
   "source": [
    "sales2"
   ]
  },
  {
   "cell_type": "code",
   "execution_count": 19,
   "id": "c968635c-547e-42f9-98e6-c59b5574cc64",
   "metadata": {},
   "outputs": [],
   "source": [
    "item_cnt_year_not1112 = sales2.groupby('year')['item_cnt_day'].sum()"
   ]
  },
  {
   "cell_type": "code",
   "execution_count": 22,
   "id": "be20a911-0a95-4cf7-9182-f25e765a6596",
   "metadata": {},
   "outputs": [
    {
     "data": {
      "image/png": "[encoded data removed]",
      "text/plain": [
       "<Figure size 432x288 with 1 Axes>"
      ]
     },
     "metadata": {
      "needs_background": "light"
     },
     "output_type": "display_data"
    }
   ],
   "source": [
    "item_cnt_year_not1112.plot.bar();"
   ]
  },
  {
   "cell_type": "code",
   "execution_count": 23,
   "id": "26f8c35f-df7b-49dd-b83d-5892cb8944ba",
   "metadata": {},
   "outputs": [
    {
     "data": {
      "text/html": [
       "<div>\n",
       "<style scoped>\n",
       "    .dataframe tbody tr th:only-of-type {\n",
       "        vertical-align: middle;\n",
       "    }\n",
       "\n",
       "    .dataframe tbody tr th {\n",
       "        vertical-align: top;\n",
       "    }\n",
       "\n",
       "    .dataframe thead th {\n",
       "        text-align: right;\n",
       "    }\n",
       "</style>\n",
       "<table border=\"1\" class=\"dataframe\">\n",
       "  <thead>\n",
       "    <tr style=\"text-align: right;\">\n",
       "      <th></th>\n",
       "      <th>date</th>\n",
       "      <th>shop_id</th>\n",
       "      <th>item_id</th>\n",
       "      <th>item_price</th>\n",
       "      <th>item_cnt_day</th>\n",
       "      <th>day</th>\n",
       "      <th>month</th>\n",
       "      <th>year</th>\n",
       "      <th>income</th>\n",
       "      <th>y_m</th>\n",
       "      <th>m_d</th>\n",
       "    </tr>\n",
       "  </thead>\n",
       "  <tbody>\n",
       "    <tr>\n",
       "      <th>0</th>\n",
       "      <td>02.01.2013</td>\n",
       "      <td>59</td>\n",
       "      <td>22154</td>\n",
       "      <td>999.00</td>\n",
       "      <td>1.0</td>\n",
       "      <td>2</td>\n",
       "      <td>1</td>\n",
       "      <td>2013</td>\n",
       "      <td>999.00</td>\n",
       "      <td>1</td>\n",
       "      <td>2</td>\n",
       "    </tr>\n",
       "    <tr>\n",
       "      <th>1</th>\n",
       "      <td>03.01.2013</td>\n",
       "      <td>25</td>\n",
       "      <td>2552</td>\n",
       "      <td>899.00</td>\n",
       "      <td>1.0</td>\n",
       "      <td>3</td>\n",
       "      <td>1</td>\n",
       "      <td>2013</td>\n",
       "      <td>899.00</td>\n",
       "      <td>1</td>\n",
       "      <td>3</td>\n",
       "    </tr>\n",
       "    <tr>\n",
       "      <th>2</th>\n",
       "      <td>06.01.2013</td>\n",
       "      <td>25</td>\n",
       "      <td>2554</td>\n",
       "      <td>1709.05</td>\n",
       "      <td>1.0</td>\n",
       "      <td>6</td>\n",
       "      <td>1</td>\n",
       "      <td>2013</td>\n",
       "      <td>1709.05</td>\n",
       "      <td>1</td>\n",
       "      <td>6</td>\n",
       "    </tr>\n",
       "    <tr>\n",
       "      <th>3</th>\n",
       "      <td>15.01.2013</td>\n",
       "      <td>25</td>\n",
       "      <td>2555</td>\n",
       "      <td>1099.00</td>\n",
       "      <td>1.0</td>\n",
       "      <td>15</td>\n",
       "      <td>1</td>\n",
       "      <td>2013</td>\n",
       "      <td>1099.00</td>\n",
       "      <td>1</td>\n",
       "      <td>15</td>\n",
       "    </tr>\n",
       "    <tr>\n",
       "      <th>4</th>\n",
       "      <td>10.01.2013</td>\n",
       "      <td>25</td>\n",
       "      <td>2564</td>\n",
       "      <td>349.00</td>\n",
       "      <td>1.0</td>\n",
       "      <td>10</td>\n",
       "      <td>1</td>\n",
       "      <td>2013</td>\n",
       "      <td>349.00</td>\n",
       "      <td>1</td>\n",
       "      <td>10</td>\n",
       "    </tr>\n",
       "    <tr>\n",
       "      <th>...</th>\n",
       "      <td>...</td>\n",
       "      <td>...</td>\n",
       "      <td>...</td>\n",
       "      <td>...</td>\n",
       "      <td>...</td>\n",
       "      <td>...</td>\n",
       "      <td>...</td>\n",
       "      <td>...</td>\n",
       "      <td>...</td>\n",
       "      <td>...</td>\n",
       "      <td>...</td>\n",
       "    </tr>\n",
       "    <tr>\n",
       "      <th>2928487</th>\n",
       "      <td>10.10.2015</td>\n",
       "      <td>25</td>\n",
       "      <td>7409</td>\n",
       "      <td>299.00</td>\n",
       "      <td>1.0</td>\n",
       "      <td>10</td>\n",
       "      <td>10</td>\n",
       "      <td>2015</td>\n",
       "      <td>299.00</td>\n",
       "      <td>34</td>\n",
       "      <td>283</td>\n",
       "    </tr>\n",
       "    <tr>\n",
       "      <th>2928488</th>\n",
       "      <td>09.10.2015</td>\n",
       "      <td>25</td>\n",
       "      <td>7460</td>\n",
       "      <td>299.00</td>\n",
       "      <td>1.0</td>\n",
       "      <td>9</td>\n",
       "      <td>10</td>\n",
       "      <td>2015</td>\n",
       "      <td>299.00</td>\n",
       "      <td>34</td>\n",
       "      <td>282</td>\n",
       "    </tr>\n",
       "    <tr>\n",
       "      <th>2928489</th>\n",
       "      <td>14.10.2015</td>\n",
       "      <td>25</td>\n",
       "      <td>7459</td>\n",
       "      <td>349.00</td>\n",
       "      <td>1.0</td>\n",
       "      <td>14</td>\n",
       "      <td>10</td>\n",
       "      <td>2015</td>\n",
       "      <td>349.00</td>\n",
       "      <td>34</td>\n",
       "      <td>287</td>\n",
       "    </tr>\n",
       "    <tr>\n",
       "      <th>2928490</th>\n",
       "      <td>22.10.2015</td>\n",
       "      <td>25</td>\n",
       "      <td>7440</td>\n",
       "      <td>299.00</td>\n",
       "      <td>1.0</td>\n",
       "      <td>22</td>\n",
       "      <td>10</td>\n",
       "      <td>2015</td>\n",
       "      <td>299.00</td>\n",
       "      <td>34</td>\n",
       "      <td>295</td>\n",
       "    </tr>\n",
       "    <tr>\n",
       "      <th>2928491</th>\n",
       "      <td>03.10.2015</td>\n",
       "      <td>25</td>\n",
       "      <td>7460</td>\n",
       "      <td>299.00</td>\n",
       "      <td>1.0</td>\n",
       "      <td>3</td>\n",
       "      <td>10</td>\n",
       "      <td>2015</td>\n",
       "      <td>299.00</td>\n",
       "      <td>34</td>\n",
       "      <td>276</td>\n",
       "    </tr>\n",
       "  </tbody>\n",
       "</table>\n",
       "<p>2928492 rows × 11 columns</p>\n",
       "</div>"
      ],
      "text/plain": [
       "               date  shop_id  item_id  item_price  item_cnt_day  day  month  \\\n",
       "0        02.01.2013       59    22154      999.00           1.0    2      1   \n",
       "1        03.01.2013       25     2552      899.00           1.0    3      1   \n",
       "2        06.01.2013       25     2554     1709.05           1.0    6      1   \n",
       "3        15.01.2013       25     2555     1099.00           1.0   15      1   \n",
       "4        10.01.2013       25     2564      349.00           1.0   10      1   \n",
       "...             ...      ...      ...         ...           ...  ...    ...   \n",
       "2928487  10.10.2015       25     7409      299.00           1.0   10     10   \n",
       "2928488  09.10.2015       25     7460      299.00           1.0    9     10   \n",
       "2928489  14.10.2015       25     7459      349.00           1.0   14     10   \n",
       "2928490  22.10.2015       25     7440      299.00           1.0   22     10   \n",
       "2928491  03.10.2015       25     7460      299.00           1.0    3     10   \n",
       "\n",
       "         year   income  y_m  m_d  \n",
       "0        2013   999.00    1    2  \n",
       "1        2013   899.00    1    3  \n",
       "2        2013  1709.05    1    6  \n",
       "3        2013  1099.00    1   15  \n",
       "4        2013   349.00    1   10  \n",
       "...       ...      ...  ...  ...  \n",
       "2928487  2015   299.00   34  283  \n",
       "2928488  2015   299.00   34  282  \n",
       "2928489  2015   349.00   34  287  \n",
       "2928490  2015   299.00   34  295  \n",
       "2928491  2015   299.00   34  276  \n",
       "\n",
       "[2928492 rows x 11 columns]"
      ]
     },
     "execution_count": 23,
     "metadata": {},
     "output_type": "execute_result"
    }
   ],
   "source": [
    "sales"
   ]
  },
  {
   "cell_type": "code",
   "execution_count": 24,
   "id": "3e52df76-d813-43b1-8313-365cbca3469f",
   "metadata": {},
   "outputs": [
    {
     "data": {
      "text/plain": [
       "year\n",
       "2013    1.221143e+09\n",
       "2014    1.351026e+09\n",
       "2015    8.376871e+08\n",
       "Name: income, dtype: float64"
      ]
     },
     "execution_count": 24,
     "metadata": {},
     "output_type": "execute_result"
    }
   ],
   "source": [
    "sales.groupby('year')['income'].sum()"
   ]
  },
  {
   "cell_type": "code",
   "execution_count": 28,
   "id": "66f63f96-1b62-4227-ac4e-8974eee8135c",
   "metadata": {},
   "outputs": [
    {
     "data": {
      "text/plain": [
       "year\n",
       "2015    837687056.13999\n",
       "2013   1221143470.88000\n",
       "2014   1351025506.54999\n",
       "Name: income, dtype: float64"
      ]
     },
     "execution_count": 28,
     "metadata": {},
     "output_type": "execute_result"
    }
   ],
   "source": [
    "sales.groupby('year')['income'].sum().sort_values() #오름차순"
   ]
  },
  {
   "cell_type": "code",
   "execution_count": 29,
   "id": "08f94aca-04ba-4a07-9b49-78646b055560",
   "metadata": {},
   "outputs": [
    {
     "data": {
      "text/plain": [
       "year\n",
       "2015   837687056.13999\n",
       "2013   874137090.12000\n",
       "2014   965996653.17000\n",
       "Name: income, dtype: float64"
      ]
     },
     "execution_count": 29,
     "metadata": {},
     "output_type": "execute_result"
    }
   ],
   "source": [
    "sales2.groupby('year')['income'].sum().sort_values() #오름차순"
   ]
  },
  {
   "cell_type": "markdown",
   "id": "62fd11ac-c248-4041-aa25-e07977a52622",
   "metadata": {
    "tags": []
   },
   "source": [
    "# 월간 판매량"
   ]
  },
  {
   "cell_type": "code",
   "execution_count": 31,
   "id": "565e1b8f-ccd2-43fb-9e72-2d285d717508",
   "metadata": {},
   "outputs": [],
   "source": [
    "item_cnt_month = sales.groupby('month')['item_cnt_day'].sum()"
   ]
  },
  {
   "cell_type": "code",
   "execution_count": 34,
   "id": "0b890f6b-b6b5-48c6-a94d-ca4ec75da551",
   "metadata": {},
   "outputs": [
    {
     "data": {
      "text/plain": [
       "<AxesSubplot:xlabel='month'>"
      ]
     },
     "execution_count": 34,
     "metadata": {},
     "output_type": "execute_result"
    },
    {
     "data": {
      "image/png": "[encoded data removed]",
      "text/plain": [
       "<Figure size 432x288 with 1 Axes>"
      ]
     },
     "metadata": {
      "needs_background": "light"
     },
     "output_type": "display_data"
    }
   ],
   "source": [
    "item_cnt_month.plot.bar()"
   ]
  },
  {
   "cell_type": "markdown",
   "id": "8438f755-79b5-45b3-9a3a-ee0191e1af13",
   "metadata": {},
   "source": [
    "# 일간 판매량"
   ]
  },
  {
   "cell_type": "code",
   "execution_count": 35,
   "id": "b0507dbf-9006-4d8a-9433-3bca0f771bde",
   "metadata": {},
   "outputs": [],
   "source": [
    "item_cnt_day = sales.groupby('day')['item_cnt_day'].sum()"
   ]
  },
  {
   "cell_type": "code",
   "execution_count": 37,
   "id": "88907374-3997-47ae-90a9-0a2dbffbdcd4",
   "metadata": {},
   "outputs": [
    {
     "data": {
      "image/png": "[encoded data removed]",
      "text/plain": [
       "<Figure size 432x288 with 1 Axes>"
      ]
     },
     "metadata": {
      "needs_background": "light"
     },
     "output_type": "display_data"
    }
   ],
   "source": [
    "item_cnt_day.plot.bar();"
   ]
  },
  {
   "cell_type": "code",
   "execution_count": null,
   "id": "ce1b75a7-81ad-4c67-bd6f-1e57e2c54c3c",
   "metadata": {},
   "outputs": [],
   "source": [
    "# domain knowledge\n",
    "# domain 지식의 예: 31일에는 왜 판매량이 낮을까? 31일이 월마다 많이 없기 때문"
   ]
  },
  {
   "cell_type": "code",
   "execution_count": 38,
   "id": "44ce5feb-2060-4580-8024-5290cb4ba7c3",
   "metadata": {},
   "outputs": [
    {
     "data": {
      "text/plain": [
       "<AxesSubplot:xlabel='day'>"
      ]
     },
     "execution_count": 38,
     "metadata": {},
     "output_type": "execute_result"
    },
    {
     "data": {
      "image/png": "[encoded data removed]",
      "text/plain": [
       "<Figure size 432x288 with 1 Axes>"
      ]
     },
     "metadata": {
      "needs_background": "light"
     },
     "output_type": "display_data"
    }
   ],
   "source": [
    "sales.groupby('day')['income'].sum().plot.bar()"
   ]
  },
  {
   "cell_type": "code",
   "execution_count": null,
   "id": "2fdf4d94-9b27-4934-aa76-b0b215d3fb91",
   "metadata": {},
   "outputs": [],
   "source": [
    "# 일간 매출액에서의 domain knowledge를 위 바 그래프를 통해 유추할 수 있음"
   ]
  },
  {
   "cell_type": "code",
   "execution_count": 39,
   "id": "1588edb3-cda3-4bd5-938a-27bd082de082",
   "metadata": {},
   "outputs": [
    {
     "data": {
      "text/plain": [
       "<AxesSubplot:xlabel='day'>"
      ]
     },
     "execution_count": 39,
     "metadata": {},
     "output_type": "execute_result"
    },
    {
     "data": {
      "image/png": "[encoded data removed]",
      "text/plain": [
       "<Figure size 432x288 with 1 Axes>"
      ]
     },
     "metadata": {
      "needs_background": "light"
     },
     "output_type": "display_data"
    }
   ],
   "source": [
    "sales.groupby('day')['income'].sum().plot(legend=True)"
   ]
  },
  {
   "cell_type": "code",
   "execution_count": 40,
   "id": "38b51995-8847-4409-b558-633e8f7db94f",
   "metadata": {},
   "outputs": [
    {
     "data": {
      "text/html": [
       "<div>\n",
       "<style scoped>\n",
       "    .dataframe tbody tr th:only-of-type {\n",
       "        vertical-align: middle;\n",
       "    }\n",
       "\n",
       "    .dataframe tbody tr th {\n",
       "        vertical-align: top;\n",
       "    }\n",
       "\n",
       "    .dataframe thead th {\n",
       "        text-align: right;\n",
       "    }\n",
       "</style>\n",
       "<table border=\"1\" class=\"dataframe\">\n",
       "  <thead>\n",
       "    <tr style=\"text-align: right;\">\n",
       "      <th></th>\n",
       "      <th>date</th>\n",
       "      <th>shop_id</th>\n",
       "      <th>item_id</th>\n",
       "      <th>item_price</th>\n",
       "      <th>item_cnt_day</th>\n",
       "      <th>day</th>\n",
       "      <th>month</th>\n",
       "      <th>year</th>\n",
       "      <th>income</th>\n",
       "      <th>y_m</th>\n",
       "      <th>m_d</th>\n",
       "    </tr>\n",
       "  </thead>\n",
       "  <tbody>\n",
       "    <tr>\n",
       "      <th>0</th>\n",
       "      <td>02.01.2013</td>\n",
       "      <td>59</td>\n",
       "      <td>22154</td>\n",
       "      <td>999.00000</td>\n",
       "      <td>1.00000</td>\n",
       "      <td>2</td>\n",
       "      <td>1</td>\n",
       "      <td>2013</td>\n",
       "      <td>999.00000</td>\n",
       "      <td>1</td>\n",
       "      <td>2</td>\n",
       "    </tr>\n",
       "    <tr>\n",
       "      <th>1</th>\n",
       "      <td>03.01.2013</td>\n",
       "      <td>25</td>\n",
       "      <td>2552</td>\n",
       "      <td>899.00000</td>\n",
       "      <td>1.00000</td>\n",
       "      <td>3</td>\n",
       "      <td>1</td>\n",
       "      <td>2013</td>\n",
       "      <td>899.00000</td>\n",
       "      <td>1</td>\n",
       "      <td>3</td>\n",
       "    </tr>\n",
       "    <tr>\n",
       "      <th>2</th>\n",
       "      <td>06.01.2013</td>\n",
       "      <td>25</td>\n",
       "      <td>2554</td>\n",
       "      <td>1709.05000</td>\n",
       "      <td>1.00000</td>\n",
       "      <td>6</td>\n",
       "      <td>1</td>\n",
       "      <td>2013</td>\n",
       "      <td>1709.05000</td>\n",
       "      <td>1</td>\n",
       "      <td>6</td>\n",
       "    </tr>\n",
       "    <tr>\n",
       "      <th>3</th>\n",
       "      <td>15.01.2013</td>\n",
       "      <td>25</td>\n",
       "      <td>2555</td>\n",
       "      <td>1099.00000</td>\n",
       "      <td>1.00000</td>\n",
       "      <td>15</td>\n",
       "      <td>1</td>\n",
       "      <td>2013</td>\n",
       "      <td>1099.00000</td>\n",
       "      <td>1</td>\n",
       "      <td>15</td>\n",
       "    </tr>\n",
       "    <tr>\n",
       "      <th>4</th>\n",
       "      <td>10.01.2013</td>\n",
       "      <td>25</td>\n",
       "      <td>2564</td>\n",
       "      <td>349.00000</td>\n",
       "      <td>1.00000</td>\n",
       "      <td>10</td>\n",
       "      <td>1</td>\n",
       "      <td>2013</td>\n",
       "      <td>349.00000</td>\n",
       "      <td>1</td>\n",
       "      <td>10</td>\n",
       "    </tr>\n",
       "    <tr>\n",
       "      <th>...</th>\n",
       "      <td>...</td>\n",
       "      <td>...</td>\n",
       "      <td>...</td>\n",
       "      <td>...</td>\n",
       "      <td>...</td>\n",
       "      <td>...</td>\n",
       "      <td>...</td>\n",
       "      <td>...</td>\n",
       "      <td>...</td>\n",
       "      <td>...</td>\n",
       "      <td>...</td>\n",
       "    </tr>\n",
       "    <tr>\n",
       "      <th>2928487</th>\n",
       "      <td>10.10.2015</td>\n",
       "      <td>25</td>\n",
       "      <td>7409</td>\n",
       "      <td>299.00000</td>\n",
       "      <td>1.00000</td>\n",
       "      <td>10</td>\n",
       "      <td>10</td>\n",
       "      <td>2015</td>\n",
       "      <td>299.00000</td>\n",
       "      <td>34</td>\n",
       "      <td>283</td>\n",
       "    </tr>\n",
       "    <tr>\n",
       "      <th>2928488</th>\n",
       "      <td>09.10.2015</td>\n",
       "      <td>25</td>\n",
       "      <td>7460</td>\n",
       "      <td>299.00000</td>\n",
       "      <td>1.00000</td>\n",
       "      <td>9</td>\n",
       "      <td>10</td>\n",
       "      <td>2015</td>\n",
       "      <td>299.00000</td>\n",
       "      <td>34</td>\n",
       "      <td>282</td>\n",
       "    </tr>\n",
       "    <tr>\n",
       "      <th>2928489</th>\n",
       "      <td>14.10.2015</td>\n",
       "      <td>25</td>\n",
       "      <td>7459</td>\n",
       "      <td>349.00000</td>\n",
       "      <td>1.00000</td>\n",
       "      <td>14</td>\n",
       "      <td>10</td>\n",
       "      <td>2015</td>\n",
       "      <td>349.00000</td>\n",
       "      <td>34</td>\n",
       "      <td>287</td>\n",
       "    </tr>\n",
       "    <tr>\n",
       "      <th>2928490</th>\n",
       "      <td>22.10.2015</td>\n",
       "      <td>25</td>\n",
       "      <td>7440</td>\n",
       "      <td>299.00000</td>\n",
       "      <td>1.00000</td>\n",
       "      <td>22</td>\n",
       "      <td>10</td>\n",
       "      <td>2015</td>\n",
       "      <td>299.00000</td>\n",
       "      <td>34</td>\n",
       "      <td>295</td>\n",
       "    </tr>\n",
       "    <tr>\n",
       "      <th>2928491</th>\n",
       "      <td>03.10.2015</td>\n",
       "      <td>25</td>\n",
       "      <td>7460</td>\n",
       "      <td>299.00000</td>\n",
       "      <td>1.00000</td>\n",
       "      <td>3</td>\n",
       "      <td>10</td>\n",
       "      <td>2015</td>\n",
       "      <td>299.00000</td>\n",
       "      <td>34</td>\n",
       "      <td>276</td>\n",
       "    </tr>\n",
       "  </tbody>\n",
       "</table>\n",
       "<p>2928492 rows × 11 columns</p>\n",
       "</div>"
      ],
      "text/plain": [
       "               date  shop_id  item_id  item_price  item_cnt_day  day  month  \\\n",
       "0        02.01.2013       59    22154   999.00000       1.00000    2      1   \n",
       "1        03.01.2013       25     2552   899.00000       1.00000    3      1   \n",
       "2        06.01.2013       25     2554  1709.05000       1.00000    6      1   \n",
       "3        15.01.2013       25     2555  1099.00000       1.00000   15      1   \n",
       "4        10.01.2013       25     2564   349.00000       1.00000   10      1   \n",
       "...             ...      ...      ...         ...           ...  ...    ...   \n",
       "2928487  10.10.2015       25     7409   299.00000       1.00000   10     10   \n",
       "2928488  09.10.2015       25     7460   299.00000       1.00000    9     10   \n",
       "2928489  14.10.2015       25     7459   349.00000       1.00000   14     10   \n",
       "2928490  22.10.2015       25     7440   299.00000       1.00000   22     10   \n",
       "2928491  03.10.2015       25     7460   299.00000       1.00000    3     10   \n",
       "\n",
       "         year     income  y_m  m_d  \n",
       "0        2013  999.00000    1    2  \n",
       "1        2013  899.00000    1    3  \n",
       "2        2013 1709.05000    1    6  \n",
       "3        2013 1099.00000    1   15  \n",
       "4        2013  349.00000    1   10  \n",
       "...       ...        ...  ...  ...  \n",
       "2928487  2015  299.00000   34  283  \n",
       "2928488  2015  299.00000   34  282  \n",
       "2928489  2015  349.00000   34  287  \n",
       "2928490  2015  299.00000   34  295  \n",
       "2928491  2015  299.00000   34  276  \n",
       "\n",
       "[2928492 rows x 11 columns]"
      ]
     },
     "execution_count": 40,
     "metadata": {},
     "output_type": "execute_result"
    }
   ],
   "source": [
    "sales"
   ]
  },
  {
   "cell_type": "markdown",
   "id": "b5cf6b7c-1241-4f4c-9ded-6be4c87e27cd",
   "metadata": {},
   "source": [
    "# 상점별, 연월별(y_m) 아이템 판매량은?"
   ]
  },
  {
   "cell_type": "code",
   "execution_count": 51,
   "id": "9087df46-391d-4c56-bed9-199e7a602e08",
   "metadata": {},
   "outputs": [],
   "source": [
    "shop_month = sales.groupby(['shop_id', 'y_m'])['item_cnt_day'].sum().reset_index() # .reset_index()는 판다스로 바꿔줌"
   ]
  },
  {
   "cell_type": "code",
   "execution_count": 55,
   "id": "af5e65a2-8450-4337-971e-48182bcdd148",
   "metadata": {},
   "outputs": [],
   "source": [
    "import seaborn as sns\n",
    "import matplotlib.pyplot as plt"
   ]
  },
  {
   "cell_type": "code",
   "execution_count": 59,
   "id": "79577e10-0d2d-4f4b-b762-4117a5cdc0b5",
   "metadata": {},
   "outputs": [
    {
     "data": {
      "text/plain": [
       "<AxesSubplot:xlabel='y_m', ylabel='item_cnt_day'>"
      ]
     },
     "execution_count": 59,
     "metadata": {},
     "output_type": "execute_result"
    },
    {
     "data": {
      "image/png": "[encoded data removed]",
      "text/plain": [
       "<Figure size 8640x720 with 1 Axes>"
      ]
     },
     "metadata": {
      "needs_background": "light"
     },
     "output_type": "display_data"
    }
   ],
   "source": [
    "plt.figure(figsize=(120, 10))\n",
    "sns.pointplot(x='y_m', y='item_cnt_day', hue='shop_id', \n",
    "              data=shop_month[shop_month['shop_id'] < 5])"
   ]
  },
  {
   "cell_type": "code",
   "execution_count": null,
   "id": "d3f30c25-14af-410a-9b95-e3acf221ac01",
   "metadata": {},
   "outputs": [],
   "source": []
  },
  {
   "cell_type": "markdown",
   "id": "e4308b81-0d24-46a3-88ec-67153982e3f3",
   "metadata": {},
   "source": [
    "시계열 데이터 분석 알아보기"
   ]
  },
  {
   "cell_type": "code",
   "execution_count": null,
   "id": "738550f4-bb7d-4022-8496-c4be4e7805f4",
   "metadata": {},
   "outputs": [],
   "source": []
  },
  {
   "cell_type": "code",
   "execution_count": null,
   "id": "509aa764-7ccc-437e-9406-751fdf273882",
   "metadata": {},
   "outputs": [],
   "source": []
  }
 ],
 "metadata": {
  "kernelspec": {
   "display_name": "Python 3 (ipykernel)",
   "language": "python",
   "name": "python3"
  },
  "language_info": {
   "codemirror_mode": {
    "name": "ipython",
    "version": 3
   },
   "file_extension": ".py",
   "mimetype": "text/x-python",
   "name": "python",
   "nbconvert_exporter": "python",
   "pygments_lexer": "ipython3",
   "version": "3.9.12"
  }
 },
 "nbformat": 4,
 "nbformat_minor": 5
}
