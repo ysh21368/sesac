{
 "cells": [
  {
   "cell_type": "code",
   "execution_count": 21,
   "metadata": {},
   "outputs": [],
   "source": [
    "# 두개만 넣었을때 계산\n",
    "def cal(oper,num1,num2):\n",
    "    if oper == \"add\":\n",
    "        temp = num1 + num2\n",
    "    elif oper == 'sub':\n",
    "        temp =  num1-num2\n",
    "    elif oper == 'mul':\n",
    "        temp = num1*num2\n",
    "    elif oper == 'div':\n",
    "        temp =  num1/num2 \n",
    "    return temp\n"
   ]
  },
  {
   "cell_type": "code",
   "execution_count": null,
   "metadata": {},
   "outputs": [],
   "source": []
  },
  {
   "cell_type": "code",
   "execution_count": 25,
   "metadata": {},
   "outputs": [],
   "source": [
    "def f(x, *arg):\n",
    "    print(*arg)"
   ]
  },
  {
   "cell_type": "code",
   "execution_count": 24,
   "metadata": {},
   "outputs": [],
   "source": [
    "cal(\"sub\",1,2)"
   ]
  },
  {
   "cell_type": "code",
   "execution_count": 20,
   "metadata": {},
   "outputs": [],
   "source": [
    "cal(\"add\",1,2)"
   ]
  },
  {
   "cell_type": "code",
   "execution_count": 29,
   "metadata": {},
   "outputs": [
    {
     "data": {
      "text/plain": [
       "-6"
      ]
     },
     "execution_count": 29,
     "metadata": {},
     "output_type": "execute_result"
    }
   ],
   "source": [
    "cal('add',1,2,3)"
   ]
  },
  {
   "cell_type": "code",
   "execution_count": 71,
   "metadata": {},
   "outputs": [],
   "source": [
    "#여러개를 넣었을때 계산\n",
    "def cal(oper,x, *args):\n",
    "    nums = [*args]\n",
    " \n",
    "    if oper == \"add\":\n",
    "        temp = 0\n",
    "        for num in nums:\n",
    "            temp = x + num +temp\n",
    "\n",
    "    elif oper == \"sub\":\n",
    "        temp = 0\n",
    "        for num in nums:\n",
    "            temp = temp+x-num\n",
    "\n",
    "    elif oper == \"mul\":\n",
    "        temp = 1\n",
    "        for num in nums:\n",
    "            temp = temp*x*num\n",
    "\n",
    "    elif oper == \"div\":\n",
    "        temp = 1\n",
    "        for num in nums:\n",
    "            temp = (temp*x)/num\n",
    "\n",
    "    return temp"
   ]
  },
  {
   "cell_type": "code",
   "execution_count": 72,
   "metadata": {},
   "outputs": [
    {
     "data": {
      "text/plain": [
       "0.16666666666666666"
      ]
     },
     "execution_count": 72,
     "metadata": {},
     "output_type": "execute_result"
    }
   ],
   "source": [
    "cal('div',1,2,3)"
   ]
  }
 ],
 "metadata": {
  "kernelspec": {
   "display_name": "Python 3.9.13 ('base')",
   "language": "python",
   "name": "python3"
  },
  "language_info": {
   "codemirror_mode": {
    "name": "ipython",
    "version": 3
   },
   "file_extension": ".py",
   "mimetype": "text/x-python",
   "name": "python",
   "nbconvert_exporter": "python",
   "pygments_lexer": "ipython3",
   "version": "3.9.13"
  },
  "orig_nbformat": 4,
  "vscode": {
   "interpreter": {
    "hash": "701d4f28dcd0866722f5108a3a4cbcd08882d26398b6d44117e791d7b8102912"
   }
  }
 },
 "nbformat": 4,
 "nbformat_minor": 2
}
