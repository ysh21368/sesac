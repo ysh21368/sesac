{
 "cells": [
  {
   "cell_type": "markdown",
   "id": "3f1cab55-1005-4b97-adbb-d0b98b2206ed",
   "metadata": {
    "tags": []
   },
   "source": [
    "퇴사 여부를 예측하는 이진분류 모델을 만드시오.\n",
    "\n",
    "\n",
    "데이터는 해당 회사의 직원관리를 위한 인사데이터로 총 1470index로 구성\n",
    "예측해야 할 변수 "
   ]
  },
  {
   "cell_type": "code",
   "execution_count": 4,
   "id": "76c83625-3f83-4ced-ace6-84a3a9347d14",
   "metadata": {},
   "outputs": [
    {
     "ename": "SyntaxError",
     "evalue": "invalid syntax (4245702123.py, line 1)",
     "output_type": "error",
     "traceback": [
      "\u001b[1;36m  Input \u001b[1;32mIn [4]\u001b[1;36m\u001b[0m\n\u001b[1;33m    데이터 유형\u001b[0m\n\u001b[1;37m        ^\u001b[0m\n\u001b[1;31mSyntaxError\u001b[0m\u001b[1;31m:\u001b[0m invalid syntax\n"
     ]
    }
   ],
   "source": [
    "데이터 유형\n",
    "\n",
    "연속형 데이터\n",
    "\n",
    "나우너질 수 있고, 연속적으로 측정될 수 있는것\n",
    "\n",
    "예 제품 중량, 온도, 강도, 계량형 데이터\n",
    "\n",
    "이산형, 범주형 데이터\n",
    "\n",
    "이산형\n",
    "명목적척도, 순위척도"
   ]
  },
  {
   "cell_type": "code",
   "execution_count": 6,
   "id": "3a818a0c-5492-4374-b985-a897a1be7500",
   "metadata": {},
   "outputs": [
    {
     "ename": "SyntaxError",
     "evalue": "invalid syntax (1275385356.py, line 1)",
     "output_type": "error",
     "traceback": [
      "\u001b[1;36m  Input \u001b[1;32mIn [6]\u001b[1;36m\u001b[0m\n\u001b[1;33m    문제: 회귀, 분류\u001b[0m\n\u001b[1;37m          ^\u001b[0m\n\u001b[1;31mSyntaxError\u001b[0m\u001b[1;31m:\u001b[0m invalid syntax\n"
     ]
    }
   ],
   "source": [
    "문제: 회귀, 분류\n",
    "\n",
    "가지고 있는 데이터에 독립변수(label)와 종속변수(feature)가 있고,\n",
    "종속변수가 숫자일때 회귀를 이용하면 된다.\n",
    "\n",
    "가지고 있는 데이터에 독립변수(label)와 종속변수(feature)가 있고,\n",
    "종속변수가 이름일때 분류를 이용하면 된다."
   ]
  },
  {
   "cell_type": "code",
   "execution_count": 8,
   "id": "6826c8a5-171e-4d05-b869-cd05b957856a",
   "metadata": {},
   "outputs": [
    {
     "ename": "SyntaxError",
     "evalue": "invalid syntax (3935911878.py, line 1)",
     "output_type": "error",
     "traceback": [
      "\u001b[1;36m  Input \u001b[1;32mIn [8]\u001b[1;36m\u001b[0m\n\u001b[1;33m    목적에 맞는 모델 선택\u001b[0m\n\u001b[1;37m        ^\u001b[0m\n\u001b[1;31mSyntaxError\u001b[0m\u001b[1;31m:\u001b[0m invalid syntax\n"
     ]
    }
   ],
   "source": [
    "목적에 맞는 모델 선택\n",
    "데이터를 준비 가공\n",
    "모델평가\n",
    "모델간 비교/파라미터 튜닝"
   ]
  },
  {
   "cell_type": "code",
   "execution_count": null,
   "id": "3df0b845-15fe-4ff7-9e7d-5be7b3c2a389",
   "metadata": {},
   "outputs": [],
   "source": [
    "20 886 846 845\n",
    "21 876 884 845\n",
    "22 876 844 845\n",
    "23 876 844 845\n",
    "24 876 844 845\n",
    "25 874 839 845\n",
    "26 874 839 845\n",
    "27 874 839 845\n",
    "28 874 839 845\n",
    "29 874 839 845\n"
   ]
  }
 ],
 "metadata": {
  "kernelspec": {
   "display_name": "Python 3.9.13 ('base')",
   "language": "python",
   "name": "python3"
  },
  "language_info": {
   "codemirror_mode": {
    "name": "ipython",
    "version": 3
   },
   "file_extension": ".py",
   "mimetype": "text/x-python",
   "name": "python",
   "nbconvert_exporter": "python",
   "pygments_lexer": "ipython3",
   "version": "3.9.13"
  },
  "vscode": {
   "interpreter": {
    "hash": "701d4f28dcd0866722f5108a3a4cbcd08882d26398b6d44117e791d7b8102912"
   }
  }
 },
 "nbformat": 4,
 "nbformat_minor": 5
}
