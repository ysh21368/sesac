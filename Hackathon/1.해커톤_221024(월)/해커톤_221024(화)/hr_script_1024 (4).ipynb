{
 "cells": [
  {
   "cell_type": "markdown",
   "id": "5a3b09d1-3ea5-4bea-9354-d94ac12c09ad",
   "metadata": {
    "tags": []
   },
   "source": [
    "# DecisionTreeClassifier"
   ]
  },
  {
   "cell_type": "code",
   "execution_count": 2,
   "id": "4143f91d-6164-495d-b29f-fce1011ae969",
   "metadata": {},
   "outputs": [],
   "source": [
    "# 데이터 처리\n",
    "import pandas as pd\n",
    "# 데이터 시각화\n",
    "import matplotlib.pyplot as plt ; import matplotlib\n",
    "# 나무 구조 시각화\n",
    "from sklearn.tree import plot_tree\n",
    "# 데이터 분할: Train, Test\n",
    "from sklearn.model_selection import train_test_split\n",
    "# 의사결정나무\n",
    "from sklearn.tree import DecisionTreeClassifier\n",
    "# 최적 모델, 파라미터 탐색\n",
    "from sklearn.model_selection import GridSearchCV\n",
    "# 모델 성능 평가\n",
    "from sklearn.metrics import confusion_matrix\n",
    "from sklearn.metrics import classification_report"
   ]
  },
  {
   "cell_type": "code",
   "execution_count": 3,
   "id": "3e04737b",
   "metadata": {},
   "outputs": [],
   "source": [
    "# 한글 폰트 설정\n",
    "matplotlib.rc(\"font\", family = \"Malgun Gothic\")\n",
    "# 음수 표시 설정\n",
    "matplotlib.rc('axes', unicode_minus = False)"
   ]
  },
  {
   "cell_type": "markdown",
   "id": "15c0b755-f070-4339-9264-47495a565ad1",
   "metadata": {},
   "source": [
    "## 데이터 불러오기"
   ]
  },
  {
   "cell_type": "code",
   "execution_count": 4,
   "id": "0fc225e9",
   "metadata": {},
   "outputs": [
    {
     "name": "stdout",
     "output_type": "stream",
     "text": [
      "<class 'pandas.core.frame.DataFrame'>\n",
      "Int64Index: 1470 entries, 0 to 1469\n",
      "Data columns (total 24 columns):\n",
      " #   Column                    Non-Null Count  Dtype  \n",
      "---  ------                    --------------  -----  \n",
      " 0   Age                       1470 non-null   int64  \n",
      " 1   Attrition                 1470 non-null   object \n",
      " 2   BusinessTravel            1470 non-null   object \n",
      " 3   DailyRate                 1470 non-null   int64  \n",
      " 4   DistanceFromHome          1470 non-null   int64  \n",
      " 5   Education                 1470 non-null   int64  \n",
      " 6   Gender                    1470 non-null   object \n",
      " 7   HourlyRate                1470 non-null   int64  \n",
      " 8   JobInvolvement            1470 non-null   int64  \n",
      " 9   JobRole                   1470 non-null   object \n",
      " 10  JobSatisfaction           1470 non-null   int64  \n",
      " 11  MaritalStatus             1470 non-null   object \n",
      " 12  MonthlyIncome             1470 non-null   int64  \n",
      " 13  NumCompaniesWorked        1470 non-null   int64  \n",
      " 14  OverTime                  1470 non-null   object \n",
      " 15  PerformanceRating         1470 non-null   int64  \n",
      " 16  RelationshipSatisfaction  1470 non-null   int64  \n",
      " 17  StockOptionLevel          1470 non-null   int64  \n",
      " 18  TotalWorkingYears         1470 non-null   int64  \n",
      " 19  TrainingTimesLastYear     1470 non-null   int64  \n",
      " 20  WorkLifeBalance           1470 non-null   int64  \n",
      " 21  YearsAtCompany            1470 non-null   int64  \n",
      " 22  YearsWithCurrManager      1470 non-null   int64  \n",
      " 23  Low_Satisfaction          1470 non-null   float64\n",
      "dtypes: float64(1), int64(17), object(6)\n",
      "memory usage: 287.1+ KB\n"
     ]
    }
   ],
   "source": [
    "# dataset\n",
    "df1 = pd.read_csv('hr_preprocessed_1470_24.csv', index_col = 0)\n",
    "df1.info()"
   ]
  },
  {
   "cell_type": "code",
   "execution_count": 5,
   "id": "338b8a38-db8b-42bc-9528-42380fab4015",
   "metadata": {},
   "outputs": [
    {
     "data": {
      "text/html": [
       "<div>\n",
       "<style scoped>\n",
       "    .dataframe tbody tr th:only-of-type {\n",
       "        vertical-align: middle;\n",
       "    }\n",
       "\n",
       "    .dataframe tbody tr th {\n",
       "        vertical-align: top;\n",
       "    }\n",
       "\n",
       "    .dataframe thead th {\n",
       "        text-align: right;\n",
       "    }\n",
       "</style>\n",
       "<table border=\"1\" class=\"dataframe\">\n",
       "  <thead>\n",
       "    <tr style=\"text-align: right;\">\n",
       "      <th></th>\n",
       "      <th>Age</th>\n",
       "      <th>DailyRate</th>\n",
       "      <th>DistanceFromHome</th>\n",
       "      <th>Education</th>\n",
       "      <th>HourlyRate</th>\n",
       "      <th>JobInvolvement</th>\n",
       "      <th>JobSatisfaction</th>\n",
       "      <th>MonthlyIncome</th>\n",
       "      <th>NumCompaniesWorked</th>\n",
       "      <th>PerformanceRating</th>\n",
       "      <th>RelationshipSatisfaction</th>\n",
       "      <th>StockOptionLevel</th>\n",
       "      <th>TotalWorkingYears</th>\n",
       "      <th>TrainingTimesLastYear</th>\n",
       "      <th>WorkLifeBalance</th>\n",
       "      <th>YearsAtCompany</th>\n",
       "      <th>YearsWithCurrManager</th>\n",
       "      <th>Low_Satisfaction</th>\n",
       "    </tr>\n",
       "  </thead>\n",
       "  <tbody>\n",
       "    <tr>\n",
       "      <th>count</th>\n",
       "      <td>1470.000000</td>\n",
       "      <td>1470.000000</td>\n",
       "      <td>1470.000000</td>\n",
       "      <td>1470.000000</td>\n",
       "      <td>1470.000000</td>\n",
       "      <td>1470.000000</td>\n",
       "      <td>1470.000000</td>\n",
       "      <td>1470.000000</td>\n",
       "      <td>1470.000000</td>\n",
       "      <td>1470.000000</td>\n",
       "      <td>1470.000000</td>\n",
       "      <td>1470.000000</td>\n",
       "      <td>1470.000000</td>\n",
       "      <td>1470.000000</td>\n",
       "      <td>1470.000000</td>\n",
       "      <td>1470.000000</td>\n",
       "      <td>1470.000000</td>\n",
       "      <td>1470.000000</td>\n",
       "    </tr>\n",
       "    <tr>\n",
       "      <th>mean</th>\n",
       "      <td>36.923810</td>\n",
       "      <td>802.485714</td>\n",
       "      <td>9.192517</td>\n",
       "      <td>2.912925</td>\n",
       "      <td>65.891156</td>\n",
       "      <td>2.729932</td>\n",
       "      <td>2.728571</td>\n",
       "      <td>6502.931293</td>\n",
       "      <td>2.693197</td>\n",
       "      <td>3.153741</td>\n",
       "      <td>2.712245</td>\n",
       "      <td>0.793878</td>\n",
       "      <td>11.279592</td>\n",
       "      <td>2.799320</td>\n",
       "      <td>2.761224</td>\n",
       "      <td>7.008163</td>\n",
       "      <td>4.123129</td>\n",
       "      <td>0.193197</td>\n",
       "    </tr>\n",
       "    <tr>\n",
       "      <th>std</th>\n",
       "      <td>9.135373</td>\n",
       "      <td>403.509100</td>\n",
       "      <td>8.106864</td>\n",
       "      <td>1.024165</td>\n",
       "      <td>20.329428</td>\n",
       "      <td>0.711561</td>\n",
       "      <td>1.102846</td>\n",
       "      <td>4707.956783</td>\n",
       "      <td>2.498009</td>\n",
       "      <td>0.360824</td>\n",
       "      <td>1.081209</td>\n",
       "      <td>0.852077</td>\n",
       "      <td>7.780782</td>\n",
       "      <td>1.289271</td>\n",
       "      <td>0.706476</td>\n",
       "      <td>6.126525</td>\n",
       "      <td>3.568136</td>\n",
       "      <td>0.394941</td>\n",
       "    </tr>\n",
       "    <tr>\n",
       "      <th>min</th>\n",
       "      <td>18.000000</td>\n",
       "      <td>102.000000</td>\n",
       "      <td>1.000000</td>\n",
       "      <td>1.000000</td>\n",
       "      <td>30.000000</td>\n",
       "      <td>1.000000</td>\n",
       "      <td>1.000000</td>\n",
       "      <td>1009.000000</td>\n",
       "      <td>0.000000</td>\n",
       "      <td>3.000000</td>\n",
       "      <td>1.000000</td>\n",
       "      <td>0.000000</td>\n",
       "      <td>0.000000</td>\n",
       "      <td>0.000000</td>\n",
       "      <td>1.000000</td>\n",
       "      <td>0.000000</td>\n",
       "      <td>0.000000</td>\n",
       "      <td>0.000000</td>\n",
       "    </tr>\n",
       "    <tr>\n",
       "      <th>25%</th>\n",
       "      <td>30.000000</td>\n",
       "      <td>465.000000</td>\n",
       "      <td>2.000000</td>\n",
       "      <td>2.000000</td>\n",
       "      <td>48.000000</td>\n",
       "      <td>2.000000</td>\n",
       "      <td>2.000000</td>\n",
       "      <td>2911.000000</td>\n",
       "      <td>1.000000</td>\n",
       "      <td>3.000000</td>\n",
       "      <td>2.000000</td>\n",
       "      <td>0.000000</td>\n",
       "      <td>6.000000</td>\n",
       "      <td>2.000000</td>\n",
       "      <td>2.000000</td>\n",
       "      <td>3.000000</td>\n",
       "      <td>2.000000</td>\n",
       "      <td>0.000000</td>\n",
       "    </tr>\n",
       "    <tr>\n",
       "      <th>50%</th>\n",
       "      <td>36.000000</td>\n",
       "      <td>802.000000</td>\n",
       "      <td>7.000000</td>\n",
       "      <td>3.000000</td>\n",
       "      <td>66.000000</td>\n",
       "      <td>3.000000</td>\n",
       "      <td>3.000000</td>\n",
       "      <td>4919.000000</td>\n",
       "      <td>2.000000</td>\n",
       "      <td>3.000000</td>\n",
       "      <td>3.000000</td>\n",
       "      <td>1.000000</td>\n",
       "      <td>10.000000</td>\n",
       "      <td>3.000000</td>\n",
       "      <td>3.000000</td>\n",
       "      <td>5.000000</td>\n",
       "      <td>3.000000</td>\n",
       "      <td>0.000000</td>\n",
       "    </tr>\n",
       "    <tr>\n",
       "      <th>75%</th>\n",
       "      <td>43.000000</td>\n",
       "      <td>1157.000000</td>\n",
       "      <td>14.000000</td>\n",
       "      <td>4.000000</td>\n",
       "      <td>83.750000</td>\n",
       "      <td>3.000000</td>\n",
       "      <td>4.000000</td>\n",
       "      <td>8379.000000</td>\n",
       "      <td>4.000000</td>\n",
       "      <td>3.000000</td>\n",
       "      <td>4.000000</td>\n",
       "      <td>1.000000</td>\n",
       "      <td>15.000000</td>\n",
       "      <td>3.000000</td>\n",
       "      <td>3.000000</td>\n",
       "      <td>9.000000</td>\n",
       "      <td>7.000000</td>\n",
       "      <td>0.000000</td>\n",
       "    </tr>\n",
       "    <tr>\n",
       "      <th>max</th>\n",
       "      <td>60.000000</td>\n",
       "      <td>1499.000000</td>\n",
       "      <td>29.000000</td>\n",
       "      <td>5.000000</td>\n",
       "      <td>100.000000</td>\n",
       "      <td>4.000000</td>\n",
       "      <td>4.000000</td>\n",
       "      <td>19999.000000</td>\n",
       "      <td>9.000000</td>\n",
       "      <td>4.000000</td>\n",
       "      <td>4.000000</td>\n",
       "      <td>3.000000</td>\n",
       "      <td>40.000000</td>\n",
       "      <td>6.000000</td>\n",
       "      <td>4.000000</td>\n",
       "      <td>40.000000</td>\n",
       "      <td>17.000000</td>\n",
       "      <td>1.000000</td>\n",
       "    </tr>\n",
       "  </tbody>\n",
       "</table>\n",
       "</div>"
      ],
      "text/plain": [
       "               Age    DailyRate  DistanceFromHome    Education   HourlyRate  \\\n",
       "count  1470.000000  1470.000000       1470.000000  1470.000000  1470.000000   \n",
       "mean     36.923810   802.485714          9.192517     2.912925    65.891156   \n",
       "std       9.135373   403.509100          8.106864     1.024165    20.329428   \n",
       "min      18.000000   102.000000          1.000000     1.000000    30.000000   \n",
       "25%      30.000000   465.000000          2.000000     2.000000    48.000000   \n",
       "50%      36.000000   802.000000          7.000000     3.000000    66.000000   \n",
       "75%      43.000000  1157.000000         14.000000     4.000000    83.750000   \n",
       "max      60.000000  1499.000000         29.000000     5.000000   100.000000   \n",
       "\n",
       "       JobInvolvement  JobSatisfaction  MonthlyIncome  NumCompaniesWorked  \\\n",
       "count     1470.000000      1470.000000    1470.000000         1470.000000   \n",
       "mean         2.729932         2.728571    6502.931293            2.693197   \n",
       "std          0.711561         1.102846    4707.956783            2.498009   \n",
       "min          1.000000         1.000000    1009.000000            0.000000   \n",
       "25%          2.000000         2.000000    2911.000000            1.000000   \n",
       "50%          3.000000         3.000000    4919.000000            2.000000   \n",
       "75%          3.000000         4.000000    8379.000000            4.000000   \n",
       "max          4.000000         4.000000   19999.000000            9.000000   \n",
       "\n",
       "       PerformanceRating  RelationshipSatisfaction  StockOptionLevel  \\\n",
       "count        1470.000000               1470.000000       1470.000000   \n",
       "mean            3.153741                  2.712245          0.793878   \n",
       "std             0.360824                  1.081209          0.852077   \n",
       "min             3.000000                  1.000000          0.000000   \n",
       "25%             3.000000                  2.000000          0.000000   \n",
       "50%             3.000000                  3.000000          1.000000   \n",
       "75%             3.000000                  4.000000          1.000000   \n",
       "max             4.000000                  4.000000          3.000000   \n",
       "\n",
       "       TotalWorkingYears  TrainingTimesLastYear  WorkLifeBalance  \\\n",
       "count        1470.000000            1470.000000      1470.000000   \n",
       "mean           11.279592               2.799320         2.761224   \n",
       "std             7.780782               1.289271         0.706476   \n",
       "min             0.000000               0.000000         1.000000   \n",
       "25%             6.000000               2.000000         2.000000   \n",
       "50%            10.000000               3.000000         3.000000   \n",
       "75%            15.000000               3.000000         3.000000   \n",
       "max            40.000000               6.000000         4.000000   \n",
       "\n",
       "       YearsAtCompany  YearsWithCurrManager  Low_Satisfaction  \n",
       "count     1470.000000           1470.000000       1470.000000  \n",
       "mean         7.008163              4.123129          0.193197  \n",
       "std          6.126525              3.568136          0.394941  \n",
       "min          0.000000              0.000000          0.000000  \n",
       "25%          3.000000              2.000000          0.000000  \n",
       "50%          5.000000              3.000000          0.000000  \n",
       "75%          9.000000              7.000000          0.000000  \n",
       "max         40.000000             17.000000          1.000000  "
      ]
     },
     "execution_count": 5,
     "metadata": {},
     "output_type": "execute_result"
    }
   ],
   "source": [
    "# 기초통계량을 이용한 데이터의 개략적인 확인\n",
    "df1.describe()"
   ]
  },
  {
   "cell_type": "code",
   "execution_count": 6,
   "id": "ce17e06b",
   "metadata": {},
   "outputs": [
    {
     "data": {
      "text/plain": [
       "Age                         0\n",
       "Attrition                   0\n",
       "BusinessTravel              0\n",
       "DailyRate                   0\n",
       "DistanceFromHome            0\n",
       "Education                   0\n",
       "Gender                      0\n",
       "HourlyRate                  0\n",
       "JobInvolvement              0\n",
       "JobRole                     0\n",
       "JobSatisfaction             0\n",
       "MaritalStatus               0\n",
       "MonthlyIncome               0\n",
       "NumCompaniesWorked          0\n",
       "OverTime                    0\n",
       "PerformanceRating           0\n",
       "RelationshipSatisfaction    0\n",
       "StockOptionLevel            0\n",
       "TotalWorkingYears           0\n",
       "TrainingTimesLastYear       0\n",
       "WorkLifeBalance             0\n",
       "YearsAtCompany              0\n",
       "YearsWithCurrManager        0\n",
       "Low_Satisfaction            0\n",
       "dtype: int64"
      ]
     },
     "execution_count": 6,
     "metadata": {},
     "output_type": "execute_result"
    }
   ],
   "source": [
    "# 결측치 확인\n",
    "df1.isnull().sum(axis = 0)"
   ]
  },
  {
   "cell_type": "markdown",
   "id": "d3366cf2-36e7-43d3-92c0-6b1f53037fe9",
   "metadata": {},
   "source": [
    "## target변수/feature 변수 preprocessing"
   ]
  },
  {
   "cell_type": "code",
   "execution_count": 8,
   "id": "901c6169-e92d-4f4f-ab8a-b9123910b091",
   "metadata": {},
   "outputs": [],
   "source": [
    "from sklearn import preprocessing\n",
    "label_encoder = preprocessing.LabelEncoder()\n",
    "catColumns = df1.select_dtypes(['object']).columns\n",
    "\n",
    "for col in catColumns:\n",
    "    n = len(df1[col].unique())\n",
    "    if (n > 2):\n",
    "       X = pd.get_dummies(df1[col])\n",
    "       X = X.drop(X.columns[0], axis=1)\n",
    "       df1[X.columns] = X\n",
    "       df1.drop(col, axis=1, inplace=True)  # drop the original categorical variable (optional)\n",
    "    else:\n",
    "       label_encoder.fit(df1[col])\n",
    "       df1[col] = label_encoder.transform(df1[col])"
   ]
  },
  {
   "cell_type": "markdown",
   "id": "e95c6d80-c708-4a06-b93f-8eaeb3116f3a",
   "metadata": {},
   "source": [
    "## Train/Test Split"
   ]
  },
  {
   "cell_type": "code",
   "execution_count": 9,
   "id": "18ee27e7-c7b6-4ae7-abe8-c5866570a9f7",
   "metadata": {},
   "outputs": [],
   "source": [
    "features = df1.drop('Attrition', axis = 1)\n",
    "labels = df1['Attrition']"
   ]
  },
  {
   "cell_type": "code",
   "execution_count": 10,
   "id": "4963300c-01cd-45ce-b9cf-a6264bcdcfd2",
   "metadata": {},
   "outputs": [
    {
     "name": "stdout",
     "output_type": "stream",
     "text": [
      "(1029, 32)\n",
      "(441, 32)\n",
      "(1029,)\n",
      "(441,)\n"
     ]
    }
   ],
   "source": [
    "X_train, X_test, y_train, y_test = train_test_split(features, labels, test_size = 0.3, random_state = 1)\n",
    "print(X_train.shape)\n",
    "print(X_test.shape)\n",
    "print(y_train.shape)\n",
    "print(y_test.shape)"
   ]
  },
  {
   "cell_type": "markdown",
   "id": "951543a6-22e8-4a45-ad1c-66b60a530faf",
   "metadata": {},
   "source": [
    "## Model Creation/fit 0 00 000 00 0 0 0 0 00 0 0"
   ]
  },
  {
   "cell_type": "code",
   "execution_count": 107,
   "id": "7c2603ce-ac5c-4fea-9465-8d5860d69977",
   "metadata": {},
   "outputs": [],
   "source": [
    "# 임의의 parameter\n",
    "\n",
    "# point1: 파라미터를 바꾸어가면서 성능 변화 관찰\n",
    "\n",
    "\n",
    "model_dt = DecisionTreeClassifier(criterion = 'entropy', \n",
    "                                 max_depth = 4,\n",
    "                                 min_samples_leaf = 29)"
   ]
  },
  {
   "cell_type": "code",
   "execution_count": 108,
   "id": "d1488100-a85a-4e35-bd32-722026a6046c",
   "metadata": {},
   "outputs": [
    {
     "data": {
      "text/plain": [
       "DecisionTreeClassifier(criterion='entropy', max_depth=4, min_samples_leaf=29)"
      ]
     },
     "execution_count": 108,
     "metadata": {},
     "output_type": "execute_result"
    }
   ],
   "source": [
    "model_dt.fit(X_train, y_train)"
   ]
  },
  {
   "cell_type": "code",
   "execution_count": 109,
   "id": "a53f142e",
   "metadata": {},
   "outputs": [
    {
     "name": "stdout",
     "output_type": "stream",
     "text": [
      "학습용 데이터의 정확도 : 0.874\n",
      "평가용 데이터의 정확도 : 0.839\n"
     ]
    }
   ],
   "source": [
    "# 데이터 정확도\n",
    "print(\"학습용 데이터의 정확도 : {:.3f}\".format(model_dt.score(X_train, y_train)))\n",
    "print(\"평가용 데이터의 정확도 : {:.3f}\".format(model_dt.score(X_test, y_test)))"
   ]
  },
  {
   "cell_type": "markdown",
   "id": "fb0f1a53",
   "metadata": {},
   "source": [
    "## 모델 파라미터 조정 - manual search"
   ]
  },
  {
   "cell_type": "markdown",
   "id": "0b6f3def",
   "metadata": {},
   "source": [
    "ex. max_depth: 최대 깊이 변경에 따른 모델 성능"
   ]
  },
  {
   "cell_type": "code",
   "execution_count": 110,
   "id": "49073c2f",
   "metadata": {},
   "outputs": [],
   "source": [
    "# train 및 test 정확도 결과 저장용\n",
    "train_accuracy = []; test_accuracy = []\n",
    "# max_depth: 최대 깊이 변경\n",
    "para_depth = [depth for depth in range(1, 11)]\n",
    "for v_max_depth in para_depth:\n",
    "    tree = DecisionTreeClassifier(max_depth = v_max_depth, random_state=1234)\n",
    "    tree.fit(X_train, y_train)\n",
    "    train_accuracy.append(tree.score(X_train, y_train))\n",
    "    test_accuracy.append(tree.score(X_test,y_test))\n",
    "# 데이터 테이블로 저장\n",
    "df_accuracy_depth = pd.DataFrame()\n",
    "df_accuracy_depth[\"Depth\"] = para_depth\n",
    "df_accuracy_depth[\"TrainAccuracy\"] = train_accuracy\n",
    "df_accuracy_depth[\"TestAccuracy\"] = test_accuracy"
   ]
  },
  {
   "cell_type": "code",
   "execution_count": 111,
   "id": "7c07550e",
   "metadata": {},
   "outputs": [
    {
     "data": {
      "text/plain": [
       "<matplotlib.legend.Legend at 0x13202f5ddc0>"
      ]
     },
     "execution_count": 111,
     "metadata": {},
     "output_type": "execute_result"
    },
    {
     "data": {
      "image/png": "[encoded data removed]",
      "text/plain": [
       "<Figure size 432x288 with 1 Axes>"
      ]
     },
     "metadata": {
      "needs_background": "light"
     },
     "output_type": "display_data"
    }
   ],
   "source": [
    "# 모델 정확도 확인\n",
    "df_accuracy_depth.round(3)\n",
    "# 모델 정확도 그래프 확인\n",
    "plt.plot(para_depth, train_accuracy, linestyle = \"-\", label = \"Train Accuracy\")\n",
    "plt.plot(para_depth, test_accuracy, linestyle = \"--\", label = \"Test Accuracy\")\n",
    "plt.legend()"
   ]
  },
  {
   "cell_type": "markdown",
   "id": "1d4da9c6-752f-40a9-b12e-2a27b995cd9c",
   "metadata": {},
   "source": [
    "## GridSearchCV를 이용한 최적 파라미터 추정"
   ]
  },
  {
   "cell_type": "code",
   "execution_count": 112,
   "id": "02fe15e7",
   "metadata": {},
   "outputs": [
    {
     "name": "stdout",
     "output_type": "stream",
     "text": [
      "best estimator model: \n",
      "DecisionTreeClassifier(max_depth=1, min_samples_leaf=2)\n",
      "\n",
      "best parameter: \n",
      "{'max_depth': 1, 'min_samples_leaf': 2, 'min_samples_split': 2}\n",
      "\n",
      "best score: \n",
      "0.845\n"
     ]
    }
   ],
   "source": [
    "estimator = DecisionTreeClassifier()\n",
    "\n",
    "# 구하고자 하는 parameter와 범위\n",
    "param_list = {\"max_depth\": para_depth, \"min_samples_split\": [2,3,4,5],\n",
    "\"min_samples_leaf\": [2,3,4,5]}\n",
    "\n",
    "    # 위의 manual search 에서 para_depth의 범위 지정해주었기 때문에 그대로 변수로 넣을 수 있음\n",
    "    # 나머지 parameter들은 임의로 범위를 지정하고 다양한 버전의 gridsearch 돌려볼 수 있음\n",
    "\n",
    "# 정확도가 높은 최적 parameter 찾기\n",
    "grid_dt = GridSearchCV(estimator, param_list, scoring=\"accuracy\", n_jobs = -1)\n",
    "grid_dt.fit(X_train, y_train)\n",
    "print(\"best estimator model: \\n{}\".format(grid_dt.best_estimator_))\n",
    "print(\"\\nbest parameter: \\n{}\".format(grid_dt.best_params_))\n",
    "print(\"\\nbest score: \\n{}\".format(grid_dt.best_score_.round(3)))"
   ]
  },
  {
   "cell_type": "markdown",
   "id": "7938b3ad-9c35-4d74-bf5d-884e2453cb37",
   "metadata": {
    "toc-hr-collapsed": true
   },
   "source": [
    "## Score (Accuracy)"
   ]
  },
  {
   "cell_type": "code",
   "execution_count": 79,
   "id": "846cb4d5-ca18-4923-8516-9d11912b20cd",
   "metadata": {},
   "outputs": [
    {
     "name": "stdout",
     "output_type": "stream",
     "text": [
      "학습용 데이터의 정확도 : 0.876\n",
      "평가용 데이터의 정확도 : 0.844\n"
     ]
    }
   ],
   "source": [
    "# 데이터 정확도\n",
    "print(\"학습용 데이터의 정확도 : {:.3f}\".format(model_dt.score(X_train, y_train)))\n",
    "print(\"평가용 데이터의 정확도 : {:.3f}\".format(model_dt.score(X_test, y_test)))"
   ]
  },
  {
   "cell_type": "markdown",
   "id": "8f53861e-1d1e-4bd3-8a69-94af6d813cdc",
   "metadata": {},
   "source": [
    "## Classification Report"
   ]
  },
  {
   "cell_type": "code",
   "execution_count": 80,
   "id": "0337c0db-d310-43d4-9a1f-02065d4918cf",
   "metadata": {},
   "outputs": [],
   "source": [
    "y_train_pred = model_dt.predict(X_train)\n",
    "y_test_pred = model_dt.predict(X_test)"
   ]
  },
  {
   "cell_type": "code",
   "execution_count": 81,
   "id": "aef7a6d7-373b-417c-a8ce-52357a34a0c8",
   "metadata": {},
   "outputs": [
    {
     "name": "stdout",
     "output_type": "stream",
     "text": [
      "              precision    recall  f1-score   support\n",
      "\n",
      "           0       0.89      0.97      0.93       869\n",
      "           1       0.68      0.38      0.49       160\n",
      "\n",
      "    accuracy                           0.88      1029\n",
      "   macro avg       0.79      0.67      0.71      1029\n",
      "weighted avg       0.86      0.88      0.86      1029\n",
      "\n"
     ]
    }
   ],
   "source": [
    "print(classification_report(y_train, y_train_pred))"
   ]
  },
  {
   "cell_type": "code",
   "execution_count": 82,
   "id": "afe2def3-e1b6-43bd-a2b3-0e2dcffc163c",
   "metadata": {},
   "outputs": [
    {
     "name": "stdout",
     "output_type": "stream",
     "text": [
      "              precision    recall  f1-score   support\n",
      "\n",
      "           0       0.86      0.97      0.91       364\n",
      "           1       0.63      0.25      0.36        77\n",
      "\n",
      "    accuracy                           0.84       441\n",
      "   macro avg       0.75      0.61      0.63       441\n",
      "weighted avg       0.82      0.84      0.81       441\n",
      "\n"
     ]
    }
   ],
   "source": [
    "print(classification_report(y_test, y_test_pred))"
   ]
  },
  {
   "cell_type": "markdown",
   "id": "e7651841-40e6-4746-9691-fa3745491a9b",
   "metadata": {
    "tags": []
   },
   "source": [
    "# LogisticRegression"
   ]
  },
  {
   "cell_type": "markdown",
   "id": "5f98148a-c310-4b38-8fe1-90f707b03b4e",
   "metadata": {},
   "source": [
    "## Baseline (beginner)"
   ]
  },
  {
   "cell_type": "code",
   "execution_count": 33,
   "id": "021d834c",
   "metadata": {},
   "outputs": [],
   "source": [
    "# 데이터 처리\n",
    "import pandas as pd\n",
    "# 데이터 시각화\n",
    "import matplotlib.pyplot as plt ; import matplotlib\n",
    "# 데이터 분할: Train, Test\n",
    "from sklearn.model_selection import train_test_split\n",
    "# 스케일링\n",
    "from sklearn.preprocessing import StandardScaler\n",
    "# 모델\n",
    "from sklearn.linear_model import LogisticRegression\n",
    "# 최적 모델, 파라미터 탐색\n",
    "from sklearn.model_selection import GridSearchCV\n",
    "from sklearn.model_selection import RandomizedSearchCV\n",
    "# 모델 성능 평가\n",
    "from sklearn.metrics import accuracy_score\n",
    "from sklearn.metrics import confusion_matrix\n",
    "from sklearn.metrics import classification_report"
   ]
  },
  {
   "cell_type": "markdown",
   "id": "1e704775",
   "metadata": {},
   "source": [
    "## 데이터 불러오기"
   ]
  },
  {
   "cell_type": "code",
   "execution_count": 34,
   "id": "c4f39e46",
   "metadata": {},
   "outputs": [
    {
     "name": "stdout",
     "output_type": "stream",
     "text": [
      "<class 'pandas.core.frame.DataFrame'>\n",
      "Int64Index: 1470 entries, 0 to 1469\n",
      "Data columns (total 24 columns):\n",
      " #   Column                    Non-Null Count  Dtype  \n",
      "---  ------                    --------------  -----  \n",
      " 0   Age                       1470 non-null   int64  \n",
      " 1   Attrition                 1470 non-null   object \n",
      " 2   BusinessTravel            1470 non-null   object \n",
      " 3   DailyRate                 1470 non-null   int64  \n",
      " 4   DistanceFromHome          1470 non-null   int64  \n",
      " 5   Education                 1470 non-null   int64  \n",
      " 6   Gender                    1470 non-null   object \n",
      " 7   HourlyRate                1470 non-null   int64  \n",
      " 8   JobInvolvement            1470 non-null   int64  \n",
      " 9   JobRole                   1470 non-null   object \n",
      " 10  JobSatisfaction           1470 non-null   int64  \n",
      " 11  MaritalStatus             1470 non-null   object \n",
      " 12  MonthlyIncome             1470 non-null   int64  \n",
      " 13  NumCompaniesWorked        1470 non-null   int64  \n",
      " 14  OverTime                  1470 non-null   object \n",
      " 15  PerformanceRating         1470 non-null   int64  \n",
      " 16  RelationshipSatisfaction  1470 non-null   int64  \n",
      " 17  StockOptionLevel          1470 non-null   int64  \n",
      " 18  TotalWorkingYears         1470 non-null   int64  \n",
      " 19  TrainingTimesLastYear     1470 non-null   int64  \n",
      " 20  WorkLifeBalance           1470 non-null   int64  \n",
      " 21  YearsAtCompany            1470 non-null   int64  \n",
      " 22  YearsWithCurrManager      1470 non-null   int64  \n",
      " 23  Low_Satisfaction          1470 non-null   float64\n",
      "dtypes: float64(1), int64(17), object(6)\n",
      "memory usage: 287.1+ KB\n"
     ]
    }
   ],
   "source": [
    "# dataset\n",
    "df1 = pd.read_csv('hr_preprocessed_1470_24.csv', index_col = 0)\n",
    "df1.info()"
   ]
  },
  {
   "cell_type": "code",
   "execution_count": 53,
   "id": "80df821b-2c48-4e76-9fa1-f6a92353e5d5",
   "metadata": {},
   "outputs": [
    {
     "data": {
      "text/plain": [
       "Age                         0\n",
       "Attrition                   0\n",
       "BusinessTravel              0\n",
       "DailyRate                   0\n",
       "DistanceFromHome            0\n",
       "Education                   0\n",
       "Gender                      0\n",
       "HourlyRate                  0\n",
       "JobInvolvement              0\n",
       "JobRole                     0\n",
       "JobSatisfaction             0\n",
       "MaritalStatus               0\n",
       "MonthlyIncome               0\n",
       "NumCompaniesWorked          0\n",
       "OverTime                    0\n",
       "PerformanceRating           0\n",
       "RelationshipSatisfaction    0\n",
       "StockOptionLevel            0\n",
       "TotalWorkingYears           0\n",
       "TrainingTimesLastYear       0\n",
       "WorkLifeBalance             0\n",
       "YearsAtCompany              0\n",
       "YearsWithCurrManager        0\n",
       "Low_Satisfaction            0\n",
       "dtype: int64"
      ]
     },
     "execution_count": 53,
     "metadata": {},
     "output_type": "execute_result"
    }
   ],
   "source": [
    "# 결측치 확인\n",
    "df1.isnull().sum(axis = 0)"
   ]
  },
  {
   "cell_type": "code",
   "execution_count": 35,
   "id": "32752535",
   "metadata": {},
   "outputs": [
    {
     "data": {
      "text/html": [
       "<div>\n",
       "<style scoped>\n",
       "    .dataframe tbody tr th:only-of-type {\n",
       "        vertical-align: middle;\n",
       "    }\n",
       "\n",
       "    .dataframe tbody tr th {\n",
       "        vertical-align: top;\n",
       "    }\n",
       "\n",
       "    .dataframe thead th {\n",
       "        text-align: right;\n",
       "    }\n",
       "</style>\n",
       "<table border=\"1\" class=\"dataframe\">\n",
       "  <thead>\n",
       "    <tr style=\"text-align: right;\">\n",
       "      <th></th>\n",
       "      <th>Age</th>\n",
       "      <th>DailyRate</th>\n",
       "      <th>DistanceFromHome</th>\n",
       "      <th>Education</th>\n",
       "      <th>HourlyRate</th>\n",
       "      <th>JobInvolvement</th>\n",
       "      <th>JobSatisfaction</th>\n",
       "      <th>MonthlyIncome</th>\n",
       "      <th>NumCompaniesWorked</th>\n",
       "      <th>PerformanceRating</th>\n",
       "      <th>RelationshipSatisfaction</th>\n",
       "      <th>StockOptionLevel</th>\n",
       "      <th>TotalWorkingYears</th>\n",
       "      <th>TrainingTimesLastYear</th>\n",
       "      <th>WorkLifeBalance</th>\n",
       "      <th>YearsAtCompany</th>\n",
       "      <th>YearsWithCurrManager</th>\n",
       "      <th>Low_Satisfaction</th>\n",
       "    </tr>\n",
       "  </thead>\n",
       "  <tbody>\n",
       "    <tr>\n",
       "      <th>count</th>\n",
       "      <td>1470.000000</td>\n",
       "      <td>1470.000000</td>\n",
       "      <td>1470.000000</td>\n",
       "      <td>1470.000000</td>\n",
       "      <td>1470.000000</td>\n",
       "      <td>1470.000000</td>\n",
       "      <td>1470.000000</td>\n",
       "      <td>1470.000000</td>\n",
       "      <td>1470.000000</td>\n",
       "      <td>1470.000000</td>\n",
       "      <td>1470.000000</td>\n",
       "      <td>1470.000000</td>\n",
       "      <td>1470.000000</td>\n",
       "      <td>1470.000000</td>\n",
       "      <td>1470.000000</td>\n",
       "      <td>1470.000000</td>\n",
       "      <td>1470.000000</td>\n",
       "      <td>1470.000000</td>\n",
       "    </tr>\n",
       "    <tr>\n",
       "      <th>mean</th>\n",
       "      <td>36.923810</td>\n",
       "      <td>802.485714</td>\n",
       "      <td>9.192517</td>\n",
       "      <td>2.912925</td>\n",
       "      <td>65.891156</td>\n",
       "      <td>2.729932</td>\n",
       "      <td>2.728571</td>\n",
       "      <td>6502.931293</td>\n",
       "      <td>2.693197</td>\n",
       "      <td>3.153741</td>\n",
       "      <td>2.712245</td>\n",
       "      <td>0.793878</td>\n",
       "      <td>11.279592</td>\n",
       "      <td>2.799320</td>\n",
       "      <td>2.761224</td>\n",
       "      <td>7.008163</td>\n",
       "      <td>4.123129</td>\n",
       "      <td>0.193197</td>\n",
       "    </tr>\n",
       "    <tr>\n",
       "      <th>std</th>\n",
       "      <td>9.135373</td>\n",
       "      <td>403.509100</td>\n",
       "      <td>8.106864</td>\n",
       "      <td>1.024165</td>\n",
       "      <td>20.329428</td>\n",
       "      <td>0.711561</td>\n",
       "      <td>1.102846</td>\n",
       "      <td>4707.956783</td>\n",
       "      <td>2.498009</td>\n",
       "      <td>0.360824</td>\n",
       "      <td>1.081209</td>\n",
       "      <td>0.852077</td>\n",
       "      <td>7.780782</td>\n",
       "      <td>1.289271</td>\n",
       "      <td>0.706476</td>\n",
       "      <td>6.126525</td>\n",
       "      <td>3.568136</td>\n",
       "      <td>0.394941</td>\n",
       "    </tr>\n",
       "    <tr>\n",
       "      <th>min</th>\n",
       "      <td>18.000000</td>\n",
       "      <td>102.000000</td>\n",
       "      <td>1.000000</td>\n",
       "      <td>1.000000</td>\n",
       "      <td>30.000000</td>\n",
       "      <td>1.000000</td>\n",
       "      <td>1.000000</td>\n",
       "      <td>1009.000000</td>\n",
       "      <td>0.000000</td>\n",
       "      <td>3.000000</td>\n",
       "      <td>1.000000</td>\n",
       "      <td>0.000000</td>\n",
       "      <td>0.000000</td>\n",
       "      <td>0.000000</td>\n",
       "      <td>1.000000</td>\n",
       "      <td>0.000000</td>\n",
       "      <td>0.000000</td>\n",
       "      <td>0.000000</td>\n",
       "    </tr>\n",
       "    <tr>\n",
       "      <th>25%</th>\n",
       "      <td>30.000000</td>\n",
       "      <td>465.000000</td>\n",
       "      <td>2.000000</td>\n",
       "      <td>2.000000</td>\n",
       "      <td>48.000000</td>\n",
       "      <td>2.000000</td>\n",
       "      <td>2.000000</td>\n",
       "      <td>2911.000000</td>\n",
       "      <td>1.000000</td>\n",
       "      <td>3.000000</td>\n",
       "      <td>2.000000</td>\n",
       "      <td>0.000000</td>\n",
       "      <td>6.000000</td>\n",
       "      <td>2.000000</td>\n",
       "      <td>2.000000</td>\n",
       "      <td>3.000000</td>\n",
       "      <td>2.000000</td>\n",
       "      <td>0.000000</td>\n",
       "    </tr>\n",
       "    <tr>\n",
       "      <th>50%</th>\n",
       "      <td>36.000000</td>\n",
       "      <td>802.000000</td>\n",
       "      <td>7.000000</td>\n",
       "      <td>3.000000</td>\n",
       "      <td>66.000000</td>\n",
       "      <td>3.000000</td>\n",
       "      <td>3.000000</td>\n",
       "      <td>4919.000000</td>\n",
       "      <td>2.000000</td>\n",
       "      <td>3.000000</td>\n",
       "      <td>3.000000</td>\n",
       "      <td>1.000000</td>\n",
       "      <td>10.000000</td>\n",
       "      <td>3.000000</td>\n",
       "      <td>3.000000</td>\n",
       "      <td>5.000000</td>\n",
       "      <td>3.000000</td>\n",
       "      <td>0.000000</td>\n",
       "    </tr>\n",
       "    <tr>\n",
       "      <th>75%</th>\n",
       "      <td>43.000000</td>\n",
       "      <td>1157.000000</td>\n",
       "      <td>14.000000</td>\n",
       "      <td>4.000000</td>\n",
       "      <td>83.750000</td>\n",
       "      <td>3.000000</td>\n",
       "      <td>4.000000</td>\n",
       "      <td>8379.000000</td>\n",
       "      <td>4.000000</td>\n",
       "      <td>3.000000</td>\n",
       "      <td>4.000000</td>\n",
       "      <td>1.000000</td>\n",
       "      <td>15.000000</td>\n",
       "      <td>3.000000</td>\n",
       "      <td>3.000000</td>\n",
       "      <td>9.000000</td>\n",
       "      <td>7.000000</td>\n",
       "      <td>0.000000</td>\n",
       "    </tr>\n",
       "    <tr>\n",
       "      <th>max</th>\n",
       "      <td>60.000000</td>\n",
       "      <td>1499.000000</td>\n",
       "      <td>29.000000</td>\n",
       "      <td>5.000000</td>\n",
       "      <td>100.000000</td>\n",
       "      <td>4.000000</td>\n",
       "      <td>4.000000</td>\n",
       "      <td>19999.000000</td>\n",
       "      <td>9.000000</td>\n",
       "      <td>4.000000</td>\n",
       "      <td>4.000000</td>\n",
       "      <td>3.000000</td>\n",
       "      <td>40.000000</td>\n",
       "      <td>6.000000</td>\n",
       "      <td>4.000000</td>\n",
       "      <td>40.000000</td>\n",
       "      <td>17.000000</td>\n",
       "      <td>1.000000</td>\n",
       "    </tr>\n",
       "  </tbody>\n",
       "</table>\n",
       "</div>"
      ],
      "text/plain": [
       "               Age    DailyRate  DistanceFromHome    Education   HourlyRate  \\\n",
       "count  1470.000000  1470.000000       1470.000000  1470.000000  1470.000000   \n",
       "mean     36.923810   802.485714          9.192517     2.912925    65.891156   \n",
       "std       9.135373   403.509100          8.106864     1.024165    20.329428   \n",
       "min      18.000000   102.000000          1.000000     1.000000    30.000000   \n",
       "25%      30.000000   465.000000          2.000000     2.000000    48.000000   \n",
       "50%      36.000000   802.000000          7.000000     3.000000    66.000000   \n",
       "75%      43.000000  1157.000000         14.000000     4.000000    83.750000   \n",
       "max      60.000000  1499.000000         29.000000     5.000000   100.000000   \n",
       "\n",
       "       JobInvolvement  JobSatisfaction  MonthlyIncome  NumCompaniesWorked  \\\n",
       "count     1470.000000      1470.000000    1470.000000         1470.000000   \n",
       "mean         2.729932         2.728571    6502.931293            2.693197   \n",
       "std          0.711561         1.102846    4707.956783            2.498009   \n",
       "min          1.000000         1.000000    1009.000000            0.000000   \n",
       "25%          2.000000         2.000000    2911.000000            1.000000   \n",
       "50%          3.000000         3.000000    4919.000000            2.000000   \n",
       "75%          3.000000         4.000000    8379.000000            4.000000   \n",
       "max          4.000000         4.000000   19999.000000            9.000000   \n",
       "\n",
       "       PerformanceRating  RelationshipSatisfaction  StockOptionLevel  \\\n",
       "count        1470.000000               1470.000000       1470.000000   \n",
       "mean            3.153741                  2.712245          0.793878   \n",
       "std             0.360824                  1.081209          0.852077   \n",
       "min             3.000000                  1.000000          0.000000   \n",
       "25%             3.000000                  2.000000          0.000000   \n",
       "50%             3.000000                  3.000000          1.000000   \n",
       "75%             3.000000                  4.000000          1.000000   \n",
       "max             4.000000                  4.000000          3.000000   \n",
       "\n",
       "       TotalWorkingYears  TrainingTimesLastYear  WorkLifeBalance  \\\n",
       "count        1470.000000            1470.000000      1470.000000   \n",
       "mean           11.279592               2.799320         2.761224   \n",
       "std             7.780782               1.289271         0.706476   \n",
       "min             0.000000               0.000000         1.000000   \n",
       "25%             6.000000               2.000000         2.000000   \n",
       "50%            10.000000               3.000000         3.000000   \n",
       "75%            15.000000               3.000000         3.000000   \n",
       "max            40.000000               6.000000         4.000000   \n",
       "\n",
       "       YearsAtCompany  YearsWithCurrManager  Low_Satisfaction  \n",
       "count     1470.000000           1470.000000       1470.000000  \n",
       "mean         7.008163              4.123129          0.193197  \n",
       "std          6.126525              3.568136          0.394941  \n",
       "min          0.000000              0.000000          0.000000  \n",
       "25%          3.000000              2.000000          0.000000  \n",
       "50%          5.000000              3.000000          0.000000  \n",
       "75%          9.000000              7.000000          0.000000  \n",
       "max         40.000000             17.000000          1.000000  "
      ]
     },
     "execution_count": 35,
     "metadata": {},
     "output_type": "execute_result"
    }
   ],
   "source": [
    "# 기초통계량을 이용한 데이터의 개략적인 확인\n",
    "df1.describe()"
   ]
  },
  {
   "cell_type": "code",
   "execution_count": 36,
   "id": "bc4b240e",
   "metadata": {},
   "outputs": [
    {
     "data": {
      "text/plain": [
       "No     1233\n",
       "Yes     237\n",
       "Name: Attrition, dtype: int64"
      ]
     },
     "execution_count": 36,
     "metadata": {},
     "output_type": "execute_result"
    }
   ],
   "source": [
    "# Target 컬럼 확인\n",
    "df1.Attrition.value_counts()"
   ]
  },
  {
   "cell_type": "markdown",
   "id": "b007ae33-ab32-4524-8720-f4f614ab313f",
   "metadata": {},
   "source": [
    "## Target 변수/ Feature 변수 preprocessing"
   ]
  },
  {
   "cell_type": "code",
   "execution_count": 37,
   "id": "caeb60b4-cd62-4a03-9281-974184264968",
   "metadata": {},
   "outputs": [],
   "source": [
    "from sklearn import preprocessing\n",
    "label_encoder = preprocessing.LabelEncoder()\n",
    "catColumns = df1.select_dtypes(['object']).columns\n",
    "\n",
    "# 범주형 변수를 더미변수로 만들기\n",
    "for col in catColumns:\n",
    "    n = len(df1[col].unique())\n",
    "    if (n > 2):\n",
    "       X = pd.get_dummies(df1[col])\n",
    "       X = X.drop(X.columns[0], axis=1)\n",
    "       df1[X.columns] = X\n",
    "       df1.drop(col, axis=1, inplace=True)  # drop the original categorical variable (optional)\n",
    "    else:\n",
    "       label_encoder.fit(df1[col])\n",
    "       df1[col] = label_encoder.transform(df1[col])"
   ]
  },
  {
   "cell_type": "code",
   "execution_count": 38,
   "id": "e2612bdb-a1b2-4d05-b82a-19d77c2e8940",
   "metadata": {},
   "outputs": [
    {
     "data": {
      "text/plain": [
       "0    1\n",
       "1    0\n",
       "2    1\n",
       "3    0\n",
       "4    0\n",
       "Name: Attrition, dtype: int32"
      ]
     },
     "execution_count": 38,
     "metadata": {},
     "output_type": "execute_result"
    }
   ],
   "source": [
    "# Target column이 숫자 형태로 변화된 것을 확인\n",
    "df1.Attrition.head()"
   ]
  },
  {
   "cell_type": "code",
   "execution_count": 39,
   "id": "c624c7b7-93e3-4745-883a-2c524730355c",
   "metadata": {},
   "outputs": [
    {
     "data": {
      "text/html": [
       "<div>\n",
       "<style scoped>\n",
       "    .dataframe tbody tr th:only-of-type {\n",
       "        vertical-align: middle;\n",
       "    }\n",
       "\n",
       "    .dataframe tbody tr th {\n",
       "        vertical-align: top;\n",
       "    }\n",
       "\n",
       "    .dataframe thead th {\n",
       "        text-align: right;\n",
       "    }\n",
       "</style>\n",
       "<table border=\"1\" class=\"dataframe\">\n",
       "  <thead>\n",
       "    <tr style=\"text-align: right;\">\n",
       "      <th></th>\n",
       "      <th>Age</th>\n",
       "      <th>Attrition</th>\n",
       "      <th>DailyRate</th>\n",
       "      <th>DistanceFromHome</th>\n",
       "      <th>Education</th>\n",
       "      <th>Gender</th>\n",
       "      <th>HourlyRate</th>\n",
       "      <th>JobInvolvement</th>\n",
       "      <th>JobSatisfaction</th>\n",
       "      <th>MonthlyIncome</th>\n",
       "      <th>...</th>\n",
       "      <th>Human Resources</th>\n",
       "      <th>Laboratory Technician</th>\n",
       "      <th>Manager</th>\n",
       "      <th>Manufacturing Director</th>\n",
       "      <th>Research Director</th>\n",
       "      <th>Research Scientist</th>\n",
       "      <th>Sales Executive</th>\n",
       "      <th>Sales Representative</th>\n",
       "      <th>Married</th>\n",
       "      <th>Single</th>\n",
       "    </tr>\n",
       "  </thead>\n",
       "  <tbody>\n",
       "    <tr>\n",
       "      <th>0</th>\n",
       "      <td>41</td>\n",
       "      <td>1</td>\n",
       "      <td>1102</td>\n",
       "      <td>1</td>\n",
       "      <td>2</td>\n",
       "      <td>0</td>\n",
       "      <td>94</td>\n",
       "      <td>3</td>\n",
       "      <td>4</td>\n",
       "      <td>5993</td>\n",
       "      <td>...</td>\n",
       "      <td>0</td>\n",
       "      <td>0</td>\n",
       "      <td>0</td>\n",
       "      <td>0</td>\n",
       "      <td>0</td>\n",
       "      <td>0</td>\n",
       "      <td>1</td>\n",
       "      <td>0</td>\n",
       "      <td>0</td>\n",
       "      <td>1</td>\n",
       "    </tr>\n",
       "    <tr>\n",
       "      <th>1</th>\n",
       "      <td>49</td>\n",
       "      <td>0</td>\n",
       "      <td>279</td>\n",
       "      <td>8</td>\n",
       "      <td>1</td>\n",
       "      <td>1</td>\n",
       "      <td>61</td>\n",
       "      <td>2</td>\n",
       "      <td>2</td>\n",
       "      <td>5130</td>\n",
       "      <td>...</td>\n",
       "      <td>0</td>\n",
       "      <td>0</td>\n",
       "      <td>0</td>\n",
       "      <td>0</td>\n",
       "      <td>0</td>\n",
       "      <td>1</td>\n",
       "      <td>0</td>\n",
       "      <td>0</td>\n",
       "      <td>1</td>\n",
       "      <td>0</td>\n",
       "    </tr>\n",
       "    <tr>\n",
       "      <th>2</th>\n",
       "      <td>37</td>\n",
       "      <td>1</td>\n",
       "      <td>1373</td>\n",
       "      <td>2</td>\n",
       "      <td>2</td>\n",
       "      <td>1</td>\n",
       "      <td>92</td>\n",
       "      <td>2</td>\n",
       "      <td>3</td>\n",
       "      <td>2090</td>\n",
       "      <td>...</td>\n",
       "      <td>0</td>\n",
       "      <td>1</td>\n",
       "      <td>0</td>\n",
       "      <td>0</td>\n",
       "      <td>0</td>\n",
       "      <td>0</td>\n",
       "      <td>0</td>\n",
       "      <td>0</td>\n",
       "      <td>0</td>\n",
       "      <td>1</td>\n",
       "    </tr>\n",
       "    <tr>\n",
       "      <th>3</th>\n",
       "      <td>33</td>\n",
       "      <td>0</td>\n",
       "      <td>1392</td>\n",
       "      <td>3</td>\n",
       "      <td>4</td>\n",
       "      <td>0</td>\n",
       "      <td>56</td>\n",
       "      <td>3</td>\n",
       "      <td>3</td>\n",
       "      <td>2909</td>\n",
       "      <td>...</td>\n",
       "      <td>0</td>\n",
       "      <td>0</td>\n",
       "      <td>0</td>\n",
       "      <td>0</td>\n",
       "      <td>0</td>\n",
       "      <td>1</td>\n",
       "      <td>0</td>\n",
       "      <td>0</td>\n",
       "      <td>1</td>\n",
       "      <td>0</td>\n",
       "    </tr>\n",
       "    <tr>\n",
       "      <th>4</th>\n",
       "      <td>27</td>\n",
       "      <td>0</td>\n",
       "      <td>591</td>\n",
       "      <td>2</td>\n",
       "      <td>1</td>\n",
       "      <td>1</td>\n",
       "      <td>40</td>\n",
       "      <td>3</td>\n",
       "      <td>2</td>\n",
       "      <td>3468</td>\n",
       "      <td>...</td>\n",
       "      <td>0</td>\n",
       "      <td>1</td>\n",
       "      <td>0</td>\n",
       "      <td>0</td>\n",
       "      <td>0</td>\n",
       "      <td>0</td>\n",
       "      <td>0</td>\n",
       "      <td>0</td>\n",
       "      <td>1</td>\n",
       "      <td>0</td>\n",
       "    </tr>\n",
       "  </tbody>\n",
       "</table>\n",
       "<p>5 rows × 33 columns</p>\n",
       "</div>"
      ],
      "text/plain": [
       "   Age  Attrition  DailyRate  DistanceFromHome  Education  Gender  HourlyRate  \\\n",
       "0   41          1       1102                 1          2       0          94   \n",
       "1   49          0        279                 8          1       1          61   \n",
       "2   37          1       1373                 2          2       1          92   \n",
       "3   33          0       1392                 3          4       0          56   \n",
       "4   27          0        591                 2          1       1          40   \n",
       "\n",
       "   JobInvolvement  JobSatisfaction  MonthlyIncome  ...  Human Resources  \\\n",
       "0               3                4           5993  ...                0   \n",
       "1               2                2           5130  ...                0   \n",
       "2               2                3           2090  ...                0   \n",
       "3               3                3           2909  ...                0   \n",
       "4               3                2           3468  ...                0   \n",
       "\n",
       "   Laboratory Technician  Manager  Manufacturing Director  Research Director  \\\n",
       "0                      0        0                       0                  0   \n",
       "1                      0        0                       0                  0   \n",
       "2                      1        0                       0                  0   \n",
       "3                      0        0                       0                  0   \n",
       "4                      1        0                       0                  0   \n",
       "\n",
       "   Research Scientist  Sales Executive  Sales Representative  Married  Single  \n",
       "0                   0                1                     0        0       1  \n",
       "1                   1                0                     0        1       0  \n",
       "2                   0                0                     0        0       1  \n",
       "3                   1                0                     0        1       0  \n",
       "4                   0                0                     0        1       0  \n",
       "\n",
       "[5 rows x 33 columns]"
      ]
     },
     "execution_count": 39,
     "metadata": {},
     "output_type": "execute_result"
    }
   ],
   "source": [
    "# 범주형 컬럼이 더미변수로 변환된 것을 확인\n",
    "df1.head()"
   ]
  },
  {
   "cell_type": "markdown",
   "id": "fa7d1012-ea5d-4016-a803-4f1ebbfc0dcd",
   "metadata": {},
   "source": [
    "## Train/Test Split"
   ]
  },
  {
   "cell_type": "code",
   "execution_count": 40,
   "id": "89fd273c-586e-423c-b0d2-5a919f4da707",
   "metadata": {},
   "outputs": [
    {
     "name": "stdout",
     "output_type": "stream",
     "text": [
      "(1470, 32)\n",
      "(1470,)\n"
     ]
    }
   ],
   "source": [
    "# feature, label 분리\n",
    "features = df1.drop(['Attrition'], axis = 1)\n",
    "labels = df1['Attrition']\n",
    "print(features.shape)\n",
    "print(labels.shape)"
   ]
  },
  {
   "cell_type": "code",
   "execution_count": 41,
   "id": "a4ac0693-be25-4657-8ab4-33c4394554e3",
   "metadata": {},
   "outputs": [
    {
     "name": "stdout",
     "output_type": "stream",
     "text": [
      "(1029, 32)\n",
      "(1029,)\n"
     ]
    }
   ],
   "source": [
    "# train, test 분리\n",
    "X_train, X_test, y_train, y_test= train_test_split(features, labels, test_size = 0.3, random_state=1)\n",
    "print(X_train.shape)\n",
    "print(y_train.shape)"
   ]
  },
  {
   "cell_type": "markdown",
   "id": "d524d876-a165-4515-a212-dc6d59e8196d",
   "metadata": {},
   "source": [
    "## Scaling"
   ]
  },
  {
   "cell_type": "code",
   "execution_count": 42,
   "id": "491f51af-8aff-4755-a96d-46c604ca124a",
   "metadata": {},
   "outputs": [],
   "source": [
    "scaler = StandardScaler()\n",
    "X_train_scaled = scaler.fit_transform(X_train) \n",
    "    # fit은 각 속성feature마다 컬럼 만드는 작업\n",
    "X_test_scaled = scaler.transform(X_test)"
   ]
  },
  {
   "cell_type": "markdown",
   "id": "e8f8622e-6f9b-4fbf-9a5f-ac6437be2e2f",
   "metadata": {},
   "source": [
    "## Model Creation/fit"
   ]
  },
  {
   "cell_type": "code",
   "execution_count": 43,
   "id": "f6478ca8-0eae-45bc-bfc4-dc55ca15587a",
   "metadata": {},
   "outputs": [
    {
     "data": {
      "text/plain": [
       "LogisticRegression()"
      ]
     },
     "execution_count": 43,
     "metadata": {},
     "output_type": "execute_result"
    }
   ],
   "source": [
    "model_lr = LogisticRegression()\n",
    "model_lr.fit(X_train_scaled, y_train)\n",
    "\n",
    "    # parameter 조절하여 성능을 높여보기"
   ]
  },
  {
   "cell_type": "markdown",
   "id": "82811370-e63b-4654-bab2-d9343832c98d",
   "metadata": {},
   "source": [
    "## Score (accuracy)"
   ]
  },
  {
   "cell_type": "code",
   "execution_count": 44,
   "id": "6c75bb1c-58d2-4367-becf-ef400fb4551b",
   "metadata": {},
   "outputs": [
    {
     "name": "stdout",
     "output_type": "stream",
     "text": [
      "학습용 데이터의 정확도 : 0.897\n",
      "평가용 데이터의 정확도 : 0.855\n"
     ]
    }
   ],
   "source": [
    "# 데이터 정확도\n",
    "print(\"학습용 데이터의 정확도 : {:.3f}\".format(model_lr.score(X_train_scaled, y_train)))\n",
    "print(\"평가용 데이터의 정확도 : {:.3f}\".format(model_lr.score(X_test_scaled, y_test)))"
   ]
  },
  {
   "cell_type": "markdown",
   "id": "16924280-641b-4658-bdb3-722de7c1d869",
   "metadata": {},
   "source": [
    "## Confusion Matrix"
   ]
  },
  {
   "cell_type": "code",
   "execution_count": 45,
   "id": "1715b7b7-0a33-44cd-8a8e-cf8cda345ea2",
   "metadata": {},
   "outputs": [],
   "source": [
    "from sklearn.metrics import confusion_matrix"
   ]
  },
  {
   "cell_type": "code",
   "execution_count": 46,
   "id": "8d207a79-53f9-4205-8ffc-f8a12949ba72",
   "metadata": {},
   "outputs": [],
   "source": [
    "y_test_pred = model_lr.predict(X_test_scaled)\n",
    "y_train_pred = model_lr.predict(X_train_scaled)"
   ]
  },
  {
   "cell_type": "code",
   "execution_count": 47,
   "id": "122840f8-290e-4f09-b7a2-22f62f823c4a",
   "metadata": {},
   "outputs": [
    {
     "name": "stdout",
     "output_type": "stream",
     "text": [
      "[[851  18]\n",
      " [ 88  72]]\n",
      "-----------\n",
      "              precision    recall  f1-score   support\n",
      "\n",
      "           0       0.91      0.98      0.94       869\n",
      "           1       0.80      0.45      0.58       160\n",
      "\n",
      "    accuracy                           0.90      1029\n",
      "   macro avg       0.85      0.71      0.76      1029\n",
      "weighted avg       0.89      0.90      0.88      1029\n",
      "\n"
     ]
    }
   ],
   "source": [
    "print(confusion_matrix(y_train, y_train_pred))\n",
    "print('-----------')\n",
    "print(classification_report(y_train, y_train_pred))"
   ]
  },
  {
   "cell_type": "code",
   "execution_count": 48,
   "id": "3c003c35-2854-4fb3-a531-7558101d8f42",
   "metadata": {},
   "outputs": [
    {
     "name": "stdout",
     "output_type": "stream",
     "text": [
      "[[345  19]\n",
      " [ 45  32]]\n",
      "-----------\n",
      "              precision    recall  f1-score   support\n",
      "\n",
      "           0       0.88      0.95      0.92       364\n",
      "           1       0.63      0.42      0.50        77\n",
      "\n",
      "    accuracy                           0.85       441\n",
      "   macro avg       0.76      0.68      0.71       441\n",
      "weighted avg       0.84      0.85      0.84       441\n",
      "\n"
     ]
    }
   ],
   "source": [
    "print(confusion_matrix(y_test, y_test_pred))\n",
    "print('-----------')\n",
    "print(classification_report(y_test, y_test_pred))"
   ]
  }
 ],
 "metadata": {
  "kernelspec": {
   "display_name": "Python 3.9.13 ('base')",
   "language": "python",
   "name": "python3"
  },
  "language_info": {
   "codemirror_mode": {
    "name": "ipython",
    "version": 3
   },
   "file_extension": ".py",
   "mimetype": "text/x-python",
   "name": "python",
   "nbconvert_exporter": "python",
   "pygments_lexer": "ipython3",
   "version": "3.9.13"
  },
  "toc-autonumbering": false,
  "vscode": {
   "interpreter": {
    "hash": "701d4f28dcd0866722f5108a3a4cbcd08882d26398b6d44117e791d7b8102912"
   }
  }
 },
 "nbformat": 4,
 "nbformat_minor": 5
}
