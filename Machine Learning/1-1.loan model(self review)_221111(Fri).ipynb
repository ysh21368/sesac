{
 "cells": [
  {
   "cell_type": "code",
   "execution_count": 1,
   "id": "732ecd82-ee35-4d2b-89e5-9119baa5cc7b",
   "metadata": {},
   "outputs": [],
   "source": [
    "import pandas as pd\n",
    "import numpy as np\n",
    "import warnings\n",
    "warnings.filterwarnings('ignore')\n",
    "import pickle\n",
    "\n",
    "from sklearn.svm import SVC\n",
    "from sklearn.model_selection import train_test_split\n",
    "from sklearn.preprocessing import LabelEncoder"
   ]
  },
  {
   "cell_type": "code",
   "execution_count": 2,
   "id": "b97fc3fc-75b3-4cf2-ad1e-d3f13647c34b",
   "metadata": {},
   "outputs": [],
   "source": [
    "loan_data = pd.read_csv('loan.csv')"
   ]
  },
  {
   "cell_type": "code",
   "execution_count": 3,
   "id": "d4dfc235-b70b-478d-bcf9-14a14d6dd3db",
   "metadata": {},
   "outputs": [
    {
     "data": {
      "text/html": [
       "<div>\n",
       "<style scoped>\n",
       "    .dataframe tbody tr th:only-of-type {\n",
       "        vertical-align: middle;\n",
       "    }\n",
       "\n",
       "    .dataframe tbody tr th {\n",
       "        vertical-align: top;\n",
       "    }\n",
       "\n",
       "    .dataframe thead th {\n",
       "        text-align: right;\n",
       "    }\n",
       "</style>\n",
       "<table border=\"1\" class=\"dataframe\">\n",
       "  <thead>\n",
       "    <tr style=\"text-align: right;\">\n",
       "      <th></th>\n",
       "      <th>Loan_ID</th>\n",
       "      <th>Gender</th>\n",
       "      <th>Married</th>\n",
       "      <th>Dependents</th>\n",
       "      <th>Education</th>\n",
       "      <th>Self_Employed</th>\n",
       "      <th>ApplicantIncome</th>\n",
       "      <th>CoapplicantIncome</th>\n",
       "      <th>LoanAmount</th>\n",
       "      <th>Loan_Amount_Term</th>\n",
       "      <th>Credit_History</th>\n",
       "      <th>Property_Area</th>\n",
       "      <th>Loan_Status</th>\n",
       "    </tr>\n",
       "  </thead>\n",
       "  <tbody>\n",
       "    <tr>\n",
       "      <th>0</th>\n",
       "      <td>LP001002</td>\n",
       "      <td>Male</td>\n",
       "      <td>No</td>\n",
       "      <td>0</td>\n",
       "      <td>Graduate</td>\n",
       "      <td>No</td>\n",
       "      <td>5849</td>\n",
       "      <td>0.0</td>\n",
       "      <td>NaN</td>\n",
       "      <td>360.0</td>\n",
       "      <td>1.0</td>\n",
       "      <td>Urban</td>\n",
       "      <td>Y</td>\n",
       "    </tr>\n",
       "    <tr>\n",
       "      <th>1</th>\n",
       "      <td>LP001003</td>\n",
       "      <td>Male</td>\n",
       "      <td>Yes</td>\n",
       "      <td>1</td>\n",
       "      <td>Graduate</td>\n",
       "      <td>No</td>\n",
       "      <td>4583</td>\n",
       "      <td>1508.0</td>\n",
       "      <td>128.0</td>\n",
       "      <td>360.0</td>\n",
       "      <td>1.0</td>\n",
       "      <td>Rural</td>\n",
       "      <td>N</td>\n",
       "    </tr>\n",
       "    <tr>\n",
       "      <th>2</th>\n",
       "      <td>LP001005</td>\n",
       "      <td>Male</td>\n",
       "      <td>Yes</td>\n",
       "      <td>0</td>\n",
       "      <td>Graduate</td>\n",
       "      <td>Yes</td>\n",
       "      <td>3000</td>\n",
       "      <td>0.0</td>\n",
       "      <td>66.0</td>\n",
       "      <td>360.0</td>\n",
       "      <td>1.0</td>\n",
       "      <td>Urban</td>\n",
       "      <td>Y</td>\n",
       "    </tr>\n",
       "    <tr>\n",
       "      <th>3</th>\n",
       "      <td>LP001006</td>\n",
       "      <td>Male</td>\n",
       "      <td>Yes</td>\n",
       "      <td>0</td>\n",
       "      <td>Not Graduate</td>\n",
       "      <td>No</td>\n",
       "      <td>2583</td>\n",
       "      <td>2358.0</td>\n",
       "      <td>120.0</td>\n",
       "      <td>360.0</td>\n",
       "      <td>1.0</td>\n",
       "      <td>Urban</td>\n",
       "      <td>Y</td>\n",
       "    </tr>\n",
       "    <tr>\n",
       "      <th>4</th>\n",
       "      <td>LP001008</td>\n",
       "      <td>Male</td>\n",
       "      <td>No</td>\n",
       "      <td>0</td>\n",
       "      <td>Graduate</td>\n",
       "      <td>No</td>\n",
       "      <td>6000</td>\n",
       "      <td>0.0</td>\n",
       "      <td>141.0</td>\n",
       "      <td>360.0</td>\n",
       "      <td>1.0</td>\n",
       "      <td>Urban</td>\n",
       "      <td>Y</td>\n",
       "    </tr>\n",
       "    <tr>\n",
       "      <th>...</th>\n",
       "      <td>...</td>\n",
       "      <td>...</td>\n",
       "      <td>...</td>\n",
       "      <td>...</td>\n",
       "      <td>...</td>\n",
       "      <td>...</td>\n",
       "      <td>...</td>\n",
       "      <td>...</td>\n",
       "      <td>...</td>\n",
       "      <td>...</td>\n",
       "      <td>...</td>\n",
       "      <td>...</td>\n",
       "      <td>...</td>\n",
       "    </tr>\n",
       "    <tr>\n",
       "      <th>609</th>\n",
       "      <td>LP002978</td>\n",
       "      <td>Female</td>\n",
       "      <td>No</td>\n",
       "      <td>0</td>\n",
       "      <td>Graduate</td>\n",
       "      <td>No</td>\n",
       "      <td>2900</td>\n",
       "      <td>0.0</td>\n",
       "      <td>71.0</td>\n",
       "      <td>360.0</td>\n",
       "      <td>1.0</td>\n",
       "      <td>Rural</td>\n",
       "      <td>Y</td>\n",
       "    </tr>\n",
       "    <tr>\n",
       "      <th>610</th>\n",
       "      <td>LP002979</td>\n",
       "      <td>Male</td>\n",
       "      <td>Yes</td>\n",
       "      <td>3+</td>\n",
       "      <td>Graduate</td>\n",
       "      <td>No</td>\n",
       "      <td>4106</td>\n",
       "      <td>0.0</td>\n",
       "      <td>40.0</td>\n",
       "      <td>180.0</td>\n",
       "      <td>1.0</td>\n",
       "      <td>Rural</td>\n",
       "      <td>Y</td>\n",
       "    </tr>\n",
       "    <tr>\n",
       "      <th>611</th>\n",
       "      <td>LP002983</td>\n",
       "      <td>Male</td>\n",
       "      <td>Yes</td>\n",
       "      <td>1</td>\n",
       "      <td>Graduate</td>\n",
       "      <td>No</td>\n",
       "      <td>8072</td>\n",
       "      <td>240.0</td>\n",
       "      <td>253.0</td>\n",
       "      <td>360.0</td>\n",
       "      <td>1.0</td>\n",
       "      <td>Urban</td>\n",
       "      <td>Y</td>\n",
       "    </tr>\n",
       "    <tr>\n",
       "      <th>612</th>\n",
       "      <td>LP002984</td>\n",
       "      <td>Male</td>\n",
       "      <td>Yes</td>\n",
       "      <td>2</td>\n",
       "      <td>Graduate</td>\n",
       "      <td>No</td>\n",
       "      <td>7583</td>\n",
       "      <td>0.0</td>\n",
       "      <td>187.0</td>\n",
       "      <td>360.0</td>\n",
       "      <td>1.0</td>\n",
       "      <td>Urban</td>\n",
       "      <td>Y</td>\n",
       "    </tr>\n",
       "    <tr>\n",
       "      <th>613</th>\n",
       "      <td>LP002990</td>\n",
       "      <td>Female</td>\n",
       "      <td>No</td>\n",
       "      <td>0</td>\n",
       "      <td>Graduate</td>\n",
       "      <td>Yes</td>\n",
       "      <td>4583</td>\n",
       "      <td>0.0</td>\n",
       "      <td>133.0</td>\n",
       "      <td>360.0</td>\n",
       "      <td>0.0</td>\n",
       "      <td>Semiurban</td>\n",
       "      <td>N</td>\n",
       "    </tr>\n",
       "  </tbody>\n",
       "</table>\n",
       "<p>614 rows × 13 columns</p>\n",
       "</div>"
      ],
      "text/plain": [
       "      Loan_ID  Gender Married Dependents     Education Self_Employed  \\\n",
       "0    LP001002    Male      No          0      Graduate            No   \n",
       "1    LP001003    Male     Yes          1      Graduate            No   \n",
       "2    LP001005    Male     Yes          0      Graduate           Yes   \n",
       "3    LP001006    Male     Yes          0  Not Graduate            No   \n",
       "4    LP001008    Male      No          0      Graduate            No   \n",
       "..        ...     ...     ...        ...           ...           ...   \n",
       "609  LP002978  Female      No          0      Graduate            No   \n",
       "610  LP002979    Male     Yes         3+      Graduate            No   \n",
       "611  LP002983    Male     Yes          1      Graduate            No   \n",
       "612  LP002984    Male     Yes          2      Graduate            No   \n",
       "613  LP002990  Female      No          0      Graduate           Yes   \n",
       "\n",
       "     ApplicantIncome  CoapplicantIncome  LoanAmount  Loan_Amount_Term  \\\n",
       "0               5849                0.0         NaN             360.0   \n",
       "1               4583             1508.0       128.0             360.0   \n",
       "2               3000                0.0        66.0             360.0   \n",
       "3               2583             2358.0       120.0             360.0   \n",
       "4               6000                0.0       141.0             360.0   \n",
       "..               ...                ...         ...               ...   \n",
       "609             2900                0.0        71.0             360.0   \n",
       "610             4106                0.0        40.0             180.0   \n",
       "611             8072              240.0       253.0             360.0   \n",
       "612             7583                0.0       187.0             360.0   \n",
       "613             4583                0.0       133.0             360.0   \n",
       "\n",
       "     Credit_History Property_Area Loan_Status  \n",
       "0               1.0         Urban           Y  \n",
       "1               1.0         Rural           N  \n",
       "2               1.0         Urban           Y  \n",
       "3               1.0         Urban           Y  \n",
       "4               1.0         Urban           Y  \n",
       "..              ...           ...         ...  \n",
       "609             1.0         Rural           Y  \n",
       "610             1.0         Rural           Y  \n",
       "611             1.0         Urban           Y  \n",
       "612             1.0         Urban           Y  \n",
       "613             0.0     Semiurban           N  \n",
       "\n",
       "[614 rows x 13 columns]"
      ]
     },
     "execution_count": 3,
     "metadata": {},
     "output_type": "execute_result"
    }
   ],
   "source": [
    "loan_data"
   ]
  },
  {
   "cell_type": "code",
   "execution_count": 7,
   "id": "eb185e4c-83b1-45b3-8eba-2303807d0d4c",
   "metadata": {},
   "outputs": [
    {
     "data": {
      "text/plain": [
       "Loan_ID               object\n",
       "Gender                object\n",
       "Married               object\n",
       "Dependents            object\n",
       "Education             object\n",
       "Self_Employed         object\n",
       "ApplicantIncome        int64\n",
       "CoapplicantIncome    float64\n",
       "LoanAmount           float64\n",
       "Loan_Amount_Term     float64\n",
       "Credit_History       float64\n",
       "Property_Area         object\n",
       "Loan_Status           object\n",
       "dtype: object"
      ]
     },
     "execution_count": 7,
     "metadata": {},
     "output_type": "execute_result"
    }
   ],
   "source": [
    "loan_data.dtypes"
   ]
  },
  {
   "cell_type": "code",
   "execution_count": null,
   "id": "be827725-5269-4de3-8c88-38010fcccd6b",
   "metadata": {},
   "outputs": [],
   "source": [
    "#전처리"
   ]
  },
  {
   "cell_type": "code",
   "execution_count": null,
   "id": "d53941ce-b643-43c2-b437-f55430de57f7",
   "metadata": {},
   "outputs": [],
   "source": [
    "#object의 칼럼들만 리스트로 따로 모아라.\n",
    "obj_col = []\n",
    "for i, j in zip(loan_data.dtypes.index, loan_data.dtypes.values) :\n",
    "    if j == 'object' :\n",
    "        obj_col.append(i)"
   ]
  },
  {
   "cell_type": "code",
   "execution_count": null,
   "id": "cf5eb959-f2a9-453f-a1ab-eddd9d446b61",
   "metadata": {},
   "outputs": [],
   "source": [
    "obj_col"
   ]
  },
  {
   "cell_type": "code",
   "execution_count": null,
   "id": "d7c5be07-a6a4-4c67-8091-408b967a4961",
   "metadata": {},
   "outputs": [],
   "source": [
    "for col in obj_col[1:] :\n",
    "    print(loan_data[col].unique())"
   ]
  },
  {
   "cell_type": "code",
   "execution_count": null,
   "id": "8799182c-05a6-4d69-9cdf-ce32ac3cc37b",
   "metadata": {},
   "outputs": [],
   "source": [
    "null_col = ['Gender', 'Married', 'Dependents', 'Self_Employed']"
   ]
  },
  {
   "cell_type": "code",
   "execution_count": null,
   "id": "0649fb34-8f1e-4b24-ab2f-39fdd633ecbf",
   "metadata": {
    "tags": []
   },
   "outputs": [],
   "source": [
    "# 찍어보기 위함\n",
    "for col in null_col :\n",
    "    print(loan_data[col].value_counts(dropna=False))"
   ]
  },
  {
   "cell_type": "code",
   "execution_count": null,
   "id": "ffa74c54-068f-4d38-a1d5-8a6b5074203f",
   "metadata": {},
   "outputs": [],
   "source": [
    "for col in null_col :\n",
    "    loan_data[col].fillna(loan_data[col].mode()[0], inplace=True)"
   ]
  },
  {
   "cell_type": "code",
   "execution_count": null,
   "id": "d500ffd5-3680-4fba-933f-db4f5320b228",
   "metadata": {},
   "outputs": [],
   "source": [
    "loan_data['LoanAmount'].fillna(loan_data['LoanAmount'].mode()[0], inplace = True)"
   ]
  },
  {
   "cell_type": "code",
   "execution_count": null,
   "id": "02b9b2e9-8215-467c-8a54-9cdac40463d8",
   "metadata": {},
   "outputs": [],
   "source": [
    "loan_data['Loan_Amount_Term'].fillna(loan_data['Loan_Amount_Term'].mode()[0], inplace = True)"
   ]
  },
  {
   "cell_type": "code",
   "execution_count": null,
   "id": "6fb2cd70-7571-48ad-a1a6-e0cbb375c546",
   "metadata": {},
   "outputs": [],
   "source": [
    "loan_data['Credit_History'].fillna(loan_data['Credit_History'].mode()[0], inplace = True)"
   ]
  },
  {
   "cell_type": "code",
   "execution_count": null,
   "id": "2a34da38-a470-4b02-ba37-09783e5e15e3",
   "metadata": {
    "tags": []
   },
   "outputs": [],
   "source": [
    "from sklearn.preprocessing import LabelEncoder"
   ]
  },
  {
   "cell_type": "code",
   "execution_count": null,
   "id": "76dad404-192f-4778-900e-8285fcdaab4e",
   "metadata": {},
   "outputs": [],
   "source": [
    "label = LabelEncoder()"
   ]
  },
  {
   "cell_type": "code",
   "execution_count": null,
   "id": "79634efc-10e3-402d-a6ad-c43599be4423",
   "metadata": {},
   "outputs": [],
   "source": [
    "#\n",
    "for col in obj_col[1:] :\n",
    "    label = LabelEncoder()\n",
    "    loan_data[col] = label.fit_transform(loan_data[col])"
   ]
  },
  {
   "cell_type": "code",
   "execution_count": null,
   "id": "1b7d4d33-fd67-4d1b-a40c-83e209908565",
   "metadata": {},
   "outputs": [],
   "source": []
  },
  {
   "cell_type": "markdown",
   "id": "7bdf5e53-0ceb-4922-90bb-1b6b4778ff28",
   "metadata": {},
   "source": [
    "---"
   ]
  },
  {
   "cell_type": "code",
   "execution_count": null,
   "id": "dbf11125-79ba-4306-afb3-5a5118de6443",
   "metadata": {},
   "outputs": [],
   "source": []
  },
  {
   "cell_type": "code",
   "execution_count": null,
   "id": "99d9b35f-9746-43e5-b6ef-db6809c6fcf8",
   "metadata": {},
   "outputs": [],
   "source": [
    "null_col = ['Gender', 'Married', 'Dependents', 'Self_Employed']\n",
    "for col in null_col :\n",
    "    loan_data[col].fillna(loan_data[col].mode()[0], inplace=True)\n",
    "    \n",
    "loan_data['LoanAmount'].fillna(loan_data['LoanAmount'].mode()[0], inplace = True)\n",
    "loan_data['Loan_Amount_Term'].fillna(loan_data['Loan_Amount_Term'].mode()[0], inplace = True)\n",
    "loan_data['Credit_History'].fillna(loan_data['Credit_History'].mode()[0], inplace = True)"
   ]
  },
  {
   "cell_type": "code",
   "execution_count": null,
   "id": "babc42fc-1040-4d53-8d22-80503eb35a14",
   "metadata": {},
   "outputs": [],
   "source": [
    "obj_col = ['Gender', 'Married', 'Dependents','Education','Self_Employed','Property_Area']"
   ]
  },
  {
   "cell_type": "markdown",
   "id": "1ebe20da-08bf-41bb-94f8-d29108ce2f60",
   "metadata": {},
   "source": [
    "---"
   ]
  },
  {
   "cell_type": "code",
   "execution_count": null,
   "id": "9a6efd9b-d7ba-4148-a2fa-6fd85d746f4e",
   "metadata": {},
   "outputs": [],
   "source": []
  },
  {
   "cell_type": "code",
   "execution_count": null,
   "id": "71dd2674-d4fc-4719-a8a7-6284175ddad5",
   "metadata": {},
   "outputs": [],
   "source": [
    "# 모델 학습"
   ]
  },
  {
   "cell_type": "code",
   "execution_count": null,
   "id": "abb48ca5-6cfc-4e44-921b-9fa9da44feb7",
   "metadata": {},
   "outputs": [],
   "source": [
    "X = loan_data.drop(['Loan_ID', 'Loan_Status'], axis = 1)\n",
    "Y = loan_data['Loan_Status']"
   ]
  },
  {
   "cell_type": "code",
   "execution_count": null,
   "id": "3171d1e1-88b4-4548-8d88-fde591ce9758",
   "metadata": {},
   "outputs": [],
   "source": [
    "x_train, x_test, y_train, y_test = train_test_split(X, Y, test_size=0.2, stratify=Y, random_state=0)"
   ]
  },
  {
   "cell_type": "code",
   "execution_count": null,
   "id": "d7d82f03-f409-4467-b1a0-c6e0ddd87fa6",
   "metadata": {},
   "outputs": [],
   "source": [
    "model = SVC()"
   ]
  },
  {
   "cell_type": "code",
   "execution_count": null,
   "id": "23cc6309-b913-48fb-a5c3-2d93a4cda69f",
   "metadata": {},
   "outputs": [],
   "source": [
    "model"
   ]
  },
  {
   "cell_type": "code",
   "execution_count": null,
   "id": "4cbcebe7-af9c-4c06-97ad-2a98b3979d53",
   "metadata": {
    "tags": []
   },
   "outputs": [],
   "source": [
    "model.fit(x_train, y_train)"
   ]
  },
  {
   "cell_type": "code",
   "execution_count": null,
   "id": "f56a63e7-4702-42b5-8f99-200c54d64848",
   "metadata": {
    "tags": []
   },
   "outputs": [],
   "source": [
    "model.score(x_train, y_train)"
   ]
  },
  {
   "cell_type": "code",
   "execution_count": null,
   "id": "f05aaa60-0c2a-48a3-b7e3-a4bd90ed6fd3",
   "metadata": {
    "tags": []
   },
   "outputs": [],
   "source": [
    "model.score(x_test, y_test)"
   ]
  },
  {
   "cell_type": "code",
   "execution_count": null,
   "id": "b887a67b-6462-4315-b6d2-fe65e30c2d6c",
   "metadata": {},
   "outputs": [],
   "source": []
  },
  {
   "cell_type": "code",
   "execution_count": null,
   "id": "73ff4aa5-aba9-4ba6-b52f-8f56044ac47a",
   "metadata": {},
   "outputs": [],
   "source": [
    "from sklearn.preprocessing import MinMaxScaler"
   ]
  },
  {
   "cell_type": "code",
   "execution_count": null,
   "id": "bbc00712-0657-403d-a33c-eba57234bdce",
   "metadata": {},
   "outputs": [],
   "source": [
    "scaler = MinMaxScaler()"
   ]
  },
  {
   "cell_type": "code",
   "execution_count": null,
   "id": "c2dda247-be10-4ebb-812b-8de896e5192e",
   "metadata": {},
   "outputs": [],
   "source": [
    "x_train = scaler.fit_transform(x_train)"
   ]
  },
  {
   "cell_type": "code",
   "execution_count": null,
   "id": "7c25bad3-114c-4ce6-9f1f-92c1b1a74b56",
   "metadata": {},
   "outputs": [],
   "source": [
    "with open('scaler.pkl', 'wb') as f :\n",
    "    pickle.dump(scaler, f)"
   ]
  },
  {
   "cell_type": "code",
   "execution_count": null,
   "id": "0cb0dcf4-1603-4711-87d7-0afa168da669",
   "metadata": {},
   "outputs": [],
   "source": [
    "x_test = scaler.transform(x_test)"
   ]
  },
  {
   "cell_type": "code",
   "execution_count": null,
   "id": "4f46b4fe-a2cb-4f37-a6bf-4c81c1283bfd",
   "metadata": {},
   "outputs": [],
   "source": [
    "model2 = SVC()"
   ]
  },
  {
   "cell_type": "code",
   "execution_count": null,
   "id": "867a3deb-7881-4f63-b337-cf99676c41aa",
   "metadata": {
    "tags": []
   },
   "outputs": [],
   "source": [
    "model2.fit(x_train, y_train)"
   ]
  },
  {
   "cell_type": "code",
   "execution_count": null,
   "id": "d1dc50bf-265f-4d9a-a2b7-53c51f481c7a",
   "metadata": {},
   "outputs": [],
   "source": [
    "model2.score(x_train, y_train)"
   ]
  },
  {
   "cell_type": "code",
   "execution_count": null,
   "id": "4d0a017a-6b1d-459a-b58b-5578ab554cb6",
   "metadata": {},
   "outputs": [],
   "source": [
    "model2.score(x_test, y_test)"
   ]
  },
  {
   "cell_type": "code",
   "execution_count": null,
   "id": "111d2f37-cf5b-4d6e-95a4-c16722d27773",
   "metadata": {},
   "outputs": [],
   "source": [
    "#모델 저장"
   ]
  },
  {
   "cell_type": "code",
   "execution_count": null,
   "id": "02afa91a-c33a-4f46-95a2-cbc159b758a4",
   "metadata": {},
   "outputs": [],
   "source": [
    "with open('model2.pkl', 'wb') as f :\n",
    "    pickle.dump(model2, f)"
   ]
  },
  {
   "cell_type": "markdown",
   "id": "8d383b1b-4e86-44c5-bbac-dcf691527f7d",
   "metadata": {},
   "source": [
    "----"
   ]
  },
  {
   "cell_type": "code",
   "execution_count": null,
   "id": "f699ac11-f296-4f9a-90fd-d5ef17739465",
   "metadata": {},
   "outputs": [],
   "source": [
    "Real system에 필요한 전처리 코드"
   ]
  },
  {
   "cell_type": "code",
   "execution_count": null,
   "id": "ba1585a4-93c2-4549-b8db-c03370920a4b",
   "metadata": {},
   "outputs": [],
   "source": [
    "import pandas as pd\n",
    "import numpy as np\n",
    "import warnings\n",
    "warnings.filterwarnings('ignore')\n",
    "import pickle\n",
    "\n",
    "from sklearn.svm import SVC\n",
    "from sklearn.model_selection import train_test_split"
   ]
  },
  {
   "cell_type": "code",
   "execution_count": null,
   "id": "5e80265f-47a6-4f8e-9e5a-e1cb59e7a9f1",
   "metadata": {},
   "outputs": [],
   "source": [
    "loan_data = pd.read_csv('loan.csv')"
   ]
  },
  {
   "cell_type": "code",
   "execution_count": null,
   "id": "8710cbca-da8b-4559-8d9a-2f0b72ae5073",
   "metadata": {},
   "outputs": [],
   "source": [
    "#1"
   ]
  },
  {
   "cell_type": "code",
   "execution_count": null,
   "id": "2ff1aa62-3263-4150-9660-05993cf51ee0",
   "metadata": {},
   "outputs": [],
   "source": [
    "null_dict = {}\n",
    "\n",
    "null_col = ['Gender', 'Married', 'Dependents', 'Self_Employed']\n",
    "for col in null_col :\n",
    "    null_dict[col] = loan_data[col].mode()[0]\n",
    "    \n",
    "null_dict['LoanAmount'] = loan_data['LoanAmount'].median()\n",
    "null_dict['Loan_Amount_Term'] = loan_data['Loan_Amount_Term'].mode()[0]\n",
    "null_dict['Credit_History'] = loan_data['Credit_History'].mode()[0]"
   ]
  },
  {
   "cell_type": "code",
   "execution_count": null,
   "id": "1769162a-acd5-47e9-97a0-eb38a04282a0",
   "metadata": {},
   "outputs": [],
   "source": [
    "#바로 위에 코드랑 같은 코드임\n",
    "null_dict = {}\n",
    "\n",
    "null_col = ['Gender', 'Married', 'Dependents', 'Self_Employed', 'Loan_Amount_Term', 'Credit_History']\n",
    "for col in null_col :\n",
    "    null_dict[col] = loan_data[col].mode()[0]\n",
    "    \n",
    "null_dict['LoanAmount'] = loan_data['LoanAmount'].median()"
   ]
  },
  {
   "cell_type": "code",
   "execution_count": null,
   "id": "f343884c-2cd3-4bca-8c1e-d8ee1ff01402",
   "metadata": {},
   "outputs": [],
   "source": [
    "null_dict"
   ]
  },
  {
   "cell_type": "code",
   "execution_count": null,
   "id": "6e35a44d-5d69-4e5f-903c-e51e7a9f0151",
   "metadata": {},
   "outputs": [],
   "source": [
    "with open('null_dict.pkl', 'wb') as f :\n",
    "    pickle.dump(null_dict, f)"
   ]
  },
  {
   "cell_type": "code",
   "execution_count": null,
   "id": "8d91a834-9923-472d-8fbb-27731f2c3ac5",
   "metadata": {},
   "outputs": [],
   "source": [
    "with open('null_dict.pkl', 'rb') as f :\n",
    "    null_dict = pickle.load(f)"
   ]
  },
  {
   "cell_type": "markdown",
   "id": "a56cde44-4ba2-4f45-bc61-493eb4483516",
   "metadata": {},
   "source": [
    "----"
   ]
  },
  {
   "cell_type": "code",
   "execution_count": null,
   "id": "2e87602a-ee47-4746-89cf-2c408c3fe452",
   "metadata": {},
   "outputs": [],
   "source": [
    "#2"
   ]
  },
  {
   "cell_type": "code",
   "execution_count": null,
   "id": "68eaf1b8-ef49-42fd-8e29-a8ca3bc31d99",
   "metadata": {},
   "outputs": [],
   "source": [
    "obj_col = ['Gender', 'Married', 'Dependents', 'Education', 'Self_Employed', 'Property_Area']"
   ]
  },
  {
   "cell_type": "code",
   "execution_count": null,
   "id": "77d85246-c493-400f-aa9a-d8df43cbdc5a",
   "metadata": {},
   "outputs": [],
   "source": [
    "#\n",
    "for col in obj_col :\n",
    "    label = LabelEncoder()\n",
    "    loan_data[col] = label.fit_transform(loan_data[col])\n",
    "    filename = 'label_' + col + '.pkl'\n",
    "    with open(filename, 'wb') as f :\n",
    "        pickle.dump(label, f)"
   ]
  },
  {
   "cell_type": "markdown",
   "id": "15caa76d-7a42-4632-bc62-fb8d75c3de2c",
   "metadata": {},
   "source": [
    "----"
   ]
  },
  {
   "cell_type": "code",
   "execution_count": null,
   "id": "f304efd5-e19a-4aa4-9969-01014bfdc88d",
   "metadata": {},
   "outputs": [],
   "source": [
    "#최종 모델 학습"
   ]
  },
  {
   "cell_type": "code",
   "execution_count": null,
   "id": "1ae2227d-f311-4fc9-a06f-b5fb8ca798a3",
   "metadata": {},
   "outputs": [],
   "source": [
    "import pandas as pd\n",
    "import numpy as np\n",
    "import warnings\n",
    "warnings.filterwarnings('ignore')\n",
    "import pickle\n",
    "\n",
    "from sklearn.svm import SVC #SVC 모델을 부르기 위해 필요한 함수\n",
    "from sklearn.model_selection import train_test_split #모델을 train과 test로\n",
    "from sklearn.preprocessing import LabelEncoder #문자열->숫자로 변환해주기 위해 필요한 함수\n",
    "from sklearn.preprocessing import MinMaxScaler #scaler 해주기 위해 필요한 함수"
   ]
  },
  {
   "cell_type": "code",
   "execution_count": null,
   "id": "9f74174f-175f-4f0b-854d-1b0c84500c47",
   "metadata": {},
   "outputs": [],
   "source": [
    "loan_data = pd.read_csv('loan.csv')"
   ]
  },
  {
   "cell_type": "markdown",
   "id": "37e8fd82-d338-472f-beb9-b7e108851a7a",
   "metadata": {},
   "source": [
    "#123-1) Real system에 필요한 전처리 코드1)\n",
    "null_dict = {}\n",
    "\n",
    "null_col = ['Gender', 'Married', 'Dependents', 'Self_Employed']\n",
    "for col in null_col :\n",
    "    null_dict[col] = loan_data[col].mode()[0]\n",
    "    \n",
    "null_dict['LoanAmount'] = loan_data['LoanAmount'].median()\n",
    "null_dict['Loan_Amount_Term'] = loan_data['Loan_Amount_Term'].mode()[0]\n",
    "null_dict['Credit_History'] = loan_data['Credit_History'].mode()[0]"
   ]
  },
  {
   "cell_type": "markdown",
   "id": "98d2f542-66cc-4112-848b-14c35512de1a",
   "metadata": {},
   "source": [
    "#123-2)\n",
    "null_col = ['Gender', 'Married', 'Dependents', 'Self_Employed']\n",
    "for col in null_col :\n",
    "    loan_data[col].fillna(loan_data[col].mode()[0], inplace=True)\n",
    "    \n",
    "loan_data['LoanAmount'].fillna(loan_data['LoanAmount'].mode()[0], inplace = True)\n",
    "loan_data['Loan_Amount_Term'].fillna(loan_data['Loan_Amount_Term'].mode()[0], inplace = True)\n",
    "loan_data['Credit_History'].fillna(loan_data['Credit_History'].mode()[0], inplace = True)"
   ]
  },
  {
   "cell_type": "code",
   "execution_count": null,
   "id": "4fab6b8f-3f42-46a7-8261-c8145410193d",
   "metadata": {},
   "outputs": [],
   "source": [
    "#123-1)과 #123-2)를 합침\n",
    "null_dict = {}\n",
    "null_col = ['Gender', 'Married', 'Dependents', 'Self_Employed']\n",
    "for col in null_col :\n",
    "    loan_data[col].fillna(loan_data[col].mode()[0], inplace=True)\n",
    "    null_dict[col] = loan_data[col].mode()[0]\n",
    "    \n",
    "null_dict['LoanAmount'] = loan_data['LoanAmount'].median()\n",
    "null_dict['Loan_Amount_Term'] = loan_data['Loan_Amount_Term'].mode()[0]\n",
    "null_dict['Credit_History'] = loan_data['Credit_History'].mode()[0]\n",
    "\n",
    "loan_data['LoanAmount'].fillna(loan_data['LoanAmount'].mode()[0], inplace = True)\n",
    "loan_data['Loan_Amount_Term'].fillna(loan_data['Loan_Amount_Term'].mode()[0], inplace = True)\n",
    "loan_data['Credit_History'].fillna(loan_data['Credit_History'].mode()[0], inplace = True)"
   ]
  },
  {
   "cell_type": "code",
   "execution_count": null,
   "id": "11654878-4611-486f-8940-585c78bfb90f",
   "metadata": {},
   "outputs": [],
   "source": [
    "obj_col = ['Gender', 'Married', 'Dependents', 'Education', 'Self_Employed', 'Property_Area']"
   ]
  },
  {
   "cell_type": "code",
   "execution_count": null,
   "id": "b12f6e19-7df1-44db-b3fe-e9a3fd87a639",
   "metadata": {},
   "outputs": [],
   "source": [
    "# 모델을 학습할 때 필요한 코드 및 Realsystem에 필요한 전처리 코드2)\n",
    "for col in obj_col :\n",
    "    label = LabelEncoder()\n",
    "    loan_data[col] = label.fit_transform(loan_data[col])\n",
    "    filename = 'label_' + col + '.pkl'\n",
    "   # with open(filename, 'wb') as f : #real_system에서 불러오기 위해서 파일을 저장해야함. 따라서, real \n",
    "   #     pickle.dump(label, f)        #"
   ]
  },
  {
   "cell_type": "code",
   "execution_count": null,
   "id": "7078eba9-cde0-436f-a9aa-57cc7da7e32e",
   "metadata": {},
   "outputs": [],
   "source": [
    "scaler = MinMaxScaler()"
   ]
  },
  {
   "cell_type": "code",
   "execution_count": null,
   "id": "4eba4e0d-60cd-4de1-9852-5f850cb60a0b",
   "metadata": {},
   "outputs": [],
   "source": [
    "X = loan_data.drop(['Loan_ID', 'Loan_Status'], axis = 1)\n",
    "Y = loan_data['Loan_Status']"
   ]
  },
  {
   "cell_type": "code",
   "execution_count": null,
   "id": "aaa69f1d-eb4a-4044-917f-dd0f4209d2de",
   "metadata": {},
   "outputs": [],
   "source": [
    "x_train, x_test, y_train, y_test = train_test_split(X, Y, test_size=0.2, stratify=Y, random_state=0)"
   ]
  },
  {
   "cell_type": "code",
   "execution_count": null,
   "id": "b0a21e0e-b8de-41da-9346-20aec5c2a4c3",
   "metadata": {},
   "outputs": [],
   "source": [
    "x_train = scaler.fit_transform(x_train)"
   ]
  },
  {
   "cell_type": "code",
   "execution_count": null,
   "id": "844d79ee-676f-4e49-a679-b1bbb848590d",
   "metadata": {},
   "outputs": [],
   "source": [
    "x_test = scaler.transform(x_test)"
   ]
  },
  {
   "cell_type": "code",
   "execution_count": null,
   "id": "10309c2b-dfc4-451b-b8f6-b21aeafafbe9",
   "metadata": {},
   "outputs": [],
   "source": [
    "model2 = SVC()"
   ]
  },
  {
   "cell_type": "code",
   "execution_count": null,
   "id": "3599f242-2edf-4a9d-b708-cde05fd10fd9",
   "metadata": {
    "tags": []
   },
   "outputs": [],
   "source": [
    "model2.fit(x_train, y_train)"
   ]
  },
  {
   "cell_type": "code",
   "execution_count": null,
   "id": "7fe31ef4-b6e7-41ea-bb5d-a58eb27f527e",
   "metadata": {},
   "outputs": [],
   "source": [
    "model2.score(x_train, y_train)"
   ]
  },
  {
   "cell_type": "code",
   "execution_count": null,
   "id": "a8ce4032-5a69-4196-aa19-d2533911d084",
   "metadata": {},
   "outputs": [],
   "source": [
    "model2.score(x_test, y_test)"
   ]
  },
  {
   "cell_type": "code",
   "execution_count": null,
   "id": "2e36a28d-98ae-4d6f-bbc9-c711a8dccb02",
   "metadata": {},
   "outputs": [],
   "source": [
    "#최종 모델 저장"
   ]
  },
  {
   "cell_type": "code",
   "execution_count": null,
   "id": "55fb70bd-f397-47b1-b233-d32a40e297e9",
   "metadata": {},
   "outputs": [],
   "source": [
    "with open('model2.pkl', 'wb') as f :\n",
    "    pickle.dump(model2, f)"
   ]
  },
  {
   "cell_type": "markdown",
   "id": "b44922a4-9912-4f46-944d-f2818dcf1bfb",
   "metadata": {},
   "source": [
    "---"
   ]
  },
  {
   "cell_type": "code",
   "execution_count": null,
   "id": "0018b920-de38-465e-95b9-168bd12fd44b",
   "metadata": {},
   "outputs": [],
   "source": [
    "*머신러닝 순서\n",
    "1)null_dict.pkl(필요 없는 값들의 각각의 칼럼 위치에 적절한 값(최빈값 또는 중앙값)으로 대체해주기 위해서 이 작업을 한다.)\n",
    "2)6가지(filename = 'label_' + col + '.pkl')(문자열->숫자로 치환, 왜? 머신러닝은 컴퓨터가 계산해주는데 그러기 위해서는 문자열로 넣어주면 컴퓨터가 인식을 못함.\n",
    "                                           그렇기 때문에 문자를 숫자로 변환시켜줘서 컴퓨터가 머신러닝을 할 수 있게 해주어야 한다.)\n",
    "3)scaler.pkl(스케일(모델 정확도를 높이기 위함)을 해준다.)\n",
    "4)model2.pkl(학습시킬 모델을 저장한다.)\n"
   ]
  },
  {
   "cell_type": "markdown",
   "id": "d307c787-4367-4a5f-b1cb-c6b76204b7bc",
   "metadata": {},
   "source": [
    "순서:\n",
    "0)함수 및 데이터 불러온다.\n",
    "1)모델을 학습시킬 때 필요한 전처리 -> 모델 학습 -> 모델 저장(model2.pkl)\n",
    "2)Real system에 필요한 전처리 2가지(null_dict, obj_col)한 후 저장(null_dict.pkl, 6가지(filename = 'label_' + col + '.pkl'))\n",
    "3)"
   ]
  }
 ],
 "metadata": {
  "kernelspec": {
   "display_name": "Python 3 (ipykernel)",
   "language": "python",
   "name": "python3"
  },
  "language_info": {
   "codemirror_mode": {
    "name": "ipython",
    "version": 3
   },
   "file_extension": ".py",
   "mimetype": "text/x-python",
   "name": "python",
   "nbconvert_exporter": "python",
   "pygments_lexer": "ipython3",
   "version": "3.9.12"
  }
 },
 "nbformat": 4,
 "nbformat_minor": 5
}
