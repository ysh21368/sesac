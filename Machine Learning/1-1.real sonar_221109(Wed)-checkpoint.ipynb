{
 "cells": [
  {
   "cell_type": "markdown",
   "id": "1e9800b8-7064-4f9c-949c-dfbdb877284a",
   "metadata": {},
   "source": [
    "# 돌인지 마인인지 구분하는 시스템 만들기"
   ]
  },
  {
   "cell_type": "code",
   "execution_count": 9,
   "id": "49f8a28e-2ba1-45ac-a99f-87087d11b9be",
   "metadata": {},
   "outputs": [],
   "source": [
    "import pandas as pd\n",
    "import pickle"
   ]
  },
  {
   "cell_type": "code",
   "execution_count": 2,
   "id": "bc96b68f-afe8-448e-852c-684cf41049e9",
   "metadata": {},
   "outputs": [],
   "source": [
    "real_data = pd.read_csv('sonar_csv.csv')"
   ]
  },
  {
   "cell_type": "code",
   "execution_count": 3,
   "id": "7f1dbdf4-c8dc-4234-a83e-ff8c27565d20",
   "metadata": {},
   "outputs": [],
   "source": [
    "real_data.drop('Class', axis = 1, inplace = True)"
   ]
  },
  {
   "cell_type": "code",
   "execution_count": 4,
   "id": "f1652884-7160-40dd-87fd-0e272f1d7074",
   "metadata": {},
   "outputs": [],
   "source": [
    "real = real_data.iloc[100].values.reshape(1, -1)"
   ]
  },
  {
   "cell_type": "code",
   "execution_count": 5,
   "id": "2a8aeb75-7eca-4030-ac7c-0fd37e1861c1",
   "metadata": {},
   "outputs": [
    {
     "data": {
      "text/plain": [
       "array([[0.0629, 0.1065, 0.1526, 0.1229, 0.1437, 0.119 , 0.0884, 0.0907,\n",
       "        0.2107, 0.3597, 0.5466, 0.5205, 0.5127, 0.5395, 0.6558, 0.8705,\n",
       "        0.9786, 0.9335, 0.7917, 0.7383, 0.6908, 0.385 , 0.0671, 0.0502,\n",
       "        0.2717, 0.2839, 0.2234, 0.1911, 0.0408, 0.2531, 0.1979, 0.1891,\n",
       "        0.2433, 0.1956, 0.2667, 0.134 , 0.1073, 0.2023, 0.1794, 0.0227,\n",
       "        0.1313, 0.1775, 0.1549, 0.1626, 0.0708, 0.0129, 0.0795, 0.0762,\n",
       "        0.0117, 0.0061, 0.0257, 0.0089, 0.0262, 0.0108, 0.0138, 0.0187,\n",
       "        0.023 , 0.0057, 0.0113, 0.0131]])"
      ]
     },
     "execution_count": 5,
     "metadata": {},
     "output_type": "execute_result"
    }
   ],
   "source": [
    "real"
   ]
  },
  {
   "cell_type": "code",
   "execution_count": 10,
   "id": "f0fe0ae0-e687-40e6-9524-6ad6ac2cb43c",
   "metadata": {
    "tags": []
   },
   "outputs": [],
   "source": [
    "with open('scaler.pkl', 'rb') as f :\n",
    "    scaler_rb = pickle.load(f)"
   ]
  },
  {
   "cell_type": "code",
   "execution_count": 11,
   "id": "5101e317-5f70-4e9a-8cf8-0f07cca87781",
   "metadata": {
    "tags": []
   },
   "outputs": [],
   "source": [
    "with open('model3.pkl', 'rb') as f :\n",
    "    pickle_rb = pickle.load(f)"
   ]
  },
  {
   "cell_type": "code",
   "execution_count": 12,
   "id": "f87d559e-9394-4c87-9aa9-779f4fee4863",
   "metadata": {},
   "outputs": [
    {
     "name": "stderr",
     "output_type": "stream",
     "text": [
      "C:\\Users\\user\\anaconda3\\lib\\site-packages\\sklearn\\base.py:450: UserWarning: X does not have valid feature names, but StandardScaler was fitted with feature names\n",
      "  warnings.warn(\n"
     ]
    }
   ],
   "source": [
    "real1 = scaler_rb.transform(real)"
   ]
  },
  {
   "cell_type": "code",
   "execution_count": 13,
   "id": "a3913ea6-8328-49c5-be9a-b79d8208d59d",
   "metadata": {},
   "outputs": [
    {
     "data": {
      "text/plain": [
       "array(['Mine'], dtype=object)"
      ]
     },
     "execution_count": 13,
     "metadata": {},
     "output_type": "execute_result"
    }
   ],
   "source": [
    "pickle_rb.predict(real1)"
   ]
  },
  {
   "cell_type": "code",
   "execution_count": 14,
   "id": "76a10af7-7927-4729-b6de-5c7f99a11401",
   "metadata": {},
   "outputs": [
    {
     "data": {
      "text/plain": [
       "'Mine'"
      ]
     },
     "execution_count": 14,
     "metadata": {},
     "output_type": "execute_result"
    }
   ],
   "source": [
    "pickle_rb.predict(real1)[0]"
   ]
  },
  {
   "cell_type": "code",
   "execution_count": 16,
   "id": "a95d2554-a382-442a-8f15-00cc133fd4c8",
   "metadata": {},
   "outputs": [],
   "source": [
    "predict = pickle_rb.predict(real1)[0]"
   ]
  },
  {
   "cell_type": "code",
   "execution_count": 17,
   "id": "4cffa37e-ec9c-4af9-9a03-a79aba8384d1",
   "metadata": {},
   "outputs": [
    {
     "name": "stdout",
     "output_type": "stream",
     "text": [
      "지뢰가 나타났습니다. 돔황챠\n"
     ]
    }
   ],
   "source": [
    "if predict == 'Mine' :\n",
    "    print('지뢰가 나타났습니다. 돔황챠')\n",
    "else :\n",
    "    print('그냥 돌입니다.')"
   ]
  },
  {
   "cell_type": "code",
   "execution_count": 18,
   "id": "4c57a1c4-f188-45c4-80f5-cc74e0710d57",
   "metadata": {},
   "outputs": [
    {
     "name": "stdout",
     "output_type": "stream",
     "text": [
      "첫째만 잘하면 되겠다...\n"
     ]
    }
   ],
   "source": [
    "print('첫째만 잘하면 되겠다...')"
   ]
  },
  {
   "cell_type": "code",
   "execution_count": 19,
   "id": "035dedca-a322-40f4-af3f-915b09bfebae",
   "metadata": {},
   "outputs": [
    {
     "name": "stdout",
     "output_type": "stream",
     "text": [
      "ㅇㅈ\n"
     ]
    }
   ],
   "source": [
    "print('ㅇㅈ')"
   ]
  }
 ],
 "metadata": {
  "kernelspec": {
   "display_name": "Python 3.9.13 ('base')",
   "language": "python",
   "name": "python3"
  },
  "language_info": {
   "codemirror_mode": {
    "name": "ipython",
    "version": 3
   },
   "file_extension": ".py",
   "mimetype": "text/x-python",
   "name": "python",
   "nbconvert_exporter": "python",
   "pygments_lexer": "ipython3",
   "version": "3.9.13"
  },
  "vscode": {
   "interpreter": {
    "hash": "701d4f28dcd0866722f5108a3a4cbcd08882d26398b6d44117e791d7b8102912"
   }
  }
 },
 "nbformat": 4,
 "nbformat_minor": 5
}
