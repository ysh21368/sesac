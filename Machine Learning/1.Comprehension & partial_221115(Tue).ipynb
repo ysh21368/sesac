{
 "cells": [
  {
   "cell_type": "code",
   "execution_count": null,
   "id": "9edfd04b-ca49-45ae-878f-9df05c4c42e1",
   "metadata": {},
   "outputs": [],
   "source": [
    "# 오전 수업"
   ]
  },
  {
   "cell_type": "markdown",
   "id": "3dc48480-4cf8-4c21-ad91-8262e4d6219e",
   "metadata": {},
   "source": [
    "# Python Comprehension"
   ]
  },
  {
   "cell_type": "markdown",
   "id": "40cfeaac-b760-4680-9fd7-03d3d586fea9",
   "metadata": {},
   "source": [
    "- List(리스트)\n",
    "- Set(집합)\n",
    "- Dict(딕셔너리)"
   ]
  },
  {
   "cell_type": "markdown",
   "id": "16627a6f-5a34-4399-a520-7da638da8941",
   "metadata": {},
   "source": [
    "### List Comprehension: 반복되거나 특정 조건을 만족하는 리스트를 보다 쉽게 만들어 내기 위한 방법"
   ]
  },
  {
   "cell_type": "markdown",
   "id": "053b2f10-7c2f-48f3-83d7-c4c581429928",
   "metadata": {},
   "source": [
    "[출력표현식 for 요소 in 입력Sequnce [if 조건식]]"
   ]
  },
  {
   "cell_type": "code",
   "execution_count": null,
   "id": "95ea6140-aa3b-435a-b10e-9fd38c340bde",
   "metadata": {},
   "outputs": [],
   "source": [
    "[2 * i for i in range(1, 10)]"
   ]
  },
  {
   "cell_type": "code",
   "execution_count": null,
   "id": "62e9c97b-5d7d-4161-bbbd-fee9320f0764",
   "metadata": {},
   "outputs": [],
   "source": [
    "# Quiz1\n",
    "[Quiz1] List Comprehension을 이용해서 1 ~ 10까지 제곱 출력하기\n",
    "[1, 4, 9, 16, 25, 36, 49, 64, 81, 100]"
   ]
  },
  {
   "cell_type": "code",
   "execution_count": null,
   "id": "3a308c49-ec29-42c0-b66d-6b57b93163ba",
   "metadata": {},
   "outputs": [],
   "source": [
    "1 * 1\n",
    "2 * 2\n",
    "3 * 3\n",
    "4 * 4\n",
    "5 * 5\n",
    "6 * 6\n",
    "7 * 7\n",
    "8 * 8\n",
    "9 * 9\n",
    "10 * 10"
   ]
  },
  {
   "cell_type": "code",
   "execution_count": null,
   "id": "9a0671d2-d33b-4229-86b0-b7e29f1de2c7",
   "metadata": {},
   "outputs": [],
   "source": [
    "[i * i for i in range(1, 11)] #Quiz1 정답"
   ]
  },
  {
   "cell_type": "code",
   "execution_count": null,
   "id": "6d9fd9fe-8375-4b8d-804c-5fcb93cebed4",
   "metadata": {},
   "outputs": [],
   "source": [
    "# Quiz2\n",
    "[Quiz2] 1 ~ 20까지 짝수만 다 넣기"
   ]
  },
  {
   "cell_type": "code",
   "execution_count": null,
   "id": "6da199f0-14f6-4f36-9a5e-d2ebd924b132",
   "metadata": {},
   "outputs": [],
   "source": [
    "ret = []\n",
    "for i in range(1, 21) :\n",
    "    if i % 2 == 0 :\n",
    "        ret.append(i)"
   ]
  },
  {
   "cell_type": "code",
   "execution_count": null,
   "id": "f8efbf27-8217-42f2-96b3-cdfa6266721a",
   "metadata": {},
   "outputs": [],
   "source": [
    "ret #Quiz2 정답"
   ]
  },
  {
   "cell_type": "code",
   "execution_count": null,
   "id": "2a1b753c-7ab6-45c9-a9d2-686dc0143322",
   "metadata": {},
   "outputs": [],
   "source": [
    "# Quiz3\n",
    "[Quiz3] List Comprehension을 이용해서 oldlist에서 숫자만 뽑아서 제곱해서 newlist를 만들어라.\n",
    "예상결과: newlist = [1, 4, 9]"
   ]
  },
  {
   "cell_type": "code",
   "execution_count": null,
   "id": "fd7403fd-90c7-4ca3-9230-1448a34e9730",
   "metadata": {},
   "outputs": [],
   "source": [
    "oldlist = [1, 2, 'A', False, 3]"
   ]
  },
  {
   "cell_type": "code",
   "execution_count": null,
   "id": "7f46f16c-3a52-4115-a23f-0001079c9111",
   "metadata": {},
   "outputs": [],
   "source": [
    "[1, 2, 'A', False, 3] -> [1, 2, 3] -> [1 * 1, 2 * 2, 3 * 3] -> [1, 4, 9]"
   ]
  },
  {
   "cell_type": "code",
   "execution_count": null,
   "id": "d313c0e0-a359-4110-9351-9633a43dfdb4",
   "metadata": {},
   "outputs": [],
   "source": [
    "[i * i for i in (oldlist) if type(i) == int]"
   ]
  },
  {
   "cell_type": "code",
   "execution_count": null,
   "id": "7a2fd113-f74e-4473-92cd-74dea43743cd",
   "metadata": {},
   "outputs": [],
   "source": [
    "newlist = [i * i for i in oldlist if type(i) == int] #Quiz3 정답"
   ]
  },
  {
   "cell_type": "markdown",
   "id": "3a3e8b59-3c93-40a0-9870-07083cf31a2a",
   "metadata": {},
   "source": [
    "---"
   ]
  },
  {
   "cell_type": "code",
   "execution_count": null,
   "id": "4007c99b-0c16-4041-bf5c-51ebecd4dd84",
   "metadata": {},
   "outputs": [],
   "source": [
    "# 혼자 연습"
   ]
  },
  {
   "cell_type": "code",
   "execution_count": null,
   "id": "a3bf0d4a-b5d3-45eb-b3ac-473bdd2e85ee",
   "metadata": {},
   "outputs": [],
   "source": [
    "# 2, 4, 6, 8, 10, 12, 14, 16, 18, 20\n",
    "a = []\n",
    "for i in range(1, 11) :\n",
    "    print(2 * i)\n",
    "    a.append(i)\n",
    "    print(a)"
   ]
  },
  {
   "cell_type": "code",
   "execution_count": null,
   "id": "fd0f14a0-da24-4cfe-ba97-232a846bc8ce",
   "metadata": {},
   "outputs": [],
   "source": [
    "for문 활용하여 구구단 2단 만들기"
   ]
  },
  {
   "cell_type": "code",
   "execution_count": null,
   "id": "7bbf7cc7-f15f-42cb-a46e-c9f8f8e5b33a",
   "metadata": {},
   "outputs": [],
   "source": [
    "2 * 1\n",
    "2 * 2\n",
    "2 * 3\n",
    "2 * 4\n",
    "2 * 5\n",
    "2 * 6\n",
    "2 * 7\n",
    "2 * 8\n",
    "2 * 9"
   ]
  },
  {
   "cell_type": "code",
   "execution_count": null,
   "id": "6c05b799-4a28-4a1d-8115-d56ab4a12dcc",
   "metadata": {},
   "outputs": [],
   "source": [
    "for i in range(1, 10) :\n",
    "    a = (2 * i)\n",
    "b = [a]\n",
    "print(b)"
   ]
  },
  {
   "cell_type": "code",
   "execution_count": null,
   "id": "1ae6bd2c-a572-482d-9b2e-916728bad47c",
   "metadata": {
    "tags": []
   },
   "outputs": [],
   "source": [
    "for i in range(2, 10) :\n",
    "    for j in range(1, 10):\n",
    "        print(i * j)"
   ]
  },
  {
   "cell_type": "markdown",
   "id": "bb8efbe2-7b8f-40d6-97c4-f1b18d9dae8a",
   "metadata": {},
   "source": [
    "----"
   ]
  },
  {
   "cell_type": "code",
   "execution_count": null,
   "id": "463f9b0c-641f-4592-9f76-a3c379085487",
   "metadata": {},
   "outputs": [],
   "source": [
    "# 혼자 List comprehension 연습"
   ]
  },
  {
   "cell_type": "code",
   "execution_count": null,
   "id": "35978b39-efa4-42bd-9b22-d083b9c4c711",
   "metadata": {},
   "outputs": [],
   "source": [
    "[i for i in range(10)]"
   ]
  },
  {
   "cell_type": "code",
   "execution_count": null,
   "id": "9b85b00a-c7c0-4236-8dce-8305482ec721",
   "metadata": {},
   "outputs": [],
   "source": [
    "a = []\n",
    "for i in range(10) :\n",
    "    a.append(i)"
   ]
  },
  {
   "cell_type": "code",
   "execution_count": null,
   "id": "48af65be-bd66-4d84-89ee-436b8df0e4df",
   "metadata": {},
   "outputs": [],
   "source": [
    "a"
   ]
  },
  {
   "cell_type": "code",
   "execution_count": null,
   "id": "3137ed6f-f755-4a41-bb9b-d63a529eb7ee",
   "metadata": {},
   "outputs": [],
   "source": [
    "[i for i in range(10)]"
   ]
  },
  {
   "cell_type": "code",
   "execution_count": null,
   "id": "3242585d-8dd7-4622-bcc9-e1bf4be18887",
   "metadata": {},
   "outputs": [],
   "source": [
    "a = []\n",
    "for i in range(10) :\n",
    "    a.append(i)\n",
    "    print(a)"
   ]
  },
  {
   "cell_type": "code",
   "execution_count": null,
   "id": "89263771-3dfc-4f7d-b0bd-823143725bff",
   "metadata": {},
   "outputs": [],
   "source": [
    "[i * 3 for i in range(1, 10)]"
   ]
  },
  {
   "cell_type": "code",
   "execution_count": null,
   "id": "b704c652-a434-42d8-a8f9-9656fc68869b",
   "metadata": {},
   "outputs": [],
   "source": [
    "a = []\n",
    "for i in range(1, 10) :\n",
    "    a.append(3 * i)"
   ]
  },
  {
   "cell_type": "code",
   "execution_count": null,
   "id": "c7fc3fa1-bbee-4c40-acda-bb5559240c2f",
   "metadata": {},
   "outputs": [],
   "source": [
    "a"
   ]
  },
  {
   "cell_type": "code",
   "execution_count": null,
   "id": "973e2973-7bb2-49cc-8ac9-2498a6326cef",
   "metadata": {},
   "outputs": [],
   "source": [
    "[i for i in range(1, 30) if i % 2 == 0] #0~29 중 짝수인 값만 출력하시오. = 2의 배수"
   ]
  },
  {
   "cell_type": "code",
   "execution_count": null,
   "id": "9c3ebdf3-bd88-4fd4-b13e-027231b92600",
   "metadata": {
    "tags": []
   },
   "outputs": [],
   "source": [
    "a = []\n",
    "for i in range(1, 30) :\n",
    "    if i % 2 == 0 :\n",
    "        print(i)\n",
    "        a.append(i)"
   ]
  },
  {
   "cell_type": "code",
   "execution_count": null,
   "id": "99285238-d215-48c9-ae16-b67b4ca95e69",
   "metadata": {},
   "outputs": [],
   "source": [
    "a"
   ]
  },
  {
   "cell_type": "code",
   "execution_count": null,
   "id": "152e6a39-d3be-4c31-9596-e0580205bafc",
   "metadata": {},
   "outputs": [],
   "source": [
    "#1 ~ 27에서 3으로 나누어 주었을 때, 나머지가 0인 값인 애들을 출력하시오. = 3의 배수\n",
    "[i for i in range(1, 28) if i % 3 == 0]"
   ]
  },
  {
   "cell_type": "code",
   "execution_count": 1,
   "id": "687f05a2-6a5a-4a0e-87ea-3d4c5f4d0be7",
   "metadata": {},
   "outputs": [],
   "source": [
    "# 예제1) 2개의 반복문 사용하기\n",
    "a = ['a', 'b', 'c', 'd', 'e']\n",
    "b = ['1', '2', '3', '4', '5']"
   ]
  },
  {
   "cell_type": "code",
   "execution_count": 4,
   "id": "aab50861-ab82-40e0-b3ca-fd053ad29ba7",
   "metadata": {
    "collapsed": true,
    "jupyter": {
     "outputs_hidden": true
    },
    "tags": []
   },
   "outputs": [
    {
     "data": {
      "text/plain": [
       "['a1',\n",
       " 'a2',\n",
       " 'a3',\n",
       " 'a4',\n",
       " 'a5',\n",
       " 'b1',\n",
       " 'b2',\n",
       " 'b3',\n",
       " 'b4',\n",
       " 'b5',\n",
       " 'c1',\n",
       " 'c2',\n",
       " 'c3',\n",
       " 'c4',\n",
       " 'c5',\n",
       " 'd1',\n",
       " 'd2',\n",
       " 'd3',\n",
       " 'd4',\n",
       " 'd5',\n",
       " 'e1',\n",
       " 'e2',\n",
       " 'e3',\n",
       " 'e4',\n",
       " 'e5']"
      ]
     },
     "execution_count": 4,
     "metadata": {},
     "output_type": "execute_result"
    }
   ],
   "source": [
    "[i + j for i in a for j in b]"
   ]
  },
  {
   "cell_type": "code",
   "execution_count": 23,
   "id": "f8384021-db9b-462c-b3bf-4bc7f26e1c95",
   "metadata": {},
   "outputs": [],
   "source": [
    "# 2개의 반복문 사용하기\n",
    "c = []\n",
    "for i in a :\n",
    "    for j in b:\n",
    "        c.append(i+j)"
   ]
  },
  {
   "cell_type": "code",
   "execution_count": 24,
   "id": "1c7be519-90a8-4f52-9c74-73bb646b20cf",
   "metadata": {
    "collapsed": true,
    "jupyter": {
     "outputs_hidden": true
    },
    "tags": []
   },
   "outputs": [
    {
     "data": {
      "text/plain": [
       "['a1',\n",
       " 'a2',\n",
       " 'a3',\n",
       " 'a4',\n",
       " 'a5',\n",
       " 'b1',\n",
       " 'b2',\n",
       " 'b3',\n",
       " 'b4',\n",
       " 'b5',\n",
       " 'c1',\n",
       " 'c2',\n",
       " 'c3',\n",
       " 'c4',\n",
       " 'c5',\n",
       " 'd1',\n",
       " 'd2',\n",
       " 'd3',\n",
       " 'd4',\n",
       " 'd5',\n",
       " 'e1',\n",
       " 'e2',\n",
       " 'e3',\n",
       " 'e4',\n",
       " 'e5']"
      ]
     },
     "execution_count": 24,
     "metadata": {},
     "output_type": "execute_result"
    }
   ],
   "source": [
    "c"
   ]
  },
  {
   "cell_type": "code",
   "execution_count": 60,
   "id": "e4707bf5-cd02-4242-af1f-19d636e079fa",
   "metadata": {
    "collapsed": true,
    "jupyter": {
     "outputs_hidden": true
    },
    "tags": []
   },
   "outputs": [
    {
     "name": "stdout",
     "output_type": "stream",
     "text": [
      "0 <class 'int'>\n",
      "2 <class 'int'>\n",
      "4 <class 'int'>\n",
      "6 <class 'int'>\n",
      "8 <class 'int'>\n",
      "10 <class 'int'>\n",
      "12 <class 'int'>\n",
      "14 <class 'int'>\n",
      "16 <class 'int'>\n",
      "18 <class 'int'>\n",
      "20 <class 'int'>\n",
      "22 <class 'int'>\n",
      "24 <class 'int'>\n",
      "26 <class 'int'>\n",
      "28 <class 'int'>\n",
      "30 <class 'int'>\n",
      "32 <class 'int'>\n",
      "34 <class 'int'>\n",
      "36 <class 'int'>\n",
      "38 <class 'int'>\n",
      "40 <class 'int'>\n",
      "42 <class 'int'>\n",
      "44 <class 'int'>\n",
      "46 <class 'int'>\n",
      "48 <class 'int'>\n"
     ]
    }
   ],
   "source": [
    "# 2개의 조건문 사용하기\n",
    "for i in range(50) :\n",
    "    if i % 2 == 0 :\n",
    "        print(i, end = ' ')\n",
    "        print(type(i))"
   ]
  },
  {
   "cell_type": "code",
   "execution_count": 53,
   "id": "299fcb93-464a-4a73-8e7b-5be25ce1f3df",
   "metadata": {
    "collapsed": true,
    "jupyter": {
     "outputs_hidden": true
    },
    "tags": []
   },
   "outputs": [
    {
     "name": "stdout",
     "output_type": "stream",
     "text": [
      "0 <class 'int'>\n",
      "6 <class 'int'>\n",
      "12 <class 'int'>\n",
      "18 <class 'int'>\n",
      "24 <class 'int'>\n",
      "30 <class 'int'>\n",
      "36 <class 'int'>\n",
      "42 <class 'int'>\n",
      "48 <class 'int'>\n"
     ]
    }
   ],
   "source": [
    "# 2개의 조건문 사용하기\n",
    "for i in range(50) :\n",
    "    if i % 2 == 0 :\n",
    "        if i % 3 == 0 :\n",
    "            print(i, end = ' ')\n",
    "            print(type(i))"
   ]
  },
  {
   "cell_type": "code",
   "execution_count": 39,
   "id": "589c1877-ab7e-4011-95c4-0ae0e6ec03e5",
   "metadata": {},
   "outputs": [
    {
     "data": {
      "text/plain": [
       "[0, 6, 12, 18, 24, 30, 36, 42, 48]"
      ]
     },
     "execution_count": 39,
     "metadata": {},
     "output_type": "execute_result"
    }
   ],
   "source": [
    "[i for i in range(50) if i % 2 == 0 if i % 3 == 0] # 2개의 조건문 사용하기"
   ]
  },
  {
   "cell_type": "code",
   "execution_count": 61,
   "id": "dde84b11-2851-458b-82c3-ae0a0191970a",
   "metadata": {},
   "outputs": [
    {
     "data": {
      "text/plain": [
       "['even', 'odd', 'even', 'odd', 'even', 'odd', 'even', 'odd', 'even', 'odd']"
      ]
     },
     "execution_count": 61,
     "metadata": {},
     "output_type": "execute_result"
    }
   ],
   "source": [
    "# 조건문에서 else 사용하기 *****\n",
    "['even' if i % 2 == 0 else 'odd' for i in range(10)]"
   ]
  },
  {
   "cell_type": "code",
   "execution_count": 66,
   "id": "f7dc55e8-607d-49a9-8d79-50550417a3af",
   "metadata": {},
   "outputs": [
    {
     "name": "stdout",
     "output_type": "stream",
     "text": [
      "0\n",
      "even 1\n",
      "odd 2\n",
      "even 3\n",
      "odd 4\n",
      "even 5\n",
      "odd 6\n",
      "even 7\n",
      "odd 8\n",
      "even 9\n",
      "odd "
     ]
    }
   ],
   "source": [
    "for i in range(10) :\n",
    "    print(i)\n",
    "    if i % 2 == 0 :\n",
    "        print('even', end = ' ')\n",
    "    else :\n",
    "        print('odd', end = ' ')"
   ]
  },
  {
   "cell_type": "code",
   "execution_count": 82,
   "id": "4f7ab019-3c8b-4283-85d1-338928c65b42",
   "metadata": {},
   "outputs": [
    {
     "data": {
      "text/plain": [
       "['even', 'odd', 'even', 'odd', 'even', 'odd', 'even', 'odd', 'even', 'odd']"
      ]
     },
     "execution_count": 82,
     "metadata": {},
     "output_type": "execute_result"
    }
   ],
   "source": [
    "# 조건문에서 elif 사용하기 ***** 왜 i가 0일 때 'zero'가 출력이 안되나? 앞에 조건(if i % 2 == 0 조건에 만족하여, 여기에 해당하는 'even'을 출력하게 되므로 'zero'가 출력이 되지 않는다.\n",
    "['even' if i % 2 == 0 / else 'zero' if i == 0 / else 'odd' for i in range(10)]"
   ]
  },
  {
   "cell_type": "code",
   "execution_count": 92,
   "id": "eef6ed07-c49d-449c-b5f6-7158a9c74b06",
   "metadata": {},
   "outputs": [
    {
     "name": "stdout",
     "output_type": "stream",
     "text": [
      "even odd even odd even odd even odd even odd "
     ]
    }
   ],
   "source": [
    "# 조건문에서 elif 사용하기 *****\n",
    "for i in range(10) :\n",
    "    if i % 2 == 0 :\n",
    "        print('even', end = ' ')\n",
    "    elif i == 0 :\n",
    "        print('zero', end = ' ')\n",
    "    else :\n",
    "        print('odd', end = ' ')"
   ]
  },
  {
   "cell_type": "code",
   "execution_count": 88,
   "id": "61a9a4aa-3977-4642-ac03-813529aae851",
   "metadata": {},
   "outputs": [
    {
     "data": {
      "text/plain": [
       "['zero', 'odd', 'even', 'odd', 'even', 'odd', 'even', 'odd', 'even', 'odd']"
      ]
     },
     "execution_count": 88,
     "metadata": {},
     "output_type": "execute_result"
    }
   ],
   "source": [
    "['zero' if i == 0 else 'even' if i % 2 == 0 else 'odd' for i in range(10)]"
   ]
  },
  {
   "cell_type": "code",
   "execution_count": 89,
   "id": "06de0b60-9cd0-4111-9e3b-7463d51d9e13",
   "metadata": {},
   "outputs": [
    {
     "name": "stdout",
     "output_type": "stream",
     "text": [
      "zero odd even odd even odd even odd even odd "
     ]
    }
   ],
   "source": [
    "for i in range(10) :\n",
    "    if i == 0 :\n",
    "        print('zero', end = ' ')\n",
    "    elif i % 2 == 0 :\n",
    "        print('even', end = ' ')\n",
    "    else :\n",
    "        print('odd', end = ' ')"
   ]
  },
  {
   "cell_type": "code",
   "execution_count": 93,
   "id": "397cf4d2-28e6-4008-9c8c-b53a11b7e821",
   "metadata": {},
   "outputs": [
    {
     "data": {
      "text/plain": [
       "['hum', 'one', 'two', 'three', 'four', 'hum', 'hum', 'hum', 'hum', 'hum']"
      ]
     },
     "execution_count": 93,
     "metadata": {},
     "output_type": "execute_result"
    }
   ],
   "source": [
    "['one' if i == 1 / else 'two' if i == 2 / else 'three' if i == 3 / else 'four' if i == 4 / else 'hum' \n",
    " for i in range(10)]"
   ]
  },
  {
   "cell_type": "code",
   "execution_count": 100,
   "id": "ccfbba0e-f630-47c1-9ef5-8d648fb0bde6",
   "metadata": {},
   "outputs": [
    {
     "name": "stdout",
     "output_type": "stream",
     "text": [
      "hum one two three four hum hum hum hum hum "
     ]
    }
   ],
   "source": [
    "for i in range(10) :\n",
    "    if i == 1 :\n",
    "        print('one', end = ' ')\n",
    "    elif i == 2 :\n",
    "        print('two', end = ' ')\n",
    "    elif i == 3 :\n",
    "        print('three', end = ' ')\n",
    "    elif i == 4:\n",
    "        print('four', end = ' ')\n",
    "    else :\n",
    "        print('hum', end = ' ')"
   ]
  },
  {
   "cell_type": "markdown",
   "id": "77f84174-b164-43c9-a4c5-c8ab93382d03",
   "metadata": {},
   "source": [
    "---"
   ]
  },
  {
   "cell_type": "markdown",
   "id": "2d172aa8-eba7-40f1-ab83-7992c3aecc45",
   "metadata": {
    "tags": []
   },
   "source": [
    "# Set Comprehension (집합)"
   ]
  },
  {
   "cell_type": "code",
   "execution_count": 102,
   "id": "d2abb3fe-e89c-4c72-b629-730dc094d5f5",
   "metadata": {},
   "outputs": [],
   "source": [
    "oldlist = [1, 1, 2, 3, 3, 4]"
   ]
  },
  {
   "cell_type": "code",
   "execution_count": 103,
   "id": "7215a59a-7f70-44e4-a0d7-488c4258b075",
   "metadata": {},
   "outputs": [
    {
     "data": {
      "text/plain": [
       "{1, 4, 9, 16}"
      ]
     },
     "execution_count": 103,
     "metadata": {},
     "output_type": "execute_result"
    }
   ],
   "source": [
    "{i * i for i in oldlist}"
   ]
  },
  {
   "cell_type": "code",
   "execution_count": null,
   "id": "607151e4-a79d-4949-9ca8-ea2ddd90569b",
   "metadata": {},
   "outputs": [],
   "source": [
    "# 혼자 연습"
   ]
  },
  {
   "cell_type": "code",
   "execution_count": 109,
   "id": "497e328a-c1a2-44a0-9693-e55a6c43ddf5",
   "metadata": {},
   "outputs": [],
   "source": [
    "oldlist = [1, 1, 1, 1, 1,1,1,1,1,1,1,1,1, 2, 3, 4, 4, 4, 4, 4, 4, 4, 4, 5, 5, 5, 5, 5]"
   ]
  },
  {
   "cell_type": "code",
   "execution_count": 111,
   "id": "e2606744-ccc9-4f2f-b2ba-f08ce8381363",
   "metadata": {},
   "outputs": [
    {
     "data": {
      "text/plain": [
       "{1, 2, 3, 4, 5}"
      ]
     },
     "execution_count": 111,
     "metadata": {},
     "output_type": "execute_result"
    }
   ],
   "source": [
    "{i for i in oldlist}"
   ]
  },
  {
   "cell_type": "markdown",
   "id": "cbe4841a-828f-46de-a865-b5826ba03cd1",
   "metadata": {},
   "source": [
    "---"
   ]
  },
  {
   "cell_type": "markdown",
   "id": "878bc2b2-1bfe-4ef9-9241-ec0bd07c9793",
   "metadata": {
    "tags": []
   },
   "source": [
    "# Dictionary Comprehension (딕셔너리) *****"
   ]
  },
  {
   "cell_type": "code",
   "execution_count": null,
   "id": "a84c0020-82f3-45e8-b777-7f3d86595123",
   "metadata": {},
   "outputs": [],
   "source": [
    "{Key:Value for 요소 in 입력Sequence [if 조건식]}"
   ]
  },
  {
   "cell_type": "code",
   "execution_count": 232,
   "id": "fd927c26-dc85-439c-9175-72c3b588bfbc",
   "metadata": {},
   "outputs": [],
   "source": [
    "id_name = {1:'남성헌', 2:'고상현', 3:'윤승현'}"
   ]
  },
  {
   "cell_type": "code",
   "execution_count": null,
   "id": "567c1a05-af55-4411-89ac-37bdd4d9ed1d",
   "metadata": {},
   "outputs": [],
   "source": [
    "이름 -> key / 숫자 -> value"
   ]
  },
  {
   "cell_type": "code",
   "execution_count": null,
   "id": "953be303-5736-44ff-9e8f-cbdd52dc2c79",
   "metadata": {},
   "outputs": [],
   "source": [
    "a = {value : key for key, value in id_name.items()}"
   ]
  },
  {
   "cell_type": "code",
   "execution_count": null,
   "id": "055391de-ea69-456b-bd61-763a7810dd18",
   "metadata": {},
   "outputs": [],
   "source": [
    "a"
   ]
  },
  {
   "cell_type": "code",
   "execution_count": null,
   "id": "a64ffe57-8660-4dd9-a56d-9c5d7ae414b3",
   "metadata": {},
   "outputs": [],
   "source": [
    "# 혼자 다시 연습"
   ]
  },
  {
   "cell_type": "code",
   "execution_count": 113,
   "id": "18d7770c-80b0-4554-aad0-3548e736d291",
   "metadata": {},
   "outputs": [],
   "source": [
    "name_id = {1:'남성현', 2:'고상현', 3:'윤승현'}"
   ]
  },
  {
   "cell_type": "code",
   "execution_count": 124,
   "id": "941d0827-f649-4525-b790-77a9947d217d",
   "metadata": {},
   "outputs": [
    {
     "data": {
      "text/plain": [
       "{1: '남성현', 2: '고상현', 3: '윤승현'}"
      ]
     },
     "execution_count": 124,
     "metadata": {},
     "output_type": "execute_result"
    }
   ],
   "source": [
    "name_id"
   ]
  },
  {
   "cell_type": "code",
   "execution_count": 120,
   "id": "2bf7088c-f8a9-4d9c-9afe-22b22918cdd5",
   "metadata": {},
   "outputs": [
    {
     "data": {
      "text/plain": [
       "dict_items([(1, '남성현'), (2, '고상현'), (3, '윤승현')])"
      ]
     },
     "execution_count": 120,
     "metadata": {},
     "output_type": "execute_result"
    }
   ],
   "source": [
    "name_id.items()"
   ]
  },
  {
   "cell_type": "code",
   "execution_count": 121,
   "id": "290ab492-5a61-466e-ad9e-534e26c18135",
   "metadata": {},
   "outputs": [],
   "source": [
    "#이름을 key, 숫자를 value로 바꾸시오.\n",
    "a = {value : key for key, value in name_id.items()}"
   ]
  },
  {
   "cell_type": "code",
   "execution_count": 122,
   "id": "d11c6af1-a985-4bdd-92cd-45e745620cc5",
   "metadata": {},
   "outputs": [
    {
     "data": {
      "text/plain": [
       "{'남성현': 1, '고상현': 2, '윤승현': 3}"
      ]
     },
     "execution_count": 122,
     "metadata": {},
     "output_type": "execute_result"
    }
   ],
   "source": [
    "a"
   ]
  },
  {
   "cell_type": "code",
   "execution_count": 175,
   "id": "c6fc7ef2-3a91-493d-ba90-b9eb35c13db1",
   "metadata": {},
   "outputs": [
    {
     "data": {
      "text/plain": [
       "{'철수': 0, '영희': 0, '길동': 0, '순희': 0}"
      ]
     },
     "execution_count": 175,
     "metadata": {},
     "output_type": "execute_result"
    }
   ],
   "source": [
    "#Dict comprehension 예제 1) \n",
    "students = ['철수', '영희', '길동', '순희']\n",
    "{student: 0 for student in students}"
   ]
  },
  {
   "cell_type": "code",
   "execution_count": 176,
   "id": "db04c808-8e5a-4304-9da4-6ae39b7bee2d",
   "metadata": {},
   "outputs": [
    {
     "data": {
      "text/plain": [
       "{'철': '수', '영': '희', '길': '동', '순': '희'}"
      ]
     },
     "execution_count": 176,
     "metadata": {},
     "output_type": "execute_result"
    }
   ],
   "source": [
    "#Dict comprehension 예제 1-1) \n",
    "students = ['철수', '영희', '길동', '순희']\n",
    "{student: _ for student, _ in (students)}"
   ]
  },
  {
   "cell_type": "code",
   "execution_count": 178,
   "id": "18505e1f-9aa0-411c-b51b-da4f05ea8265",
   "metadata": {},
   "outputs": [
    {
     "data": {
      "text/plain": [
       "{'사': '과', '포': '도', '자': '두', '수': '박'}"
      ]
     },
     "execution_count": 178,
     "metadata": {},
     "output_type": "execute_result"
    }
   ],
   "source": [
    "#Dict comprehension 예제 1-1) \n",
    "fruits = ['사과', '포도', '자두', '수박']\n",
    "{fruit: _ for fruit, _ in (fruits)}"
   ]
  },
  {
   "cell_type": "code",
   "execution_count": 177,
   "id": "fd814a74-bde7-4a4b-a446-ab45e5a34af3",
   "metadata": {},
   "outputs": [
    {
     "data": {
      "text/plain": [
       "{'철수': 1, '영희': 2, '길동': 3, '순희': 4}"
      ]
     },
     "execution_count": 177,
     "metadata": {},
     "output_type": "execute_result"
    }
   ],
   "source": [
    "#Dict comprehension 예제 1-2) 각 학생들 순서 매기기\n",
    "students = ['철수', '영희', '길동', '순희']\n",
    "{student: index for index, student in enumerate(students, start= 1)}"
   ]
  },
  {
   "cell_type": "code",
   "execution_count": 195,
   "id": "5a563516-67d5-4d9f-a3ed-581103c0cd8d",
   "metadata": {},
   "outputs": [],
   "source": [
    "#Dict comprehension 예제 1-2) 각 학생들 순서 매기기\n",
    "a = {}\n",
    "for index, student in enumerate(students, start = 1) :\n",
    "    a[student] = index"
   ]
  },
  {
   "cell_type": "code",
   "execution_count": 196,
   "id": "95710585-f02b-468f-8945-5e50e2a9a027",
   "metadata": {},
   "outputs": [
    {
     "data": {
      "text/plain": [
       "{'철수': 1, '영희': 2, '길동': 3, '순희': 4}"
      ]
     },
     "execution_count": 196,
     "metadata": {},
     "output_type": "execute_result"
    }
   ],
   "source": [
    "a"
   ]
  },
  {
   "cell_type": "code",
   "execution_count": 208,
   "id": "42dc4332-b027-4fb2-8c2d-543a02dad861",
   "metadata": {},
   "outputs": [
    {
     "name": "stdout",
     "output_type": "stream",
     "text": [
      "{'철수': 50, '영희': 80, '길동': 90, '순희': 60}\n"
     ]
    }
   ],
   "source": [
    "# 전학 간 학생 제거\n",
    "scores = {'철수': 50, '영희': 80, '길동':90, '순희': 60, '전학생':100}\n",
    "scores = {name: score for name, score in scores.items() if name != '전학생'}\n",
    "print(scores)"
   ]
  },
  {
   "cell_type": "code",
   "execution_count": 209,
   "id": "e3ac0161-8cf6-4dd7-900f-46df9752e004",
   "metadata": {},
   "outputs": [
    {
     "name": "stdout",
     "output_type": "stream",
     "text": [
      "{'철수': 50},{'영희': 80},{'길동': 90},{'순희': 60},"
     ]
    }
   ],
   "source": [
    "# 전학 간 학생 제거\n",
    "for name, score in scores.items() :\n",
    "    if name != '전학생' :\n",
    "        print({name : score}, end = ',')\n",
    "        scores[name] = score"
   ]
  },
  {
   "cell_type": "code",
   "execution_count": 210,
   "id": "d00399ca-85b9-48e6-b869-cdc00476846e",
   "metadata": {},
   "outputs": [
    {
     "data": {
      "text/plain": [
       "{'철수': 50, '영희': 80, '길동': 90, '순희': 60}"
      ]
     },
     "execution_count": 210,
     "metadata": {},
     "output_type": "execute_result"
    }
   ],
   "source": [
    "scores"
   ]
  },
  {
   "cell_type": "code",
   "execution_count": 211,
   "id": "79c600e0-2c8c-47c6-b063-cf94c402b4a4",
   "metadata": {
    "tags": []
   },
   "outputs": [],
   "source": [
    "# 통과, 불통과\n",
    "grades = {name: 'PASS' if value > 70 else 'No-PASS' for name, value in scores.items()}"
   ]
  },
  {
   "cell_type": "code",
   "execution_count": 212,
   "id": "e7630845-ae9a-41b4-9822-70d7f639c17b",
   "metadata": {},
   "outputs": [
    {
     "data": {
      "text/plain": [
       "{'철수': 'No-PASS', '영희': 'PASS', '길동': 'PASS', '순희': 'No-PASS'}"
      ]
     },
     "execution_count": 212,
     "metadata": {},
     "output_type": "execute_result"
    }
   ],
   "source": [
    "grades"
   ]
  },
  {
   "cell_type": "code",
   "execution_count": 229,
   "id": "c6f1a544-bc9e-4b32-bbe1-fad9c2ed06bf",
   "metadata": {},
   "outputs": [
    {
     "name": "stdout",
     "output_type": "stream",
     "text": [
      "{'철수': 'No-PASS'},{'영희': 'PASS'},{'길동': 'PASS'},{'순희': 'No-PASS'},"
     ]
    }
   ],
   "source": [
    "for name, value in scores.items() :\n",
    "    if value > 70 :\n",
    "        print({name: 'PASS'}, end = ',')\n",
    "    else :\n",
    "        print({name: 'No-PASS'}, end = ',')\n",
    "        scores[name] = value"
   ]
  },
  {
   "cell_type": "code",
   "execution_count": 230,
   "id": "14cd5d80-eb43-45bb-87c0-15ba272ee6fb",
   "metadata": {},
   "outputs": [
    {
     "data": {
      "text/plain": [
       "{'철수': 50, '영희': 80, '길동': 90, '순희': 60}"
      ]
     },
     "execution_count": 230,
     "metadata": {},
     "output_type": "execute_result"
    }
   ],
   "source": [
    "scores"
   ]
  },
  {
   "cell_type": "markdown",
   "id": "f626f1a0-0f10-4d98-b389-306fa26e8501",
   "metadata": {},
   "source": [
    "---"
   ]
  },
  {
   "cell_type": "code",
   "execution_count": null,
   "id": "39b81359-e521-4564-969f-1adf53698671",
   "metadata": {},
   "outputs": [],
   "source": [
    "# 혼자 연습"
   ]
  },
  {
   "cell_type": "code",
   "execution_count": 233,
   "id": "1a01fff0-2b8b-428c-8553-dc717ec8e641",
   "metadata": {},
   "outputs": [
    {
     "data": {
      "text/plain": [
       "dict_items([(1, '남성헌'), (2, '고상현'), (3, '윤승현')])"
      ]
     },
     "execution_count": 233,
     "metadata": {},
     "output_type": "execute_result"
    }
   ],
   "source": [
    "id_name.items()"
   ]
  },
  {
   "cell_type": "code",
   "execution_count": 234,
   "id": "8293a474-5fb6-431c-8589-b04de3cd4306",
   "metadata": {},
   "outputs": [
    {
     "name": "stdout",
     "output_type": "stream",
     "text": [
      "1 남성헌\n",
      "{'남성헌': 1}\n",
      "2 고상현\n",
      "{'고상현': 2}\n",
      "3 윤승현\n",
      "{'윤승현': 3}\n"
     ]
    }
   ],
   "source": [
    "for i, j in id_name.items() :\n",
    "    print(i, j)\n",
    "    new_id_name = {j: int(i)}\n",
    "    print(new_id_name)\n",
    "a = new_id_name.items()"
   ]
  },
  {
   "cell_type": "code",
   "execution_count": 235,
   "id": "9213b89f-2458-49c8-9745-66536966238e",
   "metadata": {},
   "outputs": [
    {
     "name": "stdout",
     "output_type": "stream",
     "text": [
      "1 남성헌\n",
      "{'남성헌': 1}\n",
      "2 고상현\n",
      "{'남성헌': 1, '고상현': 2}\n",
      "3 윤승현\n",
      "{'남성헌': 1, '고상현': 2, '윤승현': 3}\n"
     ]
    }
   ],
   "source": [
    "# 다시\n",
    "name_id = {}\n",
    "for key, value in id_name.items() :\n",
    "    print(key, value)\n",
    "    name_id[value] = key\n",
    "    print(name_id)"
   ]
  },
  {
   "cell_type": "code",
   "execution_count": 236,
   "id": "bb6592a4-7e2a-4bcc-ad51-67b51dbca7df",
   "metadata": {},
   "outputs": [
    {
     "data": {
      "text/plain": [
       "{'남성헌': 1, '고상현': 2, '윤승현': 3}"
      ]
     },
     "execution_count": 236,
     "metadata": {},
     "output_type": "execute_result"
    }
   ],
   "source": [
    "name_id"
   ]
  },
  {
   "cell_type": "markdown",
   "id": "bd16365b-d476-4e2c-a543-d778b82acadf",
   "metadata": {},
   "source": [
    "---"
   ]
  },
  {
   "cell_type": "code",
   "execution_count": 258,
   "id": "c898b7a1-1efa-4995-b499-1b73b37b4333",
   "metadata": {},
   "outputs": [],
   "source": [
    "name_id = {1:'남성헌', 2:'고상현', 3:'윤승현'}"
   ]
  },
  {
   "cell_type": "code",
   "execution_count": 259,
   "id": "fab50363-18bc-41f4-845e-2a582dd112c5",
   "metadata": {},
   "outputs": [
    {
     "data": {
      "text/plain": [
       "{1: '남성헌', 2: '고상현', 3: '윤승현'}"
      ]
     },
     "execution_count": 259,
     "metadata": {},
     "output_type": "execute_result"
    }
   ],
   "source": [
    "name_id"
   ]
  },
  {
   "cell_type": "code",
   "execution_count": 260,
   "id": "b075f8d3-eff0-4742-87f3-081cc590f5ec",
   "metadata": {},
   "outputs": [],
   "source": [
    "a = {key : val for val, key in name_id.items()}"
   ]
  },
  {
   "cell_type": "code",
   "execution_count": 261,
   "id": "ccf60487-ad52-4e80-961b-2257e7ca1d19",
   "metadata": {},
   "outputs": [
    {
     "data": {
      "text/plain": [
       "{'남성헌': 1, '고상현': 2, '윤승현': 3}"
      ]
     },
     "execution_count": 261,
     "metadata": {},
     "output_type": "execute_result"
    }
   ],
   "source": [
    "a"
   ]
  },
  {
   "cell_type": "code",
   "execution_count": 273,
   "id": "7c5fec9c-83b6-40fa-857f-2ccf18fc3762",
   "metadata": {},
   "outputs": [
    {
     "data": {
      "text/plain": [
       "dict_keys(['남성헌', '고상현', '윤승현'])"
      ]
     },
     "execution_count": 273,
     "metadata": {},
     "output_type": "execute_result"
    }
   ],
   "source": [
    "a.keys()"
   ]
  },
  {
   "cell_type": "code",
   "execution_count": 274,
   "id": "a1cde247-ec1d-4dbb-b328-a22323f0887f",
   "metadata": {},
   "outputs": [
    {
     "data": {
      "text/plain": [
       "dict_values([1, 2, 3])"
      ]
     },
     "execution_count": 274,
     "metadata": {},
     "output_type": "execute_result"
    }
   ],
   "source": [
    "a.values()"
   ]
  },
  {
   "cell_type": "code",
   "execution_count": 265,
   "id": "a3ba5ae0-3504-4daa-b368-786266a99587",
   "metadata": {},
   "outputs": [
    {
     "data": {
      "text/plain": [
       "['고상현']"
      ]
     },
     "execution_count": 265,
     "metadata": {},
     "output_type": "execute_result"
    }
   ],
   "source": [
    "[key for key, val in a.items() if val == 2]"
   ]
  },
  {
   "cell_type": "code",
   "execution_count": 266,
   "id": "325f1ad5-8b16-4442-b0b7-9d9f9a38b102",
   "metadata": {},
   "outputs": [
    {
     "data": {
      "text/plain": [
       "'고상현'"
      ]
     },
     "execution_count": 266,
     "metadata": {},
     "output_type": "execute_result"
    }
   ],
   "source": [
    "[key for key, val in a.items() if val == 2][0]"
   ]
  },
  {
   "cell_type": "code",
   "execution_count": 268,
   "id": "b5e4d98f-57e4-4804-a217-fe4d33b90b17",
   "metadata": {},
   "outputs": [
    {
     "name": "stdout",
     "output_type": "stream",
     "text": [
      "고상현\n"
     ]
    }
   ],
   "source": [
    "for key, val in a.items() :\n",
    "    if val == 2 :\n",
    "        print(key)"
   ]
  },
  {
   "cell_type": "code",
   "execution_count": 262,
   "id": "519256bc-de7b-4816-a558-357d6b1e400f",
   "metadata": {},
   "outputs": [
    {
     "data": {
      "text/plain": [
       "'고상현'"
      ]
     },
     "execution_count": 262,
     "metadata": {},
     "output_type": "execute_result"
    }
   ],
   "source": [
    "# List Comprehension을 사용해서 name_id에서 val가 2인 key를 출력하시오.\n",
    "[key for key, val in a.items() if val == 2]\n",
    "[key for key, val in a.items() if val == 2][0]"
   ]
  },
  {
   "cell_type": "markdown",
   "id": "dee787c0-b0af-4543-8978-c659735ea660",
   "metadata": {},
   "source": [
    "---"
   ]
  },
  {
   "cell_type": "code",
   "execution_count": null,
   "id": "39d2f2a8-cf42-4012-a624-eeb1e1b1102a",
   "metadata": {},
   "outputs": [],
   "source": [
    "{Key:Value for 요소 in 입력Sequence [if 조건식]}"
   ]
  },
  {
   "cell_type": "code",
   "execution_count": null,
   "id": "536d2a07-bc23-4d8d-8cd2-32309f7f5bff",
   "metadata": {},
   "outputs": [],
   "source": [
    "# Quiz\n",
    "[Quiz] Comprehension을 이용하여 1부터 10까지 홀수를 key로 하고, value를 key의 제곱으로 하는 Dict 만들기"
   ]
  },
  {
   "cell_type": "code",
   "execution_count": 276,
   "id": "66fa3718-d333-4538-b5ce-e3a06e6b0f69",
   "metadata": {},
   "outputs": [],
   "source": [
    "a = [1, 2, 3, 4, 5, 6, 7, 8, 9, 10]"
   ]
  },
  {
   "cell_type": "code",
   "execution_count": 277,
   "id": "b221d56c-c09b-4785-9efe-5ae92c822b71",
   "metadata": {},
   "outputs": [],
   "source": [
    "b = {1:1*1, 2:2*2, 3:3*3, 4:4*4, 5:5*5, 6:6*6, 7:7*7, 8:8*8, 9:9*9, 10:10*10}"
   ]
  },
  {
   "cell_type": "code",
   "execution_count": 278,
   "id": "dd35073b-75f9-4c22-8137-97c28510ce2e",
   "metadata": {},
   "outputs": [
    {
     "name": "stdout",
     "output_type": "stream",
     "text": [
      "1\n",
      "1\n",
      "3\n",
      "9\n",
      "5\n",
      "25\n",
      "7\n",
      "49\n",
      "9\n",
      "81\n"
     ]
    }
   ],
   "source": [
    "for i in a :\n",
    "    if i % 2 != 0 :\n",
    "        print(i)\n",
    "        print(i * i)"
   ]
  },
  {
   "cell_type": "code",
   "execution_count": 279,
   "id": "0b26df0c-8c89-4c9a-86b9-97c1b2ab2fe7",
   "metadata": {},
   "outputs": [
    {
     "data": {
      "text/plain": [
       "{1: 1, 3: 9, 5: 25, 7: 49, 9: 81}"
      ]
     },
     "execution_count": 279,
     "metadata": {},
     "output_type": "execute_result"
    }
   ],
   "source": [
    "{i : i * i for i in a  if i % 2 != 0}"
   ]
  },
  {
   "cell_type": "markdown",
   "id": "c761c69b-a240-4cf9-b52d-8eb45dbd9298",
   "metadata": {},
   "source": [
    "---"
   ]
  },
  {
   "cell_type": "markdown",
   "id": "cc2bbec0-2d7a-4584-b00c-f77bd6fa7b82",
   "metadata": {
    "tags": []
   },
   "source": [
    "# Partial\n",
    "## 매개 변수가 1개인 함수에 여러 매개변수를 전달해야 할 때 많이 사용"
   ]
  },
  {
   "cell_type": "code",
   "execution_count": 280,
   "id": "7758e74c-1c5c-4e2c-8ccd-77cbf4e489e3",
   "metadata": {},
   "outputs": [],
   "source": [
    "def double(x) :\n",
    "    return x ** 2\n",
    "\n",
    "def triple(x) :\n",
    "    return x ** 3"
   ]
  },
  {
   "cell_type": "code",
   "execution_count": 281,
   "id": "05a72366-97af-4be1-a895-c0283483c377",
   "metadata": {},
   "outputs": [
    {
     "name": "stdout",
     "output_type": "stream",
     "text": [
      "4\n",
      "8\n"
     ]
    }
   ],
   "source": [
    "print(double(2))\n",
    "print(triple(2))"
   ]
  },
  {
   "cell_type": "code",
   "execution_count": 282,
   "id": "5245244d-93a2-4b21-aa7e-4e085dfd6ee0",
   "metadata": {},
   "outputs": [],
   "source": [
    "def multiple(x, y) :\n",
    "    return x ** y"
   ]
  },
  {
   "cell_type": "code",
   "execution_count": 283,
   "id": "e3e29ad0-31bb-4804-b1cc-f3bda3188279",
   "metadata": {},
   "outputs": [
    {
     "data": {
      "text/plain": [
       "4"
      ]
     },
     "execution_count": 283,
     "metadata": {},
     "output_type": "execute_result"
    }
   ],
   "source": [
    "multiple(2, 2)"
   ]
  },
  {
   "cell_type": "code",
   "execution_count": 284,
   "id": "e42cd931-bb65-44b5-bef8-2327f904abbf",
   "metadata": {},
   "outputs": [
    {
     "data": {
      "text/plain": [
       "8"
      ]
     },
     "execution_count": 284,
     "metadata": {},
     "output_type": "execute_result"
    }
   ],
   "source": [
    "multiple(2, 3)"
   ]
  },
  {
   "cell_type": "code",
   "execution_count": 285,
   "id": "c5ed96d4-384b-437a-9642-a29d4a9b95fc",
   "metadata": {},
   "outputs": [],
   "source": [
    "from functools import partial"
   ]
  },
  {
   "cell_type": "code",
   "execution_count": 286,
   "id": "eb3fdcd1-e6fc-45f1-82e1-ef7570463c6e",
   "metadata": {},
   "outputs": [],
   "source": [
    "dbl = partial(multiple, y = 2)\n",
    "tpl = partial(multiple, y = 3)"
   ]
  },
  {
   "cell_type": "code",
   "execution_count": 287,
   "id": "be40a6a5-a975-441c-9b2f-4aa8da57a917",
   "metadata": {},
   "outputs": [
    {
     "data": {
      "text/plain": [
       "4"
      ]
     },
     "execution_count": 287,
     "metadata": {},
     "output_type": "execute_result"
    }
   ],
   "source": [
    "dbl(2)"
   ]
  },
  {
   "cell_type": "code",
   "execution_count": 288,
   "id": "de431e60-c130-479c-9382-339b805cc7d5",
   "metadata": {},
   "outputs": [
    {
     "data": {
      "text/plain": [
       "27"
      ]
     },
     "execution_count": 288,
     "metadata": {},
     "output_type": "execute_result"
    }
   ],
   "source": [
    "tpl(3)"
   ]
  },
  {
   "cell_type": "code",
   "execution_count": 289,
   "id": "c81310ef-27f3-4997-b3cd-09c1971547a0",
   "metadata": {},
   "outputs": [],
   "source": [
    "def multiple(x, y, z) :\n",
    "    return x ** y ** z"
   ]
  },
  {
   "cell_type": "code",
   "execution_count": 290,
   "id": "b2e7e04b-144c-4f23-8da2-1179d45310ab",
   "metadata": {},
   "outputs": [],
   "source": [
    "dbl = partial(multiple, y = 2, z = 2)\n",
    "tpl = partial(multiple, y = 3, z = 3)"
   ]
  },
  {
   "cell_type": "code",
   "execution_count": 291,
   "id": "37b8d22e-56d9-481f-a7a1-148369029490",
   "metadata": {},
   "outputs": [
    {
     "data": {
      "text/plain": [
       "16"
      ]
     },
     "execution_count": 291,
     "metadata": {},
     "output_type": "execute_result"
    }
   ],
   "source": [
    "dbl(2)"
   ]
  },
  {
   "cell_type": "code",
   "execution_count": 292,
   "id": "48ed3510-d616-4717-923a-c01155817808",
   "metadata": {},
   "outputs": [
    {
     "data": {
      "text/plain": [
       "7625597484987"
      ]
     },
     "execution_count": 292,
     "metadata": {},
     "output_type": "execute_result"
    }
   ],
   "source": [
    "tpl(3)"
   ]
  },
  {
   "cell_type": "code",
   "execution_count": null,
   "id": "98fa2961-a314-4010-96fb-473b3b9d0b46",
   "metadata": {},
   "outputs": [],
   "source": []
  }
 ],
 "metadata": {
  "kernelspec": {
   "display_name": "Python 3 (ipykernel)",
   "language": "python",
   "name": "python3"
  },
  "language_info": {
   "codemirror_mode": {
    "name": "ipython",
    "version": 3
   },
   "file_extension": ".py",
   "mimetype": "text/x-python",
   "name": "python",
   "nbconvert_exporter": "python",
   "pygments_lexer": "ipython3",
   "version": "3.9.12"
  }
 },
 "nbformat": 4,
 "nbformat_minor": 5
}
