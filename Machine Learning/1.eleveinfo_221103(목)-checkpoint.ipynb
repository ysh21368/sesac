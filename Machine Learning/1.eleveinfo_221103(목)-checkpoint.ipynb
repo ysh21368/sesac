{
 "cells": [
  {
   "cell_type": "markdown",
   "id": "e8944240-67e7-4c01-8e7d-0b349448f1e2",
   "metadata": {},
   "source": [
    "11/07(월) 시험 -> 데이터 모델링 수업 진행 예정"
   ]
  },
  {
   "cell_type": "code",
   "execution_count": null,
   "id": "3c0e1e19-2d87-4afa-b99d-9014e438468a",
   "metadata": {},
   "outputs": [],
   "source": [
    "## 주소1, 주소2, 건물명, 승강기번호, \n",
    "# 승강기상태, 최종검사일, 적재하중, 제조업체전화번호\n",
    "\n",
    "# 데이터 전체 200개 불러오기"
   ]
  },
  {
   "cell_type": "code",
   "execution_count": 1,
   "id": "f1fb5aea-b86f-4b54-a542-8b54f55c5cdc",
   "metadata": {},
   "outputs": [],
   "source": [
    "import requests\n",
    "from bs4 import BeautifulSoup\n",
    "import pandas as pd"
   ]
  },
  {
   "cell_type": "code",
   "execution_count": 2,
   "id": "a4dda969-34f2-4737-ae13-f5966f284207",
   "metadata": {},
   "outputs": [],
   "source": [
    "url = ('http://apis.data.go.kr/openapi/service/ElevatorInformationService/getElevatorList?serviceKey=BAc5c%2B7CgdSM2dp9F0gq%2FN7FR4TwTghq%2BzHtk7BmmX%2B588SuKYRFAW77xC6eaS6kpEZgWxZnz9a1TSk%2FO%2F6gUg%3D%3D&numOfRows=10&pageNo=1&sido=%EC%84%9C%EC%9A%B8%ED%8A%B9%EB%B3%84%EC%8B%9C&sigungu=%EC%9D%80%ED%8F%89%EA%B5%AC')"
   ]
  },
  {
   "cell_type": "code",
   "execution_count": 3,
   "id": "c44c8539-ab71-4d90-9d13-3ee7521cdb8b",
   "metadata": {},
   "outputs": [],
   "source": [
    "req = requests.get(url)"
   ]
  },
  {
   "cell_type": "code",
   "execution_count": 4,
   "id": "bb993ece-d5b1-46f7-be75-834a1217309d",
   "metadata": {},
   "outputs": [],
   "source": [
    "soup = BeautifulSoup(req.text, 'xml')"
   ]
  },
  {
   "cell_type": "code",
   "execution_count": null,
   "id": "43c41173-8de7-4358-8582-f214f656a1ce",
   "metadata": {
    "tags": []
   },
   "outputs": [],
   "source": [
    "soup"
   ]
  },
  {
   "cell_type": "code",
   "execution_count": null,
   "id": "c01e83a6-9c0e-4f57-b3a6-22cc73775ecd",
   "metadata": {},
   "outputs": [],
   "source": [
    "address1 = soup.select('address1')\n",
    "address2 = soup.select('address2')\n",
    "buldNm = soup.select('buldNm')\n",
    "elevatorNo = soup.select('elevatorNo')\n",
    "elvtrStts = soup.select('elvtrStts')\n",
    "lastInspctDe = soup.select('lastInspctDe')\n",
    "liveLoad = soup.select('liveLoad')\n",
    "a = soup.select('manufacturerTelno')"
   ]
  },
  {
   "cell_type": "code",
   "execution_count": null,
   "id": "24db1343-c12e-434a-aa20-43f249764bb9",
   "metadata": {},
   "outputs": [],
   "source": [
    "add1"
   ]
  },
  {
   "cell_type": "markdown",
   "id": "882c63a5-10d7-43d0-949f-79450c19cd81",
   "metadata": {},
   "source": [
    "data = []\n",
    "for i in range(len(address1)) :\n",
    "    temp = []\n",
    "    add1 = soup.select('address1')\n",
    "    add2 = soup.select('address2')\n",
    "    building_name = soup.select('buldNm')\n",
    "    ele_num = soup.select('elevatorNo')\n",
    "    ele_state = soup.select('elvtrStts')\n",
    "    final_inspect = soup.select('lastInspctDe')\n",
    "    live_load = soup.select('liveLoad')\n",
    "    company_num = soup.select('manufacturerTelno')"
   ]
  },
  {
   "cell_type": "code",
   "execution_count": null,
   "id": "21eaf1a8-9bcc-49b8-a90d-ec6e6498ca9b",
   "metadata": {},
   "outputs": [],
   "source": [
    "data = []\n",
    "for i in range(9) :\n",
    "    temp = []\n",
    "    temp.append(address1[i].text)\n",
    "    temp.append(address2[i].text)\n",
    "    temp.append(buldNm[i].text)\n",
    "    temp.append(elevatorNo[i].text)\n",
    "    temp.append(elvtrStts[i].text)\n",
    "    temp.append(lastInspctDe[i].text)\n",
    "    temp.append(liveLoad[i].text)\n",
    "    temp.append(a[i].text)\n",
    "    data.append(temp)\n",
    "\n"
   ]
  },
  {
   "cell_type": "code",
   "execution_count": null,
   "id": "771d2ac1-6398-4d5c-8662-d70a7e2d2176",
   "metadata": {
    "tags": []
   },
   "outputs": [],
   "source": [
    "data"
   ]
  },
  {
   "cell_type": "code",
   "execution_count": null,
   "id": "e0e8fcda-93cd-4dcb-a15b-b50b97c2ab25",
   "metadata": {},
   "outputs": [],
   "source": [
    "from tqdm import tqdm #for문을 얼마나 진행했는지 확인 가능"
   ]
  },
  {
   "cell_type": "code",
   "execution_count": null,
   "id": "7c40319b-f482-47f7-acf1-00964b3c80a1",
   "metadata": {},
   "outputs": [],
   "source": [
    "data = []\n",
    "col_names = []\n",
    "for m in tqdm(range(6, 11)) :\n",
    "    url = 'http://apis.data.go.kr/openapi/service/ElevatorInformationService/getElevatorList'\n",
    "    serviceKey='BAc5c%2B7CgdSM2dp9F0gq%2FN7FR4TwTghq%2BzHtk7BmmX%2B588SuKYRFAW77xC6eaS6kpEZgWxZnz9a1TSk%2FO%2F6gUg%3D%3D'\n",
    "    numOfRows='10'\n",
    "    pageNo='1'\n",
    "    sido='%EC%84%9C%EC%9A%B8%ED%8A%B9%EB%B3%84%EC%8B%9C'\n",
    "    sigungu='%EC%9D%80%ED%8F%89%EA%B5%AC'    \n",
    "    \n",
    "    api_url = url + '?' + 'serviceKey=' + serviceKey + '&numOfRows=' + numOfRows \\\n",
    "    + '&pageNo=' + pageNo + '&sido=' + sido + '&sigungu=' + sigungu\n",
    "\n",
    "    req = requests.get(api_url)\n",
    "    soup = BeautifulSoup(req.text, 'xml')"
   ]
  },
  {
   "cell_type": "code",
   "execution_count": null,
   "id": "ec4014a0-2267-4a2d-86e7-5b194d3cf250",
   "metadata": {},
   "outputs": [],
   "source": [
    "df = pd.DataFrame(data, columns = col_names)"
   ]
  },
  {
   "cell_type": "code",
   "execution_count": null,
   "id": "de17d59e-a597-4fea-8708-73ff04f4aa6c",
   "metadata": {},
   "outputs": [],
   "source": [
    "df"
   ]
  },
  {
   "cell_type": "code",
   "execution_count": null,
   "id": "876c127b-83aa-4a03-af10-570e58de16cf",
   "metadata": {},
   "outputs": [],
   "source": []
  },
  {
   "cell_type": "code",
   "execution_count": null,
   "id": "28e676ee-bedf-49bc-a0d2-243c7baa41e2",
   "metadata": {},
   "outputs": [],
   "source": []
  },
  {
   "cell_type": "code",
   "execution_count": null,
   "id": "7cbf1b55-942f-4b94-be5e-91c406e0a332",
   "metadata": {},
   "outputs": [],
   "source": [
    "url = 'http://apis.data.go.kr/openapi/service/ElevatorInformationService/getElevatorList'\n",
    "    \n",
    "serviceKey='BAc5c%2B7CgdSM2dp9F0gq%2FN7FR4TwTghq%2BzHtk7BmmX%2B588SuKYRFAW77xC6eaS6kpEZgWxZnz9a1TSk%2FO%2F6gUg%3D%3D'\n",
    "numOfRows='10'\n",
    "pageNo='1'\n",
    "sido='%EC%84%9C%EC%9A%B8%ED%8A%B9%EB%B3%84%EC%8B%9C'\n",
    "sigungu='%EC%9D%80%ED%8F%89%EA%B5%AC'    \n",
    "    \n",
    "api_url = url + '?' + 'serviceKey=' + serviceKey + '&numOfRows=' + numOfRows \\\n",
    "+ '&pageNo=' + pageNo + '&sido=' + sido + '&sigungu=' + sigungu"
   ]
  },
  {
   "cell_type": "code",
   "execution_count": null,
   "id": "fefe37de-2eef-47e5-8714-26bafdcc0e31",
   "metadata": {},
   "outputs": [],
   "source": [
    "api_url"
   ]
  },
  {
   "cell_type": "code",
   "execution_count": null,
   "id": "10330ead-a690-414c-b2a2-06662243d97e",
   "metadata": {},
   "outputs": [],
   "source": []
  },
  {
   "cell_type": "code",
   "execution_count": null,
   "id": "915d546a-bf43-4767-9aa8-05d5b29f3960",
   "metadata": {},
   "outputs": [],
   "source": []
  },
  {
   "cell_type": "code",
   "execution_count": null,
   "id": "2808bc49-61b9-4ec2-904c-592734279ba3",
   "metadata": {},
   "outputs": [],
   "source": [
    "data = []\n",
    "col_names = []\n",
    "for m in tqdm(range(6, 11)) :\n",
    "    url = 'http://apis.data.go.kr/openapi/service/ElevatorInformationService/getElevatorList\n",
    "    serviceKey='BAc5c%2B7CgdSM2dp9F0gq%2FN7FR4TwTghq%2BzHtk7BmmX%2B588SuKYRFAW77xC6eaS6kpEZgWxZnz9a1TSk%2FO%2F6gUg%3D%3D'\n",
    "    numOfRows='10'\n",
    "    pageNo='1'\n",
    "    sido='%EC%84%9C%EC%9A%B8%ED%8A%B9%EB%B3%84%EC%8B%9C'\n",
    "    sigungu='%EC%9D%80%ED%8F%89%EA%B5%AC'    \n",
    "    \n",
    "    api_url = url + '?' + 'serviceKey=' + serviceKey + '&numOfRows=' + numOfRows \\\n",
    "    + '&pageNo=' + pageNo + '&sido=' + sido + '&sigungu=' + sigungu\n",
    "\n",
    "    req = requests.get(api_url)\n",
    "    soup = BeautifulSoup(req.text, 'xml')\n",
    "    \n",
    "    if not col_names :\n",
    "        for item in soup.items()[0] :\n",
    "            col_names.append(item.name)\n",
    "    \n",
    "    for item in soup.items :\n",
    "        temp = []\n",
    "        for t in item :\n",
    "            temp.append(t.text.strip())\n",
    "        data.append(temp)"
   ]
  },
  {
   "cell_type": "code",
   "execution_count": null,
   "id": "42ac9e9a-ce4e-4433-8725-df2dc2f5d3a9",
   "metadata": {},
   "outputs": [],
   "source": [
    "#강사님 코드"
   ]
  },
  {
   "cell_type": "code",
   "execution_count": null,
   "id": "8b3ed12d-40f7-4d97-ac53-8f6cf05458fd",
   "metadata": {},
   "outputs": [],
   "source": [
    "import requests\n",
    "from bs4 import BeautifulSoup\n",
    "import pandas as pd\n",
    "\n",
    "import warnings\n",
    "warnings.filterwarnings('ignore')"
   ]
  },
  {
   "cell_type": "code",
   "execution_count": null,
   "id": "ea1e5e6d-6c54-429f-9f08-fa10d2dc89c9",
   "metadata": {},
   "outputs": [],
   "source": [
    "url = 'http://apis.data.go.kr/openapi/service/ElevatorInformationService/getElevatorList'\n",
    "serviceKey = 'BAc5c+7CgdSM2dp9F0gq/N7FR4TwTghq+zHtk7BmmX+588SuKYRFAW77xC6eaS6kpEZgWxZnz9a1TSk/O/6gUg=='\n",
    "numOfRows = '20'\n",
    "pageNo = '1'\n",
    "sido= '서울특별시' #'%EC%84%9C%EC%9A%B8%ED%8A%B9%EB%B3%84%EC%8B%9C'\n",
    "sigungu= '은평구' #'%EC%9D%80%ED%8F%89%EA%B5%AC'  "
   ]
  },
  {
   "cell_type": "code",
   "execution_count": null,
   "id": "d78611b1-e0a2-460b-9687-2c10e0a02299",
   "metadata": {},
   "outputs": [],
   "source": [
    "params = {'serviceKey': serviceKey, 'numOfRows': numOfRows, 'pageNo': pageNo, 'sido': sido, 'sigungu': sigungu}"
   ]
  },
  {
   "cell_type": "code",
   "execution_count": null,
   "id": "3a3af173-b101-4463-95c5-1efda0f10d35",
   "metadata": {},
   "outputs": [],
   "source": [
    "req = requests.get(url, params = params, verify = False)"
   ]
  },
  {
   "cell_type": "code",
   "execution_count": null,
   "id": "22e15401-c6a6-471e-88c7-9bb16be7b69d",
   "metadata": {},
   "outputs": [],
   "source": [
    "soup = BeautifulSoup(req.text, 'lxml')"
   ]
  },
  {
   "cell_type": "code",
   "execution_count": null,
   "id": "0a61b256-44fb-4c02-8464-2e71afa6cc00",
   "metadata": {},
   "outputs": [],
   "source": [
    "col_list = ['address1', 'address2','buldNm', 'elevatorNo', 'elvtrStts', 'lastInspctDe', 'liveLoad', 'manufacturerTelno']"
   ]
  },
  {
   "cell_type": "code",
   "execution_count": null,
   "id": "fd920d43-0719-42c7-9156-6186a681a942",
   "metadata": {},
   "outputs": [],
   "source": [
    "data = []\n",
    "for col in col_list :\n",
    "    temp = []\n",
    "    for d in soup.select(col) :\n",
    "        temp.append(d.text)\n",
    "    data.append(temp)"
   ]
  },
  {
   "cell_type": "code",
   "execution_count": null,
   "id": "e34cc9ac-5cf8-4ea4-bdd9-78e166329862",
   "metadata": {},
   "outputs": [],
   "source": [
    "import numpy as np"
   ]
  },
  {
   "cell_type": "code",
   "execution_count": null,
   "id": "4875c269-07ee-4414-a3d1-c077a62cc50f",
   "metadata": {},
   "outputs": [],
   "source": [
    "df = pd.DataFrame(data).T"
   ]
  },
  {
   "cell_type": "code",
   "execution_count": null,
   "id": "3cf8d7d5-5ead-44a0-aa21-f4ec9d41292a",
   "metadata": {},
   "outputs": [],
   "source": [
    "df.columns = col_list"
   ]
  },
  {
   "cell_type": "code",
   "execution_count": null,
   "id": "b181befe-acb2-4e12-88bd-f27d1c4b2dc6",
   "metadata": {
    "tags": []
   },
   "outputs": [],
   "source": [
    "df"
   ]
  },
  {
   "cell_type": "code",
   "execution_count": null,
   "id": "4f68867d-9f29-429e-9946-3f2156db4740",
   "metadata": {},
   "outputs": [],
   "source": [
    "for col in col_list :\n",
    "    print(col, len(soup.select(col)))"
   ]
  },
  {
   "cell_type": "code",
   "execution_count": null,
   "id": "cbf057f1-8fe3-458f-837b-c7bba7e8419f",
   "metadata": {},
   "outputs": [],
   "source": [
    "# 위 데이터 프레임은 19번째 인덱스에서의 'manufacturerTelno'가 None이 되어 데이터 값이 날라감. 그래서 망한 데이터 프레임임."
   ]
  },
  {
   "cell_type": "code",
   "execution_count": null,
   "id": "4730e768-5a1d-44b9-9fc3-9798f1de525c",
   "metadata": {},
   "outputs": [],
   "source": [
    "# 망한 데이터 프레임을 다시 살리는 방법"
   ]
  },
  {
   "cell_type": "code",
   "execution_count": null,
   "id": "25f6a41d-1ef3-44ab-9a35-954c108e2e33",
   "metadata": {
    "tags": []
   },
   "outputs": [],
   "source": [
    "for item in soup.items :\n",
    "    print(item)\n",
    "    print('------')"
   ]
  },
  {
   "cell_type": "code",
   "execution_count": null,
   "id": "24fbe62e-ad1f-48b7-9f24-3ed9fab6bf08",
   "metadata": {},
   "outputs": [],
   "source": [
    "soup.item.select('address1')"
   ]
  },
  {
   "cell_type": "code",
   "execution_count": null,
   "id": "463e8ed8-839f-43cc-8ef7-6f9e327d244c",
   "metadata": {},
   "outputs": [],
   "source": [
    "#방법2"
   ]
  },
  {
   "cell_type": "code",
   "execution_count": null,
   "id": "e1420740-f3f2-415a-9b12-eff70daa94dd",
   "metadata": {},
   "outputs": [],
   "source": [
    "col_list = ['address1', 'address2','buldNm', 'elevatorNo', 'elvtrStts', 'lastInspctDe', 'liveLoad', 'manufacturerTelno']"
   ]
  },
  {
   "cell_type": "code",
   "execution_count": null,
   "id": "76d35e36-75f7-4c8d-9e9f-ad86f86fb52b",
   "metadata": {},
   "outputs": [],
   "source": [
    "col_list = ['address1', 'address2','buldNm', 'elevatorNo', 'elvtrStts', 'lastInspctDe', 'liveLoad', 'manufacturerTelno']\n",
    "data = []\n",
    "for item in soup.items :\n",
    "    temp = []\n",
    "    for col in col_list :\n",
    "        try :\n",
    "            temp.append(item.select(col)[0].text)\n",
    "        except :\n",
    "            temp.append('')\n",
    "    data.append(temp)"
   ]
  },
  {
   "cell_type": "code",
   "execution_count": null,
   "id": "b6001ed9-bc39-4900-9909-17cc9884bd7f",
   "metadata": {},
   "outputs": [],
   "source": [
    "df = pd.DataFrame(data, columns = col_list)"
   ]
  },
  {
   "cell_type": "code",
   "execution_count": null,
   "id": "6d8e6e56-8dae-4d14-9214-7fc96d295e71",
   "metadata": {},
   "outputs": [],
   "source": [
    "df"
   ]
  },
  {
   "cell_type": "code",
   "execution_count": null,
   "id": "4c48ebde-871e-4a4e-a908-608c4613bbe9",
   "metadata": {},
   "outputs": [],
   "source": [
    "#'예외처리' 하는 방법: try / except"
   ]
  },
  {
   "cell_type": "code",
   "execution_count": null,
   "id": "8562ca44-bbe8-4505-a64c-8dc8b00b3301",
   "metadata": {},
   "outputs": [],
   "source": [
    "a = 1\n",
    "b = '2'\n",
    "try :\n",
    "    print('try 시작')\n",
    "    c = a + b\n",
    "    print('try 끝')\n",
    "except :\n",
    "    print('except 시작')\n",
    "    c = a + int(b)\n",
    "print(c)"
   ]
  },
  {
   "cell_type": "code",
   "execution_count": null,
   "id": "8a23b389-4d8d-4ea6-ad6e-ce38b6a6efc0",
   "metadata": {},
   "outputs": [],
   "source": [
    "a = 1\n",
    "b = 2\n",
    "try :\n",
    "    print('try 시작')\n",
    "    c = a + b\n",
    "    print('try 끝')\n",
    "except :\n",
    "    print('except 시작')\n",
    "    c = a + int(b)\n",
    "print(c)"
   ]
  },
  {
   "cell_type": "code",
   "execution_count": null,
   "id": "facdd856-1323-46db-af32-3be51453c0bd",
   "metadata": {},
   "outputs": [],
   "source": [
    "b = input()"
   ]
  },
  {
   "cell_type": "code",
   "execution_count": null,
   "id": "f56843b4-495c-4c54-881c-b2380b97c6f4",
   "metadata": {},
   "outputs": [],
   "source": [
    "a = 1\n",
    "try :\n",
    "    c = a + int()\n",
    "    "
   ]
  },
  {
   "cell_type": "code",
   "execution_count": null,
   "id": "ce8da3ef-9183-41ee-a51d-5963d5a10f4c",
   "metadata": {},
   "outputs": [],
   "source": []
  },
  {
   "cell_type": "code",
   "execution_count": null,
   "id": "df49f0fb-230d-4d41-8d21-6b8b26adaee7",
   "metadata": {},
   "outputs": [],
   "source": []
  },
  {
   "cell_type": "code",
   "execution_count": null,
   "id": "9a5470bc-4869-4dfc-8bcf-433f7a636ee1",
   "metadata": {},
   "outputs": [],
   "source": []
  },
  {
   "cell_type": "code",
   "execution_count": null,
   "id": "f22ba157-d0d2-4907-af70-91c36aa17e37",
   "metadata": {},
   "outputs": [],
   "source": []
  },
  {
   "cell_type": "code",
   "execution_count": null,
   "id": "ba268883-9616-491e-8f99-a3d9adf8171b",
   "metadata": {},
   "outputs": [],
   "source": []
  },
  {
   "cell_type": "code",
   "execution_count": null,
   "id": "b29d6535-5234-4bb7-b491-ff88c41687dc",
   "metadata": {},
   "outputs": [],
   "source": [
    "#방법1"
   ]
  },
  {
   "cell_type": "code",
   "execution_count": null,
   "id": "6e913dd0-3c79-47d0-9b50-25c1924b5fc5",
   "metadata": {},
   "outputs": [],
   "source": [
    "data = []\n",
    "for item in soup.items :\n",
    "    temp = []\n",
    "    for v in item :\n",
    "        temp.append(v.text.strip())\n",
    "    data.append(temp)"
   ]
  },
  {
   "cell_type": "code",
   "execution_count": null,
   "id": "08b50124-4f47-4360-88f6-6ba26c8f3fbf",
   "metadata": {},
   "outputs": [],
   "source": [
    "col_list = []\n",
    "for i in soup.item :\n",
    "    col_list.append(i.name)"
   ]
  },
  {
   "cell_type": "code",
   "execution_count": null,
   "id": "f20ea644-ee29-40f7-af13-8565321f5cb1",
   "metadata": {
    "tags": []
   },
   "outputs": [],
   "source": [
    "df = pd.DataFrame(data, columns = col_list)"
   ]
  },
  {
   "cell_type": "code",
   "execution_count": null,
   "id": "0b925d4d-f0e8-4c09-aa92-e2b4766c3126",
   "metadata": {
    "tags": []
   },
   "outputs": [],
   "source": [
    "df.iloc[9]"
   ]
  },
  {
   "cell_type": "code",
   "execution_count": null,
   "id": "a9492ad5-a5c0-49f6-929b-e1d15b939327",
   "metadata": {},
   "outputs": [],
   "source": []
  },
  {
   "cell_type": "code",
   "execution_count": null,
   "id": "1d909039-9ce8-47be-a82a-319083ba4d7c",
   "metadata": {},
   "outputs": [],
   "source": []
  },
  {
   "cell_type": "code",
   "execution_count": null,
   "id": "4ed0d41a-b4f5-4dc0-b9fd-4cfeffe216fa",
   "metadata": {},
   "outputs": [],
   "source": []
  },
  {
   "cell_type": "code",
   "execution_count": null,
   "id": "d6e4804a-fee1-4594-a8ec-f5f7bc4e6563",
   "metadata": {},
   "outputs": [],
   "source": [
    "url = 'http://apis.data.go.kr/openapi/service/ElevatorInformationService/getElevatorList'\n",
    "serviceKey = '0kYXnKBN3P1BPz+PbMj53+Xf9Lasd9mZvYohzWDq+10Tagyqazw0pf62r0VMYgKLZZednlK4k5uPA6V49OvEcw=='\n",
    "numOfRows = '10'\n",
    "pageNo = '2'\n",
    "sido = '서울특별시'\n",
    "sigungu = '은평구'\n",
    "\n",
    "params = {'serviceKey' : serviceKey, 'numOfRows' : numOfRows, 'pageNo' : pageNo, 'sido':sido, 'sigungu':sigungu }\n",
    "req = requests.get(url, params=params,verify=False)\n",
    "soup = BeautifulSoup(req.text,'lxml')\n",
    "col_list = ['address1', 'address2', 'buldNm', 'elevatorNo', 'elvtrStts','lastInspctDe', 'liveLoad', 'manufacturerName', 'manufacturerTelno']\n",
    "data = []\n",
    "\n",
    "for item in soup.items :\n",
    "    temp = []\n",
    "    for col in col_list :\n",
    "        try :\n",
    "            temp.append(item.select(col)[0].text)\n",
    "        except :\n",
    "            temp.append('')\n",
    "    data.append(temp)"
   ]
  },
  {
   "cell_type": "code",
   "execution_count": null,
   "id": "03586011-4b9d-4d05-b0aa-a0087592a1b6",
   "metadata": {},
   "outputs": [],
   "source": [
    "## 주소1, 주소2, 건물명, 승강기번호, \n",
    "# 승강기상태, 최종검사일, 적재하중, 제조업체전화번호\n",
    "\n",
    "# 데이터 전체 200개 불러오기"
   ]
  },
  {
   "cell_type": "code",
   "execution_count": null,
   "id": "320e7d94-5df2-468f-bd3a-de78b30cd543",
   "metadata": {},
   "outputs": [],
   "source": [
    "data = []\n",
    "for page in range(1, 3): \n",
    "    url = 'http://apis.data.go.kr/openapi/service/ElevatorInformationService/getElevatorList'\n",
    "    serviceKey = '0kYXnKBN3P1BPz+PbMj53+Xf9Lasd9mZvYohzWDq+10Tagyqazw0pf62r0VMYgKLZZednlK4k5uPA6V49OvEcw=='\n",
    "    numOfRows = '100'\n",
    "    pageNo = page\n",
    "    sido = '서울특별시'\n",
    "    sigungu = '은평구'\n",
    "\n",
    "    params = {'serviceKey' : serviceKey, 'numOfRows' : numOfRows, 'pageNo' : pageNo, 'sido':sido, 'sigungu':sigungu }\n",
    "    req = requests.get(url, params=params,verify=False)\n",
    "    soup = BeautifulSoup(req.text,'lxml')\n",
    "    col_list = ['address1', 'address2', 'buldNm', 'elevatorNo', 'elvtrStts','lastInspctDe', 'liveLoad', 'manufacturerTelno']\n",
    "    \n",
    "    for item in soup.items :\n",
    "        temp = []\n",
    "        for col in col_list :\n",
    "            try :\n",
    "                temp.append(item.select(col)[0].text)\n",
    "            except :\n",
    "                temp.append('')\n",
    "        data.append(temp)"
   ]
  },
  {
   "cell_type": "code",
   "execution_count": null,
   "id": "433e1b47-8e20-4895-97f3-f3bc038f3e5a",
   "metadata": {},
   "outputs": [],
   "source": [
    "df = pd.DataFrame(data, columns = col_list)"
   ]
  },
  {
   "cell_type": "code",
   "execution_count": null,
   "id": "fbf46bf1-b319-44b9-a3fb-7956798dfa44",
   "metadata": {},
   "outputs": [],
   "source": [
    "df.shape"
   ]
  },
  {
   "cell_type": "code",
   "execution_count": null,
   "id": "342472f3-f539-491a-9be1-09b853c06feb",
   "metadata": {},
   "outputs": [],
   "source": [
    "df.to_csv('elevInfo.csv', index = False, encoding='euc-kr')"
   ]
  },
  {
   "cell_type": "code",
   "execution_count": null,
   "id": "984f26bb-5960-4b16-83c0-92917991d69e",
   "metadata": {},
   "outputs": [],
   "source": [
    "df"
   ]
  },
  {
   "cell_type": "code",
   "execution_count": null,
   "id": "c1d13be5-1128-43b5-9106-8a450450f9cb",
   "metadata": {},
   "outputs": [],
   "source": []
  }
 ],
 "metadata": {
  "kernelspec": {
   "display_name": "Python 3.9.13 ('base')",
   "language": "python",
   "name": "python3"
  },
  "language_info": {
   "codemirror_mode": {
    "name": "ipython",
    "version": 3
   },
   "file_extension": ".py",
   "mimetype": "text/x-python",
   "name": "python",
   "nbconvert_exporter": "python",
   "pygments_lexer": "ipython3",
   "version": "3.9.13"
  },
  "vscode": {
   "interpreter": {
    "hash": "701d4f28dcd0866722f5108a3a4cbcd08882d26398b6d44117e791d7b8102912"
   }
  }
 },
 "nbformat": 4,
 "nbformat_minor": 5
}
