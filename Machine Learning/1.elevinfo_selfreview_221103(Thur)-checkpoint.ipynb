{
 "cells": [
  {
   "cell_type": "markdown",
   "id": "2ddc459a-220d-4865-866f-8d8af3e7b7c3",
   "metadata": {
    "tags": []
   },
   "source": [
    "# 221103(목) 수업내용 (공공데이터 한국승강기공단 자료를 이용한 '1.eleveinfo_221103(목)'  \n",
    "## 수업내용:  \n",
    "### 문제: 주소1, 주소2, 건물명, 승강기번호, 승강기상태, 최종검사일, 적재하중, 제조업체전화번호이 포함된 200개의 데이터를 데이터 프레임화 시키시오.  "
   ]
  },
  {
   "cell_type": "code",
   "execution_count": null,
   "id": "d07ca1de-5640-485d-9d76-76e53e2ad902",
   "metadata": {},
   "outputs": [],
   "source": [
    "#문제1)\n",
    "\n",
    "## 주소1, 주소2, 건물명, 승강기번호, 승강기상태, 최종검사일, 적재하중, 제조업체전화번호\n",
    "\n",
    "# 데이터 전체 200개 불러오기"
   ]
  },
  {
   "cell_type": "markdown",
   "id": "fb9048dc-f85e-43cd-af7c-affe03499845",
   "metadata": {},
   "source": [
    "-------"
   ]
  },
  {
   "cell_type": "code",
   "execution_count": 1,
   "id": "ad78ea74-077f-4c7a-9848-277a75352d70",
   "metadata": {},
   "outputs": [],
   "source": [
    "import pandas as pd\n",
    "import requests\n",
    "from bs4 import BeautifulSoup\n",
    "\n",
    "import warnings\n",
    "warnings.filterwarnings('ignore')"
   ]
  },
  {
   "cell_type": "code",
   "execution_count": 2,
   "id": "3f5de03c-18e2-4057-9ad6-08e2f2b45d37",
   "metadata": {},
   "outputs": [],
   "source": [
    "data = []\n",
    "for page in range(1, 3): \n",
    "    url = 'http://apis.data.go.kr/openapi/service/ElevatorInformationService/getElevatorList'\n",
    "    serviceKey = '0kYXnKBN3P1BPz+PbMj53+Xf9Lasd9mZvYohzWDq+10Tagyqazw0pf62r0VMYgKLZZednlK4k5uPA6V49OvEcw=='\n",
    "    numOfRows = '100'\n",
    "    pageNo = page\n",
    "    sido = '서울특별시'\n",
    "    sigungu = '은평구'\n",
    "\n",
    "    params = {'serviceKey' : serviceKey, 'numOfRows' : numOfRows, 'pageNo' : pageNo, 'sido':sido, 'sigungu':sigungu }\n",
    "    req = requests.get(url, params=params,verify=False)\n",
    "    soup = BeautifulSoup(req.text,'lxml')\n",
    "    col_list = ['address1', 'address2', 'buldNm', 'elevatorNo', 'elvtrStts','lastInspctDe', 'liveLoad', 'manufacturerTelno']\n",
    "    \n",
    "    for item in soup.items :\n",
    "        temp = []\n",
    "        for col in col_list :\n",
    "            try :\n",
    "                temp.append(item.select(col)[0].text)\n",
    "            except :\n",
    "                temp.append('')\n",
    "        data.append(temp)"
   ]
  },
  {
   "cell_type": "code",
   "execution_count": 3,
   "id": "0609825f-58b5-4896-8258-3e20273372af",
   "metadata": {},
   "outputs": [],
   "source": [
    "df = pd.DataFrame(data, columns = col_list)"
   ]
  },
  {
   "cell_type": "code",
   "execution_count": 4,
   "id": "0ebac709-2186-4b4e-8c5d-c06875c2ca62",
   "metadata": {},
   "outputs": [
    {
     "data": {
      "text/plain": [
       "(200, 8)"
      ]
     },
     "execution_count": 4,
     "metadata": {},
     "output_type": "execute_result"
    }
   ],
   "source": [
    "df.shape"
   ]
  },
  {
   "cell_type": "code",
   "execution_count": 5,
   "id": "93e98b23-fefe-45da-843a-5856d6c124ef",
   "metadata": {},
   "outputs": [],
   "source": [
    "df.to_csv('elevInfo.csv', index = False, encoding='euc-kr')"
   ]
  },
  {
   "cell_type": "code",
   "execution_count": 6,
   "id": "9cf0ffea-0574-4b35-b27c-553bd37ff832",
   "metadata": {},
   "outputs": [
    {
     "data": {
      "text/html": [
       "<div>\n",
       "<style scoped>\n",
       "    .dataframe tbody tr th:only-of-type {\n",
       "        vertical-align: middle;\n",
       "    }\n",
       "\n",
       "    .dataframe tbody tr th {\n",
       "        vertical-align: top;\n",
       "    }\n",
       "\n",
       "    .dataframe thead th {\n",
       "        text-align: right;\n",
       "    }\n",
       "</style>\n",
       "<table border=\"1\" class=\"dataframe\">\n",
       "  <thead>\n",
       "    <tr style=\"text-align: right;\">\n",
       "      <th></th>\n",
       "      <th>address1</th>\n",
       "      <th>address2</th>\n",
       "      <th>buldNm</th>\n",
       "      <th>elevatorNo</th>\n",
       "      <th>elvtrStts</th>\n",
       "      <th>lastInspctDe</th>\n",
       "      <th>liveLoad</th>\n",
       "      <th>manufacturerTelno</th>\n",
       "    </tr>\n",
       "  </thead>\n",
       "  <tbody>\n",
       "    <tr>\n",
       "      <th>0</th>\n",
       "      <td>서울특별시 은평구 연서로 71</td>\n",
       "      <td>(역촌동)</td>\n",
       "      <td>(재)살림이</td>\n",
       "      <td>0081201</td>\n",
       "      <td>운행중</td>\n",
       "      <td>2022-05-24</td>\n",
       "      <td>550 KG</td>\n",
       "      <td>055-269-4114</td>\n",
       "    </tr>\n",
       "    <tr>\n",
       "      <th>1</th>\n",
       "      <td>서울특별시 은평구 통일로71길 16</td>\n",
       "      <td>(대조동)</td>\n",
       "      <td>(주)KT 은평지사</td>\n",
       "      <td>0042569</td>\n",
       "      <td>운행중</td>\n",
       "      <td>2022-10-11</td>\n",
       "      <td>1150 KG</td>\n",
       "      <td>055-289-8235</td>\n",
       "    </tr>\n",
       "    <tr>\n",
       "      <th>2</th>\n",
       "      <td>서울특별시 은평구 통일로71길 16</td>\n",
       "      <td>(대조동)</td>\n",
       "      <td>(주)KT 은평지사</td>\n",
       "      <td>0042570</td>\n",
       "      <td>운행중</td>\n",
       "      <td>2022-10-11</td>\n",
       "      <td>1150 KG</td>\n",
       "      <td>055-289-8235</td>\n",
       "    </tr>\n",
       "    <tr>\n",
       "      <th>3</th>\n",
       "      <td>서울특별시 은평구 은평로13길 12-1</td>\n",
       "      <td>해명빌딩 (녹번동)</td>\n",
       "      <td>(주)녹번해명(해명빌딩)</td>\n",
       "      <td>0104893</td>\n",
       "      <td>운행중</td>\n",
       "      <td>2022-11-03</td>\n",
       "      <td>1150 KG</td>\n",
       "      <td>043-722-1000</td>\n",
       "    </tr>\n",
       "    <tr>\n",
       "      <th>4</th>\n",
       "      <td>서울특별시 은평구 은평로13길 12-1</td>\n",
       "      <td>해명빌딩 (녹번동)</td>\n",
       "      <td>(주)녹번해명(해명빌딩)</td>\n",
       "      <td>0004213</td>\n",
       "      <td>운행중</td>\n",
       "      <td>2022-11-03</td>\n",
       "      <td>2000 KG</td>\n",
       "      <td>032-815-7871</td>\n",
       "    </tr>\n",
       "    <tr>\n",
       "      <th>...</th>\n",
       "      <td>...</td>\n",
       "      <td>...</td>\n",
       "      <td>...</td>\n",
       "      <td>...</td>\n",
       "      <td>...</td>\n",
       "      <td>...</td>\n",
       "      <td>...</td>\n",
       "      <td>...</td>\n",
       "    </tr>\n",
       "    <tr>\n",
       "      <th>195</th>\n",
       "      <td>서울특별시 은평구 수색동 115-5</td>\n",
       "      <td>(수색동)</td>\n",
       "      <td>DMC파인시티</td>\n",
       "      <td>0155005</td>\n",
       "      <td>운행중</td>\n",
       "      <td>2022-07-11</td>\n",
       "      <td>1000 KG</td>\n",
       "      <td>043-722-1000</td>\n",
       "    </tr>\n",
       "    <tr>\n",
       "      <th>196</th>\n",
       "      <td>서울특별시 은평구 수색동 115-5</td>\n",
       "      <td>(수색동)</td>\n",
       "      <td>DMC파인시티</td>\n",
       "      <td>0154984</td>\n",
       "      <td>운행중</td>\n",
       "      <td>2022-06-15</td>\n",
       "      <td>1000 KG</td>\n",
       "      <td>043-722-1000</td>\n",
       "    </tr>\n",
       "    <tr>\n",
       "      <th>197</th>\n",
       "      <td>서울특별시 은평구 수색동 115-5</td>\n",
       "      <td>(수색동)</td>\n",
       "      <td>DMC파인시티</td>\n",
       "      <td>0154985</td>\n",
       "      <td>운행중</td>\n",
       "      <td>2022-06-15</td>\n",
       "      <td>1000 KG</td>\n",
       "      <td>043-722-1000</td>\n",
       "    </tr>\n",
       "    <tr>\n",
       "      <th>198</th>\n",
       "      <td>서울특별시 은평구 수색동 115-5</td>\n",
       "      <td>(수색동)</td>\n",
       "      <td>DMC파인시티</td>\n",
       "      <td>0155230</td>\n",
       "      <td>운행중</td>\n",
       "      <td>2022-10-31</td>\n",
       "      <td>1000 KG</td>\n",
       "      <td>043-722-1000</td>\n",
       "    </tr>\n",
       "    <tr>\n",
       "      <th>199</th>\n",
       "      <td>서울특별시 은평구 수색동 115-5</td>\n",
       "      <td>(수색동)</td>\n",
       "      <td>DMC파인시티</td>\n",
       "      <td>0155231</td>\n",
       "      <td>운행중</td>\n",
       "      <td>2022-10-31</td>\n",
       "      <td>1000 KG</td>\n",
       "      <td>043-722-1000</td>\n",
       "    </tr>\n",
       "  </tbody>\n",
       "</table>\n",
       "<p>200 rows × 8 columns</p>\n",
       "</div>"
      ],
      "text/plain": [
       "                  address1    address2         buldNm elevatorNo elvtrStts  \\\n",
       "0         서울특별시 은평구 연서로 71       (역촌동)         (재)살림이    0081201       운행중   \n",
       "1      서울특별시 은평구 통일로71길 16       (대조동)     (주)KT 은평지사    0042569       운행중   \n",
       "2      서울특별시 은평구 통일로71길 16       (대조동)     (주)KT 은평지사    0042570       운행중   \n",
       "3    서울특별시 은평구 은평로13길 12-1  해명빌딩 (녹번동)  (주)녹번해명(해명빌딩)    0104893       운행중   \n",
       "4    서울특별시 은평구 은평로13길 12-1  해명빌딩 (녹번동)  (주)녹번해명(해명빌딩)    0004213       운행중   \n",
       "..                     ...         ...            ...        ...       ...   \n",
       "195    서울특별시 은평구 수색동 115-5       (수색동)        DMC파인시티    0155005       운행중   \n",
       "196    서울특별시 은평구 수색동 115-5       (수색동)        DMC파인시티    0154984       운행중   \n",
       "197    서울특별시 은평구 수색동 115-5       (수색동)        DMC파인시티    0154985       운행중   \n",
       "198    서울특별시 은평구 수색동 115-5       (수색동)        DMC파인시티    0155230       운행중   \n",
       "199    서울특별시 은평구 수색동 115-5       (수색동)        DMC파인시티    0155231       운행중   \n",
       "\n",
       "    lastInspctDe liveLoad manufacturerTelno  \n",
       "0     2022-05-24   550 KG      055-269-4114  \n",
       "1     2022-10-11  1150 KG      055-289-8235  \n",
       "2     2022-10-11  1150 KG      055-289-8235  \n",
       "3     2022-11-03  1150 KG      043-722-1000  \n",
       "4     2022-11-03  2000 KG      032-815-7871  \n",
       "..           ...      ...               ...  \n",
       "195   2022-07-11  1000 KG      043-722-1000  \n",
       "196   2022-06-15  1000 KG      043-722-1000  \n",
       "197   2022-06-15  1000 KG      043-722-1000  \n",
       "198   2022-10-31  1000 KG      043-722-1000  \n",
       "199   2022-10-31  1000 KG      043-722-1000  \n",
       "\n",
       "[200 rows x 8 columns]"
      ]
     },
     "execution_count": 6,
     "metadata": {},
     "output_type": "execute_result"
    }
   ],
   "source": [
    "df"
   ]
  },
  {
   "cell_type": "markdown",
   "id": "eff432ee-4728-4876-af5b-b74ef4d1a1b4",
   "metadata": {},
   "source": [
    "----"
   ]
  },
  {
   "cell_type": "code",
   "execution_count": null,
   "id": "3eb6117e-bfa3-422a-95a2-75643934f87b",
   "metadata": {},
   "outputs": [],
   "source": []
  },
  {
   "cell_type": "code",
   "execution_count": null,
   "id": "d60e3872-6366-4217-ad38-5a5d4ee02ebd",
   "metadata": {},
   "outputs": [],
   "source": []
  },
  {
   "cell_type": "code",
   "execution_count": null,
   "id": "94db37b3-1408-4610-bd46-179c759e987f",
   "metadata": {},
   "outputs": [],
   "source": []
  },
  {
   "cell_type": "code",
   "execution_count": null,
   "id": "444cc0d0-f55c-425c-989b-3bb231e60fed",
   "metadata": {},
   "outputs": [],
   "source": [
    "url = 'http://apis.data.go.kr/openapi/service/ElevatorInformationService/getElevatorList?serviceKey=BAc5c%2B7CgdSM2dp9F0gq%2FN7FR4TwTghq%2BzHtk7BmmX%2B588SuKYRFAW77xC6eaS6kpEZgWxZnz9a1TSk%2FO%2F6gUg%3D%3D&numOfRows=10&pageNo=1&sido=%EC%84%9C%EC%9A%B8%ED%8A%B9%EB%B3%84%EC%8B%9C&sigungu=%EC%9D%80%ED%8F%89%EA%B5%AC'"
   ]
  },
  {
   "cell_type": "code",
   "execution_count": null,
   "id": "431a4dee-7527-4e64-95c6-746964f4faa5",
   "metadata": {},
   "outputs": [],
   "source": [
    "req = requests.get(url)"
   ]
  },
  {
   "cell_type": "code",
   "execution_count": null,
   "id": "6fac0667-6f06-49b4-bd27-c7c34441a239",
   "metadata": {},
   "outputs": [],
   "source": [
    "soup = BeautifulSoup(req.text, 'xml')"
   ]
  },
  {
   "cell_type": "code",
   "execution_count": null,
   "id": "ff209b43-dd77-416c-b736-36d55d0612dc",
   "metadata": {},
   "outputs": [],
   "source": [
    "url = 'http://apis.data.go.kr/openapi/service/ElevatorInformationService/getElevatorList'\n",
    "serviceKey = 'BAc5c+7CgdSM2dp9F0gq/N7FR4TwTghq+zHtk7BmmX+588SuKYRFAW77xC6eaS6kpEZgWxZnz9a1TSk/O/6gUg=='\n",
    "numOfRows = '20'\n",
    "pageNo = '1'\n",
    "sido= '서울특별시' #'%EC%84%9C%EC%9A%B8%ED%8A%B9%EB%B3%84%EC%8B%9C'\n",
    "sigungu= '은평구' #'%EC%9D%80%ED%8F%89%EA%B5%AC'  "
   ]
  },
  {
   "cell_type": "code",
   "execution_count": null,
   "id": "4ecdb83a-523b-4878-aad7-46263e59bb22",
   "metadata": {},
   "outputs": [],
   "source": [
    "params = {'serviceKey': serviceKey, 'numOfRows': numOfRows, 'pageNo': pageNo, 'sido': sido, 'sigungu': sigungu}"
   ]
  },
  {
   "cell_type": "code",
   "execution_count": null,
   "id": "be815356-a6b0-4f7a-bfd9-edd1ca78e4d7",
   "metadata": {},
   "outputs": [],
   "source": [
    "req = requests.get(url, params = params, verify = False)"
   ]
  },
  {
   "cell_type": "code",
   "execution_count": null,
   "id": "175719d5-e494-4c9b-80a1-ed0a23ee85a7",
   "metadata": {},
   "outputs": [],
   "source": [
    "soup = BeautifulSoup(req.text, 'lxml')"
   ]
  },
  {
   "cell_type": "code",
   "execution_count": null,
   "id": "875fa09f-d43a-4327-964c-33994a8b43c9",
   "metadata": {},
   "outputs": [],
   "source": [
    "col_list = ['address1', 'address2','buldNm', 'elevatorNo', 'elvtrStts', 'lastInspctDe', 'liveLoad', 'manufacturerTelno']"
   ]
  },
  {
   "cell_type": "code",
   "execution_count": null,
   "id": "d4e62017-bf0b-4c33-b994-3cf69e14fca3",
   "metadata": {},
   "outputs": [],
   "source": [
    "data = []\n",
    "for col in col_list :\n",
    "    temp = []\n",
    "    for d in soup.select(col) :\n",
    "        temp.append(d.text)\n",
    "    data.append(temp)"
   ]
  },
  {
   "cell_type": "code",
   "execution_count": null,
   "id": "ba8a14a0-c07d-4850-9451-a972fa8eec1b",
   "metadata": {},
   "outputs": [],
   "source": [
    "df = pd.DataFrame(data).T"
   ]
  },
  {
   "cell_type": "code",
   "execution_count": null,
   "id": "0be98c74-4118-4f1a-9e36-7852b8a088aa",
   "metadata": {},
   "outputs": [],
   "source": [
    "df.columns = col_list"
   ]
  },
  {
   "cell_type": "code",
   "execution_count": null,
   "id": "2673fbd3-b2e9-4158-bb52-b5207770268f",
   "metadata": {
    "tags": []
   },
   "outputs": [],
   "source": [
    "df"
   ]
  },
  {
   "cell_type": "code",
   "execution_count": null,
   "id": "b8c1db6b-d5c0-40f3-a25a-8f1a7d85a3f8",
   "metadata": {},
   "outputs": [],
   "source": [
    "for col in col_list :\n",
    "    print(col, len(soup.select(col)))"
   ]
  },
  {
   "cell_type": "code",
   "execution_count": null,
   "id": "af796c71-f840-4128-9afa-3cba83182fd7",
   "metadata": {},
   "outputs": [],
   "source": [
    "# 위 데이터 프레임은 19번째 인덱스에서의 'manufacturerTelno'가 None이 되어 데이터 값이 날라감. 그래서 망한 데이터 프레임임."
   ]
  },
  {
   "cell_type": "code",
   "execution_count": null,
   "id": "3cdc2bba-e840-4717-bb71-7ae458988d14",
   "metadata": {},
   "outputs": [],
   "source": [
    "# 망한 데이터 프레임을 다시 살리는 방법"
   ]
  },
  {
   "cell_type": "code",
   "execution_count": null,
   "id": "30a73335-bcc6-4a1a-a6d4-30cf80a0be69",
   "metadata": {
    "tags": []
   },
   "outputs": [],
   "source": [
    "for item in soup.items :\n",
    "    print(item)\n",
    "    print('------')"
   ]
  },
  {
   "cell_type": "code",
   "execution_count": null,
   "id": "d044ef20-3f54-44c9-bcfe-2d0c3cdd5fe0",
   "metadata": {},
   "outputs": [],
   "source": [
    "soup.item.select('address1')"
   ]
  },
  {
   "cell_type": "code",
   "execution_count": null,
   "id": "82b66546-0fe9-4781-86aa-64adca8da98c",
   "metadata": {},
   "outputs": [],
   "source": [
    "# 방법2"
   ]
  },
  {
   "cell_type": "code",
   "execution_count": null,
   "id": "124da75f-b43c-43c7-8416-753decb7a669",
   "metadata": {},
   "outputs": [],
   "source": [
    "col_list = ['address1', 'address2','buldNm', 'elevatorNo', 'elvtrStts', 'lastInspctDe', 'liveLoad', 'manufacturerTelno']"
   ]
  },
  {
   "cell_type": "code",
   "execution_count": null,
   "id": "b975f7b9-4854-4abb-bab8-85c72f8be9e8",
   "metadata": {},
   "outputs": [],
   "source": [
    "col_list = ['address1', 'address2','buldNm', 'elevatorNo', 'elvtrStts', 'lastInspctDe', 'liveLoad', 'manufacturerTelno']\n",
    "data = []\n",
    "for item in soup.items :\n",
    "    temp = []\n",
    "    for col in col_list :\n",
    "        try :\n",
    "            temp.append(item.select(col)[0].text)\n",
    "        except :\n",
    "            temp.append('')\n",
    "    data.append(temp)"
   ]
  },
  {
   "cell_type": "code",
   "execution_count": null,
   "id": "5a21bcca-ee26-4e0e-bf26-fe74fb63b04c",
   "metadata": {},
   "outputs": [],
   "source": [
    "df = pd.DataFrame(data, columns = col_list)"
   ]
  },
  {
   "cell_type": "code",
   "execution_count": null,
   "id": "d0e416dc-7cb2-41e0-8f9b-d23b745d3e6f",
   "metadata": {
    "tags": []
   },
   "outputs": [],
   "source": [
    "df"
   ]
  },
  {
   "cell_type": "code",
   "execution_count": null,
   "id": "9a19dbf0-61b3-49c8-ab80-cd617cfcd836",
   "metadata": {},
   "outputs": [],
   "source": [
    "#'예외처리' 하는 방법: try / except"
   ]
  },
  {
   "cell_type": "code",
   "execution_count": null,
   "id": "4bf387b7-11e1-4d8a-a299-96b943e6ae49",
   "metadata": {},
   "outputs": [],
   "source": [
    "#예외 처리 방법 예시1)\n",
    "a = 1\n",
    "b = '2'\n",
    "try :\n",
    "    print('try 시작')\n",
    "    c = a + b\n",
    "    print('try 끝')\n",
    "except :\n",
    "    print('except 시작')\n",
    "    c = a + int(b)\n",
    "print(c)"
   ]
  },
  {
   "cell_type": "code",
   "execution_count": null,
   "id": "19885fe3-ee81-4aef-a250-9704ce455784",
   "metadata": {},
   "outputs": [],
   "source": [
    "#예외 처리 방법 예시2\n",
    "a = 1\n",
    "b = 2\n",
    "try :\n",
    "    print('try 시작')\n",
    "    c = a + b\n",
    "    print('try 끝')\n",
    "except :\n",
    "    print('except 시작')\n",
    "    c = a + int(b)\n",
    "print(c)"
   ]
  },
  {
   "cell_type": "code",
   "execution_count": null,
   "id": "9514cd68-4427-4113-9c90-7dc76aabdd03",
   "metadata": {},
   "outputs": [],
   "source": [
    "# 방법1"
   ]
  },
  {
   "cell_type": "code",
   "execution_count": null,
   "id": "b14c1ef0-2f55-407d-b0b3-9821a5ae4faf",
   "metadata": {},
   "outputs": [],
   "source": [
    "data = []\n",
    "for item in soup.items :\n",
    "    temp = []\n",
    "    for v in item :\n",
    "        temp.append(v.text.strip())\n",
    "    data.append(temp)"
   ]
  },
  {
   "cell_type": "code",
   "execution_count": null,
   "id": "d3b53655-6205-4923-b077-9cc537642555",
   "metadata": {},
   "outputs": [],
   "source": [
    "col_list = []\n",
    "for i in soup.item :\n",
    "    col_list.append(i.name)"
   ]
  },
  {
   "cell_type": "code",
   "execution_count": null,
   "id": "cee889d8-612a-451d-ba3a-a4795e326791",
   "metadata": {
    "tags": []
   },
   "outputs": [],
   "source": [
    "df = pd.DataFrame(data, columns = col_list)"
   ]
  },
  {
   "cell_type": "code",
   "execution_count": null,
   "id": "334c2b31-4bf2-4a72-892e-9134f0c801f8",
   "metadata": {
    "tags": []
   },
   "outputs": [],
   "source": [
    "df"
   ]
  },
  {
   "cell_type": "code",
   "execution_count": null,
   "id": "f909b94d-193d-4f4b-be9b-d95cd9cda87f",
   "metadata": {
    "tags": []
   },
   "outputs": [],
   "source": [
    "df.iloc[9]"
   ]
  },
  {
   "cell_type": "code",
   "execution_count": null,
   "id": "554f0f63-c58f-4780-8157-221823feb7eb",
   "metadata": {},
   "outputs": [],
   "source": []
  }
 ],
 "metadata": {
  "kernelspec": {
   "display_name": "Python 3 (ipykernel)",
   "language": "python",
   "name": "python3"
  },
  "language_info": {
   "codemirror_mode": {
    "name": "ipython",
    "version": 3
   },
   "file_extension": ".py",
   "mimetype": "text/x-python",
   "name": "python",
   "nbconvert_exporter": "python",
   "pygments_lexer": "ipython3",
   "version": "3.9.12"
  }
 },
 "nbformat": 4,
 "nbformat_minor": 5
}
