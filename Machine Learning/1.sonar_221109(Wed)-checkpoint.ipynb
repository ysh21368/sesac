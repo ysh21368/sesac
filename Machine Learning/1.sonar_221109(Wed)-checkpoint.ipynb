{
 "cells": [
  {
   "cell_type": "markdown",
   "id": "7573e301-e627-4e0d-84f7-fdd440d8458d",
   "metadata": {},
   "source": [
    "# 수중 음파 탐지기(sonar) 데이터 셋\n",
    "## 문제: Sonar 데이터 셋을 이용해서 Mines와 Rocks를 구분하는 모델 만들기"
   ]
  },
  {
   "cell_type": "code",
   "execution_count": null,
   "id": "0ebf0673-49c0-4925-a99b-a8f78fb7cb8f",
   "metadata": {},
   "outputs": [],
   "source": [
    "import pandas as pd\n",
    "from sklearn.linear_model import LogisticRegression #Classification의 한 종류\n",
    "from sklearn.model_selection import train_test_split"
   ]
  },
  {
   "cell_type": "code",
   "execution_count": null,
   "id": "ec56e6b1-783b-4fc8-97f4-bb0678b882d1",
   "metadata": {},
   "outputs": [],
   "source": [
    "sonar = pd.read_csv('sonar_csv.csv')"
   ]
  },
  {
   "cell_type": "code",
   "execution_count": null,
   "id": "47c39e0c-e1ce-4646-957c-9eb1d37db8f5",
   "metadata": {},
   "outputs": [],
   "source": [
    "sonar"
   ]
  },
  {
   "cell_type": "code",
   "execution_count": null,
   "id": "81ab6df4-95db-436f-ac76-84be73828233",
   "metadata": {
    "tags": []
   },
   "outputs": [],
   "source": [
    "sonar.info()"
   ]
  },
  {
   "cell_type": "code",
   "execution_count": null,
   "id": "3715000d-f07b-438a-84ac-32dc5da877e5",
   "metadata": {},
   "outputs": [],
   "source": [
    "sonar.isnull().sum()"
   ]
  },
  {
   "cell_type": "code",
   "execution_count": null,
   "id": "e58775a0-23ce-451c-b17b-a4a42f4e08d2",
   "metadata": {},
   "outputs": [],
   "source": [
    "sonar.describe()"
   ]
  },
  {
   "cell_type": "code",
   "execution_count": null,
   "id": "9865203c-a647-4710-aad3-d8a867d5aefe",
   "metadata": {},
   "outputs": [],
   "source": [
    "sonar.duplicated() #중복된 데이터가 있는지 확인할 때 사용하는 함수"
   ]
  },
  {
   "cell_type": "code",
   "execution_count": null,
   "id": "b5a2f38c-04a0-4cb4-8e64-1bf54507eff2",
   "metadata": {},
   "outputs": [],
   "source": [
    "sonar[sonar.duplicated()] #여기에서는 중복된 데이터가 없다는 것을 확인할 수 있음"
   ]
  },
  {
   "cell_type": "code",
   "execution_count": null,
   "id": "88d51e42-6f57-4448-acbe-1960086e95a1",
   "metadata": {},
   "outputs": [],
   "source": [
    "sonar['Class'].unique()"
   ]
  },
  {
   "cell_type": "code",
   "execution_count": null,
   "id": "064356d3-9a26-4b08-be3c-58b9f78cb474",
   "metadata": {},
   "outputs": [],
   "source": [
    "sonar.columns"
   ]
  },
  {
   "cell_type": "code",
   "execution_count": null,
   "id": "6765b352-7d8e-495b-9b9f-1b2700196ce0",
   "metadata": {},
   "outputs": [],
   "source": [
    "obj_col = ['Class']"
   ]
  },
  {
   "cell_type": "code",
   "execution_count": null,
   "id": "ed45e5ea-1e90-458e-ab9b-1e4f07cd3db0",
   "metadata": {},
   "outputs": [],
   "source": [
    "for col in obj_col :\n",
    "    print(col, sonar[col].unique())"
   ]
  },
  {
   "cell_type": "code",
   "execution_count": null,
   "id": "a1332a40-f94b-4640-9f85-492607a6a66d",
   "metadata": {},
   "outputs": [],
   "source": [
    "for col in obj_col :\n",
    "    print(col, sonar[col].value_counts())"
   ]
  },
  {
   "cell_type": "code",
   "execution_count": null,
   "id": "2e31e1e5-d59f-421e-92b6-d5be1df5451b",
   "metadata": {},
   "outputs": [],
   "source": [
    "from sklearn.preprocessing import LabelEncoder #문자열->숫자로 바꾸어줄 때 쓰는 패키치 내부 함수"
   ]
  },
  {
   "cell_type": "code",
   "execution_count": null,
   "id": "6b2ecc83-37c1-4f32-9c65-bb1138efa76a",
   "metadata": {},
   "outputs": [],
   "source": [
    "#문자열 -> 숫자 / Rock: 1, Mine: 0\n",
    "col_list = ['Class']\n",
    "for col in col_list :\n",
    "    label = LabelEncoder()\n",
    "    label.fit(sonar[col].unique())\n",
    "    sonar[col] = label.transform(sonar[col])"
   ]
  },
  {
   "cell_type": "code",
   "execution_count": null,
   "id": "53355f01-621b-43c4-b33e-2d5f8fc1fd0d",
   "metadata": {},
   "outputs": [],
   "source": [
    "sonar"
   ]
  },
  {
   "cell_type": "code",
   "execution_count": null,
   "id": "06764b18-3d30-4cfb-a901-bee880ce06bc",
   "metadata": {},
   "outputs": [],
   "source": []
  },
  {
   "cell_type": "code",
   "execution_count": null,
   "id": "419f88d8-db69-4bd9-9919-ee2c91dd512f",
   "metadata": {},
   "outputs": [],
   "source": [
    "from sklearn.model_selection import train_test_split\n",
    "from sklearn.linear_model import LinearRegression #회귀할 때 사용\n",
    "from sklearn.metrics import mean_absolute_error"
   ]
  },
  {
   "cell_type": "code",
   "execution_count": null,
   "id": "2f4f580d-8e52-40a0-9478-1e0cc96964b5",
   "metadata": {},
   "outputs": [],
   "source": [
    "x = sonar.drop('Class', axis = 1)"
   ]
  },
  {
   "cell_type": "code",
   "execution_count": null,
   "id": "37126aed-7cb6-465f-9272-cde4a8c7b109",
   "metadata": {},
   "outputs": [],
   "source": [
    "y = sonar['Class']"
   ]
  },
  {
   "cell_type": "code",
   "execution_count": null,
   "id": "ec11d9ef-10ac-4f36-bdfa-cc32ad3583c2",
   "metadata": {},
   "outputs": [],
   "source": [
    "x_train, x_test, y_train, y_test = train_test_split(x, y, test_size = 0.1, stratify = y, random_state = 0)\n",
    "# stratify =  -> 기준점"
   ]
  },
  {
   "cell_type": "code",
   "execution_count": null,
   "id": "2f8ca6ab-906b-4fda-8fc0-7a7c7ddd6bc3",
   "metadata": {},
   "outputs": [],
   "source": [
    "print(x_train.shape, y_train.shape) #학습시킬 문제, 학습시킬 문제에 대한 정답\n",
    "print(x_test.shape, y_test.shape) #시험문제, 시험문제에 대한 정답"
   ]
  },
  {
   "cell_type": "code",
   "execution_count": null,
   "id": "9f289dc0-06a1-4629-8ca1-3a9205fbc507",
   "metadata": {},
   "outputs": [],
   "source": [
    "# LogisticRegression(기존) 모델로 돌렸을 경우"
   ]
  },
  {
   "cell_type": "code",
   "execution_count": null,
   "id": "5d5fc7db-0b4c-43fc-8f0f-d8533be89065",
   "metadata": {},
   "outputs": [],
   "source": [
    "model = LogisticRegression() #모델 선언"
   ]
  },
  {
   "cell_type": "code",
   "execution_count": null,
   "id": "e45c8fa4-9096-4363-813f-2e1403a51a4b",
   "metadata": {},
   "outputs": [],
   "source": [
    "# train"
   ]
  },
  {
   "cell_type": "code",
   "execution_count": null,
   "id": "720a64f2-9e73-4ff2-b783-c5a4df5d5e92",
   "metadata": {},
   "outputs": [],
   "source": [
    "model.fit(x_train, y_train) # 공부(학습)시킬 때 필요한 함수"
   ]
  },
  {
   "cell_type": "code",
   "execution_count": null,
   "id": "21280a36-fc84-4ec0-a01e-981f6e4ca800",
   "metadata": {},
   "outputs": [],
   "source": [
    "pre_train = model.predict(x_train) #트레인에 대한 예측값, pre_train"
   ]
  },
  {
   "cell_type": "code",
   "execution_count": null,
   "id": "415e51ff-eba8-42f7-b590-7c7adfe59b5e",
   "metadata": {},
   "outputs": [],
   "source": [
    "mean_absolute_error(pre_train, y_train)"
   ]
  },
  {
   "cell_type": "code",
   "execution_count": null,
   "id": "d8591711-c3df-4530-9050-c3ba673f2721",
   "metadata": {},
   "outputs": [],
   "source": [
    "model.score(x_train, y_train)"
   ]
  },
  {
   "cell_type": "code",
   "execution_count": null,
   "id": "12cf16b3-09c9-4ec5-9bdd-1dc3d3c1675d",
   "metadata": {},
   "outputs": [],
   "source": [
    "# test"
   ]
  },
  {
   "cell_type": "code",
   "execution_count": null,
   "id": "ec3d8cb9-1167-4ed6-b4ef-d492da40f755",
   "metadata": {},
   "outputs": [],
   "source": [
    "pre_test = model.predict(x_test) #트레인에 대한 예측값, pre_train"
   ]
  },
  {
   "cell_type": "code",
   "execution_count": null,
   "id": "a380eeff-7e93-459e-b527-733c21c2b1b7",
   "metadata": {},
   "outputs": [],
   "source": [
    "mean_absolute_error(pre_test, y_test)"
   ]
  },
  {
   "cell_type": "code",
   "execution_count": null,
   "id": "e67e5317-0437-4cc6-8b1f-05ad77281b36",
   "metadata": {},
   "outputs": [],
   "source": [
    "model.score(x_test, y_test)"
   ]
  },
  {
   "cell_type": "code",
   "execution_count": null,
   "id": "ed4f00da-e18e-4edd-a588-7074bbc043dc",
   "metadata": {},
   "outputs": [],
   "source": []
  },
  {
   "cell_type": "code",
   "execution_count": null,
   "id": "a062817d-924b-4b44-a8a8-9492c5c1a33e",
   "metadata": {},
   "outputs": [],
   "source": [
    "# LogisticRegressionCV 모델로 돌렸을 경우 (참고 -> CV: Cross Validation)"
   ]
  },
  {
   "cell_type": "code",
   "execution_count": null,
   "id": "fc93c838-4f3b-4b08-9e3e-19b2cc98580c",
   "metadata": {},
   "outputs": [],
   "source": [
    "from sklearn.linear_model import LogisticRegressionCV #분류에 사용한다."
   ]
  },
  {
   "cell_type": "code",
   "execution_count": null,
   "id": "976b2ce5-cce7-44ec-9bc2-242d6924e045",
   "metadata": {},
   "outputs": [],
   "source": [
    "model2 = LogisticRegressionCV() # model2 = LogisticRegressionCV(max_iter=100, cv=1)"
   ]
  },
  {
   "cell_type": "code",
   "execution_count": null,
   "id": "514fefd2-1148-4308-a462-93ef851e44b8",
   "metadata": {},
   "outputs": [],
   "source": [
    "# train"
   ]
  },
  {
   "cell_type": "code",
   "execution_count": null,
   "id": "b2caedb1-a8b3-4c45-bc36-8fe1a1e982a2",
   "metadata": {
    "tags": []
   },
   "outputs": [],
   "source": [
    "model2.fit(x_train, y_train)"
   ]
  },
  {
   "cell_type": "code",
   "execution_count": null,
   "id": "f3e842c0-2529-4475-aeda-be986aad981c",
   "metadata": {},
   "outputs": [],
   "source": [
    "model2.score(x_train, y_train)"
   ]
  },
  {
   "cell_type": "code",
   "execution_count": null,
   "id": "1b78d1b3-e9e3-49a3-9d86-8ae2f2184b9f",
   "metadata": {},
   "outputs": [],
   "source": [
    "# test"
   ]
  },
  {
   "cell_type": "code",
   "execution_count": null,
   "id": "fcbfe6d0-76b6-4cae-a2e9-bf2d381f496d",
   "metadata": {},
   "outputs": [],
   "source": [
    "model2.score(x_test, y_test)"
   ]
  },
  {
   "cell_type": "code",
   "execution_count": null,
   "id": "bdbd4733-2dab-4e37-a288-f5331fe7050c",
   "metadata": {},
   "outputs": [],
   "source": []
  },
  {
   "cell_type": "code",
   "execution_count": null,
   "id": "9a0ef576-7389-431f-90a1-e5635b31e29e",
   "metadata": {},
   "outputs": [],
   "source": [
    "sensor = x_train.iloc[0].values.reshape(1, -1)"
   ]
  },
  {
   "cell_type": "code",
   "execution_count": null,
   "id": "16f74d13-0f9f-44c6-b7f9-db77b57cd8bb",
   "metadata": {},
   "outputs": [],
   "source": [
    "model2.predict(sensor)"
   ]
  },
  {
   "cell_type": "code",
   "execution_count": null,
   "id": "2eb5395e-aa72-44a5-b0ea-0b04d04ae403",
   "metadata": {
    "tags": []
   },
   "outputs": [],
   "source": [
    "if model2.predict(sensor) == 1 :\n",
    "    print('mine')\n",
    "    print(model2.predict(sensor) + '이 탐지되었습니다.')"
   ]
  },
  {
   "cell_type": "code",
   "execution_count": null,
   "id": "da562d61-fc13-41c1-bf52-173e4cd728ab",
   "metadata": {},
   "outputs": [],
   "source": [
    "y_train.iloc[0]"
   ]
  },
  {
   "cell_type": "code",
   "execution_count": null,
   "id": "b9d6bb4e-c330-4d21-b302-ce39d0256a99",
   "metadata": {
    "tags": []
   },
   "outputs": [],
   "source": [
    "pip list"
   ]
  },
  {
   "cell_type": "markdown",
   "id": "256f83f2-66a7-4dd9-a9da-f1ff008858f2",
   "metadata": {},
   "source": [
    "---"
   ]
  },
  {
   "cell_type": "markdown",
   "id": "26e9cc97-7b63-4bea-b1b1-ca2a97420b34",
   "metadata": {},
   "source": [
    "# 스케일러(Scaler) / 스케일러 할때는 이상치 값을 제거해주는게 정석이다."
   ]
  },
  {
   "cell_type": "code",
   "execution_count": null,
   "id": "dd440e9d-ad28-414f-9e0e-928c9f452110",
   "metadata": {},
   "outputs": [],
   "source": [
    "Standard Scaler: 기본 스케일, 평균과 표준편차 사용\n",
    "MinMax Scaler: 최대/최솟값이 각각 1, 0이 되도록 스케일링\n",
    "MaxAbsScaler: 최대절대값과 0이 각각 1, 0이 되도록 스케일링\n",
    "RobustScaler: "
   ]
  },
  {
   "cell_type": "code",
   "execution_count": 34,
   "id": "660ac953-7627-490b-808e-32a2b5c65bda",
   "metadata": {},
   "outputs": [],
   "source": [
    "import pandas as pd\n",
    "from sklearn.linear_model import LogisticRegression #Classification의 한 종류\n",
    "from sklearn.model_selection import train_test_split\n",
    "\n"
   ]
  },
  {
   "cell_type": "code",
   "execution_count": 35,
   "id": "0ff66c88-e3ee-4429-a7c9-18356298e199",
   "metadata": {},
   "outputs": [],
   "source": [
    "sonar = pd.read_csv('sonar_csv.csv')"
   ]
  },
  {
   "cell_type": "code",
   "execution_count": 36,
   "id": "f137dc4d-b212-4f04-86e3-564d1a20deba",
   "metadata": {},
   "outputs": [
    {
     "data": {
      "text/html": [
       "<div>\n",
       "<style scoped>\n",
       "    .dataframe tbody tr th:only-of-type {\n",
       "        vertical-align: middle;\n",
       "    }\n",
       "\n",
       "    .dataframe tbody tr th {\n",
       "        vertical-align: top;\n",
       "    }\n",
       "\n",
       "    .dataframe thead th {\n",
       "        text-align: right;\n",
       "    }\n",
       "</style>\n",
       "<table border=\"1\" class=\"dataframe\">\n",
       "  <thead>\n",
       "    <tr style=\"text-align: right;\">\n",
       "      <th></th>\n",
       "      <th>attribute_1</th>\n",
       "      <th>attribute_2</th>\n",
       "      <th>attribute_3</th>\n",
       "      <th>attribute_4</th>\n",
       "      <th>attribute_5</th>\n",
       "      <th>attribute_6</th>\n",
       "      <th>attribute_7</th>\n",
       "      <th>attribute_8</th>\n",
       "      <th>attribute_9</th>\n",
       "      <th>attribute_10</th>\n",
       "      <th>...</th>\n",
       "      <th>attribute_52</th>\n",
       "      <th>attribute_53</th>\n",
       "      <th>attribute_54</th>\n",
       "      <th>attribute_55</th>\n",
       "      <th>attribute_56</th>\n",
       "      <th>attribute_57</th>\n",
       "      <th>attribute_58</th>\n",
       "      <th>attribute_59</th>\n",
       "      <th>attribute_60</th>\n",
       "      <th>Class</th>\n",
       "    </tr>\n",
       "  </thead>\n",
       "  <tbody>\n",
       "    <tr>\n",
       "      <th>0</th>\n",
       "      <td>0.0200</td>\n",
       "      <td>0.0371</td>\n",
       "      <td>0.0428</td>\n",
       "      <td>0.0207</td>\n",
       "      <td>0.0954</td>\n",
       "      <td>0.0986</td>\n",
       "      <td>0.1539</td>\n",
       "      <td>0.1601</td>\n",
       "      <td>0.3109</td>\n",
       "      <td>0.2111</td>\n",
       "      <td>...</td>\n",
       "      <td>0.0027</td>\n",
       "      <td>0.0065</td>\n",
       "      <td>0.0159</td>\n",
       "      <td>0.0072</td>\n",
       "      <td>0.0167</td>\n",
       "      <td>0.0180</td>\n",
       "      <td>0.0084</td>\n",
       "      <td>0.0090</td>\n",
       "      <td>0.0032</td>\n",
       "      <td>Rock</td>\n",
       "    </tr>\n",
       "    <tr>\n",
       "      <th>1</th>\n",
       "      <td>0.0453</td>\n",
       "      <td>0.0523</td>\n",
       "      <td>0.0843</td>\n",
       "      <td>0.0689</td>\n",
       "      <td>0.1183</td>\n",
       "      <td>0.2583</td>\n",
       "      <td>0.2156</td>\n",
       "      <td>0.3481</td>\n",
       "      <td>0.3337</td>\n",
       "      <td>0.2872</td>\n",
       "      <td>...</td>\n",
       "      <td>0.0084</td>\n",
       "      <td>0.0089</td>\n",
       "      <td>0.0048</td>\n",
       "      <td>0.0094</td>\n",
       "      <td>0.0191</td>\n",
       "      <td>0.0140</td>\n",
       "      <td>0.0049</td>\n",
       "      <td>0.0052</td>\n",
       "      <td>0.0044</td>\n",
       "      <td>Rock</td>\n",
       "    </tr>\n",
       "    <tr>\n",
       "      <th>2</th>\n",
       "      <td>0.0262</td>\n",
       "      <td>0.0582</td>\n",
       "      <td>0.1099</td>\n",
       "      <td>0.1083</td>\n",
       "      <td>0.0974</td>\n",
       "      <td>0.2280</td>\n",
       "      <td>0.2431</td>\n",
       "      <td>0.3771</td>\n",
       "      <td>0.5598</td>\n",
       "      <td>0.6194</td>\n",
       "      <td>...</td>\n",
       "      <td>0.0232</td>\n",
       "      <td>0.0166</td>\n",
       "      <td>0.0095</td>\n",
       "      <td>0.0180</td>\n",
       "      <td>0.0244</td>\n",
       "      <td>0.0316</td>\n",
       "      <td>0.0164</td>\n",
       "      <td>0.0095</td>\n",
       "      <td>0.0078</td>\n",
       "      <td>Rock</td>\n",
       "    </tr>\n",
       "    <tr>\n",
       "      <th>3</th>\n",
       "      <td>0.0100</td>\n",
       "      <td>0.0171</td>\n",
       "      <td>0.0623</td>\n",
       "      <td>0.0205</td>\n",
       "      <td>0.0205</td>\n",
       "      <td>0.0368</td>\n",
       "      <td>0.1098</td>\n",
       "      <td>0.1276</td>\n",
       "      <td>0.0598</td>\n",
       "      <td>0.1264</td>\n",
       "      <td>...</td>\n",
       "      <td>0.0121</td>\n",
       "      <td>0.0036</td>\n",
       "      <td>0.0150</td>\n",
       "      <td>0.0085</td>\n",
       "      <td>0.0073</td>\n",
       "      <td>0.0050</td>\n",
       "      <td>0.0044</td>\n",
       "      <td>0.0040</td>\n",
       "      <td>0.0117</td>\n",
       "      <td>Rock</td>\n",
       "    </tr>\n",
       "    <tr>\n",
       "      <th>4</th>\n",
       "      <td>0.0762</td>\n",
       "      <td>0.0666</td>\n",
       "      <td>0.0481</td>\n",
       "      <td>0.0394</td>\n",
       "      <td>0.0590</td>\n",
       "      <td>0.0649</td>\n",
       "      <td>0.1209</td>\n",
       "      <td>0.2467</td>\n",
       "      <td>0.3564</td>\n",
       "      <td>0.4459</td>\n",
       "      <td>...</td>\n",
       "      <td>0.0031</td>\n",
       "      <td>0.0054</td>\n",
       "      <td>0.0105</td>\n",
       "      <td>0.0110</td>\n",
       "      <td>0.0015</td>\n",
       "      <td>0.0072</td>\n",
       "      <td>0.0048</td>\n",
       "      <td>0.0107</td>\n",
       "      <td>0.0094</td>\n",
       "      <td>Rock</td>\n",
       "    </tr>\n",
       "    <tr>\n",
       "      <th>...</th>\n",
       "      <td>...</td>\n",
       "      <td>...</td>\n",
       "      <td>...</td>\n",
       "      <td>...</td>\n",
       "      <td>...</td>\n",
       "      <td>...</td>\n",
       "      <td>...</td>\n",
       "      <td>...</td>\n",
       "      <td>...</td>\n",
       "      <td>...</td>\n",
       "      <td>...</td>\n",
       "      <td>...</td>\n",
       "      <td>...</td>\n",
       "      <td>...</td>\n",
       "      <td>...</td>\n",
       "      <td>...</td>\n",
       "      <td>...</td>\n",
       "      <td>...</td>\n",
       "      <td>...</td>\n",
       "      <td>...</td>\n",
       "      <td>...</td>\n",
       "    </tr>\n",
       "    <tr>\n",
       "      <th>203</th>\n",
       "      <td>0.0187</td>\n",
       "      <td>0.0346</td>\n",
       "      <td>0.0168</td>\n",
       "      <td>0.0177</td>\n",
       "      <td>0.0393</td>\n",
       "      <td>0.1630</td>\n",
       "      <td>0.2028</td>\n",
       "      <td>0.1694</td>\n",
       "      <td>0.2328</td>\n",
       "      <td>0.2684</td>\n",
       "      <td>...</td>\n",
       "      <td>0.0116</td>\n",
       "      <td>0.0098</td>\n",
       "      <td>0.0199</td>\n",
       "      <td>0.0033</td>\n",
       "      <td>0.0101</td>\n",
       "      <td>0.0065</td>\n",
       "      <td>0.0115</td>\n",
       "      <td>0.0193</td>\n",
       "      <td>0.0157</td>\n",
       "      <td>Mine</td>\n",
       "    </tr>\n",
       "    <tr>\n",
       "      <th>204</th>\n",
       "      <td>0.0323</td>\n",
       "      <td>0.0101</td>\n",
       "      <td>0.0298</td>\n",
       "      <td>0.0564</td>\n",
       "      <td>0.0760</td>\n",
       "      <td>0.0958</td>\n",
       "      <td>0.0990</td>\n",
       "      <td>0.1018</td>\n",
       "      <td>0.1030</td>\n",
       "      <td>0.2154</td>\n",
       "      <td>...</td>\n",
       "      <td>0.0061</td>\n",
       "      <td>0.0093</td>\n",
       "      <td>0.0135</td>\n",
       "      <td>0.0063</td>\n",
       "      <td>0.0063</td>\n",
       "      <td>0.0034</td>\n",
       "      <td>0.0032</td>\n",
       "      <td>0.0062</td>\n",
       "      <td>0.0067</td>\n",
       "      <td>Mine</td>\n",
       "    </tr>\n",
       "    <tr>\n",
       "      <th>205</th>\n",
       "      <td>0.0522</td>\n",
       "      <td>0.0437</td>\n",
       "      <td>0.0180</td>\n",
       "      <td>0.0292</td>\n",
       "      <td>0.0351</td>\n",
       "      <td>0.1171</td>\n",
       "      <td>0.1257</td>\n",
       "      <td>0.1178</td>\n",
       "      <td>0.1258</td>\n",
       "      <td>0.2529</td>\n",
       "      <td>...</td>\n",
       "      <td>0.0160</td>\n",
       "      <td>0.0029</td>\n",
       "      <td>0.0051</td>\n",
       "      <td>0.0062</td>\n",
       "      <td>0.0089</td>\n",
       "      <td>0.0140</td>\n",
       "      <td>0.0138</td>\n",
       "      <td>0.0077</td>\n",
       "      <td>0.0031</td>\n",
       "      <td>Mine</td>\n",
       "    </tr>\n",
       "    <tr>\n",
       "      <th>206</th>\n",
       "      <td>0.0303</td>\n",
       "      <td>0.0353</td>\n",
       "      <td>0.0490</td>\n",
       "      <td>0.0608</td>\n",
       "      <td>0.0167</td>\n",
       "      <td>0.1354</td>\n",
       "      <td>0.1465</td>\n",
       "      <td>0.1123</td>\n",
       "      <td>0.1945</td>\n",
       "      <td>0.2354</td>\n",
       "      <td>...</td>\n",
       "      <td>0.0086</td>\n",
       "      <td>0.0046</td>\n",
       "      <td>0.0126</td>\n",
       "      <td>0.0036</td>\n",
       "      <td>0.0035</td>\n",
       "      <td>0.0034</td>\n",
       "      <td>0.0079</td>\n",
       "      <td>0.0036</td>\n",
       "      <td>0.0048</td>\n",
       "      <td>Mine</td>\n",
       "    </tr>\n",
       "    <tr>\n",
       "      <th>207</th>\n",
       "      <td>0.0260</td>\n",
       "      <td>0.0363</td>\n",
       "      <td>0.0136</td>\n",
       "      <td>0.0272</td>\n",
       "      <td>0.0214</td>\n",
       "      <td>0.0338</td>\n",
       "      <td>0.0655</td>\n",
       "      <td>0.1400</td>\n",
       "      <td>0.1843</td>\n",
       "      <td>0.2354</td>\n",
       "      <td>...</td>\n",
       "      <td>0.0146</td>\n",
       "      <td>0.0129</td>\n",
       "      <td>0.0047</td>\n",
       "      <td>0.0039</td>\n",
       "      <td>0.0061</td>\n",
       "      <td>0.0040</td>\n",
       "      <td>0.0036</td>\n",
       "      <td>0.0061</td>\n",
       "      <td>0.0115</td>\n",
       "      <td>Mine</td>\n",
       "    </tr>\n",
       "  </tbody>\n",
       "</table>\n",
       "<p>208 rows × 61 columns</p>\n",
       "</div>"
      ],
      "text/plain": [
       "     attribute_1  attribute_2  attribute_3  attribute_4  attribute_5  \\\n",
       "0         0.0200       0.0371       0.0428       0.0207       0.0954   \n",
       "1         0.0453       0.0523       0.0843       0.0689       0.1183   \n",
       "2         0.0262       0.0582       0.1099       0.1083       0.0974   \n",
       "3         0.0100       0.0171       0.0623       0.0205       0.0205   \n",
       "4         0.0762       0.0666       0.0481       0.0394       0.0590   \n",
       "..           ...          ...          ...          ...          ...   \n",
       "203       0.0187       0.0346       0.0168       0.0177       0.0393   \n",
       "204       0.0323       0.0101       0.0298       0.0564       0.0760   \n",
       "205       0.0522       0.0437       0.0180       0.0292       0.0351   \n",
       "206       0.0303       0.0353       0.0490       0.0608       0.0167   \n",
       "207       0.0260       0.0363       0.0136       0.0272       0.0214   \n",
       "\n",
       "     attribute_6  attribute_7  attribute_8  attribute_9  attribute_10  ...  \\\n",
       "0         0.0986       0.1539       0.1601       0.3109        0.2111  ...   \n",
       "1         0.2583       0.2156       0.3481       0.3337        0.2872  ...   \n",
       "2         0.2280       0.2431       0.3771       0.5598        0.6194  ...   \n",
       "3         0.0368       0.1098       0.1276       0.0598        0.1264  ...   \n",
       "4         0.0649       0.1209       0.2467       0.3564        0.4459  ...   \n",
       "..           ...          ...          ...          ...           ...  ...   \n",
       "203       0.1630       0.2028       0.1694       0.2328        0.2684  ...   \n",
       "204       0.0958       0.0990       0.1018       0.1030        0.2154  ...   \n",
       "205       0.1171       0.1257       0.1178       0.1258        0.2529  ...   \n",
       "206       0.1354       0.1465       0.1123       0.1945        0.2354  ...   \n",
       "207       0.0338       0.0655       0.1400       0.1843        0.2354  ...   \n",
       "\n",
       "     attribute_52  attribute_53  attribute_54  attribute_55  attribute_56  \\\n",
       "0          0.0027        0.0065        0.0159        0.0072        0.0167   \n",
       "1          0.0084        0.0089        0.0048        0.0094        0.0191   \n",
       "2          0.0232        0.0166        0.0095        0.0180        0.0244   \n",
       "3          0.0121        0.0036        0.0150        0.0085        0.0073   \n",
       "4          0.0031        0.0054        0.0105        0.0110        0.0015   \n",
       "..            ...           ...           ...           ...           ...   \n",
       "203        0.0116        0.0098        0.0199        0.0033        0.0101   \n",
       "204        0.0061        0.0093        0.0135        0.0063        0.0063   \n",
       "205        0.0160        0.0029        0.0051        0.0062        0.0089   \n",
       "206        0.0086        0.0046        0.0126        0.0036        0.0035   \n",
       "207        0.0146        0.0129        0.0047        0.0039        0.0061   \n",
       "\n",
       "     attribute_57  attribute_58  attribute_59  attribute_60  Class  \n",
       "0          0.0180        0.0084        0.0090        0.0032   Rock  \n",
       "1          0.0140        0.0049        0.0052        0.0044   Rock  \n",
       "2          0.0316        0.0164        0.0095        0.0078   Rock  \n",
       "3          0.0050        0.0044        0.0040        0.0117   Rock  \n",
       "4          0.0072        0.0048        0.0107        0.0094   Rock  \n",
       "..            ...           ...           ...           ...    ...  \n",
       "203        0.0065        0.0115        0.0193        0.0157   Mine  \n",
       "204        0.0034        0.0032        0.0062        0.0067   Mine  \n",
       "205        0.0140        0.0138        0.0077        0.0031   Mine  \n",
       "206        0.0034        0.0079        0.0036        0.0048   Mine  \n",
       "207        0.0040        0.0036        0.0061        0.0115   Mine  \n",
       "\n",
       "[208 rows x 61 columns]"
      ]
     },
     "execution_count": 36,
     "metadata": {},
     "output_type": "execute_result"
    }
   ],
   "source": [
    "sonar"
   ]
  },
  {
   "cell_type": "code",
   "execution_count": 37,
   "id": "f75a4116-7665-45e2-b24e-cf402b5ca006",
   "metadata": {
    "collapsed": true,
    "jupyter": {
     "outputs_hidden": true
    },
    "tags": []
   },
   "outputs": [
    {
     "name": "stdout",
     "output_type": "stream",
     "text": [
      "attribute_1\n",
      "0.029163942307692307\n",
      "0.0228\n",
      "---------------\n",
      "attribute_2\n",
      "0.03843653846153848\n",
      "0.0308\n",
      "---------------\n",
      "attribute_3\n",
      "0.04383221153846154\n",
      "0.0343\n",
      "---------------\n",
      "attribute_4\n",
      "0.05389230769230771\n",
      "0.04405\n",
      "---------------\n",
      "attribute_5\n",
      "0.07520240384615384\n",
      "0.0625\n",
      "---------------\n",
      "attribute_6\n",
      "0.10457019230769235\n",
      "0.09215000000000001\n",
      "---------------\n",
      "attribute_7\n",
      "0.1217466346153847\n",
      "0.10694999999999999\n",
      "---------------\n",
      "attribute_8\n",
      "0.13479903846153843\n",
      "0.1121\n",
      "---------------\n",
      "attribute_9\n",
      "0.17800288461538455\n",
      "0.15225\n",
      "---------------\n",
      "attribute_10\n",
      "0.2082591346153846\n",
      "0.1824\n",
      "---------------\n",
      "attribute_11\n",
      "0.2360129807692308\n",
      "0.2248\n",
      "---------------\n",
      "attribute_12\n",
      "0.25022115384615395\n",
      "0.24905\n",
      "---------------\n",
      "attribute_13\n",
      "0.2733052884615385\n",
      "0.26395\n",
      "---------------\n",
      "attribute_14\n",
      "0.2965682692307692\n",
      "0.2811\n",
      "---------------\n",
      "attribute_15\n",
      "0.32020144230769243\n",
      "0.28169999999999995\n",
      "---------------\n",
      "attribute_16\n",
      "0.3784865384615385\n",
      "0.30469999999999997\n",
      "---------------\n",
      "attribute_17\n",
      "0.4159831730769229\n",
      "0.3084\n",
      "---------------\n",
      "attribute_18\n",
      "0.4523182692307695\n",
      "0.3683\n",
      "---------------\n",
      "attribute_19\n",
      "0.5048115384615385\n",
      "0.43495\n",
      "---------------\n",
      "attribute_20\n",
      "0.5630466346153848\n",
      "0.5425\n",
      "---------------\n",
      "attribute_21\n",
      "0.609060096153846\n",
      "0.6176999999999999\n",
      "---------------\n",
      "attribute_22\n",
      "0.6242750000000001\n",
      "0.6649\n",
      "---------------\n",
      "attribute_23\n",
      "0.6469750000000002\n",
      "0.6997\n",
      "---------------\n",
      "attribute_24\n",
      "0.6726543269230771\n",
      "0.6985\n",
      "---------------\n",
      "attribute_25\n",
      "0.675423557692308\n",
      "0.7211\n",
      "---------------\n",
      "attribute_26\n",
      "0.699866346153846\n",
      "0.7545\n",
      "---------------\n",
      "attribute_27\n",
      "0.7021548076923081\n",
      "0.7456\n",
      "---------------\n",
      "attribute_28\n",
      "0.6940240384615385\n",
      "0.7319\n",
      "---------------\n",
      "attribute_29\n",
      "0.6420740384615382\n",
      "0.6808000000000001\n",
      "---------------\n",
      "attribute_30\n",
      "0.5809278846153845\n",
      "0.6071500000000001\n",
      "---------------\n",
      "attribute_31\n",
      "0.5044754807692308\n",
      "0.49034999999999995\n",
      "---------------\n",
      "attribute_32\n",
      "0.4390403846153847\n",
      "0.4296\n",
      "---------------\n",
      "attribute_33\n",
      "0.4172197115384614\n",
      "0.3912\n",
      "---------------\n",
      "attribute_34\n",
      "0.40323317307692325\n",
      "0.35105\n",
      "---------------\n",
      "attribute_35\n",
      "0.3925711538461537\n",
      "0.31275\n",
      "---------------\n",
      "attribute_36\n",
      "0.3848475961538464\n",
      "0.32115\n",
      "---------------\n",
      "attribute_37\n",
      "0.3638067307692309\n",
      "0.3063\n",
      "---------------\n",
      "attribute_38\n",
      "0.3396572115384615\n",
      "0.3127\n",
      "---------------\n",
      "attribute_39\n",
      "0.3257995192307692\n",
      "0.2835\n",
      "---------------\n",
      "attribute_40\n",
      "0.3112067307692309\n",
      "0.27805\n",
      "---------------\n",
      "attribute_41\n",
      "0.28925192307692316\n",
      "0.2595\n",
      "---------------\n",
      "attribute_42\n",
      "0.27829326923076914\n",
      "0.24509999999999998\n",
      "---------------\n",
      "attribute_43\n",
      "0.24654182692307686\n",
      "0.22255\n",
      "---------------\n",
      "attribute_44\n",
      "0.21407500000000004\n",
      "0.17770000000000002\n",
      "---------------\n",
      "attribute_45\n",
      "0.1972322115384616\n",
      "0.148\n",
      "---------------\n",
      "attribute_46\n",
      "0.16063124999999995\n",
      "0.12135\n",
      "---------------\n",
      "attribute_47\n",
      "0.12245288461538466\n",
      "0.10165\n",
      "---------------\n",
      "attribute_48\n",
      "0.09142403846153843\n",
      "0.0781\n",
      "---------------\n",
      "attribute_49\n",
      "0.05192884615384616\n",
      "0.044700000000000004\n",
      "---------------\n",
      "attribute_50\n",
      "0.02042403846153846\n",
      "0.0179\n",
      "---------------\n",
      "attribute_51\n",
      "0.016068750000000007\n",
      "0.0139\n",
      "---------------\n",
      "attribute_52\n",
      "0.013420192307692317\n",
      "0.0114\n",
      "---------------\n",
      "attribute_53\n",
      "0.010709134615384612\n",
      "0.00955\n",
      "---------------\n",
      "attribute_54\n",
      "0.010940865384615391\n",
      "0.0093\n",
      "---------------\n",
      "attribute_55\n",
      "0.009290384615384615\n",
      "0.0075\n",
      "---------------\n",
      "attribute_56\n",
      "0.008221634615384612\n",
      "0.00685\n",
      "---------------\n",
      "attribute_57\n",
      "0.00782019230769231\n",
      "0.00595\n",
      "---------------\n",
      "attribute_58\n",
      "0.007949038461538457\n",
      "0.0058\n",
      "---------------\n",
      "attribute_59\n",
      "0.007941346153846155\n",
      "0.0063999999999999994\n",
      "---------------\n",
      "attribute_60\n",
      "0.006507211538461542\n",
      "0.0053\n",
      "---------------\n"
     ]
    }
   ],
   "source": [
    "for c in sonar.drop('Class', axis=1).columns :\n",
    "    print(c)\n",
    "    print(sonar[c].mean())\n",
    "    print(sonar[c].median())\n",
    "    print('---------------')"
   ]
  },
  {
   "cell_type": "code",
   "execution_count": 38,
   "id": "55d7555e-d4ec-460b-a5b2-b50fd5eddfec",
   "metadata": {},
   "outputs": [],
   "source": [
    "x = sonar.drop('Class', axis = 1)"
   ]
  },
  {
   "cell_type": "code",
   "execution_count": 39,
   "id": "94f40596-c47f-4045-b51b-8ca986c19b82",
   "metadata": {},
   "outputs": [],
   "source": [
    "y = sonar['Class']"
   ]
  },
  {
   "cell_type": "code",
   "execution_count": 40,
   "id": "ded5b1a1-95ad-4f85-b140-09a5b9d324eb",
   "metadata": {},
   "outputs": [],
   "source": [
    "x_train, x_test, y_train, y_test = train_test_split(x, y, test_size = 0.1, stratify = y, random_state = 0) # stratify =  -> 기준점"
   ]
  },
  {
   "cell_type": "code",
   "execution_count": 41,
   "id": "712e17de-be55-43b5-ae20-02f3f64c3b05",
   "metadata": {},
   "outputs": [],
   "source": [
    "from sklearn.preprocessing import StandardScaler"
   ]
  },
  {
   "cell_type": "code",
   "execution_count": 42,
   "id": "d50c3391-e518-4a8e-a623-8ae3dcde01f3",
   "metadata": {},
   "outputs": [],
   "source": [
    "scaler = StandardScaler() # 평균과 표준편차 "
   ]
  },
  {
   "cell_type": "markdown",
   "id": "56d60db7-2507-4c0a-adc9-a97f349e69de",
   "metadata": {},
   "source": [
    "scaler.fit(x_train) # x_train의 평균과 표준편차 / = scaler.fit_transform(x_train)\n",
    "x_test = scaler.transform(x_test)"
   ]
  },
  {
   "cell_type": "markdown",
   "id": "d81614bf-75fc-463c-90b1-0579e70f6d51",
   "metadata": {},
   "source": [
    "scaler.fit(x_train) # 속성별로 학습시키고\n",
    "x_train = x_train.transform(x_train) # 속성별 내부에서의 각각의 값들을 StandardScaler() 해주는 과정\n",
    "\n",
    "-> # x_train = scaler.fit_transform(x_train)"
   ]
  },
  {
   "cell_type": "code",
   "execution_count": 43,
   "id": "3b3d95c6-453d-4462-8af0-f270d8837839",
   "metadata": {},
   "outputs": [],
   "source": [
    "x_train = scaler.fit_transform(x_train)\n",
    "x_test= scaler.transform(x_test)\n",
    "# x_test = scaler.transform(x_test)"
   ]
  },
  {
   "cell_type": "code",
   "execution_count": 44,
   "id": "c05c04b0-ee9f-4231-98c2-dff4cddf6283",
   "metadata": {
    "tags": []
   },
   "outputs": [
    {
     "data": {
      "text/plain": [
       "array([[ 0.43842592, -0.82597191, -0.43050828, ..., -0.55677057,\n",
       "        -0.90845389, -0.99275199],\n",
       "       [ 0.70074558,  0.41166228,  1.04312784, ..., -0.48133505,\n",
       "        -0.43934248, -0.40089879],\n",
       "       [ 0.35671979, -0.31004247, -0.52005214, ..., -0.40589954,\n",
       "         0.07668006, -0.08524374],\n",
       "       ...,\n",
       "       [ 0.3782214 , -0.19969919, -0.0313985 , ..., -0.28520272,\n",
       "        -0.5800759 , -0.22334282],\n",
       "       [-0.7355621 ,  0.58761509,  0.48028071, ..., -0.11924459,\n",
       "        -0.78335751,  1.4535746 ],\n",
       "       [ 3.4314503 ,  2.66326183,  1.25547471, ...,  1.87225297,\n",
       "         1.53092542,  2.42026817]])"
      ]
     },
     "execution_count": 44,
     "metadata": {},
     "output_type": "execute_result"
    }
   ],
   "source": [
    "x_train"
   ]
  },
  {
   "cell_type": "code",
   "execution_count": 45,
   "id": "c9151ac5-f0c6-4278-8d5a-638214ab429f",
   "metadata": {},
   "outputs": [],
   "source": [
    "model3 = LogisticRegression()"
   ]
  },
  {
   "cell_type": "code",
   "execution_count": 46,
   "id": "7a110e4f-7f40-4193-b156-621bf4e3cf23",
   "metadata": {
    "tags": []
   },
   "outputs": [
    {
     "data": {
      "text/plain": [
       "LogisticRegression()"
      ]
     },
     "execution_count": 46,
     "metadata": {},
     "output_type": "execute_result"
    }
   ],
   "source": [
    "model3.fit(x_train, y_train)"
   ]
  },
  {
   "cell_type": "code",
   "execution_count": 47,
   "id": "ac4a4a54-a344-48cc-80b3-9d575c52d6f2",
   "metadata": {
    "tags": []
   },
   "outputs": [
    {
     "data": {
      "text/plain": [
       "array(['Mine', 'Rock', 'Rock', 'Mine', 'Rock', 'Mine', 'Rock', 'Mine',\n",
       "       'Mine', 'Mine', 'Rock', 'Mine', 'Rock', 'Mine', 'Rock', 'Mine',\n",
       "       'Rock', 'Rock', 'Rock', 'Rock', 'Mine', 'Rock', 'Rock', 'Mine',\n",
       "       'Mine', 'Rock', 'Mine', 'Mine', 'Rock', 'Mine', 'Mine', 'Mine',\n",
       "       'Mine', 'Mine', 'Mine', 'Rock', 'Rock', 'Rock', 'Rock', 'Rock',\n",
       "       'Mine', 'Mine', 'Mine', 'Rock', 'Mine', 'Rock', 'Mine', 'Mine',\n",
       "       'Mine', 'Rock', 'Mine', 'Mine', 'Mine', 'Mine', 'Mine', 'Rock',\n",
       "       'Rock', 'Mine', 'Mine', 'Mine', 'Mine', 'Mine', 'Mine', 'Mine',\n",
       "       'Mine', 'Rock', 'Rock', 'Mine', 'Mine', 'Rock', 'Mine', 'Rock',\n",
       "       'Mine', 'Rock', 'Mine', 'Rock', 'Rock', 'Mine', 'Mine', 'Mine',\n",
       "       'Rock', 'Mine', 'Mine', 'Rock', 'Mine', 'Mine', 'Mine', 'Rock',\n",
       "       'Rock', 'Mine', 'Rock', 'Rock', 'Mine', 'Mine', 'Rock', 'Mine',\n",
       "       'Rock', 'Mine', 'Mine', 'Rock', 'Rock', 'Mine', 'Mine', 'Rock',\n",
       "       'Rock', 'Rock', 'Rock', 'Mine', 'Rock', 'Mine', 'Rock', 'Mine',\n",
       "       'Rock', 'Mine', 'Rock', 'Mine', 'Mine', 'Rock', 'Rock', 'Rock',\n",
       "       'Mine', 'Rock', 'Rock', 'Rock', 'Mine', 'Mine', 'Mine', 'Rock',\n",
       "       'Rock', 'Mine', 'Mine', 'Rock', 'Rock', 'Rock', 'Mine', 'Rock',\n",
       "       'Rock', 'Mine', 'Mine', 'Rock', 'Rock', 'Mine', 'Mine', 'Rock',\n",
       "       'Mine', 'Mine', 'Mine', 'Rock', 'Rock', 'Mine', 'Mine', 'Rock',\n",
       "       'Rock', 'Mine', 'Rock', 'Rock', 'Mine', 'Mine', 'Rock', 'Mine',\n",
       "       'Rock', 'Rock', 'Mine', 'Rock', 'Mine', 'Mine', 'Rock', 'Mine',\n",
       "       'Mine', 'Rock', 'Rock', 'Rock', 'Rock', 'Rock', 'Mine', 'Mine',\n",
       "       'Mine', 'Mine', 'Mine', 'Rock', 'Mine', 'Mine', 'Rock', 'Mine',\n",
       "       'Rock', 'Rock', 'Mine'], dtype=object)"
      ]
     },
     "execution_count": 47,
     "metadata": {},
     "output_type": "execute_result"
    }
   ],
   "source": [
    "model3.predict(x_train)"
   ]
  },
  {
   "cell_type": "code",
   "execution_count": 48,
   "id": "85b3d90b-a15a-4547-8cd1-95adccc16e5e",
   "metadata": {},
   "outputs": [
    {
     "name": "stdout",
     "output_type": "stream",
     "text": [
      "(187, 60) (187,)\n"
     ]
    }
   ],
   "source": [
    "print(x_train.shape, y_train.shape)"
   ]
  },
  {
   "cell_type": "code",
   "execution_count": 49,
   "id": "f9905c15-8a51-404f-8657-c540298ded3b",
   "metadata": {},
   "outputs": [
    {
     "data": {
      "text/plain": [
       "0.93048128342246"
      ]
     },
     "execution_count": 49,
     "metadata": {},
     "output_type": "execute_result"
    }
   ],
   "source": [
    "model3.score(x_train, y_train)"
   ]
  },
  {
   "cell_type": "code",
   "execution_count": 50,
   "id": "9593719b-2ebb-4159-939a-875cb4a8c4a1",
   "metadata": {},
   "outputs": [
    {
     "data": {
      "text/plain": [
       "0.8571428571428571"
      ]
     },
     "execution_count": 50,
     "metadata": {},
     "output_type": "execute_result"
    }
   ],
   "source": [
    "model3.score(x_test, y_test)"
   ]
  },
  {
   "cell_type": "code",
   "execution_count": 51,
   "id": "d87157e6-18bd-499d-bf95-14b53e0e5dd5",
   "metadata": {},
   "outputs": [],
   "source": [
    "real = x.iloc[0].values"
   ]
  },
  {
   "cell_type": "code",
   "execution_count": 52,
   "id": "b1486416-10c9-4414-8c99-5b35bc93e65c",
   "metadata": {},
   "outputs": [
    {
     "data": {
      "text/plain": [
       "array([0.02  , 0.0371, 0.0428, 0.0207, 0.0954, 0.0986, 0.1539, 0.1601,\n",
       "       0.3109, 0.2111, 0.1609, 0.1582, 0.2238, 0.0645, 0.066 , 0.2273,\n",
       "       0.31  , 0.2999, 0.5078, 0.4797, 0.5783, 0.5071, 0.4328, 0.555 ,\n",
       "       0.6711, 0.6415, 0.7104, 0.808 , 0.6791, 0.3857, 0.1307, 0.2604,\n",
       "       0.5121, 0.7547, 0.8537, 0.8507, 0.6692, 0.6097, 0.4943, 0.2744,\n",
       "       0.051 , 0.2834, 0.2825, 0.4256, 0.2641, 0.1386, 0.1051, 0.1343,\n",
       "       0.0383, 0.0324, 0.0232, 0.0027, 0.0065, 0.0159, 0.0072, 0.0167,\n",
       "       0.018 , 0.0084, 0.009 , 0.0032])"
      ]
     },
     "execution_count": 52,
     "metadata": {},
     "output_type": "execute_result"
    }
   ],
   "source": [
    "real"
   ]
  },
  {
   "cell_type": "code",
   "execution_count": null,
   "id": "f34a617e-bf62-4aad-a6d0-4465a6008058",
   "metadata": {},
   "outputs": [],
   "source": [
    "# 1. 데이터 -> 전처리(scale) -> train/test (에이스 version) -> 학습(fit) -> 검증(score)\n",
    "# 1-1. 데이터 -> train/test -> scale (강사님 version) -> 학습(fit) -> 검증(score)"
   ]
  },
  {
   "cell_type": "code",
   "execution_count": null,
   "id": "259efbbe-9a54-4019-aafd-48e26d414a84",
   "metadata": {},
   "outputs": [],
   "source": [
    "# real -> 전처리(scale) -> 예측(predict)"
   ]
  },
  {
   "cell_type": "code",
   "execution_count": 53,
   "id": "25b913ae-4b45-41da-a770-6bad80ae9ea8",
   "metadata": {},
   "outputs": [],
   "source": [
    "real = x.iloc[0].values.reshape(1, -1)"
   ]
  },
  {
   "cell_type": "code",
   "execution_count": 54,
   "id": "6cbd8b11-4646-4862-847e-e7098f308e9a",
   "metadata": {},
   "outputs": [
    {
     "name": "stderr",
     "output_type": "stream",
     "text": [
      "C:\\Users\\user\\anaconda3\\lib\\site-packages\\sklearn\\base.py:450: UserWarning: X does not have valid feature names, but StandardScaler was fitted with feature names\n",
      "  warnings.warn(\n"
     ]
    }
   ],
   "source": [
    "real = scaler.transform(real)"
   ]
  },
  {
   "cell_type": "code",
   "execution_count": 55,
   "id": "738a6f4d-358e-4b4a-9f30-6cae57601414",
   "metadata": {},
   "outputs": [
    {
     "data": {
      "text/plain": [
       "array(['Rock'], dtype=object)"
      ]
     },
     "execution_count": 55,
     "metadata": {},
     "output_type": "execute_result"
    }
   ],
   "source": [
    "model3.predict(real)"
   ]
  },
  {
   "cell_type": "code",
   "execution_count": 56,
   "id": "2956af99-adbd-4e1c-8906-9280db47b51a",
   "metadata": {},
   "outputs": [],
   "source": [
    "predict = model3.predict(real)[0]"
   ]
  },
  {
   "cell_type": "code",
   "execution_count": 57,
   "id": "879d6c49-4509-474e-ac99-f18432d67bf6",
   "metadata": {},
   "outputs": [
    {
     "name": "stdout",
     "output_type": "stream",
     "text": [
      "Rock이 탐지되었습니다.\n"
     ]
    }
   ],
   "source": [
    "print(predict + '이 탐지되었습니다.')"
   ]
  },
  {
   "cell_type": "code",
   "execution_count": null,
   "id": "69e9f998-1dbc-4012-97b3-f1d9ff5c0d4e",
   "metadata": {},
   "outputs": [],
   "source": []
  },
  {
   "cell_type": "code",
   "execution_count": 58,
   "id": "0d106258-99b7-4b0d-b309-569a1fbf2f87",
   "metadata": {},
   "outputs": [],
   "source": [
    "import pickle"
   ]
  },
  {
   "cell_type": "code",
   "execution_count": 59,
   "id": "1c9a89be-b454-47cb-bfdb-fc00d95916e8",
   "metadata": {},
   "outputs": [],
   "source": [
    "with open('scaler.pkl', 'wb') as f :\n",
    "    pickle.dump(scaler, f)"
   ]
  },
  {
   "cell_type": "code",
   "execution_count": 62,
   "id": "de13db83-aabf-4c28-9604-e4e6a3e0519b",
   "metadata": {},
   "outputs": [],
   "source": [
    "with open('model3.pkl', 'wb') as f :\n",
    "    pickle.dump(model3, f)"
   ]
  },
  {
   "cell_type": "code",
   "execution_count": null,
   "id": "f09fd1dd-3479-476c-9697-91d9c1cd8cc7",
   "metadata": {},
   "outputs": [],
   "source": []
  }
 ],
 "metadata": {
  "kernelspec": {
   "display_name": "Python 3.9.13 ('base')",
   "language": "python",
   "name": "python3"
  },
  "language_info": {
   "codemirror_mode": {
    "name": "ipython",
    "version": 3
   },
   "file_extension": ".py",
   "mimetype": "text/x-python",
   "name": "python",
   "nbconvert_exporter": "python",
   "pygments_lexer": "ipython3",
   "version": "3.9.13"
  },
  "vscode": {
   "interpreter": {
    "hash": "701d4f28dcd0866722f5108a3a4cbcd08882d26398b6d44117e791d7b8102912"
   }
  }
 },
 "nbformat": 4,
 "nbformat_minor": 5
}
