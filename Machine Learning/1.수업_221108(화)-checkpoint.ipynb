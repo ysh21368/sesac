{
 "cells": [
  {
   "cell_type": "markdown",
   "id": "09a9947c-4f92-4f75-9a09-7561ea9e1206",
   "metadata": {},
   "source": [
    "# 22-11-08(화)\n",
    "오전: \n",
    "이론 수업(AI 서비스 알고리즘 구현 실무(데이터 모델링))"
   ]
  },
  {
   "cell_type": "code",
   "execution_count": null,
   "id": "ac254d6d-ef61-4870-9cdf-ae2fe30fc17e",
   "metadata": {},
   "outputs": [],
   "source": [
    "(참고)\n",
    "*머신러닝: 도메인 지식(관련 분야에 대한 배경지식)이 많이 필요함, (데이터 -> 도메인 지식)\n",
    "머신러닝을 할 때는 '특징(Feature)'을 잘 뽑아내야한다.\n",
    "*딥러닝: 알고리즘을 잘 짜야함 / '특징 엔지니어링' 알고리즘을 거치지 않는다. / 딥러닝은 레고"
   ]
  },
  {
   "cell_type": "code",
   "execution_count": null,
   "id": "73d04765-784e-4301-a247-3083b1c07aa8",
   "metadata": {},
   "outputs": [],
   "source": [
    "목차\n",
    "1.머신러닝의 이해\n",
    "2.머신러닝 알고리즘 이해\n",
    "3.딥러닝의 이해"
   ]
  },
  {
   "cell_type": "code",
   "execution_count": null,
   "id": "9cb5ec4d-6108-4aef-adc6-f03e5e296b5a",
   "metadata": {},
   "outputs": [],
   "source": [
    "1.머신러닝의 이해\n",
    "데이터분석 vs 머신러닝(딥러닝)"
   ]
  },
  {
   "cell_type": "markdown",
   "id": "570bb151-19f2-45e9-9df6-100d1d1fe53c",
   "metadata": {},
   "source": [
    "## 머시러닝 프로세스\n",
    "지도학습(분류, 회귀) vs 비지도학습(군집화)"
   ]
  },
  {
   "cell_type": "code",
   "execution_count": null,
   "id": "4fcb5134-002c-43dc-912d-d65b8c49fcd6",
   "metadata": {},
   "outputs": [],
   "source": [
    "*지도학습\n",
    "1)분류(Classification): 머신러닝에서는 분류인 Classification을 많이 사용한다.\n",
    "2)회귀(Regression): 통계학에서 많이 다룬다.\n",
    "\n",
    "*비지도학습\n",
    "3)군집화(Clustering)"
   ]
  },
  {
   "cell_type": "code",
   "execution_count": null,
   "id": "860e9fa1-708d-4205-b678-b5cdc3e497cc",
   "metadata": {},
   "outputs": [],
   "source": [
    "머신러닝을 할 때는 '특징(Feature)'을 잘 뽑아내야한다."
   ]
  },
  {
   "cell_type": "code",
   "execution_count": null,
   "id": "f505ef0e-7db7-4112-beca-af7824438e8d",
   "metadata": {},
   "outputs": [],
   "source": [
    "-일반화(Generalization)\n",
    "-분류 문제 한정(Confusion Matrix)\n",
    "Imbalanced data"
   ]
  },
  {
   "cell_type": "code",
   "execution_count": null,
   "id": "c42aae9d-55cc-472c-a65d-a032fad5aed1",
   "metadata": {},
   "outputs": [],
   "source": [
    "XGBoost(XGB), LightGB(LGB)"
   ]
  },
  {
   "cell_type": "markdown",
   "id": "1f483bf0-2d28-436a-b4d5-cbc48a6ff6ff",
   "metadata": {
    "tags": []
   },
   "source": [
    "# 22-11-08(화)\n",
    "오후:\n",
    "이론 수업(AI 서비스 알고리즘 구현 실무(데이터 모델링): 2장 머신러닝 알고리즘 이해)\n",
    "실습"
   ]
  },
  {
   "cell_type": "markdown",
   "id": "581a334e-6274-4e1f-906f-b8a4bacaddd6",
   "metadata": {},
   "source": [
    "- Linear Regression\n",
    "Cost Function(MSE, MSE가 작을수록 좋고 커질수록 안좋아진다.)\n",
    "Gradient Descent(경사하강법)"
   ]
  },
  {
   "cell_type": "code",
   "execution_count": null,
   "id": "0c32fce0-35c6-4413-b82b-69bc3b7c1bee",
   "metadata": {},
   "outputs": [],
   "source": [
    "# 승현이 문제1\n",
    "a = input(\"a: \") #1\n",
    "b = input(\"b: \") #2\n",
    "print(\"a: \" + a) #3\n",
    "print(\"b: \" + b) #4"
   ]
  },
  {
   "cell_type": "code",
   "execution_count": 45,
   "id": "f95683cd-7916-489b-ad03-2512b7785a63",
   "metadata": {
    "tags": []
   },
   "outputs": [
    {
     "name": "stdout",
     "output_type": "stream",
     "text": [
      "a:  1\n",
      "b:  2\n"
     ]
    }
   ],
   "source": [
    "#answer\n",
    "a = input(\"a: \")\n",
    "b = input(\"b: \")"
   ]
  },
  {
   "cell_type": "code",
   "execution_count": 48,
   "id": "5ecb7a5c-d4ad-4d78-85e3-72713d144d8e",
   "metadata": {},
   "outputs": [],
   "source": [
    "c = a\n",
    "d = b\n",
    "\n",
    "a = d\n",
    "b = c"
   ]
  },
  {
   "cell_type": "code",
   "execution_count": 49,
   "id": "8948d3b5-f040-42cf-ad91-574590ecc1d2",
   "metadata": {},
   "outputs": [
    {
     "name": "stdout",
     "output_type": "stream",
     "text": [
      "a: 2\n",
      "b: 1\n"
     ]
    }
   ],
   "source": [
    "print(\"a: \" + a)\n",
    "print(\"b: \" + b)"
   ]
  }
 ],
 "metadata": {
  "kernelspec": {
   "display_name": "Python 3.9.13 ('base')",
   "language": "python",
   "name": "python3"
  },
  "language_info": {
   "codemirror_mode": {
    "name": "ipython",
    "version": 3
   },
   "file_extension": ".py",
   "mimetype": "text/x-python",
   "name": "python",
   "nbconvert_exporter": "python",
   "pygments_lexer": "ipython3",
   "version": "3.9.13"
  },
  "vscode": {
   "interpreter": {
    "hash": "701d4f28dcd0866722f5108a3a4cbcd08882d26398b6d44117e791d7b8102912"
   }
  }
 },
 "nbformat": 4,
 "nbformat_minor": 5
}
