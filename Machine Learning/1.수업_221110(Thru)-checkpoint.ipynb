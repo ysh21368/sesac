{
 "cells": [
  {
   "cell_type": "markdown",
   "id": "87a300a7-dfdc-4b87-a743-fd7f0385f22a",
   "metadata": {},
   "source": [
    "# 오전 수업"
   ]
  },
  {
   "cell_type": "markdown",
   "id": "543e2567-2f71-4f9e-a49f-6f03ddab173c",
   "metadata": {},
   "source": [
    "차수 높이면 오버핏(과적합)이 일어난다."
   ]
  },
  {
   "cell_type": "markdown",
   "id": "4036246a-ab69-4104-adbe-4dad377449b9",
   "metadata": {},
   "source": [
    "SVM: Support Vector Machine"
   ]
  },
  {
   "cell_type": "markdown",
   "id": "73d6e59a-d05e-4090-876d-2f9e872fa366",
   "metadata": {
    "tags": []
   },
   "source": [
    "# 문제: Diabetes 데이터  셋을  이용해서  당뇨병이  있는지를  구분하는  모델  만들기 "
   ]
  },
  {
   "cell_type": "code",
   "execution_count": 1,
   "id": "33d5e534-9b26-412a-b5f2-af1e6cbab9a7",
   "metadata": {},
   "outputs": [],
   "source": [
    "import pandas as pd\n",
    "import numpy as np\n",
    "import seaborn as sns\n",
    "import warnings\n",
    "warnings.filterwarnings('ignore')\n",
    "\n",
    "from sklearn.svm import SVC #classfication\n",
    "from sklearn.model_selection import train_test_split\n",
    "import matplotlib.pyplot as plt"
   ]
  },
  {
   "cell_type": "code",
   "execution_count": 2,
   "id": "e29c81d6-8ff1-42c9-a207-8b8ac584bbe8",
   "metadata": {},
   "outputs": [],
   "source": [
    "data = pd.read_csv('diabetes.csv')"
   ]
  },
  {
   "cell_type": "code",
   "execution_count": 3,
   "id": "7cda030f-7ae4-4423-8dd6-05cf6b767438",
   "metadata": {
    "collapsed": true,
    "jupyter": {
     "outputs_hidden": true
    },
    "tags": []
   },
   "outputs": [
    {
     "data": {
      "text/html": [
       "<div>\n",
       "<style scoped>\n",
       "    .dataframe tbody tr th:only-of-type {\n",
       "        vertical-align: middle;\n",
       "    }\n",
       "\n",
       "    .dataframe tbody tr th {\n",
       "        vertical-align: top;\n",
       "    }\n",
       "\n",
       "    .dataframe thead th {\n",
       "        text-align: right;\n",
       "    }\n",
       "</style>\n",
       "<table border=\"1\" class=\"dataframe\">\n",
       "  <thead>\n",
       "    <tr style=\"text-align: right;\">\n",
       "      <th></th>\n",
       "      <th>Pregnancies</th>\n",
       "      <th>Glucose</th>\n",
       "      <th>BloodPressure</th>\n",
       "      <th>SkinThickness</th>\n",
       "      <th>Insulin</th>\n",
       "      <th>BMI</th>\n",
       "      <th>DiabetesPedigreeFunction</th>\n",
       "      <th>Age</th>\n",
       "      <th>Outcome</th>\n",
       "    </tr>\n",
       "  </thead>\n",
       "  <tbody>\n",
       "    <tr>\n",
       "      <th>0</th>\n",
       "      <td>6</td>\n",
       "      <td>148</td>\n",
       "      <td>72</td>\n",
       "      <td>35</td>\n",
       "      <td>0</td>\n",
       "      <td>33.6</td>\n",
       "      <td>0.627</td>\n",
       "      <td>50</td>\n",
       "      <td>1</td>\n",
       "    </tr>\n",
       "    <tr>\n",
       "      <th>1</th>\n",
       "      <td>1</td>\n",
       "      <td>85</td>\n",
       "      <td>66</td>\n",
       "      <td>29</td>\n",
       "      <td>0</td>\n",
       "      <td>26.6</td>\n",
       "      <td>0.351</td>\n",
       "      <td>31</td>\n",
       "      <td>0</td>\n",
       "    </tr>\n",
       "    <tr>\n",
       "      <th>2</th>\n",
       "      <td>8</td>\n",
       "      <td>183</td>\n",
       "      <td>64</td>\n",
       "      <td>0</td>\n",
       "      <td>0</td>\n",
       "      <td>23.3</td>\n",
       "      <td>0.672</td>\n",
       "      <td>32</td>\n",
       "      <td>1</td>\n",
       "    </tr>\n",
       "    <tr>\n",
       "      <th>3</th>\n",
       "      <td>1</td>\n",
       "      <td>89</td>\n",
       "      <td>66</td>\n",
       "      <td>23</td>\n",
       "      <td>94</td>\n",
       "      <td>28.1</td>\n",
       "      <td>0.167</td>\n",
       "      <td>21</td>\n",
       "      <td>0</td>\n",
       "    </tr>\n",
       "    <tr>\n",
       "      <th>4</th>\n",
       "      <td>0</td>\n",
       "      <td>137</td>\n",
       "      <td>40</td>\n",
       "      <td>35</td>\n",
       "      <td>168</td>\n",
       "      <td>43.1</td>\n",
       "      <td>2.288</td>\n",
       "      <td>33</td>\n",
       "      <td>1</td>\n",
       "    </tr>\n",
       "    <tr>\n",
       "      <th>...</th>\n",
       "      <td>...</td>\n",
       "      <td>...</td>\n",
       "      <td>...</td>\n",
       "      <td>...</td>\n",
       "      <td>...</td>\n",
       "      <td>...</td>\n",
       "      <td>...</td>\n",
       "      <td>...</td>\n",
       "      <td>...</td>\n",
       "    </tr>\n",
       "    <tr>\n",
       "      <th>763</th>\n",
       "      <td>10</td>\n",
       "      <td>101</td>\n",
       "      <td>76</td>\n",
       "      <td>48</td>\n",
       "      <td>180</td>\n",
       "      <td>32.9</td>\n",
       "      <td>0.171</td>\n",
       "      <td>63</td>\n",
       "      <td>0</td>\n",
       "    </tr>\n",
       "    <tr>\n",
       "      <th>764</th>\n",
       "      <td>2</td>\n",
       "      <td>122</td>\n",
       "      <td>70</td>\n",
       "      <td>27</td>\n",
       "      <td>0</td>\n",
       "      <td>36.8</td>\n",
       "      <td>0.340</td>\n",
       "      <td>27</td>\n",
       "      <td>0</td>\n",
       "    </tr>\n",
       "    <tr>\n",
       "      <th>765</th>\n",
       "      <td>5</td>\n",
       "      <td>121</td>\n",
       "      <td>72</td>\n",
       "      <td>23</td>\n",
       "      <td>112</td>\n",
       "      <td>26.2</td>\n",
       "      <td>0.245</td>\n",
       "      <td>30</td>\n",
       "      <td>0</td>\n",
       "    </tr>\n",
       "    <tr>\n",
       "      <th>766</th>\n",
       "      <td>1</td>\n",
       "      <td>126</td>\n",
       "      <td>60</td>\n",
       "      <td>0</td>\n",
       "      <td>0</td>\n",
       "      <td>30.1</td>\n",
       "      <td>0.349</td>\n",
       "      <td>47</td>\n",
       "      <td>1</td>\n",
       "    </tr>\n",
       "    <tr>\n",
       "      <th>767</th>\n",
       "      <td>1</td>\n",
       "      <td>93</td>\n",
       "      <td>70</td>\n",
       "      <td>31</td>\n",
       "      <td>0</td>\n",
       "      <td>30.4</td>\n",
       "      <td>0.315</td>\n",
       "      <td>23</td>\n",
       "      <td>0</td>\n",
       "    </tr>\n",
       "  </tbody>\n",
       "</table>\n",
       "<p>768 rows × 9 columns</p>\n",
       "</div>"
      ],
      "text/plain": [
       "     Pregnancies  Glucose  BloodPressure  SkinThickness  Insulin   BMI  \\\n",
       "0              6      148             72             35        0  33.6   \n",
       "1              1       85             66             29        0  26.6   \n",
       "2              8      183             64              0        0  23.3   \n",
       "3              1       89             66             23       94  28.1   \n",
       "4              0      137             40             35      168  43.1   \n",
       "..           ...      ...            ...            ...      ...   ...   \n",
       "763           10      101             76             48      180  32.9   \n",
       "764            2      122             70             27        0  36.8   \n",
       "765            5      121             72             23      112  26.2   \n",
       "766            1      126             60              0        0  30.1   \n",
       "767            1       93             70             31        0  30.4   \n",
       "\n",
       "     DiabetesPedigreeFunction  Age  Outcome  \n",
       "0                       0.627   50        1  \n",
       "1                       0.351   31        0  \n",
       "2                       0.672   32        1  \n",
       "3                       0.167   21        0  \n",
       "4                       2.288   33        1  \n",
       "..                        ...  ...      ...  \n",
       "763                     0.171   63        0  \n",
       "764                     0.340   27        0  \n",
       "765                     0.245   30        0  \n",
       "766                     0.349   47        1  \n",
       "767                     0.315   23        0  \n",
       "\n",
       "[768 rows x 9 columns]"
      ]
     },
     "execution_count": 3,
     "metadata": {},
     "output_type": "execute_result"
    }
   ],
   "source": [
    "data"
   ]
  },
  {
   "cell_type": "code",
   "execution_count": null,
   "id": "bf87c2c4-06d3-4768-ae76-43db75ecf862",
   "metadata": {},
   "outputs": [],
   "source": [
    "data.head()"
   ]
  },
  {
   "cell_type": "markdown",
   "id": "00470829-8df9-4ba6-b57d-ba679833a9e4",
   "metadata": {
    "jupyter": {
     "source_hidden": true
    },
    "tags": []
   },
   "source": [
    "Pregnancies: 임신횟수\n",
    "Glucose: 포도당 부하 검사 수치\n",
    "BloodPressure: 혈압(mm Hg)\n",
    "SkinTickness: 팔 삼두근 뒤쪽의 피하지방 측정값(mm)\n",
    "Insulin: 혈청 인슐린(mu U/ml)\n",
    "BMI: 체질량지수\n",
    "DiabetesPedigreeFunction: 당뇨 내력 가중치 값\n",
    "Age: 나이\n",
    "Outcome: 당뇨여부"
   ]
  },
  {
   "cell_type": "code",
   "execution_count": null,
   "id": "975ef78e-55fd-4a86-af51-e37ec9325903",
   "metadata": {},
   "outputs": [],
   "source": [
    "data.info() #dtype이 모두 수치형이므로 문자열->숫자로 치환해줄 필요가 없음"
   ]
  },
  {
   "cell_type": "code",
   "execution_count": null,
   "id": "fb46e69a-3f25-4364-b58e-49144bb0e0a8",
   "metadata": {},
   "outputs": [],
   "source": [
    "data.describe()"
   ]
  },
  {
   "cell_type": "code",
   "execution_count": null,
   "id": "0f4ededb-9bf6-4ab0-b98a-da2c8191fa40",
   "metadata": {},
   "outputs": [],
   "source": [
    "data.describe().T"
   ]
  },
  {
   "cell_type": "code",
   "execution_count": null,
   "id": "88088af2-8e92-4b65-b8a2-c5f6db0766cb",
   "metadata": {},
   "outputs": [],
   "source": [
    "data.isnull().sum() #널 값이 0인 것을 확인"
   ]
  },
  {
   "cell_type": "code",
   "execution_count": null,
   "id": "fdee80ef-7ea8-462f-bc76-cde349f7209b",
   "metadata": {},
   "outputs": [],
   "source": [
    "data = data.copy(deep = True)\n",
    "data[['Glucose','BloodPressure','SkinThickness','Insulin','BMI']] = data[['Glucose','BloodPressure','SkinThickness','Insulin','BMI']].replace(0, np.NaN)"
   ]
  },
  {
   "cell_type": "code",
   "execution_count": null,
   "id": "4fd0c72e-2545-45d3-98e8-74ba1581b2e7",
   "metadata": {},
   "outputs": [],
   "source": [
    "print(data.isnull().sum())"
   ]
  },
  {
   "cell_type": "code",
   "execution_count": null,
   "id": "529df81e-f3d9-40f5-8733-d5c1398ebcaf",
   "metadata": {
    "tags": []
   },
   "outputs": [],
   "source": [
    "p = data.hist(figsize = (20,20))"
   ]
  },
  {
   "cell_type": "code",
   "execution_count": null,
   "id": "5f1d0d47-2b5b-45bb-a87b-4f4d56eb855b",
   "metadata": {},
   "outputs": [],
   "source": [
    "sns.countplot(y = data.dtypes, data = data)\n",
    "plt.xlabel(\"count of each data type\")\n",
    "plt.ylabel(\"data types\")\n",
    "plt.show()"
   ]
  },
  {
   "cell_type": "code",
   "execution_count": null,
   "id": "34dac765-05c3-4d78-962c-a62fdbffbb86",
   "metadata": {},
   "outputs": [],
   "source": []
  },
  {
   "cell_type": "code",
   "execution_count": null,
   "id": "cc5816b7-b3a6-447f-ba0d-ca87144b90ea",
   "metadata": {},
   "outputs": [],
   "source": [
    "data.duplicated() #중복된 데이터가 있는지 확인할 때 사용하는 함수"
   ]
  },
  {
   "cell_type": "code",
   "execution_count": null,
   "id": "53b4e7c4-0682-4e89-9043-63a92395acb5",
   "metadata": {},
   "outputs": [],
   "source": [
    "data[data.duplicated()] #중복된 데이터가 있는지 여부를 확인한 결과, 중복된 데이터가 없다는 것을 확인"
   ]
  },
  {
   "cell_type": "code",
   "execution_count": null,
   "id": "e8bcb511-6dea-4387-8802-66fbb785d4c2",
   "metadata": {},
   "outputs": [],
   "source": [
    "data.columns"
   ]
  },
  {
   "cell_type": "code",
   "execution_count": null,
   "id": "03c4d0be-4ead-4632-a7f0-f907bee805d5",
   "metadata": {},
   "outputs": [],
   "source": [
    "x = data.drop(['Outcome'], axis = 1)"
   ]
  },
  {
   "cell_type": "code",
   "execution_count": null,
   "id": "e6b98cde-fe33-4dbc-b723-3a70fdf81cb1",
   "metadata": {},
   "outputs": [],
   "source": [
    "y = data['Outcome']"
   ]
  },
  {
   "cell_type": "code",
   "execution_count": null,
   "id": "f56ab068-1c90-4101-ac4b-9779b2980711",
   "metadata": {},
   "outputs": [],
   "source": [
    "x_train, x_test, y_train, y_test = train_test_split(x, y, test_size = 0.5, random_state = 0)"
   ]
  },
  {
   "cell_type": "code",
   "execution_count": null,
   "id": "89bc9faf-5ca4-4a45-98f3-bf2fd6868101",
   "metadata": {},
   "outputs": [],
   "source": [
    "model = SVC()"
   ]
  },
  {
   "cell_type": "code",
   "execution_count": null,
   "id": "2e2bffb3-c9fa-4cc3-820f-d476411b01ee",
   "metadata": {},
   "outputs": [],
   "source": [
    "model.fit(x_train, y_train)"
   ]
  },
  {
   "cell_type": "code",
   "execution_count": null,
   "id": "42465e15-efd9-4ea8-8c69-1dd74a37ee57",
   "metadata": {},
   "outputs": [],
   "source": [
    "model.score(x_train, y_train)"
   ]
  },
  {
   "cell_type": "code",
   "execution_count": null,
   "id": "fb2a2987-ab24-4b83-83e8-65b6c8b3a9ab",
   "metadata": {},
   "outputs": [],
   "source": [
    "model.score(x_test, y_test)"
   ]
  },
  {
   "cell_type": "markdown",
   "id": "82267fe0-98a9-4344-b501-206e63dc1492",
   "metadata": {},
   "source": [
    "---"
   ]
  },
  {
   "cell_type": "code",
   "execution_count": null,
   "id": "89131e12-1bba-45d2-9b46-97ae9b6d46e9",
   "metadata": {},
   "outputs": [],
   "source": [
    "import pandas as pd\n",
    "import numpy as np\n",
    "from sklearn.preprocessing import StandardScaler\n",
    "from sklearn.model_selection import train_test_split\n",
    "from sklearn. import svm\n",
    "from sklearn.metrics import accuacy_score"
   ]
  },
  {
   "cell_type": "code",
   "execution_count": null,
   "id": "40549df7-a550-4cd0-8cc8-5cb2bf9b82e7",
   "metadata": {},
   "outputs": [],
   "source": []
  },
  {
   "cell_type": "code",
   "execution_count": null,
   "id": "7e4d0a12-8c7f-411a-be71-29d418f179a2",
   "metadata": {},
   "outputs": [],
   "source": []
  },
  {
   "cell_type": "code",
   "execution_count": null,
   "id": "a40c3a96-f29a-44a6-a901-14bd02866318",
   "metadata": {},
   "outputs": [],
   "source": []
  },
  {
   "cell_type": "markdown",
   "id": "76d7e49a-b60e-4d55-8cf5-4f2474a83b6b",
   "metadata": {},
   "source": [
    "----"
   ]
  },
  {
   "cell_type": "code",
   "execution_count": null,
   "id": "c2a1684d-4301-445e-a87e-218e52f28b03",
   "metadata": {},
   "outputs": [],
   "source": [
    "# 강사님 풀이(오전)"
   ]
  },
  {
   "cell_type": "code",
   "execution_count": null,
   "id": "12dbd510-7298-4fcf-8a78-d18a4393ae36",
   "metadata": {},
   "outputs": [],
   "source": [
    "data.groupby(['Pregnancies', 'Outcome'])['Age'].count()"
   ]
  },
  {
   "cell_type": "code",
   "execution_count": null,
   "id": "0bdbcdff-42b2-44c6-b466-1623ef2eb4b0",
   "metadata": {},
   "outputs": [],
   "source": [
    "data['Pregnancies'] = np.where(data['Pregnancies'] == 0, 0, 1) #임신 여부"
   ]
  },
  {
   "cell_type": "code",
   "execution_count": null,
   "id": "74504cec-ee18-4e9c-afc4-7d005adccddf",
   "metadata": {},
   "outputs": [],
   "source": [
    "data.groupby(['Pregnancies', 'Outcome'])['Age'].count()"
   ]
  },
  {
   "cell_type": "code",
   "execution_count": null,
   "id": "3c1c5111-16e6-435d-af24-d6c0a0852620",
   "metadata": {},
   "outputs": [],
   "source": [
    "data.groupby('Outcome')['Age'].median() #나이가 많을수록 당뇨에 걸릴 확률이 높아진다."
   ]
  },
  {
   "cell_type": "code",
   "execution_count": null,
   "id": "521356ff-236e-46a6-ac53-ad94d35208c1",
   "metadata": {},
   "outputs": [],
   "source": [
    "data[data['BMI'] == 0]"
   ]
  },
  {
   "cell_type": "code",
   "execution_count": null,
   "id": "8e8bc4aa-1718-4769-b771-655f1a905eff",
   "metadata": {},
   "outputs": [],
   "source": [
    "data['BMI'].describe()"
   ]
  },
  {
   "cell_type": "code",
   "execution_count": null,
   "id": "02b8e259-8bf2-4e29-b8aa-a29a17078b6e",
   "metadata": {},
   "outputs": [],
   "source": [
    "data.groupby('Outcome')['Age', 'BMI'].median() "
   ]
  },
  {
   "cell_type": "code",
   "execution_count": null,
   "id": "7e165ba3-cfea-413f-ae29-3077e77c0434",
   "metadata": {},
   "outputs": [],
   "source": [
    "data.shape"
   ]
  },
  {
   "cell_type": "code",
   "execution_count": null,
   "id": "6319b10f-18b7-478f-8825-33b2a79a849b",
   "metadata": {},
   "outputs": [],
   "source": [
    "data.describe()"
   ]
  },
  {
   "cell_type": "markdown",
   "id": "c3464306-9998-4132-a2d4-4a91f5eeb13e",
   "metadata": {},
   "source": [
    "-----"
   ]
  },
  {
   "cell_type": "markdown",
   "id": "548613cb-5e3b-4bbb-b0b6-bae7cfda5dde",
   "metadata": {},
   "source": [
    "# 오후 수업"
   ]
  },
  {
   "cell_type": "code",
   "execution_count": 9,
   "id": "4368842c-df47-4f4e-8dc4-379f39b89b22",
   "metadata": {},
   "outputs": [],
   "source": [
    "col_list = ['Glucose','BloodPressure','SkinThickness','Insulin','BMI']"
   ]
  },
  {
   "cell_type": "code",
   "execution_count": 10,
   "id": "a50e6bb0-c034-46b1-b218-99cff1435da8",
   "metadata": {
    "collapsed": true,
    "jupyter": {
     "outputs_hidden": true
    },
    "tags": []
   },
   "outputs": [
    {
     "name": "stdout",
     "output_type": "stream",
     "text": [
      "Glucose 5\n",
      "BloodPressure 35\n",
      "SkinThickness 227\n",
      "Insulin 374\n",
      "BMI 11\n"
     ]
    }
   ],
   "source": [
    "for col in col_list :\n",
    "    print(col, len(data[data[col] == 0]))"
   ]
  },
  {
   "cell_type": "code",
   "execution_count": 11,
   "id": "8fc07494-eec8-4bf5-9e99-0e1adead2cfc",
   "metadata": {},
   "outputs": [],
   "source": [
    "for col in col_list :\n",
    "    data[col] = np.where(data[col] == 0, np.nan, data[col]) #= data[col] = data[col].str.replace(0, np.nan)"
   ]
  },
  {
   "cell_type": "code",
   "execution_count": 12,
   "id": "0a065171-a5d1-4f9a-86ed-c53fca1333de",
   "metadata": {
    "collapsed": true,
    "jupyter": {
     "outputs_hidden": true
    },
    "tags": []
   },
   "outputs": [
    {
     "data": {
      "text/plain": [
       "Pregnancies                   0\n",
       "Glucose                       5\n",
       "BloodPressure                35\n",
       "SkinThickness               227\n",
       "Insulin                     374\n",
       "BMI                          11\n",
       "DiabetesPedigreeFunction      0\n",
       "Age                           0\n",
       "Outcome                       0\n",
       "dtype: int64"
      ]
     },
     "execution_count": 12,
     "metadata": {},
     "output_type": "execute_result"
    }
   ],
   "source": [
    "data.isnull().sum()"
   ]
  },
  {
   "cell_type": "code",
   "execution_count": 13,
   "id": "e40022ca-8a35-46d1-bed3-4dc6177cf3ef",
   "metadata": {},
   "outputs": [],
   "source": [
    "def ageRange(age) :\n",
    "    if 21 <= age < 30 :\n",
    "        return 1\n",
    "    elif 30 <= age < 40 :\n",
    "        return 2\n",
    "    elif 40 <= age < 50 :\n",
    "        return 3\n",
    "    elif 50 <= age < 60 :\n",
    "        return 4\n",
    "    elif 60 <= age < 70 :\n",
    "        return 5\n",
    "    else :\n",
    "        return 6    "
   ]
  },
  {
   "cell_type": "code",
   "execution_count": 14,
   "id": "85597e51-22af-4da1-83b6-5254a2bbae18",
   "metadata": {},
   "outputs": [],
   "source": [
    "data['Age2'] = data['Age'].apply(ageRange)"
   ]
  },
  {
   "cell_type": "code",
   "execution_count": 15,
   "id": "c2f0d06f-98ec-489b-a051-a536fbc396d7",
   "metadata": {},
   "outputs": [
    {
     "data": {
      "text/plain": [
       "Age2\n",
       "1    105.0\n",
       "2    140.0\n",
       "3    131.0\n",
       "4    192.0\n",
       "5    258.0\n",
       "6     60.0\n",
       "Name: Insulin, dtype: float64"
      ]
     },
     "execution_count": 15,
     "metadata": {},
     "output_type": "execute_result"
    }
   ],
   "source": [
    "data.groupby('Age2')['Insulin'].median()"
   ]
  },
  {
   "cell_type": "code",
   "execution_count": 16,
   "id": "a61c4c69-664c-4866-81c0-03c0628409ad",
   "metadata": {
    "collapsed": true,
    "jupyter": {
     "outputs_hidden": true
    },
    "tags": []
   },
   "outputs": [
    {
     "name": "stdout",
     "output_type": "stream",
     "text": [
      "Age2\n",
      "1    109.0\n",
      "2    122.0\n",
      "3    123.0\n",
      "4    139.0\n",
      "5    136.0\n",
      "6    134.0\n",
      "Name: Glucose, dtype: float64\n",
      "Age2\n",
      "1    68.0\n",
      "2    74.0\n",
      "3    78.0\n",
      "4    78.0\n",
      "5    78.0\n",
      "6    78.0\n",
      "Name: BloodPressure, dtype: float64\n",
      "Age2\n",
      "1    27.0\n",
      "2    32.0\n",
      "3    31.0\n",
      "4    28.5\n",
      "5    31.0\n",
      "6    25.5\n",
      "Name: SkinThickness, dtype: float64\n",
      "Age2\n",
      "1    105.0\n",
      "2    140.0\n",
      "3    131.0\n",
      "4    192.0\n",
      "5    258.0\n",
      "6     60.0\n",
      "Name: Insulin, dtype: float64\n",
      "Age2\n",
      "1    31.60\n",
      "2    32.00\n",
      "3    33.95\n",
      "4    33.05\n",
      "5    29.30\n",
      "6    25.90\n",
      "Name: BMI, dtype: float64\n"
     ]
    }
   ],
   "source": [
    "for col in col_list :\n",
    "    print(data.groupby('Age2')[col].median())"
   ]
  },
  {
   "cell_type": "code",
   "execution_count": 17,
   "id": "bc40ebd2-875f-4024-8450-1af9dfefb71c",
   "metadata": {},
   "outputs": [],
   "source": [
    "for col in col_list :\n",
    "    data[col].fillna(data.groupby('Age2')[col].transform('median'), inplace = True)"
   ]
  },
  {
   "cell_type": "code",
   "execution_count": 18,
   "id": "e90072dd-f50b-499f-8f16-873ce6be4e0d",
   "metadata": {},
   "outputs": [
    {
     "data": {
      "text/plain": [
       "Pregnancies                 0\n",
       "Glucose                     0\n",
       "BloodPressure               0\n",
       "SkinThickness               0\n",
       "Insulin                     0\n",
       "BMI                         0\n",
       "DiabetesPedigreeFunction    0\n",
       "Age                         0\n",
       "Outcome                     0\n",
       "Age2                        0\n",
       "dtype: int64"
      ]
     },
     "execution_count": 18,
     "metadata": {},
     "output_type": "execute_result"
    }
   ],
   "source": [
    "data.isnull().sum()"
   ]
  },
  {
   "cell_type": "code",
   "execution_count": null,
   "id": "b43c4403-1c04-4e0b-ab5c-9084a2274004",
   "metadata": {},
   "outputs": [],
   "source": [
    "model = SVC(C = 5, gamma = 0.0004)"
   ]
  },
  {
   "cell_type": "code",
   "execution_count": null,
   "id": "31aa054f-7990-4b9b-b5f4-c2e34dd36030",
   "metadata": {},
   "outputs": [],
   "source": [
    "x = data.drop('Outcome', axis = 1)"
   ]
  },
  {
   "cell_type": "code",
   "execution_count": null,
   "id": "4607a167-74f3-48b1-a291-eba6ef15f46b",
   "metadata": {},
   "outputs": [],
   "source": [
    "y = data['Outcome']"
   ]
  },
  {
   "cell_type": "code",
   "execution_count": null,
   "id": "ea883ba5-b49e-4ff3-b785-1387c767be2b",
   "metadata": {},
   "outputs": [],
   "source": [
    "x_train, x_test, y_train, y_test = train_test_spli t(x, y, test_size = 0.2, random_state = 0, stratify = y)"
   ]
  },
  {
   "cell_type": "code",
   "execution_count": null,
   "id": "61147767-1cd2-4bad-9a05-1e2152faa1e3",
   "metadata": {},
   "outputs": [],
   "source": [
    "model.fit(x_train, y_train)"
   ]
  },
  {
   "cell_type": "code",
   "execution_count": null,
   "id": "18f6ae59-ff42-4401-a05b-cee4402a05cd",
   "metadata": {},
   "outputs": [],
   "source": [
    "model.score(x_train, y_train)"
   ]
  },
  {
   "cell_type": "code",
   "execution_count": null,
   "id": "4698dd72-5597-485a-9aa6-fe69d41328da",
   "metadata": {},
   "outputs": [],
   "source": [
    "model.score(x_test, y_test)"
   ]
  },
  {
   "cell_type": "code",
   "execution_count": null,
   "id": "1612d829-1a24-4a1d-bf56-a871d58b379f",
   "metadata": {},
   "outputs": [],
   "source": []
  },
  {
   "cell_type": "code",
   "execution_count": null,
   "id": "7c0c9718-ba09-485d-af63-6d749ba116ac",
   "metadata": {
    "tags": []
   },
   "outputs": [],
   "source": [
    "data1 = []\n",
    "for c in range(1, 5) :\n",
    "    for i in range(1, 10) :\n",
    "        temp = []\n",
    "        gamma = 0.0001 * i\n",
    "        model = SVC(C = 5, gamma = gamma)\n",
    "        model.fit(x_train, y_train)\n",
    "        ret1 = model.score(x_train, y_train)\n",
    "        ret2 = model.score(x_test, y_test)\n",
    "        temp.append(c)\n",
    "        temp.append(gamma)\n",
    "        temp.append(ret1)\n",
    "        temp.append(ret2)\n",
    "        data.append(temp)"
   ]
  },
  {
   "cell_type": "code",
   "execution_count": null,
   "id": "933aa696-5a07-4317-9981-7c57948390f2",
   "metadata": {},
   "outputs": [],
   "source": [
    "df = pd.DataFrame(data1, columns = ['C', 'gamma', 'train', 'test'])"
   ]
  },
  {
   "cell_type": "code",
   "execution_count": null,
   "id": "b850ff35-1396-4513-a54b-7b8c5b84b04c",
   "metadata": {},
   "outputs": [],
   "source": [
    "df.sort_values(by = ['test', 'train'], ascending = False)"
   ]
  },
  {
   "cell_type": "code",
   "execution_count": null,
   "id": "b69fff9f-2d47-44ec-a889-dd71d76348e8",
   "metadata": {},
   "outputs": [],
   "source": [
    "from sklearn.linear_model import LogisticRegression\n",
    "from sklearn.linear_model import LogisticRegressionCV"
   ]
  },
  {
   "cell_type": "code",
   "execution_count": null,
   "id": "764ec8f0-bcc5-4728-82df-51af59e6320d",
   "metadata": {},
   "outputs": [],
   "source": [
    "model2 = LogisticRegression()\n",
    "model3 = LogisticRegressionCV()"
   ]
  },
  {
   "cell_type": "code",
   "execution_count": null,
   "id": "331d8bad-58a0-4010-bc6a-2a9959b42cca",
   "metadata": {},
   "outputs": [],
   "source": []
  },
  {
   "cell_type": "code",
   "execution_count": null,
   "id": "f8091978-8a57-469f-857d-f1dc4a6672ab",
   "metadata": {},
   "outputs": [],
   "source": [
    "d = [(x_train, y_train), (x_test, y_test)]"
   ]
  },
  {
   "cell_type": "code",
   "execution_count": null,
   "id": "65d463bf-5f82-49d1-9c62-87a61628acec",
   "metadata": {},
   "outputs": [],
   "source": [
    "def trainModel(model, d) :\n",
    "    model.fit(x_train, y_train)\n",
    "    for x, y in d:\n",
    "        print(model.score(x, y))"
   ]
  },
  {
   "cell_type": "code",
   "execution_count": null,
   "id": "583b7113-dc35-4881-ab74-5bf3e9e8acac",
   "metadata": {},
   "outputs": [],
   "source": [
    "trainModel(model, d) "
   ]
  },
  {
   "cell_type": "code",
   "execution_count": null,
   "id": "98c8f78d-88a4-414c-869b-9c523933b4d7",
   "metadata": {},
   "outputs": [],
   "source": [
    "trainModel(model2, d)"
   ]
  },
  {
   "cell_type": "code",
   "execution_count": null,
   "id": "2599631b-4fca-40b2-acf4-4f3e25067dcc",
   "metadata": {},
   "outputs": [],
   "source": [
    "trainModel(model3, d)"
   ]
  },
  {
   "cell_type": "code",
   "execution_count": 6,
   "id": "9d1072f1-9627-4049-8549-6f60f63fa36d",
   "metadata": {},
   "outputs": [],
   "source": [
    "real = data.iloc[100].values"
   ]
  },
  {
   "cell_type": "code",
   "execution_count": 7,
   "id": "819c1b9b-54f2-436c-8905-525aaa3928b3",
   "metadata": {},
   "outputs": [
    {
     "data": {
      "text/plain": [
       "array([  1.   , 163.   ,  72.   ,   0.   ,   0.   ,  39.   ,   1.222,\n",
       "        33.   ,   1.   ])"
      ]
     },
     "execution_count": 7,
     "metadata": {},
     "output_type": "execute_result"
    }
   ],
   "source": [
    "real"
   ]
  },
  {
   "cell_type": "code",
   "execution_count": null,
   "id": "65353862-4475-4af4-9757-e2cfa7fe1d0c",
   "metadata": {},
   "outputs": [],
   "source": []
  }
 ],
 "metadata": {
  "kernelspec": {
   "display_name": "Python 3 (ipykernel)",
   "language": "python",
   "name": "python3"
  },
  "language_info": {
   "codemirror_mode": {
    "name": "ipython",
    "version": 3
   },
   "file_extension": ".py",
   "mimetype": "text/x-python",
   "name": "python",
   "nbconvert_exporter": "python",
   "pygments_lexer": "ipython3",
   "version": "3.9.12"
  }
 },
 "nbformat": 4,
 "nbformat_minor": 5
}
