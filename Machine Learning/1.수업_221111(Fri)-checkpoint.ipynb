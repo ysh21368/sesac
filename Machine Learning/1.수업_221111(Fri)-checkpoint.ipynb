{
 "cells": [
  {
   "cell_type": "markdown",
   "id": "cff79cda-8ec9-4305-bb92-b6294b351fa9",
   "metadata": {},
   "source": [
    "# Loan Status Data Set\n",
    "## 문제: Loan Status 데이터  셋을  이용해서  대출을  받을  자격이  있는지를  구분하는  모델  만들기"
   ]
  },
  {
   "cell_type": "code",
   "execution_count": 1,
   "id": "4622dc7c-8ff3-4c41-8c45-bded73d88546",
   "metadata": {},
   "outputs": [],
   "source": [
    "import pandas as pd\n",
    "import numpy as np\n",
    "import warnings\n",
    "warnings.filterwarnings('ignore')\n",
    "import pickle\n",
    "\n",
    "from sklearn.svm import SVC\n",
    "from sklearn.model_selection import train_test_split"
   ]
  },
  {
   "cell_type": "code",
   "execution_count": 2,
   "id": "58b99193-fe06-4380-a703-ea9c37745a4b",
   "metadata": {},
   "outputs": [],
   "source": [
    "loan_data = pd.read_csv('loan.csv')"
   ]
  },
  {
   "cell_type": "code",
   "execution_count": null,
   "id": "de2e6001-57d3-47f2-b222-7964fce09bde",
   "metadata": {},
   "outputs": [],
   "source": [
    "loan_data.info()"
   ]
  },
  {
   "cell_type": "code",
   "execution_count": null,
   "id": "188c8f19-1cf1-4098-86d3-0b709d40624f",
   "metadata": {},
   "outputs": [],
   "source": [
    "loan_data.dtypes"
   ]
  },
  {
   "cell_type": "code",
   "execution_count": null,
   "id": "7b07ea30-33aa-41b1-a70e-fd5d5df3d4ec",
   "metadata": {},
   "outputs": [],
   "source": [
    "len(loan_data['Gender'])"
   ]
  },
  {
   "cell_type": "code",
   "execution_count": null,
   "id": "e384c620-e884-4d5f-88c9-c48d413c55ef",
   "metadata": {},
   "outputs": [],
   "source": [
    "np.where(loan_data['Gender'] == 'male', 0, 1)"
   ]
  },
  {
   "cell_type": "code",
   "execution_count": null,
   "id": "62819695-e284-4368-a3f5-ffaf55385ca9",
   "metadata": {},
   "outputs": [],
   "source": []
  },
  {
   "cell_type": "code",
   "execution_count": null,
   "id": "034b7023-cc8b-4125-8af6-b0e1e8a3dd80",
   "metadata": {},
   "outputs": [],
   "source": []
  },
  {
   "cell_type": "code",
   "execution_count": null,
   "id": "299db020-814e-44be-bfe6-f8e93afee22e",
   "metadata": {},
   "outputs": [],
   "source": []
  },
  {
   "cell_type": "code",
   "execution_count": null,
   "id": "9ca050aa-6c54-44d1-a5dd-102b9686f6b9",
   "metadata": {},
   "outputs": [],
   "source": []
  },
  {
   "cell_type": "code",
   "execution_count": null,
   "id": "25805995-a2f6-4535-98c6-402bef2bcf17",
   "metadata": {},
   "outputs": [],
   "source": []
  },
  {
   "cell_type": "code",
   "execution_count": null,
   "id": "2e922d2a-315c-487c-8aa5-5abbfde9a317",
   "metadata": {},
   "outputs": [],
   "source": []
  },
  {
   "cell_type": "code",
   "execution_count": null,
   "id": "6d7a755e-3d4f-453b-8ef1-64e2902afb77",
   "metadata": {},
   "outputs": [],
   "source": [
    "대출 받을 자격이 있는지 여부 판단하려면 칼럼 분석 부터 하자!\n",
    "-결혼여부(결혼 여부가 대출 여부에 중요한 역할을 할 수 있을 것이라고 판단 -> 결혼을 했다는 것은 개인적인 부분을 많이 포기하고 책임감이 있어야 할 수 있는 것이기 때문에 \n",
    "집에서 놀 확률 보다 밖에서 일해서 돈을 벌 확률이 높기 때문이다. -> 돈을 많이 번다는 의미는 그만큼 수입이 많아지기 때문에 관련 증빙자료만 있다면 대출을 받을 수 있을 것이다.)\n",
    "-부양가족(부양 가족 수에 따라 대출을 받을 수 있는 범위가 있을 것이다. ex) 부양 가족이 많은수록 부양해야 되는 가족이 많기 때문에 경제 활동을 무조건 해야한다. 그러므로 \n",
    "경제활동을 안할 수 없기 때문에 꾸준한 수입이 있다면 은행에서도 대출해줄 확률이 올라 갈 수 있다(?))\n",
    "-교육(교육 많이 받은 사람일수록 좋은 직업일 확률이 높을 것이다. -> 좋은 직업이면 대출을 받을 수 있는 확률이 높을 것이다.)\n",
    "-자영업(합법적으로 개인 사업을 하시는 분들은 반드시 '사업자등록증'이 있기 때문에 대출 받을 수 있는 확률이 높을 것이다.)\n",
    "-신청인 소득\n",
    "-공동 신청자 소득\n"
   ]
  },
  {
   "cell_type": "code",
   "execution_count": null,
   "id": "0c1e7214-8ae0-4e66-a34a-cf0c2d891cf2",
   "metadata": {},
   "outputs": [],
   "source": [
    "Label은 'Loan_Status' 이다. (대출 가능 또는 대출 불가능)"
   ]
  },
  {
   "cell_type": "code",
   "execution_count": null,
   "id": "3af37de2-e79e-4aa8-b976-dcebc3f3fadf",
   "metadata": {},
   "outputs": [],
   "source": [
    "내가 생각하는 중요한 칼럼: 'Married', 'Dependents', 'Education', 'Self_Employed'"
   ]
  },
  {
   "cell_type": "code",
   "execution_count": null,
   "id": "f7baf3d3-0ba2-410c-a720-092d9625cdae",
   "metadata": {},
   "outputs": [],
   "source": [
    "loan_data[['Married', 'Dependents', 'Education', 'Self_Employed']]"
   ]
  },
  {
   "cell_type": "code",
   "execution_count": null,
   "id": "6ad3ab51-6925-4916-b853-c82e951df918",
   "metadata": {},
   "outputs": [],
   "source": [
    "loan_data.isnull().sum()"
   ]
  },
  {
   "cell_type": "code",
   "execution_count": null,
   "id": "3d655efb-88fe-4f43-aefe-e0bfd0c8145c",
   "metadata": {},
   "outputs": [],
   "source": [
    "loan_data['Gender'].value_counts()"
   ]
  },
  {
   "cell_type": "code",
   "execution_count": null,
   "id": "7707a4be-cd27-4cd6-93e1-8dccfc9e38d7",
   "metadata": {},
   "outputs": [],
   "source": [
    "loan_data.groupby(['Gender', 'Loan_Status']).mean()"
   ]
  },
  {
   "cell_type": "code",
   "execution_count": null,
   "id": "e93e9671-676c-4ed6-ad31-51f1b9256594",
   "metadata": {},
   "outputs": [],
   "source": [
    "loan_data['Married'].value_counts()"
   ]
  },
  {
   "cell_type": "code",
   "execution_count": null,
   "id": "be029181-7c8e-4955-8f0a-381818766480",
   "metadata": {},
   "outputs": [],
   "source": [
    "loan_data.groupby(['Married', 'Gender']).mean()"
   ]
  },
  {
   "cell_type": "code",
   "execution_count": null,
   "id": "2fd3a06a-025f-4c00-a907-b0db858bc201",
   "metadata": {},
   "outputs": [],
   "source": [
    "loan_data['Dependents'].value_counts()"
   ]
  },
  {
   "cell_type": "code",
   "execution_count": null,
   "id": "2248c376-6f97-42c9-96df-357826f6c224",
   "metadata": {},
   "outputs": [],
   "source": [
    "loan_data['Loan_Status'].value_counts()"
   ]
  },
  {
   "cell_type": "code",
   "execution_count": null,
   "id": "e8377c3b-28bc-47bd-8196-e09827ba2f69",
   "metadata": {},
   "outputs": [],
   "source": [
    "loan_data.describe()"
   ]
  },
  {
   "cell_type": "code",
   "execution_count": null,
   "id": "22a8b15f-0e74-4502-8e25-b3efc6bea14d",
   "metadata": {},
   "outputs": [],
   "source": [
    "loan_data.isnull().sum()"
   ]
  },
  {
   "cell_type": "code",
   "execution_count": null,
   "id": "f3cb8cd2-81b9-405c-8328-27b7a27a67b1",
   "metadata": {},
   "outputs": [],
   "source": [
    "loan_data['Gender'].value_counts()"
   ]
  },
  {
   "cell_type": "code",
   "execution_count": null,
   "id": "dec4ac88-9c77-4071-9069-87908a5c7cad",
   "metadata": {},
   "outputs": [],
   "source": []
  },
  {
   "cell_type": "code",
   "execution_count": null,
   "id": "d3b61a40-5879-491e-b61d-249f6e568326",
   "metadata": {},
   "outputs": [],
   "source": []
  },
  {
   "cell_type": "code",
   "execution_count": null,
   "id": "7ab7f222-840a-457c-bca4-4404fbafd3d0",
   "metadata": {
    "tags": []
   },
   "outputs": [],
   "source": [
    "# null 값을 채울 칼럼들\n",
    "col_list = ['Gender', 'Married', 'Dependents', 'Self_Employed', 'LoanAmount', 'Loan_Amount_Term', 'Credit_History']"
   ]
  },
  {
   "cell_type": "code",
   "execution_count": null,
   "id": "66c70628-db96-4df7-9b57-0c7010a3fa3c",
   "metadata": {},
   "outputs": [],
   "source": [
    "for col in col_list :\n",
    "    loan_data[col] = np.where(loan_data[col] == None, 0, loan_data[col])"
   ]
  },
  {
   "cell_type": "code",
   "execution_count": null,
   "id": "f8382940-8347-4f0a-b3de-6233c99daa74",
   "metadata": {},
   "outputs": [],
   "source": [
    "loan_data.isnull().sum()"
   ]
  },
  {
   "cell_type": "markdown",
   "id": "dbb77731-3782-4ac3-95d0-c4d168f1b222",
   "metadata": {},
   "source": [
    "-----------------"
   ]
  },
  {
   "cell_type": "code",
   "execution_count": null,
   "id": "2ec2f49b-782f-48ec-96f9-5cf287ef7d6e",
   "metadata": {},
   "outputs": [],
   "source": [
    "# 강사님 풀이"
   ]
  },
  {
   "cell_type": "code",
   "execution_count": null,
   "id": "8ffe0c00-9be7-4bf6-842b-0eaddf28becd",
   "metadata": {},
   "outputs": [],
   "source": [
    "loan_data.shape"
   ]
  },
  {
   "cell_type": "code",
   "execution_count": null,
   "id": "4debdade-57b4-48a8-b573-f096667a4580",
   "metadata": {},
   "outputs": [],
   "source": [
    "loan_data.isnull().sum()"
   ]
  },
  {
   "cell_type": "code",
   "execution_count": null,
   "id": "b507e7c9-7b16-4310-b01e-08242807ae76",
   "metadata": {},
   "outputs": [],
   "source": [
    "loan_data['Loan_Status'].value_counts()"
   ]
  },
  {
   "cell_type": "code",
   "execution_count": null,
   "id": "aa388b77-36a7-45be-96e0-de25e8b5be10",
   "metadata": {},
   "outputs": [],
   "source": [
    "loan_data = loan_data.dropna() # 결측값 제거 (=널값제거)"
   ]
  },
  {
   "cell_type": "code",
   "execution_count": null,
   "id": "559e17f7-030e-4430-8461-71f3d8895edf",
   "metadata": {},
   "outputs": [],
   "source": [
    "loan_data.shape"
   ]
  },
  {
   "cell_type": "code",
   "execution_count": null,
   "id": "8236d4d3-5a9b-4e38-a823-336fb39ed08f",
   "metadata": {},
   "outputs": [],
   "source": [
    "loan_data.dtypes"
   ]
  },
  {
   "cell_type": "code",
   "execution_count": null,
   "id": "cbe42d4c-776e-4880-b939-2d3fdf8201cd",
   "metadata": {},
   "outputs": [],
   "source": [
    "loan_data.dtypes.index"
   ]
  },
  {
   "cell_type": "code",
   "execution_count": null,
   "id": "32d84969-ce93-4a98-9087-9764f5eab054",
   "metadata": {},
   "outputs": [],
   "source": [
    "#object의 칼럼들만 리스트로 따로 모아라.\n",
    "obj_col = []\n",
    "for i, j in zip(loan_data.dtypes.index, loan_data.dtypes.values) :\n",
    "    if j == 'object' :\n",
    "        obj_col.append(i)"
   ]
  },
  {
   "cell_type": "code",
   "execution_count": null,
   "id": "74234dbf-1b5b-4334-acb8-1b9fc345ddeb",
   "metadata": {},
   "outputs": [],
   "source": [
    "obj_col"
   ]
  },
  {
   "cell_type": "code",
   "execution_count": null,
   "id": "5fe59632-7b9e-4606-bd0a-05b24f0350e8",
   "metadata": {},
   "outputs": [],
   "source": [
    "for col in obj_col[1:] :\n",
    "    print(loan_data[col].unique())"
   ]
  },
  {
   "cell_type": "code",
   "execution_count": null,
   "id": "a45474f6-3544-4460-a6c6-003366087f26",
   "metadata": {
    "tags": []
   },
   "outputs": [],
   "source": [
    "loan_data.head(i) #왜 오류나지?"
   ]
  },
  {
   "cell_type": "code",
   "execution_count": null,
   "id": "59b01a7f-fdd0-461f-b0f1-25874064e66a",
   "metadata": {
    "tags": []
   },
   "outputs": [],
   "source": [
    "from sklearn.preprocessing import LabelEncoder"
   ]
  },
  {
   "cell_type": "code",
   "execution_count": null,
   "id": "9bf11af6-01a4-46ae-a6b7-5e913e8c64d2",
   "metadata": {},
   "outputs": [],
   "source": [
    "label1 = LabelEncoder()"
   ]
  },
  {
   "cell_type": "code",
   "execution_count": null,
   "id": "aaccee95-ac06-46b4-a75a-f9359d7b316c",
   "metadata": {},
   "outputs": [],
   "source": [
    "for col in obj_col[1:] :\n",
    "    label = LabelEncoder()\n",
    "    loan_data[col] = label.fit_transform(loan_data[col])"
   ]
  },
  {
   "cell_type": "code",
   "execution_count": null,
   "id": "a5726733-68aa-4e5b-86a6-96f4e618e425",
   "metadata": {},
   "outputs": [],
   "source": [
    "loan_data"
   ]
  },
  {
   "cell_type": "code",
   "execution_count": null,
   "id": "744b4e8d-9699-4eda-9a43-0e3799d2953b",
   "metadata": {},
   "outputs": [],
   "source": [
    "X = loan_data.drop(['Loan_ID', 'Loan_Status', 'Gender'], axis = 1)\n",
    "Y = loan_data['Loan_Status']"
   ]
  },
  {
   "cell_type": "code",
   "execution_count": null,
   "id": "2c02447f-bfd3-47ce-9e19-2d8894cca504",
   "metadata": {},
   "outputs": [],
   "source": [
    "from sklearn.model_selection import train_test_split\n",
    "from sklearn.svm import SVC"
   ]
  },
  {
   "cell_type": "code",
   "execution_count": null,
   "id": "84f32811-f66e-4a38-8f3e-66c8242ab5b7",
   "metadata": {},
   "outputs": [],
   "source": [
    "x_train, x_test, y_train, y_test = train_test_split(X, Y, test_size=0.2, stratify=Y, random_state=0)"
   ]
  },
  {
   "cell_type": "code",
   "execution_count": null,
   "id": "f10f890c-1e5a-448b-bc0a-1458c1cbf2be",
   "metadata": {},
   "outputs": [],
   "source": [
    "model = SVC()"
   ]
  },
  {
   "cell_type": "code",
   "execution_count": null,
   "id": "440f7f48-87b1-4c9b-a9d4-0d290490c596",
   "metadata": {
    "tags": []
   },
   "outputs": [],
   "source": [
    "model.fit(x_train, y_train)"
   ]
  },
  {
   "cell_type": "code",
   "execution_count": null,
   "id": "a2d30c8e-131a-4985-9dd5-00147717700e",
   "metadata": {
    "tags": []
   },
   "outputs": [],
   "source": [
    "model.score(x_train, y_train)"
   ]
  },
  {
   "cell_type": "code",
   "execution_count": null,
   "id": "daf1c784-570e-4deb-9c64-46a66f5aeeda",
   "metadata": {
    "tags": []
   },
   "outputs": [],
   "source": [
    "model.score(x_test, y_test)"
   ]
  },
  {
   "cell_type": "code",
   "execution_count": null,
   "id": "6035be3f-b3ae-4051-9f1c-31274da45653",
   "metadata": {},
   "outputs": [],
   "source": [
    "from sklearn.preprocessing import MinMaxScaler"
   ]
  },
  {
   "cell_type": "code",
   "execution_count": null,
   "id": "2c7fd762-71a8-4ca0-9462-9265420d0aec",
   "metadata": {},
   "outputs": [],
   "source": [
    "scaler = MinMaxScaler()"
   ]
  },
  {
   "cell_type": "code",
   "execution_count": null,
   "id": "fc615672-b048-4f30-85ee-f9007404cfdb",
   "metadata": {},
   "outputs": [],
   "source": [
    "x_train = scaler.fit_transform(x_train)"
   ]
  },
  {
   "cell_type": "code",
   "execution_count": null,
   "id": "907fb72f-b4d8-493a-8ffc-93d6f3b29903",
   "metadata": {},
   "outputs": [],
   "source": [
    "x_test = scaler.transform(x_test)"
   ]
  },
  {
   "cell_type": "code",
   "execution_count": null,
   "id": "5c4ae81d-2c55-41b4-ab22-0e8c62e7d91e",
   "metadata": {},
   "outputs": [],
   "source": [
    "model2 = SVC()"
   ]
  },
  {
   "cell_type": "code",
   "execution_count": null,
   "id": "48213621-0b7a-4120-a9ee-b501dc0061da",
   "metadata": {},
   "outputs": [],
   "source": [
    "model2.fit(x_train, y_train)"
   ]
  },
  {
   "cell_type": "code",
   "execution_count": null,
   "id": "c320be2a-72eb-4e1e-9f45-a71cb610eacb",
   "metadata": {},
   "outputs": [],
   "source": [
    "model2.score(x_train, y_train)"
   ]
  },
  {
   "cell_type": "code",
   "execution_count": null,
   "id": "9fa85789-a474-4b85-b31c-d2e8dbb3fa25",
   "metadata": {},
   "outputs": [],
   "source": [
    "model2.score(x_test, y_test)"
   ]
  },
  {
   "cell_type": "code",
   "execution_count": null,
   "id": "ebde767c-3dcf-4c1d-be7b-2ea0a37dc98a",
   "metadata": {},
   "outputs": [],
   "source": []
  },
  {
   "cell_type": "code",
   "execution_count": null,
   "id": "db3a2d04-02e8-4c3c-ac84-f0436714ac81",
   "metadata": {},
   "outputs": [],
   "source": []
  },
  {
   "cell_type": "code",
   "execution_count": null,
   "id": "976ce5bf-89cf-43c6-8c10-a61737638d0a",
   "metadata": {},
   "outputs": [],
   "source": [
    "loan_data = pd.read_csv('loan.csv')"
   ]
  },
  {
   "cell_type": "code",
   "execution_count": null,
   "id": "65c21923-1828-4d10-a854-bab9a59d1d4e",
   "metadata": {},
   "outputs": [],
   "source": [
    "loan_data.isnull().sum()"
   ]
  },
  {
   "cell_type": "markdown",
   "id": "3bb354f4-768d-4701-80d3-99a994ad2cac",
   "metadata": {},
   "source": [
    "<Null 칼럼>\n",
    "- Gender               13\n",
    "- Married               3\n",
    "- Dependents           15\n",
    "- Self_Employed        32\n",
    "\n",
    "\n",
    "- LoanAmount           22\n",
    "- Loan_Amount_Term     14\n",
    "- Credit_History       50"
   ]
  },
  {
   "cell_type": "code",
   "execution_count": null,
   "id": "e2ad90f9-db55-46c5-9cbb-d38dfd8e8252",
   "metadata": {},
   "outputs": [],
   "source": [
    "#['Gender']의 널값 정리하기"
   ]
  },
  {
   "cell_type": "code",
   "execution_count": null,
   "id": "b3baa090-de64-4206-8bee-4f5d4cf33be2",
   "metadata": {},
   "outputs": [],
   "source": [
    "loan_data['Gender'].value_counts(dropna = False)"
   ]
  },
  {
   "cell_type": "markdown",
   "id": "2841e0fb-1871-4349-b48e-7a12cb96f2dd",
   "metadata": {},
   "source": [
    "데이터 대표 값 3개(평균값, 중앙값, 최빈값)"
   ]
  },
  {
   "cell_type": "code",
   "execution_count": null,
   "id": "2c9f5406-2c6c-44e5-a720-f5cc644accf7",
   "metadata": {},
   "outputs": [],
   "source": [
    "#['Gender']의 최빈값 구하기\n",
    "loan_data['Gender'].mode()"
   ]
  },
  {
   "cell_type": "code",
   "execution_count": null,
   "id": "fa936529-148c-4a06-8dfd-eb49e16a0331",
   "metadata": {},
   "outputs": [],
   "source": [
    "male = loan_data['Gender'].value_counts(dropna = False)[0]\n",
    "female = loan_data['Gender'].value_counts(dropna = False)[1]\n",
    "na = loan_data['Gender'].value_counts(dropna = False)[2]"
   ]
  },
  {
   "cell_type": "code",
   "execution_count": null,
   "id": "5a811278-3ac5-4466-98b8-be362a0efd92",
   "metadata": {},
   "outputs": [],
   "source": [
    "print(f'Male의 비율   : %.2f'%(male / len(loan_data) * 100))\n",
    "print(f'Female의 비율 : %.2f'%(female / len(loan_data) * 100))\n",
    "print(f'Null의 비율   : %.2f'%(na / len(loan_data) * 100))"
   ]
  },
  {
   "cell_type": "code",
   "execution_count": null,
   "id": "48925e67-d926-4283-9284-d56e8ea0749a",
   "metadata": {},
   "outputs": [],
   "source": [
    "#최빈값인 Male을 Null로 채우겠다.\n",
    "loan_data['Gender'].fillna(loan_data['Gender'].mode()[0], inplace = True)"
   ]
  },
  {
   "cell_type": "code",
   "execution_count": null,
   "id": "a767e2a7-0f27-4763-b2ac-ece6d3c7957c",
   "metadata": {},
   "outputs": [],
   "source": [
    "loan_data['Gender'].isnull().sum()"
   ]
  },
  {
   "cell_type": "code",
   "execution_count": null,
   "id": "400e6803-4c1d-4413-852c-c4bd39fb09dd",
   "metadata": {},
   "outputs": [],
   "source": [
    "#['Married']의 최빈값 구하기\n",
    "loan_data['Married'].value_counts(dropna=False)"
   ]
  },
  {
   "cell_type": "code",
   "execution_count": null,
   "id": "dfa0abb9-d3c7-4eb7-972a-cef231a230d2",
   "metadata": {},
   "outputs": [],
   "source": [
    "loan_data['Married'].fillna(loan_data['Married'].mode()[0], inplace = True)"
   ]
  },
  {
   "cell_type": "code",
   "execution_count": null,
   "id": "f95afc4d-5c2b-433f-9c11-52518647f38e",
   "metadata": {},
   "outputs": [],
   "source": [
    "loan_data['Married'].isnull().sum()"
   ]
  },
  {
   "cell_type": "code",
   "execution_count": null,
   "id": "fa15b94c-308d-4ab2-946b-7bde4ff54092",
   "metadata": {},
   "outputs": [],
   "source": [
    "loan_data[['Married']]"
   ]
  },
  {
   "cell_type": "code",
   "execution_count": null,
   "id": "e554d4d5-75da-4c0b-a345-16623126e2d8",
   "metadata": {},
   "outputs": [],
   "source": [
    "#['Dependents']의 최빈값 구하기\n",
    "loan_data['Dependents'].value_counts(dropna=False)"
   ]
  },
  {
   "cell_type": "code",
   "execution_count": null,
   "id": "8ab5a6c7-9187-4918-b7f9-eb202a80cb27",
   "metadata": {},
   "outputs": [],
   "source": [
    "Depe_0 = loan_data['Dependents'].value_counts(dropna = False)[0]\n",
    "Depe_1 = loan_data['Dependents'].value_counts(dropna = False)[1]\n",
    "Depe_2 = loan_data['Dependents'].value_counts(dropna = False)[2]\n",
    "Depe_3 = loan_data['Dependents'].value_counts(dropna = False)[3]\n",
    "Depe_na = loan_data['Dependents'].value_counts(dropna = False)[4]"
   ]
  },
  {
   "cell_type": "code",
   "execution_count": null,
   "id": "adbab877-7041-4a40-91a5-f5294e80be7a",
   "metadata": {},
   "outputs": [],
   "source": [
    "print(f'Dependents_[0]의 비율   : %.2f'%(Depe_0 / len(loan_data) * 100))\n",
    "print(f'Dependents_[1]의 비율   : %.2f'%(Depe_1 / len(loan_data) * 100))\n",
    "print(f'Dependents_[2]의 비율   : %.2f'%(Depe_2 / len(loan_data) * 100))\n",
    "print(f'Dependents_[3]의 비율   : %.2f'%(Depe_3 / len(loan_data) * 100))\n",
    "print(f'Null의 비율             : %.2f'%(na / len(loan_data) * 100))"
   ]
  },
  {
   "cell_type": "code",
   "execution_count": null,
   "id": "81a372b2-f397-45cd-a6c5-6220bf62fe71",
   "metadata": {},
   "outputs": [],
   "source": [
    "#['Dependents']의 최빈값을 Null로 채우겠다.\n",
    "loan_data['Dependents'].fillna(loan_data['Dependents'].mode()[0], inplace = True)"
   ]
  },
  {
   "cell_type": "code",
   "execution_count": null,
   "id": "35ba2a45-8405-4cd9-ba19-40ad47715f94",
   "metadata": {},
   "outputs": [],
   "source": [
    "loan_data['Dependents'].isnull().sum()"
   ]
  },
  {
   "cell_type": "code",
   "execution_count": null,
   "id": "256458ed-2e58-4099-a6be-36efd29cba87",
   "metadata": {},
   "outputs": [],
   "source": [
    "#['Self_Employed']의 문자열->숫자 치환"
   ]
  },
  {
   "cell_type": "code",
   "execution_count": null,
   "id": "bcf528f2-1fdb-4aa9-80b1-ff32762214a1",
   "metadata": {},
   "outputs": [],
   "source": [
    "loan_data['Self_Employed'].value_counts(dropna=False)"
   ]
  },
  {
   "cell_type": "code",
   "execution_count": null,
   "id": "9fdddf7a-3031-463b-a36d-171312473c09",
   "metadata": {},
   "outputs": [],
   "source": [
    "no = loan_data['Self_Employed'].value_counts(dropna = False)[0]\n",
    "yes = loan_data['Self_Employed'].value_counts(dropna = False)[1]\n",
    "na = loan_data['Self_Employed'].value_counts(dropna = False)[2]"
   ]
  },
  {
   "cell_type": "code",
   "execution_count": null,
   "id": "7074a7f9-3b88-432b-9f36-15d73caa9a9c",
   "metadata": {},
   "outputs": [],
   "source": [
    "print(f'no의 비율     : %.2f'%(no / len(loan_data) * 100))\n",
    "print(f'yes의 비율    : %.2f'%(yes / len(loan_data) * 100))\n",
    "print(f'Null의 비율   : %.2f'%(na / len(loan_data) * 100))"
   ]
  },
  {
   "cell_type": "code",
   "execution_count": null,
   "id": "d09025ea-d483-4a32-bdfa-ff50bbbbe442",
   "metadata": {},
   "outputs": [],
   "source": [
    "loan_data['Self_Employed'].fillna(loan_data['Self_Employed'].mode()[0], inplace = True)"
   ]
  },
  {
   "cell_type": "code",
   "execution_count": null,
   "id": "3c5dac68-f78a-40e0-b15a-9ff633e65e57",
   "metadata": {},
   "outputs": [],
   "source": [
    "loan_data['Self_Employed'].isnull().sum()"
   ]
  },
  {
   "cell_type": "markdown",
   "id": "da882546-b03d-49e4-b6ad-8ede7b764880",
   "metadata": {},
   "source": [
    "---"
   ]
  },
  {
   "cell_type": "code",
   "execution_count": null,
   "id": "6243d45b-7db0-4057-8b2a-150d0dfdf0e1",
   "metadata": {},
   "outputs": [],
   "source": [
    "null_col = ['Gender', 'Married', 'Dependents', 'Self_Employed']"
   ]
  },
  {
   "cell_type": "code",
   "execution_count": null,
   "id": "db3b8387-1847-448f-8175-43797f1985a2",
   "metadata": {},
   "outputs": [],
   "source": [
    "# 찍어보기 위함\n",
    "for col in null_col :\n",
    "    print(loan_data[col].value_counts(dropna=False))"
   ]
  },
  {
   "cell_type": "code",
   "execution_count": null,
   "id": "6c6c14c3-9a73-4fef-862a-04e89bf57ae8",
   "metadata": {},
   "outputs": [],
   "source": [
    "for col in null_col :\n",
    "    loan_data[col].fillna(loan_data[col].mode()[0], inplace=True)"
   ]
  },
  {
   "cell_type": "code",
   "execution_count": null,
   "id": "c049e344-8d16-4dba-8a23-1191e11568ac",
   "metadata": {},
   "outputs": [],
   "source": [
    "loan_data.isnull().sum() #문자열로 구성된 칼럼들을 다 최빈값(숫자)으로 바꿔줌"
   ]
  },
  {
   "cell_type": "code",
   "execution_count": null,
   "id": "c17e2ccf-949e-4aa2-ae7e-28ceee1c5cc7",
   "metadata": {},
   "outputs": [],
   "source": [
    "loan_data['LoanAmount'].describe()"
   ]
  },
  {
   "cell_type": "code",
   "execution_count": null,
   "id": "761f7278-a6b8-4fd5-861e-f264d7acf6af",
   "metadata": {},
   "outputs": [],
   "source": [
    "loan_data['LoanAmount'].median()"
   ]
  },
  {
   "cell_type": "markdown",
   "id": "79107731-09e4-4a9a-869a-9cd61eeb07dc",
   "metadata": {},
   "source": [
    "----"
   ]
  },
  {
   "cell_type": "code",
   "execution_count": null,
   "id": "a5ebce85-c4cc-4d4c-afcf-edb9778d3be0",
   "metadata": {},
   "outputs": [],
   "source": [
    "Ace's Idea"
   ]
  },
  {
   "cell_type": "code",
   "execution_count": null,
   "id": "0335ac43-24b9-4887-ba53-2a4877ffb5ce",
   "metadata": {},
   "outputs": [],
   "source": []
  },
  {
   "cell_type": "code",
   "execution_count": null,
   "id": "441ef803-7e74-4505-8cbb-d5ee409f0696",
   "metadata": {},
   "outputs": [],
   "source": []
  },
  {
   "cell_type": "markdown",
   "id": "466447b6-85ff-43d8-ae64-fcce544f084a",
   "metadata": {},
   "source": [
    "---"
   ]
  },
  {
   "cell_type": "code",
   "execution_count": null,
   "id": "eec9901b-f8b2-4e70-afcc-8f02d96a7724",
   "metadata": {},
   "outputs": [],
   "source": [
    "loan_data['LoanAmount'].fillna(loan_data['LoanAmount'].mode()[0], inplace = True)"
   ]
  },
  {
   "cell_type": "code",
   "execution_count": null,
   "id": "2401596f-9955-4975-b4d0-77b8313a558b",
   "metadata": {},
   "outputs": [],
   "source": [
    "loan_data['LoanAmount'].isnull().sum()"
   ]
  },
  {
   "cell_type": "code",
   "execution_count": null,
   "id": "efe87263-c99c-455b-a163-6db0a9c302a4",
   "metadata": {},
   "outputs": [],
   "source": [
    "loan_data['Loan_Amount_Term'].value_counts()"
   ]
  },
  {
   "cell_type": "code",
   "execution_count": null,
   "id": "a6469379-5b95-4fb5-9eda-8d16875eaf83",
   "metadata": {},
   "outputs": [],
   "source": [
    "loan_data['Loan_Amount_Term'].fillna(loan['Loan_Amount_'].mode()[0])"
   ]
  },
  {
   "cell_type": "code",
   "execution_count": null,
   "id": "092fb4f5-7fbb-4883-afad-9bf3057319f7",
   "metadata": {},
   "outputs": [],
   "source": []
  },
  {
   "cell_type": "code",
   "execution_count": null,
   "id": "2e1a2aa4-9283-4764-a42e-cce318cdd456",
   "metadata": {},
   "outputs": [],
   "source": [
    "#LoanAmount별로 Loan_Amount_Term의 중앙값이 얼마나 차이나는지 ~?\n",
    "loan_data.groupby('Loan_Amount_Term')['LoanAmount'].median()"
   ]
  },
  {
   "cell_type": "code",
   "execution_count": null,
   "id": "38d8b0fd-48fb-490c-95c4-e892565c2b18",
   "metadata": {},
   "outputs": [],
   "source": [
    "#\n",
    "loan_data['Property_Area'].value_counts()"
   ]
  },
  {
   "cell_type": "code",
   "execution_count": null,
   "id": "caa79dae-3903-415f-a731-cbb28757caa1",
   "metadata": {
    "tags": []
   },
   "outputs": [],
   "source": [
    "loan_data.groupby(['Property_Area', 'Loan_Amount_Term'])['Gender'].count().reset_index()"
   ]
  },
  {
   "cell_type": "code",
   "execution_count": null,
   "id": "80ed8424-f751-44dd-ac1e-e2dd8aa76922",
   "metadata": {},
   "outputs": [],
   "source": [
    "loan_data['Credit_History'].value_counts(dropna = False)"
   ]
  },
  {
   "cell_type": "code",
   "execution_count": null,
   "id": "80d40a58-dfe1-48ff-b05d-f01c59bb7913",
   "metadata": {},
   "outputs": [],
   "source": [
    "loan_data['Credit_History'].fillna(loan_data['Credit_History'].mode()[0], inplace = True)"
   ]
  },
  {
   "cell_type": "code",
   "execution_count": null,
   "id": "4894c16d-ed6d-474c-aa78-bba132c8aa48",
   "metadata": {},
   "outputs": [],
   "source": []
  }
 ],
 "metadata": {
  "kernelspec": {
   "display_name": "Python 3 (ipykernel)",
   "language": "python",
   "name": "python3"
  },
  "language_info": {
   "codemirror_mode": {
    "name": "ipython",
    "version": 3
   },
   "file_extension": ".py",
   "mimetype": "text/x-python",
   "name": "python",
   "nbconvert_exporter": "python",
   "pygments_lexer": "ipython3",
   "version": "3.9.12"
  }
 },
 "nbformat": 4,
 "nbformat_minor": 5
}
