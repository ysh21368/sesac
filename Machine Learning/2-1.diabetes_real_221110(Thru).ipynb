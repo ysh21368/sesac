{
 "cells": [
  {
   "cell_type": "code",
   "execution_count": null,
   "id": "be6eb80d-69fa-486d-aa1b-e8a38d01ac2d",
   "metadata": {},
   "outputs": [],
   "source": [
    "import pandas as pd\n",
    "import numpy as np\n",
    "import preprocess as pre"
   ]
  },
  {
   "cell_type": "code",
   "execution_count": null,
   "id": "801be9d1-37ab-4607-941e-1c5f3362f44b",
   "metadata": {},
   "outputs": [],
   "source": [
    "pre.col_list"
   ]
  },
  {
   "cell_type": "code",
   "execution_count": null,
   "id": "a1c47d54-0cc9-4e99-a69c-7810c27b389a",
   "metadata": {
    "tags": []
   },
   "outputs": [],
   "source": [
    "diabetes_data = pd.read_csv('diabetes.csv')"
   ]
  },
  {
   "cell_type": "code",
   "execution_count": null,
   "id": "72b686c4-728e-4eea-9834-607980a57be5",
   "metadata": {},
   "outputs": [],
   "source": [
    "real = [  1.   , 163.   ,  72.   ,   0.   ,   0.   ,  39.   ,   1.222,\n",
    "        33.   ]"
   ]
  },
  {
   "cell_type": "code",
   "execution_count": null,
   "id": "38d8ee5e-6c15-4acb-b829-60665d2dcb53",
   "metadata": {},
   "outputs": [],
   "source": [
    "real = np.asarray(real).reshape(1, -1)"
   ]
  },
  {
   "cell_type": "code",
   "execution_count": null,
   "id": "e01e7f0f-12fa-49bf-a646-c7ab5f75adfc",
   "metadata": {},
   "outputs": [],
   "source": [
    "real"
   ]
  },
  {
   "cell_type": "code",
   "execution_count": null,
   "id": "12b98f54-7aeb-41ad-bf46-517f7250e1e2",
   "metadata": {
    "tags": []
   },
   "outputs": [],
   "source": [
    "df = pd.DataFrame(real, columns = ['Pregnancies', 'Glucose', 'BloodPressure', 'SkinThickness', 'Insulin', 'BMI', 'DiabetesPedigreeFunction', 'Age'])"
   ]
  },
  {
   "cell_type": "code",
   "execution_count": null,
   "id": "647d405b-31fa-4d37-81a5-528c35cf7758",
   "metadata": {},
   "outputs": [],
   "source": [
    "df"
   ]
  },
  {
   "cell_type": "code",
   "execution_count": null,
   "id": "9f98bbc6-8a67-4dab-8945-b69317356477",
   "metadata": {},
   "outputs": [],
   "source": [
    "# 나이별로 구간 나누기\n",
    "def ageRange(age) :\n",
    "    if 21 <= age < 30 :\n",
    "        return 1\n",
    "    elif 30 <= age < 40 :\n",
    "        return 2\n",
    "    elif 40 <= age < 50 :\n",
    "        return 3\n",
    "    elif 50 <= age < 60 :\n",
    "        return 4\n",
    "    elif 60 <= age < 70 :\n",
    "        return 5\n",
    "    else :\n",
    "        return 6    "
   ]
  },
  {
   "cell_type": "code",
   "execution_count": null,
   "id": "ab9287c7-4139-4981-99eb-85bd204e8438",
   "metadata": {},
   "outputs": [],
   "source": []
  },
  {
   "cell_type": "code",
   "execution_count": null,
   "id": "50a89832-39f3-4b9a-9c1f-b1ed063c13c8",
   "metadata": {},
   "outputs": [],
   "source": []
  },
  {
   "cell_type": "code",
   "execution_count": null,
   "id": "c31988ae-4867-4229-bfc6-0a6ecc46a14d",
   "metadata": {},
   "outputs": [],
   "source": [
    "col_list = ['Glucose','BloodPressure','SkinThickness','Insulin','BMI']"
   ]
  },
  {
   "cell_type": "code",
   "execution_count": null,
   "id": "a2cc6c7a-0600-4068-be40-5d1ed91a3d26",
   "metadata": {},
   "outputs": [],
   "source": [
    "for col in col_list :\n",
    "    df[col] = np.where(df[col] == 0, np.nan, df[col]) #= df[col] = df[col].str.replace(0, np.nan)"
   ]
  },
  {
   "cell_type": "code",
   "execution_count": null,
   "id": "2c9adb2b-02f1-4ce9-8e7b-e60447122b1c",
   "metadata": {},
   "outputs": [],
   "source": [
    "df['Age2'] = df['Age'].apply(ageRange)"
   ]
  },
  {
   "cell_type": "code",
   "execution_count": null,
   "id": "92af28f7-7375-490a-ac2f-895d13224c4c",
   "metadata": {},
   "outputs": [],
   "source": [
    "for col in col_list :\n",
    "    df[col].fillna(df.groupby('Age2')[col].transform('median'), inplace = True)"
   ]
  },
  {
   "cell_type": "code",
   "execution_count": null,
   "id": "0e1dd603-ad6c-4462-819d-0dee958bca7e",
   "metadata": {},
   "outputs": [],
   "source": [
    "import pickle"
   ]
  },
  {
   "cell_type": "code",
   "execution_count": null,
   "id": "4a4cbe0c-f1d8-4271-b9c3-286a1967de01",
   "metadata": {},
   "outputs": [],
   "source": [
    "#\n",
    "with open('dict_tot.pkl', 'rb') as f :\n",
    "    dict_tot = pickle.load(f)"
   ]
  },
  {
   "cell_type": "code",
   "execution_count": null,
   "id": "04d6831e-488b-42c3-86a7-2029e2b319b7",
   "metadata": {},
   "outputs": [],
   "source": [
    "df.loc[0, 'SkinThickness'] = dict_tot['SkinThickness'][df.iloc[0]['Age2']]"
   ]
  },
  {
   "cell_type": "code",
   "execution_count": null,
   "id": "fd471d90-dedc-497c-9e5a-368289724b30",
   "metadata": {},
   "outputs": [],
   "source": [
    "df"
   ]
  },
  {
   "cell_type": "code",
   "execution_count": null,
   "id": "1bea2a7e-7a91-484e-a548-d880c186ed7e",
   "metadata": {},
   "outputs": [],
   "source": [
    "for col in col_list :\n",
    "    df.loc[0, col] = dict_tot[col][df.loc[0]['Age2']]"
   ]
  },
  {
   "cell_type": "code",
   "execution_count": null,
   "id": "22a4c88e-028e-454e-aece-d2fac762d51d",
   "metadata": {},
   "outputs": [],
   "source": [
    "df.drop('Age2', axis = 1, inplace = True)"
   ]
  },
  {
   "cell_type": "code",
   "execution_count": null,
   "id": "a9357aac-ce66-486c-9a75-6a20a9cb344f",
   "metadata": {},
   "outputs": [],
   "source": [
    "#\n",
    "with open('dict_tot.pkl', 'rb') as f :\n",
    "    model = pickle.load(f)"
   ]
  },
  {
   "cell_type": "code",
   "execution_count": null,
   "id": "9f2b3666-08f7-4998-87e4-1ad9508b5bd3",
   "metadata": {},
   "outputs": [],
   "source": [
    "predict = model.predict(df)"
   ]
  },
  {
   "cell_type": "code",
   "execution_count": null,
   "id": "0bddd16f-f7ea-4cac-804a-e3a74c3425c5",
   "metadata": {},
   "outputs": [],
   "source": [
    "if predict == 0 :\n",
    "    print('당뇨가 없습니다')\n",
    "else :\n",
    "    print('당뇨 위험')"
   ]
  },
  {
   "cell_type": "code",
   "execution_count": null,
   "id": "32675e61-70e9-4df6-b073-4433104a902d",
   "metadata": {},
   "outputs": [],
   "source": []
  },
  {
   "cell_type": "code",
   "execution_count": null,
   "id": "abf2993a-a26c-4fa2-b670-24c156c7e203",
   "metadata": {},
   "outputs": [],
   "source": []
  },
  {
   "cell_type": "code",
   "execution_count": null,
   "id": "f9bb5297-f155-4606-bd3a-78ab11d94aba",
   "metadata": {},
   "outputs": [],
   "source": []
  },
  {
   "cell_type": "code",
   "execution_count": null,
   "id": "9f74f695-8ff6-4fe7-aaed-35a926b9e8d4",
   "metadata": {},
   "outputs": [],
   "source": []
  },
  {
   "cell_type": "code",
   "execution_count": null,
   "id": "88cf3dc7-fc1c-44ea-9678-1bc09d2eb26d",
   "metadata": {},
   "outputs": [],
   "source": []
  },
  {
   "cell_type": "code",
   "execution_count": null,
   "id": "34a1d474-6913-4fba-9bbd-9e9696fabe12",
   "metadata": {},
   "outputs": [],
   "source": []
  },
  {
   "cell_type": "code",
   "execution_count": null,
   "id": "f439b8f6-ee32-4fd8-8620-2df5d306d87f",
   "metadata": {},
   "outputs": [],
   "source": []
  },
  {
   "cell_type": "code",
   "execution_count": null,
   "id": "1ca01d91-1239-41da-ab48-800cb06a969f",
   "metadata": {},
   "outputs": [],
   "source": []
  },
  {
   "cell_type": "code",
   "execution_count": null,
   "id": "868c30c5-1841-4837-ae2b-e6c2360fbe78",
   "metadata": {},
   "outputs": [],
   "source": []
  }
 ],
 "metadata": {
  "kernelspec": {
   "display_name": "Python 3 (ipykernel)",
   "language": "python",
   "name": "python3"
  },
  "language_info": {
   "codemirror_mode": {
    "name": "ipython",
    "version": 3
   },
   "file_extension": ".py",
   "mimetype": "text/x-python",
   "name": "python",
   "nbconvert_exporter": "python",
   "pygments_lexer": "ipython3",
   "version": "3.9.12"
  }
 },
 "nbformat": 4,
 "nbformat_minor": 5
}
