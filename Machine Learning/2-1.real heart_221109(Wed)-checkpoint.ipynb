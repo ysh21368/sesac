{
 "cells": [
  {
   "cell_type": "code",
   "execution_count": 27,
   "id": "b5b2bb30-6d80-4d93-9da9-15a3a51d862a",
   "metadata": {},
   "outputs": [],
   "source": [
    "import pandas as pd\n",
    "import pickle"
   ]
  },
  {
   "cell_type": "code",
   "execution_count": 28,
   "id": "6135cda0-d966-445a-955f-8883f55bc1c5",
   "metadata": {},
   "outputs": [],
   "source": [
    "real_data = pd.read_csv('heart.csv')"
   ]
  },
  {
   "cell_type": "code",
   "execution_count": 29,
   "id": "aaff5dda-3636-4f5c-8a52-4b9263ef2ecc",
   "metadata": {},
   "outputs": [],
   "source": [
    "real_data.drop('target', axis = 1, inplace = True)"
   ]
  },
  {
   "cell_type": "code",
   "execution_count": 30,
   "id": "ca8dccd7-d6d4-42c6-b077-4fed96b4058a",
   "metadata": {},
   "outputs": [],
   "source": [
    "real = real_data.iloc[100].values.reshape(1, -1)"
   ]
  },
  {
   "cell_type": "code",
   "execution_count": 31,
   "id": "31baa229-1604-4ad3-9a03-88418b8c8fa7",
   "metadata": {},
   "outputs": [
    {
     "data": {
      "text/plain": [
       "array([[ 42. ,   1. ,   3. , 148. , 244. ,   0. ,   0. , 178. ,   0. ,\n",
       "          0.8,   2. ,   2. ,   2. ]])"
      ]
     },
     "execution_count": 31,
     "metadata": {},
     "output_type": "execute_result"
    }
   ],
   "source": [
    "real"
   ]
  },
  {
   "cell_type": "code",
   "execution_count": 32,
   "id": "60842950-d373-43e5-8018-897b6232b67e",
   "metadata": {},
   "outputs": [],
   "source": [
    "with open('scaler1.pkl', 'rb') as f :\n",
    "    scaler1_rb = pickle.load(f)"
   ]
  },
  {
   "cell_type": "code",
   "execution_count": 33,
   "id": "eb9fdaa2-1a9b-49ea-9748-a86d20a11d21",
   "metadata": {},
   "outputs": [],
   "source": [
    "with open('model2.pkl', 'rb') as f :\n",
    "    pickle1_rb = pickle.load(f)"
   ]
  },
  {
   "cell_type": "code",
   "execution_count": 34,
   "id": "68184320-dd79-449b-b439-68f75e15a5f6",
   "metadata": {},
   "outputs": [
    {
     "name": "stderr",
     "output_type": "stream",
     "text": [
      "C:\\Users\\user\\anaconda3\\lib\\site-packages\\sklearn\\base.py:450: UserWarning: X does not have valid feature names, but StandardScaler was fitted with feature names\n",
      "  warnings.warn(\n"
     ]
    }
   ],
   "source": [
    "real2 = scaler1_rb.transform(real)"
   ]
  },
  {
   "cell_type": "code",
   "execution_count": 35,
   "id": "40edd4e2-81b0-4e0c-b97c-d9b9590bd2fe",
   "metadata": {},
   "outputs": [
    {
     "data": {
      "text/plain": [
       "array([1], dtype=int64)"
      ]
     },
     "execution_count": 35,
     "metadata": {},
     "output_type": "execute_result"
    }
   ],
   "source": [
    "pickle1_rb.predict(real2)"
   ]
  },
  {
   "cell_type": "code",
   "execution_count": 36,
   "id": "befab5f2-3076-4c9b-a5cd-af7df48cac6b",
   "metadata": {},
   "outputs": [
    {
     "data": {
      "text/plain": [
       "1"
      ]
     },
     "execution_count": 36,
     "metadata": {},
     "output_type": "execute_result"
    }
   ],
   "source": [
    "pickle1_rb.predict(real2)[0]"
   ]
  },
  {
   "cell_type": "code",
   "execution_count": 37,
   "id": "8f3cc669-0930-4890-8bbd-acbbbf562f3a",
   "metadata": {},
   "outputs": [],
   "source": [
    "predict = pickle1_rb.predict(real2)[0]"
   ]
  }
 ],
 "metadata": {
  "kernelspec": {
   "display_name": "Python 3 (ipykernel)",
   "language": "python",
   "name": "python3"
  },
  "language_info": {
   "codemirror_mode": {
    "name": "ipython",
    "version": 3
   },
   "file_extension": ".py",
   "mimetype": "text/x-python",
   "name": "python",
   "nbconvert_exporter": "python",
   "pygments_lexer": "ipython3",
   "version": "3.9.12"
  }
 },
 "nbformat": 4,
 "nbformat_minor": 5
}
