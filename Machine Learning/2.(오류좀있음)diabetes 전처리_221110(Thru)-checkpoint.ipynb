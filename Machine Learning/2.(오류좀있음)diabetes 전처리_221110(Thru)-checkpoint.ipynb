{
 "cells": [
  {
   "cell_type": "code",
   "execution_count": null,
   "id": "f7774ff6-8d49-43e7-818c-bc505ad60a88",
   "metadata": {},
   "outputs": [],
   "source": [
    "# 1. 전처리를 통해서 모델을 하나 만든다.\n",
    "# 2. 전처리 결과와 모델을 저장한다.\n",
    "# 3. real 데이터를 예측한다."
   ]
  },
  {
   "cell_type": "code",
   "execution_count": null,
   "id": "8a97dd38-6f3a-419f-abb7-e9ae80b50bbf",
   "metadata": {},
   "outputs": [],
   "source": [
    "import pandas as pd\n",
    "import numpy as np\n",
    "import warnings\n",
    "warnings.filterwarnings('ignore')\n",
    "\n",
    "from sklearn.svm import SVC\n",
    "from sklearn.model_selection import train_test_split"
   ]
  },
  {
   "cell_type": "code",
   "execution_count": null,
   "id": "d727a7be-c308-4b8b-b100-3f03cb30b71e",
   "metadata": {},
   "outputs": [],
   "source": [
    "diabetes_data = pd.read_csv('diabetes.csv')"
   ]
  },
  {
   "cell_type": "code",
   "execution_count": null,
   "id": "d9c42005-3edf-434e-b856-0c9afc606969",
   "metadata": {},
   "outputs": [],
   "source": [
    "col_list = ['Glucose','BloodPressure','SkinThickness','Insulin','BMI']"
   ]
  },
  {
   "cell_type": "code",
   "execution_count": null,
   "id": "d6eaa760-fce7-4723-9d4d-6804fe45d788",
   "metadata": {
    "tags": []
   },
   "outputs": [],
   "source": [
    "diabetes_data.groupby('Age2')['Glucose'].median()"
   ]
  },
  {
   "cell_type": "code",
   "execution_count": null,
   "id": "5be43183-d5f9-4605-9dbf-2c63cd9b813f",
   "metadata": {},
   "outputs": [],
   "source": [
    "# 하는 이유는? 저장하기 위해서?\n",
    "\n",
    "dict_tot = {}\n",
    "for col in col_list :\n",
    "    index = diabetes_data.groupby('Age2')[col].median().index\n",
    "    value = diabetes_data.groupby('Age2')[col].median().values\n",
    "    temp = {}\n",
    "    for i in range(len(index)) :\n",
    "        temp[index[i]] = value[i]\n",
    "    dict_tot[col] = temp"
   ]
  },
  {
   "cell_type": "code",
   "execution_count": null,
   "id": "892647ca-c3b1-474e-86bb-2a5e9e009fb0",
   "metadata": {},
   "outputs": [],
   "source": [
    "with open('dict_tot.pkl', 'wb') as f :\n",
    "    pickle.dump(dict_tot, f)"
   ]
  },
  {
   "cell_type": "code",
   "execution_count": null,
   "id": "c120020a-aa29-4f17-a600-4b68a750acfa",
   "metadata": {},
   "outputs": [],
   "source": [
    "for col in col_list :\n",
    "    diabetes_data[col] = np.where(diabetes_data[col] == 0, np.nan, diabetes_data[col]) #= data[col] = data[col].str.replace(0, np.nan)"
   ]
  },
  {
   "cell_type": "code",
   "execution_count": null,
   "id": "aa55d8d3-e66e-4fa7-a543-495da05b9f1c",
   "metadata": {},
   "outputs": [],
   "source": [
    "# 나이별로 구간 나누기\n",
    "def ageRange(age) :\n",
    "    if 21 <= age < 30 :\n",
    "        return 1\n",
    "    elif 30 <= age < 40 :\n",
    "        return 2\n",
    "    elif 40 <= age < 50 :\n",
    "        return 3\n",
    "    elif 50 <= age < 60 :\n",
    "        return 4\n",
    "    elif 60 <= age < 70 :\n",
    "        return 5\n",
    "    else :\n",
    "        return 6    "
   ]
  },
  {
   "cell_type": "code",
   "execution_count": null,
   "id": "ca213632-f9fc-4c42-81ee-b9521315e7a7",
   "metadata": {},
   "outputs": [],
   "source": [
    "diabetes_data['Age2'] = diabetes_data['Age'].apply(ageRange)"
   ]
  },
  {
   "cell_type": "code",
   "execution_count": null,
   "id": "b6e8d135-5790-44e7-b072-2caebca3a0d0",
   "metadata": {},
   "outputs": [],
   "source": [
    "for col in col_list :\n",
    "    diabetes_data[col].fillna(diabetes_data.groupby('Age2')[col].transform('median'), inplace = True)"
   ]
  },
  {
   "cell_type": "code",
   "execution_count": null,
   "id": "8aa775c3-7617-4497-8ecb-65349325ed5b",
   "metadata": {
    "tags": []
   },
   "outputs": [],
   "source": [
    "diabetes_data.groupby('Age2')['Glucose'].median()"
   ]
  },
  {
   "cell_type": "code",
   "execution_count": null,
   "id": "28c667fb-ed28-4f22-9b15-7ec1b12e2592",
   "metadata": {},
   "outputs": [],
   "source": [
    "# 하는 이유는? 저장하기 위해서?\n",
    "\n",
    "dict_tot = {}\n",
    "for col in col_list :\n",
    "    index = diabetes_data.groupby('Age2')[col].median().index\n",
    "    value = diabetes_data.groupby('Age2')[col].median().values\n",
    "    temp = {}\n",
    "    for i in range(len(index)) :\n",
    "        temp[index[i]] = value[i]\n",
    "    dict_tot[col] = temp"
   ]
  },
  {
   "cell_type": "code",
   "execution_count": null,
   "id": "ed47aaf0-2f62-4fc4-a335-8ee3d640204c",
   "metadata": {},
   "outputs": [],
   "source": [
    "import pickle"
   ]
  },
  {
   "cell_type": "code",
   "execution_count": null,
   "id": "029e5bb9-055f-4137-8649-7ce7a4169a95",
   "metadata": {},
   "outputs": [],
   "source": [
    "with open('dict_tot.pkl', 'wb') as f :\n",
    "    pickle.dump(dict_tot, f)"
   ]
  },
  {
   "cell_type": "code",
   "execution_count": null,
   "id": "361c07f3-7e5a-464a-b8ff-aa259729e657",
   "metadata": {},
   "outputs": [],
   "source": []
  },
  {
   "cell_type": "code",
   "execution_count": null,
   "id": "88736144-260b-4aea-8447-fe30f134990b",
   "metadata": {},
   "outputs": [],
   "source": []
  },
  {
   "cell_type": "code",
   "execution_count": null,
   "id": "8cccc06c-aed1-46ac-a2ed-46ec08eeb55d",
   "metadata": {},
   "outputs": [],
   "source": []
  },
  {
   "cell_type": "code",
   "execution_count": null,
   "id": "8dc45eb6-2fd2-44f8-878e-f20c1f92661a",
   "metadata": {},
   "outputs": [],
   "source": [
    "with open('diabetes_data.pkl', 'wb') as f :\n",
    "    pickle.dump(model, f)"
   ]
  },
  {
   "cell_type": "code",
   "execution_count": null,
   "id": "ec7a337c-2a66-4743-a43f-eb0cecabfcdc",
   "metadata": {},
   "outputs": [],
   "source": []
  },
  {
   "cell_type": "code",
   "execution_count": null,
   "id": "c0f12328-83fb-40c4-b74f-0f6b466de25b",
   "metadata": {},
   "outputs": [],
   "source": []
  },
  {
   "cell_type": "code",
   "execution_count": null,
   "id": "df328fa9-b89a-4140-8f73-dd058e5d836d",
   "metadata": {},
   "outputs": [],
   "source": [
    "x = diabetes_data.drop(['Outcome', 'Age2'], axis = 1)"
   ]
  },
  {
   "cell_type": "code",
   "execution_count": null,
   "id": "bdd3254a-eec6-47d7-82a6-8d220e168397",
   "metadata": {},
   "outputs": [],
   "source": [
    "y = diabetes_data['Outcome']"
   ]
  },
  {
   "cell_type": "code",
   "execution_count": null,
   "id": "d9db0293-1a86-4dae-bbe4-a545b9658c1c",
   "metadata": {},
   "outputs": [],
   "source": [
    "x_train, x_test, y_train, y_test = train_test_split(x, y, test_size = 0.2, random_state = 0)"
   ]
  },
  {
   "cell_type": "code",
   "execution_count": null,
   "id": "7d38a076-f554-4632-b76a-2905cc7a523f",
   "metadata": {},
   "outputs": [],
   "source": [
    "model = SVC()"
   ]
  },
  {
   "cell_type": "code",
   "execution_count": null,
   "id": "4a973d40-aec2-4c66-b21c-aa9b550e58a4",
   "metadata": {},
   "outputs": [],
   "source": [
    "model.fit(x_train, y_train)"
   ]
  },
  {
   "cell_type": "code",
   "execution_count": null,
   "id": "ee595348-2b93-4345-ae60-a068c442f72d",
   "metadata": {},
   "outputs": [],
   "source": [
    "model.score(x_train, y_train)"
   ]
  },
  {
   "cell_type": "code",
   "execution_count": null,
   "id": "8635e444-21e6-44f6-9e67-2d8eea9710d5",
   "metadata": {},
   "outputs": [],
   "source": [
    "model.score(x_test, y_test)"
   ]
  },
  {
   "cell_type": "code",
   "execution_count": null,
   "id": "f241c929-63ca-4a0f-b1b8-027a7f00631f",
   "metadata": {},
   "outputs": [],
   "source": []
  },
  {
   "cell_type": "code",
   "execution_count": null,
   "id": "23f1a570-d34f-40ef-9b12-ee9d5c50324a",
   "metadata": {},
   "outputs": [],
   "source": []
  },
  {
   "cell_type": "code",
   "execution_count": null,
   "id": "a10f6e24-c536-4cf9-9cd1-39e595c50e24",
   "metadata": {
    "tags": []
   },
   "outputs": [],
   "source": [
    "diabetes_data.groupby('Age2')['Glucose'].median()"
   ]
  },
  {
   "cell_type": "code",
   "execution_count": null,
   "id": "234e661b-d367-41f7-8998-797e8d02b55e",
   "metadata": {},
   "outputs": [],
   "source": [
    "# 하는 이유는? 저장하기 위해서?\n",
    "\n",
    "dict_tot = {}\n",
    "for col in col_list :\n",
    "    index = diabetes_data.groupby('Age2')[col].median().index\n",
    "    value = diabetes_data.groupby('Age2')[col].median().values\n",
    "    temp = {}\n",
    "    for i in range(len(index)) :\n",
    "        temp[index[i]] = value[i]\n",
    "    dict_tot[col] = temp"
   ]
  },
  {
   "cell_type": "code",
   "execution_count": null,
   "id": "7acabe3b-b3ef-4a11-a088-a2b55f034037",
   "metadata": {},
   "outputs": [],
   "source": [
    "with open('dict_tot.pkl', 'wb') as f :\n",
    "    pickle.dump(dict_tot, f)"
   ]
  },
  {
   "cell_type": "markdown",
   "id": "b1db4a2c-2174-4350-bfcc-2f29a729a2f3",
   "metadata": {},
   "source": []
  },
  {
   "cell_type": "code",
   "execution_count": null,
   "id": "c72432ff-0591-41a7-9529-ddb17f3f69e0",
   "metadata": {
    "jp-MarkdownHeadingCollapsed": true,
    "tags": []
   },
   "outputs": [],
   "source": [
    "# 데이터 불러오기"
   ]
  },
  {
   "cell_type": "code",
   "execution_count": null,
   "id": "675debda-9f90-4c48-9272-9072ba6993b2",
   "metadata": {},
   "outputs": [],
   "source": [
    "dict_tot"
   ]
  },
  {
   "cell_type": "code",
   "execution_count": null,
   "id": "4d79aeae-0b5b-4fa4-9926-ae9efeab3400",
   "metadata": {},
   "outputs": [],
   "source": []
  },
  {
   "cell_type": "code",
   "execution_count": null,
   "id": "4bbc6647-51f9-4586-9d8b-ec75c1cfd83e",
   "metadata": {},
   "outputs": [],
   "source": []
  },
  {
   "cell_type": "markdown",
   "id": "163904df-de00-49a0-aa31-40b4950f8dc1",
   "metadata": {},
   "source": [
    "diabetes_data.iloc[100].values"
   ]
  },
  {
   "cell_type": "markdown",
   "id": "4f6e3325-cbe7-455c-8924-8ca14851627a",
   "metadata": {},
   "source": [
    "diabetes_data.columns"
   ]
  },
  {
   "cell_type": "markdown",
   "id": "3babaa57-2d6c-45c0-b8bb-ad1d8b6d2b45",
   "metadata": {},
   "source": [
    "real = [1.,163.,72.,32.,140.,39.,1.222,33.,1.,2.   ]"
   ]
  },
  {
   "cell_type": "markdown",
   "id": "9742e6d5-d4d2-4700-88a2-5f57e345bfd5",
   "metadata": {},
   "source": [
    "real = np.asarray(real).reshape(1, -1)"
   ]
  },
  {
   "cell_type": "markdown",
   "id": "a7549db1-7df5-4c50-a1a5-ba9c40a1b782",
   "metadata": {},
   "source": [
    "df = pd.DataFrame(real, columns = ['Pregnancies', 'Glucose', 'BloodPressure', 'SkinThickness', 'Insulin', 'BMI', 'DiabetesPedigreeFunction', ])"
   ]
  }
 ],
 "metadata": {
  "kernelspec": {
   "display_name": "Python 3 (ipykernel)",
   "language": "python",
   "name": "python3"
  },
  "language_info": {
   "codemirror_mode": {
    "name": "ipython",
    "version": 3
   },
   "file_extension": ".py",
   "mimetype": "text/x-python",
   "name": "python",
   "nbconvert_exporter": "python",
   "pygments_lexer": "ipython3",
   "version": "3.9.12"
  }
 },
 "nbformat": 4,
 "nbformat_minor": 5
}
