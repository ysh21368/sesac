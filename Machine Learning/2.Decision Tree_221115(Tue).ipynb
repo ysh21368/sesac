{
 "cells": [
  {
   "cell_type": "code",
   "execution_count": 164,
   "id": "c35f3878-c50d-43e3-b673-b0ff57298a49",
   "metadata": {},
   "outputs": [],
   "source": [
    "import math\n",
    "from collections import Counter, defaultdict\n",
    "from functools import partial"
   ]
  },
  {
   "cell_type": "code",
   "execution_count": 2,
   "id": "6e6753a6-e54f-4fea-b98e-c8ad50e1f134",
   "metadata": {
    "tags": []
   },
   "outputs": [],
   "source": [
    "inputs = [\n",
    "        ({'level':'Senior','lang':'Java','tweets':'no','phd':'no'},   False),\n",
    "        ({'level':'Senior','lang':'Java','tweets':'no','phd':'yes'},  False),\n",
    "        ({'level':'Mid','lang':'Python','tweets':'no','phd':'no'},     True),\n",
    "        ({'level':'Junior','lang':'Python','tweets':'no','phd':'no'},  True),\n",
    "        ({'level':'Junior','lang':'R','tweets':'yes','phd':'no'},      True),\n",
    "        ({'level':'Junior','lang':'R','tweets':'yes','phd':'yes'},    False),\n",
    "        ({'level':'Mid','lang':'R','tweets':'yes','phd':'yes'},        True),\n",
    "        ({'level':'Senior','lang':'Python','tweets':'no','phd':'no'}, False),\n",
    "        ({'level':'Senior','lang':'R','tweets':'yes','phd':'no'},      True),\n",
    "        ({'level':'Junior','lang':'Python','tweets':'yes','phd':'no'}, True),\n",
    "        ({'level':'Senior','lang':'Python','tweets':'yes','phd':'yes'},True),\n",
    "        ({'level':'Mid','lang':'Python','tweets':'no','phd':'yes'},    True),\n",
    "        ({'level':'Mid','lang':'Java','tweets':'yes','phd':'no'},      True),\n",
    "        ({'level':'Junior','lang':'Python','tweets':'no','phd':'yes'},False)\n",
    "    ]"
   ]
  },
  {
   "cell_type": "code",
   "execution_count": 3,
   "id": "33674e2c-7619-4ae7-9fa2-9724d2684f10",
   "metadata": {},
   "outputs": [
    {
     "data": {
      "text/plain": [
       "({'level': 'Senior', 'lang': 'Java', 'tweets': 'no', 'phd': 'no'}, False)"
      ]
     },
     "execution_count": 3,
     "metadata": {},
     "output_type": "execute_result"
    }
   ],
   "source": [
    "inputs[0]"
   ]
  },
  {
   "cell_type": "code",
   "execution_count": 4,
   "id": "02cff3b7-f65d-43e4-9f67-8de0a9ea8031",
   "metadata": {},
   "outputs": [
    {
     "data": {
      "text/plain": [
       "{'level': 'Senior', 'lang': 'Java', 'tweets': 'no', 'phd': 'no'}"
      ]
     },
     "execution_count": 4,
     "metadata": {},
     "output_type": "execute_result"
    }
   ],
   "source": [
    "inputs[0][0]"
   ]
  },
  {
   "cell_type": "code",
   "execution_count": 5,
   "id": "5bddae86-2d2d-4a3d-b15a-917bbce570ea",
   "metadata": {},
   "outputs": [
    {
     "data": {
      "text/plain": [
       "False"
      ]
     },
     "execution_count": 5,
     "metadata": {},
     "output_type": "execute_result"
    }
   ],
   "source": [
    "inputs[0][1]"
   ]
  },
  {
   "cell_type": "code",
   "execution_count": 13,
   "id": "ae8046f8-2689-4bba-b034-700cc6c97c08",
   "metadata": {},
   "outputs": [
    {
     "name": "stdout",
     "output_type": "stream",
     "text": [
      "({'level': 'Senior', 'lang': 'Java', 'tweets': 'no', 'phd': 'no'}, False)\n",
      "({'level': 'Senior', 'lang': 'Java', 'tweets': 'no', 'phd': 'yes'}, False)\n",
      "({'level': 'Mid', 'lang': 'Python', 'tweets': 'no', 'phd': 'no'}, True)\n",
      "({'level': 'Junior', 'lang': 'Python', 'tweets': 'no', 'phd': 'no'}, True)\n",
      "({'level': 'Junior', 'lang': 'R', 'tweets': 'yes', 'phd': 'no'}, True)\n",
      "({'level': 'Junior', 'lang': 'R', 'tweets': 'yes', 'phd': 'yes'}, False)\n",
      "({'level': 'Mid', 'lang': 'R', 'tweets': 'yes', 'phd': 'yes'}, True)\n",
      "({'level': 'Senior', 'lang': 'Python', 'tweets': 'no', 'phd': 'no'}, False)\n",
      "({'level': 'Senior', 'lang': 'R', 'tweets': 'yes', 'phd': 'no'}, True)\n",
      "({'level': 'Junior', 'lang': 'Python', 'tweets': 'yes', 'phd': 'no'}, True)\n",
      "({'level': 'Senior', 'lang': 'Python', 'tweets': 'yes', 'phd': 'yes'}, True)\n",
      "({'level': 'Mid', 'lang': 'Python', 'tweets': 'no', 'phd': 'yes'}, True)\n",
      "({'level': 'Mid', 'lang': 'Java', 'tweets': 'yes', 'phd': 'no'}, True)\n",
      "({'level': 'Junior', 'lang': 'Python', 'tweets': 'no', 'phd': 'yes'}, False)\n"
     ]
    }
   ],
   "source": [
    "for i in inputs :\n",
    "    print(i)"
   ]
  },
  {
   "cell_type": "code",
   "execution_count": 17,
   "id": "09be439f-ebfe-45a6-99a7-9f1a283bc711",
   "metadata": {},
   "outputs": [
    {
     "name": "stdout",
     "output_type": "stream",
     "text": [
      "Senior\n",
      "Senior\n",
      "Mid\n",
      "Junior\n",
      "Junior\n",
      "Junior\n",
      "Mid\n",
      "Senior\n",
      "Senior\n",
      "Junior\n",
      "Senior\n",
      "Mid\n",
      "Mid\n",
      "Junior\n"
     ]
    }
   ],
   "source": [
    "for i in inputs :\n",
    "    print(i[0]['level'])"
   ]
  },
  {
   "cell_type": "code",
   "execution_count": 18,
   "id": "157fe206-fd45-4791-abb8-d745e73a1db0",
   "metadata": {},
   "outputs": [
    {
     "name": "stdout",
     "output_type": "stream",
     "text": [
      "True\n",
      "True\n",
      "False\n",
      "False\n",
      "False\n",
      "False\n",
      "False\n",
      "True\n",
      "True\n",
      "False\n",
      "True\n",
      "False\n",
      "False\n",
      "False\n"
     ]
    }
   ],
   "source": [
    "for i in inputs :\n",
    "    print(i[0]['level'] == 'Senior')"
   ]
  },
  {
   "cell_type": "code",
   "execution_count": 19,
   "id": "ffaf1742-8d48-4fb7-809d-2ccd58b45c82",
   "metadata": {
    "tags": []
   },
   "outputs": [
    {
     "name": "stdout",
     "output_type": "stream",
     "text": [
      "({'level': 'Senior', 'lang': 'Java', 'tweets': 'no', 'phd': 'no'}, False)\n",
      "({'level': 'Senior', 'lang': 'Java', 'tweets': 'no', 'phd': 'yes'}, False)\n",
      "({'level': 'Senior', 'lang': 'Python', 'tweets': 'no', 'phd': 'no'}, False)\n",
      "({'level': 'Senior', 'lang': 'R', 'tweets': 'yes', 'phd': 'no'}, True)\n",
      "({'level': 'Senior', 'lang': 'Python', 'tweets': 'yes', 'phd': 'yes'}, True)\n"
     ]
    }
   ],
   "source": [
    "for data in inputs :\n",
    "    if data[0]['level'] == 'Senior' :\n",
    "        print(data)\n",
    "        \n",
    "# [data for data in inputs if data[0]['level'] == 'Senior'] 코드가 같다."
   ]
  },
  {
   "cell_type": "code",
   "execution_count": 20,
   "id": "3875d9ce-71f8-47fe-a82e-65e54162351b",
   "metadata": {},
   "outputs": [
    {
     "data": {
      "text/plain": [
       "[({'level': 'Senior', 'lang': 'Java', 'tweets': 'no', 'phd': 'no'}, False),\n",
       " ({'level': 'Senior', 'lang': 'Java', 'tweets': 'no', 'phd': 'yes'}, False),\n",
       " ({'level': 'Senior', 'lang': 'Python', 'tweets': 'no', 'phd': 'no'}, False),\n",
       " ({'level': 'Senior', 'lang': 'R', 'tweets': 'yes', 'phd': 'no'}, True),\n",
       " ({'level': 'Senior', 'lang': 'Python', 'tweets': 'yes', 'phd': 'yes'}, True)]"
      ]
     },
     "execution_count": 20,
     "metadata": {},
     "output_type": "execute_result"
    }
   ],
   "source": [
    "[data for data in inputs if data[0]['level'] == 'Senior']"
   ]
  },
  {
   "cell_type": "code",
   "execution_count": null,
   "id": "14e03bf9-6200-43df-aeda-89445ec7653b",
   "metadata": {},
   "outputs": [],
   "source": [
    "# 오후 수업"
   ]
  },
  {
   "cell_type": "code",
   "execution_count": 23,
   "id": "70b52aa6-23d4-442f-8e58-729d74b985bd",
   "metadata": {},
   "outputs": [],
   "source": [
    "import math"
   ]
  },
  {
   "cell_type": "code",
   "execution_count": null,
   "id": "bb205427-be58-47e9-8bf7-51f06a5fac6e",
   "metadata": {},
   "outputs": [],
   "source": [
    "n = 10 / T 5 F 5"
   ]
  },
  {
   "cell_type": "code",
   "execution_count": 24,
   "id": "c9c383fd-00df-41af-9e36-8a81597befee",
   "metadata": {},
   "outputs": [],
   "source": [
    "p = 5 / 10\n",
    "q = 5 / 10"
   ]
  },
  {
   "cell_type": "code",
   "execution_count": 27,
   "id": "e5b07389-f919-4351-a673-ed409fc142d9",
   "metadata": {},
   "outputs": [
    {
     "data": {
      "text/plain": [
       "1.0"
      ]
     },
     "execution_count": 27,
     "metadata": {},
     "output_type": "execute_result"
    }
   ],
   "source": [
    "# 엔트로피 공식\n",
    "-p * math.log(p, 2) - q * math.log(q, 2)"
   ]
  },
  {
   "cell_type": "code",
   "execution_count": null,
   "id": "cd41fdd5-466a-462b-a25a-b6e7ed4365ca",
   "metadata": {},
   "outputs": [],
   "source": [
    "# 엔트로피 공식"
   ]
  },
  {
   "cell_type": "code",
   "execution_count": 31,
   "id": "1332bb7a-fc7b-4e6b-baa5-19cd477db2f3",
   "metadata": {},
   "outputs": [],
   "source": [
    "class_probabilities = [5 / 10, 5 / 10] # class_probabilities = [p, q]"
   ]
  },
  {
   "cell_type": "code",
   "execution_count": 32,
   "id": "9fe8f2e5-6ae7-412d-a05e-c42c6c23700d",
   "metadata": {},
   "outputs": [],
   "source": [
    "def entropy(class_probabilities) :\n",
    "    return sum(-p * math.log(p, 2) for p in class_probabilities if p) # if p를 해주는 이유는 None값이 들어갔을때 오류가 나기 때문"
   ]
  },
  {
   "cell_type": "code",
   "execution_count": 33,
   "id": "d7f2bc85-dc4f-4583-82f1-7943b5ca3adf",
   "metadata": {},
   "outputs": [
    {
     "data": {
      "text/plain": [
       "1.0"
      ]
     },
     "execution_count": 33,
     "metadata": {},
     "output_type": "execute_result"
    }
   ],
   "source": [
    "entropy(class_probabilities)"
   ]
  },
  {
   "cell_type": "code",
   "execution_count": 34,
   "id": "f144b8c4-88bc-4343-ad2f-a87de6cd520a",
   "metadata": {},
   "outputs": [],
   "source": [
    "labeled_data = [data for data in inputs if data[0]['level'] == 'Senior']"
   ]
  },
  {
   "cell_type": "code",
   "execution_count": 38,
   "id": "b21addfd-7873-4173-b65f-8eaa9b1073b2",
   "metadata": {},
   "outputs": [],
   "source": [
    "labels = [label for _, label in labeled_data] #"
   ]
  },
  {
   "cell_type": "code",
   "execution_count": 44,
   "id": "2548cdfa-3067-41be-b453-62408eb481ce",
   "metadata": {},
   "outputs": [],
   "source": [
    "total = len(labels)"
   ]
  },
  {
   "cell_type": "code",
   "execution_count": 45,
   "id": "d0fd5194-cc26-41f7-ae05-809887ef612c",
   "metadata": {},
   "outputs": [
    {
     "data": {
      "text/plain": [
       "Counter({False: 3, True: 2})"
      ]
     },
     "execution_count": 45,
     "metadata": {},
     "output_type": "execute_result"
    }
   ],
   "source": [
    "Counter(labels)"
   ]
  },
  {
   "cell_type": "code",
   "execution_count": 46,
   "id": "4d50b897-77ac-4d3a-85f9-981cb29f3201",
   "metadata": {},
   "outputs": [
    {
     "data": {
      "text/plain": [
       "dict_values([3, 2])"
      ]
     },
     "execution_count": 46,
     "metadata": {},
     "output_type": "execute_result"
    }
   ],
   "source": [
    "Counter(labels).values()"
   ]
  },
  {
   "cell_type": "code",
   "execution_count": 49,
   "id": "3ea88cf3-ab22-487d-a7f3-24499911fa24",
   "metadata": {},
   "outputs": [
    {
     "data": {
      "text/plain": [
       "[0.6, 0.4]"
      ]
     },
     "execution_count": 49,
     "metadata": {},
     "output_type": "execute_result"
    }
   ],
   "source": [
    "[count / total for count in Counter(labels).values()] #True/False의 확률 구하는 공식"
   ]
  },
  {
   "cell_type": "code",
   "execution_count": 50,
   "id": "db33ef2c-d7a9-419e-8628-da8322bf7943",
   "metadata": {},
   "outputs": [],
   "source": [
    "#\n",
    "def class_probabilities(labels) : #\n",
    "    total = len(labels)\n",
    "    return [count / total for count in Counter(labels).values()]"
   ]
  },
  {
   "cell_type": "code",
   "execution_count": null,
   "id": "2a34f106-0776-40fd-9169-0629859ba14a",
   "metadata": {},
   "outputs": [],
   "source": []
  },
  {
   "cell_type": "code",
   "execution_count": 57,
   "id": "9f77838c-d577-4827-939f-cb3dc21752c0",
   "metadata": {},
   "outputs": [],
   "source": [
    "#\n",
    "def data_entropy(labeled_data) : # (labeled_data)를 data_entropy라는 함수에 넣어라.\n",
    "    labels = [label for _, label in labeled_data] # 언더바 되어 있는 부분은 출력하지말고, label에 해당하는 값만 출력해라.\n",
    "    probabilities = class_probabilities(labels) # (labels)를 \n",
    "    return entropy(probabilities) #"
   ]
  },
  {
   "cell_type": "code",
   "execution_count": 58,
   "id": "d221c1b7-a6d9-4966-9ddb-aa0117eda3a1",
   "metadata": {},
   "outputs": [],
   "source": [
    "labeled_data = [data for data in inputs if data[0]['level'] == 'Senior']"
   ]
  },
  {
   "cell_type": "code",
   "execution_count": 59,
   "id": "9ecea4ff-c0af-4963-9daa-544626ba8028",
   "metadata": {},
   "outputs": [],
   "source": [
    "labeled_data = [data for data in inputs if data[0]['level'] == 'Mid']"
   ]
  },
  {
   "cell_type": "code",
   "execution_count": 60,
   "id": "447d69d8-64b1-4a14-8ed2-fb60fa5cc5bf",
   "metadata": {},
   "outputs": [],
   "source": [
    "labeled_data = [data for data in inputs if data[0]['level'] == 'Junior']"
   ]
  },
  {
   "cell_type": "code",
   "execution_count": 61,
   "id": "4694c6ad-26c8-42e8-9f52-bbadb330b52f",
   "metadata": {},
   "outputs": [
    {
     "data": {
      "text/plain": [
       "0.9709505944546686"
      ]
     },
     "execution_count": 61,
     "metadata": {},
     "output_type": "execute_result"
    }
   ],
   "source": [
    "data_entropy(labeled_data)"
   ]
  },
  {
   "cell_type": "code",
   "execution_count": null,
   "id": "d7c4e0f4-8ee5-4ce2-8a5f-4b80a4484b1b",
   "metadata": {},
   "outputs": [],
   "source": [
    "# defaultdict *****\n",
    "temp = defaultdict(list) # defaultdict를 사용하면 ()안에 있는 형태로 비어있는 value를 만들 수 있음"
   ]
  },
  {
   "cell_type": "code",
   "execution_count": null,
   "id": "611819d9-ea44-4213-b2b4-48825f731e68",
   "metadata": {},
   "outputs": [],
   "source": [
    "temp['a']"
   ]
  },
  {
   "cell_type": "code",
   "execution_count": null,
   "id": "3adf5538-db26-4035-abce-31a2740cfb17",
   "metadata": {},
   "outputs": [],
   "source": [
    "test = {}"
   ]
  },
  {
   "cell_type": "code",
   "execution_count": null,
   "id": "04f46a19-2532-42c7-bb69-bdec924bff95",
   "metadata": {},
   "outputs": [],
   "source": [
    "test['Senior'] = ['a']"
   ]
  },
  {
   "cell_type": "code",
   "execution_count": null,
   "id": "716e74b1-307b-4aba-88c4-d0f80c1cdeba",
   "metadata": {},
   "outputs": [],
   "source": [
    "test['Senior'].append('b')"
   ]
  },
  {
   "cell_type": "code",
   "execution_count": null,
   "id": "20b9fde6-bc2f-4c68-961e-ecd2d778b155",
   "metadata": {},
   "outputs": [],
   "source": [
    "test"
   ]
  },
  {
   "cell_type": "code",
   "execution_count": 84,
   "id": "072dc57a-d174-4c1b-afda-94f402a37eb4",
   "metadata": {},
   "outputs": [
    {
     "name": "stdout",
     "output_type": "stream",
     "text": [
      "Senior\n",
      "Senior\n",
      "Mid\n",
      "Junior\n",
      "Junior\n",
      "Junior\n",
      "Mid\n",
      "Senior\n",
      "Senior\n",
      "Junior\n",
      "Senior\n",
      "Mid\n",
      "Mid\n",
      "Junior\n"
     ]
    }
   ],
   "source": [
    "groups = defaultdict(list)\n",
    "for i in inputs :\n",
    "    key = i[0]['level']\n",
    "    print(key)"
   ]
  },
  {
   "cell_type": "code",
   "execution_count": 82,
   "id": "ec0dfcf0-afe3-4795-916c-e449635a5115",
   "metadata": {
    "tags": []
   },
   "outputs": [],
   "source": [
    "groups = defaultdict(list)\n",
    "for i in inputs :\n",
    "    key = i[0]['level']\n",
    "    groups[key].append(i)"
   ]
  },
  {
   "cell_type": "code",
   "execution_count": 83,
   "id": "c7521112-3dff-47b4-8a67-7528e834a9b6",
   "metadata": {
    "collapsed": true,
    "jupyter": {
     "outputs_hidden": true
    },
    "tags": []
   },
   "outputs": [
    {
     "data": {
      "text/plain": [
       "defaultdict(list,\n",
       "            {'Senior': [({'level': 'Senior',\n",
       "                'lang': 'Java',\n",
       "                'tweets': 'no',\n",
       "                'phd': 'no'},\n",
       "               False),\n",
       "              ({'level': 'Senior',\n",
       "                'lang': 'Java',\n",
       "                'tweets': 'no',\n",
       "                'phd': 'yes'},\n",
       "               False),\n",
       "              ({'level': 'Senior',\n",
       "                'lang': 'Python',\n",
       "                'tweets': 'no',\n",
       "                'phd': 'no'},\n",
       "               False),\n",
       "              ({'level': 'Senior', 'lang': 'R', 'tweets': 'yes', 'phd': 'no'},\n",
       "               True),\n",
       "              ({'level': 'Senior',\n",
       "                'lang': 'Python',\n",
       "                'tweets': 'yes',\n",
       "                'phd': 'yes'},\n",
       "               True)],\n",
       "             'Mid': [({'level': 'Mid',\n",
       "                'lang': 'Python',\n",
       "                'tweets': 'no',\n",
       "                'phd': 'no'},\n",
       "               True),\n",
       "              ({'level': 'Mid', 'lang': 'R', 'tweets': 'yes', 'phd': 'yes'},\n",
       "               True),\n",
       "              ({'level': 'Mid',\n",
       "                'lang': 'Python',\n",
       "                'tweets': 'no',\n",
       "                'phd': 'yes'},\n",
       "               True),\n",
       "              ({'level': 'Mid', 'lang': 'Java', 'tweets': 'yes', 'phd': 'no'},\n",
       "               True)],\n",
       "             'Junior': [({'level': 'Junior',\n",
       "                'lang': 'Python',\n",
       "                'tweets': 'no',\n",
       "                'phd': 'no'},\n",
       "               True),\n",
       "              ({'level': 'Junior', 'lang': 'R', 'tweets': 'yes', 'phd': 'no'},\n",
       "               True),\n",
       "              ({'level': 'Junior', 'lang': 'R', 'tweets': 'yes', 'phd': 'yes'},\n",
       "               False),\n",
       "              ({'level': 'Junior',\n",
       "                'lang': 'Python',\n",
       "                'tweets': 'yes',\n",
       "                'phd': 'no'},\n",
       "               True),\n",
       "              ({'level': 'Junior',\n",
       "                'lang': 'Python',\n",
       "                'tweets': 'no',\n",
       "                'phd': 'yes'},\n",
       "               False)]})"
      ]
     },
     "execution_count": 83,
     "metadata": {},
     "output_type": "execute_result"
    }
   ],
   "source": [
    "groups"
   ]
  },
  {
   "cell_type": "code",
   "execution_count": 93,
   "id": "ee2ea2f7-e685-4aee-8b3d-b2333270b0bb",
   "metadata": {},
   "outputs": [],
   "source": [
    "#\n",
    "def partition_by(inputs, attribute) :\n",
    "    groups = defaultdict(list)\n",
    "    for i in inputs :\n",
    "        key = i[0][attribute]\n",
    "        groups[key].append(i)\n",
    "    return groups"
   ]
  },
  {
   "cell_type": "code",
   "execution_count": 94,
   "id": "95ca2b3a-8161-4d95-9315-a33069ed5a63",
   "metadata": {},
   "outputs": [
    {
     "name": "stdout",
     "output_type": "stream",
     "text": [
      "level defaultdict(<class 'list'>, {'Senior': [({'level': 'Senior', 'lang': 'Java', 'tweets': 'no', 'phd': 'no'}, False), ({'level': 'Senior', 'lang': 'Java', 'tweets': 'no', 'phd': 'yes'}, False), ({'level': 'Senior', 'lang': 'Python', 'tweets': 'no', 'phd': 'no'}, False), ({'level': 'Senior', 'lang': 'R', 'tweets': 'yes', 'phd': 'no'}, True), ({'level': 'Senior', 'lang': 'Python', 'tweets': 'yes', 'phd': 'yes'}, True)], 'Mid': [({'level': 'Mid', 'lang': 'Python', 'tweets': 'no', 'phd': 'no'}, True), ({'level': 'Mid', 'lang': 'R', 'tweets': 'yes', 'phd': 'yes'}, True), ({'level': 'Mid', 'lang': 'Python', 'tweets': 'no', 'phd': 'yes'}, True), ({'level': 'Mid', 'lang': 'Java', 'tweets': 'yes', 'phd': 'no'}, True)], 'Junior': [({'level': 'Junior', 'lang': 'Python', 'tweets': 'no', 'phd': 'no'}, True), ({'level': 'Junior', 'lang': 'R', 'tweets': 'yes', 'phd': 'no'}, True), ({'level': 'Junior', 'lang': 'R', 'tweets': 'yes', 'phd': 'yes'}, False), ({'level': 'Junior', 'lang': 'Python', 'tweets': 'yes', 'phd': 'no'}, True), ({'level': 'Junior', 'lang': 'Python', 'tweets': 'no', 'phd': 'yes'}, False)]})\n",
      "---------------------------\n",
      "lang defaultdict(<class 'list'>, {'Java': [({'level': 'Senior', 'lang': 'Java', 'tweets': 'no', 'phd': 'no'}, False), ({'level': 'Senior', 'lang': 'Java', 'tweets': 'no', 'phd': 'yes'}, False), ({'level': 'Mid', 'lang': 'Java', 'tweets': 'yes', 'phd': 'no'}, True)], 'Python': [({'level': 'Mid', 'lang': 'Python', 'tweets': 'no', 'phd': 'no'}, True), ({'level': 'Junior', 'lang': 'Python', 'tweets': 'no', 'phd': 'no'}, True), ({'level': 'Senior', 'lang': 'Python', 'tweets': 'no', 'phd': 'no'}, False), ({'level': 'Junior', 'lang': 'Python', 'tweets': 'yes', 'phd': 'no'}, True), ({'level': 'Senior', 'lang': 'Python', 'tweets': 'yes', 'phd': 'yes'}, True), ({'level': 'Mid', 'lang': 'Python', 'tweets': 'no', 'phd': 'yes'}, True), ({'level': 'Junior', 'lang': 'Python', 'tweets': 'no', 'phd': 'yes'}, False)], 'R': [({'level': 'Junior', 'lang': 'R', 'tweets': 'yes', 'phd': 'no'}, True), ({'level': 'Junior', 'lang': 'R', 'tweets': 'yes', 'phd': 'yes'}, False), ({'level': 'Mid', 'lang': 'R', 'tweets': 'yes', 'phd': 'yes'}, True), ({'level': 'Senior', 'lang': 'R', 'tweets': 'yes', 'phd': 'no'}, True)]})\n",
      "---------------------------\n",
      "tweets defaultdict(<class 'list'>, {'no': [({'level': 'Senior', 'lang': 'Java', 'tweets': 'no', 'phd': 'no'}, False), ({'level': 'Senior', 'lang': 'Java', 'tweets': 'no', 'phd': 'yes'}, False), ({'level': 'Mid', 'lang': 'Python', 'tweets': 'no', 'phd': 'no'}, True), ({'level': 'Junior', 'lang': 'Python', 'tweets': 'no', 'phd': 'no'}, True), ({'level': 'Senior', 'lang': 'Python', 'tweets': 'no', 'phd': 'no'}, False), ({'level': 'Mid', 'lang': 'Python', 'tweets': 'no', 'phd': 'yes'}, True), ({'level': 'Junior', 'lang': 'Python', 'tweets': 'no', 'phd': 'yes'}, False)], 'yes': [({'level': 'Junior', 'lang': 'R', 'tweets': 'yes', 'phd': 'no'}, True), ({'level': 'Junior', 'lang': 'R', 'tweets': 'yes', 'phd': 'yes'}, False), ({'level': 'Mid', 'lang': 'R', 'tweets': 'yes', 'phd': 'yes'}, True), ({'level': 'Senior', 'lang': 'R', 'tweets': 'yes', 'phd': 'no'}, True), ({'level': 'Junior', 'lang': 'Python', 'tweets': 'yes', 'phd': 'no'}, True), ({'level': 'Senior', 'lang': 'Python', 'tweets': 'yes', 'phd': 'yes'}, True), ({'level': 'Mid', 'lang': 'Java', 'tweets': 'yes', 'phd': 'no'}, True)]})\n",
      "---------------------------\n",
      "phd defaultdict(<class 'list'>, {'no': [({'level': 'Senior', 'lang': 'Java', 'tweets': 'no', 'phd': 'no'}, False), ({'level': 'Mid', 'lang': 'Python', 'tweets': 'no', 'phd': 'no'}, True), ({'level': 'Junior', 'lang': 'Python', 'tweets': 'no', 'phd': 'no'}, True), ({'level': 'Junior', 'lang': 'R', 'tweets': 'yes', 'phd': 'no'}, True), ({'level': 'Senior', 'lang': 'Python', 'tweets': 'no', 'phd': 'no'}, False), ({'level': 'Senior', 'lang': 'R', 'tweets': 'yes', 'phd': 'no'}, True), ({'level': 'Junior', 'lang': 'Python', 'tweets': 'yes', 'phd': 'no'}, True), ({'level': 'Mid', 'lang': 'Java', 'tweets': 'yes', 'phd': 'no'}, True)], 'yes': [({'level': 'Senior', 'lang': 'Java', 'tweets': 'no', 'phd': 'yes'}, False), ({'level': 'Junior', 'lang': 'R', 'tweets': 'yes', 'phd': 'yes'}, False), ({'level': 'Mid', 'lang': 'R', 'tweets': 'yes', 'phd': 'yes'}, True), ({'level': 'Senior', 'lang': 'Python', 'tweets': 'yes', 'phd': 'yes'}, True), ({'level': 'Mid', 'lang': 'Python', 'tweets': 'no', 'phd': 'yes'}, True), ({'level': 'Junior', 'lang': 'Python', 'tweets': 'no', 'phd': 'yes'}, False)]})\n",
      "---------------------------\n"
     ]
    }
   ],
   "source": [
    "for key in ['level', 'lang', 'tweets', 'phd'] :\n",
    "    print(key, partition_by(inputs, key))\n",
    "    print('---------------------------')"
   ]
  },
  {
   "cell_type": "code",
   "execution_count": 89,
   "id": "4a6e1b8b-66ae-44e6-8bcd-5272aa00bdb6",
   "metadata": {},
   "outputs": [
    {
     "name": "stdout",
     "output_type": "stream",
     "text": [
      "level dict_keys(['Senior', 'Mid', 'Junior'])\n",
      "---------------------------\n",
      "lang dict_keys(['Java', 'Python', 'R'])\n",
      "---------------------------\n",
      "tweets dict_keys(['no', 'yes'])\n",
      "---------------------------\n",
      "phd dict_keys(['no', 'yes'])\n",
      "---------------------------\n"
     ]
    }
   ],
   "source": [
    "for key in ['level', 'lang', 'tweets', 'phd'] :\n",
    "    print(key, partition_by(inputs, key).keys())\n",
    "    print('---------------------------')"
   ]
  },
  {
   "cell_type": "code",
   "execution_count": 95,
   "id": "84f8342d-ed90-4a16-9dd4-bb0086eab41c",
   "metadata": {
    "collapsed": true,
    "jupyter": {
     "outputs_hidden": true
    },
    "tags": []
   },
   "outputs": [
    {
     "name": "stdout",
     "output_type": "stream",
     "text": [
      "level dict_values([[({'level': 'Senior', 'lang': 'Java', 'tweets': 'no', 'phd': 'no'}, False), ({'level': 'Senior', 'lang': 'Java', 'tweets': 'no', 'phd': 'yes'}, False), ({'level': 'Senior', 'lang': 'Python', 'tweets': 'no', 'phd': 'no'}, False), ({'level': 'Senior', 'lang': 'R', 'tweets': 'yes', 'phd': 'no'}, True), ({'level': 'Senior', 'lang': 'Python', 'tweets': 'yes', 'phd': 'yes'}, True)], [({'level': 'Mid', 'lang': 'Python', 'tweets': 'no', 'phd': 'no'}, True), ({'level': 'Mid', 'lang': 'R', 'tweets': 'yes', 'phd': 'yes'}, True), ({'level': 'Mid', 'lang': 'Python', 'tweets': 'no', 'phd': 'yes'}, True), ({'level': 'Mid', 'lang': 'Java', 'tweets': 'yes', 'phd': 'no'}, True)], [({'level': 'Junior', 'lang': 'Python', 'tweets': 'no', 'phd': 'no'}, True), ({'level': 'Junior', 'lang': 'R', 'tweets': 'yes', 'phd': 'no'}, True), ({'level': 'Junior', 'lang': 'R', 'tweets': 'yes', 'phd': 'yes'}, False), ({'level': 'Junior', 'lang': 'Python', 'tweets': 'yes', 'phd': 'no'}, True), ({'level': 'Junior', 'lang': 'Python', 'tweets': 'no', 'phd': 'yes'}, False)]])\n",
      "---------------------------\n",
      "lang dict_values([[({'level': 'Senior', 'lang': 'Java', 'tweets': 'no', 'phd': 'no'}, False), ({'level': 'Senior', 'lang': 'Java', 'tweets': 'no', 'phd': 'yes'}, False), ({'level': 'Mid', 'lang': 'Java', 'tweets': 'yes', 'phd': 'no'}, True)], [({'level': 'Mid', 'lang': 'Python', 'tweets': 'no', 'phd': 'no'}, True), ({'level': 'Junior', 'lang': 'Python', 'tweets': 'no', 'phd': 'no'}, True), ({'level': 'Senior', 'lang': 'Python', 'tweets': 'no', 'phd': 'no'}, False), ({'level': 'Junior', 'lang': 'Python', 'tweets': 'yes', 'phd': 'no'}, True), ({'level': 'Senior', 'lang': 'Python', 'tweets': 'yes', 'phd': 'yes'}, True), ({'level': 'Mid', 'lang': 'Python', 'tweets': 'no', 'phd': 'yes'}, True), ({'level': 'Junior', 'lang': 'Python', 'tweets': 'no', 'phd': 'yes'}, False)], [({'level': 'Junior', 'lang': 'R', 'tweets': 'yes', 'phd': 'no'}, True), ({'level': 'Junior', 'lang': 'R', 'tweets': 'yes', 'phd': 'yes'}, False), ({'level': 'Mid', 'lang': 'R', 'tweets': 'yes', 'phd': 'yes'}, True), ({'level': 'Senior', 'lang': 'R', 'tweets': 'yes', 'phd': 'no'}, True)]])\n",
      "---------------------------\n",
      "tweets dict_values([[({'level': 'Senior', 'lang': 'Java', 'tweets': 'no', 'phd': 'no'}, False), ({'level': 'Senior', 'lang': 'Java', 'tweets': 'no', 'phd': 'yes'}, False), ({'level': 'Mid', 'lang': 'Python', 'tweets': 'no', 'phd': 'no'}, True), ({'level': 'Junior', 'lang': 'Python', 'tweets': 'no', 'phd': 'no'}, True), ({'level': 'Senior', 'lang': 'Python', 'tweets': 'no', 'phd': 'no'}, False), ({'level': 'Mid', 'lang': 'Python', 'tweets': 'no', 'phd': 'yes'}, True), ({'level': 'Junior', 'lang': 'Python', 'tweets': 'no', 'phd': 'yes'}, False)], [({'level': 'Junior', 'lang': 'R', 'tweets': 'yes', 'phd': 'no'}, True), ({'level': 'Junior', 'lang': 'R', 'tweets': 'yes', 'phd': 'yes'}, False), ({'level': 'Mid', 'lang': 'R', 'tweets': 'yes', 'phd': 'yes'}, True), ({'level': 'Senior', 'lang': 'R', 'tweets': 'yes', 'phd': 'no'}, True), ({'level': 'Junior', 'lang': 'Python', 'tweets': 'yes', 'phd': 'no'}, True), ({'level': 'Senior', 'lang': 'Python', 'tweets': 'yes', 'phd': 'yes'}, True), ({'level': 'Mid', 'lang': 'Java', 'tweets': 'yes', 'phd': 'no'}, True)]])\n",
      "---------------------------\n",
      "phd dict_values([[({'level': 'Senior', 'lang': 'Java', 'tweets': 'no', 'phd': 'no'}, False), ({'level': 'Mid', 'lang': 'Python', 'tweets': 'no', 'phd': 'no'}, True), ({'level': 'Junior', 'lang': 'Python', 'tweets': 'no', 'phd': 'no'}, True), ({'level': 'Junior', 'lang': 'R', 'tweets': 'yes', 'phd': 'no'}, True), ({'level': 'Senior', 'lang': 'Python', 'tweets': 'no', 'phd': 'no'}, False), ({'level': 'Senior', 'lang': 'R', 'tweets': 'yes', 'phd': 'no'}, True), ({'level': 'Junior', 'lang': 'Python', 'tweets': 'yes', 'phd': 'no'}, True), ({'level': 'Mid', 'lang': 'Java', 'tweets': 'yes', 'phd': 'no'}, True)], [({'level': 'Senior', 'lang': 'Java', 'tweets': 'no', 'phd': 'yes'}, False), ({'level': 'Junior', 'lang': 'R', 'tweets': 'yes', 'phd': 'yes'}, False), ({'level': 'Mid', 'lang': 'R', 'tweets': 'yes', 'phd': 'yes'}, True), ({'level': 'Senior', 'lang': 'Python', 'tweets': 'yes', 'phd': 'yes'}, True), ({'level': 'Mid', 'lang': 'Python', 'tweets': 'no', 'phd': 'yes'}, True), ({'level': 'Junior', 'lang': 'Python', 'tweets': 'no', 'phd': 'yes'}, False)]])\n",
      "---------------------------\n"
     ]
    }
   ],
   "source": [
    "for key in ['level', 'lang', 'tweets', 'phd'] :\n",
    "    print(key, partition_by(inputs, key).values())\n",
    "    print('---------------------------')"
   ]
  },
  {
   "cell_type": "code",
   "execution_count": 96,
   "id": "d0b2a7c5-5883-422e-b6b7-4ecc53944420",
   "metadata": {},
   "outputs": [
    {
     "name": "stdout",
     "output_type": "stream",
     "text": [
      "[({'level': 'Senior', 'lang': 'Java', 'tweets': 'no', 'phd': 'no'}, False), ({'level': 'Senior', 'lang': 'Java', 'tweets': 'no', 'phd': 'yes'}, False), ({'level': 'Senior', 'lang': 'Python', 'tweets': 'no', 'phd': 'no'}, False), ({'level': 'Senior', 'lang': 'R', 'tweets': 'yes', 'phd': 'no'}, True), ({'level': 'Senior', 'lang': 'Python', 'tweets': 'yes', 'phd': 'yes'}, True)]\n",
      "[({'level': 'Mid', 'lang': 'Python', 'tweets': 'no', 'phd': 'no'}, True), ({'level': 'Mid', 'lang': 'R', 'tweets': 'yes', 'phd': 'yes'}, True), ({'level': 'Mid', 'lang': 'Python', 'tweets': 'no', 'phd': 'yes'}, True), ({'level': 'Mid', 'lang': 'Java', 'tweets': 'yes', 'phd': 'no'}, True)]\n",
      "[({'level': 'Junior', 'lang': 'Python', 'tweets': 'no', 'phd': 'no'}, True), ({'level': 'Junior', 'lang': 'R', 'tweets': 'yes', 'phd': 'no'}, True), ({'level': 'Junior', 'lang': 'R', 'tweets': 'yes', 'phd': 'yes'}, False), ({'level': 'Junior', 'lang': 'Python', 'tweets': 'yes', 'phd': 'no'}, True), ({'level': 'Junior', 'lang': 'Python', 'tweets': 'no', 'phd': 'yes'}, False)]\n"
     ]
    }
   ],
   "source": [
    "for i in partition_by(inputs, 'level').values() :\n",
    "    print(i)"
   ]
  },
  {
   "cell_type": "code",
   "execution_count": 97,
   "id": "d5ed3a8c-c74b-467c-b6ad-54122473234a",
   "metadata": {},
   "outputs": [],
   "source": [
    "subsets = partition_by(inputs, 'level').values()"
   ]
  },
  {
   "cell_type": "code",
   "execution_count": 98,
   "id": "39c08e40-9114-4289-835f-55fc3dec91fc",
   "metadata": {},
   "outputs": [],
   "source": [
    "total_count = sum(len(subset) for subset in subsets)"
   ]
  },
  {
   "cell_type": "code",
   "execution_count": 99,
   "id": "ca14b5dd-40fc-4df0-9b0d-93df4fc39632",
   "metadata": {},
   "outputs": [
    {
     "data": {
      "text/plain": [
       "14"
      ]
     },
     "execution_count": 99,
     "metadata": {},
     "output_type": "execute_result"
    }
   ],
   "source": [
    "total_count"
   ]
  },
  {
   "cell_type": "code",
   "execution_count": 101,
   "id": "c81a7981-a244-433e-a2db-c37bfe726576",
   "metadata": {},
   "outputs": [
    {
     "data": {
      "text/plain": [
       "0.6935361388961918"
      ]
     },
     "execution_count": 101,
     "metadata": {},
     "output_type": "execute_result"
    }
   ],
   "source": [
    "sum(len(subset) / total_count * data_entropy(subset) for subset in subsets)"
   ]
  },
  {
   "cell_type": "code",
   "execution_count": 102,
   "id": "1a5b5b87-2de8-43c4-98de-155550c3e6dd",
   "metadata": {},
   "outputs": [],
   "source": [
    "# partition별 엔트로피를 구할 것이다.\n",
    "def partition_entropy(subsets) :\n",
    "    total_count = sum(len(subset) for subset in subsets)\n",
    "    return sum(len(subset) / total_count * data_entropy(subset) for subset in subsets)\n",
    "#엔트로피의 평균을 구해서 ~\n",
    "# 𝑃   𝑆𝑒𝑛𝑖𝑜𝑟     ∗ 𝐸𝑛𝑡𝑟𝑜𝑝𝑦   2,3     + 𝑃   𝑀𝑖𝑑     ∗ 𝐸𝑛𝑡𝑟𝑜𝑝𝑦   4,0     + 𝑃   𝐽𝑢𝑛𝑖𝑜𝑟       ∗ 𝐸𝑛𝑡𝑟𝑜𝑝𝑦   3,2     =  0.694"
   ]
  },
  {
   "cell_type": "code",
   "execution_count": 110,
   "id": "955ef7f1-8b3a-4b33-9572-00f810cddc5c",
   "metadata": {},
   "outputs": [],
   "source": [
    "def partition_entropy_by(inputs, attribute) :\n",
    "    partitions = partition_by(inputs, attribute)\n",
    "    return partition_entropy(partitions.values())"
   ]
  },
  {
   "cell_type": "code",
   "execution_count": 111,
   "id": "c7526c05-191d-40ad-a869-4250595e0336",
   "metadata": {},
   "outputs": [
    {
     "name": "stdout",
     "output_type": "stream",
     "text": [
      "level 0.6935361388961918\n",
      "lang 0.8601317128547441\n",
      "tweets 0.7884504573082896\n",
      "phd 0.8921589282623617\n"
     ]
    }
   ],
   "source": [
    "for key in ['level', 'lang', 'tweets', 'phd'] :\n",
    "    print(key, partition_entropy_by(inputs, key))"
   ]
  },
  {
   "cell_type": "code",
   "execution_count": 112,
   "id": "779200ad-51d3-425d-b5f4-3e4ecb33f810",
   "metadata": {},
   "outputs": [],
   "source": [
    "mid_inputs = [(data, label) for data, label in inputs if data['level'] == 'Mid'] # data의 'level'인 'Mid'인 녀석들만 뽑아와라."
   ]
  },
  {
   "cell_type": "code",
   "execution_count": 114,
   "id": "cab74587-c313-49dc-80fb-d1246748a1a0",
   "metadata": {},
   "outputs": [
    {
     "name": "stdout",
     "output_type": "stream",
     "text": [
      "lang 0.0\n",
      "tweets 0.0\n",
      "phd 0.0\n"
     ]
    }
   ],
   "source": [
    "for key in ['lang', 'tweets', 'phd'] :\n",
    "    print(key, partition_entropy_by(mid_inputs, key))"
   ]
  },
  {
   "cell_type": "code",
   "execution_count": 116,
   "id": "c3139d61-dd5c-43ba-a373-a2eee1a5eb97",
   "metadata": {},
   "outputs": [],
   "source": [
    "senior_inputs = [(data, label) for data, label in inputs if data['level'] == 'Senior'] # data의 'level'인 'Senior'인 녀석들만 뽑아와라."
   ]
  },
  {
   "cell_type": "code",
   "execution_count": 118,
   "id": "27e7c7dc-5fa6-4b19-9923-bd147ee9437a",
   "metadata": {},
   "outputs": [
    {
     "name": "stdout",
     "output_type": "stream",
     "text": [
      "lang 0.4\n",
      "tweets 0.0\n",
      "phd 0.9509775004326937\n"
     ]
    }
   ],
   "source": [
    "for key in ['lang', 'tweets', 'phd'] :\n",
    "    print(key, partition_entropy_by(senior_inputs, key))"
   ]
  },
  {
   "cell_type": "code",
   "execution_count": 119,
   "id": "00aa467e-4ffe-475b-ad18-507ae2745d72",
   "metadata": {},
   "outputs": [],
   "source": [
    "junior_inputs = [(data, label) for data, label in inputs if data['level'] == 'Junior'] # data의 'level'인 'Senior'인 녀석들만 뽑아와라."
   ]
  },
  {
   "cell_type": "code",
   "execution_count": 121,
   "id": "3eed2a46-70dd-4803-9052-45d86eebbd51",
   "metadata": {},
   "outputs": [
    {
     "name": "stdout",
     "output_type": "stream",
     "text": [
      "lang 0.9509775004326937\n",
      "tweets 0.9509775004326937\n",
      "phd 0.0\n"
     ]
    }
   ],
   "source": [
    "for key in ['lang', 'tweets', 'phd'] :\n",
    "    print(key, partition_entropy_by(junior_inputs, key))"
   ]
  },
  {
   "cell_type": "code",
   "execution_count": null,
   "id": "734b18d0-5161-4ffd-8e89-8433a4455662",
   "metadata": {},
   "outputs": [],
   "source": [
    "#재귀 함수"
   ]
  },
  {
   "cell_type": "code",
   "execution_count": 122,
   "id": "5d9394c2-575a-49b1-a229-56a0901ab9c5",
   "metadata": {},
   "outputs": [],
   "source": [
    "#재귀 함수 예시\n",
    "def func_test(x) :\n",
    "    if x < 0 :\n",
    "        return\n",
    "    x = x - 1\n",
    "    print(x)\n",
    "    return func_test(x)"
   ]
  },
  {
   "cell_type": "code",
   "execution_count": 123,
   "id": "31b3eb52-46ef-4cd0-9a07-ac94d27b8e22",
   "metadata": {},
   "outputs": [
    {
     "name": "stdout",
     "output_type": "stream",
     "text": [
      "9\n",
      "8\n",
      "7\n",
      "6\n",
      "5\n",
      "4\n",
      "3\n",
      "2\n",
      "1\n",
      "0\n",
      "-1\n"
     ]
    }
   ],
   "source": [
    "func_test(10)"
   ]
  },
  {
   "cell_type": "code",
   "execution_count": 130,
   "id": "a26ff7c7-eb9d-475c-8fe4-e397bcb9ac34",
   "metadata": {},
   "outputs": [],
   "source": [
    "#재귀 함수 예시\n",
    "def func_test(x) :\n",
    "    if x < 0 :\n",
    "        return 0\n",
    "    x = x - 1\n",
    "    print(x)\n",
    "    x = func_test(x)\n",
    "    print(x)\n",
    "    return x"
   ]
  },
  {
   "cell_type": "code",
   "execution_count": 131,
   "id": "d9349a82-9367-4559-b09b-a837cb24d89c",
   "metadata": {
    "collapsed": true,
    "jupyter": {
     "outputs_hidden": true
    },
    "tags": []
   },
   "outputs": [
    {
     "name": "stdout",
     "output_type": "stream",
     "text": [
      "9\n",
      "8\n",
      "7\n",
      "6\n",
      "5\n",
      "4\n",
      "3\n",
      "2\n",
      "1\n",
      "0\n",
      "-1\n",
      "0\n",
      "0\n",
      "0\n",
      "0\n",
      "0\n",
      "0\n",
      "0\n",
      "0\n",
      "0\n",
      "0\n",
      "0\n"
     ]
    },
    {
     "data": {
      "text/plain": [
       "0"
      ]
     },
     "execution_count": 131,
     "metadata": {},
     "output_type": "execute_result"
    }
   ],
   "source": [
    "func_test(10)"
   ]
  },
  {
   "cell_type": "code",
   "execution_count": 138,
   "id": "388b25ea-3191-4f12-98a5-2ec565c18282",
   "metadata": {},
   "outputs": [],
   "source": [
    "def build_tree_id3(inputs, split_candidates = None) :\n",
    "    if split_candidates is None :\n",
    "        split_candidates = inputs[0][0].keys()\n",
    "    print(split_candidates)"
   ]
  },
  {
   "cell_type": "code",
   "execution_count": 141,
   "id": "51bcb616-215c-4988-8c98-a1798d236c96",
   "metadata": {},
   "outputs": [
    {
     "data": {
      "text/plain": [
       "({'level': 'Senior', 'lang': 'Java', 'tweets': 'no', 'phd': 'no'}, False)"
      ]
     },
     "execution_count": 141,
     "metadata": {},
     "output_type": "execute_result"
    }
   ],
   "source": [
    "inputs[0]"
   ]
  },
  {
   "cell_type": "code",
   "execution_count": 142,
   "id": "616bf8e4-caf5-4df2-bde9-579cc45902b0",
   "metadata": {},
   "outputs": [
    {
     "data": {
      "text/plain": [
       "{'level': 'Senior', 'lang': 'Java', 'tweets': 'no', 'phd': 'no'}"
      ]
     },
     "execution_count": 142,
     "metadata": {},
     "output_type": "execute_result"
    }
   ],
   "source": [
    "inputs[0][0]"
   ]
  },
  {
   "cell_type": "code",
   "execution_count": 143,
   "id": "27f18139-cb58-42d6-aec4-71e841528c47",
   "metadata": {},
   "outputs": [
    {
     "data": {
      "text/plain": [
       "dict_keys(['level', 'lang', 'tweets', 'phd'])"
      ]
     },
     "execution_count": 143,
     "metadata": {},
     "output_type": "execute_result"
    }
   ],
   "source": [
    "inputs[0][0].keys()"
   ]
  },
  {
   "cell_type": "code",
   "execution_count": 144,
   "id": "8d9186ae-17ca-4ce3-8434-96a2fbf0f25b",
   "metadata": {},
   "outputs": [],
   "source": [
    "#\n",
    "def build_tree_id3(inputs, split_candidates = None) :\n",
    "    if split_candidates is None :\n",
    "        split_candidates = inputs[0][0].keys()\n",
    "        \n",
    "    num_inputs = len(inputs) # inputs의 전체 갯수는 14개\n",
    "    num_trues = len([label for _, label in inputs if label])\n",
    "    print(num_trues)"
   ]
  },
  {
   "cell_type": "code",
   "execution_count": 147,
   "id": "72d87612-681f-4649-bc45-c016c5609ee2",
   "metadata": {},
   "outputs": [
    {
     "name": "stdout",
     "output_type": "stream",
     "text": [
      "9\n"
     ]
    }
   ],
   "source": [
    "build_tree_id3(inputs) # num_trues의 갯수"
   ]
  },
  {
   "cell_type": "code",
   "execution_count": 148,
   "id": "9bc650d5-45da-48d5-bfb1-f2b595d4f757",
   "metadata": {
    "tags": []
   },
   "outputs": [],
   "source": [
    "#\n",
    "def build_tree_id3(inputs, split_candidates = None) :\n",
    "    if split_candidates is None :\n",
    "        split_candidates = inputs[0][0].keys()\n",
    "        \n",
    "    num_inputs = len(inputs) # inputs의 전체 갯수는 14개\n",
    "    num_trues = len([label for _, label in inputs if label])\n",
    "    num_falses = num_inputs - num_trues\n",
    "    \n",
    "    print(num_falses)"
   ]
  },
  {
   "cell_type": "code",
   "execution_count": 150,
   "id": "096397e6-761a-41c6-9431-b6e4a2c2027f",
   "metadata": {},
   "outputs": [
    {
     "name": "stdout",
     "output_type": "stream",
     "text": [
      "5\n"
     ]
    }
   ],
   "source": [
    "build_tree_id3(inputs) # num_falses 의 갯수"
   ]
  },
  {
   "cell_type": "code",
   "execution_count": 157,
   "id": "a70b4410-cb75-4b0f-9e40-ddbcee6eff9b",
   "metadata": {},
   "outputs": [],
   "source": [
    "test = ['abc12321', 'abc21324', 'abcde0', 'abcdef5']"
   ]
  },
  {
   "cell_type": "code",
   "execution_count": 158,
   "id": "431077da-582d-4313-a826-2498a26c6c00",
   "metadata": {},
   "outputs": [],
   "source": [
    "def back(x) :\n",
    "    return x[-1]"
   ]
  },
  {
   "cell_type": "code",
   "execution_count": 167,
   "id": "f69742af-561f-4cba-9939-489862aed919",
   "metadata": {},
   "outputs": [
    {
     "data": {
      "text/plain": [
       "'abcde0'"
      ]
     },
     "execution_count": 167,
     "metadata": {},
     "output_type": "execute_result"
    }
   ],
   "source": [
    "min(test, key = back) #"
   ]
  },
  {
   "cell_type": "code",
   "execution_count": 168,
   "id": "fdcdd3d8-04b1-4792-8dfa-437fe2c0ca30",
   "metadata": {},
   "outputs": [
    {
     "data": {
      "text/plain": [
       "'abcdef5'"
      ]
     },
     "execution_count": 168,
     "metadata": {},
     "output_type": "execute_result"
    }
   ],
   "source": [
    "max(test, key = back)"
   ]
  },
  {
   "cell_type": "code",
   "execution_count": 171,
   "id": "154ccd07-f983-409d-b0b6-7399ffb3cb6d",
   "metadata": {},
   "outputs": [],
   "source": [
    "def back(x, y) :\n",
    "    return int(x[-1]) + y"
   ]
  },
  {
   "cell_type": "code",
   "execution_count": 172,
   "id": "0e82e18d-899d-4af0-bd0d-a5a308a28883",
   "metadata": {},
   "outputs": [
    {
     "data": {
      "text/plain": [
       "'abcde0'"
      ]
     },
     "execution_count": 172,
     "metadata": {},
     "output_type": "execute_result"
    }
   ],
   "source": [
    "min(test, key = partial(back, y = 1)) #"
   ]
  },
  {
   "cell_type": "code",
   "execution_count": 162,
   "id": "54fc30ac-ba10-44d5-9350-ee1fcfe6b8fe",
   "metadata": {},
   "outputs": [],
   "source": [
    "#\n",
    "def build_tree_id3(inputs, split_candidates = None) :\n",
    "    if split_candidates is None :\n",
    "        split_candidates = inputs[0][0].keys()\n",
    "        # ['level', 'lang', 'tweets', 'phd']\n",
    "        \n",
    "    num_inputs = len(inputs) # inputs의 전체 갯수는 14개\n",
    "    num_trues = len([label for _, label in inputs if label])\n",
    "    num_falses = num_inputs - num_trues\n",
    "    \n",
    "    best_attribute = min(split_candidates, key = partial(partition_entropy_by, inputs)) #의미: ['level', 'lang', 'tweets', 'phd']중에서 엔트로피가 가장 낮은 값을 best_attribute에 넣어서 출력하면 'level'이 나오는 것을 알 수 있음\n",
    "    \n",
    "    print(best_attribute)"
   ]
  },
  {
   "cell_type": "code",
   "execution_count": 165,
   "id": "3ab0bb60-d7df-4f15-b690-416465c0d9c7",
   "metadata": {},
   "outputs": [
    {
     "name": "stdout",
     "output_type": "stream",
     "text": [
      "level\n"
     ]
    }
   ],
   "source": [
    "build_tree_id3(inputs)"
   ]
  },
  {
   "cell_type": "code",
   "execution_count": 173,
   "id": "6e295417-3063-4609-b7d7-9963bbe40167",
   "metadata": {},
   "outputs": [],
   "source": [
    "#\n",
    "def build_tree_id3(inputs, split_candidates = None) :\n",
    "    if split_candidates is None :\n",
    "        split_candidates = inputs[0][0].keys()\n",
    "        # ['level', 'lang', 'tweets', 'phd']\n",
    "        \n",
    "    num_inputs = len(inputs) # inputs의 전체 갯수는 14개\n",
    "    num_trues = len([label for _, label in inputs if label])\n",
    "    num_falses = num_inputs - num_trues\n",
    "    \n",
    "    best_attribute = min(split_candidates, key = partial(partition_entropy_by, inputs)) #의미: ['level', 'lang', 'tweets', 'phd']중에서 엔트로피가 가장 낮은 값을 best_attribute에 넣어서 출력하면 'level'이 나오는 것을 알 수 있음\n",
    "    \n",
    "    partitions = partition_by(inputs, best_attribute)\n",
    "    \n",
    "    print(partitions)"
   ]
  },
  {
   "cell_type": "code",
   "execution_count": 174,
   "id": "ef83cf07-b14a-4344-8676-8b9c34701ecf",
   "metadata": {},
   "outputs": [
    {
     "name": "stdout",
     "output_type": "stream",
     "text": [
      "defaultdict(<class 'list'>, {'Senior': [({'level': 'Senior', 'lang': 'Java', 'tweets': 'no', 'phd': 'no'}, False), ({'level': 'Senior', 'lang': 'Java', 'tweets': 'no', 'phd': 'yes'}, False), ({'level': 'Senior', 'lang': 'Python', 'tweets': 'no', 'phd': 'no'}, False), ({'level': 'Senior', 'lang': 'R', 'tweets': 'yes', 'phd': 'no'}, True), ({'level': 'Senior', 'lang': 'Python', 'tweets': 'yes', 'phd': 'yes'}, True)], 'Mid': [({'level': 'Mid', 'lang': 'Python', 'tweets': 'no', 'phd': 'no'}, True), ({'level': 'Mid', 'lang': 'R', 'tweets': 'yes', 'phd': 'yes'}, True), ({'level': 'Mid', 'lang': 'Python', 'tweets': 'no', 'phd': 'yes'}, True), ({'level': 'Mid', 'lang': 'Java', 'tweets': 'yes', 'phd': 'no'}, True)], 'Junior': [({'level': 'Junior', 'lang': 'Python', 'tweets': 'no', 'phd': 'no'}, True), ({'level': 'Junior', 'lang': 'R', 'tweets': 'yes', 'phd': 'no'}, True), ({'level': 'Junior', 'lang': 'R', 'tweets': 'yes', 'phd': 'yes'}, False), ({'level': 'Junior', 'lang': 'Python', 'tweets': 'yes', 'phd': 'no'}, True), ({'level': 'Junior', 'lang': 'Python', 'tweets': 'no', 'phd': 'yes'}, False)]})\n"
     ]
    }
   ],
   "source": [
    "build_tree_id3(inputs)"
   ]
  },
  {
   "cell_type": "code",
   "execution_count": 178,
   "id": "f5fdf6ab-1e68-4b37-82fb-f21359b5ae1c",
   "metadata": {},
   "outputs": [],
   "source": [
    "#\n",
    "def build_tree_id3(inputs, split_candidates = None) :\n",
    "    if split_candidates is None :\n",
    "        split_candidates = inputs[0][0].keys()\n",
    "        # ['level', 'lang', 'tweets', 'phd']\n",
    "        \n",
    "    num_inputs = len(inputs) # inputs의 전체 갯수는 14개\n",
    "    num_trues = len([label for _, label in inputs if label])\n",
    "    num_falses = num_inputs - num_trues\n",
    "    \n",
    "    best_attribute = min(split_candidates, key = partial(partition_entropy_by, inputs)) #의미: ['level', 'lang', 'tweets', 'phd']중에서 엔트로피가 가장 낮은 값을 best_attribute에 넣어서 출력하면 'level'이 나오는 것을 알 수 있음\n",
    "    \n",
    "    partitions = partition_by(inputs, best_attribute)\n",
    "    new_candidates = [a for a in split_candidates if a != best_attribute]\n",
    "    \n",
    "    print(new_candidates)"
   ]
  },
  {
   "cell_type": "code",
   "execution_count": 179,
   "id": "783f913d-b4fd-4ac1-b2b3-1a462b5d58ab",
   "metadata": {},
   "outputs": [
    {
     "name": "stdout",
     "output_type": "stream",
     "text": [
      "['lang', 'tweets', 'phd']\n"
     ]
    }
   ],
   "source": [
    "build_tree_id3(inputs)"
   ]
  },
  {
   "cell_type": "code",
   "execution_count": 184,
   "id": "2f3b5573-e7fa-4d05-92b5-10c953fe8de3",
   "metadata": {},
   "outputs": [],
   "source": [
    "#\n",
    "def build_tree_id3(inputs, split_candidates = None) :\n",
    "    if split_candidates is None :\n",
    "        split_candidates = inputs[0][0].keys()\n",
    "        # ['level', 'lang', 'tweets', 'phd']\n",
    "        \n",
    "    num_inputs = len(inputs) # inputs의 전체 갯수는 14개\n",
    "    num_trues = len([label for _, label in inputs if label])\n",
    "    num_falses = num_inputs - num_trues\n",
    "    \n",
    "    best_attribute = min(split_candidates, key = partial(partition_entropy_by, inputs)) #의미: ['level', 'lang', 'tweets', 'phd']중에서 엔트로피가 가장 낮은 값을 best_attribute에 넣어서 출력하면 'level'이 나오는 것을 알 수 있음\n",
    "    \n",
    "    partitions = partition_by(inputs, best_attribute)\n",
    "    new_candidates = [a for a in split_candidates if a != best_attribute]\n",
    "    \n",
    "    subtrees = {attribute_value : build_tree_id3(subset, new_candidates) for attribute_value, subset in partitions.items()}\n",
    "    \n",
    "    print(subtrees)"
   ]
  },
  {
   "cell_type": "code",
   "execution_count": 185,
   "id": "9ddf4808-f7c4-4f88-8a62-72b485d5a432",
   "metadata": {
    "collapsed": true,
    "jupyter": {
     "outputs_hidden": true
    },
    "tags": []
   },
   "outputs": [
    {
     "ename": "ValueError",
     "evalue": "min() arg is an empty sequence",
     "output_type": "error",
     "traceback": [
      "\u001b[1;31m---------------------------------------------------------------------------\u001b[0m",
      "\u001b[1;31mValueError\u001b[0m                                Traceback (most recent call last)",
      "Input \u001b[1;32mIn [185]\u001b[0m, in \u001b[0;36m<cell line: 1>\u001b[1;34m()\u001b[0m\n\u001b[1;32m----> 1\u001b[0m \u001b[43mbuild_tree_id3\u001b[49m\u001b[43m(\u001b[49m\u001b[43minputs\u001b[49m\u001b[43m)\u001b[49m\n",
      "Input \u001b[1;32mIn [184]\u001b[0m, in \u001b[0;36mbuild_tree_id3\u001b[1;34m(inputs, split_candidates)\u001b[0m\n\u001b[0;32m     13\u001b[0m partitions \u001b[38;5;241m=\u001b[39m partition_by(inputs, best_attribute)\n\u001b[0;32m     14\u001b[0m new_candidates \u001b[38;5;241m=\u001b[39m [a \u001b[38;5;28;01mfor\u001b[39;00m a \u001b[38;5;129;01min\u001b[39;00m split_candidates \u001b[38;5;28;01mif\u001b[39;00m a \u001b[38;5;241m!=\u001b[39m best_attribute]\n\u001b[1;32m---> 16\u001b[0m subtrees \u001b[38;5;241m=\u001b[39m {attribute_value : build_tree_id3(subset, new_candidates) \u001b[38;5;28;01mfor\u001b[39;00m attribute_value, subset \u001b[38;5;129;01min\u001b[39;00m partitions\u001b[38;5;241m.\u001b[39mitems()}\n\u001b[0;32m     18\u001b[0m \u001b[38;5;28mprint\u001b[39m(subtrees)\n",
      "Input \u001b[1;32mIn [184]\u001b[0m, in \u001b[0;36m<dictcomp>\u001b[1;34m(.0)\u001b[0m\n\u001b[0;32m     13\u001b[0m partitions \u001b[38;5;241m=\u001b[39m partition_by(inputs, best_attribute)\n\u001b[0;32m     14\u001b[0m new_candidates \u001b[38;5;241m=\u001b[39m [a \u001b[38;5;28;01mfor\u001b[39;00m a \u001b[38;5;129;01min\u001b[39;00m split_candidates \u001b[38;5;28;01mif\u001b[39;00m a \u001b[38;5;241m!=\u001b[39m best_attribute]\n\u001b[1;32m---> 16\u001b[0m subtrees \u001b[38;5;241m=\u001b[39m {attribute_value : \u001b[43mbuild_tree_id3\u001b[49m\u001b[43m(\u001b[49m\u001b[43msubset\u001b[49m\u001b[43m,\u001b[49m\u001b[43m \u001b[49m\u001b[43mnew_candidates\u001b[49m\u001b[43m)\u001b[49m \u001b[38;5;28;01mfor\u001b[39;00m attribute_value, subset \u001b[38;5;129;01min\u001b[39;00m partitions\u001b[38;5;241m.\u001b[39mitems()}\n\u001b[0;32m     18\u001b[0m \u001b[38;5;28mprint\u001b[39m(subtrees)\n",
      "Input \u001b[1;32mIn [184]\u001b[0m, in \u001b[0;36mbuild_tree_id3\u001b[1;34m(inputs, split_candidates)\u001b[0m\n\u001b[0;32m     13\u001b[0m partitions \u001b[38;5;241m=\u001b[39m partition_by(inputs, best_attribute)\n\u001b[0;32m     14\u001b[0m new_candidates \u001b[38;5;241m=\u001b[39m [a \u001b[38;5;28;01mfor\u001b[39;00m a \u001b[38;5;129;01min\u001b[39;00m split_candidates \u001b[38;5;28;01mif\u001b[39;00m a \u001b[38;5;241m!=\u001b[39m best_attribute]\n\u001b[1;32m---> 16\u001b[0m subtrees \u001b[38;5;241m=\u001b[39m {attribute_value : build_tree_id3(subset, new_candidates) \u001b[38;5;28;01mfor\u001b[39;00m attribute_value, subset \u001b[38;5;129;01min\u001b[39;00m partitions\u001b[38;5;241m.\u001b[39mitems()}\n\u001b[0;32m     18\u001b[0m \u001b[38;5;28mprint\u001b[39m(subtrees)\n",
      "Input \u001b[1;32mIn [184]\u001b[0m, in \u001b[0;36m<dictcomp>\u001b[1;34m(.0)\u001b[0m\n\u001b[0;32m     13\u001b[0m partitions \u001b[38;5;241m=\u001b[39m partition_by(inputs, best_attribute)\n\u001b[0;32m     14\u001b[0m new_candidates \u001b[38;5;241m=\u001b[39m [a \u001b[38;5;28;01mfor\u001b[39;00m a \u001b[38;5;129;01min\u001b[39;00m split_candidates \u001b[38;5;28;01mif\u001b[39;00m a \u001b[38;5;241m!=\u001b[39m best_attribute]\n\u001b[1;32m---> 16\u001b[0m subtrees \u001b[38;5;241m=\u001b[39m {attribute_value : \u001b[43mbuild_tree_id3\u001b[49m\u001b[43m(\u001b[49m\u001b[43msubset\u001b[49m\u001b[43m,\u001b[49m\u001b[43m \u001b[49m\u001b[43mnew_candidates\u001b[49m\u001b[43m)\u001b[49m \u001b[38;5;28;01mfor\u001b[39;00m attribute_value, subset \u001b[38;5;129;01min\u001b[39;00m partitions\u001b[38;5;241m.\u001b[39mitems()}\n\u001b[0;32m     18\u001b[0m \u001b[38;5;28mprint\u001b[39m(subtrees)\n",
      "    \u001b[1;31m[... skipping similar frames: <dictcomp> at line 16 (1 times), build_tree_id3 at line 16 (1 times)]\u001b[0m\n",
      "Input \u001b[1;32mIn [184]\u001b[0m, in \u001b[0;36mbuild_tree_id3\u001b[1;34m(inputs, split_candidates)\u001b[0m\n\u001b[0;32m     13\u001b[0m partitions \u001b[38;5;241m=\u001b[39m partition_by(inputs, best_attribute)\n\u001b[0;32m     14\u001b[0m new_candidates \u001b[38;5;241m=\u001b[39m [a \u001b[38;5;28;01mfor\u001b[39;00m a \u001b[38;5;129;01min\u001b[39;00m split_candidates \u001b[38;5;28;01mif\u001b[39;00m a \u001b[38;5;241m!=\u001b[39m best_attribute]\n\u001b[1;32m---> 16\u001b[0m subtrees \u001b[38;5;241m=\u001b[39m {attribute_value : build_tree_id3(subset, new_candidates) \u001b[38;5;28;01mfor\u001b[39;00m attribute_value, subset \u001b[38;5;129;01min\u001b[39;00m partitions\u001b[38;5;241m.\u001b[39mitems()}\n\u001b[0;32m     18\u001b[0m \u001b[38;5;28mprint\u001b[39m(subtrees)\n",
      "Input \u001b[1;32mIn [184]\u001b[0m, in \u001b[0;36m<dictcomp>\u001b[1;34m(.0)\u001b[0m\n\u001b[0;32m     13\u001b[0m partitions \u001b[38;5;241m=\u001b[39m partition_by(inputs, best_attribute)\n\u001b[0;32m     14\u001b[0m new_candidates \u001b[38;5;241m=\u001b[39m [a \u001b[38;5;28;01mfor\u001b[39;00m a \u001b[38;5;129;01min\u001b[39;00m split_candidates \u001b[38;5;28;01mif\u001b[39;00m a \u001b[38;5;241m!=\u001b[39m best_attribute]\n\u001b[1;32m---> 16\u001b[0m subtrees \u001b[38;5;241m=\u001b[39m {attribute_value : \u001b[43mbuild_tree_id3\u001b[49m\u001b[43m(\u001b[49m\u001b[43msubset\u001b[49m\u001b[43m,\u001b[49m\u001b[43m \u001b[49m\u001b[43mnew_candidates\u001b[49m\u001b[43m)\u001b[49m \u001b[38;5;28;01mfor\u001b[39;00m attribute_value, subset \u001b[38;5;129;01min\u001b[39;00m partitions\u001b[38;5;241m.\u001b[39mitems()}\n\u001b[0;32m     18\u001b[0m \u001b[38;5;28mprint\u001b[39m(subtrees)\n",
      "Input \u001b[1;32mIn [184]\u001b[0m, in \u001b[0;36mbuild_tree_id3\u001b[1;34m(inputs, split_candidates)\u001b[0m\n\u001b[0;32m      8\u001b[0m num_trues \u001b[38;5;241m=\u001b[39m \u001b[38;5;28mlen\u001b[39m([label \u001b[38;5;28;01mfor\u001b[39;00m _, label \u001b[38;5;129;01min\u001b[39;00m inputs \u001b[38;5;28;01mif\u001b[39;00m label])\n\u001b[0;32m      9\u001b[0m num_falses \u001b[38;5;241m=\u001b[39m num_inputs \u001b[38;5;241m-\u001b[39m num_trues\n\u001b[1;32m---> 11\u001b[0m best_attribute \u001b[38;5;241m=\u001b[39m \u001b[38;5;28;43mmin\u001b[39;49m\u001b[43m(\u001b[49m\u001b[43msplit_candidates\u001b[49m\u001b[43m,\u001b[49m\u001b[43m \u001b[49m\u001b[43mkey\u001b[49m\u001b[43m \u001b[49m\u001b[38;5;241;43m=\u001b[39;49m\u001b[43m \u001b[49m\u001b[43mpartial\u001b[49m\u001b[43m(\u001b[49m\u001b[43mpartition_entropy_by\u001b[49m\u001b[43m,\u001b[49m\u001b[43m \u001b[49m\u001b[43minputs\u001b[49m\u001b[43m)\u001b[49m\u001b[43m)\u001b[49m \u001b[38;5;66;03m#의미: ['level', 'lang', 'tweets', 'phd']중에서 엔트로피가 가장 낮은 값을 best_attribute에 넣어서 출력하면 'level'이 나오는 것을 알 수 있음\u001b[39;00m\n\u001b[0;32m     13\u001b[0m partitions \u001b[38;5;241m=\u001b[39m partition_by(inputs, best_attribute)\n\u001b[0;32m     14\u001b[0m new_candidates \u001b[38;5;241m=\u001b[39m [a \u001b[38;5;28;01mfor\u001b[39;00m a \u001b[38;5;129;01min\u001b[39;00m split_candidates \u001b[38;5;28;01mif\u001b[39;00m a \u001b[38;5;241m!=\u001b[39m best_attribute]\n",
      "\u001b[1;31mValueError\u001b[0m: min() arg is an empty sequence"
     ]
    }
   ],
   "source": [
    "build_tree_id3(inputs) # 오류가 나는 이유:  if not split_candidates : \n",
    "                                             # return num_trues >= num_falses    이 코드가 없어서 오류가 남"
   ]
  },
  {
   "cell_type": "code",
   "execution_count": 182,
   "id": "6d17b1bc-2550-4a39-9b03-f8b489e8d243",
   "metadata": {},
   "outputs": [],
   "source": [
    "#\n",
    "def build_tree_id3(inputs, split_candidates = None) :\n",
    "    if split_candidates is None :\n",
    "        split_candidates = inputs[0][0].keys()\n",
    "        # ['level', 'lang', 'tweets', 'phd']\n",
    "        \n",
    "    num_inputs = len(inputs) # inputs의 전체 갯수는 14개\n",
    "    num_trues = len([label for _, label in inputs if label])\n",
    "    num_falses = num_inputs - num_trues\n",
    "    \n",
    "    if not split_candidates :\n",
    "        return num_trues >= nuㄴm_falses # 이 값이 없어서 오류가 남\n",
    "    \n",
    "    best_attribute = min(split_candidates, key = partial(partition_entropy_by, inputs)) #의미: ['level', 'lang', 'tweets', 'phd']중에서 엔트로피가 가장 낮은 값을 best_attribute에 넣어서 출력하면 'level'이 나오는 것을 알 수 있음\n",
    "    \n",
    "    partitions = partition_by(inputs, best_attribute)\n",
    "    new_candidates = [a for a in split_candidates if a != best_attribute]\n",
    "    \n",
    "    subtrees = {attribute_value : build_tree_id3(subset, new_candidates) for attribute_value, subset in partitions.items()}\n",
    "    \n",
    "    print(subtrees)"
   ]
  },
  {
   "cell_type": "code",
   "execution_count": 183,
   "id": "73429596-8335-43e0-af84-0299cd944fe2",
   "metadata": {},
   "outputs": [
    {
     "name": "stdout",
     "output_type": "stream",
     "text": [
      "{'no': False, 'yes': False}\n",
      "{'no': False}\n",
      "{'Java': None, 'Python': None}\n",
      "{'no': True}\n",
      "{'yes': True}\n",
      "{'R': None, 'Python': None}\n",
      "{'no': None, 'yes': None}\n",
      "{'no': True, 'yes': True}\n",
      "{'no': None}\n",
      "{'yes': True}\n",
      "{'yes': None}\n",
      "{'no': True}\n",
      "{'yes': None}\n",
      "{'Python': None, 'R': None, 'Java': None}\n",
      "{'no': True, 'yes': True}\n",
      "{'yes': True}\n",
      "{'Python': None, 'R': None}\n",
      "{'yes': False}\n",
      "{'no': False}\n",
      "{'R': None, 'Python': None}\n",
      "{'no': None, 'yes': None}\n",
      "{'Senior': None, 'Mid': None, 'Junior': None}\n"
     ]
    }
   ],
   "source": [
    "build_tree_id3(inputs)"
   ]
  },
  {
   "cell_type": "code",
   "execution_count": 188,
   "id": "8fb7bfb3-6f9c-43e0-a605-512de68c1c6e",
   "metadata": {},
   "outputs": [],
   "source": [
    "#\n",
    "def build_tree_id3(inputs, split_candidates = None) :\n",
    "    if split_candidates is None :\n",
    "        split_candidates = inputs[0][0].keys()\n",
    "        # ['level', 'lang', 'tweets', 'phd']\n",
    "        \n",
    "    num_inputs = len(inputs) # inputs의 전체 갯수는 14개\n",
    "    num_trues = len([label for _, label in inputs if label])\n",
    "    num_falses = num_inputs - num_trues\n",
    "    \n",
    "    if not split_candidates :\n",
    "        return num_trues >= num_falses # 이 값이 없어서 오류가 남\n",
    "    \n",
    "    best_attribute = min(split_candidates, key = partial(partition_entropy_by, inputs)) #의미: ['level', 'lang', 'tweets', 'phd']중에서 엔트로피가 가장 낮은 값을 best_attribute에 넣어서 출력하면 'level'이 나오는 것을 알 수 있음\n",
    "    \n",
    "    partitions = partition_by(inputs, best_attribute)\n",
    "    new_candidates = [a for a in split_candidates if a != best_attribute]\n",
    "    \n",
    "    subtrees = {attribute_value : build_tree_id3(subset, new_candidates) for attribute_value, subset in partitions.items()}\n",
    "    \n",
    "    subtrees[None] = num_trues > num_falses\n",
    "    return best_attribute, subtrees"
   ]
  },
  {
   "cell_type": "code",
   "execution_count": 189,
   "id": "2fbbe0a5-2a41-4c70-9f99-abe96b6886c2",
   "metadata": {},
   "outputs": [
    {
     "data": {
      "text/plain": [
       "('level',\n",
       " {'Senior': ('tweets',\n",
       "   {'no': ('lang',\n",
       "     {'Java': ('phd', {'no': False, 'yes': False, None: False}),\n",
       "      'Python': ('phd', {'no': False, None: False}),\n",
       "      None: False}),\n",
       "    'yes': ('lang',\n",
       "     {'R': ('phd', {'no': True, None: True}),\n",
       "      'Python': ('phd', {'yes': True, None: True}),\n",
       "      None: True}),\n",
       "    None: False}),\n",
       "  'Mid': ('lang',\n",
       "   {'Python': ('tweets',\n",
       "     {'no': ('phd', {'no': True, 'yes': True, None: True}), None: True}),\n",
       "    'R': ('tweets', {'yes': ('phd', {'yes': True, None: True}), None: True}),\n",
       "    'Java': ('tweets', {'yes': ('phd', {'no': True, None: True}), None: True}),\n",
       "    None: True}),\n",
       "  'Junior': ('phd',\n",
       "   {'no': ('lang',\n",
       "     {'Python': ('tweets', {'no': True, 'yes': True, None: True}),\n",
       "      'R': ('tweets', {'yes': True, None: True}),\n",
       "      None: True}),\n",
       "    'yes': ('lang',\n",
       "     {'R': ('tweets', {'yes': False, None: False}),\n",
       "      'Python': ('tweets', {'no': False, None: False}),\n",
       "      None: False}),\n",
       "    None: True}),\n",
       "  None: True})"
      ]
     },
     "execution_count": 189,
     "metadata": {},
     "output_type": "execute_result"
    }
   ],
   "source": [
    "build_tree_id3(inputs)"
   ]
  },
  {
   "cell_type": "code",
   "execution_count": 196,
   "id": "1f418571-18a8-4dc0-9393-6c74456cfefd",
   "metadata": {},
   "outputs": [],
   "source": [
    "def classify(tree, x) :\n",
    "    if tree in [True, False] :\n",
    "        return tree\n",
    "    \n",
    "    attribute, subtree_dict = tree\n",
    "    # lever, {}\n",
    "    \n",
    "    subtree_key = x[attribute]\n",
    "    # Junior\n",
    "    \n",
    "    if subtree_key not in subtree_dict :\n",
    "        subtree_key = None\n",
    "        \n",
    "    subtree = subtree_dict[subtree_key]\n",
    "    \n",
    "    \n",
    "    return classify(subtree, x)"
   ]
  },
  {
   "cell_type": "code",
   "execution_count": 197,
   "id": "6268dd93-b0e4-45f9-9c91-3a027d53a2ef",
   "metadata": {},
   "outputs": [],
   "source": [
    "tree = build_tree_id3(inputs)"
   ]
  },
  {
   "cell_type": "code",
   "execution_count": 221,
   "id": "2d078ff5-cd12-4b10-a5c5-5dad387aae3a",
   "metadata": {},
   "outputs": [
    {
     "data": {
      "text/plain": [
       "({'level': 'Senior', 'lang': 'Java', 'tweets': 'no', 'phd': 'no'}, False)"
      ]
     },
     "execution_count": 221,
     "metadata": {},
     "output_type": "execute_result"
    }
   ],
   "source": [
    "inputs[0]"
   ]
  },
  {
   "cell_type": "code",
   "execution_count": 216,
   "id": "9d79cc7c-151c-4b73-8cb9-d56fb2d5c9c3",
   "metadata": {},
   "outputs": [
    {
     "data": {
      "text/plain": [
       "False"
      ]
     },
     "execution_count": 216,
     "metadata": {},
     "output_type": "execute_result"
    }
   ],
   "source": [
    "classify(tree, {'level': 'Senior', 'lang': 'Java', 'tweets': 'no', 'phd': 'no'})"
   ]
  },
  {
   "cell_type": "code",
   "execution_count": 214,
   "id": "573052df-2b2d-4e5e-8e8e-88f80d13ceee",
   "metadata": {},
   "outputs": [
    {
     "data": {
      "text/plain": [
       "True"
      ]
     },
     "execution_count": 214,
     "metadata": {},
     "output_type": "execute_result"
    }
   ],
   "source": [
    "classify(tree, {'level': 'Junior', 'lang': 'Java', 'tweets': 'yes', 'phd': 'no'})"
   ]
  },
  {
   "cell_type": "code",
   "execution_count": null,
   "id": "845bd6df-1539-4298-88f5-7199d0f2c2a4",
   "metadata": {},
   "outputs": [],
   "source": []
  },
  {
   "cell_type": "code",
   "execution_count": null,
   "id": "e3a8d6d3-efe7-4890-b8db-275465014c74",
   "metadata": {},
   "outputs": [],
   "source": []
  },
  {
   "cell_type": "code",
   "execution_count": null,
   "id": "234888ab-6868-471c-bb14-bf4db178892f",
   "metadata": {},
   "outputs": [],
   "source": []
  },
  {
   "cell_type": "code",
   "execution_count": null,
   "id": "310b90bf-dd62-4209-ad07-15b77ebc4265",
   "metadata": {},
   "outputs": [],
   "source": []
  },
  {
   "cell_type": "code",
   "execution_count": null,
   "id": "f2b678d6-5a5a-4df4-8ab7-6df0cd3717a2",
   "metadata": {},
   "outputs": [],
   "source": []
  },
  {
   "cell_type": "code",
   "execution_count": null,
   "id": "e772d669-df2f-44f6-8c05-7c854480b293",
   "metadata": {},
   "outputs": [],
   "source": []
  },
  {
   "cell_type": "code",
   "execution_count": null,
   "id": "dc07648e-f6ef-4671-979b-9056c47472e7",
   "metadata": {},
   "outputs": [],
   "source": []
  },
  {
   "cell_type": "markdown",
   "id": "10ac962d-d259-457f-93fc-aba6c7413dd0",
   "metadata": {},
   "source": [
    "---"
   ]
  },
  {
   "cell_type": "code",
   "execution_count": null,
   "id": "58159ec8-70e0-4798-982e-31eeae35f62f",
   "metadata": {},
   "outputs": [],
   "source": [
    "# 최종 정리"
   ]
  },
  {
   "cell_type": "code",
   "execution_count": null,
   "id": "b263bc51-6827-4326-92b5-e95fca834ac2",
   "metadata": {},
   "outputs": [],
   "source": [
    "import math\n",
    "from collections import Counter\n",
    "from functools import partial"
   ]
  },
  {
   "cell_type": "code",
   "execution_count": null,
   "id": "629054e9-3b3a-4043-8f00-23f23c214bbf",
   "metadata": {},
   "outputs": [],
   "source": [
    "#data set\n",
    "inputs = [\n",
    "        ({'level':'Senior','lang':'Java','tweets':'no','phd':'no'},   False),\n",
    "        ({'level':'Senior','lang':'Java','tweets':'no','phd':'yes'},  False),\n",
    "        ({'level':'Mid','lang':'Python','tweets':'no','phd':'no'},     True),\n",
    "        ({'level':'Junior','lang':'Python','tweets':'no','phd':'no'},  True),\n",
    "        ({'level':'Junior','lang':'R','tweets':'yes','phd':'no'},      True),\n",
    "        ({'level':'Junior','lang':'R','tweets':'yes','phd':'yes'},    False),\n",
    "        ({'level':'Mid','lang':'R','tweets':'yes','phd':'yes'},        True),\n",
    "        ({'level':'Senior','lang':'Python','tweets':'no','phd':'no'}, False),\n",
    "        ({'level':'Senior','lang':'R','tweets':'yes','phd':'no'},      True),\n",
    "        ({'level':'Junior','lang':'Python','tweets':'yes','phd':'no'}, True),\n",
    "        ({'level':'Senior','lang':'Python','tweets':'yes','phd':'yes'},True),\n",
    "        ({'level':'Mid','lang':'Python','tweets':'no','phd':'yes'},    True),\n",
    "        ({'level':'Mid','lang':'Java','tweets':'yes','phd':'no'},      True),\n",
    "        ({'level':'Junior','lang':'Python','tweets':'no','phd':'yes'},False)\n",
    "    ]"
   ]
  },
  {
   "cell_type": "code",
   "execution_count": null,
   "id": "9ca620d2-a503-447c-800e-a75cfa44e37f",
   "metadata": {},
   "outputs": [],
   "source": []
  },
  {
   "cell_type": "code",
   "execution_count": 64,
   "id": "e53be44e-873f-4eaf-b826-a6a48a762f66",
   "metadata": {},
   "outputs": [],
   "source": [
    "# 엔트로피를 구하는 공식\n",
    "def entropy(class_probabilities) :\n",
    "    return sum(-p * math.log(p, 2) for p in class_probabilities if p) # if p를 해주는 이유는 None값이 들어갔을때 오류가 나기 때문"
   ]
  },
  {
   "cell_type": "code",
   "execution_count": 65,
   "id": "5ce054a8-d59c-4d6a-95ec-1049c613f152",
   "metadata": {},
   "outputs": [],
   "source": [
    "# 엔트로피를 적용해서 각각의 확률 구하기(?)\n",
    "def class_probabilities(labels) : #\n",
    "    total = len(labels)\n",
    "    return [count / total for count in Counter(labels).values()]"
   ]
  },
  {
   "cell_type": "code",
   "execution_count": 66,
   "id": "5862e05b-ec7b-4ebb-9c00-6dabfa915fe0",
   "metadata": {},
   "outputs": [],
   "source": [
    "# \n",
    "def data_entropy(labeled_data) : # (labeled_data)를 data_entropy라는 함수에 넣어라.\n",
    "    labels = [label for _, label in labeled_data] # 언더바 되어 있는 부분은 출력하지말고, label에 해당하는 값만 출력해라.\n",
    "    probabilities = class_probabilities(labels) # (labels)를 \n",
    "    return entropy(probabilities) #"
   ]
  },
  {
   "cell_type": "code",
   "execution_count": 70,
   "id": "38672dd6-0f8d-4b77-8c4e-479fc60c048b",
   "metadata": {},
   "outputs": [],
   "source": [
    "labeled_data = [data for data in inputs if data[0]['level'] == 'Senior']"
   ]
  },
  {
   "cell_type": "code",
   "execution_count": 71,
   "id": "8f0b9d7d-f208-4dda-a91e-662921c5af0a",
   "metadata": {},
   "outputs": [
    {
     "data": {
      "text/plain": [
       "0.9709505944546686"
      ]
     },
     "execution_count": 71,
     "metadata": {},
     "output_type": "execute_result"
    }
   ],
   "source": [
    "data_entropy(labeled_data)"
   ]
  },
  {
   "cell_type": "code",
   "execution_count": 73,
   "id": "a676d023-cf17-4f9c-b8d6-4a13db940f3c",
   "metadata": {},
   "outputs": [],
   "source": [
    "labeled_data = [data for data in inputs if data[0]['level'] == 'Mid']"
   ]
  },
  {
   "cell_type": "code",
   "execution_count": 75,
   "id": "f0cb88d9-b8a9-46c1-9a96-981891f94f1e",
   "metadata": {},
   "outputs": [
    {
     "data": {
      "text/plain": [
       "0.0"
      ]
     },
     "execution_count": 75,
     "metadata": {},
     "output_type": "execute_result"
    }
   ],
   "source": [
    "data_entropy(labeled_data)"
   ]
  },
  {
   "cell_type": "code",
   "execution_count": 76,
   "id": "b5e9a557-8fe4-458f-8f91-e6e179a341e4",
   "metadata": {},
   "outputs": [],
   "source": [
    "labeled_data = [data for data in inputs if data[0]['level'] == 'Junior']"
   ]
  },
  {
   "cell_type": "code",
   "execution_count": 77,
   "id": "034078c4-0f1b-473e-9569-4af293e0af09",
   "metadata": {},
   "outputs": [
    {
     "data": {
      "text/plain": [
       "0.9709505944546686"
      ]
     },
     "execution_count": 77,
     "metadata": {},
     "output_type": "execute_result"
    }
   ],
   "source": [
    "data_entropy(labeled_data)"
   ]
  },
  {
   "cell_type": "code",
   "execution_count": 93,
   "id": "21f7d019-7b9f-431a-9cd8-2ad43a29f390",
   "metadata": {},
   "outputs": [],
   "source": [
    "#\n",
    "def partition_by(inputs, attribute) :\n",
    "    groups = defaultdict(list)\n",
    "    for i in inputs :\n",
    "        key = i[0][attribute]\n",
    "        groups[key].append(i)\n",
    "    return groups"
   ]
  },
  {
   "cell_type": "code",
   "execution_count": null,
   "id": "1106173e-c82a-4eaa-be58-85c9e4384b4a",
   "metadata": {},
   "outputs": [],
   "source": [
    "# partition별 엔트로피를 구할 것이다.\n",
    "def partition_entropy(subsets) :\n",
    "    total_count = sum(len(subset) for subset in subsets)\n",
    "    return sum(len(subset) / total_count * data_entropy(subset) for subset in subsets) # 𝑃   𝑆𝑒𝑛𝑖𝑜𝑟     ∗ 𝐸𝑛𝑡𝑟𝑜𝑝𝑦   2,3     + 𝑃   𝑀𝑖𝑑     ∗ 𝐸𝑛𝑡𝑟𝑜𝑝𝑦   4,0     + 𝑃   𝐽𝑢𝑛𝑖𝑜𝑟       ∗ 𝐸𝑛𝑡𝑟𝑜𝑝𝑦   3,2     =  0.694\n",
    "#엔트로피의 평균을 구해서 ~\n"
   ]
  },
  {
   "cell_type": "code",
   "execution_count": 110,
   "id": "3f5fc13c-1839-4bfa-a4e8-36b56e515309",
   "metadata": {},
   "outputs": [],
   "source": [
    "#\n",
    "def partition_entropy_by(inputs, attribute) :\n",
    "    partitions = partition_by(inputs, attribute)\n",
    "    return partition_entropy(partitions.values())"
   ]
  },
  {
   "cell_type": "code",
   "execution_count": 111,
   "id": "18fe9960-2a07-4bd2-936e-79c1e9730d7e",
   "metadata": {},
   "outputs": [
    {
     "name": "stdout",
     "output_type": "stream",
     "text": [
      "level 0.6935361388961918\n",
      "lang 0.8601317128547441\n",
      "tweets 0.7884504573082896\n",
      "phd 0.8921589282623617\n"
     ]
    }
   ],
   "source": [
    "# \n",
    "for key in ['level', 'lang', 'tweets', 'phd'] :\n",
    "    print(key, partition_entropy_by(inputs, key))"
   ]
  },
  {
   "cell_type": "code",
   "execution_count": 112,
   "id": "d52f90ed-d8be-4451-80c6-4b79225bd08d",
   "metadata": {},
   "outputs": [],
   "source": [
    "mid_inputs = [(data, label) for data, label in inputs if data['level'] == 'Mid'] # data의 'level'인 'Mid'인 녀석들만 뽑아와라."
   ]
  },
  {
   "cell_type": "code",
   "execution_count": null,
   "id": "396699b3-0d7e-4a27-97b1-9db689c32d15",
   "metadata": {},
   "outputs": [],
   "source": []
  },
  {
   "cell_type": "code",
   "execution_count": null,
   "id": "489a0031-0a06-454f-b857-867171efed24",
   "metadata": {},
   "outputs": [],
   "source": []
  },
  {
   "cell_type": "code",
   "execution_count": 188,
   "id": "95e7faf1-edb3-4da5-b139-319ea72d5274",
   "metadata": {},
   "outputs": [],
   "source": [
    "# Decision Tree (재귀 함수도 적용 되었다.) / mode.fit()와 관련 \n",
    "def build_tree_id3(inputs, split_candidates = None) :\n",
    "    if split_candidates is None :\n",
    "        split_candidates = inputs[0][0].keys()\n",
    "        # ['level', 'lang', 'tweets', 'phd']\n",
    "        \n",
    "    num_inputs = len(inputs) # inputs의 전체 갯수는 14개\n",
    "    num_trues = len([label for _, label in inputs if label]) #True의 값들\n",
    "    num_falses = num_inputs - num_trues  #False의 값들\n",
    "    \n",
    "    if not split_candidates :\n",
    "        return num_trues >= num_falses # 이 값이 없어서 오류가 남\n",
    "    \n",
    "    best_attribute = min(split_candidates, key = partial(partition_entropy_by, inputs)) #의미: ['level', 'lang', 'tweets', 'phd']중에서 엔트로피가 가장 낮은 값을 best_attribute에 넣어서 출력하면 'level'이 나오는 것을 알 수 있음\n",
    "    \n",
    "    # {'Senior' : [(),(),()], 'Junior' : [(),(),()], 'Mid' : [(),(),()]}\n",
    "    # {'No' : [(),(),()], 'Yes':[(),(),()]}\n",
    "    # {'Java' : [(),(),()], 'Python': [(),(),()]}\n",
    "    #{'No': [()], 'Yes' : [()]}\n",
    "    partitions = partition_by(inputs, best_attribute)\n",
    "    new_candidates = [a for a in split_candidates if a != best_attribute]\n",
    "    \n",
    "    subtrees = {attribute_value : build_tree_id3(subset, new_candidates) for attribute_value, subset in partitions.items()}\n",
    "    \n",
    "    subtrees[None] = num_trues > num_falses\n",
    "    return best_attribute, subtrees"
   ]
  },
  {
   "cell_type": "code",
   "execution_count": 196,
   "id": "85bb056a-78a3-42e5-a54d-6a954e0a0ba5",
   "metadata": {
    "tags": []
   },
   "outputs": [],
   "source": [
    "#classify / mode.predict()와 관련\n",
    "def classify(tree, x) :\n",
    "    if tree in [True, False] :\n",
    "        return tree\n",
    "    \n",
    "    attribute, subtree_dict = tree\n",
    "    # lever, {}\n",
    "    \n",
    "    subtree_key = x[attribute]\n",
    "    # Junior\n",
    "    \n",
    "    if subtree_key not in subtree_dict :\n",
    "        subtree_key = None\n",
    "        \n",
    "    subtree = subtree_dict[subtree_key]\n",
    "    \n",
    "    \n",
    "    return classify(subtree, x)"
   ]
  },
  {
   "cell_type": "code",
   "execution_count": null,
   "id": "2403f7d6-281e-4673-a2d0-758a95c5f3b2",
   "metadata": {},
   "outputs": [],
   "source": []
  },
  {
   "cell_type": "code",
   "execution_count": 222,
   "id": "4c9b87b5-b7c9-4976-93d8-fb1a3ead1eeb",
   "metadata": {},
   "outputs": [],
   "source": [
    "from sklearn.tree import DecisionTreeClassifier"
   ]
  },
  {
   "cell_type": "code",
   "execution_count": 223,
   "id": "77101db4-7341-4723-80da-0df6d3c52529",
   "metadata": {},
   "outputs": [],
   "source": [
    "model = DecisionTreeClassifier()"
   ]
  },
  {
   "cell_type": "code",
   "execution_count": null,
   "id": "4ee03442-4969-48a0-a382-befa097cfb1c",
   "metadata": {},
   "outputs": [],
   "source": [
    "model.fit(x_train, y_train)\n",
    "mode.predict()"
   ]
  },
  {
   "cell_type": "code",
   "execution_count": null,
   "id": "941fdb3f-8b7f-40b5-ae39-33efcc881cb3",
   "metadata": {},
   "outputs": [],
   "source": []
  },
  {
   "cell_type": "markdown",
   "id": "618da2a1-32e8-4d6a-86e0-57e873b3b2df",
   "metadata": {},
   "source": [
    "---"
   ]
  },
  {
   "cell_type": "code",
   "execution_count": 37,
   "id": "dd9b1c6c-1b3a-4987-830e-2a36fff7eeaa",
   "metadata": {},
   "outputs": [
    {
     "name": "stdout",
     "output_type": "stream",
     "text": [
      "False\n",
      "False\n",
      "False\n",
      "True\n",
      "True\n"
     ]
    }
   ],
   "source": [
    "for _, label in labeled_data :\n",
    "    print(label)"
   ]
  },
  {
   "cell_type": "code",
   "execution_count": 36,
   "id": "aa82772d-37a9-44d2-b734-b83f5bf022d5",
   "metadata": {},
   "outputs": [
    {
     "name": "stdout",
     "output_type": "stream",
     "text": [
      "{'level': 'Senior', 'lang': 'Java', 'tweets': 'no', 'phd': 'no'} / False\n",
      "{'level': 'Senior', 'lang': 'Java', 'tweets': 'no', 'phd': 'yes'} / False\n",
      "{'level': 'Senior', 'lang': 'Python', 'tweets': 'no', 'phd': 'no'} / False\n",
      "{'level': 'Senior', 'lang': 'R', 'tweets': 'yes', 'phd': 'no'} / True\n",
      "{'level': 'Senior', 'lang': 'Python', 'tweets': 'yes', 'phd': 'yes'} / True\n"
     ]
    }
   ],
   "source": [
    "for data, label in labeled_data :\n",
    "    print(data, '/', label)"
   ]
  },
  {
   "cell_type": "code",
   "execution_count": 37,
   "id": "8e1795de-bf4c-4103-94be-63f5322b1010",
   "metadata": {},
   "outputs": [
    {
     "name": "stdout",
     "output_type": "stream",
     "text": [
      "False\n",
      "False\n",
      "False\n",
      "True\n",
      "True\n"
     ]
    }
   ],
   "source": [
    "for _, label in labeled_data : # _: 해당하는 변수를 출력하지 않겠다. / 위에 코드랑 같음\n",
    "    print(label)"
   ]
  },
  {
   "cell_type": "code",
   "execution_count": null,
   "id": "6e9e666b-0c00-433b-8af8-6981dad18251",
   "metadata": {},
   "outputs": [],
   "source": [
    "for _, label in labeled_data"
   ]
  },
  {
   "cell_type": "markdown",
   "id": "7b6c3040-78e3-46ec-831f-7062cbb1dff5",
   "metadata": {},
   "source": [
    "---"
   ]
  },
  {
   "cell_type": "code",
   "execution_count": null,
   "id": "60c791fc-d851-475e-a873-e59ed4e99dd2",
   "metadata": {},
   "outputs": [],
   "source": []
  }
 ],
 "metadata": {
  "kernelspec": {
   "display_name": "Python 3 (ipykernel)",
   "language": "python",
   "name": "python3"
  },
  "language_info": {
   "codemirror_mode": {
    "name": "ipython",
    "version": 3
   },
   "file_extension": ".py",
   "mimetype": "text/x-python",
   "name": "python",
   "nbconvert_exporter": "python",
   "pygments_lexer": "ipython3",
   "version": "3.9.12"
  }
 },
 "nbformat": 4,
 "nbformat_minor": 5
}
