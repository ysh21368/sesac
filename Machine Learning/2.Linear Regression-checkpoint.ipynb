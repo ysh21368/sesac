{
 "cells": [
  {
   "cell_type": "code",
   "execution_count": 6,
   "id": "75db8c2a-3a6e-4d2d-9acb-7010a762ee8d",
   "metadata": {},
   "outputs": [],
   "source": [
    "import pandas as pd\n",
    "import matplotlib.pyplot as plt\n",
    "from sklearn.linear_model import LinearRegression"
   ]
  },
  {
   "cell_type": "code",
   "execution_count": 7,
   "id": "620ebc21-570c-47d8-b9fd-dd179088c22c",
   "metadata": {},
   "outputs": [
    {
     "name": "stdout",
     "output_type": "stream",
     "text": [
      "C:\\Users\\user\\Desktop\\python\\22년 11월 2주(4주차)\\2.221108(화)\n"
     ]
    }
   ],
   "source": [
    "cd C:\\Users\\user\\Desktop\\python\\22년 11월 2주(4주차)\\2.221108(화)"
   ]
  },
  {
   "cell_type": "code",
   "execution_count": 8,
   "id": "1f1f4420-1710-4b37-9ae9-343eaefdb03a",
   "metadata": {},
   "outputs": [
    {
     "name": "stdout",
     "output_type": "stream",
     "text": [
      " C 드라이브의 볼륨: BOOTCAMP\n",
      " 볼륨 일련 번호: 0246-9FF7\n",
      "\n",
      " C:\\Users\\user\\Desktop\\python\\22년 11월 2주(4주차)\\2.221108(화) 디렉터리\n",
      "\n",
      "2022-11-08  오후 02:11    <DIR>          .\n",
      "2022-11-08  오후 02:11    <DIR>          ..\n",
      "2022-11-08  오후 02:00               617 .ipynb\n",
      "2022-11-08  오후 02:03    <DIR>          .ipynb_checkpoints\n",
      "2022-11-08  오후 02:00             6,148 1.수업_221108(화).ipynb\n",
      "2022-11-08  오후 02:11             4,971 2.Linear Regression.ipynb\n",
      "2022-11-08  오후 02:02           428,120 weight-height.csv\n",
      "               4개 파일             439,856 바이트\n",
      "               3개 디렉터리  158,998,822,912 바이트 남음\n"
     ]
    }
   ],
   "source": [
    "ls"
   ]
  },
  {
   "cell_type": "code",
   "execution_count": 9,
   "id": "88773619-5485-4f4c-aa33-99d49616513c",
   "metadata": {
    "tags": []
   },
   "outputs": [],
   "source": [
    "data = pd.read_csv('weight-height.csv')"
   ]
  },
  {
   "cell_type": "code",
   "execution_count": 10,
   "id": "9f3453d0-32a2-40dc-a570-430cde7e1691",
   "metadata": {},
   "outputs": [
    {
     "data": {
      "text/html": [
       "<div>\n",
       "<style scoped>\n",
       "    .dataframe tbody tr th:only-of-type {\n",
       "        vertical-align: middle;\n",
       "    }\n",
       "\n",
       "    .dataframe tbody tr th {\n",
       "        vertical-align: top;\n",
       "    }\n",
       "\n",
       "    .dataframe thead th {\n",
       "        text-align: right;\n",
       "    }\n",
       "</style>\n",
       "<table border=\"1\" class=\"dataframe\">\n",
       "  <thead>\n",
       "    <tr style=\"text-align: right;\">\n",
       "      <th></th>\n",
       "      <th>Gender</th>\n",
       "      <th>Height</th>\n",
       "      <th>Weight</th>\n",
       "    </tr>\n",
       "  </thead>\n",
       "  <tbody>\n",
       "    <tr>\n",
       "      <th>0</th>\n",
       "      <td>Male</td>\n",
       "      <td>73.847017</td>\n",
       "      <td>241.893563</td>\n",
       "    </tr>\n",
       "    <tr>\n",
       "      <th>1</th>\n",
       "      <td>Male</td>\n",
       "      <td>68.781904</td>\n",
       "      <td>162.310473</td>\n",
       "    </tr>\n",
       "    <tr>\n",
       "      <th>2</th>\n",
       "      <td>Male</td>\n",
       "      <td>74.110105</td>\n",
       "      <td>212.740856</td>\n",
       "    </tr>\n",
       "    <tr>\n",
       "      <th>3</th>\n",
       "      <td>Male</td>\n",
       "      <td>71.730978</td>\n",
       "      <td>220.042470</td>\n",
       "    </tr>\n",
       "    <tr>\n",
       "      <th>4</th>\n",
       "      <td>Male</td>\n",
       "      <td>69.881796</td>\n",
       "      <td>206.349801</td>\n",
       "    </tr>\n",
       "  </tbody>\n",
       "</table>\n",
       "</div>"
      ],
      "text/plain": [
       "  Gender     Height      Weight\n",
       "0   Male  73.847017  241.893563\n",
       "1   Male  68.781904  162.310473\n",
       "2   Male  74.110105  212.740856\n",
       "3   Male  71.730978  220.042470\n",
       "4   Male  69.881796  206.349801"
      ]
     },
     "execution_count": 10,
     "metadata": {},
     "output_type": "execute_result"
    }
   ],
   "source": [
    "data.head()"
   ]
  },
  {
   "cell_type": "code",
   "execution_count": 12,
   "id": "e091c60e-f97c-4682-854c-82095546b5da",
   "metadata": {},
   "outputs": [
    {
     "data": {
      "text/plain": [
       "(10000, 3)"
      ]
     },
     "execution_count": 12,
     "metadata": {},
     "output_type": "execute_result"
    }
   ],
   "source": [
    "data.shape"
   ]
  },
  {
   "cell_type": "markdown",
   "id": "352e402f-4667-4e47-a9f5-1cac4076198c",
   "metadata": {},
   "source": [
    "# x에는 height 100개,  y에는 weight 100개"
   ]
  },
  {
   "cell_type": "code",
   "execution_count": 21,
   "id": "0088d322-0f67-4e8c-bf25-e5495e646f2b",
   "metadata": {},
   "outputs": [],
   "source": [
    "x = data['Height'][:100]"
   ]
  },
  {
   "cell_type": "code",
   "execution_count": 22,
   "id": "9dbe2603-f520-43dd-ac2d-43d495bde608",
   "metadata": {},
   "outputs": [],
   "source": [
    "y =data['Weight'][:100]"
   ]
  },
  {
   "cell_type": "code",
   "execution_count": 35,
   "id": "39c4b166-d5ad-4679-b7fc-b67bf95e6522",
   "metadata": {},
   "outputs": [
    {
     "data": {
      "text/plain": [
       "[<matplotlib.lines.Line2D at 0x1e6b7902e80>]"
      ]
     },
     "execution_count": 35,
     "metadata": {},
     "output_type": "execute_result"
    },
    {
     "data": {
      "image/png": "[encoded data removed]",
      "text/plain": [
       "<Figure size 432x288 with 1 Axes>"
      ]
     },
     "metadata": {
      "needs_background": "light"
     },
     "output_type": "display_data"
    }
   ],
   "source": [
    "plt.plot(x, y, 'go')"
   ]
  },
  {
   "cell_type": "code",
   "execution_count": 36,
   "id": "90fc2ab6-d84f-4174-8773-1e6de30eaaad",
   "metadata": {},
   "outputs": [],
   "source": [
    "model = LinearRegression()"
   ]
  },
  {
   "cell_type": "code",
   "execution_count": 38,
   "id": "bcaf7d54-179f-48bb-afb0-12bd09addcdc",
   "metadata": {},
   "outputs": [
    {
     "data": {
      "text/plain": [
       "LinearRegression()"
      ]
     },
     "execution_count": 38,
     "metadata": {},
     "output_type": "execute_result"
    }
   ],
   "source": [
    "model.fit(x.values.reshape(-1,1), y) # 100개만 학습시킬 예정"
   ]
  },
  {
   "cell_type": "code",
   "execution_count": 40,
   "id": "50774166-362a-47c2-8adf-c15f85490762",
   "metadata": {},
   "outputs": [
    {
     "data": {
      "text/plain": [
       "array([250.91631239])"
      ]
     },
     "execution_count": 40,
     "metadata": {},
     "output_type": "execute_result"
    }
   ],
   "source": [
    "model.predict([[80]])"
   ]
  },
  {
   "cell_type": "code",
   "execution_count": 43,
   "id": "711e9b61-a0b8-4087-a063-94b28f269ee3",
   "metadata": {},
   "outputs": [
    {
     "data": {
      "text/plain": [
       "array([5.85146979])"
      ]
     },
     "execution_count": 43,
     "metadata": {},
     "output_type": "execute_result"
    }
   ],
   "source": [
    "model.coef_ # Wx+b에서의 W값"
   ]
  },
  {
   "cell_type": "code",
   "execution_count": 44,
   "id": "10c60db7-ba29-4b1a-ae91-7127e1a729fa",
   "metadata": {},
   "outputs": [
    {
     "data": {
      "text/plain": [
       "-217.20127044144004"
      ]
     },
     "execution_count": 44,
     "metadata": {},
     "output_type": "execute_result"
    }
   ],
   "source": [
    "model.intercept_ # Wx+b에서의 b값"
   ]
  },
  {
   "cell_type": "code",
   "execution_count": 45,
   "id": "34f13b51-8a12-46e9-b9b3-0a1fb640140d",
   "metadata": {},
   "outputs": [
    {
     "data": {
      "text/plain": [
       "array([250.91631239])"
      ]
     },
     "execution_count": 45,
     "metadata": {},
     "output_type": "execute_result"
    }
   ],
   "source": [
    "80 * model.coef_ + model.intercept_"
   ]
  },
  {
   "cell_type": "code",
   "execution_count": 46,
   "id": "71ef1334-5e90-4db6-a5ba-917622740cd9",
   "metadata": {},
   "outputs": [],
   "source": [
    "prediction = model.predict(x.values.reshape(-1,1))"
   ]
  },
  {
   "cell_type": "code",
   "execution_count": 50,
   "id": "b41d4e47-c654-4d06-99a2-851cd18839cd",
   "metadata": {},
   "outputs": [
    {
     "data": {
      "image/png": "[encoded data removed]",
      "text/plain": [
       "<Figure size 432x288 with 1 Axes>"
      ]
     },
     "metadata": {
      "needs_background": "light"
     },
     "output_type": "display_data"
    }
   ],
   "source": [
    "plt.plot(x, y, 'o')\n",
    "plt.plot(x, prediction);"
   ]
  }
 ],
 "metadata": {
  "kernelspec": {
   "display_name": "Python 3 (ipykernel)",
   "language": "python",
   "name": "python3"
  },
  "language_info": {
   "codemirror_mode": {
    "name": "ipython",
    "version": 3
   },
   "file_extension": ".py",
   "mimetype": "text/x-python",
   "name": "python",
   "nbconvert_exporter": "python",
   "pygments_lexer": "ipython3",
   "version": "3.9.12"
  }
 },
 "nbformat": 4,
 "nbformat_minor": 5
}
