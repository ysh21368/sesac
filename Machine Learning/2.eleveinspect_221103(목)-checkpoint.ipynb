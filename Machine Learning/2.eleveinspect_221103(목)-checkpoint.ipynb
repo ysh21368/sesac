{
 "cells": [
  {
   "cell_type": "code",
   "execution_count": null,
   "id": "16a31b4c-399a-4ff9-b521-6384c3221bd7",
   "metadata": {},
   "outputs": [],
   "source": [
    "# 데이터를 저장한 후 데이터를 불러와서 ~\n"
   ]
  },
  {
   "cell_type": "code",
   "execution_count": null,
   "id": "29d2a70e-5cd3-47a0-963d-d02f092f23de",
   "metadata": {},
   "outputs": [],
   "source": [
    "# 2번째거 활용 (openapi/service/ElevatorInformationService/getElevatorView)\n",
    "\n",
    "# lastInspctDe(검사일자) / inspctinstt(검사기관) / lastResultNm(합격유무)\n",
    "\n",
    "#데이터 프레임에 추가하기"
   ]
  },
  {
   "cell_type": "code",
   "execution_count": null,
   "id": "23d2b50d-a4ea-4b7f-9982-5ed27af80c96",
   "metadata": {},
   "outputs": [],
   "source": [
    "import requests\n",
    "from bs4 import BeautifulSoup\n",
    "import pandas as pd\n",
    "\n",
    "import warnings\n",
    "warnings.filterwarnings('ignore')"
   ]
  },
  {
   "cell_type": "code",
   "execution_count": null,
   "id": "97f4be9d-fbde-4687-a57b-2ccd5a4478f4",
   "metadata": {},
   "outputs": [],
   "source": [
    "df = pd.read_csv('elevInfo.csv', encoding='euc-kr')"
   ]
  },
  {
   "cell_type": "code",
   "execution_count": null,
   "id": "64cc5d25-0b1c-4950-b2f3-79a18887a11c",
   "metadata": {
    "tags": []
   },
   "outputs": [],
   "source": [
    "df"
   ]
  },
  {
   "cell_type": "markdown",
   "id": "4404e7ec-9cbd-4c70-ae10-71d4ea4dfcc9",
   "metadata": {},
   "source": [
    "data = []\n",
    "\n",
    "url = 'http://apis.data.go.kr/openapi/service/ElevatorInformationService/getElevatorView'\n",
    "\n",
    "serviceKey = 'BAc5c%2B7CgdSM2dp9F0gq%2FN7FR4TwTghq%2BzHtk7BmmX%2B588SuKYRFAW77xC6eaS6kpEZgWxZnz9a1TSk%2FO%2F6gUg%3D%3D'\n",
    "elevator_no = '0081201' \n",
    "\n",
    "params = {'serviceKey' : serviceKey, 'elevator_no' : elevator_no}\n",
    "req = requests.get(url, params=params,verify=False)\n",
    "soup = BeautifulSoup(req.text,'lxml')\n",
    "col_list = ['lastInspctDe', 'inspctinstt', 'lastResultNm']\n",
    "\n"
   ]
  },
  {
   "cell_type": "markdown",
   "id": "c48e16da-5bcd-4bc2-84c8-9299d22bf043",
   "metadata": {},
   "source": [
    "for no in df['elevatorNo'] :\n",
    "    print(str(no).zfill(7))"
   ]
  },
  {
   "cell_type": "code",
   "execution_count": null,
   "id": "08e92bee-5577-4265-89b4-5a7a0b9ea633",
   "metadata": {},
   "outputs": [],
   "source": []
  },
  {
   "cell_type": "markdown",
   "id": "ab6264bc-934a-4441-a78f-17d5d65c76ea",
   "metadata": {
    "tags": []
   },
   "source": [
    "url = 'http://apis.data.go.kr/openapi/service/ElevatorInformationService/getElevatorView'\n",
    "serviceKey = 'BAc5c%2B7CgdSM2dp9F0gq%2FN7FR4TwTghq%2BzHtk7BmmX%2B588SuKYRFAW77xC6eaS6kpEZgWxZnz9a1TSk%2FO%2F6gUg%3D%3D'\n",
    "elevator_no = '0081201' \n"
   ]
  },
  {
   "cell_type": "markdown",
   "id": "67c567ba-6855-4d06-8219-4d5e98ef7c14",
   "metadata": {},
   "source": [
    "params = {'serviceKey' : serviceKey, 'elevator_no' : elevator_no}"
   ]
  },
  {
   "cell_type": "markdown",
   "id": "50f13370-6d7c-4b2a-b1c5-1122cc812d54",
   "metadata": {},
   "source": [
    "req = requests.get(url, params=params)"
   ]
  },
  {
   "cell_type": "code",
   "execution_count": null,
   "id": "e1265534-b456-4af6-97a6-361aa68c19cb",
   "metadata": {},
   "outputs": [],
   "source": [
    "# 데이터 불러와서 저장해야하는데 안불러와졌음 ㅠㅠㅠ"
   ]
  },
  {
   "cell_type": "code",
   "execution_count": null,
   "id": "6e4ebd2f-d154-4d66-87cf-54f67192c843",
   "metadata": {},
   "outputs": [],
   "source": [
    "from tqdm import tqdm"
   ]
  },
  {
   "cell_type": "code",
   "execution_count": null,
   "id": "57dcaf66-6bb5-406d-ba0e-8ba2159f25be",
   "metadata": {},
   "outputs": [],
   "source": [
    "data = []\n",
    "for no in tqdm(df['elevatorNo']) :\n",
    "    url = 'http://apis.data.go.kr/openapi/service/ElevatorInformationService/getElevatorView'\n",
    "    serviceKey = 'BAc5c+7CgdSM2dp9F0gq/N7FR4TwTghq+zHtk7BmmX+588SuKYRFAW77xC6eaS6kpEZgWxZnz9a1TSk/O/6gUg=='\n",
    "    elevator_no = str(no).zfill(7)\n",
    "\n",
    "    params = {'serviceKey' : serviceKey, 'elevator_no' : elevator_no}\n",
    "    req = requests.get(url, params=params, verify=False)\n",
    "    soup = BeautifulSoup(req.text,'xml')\n",
    "    \n",
    "    temp = []\n",
    "    \n",
    "    temp.append(no)\n",
    "    try : \n",
    "        temp.append(soup.select('lastInspctDe')[0].text)\n",
    "    except :\n",
    "        temp.append('')\n",
    "    \n",
    "    try :\n",
    "        temp.append(soup.select('inspctinstt')[0].text)\n",
    "    except :\n",
    "        temp.append('')\n",
    "        \n",
    "    try :\n",
    "        temp.append(soup.select('lastResultNm')[0].text)\n",
    "    except :\n",
    "        temp.append('')\n",
    "        \n",
    "    data.append(temp)"
   ]
  },
  {
   "cell_type": "code",
   "execution_count": null,
   "id": "93eaddd2-b237-4434-a61a-54ee0db04a18",
   "metadata": {},
   "outputs": [],
   "source": []
  },
  {
   "cell_type": "code",
   "execution_count": null,
   "id": "8f4899fc-5161-4aeb-a42c-9f0a4f7ffbe4",
   "metadata": {},
   "outputs": [],
   "source": []
  },
  {
   "cell_type": "code",
   "execution_count": null,
   "id": "d19bf380-5d86-4295-9653-4fdbcdb6c7f1",
   "metadata": {},
   "outputs": [],
   "source": []
  },
  {
   "cell_type": "code",
   "execution_count": null,
   "id": "adc56dd6-2b99-49fd-a862-2216c1aeb98e",
   "metadata": {},
   "outputs": [],
   "source": []
  },
  {
   "cell_type": "code",
   "execution_count": null,
   "id": "84ddfda9-7663-4308-838e-39a8e3cd4673",
   "metadata": {},
   "outputs": [],
   "source": [
    "# 세은 코드"
   ]
  },
  {
   "cell_type": "code",
   "execution_count": null,
   "id": "301296fb-6e9f-426f-89d9-b16b0d9c88a4",
   "metadata": {},
   "outputs": [],
   "source": [
    "data = []\n",
    "for no in tqdm(df['elevatorNo']) :\n",
    "    url = 'http://apis.data.go.kr/openapi/service/ElevatorInformationService/getElevatorView'\n",
    "    serviceKey = '0kYXnKBN3P1BPz+PbMj53+Xf9Lasd9mZvYohzWDq+10Tagyqazw0pf62r0VMYgKLZZednlK4k5uPA6V49OvEcw=='\n",
    "    elevator_no = str(no).zfill(7)\n",
    "    params = {'serviceKey' : serviceKey, 'elevator_no' : elevator_no}\n",
    "    req = requests.get(url, params=params,verify=False)\n",
    "    soup = BeautifulSoup(req.text, 'xml')\n",
    "    temp = []\n",
    "    temp.append(no)\n",
    "    try :\n",
    "        temp.append(soup.select('lastInspctDe')[0].text)\n",
    "    except :\n",
    "        temp.append('')\n",
    "    try :\n",
    "        temp.append(soup.select('inspctInstt')[0].text)\n",
    "    except :\n",
    "        temp.append('')\n",
    "    try :\n",
    "        temp.append(soup.select('lastResultNm')[0].text)\n",
    "    except :\n",
    "        temp.append('')\n",
    "    data.append(temp)"
   ]
  },
  {
   "cell_type": "code",
   "execution_count": null,
   "id": "76ccead9-0c61-4ffd-930d-876bef0e175e",
   "metadata": {},
   "outputs": [],
   "source": []
  },
  {
   "cell_type": "markdown",
   "id": "ddefdb97-1c2b-4e7c-9d81-fe893a24638f",
   "metadata": {},
   "source": [
    "data = []\n",
    "for no in tqdm(df['elevatorNo']) :\n",
    "    url = \"http://apis.data.go.kr/openapi/service/ElevatorInformationService/getElevatorView\"\n",
    "    serviceKey = \"tyyr+B6qsLBQB+qXcI9AT0xuf/lSA4MYtsc+r2fj7c9BPR3RgG3P20Yc3Ky6/lW/kJJptIKlrEz/yEVJidDTcg==\"\n",
    "    elevator_no = str(no).zfill(7)\n",
    "    \n",
    "    req = requests.get(url,params=params,verify=False)\n",
    "    soup = BeautifulSoup(req.text,'lxml')\n",
    "    col_list = ['lastInspctDe','inspctInstt','lastResultNm']\n",
    "    \n",
    "    temp = []\n",
    "    temp.append(no)\n",
    "    temp.append(soup.select('lastInspctDe')[0].text)\n",
    "    temp.append(soup.select('inspctInstt')[0].text)\n",
    "    temp.append(soup.select('lastResultNm')[0].text)\n",
    "    data.append(temp)"
   ]
  },
  {
   "cell_type": "code",
   "execution_count": null,
   "id": "e4ca1ec4-95e3-47c5-b180-cf6de6cde6bf",
   "metadata": {},
   "outputs": [],
   "source": []
  },
  {
   "cell_type": "code",
   "execution_count": null,
   "id": "0d4e32ed-f979-48dc-a632-dd217585b245",
   "metadata": {},
   "outputs": [],
   "source": []
  },
  {
   "cell_type": "code",
   "execution_count": null,
   "id": "1d4ead95-db30-4cfc-9ebb-f38c9549e51d",
   "metadata": {},
   "outputs": [],
   "source": []
  },
  {
   "cell_type": "code",
   "execution_count": null,
   "id": "f27be167-d2d0-4f02-8acc-4bfecebe8d8c",
   "metadata": {},
   "outputs": [],
   "source": []
  },
  {
   "cell_type": "code",
   "execution_count": null,
   "id": "130c2739-21dd-45aa-988c-5e605d213a9b",
   "metadata": {},
   "outputs": [],
   "source": []
  },
  {
   "cell_type": "code",
   "execution_count": null,
   "id": "055df6d2-b20c-4f2a-adf6-43b4040b2a2b",
   "metadata": {},
   "outputs": [],
   "source": []
  },
  {
   "cell_type": "code",
   "execution_count": null,
   "id": "0d2151af-9e30-44d7-afce-abcb8c476df8",
   "metadata": {},
   "outputs": [],
   "source": [
    "data = []\n",
    "\n",
    "url = 'http://apis.data.go.kr/openapi/service/ElevatorInformationService/getElevatorView'\n",
    "\n",
    "http://apis.data.go.kr/openapi/service/ElevatorInformationService/getElevatorView\n",
    "?serviceKey=BAc5c%2B7CgdSM2dp9F0gq%2FN7FR4TwTghq%2BzHtk7BmmX%2B588SuKYRFAW77xC6eaS6kpEZgWxZnz9a1TSk%2FO%2F6gUg%3D%3D\n",
    "&elevator_no=0081201\n",
    "\n",
    "serviceKey = 'BAc5c%2B7CgdSM2dp9F0gq%2FN7FR4TwTghq%2BzHtk7BmmX%2B588SuKYRFAW77xC6eaS6kpEZgWxZnz9a1TSk%2FO%2F6gUg%3D%3D'\n",
    "elevator_no = '0081201' \n",
    "\n",
    "params = {'serviceKey' : serviceKey, 'elevator_no' : elevator_no}\n",
    "req = requests.get(url, params=params,verify=False)\n",
    "soup = BeautifulSoup(req.text,'lxml')\n",
    "col_list = ['lastInspctDe', 'inspctinstt', 'lastResultNm']\n",
    "\n"
   ]
  },
  {
   "cell_type": "code",
   "execution_count": null,
   "id": "15fe78e5-d6d3-4bec-bdd6-1f1e3794cb34",
   "metadata": {},
   "outputs": [],
   "source": [
    "for item in soup.items :\n",
    "    temp = []\n",
    "    for col in col_list :\n",
    "        try :\n",
    "            temp.append(item.select(col)[0].text)\n",
    "        except :\n",
    "            temp.append('')\n",
    "    data.append(temp)"
   ]
  },
  {
   "cell_type": "code",
   "execution_count": null,
   "id": "2e81374a-8bce-4d79-b404-2f42206758e3",
   "metadata": {},
   "outputs": [],
   "source": []
  },
  {
   "cell_type": "code",
   "execution_count": null,
   "id": "2b120bed-e516-4353-840c-a239aa5a0216",
   "metadata": {},
   "outputs": [],
   "source": []
  },
  {
   "cell_type": "code",
   "execution_count": null,
   "id": "929c7210-5a64-43dd-b63b-2d68297dabe5",
   "metadata": {
    "tags": []
   },
   "outputs": [],
   "source": [
    "for no in df['elevatorNo'] :\n",
    "    print(str(no).zfill(7))"
   ]
  },
  {
   "cell_type": "code",
   "execution_count": null,
   "id": "bd17fc78-1efc-49e6-afab-0d481c74c60d",
   "metadata": {},
   "outputs": [],
   "source": [
    "http://apis.data.go.kr/openapi/service/ElevatorInformationService/getElevatorView?serviceKey=BAc5c%2B7CgdSM2dp9F0gq%2FN7FR4TwTghq%2BzHtk7BmmX%2B588SuKYRFAW77xC6eaS6kpEZgWxZnz9a1TSk%2FO%2F6gUg%3D%3D&elevator_no=0081201"
   ]
  },
  {
   "cell_type": "code",
   "execution_count": null,
   "id": "60117892-5f85-4b84-9e3f-4b2a31ad3bee",
   "metadata": {},
   "outputs": [],
   "source": []
  },
  {
   "cell_type": "code",
   "execution_count": null,
   "id": "acf5d834-eb92-41a0-97b4-1b791ccf0397",
   "metadata": {},
   "outputs": [],
   "source": []
  },
  {
   "cell_type": "code",
   "execution_count": null,
   "id": "059dd962-72aa-47ea-b8e9-c38f7f6c399f",
   "metadata": {},
   "outputs": [],
   "source": []
  },
  {
   "cell_type": "code",
   "execution_count": null,
   "id": "9638eaee-6f0b-4d6a-be12-72e60562cab3",
   "metadata": {},
   "outputs": [],
   "source": [
    "df2 = pd.read_csv('elevInfo.csv', encoding = 'euckr')"
   ]
  },
  {
   "cell_type": "code",
   "execution_count": null,
   "id": "5884963f-af32-49c0-9e85-f95e721f6568",
   "metadata": {
    "tags": []
   },
   "outputs": [],
   "source": [
    "df2"
   ]
  },
  {
   "cell_type": "code",
   "execution_count": null,
   "id": "6f9ce643-7114-483a-b3a4-51bad8f804f6",
   "metadata": {},
   "outputs": [],
   "source": [
    "df_all = pd.merge(df, df2, on='elevatorNo') #df1과 df2를 합쳐라. 'elevatorNo'을 기준으로"
   ]
  },
  {
   "cell_type": "code",
   "execution_count": null,
   "id": "f6e8dd30-b2ac-4237-bb42-0f913fbbcc07",
   "metadata": {
    "tags": []
   },
   "outputs": [],
   "source": [
    "df_all"
   ]
  },
  {
   "cell_type": "code",
   "execution_count": null,
   "id": "84d7bbf7-aaf3-4bf5-ab43-21c717e2a934",
   "metadata": {},
   "outputs": [],
   "source": []
  },
  {
   "cell_type": "markdown",
   "id": "4e5236ff-d00e-4c6b-a01d-ad0b3e8cb524",
   "metadata": {
    "tags": []
   },
   "source": [
    "-----------------------------------------------------------------------------------------------------------"
   ]
  },
  {
   "cell_type": "code",
   "execution_count": null,
   "id": "d4df66c4-708d-43c1-8abe-1ee68cd7135c",
   "metadata": {},
   "outputs": [],
   "source": []
  },
  {
   "cell_type": "code",
   "execution_count": null,
   "id": "7440bdcc-beef-44c2-ac74-21423adfb8de",
   "metadata": {},
   "outputs": [],
   "source": []
  },
  {
   "cell_type": "code",
   "execution_count": null,
   "id": "f6a335fe-317b-4f7b-93b8-8b698903e37e",
   "metadata": {},
   "outputs": [],
   "source": []
  },
  {
   "cell_type": "code",
   "execution_count": null,
   "id": "4f78717e-1573-4989-bc62-d0595c314cd1",
   "metadata": {},
   "outputs": [],
   "source": []
  },
  {
   "cell_type": "code",
   "execution_count": null,
   "id": "87d5698d-a0b3-4cd0-9f43-1dad22d102e8",
   "metadata": {},
   "outputs": [],
   "source": []
  },
  {
   "cell_type": "code",
   "execution_count": null,
   "id": "fc5cb2f7-8dea-4bd4-b7c6-2bb046aa2c16",
   "metadata": {},
   "outputs": [],
   "source": []
  }
 ],
 "metadata": {
  "kernelspec": {
   "display_name": "Python 3 (ipykernel)",
   "language": "python",
   "name": "python3"
  },
  "language_info": {
   "codemirror_mode": {
    "name": "ipython",
    "version": 3
   },
   "file_extension": ".py",
   "mimetype": "text/x-python",
   "name": "python",
   "nbconvert_exporter": "python",
   "pygments_lexer": "ipython3",
   "version": "3.9.12"
  }
 },
 "nbformat": 4,
 "nbformat_minor": 5
}
