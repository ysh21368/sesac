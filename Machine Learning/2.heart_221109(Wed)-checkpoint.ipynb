{
 "cells": [
  {
   "cell_type": "markdown",
   "id": "ab1d1f79-7355-4070-bf10-d5692d438bf9",
   "metadata": {},
   "source": [
    "# Heart Disease Data Set\n",
    "## 심장 질환 여부 판별하기('target': label)"
   ]
  },
  {
   "cell_type": "code",
   "execution_count": null,
   "id": "22cd6f0a-254d-41d0-b7e3-0aafcc6cd42c",
   "metadata": {},
   "outputs": [],
   "source": [
    "import pandas as pd\n",
    "from sklearn.linear_model import LogisticRegression #Classification의 한 종류\n",
    "from sklearn.model_selection import train_test_split"
   ]
  },
  {
   "cell_type": "code",
   "execution_count": 4,
   "id": "c48fe693-65e6-4e5a-bae4-4e5d1a51d143",
   "metadata": {},
   "outputs": [],
   "source": [
    "heart = pd.read_csv('heart.csv')"
   ]
  },
  {
   "cell_type": "code",
   "execution_count": null,
   "id": "0acc5a79-5324-4ce8-b94b-617ca5e9e073",
   "metadata": {
    "tags": []
   },
   "outputs": [],
   "source": [
    "heart"
   ]
  },
  {
   "cell_type": "code",
   "execution_count": null,
   "id": "a7f6992f-084d-485b-aa54-8a7fbecdbfde",
   "metadata": {},
   "outputs": [],
   "source": [
    "heart['sex'].value_counts() #남자: 1, 여자: 0 (남자가 여자보다 많다.)"
   ]
  },
  {
   "cell_type": "code",
   "execution_count": null,
   "id": "db05007d-fc7a-42bc-8145-536fdcb7a4d0",
   "metadata": {},
   "outputs": [],
   "source": [
    "heart['target'].value_counts()"
   ]
  },
  {
   "cell_type": "code",
   "execution_count": null,
   "id": "5e2da3f4-b02f-4076-a467-b6c39c6d3f48",
   "metadata": {},
   "outputs": [],
   "source": [
    "heart.info()"
   ]
  },
  {
   "cell_type": "code",
   "execution_count": null,
   "id": "21a05d91-9258-4f66-9eae-8797f3447149",
   "metadata": {
    "tags": []
   },
   "outputs": [],
   "source": [
    "heart.describe()"
   ]
  },
  {
   "cell_type": "code",
   "execution_count": null,
   "id": "6f1416a6-5906-4a12-9afa-f146dad0214d",
   "metadata": {},
   "outputs": [],
   "source": [
    "heart.isnull().sum()"
   ]
  },
  {
   "cell_type": "code",
   "execution_count": null,
   "id": "11c635d4-d733-44ea-8e4d-a84639549360",
   "metadata": {},
   "outputs": [],
   "source": [
    "heart['target']"
   ]
  },
  {
   "cell_type": "code",
   "execution_count": null,
   "id": "614a6d1c-beac-443b-ad9a-9df7627e6404",
   "metadata": {},
   "outputs": [],
   "source": [
    "heart['target'].unique()"
   ]
  },
  {
   "cell_type": "code",
   "execution_count": null,
   "id": "e692e1eb-2f19-4633-890a-a699d8df0493",
   "metadata": {},
   "outputs": [],
   "source": [
    "obj_col = ['target']"
   ]
  },
  {
   "cell_type": "code",
   "execution_count": null,
   "id": "77c72c70-7959-44d5-8eb7-a94630ee9172",
   "metadata": {},
   "outputs": [],
   "source": [
    "for col in obj_col :\n",
    "    print(col, heart[col].unique())"
   ]
  },
  {
   "cell_type": "code",
   "execution_count": null,
   "id": "7d2133f7-acd1-4623-8f94-8f20ce530000",
   "metadata": {},
   "outputs": [],
   "source": [
    "for col in obj_col :\n",
    "    print(col, '\\n', heart[col].value_counts())"
   ]
  },
  {
   "cell_type": "code",
   "execution_count": null,
   "id": "d3776078-24e9-4474-81c0-ed6348e223ec",
   "metadata": {},
   "outputs": [],
   "source": [
    "from sklearn.model_selection import train_test_split\n",
    "from sklearn.metrics import mean_absolute_error"
   ]
  },
  {
   "cell_type": "code",
   "execution_count": null,
   "id": "f4b69e1a-59b7-4ffb-ad68-6f90084d43dc",
   "metadata": {},
   "outputs": [],
   "source": [
    "x = heart.drop('target', axis = 1)"
   ]
  },
  {
   "cell_type": "code",
   "execution_count": null,
   "id": "342a22b7-2993-4b1c-92b5-d98b2ba66c4e",
   "metadata": {},
   "outputs": [],
   "source": [
    "y = heart['target']"
   ]
  },
  {
   "cell_type": "code",
   "execution_count": null,
   "id": "f3559f4b-d8c3-4a7e-a96c-2612df7470cd",
   "metadata": {},
   "outputs": [],
   "source": [
    "x_train, x_test, y_train, y_test = train_test_split(x, y, test_size = 0.2, stratify = y, random_state = 0) # stratify =  -> 기준점"
   ]
  },
  {
   "cell_type": "code",
   "execution_count": null,
   "id": "1dddafe4-632c-4c47-b42e-cd5107bbcd3f",
   "metadata": {},
   "outputs": [],
   "source": [
    "print(x_train.shape, y_train.shape) #학습시킬 문제, 학습시킬 문제에 대한 정답\n",
    "print(x_test.shape, y_test.shape) #시험문제, 시험문제에 대한 정답"
   ]
  },
  {
   "cell_type": "code",
   "execution_count": null,
   "id": "5d56d2c0-085e-4187-9518-83951c0bc8ed",
   "metadata": {},
   "outputs": [],
   "source": [
    "model = LogisticRegression() #모델 선언"
   ]
  },
  {
   "cell_type": "code",
   "execution_count": null,
   "id": "78aaf8f6-49ea-486e-b0c2-bfe2412cc15f",
   "metadata": {},
   "outputs": [],
   "source": [
    "# train"
   ]
  },
  {
   "cell_type": "code",
   "execution_count": null,
   "id": "e7ff4ca5-b6da-40ac-a767-e390c46a09d0",
   "metadata": {
    "tags": []
   },
   "outputs": [],
   "source": [
    "model.fit(x_train, y_train) # 공부(학습)시킬 때 필요한 함수"
   ]
  },
  {
   "cell_type": "code",
   "execution_count": null,
   "id": "230e89d8-76da-4530-8e6e-c23527c7050a",
   "metadata": {},
   "outputs": [],
   "source": [
    "pre_train = model.predict(x_train) #트레인에 대한 예측값, pre_train"
   ]
  },
  {
   "cell_type": "code",
   "execution_count": null,
   "id": "0ab00f07-c986-4404-8859-ca74fdced159",
   "metadata": {},
   "outputs": [],
   "source": [
    "mean_absolute_error(pre_train, y_train)"
   ]
  },
  {
   "cell_type": "code",
   "execution_count": null,
   "id": "f7260c1a-fb05-45c5-93b5-d7a43091280d",
   "metadata": {},
   "outputs": [],
   "source": [
    "model.score(x_train, y_train)"
   ]
  },
  {
   "cell_type": "code",
   "execution_count": null,
   "id": "75a2a835-669e-4e8d-b86e-d76e93dc15ef",
   "metadata": {},
   "outputs": [],
   "source": [
    "# test"
   ]
  },
  {
   "cell_type": "code",
   "execution_count": null,
   "id": "83238d3a-4fdf-4a07-aff9-c2526fc442a5",
   "metadata": {},
   "outputs": [],
   "source": [
    "pre_test = model.predict(x_test) #트레인에 대한 예측값, pre_train"
   ]
  },
  {
   "cell_type": "code",
   "execution_count": null,
   "id": "c57dd758-eeeb-4b70-b1ba-2a2e0833aa3a",
   "metadata": {},
   "outputs": [],
   "source": [
    "mean_absolute_error(pre_test, y_test)"
   ]
  },
  {
   "cell_type": "code",
   "execution_count": null,
   "id": "4d13acba-587a-4481-a2bf-e548d730480f",
   "metadata": {},
   "outputs": [],
   "source": [
    "model.score(x_test, y_test)"
   ]
  },
  {
   "cell_type": "markdown",
   "id": "7b64246b-d007-4c1c-b1dd-f1a7278dfd48",
   "metadata": {},
   "source": [
    "----------------------"
   ]
  },
  {
   "cell_type": "code",
   "execution_count": null,
   "id": "c9d381f4-dc2d-4452-9b8e-69806e9195f0",
   "metadata": {},
   "outputs": [],
   "source": [
    "# scaler 적용 했을 때"
   ]
  },
  {
   "cell_type": "code",
   "execution_count": null,
   "id": "dbc98d33-78bc-41f2-bd78-bea1a24f32bd",
   "metadata": {},
   "outputs": [],
   "source": [
    "import pandas as pd\n",
    "from sklearn.linear_model import LogisticRegression #Classification의 한 종류\n",
    "from sklearn.model_selection import train_test_split\n",
    "\n"
   ]
  },
  {
   "cell_type": "code",
   "execution_count": null,
   "id": "a7575cfc-4dca-4536-be99-37ee98f4f963",
   "metadata": {},
   "outputs": [],
   "source": [
    "heart = pd.read_csv('heart.csv')"
   ]
  },
  {
   "cell_type": "code",
   "execution_count": null,
   "id": "d0ab9374-2f9c-4711-ab94-c7950797fd06",
   "metadata": {
    "tags": []
   },
   "outputs": [],
   "source": [
    "heart"
   ]
  },
  {
   "cell_type": "code",
   "execution_count": null,
   "id": "134c61b4-e1a4-4cc7-a7ab-9ccb0dde33b7",
   "metadata": {
    "tags": []
   },
   "outputs": [],
   "source": [
    "for a in heart.drop('target', axis=1).columns :\n",
    "    print(a)\n",
    "    print(heart[a].mean())\n",
    "    print(heart[a].median())\n",
    "    print('---------------')"
   ]
  },
  {
   "cell_type": "code",
   "execution_count": null,
   "id": "4a166ee4-7d49-4a56-9a00-e751310100e6",
   "metadata": {},
   "outputs": [],
   "source": [
    "x = heart.drop('target', axis = 1)"
   ]
  },
  {
   "cell_type": "code",
   "execution_count": null,
   "id": "2b4e63fc-a4d1-47fa-bb23-62b99f75b5ef",
   "metadata": {},
   "outputs": [],
   "source": [
    "y = heart['target']"
   ]
  },
  {
   "cell_type": "code",
   "execution_count": null,
   "id": "a5682d3d-afd1-4fe8-ad77-e926c4ca955f",
   "metadata": {},
   "outputs": [],
   "source": [
    "x_train, x_test, y_train, y_test = train_test_split(x, y, test_size = 0.2, random_state = 0) # stratify =  -> 기준점"
   ]
  },
  {
   "cell_type": "code",
   "execution_count": null,
   "id": "fbc9f76b-6501-46b0-8830-f93b5ad0fd63",
   "metadata": {},
   "outputs": [],
   "source": [
    "print(x_train.shape, y_train.shape) #학습시킬 문제, 학습시킬 문제에 대한 정답\n",
    "print(x_test.shape, y_test.shape) #시험문제, 시험문제에 대한 정답"
   ]
  },
  {
   "cell_type": "code",
   "execution_count": null,
   "id": "6bdbf4cf-6e0e-48f4-bdee-d3b54fefca40",
   "metadata": {},
   "outputs": [],
   "source": [
    "from sklearn.preprocessing import StandardScaler"
   ]
  },
  {
   "cell_type": "code",
   "execution_count": null,
   "id": "1eb90c35-a73b-4b5a-ac28-e40dde8696e5",
   "metadata": {},
   "outputs": [],
   "source": [
    "scaler1 = StandardScaler() # 평균과 표준편차 "
   ]
  },
  {
   "cell_type": "code",
   "execution_count": null,
   "id": "ce9cf476-16da-4d4a-b6d5-236c7859171a",
   "metadata": {},
   "outputs": [],
   "source": [
    "x_train = scaler1.fit_transform(x_train)\n",
    "x_test= scaler1.transform(x_test)\n",
    "# x_test = scaler.transform(x_test)"
   ]
  },
  {
   "cell_type": "code",
   "execution_count": null,
   "id": "a51b0855-04a0-4b24-8dd2-ec93394a9ef1",
   "metadata": {},
   "outputs": [],
   "source": [
    "x_train"
   ]
  },
  {
   "cell_type": "code",
   "execution_count": null,
   "id": "f7c92cdf-0c81-4703-aa50-08361ee6dd4d",
   "metadata": {},
   "outputs": [],
   "source": [
    "model2 = LogisticRegression() #모델 선언"
   ]
  },
  {
   "cell_type": "code",
   "execution_count": null,
   "id": "614c31b0-571c-48de-8607-4fd6ac51be87",
   "metadata": {},
   "outputs": [],
   "source": [
    "# train"
   ]
  },
  {
   "cell_type": "code",
   "execution_count": null,
   "id": "b7917f0f-c8d5-43aa-a860-9c4fa20921bb",
   "metadata": {
    "tags": []
   },
   "outputs": [],
   "source": [
    "model2.fit(x_train, y_train) # 공부(학습)시킬 때 필요한 함수"
   ]
  },
  {
   "cell_type": "code",
   "execution_count": null,
   "id": "26070fda-741e-4c92-baac-23e809df3bbf",
   "metadata": {},
   "outputs": [],
   "source": [
    "model2.predict(x_train)"
   ]
  },
  {
   "cell_type": "code",
   "execution_count": null,
   "id": "5a7398c6-cb69-4b9f-a91f-9d9ca00b29a7",
   "metadata": {},
   "outputs": [],
   "source": [
    "print(x_train.shape, y_train.shape)"
   ]
  },
  {
   "cell_type": "code",
   "execution_count": null,
   "id": "a7465bd4-8781-4b53-b925-3e6d22ced72c",
   "metadata": {},
   "outputs": [],
   "source": [
    "model2.score(x_train, y_train)"
   ]
  },
  {
   "cell_type": "code",
   "execution_count": null,
   "id": "f30e2c78-2efc-48d2-814e-4475b960fb54",
   "metadata": {},
   "outputs": [],
   "source": [
    "model2.score(x_test, y_test)"
   ]
  },
  {
   "cell_type": "markdown",
   "id": "8f3605dd-60e5-4e06-9db9-c50af56583d1",
   "metadata": {},
   "source": [
    "real = x.iloc[0].values"
   ]
  },
  {
   "cell_type": "code",
   "execution_count": null,
   "id": "412fcbe1-1819-44f7-b477-ff5600ddaa3e",
   "metadata": {},
   "outputs": [],
   "source": [
    "real = [35, 1, 2, 135, 240, 0, 0, 160, 1, 2.1, 1, 0, 1]"
   ]
  },
  {
   "cell_type": "code",
   "execution_count": null,
   "id": "36eaeb8d-df69-4d26-9dc4-7591a2f377b6",
   "metadata": {},
   "outputs": [],
   "source": [
    "real"
   ]
  },
  {
   "cell_type": "code",
   "execution_count": null,
   "id": "c4a7fa94-d378-44f9-9409-8ce8c2caac2e",
   "metadata": {},
   "outputs": [],
   "source": [
    "real = x.iloc[0].values.reshape(1, -1)"
   ]
  },
  {
   "cell_type": "code",
   "execution_count": null,
   "id": "a9594ac6-68d3-4e9d-a2d7-21bfcc306943",
   "metadata": {},
   "outputs": [],
   "source": [
    "real"
   ]
  },
  {
   "cell_type": "code",
   "execution_count": null,
   "id": "74b538c3-9a16-4956-9bac-cee6934a9a07",
   "metadata": {},
   "outputs": [],
   "source": [
    "real = scaler1.transform(real)"
   ]
  },
  {
   "cell_type": "code",
   "execution_count": null,
   "id": "eca70ea4-0733-4e63-a445-824dfe37d7e8",
   "metadata": {},
   "outputs": [],
   "source": [
    "real"
   ]
  },
  {
   "cell_type": "code",
   "execution_count": null,
   "id": "80b4baac-fe89-43c7-8f67-582e77105076",
   "metadata": {},
   "outputs": [],
   "source": [
    "model2.predict(real)"
   ]
  },
  {
   "cell_type": "code",
   "execution_count": null,
   "id": "f2a30980-ef6d-4f7f-8285-43d9df873cc0",
   "metadata": {},
   "outputs": [],
   "source": [
    "predict1 = model2.predict(real)[0]"
   ]
  },
  {
   "cell_type": "code",
   "execution_count": null,
   "id": "41898101-7552-41d9-8036-5a829c28a1ca",
   "metadata": {
    "tags": []
   },
   "outputs": [],
   "source": [
    "print(predict1)"
   ]
  },
  {
   "cell_type": "code",
   "execution_count": null,
   "id": "ba8f31f5-a95c-4462-bd8c-9cfe231ae0b7",
   "metadata": {},
   "outputs": [],
   "source": [
    "import pickle"
   ]
  },
  {
   "cell_type": "code",
   "execution_count": null,
   "id": "8007f635-8b81-4874-968a-a3ef7ca0c460",
   "metadata": {},
   "outputs": [],
   "source": [
    "with open('scaler1.pkl', 'wb') as f :\n",
    "    pickle.dump(scaler1, f)"
   ]
  },
  {
   "cell_type": "code",
   "execution_count": null,
   "id": "edeb24e8-25fc-4f49-bd61-efac6f1351dd",
   "metadata": {},
   "outputs": [],
   "source": [
    "with open('model2.pkl', 'wb') as f :\n",
    "    pickle.dump(model2, f)"
   ]
  },
  {
   "cell_type": "markdown",
   "id": "cb929ddf-5640-4b0b-a9d2-ab895772f16f",
   "metadata": {},
   "source": [
    "----"
   ]
  },
  {
   "cell_type": "code",
   "execution_count": null,
   "id": "b00825e1-e94c-46f3-96ff-7941c9cce9b8",
   "metadata": {},
   "outputs": [],
   "source": [
    "#PolynomialFeatures 모델을 적용했을 때"
   ]
  },
  {
   "cell_type": "code",
   "execution_count": 1,
   "id": "712bc364-f6b8-453f-8b64-e07988197de0",
   "metadata": {},
   "outputs": [],
   "source": [
    "import pandas as pd\n",
    "import numpy as np\n",
    "from sklearn.preprocessing import PolynomialFeatures #Classification의 한 종류\n",
    "from sklearn.model_selection import train_test_split\n",
    "\n"
   ]
  },
  {
   "cell_type": "code",
   "execution_count": 5,
   "id": "379c2544-00d0-4991-82c0-70f128007636",
   "metadata": {},
   "outputs": [],
   "source": [
    "x = heart.drop('target', axis = 1)\n",
    "y = heart['target']"
   ]
  },
  {
   "cell_type": "code",
   "execution_count": 6,
   "id": "249cc6f1-a6a9-45aa-808e-bc8d54351114",
   "metadata": {},
   "outputs": [],
   "source": [
    "from sklearn.preprocessing import PolynomialFeatures"
   ]
  },
  {
   "cell_type": "code",
   "execution_count": 7,
   "id": "69c3802c-5347-4e36-8200-fddedf94701d",
   "metadata": {},
   "outputs": [],
   "source": [
    "pol = PolynomialFeatures(degree=2)"
   ]
  },
  {
   "cell_type": "code",
   "execution_count": 8,
   "id": "15ec8d2d-9dcb-47aa-855e-c3cc5b8bf2e9",
   "metadata": {},
   "outputs": [],
   "source": [
    "x = pol.fit_transform(x)"
   ]
  },
  {
   "cell_type": "code",
   "execution_count": 9,
   "id": "f99a69a8-f368-4f3c-a552-b854a920f536",
   "metadata": {},
   "outputs": [],
   "source": [
    "x_train, x_test, y_train, y_test = train_test_split(x, y, test_size = 0.2, random_state = 0) # stratify =  -> 기준점"
   ]
  },
  {
   "cell_type": "code",
   "execution_count": 10,
   "id": "93befa69-2970-4179-b4b8-586b51e81275",
   "metadata": {},
   "outputs": [],
   "source": [
    "model4 = PolynomialFeatures()"
   ]
  },
  {
   "cell_type": "code",
   "execution_count": 22,
   "id": "dbf7ee0d-98ca-4d1e-b406-1efca37bced1",
   "metadata": {
    "tags": []
   },
   "outputs": [
    {
     "data": {
      "text/plain": [
       "PolynomialFeatures()"
      ]
     },
     "execution_count": 22,
     "metadata": {},
     "output_type": "execute_result"
    }
   ],
   "source": [
    "model4.fit(x_train, y_train) # 공부(학습)시킬 때 필요한 함수"
   ]
  },
  {
   "cell_type": "code",
   "execution_count": null,
   "id": "b928d615-5c25-4f70-9807-fa8844f7bdc1",
   "metadata": {},
   "outputs": [],
   "source": []
  },
  {
   "cell_type": "code",
   "execution_count": 26,
   "id": "4de41517-fce0-4843-b48f-fed593a8450a",
   "metadata": {},
   "outputs": [
    {
     "ename": "AttributeError",
     "evalue": "'PolynomialFeatures' object has no attribute 'predict'",
     "output_type": "error",
     "traceback": [
      "\u001b[1;31m---------------------------------------------------------------------------\u001b[0m",
      "\u001b[1;31mAttributeError\u001b[0m                            Traceback (most recent call last)",
      "Input \u001b[1;32mIn [26]\u001b[0m, in \u001b[0;36m<cell line: 1>\u001b[1;34m()\u001b[0m\n\u001b[1;32m----> 1\u001b[0m \u001b[43mmodel4\u001b[49m\u001b[38;5;241;43m.\u001b[39;49m\u001b[43mpredict\u001b[49m(x_train)\n",
      "\u001b[1;31mAttributeError\u001b[0m: 'PolynomialFeatures' object has no attribute 'predict'"
     ]
    }
   ],
   "source": [
    "model4.predict(x_train)"
   ]
  },
  {
   "cell_type": "code",
   "execution_count": 27,
   "id": "88458b97-af61-4b54-b948-cbba057ae551",
   "metadata": {},
   "outputs": [
    {
     "data": {
      "text/plain": [
       "array([[ 1., 43.,  0., ...,  0.,  0.,  4.],\n",
       "       [ 1., 66.,  0., ...,  1.,  2.,  4.],\n",
       "       [ 1., 58.,  1., ...,  0.,  0.,  4.],\n",
       "       ...,\n",
       "       [ 1., 56.,  1., ...,  0.,  0.,  9.],\n",
       "       [ 1., 47.,  1., ...,  0.,  0.,  4.],\n",
       "       [ 1., 58.,  1., ...,  0.,  0.,  4.]])"
      ]
     },
     "execution_count": 27,
     "metadata": {},
     "output_type": "execute_result"
    }
   ],
   "source": [
    "x_train"
   ]
  },
  {
   "cell_type": "code",
   "execution_count": 29,
   "id": "a7071073-491c-4072-83f4-96e6ba19ff54",
   "metadata": {},
   "outputs": [
    {
     "data": {
      "text/plain": [
       "74     1\n",
       "153    1\n",
       "64     1\n",
       "296    0\n",
       "287    0\n",
       "      ..\n",
       "251    0\n",
       "192    0\n",
       "117    1\n",
       "47     1\n",
       "172    0\n",
       "Name: target, Length: 242, dtype: int64"
      ]
     },
     "execution_count": 29,
     "metadata": {},
     "output_type": "execute_result"
    }
   ],
   "source": [
    "y_train"
   ]
  },
  {
   "cell_type": "code",
   "execution_count": 24,
   "id": "9d364348-8cd9-4c9f-bf9d-6283f04b6fb4",
   "metadata": {},
   "outputs": [
    {
     "ename": "AttributeError",
     "evalue": "'PolynomialFeatures' object has no attribute 'score'",
     "output_type": "error",
     "traceback": [
      "\u001b[1;31m---------------------------------------------------------------------------\u001b[0m",
      "\u001b[1;31mAttributeError\u001b[0m                            Traceback (most recent call last)",
      "Input \u001b[1;32mIn [24]\u001b[0m, in \u001b[0;36m<cell line: 1>\u001b[1;34m()\u001b[0m\n\u001b[1;32m----> 1\u001b[0m \u001b[43mmodel4\u001b[49m\u001b[38;5;241;43m.\u001b[39;49m\u001b[43mscore\u001b[49m(x_train, y_train)\n",
      "\u001b[1;31mAttributeError\u001b[0m: 'PolynomialFeatures' object has no attribute 'score'"
     ]
    }
   ],
   "source": [
    "model4.score(x_train, y_train)"
   ]
  },
  {
   "cell_type": "code",
   "execution_count": 15,
   "id": "5f4cf75f-ef48-46bb-bb3c-4de13a531fef",
   "metadata": {},
   "outputs": [
    {
     "ename": "AttributeError",
     "evalue": "'PolynomialFeatures' object has no attribute 'score'",
     "output_type": "error",
     "traceback": [
      "\u001b[1;31m---------------------------------------------------------------------------\u001b[0m",
      "\u001b[1;31mAttributeError\u001b[0m                            Traceback (most recent call last)",
      "Input \u001b[1;32mIn [15]\u001b[0m, in \u001b[0;36m<cell line: 1>\u001b[1;34m()\u001b[0m\n\u001b[1;32m----> 1\u001b[0m \u001b[43mmodel4\u001b[49m\u001b[38;5;241;43m.\u001b[39;49m\u001b[43mscore\u001b[49m(x_test, y_test)\n",
      "\u001b[1;31mAttributeError\u001b[0m: 'PolynomialFeatures' object has no attribute 'score'"
     ]
    }
   ],
   "source": [
    "model4.score(x_test, y_test)"
   ]
  },
  {
   "cell_type": "code",
   "execution_count": 16,
   "id": "db236188-0124-48d7-8379-c8eced8c0b5b",
   "metadata": {},
   "outputs": [],
   "source": [
    "import numpy as np"
   ]
  },
  {
   "cell_type": "code",
   "execution_count": 17,
   "id": "567f462e-f934-44d7-b159-21e0d602b807",
   "metadata": {},
   "outputs": [],
   "source": [
    "real = [35, 1, 2, 135, 240, 0, 0, 160, 1, 2.1, 1, 0, 1]"
   ]
  },
  {
   "cell_type": "code",
   "execution_count": 18,
   "id": "cdff5e07-643a-4203-8268-3647a8166bb3",
   "metadata": {},
   "outputs": [],
   "source": [
    "real = np.asarray(real).reshape(1, -1) # ???"
   ]
  },
  {
   "cell_type": "code",
   "execution_count": 19,
   "id": "25f3eba1-0018-4643-8758-5559d41d566f",
   "metadata": {},
   "outputs": [
    {
     "name": "stderr",
     "output_type": "stream",
     "text": [
      "C:\\Users\\user\\anaconda3\\lib\\site-packages\\sklearn\\base.py:450: UserWarning: X does not have valid feature names, but PolynomialFeatures was fitted with feature names\n",
      "  warnings.warn(\n"
     ]
    }
   ],
   "source": [
    "real = pol.transform(real)"
   ]
  },
  {
   "cell_type": "code",
   "execution_count": 21,
   "id": "c1d1f3ee-15df-47b6-9eee-f594786dc655",
   "metadata": {},
   "outputs": [
    {
     "ename": "AttributeError",
     "evalue": "'PolynomialFeatures' object has no attribute 'predict'",
     "output_type": "error",
     "traceback": [
      "\u001b[1;31m---------------------------------------------------------------------------\u001b[0m",
      "\u001b[1;31mAttributeError\u001b[0m                            Traceback (most recent call last)",
      "Input \u001b[1;32mIn [21]\u001b[0m, in \u001b[0;36m<cell line: 1>\u001b[1;34m()\u001b[0m\n\u001b[1;32m----> 1\u001b[0m \u001b[43mmodel4\u001b[49m\u001b[38;5;241;43m.\u001b[39;49m\u001b[43mpredict\u001b[49m(real)\n",
      "\u001b[1;31mAttributeError\u001b[0m: 'PolynomialFeatures' object has no attribute 'predict'"
     ]
    }
   ],
   "source": [
    "model4.predict(real)"
   ]
  },
  {
   "cell_type": "code",
   "execution_count": null,
   "id": "9bd0e8b1-e825-4ea9-908d-a5dde46d0d97",
   "metadata": {},
   "outputs": [],
   "source": []
  },
  {
   "cell_type": "code",
   "execution_count": null,
   "id": "0c0d0f82-a4fe-41a8-b4fa-f467d105587c",
   "metadata": {},
   "outputs": [],
   "source": []
  },
  {
   "cell_type": "markdown",
   "id": "59120c00-0d31-4622-84e0-7f85ae4cf1e8",
   "metadata": {},
   "source": [
    "---"
   ]
  },
  {
   "cell_type": "code",
   "execution_count": null,
   "id": "25d122c5-f5aa-49bc-8514-21a5d919fc45",
   "metadata": {},
   "outputs": [],
   "source": [
    "(w1x1+w2x2+w3x3+w4x4+w5x5) + b #행렬의 곱 (선형대수학에서의 매트릭스 개념)"
   ]
  },
  {
   "cell_type": "code",
   "execution_count": null,
   "id": "8991b8ec-57f4-4261-a491-638ed581773b",
   "metadata": {},
   "outputs": [],
   "source": [
    "2X2 2X3 -> 2X3 (numpy가 행렬의 곱을 잘 계산한다.)"
   ]
  },
  {
   "cell_type": "code",
   "execution_count": null,
   "id": "0c9e2447-d0d6-4cd9-be25-32908c53fbb8",
   "metadata": {},
   "outputs": [],
   "source": [
    "x.columns"
   ]
  },
  {
   "cell_type": "code",
   "execution_count": null,
   "id": "98ce41d6-7b96-400e-85ca-0961fb17ff15",
   "metadata": {
    "tags": []
   },
   "outputs": [],
   "source": [
    "model.coef_ # W값"
   ]
  },
  {
   "cell_type": "code",
   "execution_count": null,
   "id": "b574ae82-0030-4dc7-8e41-0e2cbadad644",
   "metadata": {},
   "outputs": [],
   "source": [
    "model.intercept_"
   ]
  },
  {
   "cell_type": "code",
   "execution_count": null,
   "id": "33d68e3b-4c16-46cb-b3e6-7eea2bcc108f",
   "metadata": {},
   "outputs": [],
   "source": [
    "model.score(x_train, y_train)"
   ]
  },
  {
   "cell_type": "markdown",
   "id": "988f45f5-a3fb-4508-97ce-609db6d568e9",
   "metadata": {},
   "source": [
    "----"
   ]
  }
 ],
 "metadata": {
  "kernelspec": {
   "display_name": "Python 3.9.13 ('base')",
   "language": "python",
   "name": "python3"
  },
  "language_info": {
   "codemirror_mode": {
    "name": "ipython",
    "version": 3
   },
   "file_extension": ".py",
   "mimetype": "text/x-python",
   "name": "python",
   "nbconvert_exporter": "python",
   "pygments_lexer": "ipython3",
   "version": "3.9.13"
  },
  "vscode": {
   "interpreter": {
    "hash": "701d4f28dcd0866722f5108a3a4cbcd08882d26398b6d44117e791d7b8102912"
   }
  }
 },
 "nbformat": 4,
 "nbformat_minor": 5
}
