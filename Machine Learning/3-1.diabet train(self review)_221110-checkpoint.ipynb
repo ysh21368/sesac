{
 "cells": [
  {
   "cell_type": "code",
   "execution_count": null,
   "id": "eec52100-9e20-4e8d-a1a2-09b6ad7d2e14",
   "metadata": {},
   "outputs": [],
   "source": [
    "# Model system"
   ]
  },
  {
   "cell_type": "code",
   "execution_count": null,
   "id": "5d467519-158c-4fd5-bdcc-87f85ae71454",
   "metadata": {},
   "outputs": [],
   "source": [
    "#전처리"
   ]
  },
  {
   "cell_type": "code",
   "execution_count": 1,
   "id": "6db3788c-a205-4317-a90c-e6c277f713fc",
   "metadata": {},
   "outputs": [],
   "source": [
    "import pandas as pd\n",
    "import numpy as np\n",
    "import warnings\n",
    "warnings.filterwarnings('ignore')\n",
    "import pickle\n",
    "\n",
    "from sklearn.svm import SVC\n",
    "from sklearn.model_selection import train_test_split"
   ]
  },
  {
   "cell_type": "code",
   "execution_count": 2,
   "id": "ede864d2-ad77-43e5-ad68-768b653bc897",
   "metadata": {},
   "outputs": [],
   "source": [
    "diabetes_data = pd.read_csv('diabetes.csv')"
   ]
  },
  {
   "cell_type": "code",
   "execution_count": 3,
   "id": "65c6a70e-b1e1-404f-8950-ffa9f90c17b8",
   "metadata": {},
   "outputs": [],
   "source": [
    "# 1)\n",
    "col_list = ['Glucose','BloodPressure','SkinThickness','Insulin','BMI']\n",
    "for col in col_list :\n",
    "    diabetes_data[col] = np.where(diabetes_data[col] == 0, np.nan, diabetes_data[col]) #= data[col] = data[col].str.replace(0, np.nan)"
   ]
  },
  {
   "cell_type": "code",
   "execution_count": 4,
   "id": "48d0cd3f-c978-4cab-888f-e364d46152c5",
   "metadata": {},
   "outputs": [],
   "source": [
    "# 2) 나이별로 구간 나누기\n",
    "def ageRange(age) :\n",
    "    if 21 <= age < 30 :\n",
    "        return 1\n",
    "    elif 30 <= age < 40 :\n",
    "        return 2\n",
    "    elif 40 <= age < 50 :\n",
    "        return 3\n",
    "    elif 50 <= age < 60 :\n",
    "        return 4\n",
    "    elif 60 <= age < 70 :\n",
    "        return 5\n",
    "    else :\n",
    "        return 6    "
   ]
  },
  {
   "cell_type": "code",
   "execution_count": 5,
   "id": "123bcbdf-b4be-4c9a-abef-1ef3505f4b65",
   "metadata": {},
   "outputs": [],
   "source": [
    "diabetes_data['Age2'] = diabetes_data['Age'].apply(ageRange)"
   ]
  },
  {
   "cell_type": "code",
   "execution_count": 6,
   "id": "d4e5d282-d338-4021-ab46-008d10a5b806",
   "metadata": {},
   "outputs": [],
   "source": [
    "for col in col_list :\n",
    "    diabetes_data[col].fillna(diabetes_data.groupby('Age2')[col].transform('median'), inplace = True)"
   ]
  },
  {
   "cell_type": "code",
   "execution_count": 7,
   "id": "ce6118de-2b54-4798-94d3-1ab5710b4ac7",
   "metadata": {},
   "outputs": [],
   "source": [
    "#Real system의 전처리를 하기 위해 필요한 코드\n",
    "dict_tot = {}\n",
    "for col in col_list :\n",
    "    index = diabetes_data.groupby('Age2')[col].median().index\n",
    "    value = diabetes_data.groupby('Age2')[col].median().values\n",
    "    temp = {}\n",
    "    for i in range(len(index)) :\n",
    "        temp[index[i]] = value[i]\n",
    "    dict_tot[col] = temp"
   ]
  },
  {
   "cell_type": "code",
   "execution_count": 8,
   "id": "307d65c9-f22b-4ef9-bf57-3c8b961d317e",
   "metadata": {},
   "outputs": [
    {
     "data": {
      "text/plain": [
       "{'Glucose': {1: 109.0, 2: 122.0, 3: 123.0, 4: 139.0, 5: 136.0, 6: 134.0},\n",
       " 'BloodPressure': {1: 68.0, 2: 74.0, 3: 78.0, 4: 78.0, 5: 78.0, 6: 78.0},\n",
       " 'SkinThickness': {1: 27.0, 2: 32.0, 3: 31.0, 4: 28.5, 5: 31.0, 6: 25.5},\n",
       " 'Insulin': {1: 105.0, 2: 140.0, 3: 131.0, 4: 192.0, 5: 258.0, 6: 60.0},\n",
       " 'BMI': {1: 31.6, 2: 32.0, 3: 33.95, 4: 33.05, 5: 29.3, 6: 25.9}}"
      ]
     },
     "execution_count": 8,
     "metadata": {},
     "output_type": "execute_result"
    }
   ],
   "source": [
    "dict_tot"
   ]
  },
  {
   "cell_type": "code",
   "execution_count": 9,
   "id": "08f9021f-b0a1-47d9-af46-3bfc3898c392",
   "metadata": {},
   "outputs": [],
   "source": [
    "with open('dict_tot.pkl', 'wb') as f :\n",
    "    pickle.dump(dict_tot, f)"
   ]
  },
  {
   "cell_type": "code",
   "execution_count": 10,
   "id": "5cf57c86-0d67-4bbc-b471-8ecdaa0a4d98",
   "metadata": {},
   "outputs": [],
   "source": [
    "#모델 학습"
   ]
  },
  {
   "cell_type": "code",
   "execution_count": 11,
   "id": "ac80f903-cbc0-4887-a5a1-06cd2562d153",
   "metadata": {},
   "outputs": [],
   "source": [
    "x = diabetes_data.drop(['Outcome', 'Age2'], axis = 1)"
   ]
  },
  {
   "cell_type": "code",
   "execution_count": 12,
   "id": "26ed15ba-ba56-4e8e-9a08-732efcaa876d",
   "metadata": {},
   "outputs": [],
   "source": [
    "y = diabetes_data['Outcome']"
   ]
  },
  {
   "cell_type": "code",
   "execution_count": 13,
   "id": "d1bf73ac-a7a9-4092-8778-cac1fe57fdc4",
   "metadata": {},
   "outputs": [],
   "source": [
    "x_train, x_test, y_train, y_test = train_test_split(x, y, test_size = 0.2, random_state = 0)"
   ]
  },
  {
   "cell_type": "code",
   "execution_count": 14,
   "id": "2090de6b-8087-4e39-9558-d13b62a70dbc",
   "metadata": {},
   "outputs": [],
   "source": [
    "model = SVC()"
   ]
  },
  {
   "cell_type": "code",
   "execution_count": 15,
   "id": "d8fb1af0-f9e9-4826-8744-16ef0272ceda",
   "metadata": {},
   "outputs": [
    {
     "data": {
      "text/plain": [
       "SVC()"
      ]
     },
     "execution_count": 15,
     "metadata": {},
     "output_type": "execute_result"
    }
   ],
   "source": [
    "model.fit(x_train, y_train)"
   ]
  },
  {
   "cell_type": "code",
   "execution_count": 16,
   "id": "7a1d1d57-1d2c-436d-a3c3-f893c55c3e8f",
   "metadata": {},
   "outputs": [
    {
     "data": {
      "text/plain": [
       "0.760586319218241"
      ]
     },
     "execution_count": 16,
     "metadata": {},
     "output_type": "execute_result"
    }
   ],
   "source": [
    "model.score(x_train, y_train)"
   ]
  },
  {
   "cell_type": "code",
   "execution_count": 17,
   "id": "a5f08b07-1009-4647-a7ef-ad6416fc9cc2",
   "metadata": {},
   "outputs": [
    {
     "data": {
      "text/plain": [
       "0.7922077922077922"
      ]
     },
     "execution_count": 17,
     "metadata": {},
     "output_type": "execute_result"
    }
   ],
   "source": [
    "model.score(x_test, y_test)"
   ]
  },
  {
   "cell_type": "code",
   "execution_count": 18,
   "id": "9db271b9-a80c-4e7e-b997-82e04387cb00",
   "metadata": {},
   "outputs": [],
   "source": [
    "# 모델 저장"
   ]
  },
  {
   "cell_type": "code",
   "execution_count": 19,
   "id": "872a55ed-51ac-4c4e-8523-102dd584f2b6",
   "metadata": {},
   "outputs": [],
   "source": [
    "with open('model.pkl', 'wb') as f :\n",
    "    pickle.dump(model, f)"
   ]
  },
  {
   "cell_type": "markdown",
   "id": "201fb105-442a-4647-93ec-8e28fbf9474f",
   "metadata": {},
   "source": [
    "----"
   ]
  },
  {
   "cell_type": "markdown",
   "id": "3f0a667f-bee2-410a-806b-558f374375be",
   "metadata": {
    "tags": []
   },
   "source": [
    "diabetes_data.groupby('Age2')['Glucose'].median()"
   ]
  }
 ],
 "metadata": {
  "kernelspec": {
   "display_name": "Python 3 (ipykernel)",
   "language": "python",
   "name": "python3"
  },
  "language_info": {
   "codemirror_mode": {
    "name": "ipython",
    "version": 3
   },
   "file_extension": ".py",
   "mimetype": "text/x-python",
   "name": "python",
   "nbconvert_exporter": "python",
   "pygments_lexer": "ipython3",
   "version": "3.9.12"
  }
 },
 "nbformat": 4,
 "nbformat_minor": 5
}
