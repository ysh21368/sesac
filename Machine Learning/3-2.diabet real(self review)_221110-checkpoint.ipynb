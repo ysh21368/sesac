{
 "cells": [
  {
   "cell_type": "code",
   "execution_count": null,
   "id": "97a09adf-2b5c-4842-b37c-22fd245edadd",
   "metadata": {},
   "outputs": [],
   "source": [
    "# Real system"
   ]
  },
  {
   "cell_type": "code",
   "execution_count": 1,
   "id": "f0efff34-a139-4db9-bd84-55e08777808d",
   "metadata": {
    "tags": []
   },
   "outputs": [],
   "source": [
    "import pandas as pd\n",
    "import numpy as np\n",
    "import pickle"
   ]
  },
  {
   "cell_type": "code",
   "execution_count": 2,
   "id": "3c162f0a-2b66-45c0-b549-e0c8821fafbd",
   "metadata": {},
   "outputs": [],
   "source": [
    "real = [  1.   , 163.   ,  72.   ,   0.   ,   0.   ,  39.   ,   1.222,\n",
    "        33.   ]"
   ]
  },
  {
   "cell_type": "code",
   "execution_count": 3,
   "id": "50339e05-18db-4d0c-bbf6-137cdcbd958a",
   "metadata": {},
   "outputs": [],
   "source": [
    "real = np.asarray(real).reshape(1, -1)"
   ]
  },
  {
   "cell_type": "code",
   "execution_count": 4,
   "id": "1fac8994-93bc-45eb-bd47-41d8fb4fc16b",
   "metadata": {},
   "outputs": [
    {
     "data": {
      "text/plain": [
       "array([[  1.   , 163.   ,  72.   ,   0.   ,   0.   ,  39.   ,   1.222,\n",
       "         33.   ]])"
      ]
     },
     "execution_count": 4,
     "metadata": {},
     "output_type": "execute_result"
    }
   ],
   "source": [
    "real"
   ]
  },
  {
   "cell_type": "code",
   "execution_count": 5,
   "id": "aa49b10b-5751-457b-9581-323934aad351",
   "metadata": {
    "tags": []
   },
   "outputs": [],
   "source": [
    "df = pd.DataFrame(real, columns = ['Pregnancies', 'Glucose', 'BloodPressure', 'SkinThickness', 'Insulin', 'BMI', 'DiabetesPedigreeFunction', 'Age'])"
   ]
  },
  {
   "cell_type": "code",
   "execution_count": 6,
   "id": "58745e17-8d94-4da8-9e9c-802450581a18",
   "metadata": {},
   "outputs": [
    {
     "data": {
      "text/html": [
       "<div>\n",
       "<style scoped>\n",
       "    .dataframe tbody tr th:only-of-type {\n",
       "        vertical-align: middle;\n",
       "    }\n",
       "\n",
       "    .dataframe tbody tr th {\n",
       "        vertical-align: top;\n",
       "    }\n",
       "\n",
       "    .dataframe thead th {\n",
       "        text-align: right;\n",
       "    }\n",
       "</style>\n",
       "<table border=\"1\" class=\"dataframe\">\n",
       "  <thead>\n",
       "    <tr style=\"text-align: right;\">\n",
       "      <th></th>\n",
       "      <th>Pregnancies</th>\n",
       "      <th>Glucose</th>\n",
       "      <th>BloodPressure</th>\n",
       "      <th>SkinThickness</th>\n",
       "      <th>Insulin</th>\n",
       "      <th>BMI</th>\n",
       "      <th>DiabetesPedigreeFunction</th>\n",
       "      <th>Age</th>\n",
       "    </tr>\n",
       "  </thead>\n",
       "  <tbody>\n",
       "    <tr>\n",
       "      <th>0</th>\n",
       "      <td>1.0</td>\n",
       "      <td>163.0</td>\n",
       "      <td>72.0</td>\n",
       "      <td>0.0</td>\n",
       "      <td>0.0</td>\n",
       "      <td>39.0</td>\n",
       "      <td>1.222</td>\n",
       "      <td>33.0</td>\n",
       "    </tr>\n",
       "  </tbody>\n",
       "</table>\n",
       "</div>"
      ],
      "text/plain": [
       "   Pregnancies  Glucose  BloodPressure  SkinThickness  Insulin   BMI  \\\n",
       "0          1.0    163.0           72.0            0.0      0.0  39.0   \n",
       "\n",
       "   DiabetesPedigreeFunction   Age  \n",
       "0                     1.222  33.0  "
      ]
     },
     "execution_count": 6,
     "metadata": {},
     "output_type": "execute_result"
    }
   ],
   "source": [
    "df"
   ]
  },
  {
   "cell_type": "code",
   "execution_count": 7,
   "id": "b69d6870-2b51-4d6e-9540-9f6451a698ca",
   "metadata": {},
   "outputs": [],
   "source": [
    "# 나이별로 구간 나누기\n",
    "def ageRange(age) :\n",
    "    if 21 <= age < 30 :\n",
    "        return 1\n",
    "    elif 30 <= age < 40 :\n",
    "        return 2\n",
    "    elif 40 <= age < 50 :\n",
    "        return 3\n",
    "    elif 50 <= age < 60 :\n",
    "        return 4\n",
    "    elif 60 <= age < 70 :\n",
    "        return 5\n",
    "    else :\n",
    "        return 6    "
   ]
  },
  {
   "cell_type": "code",
   "execution_count": 8,
   "id": "60b24099-7af1-4034-b1b4-ac24d0d734b7",
   "metadata": {
    "tags": []
   },
   "outputs": [],
   "source": [
    "col_list = ['Glucose','BloodPressure','SkinThickness','Insulin','BMI']"
   ]
  },
  {
   "cell_type": "code",
   "execution_count": 9,
   "id": "2618ee68-328f-4b2b-97a1-6ef2aa310977",
   "metadata": {},
   "outputs": [],
   "source": [
    "for col in col_list :\n",
    "    df[col] = np.where(df[col] == 0, np.nan, df[col]) #= df[col] = df[col].str.replace(0, np.nan)"
   ]
  },
  {
   "cell_type": "code",
   "execution_count": 10,
   "id": "1986e281-23e1-418e-904d-a0efe84ed619",
   "metadata": {},
   "outputs": [],
   "source": [
    "df['Age2'] = df['Age'].apply(ageRange)"
   ]
  },
  {
   "cell_type": "code",
   "execution_count": 11,
   "id": "f7342218-ee37-4616-9b16-f8a3779c970c",
   "metadata": {},
   "outputs": [],
   "source": [
    "#\n",
    "with open('dict_tot.pkl', 'rb') as f :\n",
    "    dict_tot = pickle.load(f)"
   ]
  },
  {
   "cell_type": "code",
   "execution_count": 12,
   "id": "a2a137c5-937a-429e-a50e-d43831d97c1d",
   "metadata": {},
   "outputs": [],
   "source": [
    "for col in col_list :\n",
    "    df[col].fillna(dict_tot[col][df.loc[0]['Age2']], inplace=True)"
   ]
  },
  {
   "cell_type": "code",
   "execution_count": 13,
   "id": "a9478481-7164-4dc2-a60f-6dd17f00ef79",
   "metadata": {},
   "outputs": [],
   "source": [
    "df.drop('Age2', axis = 1, inplace = True)"
   ]
  },
  {
   "cell_type": "code",
   "execution_count": 14,
   "id": "f016adf5-3074-4cc4-994b-eee03c4d6992",
   "metadata": {},
   "outputs": [],
   "source": [
    "# Model System을 불러와라\n",
    "with open('model.pkl', 'rb') as f :\n",
    "    model = pickle.load(f)"
   ]
  },
  {
   "cell_type": "code",
   "execution_count": 15,
   "id": "318a615c-bad1-42f0-b2e3-e742b3a6ac8d",
   "metadata": {},
   "outputs": [],
   "source": [
    "predict = model.predict(df)"
   ]
  },
  {
   "cell_type": "code",
   "execution_count": 16,
   "id": "617c133f-9a5b-406f-ab68-3e85ca729370",
   "metadata": {},
   "outputs": [
    {
     "name": "stdout",
     "output_type": "stream",
     "text": [
      "당뇨 위험\n"
     ]
    }
   ],
   "source": [
    "if predict == 0 :\n",
    "    print('당뇨가 없습니다')\n",
    "else :\n",
    "    print('당뇨 위험')"
   ]
  }
 ],
 "metadata": {
  "kernelspec": {
   "display_name": "Python 3 (ipykernel)",
   "language": "python",
   "name": "python3"
  },
  "language_info": {
   "codemirror_mode": {
    "name": "ipython",
    "version": 3
   },
   "file_extension": ".py",
   "mimetype": "text/x-python",
   "name": "python",
   "nbconvert_exporter": "python",
   "pygments_lexer": "ipython3",
   "version": "3.9.12"
  }
 },
 "nbformat": 4,
 "nbformat_minor": 5
}
