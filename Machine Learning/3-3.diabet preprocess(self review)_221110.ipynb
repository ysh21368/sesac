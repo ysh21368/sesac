{
 "cells": [
  {
   "cell_type": "code",
   "execution_count": 1,
   "id": "bc45dd0a-895d-43bf-b23a-02c420b87f6f",
   "metadata": {},
   "outputs": [],
   "source": [
    "import pandas as pd\n",
    "import numpy as np\n",
    "import pickle \n",
    "import preprocess as pre"
   ]
  },
  {
   "cell_type": "code",
   "execution_count": 2,
   "id": "7aaef70e-d638-47a4-b59e-edfe483f6fc1",
   "metadata": {},
   "outputs": [],
   "source": [
    "# real 실제 사용자의 데이터\n",
    "real = [1., 163.,  72., 0., 0.,  39., 1.222, 33.]\n",
    "real = np.asarray(real).reshape(1,-1)\n",
    "df = pd.DataFrame(real, columns= ['Pregnancies', 'Glucose', 'BloodPressure', 'SkinThickness', 'Insulin','BMI', 'DiabetesPedigreeFunction', 'Age'])"
   ]
  },
  {
   "cell_type": "code",
   "execution_count": 3,
   "id": "ab60999c-5c1a-41c6-8aa1-1583472244f8",
   "metadata": {},
   "outputs": [
    {
     "data": {
      "text/html": [
       "<div>\n",
       "<style scoped>\n",
       "    .dataframe tbody tr th:only-of-type {\n",
       "        vertical-align: middle;\n",
       "    }\n",
       "\n",
       "    .dataframe tbody tr th {\n",
       "        vertical-align: top;\n",
       "    }\n",
       "\n",
       "    .dataframe thead th {\n",
       "        text-align: right;\n",
       "    }\n",
       "</style>\n",
       "<table border=\"1\" class=\"dataframe\">\n",
       "  <thead>\n",
       "    <tr style=\"text-align: right;\">\n",
       "      <th></th>\n",
       "      <th>Pregnancies</th>\n",
       "      <th>Glucose</th>\n",
       "      <th>BloodPressure</th>\n",
       "      <th>SkinThickness</th>\n",
       "      <th>Insulin</th>\n",
       "      <th>BMI</th>\n",
       "      <th>DiabetesPedigreeFunction</th>\n",
       "      <th>Age</th>\n",
       "    </tr>\n",
       "  </thead>\n",
       "  <tbody>\n",
       "    <tr>\n",
       "      <th>0</th>\n",
       "      <td>1.0</td>\n",
       "      <td>163.0</td>\n",
       "      <td>72.0</td>\n",
       "      <td>0.0</td>\n",
       "      <td>0.0</td>\n",
       "      <td>39.0</td>\n",
       "      <td>1.222</td>\n",
       "      <td>33.0</td>\n",
       "    </tr>\n",
       "  </tbody>\n",
       "</table>\n",
       "</div>"
      ],
      "text/plain": [
       "   Pregnancies  Glucose  BloodPressure  SkinThickness  Insulin   BMI  \\\n",
       "0          1.0    163.0           72.0            0.0      0.0  39.0   \n",
       "\n",
       "   DiabetesPedigreeFunction   Age  \n",
       "0                     1.222  33.0  "
      ]
     },
     "execution_count": 3,
     "metadata": {},
     "output_type": "execute_result"
    }
   ],
   "source": [
    "df"
   ]
  },
  {
   "cell_type": "code",
   "execution_count": 4,
   "id": "f5c3998a-b6ac-4e72-813f-706eba8bb7db",
   "metadata": {},
   "outputs": [],
   "source": [
    "df2 = pre.prefunc(df)"
   ]
  },
  {
   "cell_type": "code",
   "execution_count": 5,
   "id": "f0acf877-2103-480a-8794-936649ffa5ae",
   "metadata": {},
   "outputs": [
    {
     "data": {
      "text/html": [
       "<div>\n",
       "<style scoped>\n",
       "    .dataframe tbody tr th:only-of-type {\n",
       "        vertical-align: middle;\n",
       "    }\n",
       "\n",
       "    .dataframe tbody tr th {\n",
       "        vertical-align: top;\n",
       "    }\n",
       "\n",
       "    .dataframe thead th {\n",
       "        text-align: right;\n",
       "    }\n",
       "</style>\n",
       "<table border=\"1\" class=\"dataframe\">\n",
       "  <thead>\n",
       "    <tr style=\"text-align: right;\">\n",
       "      <th></th>\n",
       "      <th>Pregnancies</th>\n",
       "      <th>Glucose</th>\n",
       "      <th>BloodPressure</th>\n",
       "      <th>SkinThickness</th>\n",
       "      <th>Insulin</th>\n",
       "      <th>BMI</th>\n",
       "      <th>DiabetesPedigreeFunction</th>\n",
       "      <th>Age</th>\n",
       "    </tr>\n",
       "  </thead>\n",
       "  <tbody>\n",
       "    <tr>\n",
       "      <th>0</th>\n",
       "      <td>1.0</td>\n",
       "      <td>122.0</td>\n",
       "      <td>74.0</td>\n",
       "      <td>32.0</td>\n",
       "      <td>140.0</td>\n",
       "      <td>32.0</td>\n",
       "      <td>1.222</td>\n",
       "      <td>33.0</td>\n",
       "    </tr>\n",
       "  </tbody>\n",
       "</table>\n",
       "</div>"
      ],
      "text/plain": [
       "   Pregnancies  Glucose  BloodPressure  SkinThickness  Insulin   BMI  \\\n",
       "0          1.0    122.0           74.0           32.0    140.0  32.0   \n",
       "\n",
       "   DiabetesPedigreeFunction   Age  \n",
       "0                     1.222  33.0  "
      ]
     },
     "execution_count": 5,
     "metadata": {},
     "output_type": "execute_result"
    }
   ],
   "source": [
    "df2"
   ]
  },
  {
   "cell_type": "code",
   "execution_count": 6,
   "id": "18836a4f-532e-4ae9-ba83-5e0bd40d6ebf",
   "metadata": {},
   "outputs": [],
   "source": [
    "with open('model.pkl','rb') as f :\n",
    "    model = pickle.load(f) # 머신러닝 뇌  결과 출력 "
   ]
  },
  {
   "cell_type": "code",
   "execution_count": 7,
   "id": "f8f0ed47-4da5-4343-b9c6-54967ca3e1f6",
   "metadata": {},
   "outputs": [],
   "source": [
    "predict = model.predict(df2)"
   ]
  },
  {
   "cell_type": "code",
   "execution_count": 8,
   "id": "e7606655-8df5-42ed-b6ab-56cb0b7673df",
   "metadata": {},
   "outputs": [
    {
     "name": "stdout",
     "output_type": "stream",
     "text": [
      "당뇨가 없습니다.\n"
     ]
    }
   ],
   "source": [
    "if predict == 0 :\n",
    "    print('당뇨가 없습니다.')\n",
    "else :\n",
    "    print('당뇨위험')"
   ]
  },
  {
   "cell_type": "code",
   "execution_count": null,
   "id": "1582b67c-bac0-41b8-9bd9-2b57b25b46c8",
   "metadata": {},
   "outputs": [],
   "source": []
  },
  {
   "cell_type": "code",
   "execution_count": null,
   "id": "78c09d6d-6be6-4c9b-9a3f-f2c54d483bc9",
   "metadata": {},
   "outputs": [],
   "source": []
  },
  {
   "cell_type": "code",
   "execution_count": null,
   "id": "27ca1c63-c2c8-4114-9333-b5403cdc4f18",
   "metadata": {},
   "outputs": [],
   "source": []
  },
  {
   "cell_type": "code",
   "execution_count": null,
   "id": "0fd5de4f-74a2-46e2-90a9-61f9c380f702",
   "metadata": {},
   "outputs": [],
   "source": []
  }
 ],
 "metadata": {
  "kernelspec": {
   "display_name": "Python 3 (ipykernel)",
   "language": "python",
   "name": "python3"
  },
  "language_info": {
   "codemirror_mode": {
    "name": "ipython",
    "version": 3
   },
   "file_extension": ".py",
   "mimetype": "text/x-python",
   "name": "python",
   "nbconvert_exporter": "python",
   "pygments_lexer": "ipython3",
   "version": "3.9.12"
  }
 },
 "nbformat": 4,
 "nbformat_minor": 5
}
