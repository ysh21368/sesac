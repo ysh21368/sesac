{
 "cells": [
  {
   "cell_type": "code",
   "execution_count": null,
   "id": "a88db6cf-b6ab-4641-aa9b-f2c081187883",
   "metadata": {},
   "outputs": [],
   "source": [
    "# 오전 수업"
   ]
  },
  {
   "cell_type": "markdown",
   "id": "b178bee3-4c40-48e9-b3cd-d549d8a79bc1",
   "metadata": {},
   "source": [
    "22-10-27(목)\n",
    "1. 총 구매 금액의 평균 -> 전체 데이터 셋에서 평균 금액\n",
    "2. 웹 사이트 언어로 영어(EN)을 쓰는 사람의 수 \n",
    "3. 고객들의 직업 수 \n",
    "4. 직업별 구매 금액의 합이 가장 높은 직업은?\n",
    "5. 직업별 구매 금액의 합이 가장 낮은 직업은?\n",
    "6. 가장 많은 구매(횟수)를 한 직업은? -> count를 해줘야 된다.(?)\n",
    "7. bondellen@williams-garza.com인 이메일 주소를 가진 사용자의 구매 금액은?\n",
    "8. MasterCard를 사용했으며 50달러 이상 구매한 사용자는 몇 명인가?\n",
    "9. 윈도우를 사용하는 사용자는 몇 명(Browser Info)인가?\n",
    "10. 전체 사용자 중 윈도우, Linux, Mac 운영체제를 사용하는 사용자의 바율은?"
   ]
  },
  {
   "cell_type": "markdown",
   "id": "0c64976c-1aae-4981-9116-d86123de0955",
   "metadata": {},
   "source": [
    "9번 풀 때 Tips\n",
    "df['Company'].str.contains('Herman')\n",
    "\n",
    "\n",
    "'test'.contains('This is a Test')"
   ]
  },
  {
   "cell_type": "code",
   "execution_count": null,
   "id": "8200c61c-61bc-4ccb-8434-1d29ee6a7d3e",
   "metadata": {},
   "outputs": [],
   "source": [
    "import pandas as pd"
   ]
  },
  {
   "cell_type": "code",
   "execution_count": null,
   "id": "ede3e777-58ab-456e-b52c-8eb14ad2a9c5",
   "metadata": {},
   "outputs": [],
   "source": [
    "df = pd.read_csv('ecommerse.csv')"
   ]
  },
  {
   "cell_type": "code",
   "execution_count": null,
   "id": "a589d284-2675-4423-8661-0bdeed4a4f15",
   "metadata": {},
   "outputs": [],
   "source": [
    "df.head(1)"
   ]
  },
  {
   "cell_type": "markdown",
   "id": "144f917b-1b5f-47b3-a04b-84a482dccbd7",
   "metadata": {},
   "source": [
    "Browser Info란 무엇인가? (운영체제, 브라우저 종류를 알 수 있음) -> 크롤링 할 때 또 나온다."
   ]
  },
  {
   "cell_type": "code",
   "execution_count": null,
   "id": "50981051-ef18-4aee-b874-c9fa480ab594",
   "metadata": {},
   "outputs": [],
   "source": [
    "df.head()"
   ]
  },
  {
   "cell_type": "code",
   "execution_count": null,
   "id": "7a2a25a0-9883-4b68-9f5f-a3376a022ced",
   "metadata": {},
   "outputs": [],
   "source": [
    "# 1. 총 구매 금액의 평균"
   ]
  },
  {
   "cell_type": "code",
   "execution_count": null,
   "id": "04fda1bf-ddf8-4375-ba81-0fd20a6b8cb3",
   "metadata": {},
   "outputs": [],
   "source": [
    "df['Purchase Price'].mean()"
   ]
  },
  {
   "cell_type": "code",
   "execution_count": null,
   "id": "8a9ee49c-0449-4ee2-bb45-0d260aeaad83",
   "metadata": {},
   "outputs": [],
   "source": [
    "# 2. 웹 사이트 언어로 영어(EN)를 쓰는 사람의 수는? 1098"
   ]
  },
  {
   "cell_type": "code",
   "execution_count": null,
   "id": "844c7ee9-0692-4aa9-9697-ca9c464c49d6",
   "metadata": {},
   "outputs": [],
   "source": [
    "len(df[df['Language'] == 'en'])"
   ]
  },
  {
   "cell_type": "code",
   "execution_count": null,
   "id": "e40ef8a2-8f8f-45fa-9458-2422c8c81798",
   "metadata": {},
   "outputs": [],
   "source": [
    "df['Language'].value_counts()"
   ]
  },
  {
   "cell_type": "code",
   "execution_count": null,
   "id": "29792a71-0689-445f-8b64-28e09461d48a",
   "metadata": {},
   "outputs": [],
   "source": [
    "df['Language'].unique()"
   ]
  },
  {
   "cell_type": "code",
   "execution_count": null,
   "id": "bd699689-84da-4bbb-a1e4-2644a9fb67f0",
   "metadata": {},
   "outputs": [],
   "source": [
    "# 3. 고객들의 직업 수는? 623개"
   ]
  },
  {
   "cell_type": "code",
   "execution_count": null,
   "id": "9424841e-8e56-444a-95f8-9dabf8cf5f16",
   "metadata": {},
   "outputs": [],
   "source": [
    "df['Job'].value_counts()"
   ]
  },
  {
   "cell_type": "code",
   "execution_count": null,
   "id": "7bf26780-d7ef-41ab-bed7-80da43d24162",
   "metadata": {},
   "outputs": [],
   "source": [
    "# 4. 직업별 구매 금액의 합이 가장 높은 직업은?"
   ]
  },
  {
   "cell_type": "code",
   "execution_count": null,
   "id": "346a50ae-33de-49f3-bf35-7443c356279a",
   "metadata": {},
   "outputs": [],
   "source": [
    "df.groupby('Job').sum().sort_values('Purchase Price', ascending=False).head(1)"
   ]
  },
  {
   "cell_type": "markdown",
   "id": "f55853d2-19b8-4e16-a154-2b8f94c7b205",
   "metadata": {},
   "source": [
    "df.groupby('Job')['Purchase Price'].sum().head(1) -> .sort_values()를 꼭 써줘야 우선순위를 정할 수 있음 !!!!! "
   ]
  },
  {
   "cell_type": "code",
   "execution_count": null,
   "id": "9a4729d8-e4bb-4714-ae7b-b6b1d977fc28",
   "metadata": {},
   "outputs": [],
   "source": [
    "# 5. 직업별 구매 금액의 합이 가장 낮은 직업은?"
   ]
  },
  {
   "cell_type": "code",
   "execution_count": null,
   "id": "90afcd4c-3f92-43c3-87f6-2eb29a53f217",
   "metadata": {},
   "outputs": [],
   "source": [
    "df.groupby('Job')['Purchase Price'].sum()"
   ]
  },
  {
   "cell_type": "code",
   "execution_count": null,
   "id": "5a7e5c2a-58fc-4f26-a41f-a3022514b18b",
   "metadata": {},
   "outputs": [],
   "source": [
    "df['Job'] "
   ]
  },
  {
   "cell_type": "code",
   "execution_count": null,
   "id": "7633caec-2efa-4ec0-a756-e0f793c4ff87",
   "metadata": {},
   "outputs": [],
   "source": [
    "df['Job'].sort_values()"
   ]
  },
  {
   "cell_type": "code",
   "execution_count": null,
   "id": "91c083cd-cc2a-4dde-9650-8788d8fd3efb",
   "metadata": {},
   "outputs": [],
   "source": [
    "df['Job'] == 'Drilling engineer'"
   ]
  },
  {
   "cell_type": "code",
   "execution_count": null,
   "id": "0762cec0-59ad-4684-9201-35df55caf579",
   "metadata": {},
   "outputs": [],
   "source": [
    "# 강사님 풀이"
   ]
  },
  {
   "cell_type": "code",
   "execution_count": null,
   "id": "56872255-80ba-4244-9fb5-ea4dd23dbc01",
   "metadata": {},
   "outputs": [],
   "source": [
    "# 1. 총 구매 금액의 평균"
   ]
  },
  {
   "cell_type": "code",
   "execution_count": null,
   "id": "da99c14f-4b10-441a-920b-a701747eb2dd",
   "metadata": {},
   "outputs": [],
   "source": [
    "df.columns"
   ]
  },
  {
   "cell_type": "code",
   "execution_count": null,
   "id": "afd195b0-5354-4e1d-99ba-70dd74f05c6a",
   "metadata": {},
   "outputs": [],
   "source": [
    "df['Purchase Price'].mean()"
   ]
  },
  {
   "cell_type": "code",
   "execution_count": null,
   "id": "fe22829d-3a3f-4a7d-8024-4b0b2a501541",
   "metadata": {},
   "outputs": [],
   "source": [
    "# 2. 웹 사이트 언어로 영어(EN)을 쓰는 사람의 수 "
   ]
  },
  {
   "cell_type": "code",
   "execution_count": null,
   "id": "3d04219a-98ea-4184-8e37-d6303f4ae1b8",
   "metadata": {},
   "outputs": [],
   "source": [
    "df['Language'].unique()"
   ]
  },
  {
   "cell_type": "code",
   "execution_count": null,
   "id": "aeb43c97-b58b-441c-abfd-71cc5ee9fd3f",
   "metadata": {
    "tags": []
   },
   "outputs": [],
   "source": [
    "len(df[df['Language'] == 'en'])"
   ]
  },
  {
   "cell_type": "code",
   "execution_count": null,
   "id": "4ee573c1-ea5f-4c79-98d1-6a25eb328b75",
   "metadata": {},
   "outputs": [],
   "source": [
    "len(df[df['Language'].str.upper() == 'EN'])"
   ]
  },
  {
   "cell_type": "code",
   "execution_count": null,
   "id": "57a80ce7-8762-4faf-a70d-20692d0089c4",
   "metadata": {},
   "outputs": [],
   "source": [
    "user_in = input('언어를 입력해주세요 (EN, EL)')"
   ]
  },
  {
   "cell_type": "code",
   "execution_count": null,
   "id": "1fe24349-2620-40a3-8f98-ce51eba2c5c6",
   "metadata": {},
   "outputs": [],
   "source": [
    "len(df[df['Language'].str.upper() == user_in.lower()]) #??????????????????????????????????"
   ]
  },
  {
   "cell_type": "code",
   "execution_count": null,
   "id": "5d42d11f-6fa2-458e-b0ed-0c52a51ba308",
   "metadata": {},
   "outputs": [],
   "source": [
    "# 3. 고객들의 직업 수는? 623개"
   ]
  },
  {
   "cell_type": "code",
   "execution_count": null,
   "id": "e54a4b51-41e4-4f97-a104-7f578f0e0768",
   "metadata": {
    "tags": []
   },
   "outputs": [],
   "source": [
    "df['Job'].unique()"
   ]
  },
  {
   "cell_type": "code",
   "execution_count": null,
   "id": "f01fa2fc-c260-401f-81ba-fcdc0e27433d",
   "metadata": {},
   "outputs": [],
   "source": [
    "len(df['Job'].unique())"
   ]
  },
  {
   "cell_type": "code",
   "execution_count": null,
   "id": "383fa7bc-f3a4-4fbe-beef-ea0252278b0e",
   "metadata": {},
   "outputs": [],
   "source": [
    "# 4. 직업별 구매 금액의 합이 가장 높은 직업은?"
   ]
  },
  {
   "cell_type": "code",
   "execution_count": null,
   "id": "d2ab2378-15c6-4750-b50b-2f1cb8522e78",
   "metadata": {
    "tags": []
   },
   "outputs": [],
   "source": [
    "df[['Job', 'Purchase Price']]"
   ]
  },
  {
   "cell_type": "code",
   "execution_count": null,
   "id": "04c62e46-fd53-43e2-b223-796977050ed7",
   "metadata": {},
   "outputs": [],
   "source": [
    "df.groupby('Job')['Purchase Price'].sum()"
   ]
  },
  {
   "cell_type": "code",
   "execution_count": null,
   "id": "c2a32f75-efea-4c67-860a-c0ea229b04e4",
   "metadata": {},
   "outputs": [],
   "source": [
    "df.groupby('Job')['Purchase Price'].sum().sort_values(ascending=False).head(1)"
   ]
  },
  {
   "cell_type": "code",
   "execution_count": null,
   "id": "2a938250-487c-4b49-a933-d7bc644f0539",
   "metadata": {},
   "outputs": [],
   "source": [
    "df.groupby('Job')['Purchase Price'].sum().sort_values(ascending=False).index"
   ]
  },
  {
   "cell_type": "code",
   "execution_count": null,
   "id": "e5eecd4f-ed2c-41aa-9f00-b019bea7fabd",
   "metadata": {},
   "outputs": [],
   "source": [
    "df.groupby('Job')['Purchase Price'].sum().sort_values(ascending=False).index[0]"
   ]
  },
  {
   "cell_type": "code",
   "execution_count": null,
   "id": "3d479b17-4021-4098-890e-1af4d270b823",
   "metadata": {},
   "outputs": [],
   "source": [
    "df.groupby('Job')['Purchase Price'].sum().sort_values(ascending=False).values[0]"
   ]
  },
  {
   "cell_type": "code",
   "execution_count": null,
   "id": "141d046a-9514-4444-870b-917dfc872822",
   "metadata": {},
   "outputs": [],
   "source": [
    "# 5. 직업별 구매 금액의 합이 가장 낮은 직업은?"
   ]
  },
  {
   "cell_type": "code",
   "execution_count": null,
   "id": "dd5039d8-0a0a-48c1-9dee-ebc0ebb6faa1",
   "metadata": {},
   "outputs": [],
   "source": [
    "df.groupby('Job')['Purchase Price'].sum().sort_values().head(1)"
   ]
  },
  {
   "cell_type": "code",
   "execution_count": null,
   "id": "939307e3-0795-4a74-82c6-9d21c11d433b",
   "metadata": {},
   "outputs": [],
   "source": [
    "df.groupby('Job')['Purchase Price'].sum().sort_values().index[0]"
   ]
  },
  {
   "cell_type": "code",
   "execution_count": null,
   "id": "6b8f9c3d-7bac-47fc-b942-b30d72db15c3",
   "metadata": {},
   "outputs": [],
   "source": [
    "df.groupby('Job')['Purchase Price'].sum().sort_values().values[0]"
   ]
  },
  {
   "cell_type": "code",
   "execution_count": null,
   "id": "90796481-ad7f-4889-9745-3cbf11317259",
   "metadata": {},
   "outputs": [],
   "source": [
    "# 6. 가장 많은 구매(횟수)를 한 직업은?"
   ]
  },
  {
   "cell_type": "code",
   "execution_count": null,
   "id": "b5ace898-c266-4ca3-a72f-fd0fdda42d87",
   "metadata": {},
   "outputs": [],
   "source": [
    "df.groupby('Job')['Purchase Price'].count().sort_values()"
   ]
  },
  {
   "cell_type": "code",
   "execution_count": null,
   "id": "d4f137f8-3360-48a7-9313-5608c04659d8",
   "metadata": {},
   "outputs": [],
   "source": [
    "df['Job'].value_counts().head(1)"
   ]
  },
  {
   "cell_type": "code",
   "execution_count": null,
   "id": "400c1a67-098a-4027-998b-16b45704ee3a",
   "metadata": {},
   "outputs": [],
   "source": [
    "df['Job'].value_counts().index[0]"
   ]
  },
  {
   "cell_type": "code",
   "execution_count": null,
   "id": "c524debf-9a97-4ed4-bde7-348002866c26",
   "metadata": {},
   "outputs": [],
   "source": [
    "df['Job'].value_counts().values[0]"
   ]
  },
  {
   "cell_type": "code",
   "execution_count": null,
   "id": "50a513f5-f340-4180-91d3-d2fa1bcf603b",
   "metadata": {},
   "outputs": [],
   "source": [
    "# 7. bondellen@williams-garza.com인 이메일 주소를 가진 사용자의 구매 금액은?"
   ]
  },
  {
   "cell_type": "code",
   "execution_count": null,
   "id": "cc6ff917-a141-4337-9199-fe04f44e5a7d",
   "metadata": {},
   "outputs": [],
   "source": [
    "df.columns"
   ]
  },
  {
   "cell_type": "code",
   "execution_count": null,
   "id": "2147ad55-887d-4dab-bf61-419d7a5f327a",
   "metadata": {},
   "outputs": [],
   "source": [
    "df[df['Email'] == 'bondellen@williams-garza.com']['Purchase Price'].values[0]"
   ]
  },
  {
   "cell_type": "code",
   "execution_count": null,
   "id": "8163513f-61a1-4eb5-855c-8fdf1abfc792",
   "metadata": {},
   "outputs": [],
   "source": [
    "df[df['Email'].str.lower() == 'bondellen@williams-garza.com'.lower()]['Purchase Price'].values[0]"
   ]
  },
  {
   "cell_type": "code",
   "execution_count": null,
   "id": "046ae935-d723-4a5c-8c06-63d28d77b365",
   "metadata": {},
   "outputs": [],
   "source": [
    "# 8. MasterCard를 사용했으며 50달러 이상 구매한 사용자는 몇 명인가?"
   ]
  },
  {
   "cell_type": "code",
   "execution_count": null,
   "id": "a6bf365b-4082-4a7d-a27d-ada425d132e3",
   "metadata": {},
   "outputs": [],
   "source": [
    "df['CC Provider'].unique()"
   ]
  },
  {
   "cell_type": "code",
   "execution_count": null,
   "id": "6c15ba32-f8d4-4335-8708-d4b4fe0a6f89",
   "metadata": {},
   "outputs": [],
   "source": [
    "len(df[(df['CC Provider'].str.lower() == 'MasterCard'.lower()) & (df['Purchase Price'] >= 50)])"
   ]
  },
  {
   "cell_type": "code",
   "execution_count": null,
   "id": "f9ff7f95-8d75-47c4-b190-e822b18cf48f",
   "metadata": {},
   "outputs": [],
   "source": [
    "# 9. 윈도우를 사용하는 사용자는 몇 명(Browser Info)(=Agent Users)인가? #데이터 분석가는 도메인 지식을 많이 쌓아야한다."
   ]
  },
  {
   "cell_type": "code",
   "execution_count": null,
   "id": "f4d38326-7c12-433c-99cb-914b8fe12781",
   "metadata": {},
   "outputs": [],
   "source": [
    "df['Browser Info']"
   ]
  },
  {
   "cell_type": "code",
   "execution_count": null,
   "id": "7a82dc96-9700-4077-94c5-33aa6237c6f0",
   "metadata": {},
   "outputs": [],
   "source": [
    "df[df['Browser Info'].str.lower().str.contains('windows')] #contains은 ()안에 들어 있는 단어가 []에 있냐?를 할 때 사용"
   ]
  },
  {
   "cell_type": "code",
   "execution_count": null,
   "id": "af0df4b7-bd4c-4171-a3a3-14dfd8da3078",
   "metadata": {},
   "outputs": [],
   "source": [
    "len(df[df['Browser Info'].str.lower().str.contains('windows')])"
   ]
  },
  {
   "cell_type": "code",
   "execution_count": null,
   "id": "8e3b3123-f874-4d0d-92a1-5b9b43769126",
   "metadata": {},
   "outputs": [],
   "source": [
    "# 10. 전체 사용자 중 윈도우, Linux, Mac 운영체제를 사용하는 사용자의 바율은?"
   ]
  },
  {
   "cell_type": "code",
   "execution_count": null,
   "id": "830db520-c2b5-41e3-9cbd-b054c0f83cfc",
   "metadata": {
    "tags": []
   },
   "outputs": [],
   "source": [
    "df[df['Browser Info'].str.lower().str.contains('windows')]"
   ]
  },
  {
   "cell_type": "markdown",
   "id": "f5eba668-dce0-4ec6-b403-b384fbb0f17e",
   "metadata": {},
   "source": [
    "== windows\n",
    "contains\n",
    "두개는 다른 뜻이다."
   ]
  },
  {
   "cell_type": "code",
   "execution_count": null,
   "id": "5cfdcf47-e5d7-4bbd-86f7-679dcdbe70d9",
   "metadata": {},
   "outputs": [],
   "source": [
    "windows = len(df[df['Browser Info'].str.lower().str.contains('windows')])"
   ]
  },
  {
   "cell_type": "code",
   "execution_count": null,
   "id": "25497b9c-2919-4e97-b751-323c3bfa9d51",
   "metadata": {},
   "outputs": [],
   "source": [
    "w = windows / len(df) * 100"
   ]
  },
  {
   "cell_type": "code",
   "execution_count": null,
   "id": "b733b624-0e67-4050-9f6e-a4d9d5ef8766",
   "metadata": {},
   "outputs": [],
   "source": [
    "print(w)"
   ]
  },
  {
   "cell_type": "code",
   "execution_count": null,
   "id": "ab8f7223-0e15-40d7-8d66-1bd67ed536df",
   "metadata": {},
   "outputs": [],
   "source": [
    "linux = len(df[df['Browser Info'].str.lower().str.contains('linux')])"
   ]
  },
  {
   "cell_type": "code",
   "execution_count": null,
   "id": "71bd7f9f-5424-4968-b6c6-e9cd691b204d",
   "metadata": {},
   "outputs": [],
   "source": [
    "l = linux / len(df) * 100"
   ]
  },
  {
   "cell_type": "code",
   "execution_count": null,
   "id": "5379c1c9-ce13-4890-b68a-4867695f9343",
   "metadata": {},
   "outputs": [],
   "source": [
    "print(l)"
   ]
  },
  {
   "cell_type": "code",
   "execution_count": null,
   "id": "549ed1db-7f81-480d-9935-bb8abfc4a960",
   "metadata": {},
   "outputs": [],
   "source": [
    "mac = len(df[df['Browser Info'].str.lower().str.contains('mac')])"
   ]
  },
  {
   "cell_type": "code",
   "execution_count": null,
   "id": "bc99116d-171d-4ba4-b704-02118d308b38",
   "metadata": {},
   "outputs": [],
   "source": [
    "m = mac / len(df) * 100"
   ]
  },
  {
   "cell_type": "code",
   "execution_count": null,
   "id": "11208599-ba3b-460f-ba6d-85a886e33377",
   "metadata": {},
   "outputs": [],
   "source": [
    "print(m)"
   ]
  },
  {
   "cell_type": "code",
   "execution_count": null,
   "id": "fcc02431-3e23-4c95-863d-6675f03e1648",
   "metadata": {},
   "outputs": [],
   "source": [
    "w + l + m"
   ]
  },
  {
   "cell_type": "code",
   "execution_count": null,
   "id": "5de40588-4cbd-44ad-a9c1-8951abffa6ad",
   "metadata": {},
   "outputs": [],
   "source": [
    "for os in ['window', 'linux', 'mac'] :\n",
    "    p = len(df[df['Browser Info'].str.lower().str.contains(os)])\n",
    "    print(f'%6s %.2f'%(os, p/len(df)*100))"
   ]
  },
  {
   "cell_type": "code",
   "execution_count": null,
   "id": "3c71174e-6445-4d57-95b7-4353a2c8579c",
   "metadata": {},
   "outputs": [],
   "source": []
  },
  {
   "cell_type": "markdown",
   "id": "bdc5353f-dc50-4482-b369-2e8e2f962494",
   "metadata": {},
   "source": [
    "print(f'%.100f'%123.45)"
   ]
  },
  {
   "cell_type": "code",
   "execution_count": null,
   "id": "6777cd14-6154-4fa3-baf6-a3716f2414e7",
   "metadata": {},
   "outputs": [],
   "source": []
  },
  {
   "cell_type": "code",
   "execution_count": null,
   "id": "70a74b45-0d99-44aa-9b53-4ea172d95486",
   "metadata": {},
   "outputs": [],
   "source": [
    "# 오후 수업"
   ]
  },
  {
   "cell_type": "code",
   "execution_count": 1,
   "id": "a38abae0-7217-4197-bcee-6eb8729fc61d",
   "metadata": {},
   "outputs": [],
   "source": [
    "import pandas as pd"
   ]
  },
  {
   "cell_type": "code",
   "execution_count": 2,
   "id": "797da540-e72d-4a4b-864e-bf8bb19970c2",
   "metadata": {},
   "outputs": [],
   "source": [
    "df = pd.DataFrame({'gender' : ['M', 'F', None, 'M', 'F'],\n",
    "                   'score' : [5, 4, 3, 4, None]})"
   ]
  },
  {
   "cell_type": "code",
   "execution_count": 3,
   "id": "7ed80425-2af8-4076-984f-04463be15b7a",
   "metadata": {},
   "outputs": [
    {
     "data": {
      "text/html": [
       "<div>\n",
       "<style scoped>\n",
       "    .dataframe tbody tr th:only-of-type {\n",
       "        vertical-align: middle;\n",
       "    }\n",
       "\n",
       "    .dataframe tbody tr th {\n",
       "        vertical-align: top;\n",
       "    }\n",
       "\n",
       "    .dataframe thead th {\n",
       "        text-align: right;\n",
       "    }\n",
       "</style>\n",
       "<table border=\"1\" class=\"dataframe\">\n",
       "  <thead>\n",
       "    <tr style=\"text-align: right;\">\n",
       "      <th></th>\n",
       "      <th>gender</th>\n",
       "      <th>score</th>\n",
       "    </tr>\n",
       "  </thead>\n",
       "  <tbody>\n",
       "    <tr>\n",
       "      <th>0</th>\n",
       "      <td>M</td>\n",
       "      <td>5.0</td>\n",
       "    </tr>\n",
       "    <tr>\n",
       "      <th>1</th>\n",
       "      <td>F</td>\n",
       "      <td>4.0</td>\n",
       "    </tr>\n",
       "    <tr>\n",
       "      <th>2</th>\n",
       "      <td>None</td>\n",
       "      <td>3.0</td>\n",
       "    </tr>\n",
       "    <tr>\n",
       "      <th>3</th>\n",
       "      <td>M</td>\n",
       "      <td>4.0</td>\n",
       "    </tr>\n",
       "    <tr>\n",
       "      <th>4</th>\n",
       "      <td>F</td>\n",
       "      <td>NaN</td>\n",
       "    </tr>\n",
       "  </tbody>\n",
       "</table>\n",
       "</div>"
      ],
      "text/plain": [
       "  gender  score\n",
       "0      M    5.0\n",
       "1      F    4.0\n",
       "2   None    3.0\n",
       "3      M    4.0\n",
       "4      F    NaN"
      ]
     },
     "execution_count": 3,
     "metadata": {},
     "output_type": "execute_result"
    }
   ],
   "source": [
    "df"
   ]
  },
  {
   "cell_type": "code",
   "execution_count": 4,
   "id": "8c56145c-0bcc-4acc-a618-5a0b35237c34",
   "metadata": {},
   "outputs": [],
   "source": [
    "df.to_csv('score.scv',index=False)"
   ]
  },
  {
   "cell_type": "code",
   "execution_count": 5,
   "id": "76ab36a2-16ed-45a1-aa73-6468992eaa8e",
   "metadata": {
    "tags": []
   },
   "outputs": [],
   "source": [
    "data = pd.read_csv('score.scv')"
   ]
  },
  {
   "cell_type": "code",
   "execution_count": 6,
   "id": "1b3d504c-86ab-4734-bbb9-b955e271bdad",
   "metadata": {},
   "outputs": [
    {
     "name": "stdout",
     "output_type": "stream",
     "text": [
      "<class 'pandas.core.frame.DataFrame'>\n",
      "RangeIndex: 5 entries, 0 to 4\n",
      "Data columns (total 2 columns):\n",
      " #   Column  Non-Null Count  Dtype  \n",
      "---  ------  --------------  -----  \n",
      " 0   gender  4 non-null      object \n",
      " 1   score   4 non-null      float64\n",
      "dtypes: float64(1), object(1)\n",
      "memory usage: 208.0+ bytes\n"
     ]
    }
   ],
   "source": [
    "data.info() #null 값을 확인할 수 있음"
   ]
  },
  {
   "cell_type": "code",
   "execution_count": 7,
   "id": "30b7ed60-39ea-49bd-9fa5-0631dbd41674",
   "metadata": {},
   "outputs": [
    {
     "data": {
      "text/plain": [
       "gender    1\n",
       "score     1\n",
       "dtype: int64"
      ]
     },
     "execution_count": 7,
     "metadata": {},
     "output_type": "execute_result"
    }
   ],
   "source": [
    "data.isnull().sum()"
   ]
  },
  {
   "cell_type": "code",
   "execution_count": 8,
   "id": "d73d2f2b-8851-499e-920e-7cd8dcb956a0",
   "metadata": {},
   "outputs": [
    {
     "data": {
      "text/html": [
       "<div>\n",
       "<style scoped>\n",
       "    .dataframe tbody tr th:only-of-type {\n",
       "        vertical-align: middle;\n",
       "    }\n",
       "\n",
       "    .dataframe tbody tr th {\n",
       "        vertical-align: top;\n",
       "    }\n",
       "\n",
       "    .dataframe thead th {\n",
       "        text-align: right;\n",
       "    }\n",
       "</style>\n",
       "<table border=\"1\" class=\"dataframe\">\n",
       "  <thead>\n",
       "    <tr style=\"text-align: right;\">\n",
       "      <th></th>\n",
       "      <th>gender</th>\n",
       "      <th>score</th>\n",
       "    </tr>\n",
       "  </thead>\n",
       "  <tbody>\n",
       "    <tr>\n",
       "      <th>0</th>\n",
       "      <td>M</td>\n",
       "      <td>5.0</td>\n",
       "    </tr>\n",
       "    <tr>\n",
       "      <th>1</th>\n",
       "      <td>F</td>\n",
       "      <td>4.0</td>\n",
       "    </tr>\n",
       "    <tr>\n",
       "      <th>2</th>\n",
       "      <td>NaN</td>\n",
       "      <td>3.0</td>\n",
       "    </tr>\n",
       "    <tr>\n",
       "      <th>3</th>\n",
       "      <td>M</td>\n",
       "      <td>4.0</td>\n",
       "    </tr>\n",
       "    <tr>\n",
       "      <th>4</th>\n",
       "      <td>F</td>\n",
       "      <td>NaN</td>\n",
       "    </tr>\n",
       "  </tbody>\n",
       "</table>\n",
       "</div>"
      ],
      "text/plain": [
       "  gender  score\n",
       "0      M    5.0\n",
       "1      F    4.0\n",
       "2    NaN    3.0\n",
       "3      M    4.0\n",
       "4      F    NaN"
      ]
     },
     "execution_count": 8,
     "metadata": {},
     "output_type": "execute_result"
    }
   ],
   "source": [
    "data"
   ]
  },
  {
   "cell_type": "code",
   "execution_count": 9,
   "id": "04b69ca4-afd6-4b17-9544-8fe789f72d65",
   "metadata": {},
   "outputs": [
    {
     "data": {
      "text/html": [
       "<div>\n",
       "<style scoped>\n",
       "    .dataframe tbody tr th:only-of-type {\n",
       "        vertical-align: middle;\n",
       "    }\n",
       "\n",
       "    .dataframe tbody tr th {\n",
       "        vertical-align: top;\n",
       "    }\n",
       "\n",
       "    .dataframe thead th {\n",
       "        text-align: right;\n",
       "    }\n",
       "</style>\n",
       "<table border=\"1\" class=\"dataframe\">\n",
       "  <thead>\n",
       "    <tr style=\"text-align: right;\">\n",
       "      <th></th>\n",
       "      <th>gender</th>\n",
       "      <th>score</th>\n",
       "    </tr>\n",
       "  </thead>\n",
       "  <tbody>\n",
       "    <tr>\n",
       "      <th>0</th>\n",
       "      <td>M</td>\n",
       "      <td>5.0</td>\n",
       "    </tr>\n",
       "    <tr>\n",
       "      <th>1</th>\n",
       "      <td>F</td>\n",
       "      <td>4.0</td>\n",
       "    </tr>\n",
       "    <tr>\n",
       "      <th>3</th>\n",
       "      <td>M</td>\n",
       "      <td>4.0</td>\n",
       "    </tr>\n",
       "  </tbody>\n",
       "</table>\n",
       "</div>"
      ],
      "text/plain": [
       "  gender  score\n",
       "0      M    5.0\n",
       "1      F    4.0\n",
       "3      M    4.0"
      ]
     },
     "execution_count": 9,
     "metadata": {},
     "output_type": "execute_result"
    }
   ],
   "source": [
    "data.dropna() # null 값이 있는 행 데이터 모두 삭제"
   ]
  },
  {
   "cell_type": "code",
   "execution_count": 10,
   "id": "a38a0874-d06a-41dc-b7f6-efab9e441b3e",
   "metadata": {},
   "outputs": [
    {
     "data": {
      "text/html": [
       "<div>\n",
       "<style scoped>\n",
       "    .dataframe tbody tr th:only-of-type {\n",
       "        vertical-align: middle;\n",
       "    }\n",
       "\n",
       "    .dataframe tbody tr th {\n",
       "        vertical-align: top;\n",
       "    }\n",
       "\n",
       "    .dataframe thead th {\n",
       "        text-align: right;\n",
       "    }\n",
       "</style>\n",
       "<table border=\"1\" class=\"dataframe\">\n",
       "  <thead>\n",
       "    <tr style=\"text-align: right;\">\n",
       "      <th></th>\n",
       "      <th>gender</th>\n",
       "      <th>score</th>\n",
       "    </tr>\n",
       "  </thead>\n",
       "  <tbody>\n",
       "    <tr>\n",
       "      <th>0</th>\n",
       "      <td>M</td>\n",
       "      <td>5.0</td>\n",
       "    </tr>\n",
       "    <tr>\n",
       "      <th>1</th>\n",
       "      <td>F</td>\n",
       "      <td>4.0</td>\n",
       "    </tr>\n",
       "    <tr>\n",
       "      <th>3</th>\n",
       "      <td>M</td>\n",
       "      <td>4.0</td>\n",
       "    </tr>\n",
       "    <tr>\n",
       "      <th>4</th>\n",
       "      <td>F</td>\n",
       "      <td>NaN</td>\n",
       "    </tr>\n",
       "  </tbody>\n",
       "</table>\n",
       "</div>"
      ],
      "text/plain": [
       "  gender  score\n",
       "0      M    5.0\n",
       "1      F    4.0\n",
       "3      M    4.0\n",
       "4      F    NaN"
      ]
     },
     "execution_count": 10,
     "metadata": {},
     "output_type": "execute_result"
    }
   ],
   "source": [
    "data.dropna(subset = ['gender']) # 'gender'에 null 값이 있는 행 데이터 모두 삭제"
   ]
  },
  {
   "cell_type": "markdown",
   "id": "adffec08-9c60-4851-b439-3f1737adc8e8",
   "metadata": {},
   "source": [
    "#null 값을 가져오려고 하는 경우\n",
    "data[data.isnull()]"
   ]
  },
  {
   "cell_type": "markdown",
   "id": "e1aa6426-b1d0-4435-8e98-0eb99aad303b",
   "metadata": {},
   "source": [
    "Null, None, NA, NaN (모두 Null 값을 의미한다.)"
   ]
  },
  {
   "cell_type": "code",
   "execution_count": null,
   "id": "ca04583a-7149-4733-9249-d3cf0e97585a",
   "metadata": {},
   "outputs": [],
   "source": [
    "# Null 값을 대체하는 것 (p183) 결측치 관련"
   ]
  },
  {
   "cell_type": "code",
   "execution_count": 11,
   "id": "8f54f0bb-7ca4-4fc2-b990-9fabfa1d06cc",
   "metadata": {},
   "outputs": [
    {
     "data": {
      "text/plain": [
       "0    5.0\n",
       "1    4.0\n",
       "2    3.0\n",
       "3    4.0\n",
       "4    0.0\n",
       "Name: score, dtype: float64"
      ]
     },
     "execution_count": 11,
     "metadata": {},
     "output_type": "execute_result"
    }
   ],
   "source": [
    "data['score'].fillna(0)"
   ]
  },
  {
   "cell_type": "code",
   "execution_count": 12,
   "id": "5a30b166-5831-47da-9c15-d3296b3b6eb0",
   "metadata": {},
   "outputs": [],
   "source": [
    "data['score'].fillna(0, inplace=True)"
   ]
  },
  {
   "cell_type": "code",
   "execution_count": 13,
   "id": "80d3ea4e-346e-4faa-acb0-6ae0b3ac6bc4",
   "metadata": {},
   "outputs": [
    {
     "data": {
      "text/html": [
       "<div>\n",
       "<style scoped>\n",
       "    .dataframe tbody tr th:only-of-type {\n",
       "        vertical-align: middle;\n",
       "    }\n",
       "\n",
       "    .dataframe tbody tr th {\n",
       "        vertical-align: top;\n",
       "    }\n",
       "\n",
       "    .dataframe thead th {\n",
       "        text-align: right;\n",
       "    }\n",
       "</style>\n",
       "<table border=\"1\" class=\"dataframe\">\n",
       "  <thead>\n",
       "    <tr style=\"text-align: right;\">\n",
       "      <th></th>\n",
       "      <th>gender</th>\n",
       "      <th>score</th>\n",
       "    </tr>\n",
       "  </thead>\n",
       "  <tbody>\n",
       "    <tr>\n",
       "      <th>0</th>\n",
       "      <td>M</td>\n",
       "      <td>5.0</td>\n",
       "    </tr>\n",
       "    <tr>\n",
       "      <th>1</th>\n",
       "      <td>F</td>\n",
       "      <td>4.0</td>\n",
       "    </tr>\n",
       "    <tr>\n",
       "      <th>2</th>\n",
       "      <td>NaN</td>\n",
       "      <td>3.0</td>\n",
       "    </tr>\n",
       "    <tr>\n",
       "      <th>3</th>\n",
       "      <td>M</td>\n",
       "      <td>4.0</td>\n",
       "    </tr>\n",
       "    <tr>\n",
       "      <th>4</th>\n",
       "      <td>F</td>\n",
       "      <td>0.0</td>\n",
       "    </tr>\n",
       "  </tbody>\n",
       "</table>\n",
       "</div>"
      ],
      "text/plain": [
       "  gender  score\n",
       "0      M    5.0\n",
       "1      F    4.0\n",
       "2    NaN    3.0\n",
       "3      M    4.0\n",
       "4      F    0.0"
      ]
     },
     "execution_count": 13,
     "metadata": {},
     "output_type": "execute_result"
    }
   ],
   "source": [
    "data"
   ]
  },
  {
   "cell_type": "code",
   "execution_count": null,
   "id": "128b1d6b-f866-41b3-9905-0e383bd8e01f",
   "metadata": {},
   "outputs": [],
   "source": []
  },
  {
   "cell_type": "code",
   "execution_count": 14,
   "id": "770e92ad-c8cd-412d-9641-fa68e65a2d74",
   "metadata": {},
   "outputs": [],
   "source": [
    "import pandas as pd"
   ]
  },
  {
   "cell_type": "code",
   "execution_count": 15,
   "id": "1826eb02-8ae2-4906-a9dc-e4816b246e7c",
   "metadata": {},
   "outputs": [],
   "source": [
    "df = pd.DataFrame({'gender' : ['M', 'F', None, 'M', 'F'],\n",
    "                   'score' : [5, 4, 3, 4, None]})"
   ]
  },
  {
   "cell_type": "code",
   "execution_count": 16,
   "id": "99cabee6-2acd-4366-bda5-36d8d9dfec77",
   "metadata": {},
   "outputs": [],
   "source": [
    "data = pd.read_csv('score.scv')"
   ]
  },
  {
   "cell_type": "code",
   "execution_count": 17,
   "id": "f8b856c4-42f9-4515-bc59-2de939bdb9a7",
   "metadata": {},
   "outputs": [
    {
     "data": {
      "text/plain": [
       "0    5.0\n",
       "1    4.0\n",
       "2    3.0\n",
       "3    4.0\n",
       "4    4.0\n",
       "Name: score, dtype: float64"
      ]
     },
     "execution_count": 17,
     "metadata": {},
     "output_type": "execute_result"
    }
   ],
   "source": [
    "data['score'].fillna(data['score'].mean())"
   ]
  },
  {
   "cell_type": "code",
   "execution_count": 18,
   "id": "8620b3c1-e74d-4491-b04f-aa396475f7d6",
   "metadata": {},
   "outputs": [
    {
     "data": {
      "text/plain": [
       "4.0"
      ]
     },
     "execution_count": 18,
     "metadata": {},
     "output_type": "execute_result"
    }
   ],
   "source": [
    "data['score'].mean()"
   ]
  },
  {
   "cell_type": "code",
   "execution_count": null,
   "id": "0c508289-8206-4bd6-a4d3-ca4b4b37c9e5",
   "metadata": {},
   "outputs": [],
   "source": [
    "#평균은 이상치에 많은 영향을 받아서, 주로 중앙값을 자주 사용한다."
   ]
  },
  {
   "cell_type": "code",
   "execution_count": 19,
   "id": "da9c3319-1508-4e21-95ce-32979a0a8b94",
   "metadata": {},
   "outputs": [
    {
     "data": {
      "text/plain": [
       "4.0"
      ]
     },
     "execution_count": 19,
     "metadata": {},
     "output_type": "execute_result"
    }
   ],
   "source": [
    "data['score'].median()"
   ]
  },
  {
   "cell_type": "code",
   "execution_count": 20,
   "id": "98179273-ca85-4143-a542-c2d9470b872e",
   "metadata": {},
   "outputs": [
    {
     "data": {
      "text/html": [
       "<div>\n",
       "<style scoped>\n",
       "    .dataframe tbody tr th:only-of-type {\n",
       "        vertical-align: middle;\n",
       "    }\n",
       "\n",
       "    .dataframe tbody tr th {\n",
       "        vertical-align: top;\n",
       "    }\n",
       "\n",
       "    .dataframe thead th {\n",
       "        text-align: right;\n",
       "    }\n",
       "</style>\n",
       "<table border=\"1\" class=\"dataframe\">\n",
       "  <thead>\n",
       "    <tr style=\"text-align: right;\">\n",
       "      <th></th>\n",
       "      <th>gender</th>\n",
       "      <th>score</th>\n",
       "    </tr>\n",
       "  </thead>\n",
       "  <tbody>\n",
       "    <tr>\n",
       "      <th>0</th>\n",
       "      <td>M</td>\n",
       "      <td>5.0</td>\n",
       "    </tr>\n",
       "    <tr>\n",
       "      <th>1</th>\n",
       "      <td>F</td>\n",
       "      <td>4.0</td>\n",
       "    </tr>\n",
       "    <tr>\n",
       "      <th>2</th>\n",
       "      <td>NaN</td>\n",
       "      <td>3.0</td>\n",
       "    </tr>\n",
       "    <tr>\n",
       "      <th>3</th>\n",
       "      <td>M</td>\n",
       "      <td>4.0</td>\n",
       "    </tr>\n",
       "    <tr>\n",
       "      <th>4</th>\n",
       "      <td>F</td>\n",
       "      <td>NaN</td>\n",
       "    </tr>\n",
       "  </tbody>\n",
       "</table>\n",
       "</div>"
      ],
      "text/plain": [
       "  gender  score\n",
       "0      M    5.0\n",
       "1      F    4.0\n",
       "2    NaN    3.0\n",
       "3      M    4.0\n",
       "4      F    NaN"
      ]
     },
     "execution_count": 20,
     "metadata": {},
     "output_type": "execute_result"
    }
   ],
   "source": [
    "data"
   ]
  },
  {
   "cell_type": "code",
   "execution_count": null,
   "id": "f04525be-c6df-49c0-9187-43911dc01af5",
   "metadata": {
    "tags": []
   },
   "outputs": [],
   "source": [
    "#데이터 분석은 답이 없는 학문이다. (데이터 분석은 경험을 많이 할 수록 좋음, 즉, 데이터 분석은 경험적인 학문이다.)"
   ]
  },
  {
   "cell_type": "markdown",
   "id": "6111463f-adfa-426d-a376-089704106506",
   "metadata": {},
   "source": [
    "df['gender'] / M -> 1 F -> 2 / gender 비어잇는 곳에 3을 채우세요.\n",
    "df['score'] -> score 비어 있는 곳에 50을 채우세요."
   ]
  },
  {
   "cell_type": "code",
   "execution_count": 23,
   "id": "87cbd2e9-5ce5-4de0-bde0-b567c10a824f",
   "metadata": {},
   "outputs": [],
   "source": [
    "data['score'].fillna(0, inplace=True)"
   ]
  },
  {
   "cell_type": "code",
   "execution_count": 24,
   "id": "ed5cff23-6fe0-4a55-a5f5-7fe4117dbc6a",
   "metadata": {},
   "outputs": [
    {
     "data": {
      "text/html": [
       "<div>\n",
       "<style scoped>\n",
       "    .dataframe tbody tr th:only-of-type {\n",
       "        vertical-align: middle;\n",
       "    }\n",
       "\n",
       "    .dataframe tbody tr th {\n",
       "        vertical-align: top;\n",
       "    }\n",
       "\n",
       "    .dataframe thead th {\n",
       "        text-align: right;\n",
       "    }\n",
       "</style>\n",
       "<table border=\"1\" class=\"dataframe\">\n",
       "  <thead>\n",
       "    <tr style=\"text-align: right;\">\n",
       "      <th></th>\n",
       "      <th>gender</th>\n",
       "      <th>score</th>\n",
       "    </tr>\n",
       "  </thead>\n",
       "  <tbody>\n",
       "    <tr>\n",
       "      <th>0</th>\n",
       "      <td>M</td>\n",
       "      <td>5.0</td>\n",
       "    </tr>\n",
       "    <tr>\n",
       "      <th>1</th>\n",
       "      <td>F</td>\n",
       "      <td>4.0</td>\n",
       "    </tr>\n",
       "    <tr>\n",
       "      <th>2</th>\n",
       "      <td>NaN</td>\n",
       "      <td>3.0</td>\n",
       "    </tr>\n",
       "    <tr>\n",
       "      <th>3</th>\n",
       "      <td>M</td>\n",
       "      <td>4.0</td>\n",
       "    </tr>\n",
       "    <tr>\n",
       "      <th>4</th>\n",
       "      <td>F</td>\n",
       "      <td>0.0</td>\n",
       "    </tr>\n",
       "  </tbody>\n",
       "</table>\n",
       "</div>"
      ],
      "text/plain": [
       "  gender  score\n",
       "0      M    5.0\n",
       "1      F    4.0\n",
       "2    NaN    3.0\n",
       "3      M    4.0\n",
       "4      F    0.0"
      ]
     },
     "execution_count": 24,
     "metadata": {},
     "output_type": "execute_result"
    }
   ],
   "source": [
    "data"
   ]
  },
  {
   "cell_type": "code",
   "execution_count": 27,
   "id": "278a9b27-b447-4179-9265-2773fd3f516f",
   "metadata": {},
   "outputs": [
    {
     "data": {
      "text/plain": [
       "0       M\n",
       "1       F\n",
       "2    None\n",
       "3       M\n",
       "4       F\n",
       "Name: gender, dtype: object"
      ]
     },
     "execution_count": 27,
     "metadata": {},
     "output_type": "execute_result"
    }
   ],
   "source": [
    "df['gender']"
   ]
  },
  {
   "cell_type": "code",
   "execution_count": 29,
   "id": "116ccf9c-57d0-4401-836b-d891ae3ed08f",
   "metadata": {},
   "outputs": [],
   "source": [
    "gender_map = {'M':1, 'F':2}"
   ]
  },
  {
   "cell_type": "code",
   "execution_count": 31,
   "id": "a9dbfa71-39e9-4604-8a31-c5d16d586dda",
   "metadata": {},
   "outputs": [],
   "source": [
    "df['gender'] = df['gender'].map(gender_map)"
   ]
  },
  {
   "cell_type": "code",
   "execution_count": 32,
   "id": "b254cc3d-f699-4714-8c62-60328bf3e5c9",
   "metadata": {},
   "outputs": [],
   "source": [
    "df['gender'].fillna(3, inplace=True)"
   ]
  },
  {
   "cell_type": "code",
   "execution_count": 33,
   "id": "da45cfe4-135f-4dc4-87d0-1fde0cd821b5",
   "metadata": {},
   "outputs": [
    {
     "data": {
      "text/html": [
       "<div>\n",
       "<style scoped>\n",
       "    .dataframe tbody tr th:only-of-type {\n",
       "        vertical-align: middle;\n",
       "    }\n",
       "\n",
       "    .dataframe tbody tr th {\n",
       "        vertical-align: top;\n",
       "    }\n",
       "\n",
       "    .dataframe thead th {\n",
       "        text-align: right;\n",
       "    }\n",
       "</style>\n",
       "<table border=\"1\" class=\"dataframe\">\n",
       "  <thead>\n",
       "    <tr style=\"text-align: right;\">\n",
       "      <th></th>\n",
       "      <th>gender</th>\n",
       "      <th>score</th>\n",
       "    </tr>\n",
       "  </thead>\n",
       "  <tbody>\n",
       "    <tr>\n",
       "      <th>0</th>\n",
       "      <td>1.0</td>\n",
       "      <td>5.0</td>\n",
       "    </tr>\n",
       "    <tr>\n",
       "      <th>1</th>\n",
       "      <td>2.0</td>\n",
       "      <td>4.0</td>\n",
       "    </tr>\n",
       "    <tr>\n",
       "      <th>2</th>\n",
       "      <td>3.0</td>\n",
       "      <td>3.0</td>\n",
       "    </tr>\n",
       "    <tr>\n",
       "      <th>3</th>\n",
       "      <td>1.0</td>\n",
       "      <td>4.0</td>\n",
       "    </tr>\n",
       "    <tr>\n",
       "      <th>4</th>\n",
       "      <td>2.0</td>\n",
       "      <td>NaN</td>\n",
       "    </tr>\n",
       "  </tbody>\n",
       "</table>\n",
       "</div>"
      ],
      "text/plain": [
       "   gender  score\n",
       "0     1.0    5.0\n",
       "1     2.0    4.0\n",
       "2     3.0    3.0\n",
       "3     1.0    4.0\n",
       "4     2.0    NaN"
      ]
     },
     "execution_count": 33,
     "metadata": {},
     "output_type": "execute_result"
    }
   ],
   "source": [
    "df"
   ]
  },
  {
   "cell_type": "code",
   "execution_count": 34,
   "id": "68180e47-59d7-43c7-be5c-5a7e655c0283",
   "metadata": {},
   "outputs": [],
   "source": [
    "df['score'].fillna(50, inplace=True)"
   ]
  },
  {
   "cell_type": "code",
   "execution_count": 35,
   "id": "d6467aeb-05a7-4903-892e-fa8b0d49266e",
   "metadata": {},
   "outputs": [
    {
     "data": {
      "text/html": [
       "<div>\n",
       "<style scoped>\n",
       "    .dataframe tbody tr th:only-of-type {\n",
       "        vertical-align: middle;\n",
       "    }\n",
       "\n",
       "    .dataframe tbody tr th {\n",
       "        vertical-align: top;\n",
       "    }\n",
       "\n",
       "    .dataframe thead th {\n",
       "        text-align: right;\n",
       "    }\n",
       "</style>\n",
       "<table border=\"1\" class=\"dataframe\">\n",
       "  <thead>\n",
       "    <tr style=\"text-align: right;\">\n",
       "      <th></th>\n",
       "      <th>gender</th>\n",
       "      <th>score</th>\n",
       "    </tr>\n",
       "  </thead>\n",
       "  <tbody>\n",
       "    <tr>\n",
       "      <th>0</th>\n",
       "      <td>1.0</td>\n",
       "      <td>5.0</td>\n",
       "    </tr>\n",
       "    <tr>\n",
       "      <th>1</th>\n",
       "      <td>2.0</td>\n",
       "      <td>4.0</td>\n",
       "    </tr>\n",
       "    <tr>\n",
       "      <th>2</th>\n",
       "      <td>3.0</td>\n",
       "      <td>3.0</td>\n",
       "    </tr>\n",
       "    <tr>\n",
       "      <th>3</th>\n",
       "      <td>1.0</td>\n",
       "      <td>4.0</td>\n",
       "    </tr>\n",
       "    <tr>\n",
       "      <th>4</th>\n",
       "      <td>2.0</td>\n",
       "      <td>50.0</td>\n",
       "    </tr>\n",
       "  </tbody>\n",
       "</table>\n",
       "</div>"
      ],
      "text/plain": [
       "   gender  score\n",
       "0     1.0    5.0\n",
       "1     2.0    4.0\n",
       "2     3.0    3.0\n",
       "3     1.0    4.0\n",
       "4     2.0   50.0"
      ]
     },
     "execution_count": 35,
     "metadata": {},
     "output_type": "execute_result"
    }
   ],
   "source": [
    "df"
   ]
  },
  {
   "cell_type": "code",
   "execution_count": 36,
   "id": "7010a194-ad38-4607-a910-70ec99ef0bae",
   "metadata": {},
   "outputs": [
    {
     "data": {
      "text/plain": [
       "array([1., 2., 3.])"
      ]
     },
     "execution_count": 36,
     "metadata": {},
     "output_type": "execute_result"
    }
   ],
   "source": [
    "df['gender'].unique() #3은 이상치이다."
   ]
  },
  {
   "cell_type": "code",
   "execution_count": 37,
   "id": "febf67a6-1917-4318-ab83-6a74d073824f",
   "metadata": {},
   "outputs": [
    {
     "data": {
      "text/plain": [
       "0     5.0\n",
       "1     4.0\n",
       "2     3.0\n",
       "3     4.0\n",
       "4    50.0\n",
       "Name: score, dtype: float64"
      ]
     },
     "execution_count": 37,
     "metadata": {},
     "output_type": "execute_result"
    }
   ],
   "source": [
    "df['score'] #50점은 이상치이다."
   ]
  },
  {
   "cell_type": "code",
   "execution_count": null,
   "id": "60ebdec4-7284-4330-bb0e-039bf7a14e7d",
   "metadata": {},
   "outputs": [],
   "source": [
    "#score에서 전체 평균보다 높은 애들은 중앙값을 넣겠다. !!! \n",
    "#(np.where 또는 .apply를 사용)"
   ]
  },
  {
   "cell_type": "code",
   "execution_count": 45,
   "id": "1ef506ed-7a9b-40c4-9dc9-afd7d7f2f289",
   "metadata": {},
   "outputs": [],
   "source": [
    "import numpy as np"
   ]
  },
  {
   "cell_type": "code",
   "execution_count": 46,
   "id": "57a3728b-2b3b-4ee0-956a-570ba756fede",
   "metadata": {},
   "outputs": [],
   "source": [
    "mean = df['score'].mean()"
   ]
  },
  {
   "cell_type": "code",
   "execution_count": 47,
   "id": "8ac18336-894c-41cc-8778-c9f1b025bdac",
   "metadata": {},
   "outputs": [],
   "source": [
    "med = df['score'].median()"
   ]
  },
  {
   "cell_type": "code",
   "execution_count": 50,
   "id": "dc8f7073-6696-45e0-91e2-69134661f568",
   "metadata": {},
   "outputs": [],
   "source": [
    "df['score1'] = np.where(df['score'] > mean, med, df['score'])\n",
    "               #df['score']이 mean보다 크면 med이고, 아닐 경우에는 df['score']이다."
   ]
  },
  {
   "cell_type": "code",
   "execution_count": 54,
   "id": "485aa264-362e-4d20-abf0-ad4bac7c38b2",
   "metadata": {},
   "outputs": [
    {
     "data": {
      "text/html": [
       "<div>\n",
       "<style scoped>\n",
       "    .dataframe tbody tr th:only-of-type {\n",
       "        vertical-align: middle;\n",
       "    }\n",
       "\n",
       "    .dataframe tbody tr th {\n",
       "        vertical-align: top;\n",
       "    }\n",
       "\n",
       "    .dataframe thead th {\n",
       "        text-align: right;\n",
       "    }\n",
       "</style>\n",
       "<table border=\"1\" class=\"dataframe\">\n",
       "  <thead>\n",
       "    <tr style=\"text-align: right;\">\n",
       "      <th></th>\n",
       "      <th>gender</th>\n",
       "      <th>score</th>\n",
       "      <th>score1</th>\n",
       "    </tr>\n",
       "  </thead>\n",
       "  <tbody>\n",
       "    <tr>\n",
       "      <th>0</th>\n",
       "      <td>1.0</td>\n",
       "      <td>5.0</td>\n",
       "      <td>5.0</td>\n",
       "    </tr>\n",
       "    <tr>\n",
       "      <th>1</th>\n",
       "      <td>2.0</td>\n",
       "      <td>4.0</td>\n",
       "      <td>4.0</td>\n",
       "    </tr>\n",
       "    <tr>\n",
       "      <th>2</th>\n",
       "      <td>3.0</td>\n",
       "      <td>3.0</td>\n",
       "      <td>3.0</td>\n",
       "    </tr>\n",
       "    <tr>\n",
       "      <th>3</th>\n",
       "      <td>1.0</td>\n",
       "      <td>4.0</td>\n",
       "      <td>4.0</td>\n",
       "    </tr>\n",
       "    <tr>\n",
       "      <th>4</th>\n",
       "      <td>2.0</td>\n",
       "      <td>50.0</td>\n",
       "      <td>4.0</td>\n",
       "    </tr>\n",
       "  </tbody>\n",
       "</table>\n",
       "</div>"
      ],
      "text/plain": [
       "   gender  score  score1\n",
       "0     1.0    5.0     5.0\n",
       "1     2.0    4.0     4.0\n",
       "2     3.0    3.0     3.0\n",
       "3     1.0    4.0     4.0\n",
       "4     2.0   50.0     4.0"
      ]
     },
     "execution_count": 54,
     "metadata": {},
     "output_type": "execute_result"
    }
   ],
   "source": [
    "df"
   ]
  },
  {
   "cell_type": "code",
   "execution_count": null,
   "id": "25c7ed34-ec49-4716-bd01-b0b63716b212",
   "metadata": {},
   "outputs": [],
   "source": [
    "# 이상치(잘못 들어간 이상한 값) vs 극단치(값이 극단 적인 것)\n",
    "# 데이터 분석할 때 이상치랑 극단치는 구분하지 않고 혼용해서 사용하기도 한다. 다만, 이상치랑 극단치는 차이점이 조금 있다."
   ]
  },
  {
   "cell_type": "code",
   "execution_count": null,
   "id": "eee9ba8d-612c-45c9-80e0-5c6218555496",
   "metadata": {},
   "outputs": [],
   "source": [
    "# 머시러닝하기 위해서 파이썬, 판다스, 데이터 수집 등을 하는 것이다."
   ]
  },
  {
   "cell_type": "code",
   "execution_count": null,
   "id": "c74c283c-a9d7-43a5-bf57-e3b433bc2ae4",
   "metadata": {},
   "outputs": [],
   "source": []
  },
  {
   "cell_type": "code",
   "execution_count": 55,
   "id": "80d76dbc-ea5b-444d-abea-85319c63ecbd",
   "metadata": {},
   "outputs": [],
   "source": [
    "# 시각화 (p205~207)"
   ]
  },
  {
   "cell_type": "code",
   "execution_count": 56,
   "id": "7229ec3c-a836-45c5-a103-c5cfdb303d20",
   "metadata": {},
   "outputs": [],
   "source": [
    "import pydataset as pds"
   ]
  },
  {
   "cell_type": "code",
   "execution_count": 57,
   "id": "14e495b0-556e-43f8-bb43-60f1229484ea",
   "metadata": {},
   "outputs": [
    {
     "data": {
      "text/html": [
       "<div>\n",
       "<style scoped>\n",
       "    .dataframe tbody tr th:only-of-type {\n",
       "        vertical-align: middle;\n",
       "    }\n",
       "\n",
       "    .dataframe tbody tr th {\n",
       "        vertical-align: top;\n",
       "    }\n",
       "\n",
       "    .dataframe thead th {\n",
       "        text-align: right;\n",
       "    }\n",
       "</style>\n",
       "<table border=\"1\" class=\"dataframe\">\n",
       "  <thead>\n",
       "    <tr style=\"text-align: right;\">\n",
       "      <th></th>\n",
       "      <th>manufacturer</th>\n",
       "      <th>model</th>\n",
       "      <th>displ</th>\n",
       "      <th>year</th>\n",
       "      <th>cyl</th>\n",
       "      <th>trans</th>\n",
       "      <th>drv</th>\n",
       "      <th>cty</th>\n",
       "      <th>hwy</th>\n",
       "      <th>fl</th>\n",
       "      <th>class</th>\n",
       "    </tr>\n",
       "  </thead>\n",
       "  <tbody>\n",
       "    <tr>\n",
       "      <th>1</th>\n",
       "      <td>audi</td>\n",
       "      <td>a4</td>\n",
       "      <td>1.8</td>\n",
       "      <td>1999</td>\n",
       "      <td>4</td>\n",
       "      <td>auto(l5)</td>\n",
       "      <td>f</td>\n",
       "      <td>18</td>\n",
       "      <td>29</td>\n",
       "      <td>p</td>\n",
       "      <td>compact</td>\n",
       "    </tr>\n",
       "    <tr>\n",
       "      <th>2</th>\n",
       "      <td>audi</td>\n",
       "      <td>a4</td>\n",
       "      <td>1.8</td>\n",
       "      <td>1999</td>\n",
       "      <td>4</td>\n",
       "      <td>manual(m5)</td>\n",
       "      <td>f</td>\n",
       "      <td>21</td>\n",
       "      <td>29</td>\n",
       "      <td>p</td>\n",
       "      <td>compact</td>\n",
       "    </tr>\n",
       "    <tr>\n",
       "      <th>3</th>\n",
       "      <td>audi</td>\n",
       "      <td>a4</td>\n",
       "      <td>2.0</td>\n",
       "      <td>2008</td>\n",
       "      <td>4</td>\n",
       "      <td>manual(m6)</td>\n",
       "      <td>f</td>\n",
       "      <td>20</td>\n",
       "      <td>31</td>\n",
       "      <td>p</td>\n",
       "      <td>compact</td>\n",
       "    </tr>\n",
       "    <tr>\n",
       "      <th>4</th>\n",
       "      <td>audi</td>\n",
       "      <td>a4</td>\n",
       "      <td>2.0</td>\n",
       "      <td>2008</td>\n",
       "      <td>4</td>\n",
       "      <td>auto(av)</td>\n",
       "      <td>f</td>\n",
       "      <td>21</td>\n",
       "      <td>30</td>\n",
       "      <td>p</td>\n",
       "      <td>compact</td>\n",
       "    </tr>\n",
       "    <tr>\n",
       "      <th>5</th>\n",
       "      <td>audi</td>\n",
       "      <td>a4</td>\n",
       "      <td>2.8</td>\n",
       "      <td>1999</td>\n",
       "      <td>6</td>\n",
       "      <td>auto(l5)</td>\n",
       "      <td>f</td>\n",
       "      <td>16</td>\n",
       "      <td>26</td>\n",
       "      <td>p</td>\n",
       "      <td>compact</td>\n",
       "    </tr>\n",
       "    <tr>\n",
       "      <th>...</th>\n",
       "      <td>...</td>\n",
       "      <td>...</td>\n",
       "      <td>...</td>\n",
       "      <td>...</td>\n",
       "      <td>...</td>\n",
       "      <td>...</td>\n",
       "      <td>...</td>\n",
       "      <td>...</td>\n",
       "      <td>...</td>\n",
       "      <td>...</td>\n",
       "      <td>...</td>\n",
       "    </tr>\n",
       "    <tr>\n",
       "      <th>230</th>\n",
       "      <td>volkswagen</td>\n",
       "      <td>passat</td>\n",
       "      <td>2.0</td>\n",
       "      <td>2008</td>\n",
       "      <td>4</td>\n",
       "      <td>auto(s6)</td>\n",
       "      <td>f</td>\n",
       "      <td>19</td>\n",
       "      <td>28</td>\n",
       "      <td>p</td>\n",
       "      <td>midsize</td>\n",
       "    </tr>\n",
       "    <tr>\n",
       "      <th>231</th>\n",
       "      <td>volkswagen</td>\n",
       "      <td>passat</td>\n",
       "      <td>2.0</td>\n",
       "      <td>2008</td>\n",
       "      <td>4</td>\n",
       "      <td>manual(m6)</td>\n",
       "      <td>f</td>\n",
       "      <td>21</td>\n",
       "      <td>29</td>\n",
       "      <td>p</td>\n",
       "      <td>midsize</td>\n",
       "    </tr>\n",
       "    <tr>\n",
       "      <th>232</th>\n",
       "      <td>volkswagen</td>\n",
       "      <td>passat</td>\n",
       "      <td>2.8</td>\n",
       "      <td>1999</td>\n",
       "      <td>6</td>\n",
       "      <td>auto(l5)</td>\n",
       "      <td>f</td>\n",
       "      <td>16</td>\n",
       "      <td>26</td>\n",
       "      <td>p</td>\n",
       "      <td>midsize</td>\n",
       "    </tr>\n",
       "    <tr>\n",
       "      <th>233</th>\n",
       "      <td>volkswagen</td>\n",
       "      <td>passat</td>\n",
       "      <td>2.8</td>\n",
       "      <td>1999</td>\n",
       "      <td>6</td>\n",
       "      <td>manual(m5)</td>\n",
       "      <td>f</td>\n",
       "      <td>18</td>\n",
       "      <td>26</td>\n",
       "      <td>p</td>\n",
       "      <td>midsize</td>\n",
       "    </tr>\n",
       "    <tr>\n",
       "      <th>234</th>\n",
       "      <td>volkswagen</td>\n",
       "      <td>passat</td>\n",
       "      <td>3.6</td>\n",
       "      <td>2008</td>\n",
       "      <td>6</td>\n",
       "      <td>auto(s6)</td>\n",
       "      <td>f</td>\n",
       "      <td>17</td>\n",
       "      <td>26</td>\n",
       "      <td>p</td>\n",
       "      <td>midsize</td>\n",
       "    </tr>\n",
       "  </tbody>\n",
       "</table>\n",
       "<p>234 rows × 11 columns</p>\n",
       "</div>"
      ],
      "text/plain": [
       "    manufacturer   model  displ  year  cyl       trans drv  cty  hwy fl  \\\n",
       "1           audi      a4    1.8  1999    4    auto(l5)   f   18   29  p   \n",
       "2           audi      a4    1.8  1999    4  manual(m5)   f   21   29  p   \n",
       "3           audi      a4    2.0  2008    4  manual(m6)   f   20   31  p   \n",
       "4           audi      a4    2.0  2008    4    auto(av)   f   21   30  p   \n",
       "5           audi      a4    2.8  1999    6    auto(l5)   f   16   26  p   \n",
       "..           ...     ...    ...   ...  ...         ...  ..  ...  ... ..   \n",
       "230   volkswagen  passat    2.0  2008    4    auto(s6)   f   19   28  p   \n",
       "231   volkswagen  passat    2.0  2008    4  manual(m6)   f   21   29  p   \n",
       "232   volkswagen  passat    2.8  1999    6    auto(l5)   f   16   26  p   \n",
       "233   volkswagen  passat    2.8  1999    6  manual(m5)   f   18   26  p   \n",
       "234   volkswagen  passat    3.6  2008    6    auto(s6)   f   17   26  p   \n",
       "\n",
       "       class  \n",
       "1    compact  \n",
       "2    compact  \n",
       "3    compact  \n",
       "4    compact  \n",
       "5    compact  \n",
       "..       ...  \n",
       "230  midsize  \n",
       "231  midsize  \n",
       "232  midsize  \n",
       "233  midsize  \n",
       "234  midsize  \n",
       "\n",
       "[234 rows x 11 columns]"
      ]
     },
     "execution_count": 57,
     "metadata": {},
     "output_type": "execute_result"
    }
   ],
   "source": [
    "pds.data('mpg')"
   ]
  },
  {
   "cell_type": "code",
   "execution_count": 58,
   "id": "5f15ea99-7639-479b-bbed-339944ade10d",
   "metadata": {},
   "outputs": [],
   "source": [
    "mpg = pds.data('mpg')"
   ]
  },
  {
   "cell_type": "code",
   "execution_count": 59,
   "id": "ce2eaf70-f834-4332-91df-f819368b53bc",
   "metadata": {},
   "outputs": [
    {
     "data": {
      "text/html": [
       "<div>\n",
       "<style scoped>\n",
       "    .dataframe tbody tr th:only-of-type {\n",
       "        vertical-align: middle;\n",
       "    }\n",
       "\n",
       "    .dataframe tbody tr th {\n",
       "        vertical-align: top;\n",
       "    }\n",
       "\n",
       "    .dataframe thead th {\n",
       "        text-align: right;\n",
       "    }\n",
       "</style>\n",
       "<table border=\"1\" class=\"dataframe\">\n",
       "  <thead>\n",
       "    <tr style=\"text-align: right;\">\n",
       "      <th></th>\n",
       "      <th>manufacturer</th>\n",
       "      <th>model</th>\n",
       "      <th>displ</th>\n",
       "      <th>year</th>\n",
       "      <th>cyl</th>\n",
       "      <th>trans</th>\n",
       "      <th>drv</th>\n",
       "      <th>cty</th>\n",
       "      <th>hwy</th>\n",
       "      <th>fl</th>\n",
       "      <th>class</th>\n",
       "    </tr>\n",
       "  </thead>\n",
       "  <tbody>\n",
       "    <tr>\n",
       "      <th>1</th>\n",
       "      <td>audi</td>\n",
       "      <td>a4</td>\n",
       "      <td>1.8</td>\n",
       "      <td>1999</td>\n",
       "      <td>4</td>\n",
       "      <td>auto(l5)</td>\n",
       "      <td>f</td>\n",
       "      <td>18</td>\n",
       "      <td>29</td>\n",
       "      <td>p</td>\n",
       "      <td>compact</td>\n",
       "    </tr>\n",
       "    <tr>\n",
       "      <th>2</th>\n",
       "      <td>audi</td>\n",
       "      <td>a4</td>\n",
       "      <td>1.8</td>\n",
       "      <td>1999</td>\n",
       "      <td>4</td>\n",
       "      <td>manual(m5)</td>\n",
       "      <td>f</td>\n",
       "      <td>21</td>\n",
       "      <td>29</td>\n",
       "      <td>p</td>\n",
       "      <td>compact</td>\n",
       "    </tr>\n",
       "    <tr>\n",
       "      <th>3</th>\n",
       "      <td>audi</td>\n",
       "      <td>a4</td>\n",
       "      <td>2.0</td>\n",
       "      <td>2008</td>\n",
       "      <td>4</td>\n",
       "      <td>manual(m6)</td>\n",
       "      <td>f</td>\n",
       "      <td>20</td>\n",
       "      <td>31</td>\n",
       "      <td>p</td>\n",
       "      <td>compact</td>\n",
       "    </tr>\n",
       "    <tr>\n",
       "      <th>4</th>\n",
       "      <td>audi</td>\n",
       "      <td>a4</td>\n",
       "      <td>2.0</td>\n",
       "      <td>2008</td>\n",
       "      <td>4</td>\n",
       "      <td>auto(av)</td>\n",
       "      <td>f</td>\n",
       "      <td>21</td>\n",
       "      <td>30</td>\n",
       "      <td>p</td>\n",
       "      <td>compact</td>\n",
       "    </tr>\n",
       "    <tr>\n",
       "      <th>5</th>\n",
       "      <td>audi</td>\n",
       "      <td>a4</td>\n",
       "      <td>2.8</td>\n",
       "      <td>1999</td>\n",
       "      <td>6</td>\n",
       "      <td>auto(l5)</td>\n",
       "      <td>f</td>\n",
       "      <td>16</td>\n",
       "      <td>26</td>\n",
       "      <td>p</td>\n",
       "      <td>compact</td>\n",
       "    </tr>\n",
       "    <tr>\n",
       "      <th>...</th>\n",
       "      <td>...</td>\n",
       "      <td>...</td>\n",
       "      <td>...</td>\n",
       "      <td>...</td>\n",
       "      <td>...</td>\n",
       "      <td>...</td>\n",
       "      <td>...</td>\n",
       "      <td>...</td>\n",
       "      <td>...</td>\n",
       "      <td>...</td>\n",
       "      <td>...</td>\n",
       "    </tr>\n",
       "    <tr>\n",
       "      <th>230</th>\n",
       "      <td>volkswagen</td>\n",
       "      <td>passat</td>\n",
       "      <td>2.0</td>\n",
       "      <td>2008</td>\n",
       "      <td>4</td>\n",
       "      <td>auto(s6)</td>\n",
       "      <td>f</td>\n",
       "      <td>19</td>\n",
       "      <td>28</td>\n",
       "      <td>p</td>\n",
       "      <td>midsize</td>\n",
       "    </tr>\n",
       "    <tr>\n",
       "      <th>231</th>\n",
       "      <td>volkswagen</td>\n",
       "      <td>passat</td>\n",
       "      <td>2.0</td>\n",
       "      <td>2008</td>\n",
       "      <td>4</td>\n",
       "      <td>manual(m6)</td>\n",
       "      <td>f</td>\n",
       "      <td>21</td>\n",
       "      <td>29</td>\n",
       "      <td>p</td>\n",
       "      <td>midsize</td>\n",
       "    </tr>\n",
       "    <tr>\n",
       "      <th>232</th>\n",
       "      <td>volkswagen</td>\n",
       "      <td>passat</td>\n",
       "      <td>2.8</td>\n",
       "      <td>1999</td>\n",
       "      <td>6</td>\n",
       "      <td>auto(l5)</td>\n",
       "      <td>f</td>\n",
       "      <td>16</td>\n",
       "      <td>26</td>\n",
       "      <td>p</td>\n",
       "      <td>midsize</td>\n",
       "    </tr>\n",
       "    <tr>\n",
       "      <th>233</th>\n",
       "      <td>volkswagen</td>\n",
       "      <td>passat</td>\n",
       "      <td>2.8</td>\n",
       "      <td>1999</td>\n",
       "      <td>6</td>\n",
       "      <td>manual(m5)</td>\n",
       "      <td>f</td>\n",
       "      <td>18</td>\n",
       "      <td>26</td>\n",
       "      <td>p</td>\n",
       "      <td>midsize</td>\n",
       "    </tr>\n",
       "    <tr>\n",
       "      <th>234</th>\n",
       "      <td>volkswagen</td>\n",
       "      <td>passat</td>\n",
       "      <td>3.6</td>\n",
       "      <td>2008</td>\n",
       "      <td>6</td>\n",
       "      <td>auto(s6)</td>\n",
       "      <td>f</td>\n",
       "      <td>17</td>\n",
       "      <td>26</td>\n",
       "      <td>p</td>\n",
       "      <td>midsize</td>\n",
       "    </tr>\n",
       "  </tbody>\n",
       "</table>\n",
       "<p>234 rows × 11 columns</p>\n",
       "</div>"
      ],
      "text/plain": [
       "    manufacturer   model  displ  year  cyl       trans drv  cty  hwy fl  \\\n",
       "1           audi      a4    1.8  1999    4    auto(l5)   f   18   29  p   \n",
       "2           audi      a4    1.8  1999    4  manual(m5)   f   21   29  p   \n",
       "3           audi      a4    2.0  2008    4  manual(m6)   f   20   31  p   \n",
       "4           audi      a4    2.0  2008    4    auto(av)   f   21   30  p   \n",
       "5           audi      a4    2.8  1999    6    auto(l5)   f   16   26  p   \n",
       "..           ...     ...    ...   ...  ...         ...  ..  ...  ... ..   \n",
       "230   volkswagen  passat    2.0  2008    4    auto(s6)   f   19   28  p   \n",
       "231   volkswagen  passat    2.0  2008    4  manual(m6)   f   21   29  p   \n",
       "232   volkswagen  passat    2.8  1999    6    auto(l5)   f   16   26  p   \n",
       "233   volkswagen  passat    2.8  1999    6  manual(m5)   f   18   26  p   \n",
       "234   volkswagen  passat    3.6  2008    6    auto(s6)   f   17   26  p   \n",
       "\n",
       "       class  \n",
       "1    compact  \n",
       "2    compact  \n",
       "3    compact  \n",
       "4    compact  \n",
       "5    compact  \n",
       "..       ...  \n",
       "230  midsize  \n",
       "231  midsize  \n",
       "232  midsize  \n",
       "233  midsize  \n",
       "234  midsize  \n",
       "\n",
       "[234 rows x 11 columns]"
      ]
     },
     "execution_count": 59,
     "metadata": {},
     "output_type": "execute_result"
    }
   ],
   "source": [
    "mpg"
   ]
  },
  {
   "cell_type": "code",
   "execution_count": 60,
   "id": "9cbb5c38-443a-446e-99cf-482de1eb1cdc",
   "metadata": {},
   "outputs": [
    {
     "data": {
      "text/plain": [
       "1      f\n",
       "2      f\n",
       "3      f\n",
       "4      f\n",
       "5      f\n",
       "      ..\n",
       "230    f\n",
       "231    f\n",
       "232    f\n",
       "233    f\n",
       "234    f\n",
       "Name: drv, Length: 234, dtype: object"
      ]
     },
     "execution_count": 60,
     "metadata": {},
     "output_type": "execute_result"
    }
   ],
   "source": [
    "mpg['drv']"
   ]
  },
  {
   "cell_type": "code",
   "execution_count": 61,
   "id": "158baf13-396c-437c-9598-c7bf261373af",
   "metadata": {},
   "outputs": [
    {
     "name": "stdout",
     "output_type": "stream",
     "text": [
      "<class 'pandas.core.frame.DataFrame'>\n",
      "Int64Index: 234 entries, 1 to 234\n",
      "Data columns (total 11 columns):\n",
      " #   Column        Non-Null Count  Dtype  \n",
      "---  ------        --------------  -----  \n",
      " 0   manufacturer  234 non-null    object \n",
      " 1   model         234 non-null    object \n",
      " 2   displ         234 non-null    float64\n",
      " 3   year          234 non-null    int64  \n",
      " 4   cyl           234 non-null    int64  \n",
      " 5   trans         234 non-null    object \n",
      " 6   drv           234 non-null    object \n",
      " 7   cty           234 non-null    int64  \n",
      " 8   hwy           234 non-null    int64  \n",
      " 9   fl            234 non-null    object \n",
      " 10  class         234 non-null    object \n",
      "dtypes: float64(1), int64(4), object(6)\n",
      "memory usage: 21.9+ KB\n"
     ]
    }
   ],
   "source": []
  },
  {
   "cell_type": "code",
   "execution_count": null,
   "id": "9b6b7f4e-db27-4e7d-b360-351197165c00",
   "metadata": {},
   "outputs": [],
   "source": [
    "# drv별 hwy의 평균"
   ]
  },
  {
   "cell_type": "code",
   "execution_count": 64,
   "id": "8f896390-dab4-4c2e-a234-2bb0bb5d1ef3",
   "metadata": {},
   "outputs": [
    {
     "data": {
      "text/plain": [
       "drv\n",
       "4    19.174757\n",
       "f    28.160377\n",
       "r    21.000000\n",
       "Name: hwy, dtype: float64"
      ]
     },
     "execution_count": 64,
     "metadata": {},
     "output_type": "execute_result"
    }
   ],
   "source": [
    "mpg.groupby('drv')['hwy'].mean()"
   ]
  },
  {
   "cell_type": "code",
   "execution_count": 65,
   "id": "3f76eefc-5430-441a-aed6-21e9eb58ddc6",
   "metadata": {},
   "outputs": [
    {
     "data": {
      "text/html": [
       "<div>\n",
       "<style scoped>\n",
       "    .dataframe tbody tr th:only-of-type {\n",
       "        vertical-align: middle;\n",
       "    }\n",
       "\n",
       "    .dataframe tbody tr th {\n",
       "        vertical-align: top;\n",
       "    }\n",
       "\n",
       "    .dataframe thead th {\n",
       "        text-align: right;\n",
       "    }\n",
       "</style>\n",
       "<table border=\"1\" class=\"dataframe\">\n",
       "  <thead>\n",
       "    <tr style=\"text-align: right;\">\n",
       "      <th></th>\n",
       "      <th>drv</th>\n",
       "      <th>hwy</th>\n",
       "    </tr>\n",
       "  </thead>\n",
       "  <tbody>\n",
       "    <tr>\n",
       "      <th>0</th>\n",
       "      <td>4</td>\n",
       "      <td>19.174757</td>\n",
       "    </tr>\n",
       "    <tr>\n",
       "      <th>1</th>\n",
       "      <td>f</td>\n",
       "      <td>28.160377</td>\n",
       "    </tr>\n",
       "    <tr>\n",
       "      <th>2</th>\n",
       "      <td>r</td>\n",
       "      <td>21.000000</td>\n",
       "    </tr>\n",
       "  </tbody>\n",
       "</table>\n",
       "</div>"
      ],
      "text/plain": [
       "  drv        hwy\n",
       "0   4  19.174757\n",
       "1   f  28.160377\n",
       "2   r  21.000000"
      ]
     },
     "execution_count": 65,
     "metadata": {},
     "output_type": "execute_result"
    }
   ],
   "source": [
    "mpg.groupby('drv', as_index=False)['hwy'].mean() #데이터 프레임으로 만든다."
   ]
  },
  {
   "cell_type": "code",
   "execution_count": 66,
   "id": "e4983e15-169a-46c5-8ab2-372578b448fd",
   "metadata": {},
   "outputs": [],
   "source": [
    "mpg_df = mpg.groupby('drv', as_index=False)['hwy'].mean() #데이터 프레임으로 만든다."
   ]
  },
  {
   "cell_type": "code",
   "execution_count": null,
   "id": "dc345ad8-32a4-47eb-b2ed-5a00694ca581",
   "metadata": {},
   "outputs": [],
   "source": []
  },
  {
   "cell_type": "code",
   "execution_count": 67,
   "id": "fd86e063-832b-4c22-ba48-80f449b25551",
   "metadata": {},
   "outputs": [
    {
     "data": {
      "text/html": [
       "<div>\n",
       "<style scoped>\n",
       "    .dataframe tbody tr th:only-of-type {\n",
       "        vertical-align: middle;\n",
       "    }\n",
       "\n",
       "    .dataframe tbody tr th {\n",
       "        vertical-align: top;\n",
       "    }\n",
       "\n",
       "    .dataframe thead th {\n",
       "        text-align: right;\n",
       "    }\n",
       "</style>\n",
       "<table border=\"1\" class=\"dataframe\">\n",
       "  <thead>\n",
       "    <tr style=\"text-align: right;\">\n",
       "      <th></th>\n",
       "      <th>drv</th>\n",
       "      <th>hwy</th>\n",
       "    </tr>\n",
       "  </thead>\n",
       "  <tbody>\n",
       "    <tr>\n",
       "      <th>0</th>\n",
       "      <td>4</td>\n",
       "      <td>19.174757</td>\n",
       "    </tr>\n",
       "    <tr>\n",
       "      <th>1</th>\n",
       "      <td>f</td>\n",
       "      <td>28.160377</td>\n",
       "    </tr>\n",
       "    <tr>\n",
       "      <th>2</th>\n",
       "      <td>r</td>\n",
       "      <td>21.000000</td>\n",
       "    </tr>\n",
       "  </tbody>\n",
       "</table>\n",
       "</div>"
      ],
      "text/plain": [
       "  drv        hwy\n",
       "0   4  19.174757\n",
       "1   f  28.160377\n",
       "2   r  21.000000"
      ]
     },
     "execution_count": 67,
     "metadata": {},
     "output_type": "execute_result"
    }
   ],
   "source": [
    "mpg_df"
   ]
  },
  {
   "cell_type": "code",
   "execution_count": 69,
   "id": "dfbddc7e-8dc2-43b3-8846-387be96b11da",
   "metadata": {},
   "outputs": [],
   "source": [
    "import seaborn as sns #seaborn은 시각화 할 때 사용하는 패키지 중 하나이다."
   ]
  },
  {
   "cell_type": "code",
   "execution_count": 70,
   "id": "efcf4321-9da2-400f-a3d2-c292d9dfc97b",
   "metadata": {},
   "outputs": [
    {
     "data": {
      "text/plain": [
       "<AxesSubplot:xlabel='drv', ylabel='hwy'>"
      ]
     },
     "execution_count": 70,
     "metadata": {},
     "output_type": "execute_result"
    },
    {
     "data": {
      "image/png": "[encoded data removed]",
      "text/plain": [
       "<Figure size 432x288 with 1 Axes>"
      ]
     },
     "metadata": {
      "needs_background": "light"
     },
     "output_type": "display_data"
    }
   ],
   "source": [
    "sns.barplot(data = mpg_df, x = 'drv', y = 'hwy')"
   ]
  },
  {
   "cell_type": "code",
   "execution_count": 71,
   "id": "67493882-716f-47c2-b9dc-b47386a52767",
   "metadata": {},
   "outputs": [
    {
     "data": {
      "image/png": "[encoded data removed]",
      "text/plain": [
       "<Figure size 432x288 with 1 Axes>"
      ]
     },
     "metadata": {
      "needs_background": "light"
     },
     "output_type": "display_data"
    }
   ],
   "source": [
    "sns.barplot(data = mpg_df, x = 'drv', y = 'hwy'); #바 형태의 그래프 출력"
   ]
  },
  {
   "cell_type": "code",
   "execution_count": 72,
   "id": "53b2a8a4-37ad-4e46-bca0-529d054b2420",
   "metadata": {},
   "outputs": [],
   "source": [
    "mpg_df.sort_values('hwy', ascending=False, inplace=True) # 무슨 뜻인지 물어보기..."
   ]
  },
  {
   "cell_type": "code",
   "execution_count": 73,
   "id": "b86410d7-0bfd-4c11-bb6f-c43aa75d36b8",
   "metadata": {},
   "outputs": [
    {
     "data": {
      "image/png": "[encoded data removed]",
      "text/plain": [
       "<Figure size 432x288 with 1 Axes>"
      ]
     },
     "metadata": {
      "needs_background": "light"
     },
     "output_type": "display_data"
    }
   ],
   "source": [
    "sns.barplot(data = mpg_df, x = 'drv', y = 'hwy'); #바 형태의 그래프 출력 "
   ]
  },
  {
   "cell_type": "code",
   "execution_count": null,
   "id": "3145be09-03dd-4584-9bd4-65ef2cda7891",
   "metadata": {},
   "outputs": [],
   "source": [
    "# p212 (시계열 그래프)"
   ]
  },
  {
   "cell_type": "code",
   "execution_count": 75,
   "id": "ddfb1dff-72b1-4394-89f4-fc21762376ca",
   "metadata": {},
   "outputs": [
    {
     "data": {
      "text/html": [
       "<div>\n",
       "<style scoped>\n",
       "    .dataframe tbody tr th:only-of-type {\n",
       "        vertical-align: middle;\n",
       "    }\n",
       "\n",
       "    .dataframe tbody tr th {\n",
       "        vertical-align: top;\n",
       "    }\n",
       "\n",
       "    .dataframe thead th {\n",
       "        text-align: right;\n",
       "    }\n",
       "</style>\n",
       "<table border=\"1\" class=\"dataframe\">\n",
       "  <thead>\n",
       "    <tr style=\"text-align: right;\">\n",
       "      <th></th>\n",
       "      <th>date</th>\n",
       "      <th>pce</th>\n",
       "      <th>pop</th>\n",
       "      <th>psavert</th>\n",
       "      <th>uempmed</th>\n",
       "      <th>unemploy</th>\n",
       "    </tr>\n",
       "  </thead>\n",
       "  <tbody>\n",
       "    <tr>\n",
       "      <th>1</th>\n",
       "      <td>1967-06-30</td>\n",
       "      <td>507.8</td>\n",
       "      <td>198712</td>\n",
       "      <td>9.8</td>\n",
       "      <td>4.5</td>\n",
       "      <td>2944</td>\n",
       "    </tr>\n",
       "    <tr>\n",
       "      <th>2</th>\n",
       "      <td>1967-07-31</td>\n",
       "      <td>510.9</td>\n",
       "      <td>198911</td>\n",
       "      <td>9.8</td>\n",
       "      <td>4.7</td>\n",
       "      <td>2945</td>\n",
       "    </tr>\n",
       "    <tr>\n",
       "      <th>3</th>\n",
       "      <td>1967-08-31</td>\n",
       "      <td>516.7</td>\n",
       "      <td>199113</td>\n",
       "      <td>9.0</td>\n",
       "      <td>4.6</td>\n",
       "      <td>2958</td>\n",
       "    </tr>\n",
       "    <tr>\n",
       "      <th>4</th>\n",
       "      <td>1967-09-30</td>\n",
       "      <td>513.3</td>\n",
       "      <td>199311</td>\n",
       "      <td>9.8</td>\n",
       "      <td>4.9</td>\n",
       "      <td>3143</td>\n",
       "    </tr>\n",
       "    <tr>\n",
       "      <th>5</th>\n",
       "      <td>1967-10-31</td>\n",
       "      <td>518.5</td>\n",
       "      <td>199498</td>\n",
       "      <td>9.7</td>\n",
       "      <td>4.7</td>\n",
       "      <td>3066</td>\n",
       "    </tr>\n",
       "    <tr>\n",
       "      <th>...</th>\n",
       "      <td>...</td>\n",
       "      <td>...</td>\n",
       "      <td>...</td>\n",
       "      <td>...</td>\n",
       "      <td>...</td>\n",
       "      <td>...</td>\n",
       "    </tr>\n",
       "    <tr>\n",
       "      <th>474</th>\n",
       "      <td>2006-11-30</td>\n",
       "      <td>9478.5</td>\n",
       "      <td>301070</td>\n",
       "      <td>-1.1</td>\n",
       "      <td>7.3</td>\n",
       "      <td>6849</td>\n",
       "    </tr>\n",
       "    <tr>\n",
       "      <th>475</th>\n",
       "      <td>2006-12-31</td>\n",
       "      <td>9540.3</td>\n",
       "      <td>301296</td>\n",
       "      <td>-0.9</td>\n",
       "      <td>8.1</td>\n",
       "      <td>7017</td>\n",
       "    </tr>\n",
       "    <tr>\n",
       "      <th>476</th>\n",
       "      <td>2007-01-31</td>\n",
       "      <td>9610.6</td>\n",
       "      <td>301481</td>\n",
       "      <td>-1.0</td>\n",
       "      <td>8.1</td>\n",
       "      <td>6865</td>\n",
       "    </tr>\n",
       "    <tr>\n",
       "      <th>477</th>\n",
       "      <td>2007-02-28</td>\n",
       "      <td>9653.0</td>\n",
       "      <td>301684</td>\n",
       "      <td>-0.7</td>\n",
       "      <td>8.5</td>\n",
       "      <td>6724</td>\n",
       "    </tr>\n",
       "    <tr>\n",
       "      <th>478</th>\n",
       "      <td>2007-03-31</td>\n",
       "      <td>9705.0</td>\n",
       "      <td>301913</td>\n",
       "      <td>-1.3</td>\n",
       "      <td>8.7</td>\n",
       "      <td>6801</td>\n",
       "    </tr>\n",
       "  </tbody>\n",
       "</table>\n",
       "<p>478 rows × 6 columns</p>\n",
       "</div>"
      ],
      "text/plain": [
       "           date     pce     pop  psavert  uempmed  unemploy\n",
       "1    1967-06-30   507.8  198712      9.8      4.5      2944\n",
       "2    1967-07-31   510.9  198911      9.8      4.7      2945\n",
       "3    1967-08-31   516.7  199113      9.0      4.6      2958\n",
       "4    1967-09-30   513.3  199311      9.8      4.9      3143\n",
       "5    1967-10-31   518.5  199498      9.7      4.7      3066\n",
       "..          ...     ...     ...      ...      ...       ...\n",
       "474  2006-11-30  9478.5  301070     -1.1      7.3      6849\n",
       "475  2006-12-31  9540.3  301296     -0.9      8.1      7017\n",
       "476  2007-01-31  9610.6  301481     -1.0      8.1      6865\n",
       "477  2007-02-28  9653.0  301684     -0.7      8.5      6724\n",
       "478  2007-03-31  9705.0  301913     -1.3      8.7      6801\n",
       "\n",
       "[478 rows x 6 columns]"
      ]
     },
     "execution_count": 75,
     "metadata": {},
     "output_type": "execute_result"
    }
   ],
   "source": [
    "pds.data('economics')"
   ]
  },
  {
   "cell_type": "code",
   "execution_count": 76,
   "id": "7615ec0c-fb37-47b9-8a48-4d203ef91fb9",
   "metadata": {},
   "outputs": [],
   "source": [
    "eco = pds.data('economics')"
   ]
  },
  {
   "cell_type": "code",
   "execution_count": 77,
   "id": "8274dae1-9cf1-42b2-bb00-d9c02aa6bbc5",
   "metadata": {},
   "outputs": [
    {
     "data": {
      "text/html": [
       "<div>\n",
       "<style scoped>\n",
       "    .dataframe tbody tr th:only-of-type {\n",
       "        vertical-align: middle;\n",
       "    }\n",
       "\n",
       "    .dataframe tbody tr th {\n",
       "        vertical-align: top;\n",
       "    }\n",
       "\n",
       "    .dataframe thead th {\n",
       "        text-align: right;\n",
       "    }\n",
       "</style>\n",
       "<table border=\"1\" class=\"dataframe\">\n",
       "  <thead>\n",
       "    <tr style=\"text-align: right;\">\n",
       "      <th></th>\n",
       "      <th>date</th>\n",
       "      <th>pce</th>\n",
       "      <th>pop</th>\n",
       "      <th>psavert</th>\n",
       "      <th>uempmed</th>\n",
       "      <th>unemploy</th>\n",
       "    </tr>\n",
       "  </thead>\n",
       "  <tbody>\n",
       "    <tr>\n",
       "      <th>1</th>\n",
       "      <td>1967-06-30</td>\n",
       "      <td>507.8</td>\n",
       "      <td>198712</td>\n",
       "      <td>9.8</td>\n",
       "      <td>4.5</td>\n",
       "      <td>2944</td>\n",
       "    </tr>\n",
       "    <tr>\n",
       "      <th>2</th>\n",
       "      <td>1967-07-31</td>\n",
       "      <td>510.9</td>\n",
       "      <td>198911</td>\n",
       "      <td>9.8</td>\n",
       "      <td>4.7</td>\n",
       "      <td>2945</td>\n",
       "    </tr>\n",
       "    <tr>\n",
       "      <th>3</th>\n",
       "      <td>1967-08-31</td>\n",
       "      <td>516.7</td>\n",
       "      <td>199113</td>\n",
       "      <td>9.0</td>\n",
       "      <td>4.6</td>\n",
       "      <td>2958</td>\n",
       "    </tr>\n",
       "    <tr>\n",
       "      <th>4</th>\n",
       "      <td>1967-09-30</td>\n",
       "      <td>513.3</td>\n",
       "      <td>199311</td>\n",
       "      <td>9.8</td>\n",
       "      <td>4.9</td>\n",
       "      <td>3143</td>\n",
       "    </tr>\n",
       "    <tr>\n",
       "      <th>5</th>\n",
       "      <td>1967-10-31</td>\n",
       "      <td>518.5</td>\n",
       "      <td>199498</td>\n",
       "      <td>9.7</td>\n",
       "      <td>4.7</td>\n",
       "      <td>3066</td>\n",
       "    </tr>\n",
       "    <tr>\n",
       "      <th>...</th>\n",
       "      <td>...</td>\n",
       "      <td>...</td>\n",
       "      <td>...</td>\n",
       "      <td>...</td>\n",
       "      <td>...</td>\n",
       "      <td>...</td>\n",
       "    </tr>\n",
       "    <tr>\n",
       "      <th>474</th>\n",
       "      <td>2006-11-30</td>\n",
       "      <td>9478.5</td>\n",
       "      <td>301070</td>\n",
       "      <td>-1.1</td>\n",
       "      <td>7.3</td>\n",
       "      <td>6849</td>\n",
       "    </tr>\n",
       "    <tr>\n",
       "      <th>475</th>\n",
       "      <td>2006-12-31</td>\n",
       "      <td>9540.3</td>\n",
       "      <td>301296</td>\n",
       "      <td>-0.9</td>\n",
       "      <td>8.1</td>\n",
       "      <td>7017</td>\n",
       "    </tr>\n",
       "    <tr>\n",
       "      <th>476</th>\n",
       "      <td>2007-01-31</td>\n",
       "      <td>9610.6</td>\n",
       "      <td>301481</td>\n",
       "      <td>-1.0</td>\n",
       "      <td>8.1</td>\n",
       "      <td>6865</td>\n",
       "    </tr>\n",
       "    <tr>\n",
       "      <th>477</th>\n",
       "      <td>2007-02-28</td>\n",
       "      <td>9653.0</td>\n",
       "      <td>301684</td>\n",
       "      <td>-0.7</td>\n",
       "      <td>8.5</td>\n",
       "      <td>6724</td>\n",
       "    </tr>\n",
       "    <tr>\n",
       "      <th>478</th>\n",
       "      <td>2007-03-31</td>\n",
       "      <td>9705.0</td>\n",
       "      <td>301913</td>\n",
       "      <td>-1.3</td>\n",
       "      <td>8.7</td>\n",
       "      <td>6801</td>\n",
       "    </tr>\n",
       "  </tbody>\n",
       "</table>\n",
       "<p>478 rows × 6 columns</p>\n",
       "</div>"
      ],
      "text/plain": [
       "           date     pce     pop  psavert  uempmed  unemploy\n",
       "1    1967-06-30   507.8  198712      9.8      4.5      2944\n",
       "2    1967-07-31   510.9  198911      9.8      4.7      2945\n",
       "3    1967-08-31   516.7  199113      9.0      4.6      2958\n",
       "4    1967-09-30   513.3  199311      9.8      4.9      3143\n",
       "5    1967-10-31   518.5  199498      9.7      4.7      3066\n",
       "..          ...     ...     ...      ...      ...       ...\n",
       "474  2006-11-30  9478.5  301070     -1.1      7.3      6849\n",
       "475  2006-12-31  9540.3  301296     -0.9      8.1      7017\n",
       "476  2007-01-31  9610.6  301481     -1.0      8.1      6865\n",
       "477  2007-02-28  9653.0  301684     -0.7      8.5      6724\n",
       "478  2007-03-31  9705.0  301913     -1.3      8.7      6801\n",
       "\n",
       "[478 rows x 6 columns]"
      ]
     },
     "execution_count": 77,
     "metadata": {},
     "output_type": "execute_result"
    }
   ],
   "source": [
    "eco"
   ]
  },
  {
   "cell_type": "code",
   "execution_count": 78,
   "id": "ca928083-b3bb-4757-b346-1e792e85a6d1",
   "metadata": {},
   "outputs": [
    {
     "name": "stdout",
     "output_type": "stream",
     "text": [
      "<class 'pandas.core.frame.DataFrame'>\n",
      "Int64Index: 478 entries, 1 to 478\n",
      "Data columns (total 6 columns):\n",
      " #   Column    Non-Null Count  Dtype  \n",
      "---  ------    --------------  -----  \n",
      " 0   date      478 non-null    object \n",
      " 1   pce       478 non-null    float64\n",
      " 2   pop       478 non-null    int64  \n",
      " 3   psavert   478 non-null    float64\n",
      " 4   uempmed   478 non-null    float64\n",
      " 5   unemploy  478 non-null    int64  \n",
      "dtypes: float64(3), int64(2), object(1)\n",
      "memory usage: 26.1+ KB\n"
     ]
    }
   ],
   "source": [
    "eco.info()"
   ]
  },
  {
   "cell_type": "code",
   "execution_count": 79,
   "id": "ddef8e34-397c-4806-82ac-66e0dc8f7323",
   "metadata": {},
   "outputs": [],
   "source": [
    "eco['date2'] = pd.to_datetime(eco['date'])"
   ]
  },
  {
   "cell_type": "code",
   "execution_count": 80,
   "id": "40c98975-b4db-4636-8a4e-461fe89f9ce5",
   "metadata": {},
   "outputs": [
    {
     "name": "stdout",
     "output_type": "stream",
     "text": [
      "<class 'pandas.core.frame.DataFrame'>\n",
      "Int64Index: 478 entries, 1 to 478\n",
      "Data columns (total 7 columns):\n",
      " #   Column    Non-Null Count  Dtype         \n",
      "---  ------    --------------  -----         \n",
      " 0   date      478 non-null    object        \n",
      " 1   pce       478 non-null    float64       \n",
      " 2   pop       478 non-null    int64         \n",
      " 3   psavert   478 non-null    float64       \n",
      " 4   uempmed   478 non-null    float64       \n",
      " 5   unemploy  478 non-null    int64         \n",
      " 6   date2     478 non-null    datetime64[ns]\n",
      "dtypes: datetime64[ns](1), float64(3), int64(2), object(1)\n",
      "memory usage: 29.9+ KB\n"
     ]
    }
   ],
   "source": [
    "eco.info()"
   ]
  },
  {
   "cell_type": "code",
   "execution_count": 81,
   "id": "0c861284-115d-4c5f-8912-8b5166e1286a",
   "metadata": {},
   "outputs": [
    {
     "data": {
      "text/plain": [
       "1     1967-06-30\n",
       "2     1967-07-31\n",
       "3     1967-08-31\n",
       "4     1967-09-30\n",
       "5     1967-10-31\n",
       "         ...    \n",
       "474   2006-11-30\n",
       "475   2006-12-31\n",
       "476   2007-01-31\n",
       "477   2007-02-28\n",
       "478   2007-03-31\n",
       "Name: date2, Length: 478, dtype: datetime64[ns]"
      ]
     },
     "execution_count": 81,
     "metadata": {},
     "output_type": "execute_result"
    }
   ],
   "source": [
    "eco['date2']"
   ]
  },
  {
   "cell_type": "code",
   "execution_count": 82,
   "id": "da0f3ee4-d5a3-4f70-af07-571e1a7c668a",
   "metadata": {},
   "outputs": [
    {
     "data": {
      "text/plain": [
       "1      1967\n",
       "2      1967\n",
       "3      1967\n",
       "4      1967\n",
       "5      1967\n",
       "       ... \n",
       "474    2006\n",
       "475    2006\n",
       "476    2007\n",
       "477    2007\n",
       "478    2007\n",
       "Name: date2, Length: 478, dtype: int64"
      ]
     },
     "execution_count": 82,
     "metadata": {},
     "output_type": "execute_result"
    }
   ],
   "source": [
    "eco['date2'].dt.year"
   ]
  },
  {
   "cell_type": "code",
   "execution_count": 83,
   "id": "db654956-c562-410e-8df3-7a5ac317da1c",
   "metadata": {},
   "outputs": [
    {
     "data": {
      "text/plain": [
       "1       6\n",
       "2       7\n",
       "3       8\n",
       "4       9\n",
       "5      10\n",
       "       ..\n",
       "474    11\n",
       "475    12\n",
       "476     1\n",
       "477     2\n",
       "478     3\n",
       "Name: date2, Length: 478, dtype: int64"
      ]
     },
     "execution_count": 83,
     "metadata": {},
     "output_type": "execute_result"
    }
   ],
   "source": [
    "eco['date2'].dt.month"
   ]
  },
  {
   "cell_type": "code",
   "execution_count": 84,
   "id": "e280be57-e059-40fe-b65d-922dd26e0389",
   "metadata": {},
   "outputs": [
    {
     "data": {
      "text/plain": [
       "1      30\n",
       "2      31\n",
       "3      31\n",
       "4      30\n",
       "5      31\n",
       "       ..\n",
       "474    30\n",
       "475    31\n",
       "476    31\n",
       "477    28\n",
       "478    31\n",
       "Name: date2, Length: 478, dtype: int64"
      ]
     },
     "execution_count": 84,
     "metadata": {},
     "output_type": "execute_result"
    }
   ],
   "source": [
    "eco['date2'].dt.day"
   ]
  },
  {
   "cell_type": "code",
   "execution_count": 85,
   "id": "f99c7b1e-215d-4829-b451-3b2f60613466",
   "metadata": {},
   "outputs": [
    {
     "data": {
      "text/html": [
       "<div>\n",
       "<style scoped>\n",
       "    .dataframe tbody tr th:only-of-type {\n",
       "        vertical-align: middle;\n",
       "    }\n",
       "\n",
       "    .dataframe tbody tr th {\n",
       "        vertical-align: top;\n",
       "    }\n",
       "\n",
       "    .dataframe thead th {\n",
       "        text-align: right;\n",
       "    }\n",
       "</style>\n",
       "<table border=\"1\" class=\"dataframe\">\n",
       "  <thead>\n",
       "    <tr style=\"text-align: right;\">\n",
       "      <th></th>\n",
       "      <th>date</th>\n",
       "      <th>pce</th>\n",
       "      <th>pop</th>\n",
       "      <th>psavert</th>\n",
       "      <th>uempmed</th>\n",
       "      <th>unemploy</th>\n",
       "      <th>date2</th>\n",
       "    </tr>\n",
       "  </thead>\n",
       "  <tbody>\n",
       "    <tr>\n",
       "      <th>1</th>\n",
       "      <td>1967-06-30</td>\n",
       "      <td>507.8</td>\n",
       "      <td>198712</td>\n",
       "      <td>9.8</td>\n",
       "      <td>4.5</td>\n",
       "      <td>2944</td>\n",
       "      <td>1967-06-30</td>\n",
       "    </tr>\n",
       "    <tr>\n",
       "      <th>2</th>\n",
       "      <td>1967-07-31</td>\n",
       "      <td>510.9</td>\n",
       "      <td>198911</td>\n",
       "      <td>9.8</td>\n",
       "      <td>4.7</td>\n",
       "      <td>2945</td>\n",
       "      <td>1967-07-31</td>\n",
       "    </tr>\n",
       "    <tr>\n",
       "      <th>3</th>\n",
       "      <td>1967-08-31</td>\n",
       "      <td>516.7</td>\n",
       "      <td>199113</td>\n",
       "      <td>9.0</td>\n",
       "      <td>4.6</td>\n",
       "      <td>2958</td>\n",
       "      <td>1967-08-31</td>\n",
       "    </tr>\n",
       "    <tr>\n",
       "      <th>4</th>\n",
       "      <td>1967-09-30</td>\n",
       "      <td>513.3</td>\n",
       "      <td>199311</td>\n",
       "      <td>9.8</td>\n",
       "      <td>4.9</td>\n",
       "      <td>3143</td>\n",
       "      <td>1967-09-30</td>\n",
       "    </tr>\n",
       "    <tr>\n",
       "      <th>5</th>\n",
       "      <td>1967-10-31</td>\n",
       "      <td>518.5</td>\n",
       "      <td>199498</td>\n",
       "      <td>9.7</td>\n",
       "      <td>4.7</td>\n",
       "      <td>3066</td>\n",
       "      <td>1967-10-31</td>\n",
       "    </tr>\n",
       "    <tr>\n",
       "      <th>...</th>\n",
       "      <td>...</td>\n",
       "      <td>...</td>\n",
       "      <td>...</td>\n",
       "      <td>...</td>\n",
       "      <td>...</td>\n",
       "      <td>...</td>\n",
       "      <td>...</td>\n",
       "    </tr>\n",
       "    <tr>\n",
       "      <th>474</th>\n",
       "      <td>2006-11-30</td>\n",
       "      <td>9478.5</td>\n",
       "      <td>301070</td>\n",
       "      <td>-1.1</td>\n",
       "      <td>7.3</td>\n",
       "      <td>6849</td>\n",
       "      <td>2006-11-30</td>\n",
       "    </tr>\n",
       "    <tr>\n",
       "      <th>475</th>\n",
       "      <td>2006-12-31</td>\n",
       "      <td>9540.3</td>\n",
       "      <td>301296</td>\n",
       "      <td>-0.9</td>\n",
       "      <td>8.1</td>\n",
       "      <td>7017</td>\n",
       "      <td>2006-12-31</td>\n",
       "    </tr>\n",
       "    <tr>\n",
       "      <th>476</th>\n",
       "      <td>2007-01-31</td>\n",
       "      <td>9610.6</td>\n",
       "      <td>301481</td>\n",
       "      <td>-1.0</td>\n",
       "      <td>8.1</td>\n",
       "      <td>6865</td>\n",
       "      <td>2007-01-31</td>\n",
       "    </tr>\n",
       "    <tr>\n",
       "      <th>477</th>\n",
       "      <td>2007-02-28</td>\n",
       "      <td>9653.0</td>\n",
       "      <td>301684</td>\n",
       "      <td>-0.7</td>\n",
       "      <td>8.5</td>\n",
       "      <td>6724</td>\n",
       "      <td>2007-02-28</td>\n",
       "    </tr>\n",
       "    <tr>\n",
       "      <th>478</th>\n",
       "      <td>2007-03-31</td>\n",
       "      <td>9705.0</td>\n",
       "      <td>301913</td>\n",
       "      <td>-1.3</td>\n",
       "      <td>8.7</td>\n",
       "      <td>6801</td>\n",
       "      <td>2007-03-31</td>\n",
       "    </tr>\n",
       "  </tbody>\n",
       "</table>\n",
       "<p>478 rows × 7 columns</p>\n",
       "</div>"
      ],
      "text/plain": [
       "           date     pce     pop  psavert  uempmed  unemploy      date2\n",
       "1    1967-06-30   507.8  198712      9.8      4.5      2944 1967-06-30\n",
       "2    1967-07-31   510.9  198911      9.8      4.7      2945 1967-07-31\n",
       "3    1967-08-31   516.7  199113      9.0      4.6      2958 1967-08-31\n",
       "4    1967-09-30   513.3  199311      9.8      4.9      3143 1967-09-30\n",
       "5    1967-10-31   518.5  199498      9.7      4.7      3066 1967-10-31\n",
       "..          ...     ...     ...      ...      ...       ...        ...\n",
       "474  2006-11-30  9478.5  301070     -1.1      7.3      6849 2006-11-30\n",
       "475  2006-12-31  9540.3  301296     -0.9      8.1      7017 2006-12-31\n",
       "476  2007-01-31  9610.6  301481     -1.0      8.1      6865 2007-01-31\n",
       "477  2007-02-28  9653.0  301684     -0.7      8.5      6724 2007-02-28\n",
       "478  2007-03-31  9705.0  301913     -1.3      8.7      6801 2007-03-31\n",
       "\n",
       "[478 rows x 7 columns]"
      ]
     },
     "execution_count": 85,
     "metadata": {},
     "output_type": "execute_result"
    }
   ],
   "source": [
    "eco"
   ]
  },
  {
   "cell_type": "code",
   "execution_count": 88,
   "id": "7fad3340-c92d-4fd0-849e-4aaf42e1b47d",
   "metadata": {},
   "outputs": [
    {
     "name": "stdout",
     "output_type": "stream",
     "text": [
      "economics\n",
      "\n",
      "PyDataset Documentation (adopted from R Documentation. The displayed examples are in R)\n",
      "\n",
      "## US economic time series.\n",
      "\n",
      "### Description\n",
      "\n",
      "This dataset was produced from US economic time series data available from\n",
      "http://research.stlouisfed.org/fred2.\n",
      "\n",
      "### Usage\n",
      "\n",
      "    data(economics)\n",
      "\n",
      "### Format\n",
      "\n",
      "A data frame with 478 rows and 6 variables\n",
      "\n",
      "### Details\n",
      "\n",
      "  * date. Month of data collection \n",
      "\n",
      "  * psavert, personal savings rate, http://research.stlouisfed.org/fred2/series/PSAVERT/\n",
      "\n",
      "  * pce, personal consumption expenditures, in billions of dollars, http://research.stlouisfed.org/fred2/series/PCE\n",
      "\n",
      "  * unemploy, number of unemployed in thousands, http://research.stlouisfed.org/fred2/series/UNEMPLOY\n",
      "\n",
      "  * uempmed, median duration of unemployment, in week, http://research.stlouisfed.org/fred2/series/UEMPMED\n",
      "\n",
      "  * pop, total population, in thousands, http://research.stlouisfed.org/fred2/series/POP\n",
      "\n",
      "\n"
     ]
    }
   ],
   "source": [
    "pds.data('economics', show_doc=True)"
   ]
  },
  {
   "cell_type": "code",
   "execution_count": 86,
   "id": "e8ff7db9-c78e-4a21-9fb9-36d984697a1b",
   "metadata": {},
   "outputs": [
    {
     "data": {
      "text/html": [
       "<div>\n",
       "<style scoped>\n",
       "    .dataframe tbody tr th:only-of-type {\n",
       "        vertical-align: middle;\n",
       "    }\n",
       "\n",
       "    .dataframe tbody tr th {\n",
       "        vertical-align: top;\n",
       "    }\n",
       "\n",
       "    .dataframe thead th {\n",
       "        text-align: right;\n",
       "    }\n",
       "</style>\n",
       "<table border=\"1\" class=\"dataframe\">\n",
       "  <thead>\n",
       "    <tr style=\"text-align: right;\">\n",
       "      <th></th>\n",
       "      <th>date</th>\n",
       "      <th>pce</th>\n",
       "      <th>pop</th>\n",
       "      <th>psavert</th>\n",
       "      <th>uempmed</th>\n",
       "      <th>unemploy</th>\n",
       "      <th>date2</th>\n",
       "    </tr>\n",
       "  </thead>\n",
       "  <tbody>\n",
       "    <tr>\n",
       "      <th>1</th>\n",
       "      <td>1967-06-30</td>\n",
       "      <td>507.8</td>\n",
       "      <td>198712</td>\n",
       "      <td>9.8</td>\n",
       "      <td>4.5</td>\n",
       "      <td>2944</td>\n",
       "      <td>1967-06-30</td>\n",
       "    </tr>\n",
       "    <tr>\n",
       "      <th>2</th>\n",
       "      <td>1967-07-31</td>\n",
       "      <td>510.9</td>\n",
       "      <td>198911</td>\n",
       "      <td>9.8</td>\n",
       "      <td>4.7</td>\n",
       "      <td>2945</td>\n",
       "      <td>1967-07-31</td>\n",
       "    </tr>\n",
       "    <tr>\n",
       "      <th>3</th>\n",
       "      <td>1967-08-31</td>\n",
       "      <td>516.7</td>\n",
       "      <td>199113</td>\n",
       "      <td>9.0</td>\n",
       "      <td>4.6</td>\n",
       "      <td>2958</td>\n",
       "      <td>1967-08-31</td>\n",
       "    </tr>\n",
       "    <tr>\n",
       "      <th>4</th>\n",
       "      <td>1967-09-30</td>\n",
       "      <td>513.3</td>\n",
       "      <td>199311</td>\n",
       "      <td>9.8</td>\n",
       "      <td>4.9</td>\n",
       "      <td>3143</td>\n",
       "      <td>1967-09-30</td>\n",
       "    </tr>\n",
       "    <tr>\n",
       "      <th>5</th>\n",
       "      <td>1967-10-31</td>\n",
       "      <td>518.5</td>\n",
       "      <td>199498</td>\n",
       "      <td>9.7</td>\n",
       "      <td>4.7</td>\n",
       "      <td>3066</td>\n",
       "      <td>1967-10-31</td>\n",
       "    </tr>\n",
       "    <tr>\n",
       "      <th>...</th>\n",
       "      <td>...</td>\n",
       "      <td>...</td>\n",
       "      <td>...</td>\n",
       "      <td>...</td>\n",
       "      <td>...</td>\n",
       "      <td>...</td>\n",
       "      <td>...</td>\n",
       "    </tr>\n",
       "    <tr>\n",
       "      <th>474</th>\n",
       "      <td>2006-11-30</td>\n",
       "      <td>9478.5</td>\n",
       "      <td>301070</td>\n",
       "      <td>-1.1</td>\n",
       "      <td>7.3</td>\n",
       "      <td>6849</td>\n",
       "      <td>2006-11-30</td>\n",
       "    </tr>\n",
       "    <tr>\n",
       "      <th>475</th>\n",
       "      <td>2006-12-31</td>\n",
       "      <td>9540.3</td>\n",
       "      <td>301296</td>\n",
       "      <td>-0.9</td>\n",
       "      <td>8.1</td>\n",
       "      <td>7017</td>\n",
       "      <td>2006-12-31</td>\n",
       "    </tr>\n",
       "    <tr>\n",
       "      <th>476</th>\n",
       "      <td>2007-01-31</td>\n",
       "      <td>9610.6</td>\n",
       "      <td>301481</td>\n",
       "      <td>-1.0</td>\n",
       "      <td>8.1</td>\n",
       "      <td>6865</td>\n",
       "      <td>2007-01-31</td>\n",
       "    </tr>\n",
       "    <tr>\n",
       "      <th>477</th>\n",
       "      <td>2007-02-28</td>\n",
       "      <td>9653.0</td>\n",
       "      <td>301684</td>\n",
       "      <td>-0.7</td>\n",
       "      <td>8.5</td>\n",
       "      <td>6724</td>\n",
       "      <td>2007-02-28</td>\n",
       "    </tr>\n",
       "    <tr>\n",
       "      <th>478</th>\n",
       "      <td>2007-03-31</td>\n",
       "      <td>9705.0</td>\n",
       "      <td>301913</td>\n",
       "      <td>-1.3</td>\n",
       "      <td>8.7</td>\n",
       "      <td>6801</td>\n",
       "      <td>2007-03-31</td>\n",
       "    </tr>\n",
       "  </tbody>\n",
       "</table>\n",
       "<p>478 rows × 7 columns</p>\n",
       "</div>"
      ],
      "text/plain": [
       "           date     pce     pop  psavert  uempmed  unemploy      date2\n",
       "1    1967-06-30   507.8  198712      9.8      4.5      2944 1967-06-30\n",
       "2    1967-07-31   510.9  198911      9.8      4.7      2945 1967-07-31\n",
       "3    1967-08-31   516.7  199113      9.0      4.6      2958 1967-08-31\n",
       "4    1967-09-30   513.3  199311      9.8      4.9      3143 1967-09-30\n",
       "5    1967-10-31   518.5  199498      9.7      4.7      3066 1967-10-31\n",
       "..          ...     ...     ...      ...      ...       ...        ...\n",
       "474  2006-11-30  9478.5  301070     -1.1      7.3      6849 2006-11-30\n",
       "475  2006-12-31  9540.3  301296     -0.9      8.1      7017 2006-12-31\n",
       "476  2007-01-31  9610.6  301481     -1.0      8.1      6865 2007-01-31\n",
       "477  2007-02-28  9653.0  301684     -0.7      8.5      6724 2007-02-28\n",
       "478  2007-03-31  9705.0  301913     -1.3      8.7      6801 2007-03-31\n",
       "\n",
       "[478 rows x 7 columns]"
      ]
     },
     "execution_count": 86,
     "metadata": {},
     "output_type": "execute_result"
    }
   ],
   "source": [
    "eco.sort_values(['date2'])"
   ]
  },
  {
   "cell_type": "code",
   "execution_count": 90,
   "id": "020c0e50-bb2b-4a71-8cee-a7f3f32c6218",
   "metadata": {},
   "outputs": [
    {
     "data": {
      "text/plain": [
       "<AxesSubplot:xlabel='date', ylabel='unemploy'>"
      ]
     },
     "execution_count": 90,
     "metadata": {},
     "output_type": "execute_result"
    },
    {
     "data": {
      "image/png": "[encoded data removed]",
      "text/plain": [
       "<Figure size 432x288 with 1 Axes>"
      ]
     },
     "metadata": {
      "needs_background": "light"
     },
     "output_type": "display_data"
    }
   ],
   "source": [
    "sns.lineplot(data=eco, x='date', y='unemploy')#선으로 연결하는 그래프 (선그래프)"
   ]
  },
  {
   "cell_type": "code",
   "execution_count": 91,
   "id": "cd3f5029-36e1-4a77-a6ac-0210e9c0268a",
   "metadata": {},
   "outputs": [
    {
     "data": {
      "text/plain": [
       "<AxesSubplot:xlabel='date2', ylabel='unemploy'>"
      ]
     },
     "execution_count": 91,
     "metadata": {},
     "output_type": "execute_result"
    },
    {
     "data": {
      "image/png": "[encoded data removed]",
      "text/plain": [
       "<Figure size 432x288 with 1 Axes>"
      ]
     },
     "metadata": {
      "needs_background": "light"
     },
     "output_type": "display_data"
    }
   ],
   "source": [
    "sns.lineplot(data=eco, x='date2', y='unemploy')#시계열에서 선으로(?) 연결하는 그래프 (시계열로 나타낸 그래프)"
   ]
  },
  {
   "cell_type": "code",
   "execution_count": 92,
   "id": "0a890718-ad77-4653-abf0-c2759bba0aaf",
   "metadata": {},
   "outputs": [
    {
     "data": {
      "text/html": [
       "<div>\n",
       "<style scoped>\n",
       "    .dataframe tbody tr th:only-of-type {\n",
       "        vertical-align: middle;\n",
       "    }\n",
       "\n",
       "    .dataframe tbody tr th {\n",
       "        vertical-align: top;\n",
       "    }\n",
       "\n",
       "    .dataframe thead th {\n",
       "        text-align: right;\n",
       "    }\n",
       "</style>\n",
       "<table border=\"1\" class=\"dataframe\">\n",
       "  <thead>\n",
       "    <tr style=\"text-align: right;\">\n",
       "      <th></th>\n",
       "      <th>date</th>\n",
       "      <th>pce</th>\n",
       "      <th>pop</th>\n",
       "      <th>psavert</th>\n",
       "      <th>uempmed</th>\n",
       "      <th>unemploy</th>\n",
       "      <th>date2</th>\n",
       "    </tr>\n",
       "  </thead>\n",
       "  <tbody>\n",
       "    <tr>\n",
       "      <th>1</th>\n",
       "      <td>1967-06-30</td>\n",
       "      <td>507.8</td>\n",
       "      <td>198712</td>\n",
       "      <td>9.8</td>\n",
       "      <td>4.5</td>\n",
       "      <td>2944</td>\n",
       "      <td>1967-06-30</td>\n",
       "    </tr>\n",
       "    <tr>\n",
       "      <th>2</th>\n",
       "      <td>1967-07-31</td>\n",
       "      <td>510.9</td>\n",
       "      <td>198911</td>\n",
       "      <td>9.8</td>\n",
       "      <td>4.7</td>\n",
       "      <td>2945</td>\n",
       "      <td>1967-07-31</td>\n",
       "    </tr>\n",
       "    <tr>\n",
       "      <th>3</th>\n",
       "      <td>1967-08-31</td>\n",
       "      <td>516.7</td>\n",
       "      <td>199113</td>\n",
       "      <td>9.0</td>\n",
       "      <td>4.6</td>\n",
       "      <td>2958</td>\n",
       "      <td>1967-08-31</td>\n",
       "    </tr>\n",
       "    <tr>\n",
       "      <th>4</th>\n",
       "      <td>1967-09-30</td>\n",
       "      <td>513.3</td>\n",
       "      <td>199311</td>\n",
       "      <td>9.8</td>\n",
       "      <td>4.9</td>\n",
       "      <td>3143</td>\n",
       "      <td>1967-09-30</td>\n",
       "    </tr>\n",
       "    <tr>\n",
       "      <th>5</th>\n",
       "      <td>1967-10-31</td>\n",
       "      <td>518.5</td>\n",
       "      <td>199498</td>\n",
       "      <td>9.7</td>\n",
       "      <td>4.7</td>\n",
       "      <td>3066</td>\n",
       "      <td>1967-10-31</td>\n",
       "    </tr>\n",
       "    <tr>\n",
       "      <th>...</th>\n",
       "      <td>...</td>\n",
       "      <td>...</td>\n",
       "      <td>...</td>\n",
       "      <td>...</td>\n",
       "      <td>...</td>\n",
       "      <td>...</td>\n",
       "      <td>...</td>\n",
       "    </tr>\n",
       "    <tr>\n",
       "      <th>474</th>\n",
       "      <td>2006-11-30</td>\n",
       "      <td>9478.5</td>\n",
       "      <td>301070</td>\n",
       "      <td>-1.1</td>\n",
       "      <td>7.3</td>\n",
       "      <td>6849</td>\n",
       "      <td>2006-11-30</td>\n",
       "    </tr>\n",
       "    <tr>\n",
       "      <th>475</th>\n",
       "      <td>2006-12-31</td>\n",
       "      <td>9540.3</td>\n",
       "      <td>301296</td>\n",
       "      <td>-0.9</td>\n",
       "      <td>8.1</td>\n",
       "      <td>7017</td>\n",
       "      <td>2006-12-31</td>\n",
       "    </tr>\n",
       "    <tr>\n",
       "      <th>476</th>\n",
       "      <td>2007-01-31</td>\n",
       "      <td>9610.6</td>\n",
       "      <td>301481</td>\n",
       "      <td>-1.0</td>\n",
       "      <td>8.1</td>\n",
       "      <td>6865</td>\n",
       "      <td>2007-01-31</td>\n",
       "    </tr>\n",
       "    <tr>\n",
       "      <th>477</th>\n",
       "      <td>2007-02-28</td>\n",
       "      <td>9653.0</td>\n",
       "      <td>301684</td>\n",
       "      <td>-0.7</td>\n",
       "      <td>8.5</td>\n",
       "      <td>6724</td>\n",
       "      <td>2007-02-28</td>\n",
       "    </tr>\n",
       "    <tr>\n",
       "      <th>478</th>\n",
       "      <td>2007-03-31</td>\n",
       "      <td>9705.0</td>\n",
       "      <td>301913</td>\n",
       "      <td>-1.3</td>\n",
       "      <td>8.7</td>\n",
       "      <td>6801</td>\n",
       "      <td>2007-03-31</td>\n",
       "    </tr>\n",
       "  </tbody>\n",
       "</table>\n",
       "<p>478 rows × 7 columns</p>\n",
       "</div>"
      ],
      "text/plain": [
       "           date     pce     pop  psavert  uempmed  unemploy      date2\n",
       "1    1967-06-30   507.8  198712      9.8      4.5      2944 1967-06-30\n",
       "2    1967-07-31   510.9  198911      9.8      4.7      2945 1967-07-31\n",
       "3    1967-08-31   516.7  199113      9.0      4.6      2958 1967-08-31\n",
       "4    1967-09-30   513.3  199311      9.8      4.9      3143 1967-09-30\n",
       "5    1967-10-31   518.5  199498      9.7      4.7      3066 1967-10-31\n",
       "..          ...     ...     ...      ...      ...       ...        ...\n",
       "474  2006-11-30  9478.5  301070     -1.1      7.3      6849 2006-11-30\n",
       "475  2006-12-31  9540.3  301296     -0.9      8.1      7017 2006-12-31\n",
       "476  2007-01-31  9610.6  301481     -1.0      8.1      6865 2007-01-31\n",
       "477  2007-02-28  9653.0  301684     -0.7      8.5      6724 2007-02-28\n",
       "478  2007-03-31  9705.0  301913     -1.3      8.7      6801 2007-03-31\n",
       "\n",
       "[478 rows x 7 columns]"
      ]
     },
     "execution_count": 92,
     "metadata": {},
     "output_type": "execute_result"
    }
   ],
   "source": [
    "eco"
   ]
  },
  {
   "cell_type": "code",
   "execution_count": null,
   "id": "d082a55b-4941-4616-a844-6909ae555204",
   "metadata": {},
   "outputs": [],
   "source": [
    "#월별로 나타내기"
   ]
  },
  {
   "cell_type": "code",
   "execution_count": 93,
   "id": "4e4f710c-66be-4010-9048-7e378e64087d",
   "metadata": {},
   "outputs": [],
   "source": [
    "eco['month'] = eco['date2'].dt.month"
   ]
  },
  {
   "cell_type": "code",
   "execution_count": 95,
   "id": "761faa83-5877-4d04-af7c-d116c8c7ff15",
   "metadata": {},
   "outputs": [],
   "source": [
    "eco_df = eco.groupby('month', as_index=False)['unemploy'].mean()"
   ]
  },
  {
   "cell_type": "code",
   "execution_count": 97,
   "id": "a39848c3-159c-4d71-b8c8-6b0b04df1dec",
   "metadata": {},
   "outputs": [
    {
     "data": {
      "text/plain": [
       "<AxesSubplot:xlabel='month', ylabel='unemploy'>"
      ]
     },
     "execution_count": 97,
     "metadata": {},
     "output_type": "execute_result"
    },
    {
     "data": {
      "image/png": "[encoded data removed]",
      "text/plain": [
       "<Figure size 432x288 with 1 Axes>"
      ]
     },
     "metadata": {
      "needs_background": "light"
     },
     "output_type": "display_data"
    }
   ],
   "source": [
    "sns.lineplot(data=eco_df, x='month', y='unemploy') #월별 시계열에서 선으로(?) 연결하는 그래프 (시계열로 나타낸 그래프)"
   ]
  },
  {
   "cell_type": "code",
   "execution_count": 98,
   "id": "78035760-be4e-4a82-8f5a-8985798d370c",
   "metadata": {},
   "outputs": [
    {
     "data": {
      "image/png": "[encoded data removed]",
      "text/plain": [
       "<Figure size 432x288 with 1 Axes>"
      ]
     },
     "metadata": {
      "needs_background": "light"
     },
     "output_type": "display_data"
    }
   ],
   "source": [
    "sns.lineplot(data=eco_df, x='month', y='unemploy'); #월별 시계열에서 선으로(?) 연결하는 그래프 (시계열로 나타낸 그래프)"
   ]
  },
  {
   "cell_type": "code",
   "execution_count": null,
   "id": "65b8c295-ccc7-4cb3-aa9e-78c581028a28",
   "metadata": {},
   "outputs": [],
   "source": [
    "#연도별 시계열 그래프 나타내기"
   ]
  },
  {
   "cell_type": "code",
   "execution_count": 99,
   "id": "4c42285f-df5d-400a-bea7-c55387d3d918",
   "metadata": {},
   "outputs": [],
   "source": [
    "eco['year'] = eco['date2'].dt.year"
   ]
  },
  {
   "cell_type": "code",
   "execution_count": 100,
   "id": "afbf35a4-0fae-4309-95c5-ebc098472d2e",
   "metadata": {},
   "outputs": [],
   "source": [
    "eco_df = eco.groupby('year', as_index=False)['unemploy'].mean()"
   ]
  },
  {
   "cell_type": "code",
   "execution_count": 101,
   "id": "8abddbe2-76f5-4dc5-963f-01cc37dbdb84",
   "metadata": {},
   "outputs": [
    {
     "data": {
      "text/plain": [
       "<AxesSubplot:xlabel='year', ylabel='unemploy'>"
      ]
     },
     "execution_count": 101,
     "metadata": {},
     "output_type": "execute_result"
    },
    {
     "data": {
      "image/png": "[encoded data removed]",
      "text/plain": [
       "<Figure size 432x288 with 1 Axes>"
      ]
     },
     "metadata": {
      "needs_background": "light"
     },
     "output_type": "display_data"
    }
   ],
   "source": [
    "sns.lineplot(data=eco_df, x='year', y='unemploy') #연도별 시계열에서 선으로(?) 연결하는 그래프 (시계열로 나타낸 그래프)"
   ]
  },
  {
   "cell_type": "code",
   "execution_count": 102,
   "id": "b3755cbe-b8b9-42bd-9603-9b40d762cb2a",
   "metadata": {},
   "outputs": [
    {
     "data": {
      "image/png": "[encoded data removed]",
      "text/plain": [
       "<Figure size 432x288 with 1 Axes>"
      ]
     },
     "metadata": {
      "needs_background": "light"
     },
     "output_type": "display_data"
    }
   ],
   "source": [
    "sns.lineplot(data=eco_df, x='year', y='unemploy'); #연도별 시계열에서 선으로(?) 연결하는 그래프 (시계열로 나타낸 그래프)"
   ]
  },
  {
   "cell_type": "code",
   "execution_count": null,
   "id": "4e43a16a-8052-4fe8-93aa-4cac7a679939",
   "metadata": {},
   "outputs": [],
   "source": [
    "#일별 시계열 그래프 나타내기"
   ]
  },
  {
   "cell_type": "code",
   "execution_count": 103,
   "id": "9c43f1f2-ae9d-4513-ad07-0fdf7732baf2",
   "metadata": {},
   "outputs": [],
   "source": [
    "eco['day'] = eco['date2'].dt.day"
   ]
  },
  {
   "cell_type": "code",
   "execution_count": 104,
   "id": "c87278c7-8520-4509-888f-e87e6289f320",
   "metadata": {},
   "outputs": [],
   "source": [
    "eco_df = eco.groupby('day', as_index=False)['unemploy'].mean()"
   ]
  },
  {
   "cell_type": "code",
   "execution_count": 105,
   "id": "6a181ed5-3d1d-4dba-bc4a-a83f04e4bd67",
   "metadata": {},
   "outputs": [
    {
     "data": {
      "text/plain": [
       "<AxesSubplot:xlabel='day', ylabel='unemploy'>"
      ]
     },
     "execution_count": 105,
     "metadata": {},
     "output_type": "execute_result"
    },
    {
     "data": {
      "image/png": "[encoded data removed]",
      "text/plain": [
       "<Figure size 432x288 with 1 Axes>"
      ]
     },
     "metadata": {
      "needs_background": "light"
     },
     "output_type": "display_data"
    }
   ],
   "source": [
    "sns.lineplot(data=eco_df, x='day', y='unemploy') #일별 시계열에서 선으로(?) 연결하는 그래프 (시계열로 나타낸 그래프)"
   ]
  },
  {
   "cell_type": "code",
   "execution_count": 107,
   "id": "bbbfa680-ee7b-4f1f-9a00-6746c00ae576",
   "metadata": {},
   "outputs": [
    {
     "data": {
      "image/png": "[encoded data removed]",
      "text/plain": [
       "<Figure size 432x288 with 1 Axes>"
      ]
     },
     "metadata": {
      "needs_background": "light"
     },
     "output_type": "display_data"
    }
   ],
   "source": [
    "sns.lineplot(data=eco_df, x='day', y='unemploy'); #일별 시계열에서 선으로(?) 연결하는 그래프 (시계열로 나타낸 그래프)"
   ]
  },
  {
   "cell_type": "code",
   "execution_count": null,
   "id": "124918e5-a3d4-472f-9625-0b5c5ba5509a",
   "metadata": {},
   "outputs": [],
   "source": []
  }
 ],
 "metadata": {
  "kernelspec": {
   "display_name": "Python 3 (ipykernel)",
   "language": "python",
   "name": "python3"
  },
  "language_info": {
   "codemirror_mode": {
    "name": "ipython",
    "version": 3
   },
   "file_extension": ".py",
   "mimetype": "text/x-python",
   "name": "python",
   "nbconvert_exporter": "python",
   "pygments_lexer": "ipython3",
   "version": "3.9.12"
  }
 },
 "nbformat": 4,
 "nbformat_minor": 5
}
