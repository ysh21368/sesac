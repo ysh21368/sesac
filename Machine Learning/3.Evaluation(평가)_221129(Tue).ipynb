{
 "cells": [
  {
   "cell_type": "code",
   "execution_count": null,
   "id": "78bc78fa-fbd5-4a62-ad03-5f7dbc065c69",
   "metadata": {},
   "outputs": [],
   "source": [
    "import pandas as pd\n",
    "from sklearn import datasets\n",
    "from sklearn.model_selection import train_test_split\n",
    "from sklearn.neighbors import KNeighborsRegressor"
   ]
  },
  {
   "cell_type": "code",
   "execution_count": null,
   "id": "cf6a7b39-a3b2-4d61-b5a2-2824af83c0eb",
   "metadata": {},
   "outputs": [],
   "source": [
    "diabets = datasets.load_diabetes()"
   ]
  },
  {
   "cell_type": "code",
   "execution_count": null,
   "id": "8770224e-08d9-436e-b86b-40831a2588f0",
   "metadata": {},
   "outputs": [],
   "source": [
    "x_train, x_test, y_train, y_test = train_test_split(diabets.data, diabets.target, test_size = 0.25, random_state =0)"
   ]
  },
  {
   "cell_type": "code",
   "execution_count": null,
   "id": "d87d6241-7586-4614-a02a-a86e5b10be8d",
   "metadata": {},
   "outputs": [],
   "source": [
    "X = diabets.data\n",
    "Y = diabets.target"
   ]
  },
  {
   "cell_type": "code",
   "execution_count": null,
   "id": "447ed2cf-1d8f-4894-8c2d-9bd6f1af183e",
   "metadata": {},
   "outputs": [],
   "source": [
    "model = KNeighborsRegressor(n_neighbors=10)"
   ]
  },
  {
   "cell_type": "code",
   "execution_count": null,
   "id": "48caf8d6-f910-41ef-8e2c-d56f6c9ba33e",
   "metadata": {},
   "outputs": [],
   "source": [
    "from sklearn.model_selection import cross_val_score # (cross validation: 교차검증) - 이론 수업 때, K-Fold cross validation 배움 / cv = k값"
   ]
  },
  {
   "cell_type": "code",
   "execution_count": null,
   "id": "67eba217-7d7c-40ee-aecd-ea1395bccf69",
   "metadata": {
    "tags": []
   },
   "outputs": [],
   "source": [
    "cross_val_score(model, X, Y, cv = 5, scoring = 'mean_squared_error') # 이렇게 하면 오류남...!!! # cv = k값"
   ]
  },
  {
   "cell_type": "code",
   "execution_count": null,
   "id": "8ef810bd-844c-4997-93c1-8e5da9c76375",
   "metadata": {},
   "outputs": [],
   "source": [
    "X.shape"
   ]
  },
  {
   "cell_type": "code",
   "execution_count": null,
   "id": "cfa8ceb3-2874-4468-8019-122de9305fcc",
   "metadata": {},
   "outputs": [],
   "source": [
    "cross_val_score(model, X, Y, cv = 20, scoring = 'neg_mean_squared_error') #마이너스일 경우, 커질수록 오차가 작아지는 것이다. -> 오류가 작다는 뜻 -> 좋은 모델 # cv = k값"
   ]
  },
  {
   "cell_type": "code",
   "execution_count": null,
   "id": "ac6fcacf-7239-4f56-9d72-fb8e43ccb3aa",
   "metadata": {},
   "outputs": [],
   "source": [
    "cv 값을 키울수록 테스트 사이즈가 작아진다.(=트레인 사이즈가 커진다.)\n",
    "cv 값을 낮출수록 테스트 사이즈가 커진다.(=트레인 사이즈가 작아진다.)"
   ]
  },
  {
   "cell_type": "code",
   "execution_count": null,
   "id": "c6f931cc-fb16-4ad5-b106-a27245506d86",
   "metadata": {},
   "outputs": [],
   "source": [
    "# 오전 수업 여기까지 함"
   ]
  },
  {
   "cell_type": "markdown",
   "id": "8fda0ad9-8bd0-409a-85b7-cdd60bb73793",
   "metadata": {},
   "source": [
    "---"
   ]
  },
  {
   "cell_type": "code",
   "execution_count": null,
   "id": "22ac1786-afca-4737-b1b4-1781c0aa4924",
   "metadata": {},
   "outputs": [],
   "source": [
    "# 오후 수업"
   ]
  },
  {
   "cell_type": "code",
   "execution_count": null,
   "id": "06380e7d-cc6f-438b-b38a-14de872d7c67",
   "metadata": {},
   "outputs": [],
   "source": [
    "from sklearn.neighbors import KNeighborsClassifier"
   ]
  },
  {
   "cell_type": "code",
   "execution_count": null,
   "id": "a72e101e-d404-49c8-b56f-a5a22700de0f",
   "metadata": {},
   "outputs": [],
   "source": [
    "iris = datasets.load_iris()"
   ]
  },
  {
   "cell_type": "code",
   "execution_count": null,
   "id": "4f20b833-45b8-4d0a-9ae3-5b3a67680a76",
   "metadata": {},
   "outputs": [],
   "source": [
    "model = KNeighborsClassifier()"
   ]
  },
  {
   "cell_type": "code",
   "execution_count": null,
   "id": "6b88adff-a888-4c20-a246-4baca881957a",
   "metadata": {},
   "outputs": [],
   "source": [
    "cross_val_score(model, iris.data, iris.target, cv = 5)"
   ]
  },
  {
   "cell_type": "code",
   "execution_count": 88,
   "id": "52988500-638f-47e5-bf51-e81ff27bd821",
   "metadata": {},
   "outputs": [
    {
     "ename": "NameError",
     "evalue": "name 'cross_val_score' is not defined",
     "output_type": "error",
     "traceback": [
      "\u001b[1;31m---------------------------------------------------------------------------\u001b[0m",
      "\u001b[1;31mNameError\u001b[0m                                 Traceback (most recent call last)",
      "Input \u001b[1;32mIn [88]\u001b[0m, in \u001b[0;36m<cell line: 1>\u001b[1;34m()\u001b[0m\n\u001b[1;32m----> 1\u001b[0m \u001b[43mcross_val_score\u001b[49m(model, iris\u001b[38;5;241m.\u001b[39mdata, iris\u001b[38;5;241m.\u001b[39mtarget, cv \u001b[38;5;241m=\u001b[39m \u001b[38;5;241m5\u001b[39m, scoring \u001b[38;5;241m=\u001b[39m \u001b[38;5;124m'\u001b[39m\u001b[38;5;124mf1_macro\u001b[39m\u001b[38;5;124m'\u001b[39m)\n",
      "\u001b[1;31mNameError\u001b[0m: name 'cross_val_score' is not defined"
     ]
    }
   ],
   "source": [
    "cross_val_score(model, iris.data, iris.target, cv = 5, scoring = 'f1_macro') # ?????????? 물어보기"
   ]
  },
  {
   "cell_type": "code",
   "execution_count": null,
   "id": "b04c88e7-d4ce-476e-a1c4-3eec443473d7",
   "metadata": {},
   "outputs": [],
   "source": [
    "# K-fold Cross Validataion"
   ]
  },
  {
   "cell_type": "code",
   "execution_count": null,
   "id": "746c50d4-eb33-4b9c-a4c2-2b5e21acaecb",
   "metadata": {},
   "outputs": [],
   "source": [
    "from sklearn.model_selection import KFold\n",
    "import numpy as np\n",
    "\n",
    "import warnings\n",
    "warnings.filterwarnings('ignore')"
   ]
  },
  {
   "cell_type": "code",
   "execution_count": null,
   "id": "2ca89910-d7ec-4606-845a-6b1bdc45871f",
   "metadata": {},
   "outputs": [],
   "source": [
    "X = np.array([['N', 'Y'],['Y', 'Y'],['N', 'Y'],['Y', 'Y'],['Y', 'Y'],['Y', 'Y']])"
   ]
  },
  {
   "cell_type": "code",
   "execution_count": null,
   "id": "fb1d5b84-f654-4700-87e0-9a71eec6d234",
   "metadata": {},
   "outputs": [],
   "source": [
    "Y = np.array(['cat', 'dog', 'cat', 'dog', 'dog', 'dog'])"
   ]
  },
  {
   "cell_type": "code",
   "execution_count": null,
   "id": "826359d1-5552-40dc-81bd-ad9422c09411",
   "metadata": {},
   "outputs": [],
   "source": [
    "kf = KFold(2)"
   ]
  },
  {
   "cell_type": "code",
   "execution_count": null,
   "id": "1309ff62-5a85-41fd-9493-4df1da063ac3",
   "metadata": {},
   "outputs": [],
   "source": [
    "list(kf.split(X))"
   ]
  },
  {
   "cell_type": "code",
   "execution_count": null,
   "id": "579883c9-2eb4-472f-9de9-d26183c93362",
   "metadata": {},
   "outputs": [],
   "source": [
    "for train_index, test_index in kf.split(X) :\n",
    "    x_train, x_test = X[train_index], X[test_index]\n",
    "    y_train, y_test = Y[train_index], Y[test_index]\n",
    "    print(\"Train\", train_index)\n",
    "    print(x_train, '/', y_train)\n",
    "    print(\"Test\", test_index)\n",
    "    print(x_test, '/', y_test)\n",
    "    print('--------------------------------------')"
   ]
  },
  {
   "cell_type": "code",
   "execution_count": null,
   "id": "de7ae898-a1c6-495e-9458-f3f04ea7f4a2",
   "metadata": {},
   "outputs": [],
   "source": [
    "from sklearn.model_selection import StratifiedKFold # StratifiedKFold(층화) / # 라벨링을 한쪽에 몰아주는 것을 방지해줄때 사용\n",
    "                                                                             #한쪽에 데이터가 몰리는 것을 방지해주는 것"
   ]
  },
  {
   "cell_type": "code",
   "execution_count": null,
   "id": "0461d774-888e-448a-992d-b4ed5927de83",
   "metadata": {},
   "outputs": [],
   "source": [
    "skf = StratifiedKFold(2)"
   ]
  },
  {
   "cell_type": "code",
   "execution_count": null,
   "id": "19443cd0-c0ee-4f0b-ba85-23a7297e599c",
   "metadata": {},
   "outputs": [],
   "source": [
    "for train_index, test_index in skf.split(X, Y) :\n",
    "    x_train, x_test = X[train_index], X[test_index]\n",
    "    y_train, y_test = Y[train_index], Y[test_index]\n",
    "    print(\"Train\", train_index)\n",
    "    print(x_train, '/', y_train)\n",
    "    print(\"Test\", test_index)\n",
    "    print(x_test, '/', y_test)\n",
    "    print('--------------------------------------')"
   ]
  },
  {
   "cell_type": "markdown",
   "id": "8f88c0d1-1390-4757-a73d-4f33a7610fbf",
   "metadata": {},
   "source": [
    "---"
   ]
  },
  {
   "cell_type": "code",
   "execution_count": null,
   "id": "9a36e084-6d60-43df-b0c3-ce6c7904b788",
   "metadata": {},
   "outputs": [],
   "source": [
    "# Regression의 evaluation"
   ]
  },
  {
   "cell_type": "code",
   "execution_count": null,
   "id": "bb7cd64a-2c24-42ee-9fe4-99b285d33d80",
   "metadata": {},
   "outputs": [],
   "source": [
    "from sklearn import datasets\n",
    "from sklearn.linear_model import LinearRegression\n",
    "from sklearn.metrics import mean_squared_error\n",
    "from sklearn.model_selection import train_test_split"
   ]
  },
  {
   "cell_type": "code",
   "execution_count": null,
   "id": "9ac7b399-4bc9-468c-9dda-2b1ce6d8b7e4",
   "metadata": {},
   "outputs": [],
   "source": [
    "lr = LinearRegression()"
   ]
  },
  {
   "cell_type": "code",
   "execution_count": null,
   "id": "b90704ed-6de2-4f68-91c6-4ec309aef305",
   "metadata": {},
   "outputs": [],
   "source": [
    "diabets = datasets.load_diabetes()"
   ]
  },
  {
   "cell_type": "code",
   "execution_count": null,
   "id": "d74309dd-2a80-4a18-81f4-8697584d5a3c",
   "metadata": {},
   "outputs": [],
   "source": [
    "for _ in range(10) :\n",
    "    print(_)"
   ]
  },
  {
   "cell_type": "code",
   "execution_count": null,
   "id": "f8115298-f98a-4c37-80ee-3edfcbff32b7",
   "metadata": {
    "tags": []
   },
   "outputs": [],
   "source": [
    "scores = []\n",
    "for i in range(10) :\n",
    "    x_train, x_test, y_train, y_test = train_test_split(diabets.data, diabets.target, test_size = 0.25, random_state = i)\n",
    "    \n",
    "    lr.fit(x_train, y_train)\n",
    "    preds = lr.predict(x_test)\n",
    "    \n",
    "    score = mean_squared_error(y_test, preds)\n",
    "    scores.append(score)\n",
    "    print(score)"
   ]
  },
  {
   "cell_type": "code",
   "execution_count": null,
   "id": "c7fdfb28-0a0a-4a05-ad9c-14558e31ee47",
   "metadata": {},
   "outputs": [],
   "source": [
    "scores"
   ]
  },
  {
   "cell_type": "code",
   "execution_count": null,
   "id": "377a0ef8-7f72-42ec-a2fb-7982be1d2fb9",
   "metadata": {},
   "outputs": [],
   "source": [
    "df = pd.DataFrame({'RMSE' : np.sqrt(scores)})"
   ]
  },
  {
   "cell_type": "code",
   "execution_count": null,
   "id": "d1260bca-4f4d-4135-aa63-f18deab2c997",
   "metadata": {},
   "outputs": [],
   "source": [
    "df"
   ]
  },
  {
   "cell_type": "code",
   "execution_count": null,
   "id": "39ac2dab-4964-4cba-aecd-d4d5a655f0e1",
   "metadata": {},
   "outputs": [],
   "source": [
    "df.T"
   ]
  },
  {
   "cell_type": "code",
   "execution_count": null,
   "id": "cc9add14-c9f1-4372-8e32-658621e86010",
   "metadata": {},
   "outputs": [],
   "source": [
    "import seaborn as sns"
   ]
  },
  {
   "cell_type": "code",
   "execution_count": null,
   "id": "12e120af-8d7b-4454-8dec-ea14e119780d",
   "metadata": {},
   "outputs": [],
   "source": [
    "swarm = sns.swarmplot(y = 'RMSE', data = df) # 분산(퍼짐현상)과 편향 개념을 알면 좋다"
   ]
  },
  {
   "cell_type": "code",
   "execution_count": null,
   "id": "96b480cb-c7c8-4a3f-ada6-f97ed484183b",
   "metadata": {},
   "outputs": [],
   "source": [
    "학습(편향) => 명중 (비례관계)\n",
    "모이는정도의 유무 또는 퍼짐 정도의 유무(분산) => 영점 (비례관계)"
   ]
  },
  {
   "cell_type": "code",
   "execution_count": null,
   "id": "0e3d2458-ca8d-4a2b-b079-c99e26dc0b15",
   "metadata": {},
   "outputs": [],
   "source": [
    "from sklearn.preprocessing import MinMaxScaler #MinMaxScaler를 해줘도 유의미한 결과가 없음"
   ]
  },
  {
   "cell_type": "code",
   "execution_count": null,
   "id": "2651f5ad-4bcb-4f73-8519-f8733af5d704",
   "metadata": {},
   "outputs": [],
   "source": [
    "scaler = MinMaxScaler()"
   ]
  },
  {
   "cell_type": "code",
   "execution_count": null,
   "id": "05a92635-fa4e-4a54-b5bc-a99b0e0277b8",
   "metadata": {},
   "outputs": [],
   "source": [
    "X = scaler.fit_transform(diabets.data)"
   ]
  },
  {
   "cell_type": "code",
   "execution_count": null,
   "id": "b2bd5620-9972-47cf-8d0e-99b571dd0be0",
   "metadata": {
    "tags": []
   },
   "outputs": [],
   "source": [
    "scores = []\n",
    "for i in range(10) :\n",
    "    x_train, x_test, y_train, y_test = train_test_split(X, diabets.target, test_size = 0.25, random_state = i)\n",
    "    \n",
    "    lr.fit(x_train, y_train)\n",
    "    preds = lr.predict(x_test)\n",
    "    \n",
    "    score = mean_squared_error(y_test, preds)\n",
    "    scores.append(score)\n",
    "    print(score)"
   ]
  },
  {
   "cell_type": "code",
   "execution_count": null,
   "id": "9ee2a662-b11b-4506-b90f-3578b9f71b6b",
   "metadata": {},
   "outputs": [],
   "source": [
    "df2 = pd.DataFrame({'RMSE' : np.sqrt(scores)})"
   ]
  },
  {
   "cell_type": "code",
   "execution_count": null,
   "id": "454c3821-771e-4e4c-af7c-9fbb3472ed17",
   "metadata": {},
   "outputs": [],
   "source": [
    "swarm = sns.swarmplot(y = 'RMSE', data = df2) # 분산(퍼짐현상)과 편향 개념을 알면 좋다"
   ]
  },
  {
   "cell_type": "markdown",
   "id": "774a0161-608d-4c7a-a3a9-60eb629a2e29",
   "metadata": {},
   "source": [
    "---"
   ]
  },
  {
   "cell_type": "code",
   "execution_count": null,
   "id": "caa248c8-c48c-4fd2-ac4c-5886117fefd8",
   "metadata": {},
   "outputs": [],
   "source": [
    "# 평균을 구해보자"
   ]
  },
  {
   "cell_type": "code",
   "execution_count": null,
   "id": "1b2793e3-182d-4ea3-91a9-436d622b367f",
   "metadata": {},
   "outputs": [],
   "source": [
    "df[].mean()"
   ]
  },
  {
   "cell_type": "code",
   "execution_count": null,
   "id": "9210f4fe-116b-425f-a9cd-b1592a25785f",
   "metadata": {},
   "outputs": [],
   "source": [
    "df.T"
   ]
  },
  {
   "cell_type": "code",
   "execution_count": null,
   "id": "9ce48143-cac5-4f36-a44d-be13b7b89f29",
   "metadata": {
    "tags": []
   },
   "outputs": [],
   "source": [
    "scores = []\n",
    "for _ in range(10) :\n",
    "    x_train, x_test, y_train, y_test = train_test_split(diabets.data, diabets.target, test_size = 0.25)\n",
    "    \n",
    "    lr.fit(x_train, y_train)\n",
    "    preds = lr.predict(x_test)\n",
    "    \n",
    "    score = mean_squared_error(y_test, preds)\n",
    "    scores.append(score)\n",
    "    print(score)"
   ]
  },
  {
   "cell_type": "code",
   "execution_count": null,
   "id": "e5ffdcc7-d1f9-472d-b142-a345a11dada7",
   "metadata": {},
   "outputs": [],
   "source": [
    "def tts_fit_score(model, X, Y, evaluation, test_size = 0.25):\n",
    "    x_train, x_test, y_train, y_test = train_test_split(X, Y, test_size = test_size)\n",
    "    model.fit(x_train, y_train)\n",
    "    preds = model.predict(x_test)\n",
    "    \n",
    "    score = evaluation(y_test, preds)\n",
    "    return score"
   ]
  },
  {
   "cell_type": "code",
   "execution_count": null,
   "id": "c31c2f92-04f9-4412-9c0a-d38c4d80a249",
   "metadata": {},
   "outputs": [],
   "source": [
    "lr = LinearRegression()\n",
    "diabets = datasets.load_diabetes()"
   ]
  },
  {
   "cell_type": "code",
   "execution_count": null,
   "id": "7f2eab04-0f09-4076-ba10-62b56c1543ef",
   "metadata": {},
   "outputs": [],
   "source": [
    "scores = [tts_fit_score(lr, diabets.data, diabets.target, mean_squared_error) for _ in range(10)]"
   ]
  },
  {
   "cell_type": "code",
   "execution_count": null,
   "id": "682637a8-38b8-470d-9e28-d655ea6f8cca",
   "metadata": {},
   "outputs": [],
   "source": [
    "np.mean(np.sqrt(scores))"
   ]
  },
  {
   "cell_type": "markdown",
   "id": "53a925c7-a97a-44cc-84fe-8fd56b622470",
   "metadata": {},
   "source": [
    "---"
   ]
  },
  {
   "cell_type": "code",
   "execution_count": null,
   "id": "ad9549b2-9c07-42d2-9252-51568d7eb94f",
   "metadata": {},
   "outputs": [],
   "source": [
    "# "
   ]
  },
  {
   "cell_type": "code",
   "execution_count": null,
   "id": "0505640f-c902-45dd-ac85-66a9ec6f9f50",
   "metadata": {},
   "outputs": [],
   "source": [
    "from sklearn.model_selection import ShuffleSplit"
   ]
  },
  {
   "cell_type": "code",
   "execution_count": null,
   "id": "7f8e97ca-adce-44dc-ae71-0842b315fb44",
   "metadata": {},
   "outputs": [],
   "source": [
    "# train:test(7:3)이든 뭐든 원하는 비율로 조절 가능(ex)test_size나 n_splits를 이용해서 비율 조절 가능), 임의로 데이터를 잘 섞어줄 수 있음\n",
    "ss = ShuffleSplit(test_size = 0.25, n_splits = 20)#, random_state = 0) "
   ]
  },
  {
   "cell_type": "code",
   "execution_count": null,
   "id": "211f5449-2e1e-4b00-a34a-af83512fd611",
   "metadata": {},
   "outputs": [],
   "source": [
    "lr = LinearRegression()\n",
    "diabets = datasets.load_diabetes()"
   ]
  },
  {
   "cell_type": "code",
   "execution_count": null,
   "id": "38fac9c7-c744-4b35-89a7-121953cf0092",
   "metadata": {},
   "outputs": [],
   "source": [
    "# train:test(9:1) 10/1 비율  , 해당하는 구간과 구간사이로 나뉘어 주기 때문에 임의로 데이터가 섞이지 않음\n",
    "scores = cross_val_score(lr, diabets.data, diabets.target, cv = 20, scoring = \"neg_mean_squared_error\") "
   ]
  },
  {
   "cell_type": "code",
   "execution_count": null,
   "id": "e2e80262-5a7d-4555-9ff9-25d0e44f7604",
   "metadata": {},
   "outputs": [],
   "source": [
    "scores"
   ]
  },
  {
   "cell_type": "code",
   "execution_count": null,
   "id": "c2cdc58b-6ddd-4621-8735-25e3a90aef59",
   "metadata": {},
   "outputs": [],
   "source": [
    "df3 = pd.DataFrame({'RMSE' : np.sqrt(-scores)})"
   ]
  },
  {
   "cell_type": "code",
   "execution_count": null,
   "id": "dffc85d0-185d-4769-8ecd-b00300d9e230",
   "metadata": {},
   "outputs": [],
   "source": [
    "df3"
   ]
  },
  {
   "cell_type": "code",
   "execution_count": null,
   "id": "6e1fa997-e8a7-477b-89e3-817df85bedc6",
   "metadata": {},
   "outputs": [],
   "source": [
    "df3.T"
   ]
  },
  {
   "cell_type": "code",
   "execution_count": null,
   "id": "06678608-eed5-411f-8180-514823665bb9",
   "metadata": {},
   "outputs": [],
   "source": [
    "swarm = sns.swarmplot(y = 'RMSE', data = df3)"
   ]
  },
  {
   "cell_type": "markdown",
   "id": "597449a8-3665-480c-9898-16860bb1f7a0",
   "metadata": {},
   "source": [
    "---"
   ]
  },
  {
   "cell_type": "code",
   "execution_count": null,
   "id": "e05b5187-2faa-4594-92e5-a57d4c89419e",
   "metadata": {},
   "outputs": [],
   "source": [
    "# vaildation 차수 높이기"
   ]
  },
  {
   "cell_type": "code",
   "execution_count": 1,
   "id": "118cff66-06bb-4c95-8a90-a3780769b362",
   "metadata": {},
   "outputs": [],
   "source": [
    "from sklearn.preprocessing import PolynomialFeatures\n",
    "from sklearn.linear_model import LinearRegression\n",
    "from sklearn.pipeline import make_pipeline\n",
    "import numpy as np"
   ]
  },
  {
   "cell_type": "code",
   "execution_count": 9,
   "id": "6fc0219d-2526-4886-8024-6c1d2849f914",
   "metadata": {},
   "outputs": [],
   "source": [
    "np.random.seed(1)\n",
    "X = np.random.rand(40, 1) ** 2\n",
    "y= (10 - 1 / (X.ravel() + 0.1)) + np.random.randn(40)"
   ]
  },
  {
   "cell_type": "markdown",
   "id": "8978c79a-1d81-470d-9ccb-a566bf8bbd0a",
   "metadata": {},
   "source": [
    "np.random.seed(1)\n",
    "x = np.random.rand(40,1)**2\n",
    "y = (10-1/(x.ravel()+ 0.1)) + np.random.randn(40)"
   ]
  },
  {
   "cell_type": "code",
   "execution_count": 10,
   "id": "6301d2ad-06af-40cf-bb58-ffbe502efffa",
   "metadata": {},
   "outputs": [],
   "source": [
    "import matplotlib.pyplot as plt"
   ]
  },
  {
   "cell_type": "code",
   "execution_count": 11,
   "id": "4fb714ad-1630-4602-ad23-69348bd5cbd4",
   "metadata": {},
   "outputs": [
    {
     "data": {
      "image/png": "[encoded data removed]",
      "text/plain": [
       "<Figure size 360x360 with 1 Axes>"
      ]
     },
     "metadata": {
      "needs_background": "light"
     },
     "output_type": "display_data"
    }
   ],
   "source": [
    "fig = plt.figure(figsize = (5,5))\n",
    "ax = fig.add_subplot()\n",
    "ax.scatter(X.ravel(), y, s=15);"
   ]
  },
  {
   "cell_type": "code",
   "execution_count": 22,
   "id": "9d4dcf17-2f8d-4cd6-933d-61dbc3f8051a",
   "metadata": {},
   "outputs": [],
   "source": [
    "X_test = np.linspace(-0.1, 1.1, 500) #"
   ]
  },
  {
   "cell_type": "code",
   "execution_count": 23,
   "id": "b79c967a-69f8-4193-a606-ae80021fa85a",
   "metadata": {
    "collapsed": true,
    "jupyter": {
     "outputs_hidden": true
    },
    "tags": []
   },
   "outputs": [
    {
     "data": {
      "text/plain": [
       "array([-1.00000000e-01, -9.75951904e-02, -9.51903808e-02, -9.27855711e-02,\n",
       "       -9.03807615e-02, -8.79759519e-02, -8.55711423e-02, -8.31663327e-02,\n",
       "       -8.07615230e-02, -7.83567134e-02, -7.59519038e-02, -7.35470942e-02,\n",
       "       -7.11422846e-02, -6.87374749e-02, -6.63326653e-02, -6.39278557e-02,\n",
       "       -6.15230461e-02, -5.91182365e-02, -5.67134269e-02, -5.43086172e-02,\n",
       "       -5.19038076e-02, -4.94989980e-02, -4.70941884e-02, -4.46893788e-02,\n",
       "       -4.22845691e-02, -3.98797595e-02, -3.74749499e-02, -3.50701403e-02,\n",
       "       -3.26653307e-02, -3.02605210e-02, -2.78557114e-02, -2.54509018e-02,\n",
       "       -2.30460922e-02, -2.06412826e-02, -1.82364729e-02, -1.58316633e-02,\n",
       "       -1.34268537e-02, -1.10220441e-02, -8.61723447e-03, -6.21242485e-03,\n",
       "       -3.80761523e-03, -1.40280561e-03,  1.00200401e-03,  3.40681363e-03,\n",
       "        5.81162325e-03,  8.21643287e-03,  1.06212425e-02,  1.30260521e-02,\n",
       "        1.54308617e-02,  1.78356713e-02,  2.02404810e-02,  2.26452906e-02,\n",
       "        2.50501002e-02,  2.74549098e-02,  2.98597194e-02,  3.22645291e-02,\n",
       "        3.46693387e-02,  3.70741483e-02,  3.94789579e-02,  4.18837675e-02,\n",
       "        4.42885772e-02,  4.66933868e-02,  4.90981964e-02,  5.15030060e-02,\n",
       "        5.39078156e-02,  5.63126253e-02,  5.87174349e-02,  6.11222445e-02,\n",
       "        6.35270541e-02,  6.59318637e-02,  6.83366733e-02,  7.07414830e-02,\n",
       "        7.31462926e-02,  7.55511022e-02,  7.79559118e-02,  8.03607214e-02,\n",
       "        8.27655311e-02,  8.51703407e-02,  8.75751503e-02,  8.99799599e-02,\n",
       "        9.23847695e-02,  9.47895792e-02,  9.71943888e-02,  9.95991984e-02,\n",
       "        1.02004008e-01,  1.04408818e-01,  1.06813627e-01,  1.09218437e-01,\n",
       "        1.11623246e-01,  1.14028056e-01,  1.16432866e-01,  1.18837675e-01,\n",
       "        1.21242485e-01,  1.23647295e-01,  1.26052104e-01,  1.28456914e-01,\n",
       "        1.30861723e-01,  1.33266533e-01,  1.35671343e-01,  1.38076152e-01,\n",
       "        1.40480962e-01,  1.42885772e-01,  1.45290581e-01,  1.47695391e-01,\n",
       "        1.50100200e-01,  1.52505010e-01,  1.54909820e-01,  1.57314629e-01,\n",
       "        1.59719439e-01,  1.62124248e-01,  1.64529058e-01,  1.66933868e-01,\n",
       "        1.69338677e-01,  1.71743487e-01,  1.74148297e-01,  1.76553106e-01,\n",
       "        1.78957916e-01,  1.81362725e-01,  1.83767535e-01,  1.86172345e-01,\n",
       "        1.88577154e-01,  1.90981964e-01,  1.93386774e-01,  1.95791583e-01,\n",
       "        1.98196393e-01,  2.00601202e-01,  2.03006012e-01,  2.05410822e-01,\n",
       "        2.07815631e-01,  2.10220441e-01,  2.12625251e-01,  2.15030060e-01,\n",
       "        2.17434870e-01,  2.19839679e-01,  2.22244489e-01,  2.24649299e-01,\n",
       "        2.27054108e-01,  2.29458918e-01,  2.31863727e-01,  2.34268537e-01,\n",
       "        2.36673347e-01,  2.39078156e-01,  2.41482966e-01,  2.43887776e-01,\n",
       "        2.46292585e-01,  2.48697395e-01,  2.51102204e-01,  2.53507014e-01,\n",
       "        2.55911824e-01,  2.58316633e-01,  2.60721443e-01,  2.63126253e-01,\n",
       "        2.65531062e-01,  2.67935872e-01,  2.70340681e-01,  2.72745491e-01,\n",
       "        2.75150301e-01,  2.77555110e-01,  2.79959920e-01,  2.82364729e-01,\n",
       "        2.84769539e-01,  2.87174349e-01,  2.89579158e-01,  2.91983968e-01,\n",
       "        2.94388778e-01,  2.96793587e-01,  2.99198397e-01,  3.01603206e-01,\n",
       "        3.04008016e-01,  3.06412826e-01,  3.08817635e-01,  3.11222445e-01,\n",
       "        3.13627255e-01,  3.16032064e-01,  3.18436874e-01,  3.20841683e-01,\n",
       "        3.23246493e-01,  3.25651303e-01,  3.28056112e-01,  3.30460922e-01,\n",
       "        3.32865731e-01,  3.35270541e-01,  3.37675351e-01,  3.40080160e-01,\n",
       "        3.42484970e-01,  3.44889780e-01,  3.47294589e-01,  3.49699399e-01,\n",
       "        3.52104208e-01,  3.54509018e-01,  3.56913828e-01,  3.59318637e-01,\n",
       "        3.61723447e-01,  3.64128257e-01,  3.66533066e-01,  3.68937876e-01,\n",
       "        3.71342685e-01,  3.73747495e-01,  3.76152305e-01,  3.78557114e-01,\n",
       "        3.80961924e-01,  3.83366733e-01,  3.85771543e-01,  3.88176353e-01,\n",
       "        3.90581162e-01,  3.92985972e-01,  3.95390782e-01,  3.97795591e-01,\n",
       "        4.00200401e-01,  4.02605210e-01,  4.05010020e-01,  4.07414830e-01,\n",
       "        4.09819639e-01,  4.12224449e-01,  4.14629259e-01,  4.17034068e-01,\n",
       "        4.19438878e-01,  4.21843687e-01,  4.24248497e-01,  4.26653307e-01,\n",
       "        4.29058116e-01,  4.31462926e-01,  4.33867735e-01,  4.36272545e-01,\n",
       "        4.38677355e-01,  4.41082164e-01,  4.43486974e-01,  4.45891784e-01,\n",
       "        4.48296593e-01,  4.50701403e-01,  4.53106212e-01,  4.55511022e-01,\n",
       "        4.57915832e-01,  4.60320641e-01,  4.62725451e-01,  4.65130261e-01,\n",
       "        4.67535070e-01,  4.69939880e-01,  4.72344689e-01,  4.74749499e-01,\n",
       "        4.77154309e-01,  4.79559118e-01,  4.81963928e-01,  4.84368737e-01,\n",
       "        4.86773547e-01,  4.89178357e-01,  4.91583166e-01,  4.93987976e-01,\n",
       "        4.96392786e-01,  4.98797595e-01,  5.01202405e-01,  5.03607214e-01,\n",
       "        5.06012024e-01,  5.08416834e-01,  5.10821643e-01,  5.13226453e-01,\n",
       "        5.15631263e-01,  5.18036072e-01,  5.20440882e-01,  5.22845691e-01,\n",
       "        5.25250501e-01,  5.27655311e-01,  5.30060120e-01,  5.32464930e-01,\n",
       "        5.34869739e-01,  5.37274549e-01,  5.39679359e-01,  5.42084168e-01,\n",
       "        5.44488978e-01,  5.46893788e-01,  5.49298597e-01,  5.51703407e-01,\n",
       "        5.54108216e-01,  5.56513026e-01,  5.58917836e-01,  5.61322645e-01,\n",
       "        5.63727455e-01,  5.66132265e-01,  5.68537074e-01,  5.70941884e-01,\n",
       "        5.73346693e-01,  5.75751503e-01,  5.78156313e-01,  5.80561122e-01,\n",
       "        5.82965932e-01,  5.85370741e-01,  5.87775551e-01,  5.90180361e-01,\n",
       "        5.92585170e-01,  5.94989980e-01,  5.97394790e-01,  5.99799599e-01,\n",
       "        6.02204409e-01,  6.04609218e-01,  6.07014028e-01,  6.09418838e-01,\n",
       "        6.11823647e-01,  6.14228457e-01,  6.16633267e-01,  6.19038076e-01,\n",
       "        6.21442886e-01,  6.23847695e-01,  6.26252505e-01,  6.28657315e-01,\n",
       "        6.31062124e-01,  6.33466934e-01,  6.35871743e-01,  6.38276553e-01,\n",
       "        6.40681363e-01,  6.43086172e-01,  6.45490982e-01,  6.47895792e-01,\n",
       "        6.50300601e-01,  6.52705411e-01,  6.55110220e-01,  6.57515030e-01,\n",
       "        6.59919840e-01,  6.62324649e-01,  6.64729459e-01,  6.67134269e-01,\n",
       "        6.69539078e-01,  6.71943888e-01,  6.74348697e-01,  6.76753507e-01,\n",
       "        6.79158317e-01,  6.81563126e-01,  6.83967936e-01,  6.86372745e-01,\n",
       "        6.88777555e-01,  6.91182365e-01,  6.93587174e-01,  6.95991984e-01,\n",
       "        6.98396794e-01,  7.00801603e-01,  7.03206413e-01,  7.05611222e-01,\n",
       "        7.08016032e-01,  7.10420842e-01,  7.12825651e-01,  7.15230461e-01,\n",
       "        7.17635271e-01,  7.20040080e-01,  7.22444890e-01,  7.24849699e-01,\n",
       "        7.27254509e-01,  7.29659319e-01,  7.32064128e-01,  7.34468938e-01,\n",
       "        7.36873747e-01,  7.39278557e-01,  7.41683367e-01,  7.44088176e-01,\n",
       "        7.46492986e-01,  7.48897796e-01,  7.51302605e-01,  7.53707415e-01,\n",
       "        7.56112224e-01,  7.58517034e-01,  7.60921844e-01,  7.63326653e-01,\n",
       "        7.65731463e-01,  7.68136273e-01,  7.70541082e-01,  7.72945892e-01,\n",
       "        7.75350701e-01,  7.77755511e-01,  7.80160321e-01,  7.82565130e-01,\n",
       "        7.84969940e-01,  7.87374749e-01,  7.89779559e-01,  7.92184369e-01,\n",
       "        7.94589178e-01,  7.96993988e-01,  7.99398798e-01,  8.01803607e-01,\n",
       "        8.04208417e-01,  8.06613226e-01,  8.09018036e-01,  8.11422846e-01,\n",
       "        8.13827655e-01,  8.16232465e-01,  8.18637275e-01,  8.21042084e-01,\n",
       "        8.23446894e-01,  8.25851703e-01,  8.28256513e-01,  8.30661323e-01,\n",
       "        8.33066132e-01,  8.35470942e-01,  8.37875752e-01,  8.40280561e-01,\n",
       "        8.42685371e-01,  8.45090180e-01,  8.47494990e-01,  8.49899800e-01,\n",
       "        8.52304609e-01,  8.54709419e-01,  8.57114228e-01,  8.59519038e-01,\n",
       "        8.61923848e-01,  8.64328657e-01,  8.66733467e-01,  8.69138277e-01,\n",
       "        8.71543086e-01,  8.73947896e-01,  8.76352705e-01,  8.78757515e-01,\n",
       "        8.81162325e-01,  8.83567134e-01,  8.85971944e-01,  8.88376754e-01,\n",
       "        8.90781563e-01,  8.93186373e-01,  8.95591182e-01,  8.97995992e-01,\n",
       "        9.00400802e-01,  9.02805611e-01,  9.05210421e-01,  9.07615230e-01,\n",
       "        9.10020040e-01,  9.12424850e-01,  9.14829659e-01,  9.17234469e-01,\n",
       "        9.19639279e-01,  9.22044088e-01,  9.24448898e-01,  9.26853707e-01,\n",
       "        9.29258517e-01,  9.31663327e-01,  9.34068136e-01,  9.36472946e-01,\n",
       "        9.38877756e-01,  9.41282565e-01,  9.43687375e-01,  9.46092184e-01,\n",
       "        9.48496994e-01,  9.50901804e-01,  9.53306613e-01,  9.55711423e-01,\n",
       "        9.58116232e-01,  9.60521042e-01,  9.62925852e-01,  9.65330661e-01,\n",
       "        9.67735471e-01,  9.70140281e-01,  9.72545090e-01,  9.74949900e-01,\n",
       "        9.77354709e-01,  9.79759519e-01,  9.82164329e-01,  9.84569138e-01,\n",
       "        9.86973948e-01,  9.89378758e-01,  9.91783567e-01,  9.94188377e-01,\n",
       "        9.96593186e-01,  9.98997996e-01,  1.00140281e+00,  1.00380762e+00,\n",
       "        1.00621242e+00,  1.00861723e+00,  1.01102204e+00,  1.01342685e+00,\n",
       "        1.01583166e+00,  1.01823647e+00,  1.02064128e+00,  1.02304609e+00,\n",
       "        1.02545090e+00,  1.02785571e+00,  1.03026052e+00,  1.03266533e+00,\n",
       "        1.03507014e+00,  1.03747495e+00,  1.03987976e+00,  1.04228457e+00,\n",
       "        1.04468938e+00,  1.04709419e+00,  1.04949900e+00,  1.05190381e+00,\n",
       "        1.05430862e+00,  1.05671343e+00,  1.05911824e+00,  1.06152305e+00,\n",
       "        1.06392786e+00,  1.06633267e+00,  1.06873747e+00,  1.07114228e+00,\n",
       "        1.07354709e+00,  1.07595190e+00,  1.07835671e+00,  1.08076152e+00,\n",
       "        1.08316633e+00,  1.08557114e+00,  1.08797595e+00,  1.09038076e+00,\n",
       "        1.09278557e+00,  1.09519038e+00,  1.09759519e+00,  1.10000000e+00])"
      ]
     },
     "execution_count": 23,
     "metadata": {},
     "output_type": "execute_result"
    }
   ],
   "source": [
    "X_test # 1차원"
   ]
  },
  {
   "cell_type": "code",
   "execution_count": 24,
   "id": "c3f20f37-7919-4f42-b360-ba7f688b31c0",
   "metadata": {},
   "outputs": [],
   "source": [
    "X_test = np.linspace(-0.1, 1.1, 500).reshape(-1, 1) # -1 -> 전체를 의미"
   ]
  },
  {
   "cell_type": "code",
   "execution_count": 25,
   "id": "2539caf3-8457-4c4f-8ca9-0076494bd31c",
   "metadata": {
    "collapsed": true,
    "jupyter": {
     "outputs_hidden": true
    },
    "tags": []
   },
   "outputs": [
    {
     "data": {
      "text/plain": [
       "array([[-1.00000000e-01],\n",
       "       [-9.75951904e-02],\n",
       "       [-9.51903808e-02],\n",
       "       [-9.27855711e-02],\n",
       "       [-9.03807615e-02],\n",
       "       [-8.79759519e-02],\n",
       "       [-8.55711423e-02],\n",
       "       [-8.31663327e-02],\n",
       "       [-8.07615230e-02],\n",
       "       [-7.83567134e-02],\n",
       "       [-7.59519038e-02],\n",
       "       [-7.35470942e-02],\n",
       "       [-7.11422846e-02],\n",
       "       [-6.87374749e-02],\n",
       "       [-6.63326653e-02],\n",
       "       [-6.39278557e-02],\n",
       "       [-6.15230461e-02],\n",
       "       [-5.91182365e-02],\n",
       "       [-5.67134269e-02],\n",
       "       [-5.43086172e-02],\n",
       "       [-5.19038076e-02],\n",
       "       [-4.94989980e-02],\n",
       "       [-4.70941884e-02],\n",
       "       [-4.46893788e-02],\n",
       "       [-4.22845691e-02],\n",
       "       [-3.98797595e-02],\n",
       "       [-3.74749499e-02],\n",
       "       [-3.50701403e-02],\n",
       "       [-3.26653307e-02],\n",
       "       [-3.02605210e-02],\n",
       "       [-2.78557114e-02],\n",
       "       [-2.54509018e-02],\n",
       "       [-2.30460922e-02],\n",
       "       [-2.06412826e-02],\n",
       "       [-1.82364729e-02],\n",
       "       [-1.58316633e-02],\n",
       "       [-1.34268537e-02],\n",
       "       [-1.10220441e-02],\n",
       "       [-8.61723447e-03],\n",
       "       [-6.21242485e-03],\n",
       "       [-3.80761523e-03],\n",
       "       [-1.40280561e-03],\n",
       "       [ 1.00200401e-03],\n",
       "       [ 3.40681363e-03],\n",
       "       [ 5.81162325e-03],\n",
       "       [ 8.21643287e-03],\n",
       "       [ 1.06212425e-02],\n",
       "       [ 1.30260521e-02],\n",
       "       [ 1.54308617e-02],\n",
       "       [ 1.78356713e-02],\n",
       "       [ 2.02404810e-02],\n",
       "       [ 2.26452906e-02],\n",
       "       [ 2.50501002e-02],\n",
       "       [ 2.74549098e-02],\n",
       "       [ 2.98597194e-02],\n",
       "       [ 3.22645291e-02],\n",
       "       [ 3.46693387e-02],\n",
       "       [ 3.70741483e-02],\n",
       "       [ 3.94789579e-02],\n",
       "       [ 4.18837675e-02],\n",
       "       [ 4.42885772e-02],\n",
       "       [ 4.66933868e-02],\n",
       "       [ 4.90981964e-02],\n",
       "       [ 5.15030060e-02],\n",
       "       [ 5.39078156e-02],\n",
       "       [ 5.63126253e-02],\n",
       "       [ 5.87174349e-02],\n",
       "       [ 6.11222445e-02],\n",
       "       [ 6.35270541e-02],\n",
       "       [ 6.59318637e-02],\n",
       "       [ 6.83366733e-02],\n",
       "       [ 7.07414830e-02],\n",
       "       [ 7.31462926e-02],\n",
       "       [ 7.55511022e-02],\n",
       "       [ 7.79559118e-02],\n",
       "       [ 8.03607214e-02],\n",
       "       [ 8.27655311e-02],\n",
       "       [ 8.51703407e-02],\n",
       "       [ 8.75751503e-02],\n",
       "       [ 8.99799599e-02],\n",
       "       [ 9.23847695e-02],\n",
       "       [ 9.47895792e-02],\n",
       "       [ 9.71943888e-02],\n",
       "       [ 9.95991984e-02],\n",
       "       [ 1.02004008e-01],\n",
       "       [ 1.04408818e-01],\n",
       "       [ 1.06813627e-01],\n",
       "       [ 1.09218437e-01],\n",
       "       [ 1.11623246e-01],\n",
       "       [ 1.14028056e-01],\n",
       "       [ 1.16432866e-01],\n",
       "       [ 1.18837675e-01],\n",
       "       [ 1.21242485e-01],\n",
       "       [ 1.23647295e-01],\n",
       "       [ 1.26052104e-01],\n",
       "       [ 1.28456914e-01],\n",
       "       [ 1.30861723e-01],\n",
       "       [ 1.33266533e-01],\n",
       "       [ 1.35671343e-01],\n",
       "       [ 1.38076152e-01],\n",
       "       [ 1.40480962e-01],\n",
       "       [ 1.42885772e-01],\n",
       "       [ 1.45290581e-01],\n",
       "       [ 1.47695391e-01],\n",
       "       [ 1.50100200e-01],\n",
       "       [ 1.52505010e-01],\n",
       "       [ 1.54909820e-01],\n",
       "       [ 1.57314629e-01],\n",
       "       [ 1.59719439e-01],\n",
       "       [ 1.62124248e-01],\n",
       "       [ 1.64529058e-01],\n",
       "       [ 1.66933868e-01],\n",
       "       [ 1.69338677e-01],\n",
       "       [ 1.71743487e-01],\n",
       "       [ 1.74148297e-01],\n",
       "       [ 1.76553106e-01],\n",
       "       [ 1.78957916e-01],\n",
       "       [ 1.81362725e-01],\n",
       "       [ 1.83767535e-01],\n",
       "       [ 1.86172345e-01],\n",
       "       [ 1.88577154e-01],\n",
       "       [ 1.90981964e-01],\n",
       "       [ 1.93386774e-01],\n",
       "       [ 1.95791583e-01],\n",
       "       [ 1.98196393e-01],\n",
       "       [ 2.00601202e-01],\n",
       "       [ 2.03006012e-01],\n",
       "       [ 2.05410822e-01],\n",
       "       [ 2.07815631e-01],\n",
       "       [ 2.10220441e-01],\n",
       "       [ 2.12625251e-01],\n",
       "       [ 2.15030060e-01],\n",
       "       [ 2.17434870e-01],\n",
       "       [ 2.19839679e-01],\n",
       "       [ 2.22244489e-01],\n",
       "       [ 2.24649299e-01],\n",
       "       [ 2.27054108e-01],\n",
       "       [ 2.29458918e-01],\n",
       "       [ 2.31863727e-01],\n",
       "       [ 2.34268537e-01],\n",
       "       [ 2.36673347e-01],\n",
       "       [ 2.39078156e-01],\n",
       "       [ 2.41482966e-01],\n",
       "       [ 2.43887776e-01],\n",
       "       [ 2.46292585e-01],\n",
       "       [ 2.48697395e-01],\n",
       "       [ 2.51102204e-01],\n",
       "       [ 2.53507014e-01],\n",
       "       [ 2.55911824e-01],\n",
       "       [ 2.58316633e-01],\n",
       "       [ 2.60721443e-01],\n",
       "       [ 2.63126253e-01],\n",
       "       [ 2.65531062e-01],\n",
       "       [ 2.67935872e-01],\n",
       "       [ 2.70340681e-01],\n",
       "       [ 2.72745491e-01],\n",
       "       [ 2.75150301e-01],\n",
       "       [ 2.77555110e-01],\n",
       "       [ 2.79959920e-01],\n",
       "       [ 2.82364729e-01],\n",
       "       [ 2.84769539e-01],\n",
       "       [ 2.87174349e-01],\n",
       "       [ 2.89579158e-01],\n",
       "       [ 2.91983968e-01],\n",
       "       [ 2.94388778e-01],\n",
       "       [ 2.96793587e-01],\n",
       "       [ 2.99198397e-01],\n",
       "       [ 3.01603206e-01],\n",
       "       [ 3.04008016e-01],\n",
       "       [ 3.06412826e-01],\n",
       "       [ 3.08817635e-01],\n",
       "       [ 3.11222445e-01],\n",
       "       [ 3.13627255e-01],\n",
       "       [ 3.16032064e-01],\n",
       "       [ 3.18436874e-01],\n",
       "       [ 3.20841683e-01],\n",
       "       [ 3.23246493e-01],\n",
       "       [ 3.25651303e-01],\n",
       "       [ 3.28056112e-01],\n",
       "       [ 3.30460922e-01],\n",
       "       [ 3.32865731e-01],\n",
       "       [ 3.35270541e-01],\n",
       "       [ 3.37675351e-01],\n",
       "       [ 3.40080160e-01],\n",
       "       [ 3.42484970e-01],\n",
       "       [ 3.44889780e-01],\n",
       "       [ 3.47294589e-01],\n",
       "       [ 3.49699399e-01],\n",
       "       [ 3.52104208e-01],\n",
       "       [ 3.54509018e-01],\n",
       "       [ 3.56913828e-01],\n",
       "       [ 3.59318637e-01],\n",
       "       [ 3.61723447e-01],\n",
       "       [ 3.64128257e-01],\n",
       "       [ 3.66533066e-01],\n",
       "       [ 3.68937876e-01],\n",
       "       [ 3.71342685e-01],\n",
       "       [ 3.73747495e-01],\n",
       "       [ 3.76152305e-01],\n",
       "       [ 3.78557114e-01],\n",
       "       [ 3.80961924e-01],\n",
       "       [ 3.83366733e-01],\n",
       "       [ 3.85771543e-01],\n",
       "       [ 3.88176353e-01],\n",
       "       [ 3.90581162e-01],\n",
       "       [ 3.92985972e-01],\n",
       "       [ 3.95390782e-01],\n",
       "       [ 3.97795591e-01],\n",
       "       [ 4.00200401e-01],\n",
       "       [ 4.02605210e-01],\n",
       "       [ 4.05010020e-01],\n",
       "       [ 4.07414830e-01],\n",
       "       [ 4.09819639e-01],\n",
       "       [ 4.12224449e-01],\n",
       "       [ 4.14629259e-01],\n",
       "       [ 4.17034068e-01],\n",
       "       [ 4.19438878e-01],\n",
       "       [ 4.21843687e-01],\n",
       "       [ 4.24248497e-01],\n",
       "       [ 4.26653307e-01],\n",
       "       [ 4.29058116e-01],\n",
       "       [ 4.31462926e-01],\n",
       "       [ 4.33867735e-01],\n",
       "       [ 4.36272545e-01],\n",
       "       [ 4.38677355e-01],\n",
       "       [ 4.41082164e-01],\n",
       "       [ 4.43486974e-01],\n",
       "       [ 4.45891784e-01],\n",
       "       [ 4.48296593e-01],\n",
       "       [ 4.50701403e-01],\n",
       "       [ 4.53106212e-01],\n",
       "       [ 4.55511022e-01],\n",
       "       [ 4.57915832e-01],\n",
       "       [ 4.60320641e-01],\n",
       "       [ 4.62725451e-01],\n",
       "       [ 4.65130261e-01],\n",
       "       [ 4.67535070e-01],\n",
       "       [ 4.69939880e-01],\n",
       "       [ 4.72344689e-01],\n",
       "       [ 4.74749499e-01],\n",
       "       [ 4.77154309e-01],\n",
       "       [ 4.79559118e-01],\n",
       "       [ 4.81963928e-01],\n",
       "       [ 4.84368737e-01],\n",
       "       [ 4.86773547e-01],\n",
       "       [ 4.89178357e-01],\n",
       "       [ 4.91583166e-01],\n",
       "       [ 4.93987976e-01],\n",
       "       [ 4.96392786e-01],\n",
       "       [ 4.98797595e-01],\n",
       "       [ 5.01202405e-01],\n",
       "       [ 5.03607214e-01],\n",
       "       [ 5.06012024e-01],\n",
       "       [ 5.08416834e-01],\n",
       "       [ 5.10821643e-01],\n",
       "       [ 5.13226453e-01],\n",
       "       [ 5.15631263e-01],\n",
       "       [ 5.18036072e-01],\n",
       "       [ 5.20440882e-01],\n",
       "       [ 5.22845691e-01],\n",
       "       [ 5.25250501e-01],\n",
       "       [ 5.27655311e-01],\n",
       "       [ 5.30060120e-01],\n",
       "       [ 5.32464930e-01],\n",
       "       [ 5.34869739e-01],\n",
       "       [ 5.37274549e-01],\n",
       "       [ 5.39679359e-01],\n",
       "       [ 5.42084168e-01],\n",
       "       [ 5.44488978e-01],\n",
       "       [ 5.46893788e-01],\n",
       "       [ 5.49298597e-01],\n",
       "       [ 5.51703407e-01],\n",
       "       [ 5.54108216e-01],\n",
       "       [ 5.56513026e-01],\n",
       "       [ 5.58917836e-01],\n",
       "       [ 5.61322645e-01],\n",
       "       [ 5.63727455e-01],\n",
       "       [ 5.66132265e-01],\n",
       "       [ 5.68537074e-01],\n",
       "       [ 5.70941884e-01],\n",
       "       [ 5.73346693e-01],\n",
       "       [ 5.75751503e-01],\n",
       "       [ 5.78156313e-01],\n",
       "       [ 5.80561122e-01],\n",
       "       [ 5.82965932e-01],\n",
       "       [ 5.85370741e-01],\n",
       "       [ 5.87775551e-01],\n",
       "       [ 5.90180361e-01],\n",
       "       [ 5.92585170e-01],\n",
       "       [ 5.94989980e-01],\n",
       "       [ 5.97394790e-01],\n",
       "       [ 5.99799599e-01],\n",
       "       [ 6.02204409e-01],\n",
       "       [ 6.04609218e-01],\n",
       "       [ 6.07014028e-01],\n",
       "       [ 6.09418838e-01],\n",
       "       [ 6.11823647e-01],\n",
       "       [ 6.14228457e-01],\n",
       "       [ 6.16633267e-01],\n",
       "       [ 6.19038076e-01],\n",
       "       [ 6.21442886e-01],\n",
       "       [ 6.23847695e-01],\n",
       "       [ 6.26252505e-01],\n",
       "       [ 6.28657315e-01],\n",
       "       [ 6.31062124e-01],\n",
       "       [ 6.33466934e-01],\n",
       "       [ 6.35871743e-01],\n",
       "       [ 6.38276553e-01],\n",
       "       [ 6.40681363e-01],\n",
       "       [ 6.43086172e-01],\n",
       "       [ 6.45490982e-01],\n",
       "       [ 6.47895792e-01],\n",
       "       [ 6.50300601e-01],\n",
       "       [ 6.52705411e-01],\n",
       "       [ 6.55110220e-01],\n",
       "       [ 6.57515030e-01],\n",
       "       [ 6.59919840e-01],\n",
       "       [ 6.62324649e-01],\n",
       "       [ 6.64729459e-01],\n",
       "       [ 6.67134269e-01],\n",
       "       [ 6.69539078e-01],\n",
       "       [ 6.71943888e-01],\n",
       "       [ 6.74348697e-01],\n",
       "       [ 6.76753507e-01],\n",
       "       [ 6.79158317e-01],\n",
       "       [ 6.81563126e-01],\n",
       "       [ 6.83967936e-01],\n",
       "       [ 6.86372745e-01],\n",
       "       [ 6.88777555e-01],\n",
       "       [ 6.91182365e-01],\n",
       "       [ 6.93587174e-01],\n",
       "       [ 6.95991984e-01],\n",
       "       [ 6.98396794e-01],\n",
       "       [ 7.00801603e-01],\n",
       "       [ 7.03206413e-01],\n",
       "       [ 7.05611222e-01],\n",
       "       [ 7.08016032e-01],\n",
       "       [ 7.10420842e-01],\n",
       "       [ 7.12825651e-01],\n",
       "       [ 7.15230461e-01],\n",
       "       [ 7.17635271e-01],\n",
       "       [ 7.20040080e-01],\n",
       "       [ 7.22444890e-01],\n",
       "       [ 7.24849699e-01],\n",
       "       [ 7.27254509e-01],\n",
       "       [ 7.29659319e-01],\n",
       "       [ 7.32064128e-01],\n",
       "       [ 7.34468938e-01],\n",
       "       [ 7.36873747e-01],\n",
       "       [ 7.39278557e-01],\n",
       "       [ 7.41683367e-01],\n",
       "       [ 7.44088176e-01],\n",
       "       [ 7.46492986e-01],\n",
       "       [ 7.48897796e-01],\n",
       "       [ 7.51302605e-01],\n",
       "       [ 7.53707415e-01],\n",
       "       [ 7.56112224e-01],\n",
       "       [ 7.58517034e-01],\n",
       "       [ 7.60921844e-01],\n",
       "       [ 7.63326653e-01],\n",
       "       [ 7.65731463e-01],\n",
       "       [ 7.68136273e-01],\n",
       "       [ 7.70541082e-01],\n",
       "       [ 7.72945892e-01],\n",
       "       [ 7.75350701e-01],\n",
       "       [ 7.77755511e-01],\n",
       "       [ 7.80160321e-01],\n",
       "       [ 7.82565130e-01],\n",
       "       [ 7.84969940e-01],\n",
       "       [ 7.87374749e-01],\n",
       "       [ 7.89779559e-01],\n",
       "       [ 7.92184369e-01],\n",
       "       [ 7.94589178e-01],\n",
       "       [ 7.96993988e-01],\n",
       "       [ 7.99398798e-01],\n",
       "       [ 8.01803607e-01],\n",
       "       [ 8.04208417e-01],\n",
       "       [ 8.06613226e-01],\n",
       "       [ 8.09018036e-01],\n",
       "       [ 8.11422846e-01],\n",
       "       [ 8.13827655e-01],\n",
       "       [ 8.16232465e-01],\n",
       "       [ 8.18637275e-01],\n",
       "       [ 8.21042084e-01],\n",
       "       [ 8.23446894e-01],\n",
       "       [ 8.25851703e-01],\n",
       "       [ 8.28256513e-01],\n",
       "       [ 8.30661323e-01],\n",
       "       [ 8.33066132e-01],\n",
       "       [ 8.35470942e-01],\n",
       "       [ 8.37875752e-01],\n",
       "       [ 8.40280561e-01],\n",
       "       [ 8.42685371e-01],\n",
       "       [ 8.45090180e-01],\n",
       "       [ 8.47494990e-01],\n",
       "       [ 8.49899800e-01],\n",
       "       [ 8.52304609e-01],\n",
       "       [ 8.54709419e-01],\n",
       "       [ 8.57114228e-01],\n",
       "       [ 8.59519038e-01],\n",
       "       [ 8.61923848e-01],\n",
       "       [ 8.64328657e-01],\n",
       "       [ 8.66733467e-01],\n",
       "       [ 8.69138277e-01],\n",
       "       [ 8.71543086e-01],\n",
       "       [ 8.73947896e-01],\n",
       "       [ 8.76352705e-01],\n",
       "       [ 8.78757515e-01],\n",
       "       [ 8.81162325e-01],\n",
       "       [ 8.83567134e-01],\n",
       "       [ 8.85971944e-01],\n",
       "       [ 8.88376754e-01],\n",
       "       [ 8.90781563e-01],\n",
       "       [ 8.93186373e-01],\n",
       "       [ 8.95591182e-01],\n",
       "       [ 8.97995992e-01],\n",
       "       [ 9.00400802e-01],\n",
       "       [ 9.02805611e-01],\n",
       "       [ 9.05210421e-01],\n",
       "       [ 9.07615230e-01],\n",
       "       [ 9.10020040e-01],\n",
       "       [ 9.12424850e-01],\n",
       "       [ 9.14829659e-01],\n",
       "       [ 9.17234469e-01],\n",
       "       [ 9.19639279e-01],\n",
       "       [ 9.22044088e-01],\n",
       "       [ 9.24448898e-01],\n",
       "       [ 9.26853707e-01],\n",
       "       [ 9.29258517e-01],\n",
       "       [ 9.31663327e-01],\n",
       "       [ 9.34068136e-01],\n",
       "       [ 9.36472946e-01],\n",
       "       [ 9.38877756e-01],\n",
       "       [ 9.41282565e-01],\n",
       "       [ 9.43687375e-01],\n",
       "       [ 9.46092184e-01],\n",
       "       [ 9.48496994e-01],\n",
       "       [ 9.50901804e-01],\n",
       "       [ 9.53306613e-01],\n",
       "       [ 9.55711423e-01],\n",
       "       [ 9.58116232e-01],\n",
       "       [ 9.60521042e-01],\n",
       "       [ 9.62925852e-01],\n",
       "       [ 9.65330661e-01],\n",
       "       [ 9.67735471e-01],\n",
       "       [ 9.70140281e-01],\n",
       "       [ 9.72545090e-01],\n",
       "       [ 9.74949900e-01],\n",
       "       [ 9.77354709e-01],\n",
       "       [ 9.79759519e-01],\n",
       "       [ 9.82164329e-01],\n",
       "       [ 9.84569138e-01],\n",
       "       [ 9.86973948e-01],\n",
       "       [ 9.89378758e-01],\n",
       "       [ 9.91783567e-01],\n",
       "       [ 9.94188377e-01],\n",
       "       [ 9.96593186e-01],\n",
       "       [ 9.98997996e-01],\n",
       "       [ 1.00140281e+00],\n",
       "       [ 1.00380762e+00],\n",
       "       [ 1.00621242e+00],\n",
       "       [ 1.00861723e+00],\n",
       "       [ 1.01102204e+00],\n",
       "       [ 1.01342685e+00],\n",
       "       [ 1.01583166e+00],\n",
       "       [ 1.01823647e+00],\n",
       "       [ 1.02064128e+00],\n",
       "       [ 1.02304609e+00],\n",
       "       [ 1.02545090e+00],\n",
       "       [ 1.02785571e+00],\n",
       "       [ 1.03026052e+00],\n",
       "       [ 1.03266533e+00],\n",
       "       [ 1.03507014e+00],\n",
       "       [ 1.03747495e+00],\n",
       "       [ 1.03987976e+00],\n",
       "       [ 1.04228457e+00],\n",
       "       [ 1.04468938e+00],\n",
       "       [ 1.04709419e+00],\n",
       "       [ 1.04949900e+00],\n",
       "       [ 1.05190381e+00],\n",
       "       [ 1.05430862e+00],\n",
       "       [ 1.05671343e+00],\n",
       "       [ 1.05911824e+00],\n",
       "       [ 1.06152305e+00],\n",
       "       [ 1.06392786e+00],\n",
       "       [ 1.06633267e+00],\n",
       "       [ 1.06873747e+00],\n",
       "       [ 1.07114228e+00],\n",
       "       [ 1.07354709e+00],\n",
       "       [ 1.07595190e+00],\n",
       "       [ 1.07835671e+00],\n",
       "       [ 1.08076152e+00],\n",
       "       [ 1.08316633e+00],\n",
       "       [ 1.08557114e+00],\n",
       "       [ 1.08797595e+00],\n",
       "       [ 1.09038076e+00],\n",
       "       [ 1.09278557e+00],\n",
       "       [ 1.09519038e+00],\n",
       "       [ 1.09759519e+00],\n",
       "       [ 1.10000000e+00]])"
      ]
     },
     "execution_count": 25,
     "metadata": {},
     "output_type": "execute_result"
    }
   ],
   "source": [
    "X_test # 2차원"
   ]
  },
  {
   "cell_type": "code",
   "execution_count": 46,
   "id": "a840d278-ac28-4873-889e-a302f2db2ee4",
   "metadata": {},
   "outputs": [],
   "source": [
    "poly = PolynomialFeatures(2) # -> 2차원으로 늘려줌 "
   ]
  },
  {
   "cell_type": "code",
   "execution_count": 47,
   "id": "2efbe720-7491-4895-974f-997ae240603e",
   "metadata": {},
   "outputs": [],
   "source": [
    "X_poly = poly.fit_transform(X)\n",
    "X_test_poly = poly.transform(X_test)"
   ]
  },
  {
   "cell_type": "code",
   "execution_count": 48,
   "id": "f8fb634e-1184-4085-abf2-99e9377a5bd2",
   "metadata": {},
   "outputs": [],
   "source": [
    "lr = LinearRegression()"
   ]
  },
  {
   "cell_type": "code",
   "execution_count": 49,
   "id": "ea6118d2-3425-45b6-88e2-7aa8b9569cbc",
   "metadata": {},
   "outputs": [
    {
     "data": {
      "text/plain": [
       "LinearRegression()"
      ]
     },
     "execution_count": 49,
     "metadata": {},
     "output_type": "execute_result"
    }
   ],
   "source": [
    "lr.fit(X_poly, y)"
   ]
  },
  {
   "cell_type": "code",
   "execution_count": 50,
   "id": "2142a847-e0e6-448e-937c-389e8d4be96c",
   "metadata": {},
   "outputs": [],
   "source": [
    "y_test = lr.predict(X_test_poly)"
   ]
  },
  {
   "cell_type": "code",
   "execution_count": 55,
   "id": "ec316aaf-cbf5-4d38-8546-7972fb03121f",
   "metadata": {},
   "outputs": [
    {
     "data": {
      "text/plain": [
       "<matplotlib.legend.Legend at 0x29383444ac0>"
      ]
     },
     "execution_count": 55,
     "metadata": {},
     "output_type": "execute_result"
    },
    {
     "data": {
      "image/png": "[encoded data removed]",
      "text/plain": [
       "<Figure size 720x720 with 1 Axes>"
      ]
     },
     "metadata": {
      "needs_background": "light"
     },
     "output_type": "display_data"
    }
   ],
   "source": [
    "fig = plt.figure(figsize = (10,10))\n",
    "ax = fig.add_subplot(2, 2, 2)\n",
    "ax.scatter(X.ravel(), y, s = 15)\n",
    "ax.plot(X_test.ravel(), y_test, label = 'degree = 2')\n",
    "ax.set_xlim(-0.1, 1.0)\n",
    "ax.set_ylim(-2, 12)\n",
    "ax.legend(loc = 'best')#;"
   ]
  },
  {
   "cell_type": "code",
   "execution_count": null,
   "id": "fc01646c-aa0b-4985-b66e-716fd15deb9b",
   "metadata": {},
   "outputs": [],
   "source": [
    "# 2차원"
   ]
  },
  {
   "cell_type": "code",
   "execution_count": 28,
   "id": "41e087df-de3f-4695-975e-f98a0534c154",
   "metadata": {},
   "outputs": [
    {
     "data": {
      "text/plain": [
       "array([0.17390735])"
      ]
     },
     "execution_count": 28,
     "metadata": {},
     "output_type": "execute_result"
    }
   ],
   "source": [
    "X[0]"
   ]
  },
  {
   "cell_type": "code",
   "execution_count": 29,
   "id": "42937f6a-8f4a-482f-9e2b-3caeb9c5874f",
   "metadata": {},
   "outputs": [
    {
     "data": {
      "text/plain": [
       "array([1.        , 0.17390735, 0.03024377])"
      ]
     },
     "execution_count": 29,
     "metadata": {},
     "output_type": "execute_result"
    }
   ],
   "source": [
    "X_poly[0] # 결과값(2차원): 1, X, X^2 "
   ]
  },
  {
   "cell_type": "code",
   "execution_count": null,
   "id": "42cfb799-1807-4fe8-a8f1-4092d89e6e79",
   "metadata": {},
   "outputs": [],
   "source": [
    "# 3차원"
   ]
  },
  {
   "cell_type": "code",
   "execution_count": 30,
   "id": "9942c300-d729-4c7d-aeff-83455ba436db",
   "metadata": {},
   "outputs": [],
   "source": [
    "poly3 = PolynomialFeatures(3) # -> 3차원으로 늘려줌 "
   ]
  },
  {
   "cell_type": "code",
   "execution_count": 31,
   "id": "6326e223-8c6b-4ebf-9a75-055b48837c6e",
   "metadata": {},
   "outputs": [],
   "source": [
    "X_poly3 = poly3.fit_transform(X)"
   ]
  },
  {
   "cell_type": "code",
   "execution_count": 32,
   "id": "52b950f4-6bac-4a5a-8a89-9c87d4d002cc",
   "metadata": {},
   "outputs": [
    {
     "data": {
      "text/plain": [
       "array([0.17390735])"
      ]
     },
     "execution_count": 32,
     "metadata": {},
     "output_type": "execute_result"
    }
   ],
   "source": [
    "X[0]"
   ]
  },
  {
   "cell_type": "code",
   "execution_count": 33,
   "id": "1d2e4f15-4c42-4435-b7fd-d91f51e00e97",
   "metadata": {},
   "outputs": [
    {
     "data": {
      "text/plain": [
       "array([1.        , 0.17390735, 0.03024377, 0.00525961])"
      ]
     },
     "execution_count": 33,
     "metadata": {},
     "output_type": "execute_result"
    }
   ],
   "source": [
    "X_poly3[0] # 결과값(3차원): 1, X, X^2, X^3"
   ]
  },
  {
   "cell_type": "markdown",
   "id": "777b563a-e5af-4957-9053-a298f93bd1c7",
   "metadata": {},
   "source": [
    "---"
   ]
  },
  {
   "cell_type": "code",
   "execution_count": null,
   "id": "4eaaae97-5d4c-41cb-b967-9d5639077424",
   "metadata": {},
   "outputs": [],
   "source": [
    "# PipeLine"
   ]
  },
  {
   "cell_type": "code",
   "execution_count": 59,
   "id": "02a62f96-93fb-4cd9-ab82-9f66f063ddcd",
   "metadata": {},
   "outputs": [
    {
     "data": {
      "image/png": "[encoded data removed]",
      "text/plain": [
       "<Figure size 864x720 with 4 Axes>"
      ]
     },
     "metadata": {
      "needs_background": "light"
     },
     "output_type": "display_data"
    }
   ],
   "source": [
    "fig = plt.figure(figsize = (12,10))\n",
    "X_test = np.linspace(-0.1, 1.1, 500).reshape(-1, 1)\n",
    "for i, degree in enumerate([1, 3, 6, 10], start = 1) :\n",
    "    \n",
    "    y_test = make_pipeline(PolynomialFeatures(degree), LinearRegression()).fit(X, y).predict(X_test)\n",
    "    \n",
    "    ax = fig.add_subplot(2, 2, i)\n",
    "    ax.scatter(X.ravel(), y, s = 15)\n",
    "    ax.plot(X_test.ravel(), y_test, label = 'degree' + str(degree))\n",
    "    ax.set_xlim(-0.1, 1.0)\n",
    "    ax.set_ylim(-2, 12)\n",
    "    ax.legend(loc = 'best')#;"
   ]
  },
  {
   "cell_type": "code",
   "execution_count": null,
   "id": "a958d909-d6bd-4f3b-8974-c0c67d936606",
   "metadata": {},
   "outputs": [],
   "source": [
    "1차원: 예측이 잘 안됨\n",
    "3차원: 2번 꺾임 \n",
    "6차원: 6번 꺾임\n",
    "10차원: 10번 꺾임\n",
    "\n",
    "차원(degree)가 높아질수록 학습을 잘 하지만, 트레인 부분과 유사해서 학습을 잘하기 때문에 오퍼피팅이 일어날 확률도 높아진다."
   ]
  },
  {
   "cell_type": "code",
   "execution_count": null,
   "id": "2adc4971-296d-46fc-9a93-bbeaf3ba6946",
   "metadata": {},
   "outputs": [],
   "source": [
    "# learning curve를 그려볼 것이다."
   ]
  },
  {
   "cell_type": "code",
   "execution_count": 60,
   "id": "117911b9-27ae-4558-a788-51811e7eaee0",
   "metadata": {},
   "outputs": [],
   "source": [
    "from sklearn.model_selection import validation_curve"
   ]
  },
  {
   "cell_type": "code",
   "execution_count": 65,
   "id": "f76a5592-bb23-4e32-b660-9dabc89d9f16",
   "metadata": {},
   "outputs": [],
   "source": [
    "degree = np.arange(0, 21)"
   ]
  },
  {
   "cell_type": "code",
   "execution_count": 66,
   "id": "1c3418c4-19a1-46f2-8e8b-92ae1e354930",
   "metadata": {},
   "outputs": [
    {
     "data": {
      "text/plain": [
       "array([ 0,  1,  2,  3,  4,  5,  6,  7,  8,  9, 10, 11, 12, 13, 14, 15, 16,\n",
       "       17, 18, 19, 20])"
      ]
     },
     "execution_count": 66,
     "metadata": {},
     "output_type": "execute_result"
    }
   ],
   "source": [
    "degree"
   ]
  },
  {
   "cell_type": "code",
   "execution_count": 67,
   "id": "f7f7e2bc-8fb1-4116-85d7-d833c30a0789",
   "metadata": {},
   "outputs": [],
   "source": [
    "model = make_pipeline(PolynomialFeatures(degree), LinearRegression())"
   ]
  },
  {
   "cell_type": "code",
   "execution_count": 68,
   "id": "f926275a-7473-4275-a60f-a73817f532f3",
   "metadata": {},
   "outputs": [],
   "source": [
    "# 데이터를 7등분해라 (=cv=7)\n",
    "train_score, test_score = validation_curve(model, X, y, param_name = 'polynomialfeatures__degree', param_range = degree, cv = 7)"
   ]
  },
  {
   "cell_type": "code",
   "execution_count": 69,
   "id": "a8379d6d-8c2f-4fa0-8af0-59c175e17eae",
   "metadata": {
    "collapsed": true,
    "jupyter": {
     "outputs_hidden": true
    },
    "tags": []
   },
   "outputs": [
    {
     "data": {
      "text/plain": [
       "array([[0.        , 0.        , 0.        , 0.        , 0.        ,\n",
       "        0.        , 0.        ],\n",
       "       [0.72060505, 0.73235327, 0.71615237, 0.75517775, 0.6979951 ,\n",
       "        0.74351307, 0.71104367],\n",
       "       [0.8966661 , 0.89427274, 0.88460403, 0.90482859, 0.87685741,\n",
       "        0.90106431, 0.90420325],\n",
       "       [0.92830604, 0.93586649, 0.93273606, 0.95501615, 0.91919623,\n",
       "        0.92673491, 0.9402878 ],\n",
       "       [0.9386132 , 0.94947024, 0.94775706, 0.9632512 , 0.93425141,\n",
       "        0.94148127, 0.94641559],\n",
       "       [0.94121068, 0.94988755, 0.94891078, 0.9637873 , 0.93481636,\n",
       "        0.94464031, 0.94706837],\n",
       "       [0.94280027, 0.95011515, 0.95028793, 0.96555698, 0.93622172,\n",
       "        0.94504929, 0.94928043],\n",
       "       [0.94465044, 0.95166164, 0.95034312, 0.96584535, 0.93731514,\n",
       "        0.94571392, 0.95274503],\n",
       "       [0.94465097, 0.95169173, 0.95126473, 0.96709791, 0.93735454,\n",
       "        0.9484231 , 0.95274521],\n",
       "       [0.94935834, 0.9537075 , 0.95317786, 0.96799601, 0.93964532,\n",
       "        0.9490145 , 0.9527462 ],\n",
       "       [0.94936121, 0.95532262, 0.95403569, 0.97143334, 0.94283046,\n",
       "        0.95302621, 0.95316414],\n",
       "       [0.95004308, 0.95545384, 0.95410179, 0.97176131, 0.94606336,\n",
       "        0.95487769, 0.95317637],\n",
       "       [0.95800395, 0.95952176, 0.95867405, 0.97180582, 0.94724875,\n",
       "        0.95489589, 0.95812976],\n",
       "       [0.96018866, 0.960872  , 0.9604493 , 0.9761954 , 0.94796879,\n",
       "        0.95489902, 0.96158139],\n",
       "       [0.96062421, 0.96155007, 0.96186498, 0.97706   , 0.94977215,\n",
       "        0.95582416, 0.96158537],\n",
       "       [0.9618062 , 0.96211504, 0.96199219, 0.97734911, 0.95020002,\n",
       "        0.95586154, 0.96163618],\n",
       "       [0.96182216, 0.96288239, 0.96295942, 0.97858439, 0.95024067,\n",
       "        0.95608857, 0.96170853],\n",
       "       [0.96184622, 0.96412667, 0.97046506, 0.97865438, 0.95024302,\n",
       "        0.95647154, 0.96181987],\n",
       "       [0.96186251, 0.96687087, 0.9731115 , 0.98070647, 0.95894667,\n",
       "        0.95647738, 0.96850448],\n",
       "       [0.9665684 , 0.96784028, 0.9734629 , 0.98096699, 0.9599226 ,\n",
       "        0.95962208, 0.96889167],\n",
       "       [0.96779683, 0.96766164, 0.97365303, 0.98187286, 0.96352655,\n",
       "        0.95993886, 0.96905814]])"
      ]
     },
     "execution_count": 69,
     "metadata": {},
     "output_type": "execute_result"
    }
   ],
   "source": [
    "train_score"
   ]
  },
  {
   "cell_type": "code",
   "execution_count": 73,
   "id": "9c0b7135-5131-4b1a-968d-9de4777e9bc4",
   "metadata": {},
   "outputs": [
    {
     "data": {
      "text/plain": [
       "<matplotlib.legend.Legend at 0x29382db8c40>"
      ]
     },
     "execution_count": 73,
     "metadata": {},
     "output_type": "execute_result"
    },
    {
     "data": {
      "image/png": "[encoded data removed]",
      "text/plain": [
       "<Figure size 576x360 with 1 Axes>"
      ]
     },
     "metadata": {
      "needs_background": "light"
     },
     "output_type": "display_data"
    }
   ],
   "source": [
    "plt.figure(figsize = (8, 5))\n",
    "plt.plot(degree, np.median(train_score, 1), \"b-\", label = 'training score') # train\n",
    "plt.plot(degree, np.median(test_score, 1), \"r-\", label = 'validation score') # test = validation\n",
    "plt.ylim(0, 1)\n",
    "plt.xlabel('degree')\n",
    "plt.ylabel('score')\n",
    "plt.legend(loc = 'best')#;"
   ]
  },
  {
   "cell_type": "code",
   "execution_count": null,
   "id": "8f144743-01b2-4020-982e-551724a1aa14",
   "metadata": {},
   "outputs": [],
   "source": [
    "# 해석:(degree라는 인자를 변경하면서 트레인과 테스트를 비교해봄)\n",
    "degree 3인 지점이 best인 지점인 것을 확인할 수 있음\n",
    "degree가 12.5인 지점부터 train 스코어와 test스코어의 갭이 벌어지기 시작 -> 이후 오버피팅이 일어나는 것을 확인할 수 있음"
   ]
  },
  {
   "cell_type": "markdown",
   "id": "1a6a5f33-e5f5-4797-9a01-15aaef12de71",
   "metadata": {},
   "source": [
    "---"
   ]
  },
  {
   "cell_type": "code",
   "execution_count": null,
   "id": "598212e2-7aa8-4212-8599-062245818a27",
   "metadata": {},
   "outputs": [],
   "source": [
    "# pipeline과 learnning curve가 있으니 무시하고....?"
   ]
  },
  {
   "cell_type": "code",
   "execution_count": 78,
   "id": "1242d127-9411-4653-a3eb-1e5c9cdd8457",
   "metadata": {},
   "outputs": [],
   "source": [
    "from sklearn.model_selection import learning_curve # 트레인이랑 테스트 비율을 확인할 때 사용함."
   ]
  },
  {
   "cell_type": "code",
   "execution_count": 79,
   "id": "0a8e0c11-1fd4-45b1-86f2-5d280b20fd83",
   "metadata": {},
   "outputs": [
    {
     "data": {
      "text/plain": [
       "array([0.1   , 0.1375, 0.175 , 0.2125, 0.25  , 0.2875, 0.325 , 0.3625,\n",
       "       0.4   , 0.4375, 0.475 , 0.5125, 0.55  , 0.5875, 0.625 , 0.6625,\n",
       "       0.7   , 0.7375, 0.775 , 0.8125, 0.85  , 0.8875, 0.925 , 0.9625,\n",
       "       1.    ])"
      ]
     },
     "execution_count": 79,
     "metadata": {},
     "output_type": "execute_result"
    }
   ],
   "source": [
    "np.linspace(0.1, 1, 25)"
   ]
  },
  {
   "cell_type": "code",
   "execution_count": 87,
   "id": "b6f4ed06-0cd2-4489-a7ad-50160fecc02a",
   "metadata": {
    "tags": []
   },
   "outputs": [
    {
     "data": {
      "image/png": "[encoded data removed]",
      "text/plain": [
       "<Figure size 1152x432 with 2 Axes>"
      ]
     },
     "metadata": {
      "needs_background": "light"
     },
     "output_type": "display_data"
    }
   ],
   "source": [
    "fig, ax = plt.subplots(1, 2, figsize = (16, 6))\n",
    "for i, degree in enumerate([3, 9]) :\n",
    "    model = make_pipeline(PolynomialFeatures(degree), LinearRegression())\n",
    "    n, train_lc, test_lc = learning_curve(model, X, y, cv = 7, train_sizes = np.linspace(0.1, 1, 25))\n",
    "    \n",
    "    ax[i].plot(n, np.mean(train_lc, 1), \"b-\", label = 'training score') # train\n",
    "    ax[i].plot(n, np.mean(test_lc, 1), \"r-\", label = 'validation score') # test = validation\n",
    "    ax[i].hlines(np.mean([train_lc[-1], test_lc[-1]]), n[0], n[-1], color = 'gray', linestyle = 'dashed')\n",
    "    ax[i].set(xlim =(n[0], n[-1]), ylim = (0, 1), xlabel = 'training size', ylabel = 'score')\n",
    "    ax[i].set_title('degree = {}'.format(degree), size = 20)\n",
    "    ax[i].legend(loc = 'best')#;"
   ]
  },
  {
   "cell_type": "code",
   "execution_count": null,
   "id": "aca8b3b9-9305-4882-9ec8-e450a8cc4b92",
   "metadata": {},
   "outputs": [],
   "source": [
    "# 해석:\n",
    "degree가 높아질 수록 트레인 사이즈가 충분히 많아야한다.\n",
    "degree가 높을 수록 오버피팅 될 확률이 높음.\n",
    "\n",
    "트레인, 테스트 비율을 보통 7:3, 8:2, 9:1 이렇게 3가지 종류로 비율을 나눠서 사용한다."
   ]
  },
  {
   "cell_type": "code",
   "execution_count": null,
   "id": "bf91ea82-abbc-4eb1-b90c-6b32717c67ce",
   "metadata": {},
   "outputs": [],
   "source": [
    "파라미터를 바꾸는 행위를 튜닝이라고 한다. -> 내일 튜닝 작업 부분에 대해 할 것이다."
   ]
  },
  {
   "cell_type": "code",
   "execution_count": null,
   "id": "b20c3448-233f-4a68-88b8-b1906993178d",
   "metadata": {},
   "outputs": [],
   "source": []
  }
 ],
 "metadata": {
  "kernelspec": {
   "display_name": "Python 3 (ipykernel)",
   "language": "python",
   "name": "python3"
  },
  "language_info": {
   "codemirror_mode": {
    "name": "ipython",
    "version": 3
   },
   "file_extension": ".py",
   "mimetype": "text/x-python",
   "name": "python",
   "nbconvert_exporter": "python",
   "pygments_lexer": "ipython3",
   "version": "3.9.12"
  }
 },
 "nbformat": 4,
 "nbformat_minor": 5
}
