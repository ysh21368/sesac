{
 "cells": [
  {
   "cell_type": "code",
   "execution_count": null,
   "id": "d5506702-dbc7-475a-bbf1-63245b0a8b04",
   "metadata": {},
   "outputs": [],
   "source": [
    "#titanic 머신러닝\n",
    "#test (문제)\n",
    "#train ()"
   ]
  },
  {
   "cell_type": "code",
   "execution_count": null,
   "id": "000ef0ac-9903-4153-8637-450dc69517f8",
   "metadata": {},
   "outputs": [],
   "source": [
    "import pandas as pd"
   ]
  },
  {
   "cell_type": "code",
   "execution_count": null,
   "id": "ed917403-eadb-4380-9813-bc2674f4bd75",
   "metadata": {},
   "outputs": [],
   "source": [
    "train = pd.read_csv('titanic/train.csv')"
   ]
  },
  {
   "cell_type": "code",
   "execution_count": null,
   "id": "9d47281c-fbad-4319-a967-af080b64c981",
   "metadata": {},
   "outputs": [],
   "source": [
    "import numpy as np"
   ]
  },
  {
   "cell_type": "code",
   "execution_count": null,
   "id": "1f39fcd2-f33c-41c4-bea7-0a13a295282e",
   "metadata": {},
   "outputs": [],
   "source": [
    "train = pd.read_csv('./titanic/train.csv') #=train = pd.read_csv('titanic/train.csv')"
   ]
  },
  {
   "cell_type": "markdown",
   "id": "133f050c-ce33-491b-8397-ee43ec33e948",
   "metadata": {},
   "source": [
    "('../ # 상대경로)"
   ]
  },
  {
   "cell_type": "code",
   "execution_count": null,
   "id": "2136e2e1-464a-4b98-9612-8232ab6b7522",
   "metadata": {},
   "outputs": [],
   "source": []
  },
  {
   "cell_type": "code",
   "execution_count": null,
   "id": "68c3442d-1289-4614-81a8-a65a72713333",
   "metadata": {},
   "outputs": [],
   "source": [
    "train.head(1)"
   ]
  },
  {
   "cell_type": "code",
   "execution_count": null,
   "id": "0725eb11-dac3-435f-9f60-4683f51976da",
   "metadata": {},
   "outputs": [],
   "source": [
    "train.info()"
   ]
  },
  {
   "cell_type": "code",
   "execution_count": null,
   "id": "37dd3869-bda2-4b87-87bd-bdab7891bfbd",
   "metadata": {},
   "outputs": [],
   "source": [
    "train"
   ]
  },
  {
   "cell_type": "code",
   "execution_count": null,
   "id": "44ffff27-2291-4581-bde0-c338abdf1bc3",
   "metadata": {},
   "outputs": [],
   "source": [
    "# PassengerId: 승객 번호 (object)\n",
    "# Survived : 생존한 사람 (1: 생존한 사람, 0: 사망한 사람) (object)\n",
    "# Pclass : 등급 (1, 2, 3) (object)\n",
    "# SibSp: 사촌 + 배우자의 수 (숫자)\n",
    "# Parch: 부모님 + 아이들 수 (숫자)\n",
    "# Ticket: 티켓 번호 (object)\n",
    "# Fare : 요금 (숫자)\n",
    "# Cabin: 배안의 객실 (object)\n",
    "# Embarked : 탑승한 선착장 (object)"
   ]
  },
  {
   "cell_type": "code",
   "execution_count": null,
   "id": "8aaad953-ffeb-403a-a235-282363288914",
   "metadata": {},
   "outputs": [],
   "source": [
    "train.shape #사용할 수 있는 건 11개? 왜?"
   ]
  },
  {
   "cell_type": "code",
   "execution_count": null,
   "id": "ccfc2936-10d6-423f-9ede-4d06c10a44cd",
   "metadata": {},
   "outputs": [],
   "source": [
    "train.isnull().sum() # .isnull()은 null의 갯수를 파악할 때 사용함"
   ]
  },
  {
   "cell_type": "code",
   "execution_count": null,
   "id": "a2afab75-bc74-4003-a8f6-0f1af6c68c65",
   "metadata": {},
   "outputs": [],
   "source": [
    "# 분류 (classification): 분류할 때 사용 / 회귀(regression): 값을 예측할 때 사용"
   ]
  },
  {
   "cell_type": "code",
   "execution_count": null,
   "id": "336df2b4-1f4c-4bc5-bd60-a07673b68ee8",
   "metadata": {},
   "outputs": [],
   "source": [
    "# binary classification (2개 분류)\n",
    "# multi classification (3개 이상 분류)"
   ]
  },
  {
   "cell_type": "code",
   "execution_count": null,
   "id": "e0a7fcc8-233e-47e5-a04a-eb7ad97f7435",
   "metadata": {},
   "outputs": [],
   "source": [
    "# 우리가 할 것은 '분류'이다."
   ]
  },
  {
   "cell_type": "code",
   "execution_count": null,
   "id": "c24b1f87-d81b-4c99-988a-a6bc96f44d64",
   "metadata": {},
   "outputs": [],
   "source": [
    "# 이 데이터 안에 살아있는 사람과 죽어있는 사람의 수는?"
   ]
  },
  {
   "cell_type": "code",
   "execution_count": null,
   "id": "1ece7c12-40d9-4a6a-bcab-d063f1a87c8c",
   "metadata": {},
   "outputs": [],
   "source": [
    "train['Survived'].value_counts() #0: 죽은사람, 1: 생존한 사람"
   ]
  },
  {
   "cell_type": "code",
   "execution_count": null,
   "id": "747ae169-3150-49dd-914f-9a24cafc234a",
   "metadata": {},
   "outputs": [],
   "source": [
    "train['Pclass'].value_counts() #0: 죽은사람, 1: 생존한 사람"
   ]
  },
  {
   "cell_type": "code",
   "execution_count": null,
   "id": "08fd9649-683a-4829-82b7-5219872aca68",
   "metadata": {},
   "outputs": [],
   "source": [
    "train['Sex'].value_counts()"
   ]
  },
  {
   "cell_type": "markdown",
   "id": "3d570436-83d2-4775-b42f-d1a403114030",
   "metadata": {},
   "source": [
    "남자인데, pclass3에 탄사람은?\n",
    "성별로 pclass에 탄사람은?\n",
    "pclass에 타서 생존한 사람은?"
   ]
  },
  {
   "cell_type": "code",
   "execution_count": null,
   "id": "2704b2bf-91d3-48ce-a956-9328642deb27",
   "metadata": {},
   "outputs": [],
   "source": [
    "#남자인데, pclass3에 탄사람은?\n",
    "len(train[(train['Sex'] == 'male') & (train['Pclass'] == 3)])"
   ]
  },
  {
   "cell_type": "code",
   "execution_count": null,
   "id": "bd5bb6e3-e292-4c01-bd05-b6fe6cdfdcca",
   "metadata": {},
   "outputs": [],
   "source": [
    "train"
   ]
  },
  {
   "cell_type": "code",
   "execution_count": null,
   "id": "db6fa85e-baa4-4f0b-8898-1db843febca8",
   "metadata": {},
   "outputs": [],
   "source": [
    "len(train[(train['Sex'] == 'female') & (train['Pclass'] == 2)])"
   ]
  },
  {
   "cell_type": "code",
   "execution_count": null,
   "id": "5182c702-138c-4180-9c76-2132d7c02f21",
   "metadata": {},
   "outputs": [],
   "source": [
    "# pclass 2 , 생존한사람의 수는?"
   ]
  },
  {
   "cell_type": "code",
   "execution_count": null,
   "id": "b2ca4153-5d44-4977-aec8-c87e63cf40c2",
   "metadata": {},
   "outputs": [],
   "source": [
    "len(train[(train['Pclass'] == 2) & (train['Survived'] == 1)])"
   ]
  },
  {
   "cell_type": "code",
   "execution_count": null,
   "id": "4994899f-314d-43a7-85f1-0c910336853f",
   "metadata": {},
   "outputs": [],
   "source": [
    "# 강사님 문제"
   ]
  },
  {
   "cell_type": "markdown",
   "id": "2665762e-fe7f-4b5b-a008-e2a9079bfab6",
   "metadata": {},
   "source": [
    "M 0\n",
    "M 1\n",
    "\n",
    "M = 50 %"
   ]
  },
  {
   "cell_type": "markdown",
   "id": "8123aa13-c01e-4a56-9262-3fbd9f1c18fa",
   "metadata": {},
   "source": [
    "M 0\n",
    "M 1\n",
    "M 1\n",
    "\n",
    "M = 75 %"
   ]
  },
  {
   "cell_type": "code",
   "execution_count": null,
   "id": "b733818e-fbe2-4c19-a74c-b93c244fb92f",
   "metadata": {},
   "outputs": [],
   "source": [
    "train.groupby('Sex')['Survived'].mean() #성별이 여자이면 생존 확률 증가"
   ]
  },
  {
   "cell_type": "code",
   "execution_count": null,
   "id": "ed90a185-3932-4a98-a94c-a8afd7829a44",
   "metadata": {},
   "outputs": [],
   "source": [
    "train.groupby('Pclass')['Survived'].mean() #등급이 높을 수록 생존 확률 증가"
   ]
  },
  {
   "cell_type": "code",
   "execution_count": null,
   "id": "3754283b-26dc-4110-b7ef-266f8577cbd4",
   "metadata": {},
   "outputs": [],
   "source": [
    "train.groupby('SibSp')['Survived'].mean().sort_values(ascending=False)"
   ]
  },
  {
   "cell_type": "code",
   "execution_count": null,
   "id": "7aefbd8b-3c9b-4c9d-8077-f5a00843ec01",
   "metadata": {},
   "outputs": [],
   "source": [
    "train['SibSp'].value_counts()"
   ]
  },
  {
   "cell_type": "code",
   "execution_count": null,
   "id": "ba6c1a8e-48e2-40ff-9fe5-a800def4166a",
   "metadata": {},
   "outputs": [],
   "source": [
    "train.groupby('Parch')['Survived'].mean().sort_values(ascending=False)"
   ]
  },
  {
   "cell_type": "code",
   "execution_count": null,
   "id": "c985dadd-e6f5-45d1-87fc-12e470131b48",
   "metadata": {},
   "outputs": [],
   "source": [
    "train['Parch'].value_counts()"
   ]
  },
  {
   "cell_type": "code",
   "execution_count": null,
   "id": "9a59b950-1770-47cd-a222-6d7f41f7363c",
   "metadata": {},
   "outputs": [],
   "source": [
    "train.groupby('Embarked')['Survived'].mean()"
   ]
  },
  {
   "cell_type": "code",
   "execution_count": null,
   "id": "7475735a-22fa-4804-8cb3-fdac70de630f",
   "metadata": {},
   "outputs": [],
   "source": [
    "# pclass별, 성별, 생존 확률은?"
   ]
  },
  {
   "cell_type": "code",
   "execution_count": null,
   "id": "05064462-ad03-4501-8bc2-738e3970dc7e",
   "metadata": {},
   "outputs": [],
   "source": [
    "train.groupby(['Pclass', 'Sex'])['Survived'].mean().sort_values(ascending=False)"
   ]
  },
  {
   "cell_type": "code",
   "execution_count": null,
   "id": "a62e3d0b-7ea6-43d8-94ea-055cca06658b",
   "metadata": {},
   "outputs": [],
   "source": [
    "# pcass별, 요금의 평균은?"
   ]
  },
  {
   "cell_type": "code",
   "execution_count": null,
   "id": "a2fa1a2c-a4fd-4b89-a21c-7200c6857061",
   "metadata": {},
   "outputs": [],
   "source": [
    "train.groupby('Pclass')['Fare'].mean()"
   ]
  },
  {
   "cell_type": "code",
   "execution_count": null,
   "id": "10681d03-960c-4291-958c-90e66737674d",
   "metadata": {},
   "outputs": [],
   "source": [
    "train.groupby('Embarked')['Fare'].mean()"
   ]
  },
  {
   "cell_type": "code",
   "execution_count": null,
   "id": "34677d14-e3a8-40bc-af47-d419c499f8d7",
   "metadata": {},
   "outputs": [],
   "source": [
    "# pclass별, 성별, survived할 확률 + fare의 평균은?"
   ]
  },
  {
   "cell_type": "code",
   "execution_count": null,
   "id": "656e24e3-8bda-4549-95ef-2bbfca595484",
   "metadata": {},
   "outputs": [],
   "source": [
    "train.groupby(['Pclass', 'Sex'])[['Survived', 'Fare']].mean().sort_values(by='Fare', ascending=False)"
   ]
  },
  {
   "cell_type": "code",
   "execution_count": null,
   "id": "1397ef0a-6ff3-4de4-97f6-7c071d3f235f",
   "metadata": {},
   "outputs": [],
   "source": [
    "train.groupby(['Pclass', 'Sex'])[['Survived', 'Fare']].mean() #실제로 등급이 높을수록 요금을 많이 썼음"
   ]
  },
  {
   "cell_type": "code",
   "execution_count": null,
   "id": "4c318869-adb6-4f61-a2b2-b764be33bcae",
   "metadata": {},
   "outputs": [],
   "source": [
    "#데이터분석과 머신러닝의 차이점은?"
   ]
  },
  {
   "cell_type": "markdown",
   "id": "50aca76c-7b0b-42b8-8369-7ff2e16f0db4",
   "metadata": {},
   "source": [
    "22-10-28(금)은 \n",
    "-타이타닉 조금 더 한다.\n",
    "-머신러닝을 하기 전 전처리 배울 예정 \n",
    "(map과 where)"
   ]
  },
  {
   "cell_type": "code",
   "execution_count": null,
   "id": "7bef9fdd-c24b-44d7-93f3-5837ef79bb04",
   "metadata": {},
   "outputs": [],
   "source": [
    "# 22-10-28(금)_오전수업\n",
    "# 전처리와 머신러닝(11월 1주차 할예정)을 돌릴 것이다. (해커톤 할 예정)"
   ]
  },
  {
   "cell_type": "code",
   "execution_count": null,
   "id": "bc77bd60-0c87-4780-9cb2-965ce6c1a660",
   "metadata": {},
   "outputs": [],
   "source": [
    "# 피처링(featuring)"
   ]
  },
  {
   "cell_type": "code",
   "execution_count": null,
   "id": "6d0e2817-e161-43be-af60-02d161fa99f8",
   "metadata": {},
   "outputs": [],
   "source": []
  },
  {
   "cell_type": "code",
   "execution_count": null,
   "id": "14e7d43e-25ac-4111-a2e0-57b3a0ff9e9a",
   "metadata": {},
   "outputs": [],
   "source": [
    "train.isnull().sum()"
   ]
  },
  {
   "cell_type": "code",
   "execution_count": null,
   "id": "1ae673e1-8ea3-4706-9321-a75e71e8676b",
   "metadata": {},
   "outputs": [],
   "source": [
    "train['Age'].median()"
   ]
  },
  {
   "cell_type": "code",
   "execution_count": null,
   "id": "32226554-2fbb-4205-8c12-632dcbb511df",
   "metadata": {},
   "outputs": [],
   "source": [
    "train.groupby('Sex')['Age'].mean()"
   ]
  },
  {
   "cell_type": "code",
   "execution_count": null,
   "id": "79664e74-b8ad-4908-a4cc-fbd9f13f4726",
   "metadata": {},
   "outputs": [],
   "source": [
    "train.groupby('Sex')['Age'].mean().index[0]"
   ]
  },
  {
   "cell_type": "code",
   "execution_count": null,
   "id": "65d7fe68-ebb1-4b06-ab8f-9946aaa72f80",
   "metadata": {},
   "outputs": [],
   "source": [
    "train.groupby('Sex')['Age'].mean().values[0]"
   ]
  },
  {
   "cell_type": "code",
   "execution_count": null,
   "id": "bdca2ecb-ed4e-4d04-966e-68832b6d3931",
   "metadata": {},
   "outputs": [],
   "source": [
    "train.groupby('Sex', as_index=False)['Age'].mean()"
   ]
  },
  {
   "cell_type": "code",
   "execution_count": null,
   "id": "1f79ff68-2f36-4073-8475-b910007f0451",
   "metadata": {},
   "outputs": [],
   "source": [
    "train.groupby('Sex')['Age'].mean()"
   ]
  },
  {
   "cell_type": "code",
   "execution_count": null,
   "id": "0a2a1a49-698d-491c-8914-37ddd31f9cc0",
   "metadata": {},
   "outputs": [],
   "source": [
    "train[['Sex', 'Age']][:3]"
   ]
  },
  {
   "cell_type": "code",
   "execution_count": null,
   "id": "d6e52bba-875f-4c06-b476-e4f113bfff06",
   "metadata": {},
   "outputs": [],
   "source": [
    "train.groupby('Sex', as_index=False)['Age'].transform('median') #.transform은 어떤 기준을 가지고 널 값을 바꿀 때 사용하는 함수"
   ]
  },
  {
   "cell_type": "code",
   "execution_count": null,
   "id": "c339666a-cb7b-4fc7-93ca-731b72eecca4",
   "metadata": {},
   "outputs": [],
   "source": [
    "train"
   ]
  },
  {
   "cell_type": "code",
   "execution_count": null,
   "id": "9133a35f-065c-4238-9d88-7affff1edc8b",
   "metadata": {},
   "outputs": [],
   "source": [
    "train2 = train.copy()"
   ]
  },
  {
   "cell_type": "code",
   "execution_count": null,
   "id": "2f3da3fd-6b24-47dd-a1ab-49485781c33f",
   "metadata": {},
   "outputs": [],
   "source": [
    "train2"
   ]
  },
  {
   "cell_type": "code",
   "execution_count": null,
   "id": "3fe6c3e9-28e6-4152-8115-46a1ab44c4fc",
   "metadata": {},
   "outputs": [],
   "source": [
    "train2['Age'][-5:]"
   ]
  },
  {
   "cell_type": "code",
   "execution_count": null,
   "id": "fa1a8e60-f245-4dc2-8477-6f97bfc668d5",
   "metadata": {},
   "outputs": [],
   "source": [
    "train2['Age'].fillna(train2.groupby('Sex')['Age'].transform('median'))[-5:]"
   ]
  },
  {
   "cell_type": "code",
   "execution_count": null,
   "id": "e8d807b8-55fc-46ab-ab06-b9985f9aec89",
   "metadata": {},
   "outputs": [],
   "source": [
    "train2['Age'] = train2['Age'].fillna(train2.groupby('Sex')['Age'].transform('median'), inplace=True)"
   ]
  },
  {
   "cell_type": "code",
   "execution_count": null,
   "id": "907479b5-fb9f-4c91-86ef-8caee1caecfe",
   "metadata": {},
   "outputs": [],
   "source": [
    "train.isnull().sum()"
   ]
  },
  {
   "cell_type": "code",
   "execution_count": null,
   "id": "351df5fd-c5fa-4401-8397-48eaabd8ff87",
   "metadata": {},
   "outputs": [],
   "source": [
    "train.columns"
   ]
  },
  {
   "cell_type": "code",
   "execution_count": null,
   "id": "6038728d-f8b7-40d4-9e39-a3d7c6a13ad5",
   "metadata": {},
   "outputs": [],
   "source": [
    "train['Name']"
   ]
  },
  {
   "cell_type": "markdown",
   "id": "3c49dc8c-cced-45a7-97c5-fbfcb9232afb",
   "metadata": {},
   "source": [
    "Mr. / Mrs. / Miss. / other"
   ]
  },
  {
   "cell_type": "markdown",
   "id": "db6bffc2-40c2-441a-a4d4-caacef08cd92",
   "metadata": {},
   "source": [
    "예시\n",
    "train['Title'] = ['Mr.', 'Mrs.', 'Miss.', 'Rev', ...]"
   ]
  },
  {
   "cell_type": "code",
   "execution_count": null,
   "id": "cab7ac2d-114f-41d7-a973-66ac501e674a",
   "metadata": {},
   "outputs": [],
   "source": [
    "train['Name'].str.lower()"
   ]
  },
  {
   "cell_type": "code",
   "execution_count": null,
   "id": "747cf15b-a77a-43eb-89a1-fed00e3fef71",
   "metadata": {},
   "outputs": [],
   "source": [
    "train['Name'][:10]"
   ]
  },
  {
   "cell_type": "markdown",
   "id": "cd523cd7-321c-4615-a356-50a343d21c57",
   "metadata": {
    "tags": []
   },
   "source": [
    "## 정규표현식 (점프 투 파이썬 7장)"
   ]
  },
  {
   "cell_type": "code",
   "execution_count": 1,
   "id": "1ad93cc6-3730-4730-9b23-fbd138c5fc0b",
   "metadata": {},
   "outputs": [],
   "source": [
    "import pandas as pd"
   ]
  },
  {
   "cell_type": "code",
   "execution_count": 2,
   "id": "9a91acdd-d886-4f80-a0c3-c4798ed675bc",
   "metadata": {},
   "outputs": [],
   "source": [
    "import numpy as np"
   ]
  },
  {
   "cell_type": "code",
   "execution_count": 3,
   "id": "67ef5620-ab19-4b90-bf87-f2933e8f4202",
   "metadata": {},
   "outputs": [],
   "source": [
    "train = pd.read_csv('titanic/train.csv')"
   ]
  },
  {
   "cell_type": "markdown",
   "id": "ae0864a2-b1e9-402a-b388-cc42c02d0706",
   "metadata": {},
   "source": [
    "extract(추출하다.)"
   ]
  },
  {
   "cell_type": "markdown",
   "id": "d56a1eab-7b29-4f4f-91a2-3faf3afd945f",
   "metadata": {
    "jupyter": {
     "outputs_hidden": true
    },
    "tags": []
   },
   "source": [
    "train['Title'].str.extract('[]') #문자 클래스: [ ] 사이의 문자들과 매치하겠다."
   ]
  },
  {
   "cell_type": "code",
   "execution_count": 4,
   "id": "62d6b15e-76bb-48e2-979f-6086367fc782",
   "metadata": {},
   "outputs": [],
   "source": [
    "train['Title'] = train['Name'].str.extract('([a-zA-Z]+)\\.') "
   ]
  },
  {
   "cell_type": "code",
   "execution_count": null,
   "id": "1266d83e-de93-4347-a8b4-f83a3a100cb9",
   "metadata": {},
   "outputs": [],
   "source": [
    "#우리는 반복(+)을 사용해야한다. (공백이나 문자 등이 1번이상) / 반복(*) (공백이나 문자 등이 0번이상)"
   ]
  },
  {
   "cell_type": "code",
   "execution_count": null,
   "id": "09ae9212-103e-4345-bb5d-cde4c2b56e82",
   "metadata": {},
   "outputs": [],
   "source": [
    "train['Name'][:20]"
   ]
  },
  {
   "cell_type": "code",
   "execution_count": null,
   "id": "5e166a76-4468-49f5-acbe-f5a7068a331d",
   "metadata": {},
   "outputs": [],
   "source": [
    "train['Name'].str.extract('([a-zA-Z])+,') "
   ]
  },
  {
   "cell_type": "code",
   "execution_count": null,
   "id": "e07909dd-4899-48b8-a352-18a39f5691b4",
   "metadata": {},
   "outputs": [],
   "source": [
    "train['Name'].str.extract('\\(([a-zA-Z ]+)\\)')"
   ]
  },
  {
   "cell_type": "code",
   "execution_count": null,
   "id": "ef725760-074b-4911-aaa7-12a2bc96d457",
   "metadata": {},
   "outputs": [],
   "source": [
    "train['Name'][:5]"
   ]
  },
  {
   "cell_type": "code",
   "execution_count": null,
   "id": "4aec8bfc-78ad-4f15-a1c1-a2207a4282cd",
   "metadata": {},
   "outputs": [],
   "source": [
    "train['Name'].str.extract('([a-zA-Z]+)\\.') "
   ]
  },
  {
   "cell_type": "code",
   "execution_count": null,
   "id": "08fdbdcb-e14f-46b7-82da-91961528a39f",
   "metadata": {},
   "outputs": [],
   "source": [
    "train[['Name', 'Title']]"
   ]
  },
  {
   "cell_type": "code",
   "execution_count": 5,
   "id": "db761799-3da6-4f14-b1c4-fb1089d4fd3a",
   "metadata": {},
   "outputs": [
    {
     "data": {
      "text/plain": [
       "Mr          517\n",
       "Miss        182\n",
       "Mrs         125\n",
       "Master       40\n",
       "Dr            7\n",
       "Rev           6\n",
       "Mlle          2\n",
       "Major         2\n",
       "Col           2\n",
       "Countess      1\n",
       "Capt          1\n",
       "Ms            1\n",
       "Sir           1\n",
       "Lady          1\n",
       "Mme           1\n",
       "Don           1\n",
       "Jonkheer      1\n",
       "Name: Title, dtype: int64"
      ]
     },
     "execution_count": 5,
     "metadata": {},
     "output_type": "execute_result"
    }
   ],
   "source": [
    "train['Title'].value_counts()"
   ]
  },
  {
   "cell_type": "code",
   "execution_count": null,
   "id": "b62238aa-4520-44b6-91a9-99b2e61ed5f7",
   "metadata": {},
   "outputs": [],
   "source": [
    "# Mr -> 0 / Miss -> 1 / Mrs -> 2 / Other -> 3\n",
    "# map을 이용해서 바꿀 수 있음"
   ]
  },
  {
   "cell_type": "code",
   "execution_count": null,
   "id": "f1495e12-607a-4e06-a591-bb55bbcb8f11",
   "metadata": {},
   "outputs": [],
   "source": [
    "# 강사님 풀이1_map으로"
   ]
  },
  {
   "cell_type": "code",
   "execution_count": null,
   "id": "1c0e3572-e3ca-41f5-8003-58feb8e4c8ad",
   "metadata": {
    "tags": []
   },
   "outputs": [],
   "source": [
    "train['Title'].unique() # 고유값들만 뽑을 수 있다."
   ]
  },
  {
   "cell_type": "code",
   "execution_count": null,
   "id": "b01601dc-7dcf-412e-86d0-e22fba99b143",
   "metadata": {},
   "outputs": [],
   "source": [
    "for value, key in enumerate(train['Title'].unique()) :\n",
    "    print(value, key)"
   ]
  },
  {
   "cell_type": "code",
   "execution_count": null,
   "id": "49ea5d27-d09a-45e8-89cd-e2acc13c1def",
   "metadata": {},
   "outputs": [],
   "source": [
    "title_map = {}\n",
    "\n",
    "for value, key in enumerate(train['Title'].unique()) :\n",
    "    if value >= 3 :\n",
    "        title_map[key] = 3\n",
    "    else :\n",
    "        title_map[key] = value\n",
    "    print(value, key)"
   ]
  },
  {
   "cell_type": "code",
   "execution_count": null,
   "id": "0b6817ef-d4e6-4915-8709-a0943e9b935e",
   "metadata": {},
   "outputs": [],
   "source": [
    "title_map"
   ]
  },
  {
   "cell_type": "code",
   "execution_count": null,
   "id": "1f9236c6-d6c3-4953-b945-aeb0678fdb0a",
   "metadata": {},
   "outputs": [],
   "source": [
    "# 강사님 풀이2_map으로"
   ]
  },
  {
   "cell_type": "code",
   "execution_count": 11,
   "id": "ccfef380-280c-4b6c-9e3a-d2263a56d04f",
   "metadata": {},
   "outputs": [],
   "source": [
    "train['Title'] = train['Title'].str.lower()"
   ]
  },
  {
   "cell_type": "code",
   "execution_count": 12,
   "id": "e03bb1b3-0cba-441a-84dc-cf1ceea7d967",
   "metadata": {},
   "outputs": [],
   "source": [
    "title_map = {}\n",
    "\n",
    "for title in train['Title'].unique() :\n",
    "    if title == 'mr' :\n",
    "        title_map[title] = 0\n",
    "    elif title == 'miss' :\n",
    "        title_map[title] = 1\n",
    "    elif title == 'mrs' :\n",
    "        title_map[title] = 2\n",
    "    else :\n",
    "        title_map[title] = 3"
   ]
  },
  {
   "cell_type": "code",
   "execution_count": 13,
   "id": "357d938d-af0f-460c-8464-20b487e3b6ae",
   "metadata": {},
   "outputs": [
    {
     "data": {
      "text/plain": [
       "{'mr': 0,\n",
       " 'mrs': 2,\n",
       " 'miss': 1,\n",
       " 'master': 3,\n",
       " 'don': 3,\n",
       " 'rev': 3,\n",
       " 'dr': 3,\n",
       " 'mme': 3,\n",
       " 'ms': 3,\n",
       " 'major': 3,\n",
       " 'lady': 3,\n",
       " 'sir': 3,\n",
       " 'mlle': 3,\n",
       " 'col': 3,\n",
       " 'capt': 3,\n",
       " 'countess': 3,\n",
       " 'jonkheer': 3}"
      ]
     },
     "execution_count": 13,
     "metadata": {},
     "output_type": "execute_result"
    }
   ],
   "source": [
    "title_map"
   ]
  },
  {
   "cell_type": "code",
   "execution_count": 14,
   "id": "681f74b0-093f-49f7-a748-7dcc54eb87e9",
   "metadata": {},
   "outputs": [],
   "source": [
    "train['Title2'] = train['Title'].map(title_map)"
   ]
  },
  {
   "cell_type": "code",
   "execution_count": 15,
   "id": "4753996f-1a67-4899-b440-8f1a1368b437",
   "metadata": {},
   "outputs": [
    {
     "data": {
      "text/plain": [
       "0    517\n",
       "1    182\n",
       "2    125\n",
       "3     67\n",
       "Name: Title2, dtype: int64"
      ]
     },
     "execution_count": 15,
     "metadata": {},
     "output_type": "execute_result"
    }
   ],
   "source": [
    "train['Title2'].value_counts()"
   ]
  },
  {
   "cell_type": "code",
   "execution_count": null,
   "id": "ecb1af93-43fb-4d34-8a53-20d368dcc1ed",
   "metadata": {},
   "outputs": [],
   "source": [
    "train"
   ]
  },
  {
   "cell_type": "code",
   "execution_count": null,
   "id": "6a00215e-abea-46d3-921d-1846eecad196",
   "metadata": {},
   "outputs": [],
   "source": [
    "# 강사님 풀이3_apply로"
   ]
  },
  {
   "cell_type": "code",
   "execution_count": null,
   "id": "0ae60371-4f1b-42db-8409-a7ea7f5f3955",
   "metadata": {},
   "outputs": [],
   "source": [
    "def title_mappping(title) :\n",
    "    if title == 'mr' :\n",
    "        return 0\n",
    "    elif title == 'miss' :\n",
    "        return 1\n",
    "    elif title == 'mrs' :\n",
    "        return 2\n",
    "    else :\n",
    "        return 3"
   ]
  },
  {
   "cell_type": "code",
   "execution_count": null,
   "id": "e7882115-9f19-4df1-b66c-c15443a1b018",
   "metadata": {},
   "outputs": [],
   "source": [
    "train['Title3'] = train['Title'].apply(title_mappping)"
   ]
  },
  {
   "cell_type": "code",
   "execution_count": null,
   "id": "e5c07e4f-bf1c-499f-a3e9-7cd5bafa4993",
   "metadata": {},
   "outputs": [],
   "source": [
    "train['Title3']"
   ]
  },
  {
   "cell_type": "code",
   "execution_count": null,
   "id": "f190cf40-46bb-47fe-b8ef-e6f2f7d1ed80",
   "metadata": {},
   "outputs": [],
   "source": [
    "train['Title3'].value_counts()"
   ]
  },
  {
   "cell_type": "code",
   "execution_count": null,
   "id": "7aaab7c9-06a3-4149-a9ee-0f22ae37d8de",
   "metadata": {},
   "outputs": [],
   "source": [
    "# 강사님 풀이4_np.where로"
   ]
  },
  {
   "cell_type": "code",
   "execution_count": null,
   "id": "ed3325c1-4ba6-42f7-b838-2a3c37b63c2a",
   "metadata": {},
   "outputs": [],
   "source": [
    "import numpy as np"
   ]
  },
  {
   "cell_type": "code",
   "execution_count": null,
   "id": "0434420a-27ba-41db-b336-8d89ac99f2a6",
   "metadata": {},
   "outputs": [],
   "source": [
    "train['Title4'] = np.where(train['Title'] == 'mr', 0, \n",
    "                           np.where(train['Title'] == 'miss', 1, \n",
    "                                    np.where(train['Title'] == 'mrs', 2, 3)))"
   ]
  },
  {
   "cell_type": "code",
   "execution_count": null,
   "id": "686b952b-33cb-4c7f-be4b-a8f13c81c9ce",
   "metadata": {},
   "outputs": [],
   "source": [
    "train['Title4'].value_counts()"
   ]
  },
  {
   "cell_type": "code",
   "execution_count": null,
   "id": "1f44054f-0b85-4e5f-8e6d-b754e64f6a29",
   "metadata": {},
   "outputs": [],
   "source": [
    "train"
   ]
  },
  {
   "cell_type": "code",
   "execution_count": null,
   "id": "848259b9-7d2a-42a1-a7fe-f0befc31c20e",
   "metadata": {},
   "outputs": [],
   "source": [
    "# 22-10-28(금)_오후 수업"
   ]
  },
  {
   "cell_type": "markdown",
   "id": "80912d91-5138-4197-b7d5-8e910d4d5d69",
   "metadata": {},
   "source": [
    "# title별로 나이의 중앙값"
   ]
  },
  {
   "cell_type": "code",
   "execution_count": 16,
   "id": "a2a8f3e3-48ea-4229-bacc-bdea99cd3263",
   "metadata": {},
   "outputs": [
    {
     "data": {
      "text/plain": [
       "Title2\n",
       "0    30.0\n",
       "1    21.0\n",
       "2    35.0\n",
       "3     9.0\n",
       "Name: Age, dtype: float64"
      ]
     },
     "execution_count": 16,
     "metadata": {},
     "output_type": "execute_result"
    }
   ],
   "source": [
    "train.groupby('Title2')['Age'].median()"
   ]
  },
  {
   "cell_type": "markdown",
   "id": "7a2492c5-48b8-4a5a-b54f-086a6f91df69",
   "metadata": {},
   "source": [
    "# 메디안 값을 에이지에 넣어줘라"
   ]
  },
  {
   "cell_type": "code",
   "execution_count": 17,
   "id": "11c84a65-ade7-40e1-976b-e89ed1711e68",
   "metadata": {},
   "outputs": [
    {
     "data": {
      "text/plain": [
       "Title2\n",
       "0    12882.50\n",
       "1     3179.00\n",
       "2     3877.00\n",
       "3     1266.67\n",
       "Name: Age, dtype: float64"
      ]
     },
     "execution_count": 17,
     "metadata": {},
     "output_type": "execute_result"
    }
   ],
   "source": [
    "train.groupby('Title2')['Age'].sum()"
   ]
  },
  {
   "cell_type": "code",
   "execution_count": 18,
   "id": "ffc5f813-368c-4542-a432-383dd4725293",
   "metadata": {},
   "outputs": [],
   "source": [
    "train['Age'] = train['Age'].fillna(train.groupby('Title2')['Age'].transform('median'))"
   ]
  },
  {
   "cell_type": "code",
   "execution_count": 19,
   "id": "2cd3638c-8f81-43ca-a69e-963dcb8240ca",
   "metadata": {},
   "outputs": [
    {
     "data": {
      "text/plain": [
       "0"
      ]
     },
     "execution_count": 19,
     "metadata": {},
     "output_type": "execute_result"
    }
   ],
   "source": [
    "train['Age'].isnull().sum()"
   ]
  },
  {
   "cell_type": "code",
   "execution_count": 20,
   "id": "9b766cc2-4746-4545-b97e-925a1ca97c9e",
   "metadata": {},
   "outputs": [
    {
     "data": {
      "text/plain": [
       "30.0"
      ]
     },
     "execution_count": 20,
     "metadata": {},
     "output_type": "execute_result"
    }
   ],
   "source": [
    "train['Age'].median()"
   ]
  },
  {
   "cell_type": "code",
   "execution_count": 21,
   "id": "1f5f74b1-095b-4efc-9db8-eb52d7151cb0",
   "metadata": {},
   "outputs": [
    {
     "data": {
      "text/plain": [
       "29.372805836139168"
      ]
     },
     "execution_count": 21,
     "metadata": {},
     "output_type": "execute_result"
    }
   ],
   "source": [
    "train['Age'].mean()"
   ]
  },
  {
   "cell_type": "code",
   "execution_count": null,
   "id": "4f08f9ab-d4f6-43f4-9f81-494c8f92450c",
   "metadata": {},
   "outputs": [],
   "source": [
    "train['Age'].describe()"
   ]
  },
  {
   "cell_type": "code",
   "execution_count": null,
   "id": "a8d73eb6-4613-48b7-a880-109b6f3d775e",
   "metadata": {},
   "outputs": [],
   "source": [
    "import seaborn as sns"
   ]
  },
  {
   "cell_type": "code",
   "execution_count": null,
   "id": "b19cbf63-b445-420b-a464-09c37793d0cc",
   "metadata": {},
   "outputs": [],
   "source": [
    "# 그래프 종류가 뭐지? \n",
    "facet = sns.FacetGrid(train, hue = \"Survived\", aspect = 4)\n",
    "facet.map(sns.kdeplot, 'Age', shade=True)\n",
    "facet.set(xlim = (0, train['Age'].max()))\n",
    "facet.add_legend()"
   ]
  },
  {
   "cell_type": "code",
   "execution_count": null,
   "id": "9f9ce3ed-b66c-4002-bdda-4e257702ee66",
   "metadata": {},
   "outputs": [],
   "source": [
    "facet = sns.FacetGrid(train, hue = \"Survived\", aspect = 4)\n",
    "facet.map(sns.kdeplot, 'Age', shade=True)\n",
    "facet.set(xlim = (0, 20))\n",
    "facet.add_legend()"
   ]
  },
  {
   "cell_type": "markdown",
   "id": "e62a67a7-1d41-41ed-a318-409e5ca5dbff",
   "metadata": {},
   "source": [
    "child(~16) : 0\n",
    "young(17~26) : 1\n",
    "adult(27~36) : 2\n",
    "mid-age(37~62) : 3\n",
    "senior(63~) : 4"
   ]
  },
  {
   "cell_type": "code",
   "execution_count": 23,
   "id": "57d42044-835f-4b45-8d7e-4aff77d59b7c",
   "metadata": {},
   "outputs": [],
   "source": [
    "train['Age3'] = np.where(train['Age'] <= 16, 0, \n",
    "np.where(train['Age'] <= 26, 1,\n",
    "np.where(train['Age'] <= 36, 2,\n",
    "np.where(train['Age'] <= 62, 3, 4))))"
   ]
  },
  {
   "cell_type": "code",
   "execution_count": 25,
   "id": "e6b79a02-379c-439c-99a1-cdb6ea5863c4",
   "metadata": {},
   "outputs": [
    {
     "data": {
      "text/plain": [
       "2    336\n",
       "1    255\n",
       "3    180\n",
       "0    105\n",
       "4     15\n",
       "Name: Age3, dtype: int64"
      ]
     },
     "execution_count": 25,
     "metadata": {},
     "output_type": "execute_result"
    }
   ],
   "source": [
    "train['Age3'].value_counts()"
   ]
  },
  {
   "cell_type": "code",
   "execution_count": null,
   "id": "4c98ce8a-3fbb-487f-97e4-d149227a8f4f",
   "metadata": {},
   "outputs": [],
   "source": [
    "#강사님 방법"
   ]
  },
  {
   "cell_type": "code",
   "execution_count": 29,
   "id": "eb30eab6-1648-4c07-b55d-3c5dec1656be",
   "metadata": {},
   "outputs": [],
   "source": [
    "train.loc[ [train['Age'] <= 16, 'Age3'] = 0\n",
    "train.loc[ (train['Age'] > 16) & (train['Age'] <= 26), 'Age2'] = 1\n",
    "train.loc[ (train['Age'] > 26) & (train['Age'] <= 36), 'Age2'] = 2\n",
    "train.loc[ (train['Age'] > 36) & (train['Age'] <= 62), 'Age2'] = 3\n",
    "train.loc[ train['Age'] > 62, 'Age2'] = 4"
   ]
  },
  {
   "cell_type": "code",
   "execution_count": 31,
   "id": "cfdad1e2-7bf0-4012-92d2-3acfa0f7688b",
   "metadata": {
    "tags": []
   },
   "outputs": [
    {
     "data": {
      "text/plain": [
       "2.0    336\n",
       "1.0    255\n",
       "3.0    180\n",
       "0.0    105\n",
       "4.0     15\n",
       "Name: Age2, dtype: int64"
      ]
     },
     "execution_count": 31,
     "metadata": {},
     "output_type": "execute_result"
    }
   ],
   "source": [
    "train['Age2'].value_counts()"
   ]
  },
  {
   "cell_type": "code",
   "execution_count": 35,
   "id": "d060ac53-4afa-433a-87cd-d0b6006aba0d",
   "metadata": {},
   "outputs": [
    {
     "data": {
      "text/html": [
       "<div>\n",
       "<style scoped>\n",
       "    .dataframe tbody tr th:only-of-type {\n",
       "        vertical-align: middle;\n",
       "    }\n",
       "\n",
       "    .dataframe tbody tr th {\n",
       "        vertical-align: top;\n",
       "    }\n",
       "\n",
       "    .dataframe thead th {\n",
       "        text-align: right;\n",
       "    }\n",
       "</style>\n",
       "<table border=\"1\" class=\"dataframe\">\n",
       "  <thead>\n",
       "    <tr style=\"text-align: right;\">\n",
       "      <th></th>\n",
       "      <th>PassengerId</th>\n",
       "      <th>Survived</th>\n",
       "      <th>Pclass</th>\n",
       "      <th>Name</th>\n",
       "      <th>Sex</th>\n",
       "      <th>Age</th>\n",
       "      <th>SibSp</th>\n",
       "      <th>Parch</th>\n",
       "      <th>Ticket</th>\n",
       "      <th>Fare</th>\n",
       "      <th>Cabin</th>\n",
       "      <th>Embarked</th>\n",
       "      <th>Title</th>\n",
       "      <th>Title2</th>\n",
       "      <th>Age3</th>\n",
       "      <th>Age2</th>\n",
       "    </tr>\n",
       "  </thead>\n",
       "  <tbody>\n",
       "    <tr>\n",
       "      <th>0</th>\n",
       "      <td>1</td>\n",
       "      <td>0</td>\n",
       "      <td>3</td>\n",
       "      <td>Braund, Mr. Owen Harris</td>\n",
       "      <td>male</td>\n",
       "      <td>22.0</td>\n",
       "      <td>1</td>\n",
       "      <td>0</td>\n",
       "      <td>A/5 21171</td>\n",
       "      <td>7.2500</td>\n",
       "      <td>NaN</td>\n",
       "      <td>S</td>\n",
       "      <td>mr</td>\n",
       "      <td>0</td>\n",
       "      <td>1</td>\n",
       "      <td>1.0</td>\n",
       "    </tr>\n",
       "    <tr>\n",
       "      <th>1</th>\n",
       "      <td>2</td>\n",
       "      <td>1</td>\n",
       "      <td>1</td>\n",
       "      <td>Cumings, Mrs. John Bradley (Florence Briggs Th...</td>\n",
       "      <td>female</td>\n",
       "      <td>38.0</td>\n",
       "      <td>1</td>\n",
       "      <td>0</td>\n",
       "      <td>PC 17599</td>\n",
       "      <td>71.2833</td>\n",
       "      <td>C85</td>\n",
       "      <td>C</td>\n",
       "      <td>mrs</td>\n",
       "      <td>2</td>\n",
       "      <td>3</td>\n",
       "      <td>3.0</td>\n",
       "    </tr>\n",
       "    <tr>\n",
       "      <th>2</th>\n",
       "      <td>3</td>\n",
       "      <td>1</td>\n",
       "      <td>3</td>\n",
       "      <td>Heikkinen, Miss. Laina</td>\n",
       "      <td>female</td>\n",
       "      <td>26.0</td>\n",
       "      <td>0</td>\n",
       "      <td>0</td>\n",
       "      <td>STON/O2. 3101282</td>\n",
       "      <td>7.9250</td>\n",
       "      <td>NaN</td>\n",
       "      <td>S</td>\n",
       "      <td>miss</td>\n",
       "      <td>1</td>\n",
       "      <td>1</td>\n",
       "      <td>1.0</td>\n",
       "    </tr>\n",
       "    <tr>\n",
       "      <th>3</th>\n",
       "      <td>4</td>\n",
       "      <td>1</td>\n",
       "      <td>1</td>\n",
       "      <td>Futrelle, Mrs. Jacques Heath (Lily May Peel)</td>\n",
       "      <td>female</td>\n",
       "      <td>35.0</td>\n",
       "      <td>1</td>\n",
       "      <td>0</td>\n",
       "      <td>113803</td>\n",
       "      <td>53.1000</td>\n",
       "      <td>C123</td>\n",
       "      <td>S</td>\n",
       "      <td>mrs</td>\n",
       "      <td>2</td>\n",
       "      <td>2</td>\n",
       "      <td>2.0</td>\n",
       "    </tr>\n",
       "    <tr>\n",
       "      <th>4</th>\n",
       "      <td>5</td>\n",
       "      <td>0</td>\n",
       "      <td>3</td>\n",
       "      <td>Allen, Mr. William Henry</td>\n",
       "      <td>male</td>\n",
       "      <td>35.0</td>\n",
       "      <td>0</td>\n",
       "      <td>0</td>\n",
       "      <td>373450</td>\n",
       "      <td>8.0500</td>\n",
       "      <td>NaN</td>\n",
       "      <td>S</td>\n",
       "      <td>mr</td>\n",
       "      <td>0</td>\n",
       "      <td>2</td>\n",
       "      <td>2.0</td>\n",
       "    </tr>\n",
       "    <tr>\n",
       "      <th>...</th>\n",
       "      <td>...</td>\n",
       "      <td>...</td>\n",
       "      <td>...</td>\n",
       "      <td>...</td>\n",
       "      <td>...</td>\n",
       "      <td>...</td>\n",
       "      <td>...</td>\n",
       "      <td>...</td>\n",
       "      <td>...</td>\n",
       "      <td>...</td>\n",
       "      <td>...</td>\n",
       "      <td>...</td>\n",
       "      <td>...</td>\n",
       "      <td>...</td>\n",
       "      <td>...</td>\n",
       "      <td>...</td>\n",
       "    </tr>\n",
       "    <tr>\n",
       "      <th>886</th>\n",
       "      <td>887</td>\n",
       "      <td>0</td>\n",
       "      <td>2</td>\n",
       "      <td>Montvila, Rev. Juozas</td>\n",
       "      <td>male</td>\n",
       "      <td>27.0</td>\n",
       "      <td>0</td>\n",
       "      <td>0</td>\n",
       "      <td>211536</td>\n",
       "      <td>13.0000</td>\n",
       "      <td>NaN</td>\n",
       "      <td>S</td>\n",
       "      <td>rev</td>\n",
       "      <td>3</td>\n",
       "      <td>2</td>\n",
       "      <td>2.0</td>\n",
       "    </tr>\n",
       "    <tr>\n",
       "      <th>887</th>\n",
       "      <td>888</td>\n",
       "      <td>1</td>\n",
       "      <td>1</td>\n",
       "      <td>Graham, Miss. Margaret Edith</td>\n",
       "      <td>female</td>\n",
       "      <td>19.0</td>\n",
       "      <td>0</td>\n",
       "      <td>0</td>\n",
       "      <td>112053</td>\n",
       "      <td>30.0000</td>\n",
       "      <td>B42</td>\n",
       "      <td>S</td>\n",
       "      <td>miss</td>\n",
       "      <td>1</td>\n",
       "      <td>1</td>\n",
       "      <td>1.0</td>\n",
       "    </tr>\n",
       "    <tr>\n",
       "      <th>888</th>\n",
       "      <td>889</td>\n",
       "      <td>0</td>\n",
       "      <td>3</td>\n",
       "      <td>Johnston, Miss. Catherine Helen \"Carrie\"</td>\n",
       "      <td>female</td>\n",
       "      <td>21.0</td>\n",
       "      <td>1</td>\n",
       "      <td>2</td>\n",
       "      <td>W./C. 6607</td>\n",
       "      <td>23.4500</td>\n",
       "      <td>NaN</td>\n",
       "      <td>S</td>\n",
       "      <td>miss</td>\n",
       "      <td>1</td>\n",
       "      <td>1</td>\n",
       "      <td>1.0</td>\n",
       "    </tr>\n",
       "    <tr>\n",
       "      <th>889</th>\n",
       "      <td>890</td>\n",
       "      <td>1</td>\n",
       "      <td>1</td>\n",
       "      <td>Behr, Mr. Karl Howell</td>\n",
       "      <td>male</td>\n",
       "      <td>26.0</td>\n",
       "      <td>0</td>\n",
       "      <td>0</td>\n",
       "      <td>111369</td>\n",
       "      <td>30.0000</td>\n",
       "      <td>C148</td>\n",
       "      <td>C</td>\n",
       "      <td>mr</td>\n",
       "      <td>0</td>\n",
       "      <td>1</td>\n",
       "      <td>1.0</td>\n",
       "    </tr>\n",
       "    <tr>\n",
       "      <th>890</th>\n",
       "      <td>891</td>\n",
       "      <td>0</td>\n",
       "      <td>3</td>\n",
       "      <td>Dooley, Mr. Patrick</td>\n",
       "      <td>male</td>\n",
       "      <td>32.0</td>\n",
       "      <td>0</td>\n",
       "      <td>0</td>\n",
       "      <td>370376</td>\n",
       "      <td>7.7500</td>\n",
       "      <td>NaN</td>\n",
       "      <td>Q</td>\n",
       "      <td>mr</td>\n",
       "      <td>0</td>\n",
       "      <td>2</td>\n",
       "      <td>2.0</td>\n",
       "    </tr>\n",
       "  </tbody>\n",
       "</table>\n",
       "<p>891 rows × 16 columns</p>\n",
       "</div>"
      ],
      "text/plain": [
       "     PassengerId  Survived  Pclass  \\\n",
       "0              1         0       3   \n",
       "1              2         1       1   \n",
       "2              3         1       3   \n",
       "3              4         1       1   \n",
       "4              5         0       3   \n",
       "..           ...       ...     ...   \n",
       "886          887         0       2   \n",
       "887          888         1       1   \n",
       "888          889         0       3   \n",
       "889          890         1       1   \n",
       "890          891         0       3   \n",
       "\n",
       "                                                  Name     Sex   Age  SibSp  \\\n",
       "0                              Braund, Mr. Owen Harris    male  22.0      1   \n",
       "1    Cumings, Mrs. John Bradley (Florence Briggs Th...  female  38.0      1   \n",
       "2                               Heikkinen, Miss. Laina  female  26.0      0   \n",
       "3         Futrelle, Mrs. Jacques Heath (Lily May Peel)  female  35.0      1   \n",
       "4                             Allen, Mr. William Henry    male  35.0      0   \n",
       "..                                                 ...     ...   ...    ...   \n",
       "886                              Montvila, Rev. Juozas    male  27.0      0   \n",
       "887                       Graham, Miss. Margaret Edith  female  19.0      0   \n",
       "888           Johnston, Miss. Catherine Helen \"Carrie\"  female  21.0      1   \n",
       "889                              Behr, Mr. Karl Howell    male  26.0      0   \n",
       "890                                Dooley, Mr. Patrick    male  32.0      0   \n",
       "\n",
       "     Parch            Ticket     Fare Cabin Embarked Title  Title2  Age3  Age2  \n",
       "0        0         A/5 21171   7.2500   NaN        S    mr       0     1   1.0  \n",
       "1        0          PC 17599  71.2833   C85        C   mrs       2     3   3.0  \n",
       "2        0  STON/O2. 3101282   7.9250   NaN        S  miss       1     1   1.0  \n",
       "3        0            113803  53.1000  C123        S   mrs       2     2   2.0  \n",
       "4        0            373450   8.0500   NaN        S    mr       0     2   2.0  \n",
       "..     ...               ...      ...   ...      ...   ...     ...   ...   ...  \n",
       "886      0            211536  13.0000   NaN        S   rev       3     2   2.0  \n",
       "887      0            112053  30.0000   B42        S  miss       1     1   1.0  \n",
       "888      2        W./C. 6607  23.4500   NaN        S  miss       1     1   1.0  \n",
       "889      0            111369  30.0000  C148        C    mr       0     1   1.0  \n",
       "890      0            370376   7.7500   NaN        Q    mr       0     2   2.0  \n",
       "\n",
       "[891 rows x 16 columns]"
      ]
     },
     "execution_count": 35,
     "metadata": {},
     "output_type": "execute_result"
    }
   ],
   "source": [
    "train"
   ]
  },
  {
   "cell_type": "code",
   "execution_count": 37,
   "id": "19c8ed0d-b0b0-4a59-91ea-a6cc695902d9",
   "metadata": {},
   "outputs": [
    {
     "data": {
      "text/plain": [
       "Age2\n",
       "0.0    0.542857\n",
       "3.0    0.383333\n",
       "1.0    0.380392\n",
       "2.0    0.345238\n",
       "4.0    0.200000\n",
       "Name: Survived, dtype: float64"
      ]
     },
     "execution_count": 37,
     "metadata": {},
     "output_type": "execute_result"
    }
   ],
   "source": [
    "#나이 구간 별 생존할 확률?\n",
    "train.groupby('Age2')['Survived'].mean().sort_values(ascending=False)"
   ]
  },
  {
   "cell_type": "code",
   "execution_count": 38,
   "id": "b70ecc29-72c8-458f-a20c-0edc7977bfbb",
   "metadata": {},
   "outputs": [
    {
     "data": {
      "text/html": [
       "<div>\n",
       "<style scoped>\n",
       "    .dataframe tbody tr th:only-of-type {\n",
       "        vertical-align: middle;\n",
       "    }\n",
       "\n",
       "    .dataframe tbody tr th {\n",
       "        vertical-align: top;\n",
       "    }\n",
       "\n",
       "    .dataframe thead th {\n",
       "        text-align: right;\n",
       "    }\n",
       "</style>\n",
       "<table border=\"1\" class=\"dataframe\">\n",
       "  <thead>\n",
       "    <tr style=\"text-align: right;\">\n",
       "      <th></th>\n",
       "      <th>PassengerId</th>\n",
       "      <th>Survived</th>\n",
       "      <th>Pclass</th>\n",
       "      <th>Name</th>\n",
       "      <th>Sex</th>\n",
       "      <th>Age</th>\n",
       "      <th>SibSp</th>\n",
       "      <th>Parch</th>\n",
       "      <th>Ticket</th>\n",
       "      <th>Fare</th>\n",
       "      <th>Cabin</th>\n",
       "      <th>Embarked</th>\n",
       "      <th>Title</th>\n",
       "      <th>Title2</th>\n",
       "      <th>Age3</th>\n",
       "      <th>Age2</th>\n",
       "    </tr>\n",
       "  </thead>\n",
       "  <tbody>\n",
       "    <tr>\n",
       "      <th>0</th>\n",
       "      <td>1</td>\n",
       "      <td>0</td>\n",
       "      <td>3</td>\n",
       "      <td>Braund, Mr. Owen Harris</td>\n",
       "      <td>male</td>\n",
       "      <td>22.0</td>\n",
       "      <td>1</td>\n",
       "      <td>0</td>\n",
       "      <td>A/5 21171</td>\n",
       "      <td>7.2500</td>\n",
       "      <td>NaN</td>\n",
       "      <td>S</td>\n",
       "      <td>mr</td>\n",
       "      <td>0</td>\n",
       "      <td>1</td>\n",
       "      <td>1.0</td>\n",
       "    </tr>\n",
       "    <tr>\n",
       "      <th>1</th>\n",
       "      <td>2</td>\n",
       "      <td>1</td>\n",
       "      <td>1</td>\n",
       "      <td>Cumings, Mrs. John Bradley (Florence Briggs Th...</td>\n",
       "      <td>female</td>\n",
       "      <td>38.0</td>\n",
       "      <td>1</td>\n",
       "      <td>0</td>\n",
       "      <td>PC 17599</td>\n",
       "      <td>71.2833</td>\n",
       "      <td>C85</td>\n",
       "      <td>C</td>\n",
       "      <td>mrs</td>\n",
       "      <td>2</td>\n",
       "      <td>3</td>\n",
       "      <td>3.0</td>\n",
       "    </tr>\n",
       "    <tr>\n",
       "      <th>2</th>\n",
       "      <td>3</td>\n",
       "      <td>1</td>\n",
       "      <td>3</td>\n",
       "      <td>Heikkinen, Miss. Laina</td>\n",
       "      <td>female</td>\n",
       "      <td>26.0</td>\n",
       "      <td>0</td>\n",
       "      <td>0</td>\n",
       "      <td>STON/O2. 3101282</td>\n",
       "      <td>7.9250</td>\n",
       "      <td>NaN</td>\n",
       "      <td>S</td>\n",
       "      <td>miss</td>\n",
       "      <td>1</td>\n",
       "      <td>1</td>\n",
       "      <td>1.0</td>\n",
       "    </tr>\n",
       "    <tr>\n",
       "      <th>3</th>\n",
       "      <td>4</td>\n",
       "      <td>1</td>\n",
       "      <td>1</td>\n",
       "      <td>Futrelle, Mrs. Jacques Heath (Lily May Peel)</td>\n",
       "      <td>female</td>\n",
       "      <td>35.0</td>\n",
       "      <td>1</td>\n",
       "      <td>0</td>\n",
       "      <td>113803</td>\n",
       "      <td>53.1000</td>\n",
       "      <td>C123</td>\n",
       "      <td>S</td>\n",
       "      <td>mrs</td>\n",
       "      <td>2</td>\n",
       "      <td>2</td>\n",
       "      <td>2.0</td>\n",
       "    </tr>\n",
       "    <tr>\n",
       "      <th>4</th>\n",
       "      <td>5</td>\n",
       "      <td>0</td>\n",
       "      <td>3</td>\n",
       "      <td>Allen, Mr. William Henry</td>\n",
       "      <td>male</td>\n",
       "      <td>35.0</td>\n",
       "      <td>0</td>\n",
       "      <td>0</td>\n",
       "      <td>373450</td>\n",
       "      <td>8.0500</td>\n",
       "      <td>NaN</td>\n",
       "      <td>S</td>\n",
       "      <td>mr</td>\n",
       "      <td>0</td>\n",
       "      <td>2</td>\n",
       "      <td>2.0</td>\n",
       "    </tr>\n",
       "    <tr>\n",
       "      <th>...</th>\n",
       "      <td>...</td>\n",
       "      <td>...</td>\n",
       "      <td>...</td>\n",
       "      <td>...</td>\n",
       "      <td>...</td>\n",
       "      <td>...</td>\n",
       "      <td>...</td>\n",
       "      <td>...</td>\n",
       "      <td>...</td>\n",
       "      <td>...</td>\n",
       "      <td>...</td>\n",
       "      <td>...</td>\n",
       "      <td>...</td>\n",
       "      <td>...</td>\n",
       "      <td>...</td>\n",
       "      <td>...</td>\n",
       "    </tr>\n",
       "    <tr>\n",
       "      <th>886</th>\n",
       "      <td>887</td>\n",
       "      <td>0</td>\n",
       "      <td>2</td>\n",
       "      <td>Montvila, Rev. Juozas</td>\n",
       "      <td>male</td>\n",
       "      <td>27.0</td>\n",
       "      <td>0</td>\n",
       "      <td>0</td>\n",
       "      <td>211536</td>\n",
       "      <td>13.0000</td>\n",
       "      <td>NaN</td>\n",
       "      <td>S</td>\n",
       "      <td>rev</td>\n",
       "      <td>3</td>\n",
       "      <td>2</td>\n",
       "      <td>2.0</td>\n",
       "    </tr>\n",
       "    <tr>\n",
       "      <th>887</th>\n",
       "      <td>888</td>\n",
       "      <td>1</td>\n",
       "      <td>1</td>\n",
       "      <td>Graham, Miss. Margaret Edith</td>\n",
       "      <td>female</td>\n",
       "      <td>19.0</td>\n",
       "      <td>0</td>\n",
       "      <td>0</td>\n",
       "      <td>112053</td>\n",
       "      <td>30.0000</td>\n",
       "      <td>B42</td>\n",
       "      <td>S</td>\n",
       "      <td>miss</td>\n",
       "      <td>1</td>\n",
       "      <td>1</td>\n",
       "      <td>1.0</td>\n",
       "    </tr>\n",
       "    <tr>\n",
       "      <th>888</th>\n",
       "      <td>889</td>\n",
       "      <td>0</td>\n",
       "      <td>3</td>\n",
       "      <td>Johnston, Miss. Catherine Helen \"Carrie\"</td>\n",
       "      <td>female</td>\n",
       "      <td>21.0</td>\n",
       "      <td>1</td>\n",
       "      <td>2</td>\n",
       "      <td>W./C. 6607</td>\n",
       "      <td>23.4500</td>\n",
       "      <td>NaN</td>\n",
       "      <td>S</td>\n",
       "      <td>miss</td>\n",
       "      <td>1</td>\n",
       "      <td>1</td>\n",
       "      <td>1.0</td>\n",
       "    </tr>\n",
       "    <tr>\n",
       "      <th>889</th>\n",
       "      <td>890</td>\n",
       "      <td>1</td>\n",
       "      <td>1</td>\n",
       "      <td>Behr, Mr. Karl Howell</td>\n",
       "      <td>male</td>\n",
       "      <td>26.0</td>\n",
       "      <td>0</td>\n",
       "      <td>0</td>\n",
       "      <td>111369</td>\n",
       "      <td>30.0000</td>\n",
       "      <td>C148</td>\n",
       "      <td>C</td>\n",
       "      <td>mr</td>\n",
       "      <td>0</td>\n",
       "      <td>1</td>\n",
       "      <td>1.0</td>\n",
       "    </tr>\n",
       "    <tr>\n",
       "      <th>890</th>\n",
       "      <td>891</td>\n",
       "      <td>0</td>\n",
       "      <td>3</td>\n",
       "      <td>Dooley, Mr. Patrick</td>\n",
       "      <td>male</td>\n",
       "      <td>32.0</td>\n",
       "      <td>0</td>\n",
       "      <td>0</td>\n",
       "      <td>370376</td>\n",
       "      <td>7.7500</td>\n",
       "      <td>NaN</td>\n",
       "      <td>Q</td>\n",
       "      <td>mr</td>\n",
       "      <td>0</td>\n",
       "      <td>2</td>\n",
       "      <td>2.0</td>\n",
       "    </tr>\n",
       "  </tbody>\n",
       "</table>\n",
       "<p>891 rows × 16 columns</p>\n",
       "</div>"
      ],
      "text/plain": [
       "     PassengerId  Survived  Pclass  \\\n",
       "0              1         0       3   \n",
       "1              2         1       1   \n",
       "2              3         1       3   \n",
       "3              4         1       1   \n",
       "4              5         0       3   \n",
       "..           ...       ...     ...   \n",
       "886          887         0       2   \n",
       "887          888         1       1   \n",
       "888          889         0       3   \n",
       "889          890         1       1   \n",
       "890          891         0       3   \n",
       "\n",
       "                                                  Name     Sex   Age  SibSp  \\\n",
       "0                              Braund, Mr. Owen Harris    male  22.0      1   \n",
       "1    Cumings, Mrs. John Bradley (Florence Briggs Th...  female  38.0      1   \n",
       "2                               Heikkinen, Miss. Laina  female  26.0      0   \n",
       "3         Futrelle, Mrs. Jacques Heath (Lily May Peel)  female  35.0      1   \n",
       "4                             Allen, Mr. William Henry    male  35.0      0   \n",
       "..                                                 ...     ...   ...    ...   \n",
       "886                              Montvila, Rev. Juozas    male  27.0      0   \n",
       "887                       Graham, Miss. Margaret Edith  female  19.0      0   \n",
       "888           Johnston, Miss. Catherine Helen \"Carrie\"  female  21.0      1   \n",
       "889                              Behr, Mr. Karl Howell    male  26.0      0   \n",
       "890                                Dooley, Mr. Patrick    male  32.0      0   \n",
       "\n",
       "     Parch            Ticket     Fare Cabin Embarked Title  Title2  Age3  Age2  \n",
       "0        0         A/5 21171   7.2500   NaN        S    mr       0     1   1.0  \n",
       "1        0          PC 17599  71.2833   C85        C   mrs       2     3   3.0  \n",
       "2        0  STON/O2. 3101282   7.9250   NaN        S  miss       1     1   1.0  \n",
       "3        0            113803  53.1000  C123        S   mrs       2     2   2.0  \n",
       "4        0            373450   8.0500   NaN        S    mr       0     2   2.0  \n",
       "..     ...               ...      ...   ...      ...   ...     ...   ...   ...  \n",
       "886      0            211536  13.0000   NaN        S   rev       3     2   2.0  \n",
       "887      0            112053  30.0000   B42        S  miss       1     1   1.0  \n",
       "888      2        W./C. 6607  23.4500   NaN        S  miss       1     1   1.0  \n",
       "889      0            111369  30.0000  C148        C    mr       0     1   1.0  \n",
       "890      0            370376   7.7500   NaN        Q    mr       0     2   2.0  \n",
       "\n",
       "[891 rows x 16 columns]"
      ]
     },
     "execution_count": 38,
     "metadata": {},
     "output_type": "execute_result"
    }
   ],
   "source": [
    "train"
   ]
  },
  {
   "cell_type": "code",
   "execution_count": 40,
   "id": "8757ccf9-53c7-415f-8aa8-74c0b27f4d66",
   "metadata": {},
   "outputs": [
    {
     "data": {
      "text/plain": [
       "PassengerId      0\n",
       "Survived         0\n",
       "Pclass           0\n",
       "Name             0\n",
       "Sex              0\n",
       "Age              0\n",
       "SibSp            0\n",
       "Parch            0\n",
       "Ticket           0\n",
       "Fare             0\n",
       "Cabin          687\n",
       "Embarked         2\n",
       "Title            0\n",
       "Title2           0\n",
       "Age3             0\n",
       "Age2             0\n",
       "dtype: int64"
      ]
     },
     "execution_count": 40,
     "metadata": {},
     "output_type": "execute_result"
    }
   ],
   "source": [
    "train.isnull().sum()"
   ]
  },
  {
   "cell_type": "code",
   "execution_count": 41,
   "id": "6b2ed408-4cad-483a-94bc-7a4d5fddfd39",
   "metadata": {},
   "outputs": [
    {
     "data": {
      "text/plain": [
       "S    644\n",
       "C    168\n",
       "Q     77\n",
       "Name: Embarked, dtype: int64"
      ]
     },
     "execution_count": 41,
     "metadata": {},
     "output_type": "execute_result"
    }
   ],
   "source": [
    "train['Embarked'].value_counts()"
   ]
  },
  {
   "cell_type": "code",
   "execution_count": 42,
   "id": "7e993ab5-806f-44e9-9f81-f6c766074c77",
   "metadata": {},
   "outputs": [
    {
     "data": {
      "text/plain": [
       "Pclass  Embarked\n",
       "1       C            85\n",
       "        Q             2\n",
       "        S           127\n",
       "2       C            17\n",
       "        Q             3\n",
       "        S           164\n",
       "3       C            66\n",
       "        Q            72\n",
       "        S           353\n",
       "Name: Survived, dtype: int64"
      ]
     },
     "execution_count": 42,
     "metadata": {},
     "output_type": "execute_result"
    }
   ],
   "source": [
    "train.groupby(['Pclass', 'Embarked'])['Survived'].count()"
   ]
  },
  {
   "cell_type": "code",
   "execution_count": 43,
   "id": "9a011f46-3841-42de-b58b-aeb11d487b94",
   "metadata": {},
   "outputs": [],
   "source": [
    "train['Embarked'].fillna('S', inplace=True)"
   ]
  },
  {
   "cell_type": "code",
   "execution_count": 44,
   "id": "281c29e2-3e06-446b-a7d8-d0073af01db7",
   "metadata": {},
   "outputs": [
    {
     "data": {
      "text/plain": [
       "0"
      ]
     },
     "execution_count": 44,
     "metadata": {},
     "output_type": "execute_result"
    }
   ],
   "source": [
    "train['Embarked'].isnull().sum()"
   ]
  },
  {
   "cell_type": "code",
   "execution_count": 45,
   "id": "7c2e7621-7317-44cb-b600-e66af6c5ade1",
   "metadata": {},
   "outputs": [
    {
     "data": {
      "text/plain": [
       "array(['S', 'C', 'Q'], dtype=object)"
      ]
     },
     "execution_count": 45,
     "metadata": {},
     "output_type": "execute_result"
    }
   ],
   "source": [
    "train['Embarked'].unique()"
   ]
  },
  {
   "cell_type": "code",
   "execution_count": null,
   "id": "19be4cd7-6cd4-4417-bbd3-cffac128800c",
   "metadata": {},
   "outputs": [],
   "source": [
    "s -> 0 / c -> 1 / Q -> 2"
   ]
  },
  {
   "cell_type": "code",
   "execution_count": 46,
   "id": "a7fae4fd-e31c-4a21-ac65-a0c8afab4124",
   "metadata": {},
   "outputs": [],
   "source": [
    "train['Embarked2'] = np.where(train['Embarked'] == 'S', 0,\n",
    "                              np.where(train['Embarked'] == 'C', 1, 2))"
   ]
  },
  {
   "cell_type": "code",
   "execution_count": 48,
   "id": "1e818a13-2fb6-4a30-8487-457646f243d4",
   "metadata": {},
   "outputs": [
    {
     "data": {
      "text/plain": [
       "0    646\n",
       "1    168\n",
       "2     77\n",
       "Name: Embarked2, dtype: int64"
      ]
     },
     "execution_count": 48,
     "metadata": {},
     "output_type": "execute_result"
    }
   ],
   "source": [
    "train['Embarked2'].value_counts()"
   ]
  },
  {
   "cell_type": "code",
   "execution_count": null,
   "id": "8d73ebca-c136-415e-8aa7-1c006b184fa4",
   "metadata": {},
   "outputs": [],
   "source": [
    "# 강사님 방법"
   ]
  },
  {
   "cell_type": "code",
   "execution_count": 49,
   "id": "fe6aec55-dc6a-4110-a794-3017801272da",
   "metadata": {},
   "outputs": [],
   "source": [
    "train['Embarked2'] = train['Embarked'].map({'S':0, 'C':1,'Q':2})"
   ]
  },
  {
   "cell_type": "code",
   "execution_count": 50,
   "id": "5f5fb231-071e-4c3b-bdbf-52fd7fc86f19",
   "metadata": {},
   "outputs": [
    {
     "data": {
      "text/plain": [
       "0    646\n",
       "1    168\n",
       "2     77\n",
       "Name: Embarked2, dtype: int64"
      ]
     },
     "execution_count": 50,
     "metadata": {},
     "output_type": "execute_result"
    }
   ],
   "source": [
    "train['Embarked2'].value_counts()"
   ]
  },
  {
   "cell_type": "code",
   "execution_count": 51,
   "id": "d40401cf-0a8f-4d3c-8734-5d3ec3d2e68c",
   "metadata": {},
   "outputs": [
    {
     "data": {
      "text/plain": [
       "0       NaN\n",
       "1       C85\n",
       "2       NaN\n",
       "3      C123\n",
       "4       NaN\n",
       "       ... \n",
       "886     NaN\n",
       "887     B42\n",
       "888     NaN\n",
       "889    C148\n",
       "890     NaN\n",
       "Name: Cabin, Length: 891, dtype: object"
      ]
     },
     "execution_count": 51,
     "metadata": {},
     "output_type": "execute_result"
    }
   ],
   "source": [
    "train['Cabin']"
   ]
  },
  {
   "cell_type": "code",
   "execution_count": 52,
   "id": "61652fe4-e3f9-4d6d-944d-f007dbfa9a64",
   "metadata": {},
   "outputs": [
    {
     "data": {
      "text/plain": [
       "array([nan, 'C85', 'C123', 'E46', 'G6', 'C103', 'D56', 'A6',\n",
       "       'C23 C25 C27', 'B78', 'D33', 'B30', 'C52', 'B28', 'C83', 'F33',\n",
       "       'F G73', 'E31', 'A5', 'D10 D12', 'D26', 'C110', 'B58 B60', 'E101',\n",
       "       'F E69', 'D47', 'B86', 'F2', 'C2', 'E33', 'B19', 'A7', 'C49', 'F4',\n",
       "       'A32', 'B4', 'B80', 'A31', 'D36', 'D15', 'C93', 'C78', 'D35',\n",
       "       'C87', 'B77', 'E67', 'B94', 'C125', 'C99', 'C118', 'D7', 'A19',\n",
       "       'B49', 'D', 'C22 C26', 'C106', 'C65', 'E36', 'C54',\n",
       "       'B57 B59 B63 B66', 'C7', 'E34', 'C32', 'B18', 'C124', 'C91', 'E40',\n",
       "       'T', 'C128', 'D37', 'B35', 'E50', 'C82', 'B96 B98', 'E10', 'E44',\n",
       "       'A34', 'C104', 'C111', 'C92', 'E38', 'D21', 'E12', 'E63', 'A14',\n",
       "       'B37', 'C30', 'D20', 'B79', 'E25', 'D46', 'B73', 'C95', 'B38',\n",
       "       'B39', 'B22', 'C86', 'C70', 'A16', 'C101', 'C68', 'A10', 'E68',\n",
       "       'B41', 'A20', 'D19', 'D50', 'D9', 'A23', 'B50', 'A26', 'D48',\n",
       "       'E58', 'C126', 'B71', 'B51 B53 B55', 'D49', 'B5', 'B20', 'F G63',\n",
       "       'C62 C64', 'E24', 'C90', 'C45', 'E8', 'B101', 'D45', 'C46', 'D30',\n",
       "       'E121', 'D11', 'E77', 'F38', 'B3', 'D6', 'B82 B84', 'D17', 'A36',\n",
       "       'B102', 'B69', 'E49', 'C47', 'D28', 'E17', 'A24', 'C50', 'B42',\n",
       "       'C148'], dtype=object)"
      ]
     },
     "execution_count": 52,
     "metadata": {},
     "output_type": "execute_result"
    }
   ],
   "source": [
    "train['Cabin'].unique()"
   ]
  },
  {
   "cell_type": "code",
   "execution_count": 53,
   "id": "d8564bd3-caf9-42de-b5ca-fbdbb04a6d5f",
   "metadata": {},
   "outputs": [
    {
     "data": {
      "text/plain": [
       "0      NaN\n",
       "1        C\n",
       "2      NaN\n",
       "3        C\n",
       "4      NaN\n",
       "      ... \n",
       "886    NaN\n",
       "887      B\n",
       "888    NaN\n",
       "889      C\n",
       "890    NaN\n",
       "Name: Cabin, Length: 891, dtype: object"
      ]
     },
     "execution_count": 53,
     "metadata": {},
     "output_type": "execute_result"
    }
   ],
   "source": [
    "train['Cabin'].str[0]"
   ]
  },
  {
   "cell_type": "code",
   "execution_count": 55,
   "id": "1a796565-7832-4c5a-88d3-41f9251d0adf",
   "metadata": {},
   "outputs": [
    {
     "data": {
      "text/plain": [
       "array(['C', 'E', 'A', nan, 'B', 'D', 'T'], dtype=object)"
      ]
     },
     "execution_count": 55,
     "metadata": {},
     "output_type": "execute_result"
    }
   ],
   "source": [
    "train[train['Pclass'] == 1]['Cabin'].str[0].unique()"
   ]
  },
  {
   "cell_type": "code",
   "execution_count": 56,
   "id": "f7429f4d-d999-4a86-a930-8562ef7d3543",
   "metadata": {},
   "outputs": [
    {
     "data": {
      "text/plain": [
       "array([nan, 'D', 'F', 'E'], dtype=object)"
      ]
     },
     "execution_count": 56,
     "metadata": {},
     "output_type": "execute_result"
    }
   ],
   "source": [
    "train[train['Pclass'] == 2]['Cabin'].str[0].unique()"
   ]
  },
  {
   "cell_type": "code",
   "execution_count": 57,
   "id": "99e8aee2-390e-4915-a832-0b71bca8c7c2",
   "metadata": {},
   "outputs": [
    {
     "data": {
      "text/plain": [
       "array([nan, 'G', 'F', 'E'], dtype=object)"
      ]
     },
     "execution_count": 57,
     "metadata": {},
     "output_type": "execute_result"
    }
   ],
   "source": [
    "train[train['Pclass'] == 3]['Cabin'].str[0].unique()"
   ]
  },
  {
   "cell_type": "code",
   "execution_count": 60,
   "id": "b18dab3e-f309-4f61-8a35-f3168383ffb4",
   "metadata": {},
   "outputs": [],
   "source": [
    "train['Cabin'] = train['Cabin'].str[0]"
   ]
  },
  {
   "cell_type": "code",
   "execution_count": 61,
   "id": "4b9a270e-d1ef-44de-b678-530dec9f4a1c",
   "metadata": {},
   "outputs": [
    {
     "data": {
      "text/plain": [
       "0      NaN\n",
       "1        C\n",
       "2      NaN\n",
       "3        C\n",
       "4      NaN\n",
       "      ... \n",
       "886    NaN\n",
       "887      B\n",
       "888    NaN\n",
       "889      C\n",
       "890    NaN\n",
       "Name: Cabin, Length: 891, dtype: object"
      ]
     },
     "execution_count": 61,
     "metadata": {},
     "output_type": "execute_result"
    }
   ],
   "source": [
    "# A -> 0 / B -> 0.4 / C->0.8 / .... T->2.8\n",
    "train['Cabin']"
   ]
  },
  {
   "cell_type": "code",
   "execution_count": 68,
   "id": "928bdd22-ce78-4acd-aadc-5463f158a4fc",
   "metadata": {},
   "outputs": [
    {
     "data": {
      "text/plain": [
       "array([nan, 'C', 'E', 'G', 'D', 'A', 'B', 'F', 'T'], dtype=object)"
      ]
     },
     "execution_count": 68,
     "metadata": {},
     "output_type": "execute_result"
    }
   ],
   "source": [
    "train['Cabin'].unique()"
   ]
  },
  {
   "cell_type": "code",
   "execution_count": null,
   "id": "68e83190-547a-4e91-86ca-712a07a210c9",
   "metadata": {},
   "outputs": [],
   "source": [
    "#강사님 방법"
   ]
  },
  {
   "cell_type": "code",
   "execution_count": 78,
   "id": "fc65d70f-88ca-4f6b-9d85-614e4cc9af83",
   "metadata": {},
   "outputs": [],
   "source": [
    "cabin_list = train['Cabin'].value_counts().index.values"
   ]
  },
  {
   "cell_type": "code",
   "execution_count": 79,
   "id": "ebd74e8c-fe63-400d-bf7f-945e3ea98275",
   "metadata": {},
   "outputs": [],
   "source": [
    "cabin_list.sort()"
   ]
  },
  {
   "cell_type": "code",
   "execution_count": 80,
   "id": "8a6ae4eb-f4b4-4868-9af8-5bef0af0d505",
   "metadata": {},
   "outputs": [
    {
     "data": {
      "text/plain": [
       "array(['A', 'B', 'C', 'D', 'E', 'F', 'G', 'T'], dtype=object)"
      ]
     },
     "execution_count": 80,
     "metadata": {},
     "output_type": "execute_result"
    }
   ],
   "source": [
    "cabin_list"
   ]
  },
  {
   "cell_type": "code",
   "execution_count": 81,
   "id": "d340609b-b444-413f-84e7-311e6902e4b0",
   "metadata": {},
   "outputs": [],
   "source": [
    "cabin_mapping = {}\n",
    "for c, v in enumerate(cabin_list) :\n",
    "    cabin_mapping[v] = round(c * 0.4, 2)"
   ]
  },
  {
   "cell_type": "code",
   "execution_count": 82,
   "id": "31dece89-206a-4847-94bc-0bd64d5be3b9",
   "metadata": {
    "tags": []
   },
   "outputs": [
    {
     "data": {
      "text/plain": [
       "{'A': 0.0,\n",
       " 'B': 0.4,\n",
       " 'C': 0.8,\n",
       " 'D': 1.2,\n",
       " 'E': 1.6,\n",
       " 'F': 2.0,\n",
       " 'G': 2.4,\n",
       " 'T': 2.8}"
      ]
     },
     "execution_count": 82,
     "metadata": {},
     "output_type": "execute_result"
    }
   ],
   "source": [
    "cabin_mapping"
   ]
  },
  {
   "cell_type": "code",
   "execution_count": 83,
   "id": "66547e51-8108-467c-a682-49d1cacf8046",
   "metadata": {},
   "outputs": [],
   "source": [
    "train['Cabin2'] = train['Cabin'].map(cabin_mapping)"
   ]
  },
  {
   "cell_type": "code",
   "execution_count": 84,
   "id": "3e1dcb12-2427-4443-b54e-3929a086ebe3",
   "metadata": {},
   "outputs": [
    {
     "data": {
      "text/plain": [
       "C    59\n",
       "B    47\n",
       "D    33\n",
       "E    32\n",
       "A    15\n",
       "F    13\n",
       "G     4\n",
       "T     1\n",
       "Name: Cabin, dtype: int64"
      ]
     },
     "execution_count": 84,
     "metadata": {},
     "output_type": "execute_result"
    }
   ],
   "source": [
    "train['Cabin'].value_counts()"
   ]
  },
  {
   "cell_type": "code",
   "execution_count": null,
   "id": "0956c138-82c4-46a0-8819-75eee7cc4716",
   "metadata": {},
   "outputs": [],
   "source": [
    "#pclass별  cabin2의 중앙값은?"
   ]
  },
  {
   "cell_type": "code",
   "execution_count": 90,
   "id": "e048ccdc-9789-4caa-ba59-ec69396bdb21",
   "metadata": {},
   "outputs": [
    {
     "data": {
      "text/plain": [
       "Pclass\n",
       "1    0.8\n",
       "2    1.8\n",
       "3    2.0\n",
       "Name: Cabin2, dtype: float64"
      ]
     },
     "execution_count": 90,
     "metadata": {},
     "output_type": "execute_result"
    }
   ],
   "source": [
    "train.groupby('Pclass')['Cabin2'].median()"
   ]
  },
  {
   "cell_type": "code",
   "execution_count": 96,
   "id": "1bee4ab3-17fe-4e82-b522-a790d504642a",
   "metadata": {
    "tags": []
   },
   "outputs": [],
   "source": [
    "train['Cabin2'].fillna(train.groupby('Pclass')['Cabin2'].transform('median'), inplace=True)"
   ]
  },
  {
   "cell_type": "code",
   "execution_count": 97,
   "id": "3d308802-1fd7-4e95-b901-776a67ae7393",
   "metadata": {},
   "outputs": [
    {
     "data": {
      "text/plain": [
       "Pclass\n",
       "1    0.8\n",
       "2    1.8\n",
       "3    2.0\n",
       "Name: Cabin2, dtype: float64"
      ]
     },
     "execution_count": 97,
     "metadata": {},
     "output_type": "execute_result"
    }
   ],
   "source": [
    "train.groupby('Pclass')['Cabin2'].median()"
   ]
  },
  {
   "cell_type": "code",
   "execution_count": 101,
   "id": "08ff3c96-7653-4678-99ad-40818e7eaa93",
   "metadata": {},
   "outputs": [
    {
     "data": {
      "text/plain": [
       "1.6695847362513965"
      ]
     },
     "execution_count": 101,
     "metadata": {},
     "output_type": "execute_result"
    }
   ],
   "source": [
    "train['Cabin2'].mean()"
   ]
  },
  {
   "cell_type": "code",
   "execution_count": 102,
   "id": "4bcfc960-8484-4274-8785-feb23ff70b82",
   "metadata": {},
   "outputs": [
    {
     "data": {
      "text/plain": [
       "0"
      ]
     },
     "execution_count": 102,
     "metadata": {},
     "output_type": "execute_result"
    }
   ],
   "source": [
    "train['Cabin2'].isnull().sum()"
   ]
  },
  {
   "cell_type": "code",
   "execution_count": 103,
   "id": "446732ad-f1c0-4c34-91a1-8616aed1b83b",
   "metadata": {},
   "outputs": [
    {
     "data": {
      "text/plain": [
       "PassengerId      0\n",
       "Survived         0\n",
       "Pclass           0\n",
       "Name             0\n",
       "Sex              0\n",
       "Age              0\n",
       "SibSp            0\n",
       "Parch            0\n",
       "Ticket           0\n",
       "Fare             0\n",
       "Cabin          687\n",
       "Embarked         0\n",
       "Title            0\n",
       "Title2           0\n",
       "Age3             0\n",
       "Age2             0\n",
       "Embarked2        0\n",
       "Cabin2           0\n",
       "dtype: int64"
      ]
     },
     "execution_count": 103,
     "metadata": {},
     "output_type": "execute_result"
    }
   ],
   "source": [
    "train.isnull().sum()"
   ]
  },
  {
   "cell_type": "code",
   "execution_count": null,
   "id": "a33ede8a-ef6e-4b4a-9af0-c7e7903ff1e8",
   "metadata": {},
   "outputs": [],
   "source": [
    "# 나의 방법"
   ]
  },
  {
   "cell_type": "code",
   "execution_count": 75,
   "id": "1c15264a-8869-4dbc-b153-cae6b6abb3cd",
   "metadata": {
    "tags": []
   },
   "outputs": [],
   "source": [
    "train['Cabin2'] = train['Cabin'].map({'A':0, 'B':0.4,'C':0.8, 'D':1.2, 'E':1.6, 'F':2.0, 'G':2.4, 'T':2.8})"
   ]
  },
  {
   "cell_type": "code",
   "execution_count": 76,
   "id": "647b3941-ff00-4266-b050-686b7d279252",
   "metadata": {},
   "outputs": [
    {
     "data": {
      "text/plain": [
       "0.8    59\n",
       "0.4    47\n",
       "1.2    33\n",
       "1.6    32\n",
       "0.0    15\n",
       "2.0    13\n",
       "2.4     4\n",
       "2.8     1\n",
       "Name: Cabin2, dtype: int64"
      ]
     },
     "execution_count": 76,
     "metadata": {},
     "output_type": "execute_result"
    }
   ],
   "source": [
    "train['Cabin2'].value_counts()"
   ]
  },
  {
   "cell_type": "code",
   "execution_count": 77,
   "id": "6e8fa0c6-e659-434b-8231-fca71992bd85",
   "metadata": {},
   "outputs": [
    {
     "data": {
      "text/html": [
       "<div>\n",
       "<style scoped>\n",
       "    .dataframe tbody tr th:only-of-type {\n",
       "        vertical-align: middle;\n",
       "    }\n",
       "\n",
       "    .dataframe tbody tr th {\n",
       "        vertical-align: top;\n",
       "    }\n",
       "\n",
       "    .dataframe thead th {\n",
       "        text-align: right;\n",
       "    }\n",
       "</style>\n",
       "<table border=\"1\" class=\"dataframe\">\n",
       "  <thead>\n",
       "    <tr style=\"text-align: right;\">\n",
       "      <th></th>\n",
       "      <th>PassengerId</th>\n",
       "      <th>Survived</th>\n",
       "      <th>Pclass</th>\n",
       "      <th>Name</th>\n",
       "      <th>Sex</th>\n",
       "      <th>Age</th>\n",
       "      <th>SibSp</th>\n",
       "      <th>Parch</th>\n",
       "      <th>Ticket</th>\n",
       "      <th>Fare</th>\n",
       "      <th>Cabin</th>\n",
       "      <th>Embarked</th>\n",
       "      <th>Title</th>\n",
       "      <th>Title2</th>\n",
       "      <th>Age3</th>\n",
       "      <th>Age2</th>\n",
       "      <th>Embarked2</th>\n",
       "      <th>Cabin2</th>\n",
       "    </tr>\n",
       "  </thead>\n",
       "  <tbody>\n",
       "    <tr>\n",
       "      <th>0</th>\n",
       "      <td>1</td>\n",
       "      <td>0</td>\n",
       "      <td>3</td>\n",
       "      <td>Braund, Mr. Owen Harris</td>\n",
       "      <td>male</td>\n",
       "      <td>22.0</td>\n",
       "      <td>1</td>\n",
       "      <td>0</td>\n",
       "      <td>A/5 21171</td>\n",
       "      <td>7.2500</td>\n",
       "      <td>NaN</td>\n",
       "      <td>S</td>\n",
       "      <td>mr</td>\n",
       "      <td>0</td>\n",
       "      <td>1</td>\n",
       "      <td>1.0</td>\n",
       "      <td>0</td>\n",
       "      <td>NaN</td>\n",
       "    </tr>\n",
       "    <tr>\n",
       "      <th>1</th>\n",
       "      <td>2</td>\n",
       "      <td>1</td>\n",
       "      <td>1</td>\n",
       "      <td>Cumings, Mrs. John Bradley (Florence Briggs Th...</td>\n",
       "      <td>female</td>\n",
       "      <td>38.0</td>\n",
       "      <td>1</td>\n",
       "      <td>0</td>\n",
       "      <td>PC 17599</td>\n",
       "      <td>71.2833</td>\n",
       "      <td>C</td>\n",
       "      <td>C</td>\n",
       "      <td>mrs</td>\n",
       "      <td>2</td>\n",
       "      <td>3</td>\n",
       "      <td>3.0</td>\n",
       "      <td>1</td>\n",
       "      <td>0.8</td>\n",
       "    </tr>\n",
       "    <tr>\n",
       "      <th>2</th>\n",
       "      <td>3</td>\n",
       "      <td>1</td>\n",
       "      <td>3</td>\n",
       "      <td>Heikkinen, Miss. Laina</td>\n",
       "      <td>female</td>\n",
       "      <td>26.0</td>\n",
       "      <td>0</td>\n",
       "      <td>0</td>\n",
       "      <td>STON/O2. 3101282</td>\n",
       "      <td>7.9250</td>\n",
       "      <td>NaN</td>\n",
       "      <td>S</td>\n",
       "      <td>miss</td>\n",
       "      <td>1</td>\n",
       "      <td>1</td>\n",
       "      <td>1.0</td>\n",
       "      <td>0</td>\n",
       "      <td>NaN</td>\n",
       "    </tr>\n",
       "    <tr>\n",
       "      <th>3</th>\n",
       "      <td>4</td>\n",
       "      <td>1</td>\n",
       "      <td>1</td>\n",
       "      <td>Futrelle, Mrs. Jacques Heath (Lily May Peel)</td>\n",
       "      <td>female</td>\n",
       "      <td>35.0</td>\n",
       "      <td>1</td>\n",
       "      <td>0</td>\n",
       "      <td>113803</td>\n",
       "      <td>53.1000</td>\n",
       "      <td>C</td>\n",
       "      <td>S</td>\n",
       "      <td>mrs</td>\n",
       "      <td>2</td>\n",
       "      <td>2</td>\n",
       "      <td>2.0</td>\n",
       "      <td>0</td>\n",
       "      <td>0.8</td>\n",
       "    </tr>\n",
       "    <tr>\n",
       "      <th>4</th>\n",
       "      <td>5</td>\n",
       "      <td>0</td>\n",
       "      <td>3</td>\n",
       "      <td>Allen, Mr. William Henry</td>\n",
       "      <td>male</td>\n",
       "      <td>35.0</td>\n",
       "      <td>0</td>\n",
       "      <td>0</td>\n",
       "      <td>373450</td>\n",
       "      <td>8.0500</td>\n",
       "      <td>NaN</td>\n",
       "      <td>S</td>\n",
       "      <td>mr</td>\n",
       "      <td>0</td>\n",
       "      <td>2</td>\n",
       "      <td>2.0</td>\n",
       "      <td>0</td>\n",
       "      <td>NaN</td>\n",
       "    </tr>\n",
       "    <tr>\n",
       "      <th>...</th>\n",
       "      <td>...</td>\n",
       "      <td>...</td>\n",
       "      <td>...</td>\n",
       "      <td>...</td>\n",
       "      <td>...</td>\n",
       "      <td>...</td>\n",
       "      <td>...</td>\n",
       "      <td>...</td>\n",
       "      <td>...</td>\n",
       "      <td>...</td>\n",
       "      <td>...</td>\n",
       "      <td>...</td>\n",
       "      <td>...</td>\n",
       "      <td>...</td>\n",
       "      <td>...</td>\n",
       "      <td>...</td>\n",
       "      <td>...</td>\n",
       "      <td>...</td>\n",
       "    </tr>\n",
       "    <tr>\n",
       "      <th>886</th>\n",
       "      <td>887</td>\n",
       "      <td>0</td>\n",
       "      <td>2</td>\n",
       "      <td>Montvila, Rev. Juozas</td>\n",
       "      <td>male</td>\n",
       "      <td>27.0</td>\n",
       "      <td>0</td>\n",
       "      <td>0</td>\n",
       "      <td>211536</td>\n",
       "      <td>13.0000</td>\n",
       "      <td>NaN</td>\n",
       "      <td>S</td>\n",
       "      <td>rev</td>\n",
       "      <td>3</td>\n",
       "      <td>2</td>\n",
       "      <td>2.0</td>\n",
       "      <td>0</td>\n",
       "      <td>NaN</td>\n",
       "    </tr>\n",
       "    <tr>\n",
       "      <th>887</th>\n",
       "      <td>888</td>\n",
       "      <td>1</td>\n",
       "      <td>1</td>\n",
       "      <td>Graham, Miss. Margaret Edith</td>\n",
       "      <td>female</td>\n",
       "      <td>19.0</td>\n",
       "      <td>0</td>\n",
       "      <td>0</td>\n",
       "      <td>112053</td>\n",
       "      <td>30.0000</td>\n",
       "      <td>B</td>\n",
       "      <td>S</td>\n",
       "      <td>miss</td>\n",
       "      <td>1</td>\n",
       "      <td>1</td>\n",
       "      <td>1.0</td>\n",
       "      <td>0</td>\n",
       "      <td>0.4</td>\n",
       "    </tr>\n",
       "    <tr>\n",
       "      <th>888</th>\n",
       "      <td>889</td>\n",
       "      <td>0</td>\n",
       "      <td>3</td>\n",
       "      <td>Johnston, Miss. Catherine Helen \"Carrie\"</td>\n",
       "      <td>female</td>\n",
       "      <td>21.0</td>\n",
       "      <td>1</td>\n",
       "      <td>2</td>\n",
       "      <td>W./C. 6607</td>\n",
       "      <td>23.4500</td>\n",
       "      <td>NaN</td>\n",
       "      <td>S</td>\n",
       "      <td>miss</td>\n",
       "      <td>1</td>\n",
       "      <td>1</td>\n",
       "      <td>1.0</td>\n",
       "      <td>0</td>\n",
       "      <td>NaN</td>\n",
       "    </tr>\n",
       "    <tr>\n",
       "      <th>889</th>\n",
       "      <td>890</td>\n",
       "      <td>1</td>\n",
       "      <td>1</td>\n",
       "      <td>Behr, Mr. Karl Howell</td>\n",
       "      <td>male</td>\n",
       "      <td>26.0</td>\n",
       "      <td>0</td>\n",
       "      <td>0</td>\n",
       "      <td>111369</td>\n",
       "      <td>30.0000</td>\n",
       "      <td>C</td>\n",
       "      <td>C</td>\n",
       "      <td>mr</td>\n",
       "      <td>0</td>\n",
       "      <td>1</td>\n",
       "      <td>1.0</td>\n",
       "      <td>1</td>\n",
       "      <td>0.8</td>\n",
       "    </tr>\n",
       "    <tr>\n",
       "      <th>890</th>\n",
       "      <td>891</td>\n",
       "      <td>0</td>\n",
       "      <td>3</td>\n",
       "      <td>Dooley, Mr. Patrick</td>\n",
       "      <td>male</td>\n",
       "      <td>32.0</td>\n",
       "      <td>0</td>\n",
       "      <td>0</td>\n",
       "      <td>370376</td>\n",
       "      <td>7.7500</td>\n",
       "      <td>NaN</td>\n",
       "      <td>Q</td>\n",
       "      <td>mr</td>\n",
       "      <td>0</td>\n",
       "      <td>2</td>\n",
       "      <td>2.0</td>\n",
       "      <td>2</td>\n",
       "      <td>NaN</td>\n",
       "    </tr>\n",
       "  </tbody>\n",
       "</table>\n",
       "<p>891 rows × 18 columns</p>\n",
       "</div>"
      ],
      "text/plain": [
       "     PassengerId  Survived  Pclass  \\\n",
       "0              1         0       3   \n",
       "1              2         1       1   \n",
       "2              3         1       3   \n",
       "3              4         1       1   \n",
       "4              5         0       3   \n",
       "..           ...       ...     ...   \n",
       "886          887         0       2   \n",
       "887          888         1       1   \n",
       "888          889         0       3   \n",
       "889          890         1       1   \n",
       "890          891         0       3   \n",
       "\n",
       "                                                  Name     Sex   Age  SibSp  \\\n",
       "0                              Braund, Mr. Owen Harris    male  22.0      1   \n",
       "1    Cumings, Mrs. John Bradley (Florence Briggs Th...  female  38.0      1   \n",
       "2                               Heikkinen, Miss. Laina  female  26.0      0   \n",
       "3         Futrelle, Mrs. Jacques Heath (Lily May Peel)  female  35.0      1   \n",
       "4                             Allen, Mr. William Henry    male  35.0      0   \n",
       "..                                                 ...     ...   ...    ...   \n",
       "886                              Montvila, Rev. Juozas    male  27.0      0   \n",
       "887                       Graham, Miss. Margaret Edith  female  19.0      0   \n",
       "888           Johnston, Miss. Catherine Helen \"Carrie\"  female  21.0      1   \n",
       "889                              Behr, Mr. Karl Howell    male  26.0      0   \n",
       "890                                Dooley, Mr. Patrick    male  32.0      0   \n",
       "\n",
       "     Parch            Ticket     Fare Cabin Embarked Title  Title2  Age3  \\\n",
       "0        0         A/5 21171   7.2500   NaN        S    mr       0     1   \n",
       "1        0          PC 17599  71.2833     C        C   mrs       2     3   \n",
       "2        0  STON/O2. 3101282   7.9250   NaN        S  miss       1     1   \n",
       "3        0            113803  53.1000     C        S   mrs       2     2   \n",
       "4        0            373450   8.0500   NaN        S    mr       0     2   \n",
       "..     ...               ...      ...   ...      ...   ...     ...   ...   \n",
       "886      0            211536  13.0000   NaN        S   rev       3     2   \n",
       "887      0            112053  30.0000     B        S  miss       1     1   \n",
       "888      2        W./C. 6607  23.4500   NaN        S  miss       1     1   \n",
       "889      0            111369  30.0000     C        C    mr       0     1   \n",
       "890      0            370376   7.7500   NaN        Q    mr       0     2   \n",
       "\n",
       "     Age2  Embarked2  Cabin2  \n",
       "0     1.0          0     NaN  \n",
       "1     3.0          1     0.8  \n",
       "2     1.0          0     NaN  \n",
       "3     2.0          0     0.8  \n",
       "4     2.0          0     NaN  \n",
       "..    ...        ...     ...  \n",
       "886   2.0          0     NaN  \n",
       "887   1.0          0     0.4  \n",
       "888   1.0          0     NaN  \n",
       "889   1.0          1     0.8  \n",
       "890   2.0          2     NaN  \n",
       "\n",
       "[891 rows x 18 columns]"
      ]
     },
     "execution_count": 77,
     "metadata": {},
     "output_type": "execute_result"
    }
   ],
   "source": [
    "train"
   ]
  },
  {
   "cell_type": "code",
   "execution_count": null,
   "id": "25c802a6-b6d9-4036-9e1d-0c8977055daa",
   "metadata": {},
   "outputs": [],
   "source": [
    "#승현이가 만든 'Cabin2' 코드\n",
    "train['Cabin2'] = np.where(train['Cabin'] == 'A', 0.0,\n",
    "                np.where(train['Cabin'] == 'B', 0.4,\n",
    "                np.where(train['Cabin'] == 'C', 0.8,\n",
    "                np.where(train['Cabin'] == 'D', 1.2,\n",
    "                np.where(train['Cabin'] == 'E', 1.6,\n",
    "                np.where(train['Cabin'] == 'F', 2.0,\n",
    "                np.where(train['Cabin'] == 'G', 2.4,\n",
    "                np.where(train['Cabin'] == 'T',2.8 , np.nan ))))))))\n",
    "# np.nan / None 로 빈 값을 나타낸다."
   ]
  },
  {
   "cell_type": "code",
   "execution_count": null,
   "id": "4ed79108-50de-4d6a-97cc-d5aa07844067",
   "metadata": {},
   "outputs": [],
   "source": [
    "#주환이가 만든 'Cabin2' 코드\n",
    "\n",
    "index = 0\n",
    "index_list = []\n",
    "mapping = {}\n",
    "for i in train[\"Cabin\"].sort_values().unique()[:-1] :\n",
    "    print(i)\n",
    "    index_list.append(index)\n",
    "    mapping[i] = round(index,2)\n",
    "    index += 0.4"
   ]
  },
  {
   "cell_type": "markdown",
   "id": "5249763d-961e-4d7e-b608-da08c384f63b",
   "metadata": {},
   "source": [
    "# male -> 0 / female -> 1"
   ]
  },
  {
   "cell_type": "code",
   "execution_count": 105,
   "id": "c25f3ec9-c029-45f5-96ee-b9dd70292fb7",
   "metadata": {},
   "outputs": [],
   "source": [
    "train['Sex2'] = train['Sex'].map({'male':0, 'female':1})"
   ]
  },
  {
   "cell_type": "code",
   "execution_count": 107,
   "id": "90c238df-da2f-44f1-8041-0bbfa833abfc",
   "metadata": {},
   "outputs": [
    {
     "data": {
      "text/plain": [
       "male      577\n",
       "female    314\n",
       "Name: Sex, dtype: int64"
      ]
     },
     "execution_count": 107,
     "metadata": {},
     "output_type": "execute_result"
    }
   ],
   "source": [
    "train['Sex'].value_counts()"
   ]
  },
  {
   "cell_type": "code",
   "execution_count": 108,
   "id": "95638d2c-1798-43ca-9f1b-dc1b2c58e610",
   "metadata": {},
   "outputs": [
    {
     "data": {
      "text/plain": [
       "0    577\n",
       "1    314\n",
       "Name: Sex2, dtype: int64"
      ]
     },
     "execution_count": 108,
     "metadata": {},
     "output_type": "execute_result"
    }
   ],
   "source": [
    "train['Sex2'].value_counts()"
   ]
  },
  {
   "cell_type": "code",
   "execution_count": 109,
   "id": "ef284cc5-d0bd-4eba-b23f-0a956c554c5c",
   "metadata": {},
   "outputs": [
    {
     "data": {
      "text/html": [
       "<div>\n",
       "<style scoped>\n",
       "    .dataframe tbody tr th:only-of-type {\n",
       "        vertical-align: middle;\n",
       "    }\n",
       "\n",
       "    .dataframe tbody tr th {\n",
       "        vertical-align: top;\n",
       "    }\n",
       "\n",
       "    .dataframe thead th {\n",
       "        text-align: right;\n",
       "    }\n",
       "</style>\n",
       "<table border=\"1\" class=\"dataframe\">\n",
       "  <thead>\n",
       "    <tr style=\"text-align: right;\">\n",
       "      <th></th>\n",
       "      <th>PassengerId</th>\n",
       "      <th>Survived</th>\n",
       "      <th>Pclass</th>\n",
       "      <th>Name</th>\n",
       "      <th>Sex</th>\n",
       "      <th>Age</th>\n",
       "      <th>SibSp</th>\n",
       "      <th>Parch</th>\n",
       "      <th>Ticket</th>\n",
       "      <th>Fare</th>\n",
       "      <th>Cabin</th>\n",
       "      <th>Embarked</th>\n",
       "      <th>Title</th>\n",
       "      <th>Title2</th>\n",
       "      <th>Age3</th>\n",
       "      <th>Age2</th>\n",
       "      <th>Embarked2</th>\n",
       "      <th>Cabin2</th>\n",
       "      <th>Sex2</th>\n",
       "    </tr>\n",
       "  </thead>\n",
       "  <tbody>\n",
       "    <tr>\n",
       "      <th>0</th>\n",
       "      <td>1</td>\n",
       "      <td>0</td>\n",
       "      <td>3</td>\n",
       "      <td>Braund, Mr. Owen Harris</td>\n",
       "      <td>male</td>\n",
       "      <td>22.0</td>\n",
       "      <td>1</td>\n",
       "      <td>0</td>\n",
       "      <td>A/5 21171</td>\n",
       "      <td>7.2500</td>\n",
       "      <td>NaN</td>\n",
       "      <td>S</td>\n",
       "      <td>mr</td>\n",
       "      <td>0</td>\n",
       "      <td>1</td>\n",
       "      <td>1.0</td>\n",
       "      <td>0</td>\n",
       "      <td>2.0</td>\n",
       "      <td>0</td>\n",
       "    </tr>\n",
       "    <tr>\n",
       "      <th>1</th>\n",
       "      <td>2</td>\n",
       "      <td>1</td>\n",
       "      <td>1</td>\n",
       "      <td>Cumings, Mrs. John Bradley (Florence Briggs Th...</td>\n",
       "      <td>female</td>\n",
       "      <td>38.0</td>\n",
       "      <td>1</td>\n",
       "      <td>0</td>\n",
       "      <td>PC 17599</td>\n",
       "      <td>71.2833</td>\n",
       "      <td>C</td>\n",
       "      <td>C</td>\n",
       "      <td>mrs</td>\n",
       "      <td>2</td>\n",
       "      <td>3</td>\n",
       "      <td>3.0</td>\n",
       "      <td>1</td>\n",
       "      <td>0.8</td>\n",
       "      <td>1</td>\n",
       "    </tr>\n",
       "    <tr>\n",
       "      <th>2</th>\n",
       "      <td>3</td>\n",
       "      <td>1</td>\n",
       "      <td>3</td>\n",
       "      <td>Heikkinen, Miss. Laina</td>\n",
       "      <td>female</td>\n",
       "      <td>26.0</td>\n",
       "      <td>0</td>\n",
       "      <td>0</td>\n",
       "      <td>STON/O2. 3101282</td>\n",
       "      <td>7.9250</td>\n",
       "      <td>NaN</td>\n",
       "      <td>S</td>\n",
       "      <td>miss</td>\n",
       "      <td>1</td>\n",
       "      <td>1</td>\n",
       "      <td>1.0</td>\n",
       "      <td>0</td>\n",
       "      <td>2.0</td>\n",
       "      <td>1</td>\n",
       "    </tr>\n",
       "    <tr>\n",
       "      <th>3</th>\n",
       "      <td>4</td>\n",
       "      <td>1</td>\n",
       "      <td>1</td>\n",
       "      <td>Futrelle, Mrs. Jacques Heath (Lily May Peel)</td>\n",
       "      <td>female</td>\n",
       "      <td>35.0</td>\n",
       "      <td>1</td>\n",
       "      <td>0</td>\n",
       "      <td>113803</td>\n",
       "      <td>53.1000</td>\n",
       "      <td>C</td>\n",
       "      <td>S</td>\n",
       "      <td>mrs</td>\n",
       "      <td>2</td>\n",
       "      <td>2</td>\n",
       "      <td>2.0</td>\n",
       "      <td>0</td>\n",
       "      <td>0.8</td>\n",
       "      <td>1</td>\n",
       "    </tr>\n",
       "    <tr>\n",
       "      <th>4</th>\n",
       "      <td>5</td>\n",
       "      <td>0</td>\n",
       "      <td>3</td>\n",
       "      <td>Allen, Mr. William Henry</td>\n",
       "      <td>male</td>\n",
       "      <td>35.0</td>\n",
       "      <td>0</td>\n",
       "      <td>0</td>\n",
       "      <td>373450</td>\n",
       "      <td>8.0500</td>\n",
       "      <td>NaN</td>\n",
       "      <td>S</td>\n",
       "      <td>mr</td>\n",
       "      <td>0</td>\n",
       "      <td>2</td>\n",
       "      <td>2.0</td>\n",
       "      <td>0</td>\n",
       "      <td>2.0</td>\n",
       "      <td>0</td>\n",
       "    </tr>\n",
       "    <tr>\n",
       "      <th>...</th>\n",
       "      <td>...</td>\n",
       "      <td>...</td>\n",
       "      <td>...</td>\n",
       "      <td>...</td>\n",
       "      <td>...</td>\n",
       "      <td>...</td>\n",
       "      <td>...</td>\n",
       "      <td>...</td>\n",
       "      <td>...</td>\n",
       "      <td>...</td>\n",
       "      <td>...</td>\n",
       "      <td>...</td>\n",
       "      <td>...</td>\n",
       "      <td>...</td>\n",
       "      <td>...</td>\n",
       "      <td>...</td>\n",
       "      <td>...</td>\n",
       "      <td>...</td>\n",
       "      <td>...</td>\n",
       "    </tr>\n",
       "    <tr>\n",
       "      <th>886</th>\n",
       "      <td>887</td>\n",
       "      <td>0</td>\n",
       "      <td>2</td>\n",
       "      <td>Montvila, Rev. Juozas</td>\n",
       "      <td>male</td>\n",
       "      <td>27.0</td>\n",
       "      <td>0</td>\n",
       "      <td>0</td>\n",
       "      <td>211536</td>\n",
       "      <td>13.0000</td>\n",
       "      <td>NaN</td>\n",
       "      <td>S</td>\n",
       "      <td>rev</td>\n",
       "      <td>3</td>\n",
       "      <td>2</td>\n",
       "      <td>2.0</td>\n",
       "      <td>0</td>\n",
       "      <td>1.8</td>\n",
       "      <td>0</td>\n",
       "    </tr>\n",
       "    <tr>\n",
       "      <th>887</th>\n",
       "      <td>888</td>\n",
       "      <td>1</td>\n",
       "      <td>1</td>\n",
       "      <td>Graham, Miss. Margaret Edith</td>\n",
       "      <td>female</td>\n",
       "      <td>19.0</td>\n",
       "      <td>0</td>\n",
       "      <td>0</td>\n",
       "      <td>112053</td>\n",
       "      <td>30.0000</td>\n",
       "      <td>B</td>\n",
       "      <td>S</td>\n",
       "      <td>miss</td>\n",
       "      <td>1</td>\n",
       "      <td>1</td>\n",
       "      <td>1.0</td>\n",
       "      <td>0</td>\n",
       "      <td>0.4</td>\n",
       "      <td>1</td>\n",
       "    </tr>\n",
       "    <tr>\n",
       "      <th>888</th>\n",
       "      <td>889</td>\n",
       "      <td>0</td>\n",
       "      <td>3</td>\n",
       "      <td>Johnston, Miss. Catherine Helen \"Carrie\"</td>\n",
       "      <td>female</td>\n",
       "      <td>21.0</td>\n",
       "      <td>1</td>\n",
       "      <td>2</td>\n",
       "      <td>W./C. 6607</td>\n",
       "      <td>23.4500</td>\n",
       "      <td>NaN</td>\n",
       "      <td>S</td>\n",
       "      <td>miss</td>\n",
       "      <td>1</td>\n",
       "      <td>1</td>\n",
       "      <td>1.0</td>\n",
       "      <td>0</td>\n",
       "      <td>2.0</td>\n",
       "      <td>1</td>\n",
       "    </tr>\n",
       "    <tr>\n",
       "      <th>889</th>\n",
       "      <td>890</td>\n",
       "      <td>1</td>\n",
       "      <td>1</td>\n",
       "      <td>Behr, Mr. Karl Howell</td>\n",
       "      <td>male</td>\n",
       "      <td>26.0</td>\n",
       "      <td>0</td>\n",
       "      <td>0</td>\n",
       "      <td>111369</td>\n",
       "      <td>30.0000</td>\n",
       "      <td>C</td>\n",
       "      <td>C</td>\n",
       "      <td>mr</td>\n",
       "      <td>0</td>\n",
       "      <td>1</td>\n",
       "      <td>1.0</td>\n",
       "      <td>1</td>\n",
       "      <td>0.8</td>\n",
       "      <td>0</td>\n",
       "    </tr>\n",
       "    <tr>\n",
       "      <th>890</th>\n",
       "      <td>891</td>\n",
       "      <td>0</td>\n",
       "      <td>3</td>\n",
       "      <td>Dooley, Mr. Patrick</td>\n",
       "      <td>male</td>\n",
       "      <td>32.0</td>\n",
       "      <td>0</td>\n",
       "      <td>0</td>\n",
       "      <td>370376</td>\n",
       "      <td>7.7500</td>\n",
       "      <td>NaN</td>\n",
       "      <td>Q</td>\n",
       "      <td>mr</td>\n",
       "      <td>0</td>\n",
       "      <td>2</td>\n",
       "      <td>2.0</td>\n",
       "      <td>2</td>\n",
       "      <td>2.0</td>\n",
       "      <td>0</td>\n",
       "    </tr>\n",
       "  </tbody>\n",
       "</table>\n",
       "<p>891 rows × 19 columns</p>\n",
       "</div>"
      ],
      "text/plain": [
       "     PassengerId  Survived  Pclass  \\\n",
       "0              1         0       3   \n",
       "1              2         1       1   \n",
       "2              3         1       3   \n",
       "3              4         1       1   \n",
       "4              5         0       3   \n",
       "..           ...       ...     ...   \n",
       "886          887         0       2   \n",
       "887          888         1       1   \n",
       "888          889         0       3   \n",
       "889          890         1       1   \n",
       "890          891         0       3   \n",
       "\n",
       "                                                  Name     Sex   Age  SibSp  \\\n",
       "0                              Braund, Mr. Owen Harris    male  22.0      1   \n",
       "1    Cumings, Mrs. John Bradley (Florence Briggs Th...  female  38.0      1   \n",
       "2                               Heikkinen, Miss. Laina  female  26.0      0   \n",
       "3         Futrelle, Mrs. Jacques Heath (Lily May Peel)  female  35.0      1   \n",
       "4                             Allen, Mr. William Henry    male  35.0      0   \n",
       "..                                                 ...     ...   ...    ...   \n",
       "886                              Montvila, Rev. Juozas    male  27.0      0   \n",
       "887                       Graham, Miss. Margaret Edith  female  19.0      0   \n",
       "888           Johnston, Miss. Catherine Helen \"Carrie\"  female  21.0      1   \n",
       "889                              Behr, Mr. Karl Howell    male  26.0      0   \n",
       "890                                Dooley, Mr. Patrick    male  32.0      0   \n",
       "\n",
       "     Parch            Ticket     Fare Cabin Embarked Title  Title2  Age3  \\\n",
       "0        0         A/5 21171   7.2500   NaN        S    mr       0     1   \n",
       "1        0          PC 17599  71.2833     C        C   mrs       2     3   \n",
       "2        0  STON/O2. 3101282   7.9250   NaN        S  miss       1     1   \n",
       "3        0            113803  53.1000     C        S   mrs       2     2   \n",
       "4        0            373450   8.0500   NaN        S    mr       0     2   \n",
       "..     ...               ...      ...   ...      ...   ...     ...   ...   \n",
       "886      0            211536  13.0000   NaN        S   rev       3     2   \n",
       "887      0            112053  30.0000     B        S  miss       1     1   \n",
       "888      2        W./C. 6607  23.4500   NaN        S  miss       1     1   \n",
       "889      0            111369  30.0000     C        C    mr       0     1   \n",
       "890      0            370376   7.7500   NaN        Q    mr       0     2   \n",
       "\n",
       "     Age2  Embarked2  Cabin2  Sex2  \n",
       "0     1.0          0     2.0     0  \n",
       "1     3.0          1     0.8     1  \n",
       "2     1.0          0     2.0     1  \n",
       "3     2.0          0     0.8     1  \n",
       "4     2.0          0     2.0     0  \n",
       "..    ...        ...     ...   ...  \n",
       "886   2.0          0     1.8     0  \n",
       "887   1.0          0     0.4     1  \n",
       "888   1.0          0     2.0     1  \n",
       "889   1.0          1     0.8     0  \n",
       "890   2.0          2     2.0     0  \n",
       "\n",
       "[891 rows x 19 columns]"
      ]
     },
     "execution_count": 109,
     "metadata": {},
     "output_type": "execute_result"
    }
   ],
   "source": [
    "train"
   ]
  },
  {
   "cell_type": "code",
   "execution_count": 111,
   "id": "e0bc930d-a08e-4e2b-8bc7-564839560ac6",
   "metadata": {},
   "outputs": [],
   "source": [
    "import seaborn as sns"
   ]
  },
  {
   "cell_type": "code",
   "execution_count": 114,
   "id": "9c137563-cb96-4b44-bd89-6363c46d8442",
   "metadata": {},
   "outputs": [
    {
     "data": {
      "text/plain": [
       "<seaborn.axisgrid.FacetGrid at 0x1d605e459a0>"
      ]
     },
     "execution_count": 114,
     "metadata": {},
     "output_type": "execute_result"
    },
    {
     "data": {
      "image/png": "[encoded data removed]",
      "text/plain": [
       "<Figure size 915.875x216 with 1 Axes>"
      ]
     },
     "metadata": {
      "needs_background": "light"
     },
     "output_type": "display_data"
    }
   ],
   "source": [
    "facet = sns.FacetGrid(train, hue = \"Survived\", aspect = 4)\n",
    "facet.map(sns.kdeplot, 'Fare', shade=True)\n",
    "facet.set(xlim = (0, train['Fare'].max()))\n",
    "facet.add_legend()"
   ]
  },
  {
   "cell_type": "markdown",
   "id": "a33085bd-7164-4208-97f2-121dd00b2401",
   "metadata": {},
   "source": [
    "fare\n",
    "17 이하 : 0\n",
    "17보다 크거나 30이하면 : 1\n",
    "30 크거나 100이하면 :2 \n",
    "100보다 크면 : 3"
   ]
  },
  {
   "cell_type": "code",
   "execution_count": 115,
   "id": "c4fea238-3003-4011-a3de-8010f11cfce3",
   "metadata": {},
   "outputs": [],
   "source": [
    "train['Fare2'] = np.where(train['Fare'] <= 17, 0, \n",
    "                          np.where(train['Fare'] <= 30, 1, \n",
    "                                   np.where(train['Fare'] <= 100, 2, 3)))"
   ]
  },
  {
   "cell_type": "code",
   "execution_count": 116,
   "id": "d744312c-414d-4a2a-a9ab-aca5f44fcc78",
   "metadata": {},
   "outputs": [
    {
     "data": {
      "text/plain": [
       "0    496\n",
       "2    181\n",
       "1    161\n",
       "3     53\n",
       "Name: Fare2, dtype: int64"
      ]
     },
     "execution_count": 116,
     "metadata": {},
     "output_type": "execute_result"
    }
   ],
   "source": [
    "train['Fare2'].value_counts()"
   ]
  },
  {
   "cell_type": "code",
   "execution_count": null,
   "id": "0cf8ea80-24d7-4f58-acfb-e2f41ca4462f",
   "metadata": {},
   "outputs": [],
   "source": [
    "#loc로 해보기\n",
    "train.loc[train['Fare'] <= 17, 'Fare2'] = 0\n",
    "train.loc[(train['Fare'] > 17) & (train['Fare'] <= 30), 'Fare2'] = 1\n",
    "train.loc[(train['Fare'] > 30) & (train['Fare'] <"
   ]
  },
  {
   "cell_type": "code",
   "execution_count": 119,
   "id": "0c2976ee-df01-41e6-b7fe-e452a47bbf27",
   "metadata": {},
   "outputs": [],
   "source": [
    "train['FamilySize'] = train['SibSp'] + train['Parch'] + 1"
   ]
  },
  {
   "cell_type": "code",
   "execution_count": 121,
   "id": "feba0b62-7490-4396-bb78-7294a82a1c97",
   "metadata": {},
   "outputs": [
    {
     "data": {
      "text/plain": [
       "1     537\n",
       "2     161\n",
       "3     102\n",
       "4      29\n",
       "6      22\n",
       "5      15\n",
       "7      12\n",
       "11      7\n",
       "8       6\n",
       "Name: FamilySize, dtype: int64"
      ]
     },
     "execution_count": 121,
     "metadata": {},
     "output_type": "execute_result"
    }
   ],
   "source": [
    "train['FamilySize'].value_counts()"
   ]
  },
  {
   "cell_type": "code",
   "execution_count": null,
   "id": "d3c3e233-3be6-4af2-aea2-d6df0cc4dcf8",
   "metadata": {},
   "outputs": [],
   "source": [
    "#강사님 방법인데 이 원리를 익혀야할 듯............ !!!!!!!!!!!!!!!!!!!!!!"
   ]
  },
  {
   "cell_type": "code",
   "execution_count": 122,
   "id": "ab41a12e-dbb8-4aab-aedc-add21a873f88",
   "metadata": {},
   "outputs": [],
   "source": [
    "familysize_list = train['FamilySize'].value_counts().index.values"
   ]
  },
  {
   "cell_type": "code",
   "execution_count": 123,
   "id": "ab18c23a-147a-4740-bd4e-cbea0c261ab5",
   "metadata": {},
   "outputs": [],
   "source": [
    "familysize_list.sort()"
   ]
  },
  {
   "cell_type": "code",
   "execution_count": 124,
   "id": "20e358ef-7b61-4e23-8f40-2138a2ce58a7",
   "metadata": {},
   "outputs": [
    {
     "data": {
      "text/plain": [
       "array([ 1,  2,  3,  4,  5,  6,  7,  8, 11], dtype=int64)"
      ]
     },
     "execution_count": 124,
     "metadata": {},
     "output_type": "execute_result"
    }
   ],
   "source": [
    "familysize_list"
   ]
  },
  {
   "cell_type": "code",
   "execution_count": 125,
   "id": "25dc5534-5f73-43db-a8ee-11b47d3ee218",
   "metadata": {},
   "outputs": [],
   "source": [
    "familysize_mapping = {}\n",
    "for s, p in enumerate(familysize_list) :\n",
    "    familysize_mapping[p] = round(s * 0.4, 2)"
   ]
  },
  {
   "cell_type": "code",
   "execution_count": 126,
   "id": "7d8ec27e-6df0-48d2-80d9-584dd59598e2",
   "metadata": {},
   "outputs": [
    {
     "data": {
      "text/plain": [
       "{1: 0.0, 2: 0.4, 3: 0.8, 4: 1.2, 5: 1.6, 6: 2.0, 7: 2.4, 8: 2.8, 11: 3.2}"
      ]
     },
     "execution_count": 126,
     "metadata": {},
     "output_type": "execute_result"
    }
   ],
   "source": [
    "familysize_mapping"
   ]
  },
  {
   "cell_type": "code",
   "execution_count": null,
   "id": "d851545c-baed-479f-a8c3-ada35986f74c",
   "metadata": {},
   "outputs": [],
   "source": [
    "#강사님 방법"
   ]
  },
  {
   "cell_type": "code",
   "execution_count": 133,
   "id": "92b9d4ad-863b-44b1-858b-46cf0af4f935",
   "metadata": {},
   "outputs": [
    {
     "name": "stdout",
     "output_type": "stream",
     "text": [
      "0.0 1\n",
      "0.4 2\n",
      "0.8 3\n",
      "1.2 4\n",
      "1.6 5\n",
      "2.0 6\n",
      "2.4 7\n",
      "2.8 8\n",
      "3.2 9\n",
      "3.6 10\n",
      "4.0 11\n"
     ]
    }
   ],
   "source": [
    "family_mapping = {}\n",
    "\n",
    "for value, key in enumerate(range(1, 12)) :\n",
    "    print(round(value*0.4,1), key)\n",
    "    family_mapping[key] = round(value*0.4,1)"
   ]
  },
  {
   "cell_type": "code",
   "execution_count": 134,
   "id": "bb37ab69-e8bf-4e88-96c3-e0492d62426e",
   "metadata": {},
   "outputs": [
    {
     "data": {
      "text/plain": [
       "{1: 0.0,\n",
       " 2: 0.4,\n",
       " 3: 0.8,\n",
       " 4: 1.2,\n",
       " 5: 1.6,\n",
       " 6: 2.0,\n",
       " 7: 2.4,\n",
       " 8: 2.8,\n",
       " 9: 3.2,\n",
       " 10: 3.6,\n",
       " 11: 4.0}"
      ]
     },
     "execution_count": 134,
     "metadata": {},
     "output_type": "execute_result"
    }
   ],
   "source": [
    "family_mapping"
   ]
  },
  {
   "cell_type": "code",
   "execution_count": 135,
   "id": "740f8080-14d8-4cb6-b805-25cd303cbb19",
   "metadata": {},
   "outputs": [],
   "source": [
    "train['FamilySize2'] = train['FamilySize'].map(family_mapping)"
   ]
  },
  {
   "cell_type": "code",
   "execution_count": 136,
   "id": "6c2bd8b6-8bc0-439e-af9f-29735dc107ba",
   "metadata": {},
   "outputs": [
    {
     "data": {
      "text/plain": [
       "0.0    537\n",
       "0.4    161\n",
       "0.8    102\n",
       "1.2     29\n",
       "2.0     22\n",
       "1.6     15\n",
       "2.4     12\n",
       "4.0      7\n",
       "2.8      6\n",
       "Name: FamilySize2, dtype: int64"
      ]
     },
     "execution_count": 136,
     "metadata": {},
     "output_type": "execute_result"
    }
   ],
   "source": [
    "train['FamilySize2'].value_counts()"
   ]
  },
  {
   "cell_type": "code",
   "execution_count": 138,
   "id": "47fdfbaa-aa99-4aeb-b1cc-26ae547debf1",
   "metadata": {},
   "outputs": [
    {
     "data": {
      "text/html": [
       "<div>\n",
       "<style scoped>\n",
       "    .dataframe tbody tr th:only-of-type {\n",
       "        vertical-align: middle;\n",
       "    }\n",
       "\n",
       "    .dataframe tbody tr th {\n",
       "        vertical-align: top;\n",
       "    }\n",
       "\n",
       "    .dataframe thead th {\n",
       "        text-align: right;\n",
       "    }\n",
       "</style>\n",
       "<table border=\"1\" class=\"dataframe\">\n",
       "  <thead>\n",
       "    <tr style=\"text-align: right;\">\n",
       "      <th></th>\n",
       "      <th>Survived</th>\n",
       "      <th>Pclass</th>\n",
       "      <th>Age2</th>\n",
       "      <th>Embarked2</th>\n",
       "      <th>Cabin2</th>\n",
       "      <th>Sex2</th>\n",
       "      <th>Fare2</th>\n",
       "      <th>FamilySize2</th>\n",
       "    </tr>\n",
       "  </thead>\n",
       "  <tbody>\n",
       "    <tr>\n",
       "      <th>0</th>\n",
       "      <td>0</td>\n",
       "      <td>3</td>\n",
       "      <td>1.0</td>\n",
       "      <td>0</td>\n",
       "      <td>2.0</td>\n",
       "      <td>0</td>\n",
       "      <td>0</td>\n",
       "      <td>0.4</td>\n",
       "    </tr>\n",
       "    <tr>\n",
       "      <th>1</th>\n",
       "      <td>1</td>\n",
       "      <td>1</td>\n",
       "      <td>3.0</td>\n",
       "      <td>1</td>\n",
       "      <td>0.8</td>\n",
       "      <td>1</td>\n",
       "      <td>2</td>\n",
       "      <td>0.4</td>\n",
       "    </tr>\n",
       "    <tr>\n",
       "      <th>2</th>\n",
       "      <td>1</td>\n",
       "      <td>3</td>\n",
       "      <td>1.0</td>\n",
       "      <td>0</td>\n",
       "      <td>2.0</td>\n",
       "      <td>1</td>\n",
       "      <td>0</td>\n",
       "      <td>0.0</td>\n",
       "    </tr>\n",
       "    <tr>\n",
       "      <th>3</th>\n",
       "      <td>1</td>\n",
       "      <td>1</td>\n",
       "      <td>2.0</td>\n",
       "      <td>0</td>\n",
       "      <td>0.8</td>\n",
       "      <td>1</td>\n",
       "      <td>2</td>\n",
       "      <td>0.4</td>\n",
       "    </tr>\n",
       "    <tr>\n",
       "      <th>4</th>\n",
       "      <td>0</td>\n",
       "      <td>3</td>\n",
       "      <td>2.0</td>\n",
       "      <td>0</td>\n",
       "      <td>2.0</td>\n",
       "      <td>0</td>\n",
       "      <td>0</td>\n",
       "      <td>0.0</td>\n",
       "    </tr>\n",
       "    <tr>\n",
       "      <th>...</th>\n",
       "      <td>...</td>\n",
       "      <td>...</td>\n",
       "      <td>...</td>\n",
       "      <td>...</td>\n",
       "      <td>...</td>\n",
       "      <td>...</td>\n",
       "      <td>...</td>\n",
       "      <td>...</td>\n",
       "    </tr>\n",
       "    <tr>\n",
       "      <th>886</th>\n",
       "      <td>0</td>\n",
       "      <td>2</td>\n",
       "      <td>2.0</td>\n",
       "      <td>0</td>\n",
       "      <td>1.8</td>\n",
       "      <td>0</td>\n",
       "      <td>0</td>\n",
       "      <td>0.0</td>\n",
       "    </tr>\n",
       "    <tr>\n",
       "      <th>887</th>\n",
       "      <td>1</td>\n",
       "      <td>1</td>\n",
       "      <td>1.0</td>\n",
       "      <td>0</td>\n",
       "      <td>0.4</td>\n",
       "      <td>1</td>\n",
       "      <td>1</td>\n",
       "      <td>0.0</td>\n",
       "    </tr>\n",
       "    <tr>\n",
       "      <th>888</th>\n",
       "      <td>0</td>\n",
       "      <td>3</td>\n",
       "      <td>1.0</td>\n",
       "      <td>0</td>\n",
       "      <td>2.0</td>\n",
       "      <td>1</td>\n",
       "      <td>1</td>\n",
       "      <td>1.2</td>\n",
       "    </tr>\n",
       "    <tr>\n",
       "      <th>889</th>\n",
       "      <td>1</td>\n",
       "      <td>1</td>\n",
       "      <td>1.0</td>\n",
       "      <td>1</td>\n",
       "      <td>0.8</td>\n",
       "      <td>0</td>\n",
       "      <td>1</td>\n",
       "      <td>0.0</td>\n",
       "    </tr>\n",
       "    <tr>\n",
       "      <th>890</th>\n",
       "      <td>0</td>\n",
       "      <td>3</td>\n",
       "      <td>2.0</td>\n",
       "      <td>2</td>\n",
       "      <td>2.0</td>\n",
       "      <td>0</td>\n",
       "      <td>0</td>\n",
       "      <td>0.0</td>\n",
       "    </tr>\n",
       "  </tbody>\n",
       "</table>\n",
       "<p>891 rows × 8 columns</p>\n",
       "</div>"
      ],
      "text/plain": [
       "     Survived  Pclass  Age2  Embarked2  Cabin2  Sex2  Fare2  FamilySize2\n",
       "0           0       3   1.0          0     2.0     0      0          0.4\n",
       "1           1       1   3.0          1     0.8     1      2          0.4\n",
       "2           1       3   1.0          0     2.0     1      0          0.0\n",
       "3           1       1   2.0          0     0.8     1      2          0.4\n",
       "4           0       3   2.0          0     2.0     0      0          0.0\n",
       "..        ...     ...   ...        ...     ...   ...    ...          ...\n",
       "886         0       2   2.0          0     1.8     0      0          0.0\n",
       "887         1       1   1.0          0     0.4     1      1          0.0\n",
       "888         0       3   1.0          0     2.0     1      1          1.2\n",
       "889         1       1   1.0          1     0.8     0      1          0.0\n",
       "890         0       3   2.0          2     2.0     0      0          0.0\n",
       "\n",
       "[891 rows x 8 columns]"
      ]
     },
     "execution_count": 138,
     "metadata": {},
     "output_type": "execute_result"
    }
   ],
   "source": [
    "train[['Survived', 'Pclass', 'Age2', 'Embarked2', 'Cabin2', 'Sex2', 'Fare2', 'FamilySize2']]"
   ]
  },
  {
   "cell_type": "code",
   "execution_count": 139,
   "id": "6f0f2846-311d-4c08-92bf-132a46bc37dc",
   "metadata": {},
   "outputs": [],
   "source": [
    "test = pd.read_csv('titanic/test.csv')"
   ]
  },
  {
   "cell_type": "code",
   "execution_count": 140,
   "id": "4badd65f-cb01-4350-b933-12b45b0972ee",
   "metadata": {},
   "outputs": [
    {
     "data": {
      "text/plain": [
       "PassengerId      0\n",
       "Pclass           0\n",
       "Name             0\n",
       "Sex              0\n",
       "Age             86\n",
       "SibSp            0\n",
       "Parch            0\n",
       "Ticket           0\n",
       "Fare             1\n",
       "Cabin          327\n",
       "Embarked         0\n",
       "dtype: int64"
      ]
     },
     "execution_count": 140,
     "metadata": {},
     "output_type": "execute_result"
    }
   ],
   "source": [
    "test.isnull().sum()"
   ]
  },
  {
   "cell_type": "markdown",
   "id": "91e17ce2-35bb-43b3-8fc2-9d1a41c149d9",
   "metadata": {},
   "source": [
    "# pclass별 fare의 중앙값은?"
   ]
  },
  {
   "cell_type": "code",
   "execution_count": 142,
   "id": "20d65378-a360-433f-86ec-b3a6463a629c",
   "metadata": {},
   "outputs": [
    {
     "data": {
      "text/plain": [
       "Pclass\n",
       "1    60.0000\n",
       "2    15.7500\n",
       "3     7.8958\n",
       "Name: Fare, dtype: float64"
      ]
     },
     "execution_count": 142,
     "metadata": {},
     "output_type": "execute_result"
    }
   ],
   "source": [
    "test.groupby('Pclass')['Fare'].median()"
   ]
  },
  {
   "cell_type": "code",
   "execution_count": 151,
   "id": "68fd81d4-74e5-432a-b39e-88123118f894",
   "metadata": {},
   "outputs": [],
   "source": [
    "test['Fare'].fillna(test.groupby('Pclass')['Fare'].transform('median'), inplace=True)"
   ]
  },
  {
   "cell_type": "code",
   "execution_count": 152,
   "id": "06c13276-f56b-4286-9e96-f546fdf7ae6b",
   "metadata": {},
   "outputs": [
    {
     "data": {
      "text/plain": [
       "35.56084545454542"
      ]
     },
     "execution_count": 152,
     "metadata": {},
     "output_type": "execute_result"
    }
   ],
   "source": [
    "test['Fare'].mean()"
   ]
  },
  {
   "cell_type": "code",
   "execution_count": 153,
   "id": "f3f7165f-1454-422d-97ff-e822697009dc",
   "metadata": {},
   "outputs": [
    {
     "data": {
      "text/plain": [
       "14.4542"
      ]
     },
     "execution_count": 153,
     "metadata": {},
     "output_type": "execute_result"
    }
   ],
   "source": [
    "test['Fare'].median()"
   ]
  },
  {
   "cell_type": "code",
   "execution_count": null,
   "id": "48979e62-d16d-4c79-90bc-9544aeec4b25",
   "metadata": {},
   "outputs": [],
   "source": [
    "# 머신러닝, 딥러닝은 정답이 없는 학문이고, 경험적인 학문이다.\n",
    "# 즉, 경험을 많이 해보아야 한다."
   ]
  },
  {
   "cell_type": "code",
   "execution_count": null,
   "id": "b48f60ed-23f5-4836-904b-3f75ad5aa3fa",
   "metadata": {},
   "outputs": [],
   "source": []
  },
  {
   "cell_type": "code",
   "execution_count": null,
   "id": "7005e76b-2be6-4b23-9ee7-da8016a68d01",
   "metadata": {},
   "outputs": [],
   "source": []
  },
  {
   "cell_type": "code",
   "execution_count": null,
   "id": "6f047048-fad0-4cab-a657-056a98198c7e",
   "metadata": {},
   "outputs": [],
   "source": []
  },
  {
   "cell_type": "code",
   "execution_count": null,
   "id": "1925e150-f3da-4ef9-81a7-196a725cb88a",
   "metadata": {},
   "outputs": [],
   "source": []
  },
  {
   "cell_type": "code",
   "execution_count": null,
   "id": "88484d78-61a1-44b4-a08c-50b85b28269a",
   "metadata": {},
   "outputs": [],
   "source": []
  },
  {
   "cell_type": "markdown",
   "id": "76f49030-65d9-4cd3-8d38-4dd9cfc50222",
   "metadata": {},
   "source": [
    "test['Fare2'] = test.groupby('Pclass')['Fare'].transform('median')"
   ]
  },
  {
   "cell_type": "markdown",
   "id": "85c71bfd-1a91-4676-943f-44a252e6bf4c",
   "metadata": {},
   "source": [
    "test['Fare2'].isnull().sum()"
   ]
  },
  {
   "cell_type": "code",
   "execution_count": null,
   "id": "5cb905ae-b17b-4435-bfcb-b43da47879e1",
   "metadata": {},
   "outputs": [],
   "source": []
  },
  {
   "cell_type": "code",
   "execution_count": null,
   "id": "c15a0586-0193-4edc-b2c7-f3d9490804f0",
   "metadata": {},
   "outputs": [],
   "source": []
  },
  {
   "cell_type": "code",
   "execution_count": null,
   "id": "61fd91b2-ec7e-4c33-bcf0-6b14de333910",
   "metadata": {},
   "outputs": [],
   "source": []
  },
  {
   "cell_type": "code",
   "execution_count": null,
   "id": "d68edf45-baf2-4a19-95bb-88b567b3d169",
   "metadata": {},
   "outputs": [],
   "source": []
  },
  {
   "cell_type": "code",
   "execution_count": null,
   "id": "3bfd1c8d-9c44-4184-9f99-685589447580",
   "metadata": {},
   "outputs": [],
   "source": []
  },
  {
   "cell_type": "code",
   "execution_count": null,
   "id": "2180d4ca-ac2c-4f64-8f0a-3de9d96b9277",
   "metadata": {},
   "outputs": [],
   "source": []
  },
  {
   "cell_type": "code",
   "execution_count": null,
   "id": "ab9054e4-f0f3-4c4a-980e-7593ab3327e7",
   "metadata": {},
   "outputs": [],
   "source": []
  },
  {
   "cell_type": "markdown",
   "id": "dd98cbf0-79b0-46f9-b21c-81279e404361",
   "metadata": {},
   "source": [
    "# ----------------------------------------------------------------------------------------### -------------------------------"
   ]
  },
  {
   "cell_type": "markdown",
   "id": "380fd4bc-a278-4201-af2c-2443d0288ac3",
   "metadata": {},
   "source": [
    "train.groupby('Age', as_index=False)['Title2'].median()"
   ]
  },
  {
   "cell_type": "markdown",
   "id": "dd21fe78-8e4f-4be3-8594-1e1aac5ce923",
   "metadata": {},
   "source": [
    "train['Age'].fillna(train.groupby('Title2')['Age'].transform('median'))"
   ]
  },
  {
   "cell_type": "code",
   "execution_count": null,
   "id": "2e9a34cc-a0e7-4aa5-85f7-a9db3c44d7bf",
   "metadata": {},
   "outputs": [],
   "source": []
  },
  {
   "cell_type": "code",
   "execution_count": null,
   "id": "ea0548a1-38c8-43fc-968e-ae5e9f52599a",
   "metadata": {},
   "outputs": [],
   "source": []
  },
  {
   "cell_type": "markdown",
   "id": "9532f9ef-a5de-4781-8ce2-ab9e802ab367",
   "metadata": {},
   "source": [
    "train.groupby('Sex', as_index=False)['Age'].mean()"
   ]
  },
  {
   "cell_type": "markdown",
   "id": "cf1ebb4c-a330-4e1b-8eab-12ca0134ffd1",
   "metadata": {},
   "source": [
    "train2['Age'].fillna(train2.groupby('Sex')['Age'].transform('median'))[-5:]"
   ]
  },
  {
   "cell_type": "code",
   "execution_count": null,
   "id": "f95a9b57-b079-4f24-8be7-fcaf2033601d",
   "metadata": {},
   "outputs": [],
   "source": []
  },
  {
   "cell_type": "code",
   "execution_count": null,
   "id": "ea926dcd-e1b8-4374-82c5-2939b6f973c3",
   "metadata": {},
   "outputs": [],
   "source": []
  },
  {
   "cell_type": "markdown",
   "id": "adf24d6e-efd9-4cac-85ac-4858731822f5",
   "metadata": {
    "tags": []
   },
   "source": [
    "#np.where로 내가 직접 만들어봄"
   ]
  },
  {
   "cell_type": "markdown",
   "id": "e42efed7-4dd5-4cf3-befc-7328e052b864",
   "metadata": {},
   "source": [
    "title_mapping = {'Mr':0, 'Miss':1, 'Mrs':2, 'Rev': 3}\n",
    "for i in title_mapping :\n",
    "    if i == "
   ]
  },
  {
   "cell_type": "markdown",
   "id": "90edebb3-a870-45a8-9acd-d4a68d15af3c",
   "metadata": {},
   "source": [
    "import numpy as np"
   ]
  },
  {
   "cell_type": "markdown",
   "id": "52fa2f1b-7eff-4ff6-b32e-47fd819fcbf6",
   "metadata": {},
   "source": [
    "train['Title2'] = np.where(train['Title'] == 'Mr', 0, \n",
    "                           np.where(train['Title'] == 'Miss', 1, \n",
    "                                    np.where(train['Title'] == 'Mrs', 2, 3)))"
   ]
  },
  {
   "cell_type": "markdown",
   "id": "da46ed50-e6ea-403b-bda1-473932e6bdcb",
   "metadata": {},
   "source": [
    "train['Title2']"
   ]
  },
  {
   "cell_type": "markdown",
   "id": "6d57acd8-bb4f-4522-9899-d1db94f98d33",
   "metadata": {},
   "source": [
    "train"
   ]
  },
  {
   "cell_type": "markdown",
   "id": "337b3dcf-cd94-4082-9f56-511cf81a2214",
   "metadata": {},
   "source": []
  },
  {
   "cell_type": "markdown",
   "id": "e7306fc3-c12f-458f-9f6b-ff71093a8f0f",
   "metadata": {},
   "source": []
  },
  {
   "cell_type": "markdown",
   "id": "49db6f86-61ed-49b4-88ea-bd35068227e6",
   "metadata": {},
   "source": []
  },
  {
   "cell_type": "markdown",
   "id": "a120bb9d-0255-4b42-b19c-c0da60b1790d",
   "metadata": {},
   "source": [
    "train['Name'].str.extract('[0-9a-zA-Z]') -> 이렇게도 사용한다."
   ]
  },
  {
   "cell_type": "markdown",
   "id": "7b620aaf-35b1-47eb-9939-085ce8f709f1",
   "metadata": {},
   "source": []
  },
  {
   "cell_type": "markdown",
   "id": "01049da5-00df-48ea-a237-fd34c74d121c",
   "metadata": {},
   "source": [
    "#연습!!!!"
   ]
  },
  {
   "cell_type": "markdown",
   "id": "e010c6e2-0d7d-4bce-9c0e-5e1c8a1f22a3",
   "metadata": {},
   "source": [
    "train['Name'][3]"
   ]
  },
  {
   "cell_type": "markdown",
   "id": "7076819b-1a37-4f14-ac06-9fdb8c6589c6",
   "metadata": {},
   "source": [
    "train['Name'].str.extract('[(]([a-zA-Z ]*)[)]')"
   ]
  },
  {
   "cell_type": "markdown",
   "id": "54327623-fb5e-4b04-ae52-e593ce5e52d4",
   "metadata": {},
   "source": [
    "train['Name'].str.extract('([(][a-zA-Z ]+[)])')"
   ]
  },
  {
   "cell_type": "markdown",
   "id": "e5cf2269-b23d-48b1-8006-4ebb77b6e124",
   "metadata": {},
   "source": [
    "train['Name'].str.extract('([(][LilyMayPe ]+[)])')"
   ]
  },
  {
   "cell_type": "code",
   "execution_count": null,
   "id": "1c005b78-48f9-4ca5-b1f3-1e76f6c21bdb",
   "metadata": {},
   "outputs": [],
   "source": []
  }
 ],
 "metadata": {
  "kernelspec": {
   "display_name": "Python 3.9.13 ('base')",
   "language": "python",
   "name": "python3"
  },
  "language_info": {
   "codemirror_mode": {
    "name": "ipython",
    "version": 3
   },
   "file_extension": ".py",
   "mimetype": "text/x-python",
   "name": "python",
   "nbconvert_exporter": "python",
   "pygments_lexer": "ipython3",
   "version": "3.9.13"
  },
  "vscode": {
   "interpreter": {
    "hash": "701d4f28dcd0866722f5108a3a4cbcd08882d26398b6d44117e791d7b8102912"
   }
  }
 },
 "nbformat": 4,
 "nbformat_minor": 5
}
