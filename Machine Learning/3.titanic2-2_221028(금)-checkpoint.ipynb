{
 "cells": [
  {
   "cell_type": "code",
   "execution_count": 7,
   "id": "b1fb763b-9f98-4f3d-bedd-6259366da4ad",
   "metadata": {},
   "outputs": [],
   "source": [
    "import pandas as pd\n",
    "import numpy as np"
   ]
  },
  {
   "cell_type": "code",
   "execution_count": 8,
   "id": "25cae5f0-4936-4d58-a294-926fcb84ef87",
   "metadata": {},
   "outputs": [],
   "source": [
    "train = pd.read_csv('titanic/train.csv')"
   ]
  },
  {
   "cell_type": "code",
   "execution_count": 9,
   "id": "6f108f61-a001-444b-92ca-23253836bc66",
   "metadata": {},
   "outputs": [],
   "source": [
    "test = pd.read_csv('titanic/test.csv')"
   ]
  },
  {
   "cell_type": "code",
   "execution_count": 10,
   "id": "7169ef8e-5417-47c0-a8a5-17cb7232c588",
   "metadata": {},
   "outputs": [
    {
     "name": "stdout",
     "output_type": "stream",
     "text": [
      "(891, 12) (418, 11)\n"
     ]
    }
   ],
   "source": [
    "print(train.shape, test.shape) #test 데이터 프레임에는 'Survived'의 속성이 없기 때문에 11개임"
   ]
  },
  {
   "cell_type": "code",
   "execution_count": 11,
   "id": "48675903-dc5a-4d63-96c7-0fb318473596",
   "metadata": {},
   "outputs": [],
   "source": [
    "train_test_dataset = [train, test]"
   ]
  },
  {
   "cell_type": "code",
   "execution_count": 12,
   "id": "9a6598d2-9bef-4a58-9c58-40b0f09c8a0a",
   "metadata": {},
   "outputs": [],
   "source": [
    "for data in train_test_dataset :\n",
    "    data['Title'] = data['Name'].str.extract('([a-zA-Z]+)\\.') \n",
    "    data['Title'] = data['Title'].str.lower()\n",
    "    \n",
    "    data['Title'] = np.where(data['Title'] == 'mr', 0, \n",
    "                           np.where(data['Title'] == 'miss', 1, \n",
    "                                    np.where(data['Title'] == 'mrs', 2, 3)))\n",
    "    \n",
    "    data['Age'] = data['Age'].fillna(data.groupby('Title')['Age'].transform('median'))\n",
    "    \n",
    "    data['Age'] = np.where(data['Age'] <= 16, 0, \n",
    "                             np.where(data['Age'] <= 26, 1,\n",
    "                                      np.where(data['Age'] <= 36, 2,\n",
    "                                               np.where(data['Age'] <= 62, 3, 4))))\n",
    "    \n",
    "    data['Embarked'].fillna('S', inplace=True)\n",
    "    \n",
    "    data['Embarked'] = np.where(data['Embarked'] == 'S', 0,\n",
    "                              np.where(data['Embarked'] == 'C', 1, 2))\n",
    "    \n",
    "    data['Cabin'] = data['Cabin'].str[0]\n",
    "    \n",
    "    cabin_mapping = {'A': 0.0, 'B': 0.4, 'C': 0.8, 'D': 1.2, 'E': 1.6, 'F': 2.0, 'G': 2.4, 'T': 2.8}\n",
    "    \n",
    "    data['Cabin'] = data['Cabin'].map(cabin_mapping)\n",
    "    data['Cabin'].fillna(data.groupby('Pclass')['Cabin'].transform('median'), inplace=True)\n",
    "    \n",
    "    data['Sex'] = data['Sex'].map({'male':0, 'female':1})\n",
    "    \n",
    "    data['Fare'].fillna(data.groupby('Pclass')['Fare'].transform('median'), inplace=True)\n",
    "    data['Fare'] = np.where(data['Fare'] <= 17, 0, \n",
    "                          np.where(data['Fare'] <= 30, 1, \n",
    "                                   np.where(data['Fare'] <= 100, 2, 3)))\n",
    "    \n",
    "    data['FamilySize'] = data['SibSp'] + data['Parch'] + 1\n",
    "    family_mapping = {1: 0.0, 2: 0.4, 3: 0.8, 4: 1.2, 5: 1.6, 6: 2.0, 7: 2.4, 8: 2.8, 9: 3.2, 10: 3.6, 11: 4.0}\n",
    "    data['FamilySize'] = data['FamilySize'].map(family_mapping)\n",
    "    "
   ]
  },
  {
   "cell_type": "code",
   "execution_count": 13,
   "id": "968076c1-af8c-46c9-ac93-145af14700ec",
   "metadata": {},
   "outputs": [],
   "source": [
    "features_drop = ['PassengerId', 'Name', 'Ticket', 'SibSp', 'Parch']"
   ]
  },
  {
   "cell_type": "code",
   "execution_count": 14,
   "id": "ce507610-edd6-48fd-85cc-a10aee535080",
   "metadata": {},
   "outputs": [],
   "source": [
    "train = train.drop(features_drop, axis = 1)"
   ]
  },
  {
   "cell_type": "code",
   "execution_count": 15,
   "id": "e09f1a82-e7b1-49b8-b518-d9d1ee25291b",
   "metadata": {},
   "outputs": [],
   "source": [
    "test = test.drop(features_drop, axis = 1)"
   ]
  },
  {
   "cell_type": "code",
   "execution_count": 16,
   "id": "0c6dc950-1e9e-4be7-8a63-eedae74d1713",
   "metadata": {},
   "outputs": [
    {
     "data": {
      "text/html": [
       "<div>\n",
       "<style scoped>\n",
       "    .dataframe tbody tr th:only-of-type {\n",
       "        vertical-align: middle;\n",
       "    }\n",
       "\n",
       "    .dataframe tbody tr th {\n",
       "        vertical-align: top;\n",
       "    }\n",
       "\n",
       "    .dataframe thead th {\n",
       "        text-align: right;\n",
       "    }\n",
       "</style>\n",
       "<table border=\"1\" class=\"dataframe\">\n",
       "  <thead>\n",
       "    <tr style=\"text-align: right;\">\n",
       "      <th></th>\n",
       "      <th>Survived</th>\n",
       "      <th>Pclass</th>\n",
       "      <th>Sex</th>\n",
       "      <th>Age</th>\n",
       "      <th>Fare</th>\n",
       "      <th>Cabin</th>\n",
       "      <th>Embarked</th>\n",
       "      <th>Title</th>\n",
       "      <th>FamilySize</th>\n",
       "    </tr>\n",
       "  </thead>\n",
       "  <tbody>\n",
       "    <tr>\n",
       "      <th>0</th>\n",
       "      <td>0</td>\n",
       "      <td>3</td>\n",
       "      <td>0</td>\n",
       "      <td>1</td>\n",
       "      <td>0</td>\n",
       "      <td>2.0</td>\n",
       "      <td>0</td>\n",
       "      <td>0</td>\n",
       "      <td>0.4</td>\n",
       "    </tr>\n",
       "  </tbody>\n",
       "</table>\n",
       "</div>"
      ],
      "text/plain": [
       "   Survived  Pclass  Sex  Age  Fare  Cabin  Embarked  Title  FamilySize\n",
       "0         0       3    0    1     0    2.0         0      0         0.4"
      ]
     },
     "execution_count": 16,
     "metadata": {},
     "output_type": "execute_result"
    }
   ],
   "source": [
    "train.head(1)"
   ]
  },
  {
   "cell_type": "code",
   "execution_count": 17,
   "id": "e455ae89-0da3-44d4-ad14-9447cdb45a01",
   "metadata": {},
   "outputs": [
    {
     "data": {
      "text/html": [
       "<div>\n",
       "<style scoped>\n",
       "    .dataframe tbody tr th:only-of-type {\n",
       "        vertical-align: middle;\n",
       "    }\n",
       "\n",
       "    .dataframe tbody tr th {\n",
       "        vertical-align: top;\n",
       "    }\n",
       "\n",
       "    .dataframe thead th {\n",
       "        text-align: right;\n",
       "    }\n",
       "</style>\n",
       "<table border=\"1\" class=\"dataframe\">\n",
       "  <thead>\n",
       "    <tr style=\"text-align: right;\">\n",
       "      <th></th>\n",
       "      <th>Pclass</th>\n",
       "      <th>Sex</th>\n",
       "      <th>Age</th>\n",
       "      <th>Fare</th>\n",
       "      <th>Cabin</th>\n",
       "      <th>Embarked</th>\n",
       "      <th>Title</th>\n",
       "      <th>FamilySize</th>\n",
       "    </tr>\n",
       "  </thead>\n",
       "  <tbody>\n",
       "    <tr>\n",
       "      <th>0</th>\n",
       "      <td>3</td>\n",
       "      <td>0</td>\n",
       "      <td>2</td>\n",
       "      <td>0</td>\n",
       "      <td>2.0</td>\n",
       "      <td>2</td>\n",
       "      <td>0</td>\n",
       "      <td>0.0</td>\n",
       "    </tr>\n",
       "  </tbody>\n",
       "</table>\n",
       "</div>"
      ],
      "text/plain": [
       "   Pclass  Sex  Age  Fare  Cabin  Embarked  Title  FamilySize\n",
       "0       3    0    2     0    2.0         2      0         0.0"
      ]
     },
     "execution_count": 17,
     "metadata": {},
     "output_type": "execute_result"
    }
   ],
   "source": [
    "test.head(1)"
   ]
  },
  {
   "cell_type": "code",
   "execution_count": 18,
   "id": "0af7b091-40e2-4c56-83ef-880373c8b51b",
   "metadata": {},
   "outputs": [
    {
     "data": {
      "text/plain": [
       "Survived      0\n",
       "Pclass        0\n",
       "Sex           0\n",
       "Age           0\n",
       "Fare          0\n",
       "Cabin         0\n",
       "Embarked      0\n",
       "Title         0\n",
       "FamilySize    0\n",
       "dtype: int64"
      ]
     },
     "execution_count": 18,
     "metadata": {},
     "output_type": "execute_result"
    }
   ],
   "source": [
    "train.isnull().sum()"
   ]
  },
  {
   "cell_type": "code",
   "execution_count": 19,
   "id": "7acb44f1-092f-4f8c-83e5-b428e3338721",
   "metadata": {},
   "outputs": [
    {
     "data": {
      "text/plain": [
       "Pclass        0\n",
       "Sex           0\n",
       "Age           0\n",
       "Fare          0\n",
       "Cabin         0\n",
       "Embarked      0\n",
       "Title         0\n",
       "FamilySize    0\n",
       "dtype: int64"
      ]
     },
     "execution_count": 19,
     "metadata": {},
     "output_type": "execute_result"
    }
   ],
   "source": [
    "test.isnull().sum()"
   ]
  },
  {
   "cell_type": "code",
   "execution_count": null,
   "id": "5a73392c-bf7b-40ef-ac10-cc9bcf4a78dd",
   "metadata": {},
   "outputs": [],
   "source": []
  }
 ],
 "metadata": {
  "kernelspec": {
   "display_name": "Python 3.9.13 ('base')",
   "language": "python",
   "name": "python3"
  },
  "language_info": {
   "codemirror_mode": {
    "name": "ipython",
    "version": 3
   },
   "file_extension": ".py",
   "mimetype": "text/x-python",
   "name": "python",
   "nbconvert_exporter": "python",
   "pygments_lexer": "ipython3",
   "version": "3.9.13"
  },
  "vscode": {
   "interpreter": {
    "hash": "701d4f28dcd0866722f5108a3a4cbcd08882d26398b6d44117e791d7b8102912"
   }
  }
 },
 "nbformat": 4,
 "nbformat_minor": 5
}
