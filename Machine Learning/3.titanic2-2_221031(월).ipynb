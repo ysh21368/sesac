{
 "cells": [
  {
   "cell_type": "code",
   "execution_count": 45,
   "id": "b1fb763b-9f98-4f3d-bedd-6259366da4ad",
   "metadata": {},
   "outputs": [],
   "source": [
    "import pandas as pd\n",
    "import numpy as np"
   ]
  },
  {
   "cell_type": "code",
   "execution_count": 46,
   "id": "25cae5f0-4936-4d58-a294-926fcb84ef87",
   "metadata": {},
   "outputs": [],
   "source": [
    "train = pd.read_csv('titanic/train.csv')"
   ]
  },
  {
   "cell_type": "code",
   "execution_count": 47,
   "id": "6f108f61-a001-444b-92ca-23253836bc66",
   "metadata": {},
   "outputs": [],
   "source": [
    "test = pd.read_csv('titanic/test.csv')"
   ]
  },
  {
   "cell_type": "code",
   "execution_count": 48,
   "id": "7169ef8e-5417-47c0-a8a5-17cb7232c588",
   "metadata": {},
   "outputs": [
    {
     "name": "stdout",
     "output_type": "stream",
     "text": [
      "(891, 12) (418, 11)\n"
     ]
    }
   ],
   "source": [
    "print(train.shape, test.shape) #test 데이터 프레임에는 'Survived'의 속성이 없기 때문에 11개임"
   ]
  },
  {
   "cell_type": "code",
   "execution_count": 49,
   "id": "48675903-dc5a-4d63-96c7-0fb318473596",
   "metadata": {},
   "outputs": [],
   "source": [
    "train_test_dataset = [train, test]"
   ]
  },
  {
   "cell_type": "code",
   "execution_count": 50,
   "id": "d3b4e529-4fee-47c4-98a9-9a266d60e893",
   "metadata": {},
   "outputs": [],
   "source": [
    "# data.groupby('Title')['Age'].transform('median')값을 원래는 train_title_age라는 변수로 지정해서 표기해줘야한다.\n",
    "# train_title_age = data.groupby('Title')['Age'].transform('median')\n",
    "# 값을 고정 안시키면 데이터 값이 바뀔 수 있기 때문에 꼭 변수를 선언해줘서 전처리 과정을 돌려야한다."
   ]
  },
  {
   "cell_type": "code",
   "execution_count": 51,
   "id": "9a6598d2-9bef-4a58-9c58-40b0f09c8a0a",
   "metadata": {},
   "outputs": [],
   "source": [
    "for data in train_test_dataset :\n",
    "    data['Title'] = data['Name'].str.extract('([a-zA-Z]+)\\.') \n",
    "    data['Title'] = data['Title'].str.lower()\n",
    "    \n",
    "    data['Title'] = np.where(data['Title'] == 'mr', 0, \n",
    "                           np.where(data['Title'] == 'miss', 1, \n",
    "                                    np.where(data['Title'] == 'mrs', 2, 3)))\n",
    "    \n",
    "    data['Age'] = data['Age'].fillna(data.groupby('Title')['Age'].transform('median'))\n",
    "    \n",
    "    data['Age'] = np.where(data['Age'] <= 16, 0, \n",
    "                             np.where(data['Age'] <= 26, 1,\n",
    "                                      np.where(data['Age'] <= 36, 2,\n",
    "                                               np.where(data['Age'] <= 62, 3, 4))))\n",
    "    \n",
    "    data['Embarked'].fillna('S', inplace=True)\n",
    "    \n",
    "    data['Embarked'] = np.where(data['Embarked'] == 'S', 0,\n",
    "                              np.where(data['Embarked'] == 'C', 1, 2))\n",
    "    \n",
    "    data['Cabin'] = data['Cabin'].str[0]\n",
    "    \n",
    "    cabin_mapping = {'A': 0.0, 'B': 0.4, 'C': 0.8, 'D': 1.2, 'E': 1.6, 'F': 2.0, 'G': 2.4, 'T': 2.8}\n",
    "    \n",
    "    data['Cabin'] = data['Cabin'].map(cabin_mapping)\n",
    "    data['Cabin'].fillna(data.groupby('Pclass')['Cabin'].transform('median'), inplace=True)\n",
    "    \n",
    "    data['Sex'] = data['Sex'].map({'male':0, 'female':1})\n",
    "    \n",
    "    data['Fare'].fillna(data.groupby('Pclass')['Fare'].transform('median'), inplace=True)\n",
    "    data['Fare'] = np.where(data['Fare'] <= 17, 0, \n",
    "                          np.where(data['Fare'] <= 30, 1, \n",
    "                                   np.where(data['Fare'] <= 100, 2, 3)))\n",
    "    \n",
    "    data['FamilySize'] = data['SibSp'] + data['Parch'] + 1\n",
    "    family_mapping = {1: 0.0, 2: 0.4, 3: 0.8, 4: 1.2, 5: 1.6, 6: 2.0, 7: 2.4, 8: 2.8, 9: 3.2, 10: 3.6, 11: 4.0}\n",
    "    data['FamilySize'] = data['FamilySize'].map(family_mapping)\n",
    "    "
   ]
  },
  {
   "cell_type": "code",
   "execution_count": 52,
   "id": "968076c1-af8c-46c9-ac93-145af14700ec",
   "metadata": {},
   "outputs": [],
   "source": [
    "features_drop = ['PassengerId', 'Name', 'Ticket', 'SibSp', 'Parch']"
   ]
  },
  {
   "cell_type": "code",
   "execution_count": 53,
   "id": "ce507610-edd6-48fd-85cc-a10aee535080",
   "metadata": {},
   "outputs": [],
   "source": [
    "train = train.drop(features_drop, axis = 1)"
   ]
  },
  {
   "cell_type": "code",
   "execution_count": 54,
   "id": "e09f1a82-e7b1-49b8-b518-d9d1ee25291b",
   "metadata": {},
   "outputs": [],
   "source": [
    "test = test.drop(features_drop, axis = 1)"
   ]
  },
  {
   "cell_type": "code",
   "execution_count": 55,
   "id": "0c6dc950-1e9e-4be7-8a63-eedae74d1713",
   "metadata": {},
   "outputs": [
    {
     "data": {
      "text/html": [
       "<div>\n",
       "<style scoped>\n",
       "    .dataframe tbody tr th:only-of-type {\n",
       "        vertical-align: middle;\n",
       "    }\n",
       "\n",
       "    .dataframe tbody tr th {\n",
       "        vertical-align: top;\n",
       "    }\n",
       "\n",
       "    .dataframe thead th {\n",
       "        text-align: right;\n",
       "    }\n",
       "</style>\n",
       "<table border=\"1\" class=\"dataframe\">\n",
       "  <thead>\n",
       "    <tr style=\"text-align: right;\">\n",
       "      <th></th>\n",
       "      <th>Survived</th>\n",
       "      <th>Pclass</th>\n",
       "      <th>Sex</th>\n",
       "      <th>Age</th>\n",
       "      <th>Fare</th>\n",
       "      <th>Cabin</th>\n",
       "      <th>Embarked</th>\n",
       "      <th>Title</th>\n",
       "      <th>FamilySize</th>\n",
       "    </tr>\n",
       "  </thead>\n",
       "  <tbody>\n",
       "    <tr>\n",
       "      <th>0</th>\n",
       "      <td>0</td>\n",
       "      <td>3</td>\n",
       "      <td>0</td>\n",
       "      <td>1</td>\n",
       "      <td>0</td>\n",
       "      <td>2.0</td>\n",
       "      <td>0</td>\n",
       "      <td>0</td>\n",
       "      <td>0.4</td>\n",
       "    </tr>\n",
       "  </tbody>\n",
       "</table>\n",
       "</div>"
      ],
      "text/plain": [
       "   Survived  Pclass  Sex  Age  Fare  Cabin  Embarked  Title  FamilySize\n",
       "0         0       3    0    1     0    2.0         0      0         0.4"
      ]
     },
     "execution_count": 55,
     "metadata": {},
     "output_type": "execute_result"
    }
   ],
   "source": [
    "train.head(1)"
   ]
  },
  {
   "cell_type": "code",
   "execution_count": 56,
   "id": "e455ae89-0da3-44d4-ad14-9447cdb45a01",
   "metadata": {},
   "outputs": [
    {
     "data": {
      "text/html": [
       "<div>\n",
       "<style scoped>\n",
       "    .dataframe tbody tr th:only-of-type {\n",
       "        vertical-align: middle;\n",
       "    }\n",
       "\n",
       "    .dataframe tbody tr th {\n",
       "        vertical-align: top;\n",
       "    }\n",
       "\n",
       "    .dataframe thead th {\n",
       "        text-align: right;\n",
       "    }\n",
       "</style>\n",
       "<table border=\"1\" class=\"dataframe\">\n",
       "  <thead>\n",
       "    <tr style=\"text-align: right;\">\n",
       "      <th></th>\n",
       "      <th>Pclass</th>\n",
       "      <th>Sex</th>\n",
       "      <th>Age</th>\n",
       "      <th>Fare</th>\n",
       "      <th>Cabin</th>\n",
       "      <th>Embarked</th>\n",
       "      <th>Title</th>\n",
       "      <th>FamilySize</th>\n",
       "    </tr>\n",
       "  </thead>\n",
       "  <tbody>\n",
       "    <tr>\n",
       "      <th>0</th>\n",
       "      <td>3</td>\n",
       "      <td>0</td>\n",
       "      <td>2</td>\n",
       "      <td>0</td>\n",
       "      <td>2.0</td>\n",
       "      <td>2</td>\n",
       "      <td>0</td>\n",
       "      <td>0.0</td>\n",
       "    </tr>\n",
       "  </tbody>\n",
       "</table>\n",
       "</div>"
      ],
      "text/plain": [
       "   Pclass  Sex  Age  Fare  Cabin  Embarked  Title  FamilySize\n",
       "0       3    0    2     0    2.0         2      0         0.0"
      ]
     },
     "execution_count": 56,
     "metadata": {},
     "output_type": "execute_result"
    }
   ],
   "source": [
    "test.head(1)"
   ]
  },
  {
   "cell_type": "code",
   "execution_count": 57,
   "id": "a0d936b9-b059-4792-95b3-10fe355d5d46",
   "metadata": {},
   "outputs": [],
   "source": [
    "# train에 대한 모델링 작업"
   ]
  },
  {
   "cell_type": "code",
   "execution_count": 58,
   "id": "0af7b091-40e2-4c56-83ef-880373c8b51b",
   "metadata": {},
   "outputs": [
    {
     "data": {
      "text/plain": [
       "Survived      0\n",
       "Pclass        0\n",
       "Sex           0\n",
       "Age           0\n",
       "Fare          0\n",
       "Cabin         0\n",
       "Embarked      0\n",
       "Title         0\n",
       "FamilySize    0\n",
       "dtype: int64"
      ]
     },
     "execution_count": 58,
     "metadata": {},
     "output_type": "execute_result"
    }
   ],
   "source": [
    "train.isnull().sum() #학습지, ex)모의고사"
   ]
  },
  {
   "cell_type": "code",
   "execution_count": 59,
   "id": "7acb44f1-092f-4f8c-83e5-b428e3338721",
   "metadata": {},
   "outputs": [
    {
     "data": {
      "text/plain": [
       "Pclass        0\n",
       "Sex           0\n",
       "Age           0\n",
       "Fare          0\n",
       "Cabin         0\n",
       "Embarked      0\n",
       "Title         0\n",
       "FamilySize    0\n",
       "dtype: int64"
      ]
     },
     "execution_count": 59,
     "metadata": {},
     "output_type": "execute_result"
    }
   ],
   "source": [
    "test.isnull().sum() #실전, ex)수능"
   ]
  },
  {
   "cell_type": "code",
   "execution_count": null,
   "id": "88c5bae4-b149-451b-ae29-c8d16ccf7e0f",
   "metadata": {},
   "outputs": [],
   "source": [
    "# 이렇게 하는 이유는?"
   ]
  },
  {
   "cell_type": "code",
   "execution_count": 60,
   "id": "4ba12d94-7015-4425-92da-203877fb49bf",
   "metadata": {},
   "outputs": [],
   "source": [
    "from sklearn.linear_model import LogisticRegression\n",
    "from sklearn.tree import DecisionTreeClassifier\n",
    "from sklearn.ensemble import RandomForestClassifier\n",
    "from sklearn.ensemble import GradientBoostingClassifier\n",
    "from sklearn.ensemble import AdaBoostClassifier\n",
    "from sklearn.metrics import accuracy_score\n",
    "from sklearn.model_selection import train_test_split"
   ]
  },
  {
   "cell_type": "code",
   "execution_count": 61,
   "id": "523ee59a-fe2f-48ee-a788-b83c71a9dff4",
   "metadata": {},
   "outputs": [
    {
     "data": {
      "text/html": [
       "<div>\n",
       "<style scoped>\n",
       "    .dataframe tbody tr th:only-of-type {\n",
       "        vertical-align: middle;\n",
       "    }\n",
       "\n",
       "    .dataframe tbody tr th {\n",
       "        vertical-align: top;\n",
       "    }\n",
       "\n",
       "    .dataframe thead th {\n",
       "        text-align: right;\n",
       "    }\n",
       "</style>\n",
       "<table border=\"1\" class=\"dataframe\">\n",
       "  <thead>\n",
       "    <tr style=\"text-align: right;\">\n",
       "      <th></th>\n",
       "      <th>Survived</th>\n",
       "      <th>Pclass</th>\n",
       "      <th>Sex</th>\n",
       "      <th>Age</th>\n",
       "      <th>Fare</th>\n",
       "      <th>Cabin</th>\n",
       "      <th>Embarked</th>\n",
       "      <th>Title</th>\n",
       "      <th>FamilySize</th>\n",
       "    </tr>\n",
       "  </thead>\n",
       "  <tbody>\n",
       "    <tr>\n",
       "      <th>0</th>\n",
       "      <td>0</td>\n",
       "      <td>3</td>\n",
       "      <td>0</td>\n",
       "      <td>1</td>\n",
       "      <td>0</td>\n",
       "      <td>2.0</td>\n",
       "      <td>0</td>\n",
       "      <td>0</td>\n",
       "      <td>0.4</td>\n",
       "    </tr>\n",
       "    <tr>\n",
       "      <th>1</th>\n",
       "      <td>1</td>\n",
       "      <td>1</td>\n",
       "      <td>1</td>\n",
       "      <td>3</td>\n",
       "      <td>2</td>\n",
       "      <td>0.8</td>\n",
       "      <td>1</td>\n",
       "      <td>2</td>\n",
       "      <td>0.4</td>\n",
       "    </tr>\n",
       "    <tr>\n",
       "      <th>2</th>\n",
       "      <td>1</td>\n",
       "      <td>3</td>\n",
       "      <td>1</td>\n",
       "      <td>1</td>\n",
       "      <td>0</td>\n",
       "      <td>2.0</td>\n",
       "      <td>0</td>\n",
       "      <td>1</td>\n",
       "      <td>0.0</td>\n",
       "    </tr>\n",
       "    <tr>\n",
       "      <th>3</th>\n",
       "      <td>1</td>\n",
       "      <td>1</td>\n",
       "      <td>1</td>\n",
       "      <td>2</td>\n",
       "      <td>2</td>\n",
       "      <td>0.8</td>\n",
       "      <td>0</td>\n",
       "      <td>2</td>\n",
       "      <td>0.4</td>\n",
       "    </tr>\n",
       "    <tr>\n",
       "      <th>4</th>\n",
       "      <td>0</td>\n",
       "      <td>3</td>\n",
       "      <td>0</td>\n",
       "      <td>2</td>\n",
       "      <td>0</td>\n",
       "      <td>2.0</td>\n",
       "      <td>0</td>\n",
       "      <td>0</td>\n",
       "      <td>0.0</td>\n",
       "    </tr>\n",
       "    <tr>\n",
       "      <th>...</th>\n",
       "      <td>...</td>\n",
       "      <td>...</td>\n",
       "      <td>...</td>\n",
       "      <td>...</td>\n",
       "      <td>...</td>\n",
       "      <td>...</td>\n",
       "      <td>...</td>\n",
       "      <td>...</td>\n",
       "      <td>...</td>\n",
       "    </tr>\n",
       "    <tr>\n",
       "      <th>886</th>\n",
       "      <td>0</td>\n",
       "      <td>2</td>\n",
       "      <td>0</td>\n",
       "      <td>2</td>\n",
       "      <td>0</td>\n",
       "      <td>1.8</td>\n",
       "      <td>0</td>\n",
       "      <td>3</td>\n",
       "      <td>0.0</td>\n",
       "    </tr>\n",
       "    <tr>\n",
       "      <th>887</th>\n",
       "      <td>1</td>\n",
       "      <td>1</td>\n",
       "      <td>1</td>\n",
       "      <td>1</td>\n",
       "      <td>1</td>\n",
       "      <td>0.4</td>\n",
       "      <td>0</td>\n",
       "      <td>1</td>\n",
       "      <td>0.0</td>\n",
       "    </tr>\n",
       "    <tr>\n",
       "      <th>888</th>\n",
       "      <td>0</td>\n",
       "      <td>3</td>\n",
       "      <td>1</td>\n",
       "      <td>1</td>\n",
       "      <td>1</td>\n",
       "      <td>2.0</td>\n",
       "      <td>0</td>\n",
       "      <td>1</td>\n",
       "      <td>1.2</td>\n",
       "    </tr>\n",
       "    <tr>\n",
       "      <th>889</th>\n",
       "      <td>1</td>\n",
       "      <td>1</td>\n",
       "      <td>0</td>\n",
       "      <td>1</td>\n",
       "      <td>1</td>\n",
       "      <td>0.8</td>\n",
       "      <td>1</td>\n",
       "      <td>0</td>\n",
       "      <td>0.0</td>\n",
       "    </tr>\n",
       "    <tr>\n",
       "      <th>890</th>\n",
       "      <td>0</td>\n",
       "      <td>3</td>\n",
       "      <td>0</td>\n",
       "      <td>2</td>\n",
       "      <td>0</td>\n",
       "      <td>2.0</td>\n",
       "      <td>2</td>\n",
       "      <td>0</td>\n",
       "      <td>0.0</td>\n",
       "    </tr>\n",
       "  </tbody>\n",
       "</table>\n",
       "<p>891 rows × 9 columns</p>\n",
       "</div>"
      ],
      "text/plain": [
       "     Survived  Pclass  Sex  Age  Fare  Cabin  Embarked  Title  FamilySize\n",
       "0           0       3    0    1     0    2.0         0      0         0.4\n",
       "1           1       1    1    3     2    0.8         1      2         0.4\n",
       "2           1       3    1    1     0    2.0         0      1         0.0\n",
       "3           1       1    1    2     2    0.8         0      2         0.4\n",
       "4           0       3    0    2     0    2.0         0      0         0.0\n",
       "..        ...     ...  ...  ...   ...    ...       ...    ...         ...\n",
       "886         0       2    0    2     0    1.8         0      3         0.0\n",
       "887         1       1    1    1     1    0.4         0      1         0.0\n",
       "888         0       3    1    1     1    2.0         0      1         1.2\n",
       "889         1       1    0    1     1    0.8         1      0         0.0\n",
       "890         0       3    0    2     0    2.0         2      0         0.0\n",
       "\n",
       "[891 rows x 9 columns]"
      ]
     },
     "execution_count": 61,
     "metadata": {},
     "output_type": "execute_result"
    }
   ],
   "source": [
    "train"
   ]
  },
  {
   "cell_type": "code",
   "execution_count": 62,
   "id": "47999729-a3be-44a2-af8a-22dbd8db8d68",
   "metadata": {},
   "outputs": [
    {
     "data": {
      "text/html": [
       "<div>\n",
       "<style scoped>\n",
       "    .dataframe tbody tr th:only-of-type {\n",
       "        vertical-align: middle;\n",
       "    }\n",
       "\n",
       "    .dataframe tbody tr th {\n",
       "        vertical-align: top;\n",
       "    }\n",
       "\n",
       "    .dataframe thead th {\n",
       "        text-align: right;\n",
       "    }\n",
       "</style>\n",
       "<table border=\"1\" class=\"dataframe\">\n",
       "  <thead>\n",
       "    <tr style=\"text-align: right;\">\n",
       "      <th></th>\n",
       "      <th>Pclass</th>\n",
       "      <th>Sex</th>\n",
       "      <th>Age</th>\n",
       "      <th>Fare</th>\n",
       "      <th>Cabin</th>\n",
       "      <th>Embarked</th>\n",
       "      <th>Title</th>\n",
       "      <th>FamilySize</th>\n",
       "    </tr>\n",
       "  </thead>\n",
       "  <tbody>\n",
       "    <tr>\n",
       "      <th>0</th>\n",
       "      <td>3</td>\n",
       "      <td>0</td>\n",
       "      <td>1</td>\n",
       "      <td>0</td>\n",
       "      <td>2.0</td>\n",
       "      <td>0</td>\n",
       "      <td>0</td>\n",
       "      <td>0.4</td>\n",
       "    </tr>\n",
       "    <tr>\n",
       "      <th>1</th>\n",
       "      <td>1</td>\n",
       "      <td>1</td>\n",
       "      <td>3</td>\n",
       "      <td>2</td>\n",
       "      <td>0.8</td>\n",
       "      <td>1</td>\n",
       "      <td>2</td>\n",
       "      <td>0.4</td>\n",
       "    </tr>\n",
       "    <tr>\n",
       "      <th>2</th>\n",
       "      <td>3</td>\n",
       "      <td>1</td>\n",
       "      <td>1</td>\n",
       "      <td>0</td>\n",
       "      <td>2.0</td>\n",
       "      <td>0</td>\n",
       "      <td>1</td>\n",
       "      <td>0.0</td>\n",
       "    </tr>\n",
       "    <tr>\n",
       "      <th>3</th>\n",
       "      <td>1</td>\n",
       "      <td>1</td>\n",
       "      <td>2</td>\n",
       "      <td>2</td>\n",
       "      <td>0.8</td>\n",
       "      <td>0</td>\n",
       "      <td>2</td>\n",
       "      <td>0.4</td>\n",
       "    </tr>\n",
       "    <tr>\n",
       "      <th>4</th>\n",
       "      <td>3</td>\n",
       "      <td>0</td>\n",
       "      <td>2</td>\n",
       "      <td>0</td>\n",
       "      <td>2.0</td>\n",
       "      <td>0</td>\n",
       "      <td>0</td>\n",
       "      <td>0.0</td>\n",
       "    </tr>\n",
       "    <tr>\n",
       "      <th>...</th>\n",
       "      <td>...</td>\n",
       "      <td>...</td>\n",
       "      <td>...</td>\n",
       "      <td>...</td>\n",
       "      <td>...</td>\n",
       "      <td>...</td>\n",
       "      <td>...</td>\n",
       "      <td>...</td>\n",
       "    </tr>\n",
       "    <tr>\n",
       "      <th>886</th>\n",
       "      <td>2</td>\n",
       "      <td>0</td>\n",
       "      <td>2</td>\n",
       "      <td>0</td>\n",
       "      <td>1.8</td>\n",
       "      <td>0</td>\n",
       "      <td>3</td>\n",
       "      <td>0.0</td>\n",
       "    </tr>\n",
       "    <tr>\n",
       "      <th>887</th>\n",
       "      <td>1</td>\n",
       "      <td>1</td>\n",
       "      <td>1</td>\n",
       "      <td>1</td>\n",
       "      <td>0.4</td>\n",
       "      <td>0</td>\n",
       "      <td>1</td>\n",
       "      <td>0.0</td>\n",
       "    </tr>\n",
       "    <tr>\n",
       "      <th>888</th>\n",
       "      <td>3</td>\n",
       "      <td>1</td>\n",
       "      <td>1</td>\n",
       "      <td>1</td>\n",
       "      <td>2.0</td>\n",
       "      <td>0</td>\n",
       "      <td>1</td>\n",
       "      <td>1.2</td>\n",
       "    </tr>\n",
       "    <tr>\n",
       "      <th>889</th>\n",
       "      <td>1</td>\n",
       "      <td>0</td>\n",
       "      <td>1</td>\n",
       "      <td>1</td>\n",
       "      <td>0.8</td>\n",
       "      <td>1</td>\n",
       "      <td>0</td>\n",
       "      <td>0.0</td>\n",
       "    </tr>\n",
       "    <tr>\n",
       "      <th>890</th>\n",
       "      <td>3</td>\n",
       "      <td>0</td>\n",
       "      <td>2</td>\n",
       "      <td>0</td>\n",
       "      <td>2.0</td>\n",
       "      <td>2</td>\n",
       "      <td>0</td>\n",
       "      <td>0.0</td>\n",
       "    </tr>\n",
       "  </tbody>\n",
       "</table>\n",
       "<p>891 rows × 8 columns</p>\n",
       "</div>"
      ],
      "text/plain": [
       "     Pclass  Sex  Age  Fare  Cabin  Embarked  Title  FamilySize\n",
       "0         3    0    1     0    2.0         0      0         0.4\n",
       "1         1    1    3     2    0.8         1      2         0.4\n",
       "2         3    1    1     0    2.0         0      1         0.0\n",
       "3         1    1    2     2    0.8         0      2         0.4\n",
       "4         3    0    2     0    2.0         0      0         0.0\n",
       "..      ...  ...  ...   ...    ...       ...    ...         ...\n",
       "886       2    0    2     0    1.8         0      3         0.0\n",
       "887       1    1    1     1    0.4         0      1         0.0\n",
       "888       3    1    1     1    2.0         0      1         1.2\n",
       "889       1    0    1     1    0.8         1      0         0.0\n",
       "890       3    0    2     0    2.0         2      0         0.0\n",
       "\n",
       "[891 rows x 8 columns]"
      ]
     },
     "execution_count": 62,
     "metadata": {},
     "output_type": "execute_result"
    }
   ],
   "source": [
    "train.drop('Survived', axis = 1) #train.drop(columns = 'Survived')"
   ]
  },
  {
   "cell_type": "code",
   "execution_count": 63,
   "id": "34fa7947-1331-461b-b8af-24e84ca07830",
   "metadata": {},
   "outputs": [],
   "source": [
    "inputs = train.drop('Survived', axis = 1) #train.drop(columns = 'Survived')\n",
    "#문제, X"
   ]
  },
  {
   "cell_type": "code",
   "execution_count": 64,
   "id": "76ceca15-6909-4d16-810b-268a725db8f8",
   "metadata": {},
   "outputs": [],
   "source": [
    "outputs = train['Survived']\n",
    "#정답지, Y"
   ]
  },
  {
   "cell_type": "code",
   "execution_count": 65,
   "id": "31b1169f-55c9-435a-92b4-e291acca7563",
   "metadata": {},
   "outputs": [
    {
     "name": "stdout",
     "output_type": "stream",
     "text": [
      "(891, 8) (891,)\n"
     ]
    }
   ],
   "source": [
    "print(inputs.shape, outputs.shape) #*****문제와 정답의 갯수가 일치해야 한다. *****"
   ]
  },
  {
   "cell_type": "markdown",
   "id": "9fe1cc5e-35aa-49c6-b4de-a1cbe07642e4",
   "metadata": {},
   "source": [
    "train_input, test_input, train_output, test_output = train_test_split #학습이 잘되었는지 눈으로 확인하기 위해서 이 작업을 한다."
   ]
  },
  {
   "cell_type": "code",
   "execution_count": 66,
   "id": "8f3cdf69-75cf-451a-a80a-115984ed3220",
   "metadata": {},
   "outputs": [],
   "source": [
    "train_input, test_input, train_output, test_output = \\\n",
    "train_test_split(inputs, outputs, test_size = 0.2, stratify = outputs, random_state = 10)\n",
    "#랜덤 값(random_state)은 고정 값(seed)을 항상 주는게 좋다.\n",
    "#stratify = outputs 뜻은 train과 test 데이터의 비율을 맞추기 위함.\n",
    "#순서: 1)train_input, 2)test_input, 3)train_output, 4)test_output"
   ]
  },
  {
   "cell_type": "code",
   "execution_count": 67,
   "id": "e79159f9-61b0-4edf-ba2e-c0665fa2737b",
   "metadata": {},
   "outputs": [
    {
     "name": "stdout",
     "output_type": "stream",
     "text": [
      "(712, 8) (712,)\n",
      "(179, 8) (179,)\n"
     ]
    }
   ],
   "source": [
    "print(train_input.shape, train_output.shape)\n",
    "print(test_input.shape, test_output.shape)"
   ]
  },
  {
   "cell_type": "code",
   "execution_count": 68,
   "id": "730eedb8-6dc4-4425-94ad-1fb7bcea1ba5",
   "metadata": {},
   "outputs": [
    {
     "data": {
      "text/plain": [
       "0    549\n",
       "1    342\n",
       "Name: Survived, dtype: int64"
      ]
     },
     "execution_count": 68,
     "metadata": {},
     "output_type": "execute_result"
    }
   ],
   "source": [
    "outputs.value_counts()"
   ]
  },
  {
   "cell_type": "code",
   "execution_count": 69,
   "id": "37c89595-beb4-406e-aaa8-ca84a951a795",
   "metadata": {},
   "outputs": [
    {
     "data": {
      "text/plain": [
       "0    439\n",
       "1    273\n",
       "Name: Survived, dtype: int64"
      ]
     },
     "execution_count": 69,
     "metadata": {},
     "output_type": "execute_result"
    }
   ],
   "source": [
    "train_output.value_counts()"
   ]
  },
  {
   "cell_type": "code",
   "execution_count": 70,
   "id": "0ce54be4-b5b4-4ac0-b02c-7ca603add485",
   "metadata": {},
   "outputs": [
    {
     "data": {
      "text/plain": [
       "0    110\n",
       "1     69\n",
       "Name: Survived, dtype: int64"
      ]
     },
     "execution_count": 70,
     "metadata": {},
     "output_type": "execute_result"
    }
   ],
   "source": [
    "test_output.value_counts()"
   ]
  },
  {
   "cell_type": "code",
   "execution_count": 71,
   "id": "81e3ddbe-ba34-4906-8ec5-37089f6a6b7a",
   "metadata": {},
   "outputs": [],
   "source": [
    "model1 = LogisticRegression()\n",
    "model2 = DecisionTreeClassifier()\n",
    "model3 = RandomForestClassifier()\n",
    "model4 = GradientBoostingClassifier()\n",
    "model5 =AdaBoostClassifier()"
   ]
  },
  {
   "cell_type": "code",
   "execution_count": 72,
   "id": "fdf81e99-5286-45a6-990c-c2e91b343c1c",
   "metadata": {},
   "outputs": [],
   "source": [
    "# 모델1"
   ]
  },
  {
   "cell_type": "code",
   "execution_count": 73,
   "id": "552597df-e984-4122-aa98-95865ef442ff",
   "metadata": {},
   "outputs": [
    {
     "data": {
      "text/plain": [
       "LogisticRegression()"
      ]
     },
     "execution_count": 73,
     "metadata": {},
     "output_type": "execute_result"
    }
   ],
   "source": [
    "model1.fit(train_input, train_output) #input은 다 만듬. 머신러닝 모델을 만듬. (패키지를 이용해서 모델을 쉽게 만들 수 있음)"
   ]
  },
  {
   "cell_type": "code",
   "execution_count": 74,
   "id": "9f393d65-442f-4e5e-9a51-707bc1095a51",
   "metadata": {},
   "outputs": [
    {
     "data": {
      "text/plain": [
       "82.58426966292134"
      ]
     },
     "execution_count": 74,
     "metadata": {},
     "output_type": "execute_result"
    }
   ],
   "source": [
    "model1.score(train_input, train_output) * 100 #모델1에 대한 학습데이터"
   ]
  },
  {
   "cell_type": "code",
   "execution_count": 75,
   "id": "2c46864f-3cd3-4c72-a6bc-9eb9effbc530",
   "metadata": {},
   "outputs": [
    {
     "data": {
      "text/plain": [
       "79.88826815642457"
      ]
     },
     "execution_count": 75,
     "metadata": {},
     "output_type": "execute_result"
    }
   ],
   "source": [
    "model1.score(test_input, test_output) * 100 #"
   ]
  },
  {
   "cell_type": "code",
   "execution_count": 76,
   "id": "952d79a5-ff4b-463b-8f0c-f0319f423b18",
   "metadata": {},
   "outputs": [],
   "source": [
    "test_pre = model1.predict(test_input)"
   ]
  },
  {
   "cell_type": "code",
   "execution_count": 77,
   "id": "16a8ff70-d99c-4c85-b4ab-bb364de5fe20",
   "metadata": {},
   "outputs": [
    {
     "data": {
      "text/plain": [
       "Pclass        3.0\n",
       "Sex           1.0\n",
       "Age           0.0\n",
       "Fare          1.0\n",
       "Cabin         2.0\n",
       "Embarked      0.0\n",
       "Title         1.0\n",
       "FamilySize    1.6\n",
       "Name: 24, dtype: float64"
      ]
     },
     "execution_count": 77,
     "metadata": {},
     "output_type": "execute_result"
    }
   ],
   "source": [
    "#예시\n",
    "test_input.iloc[0]"
   ]
  },
  {
   "cell_type": "code",
   "execution_count": 78,
   "id": "0935b8e1-f64f-48c8-9ff0-d9a426a972fd",
   "metadata": {},
   "outputs": [
    {
     "data": {
      "text/plain": [
       "0"
      ]
     },
     "execution_count": 78,
     "metadata": {},
     "output_type": "execute_result"
    }
   ],
   "source": [
    "test_pre[0] #예시에서의 예측값"
   ]
  },
  {
   "cell_type": "code",
   "execution_count": 79,
   "id": "01fb659d-9182-4f46-8586-2496ecdbf813",
   "metadata": {},
   "outputs": [
    {
     "data": {
      "text/plain": [
       "0"
      ]
     },
     "execution_count": 79,
     "metadata": {},
     "output_type": "execute_result"
    }
   ],
   "source": [
    "test_output.iloc[0] #예시에서의 실제값"
   ]
  },
  {
   "cell_type": "code",
   "execution_count": 80,
   "id": "3800e5c5-9199-4598-8b49-4cb42fb00084",
   "metadata": {},
   "outputs": [
    {
     "data": {
      "text/plain": [
       "array([0, 1, 1, 1, 0, 0, 1, 1, 0, 1, 1, 0, 1, 0, 1, 0, 0, 0, 0, 0, 0, 0,\n",
       "       1, 1, 0, 0, 0, 0, 1, 1, 1, 0, 0, 1, 0, 0, 1, 1, 0, 0, 0, 0, 0, 0,\n",
       "       1, 0, 0, 0, 1, 1, 0, 1, 0, 1, 0, 1, 0, 1, 1, 1, 0, 0, 0, 0, 1, 0,\n",
       "       1, 0, 1, 1, 0, 0, 0, 0, 0, 1, 1, 0, 1, 0, 1, 0, 0, 1, 1, 1, 1, 1,\n",
       "       1, 0, 0, 0, 0, 0, 0, 0, 0, 1, 0, 0, 0, 0, 0, 1, 0, 0, 0, 1, 0, 0,\n",
       "       0, 1, 1, 1, 0, 0, 0, 1, 0, 1, 1, 1, 0, 1, 0, 0, 1, 0, 0, 0, 0, 0,\n",
       "       1, 0, 0, 1, 0, 1, 1, 0, 0, 0, 1, 0, 0, 0, 0, 1, 1, 0, 0, 0, 0, 1,\n",
       "       0, 0, 0, 0, 1, 0, 1, 0, 0, 0, 0, 0, 0, 0, 1, 0, 1, 1, 0, 0, 0, 0,\n",
       "       0, 0, 0], dtype=int64)"
      ]
     },
     "execution_count": 80,
     "metadata": {},
     "output_type": "execute_result"
    }
   ],
   "source": [
    "test_pre"
   ]
  },
  {
   "cell_type": "code",
   "execution_count": 81,
   "id": "c2e379c2-feb0-446e-a3d9-6bc8e715b504",
   "metadata": {},
   "outputs": [
    {
     "data": {
      "text/plain": [
       "79.88826815642457"
      ]
     },
     "execution_count": 81,
     "metadata": {},
     "output_type": "execute_result"
    }
   ],
   "source": [
    "accuracy_score(test_pre, test_output) * 100 #"
   ]
  },
  {
   "cell_type": "code",
   "execution_count": 82,
   "id": "eb776f05-1df6-402d-9bc5-e5c3d4671e02",
   "metadata": {},
   "outputs": [],
   "source": [
    "# 모델2"
   ]
  },
  {
   "cell_type": "code",
   "execution_count": 83,
   "id": "121fadd5-e490-47a6-93ee-7dfdd5aa1260",
   "metadata": {},
   "outputs": [
    {
     "data": {
      "text/plain": [
       "DecisionTreeClassifier()"
      ]
     },
     "execution_count": 83,
     "metadata": {},
     "output_type": "execute_result"
    }
   ],
   "source": [
    "model2.fit(train_input, train_output)"
   ]
  },
  {
   "cell_type": "code",
   "execution_count": 84,
   "id": "f4ddb616-483a-45f8-8206-5a96394d00d4",
   "metadata": {},
   "outputs": [
    {
     "data": {
      "text/plain": [
       "90.30898876404494"
      ]
     },
     "execution_count": 84,
     "metadata": {},
     "output_type": "execute_result"
    }
   ],
   "source": [
    "model2.score(train_input, train_output) * 100"
   ]
  },
  {
   "cell_type": "code",
   "execution_count": 85,
   "id": "88f9c5bd-5445-417e-992d-389cb094b626",
   "metadata": {},
   "outputs": [
    {
     "data": {
      "text/plain": [
       "79.3296089385475"
      ]
     },
     "execution_count": 85,
     "metadata": {},
     "output_type": "execute_result"
    }
   ],
   "source": [
    "model2.score(test_input, test_output) * 100"
   ]
  },
  {
   "cell_type": "code",
   "execution_count": 86,
   "id": "aecf22dc-dc6a-422f-840f-bf2447c51763",
   "metadata": {},
   "outputs": [],
   "source": [
    "test_pre = model2.predict(test_input)"
   ]
  },
  {
   "cell_type": "code",
   "execution_count": null,
   "id": "0de944c5-4767-4308-9be9-3e7cfe0320dc",
   "metadata": {},
   "outputs": [],
   "source": []
  },
  {
   "cell_type": "code",
   "execution_count": 87,
   "id": "9eb787db-babd-4934-a806-0b689ac71675",
   "metadata": {},
   "outputs": [],
   "source": [
    "# 모델3"
   ]
  },
  {
   "cell_type": "code",
   "execution_count": 88,
   "id": "1a77120a-81f8-45ca-89e8-2bdac2ca624a",
   "metadata": {},
   "outputs": [
    {
     "data": {
      "text/plain": [
       "RandomForestClassifier()"
      ]
     },
     "execution_count": 88,
     "metadata": {},
     "output_type": "execute_result"
    }
   ],
   "source": [
    "model3.fit(train_input, train_output)"
   ]
  },
  {
   "cell_type": "code",
   "execution_count": 89,
   "id": "c01f1710-08d8-4304-90fd-e8380a136428",
   "metadata": {},
   "outputs": [
    {
     "data": {
      "text/plain": [
       "90.30898876404494"
      ]
     },
     "execution_count": 89,
     "metadata": {},
     "output_type": "execute_result"
    }
   ],
   "source": [
    "model3.score(train_input, train_output) * 100"
   ]
  },
  {
   "cell_type": "code",
   "execution_count": 90,
   "id": "9ef04cbd-9660-4428-8007-4ace5bd6babd",
   "metadata": {},
   "outputs": [
    {
     "data": {
      "text/plain": [
       "82.68156424581005"
      ]
     },
     "execution_count": 90,
     "metadata": {},
     "output_type": "execute_result"
    }
   ],
   "source": [
    "model3.score(test_input, test_output) * 100"
   ]
  },
  {
   "cell_type": "code",
   "execution_count": 91,
   "id": "da3d1ac9-7c07-4c57-8ff4-7e1b515b81e5",
   "metadata": {},
   "outputs": [],
   "source": [
    "test_pre = model3.predict(test_input)"
   ]
  },
  {
   "cell_type": "code",
   "execution_count": 92,
   "id": "e155d813-d157-4313-804d-c66c5c406b75",
   "metadata": {},
   "outputs": [],
   "source": [
    "# 모델4"
   ]
  },
  {
   "cell_type": "code",
   "execution_count": 93,
   "id": "f80d7b03-7a7a-4579-868d-fcfe717b2704",
   "metadata": {},
   "outputs": [],
   "source": [
    "model = model4.fit(train_input, train_output)"
   ]
  },
  {
   "cell_type": "code",
   "execution_count": 94,
   "id": "bac58e47-0e4c-4483-9621-23fbe5ccf871",
   "metadata": {},
   "outputs": [
    {
     "data": {
      "text/plain": [
       "86.65730337078652"
      ]
     },
     "execution_count": 94,
     "metadata": {},
     "output_type": "execute_result"
    }
   ],
   "source": [
    "model4.score(train_input, train_output) * 100"
   ]
  },
  {
   "cell_type": "code",
   "execution_count": 95,
   "id": "e319cf4b-18f9-41c3-a1a9-7f5db18e3e87",
   "metadata": {},
   "outputs": [
    {
     "data": {
      "text/plain": [
       "83.24022346368714"
      ]
     },
     "execution_count": 95,
     "metadata": {},
     "output_type": "execute_result"
    }
   ],
   "source": [
    "model4.score(test_input, test_output) * 100"
   ]
  },
  {
   "cell_type": "code",
   "execution_count": 96,
   "id": "eb9e2293-1a0d-46e8-b6d8-6f08ddf83eee",
   "metadata": {},
   "outputs": [],
   "source": [
    "test_pre = model4.predict(test_input)"
   ]
  },
  {
   "cell_type": "code",
   "execution_count": 97,
   "id": "e08ccaad-dfda-4b8d-9c3f-d7b67be172ac",
   "metadata": {},
   "outputs": [
    {
     "data": {
      "text/plain": [
       "GradientBoostingClassifier()"
      ]
     },
     "execution_count": 97,
     "metadata": {},
     "output_type": "execute_result"
    }
   ],
   "source": [
    "model"
   ]
  },
  {
   "cell_type": "code",
   "execution_count": 98,
   "id": "d347fd95-bc75-4acd-86ff-8cb3db3b2580",
   "metadata": {},
   "outputs": [],
   "source": [
    "import pickle #파이썬에 있는 기본 라이브러리이다."
   ]
  },
  {
   "cell_type": "code",
   "execution_count": 99,
   "id": "9767932c-f763-4b68-9954-fda3a724dc66",
   "metadata": {},
   "outputs": [],
   "source": [
    "with open('gbc.pkl', 'wb') as f : #'wb'는 write binary\n",
    "    pickle.dump(model, f)"
   ]
  },
  {
   "cell_type": "markdown",
   "id": "a8a4375e-840c-4821-949f-e3de302e4a2d",
   "metadata": {},
   "source": [
    "여기까지 한 수업내용이 모델을 만든 과정이다."
   ]
  },
  {
   "cell_type": "markdown",
   "id": "b6f3de45-d7de-44b6-a139-0bff7ac66aa3",
   "metadata": {},
   "source": [
    "여기, 'rb' 구간 부터는 저장된 데이터 프레임을 들고 와서 읽는 작업을 하는 구간이다."
   ]
  },
  {
   "cell_type": "code",
   "execution_count": 100,
   "id": "f1db0ede-0af1-476c-910c-5529aa69e9e1",
   "metadata": {},
   "outputs": [],
   "source": [
    "with open('gbc.pkl', 'rb') as f : #'rb'는 read binary\n",
    "    load_model = pickle.load(f)"
   ]
  },
  {
   "cell_type": "code",
   "execution_count": 101,
   "id": "2f551c47-602d-48d4-8aff-c15e9b919a41",
   "metadata": {},
   "outputs": [
    {
     "data": {
      "text/plain": [
       "GradientBoostingClassifier()"
      ]
     },
     "execution_count": 101,
     "metadata": {},
     "output_type": "execute_result"
    }
   ],
   "source": [
    "load_model"
   ]
  },
  {
   "cell_type": "code",
   "execution_count": 102,
   "id": "2ed87aca-09d3-44e1-a02f-2cd4a1e2793e",
   "metadata": {},
   "outputs": [
    {
     "data": {
      "text/html": [
       "<div>\n",
       "<style scoped>\n",
       "    .dataframe tbody tr th:only-of-type {\n",
       "        vertical-align: middle;\n",
       "    }\n",
       "\n",
       "    .dataframe tbody tr th {\n",
       "        vertical-align: top;\n",
       "    }\n",
       "\n",
       "    .dataframe thead th {\n",
       "        text-align: right;\n",
       "    }\n",
       "</style>\n",
       "<table border=\"1\" class=\"dataframe\">\n",
       "  <thead>\n",
       "    <tr style=\"text-align: right;\">\n",
       "      <th></th>\n",
       "      <th>Pclass</th>\n",
       "      <th>Sex</th>\n",
       "      <th>Age</th>\n",
       "      <th>Fare</th>\n",
       "      <th>Cabin</th>\n",
       "      <th>Embarked</th>\n",
       "      <th>Title</th>\n",
       "      <th>FamilySize</th>\n",
       "    </tr>\n",
       "  </thead>\n",
       "  <tbody>\n",
       "    <tr>\n",
       "      <th>24</th>\n",
       "      <td>3</td>\n",
       "      <td>1</td>\n",
       "      <td>0</td>\n",
       "      <td>1</td>\n",
       "      <td>2.0</td>\n",
       "      <td>0</td>\n",
       "      <td>1</td>\n",
       "      <td>1.6</td>\n",
       "    </tr>\n",
       "    <tr>\n",
       "      <th>251</th>\n",
       "      <td>3</td>\n",
       "      <td>1</td>\n",
       "      <td>2</td>\n",
       "      <td>0</td>\n",
       "      <td>2.4</td>\n",
       "      <td>0</td>\n",
       "      <td>2</td>\n",
       "      <td>0.8</td>\n",
       "    </tr>\n",
       "    <tr>\n",
       "      <th>694</th>\n",
       "      <td>1</td>\n",
       "      <td>0</td>\n",
       "      <td>3</td>\n",
       "      <td>1</td>\n",
       "      <td>0.8</td>\n",
       "      <td>0</td>\n",
       "      <td>3</td>\n",
       "      <td>0.0</td>\n",
       "    </tr>\n",
       "    <tr>\n",
       "      <th>858</th>\n",
       "      <td>3</td>\n",
       "      <td>1</td>\n",
       "      <td>1</td>\n",
       "      <td>1</td>\n",
       "      <td>2.0</td>\n",
       "      <td>1</td>\n",
       "      <td>2</td>\n",
       "      <td>1.2</td>\n",
       "    </tr>\n",
       "    <tr>\n",
       "      <th>784</th>\n",
       "      <td>3</td>\n",
       "      <td>0</td>\n",
       "      <td>1</td>\n",
       "      <td>0</td>\n",
       "      <td>2.0</td>\n",
       "      <td>0</td>\n",
       "      <td>0</td>\n",
       "      <td>0.0</td>\n",
       "    </tr>\n",
       "    <tr>\n",
       "      <th>...</th>\n",
       "      <td>...</td>\n",
       "      <td>...</td>\n",
       "      <td>...</td>\n",
       "      <td>...</td>\n",
       "      <td>...</td>\n",
       "      <td>...</td>\n",
       "      <td>...</td>\n",
       "      <td>...</td>\n",
       "    </tr>\n",
       "    <tr>\n",
       "      <th>839</th>\n",
       "      <td>1</td>\n",
       "      <td>0</td>\n",
       "      <td>2</td>\n",
       "      <td>1</td>\n",
       "      <td>0.8</td>\n",
       "      <td>1</td>\n",
       "      <td>0</td>\n",
       "      <td>0.0</td>\n",
       "    </tr>\n",
       "    <tr>\n",
       "      <th>561</th>\n",
       "      <td>3</td>\n",
       "      <td>0</td>\n",
       "      <td>3</td>\n",
       "      <td>0</td>\n",
       "      <td>2.0</td>\n",
       "      <td>0</td>\n",
       "      <td>0</td>\n",
       "      <td>0.0</td>\n",
       "    </tr>\n",
       "    <tr>\n",
       "      <th>808</th>\n",
       "      <td>2</td>\n",
       "      <td>0</td>\n",
       "      <td>3</td>\n",
       "      <td>0</td>\n",
       "      <td>1.8</td>\n",
       "      <td>0</td>\n",
       "      <td>0</td>\n",
       "      <td>0.0</td>\n",
       "    </tr>\n",
       "    <tr>\n",
       "      <th>468</th>\n",
       "      <td>3</td>\n",
       "      <td>0</td>\n",
       "      <td>2</td>\n",
       "      <td>0</td>\n",
       "      <td>2.0</td>\n",
       "      <td>2</td>\n",
       "      <td>0</td>\n",
       "      <td>0.0</td>\n",
       "    </tr>\n",
       "    <tr>\n",
       "      <th>77</th>\n",
       "      <td>3</td>\n",
       "      <td>0</td>\n",
       "      <td>2</td>\n",
       "      <td>0</td>\n",
       "      <td>2.0</td>\n",
       "      <td>0</td>\n",
       "      <td>0</td>\n",
       "      <td>0.0</td>\n",
       "    </tr>\n",
       "  </tbody>\n",
       "</table>\n",
       "<p>179 rows × 8 columns</p>\n",
       "</div>"
      ],
      "text/plain": [
       "     Pclass  Sex  Age  Fare  Cabin  Embarked  Title  FamilySize\n",
       "24        3    1    0     1    2.0         0      1         1.6\n",
       "251       3    1    2     0    2.4         0      2         0.8\n",
       "694       1    0    3     1    0.8         0      3         0.0\n",
       "858       3    1    1     1    2.0         1      2         1.2\n",
       "784       3    0    1     0    2.0         0      0         0.0\n",
       "..      ...  ...  ...   ...    ...       ...    ...         ...\n",
       "839       1    0    2     1    0.8         1      0         0.0\n",
       "561       3    0    3     0    2.0         0      0         0.0\n",
       "808       2    0    3     0    1.8         0      0         0.0\n",
       "468       3    0    2     0    2.0         2      0         0.0\n",
       "77        3    0    2     0    2.0         0      0         0.0\n",
       "\n",
       "[179 rows x 8 columns]"
      ]
     },
     "execution_count": 102,
     "metadata": {},
     "output_type": "execute_result"
    }
   ],
   "source": [
    "test_input"
   ]
  },
  {
   "cell_type": "code",
   "execution_count": 103,
   "id": "163da820-50e4-423c-8ffc-1e0dfad0b47d",
   "metadata": {},
   "outputs": [],
   "source": [
    "data1 = test_input.iloc[0].to_list()"
   ]
  },
  {
   "cell_type": "code",
   "execution_count": 104,
   "id": "4d0e7e34-e8a0-4a75-ae7a-d57ff3dc2ca3",
   "metadata": {},
   "outputs": [],
   "source": [
    "import numpy as np"
   ]
  },
  {
   "cell_type": "code",
   "execution_count": 105,
   "id": "7ca0f9f9-631e-4154-a63f-98ccec2716ad",
   "metadata": {},
   "outputs": [],
   "source": [
    "np_data = np.asarray(data1)"
   ]
  },
  {
   "cell_type": "code",
   "execution_count": 106,
   "id": "64ac89d3-474d-477f-bfed-42be11a42da4",
   "metadata": {},
   "outputs": [],
   "source": [
    "re_data = np_data.reshape(1, -1)"
   ]
  },
  {
   "cell_type": "code",
   "execution_count": 107,
   "id": "1269d845-dfdb-4c85-8ef6-21861d92d3a7",
   "metadata": {},
   "outputs": [
    {
     "name": "stderr",
     "output_type": "stream",
     "text": [
      "C:\\Users\\user\\anaconda3\\lib\\site-packages\\sklearn\\base.py:450: UserWarning: X does not have valid feature names, but GradientBoostingClassifier was fitted with feature names\n",
      "  warnings.warn(\n"
     ]
    }
   ],
   "source": [
    "pred = load_model.predict(re_data)"
   ]
  },
  {
   "cell_type": "code",
   "execution_count": 108,
   "id": "e2f56017-b9e9-4242-8675-1b07ca96ee94",
   "metadata": {},
   "outputs": [
    {
     "name": "stdout",
     "output_type": "stream",
     "text": [
      "Died...\n"
     ]
    }
   ],
   "source": [
    "if pred[0] == 0 :\n",
    "    print('Died...')\n",
    "else :\n",
    "    print('Survived!!!')"
   ]
  },
  {
   "cell_type": "code",
   "execution_count": null,
   "id": "ab817111-85c5-456d-aa21-3484ac321995",
   "metadata": {},
   "outputs": [],
   "source": []
  },
  {
   "cell_type": "code",
   "execution_count": null,
   "id": "8d6b950a-eb5e-4577-bbff-a0dcbbae152e",
   "metadata": {},
   "outputs": [],
   "source": []
  },
  {
   "cell_type": "code",
   "execution_count": 109,
   "id": "d1ea32cc-b199-4d88-ba62-05416aad4e3c",
   "metadata": {},
   "outputs": [],
   "source": [
    "# 모델5"
   ]
  },
  {
   "cell_type": "code",
   "execution_count": 110,
   "id": "5b7aee58-b1cc-4fc3-9866-1e3f8312f9eb",
   "metadata": {},
   "outputs": [
    {
     "data": {
      "text/plain": [
       "AdaBoostClassifier()"
      ]
     },
     "execution_count": 110,
     "metadata": {},
     "output_type": "execute_result"
    }
   ],
   "source": [
    "model5.fit(train_input, train_output)"
   ]
  },
  {
   "cell_type": "code",
   "execution_count": 111,
   "id": "ef1c1150-68d9-4957-8833-968f1074519f",
   "metadata": {},
   "outputs": [
    {
     "data": {
      "text/plain": [
       "81.32022471910112"
      ]
     },
     "execution_count": 111,
     "metadata": {},
     "output_type": "execute_result"
    }
   ],
   "source": [
    "model5.score(train_input, train_output) * 100"
   ]
  },
  {
   "cell_type": "code",
   "execution_count": 112,
   "id": "9cb568be-fdee-4b18-b233-27d6647d3a5a",
   "metadata": {},
   "outputs": [
    {
     "data": {
      "text/plain": [
       "83.24022346368714"
      ]
     },
     "execution_count": 112,
     "metadata": {},
     "output_type": "execute_result"
    }
   ],
   "source": [
    "model5.score(test_input, test_output) * 100"
   ]
  },
  {
   "cell_type": "code",
   "execution_count": 113,
   "id": "2dba13e8-414a-4f9e-a853-2b2b550fda7c",
   "metadata": {},
   "outputs": [],
   "source": [
    "test_pre = model5.predict(test_input)"
   ]
  },
  {
   "cell_type": "code",
   "execution_count": null,
   "id": "74e6381a-754e-4fad-9500-a103da32c3ab",
   "metadata": {},
   "outputs": [],
   "source": []
  },
  {
   "cell_type": "markdown",
   "id": "99c00916-c722-4dda-819d-e2179b544b82",
   "metadata": {},
   "source": [
    "# \n",
    "0.전처리\n",
    "1.모델 튜닝을 해야한다.\n",
    "2.모델 학습시키는 곳"
   ]
  },
  {
   "cell_type": "code",
   "execution_count": null,
   "id": "c77e1de0-50de-4dc0-9390-28653ddc4a64",
   "metadata": {},
   "outputs": [],
   "source": []
  },
  {
   "cell_type": "markdown",
   "id": "88b0ecf9-034b-420d-a6a5-ed682a6d0ddf",
   "metadata": {},
   "source": [
    "model = {'LogisticRegression': LogisticRegression(),\n",
    "         'DecisionTreeClassifier':DecisionTreeClassifier(),\n",
    "         'RandomForestClassifier': RandomForestClassifier(),\n",
    "         'RandomForestClassifier': RandomForestClassifier(n_estimators = 1000, criterion = \"\"),\n",
    "         'GradientBoostingClassifier': GradientBoostingClassifier(),\n",
    "         'AdaBoostClassifier': AdaBoostClassifier() }"
   ]
  },
  {
   "cell_type": "code",
   "execution_count": 114,
   "id": "11ef48b1-fe95-4940-aaa8-345f67bc47e5",
   "metadata": {},
   "outputs": [],
   "source": [
    "#강사님 모델링 방법"
   ]
  },
  {
   "cell_type": "code",
   "execution_count": 115,
   "id": "59133580-5de2-4c69-8e11-11151ce20b1a",
   "metadata": {},
   "outputs": [],
   "source": [
    "model = {'LogisticRegression': LogisticRegression(),\n",
    "         'DecisionTreeClassifier':DecisionTreeClassifier(),\n",
    "         'RandomForestClassifier': RandomForestClassifier(),\n",
    "         'GradientBoostingClassifier': GradientBoostingClassifier(),\n",
    "         'AdaBoostClassifier': AdaBoostClassifier() }"
   ]
  },
  {
   "cell_type": "code",
   "execution_count": 118,
   "id": "917e5fb3-4cb2-47e0-a801-fd1208efe40d",
   "metadata": {},
   "outputs": [
    {
     "name": "stdout",
     "output_type": "stream",
     "text": [
      "[        LogisticRegression] train:82.58 / test: 82.58\n",
      "[    DecisionTreeClassifier] train:90.31 / test: 90.31\n",
      "[    RandomForestClassifier] train:90.31 / test: 90.31\n",
      "[GradientBoostingClassifier] train:86.66 / test: 86.66\n",
      "[        AdaBoostClassifier] train:81.32 / test: 81.32\n"
     ]
    }
   ],
   "source": [
    "model_1 = []\n",
    "train_1 = []\n",
    "test_1 = []\n",
    "\n",
    "for m in model :\n",
    "    clf = model[m]\n",
    "    clf.fit(train_input, train_output)\n",
    "    train_score = clf.score(train_input, train_output) * 100\n",
    "    test_score = clf.score(train_input, train_output) * 100\n",
    "    \n",
    "    print((f\"[%26s] train:%.2f / test: %.2f\") % (m, train_score, test_score))"
   ]
  },
  {
   "cell_type": "code",
   "execution_count": 119,
   "id": "3b2ee61c-9d5e-4f37-a8c1-ca5aaaa13c40",
   "metadata": {},
   "outputs": [],
   "source": [
    "data = list(zip(model_1, train_1, test_1))"
   ]
  },
  {
   "cell_type": "code",
   "execution_count": 126,
   "id": "c1673dfe-3efb-40ba-9787-0306b9c83c55",
   "metadata": {},
   "outputs": [],
   "source": [
    "df = pd.DataFrame(data, columns = ['mode1', 'train', 'test'])"
   ]
  },
  {
   "cell_type": "code",
   "execution_count": 133,
   "id": "e181866e-9d0f-46f0-9286-886d903de08f",
   "metadata": {},
   "outputs": [
    {
     "data": {
      "text/html": [
       "<div>\n",
       "<style scoped>\n",
       "    .dataframe tbody tr th:only-of-type {\n",
       "        vertical-align: middle;\n",
       "    }\n",
       "\n",
       "    .dataframe tbody tr th {\n",
       "        vertical-align: top;\n",
       "    }\n",
       "\n",
       "    .dataframe thead th {\n",
       "        text-align: right;\n",
       "    }\n",
       "</style>\n",
       "<table border=\"1\" class=\"dataframe\">\n",
       "  <thead>\n",
       "    <tr style=\"text-align: right;\">\n",
       "      <th></th>\n",
       "      <th>mode1</th>\n",
       "      <th>train</th>\n",
       "      <th>test</th>\n",
       "    </tr>\n",
       "  </thead>\n",
       "  <tbody>\n",
       "  </tbody>\n",
       "</table>\n",
       "</div>"
      ],
      "text/plain": [
       "Empty DataFrame\n",
       "Columns: [mode1, train, test]\n",
       "Index: []"
      ]
     },
     "execution_count": 133,
     "metadata": {},
     "output_type": "execute_result"
    }
   ],
   "source": [
    "df"
   ]
  },
  {
   "cell_type": "code",
   "execution_count": null,
   "id": "182073b8-cce5-49c8-8754-1b77434e4b03",
   "metadata": {},
   "outputs": [
    {
     "data": {
      "text/html": [
       "<div>\n",
       "<style scoped>\n",
       "    .dataframe tbody tr th:only-of-type {\n",
       "        vertical-align: middle;\n",
       "    }\n",
       "\n",
       "    .dataframe tbody tr th {\n",
       "        vertical-align: top;\n",
       "    }\n",
       "\n",
       "    .dataframe thead th {\n",
       "        text-align: right;\n",
       "    }\n",
       "</style>\n",
       "<table border=\"1\" class=\"dataframe\">\n",
       "  <thead>\n",
       "    <tr style=\"text-align: right;\">\n",
       "      <th></th>\n",
       "      <th>mode1</th>\n",
       "      <th>train</th>\n",
       "      <th>test</th>\n",
       "    </tr>\n",
       "  </thead>\n",
       "  <tbody>\n",
       "  </tbody>\n",
       "</table>\n",
       "</div>"
      ],
      "text/plain": [
       "Empty DataFrame\n",
       "Columns: [mode1, train, test]\n",
       "Index: []"
      ]
     },
     "execution_count": 125,
     "metadata": {},
     "output_type": "execute_result"
    }
   ],
   "source": [
    "df.sort_values('train', ascending = False)"
   ]
  },
  {
   "cell_type": "code",
   "execution_count": null,
   "id": "02532f9c-b2c1-4fad-a92b-4ddc0c5b3a29",
   "metadata": {},
   "outputs": [],
   "source": []
  },
  {
   "cell_type": "code",
   "execution_count": null,
   "id": "a16ed9cd-838a-415c-9174-93c444cd95aa",
   "metadata": {},
   "outputs": [],
   "source": []
  },
  {
   "cell_type": "code",
   "execution_count": null,
   "id": "787609a6-dbb1-4c5c-ac29-9b311affb564",
   "metadata": {},
   "outputs": [],
   "source": [
    "# test에 대한 모델링 작업"
   ]
  },
  {
   "cell_type": "code",
   "execution_count": null,
   "id": "5ce8fc0a-bfb5-4be5-a53a-452bc9513050",
   "metadata": {},
   "outputs": [],
   "source": [
    "sub = pd.read_csv('titanic/submission.csv')"
   ]
  },
  {
   "cell_type": "code",
   "execution_count": null,
   "id": "b669ba40-81ad-4841-9a07-04b28145e26b",
   "metadata": {},
   "outputs": [],
   "source": [
    "answer = sub['Survived']"
   ]
  },
  {
   "cell_type": "code",
   "execution_count": null,
   "id": "484ad3cc-1311-4ec1-b647-22456fcf3b99",
   "metadata": {
    "tags": []
   },
   "outputs": [],
   "source": [
    "test #실제 데이터 프레임을 "
   ]
  },
  {
   "cell_type": "code",
   "execution_count": null,
   "id": "7e5318c8-d0db-4537-84bb-b130ebedda01",
   "metadata": {},
   "outputs": [],
   "source": [
    "submission = load_model.predict(test) #예측한 정답은 sub에 채웠다."
   ]
  },
  {
   "cell_type": "code",
   "execution_count": null,
   "id": "6c8e4ecf-b0a2-4ccf-b064-e5eb34b16685",
   "metadata": {
    "tags": []
   },
   "outputs": [],
   "source": [
    "submission"
   ]
  },
  {
   "cell_type": "code",
   "execution_count": null,
   "id": "f4b056c0-885b-4393-87e2-06b1d3eff48a",
   "metadata": {},
   "outputs": [],
   "source": [
    "accuracy_score(answer, submission)"
   ]
  },
  {
   "cell_type": "code",
   "execution_count": null,
   "id": "06dbfcda-6eac-4229-9a6f-31d34fcac583",
   "metadata": {},
   "outputs": [],
   "source": [
    "accuracy_score(answer, submission) * 100"
   ]
  },
  {
   "cell_type": "code",
   "execution_count": null,
   "id": "68d6e3dd-576c-450f-920b-779a10e368f8",
   "metadata": {},
   "outputs": [],
   "source": [
    "test.describe()"
   ]
  },
  {
   "cell_type": "code",
   "execution_count": null,
   "id": "91dacefd-ae0b-4f9b-8747-8bb2ffddb36b",
   "metadata": {},
   "outputs": [],
   "source": [
    "# (참고)\n",
    "# X AI: 설명 가능한 인공지능"
   ]
  },
  {
   "cell_type": "markdown",
   "id": "ee8b92e1-0d80-4c08-bd7f-991d4331dc12",
   "metadata": {},
   "source": [
    "머신러닝이나 AI 등은 실험적인 학문 = 경험적인 학문이다."
   ]
  },
  {
   "cell_type": "code",
   "execution_count": null,
   "id": "36e8ce2b-8c7f-4a5f-a6cb-b585699ece8b",
   "metadata": {},
   "outputs": [],
   "source": [
    "sub2 = pd.read_csv('titanic/submission2.csv')"
   ]
  },
  {
   "cell_type": "code",
   "execution_count": null,
   "id": "62e2c9c8-b437-45ae-8514-8c26d55298d8",
   "metadata": {},
   "outputs": [],
   "source": [
    "sub2"
   ]
  },
  {
   "cell_type": "code",
   "execution_count": null,
   "id": "2386fde6-d7f3-4e9d-aaea-d5894fe00e73",
   "metadata": {},
   "outputs": [],
   "source": [
    "sub2['Survived'] = submission"
   ]
  },
  {
   "cell_type": "code",
   "execution_count": null,
   "id": "e97ca86c-8662-42b4-bdbe-33efda63b638",
   "metadata": {},
   "outputs": [],
   "source": [
    "sub2"
   ]
  },
  {
   "cell_type": "code",
   "execution_count": null,
   "id": "08e14883-88b7-4ce0-90f6-030b41b7de93",
   "metadata": {},
   "outputs": [],
   "source": [
    "sub2.to_csv('result.csv', index = False)"
   ]
  },
  {
   "cell_type": "code",
   "execution_count": null,
   "id": "11ddd401-29c1-4187-88fb-b46dee0f18b7",
   "metadata": {},
   "outputs": [],
   "source": [
    "sub2['Survived'].value_counts()"
   ]
  },
  {
   "cell_type": "code",
   "execution_count": null,
   "id": "f22aa9de-f283-4771-b0f2-9f53cf853d51",
   "metadata": {},
   "outputs": [],
   "source": []
  }
 ],
 "metadata": {
  "kernelspec": {
   "display_name": "Python 3 (ipykernel)",
   "language": "python",
   "name": "python3"
  },
  "language_info": {
   "codemirror_mode": {
    "name": "ipython",
    "version": 3
   },
   "file_extension": ".py",
   "mimetype": "text/x-python",
   "name": "python",
   "nbconvert_exporter": "python",
   "pygments_lexer": "ipython3",
   "version": "3.9.12"
  }
 },
 "nbformat": 4,
 "nbformat_minor": 5
}
