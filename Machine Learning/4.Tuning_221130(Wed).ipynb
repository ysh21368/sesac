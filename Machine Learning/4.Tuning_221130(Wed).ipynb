{
 "cells": [
  {
   "cell_type": "code",
   "execution_count": null,
   "id": "9f8c37f3-9974-40f0-bded-dc4d3d61e79d",
   "metadata": {},
   "outputs": [],
   "source": [
    "# 오전 수업\n",
    "# GridSearchCV(좋은 파라미터 찾기 위해 사용) vs Cross Validation(해도되고 안해도 되지만, 교차 검증을 해주면 더 좋기 때문에!) "
   ]
  },
  {
   "cell_type": "code",
   "execution_count": 1,
   "id": "2060a19f-0c18-4761-bd22-99dc7fd486e8",
   "metadata": {},
   "outputs": [],
   "source": [
    "from sklearn import datasets\n",
    "from sklearn.neighbors import KNeighborsClassifier\n",
    "import warnings\n",
    "warnings.filterwarnings('ignore')"
   ]
  },
  {
   "cell_type": "code",
   "execution_count": 5,
   "id": "366ca45b-fbef-4125-8d1f-be91f4aecaf9",
   "metadata": {},
   "outputs": [],
   "source": [
    "digits = datasets.load_digits()"
   ]
  },
  {
   "cell_type": "code",
   "execution_count": 11,
   "id": "15ea63f4-d9a2-47f4-bffd-acafaffbeb3f",
   "metadata": {},
   "outputs": [
    {
     "data": {
      "text/plain": [
       "array([0, 1, 2, ..., 8, 9, 8])"
      ]
     },
     "execution_count": 11,
     "metadata": {},
     "output_type": "execute_result"
    }
   ],
   "source": [
    "digits.target"
   ]
  },
  {
   "cell_type": "code",
   "execution_count": 12,
   "id": "d7c08657-8137-480c-bb14-f022f220a382",
   "metadata": {},
   "outputs": [
    {
     "data": {
      "text/plain": [
       "array([ 0.,  0.,  5., 13.,  9.,  1.,  0.,  0.,  0.,  0., 13., 15., 10.,\n",
       "       15.,  5.,  0.,  0.,  3., 15.,  2.,  0., 11.,  8.,  0.,  0.,  4.,\n",
       "       12.,  0.,  0.,  8.,  8.,  0.,  0.,  5.,  8.,  0.,  0.,  9.,  8.,\n",
       "        0.,  0.,  4., 11.,  0.,  1., 12.,  7.,  0.,  0.,  2., 14.,  5.,\n",
       "       10., 12.,  0.,  0.,  0.,  0.,  6., 13., 10.,  0.,  0.,  0.])"
      ]
     },
     "execution_count": 12,
     "metadata": {},
     "output_type": "execute_result"
    }
   ],
   "source": [
    "digits.data[0] #이미지를 숫자로 표현해놓은것"
   ]
  },
  {
   "cell_type": "code",
   "execution_count": 13,
   "id": "c1eb8511-1d0b-409d-a9ad-968e716dd8ed",
   "metadata": {},
   "outputs": [],
   "source": [
    "knn = KNeighborsClassifier()"
   ]
  },
  {
   "cell_type": "code",
   "execution_count": 14,
   "id": "6af47d49-d41f-477b-8384-6db2b8a09292",
   "metadata": {},
   "outputs": [
    {
     "data": {
      "text/plain": [
       "{'algorithm': 'auto',\n",
       " 'leaf_size': 30,\n",
       " 'metric': 'minkowski',\n",
       " 'metric_params': None,\n",
       " 'n_jobs': None,\n",
       " 'n_neighbors': 5,\n",
       " 'p': 2,\n",
       " 'weights': 'uniform'}"
      ]
     },
     "execution_count": 14,
     "metadata": {},
     "output_type": "execute_result"
    }
   ],
   "source": [
    "knn.get_params()"
   ]
  },
  {
   "cell_type": "code",
   "execution_count": 18,
   "id": "40a8bdae-fc96-4378-bf15-058389948c77",
   "metadata": {},
   "outputs": [
    {
     "data": {
      "text/plain": [
       "dict_keys(['algorithm', 'leaf_size', 'metric', 'metric_params', 'n_jobs', 'n_neighbors', 'p', 'weights'])"
      ]
     },
     "execution_count": 18,
     "metadata": {},
     "output_type": "execute_result"
    }
   ],
   "source": [
    "knn.get_params().keys()"
   ]
  },
  {
   "cell_type": "code",
   "execution_count": 19,
   "id": "d75f2871-ad74-4b93-8afd-21c82214dd3e",
   "metadata": {},
   "outputs": [],
   "source": [
    "param_grid = {\"n_neighbors\" : range(1, 20)}"
   ]
  },
  {
   "cell_type": "code",
   "execution_count": 20,
   "id": "2672eb24-941d-4d22-ae07-1a2cfb45a0e4",
   "metadata": {},
   "outputs": [
    {
     "data": {
      "text/plain": [
       "{'n_neighbors': range(1, 20)}"
      ]
     },
     "execution_count": 20,
     "metadata": {},
     "output_type": "execute_result"
    }
   ],
   "source": [
    "param_grid"
   ]
  },
  {
   "cell_type": "code",
   "execution_count": 23,
   "id": "fada9e62-bf28-4ea6-a41f-4395c08edc7a",
   "metadata": {},
   "outputs": [
    {
     "data": {
      "text/plain": [
       "1797"
      ]
     },
     "execution_count": 23,
     "metadata": {},
     "output_type": "execute_result"
    }
   ],
   "source": [
    "len(digits.data)"
   ]
  },
  {
   "cell_type": "code",
   "execution_count": 22,
   "id": "feef4fb3-e5ae-43d6-8a0d-52ec670e4fdd",
   "metadata": {},
   "outputs": [],
   "source": [
    "from sklearn.model_selection import GridSearchCV"
   ]
  },
  {
   "cell_type": "code",
   "execution_count": 25,
   "id": "ea0c4292-93d5-4d4c-992e-9e3e096b8ac4",
   "metadata": {},
   "outputs": [],
   "source": [
    "# 좋은 파라미터를 찾기 위해 grid_model 사용\n",
    "grid_model = GridSearchCV(knn, return_train_score = True, param_grid = param_grid, cv = 10, verbose = 3, scoring = 'f1') # verbose라는 용어는 IT에서 많이 사용한다."
   ]
  },
  {
   "cell_type": "code",
   "execution_count": 26,
   "id": "ebaa050e-09e5-4024-bfbb-0b15f1c2dd03",
   "metadata": {
    "collapsed": true,
    "jupyter": {
     "outputs_hidden": true
    },
    "tags": []
   },
   "outputs": [
    {
     "name": "stdout",
     "output_type": "stream",
     "text": [
      "Fitting 10 folds for each of 19 candidates, totalling 190 fits\n",
      "[CV 1/10] END n_neighbors=1;, score=(train=1.000, test=0.933) total time=   0.0s\n",
      "[CV 2/10] END n_neighbors=1;, score=(train=1.000, test=0.994) total time=   0.0s\n",
      "[CV 3/10] END n_neighbors=1;, score=(train=1.000, test=0.972) total time=   0.0s\n",
      "[CV 4/10] END n_neighbors=1;, score=(train=1.000, test=0.972) total time=   0.0s\n",
      "[CV 5/10] END n_neighbors=1;, score=(train=1.000, test=0.967) total time=   0.0s\n",
      "[CV 6/10] END n_neighbors=1;, score=(train=1.000, test=0.983) total time=   0.0s\n",
      "[CV 7/10] END n_neighbors=1;, score=(train=1.000, test=0.994) total time=   0.0s\n",
      "[CV 8/10] END n_neighbors=1;, score=(train=1.000, test=0.989) total time=   0.0s\n",
      "[CV 9/10] END n_neighbors=1;, score=(train=1.000, test=0.978) total time=   0.0s\n",
      "[CV 10/10] END n_neighbors=1;, score=(train=1.000, test=0.966) total time=   0.0s\n",
      "[CV 1/10] END n_neighbors=2;, score=(train=0.993, test=0.939) total time=   0.0s\n",
      "[CV 2/10] END n_neighbors=2;, score=(train=0.990, test=0.989) total time=   0.0s\n",
      "[CV 3/10] END n_neighbors=2;, score=(train=0.991, test=0.989) total time=   0.0s\n",
      "[CV 4/10] END n_neighbors=2;, score=(train=0.992, test=0.961) total time=   0.0s\n",
      "[CV 5/10] END n_neighbors=2;, score=(train=0.991, test=0.961) total time=   0.0s\n",
      "[CV 6/10] END n_neighbors=2;, score=(train=0.991, test=0.983) total time=   0.0s\n",
      "[CV 7/10] END n_neighbors=2;, score=(train=0.991, test=0.989) total time=   0.0s\n",
      "[CV 8/10] END n_neighbors=2;, score=(train=0.989, test=0.978) total time=   0.0s\n",
      "[CV 9/10] END n_neighbors=2;, score=(train=0.991, test=0.978) total time=   0.0s\n",
      "[CV 10/10] END n_neighbors=2;, score=(train=0.990, test=0.978) total time=   0.0s\n",
      "[CV 1/10] END n_neighbors=3;, score=(train=0.994, test=0.939) total time=   0.0s\n",
      "[CV 2/10] END n_neighbors=3;, score=(train=0.993, test=1.000) total time=   0.0s\n",
      "[CV 3/10] END n_neighbors=3;, score=(train=0.993, test=0.989) total time=   0.0s\n",
      "[CV 4/10] END n_neighbors=3;, score=(train=0.994, test=0.972) total time=   0.0s\n",
      "[CV 5/10] END n_neighbors=3;, score=(train=0.994, test=0.967) total time=   0.0s\n",
      "[CV 6/10] END n_neighbors=3;, score=(train=0.992, test=0.978) total time=   0.0s\n",
      "[CV 7/10] END n_neighbors=3;, score=(train=0.994, test=0.983) total time=   0.0s\n",
      "[CV 8/10] END n_neighbors=3;, score=(train=0.993, test=0.983) total time=   0.0s\n",
      "[CV 9/10] END n_neighbors=3;, score=(train=0.993, test=0.983) total time=   0.0s\n",
      "[CV 10/10] END n_neighbors=3;, score=(train=0.993, test=0.972) total time=   0.0s\n",
      "[CV 1/10] END n_neighbors=4;, score=(train=0.993, test=0.933) total time=   0.0s\n",
      "[CV 2/10] END n_neighbors=4;, score=(train=0.990, test=0.983) total time=   0.0s\n",
      "[CV 3/10] END n_neighbors=4;, score=(train=0.991, test=0.983) total time=   0.0s\n",
      "[CV 4/10] END n_neighbors=4;, score=(train=0.994, test=0.961) total time=   0.0s\n",
      "[CV 5/10] END n_neighbors=4;, score=(train=0.993, test=0.967) total time=   0.0s\n",
      "[CV 6/10] END n_neighbors=4;, score=(train=0.991, test=0.983) total time=   0.0s\n",
      "[CV 7/10] END n_neighbors=4;, score=(train=0.993, test=0.983) total time=   0.0s\n",
      "[CV 8/10] END n_neighbors=4;, score=(train=0.991, test=0.978) total time=   0.0s\n",
      "[CV 9/10] END n_neighbors=4;, score=(train=0.991, test=0.983) total time=   0.0s\n",
      "[CV 10/10] END n_neighbors=4;, score=(train=0.991, test=0.966) total time=   0.0s\n",
      "[CV 1/10] END n_neighbors=5;, score=(train=0.990, test=0.928) total time=   0.0s\n",
      "[CV 2/10] END n_neighbors=5;, score=(train=0.992, test=0.983) total time=   0.0s\n",
      "[CV 3/10] END n_neighbors=5;, score=(train=0.991, test=0.978) total time=   0.0s\n",
      "[CV 4/10] END n_neighbors=5;, score=(train=0.991, test=0.956) total time=   0.0s\n",
      "[CV 5/10] END n_neighbors=5;, score=(train=0.990, test=0.972) total time=   0.0s\n",
      "[CV 6/10] END n_neighbors=5;, score=(train=0.989, test=0.972) total time=   0.0s\n",
      "[CV 7/10] END n_neighbors=5;, score=(train=0.991, test=0.989) total time=   0.0s\n",
      "[CV 8/10] END n_neighbors=5;, score=(train=0.991, test=0.983) total time=   0.0s\n",
      "[CV 9/10] END n_neighbors=5;, score=(train=0.990, test=0.983) total time=   0.0s\n",
      "[CV 10/10] END n_neighbors=5;, score=(train=0.991, test=0.966) total time=   0.0s\n",
      "[CV 1/10] END n_neighbors=6;, score=(train=0.989, test=0.928) total time=   0.0s\n",
      "[CV 2/10] END n_neighbors=6;, score=(train=0.988, test=0.972) total time=   0.0s\n",
      "[CV 3/10] END n_neighbors=6;, score=(train=0.990, test=0.972) total time=   0.0s\n",
      "[CV 4/10] END n_neighbors=6;, score=(train=0.990, test=0.956) total time=   0.0s\n",
      "[CV 5/10] END n_neighbors=6;, score=(train=0.990, test=0.972) total time=   0.0s\n",
      "[CV 6/10] END n_neighbors=6;, score=(train=0.989, test=0.972) total time=   0.0s\n",
      "[CV 7/10] END n_neighbors=6;, score=(train=0.990, test=0.989) total time=   0.0s\n",
      "[CV 8/10] END n_neighbors=6;, score=(train=0.988, test=0.983) total time=   0.0s\n",
      "[CV 9/10] END n_neighbors=6;, score=(train=0.989, test=0.972) total time=   0.0s\n",
      "[CV 10/10] END n_neighbors=6;, score=(train=0.990, test=0.966) total time=   0.0s\n",
      "[CV 1/10] END n_neighbors=7;, score=(train=0.989, test=0.922) total time=   0.0s\n",
      "[CV 2/10] END n_neighbors=7;, score=(train=0.990, test=0.978) total time=   0.0s\n",
      "[CV 3/10] END n_neighbors=7;, score=(train=0.992, test=0.978) total time=   0.0s\n",
      "[CV 4/10] END n_neighbors=7;, score=(train=0.990, test=0.950) total time=   0.0s\n",
      "[CV 5/10] END n_neighbors=7;, score=(train=0.991, test=0.978) total time=   0.0s\n",
      "[CV 6/10] END n_neighbors=7;, score=(train=0.990, test=0.961) total time=   0.0s\n",
      "[CV 7/10] END n_neighbors=7;, score=(train=0.989, test=0.989) total time=   0.0s\n",
      "[CV 8/10] END n_neighbors=7;, score=(train=0.989, test=0.989) total time=   0.0s\n",
      "[CV 9/10] END n_neighbors=7;, score=(train=0.990, test=0.972) total time=   0.0s\n",
      "[CV 10/10] END n_neighbors=7;, score=(train=0.989, test=0.961) total time=   0.0s\n",
      "[CV 1/10] END n_neighbors=8;, score=(train=0.986, test=0.922) total time=   0.0s\n",
      "[CV 2/10] END n_neighbors=8;, score=(train=0.988, test=0.978) total time=   0.0s\n",
      "[CV 3/10] END n_neighbors=8;, score=(train=0.991, test=0.972) total time=   0.0s\n",
      "[CV 4/10] END n_neighbors=8;, score=(train=0.989, test=0.950) total time=   0.0s\n",
      "[CV 5/10] END n_neighbors=8;, score=(train=0.989, test=0.967) total time=   0.0s\n",
      "[CV 6/10] END n_neighbors=8;, score=(train=0.989, test=0.972) total time=   0.0s\n",
      "[CV 7/10] END n_neighbors=8;, score=(train=0.988, test=0.989) total time=   0.0s\n",
      "[CV 8/10] END n_neighbors=8;, score=(train=0.987, test=0.978) total time=   0.0s\n",
      "[CV 9/10] END n_neighbors=8;, score=(train=0.989, test=0.966) total time=   0.0s\n",
      "[CV 10/10] END n_neighbors=8;, score=(train=0.989, test=0.955) total time=   0.0s\n",
      "[CV 1/10] END n_neighbors=9;, score=(train=0.986, test=0.917) total time=   0.0s\n",
      "[CV 2/10] END n_neighbors=9;, score=(train=0.986, test=0.967) total time=   0.0s\n",
      "[CV 3/10] END n_neighbors=9;, score=(train=0.990, test=0.978) total time=   0.0s\n",
      "[CV 4/10] END n_neighbors=9;, score=(train=0.989, test=0.950) total time=   0.0s\n",
      "[CV 5/10] END n_neighbors=9;, score=(train=0.989, test=0.978) total time=   0.0s\n",
      "[CV 6/10] END n_neighbors=9;, score=(train=0.988, test=0.978) total time=   0.0s\n",
      "[CV 7/10] END n_neighbors=9;, score=(train=0.988, test=0.983) total time=   0.0s\n",
      "[CV 8/10] END n_neighbors=9;, score=(train=0.986, test=0.983) total time=   0.0s\n",
      "[CV 9/10] END n_neighbors=9;, score=(train=0.988, test=0.961) total time=   0.0s\n",
      "[CV 10/10] END n_neighbors=9;, score=(train=0.989, test=0.955) total time=   0.0s\n",
      "[CV 1/10] END n_neighbors=10;, score=(train=0.985, test=0.917) total time=   0.0s\n",
      "[CV 2/10] END n_neighbors=10;, score=(train=0.986, test=0.961) total time=   0.0s\n",
      "[CV 3/10] END n_neighbors=10;, score=(train=0.988, test=0.972) total time=   0.0s\n",
      "[CV 4/10] END n_neighbors=10;, score=(train=0.985, test=0.939) total time=   0.0s\n",
      "[CV 5/10] END n_neighbors=10;, score=(train=0.985, test=0.967) total time=   0.0s\n",
      "[CV 6/10] END n_neighbors=10;, score=(train=0.986, test=0.983) total time=   0.0s\n",
      "[CV 7/10] END n_neighbors=10;, score=(train=0.986, test=0.989) total time=   0.0s\n",
      "[CV 8/10] END n_neighbors=10;, score=(train=0.984, test=0.978) total time=   0.0s\n",
      "[CV 9/10] END n_neighbors=10;, score=(train=0.986, test=0.961) total time=   0.0s\n",
      "[CV 10/10] END n_neighbors=10;, score=(train=0.988, test=0.955) total time=   0.0s\n",
      "[CV 1/10] END n_neighbors=11;, score=(train=0.986, test=0.922) total time=   0.0s\n",
      "[CV 2/10] END n_neighbors=11;, score=(train=0.985, test=0.967) total time=   0.0s\n",
      "[CV 3/10] END n_neighbors=11;, score=(train=0.989, test=0.978) total time=   0.0s\n",
      "[CV 4/10] END n_neighbors=11;, score=(train=0.988, test=0.939) total time=   0.0s\n",
      "[CV 5/10] END n_neighbors=11;, score=(train=0.988, test=0.972) total time=   0.0s\n",
      "[CV 6/10] END n_neighbors=11;, score=(train=0.987, test=0.983) total time=   0.0s\n",
      "[CV 7/10] END n_neighbors=11;, score=(train=0.989, test=0.989) total time=   0.0s\n",
      "[CV 8/10] END n_neighbors=11;, score=(train=0.986, test=0.983) total time=   0.0s\n",
      "[CV 9/10] END n_neighbors=11;, score=(train=0.987, test=0.950) total time=   0.0s\n",
      "[CV 10/10] END n_neighbors=11;, score=(train=0.989, test=0.955) total time=   0.0s\n",
      "[CV 1/10] END n_neighbors=12;, score=(train=0.985, test=0.917) total time=   0.0s\n",
      "[CV 2/10] END n_neighbors=12;, score=(train=0.986, test=0.967) total time=   0.0s\n",
      "[CV 3/10] END n_neighbors=12;, score=(train=0.988, test=0.978) total time=   0.0s\n",
      "[CV 4/10] END n_neighbors=12;, score=(train=0.986, test=0.944) total time=   0.0s\n",
      "[CV 5/10] END n_neighbors=12;, score=(train=0.989, test=0.967) total time=   0.0s\n",
      "[CV 6/10] END n_neighbors=12;, score=(train=0.987, test=0.983) total time=   0.0s\n",
      "[CV 7/10] END n_neighbors=12;, score=(train=0.987, test=0.989) total time=   0.0s\n",
      "[CV 8/10] END n_neighbors=12;, score=(train=0.985, test=0.983) total time=   0.0s\n",
      "[CV 9/10] END n_neighbors=12;, score=(train=0.986, test=0.961) total time=   0.0s\n",
      "[CV 10/10] END n_neighbors=12;, score=(train=0.988, test=0.955) total time=   0.0s\n",
      "[CV 1/10] END n_neighbors=13;, score=(train=0.984, test=0.917) total time=   0.0s\n",
      "[CV 2/10] END n_neighbors=13;, score=(train=0.986, test=0.967) total time=   0.0s\n",
      "[CV 3/10] END n_neighbors=13;, score=(train=0.988, test=0.978) total time=   0.0s\n",
      "[CV 4/10] END n_neighbors=13;, score=(train=0.986, test=0.939) total time=   0.0s\n",
      "[CV 5/10] END n_neighbors=13;, score=(train=0.986, test=0.972) total time=   0.0s\n",
      "[CV 6/10] END n_neighbors=13;, score=(train=0.985, test=0.983) total time=   0.0s\n",
      "[CV 7/10] END n_neighbors=13;, score=(train=0.986, test=0.989) total time=   0.0s\n",
      "[CV 8/10] END n_neighbors=13;, score=(train=0.985, test=0.983) total time=   0.0s\n",
      "[CV 9/10] END n_neighbors=13;, score=(train=0.987, test=0.950) total time=   0.0s\n",
      "[CV 10/10] END n_neighbors=13;, score=(train=0.986, test=0.955) total time=   0.0s\n",
      "[CV 1/10] END n_neighbors=14;, score=(train=0.985, test=0.911) total time=   0.0s\n",
      "[CV 2/10] END n_neighbors=14;, score=(train=0.985, test=0.972) total time=   0.0s\n",
      "[CV 3/10] END n_neighbors=14;, score=(train=0.988, test=0.978) total time=   0.0s\n",
      "[CV 4/10] END n_neighbors=14;, score=(train=0.986, test=0.944) total time=   0.0s\n",
      "[CV 5/10] END n_neighbors=14;, score=(train=0.985, test=0.972) total time=   0.0s\n",
      "[CV 6/10] END n_neighbors=14;, score=(train=0.985, test=0.983) total time=   0.0s\n",
      "[CV 7/10] END n_neighbors=14;, score=(train=0.985, test=0.989) total time=   0.0s\n",
      "[CV 8/10] END n_neighbors=14;, score=(train=0.982, test=0.983) total time=   0.0s\n",
      "[CV 9/10] END n_neighbors=14;, score=(train=0.986, test=0.944) total time=   0.0s\n",
      "[CV 10/10] END n_neighbors=14;, score=(train=0.985, test=0.955) total time=   0.0s\n",
      "[CV 1/10] END n_neighbors=15;, score=(train=0.985, test=0.917) total time=   0.0s\n",
      "[CV 2/10] END n_neighbors=15;, score=(train=0.985, test=0.967) total time=   0.0s\n",
      "[CV 3/10] END n_neighbors=15;, score=(train=0.987, test=0.978) total time=   0.0s\n",
      "[CV 4/10] END n_neighbors=15;, score=(train=0.984, test=0.944) total time=   0.0s\n",
      "[CV 5/10] END n_neighbors=15;, score=(train=0.984, test=0.978) total time=   0.0s\n",
      "[CV 6/10] END n_neighbors=15;, score=(train=0.983, test=0.972) total time=   0.0s\n",
      "[CV 7/10] END n_neighbors=15;, score=(train=0.983, test=0.983) total time=   0.0s\n",
      "[CV 8/10] END n_neighbors=15;, score=(train=0.981, test=0.983) total time=   0.0s\n",
      "[CV 9/10] END n_neighbors=15;, score=(train=0.985, test=0.944) total time=   0.0s\n",
      "[CV 10/10] END n_neighbors=15;, score=(train=0.986, test=0.955) total time=   0.0s\n",
      "[CV 1/10] END n_neighbors=16;, score=(train=0.983, test=0.917) total time=   0.0s\n",
      "[CV 2/10] END n_neighbors=16;, score=(train=0.984, test=0.967) total time=   0.0s\n",
      "[CV 3/10] END n_neighbors=16;, score=(train=0.985, test=0.978) total time=   0.0s\n",
      "[CV 4/10] END n_neighbors=16;, score=(train=0.983, test=0.939) total time=   0.0s\n",
      "[CV 5/10] END n_neighbors=16;, score=(train=0.985, test=0.972) total time=   0.0s\n",
      "[CV 6/10] END n_neighbors=16;, score=(train=0.981, test=0.983) total time=   0.0s\n",
      "[CV 7/10] END n_neighbors=16;, score=(train=0.982, test=0.978) total time=   0.0s\n",
      "[CV 8/10] END n_neighbors=16;, score=(train=0.980, test=0.972) total time=   0.0s\n",
      "[CV 9/10] END n_neighbors=16;, score=(train=0.984, test=0.955) total time=   0.0s\n",
      "[CV 10/10] END n_neighbors=16;, score=(train=0.983, test=0.961) total time=   0.0s\n",
      "[CV 1/10] END n_neighbors=17;, score=(train=0.982, test=0.917) total time=   0.0s\n",
      "[CV 2/10] END n_neighbors=17;, score=(train=0.982, test=0.967) total time=   0.0s\n",
      "[CV 3/10] END n_neighbors=17;, score=(train=0.986, test=0.978) total time=   0.0s\n",
      "[CV 4/10] END n_neighbors=17;, score=(train=0.983, test=0.944) total time=   0.0s\n",
      "[CV 5/10] END n_neighbors=17;, score=(train=0.984, test=0.972) total time=   0.0s\n",
      "[CV 6/10] END n_neighbors=17;, score=(train=0.983, test=0.978) total time=   0.0s\n",
      "[CV 7/10] END n_neighbors=17;, score=(train=0.981, test=0.983) total time=   0.0s\n",
      "[CV 8/10] END n_neighbors=17;, score=(train=0.981, test=0.972) total time=   0.0s\n",
      "[CV 9/10] END n_neighbors=17;, score=(train=0.985, test=0.944) total time=   0.0s\n",
      "[CV 10/10] END n_neighbors=17;, score=(train=0.984, test=0.961) total time=   0.0s\n",
      "[CV 1/10] END n_neighbors=18;, score=(train=0.981, test=0.922) total time=   0.0s\n",
      "[CV 2/10] END n_neighbors=18;, score=(train=0.982, test=0.967) total time=   0.0s\n",
      "[CV 3/10] END n_neighbors=18;, score=(train=0.985, test=0.978) total time=   0.0s\n",
      "[CV 4/10] END n_neighbors=18;, score=(train=0.983, test=0.939) total time=   0.0s\n",
      "[CV 5/10] END n_neighbors=18;, score=(train=0.984, test=0.972) total time=   0.0s\n",
      "[CV 6/10] END n_neighbors=18;, score=(train=0.981, test=0.978) total time=   0.0s\n",
      "[CV 7/10] END n_neighbors=18;, score=(train=0.981, test=0.983) total time=   0.0s\n",
      "[CV 8/10] END n_neighbors=18;, score=(train=0.980, test=0.972) total time=   0.0s\n",
      "[CV 9/10] END n_neighbors=18;, score=(train=0.983, test=0.955) total time=   0.0s\n",
      "[CV 10/10] END n_neighbors=18;, score=(train=0.982, test=0.961) total time=   0.0s\n",
      "[CV 1/10] END n_neighbors=19;, score=(train=0.983, test=0.922) total time=   0.0s\n",
      "[CV 2/10] END n_neighbors=19;, score=(train=0.981, test=0.967) total time=   0.0s\n",
      "[CV 3/10] END n_neighbors=19;, score=(train=0.985, test=0.978) total time=   0.0s\n",
      "[CV 4/10] END n_neighbors=19;, score=(train=0.982, test=0.944) total time=   0.0s\n",
      "[CV 5/10] END n_neighbors=19;, score=(train=0.983, test=0.972) total time=   0.0s\n",
      "[CV 6/10] END n_neighbors=19;, score=(train=0.980, test=0.972) total time=   0.0s\n",
      "[CV 7/10] END n_neighbors=19;, score=(train=0.980, test=0.983) total time=   0.0s\n",
      "[CV 8/10] END n_neighbors=19;, score=(train=0.980, test=0.978) total time=   0.0s\n",
      "[CV 9/10] END n_neighbors=19;, score=(train=0.983, test=0.944) total time=   0.0s\n",
      "[CV 10/10] END n_neighbors=19;, score=(train=0.981, test=0.961) total time=   0.0s\n"
     ]
    },
    {
     "data": {
      "text/plain": [
       "GridSearchCV(cv=10, estimator=KNeighborsClassifier(n_neighbors=19),\n",
       "             param_grid={'n_neighbors': range(1, 20)}, return_train_score=True,\n",
       "             verbose=3)"
      ]
     },
     "execution_count": 26,
     "metadata": {},
     "output_type": "execute_result"
    }
   ],
   "source": [
    "grid_model.fit(digits.data, digits.target)"
   ]
  },
  {
   "cell_type": "code",
   "execution_count": 34,
   "id": "fffc728a-240f-4661-bee4-86a08b794398",
   "metadata": {
    "collapsed": true,
    "jupyter": {
     "outputs_hidden": true
    },
    "tags": []
   },
   "outputs": [
    {
     "data": {
      "text/plain": [
       "dict_keys(['mean_fit_time', 'std_fit_time', 'mean_score_time', 'std_score_time', 'param_n_neighbors', 'params', 'split0_test_score', 'split1_test_score', 'split2_test_score', 'split3_test_score', 'split4_test_score', 'split5_test_score', 'split6_test_score', 'split7_test_score', 'split8_test_score', 'split9_test_score', 'mean_test_score', 'std_test_score', 'rank_test_score', 'split0_train_score', 'split1_train_score', 'split2_train_score', 'split3_train_score', 'split4_train_score', 'split5_train_score', 'split6_train_score', 'split7_train_score', 'split8_train_score', 'split9_train_score', 'mean_train_score', 'std_train_score'])"
      ]
     },
     "execution_count": 34,
     "metadata": {},
     "output_type": "execute_result"
    }
   ],
   "source": [
    "grid_model.cv_results_.keys()"
   ]
  },
  {
   "cell_type": "code",
   "execution_count": 35,
   "id": "c6ec289c-4e00-4b0c-8d55-4be3bfb4d606",
   "metadata": {},
   "outputs": [],
   "source": [
    "import pandas as pd"
   ]
  },
  {
   "cell_type": "code",
   "execution_count": 36,
   "id": "fc17320e-fc41-48ef-bfa4-e445cc8784a1",
   "metadata": {},
   "outputs": [],
   "source": [
    "colnames = ['param_n_neighbors', 'mean_train_score', 'mean_test_score']"
   ]
  },
  {
   "cell_type": "code",
   "execution_count": 37,
   "id": "4be383da-49ba-4e8e-bbcb-5a373c92cf87",
   "metadata": {},
   "outputs": [],
   "source": [
    "grid_df = pd.DataFrame(grid_model.cv_results_, columns = colnames)"
   ]
  },
  {
   "cell_type": "code",
   "execution_count": 38,
   "id": "37846ab0-e2bb-4750-bd77-ced3fbee480d",
   "metadata": {},
   "outputs": [],
   "source": [
    "grid_df.set_index('param_n_neighbors', inplace = True)"
   ]
  },
  {
   "cell_type": "code",
   "execution_count": 39,
   "id": "7bab04b1-b947-4475-a137-0694816a3ada",
   "metadata": {
    "collapsed": true,
    "jupyter": {
     "outputs_hidden": true
    },
    "tags": []
   },
   "outputs": [
    {
     "data": {
      "text/html": [
       "<div>\n",
       "<style scoped>\n",
       "    .dataframe tbody tr th:only-of-type {\n",
       "        vertical-align: middle;\n",
       "    }\n",
       "\n",
       "    .dataframe tbody tr th {\n",
       "        vertical-align: top;\n",
       "    }\n",
       "\n",
       "    .dataframe thead th {\n",
       "        text-align: right;\n",
       "    }\n",
       "</style>\n",
       "<table border=\"1\" class=\"dataframe\">\n",
       "  <thead>\n",
       "    <tr style=\"text-align: right;\">\n",
       "      <th></th>\n",
       "      <th>mean_train_score</th>\n",
       "      <th>mean_test_score</th>\n",
       "    </tr>\n",
       "    <tr>\n",
       "      <th>param_n_neighbors</th>\n",
       "      <th></th>\n",
       "      <th></th>\n",
       "    </tr>\n",
       "  </thead>\n",
       "  <tbody>\n",
       "    <tr>\n",
       "      <th>1</th>\n",
       "      <td>1.000000</td>\n",
       "      <td>0.974963</td>\n",
       "    </tr>\n",
       "    <tr>\n",
       "      <th>2</th>\n",
       "      <td>0.990973</td>\n",
       "      <td>0.974407</td>\n",
       "    </tr>\n",
       "    <tr>\n",
       "      <th>3</th>\n",
       "      <td>0.993322</td>\n",
       "      <td>0.976633</td>\n",
       "    </tr>\n",
       "    <tr>\n",
       "      <th>4</th>\n",
       "      <td>0.991776</td>\n",
       "      <td>0.972182</td>\n",
       "    </tr>\n",
       "    <tr>\n",
       "      <th>5</th>\n",
       "      <td>0.990540</td>\n",
       "      <td>0.971074</td>\n",
       "    </tr>\n",
       "    <tr>\n",
       "      <th>6</th>\n",
       "      <td>0.989427</td>\n",
       "      <td>0.968290</td>\n",
       "    </tr>\n",
       "    <tr>\n",
       "      <th>7</th>\n",
       "      <td>0.990107</td>\n",
       "      <td>0.967734</td>\n",
       "    </tr>\n",
       "    <tr>\n",
       "      <th>8</th>\n",
       "      <td>0.988685</td>\n",
       "      <td>0.964944</td>\n",
       "    </tr>\n",
       "    <tr>\n",
       "      <th>9</th>\n",
       "      <td>0.987881</td>\n",
       "      <td>0.964944</td>\n",
       "    </tr>\n",
       "    <tr>\n",
       "      <th>10</th>\n",
       "      <td>0.985841</td>\n",
       "      <td>0.962163</td>\n",
       "    </tr>\n",
       "    <tr>\n",
       "      <th>11</th>\n",
       "      <td>0.987510</td>\n",
       "      <td>0.963827</td>\n",
       "    </tr>\n",
       "    <tr>\n",
       "      <th>12</th>\n",
       "      <td>0.986583</td>\n",
       "      <td>0.964389</td>\n",
       "    </tr>\n",
       "    <tr>\n",
       "      <th>13</th>\n",
       "      <td>0.985779</td>\n",
       "      <td>0.963271</td>\n",
       "    </tr>\n",
       "    <tr>\n",
       "      <th>14</th>\n",
       "      <td>0.985037</td>\n",
       "      <td>0.963268</td>\n",
       "    </tr>\n",
       "    <tr>\n",
       "      <th>15</th>\n",
       "      <td>0.984418</td>\n",
       "      <td>0.962157</td>\n",
       "    </tr>\n",
       "    <tr>\n",
       "      <th>16</th>\n",
       "      <td>0.982996</td>\n",
       "      <td>0.962160</td>\n",
       "    </tr>\n",
       "    <tr>\n",
       "      <th>17</th>\n",
       "      <td>0.983058</td>\n",
       "      <td>0.961598</td>\n",
       "    </tr>\n",
       "    <tr>\n",
       "      <th>18</th>\n",
       "      <td>0.982193</td>\n",
       "      <td>0.962716</td>\n",
       "    </tr>\n",
       "    <tr>\n",
       "      <th>19</th>\n",
       "      <td>0.981760</td>\n",
       "      <td>0.962157</td>\n",
       "    </tr>\n",
       "  </tbody>\n",
       "</table>\n",
       "</div>"
      ],
      "text/plain": [
       "                   mean_train_score  mean_test_score\n",
       "param_n_neighbors                                   \n",
       "1                          1.000000         0.974963\n",
       "2                          0.990973         0.974407\n",
       "3                          0.993322         0.976633\n",
       "4                          0.991776         0.972182\n",
       "5                          0.990540         0.971074\n",
       "6                          0.989427         0.968290\n",
       "7                          0.990107         0.967734\n",
       "8                          0.988685         0.964944\n",
       "9                          0.987881         0.964944\n",
       "10                         0.985841         0.962163\n",
       "11                         0.987510         0.963827\n",
       "12                         0.986583         0.964389\n",
       "13                         0.985779         0.963271\n",
       "14                         0.985037         0.963268\n",
       "15                         0.984418         0.962157\n",
       "16                         0.982996         0.962160\n",
       "17                         0.983058         0.961598\n",
       "18                         0.982193         0.962716\n",
       "19                         0.981760         0.962157"
      ]
     },
     "execution_count": 39,
     "metadata": {},
     "output_type": "execute_result"
    }
   ],
   "source": [
    "grid_df"
   ]
  },
  {
   "cell_type": "code",
   "execution_count": 41,
   "id": "ab073b89-bf6f-4808-985d-72f15824b946",
   "metadata": {
    "collapsed": true,
    "jupyter": {
     "outputs_hidden": true
    },
    "tags": []
   },
   "outputs": [
    {
     "data": {
      "text/html": [
       "<div>\n",
       "<style scoped>\n",
       "    .dataframe tbody tr th:only-of-type {\n",
       "        vertical-align: middle;\n",
       "    }\n",
       "\n",
       "    .dataframe tbody tr th {\n",
       "        vertical-align: top;\n",
       "    }\n",
       "\n",
       "    .dataframe thead th {\n",
       "        text-align: right;\n",
       "    }\n",
       "</style>\n",
       "<table border=\"1\" class=\"dataframe\">\n",
       "  <thead>\n",
       "    <tr style=\"text-align: right;\">\n",
       "      <th></th>\n",
       "      <th>mean_train_score</th>\n",
       "      <th>mean_test_score</th>\n",
       "    </tr>\n",
       "    <tr>\n",
       "      <th>param_n_neighbors</th>\n",
       "      <th></th>\n",
       "      <th></th>\n",
       "    </tr>\n",
       "  </thead>\n",
       "  <tbody>\n",
       "    <tr>\n",
       "      <th>3</th>\n",
       "      <td>0.993322</td>\n",
       "      <td>0.976633</td>\n",
       "    </tr>\n",
       "    <tr>\n",
       "      <th>1</th>\n",
       "      <td>1.000000</td>\n",
       "      <td>0.974963</td>\n",
       "    </tr>\n",
       "    <tr>\n",
       "      <th>2</th>\n",
       "      <td>0.990973</td>\n",
       "      <td>0.974407</td>\n",
       "    </tr>\n",
       "    <tr>\n",
       "      <th>4</th>\n",
       "      <td>0.991776</td>\n",
       "      <td>0.972182</td>\n",
       "    </tr>\n",
       "    <tr>\n",
       "      <th>5</th>\n",
       "      <td>0.990540</td>\n",
       "      <td>0.971074</td>\n",
       "    </tr>\n",
       "    <tr>\n",
       "      <th>6</th>\n",
       "      <td>0.989427</td>\n",
       "      <td>0.968290</td>\n",
       "    </tr>\n",
       "    <tr>\n",
       "      <th>7</th>\n",
       "      <td>0.990107</td>\n",
       "      <td>0.967734</td>\n",
       "    </tr>\n",
       "    <tr>\n",
       "      <th>8</th>\n",
       "      <td>0.988685</td>\n",
       "      <td>0.964944</td>\n",
       "    </tr>\n",
       "    <tr>\n",
       "      <th>9</th>\n",
       "      <td>0.987881</td>\n",
       "      <td>0.964944</td>\n",
       "    </tr>\n",
       "    <tr>\n",
       "      <th>12</th>\n",
       "      <td>0.986583</td>\n",
       "      <td>0.964389</td>\n",
       "    </tr>\n",
       "    <tr>\n",
       "      <th>11</th>\n",
       "      <td>0.987510</td>\n",
       "      <td>0.963827</td>\n",
       "    </tr>\n",
       "    <tr>\n",
       "      <th>13</th>\n",
       "      <td>0.985779</td>\n",
       "      <td>0.963271</td>\n",
       "    </tr>\n",
       "    <tr>\n",
       "      <th>14</th>\n",
       "      <td>0.985037</td>\n",
       "      <td>0.963268</td>\n",
       "    </tr>\n",
       "    <tr>\n",
       "      <th>18</th>\n",
       "      <td>0.982193</td>\n",
       "      <td>0.962716</td>\n",
       "    </tr>\n",
       "    <tr>\n",
       "      <th>10</th>\n",
       "      <td>0.985841</td>\n",
       "      <td>0.962163</td>\n",
       "    </tr>\n",
       "    <tr>\n",
       "      <th>16</th>\n",
       "      <td>0.982996</td>\n",
       "      <td>0.962160</td>\n",
       "    </tr>\n",
       "    <tr>\n",
       "      <th>15</th>\n",
       "      <td>0.984418</td>\n",
       "      <td>0.962157</td>\n",
       "    </tr>\n",
       "    <tr>\n",
       "      <th>19</th>\n",
       "      <td>0.981760</td>\n",
       "      <td>0.962157</td>\n",
       "    </tr>\n",
       "    <tr>\n",
       "      <th>17</th>\n",
       "      <td>0.983058</td>\n",
       "      <td>0.961598</td>\n",
       "    </tr>\n",
       "  </tbody>\n",
       "</table>\n",
       "</div>"
      ],
      "text/plain": [
       "                   mean_train_score  mean_test_score\n",
       "param_n_neighbors                                   \n",
       "3                          0.993322         0.976633\n",
       "1                          1.000000         0.974963\n",
       "2                          0.990973         0.974407\n",
       "4                          0.991776         0.972182\n",
       "5                          0.990540         0.971074\n",
       "6                          0.989427         0.968290\n",
       "7                          0.990107         0.967734\n",
       "8                          0.988685         0.964944\n",
       "9                          0.987881         0.964944\n",
       "12                         0.986583         0.964389\n",
       "11                         0.987510         0.963827\n",
       "13                         0.985779         0.963271\n",
       "14                         0.985037         0.963268\n",
       "18                         0.982193         0.962716\n",
       "10                         0.985841         0.962163\n",
       "16                         0.982996         0.962160\n",
       "15                         0.984418         0.962157\n",
       "19                         0.981760         0.962157\n",
       "17                         0.983058         0.961598"
      ]
     },
     "execution_count": 41,
     "metadata": {},
     "output_type": "execute_result"
    }
   ],
   "source": [
    "grid_df.sort_values(['mean_test_score', 'mean_train_score'], ascending=False)"
   ]
  },
  {
   "cell_type": "code",
   "execution_count": 48,
   "id": "deceff83-e120-47c1-8a0c-9872f69e4798",
   "metadata": {},
   "outputs": [
    {
     "data": {
      "image/png": "[encoded data removed]",
      "text/plain": [
       "<Figure size 432x288 with 1 Axes>"
      ]
     },
     "metadata": {
      "needs_background": "light"
     },
     "output_type": "display_data"
    }
   ],
   "source": [
    "ax = grid_df.plot.line(marker = '.')\n",
    "ax.set_xticks(grid_df.index);"
   ]
  },
  {
   "cell_type": "code",
   "execution_count": 49,
   "id": "97a0f545-b6be-4996-9ba3-a1b9cbd81cad",
   "metadata": {},
   "outputs": [
    {
     "data": {
      "text/plain": [
       "KNeighborsClassifier(n_neighbors=3)"
      ]
     },
     "execution_count": 49,
     "metadata": {},
     "output_type": "execute_result"
    }
   ],
   "source": [
    "grid_model.best_estimator_"
   ]
  },
  {
   "cell_type": "code",
   "execution_count": 50,
   "id": "1761050c-f9b1-43ab-9fbd-6adf61173ca2",
   "metadata": {},
   "outputs": [
    {
     "data": {
      "text/plain": [
       "0.9766325263811299"
      ]
     },
     "execution_count": 50,
     "metadata": {},
     "output_type": "execute_result"
    }
   ],
   "source": [
    "grid_model.best_score_"
   ]
  },
  {
   "cell_type": "code",
   "execution_count": 51,
   "id": "b4a48158-3f16-47a2-9e36-a9bec0cacacd",
   "metadata": {},
   "outputs": [
    {
     "data": {
      "text/plain": [
       "{'n_neighbors': 3}"
      ]
     },
     "execution_count": 51,
     "metadata": {},
     "output_type": "execute_result"
    }
   ],
   "source": [
    "grid_model.best_params_"
   ]
  },
  {
   "cell_type": "markdown",
   "id": "ce78beca-c2b3-42e5-8106-d543e30e4ee9",
   "metadata": {},
   "source": [
    "---"
   ]
  },
  {
   "cell_type": "code",
   "execution_count": 52,
   "id": "38aaf31c-a6df-4307-b9ea-31288f83d22f",
   "metadata": {},
   "outputs": [],
   "source": [
    "# 중첩 교차 검증을 하기 위해 이 작업을 한다?\n",
    "from sklearn.model_selection import cross_val_score # cross validation score"
   ]
  },
  {
   "cell_type": "code",
   "execution_count": 53,
   "id": "fa763b96-0fd3-4384-803a-c7f1aa5fff15",
   "metadata": {},
   "outputs": [],
   "source": [
    "grid_knn = GridSearchCV(knn, param_grid = param_grid, cv = 2)"
   ]
  },
  {
   "cell_type": "code",
   "execution_count": 54,
   "id": "36814d03-f35e-41f8-95f2-6302e06f6c5c",
   "metadata": {},
   "outputs": [],
   "source": [
    "outer_scores = cross_val_score(grid_knn, digits.data, digits.target, cv = 5)"
   ]
  },
  {
   "cell_type": "code",
   "execution_count": 55,
   "id": "9736f60d-c5f6-4446-9e5a-eecf698c4186",
   "metadata": {},
   "outputs": [
    {
     "data": {
      "text/plain": [
       "array([0.96111111, 0.95277778, 0.96657382, 0.98607242, 0.96657382])"
      ]
     },
     "execution_count": 55,
     "metadata": {},
     "output_type": "execute_result"
    }
   ],
   "source": [
    "outer_scores"
   ]
  },
  {
   "cell_type": "code",
   "execution_count": 56,
   "id": "e7809e77-d6d2-4f6e-b968-ef7e6f9861ab",
   "metadata": {},
   "outputs": [
    {
     "data": {
      "text/plain": [
       "GridSearchCV(cv=2, estimator=KNeighborsClassifier(n_neighbors=19),\n",
       "             param_grid={'n_neighbors': range(1, 20)})"
      ]
     },
     "execution_count": 56,
     "metadata": {},
     "output_type": "execute_result"
    }
   ],
   "source": [
    "grid_knn.fit(digits.data, digits.target)"
   ]
  },
  {
   "cell_type": "code",
   "execution_count": 57,
   "id": "7a0db943-7a7e-4426-87ae-f52342353a7a",
   "metadata": {},
   "outputs": [
    {
     "data": {
      "text/plain": [
       "0.9610455566813907"
      ]
     },
     "execution_count": 57,
     "metadata": {},
     "output_type": "execute_result"
    }
   ],
   "source": [
    "grid_knn.best_score_"
   ]
  },
  {
   "cell_type": "code",
   "execution_count": 60,
   "id": "6b361fe9-4106-4be1-b68e-76f100a09abe",
   "metadata": {},
   "outputs": [
    {
     "data": {
      "text/plain": [
       "KNeighborsClassifier(n_neighbors=1)"
      ]
     },
     "execution_count": 60,
     "metadata": {},
     "output_type": "execute_result"
    }
   ],
   "source": [
    "grid_knn.best_estimator_"
   ]
  },
  {
   "cell_type": "code",
   "execution_count": 61,
   "id": "9c6765bc-9883-45bd-a85a-dcf770cf59ed",
   "metadata": {},
   "outputs": [
    {
     "data": {
      "text/plain": [
       "{'algorithm': 'auto',\n",
       " 'leaf_size': 30,\n",
       " 'metric': 'minkowski',\n",
       " 'metric_params': None,\n",
       " 'n_jobs': None,\n",
       " 'n_neighbors': 1,\n",
       " 'p': 2,\n",
       " 'weights': 'uniform'}"
      ]
     },
     "execution_count": 61,
     "metadata": {},
     "output_type": "execute_result"
    }
   ],
   "source": [
    "grid_knn.best_estimator_.get_params()"
   ]
  },
  {
   "cell_type": "code",
   "execution_count": null,
   "id": "2f64c0d2-be4e-4e86-8f3d-6f3a7bc06267",
   "metadata": {},
   "outputs": [],
   "source": [
    "#가장 좋은 파라미터 값들만 넣어준 상태"
   ]
  },
  {
   "cell_type": "code",
   "execution_count": 62,
   "id": "e2e7a3e8-01ac-4601-88bd-a1467c694225",
   "metadata": {},
   "outputs": [],
   "source": [
    "preferred_params = grid_knn.best_estimator_.get_params()"
   ]
  },
  {
   "cell_type": "code",
   "execution_count": 63,
   "id": "f4fc7030-9696-422d-b2ec-146f27a1bbd8",
   "metadata": {},
   "outputs": [],
   "source": [
    "final_knn = KNeighborsClassifier(**preferred_params)"
   ]
  },
  {
   "cell_type": "code",
   "execution_count": 64,
   "id": "bd4c450b-f774-4710-9741-f5ec1bed3be7",
   "metadata": {},
   "outputs": [
    {
     "data": {
      "text/plain": [
       "KNeighborsClassifier(n_neighbors=1)"
      ]
     },
     "execution_count": 64,
     "metadata": {},
     "output_type": "execute_result"
    }
   ],
   "source": [
    "final_knn.fit(digits.data, digits.target)"
   ]
  },
  {
   "cell_type": "code",
   "execution_count": 65,
   "id": "c8e559b3-45eb-43a0-8660-da5000596832",
   "metadata": {},
   "outputs": [
    {
     "data": {
      "text/plain": [
       "1.0"
      ]
     },
     "execution_count": 65,
     "metadata": {},
     "output_type": "execute_result"
    }
   ],
   "source": [
    "final_knn.score(digits.data, digits.target)"
   ]
  },
  {
   "cell_type": "code",
   "execution_count": null,
   "id": "5e14ce97-abd3-4bc5-a0ed-d5e8cf2b909b",
   "metadata": {},
   "outputs": [],
   "source": []
  }
 ],
 "metadata": {
  "kernelspec": {
   "display_name": "Python 3 (ipykernel)",
   "language": "python",
   "name": "python3"
  },
  "language_info": {
   "codemirror_mode": {
    "name": "ipython",
    "version": 3
   },
   "file_extension": ".py",
   "mimetype": "text/x-python",
   "name": "python",
   "nbconvert_exporter": "python",
   "pygments_lexer": "ipython3",
   "version": "3.9.12"
  }
 },
 "nbformat": 4,
 "nbformat_minor": 5
}
