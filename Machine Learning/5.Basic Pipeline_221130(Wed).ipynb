{
 "cells": [
  {
   "cell_type": "code",
   "execution_count": null,
   "id": "49d3537f-02eb-4eea-91eb-f6b5356ba630",
   "metadata": {},
   "outputs": [],
   "source": [
    "# 오후 수업"
   ]
  },
  {
   "cell_type": "code",
   "execution_count": null,
   "id": "51d7c9bc-8932-4e59-b6a9-f74001c6a0c8",
   "metadata": {},
   "outputs": [],
   "source": [
    "# svc 기본 모델로 학습시키기\n",
    "data load -> standardscaler -> train, test(0.2) -> svc -> fit -> score"
   ]
  },
  {
   "cell_type": "code",
   "execution_count": 21,
   "id": "39e19b4b-3a57-4db1-ad32-799cf2d08a10",
   "metadata": {},
   "outputs": [],
   "source": [
    "from sklearn.datasets import load_wine\n",
    "from sklearn.preprocessing import StandardScaler\n",
    "from sklearn.model_selection import train_test_split\n",
    "from sklearn.svm import SVC\n",
    "\n",
    "import pandas as pd"
   ]
  },
  {
   "cell_type": "code",
   "execution_count": 5,
   "id": "384129cf-1dee-4ba4-a18e-6d4197b72e3c",
   "metadata": {},
   "outputs": [],
   "source": [
    "wine = load_wine()"
   ]
  },
  {
   "cell_type": "code",
   "execution_count": 20,
   "id": "ef7e4386-2c20-4614-8c40-a9219695782c",
   "metadata": {},
   "outputs": [
    {
     "data": {
      "text/plain": [
       "['alcohol',\n",
       " 'malic_acid',\n",
       " 'ash',\n",
       " 'alcalinity_of_ash',\n",
       " 'magnesium',\n",
       " 'total_phenols',\n",
       " 'flavanoids',\n",
       " 'nonflavanoid_phenols',\n",
       " 'proanthocyanins',\n",
       " 'color_intensity',\n",
       " 'hue',\n",
       " 'od280/od315_of_diluted_wines',\n",
       " 'proline']"
      ]
     },
     "execution_count": 20,
     "metadata": {},
     "output_type": "execute_result"
    }
   ],
   "source": [
    "wine.feature_names"
   ]
  },
  {
   "cell_type": "code",
   "execution_count": 22,
   "id": "bf334bbe-c490-4737-a82a-37150de767ba",
   "metadata": {},
   "outputs": [],
   "source": [
    "df = pd.DataFrame(x, columns = wine.feature_names)"
   ]
  },
  {
   "cell_type": "code",
   "execution_count": 24,
   "id": "0c5ab8b7-9791-4685-95e0-2917730a3e4b",
   "metadata": {},
   "outputs": [
    {
     "data": {
      "text/html": [
       "<div>\n",
       "<style scoped>\n",
       "    .dataframe tbody tr th:only-of-type {\n",
       "        vertical-align: middle;\n",
       "    }\n",
       "\n",
       "    .dataframe tbody tr th {\n",
       "        vertical-align: top;\n",
       "    }\n",
       "\n",
       "    .dataframe thead th {\n",
       "        text-align: right;\n",
       "    }\n",
       "</style>\n",
       "<table border=\"1\" class=\"dataframe\">\n",
       "  <thead>\n",
       "    <tr style=\"text-align: right;\">\n",
       "      <th></th>\n",
       "      <th>alcohol</th>\n",
       "      <th>malic_acid</th>\n",
       "      <th>ash</th>\n",
       "      <th>alcalinity_of_ash</th>\n",
       "      <th>magnesium</th>\n",
       "      <th>total_phenols</th>\n",
       "      <th>flavanoids</th>\n",
       "      <th>nonflavanoid_phenols</th>\n",
       "      <th>proanthocyanins</th>\n",
       "      <th>color_intensity</th>\n",
       "      <th>hue</th>\n",
       "      <th>od280/od315_of_diluted_wines</th>\n",
       "      <th>proline</th>\n",
       "    </tr>\n",
       "  </thead>\n",
       "  <tbody>\n",
       "    <tr>\n",
       "      <th>count</th>\n",
       "      <td>178.000000</td>\n",
       "      <td>178.000000</td>\n",
       "      <td>178.000000</td>\n",
       "      <td>178.000000</td>\n",
       "      <td>178.000000</td>\n",
       "      <td>178.000000</td>\n",
       "      <td>178.000000</td>\n",
       "      <td>178.000000</td>\n",
       "      <td>178.000000</td>\n",
       "      <td>178.000000</td>\n",
       "      <td>178.000000</td>\n",
       "      <td>178.000000</td>\n",
       "      <td>178.000000</td>\n",
       "    </tr>\n",
       "    <tr>\n",
       "      <th>mean</th>\n",
       "      <td>13.000618</td>\n",
       "      <td>2.336348</td>\n",
       "      <td>2.366517</td>\n",
       "      <td>19.494944</td>\n",
       "      <td>99.741573</td>\n",
       "      <td>2.295112</td>\n",
       "      <td>2.029270</td>\n",
       "      <td>0.361854</td>\n",
       "      <td>1.590899</td>\n",
       "      <td>5.058090</td>\n",
       "      <td>0.957449</td>\n",
       "      <td>2.611685</td>\n",
       "      <td>746.893258</td>\n",
       "    </tr>\n",
       "    <tr>\n",
       "      <th>std</th>\n",
       "      <td>0.811827</td>\n",
       "      <td>1.117146</td>\n",
       "      <td>0.274344</td>\n",
       "      <td>3.339564</td>\n",
       "      <td>14.282484</td>\n",
       "      <td>0.625851</td>\n",
       "      <td>0.998859</td>\n",
       "      <td>0.124453</td>\n",
       "      <td>0.572359</td>\n",
       "      <td>2.318286</td>\n",
       "      <td>0.228572</td>\n",
       "      <td>0.709990</td>\n",
       "      <td>314.907474</td>\n",
       "    </tr>\n",
       "    <tr>\n",
       "      <th>min</th>\n",
       "      <td>11.030000</td>\n",
       "      <td>0.740000</td>\n",
       "      <td>1.360000</td>\n",
       "      <td>10.600000</td>\n",
       "      <td>70.000000</td>\n",
       "      <td>0.980000</td>\n",
       "      <td>0.340000</td>\n",
       "      <td>0.130000</td>\n",
       "      <td>0.410000</td>\n",
       "      <td>1.280000</td>\n",
       "      <td>0.480000</td>\n",
       "      <td>1.270000</td>\n",
       "      <td>278.000000</td>\n",
       "    </tr>\n",
       "    <tr>\n",
       "      <th>25%</th>\n",
       "      <td>12.362500</td>\n",
       "      <td>1.602500</td>\n",
       "      <td>2.210000</td>\n",
       "      <td>17.200000</td>\n",
       "      <td>88.000000</td>\n",
       "      <td>1.742500</td>\n",
       "      <td>1.205000</td>\n",
       "      <td>0.270000</td>\n",
       "      <td>1.250000</td>\n",
       "      <td>3.220000</td>\n",
       "      <td>0.782500</td>\n",
       "      <td>1.937500</td>\n",
       "      <td>500.500000</td>\n",
       "    </tr>\n",
       "    <tr>\n",
       "      <th>50%</th>\n",
       "      <td>13.050000</td>\n",
       "      <td>1.865000</td>\n",
       "      <td>2.360000</td>\n",
       "      <td>19.500000</td>\n",
       "      <td>98.000000</td>\n",
       "      <td>2.355000</td>\n",
       "      <td>2.135000</td>\n",
       "      <td>0.340000</td>\n",
       "      <td>1.555000</td>\n",
       "      <td>4.690000</td>\n",
       "      <td>0.965000</td>\n",
       "      <td>2.780000</td>\n",
       "      <td>673.500000</td>\n",
       "    </tr>\n",
       "    <tr>\n",
       "      <th>75%</th>\n",
       "      <td>13.677500</td>\n",
       "      <td>3.082500</td>\n",
       "      <td>2.557500</td>\n",
       "      <td>21.500000</td>\n",
       "      <td>107.000000</td>\n",
       "      <td>2.800000</td>\n",
       "      <td>2.875000</td>\n",
       "      <td>0.437500</td>\n",
       "      <td>1.950000</td>\n",
       "      <td>6.200000</td>\n",
       "      <td>1.120000</td>\n",
       "      <td>3.170000</td>\n",
       "      <td>985.000000</td>\n",
       "    </tr>\n",
       "    <tr>\n",
       "      <th>max</th>\n",
       "      <td>14.830000</td>\n",
       "      <td>5.800000</td>\n",
       "      <td>3.230000</td>\n",
       "      <td>30.000000</td>\n",
       "      <td>162.000000</td>\n",
       "      <td>3.880000</td>\n",
       "      <td>5.080000</td>\n",
       "      <td>0.660000</td>\n",
       "      <td>3.580000</td>\n",
       "      <td>13.000000</td>\n",
       "      <td>1.710000</td>\n",
       "      <td>4.000000</td>\n",
       "      <td>1680.000000</td>\n",
       "    </tr>\n",
       "  </tbody>\n",
       "</table>\n",
       "</div>"
      ],
      "text/plain": [
       "          alcohol  malic_acid         ash  alcalinity_of_ash   magnesium  \\\n",
       "count  178.000000  178.000000  178.000000         178.000000  178.000000   \n",
       "mean    13.000618    2.336348    2.366517          19.494944   99.741573   \n",
       "std      0.811827    1.117146    0.274344           3.339564   14.282484   \n",
       "min     11.030000    0.740000    1.360000          10.600000   70.000000   \n",
       "25%     12.362500    1.602500    2.210000          17.200000   88.000000   \n",
       "50%     13.050000    1.865000    2.360000          19.500000   98.000000   \n",
       "75%     13.677500    3.082500    2.557500          21.500000  107.000000   \n",
       "max     14.830000    5.800000    3.230000          30.000000  162.000000   \n",
       "\n",
       "       total_phenols  flavanoids  nonflavanoid_phenols  proanthocyanins  \\\n",
       "count     178.000000  178.000000            178.000000       178.000000   \n",
       "mean        2.295112    2.029270              0.361854         1.590899   \n",
       "std         0.625851    0.998859              0.124453         0.572359   \n",
       "min         0.980000    0.340000              0.130000         0.410000   \n",
       "25%         1.742500    1.205000              0.270000         1.250000   \n",
       "50%         2.355000    2.135000              0.340000         1.555000   \n",
       "75%         2.800000    2.875000              0.437500         1.950000   \n",
       "max         3.880000    5.080000              0.660000         3.580000   \n",
       "\n",
       "       color_intensity         hue  od280/od315_of_diluted_wines      proline  \n",
       "count       178.000000  178.000000                    178.000000   178.000000  \n",
       "mean          5.058090    0.957449                      2.611685   746.893258  \n",
       "std           2.318286    0.228572                      0.709990   314.907474  \n",
       "min           1.280000    0.480000                      1.270000   278.000000  \n",
       "25%           3.220000    0.782500                      1.937500   500.500000  \n",
       "50%           4.690000    0.965000                      2.780000   673.500000  \n",
       "75%           6.200000    1.120000                      3.170000   985.000000  \n",
       "max          13.000000    1.710000                      4.000000  1680.000000  "
      ]
     },
     "execution_count": 24,
     "metadata": {},
     "output_type": "execute_result"
    }
   ],
   "source": [
    "df.describe()"
   ]
  },
  {
   "cell_type": "code",
   "execution_count": null,
   "id": "c3e3ba90-acfd-4964-a5ce-21c6b2c2591d",
   "metadata": {},
   "outputs": [],
   "source": [
    "# scaler : 값을 정교화(standardize) 시켜주는 작업"
   ]
  },
  {
   "cell_type": "code",
   "execution_count": null,
   "id": "0e8cfb4b-bb56-4ad7-9a1e-f1bd1edb0b9f",
   "metadata": {},
   "outputs": [],
   "source": []
  },
  {
   "cell_type": "code",
   "execution_count": 12,
   "id": "8a510e63-a0bc-4107-bef2-a8992edda24f",
   "metadata": {},
   "outputs": [],
   "source": [
    "x = wine.data # 나머지 변수들"
   ]
  },
  {
   "cell_type": "code",
   "execution_count": 13,
   "id": "c5e124de-78ac-44f9-be27-285afe8a6c25",
   "metadata": {},
   "outputs": [],
   "source": [
    "y = wine.target # 종속변수"
   ]
  },
  {
   "cell_type": "code",
   "execution_count": 25,
   "id": "ca9b63a0-edfc-48dc-af9e-758a83ce24b6",
   "metadata": {},
   "outputs": [],
   "source": [
    "scaler = StandardScaler()"
   ]
  },
  {
   "cell_type": "code",
   "execution_count": 26,
   "id": "c62386e1-b23f-426b-89f6-bf1ced2c6716",
   "metadata": {},
   "outputs": [
    {
     "data": {
      "text/plain": [
       "array([[ 1.51861254, -0.5622498 ,  0.23205254, ...,  0.36217728,\n",
       "         1.84791957,  1.01300893],\n",
       "       [ 0.24628963, -0.49941338, -0.82799632, ...,  0.40605066,\n",
       "         1.1134493 ,  0.96524152],\n",
       "       [ 0.19687903,  0.02123125,  1.10933436, ...,  0.31830389,\n",
       "         0.78858745,  1.39514818],\n",
       "       ...,\n",
       "       [ 0.33275817,  1.74474449, -0.38935541, ..., -1.61212515,\n",
       "        -1.48544548,  0.28057537],\n",
       "       [ 0.20923168,  0.22769377,  0.01273209, ..., -1.56825176,\n",
       "        -1.40069891,  0.29649784],\n",
       "       [ 1.39508604,  1.58316512,  1.36520822, ..., -1.52437837,\n",
       "        -1.42894777, -0.59516041]])"
      ]
     },
     "execution_count": 26,
     "metadata": {},
     "output_type": "execute_result"
    }
   ],
   "source": [
    "scaler.fit(x) # 평균과 표준편차 관련을 저장시키기 위해 필요한 작업\n",
    "scaler.transform(x) # z = () /  공식을 사용하기 위해 이 작업이 필요 (평균과 표준편차 값들이 표준화가 안되어 있기 때문에 값들을 표준화시키기 위해 필요한 작업)"
   ]
  },
  {
   "cell_type": "code",
   "execution_count": 27,
   "id": "f3ae056b-e93e-4623-8577-ccfb09369fa3",
   "metadata": {},
   "outputs": [],
   "source": [
    "scaler_x = scaler.fit_transform(x)"
   ]
  },
  {
   "cell_type": "code",
   "execution_count": null,
   "id": "450e5581-7de7-43d3-a25e-e5c07bb7aba8",
   "metadata": {},
   "outputs": [],
   "source": []
  },
  {
   "cell_type": "code",
   "execution_count": 33,
   "id": "f2d34691-6501-4f88-94d3-9c570944938e",
   "metadata": {},
   "outputs": [],
   "source": [
    "x_train, x_test, y_train, y_test = train_test_split(scaler_x, y, test_size = 0.2, random_state = 0)"
   ]
  },
  {
   "cell_type": "code",
   "execution_count": 34,
   "id": "30b233c9-926b-4fef-a53d-c04240e63613",
   "metadata": {},
   "outputs": [],
   "source": [
    "model = SVC()"
   ]
  },
  {
   "cell_type": "code",
   "execution_count": 35,
   "id": "99ec335e-3104-4aa7-9940-956ce3a1bb07",
   "metadata": {
    "tags": []
   },
   "outputs": [
    {
     "data": {
      "text/plain": [
       "SVC()"
      ]
     },
     "execution_count": 35,
     "metadata": {},
     "output_type": "execute_result"
    }
   ],
   "source": [
    "model.fit(x_train, y_train)"
   ]
  },
  {
   "cell_type": "code",
   "execution_count": 36,
   "id": "773336e9-ab1a-45c9-ad33-dcc178abdd0f",
   "metadata": {
    "tags": []
   },
   "outputs": [
    {
     "data": {
      "text/plain": [
       "0.9929577464788732"
      ]
     },
     "execution_count": 36,
     "metadata": {},
     "output_type": "execute_result"
    }
   ],
   "source": [
    "model.score(x_train, y_train)"
   ]
  },
  {
   "cell_type": "code",
   "execution_count": 37,
   "id": "308fc72f-784e-4bc2-b552-4fb9999873eb",
   "metadata": {
    "tags": []
   },
   "outputs": [
    {
     "data": {
      "text/plain": [
       "1.0"
      ]
     },
     "execution_count": 37,
     "metadata": {},
     "output_type": "execute_result"
    }
   ],
   "source": [
    "model.score(x_test, y_test)"
   ]
  },
  {
   "cell_type": "markdown",
   "id": "e9157ab8-1dea-462d-a6ec-25b9abd08c17",
   "metadata": {},
   "source": [
    "---"
   ]
  },
  {
   "cell_type": "markdown",
   "id": "2da85971-6ffc-483f-b749-8b2b10ec7682",
   "metadata": {
    "tags": []
   },
   "source": [
    "# svc 기본 모델로 학습시키기\n",
    "data load -> 전처리.......(타이타닉, loan 데이터셋 등...) -> standardscaler -> train, test(0.2) -> svc -> fit -> score"
   ]
  },
  {
   "cell_type": "code",
   "execution_count": null,
   "id": "23cdc9d0-1bb6-4292-8ebf-066de432e5b3",
   "metadata": {},
   "outputs": [],
   "source": [
    "# Pipeline을 어떻게 쓰나~~~~~~~?"
   ]
  },
  {
   "cell_type": "code",
   "execution_count": 75,
   "id": "2137d08d-4c0d-4adb-a14b-342b6ec26e5a",
   "metadata": {},
   "outputs": [],
   "source": [
    "from sklearn.pipeline import Pipeline"
   ]
  },
  {
   "cell_type": "code",
   "execution_count": 76,
   "id": "002944f1-ec6e-4539-8236-332be1f35fe6",
   "metadata": {},
   "outputs": [],
   "source": [
    "pipeline = Pipeline([('scaler2', StandardScaler()), ('svc', SVC())])"
   ]
  },
  {
   "cell_type": "code",
   "execution_count": 77,
   "id": "d788f776-3424-4f95-aed5-f1164924696c",
   "metadata": {},
   "outputs": [],
   "source": [
    "x = wine.data # 나머지 변수들"
   ]
  },
  {
   "cell_type": "code",
   "execution_count": 78,
   "id": "edb080d1-7de4-449f-833d-d5351a3e1026",
   "metadata": {},
   "outputs": [],
   "source": [
    "y = wine.target # 종속변수"
   ]
  },
  {
   "cell_type": "code",
   "execution_count": 79,
   "id": "26b001cd-892f-415c-80e1-277e51563a52",
   "metadata": {},
   "outputs": [],
   "source": [
    "x_train, x_test, y_train, y_test = train_test_split(x, y, test_size = 0.2, random_state = 0)"
   ]
  },
  {
   "cell_type": "code",
   "execution_count": 80,
   "id": "9532e13a-3941-4951-a58a-0981fc61901b",
   "metadata": {},
   "outputs": [
    {
     "data": {
      "text/html": [
       "<style>#sk-4f777eb8-1c3e-4293-8f85-cce11c075cdd {color: black;background-color: white;}#sk-4f777eb8-1c3e-4293-8f85-cce11c075cdd pre{padding: 0;}#sk-4f777eb8-1c3e-4293-8f85-cce11c075cdd div.sk-toggleable {background-color: white;}#sk-4f777eb8-1c3e-4293-8f85-cce11c075cdd label.sk-toggleable__label {cursor: pointer;display: block;width: 100%;margin-bottom: 0;padding: 0.3em;box-sizing: border-box;text-align: center;}#sk-4f777eb8-1c3e-4293-8f85-cce11c075cdd label.sk-toggleable__label-arrow:before {content: \"▸\";float: left;margin-right: 0.25em;color: #696969;}#sk-4f777eb8-1c3e-4293-8f85-cce11c075cdd label.sk-toggleable__label-arrow:hover:before {color: black;}#sk-4f777eb8-1c3e-4293-8f85-cce11c075cdd div.sk-estimator:hover label.sk-toggleable__label-arrow:before {color: black;}#sk-4f777eb8-1c3e-4293-8f85-cce11c075cdd div.sk-toggleable__content {max-height: 0;max-width: 0;overflow: hidden;text-align: left;background-color: #f0f8ff;}#sk-4f777eb8-1c3e-4293-8f85-cce11c075cdd div.sk-toggleable__content pre {margin: 0.2em;color: black;border-radius: 0.25em;background-color: #f0f8ff;}#sk-4f777eb8-1c3e-4293-8f85-cce11c075cdd input.sk-toggleable__control:checked~div.sk-toggleable__content {max-height: 200px;max-width: 100%;overflow: auto;}#sk-4f777eb8-1c3e-4293-8f85-cce11c075cdd input.sk-toggleable__control:checked~label.sk-toggleable__label-arrow:before {content: \"▾\";}#sk-4f777eb8-1c3e-4293-8f85-cce11c075cdd div.sk-estimator input.sk-toggleable__control:checked~label.sk-toggleable__label {background-color: #d4ebff;}#sk-4f777eb8-1c3e-4293-8f85-cce11c075cdd div.sk-label input.sk-toggleable__control:checked~label.sk-toggleable__label {background-color: #d4ebff;}#sk-4f777eb8-1c3e-4293-8f85-cce11c075cdd input.sk-hidden--visually {border: 0;clip: rect(1px 1px 1px 1px);clip: rect(1px, 1px, 1px, 1px);height: 1px;margin: -1px;overflow: hidden;padding: 0;position: absolute;width: 1px;}#sk-4f777eb8-1c3e-4293-8f85-cce11c075cdd div.sk-estimator {font-family: monospace;background-color: #f0f8ff;border: 1px dotted black;border-radius: 0.25em;box-sizing: border-box;margin-bottom: 0.5em;}#sk-4f777eb8-1c3e-4293-8f85-cce11c075cdd div.sk-estimator:hover {background-color: #d4ebff;}#sk-4f777eb8-1c3e-4293-8f85-cce11c075cdd div.sk-parallel-item::after {content: \"\";width: 100%;border-bottom: 1px solid gray;flex-grow: 1;}#sk-4f777eb8-1c3e-4293-8f85-cce11c075cdd div.sk-label:hover label.sk-toggleable__label {background-color: #d4ebff;}#sk-4f777eb8-1c3e-4293-8f85-cce11c075cdd div.sk-serial::before {content: \"\";position: absolute;border-left: 1px solid gray;box-sizing: border-box;top: 2em;bottom: 0;left: 50%;}#sk-4f777eb8-1c3e-4293-8f85-cce11c075cdd div.sk-serial {display: flex;flex-direction: column;align-items: center;background-color: white;padding-right: 0.2em;padding-left: 0.2em;}#sk-4f777eb8-1c3e-4293-8f85-cce11c075cdd div.sk-item {z-index: 1;}#sk-4f777eb8-1c3e-4293-8f85-cce11c075cdd div.sk-parallel {display: flex;align-items: stretch;justify-content: center;background-color: white;}#sk-4f777eb8-1c3e-4293-8f85-cce11c075cdd div.sk-parallel::before {content: \"\";position: absolute;border-left: 1px solid gray;box-sizing: border-box;top: 2em;bottom: 0;left: 50%;}#sk-4f777eb8-1c3e-4293-8f85-cce11c075cdd div.sk-parallel-item {display: flex;flex-direction: column;position: relative;background-color: white;}#sk-4f777eb8-1c3e-4293-8f85-cce11c075cdd div.sk-parallel-item:first-child::after {align-self: flex-end;width: 50%;}#sk-4f777eb8-1c3e-4293-8f85-cce11c075cdd div.sk-parallel-item:last-child::after {align-self: flex-start;width: 50%;}#sk-4f777eb8-1c3e-4293-8f85-cce11c075cdd div.sk-parallel-item:only-child::after {width: 0;}#sk-4f777eb8-1c3e-4293-8f85-cce11c075cdd div.sk-dashed-wrapped {border: 1px dashed gray;margin: 0 0.4em 0.5em 0.4em;box-sizing: border-box;padding-bottom: 0.4em;background-color: white;position: relative;}#sk-4f777eb8-1c3e-4293-8f85-cce11c075cdd div.sk-label label {font-family: monospace;font-weight: bold;background-color: white;display: inline-block;line-height: 1.2em;}#sk-4f777eb8-1c3e-4293-8f85-cce11c075cdd div.sk-label-container {position: relative;z-index: 2;text-align: center;}#sk-4f777eb8-1c3e-4293-8f85-cce11c075cdd div.sk-container {/* jupyter's `normalize.less` sets `[hidden] { display: none; }` but bootstrap.min.css set `[hidden] { display: none !important; }` so we also need the `!important` here to be able to override the default hidden behavior on the sphinx rendered scikit-learn.org. See: https://github.com/scikit-learn/scikit-learn/issues/21755 */display: inline-block !important;position: relative;}#sk-4f777eb8-1c3e-4293-8f85-cce11c075cdd div.sk-text-repr-fallback {display: none;}</style><div id=\"sk-4f777eb8-1c3e-4293-8f85-cce11c075cdd\" class=\"sk-top-container\"><div class=\"sk-text-repr-fallback\"><pre>Pipeline(steps=[(&#x27;scaler2&#x27;, StandardScaler()), (&#x27;svc&#x27;, SVC())])</pre><b>Please rerun this cell to show the HTML repr or trust the notebook.</b></div><div class=\"sk-container\" hidden><div class=\"sk-item sk-dashed-wrapped\"><div class=\"sk-label-container\"><div class=\"sk-label sk-toggleable\"><input class=\"sk-toggleable__control sk-hidden--visually\" id=\"3afdf84d-79cf-4f2d-860a-aad6d15e713e\" type=\"checkbox\" ><label for=\"3afdf84d-79cf-4f2d-860a-aad6d15e713e\" class=\"sk-toggleable__label sk-toggleable__label-arrow\">Pipeline</label><div class=\"sk-toggleable__content\"><pre>Pipeline(steps=[(&#x27;scaler2&#x27;, StandardScaler()), (&#x27;svc&#x27;, SVC())])</pre></div></div></div><div class=\"sk-serial\"><div class=\"sk-item\"><div class=\"sk-estimator sk-toggleable\"><input class=\"sk-toggleable__control sk-hidden--visually\" id=\"7557561c-379a-4392-9c20-46992daf4457\" type=\"checkbox\" ><label for=\"7557561c-379a-4392-9c20-46992daf4457\" class=\"sk-toggleable__label sk-toggleable__label-arrow\">StandardScaler</label><div class=\"sk-toggleable__content\"><pre>StandardScaler()</pre></div></div></div><div class=\"sk-item\"><div class=\"sk-estimator sk-toggleable\"><input class=\"sk-toggleable__control sk-hidden--visually\" id=\"db480cdc-fa2c-40d7-8286-105a3b45a868\" type=\"checkbox\" ><label for=\"db480cdc-fa2c-40d7-8286-105a3b45a868\" class=\"sk-toggleable__label sk-toggleable__label-arrow\">SVC</label><div class=\"sk-toggleable__content\"><pre>SVC()</pre></div></div></div></div></div></div></div>"
      ],
      "text/plain": [
       "Pipeline(steps=[('scaler2', StandardScaler()), ('svc', SVC())])"
      ]
     },
     "execution_count": 80,
     "metadata": {},
     "output_type": "execute_result"
    }
   ],
   "source": [
    "pipeline.fit(x_train, y_train)"
   ]
  },
  {
   "cell_type": "code",
   "execution_count": 81,
   "id": "88dea2a0-50d8-45ab-967d-212d6ba461b8",
   "metadata": {},
   "outputs": [
    {
     "data": {
      "text/plain": [
       "0.9929577464788732"
      ]
     },
     "execution_count": 81,
     "metadata": {},
     "output_type": "execute_result"
    }
   ],
   "source": [
    "pipeline.score(x_train, y_train)"
   ]
  },
  {
   "cell_type": "code",
   "execution_count": 82,
   "id": "1b8b45fd-c47a-4fec-85af-34ab671f7926",
   "metadata": {},
   "outputs": [
    {
     "data": {
      "text/plain": [
       "1.0"
      ]
     },
     "execution_count": 82,
     "metadata": {},
     "output_type": "execute_result"
    }
   ],
   "source": [
    "pipeline.score(x_test, y_test)"
   ]
  },
  {
   "cell_type": "code",
   "execution_count": 83,
   "id": "7e9fdb00-4552-413b-957a-1e1b3302f177",
   "metadata": {},
   "outputs": [
    {
     "data": {
      "text/plain": [
       "{'scaler2': StandardScaler(), 'svc': SVC()}"
      ]
     },
     "execution_count": 83,
     "metadata": {},
     "output_type": "execute_result"
    }
   ],
   "source": [
    "pipeline.named_steps # pipeline 안에 필요한 부분('scaler2' 또는 'svc')을 불러 올 때 사용 "
   ]
  },
  {
   "cell_type": "code",
   "execution_count": 84,
   "id": "6c6f0e40-b060-413b-b2fd-ed119f7633f8",
   "metadata": {},
   "outputs": [
    {
     "data": {
      "text/plain": [
       "array([1.29848592e+01, 2.37260563e+00, 2.36690141e+00, 1.95549296e+01,\n",
       "       1.00063380e+02, 2.25866197e+00, 1.94915493e+00, 3.63521127e-01,\n",
       "       1.60605634e+00, 5.04521126e+00, 9.53352113e-01, 2.58626761e+00,\n",
       "       7.42330986e+02])"
      ]
     },
     "execution_count": 84,
     "metadata": {},
     "output_type": "execute_result"
    }
   ],
   "source": [
    "pipeline.named_steps['scaler2'].mean_"
   ]
  },
  {
   "cell_type": "code",
   "execution_count": 85,
   "id": "85d91f95-926a-4590-92c3-93a6f67ec99f",
   "metadata": {},
   "outputs": [
    {
     "data": {
      "text/html": [
       "<style>#sk-7cd0b451-ac59-4742-a76c-ce718a0ee749 {color: black;background-color: white;}#sk-7cd0b451-ac59-4742-a76c-ce718a0ee749 pre{padding: 0;}#sk-7cd0b451-ac59-4742-a76c-ce718a0ee749 div.sk-toggleable {background-color: white;}#sk-7cd0b451-ac59-4742-a76c-ce718a0ee749 label.sk-toggleable__label {cursor: pointer;display: block;width: 100%;margin-bottom: 0;padding: 0.3em;box-sizing: border-box;text-align: center;}#sk-7cd0b451-ac59-4742-a76c-ce718a0ee749 label.sk-toggleable__label-arrow:before {content: \"▸\";float: left;margin-right: 0.25em;color: #696969;}#sk-7cd0b451-ac59-4742-a76c-ce718a0ee749 label.sk-toggleable__label-arrow:hover:before {color: black;}#sk-7cd0b451-ac59-4742-a76c-ce718a0ee749 div.sk-estimator:hover label.sk-toggleable__label-arrow:before {color: black;}#sk-7cd0b451-ac59-4742-a76c-ce718a0ee749 div.sk-toggleable__content {max-height: 0;max-width: 0;overflow: hidden;text-align: left;background-color: #f0f8ff;}#sk-7cd0b451-ac59-4742-a76c-ce718a0ee749 div.sk-toggleable__content pre {margin: 0.2em;color: black;border-radius: 0.25em;background-color: #f0f8ff;}#sk-7cd0b451-ac59-4742-a76c-ce718a0ee749 input.sk-toggleable__control:checked~div.sk-toggleable__content {max-height: 200px;max-width: 100%;overflow: auto;}#sk-7cd0b451-ac59-4742-a76c-ce718a0ee749 input.sk-toggleable__control:checked~label.sk-toggleable__label-arrow:before {content: \"▾\";}#sk-7cd0b451-ac59-4742-a76c-ce718a0ee749 div.sk-estimator input.sk-toggleable__control:checked~label.sk-toggleable__label {background-color: #d4ebff;}#sk-7cd0b451-ac59-4742-a76c-ce718a0ee749 div.sk-label input.sk-toggleable__control:checked~label.sk-toggleable__label {background-color: #d4ebff;}#sk-7cd0b451-ac59-4742-a76c-ce718a0ee749 input.sk-hidden--visually {border: 0;clip: rect(1px 1px 1px 1px);clip: rect(1px, 1px, 1px, 1px);height: 1px;margin: -1px;overflow: hidden;padding: 0;position: absolute;width: 1px;}#sk-7cd0b451-ac59-4742-a76c-ce718a0ee749 div.sk-estimator {font-family: monospace;background-color: #f0f8ff;border: 1px dotted black;border-radius: 0.25em;box-sizing: border-box;margin-bottom: 0.5em;}#sk-7cd0b451-ac59-4742-a76c-ce718a0ee749 div.sk-estimator:hover {background-color: #d4ebff;}#sk-7cd0b451-ac59-4742-a76c-ce718a0ee749 div.sk-parallel-item::after {content: \"\";width: 100%;border-bottom: 1px solid gray;flex-grow: 1;}#sk-7cd0b451-ac59-4742-a76c-ce718a0ee749 div.sk-label:hover label.sk-toggleable__label {background-color: #d4ebff;}#sk-7cd0b451-ac59-4742-a76c-ce718a0ee749 div.sk-serial::before {content: \"\";position: absolute;border-left: 1px solid gray;box-sizing: border-box;top: 2em;bottom: 0;left: 50%;}#sk-7cd0b451-ac59-4742-a76c-ce718a0ee749 div.sk-serial {display: flex;flex-direction: column;align-items: center;background-color: white;padding-right: 0.2em;padding-left: 0.2em;}#sk-7cd0b451-ac59-4742-a76c-ce718a0ee749 div.sk-item {z-index: 1;}#sk-7cd0b451-ac59-4742-a76c-ce718a0ee749 div.sk-parallel {display: flex;align-items: stretch;justify-content: center;background-color: white;}#sk-7cd0b451-ac59-4742-a76c-ce718a0ee749 div.sk-parallel::before {content: \"\";position: absolute;border-left: 1px solid gray;box-sizing: border-box;top: 2em;bottom: 0;left: 50%;}#sk-7cd0b451-ac59-4742-a76c-ce718a0ee749 div.sk-parallel-item {display: flex;flex-direction: column;position: relative;background-color: white;}#sk-7cd0b451-ac59-4742-a76c-ce718a0ee749 div.sk-parallel-item:first-child::after {align-self: flex-end;width: 50%;}#sk-7cd0b451-ac59-4742-a76c-ce718a0ee749 div.sk-parallel-item:last-child::after {align-self: flex-start;width: 50%;}#sk-7cd0b451-ac59-4742-a76c-ce718a0ee749 div.sk-parallel-item:only-child::after {width: 0;}#sk-7cd0b451-ac59-4742-a76c-ce718a0ee749 div.sk-dashed-wrapped {border: 1px dashed gray;margin: 0 0.4em 0.5em 0.4em;box-sizing: border-box;padding-bottom: 0.4em;background-color: white;position: relative;}#sk-7cd0b451-ac59-4742-a76c-ce718a0ee749 div.sk-label label {font-family: monospace;font-weight: bold;background-color: white;display: inline-block;line-height: 1.2em;}#sk-7cd0b451-ac59-4742-a76c-ce718a0ee749 div.sk-label-container {position: relative;z-index: 2;text-align: center;}#sk-7cd0b451-ac59-4742-a76c-ce718a0ee749 div.sk-container {/* jupyter's `normalize.less` sets `[hidden] { display: none; }` but bootstrap.min.css set `[hidden] { display: none !important; }` so we also need the `!important` here to be able to override the default hidden behavior on the sphinx rendered scikit-learn.org. See: https://github.com/scikit-learn/scikit-learn/issues/21755 */display: inline-block !important;position: relative;}#sk-7cd0b451-ac59-4742-a76c-ce718a0ee749 div.sk-text-repr-fallback {display: none;}</style><div id=\"sk-7cd0b451-ac59-4742-a76c-ce718a0ee749\" class=\"sk-top-container\"><div class=\"sk-text-repr-fallback\"><pre>SVC()</pre><b>Please rerun this cell to show the HTML repr or trust the notebook.</b></div><div class=\"sk-container\" hidden><div class=\"sk-item\"><div class=\"sk-estimator sk-toggleable\"><input class=\"sk-toggleable__control sk-hidden--visually\" id=\"edccdda9-69f8-47f5-9846-62836cdc4fa3\" type=\"checkbox\" checked><label for=\"edccdda9-69f8-47f5-9846-62836cdc4fa3\" class=\"sk-toggleable__label sk-toggleable__label-arrow\">SVC</label><div class=\"sk-toggleable__content\"><pre>SVC()</pre></div></div></div></div></div>"
      ],
      "text/plain": [
       "SVC()"
      ]
     },
     "execution_count": 85,
     "metadata": {},
     "output_type": "execute_result"
    }
   ],
   "source": [
    "pipeline.named_steps['svc']"
   ]
  },
  {
   "cell_type": "code",
   "execution_count": 86,
   "id": "2e9ae2ce-a317-4550-b754-225d3e537f33",
   "metadata": {},
   "outputs": [
    {
     "data": {
      "text/plain": [
       "{'C': 1.0,\n",
       " 'break_ties': False,\n",
       " 'cache_size': 200,\n",
       " 'class_weight': None,\n",
       " 'coef0': 0.0,\n",
       " 'decision_function_shape': 'ovr',\n",
       " 'degree': 3,\n",
       " 'gamma': 'scale',\n",
       " 'kernel': 'rbf',\n",
       " 'max_iter': -1,\n",
       " 'probability': False,\n",
       " 'random_state': None,\n",
       " 'shrinking': True,\n",
       " 'tol': 0.001,\n",
       " 'verbose': False}"
      ]
     },
     "execution_count": 86,
     "metadata": {},
     "output_type": "execute_result"
    }
   ],
   "source": [
    "pipeline.named_steps['svc'].get_params()"
   ]
  },
  {
   "cell_type": "code",
   "execution_count": 92,
   "id": "597518b2-923f-4632-9750-22683e38ad0b",
   "metadata": {},
   "outputs": [],
   "source": [
    "from sklearn import set_config"
   ]
  },
  {
   "cell_type": "code",
   "execution_count": 93,
   "id": "63416f16-e1d0-43b9-82ad-d7b04e65a19d",
   "metadata": {},
   "outputs": [],
   "source": [
    "set_config(display = \"diagram\")"
   ]
  },
  {
   "cell_type": "markdown",
   "id": "876812ed-d907-4cfd-b41c-d9b44d565711",
   "metadata": {},
   "source": [
    "---"
   ]
  },
  {
   "cell_type": "code",
   "execution_count": 94,
   "id": "29f4d688-08c6-4f82-9991-b584807ac194",
   "metadata": {},
   "outputs": [],
   "source": [
    "from sklearn.pipeline import make_pipeline"
   ]
  },
  {
   "cell_type": "code",
   "execution_count": 95,
   "id": "8d37b03b-36ad-4545-a300-e7861a1d33bb",
   "metadata": {},
   "outputs": [],
   "source": [
    "pipeline2 = make_pipeline(StandardScaler(), SVC())"
   ]
  },
  {
   "cell_type": "code",
   "execution_count": 96,
   "id": "cfd4294b-6995-419b-9b08-c18a22362bb4",
   "metadata": {},
   "outputs": [
    {
     "data": {
      "text/html": [
       "<style>#sk-600edff5-1787-40b0-b59f-87e766792191 {color: black;background-color: white;}#sk-600edff5-1787-40b0-b59f-87e766792191 pre{padding: 0;}#sk-600edff5-1787-40b0-b59f-87e766792191 div.sk-toggleable {background-color: white;}#sk-600edff5-1787-40b0-b59f-87e766792191 label.sk-toggleable__label {cursor: pointer;display: block;width: 100%;margin-bottom: 0;padding: 0.3em;box-sizing: border-box;text-align: center;}#sk-600edff5-1787-40b0-b59f-87e766792191 label.sk-toggleable__label-arrow:before {content: \"▸\";float: left;margin-right: 0.25em;color: #696969;}#sk-600edff5-1787-40b0-b59f-87e766792191 label.sk-toggleable__label-arrow:hover:before {color: black;}#sk-600edff5-1787-40b0-b59f-87e766792191 div.sk-estimator:hover label.sk-toggleable__label-arrow:before {color: black;}#sk-600edff5-1787-40b0-b59f-87e766792191 div.sk-toggleable__content {max-height: 0;max-width: 0;overflow: hidden;text-align: left;background-color: #f0f8ff;}#sk-600edff5-1787-40b0-b59f-87e766792191 div.sk-toggleable__content pre {margin: 0.2em;color: black;border-radius: 0.25em;background-color: #f0f8ff;}#sk-600edff5-1787-40b0-b59f-87e766792191 input.sk-toggleable__control:checked~div.sk-toggleable__content {max-height: 200px;max-width: 100%;overflow: auto;}#sk-600edff5-1787-40b0-b59f-87e766792191 input.sk-toggleable__control:checked~label.sk-toggleable__label-arrow:before {content: \"▾\";}#sk-600edff5-1787-40b0-b59f-87e766792191 div.sk-estimator input.sk-toggleable__control:checked~label.sk-toggleable__label {background-color: #d4ebff;}#sk-600edff5-1787-40b0-b59f-87e766792191 div.sk-label input.sk-toggleable__control:checked~label.sk-toggleable__label {background-color: #d4ebff;}#sk-600edff5-1787-40b0-b59f-87e766792191 input.sk-hidden--visually {border: 0;clip: rect(1px 1px 1px 1px);clip: rect(1px, 1px, 1px, 1px);height: 1px;margin: -1px;overflow: hidden;padding: 0;position: absolute;width: 1px;}#sk-600edff5-1787-40b0-b59f-87e766792191 div.sk-estimator {font-family: monospace;background-color: #f0f8ff;border: 1px dotted black;border-radius: 0.25em;box-sizing: border-box;margin-bottom: 0.5em;}#sk-600edff5-1787-40b0-b59f-87e766792191 div.sk-estimator:hover {background-color: #d4ebff;}#sk-600edff5-1787-40b0-b59f-87e766792191 div.sk-parallel-item::after {content: \"\";width: 100%;border-bottom: 1px solid gray;flex-grow: 1;}#sk-600edff5-1787-40b0-b59f-87e766792191 div.sk-label:hover label.sk-toggleable__label {background-color: #d4ebff;}#sk-600edff5-1787-40b0-b59f-87e766792191 div.sk-serial::before {content: \"\";position: absolute;border-left: 1px solid gray;box-sizing: border-box;top: 2em;bottom: 0;left: 50%;}#sk-600edff5-1787-40b0-b59f-87e766792191 div.sk-serial {display: flex;flex-direction: column;align-items: center;background-color: white;padding-right: 0.2em;padding-left: 0.2em;}#sk-600edff5-1787-40b0-b59f-87e766792191 div.sk-item {z-index: 1;}#sk-600edff5-1787-40b0-b59f-87e766792191 div.sk-parallel {display: flex;align-items: stretch;justify-content: center;background-color: white;}#sk-600edff5-1787-40b0-b59f-87e766792191 div.sk-parallel::before {content: \"\";position: absolute;border-left: 1px solid gray;box-sizing: border-box;top: 2em;bottom: 0;left: 50%;}#sk-600edff5-1787-40b0-b59f-87e766792191 div.sk-parallel-item {display: flex;flex-direction: column;position: relative;background-color: white;}#sk-600edff5-1787-40b0-b59f-87e766792191 div.sk-parallel-item:first-child::after {align-self: flex-end;width: 50%;}#sk-600edff5-1787-40b0-b59f-87e766792191 div.sk-parallel-item:last-child::after {align-self: flex-start;width: 50%;}#sk-600edff5-1787-40b0-b59f-87e766792191 div.sk-parallel-item:only-child::after {width: 0;}#sk-600edff5-1787-40b0-b59f-87e766792191 div.sk-dashed-wrapped {border: 1px dashed gray;margin: 0 0.4em 0.5em 0.4em;box-sizing: border-box;padding-bottom: 0.4em;background-color: white;position: relative;}#sk-600edff5-1787-40b0-b59f-87e766792191 div.sk-label label {font-family: monospace;font-weight: bold;background-color: white;display: inline-block;line-height: 1.2em;}#sk-600edff5-1787-40b0-b59f-87e766792191 div.sk-label-container {position: relative;z-index: 2;text-align: center;}#sk-600edff5-1787-40b0-b59f-87e766792191 div.sk-container {/* jupyter's `normalize.less` sets `[hidden] { display: none; }` but bootstrap.min.css set `[hidden] { display: none !important; }` so we also need the `!important` here to be able to override the default hidden behavior on the sphinx rendered scikit-learn.org. See: https://github.com/scikit-learn/scikit-learn/issues/21755 */display: inline-block !important;position: relative;}#sk-600edff5-1787-40b0-b59f-87e766792191 div.sk-text-repr-fallback {display: none;}</style><div id=\"sk-600edff5-1787-40b0-b59f-87e766792191\" class=\"sk-top-container\"><div class=\"sk-text-repr-fallback\"><pre>Pipeline(steps=[(&#x27;standardscaler&#x27;, StandardScaler()), (&#x27;svc&#x27;, SVC())])</pre><b>Please rerun this cell to show the HTML repr or trust the notebook.</b></div><div class=\"sk-container\" hidden><div class=\"sk-item sk-dashed-wrapped\"><div class=\"sk-label-container\"><div class=\"sk-label sk-toggleable\"><input class=\"sk-toggleable__control sk-hidden--visually\" id=\"73c0effc-bf79-4adb-b09e-e28688f4698a\" type=\"checkbox\" ><label for=\"73c0effc-bf79-4adb-b09e-e28688f4698a\" class=\"sk-toggleable__label sk-toggleable__label-arrow\">Pipeline</label><div class=\"sk-toggleable__content\"><pre>Pipeline(steps=[(&#x27;standardscaler&#x27;, StandardScaler()), (&#x27;svc&#x27;, SVC())])</pre></div></div></div><div class=\"sk-serial\"><div class=\"sk-item\"><div class=\"sk-estimator sk-toggleable\"><input class=\"sk-toggleable__control sk-hidden--visually\" id=\"ee69c076-30e0-499e-b467-03e70d99281a\" type=\"checkbox\" ><label for=\"ee69c076-30e0-499e-b467-03e70d99281a\" class=\"sk-toggleable__label sk-toggleable__label-arrow\">StandardScaler</label><div class=\"sk-toggleable__content\"><pre>StandardScaler()</pre></div></div></div><div class=\"sk-item\"><div class=\"sk-estimator sk-toggleable\"><input class=\"sk-toggleable__control sk-hidden--visually\" id=\"a93f0317-13e9-4bf8-b1c5-f7ccd2c592d3\" type=\"checkbox\" ><label for=\"a93f0317-13e9-4bf8-b1c5-f7ccd2c592d3\" class=\"sk-toggleable__label sk-toggleable__label-arrow\">SVC</label><div class=\"sk-toggleable__content\"><pre>SVC()</pre></div></div></div></div></div></div></div>"
      ],
      "text/plain": [
       "Pipeline(steps=[('standardscaler', StandardScaler()), ('svc', SVC())])"
      ]
     },
     "execution_count": 96,
     "metadata": {},
     "output_type": "execute_result"
    }
   ],
   "source": [
    "pipeline2"
   ]
  },
  {
   "cell_type": "code",
   "execution_count": 97,
   "id": "02886636-75fd-457d-8f73-ce653ca65eb1",
   "metadata": {},
   "outputs": [
    {
     "data": {
      "text/html": [
       "<style>#sk-8616b3b5-1d91-4208-917b-b858d23ac4e3 {color: black;background-color: white;}#sk-8616b3b5-1d91-4208-917b-b858d23ac4e3 pre{padding: 0;}#sk-8616b3b5-1d91-4208-917b-b858d23ac4e3 div.sk-toggleable {background-color: white;}#sk-8616b3b5-1d91-4208-917b-b858d23ac4e3 label.sk-toggleable__label {cursor: pointer;display: block;width: 100%;margin-bottom: 0;padding: 0.3em;box-sizing: border-box;text-align: center;}#sk-8616b3b5-1d91-4208-917b-b858d23ac4e3 label.sk-toggleable__label-arrow:before {content: \"▸\";float: left;margin-right: 0.25em;color: #696969;}#sk-8616b3b5-1d91-4208-917b-b858d23ac4e3 label.sk-toggleable__label-arrow:hover:before {color: black;}#sk-8616b3b5-1d91-4208-917b-b858d23ac4e3 div.sk-estimator:hover label.sk-toggleable__label-arrow:before {color: black;}#sk-8616b3b5-1d91-4208-917b-b858d23ac4e3 div.sk-toggleable__content {max-height: 0;max-width: 0;overflow: hidden;text-align: left;background-color: #f0f8ff;}#sk-8616b3b5-1d91-4208-917b-b858d23ac4e3 div.sk-toggleable__content pre {margin: 0.2em;color: black;border-radius: 0.25em;background-color: #f0f8ff;}#sk-8616b3b5-1d91-4208-917b-b858d23ac4e3 input.sk-toggleable__control:checked~div.sk-toggleable__content {max-height: 200px;max-width: 100%;overflow: auto;}#sk-8616b3b5-1d91-4208-917b-b858d23ac4e3 input.sk-toggleable__control:checked~label.sk-toggleable__label-arrow:before {content: \"▾\";}#sk-8616b3b5-1d91-4208-917b-b858d23ac4e3 div.sk-estimator input.sk-toggleable__control:checked~label.sk-toggleable__label {background-color: #d4ebff;}#sk-8616b3b5-1d91-4208-917b-b858d23ac4e3 div.sk-label input.sk-toggleable__control:checked~label.sk-toggleable__label {background-color: #d4ebff;}#sk-8616b3b5-1d91-4208-917b-b858d23ac4e3 input.sk-hidden--visually {border: 0;clip: rect(1px 1px 1px 1px);clip: rect(1px, 1px, 1px, 1px);height: 1px;margin: -1px;overflow: hidden;padding: 0;position: absolute;width: 1px;}#sk-8616b3b5-1d91-4208-917b-b858d23ac4e3 div.sk-estimator {font-family: monospace;background-color: #f0f8ff;border: 1px dotted black;border-radius: 0.25em;box-sizing: border-box;margin-bottom: 0.5em;}#sk-8616b3b5-1d91-4208-917b-b858d23ac4e3 div.sk-estimator:hover {background-color: #d4ebff;}#sk-8616b3b5-1d91-4208-917b-b858d23ac4e3 div.sk-parallel-item::after {content: \"\";width: 100%;border-bottom: 1px solid gray;flex-grow: 1;}#sk-8616b3b5-1d91-4208-917b-b858d23ac4e3 div.sk-label:hover label.sk-toggleable__label {background-color: #d4ebff;}#sk-8616b3b5-1d91-4208-917b-b858d23ac4e3 div.sk-serial::before {content: \"\";position: absolute;border-left: 1px solid gray;box-sizing: border-box;top: 2em;bottom: 0;left: 50%;}#sk-8616b3b5-1d91-4208-917b-b858d23ac4e3 div.sk-serial {display: flex;flex-direction: column;align-items: center;background-color: white;padding-right: 0.2em;padding-left: 0.2em;}#sk-8616b3b5-1d91-4208-917b-b858d23ac4e3 div.sk-item {z-index: 1;}#sk-8616b3b5-1d91-4208-917b-b858d23ac4e3 div.sk-parallel {display: flex;align-items: stretch;justify-content: center;background-color: white;}#sk-8616b3b5-1d91-4208-917b-b858d23ac4e3 div.sk-parallel::before {content: \"\";position: absolute;border-left: 1px solid gray;box-sizing: border-box;top: 2em;bottom: 0;left: 50%;}#sk-8616b3b5-1d91-4208-917b-b858d23ac4e3 div.sk-parallel-item {display: flex;flex-direction: column;position: relative;background-color: white;}#sk-8616b3b5-1d91-4208-917b-b858d23ac4e3 div.sk-parallel-item:first-child::after {align-self: flex-end;width: 50%;}#sk-8616b3b5-1d91-4208-917b-b858d23ac4e3 div.sk-parallel-item:last-child::after {align-self: flex-start;width: 50%;}#sk-8616b3b5-1d91-4208-917b-b858d23ac4e3 div.sk-parallel-item:only-child::after {width: 0;}#sk-8616b3b5-1d91-4208-917b-b858d23ac4e3 div.sk-dashed-wrapped {border: 1px dashed gray;margin: 0 0.4em 0.5em 0.4em;box-sizing: border-box;padding-bottom: 0.4em;background-color: white;position: relative;}#sk-8616b3b5-1d91-4208-917b-b858d23ac4e3 div.sk-label label {font-family: monospace;font-weight: bold;background-color: white;display: inline-block;line-height: 1.2em;}#sk-8616b3b5-1d91-4208-917b-b858d23ac4e3 div.sk-label-container {position: relative;z-index: 2;text-align: center;}#sk-8616b3b5-1d91-4208-917b-b858d23ac4e3 div.sk-container {/* jupyter's `normalize.less` sets `[hidden] { display: none; }` but bootstrap.min.css set `[hidden] { display: none !important; }` so we also need the `!important` here to be able to override the default hidden behavior on the sphinx rendered scikit-learn.org. See: https://github.com/scikit-learn/scikit-learn/issues/21755 */display: inline-block !important;position: relative;}#sk-8616b3b5-1d91-4208-917b-b858d23ac4e3 div.sk-text-repr-fallback {display: none;}</style><div id=\"sk-8616b3b5-1d91-4208-917b-b858d23ac4e3\" class=\"sk-top-container\"><div class=\"sk-text-repr-fallback\"><pre>Pipeline(steps=[(&#x27;standardscaler&#x27;, StandardScaler()), (&#x27;svc&#x27;, SVC())])</pre><b>Please rerun this cell to show the HTML repr or trust the notebook.</b></div><div class=\"sk-container\" hidden><div class=\"sk-item sk-dashed-wrapped\"><div class=\"sk-label-container\"><div class=\"sk-label sk-toggleable\"><input class=\"sk-toggleable__control sk-hidden--visually\" id=\"658d972b-6fb7-4921-8cc0-ce628dac3f3b\" type=\"checkbox\" ><label for=\"658d972b-6fb7-4921-8cc0-ce628dac3f3b\" class=\"sk-toggleable__label sk-toggleable__label-arrow\">Pipeline</label><div class=\"sk-toggleable__content\"><pre>Pipeline(steps=[(&#x27;standardscaler&#x27;, StandardScaler()), (&#x27;svc&#x27;, SVC())])</pre></div></div></div><div class=\"sk-serial\"><div class=\"sk-item\"><div class=\"sk-estimator sk-toggleable\"><input class=\"sk-toggleable__control sk-hidden--visually\" id=\"0da348fe-78ca-4fbe-bbf2-1b1d651c3e4c\" type=\"checkbox\" ><label for=\"0da348fe-78ca-4fbe-bbf2-1b1d651c3e4c\" class=\"sk-toggleable__label sk-toggleable__label-arrow\">StandardScaler</label><div class=\"sk-toggleable__content\"><pre>StandardScaler()</pre></div></div></div><div class=\"sk-item\"><div class=\"sk-estimator sk-toggleable\"><input class=\"sk-toggleable__control sk-hidden--visually\" id=\"004106c1-5841-42d2-8df9-97a42481b5a9\" type=\"checkbox\" ><label for=\"004106c1-5841-42d2-8df9-97a42481b5a9\" class=\"sk-toggleable__label sk-toggleable__label-arrow\">SVC</label><div class=\"sk-toggleable__content\"><pre>SVC()</pre></div></div></div></div></div></div></div>"
      ],
      "text/plain": [
       "Pipeline(steps=[('standardscaler', StandardScaler()), ('svc', SVC())])"
      ]
     },
     "execution_count": 97,
     "metadata": {},
     "output_type": "execute_result"
    }
   ],
   "source": [
    "pipeline2.fit(x_train, y_train)"
   ]
  },
  {
   "cell_type": "code",
   "execution_count": 98,
   "id": "6da0e0b0-9e3d-415a-b42f-005ee1248b58",
   "metadata": {},
   "outputs": [
    {
     "data": {
      "text/plain": [
       "1.0"
      ]
     },
     "execution_count": 98,
     "metadata": {},
     "output_type": "execute_result"
    }
   ],
   "source": [
    "pipeline2.score(x_test, y_test)"
   ]
  },
  {
   "cell_type": "code",
   "execution_count": 99,
   "id": "abd3b243-271d-4e93-bf58-7a914ff92a03",
   "metadata": {},
   "outputs": [
    {
     "data": {
      "text/plain": [
       "{'standardscaler': StandardScaler(), 'svc': SVC()}"
      ]
     },
     "execution_count": 99,
     "metadata": {},
     "output_type": "execute_result"
    }
   ],
   "source": [
    "pipeline2.named_steps"
   ]
  },
  {
   "cell_type": "code",
   "execution_count": 100,
   "id": "b4f75db0-a9b7-44b3-a85a-5dc1b34cfae2",
   "metadata": {},
   "outputs": [
    {
     "data": {
      "text/html": [
       "<style>#sk-ba5f5e13-0984-49e1-9357-c7f00ca200a1 {color: black;background-color: white;}#sk-ba5f5e13-0984-49e1-9357-c7f00ca200a1 pre{padding: 0;}#sk-ba5f5e13-0984-49e1-9357-c7f00ca200a1 div.sk-toggleable {background-color: white;}#sk-ba5f5e13-0984-49e1-9357-c7f00ca200a1 label.sk-toggleable__label {cursor: pointer;display: block;width: 100%;margin-bottom: 0;padding: 0.3em;box-sizing: border-box;text-align: center;}#sk-ba5f5e13-0984-49e1-9357-c7f00ca200a1 label.sk-toggleable__label-arrow:before {content: \"▸\";float: left;margin-right: 0.25em;color: #696969;}#sk-ba5f5e13-0984-49e1-9357-c7f00ca200a1 label.sk-toggleable__label-arrow:hover:before {color: black;}#sk-ba5f5e13-0984-49e1-9357-c7f00ca200a1 div.sk-estimator:hover label.sk-toggleable__label-arrow:before {color: black;}#sk-ba5f5e13-0984-49e1-9357-c7f00ca200a1 div.sk-toggleable__content {max-height: 0;max-width: 0;overflow: hidden;text-align: left;background-color: #f0f8ff;}#sk-ba5f5e13-0984-49e1-9357-c7f00ca200a1 div.sk-toggleable__content pre {margin: 0.2em;color: black;border-radius: 0.25em;background-color: #f0f8ff;}#sk-ba5f5e13-0984-49e1-9357-c7f00ca200a1 input.sk-toggleable__control:checked~div.sk-toggleable__content {max-height: 200px;max-width: 100%;overflow: auto;}#sk-ba5f5e13-0984-49e1-9357-c7f00ca200a1 input.sk-toggleable__control:checked~label.sk-toggleable__label-arrow:before {content: \"▾\";}#sk-ba5f5e13-0984-49e1-9357-c7f00ca200a1 div.sk-estimator input.sk-toggleable__control:checked~label.sk-toggleable__label {background-color: #d4ebff;}#sk-ba5f5e13-0984-49e1-9357-c7f00ca200a1 div.sk-label input.sk-toggleable__control:checked~label.sk-toggleable__label {background-color: #d4ebff;}#sk-ba5f5e13-0984-49e1-9357-c7f00ca200a1 input.sk-hidden--visually {border: 0;clip: rect(1px 1px 1px 1px);clip: rect(1px, 1px, 1px, 1px);height: 1px;margin: -1px;overflow: hidden;padding: 0;position: absolute;width: 1px;}#sk-ba5f5e13-0984-49e1-9357-c7f00ca200a1 div.sk-estimator {font-family: monospace;background-color: #f0f8ff;border: 1px dotted black;border-radius: 0.25em;box-sizing: border-box;margin-bottom: 0.5em;}#sk-ba5f5e13-0984-49e1-9357-c7f00ca200a1 div.sk-estimator:hover {background-color: #d4ebff;}#sk-ba5f5e13-0984-49e1-9357-c7f00ca200a1 div.sk-parallel-item::after {content: \"\";width: 100%;border-bottom: 1px solid gray;flex-grow: 1;}#sk-ba5f5e13-0984-49e1-9357-c7f00ca200a1 div.sk-label:hover label.sk-toggleable__label {background-color: #d4ebff;}#sk-ba5f5e13-0984-49e1-9357-c7f00ca200a1 div.sk-serial::before {content: \"\";position: absolute;border-left: 1px solid gray;box-sizing: border-box;top: 2em;bottom: 0;left: 50%;}#sk-ba5f5e13-0984-49e1-9357-c7f00ca200a1 div.sk-serial {display: flex;flex-direction: column;align-items: center;background-color: white;padding-right: 0.2em;padding-left: 0.2em;}#sk-ba5f5e13-0984-49e1-9357-c7f00ca200a1 div.sk-item {z-index: 1;}#sk-ba5f5e13-0984-49e1-9357-c7f00ca200a1 div.sk-parallel {display: flex;align-items: stretch;justify-content: center;background-color: white;}#sk-ba5f5e13-0984-49e1-9357-c7f00ca200a1 div.sk-parallel::before {content: \"\";position: absolute;border-left: 1px solid gray;box-sizing: border-box;top: 2em;bottom: 0;left: 50%;}#sk-ba5f5e13-0984-49e1-9357-c7f00ca200a1 div.sk-parallel-item {display: flex;flex-direction: column;position: relative;background-color: white;}#sk-ba5f5e13-0984-49e1-9357-c7f00ca200a1 div.sk-parallel-item:first-child::after {align-self: flex-end;width: 50%;}#sk-ba5f5e13-0984-49e1-9357-c7f00ca200a1 div.sk-parallel-item:last-child::after {align-self: flex-start;width: 50%;}#sk-ba5f5e13-0984-49e1-9357-c7f00ca200a1 div.sk-parallel-item:only-child::after {width: 0;}#sk-ba5f5e13-0984-49e1-9357-c7f00ca200a1 div.sk-dashed-wrapped {border: 1px dashed gray;margin: 0 0.4em 0.5em 0.4em;box-sizing: border-box;padding-bottom: 0.4em;background-color: white;position: relative;}#sk-ba5f5e13-0984-49e1-9357-c7f00ca200a1 div.sk-label label {font-family: monospace;font-weight: bold;background-color: white;display: inline-block;line-height: 1.2em;}#sk-ba5f5e13-0984-49e1-9357-c7f00ca200a1 div.sk-label-container {position: relative;z-index: 2;text-align: center;}#sk-ba5f5e13-0984-49e1-9357-c7f00ca200a1 div.sk-container {/* jupyter's `normalize.less` sets `[hidden] { display: none; }` but bootstrap.min.css set `[hidden] { display: none !important; }` so we also need the `!important` here to be able to override the default hidden behavior on the sphinx rendered scikit-learn.org. See: https://github.com/scikit-learn/scikit-learn/issues/21755 */display: inline-block !important;position: relative;}#sk-ba5f5e13-0984-49e1-9357-c7f00ca200a1 div.sk-text-repr-fallback {display: none;}</style><div id=\"sk-ba5f5e13-0984-49e1-9357-c7f00ca200a1\" class=\"sk-top-container\"><div class=\"sk-text-repr-fallback\"><pre>StandardScaler()</pre><b>Please rerun this cell to show the HTML repr or trust the notebook.</b></div><div class=\"sk-container\" hidden><div class=\"sk-item\"><div class=\"sk-estimator sk-toggleable\"><input class=\"sk-toggleable__control sk-hidden--visually\" id=\"99c3c332-9fd8-4e62-9c2d-d023b4cef25e\" type=\"checkbox\" checked><label for=\"99c3c332-9fd8-4e62-9c2d-d023b4cef25e\" class=\"sk-toggleable__label sk-toggleable__label-arrow\">StandardScaler</label><div class=\"sk-toggleable__content\"><pre>StandardScaler()</pre></div></div></div></div></div>"
      ],
      "text/plain": [
       "StandardScaler()"
      ]
     },
     "execution_count": 100,
     "metadata": {},
     "output_type": "execute_result"
    }
   ],
   "source": [
    "pipeline2.named_steps['standardscaler']"
   ]
  },
  {
   "cell_type": "code",
   "execution_count": 101,
   "id": "ea561478-f64f-457e-a444-3a3190e48008",
   "metadata": {},
   "outputs": [
    {
     "data": {
      "text/plain": [
       "array([1.29848592e+01, 2.37260563e+00, 2.36690141e+00, 1.95549296e+01,\n",
       "       1.00063380e+02, 2.25866197e+00, 1.94915493e+00, 3.63521127e-01,\n",
       "       1.60605634e+00, 5.04521126e+00, 9.53352113e-01, 2.58626761e+00,\n",
       "       7.42330986e+02])"
      ]
     },
     "execution_count": 101,
     "metadata": {},
     "output_type": "execute_result"
    }
   ],
   "source": [
    "pipeline2.named_steps['standardscaler'].mean_"
   ]
  },
  {
   "cell_type": "markdown",
   "id": "5a54a387-3404-45ad-8360-2aa8ffb36531",
   "metadata": {},
   "source": [
    "---"
   ]
  },
  {
   "cell_type": "code",
   "execution_count": null,
   "id": "57b17dde-7eb9-4627-b667-4af7ff6524ed",
   "metadata": {},
   "outputs": [],
   "source": [
    "#"
   ]
  },
  {
   "cell_type": "code",
   "execution_count": 102,
   "id": "0da32d44-2d29-47ca-86b8-3e32ec76ad0a",
   "metadata": {},
   "outputs": [],
   "source": [
    "from joblib import dump, load"
   ]
  },
  {
   "cell_type": "code",
   "execution_count": 103,
   "id": "1259b6c2-be21-4f95-a9f6-ab1fc34738cc",
   "metadata": {},
   "outputs": [
    {
     "data": {
      "text/plain": [
       "['pipeline2.joblib']"
      ]
     },
     "execution_count": 103,
     "metadata": {},
     "output_type": "execute_result"
    }
   ],
   "source": [
    "dump(pipeline2, 'pipeline2.joblib')"
   ]
  },
  {
   "cell_type": "code",
   "execution_count": 105,
   "id": "f22facea-9a26-4871-a295-97ab3d06ca57",
   "metadata": {},
   "outputs": [],
   "source": [
    "load_pipeline = load('pipeline2.joblib')"
   ]
  },
  {
   "cell_type": "code",
   "execution_count": 106,
   "id": "20ba0c5b-2b82-41e3-959c-78adcac0a19d",
   "metadata": {},
   "outputs": [
    {
     "data": {
      "text/plain": [
       "1.0"
      ]
     },
     "execution_count": 106,
     "metadata": {},
     "output_type": "execute_result"
    }
   ],
   "source": [
    "load_pipeline.score(x_test, y_test)"
   ]
  },
  {
   "cell_type": "code",
   "execution_count": null,
   "id": "4b56b172-9e81-42a5-a032-d334db939c78",
   "metadata": {},
   "outputs": [],
   "source": [
    "# 개인이 직접 만든 함수로 저장할 수 있나? yes"
   ]
  },
  {
   "cell_type": "code",
   "execution_count": 115,
   "id": "3ae606c5-12ce-469b-895c-eb629edcc342",
   "metadata": {},
   "outputs": [],
   "source": [
    "def func(x):\n",
    "    print('Before x', x)\n",
    "    x = x + 1\n",
    "    print('After x', x)\n",
    "    return x"
   ]
  },
  {
   "cell_type": "code",
   "execution_count": 116,
   "id": "36c6c420-b225-42f6-a4ed-5a0e78920b3b",
   "metadata": {},
   "outputs": [],
   "source": [
    "from sklearn.preprocessing import FunctionTransformer #"
   ]
  },
  {
   "cell_type": "code",
   "execution_count": 117,
   "id": "d8f41cd3-7a5d-478c-b186-802d0e508cde",
   "metadata": {},
   "outputs": [],
   "source": [
    "trans_func = FunctionTransformer(func)"
   ]
  },
  {
   "cell_type": "code",
   "execution_count": 118,
   "id": "5d2301e2-df5b-447a-91ab-6e9ab5243f0f",
   "metadata": {},
   "outputs": [],
   "source": [
    "pipeline3 = make_pipeline(StandardScaler(), trans_func, SVC())"
   ]
  },
  {
   "cell_type": "code",
   "execution_count": 119,
   "id": "76014ed7-2dac-44a9-ba8e-96c8e9b1361a",
   "metadata": {},
   "outputs": [
    {
     "data": {
      "text/html": [
       "<style>#sk-1a09a1e9-6fa8-4aa6-8f60-5a0f0f38792f {color: black;background-color: white;}#sk-1a09a1e9-6fa8-4aa6-8f60-5a0f0f38792f pre{padding: 0;}#sk-1a09a1e9-6fa8-4aa6-8f60-5a0f0f38792f div.sk-toggleable {background-color: white;}#sk-1a09a1e9-6fa8-4aa6-8f60-5a0f0f38792f label.sk-toggleable__label {cursor: pointer;display: block;width: 100%;margin-bottom: 0;padding: 0.3em;box-sizing: border-box;text-align: center;}#sk-1a09a1e9-6fa8-4aa6-8f60-5a0f0f38792f label.sk-toggleable__label-arrow:before {content: \"▸\";float: left;margin-right: 0.25em;color: #696969;}#sk-1a09a1e9-6fa8-4aa6-8f60-5a0f0f38792f label.sk-toggleable__label-arrow:hover:before {color: black;}#sk-1a09a1e9-6fa8-4aa6-8f60-5a0f0f38792f div.sk-estimator:hover label.sk-toggleable__label-arrow:before {color: black;}#sk-1a09a1e9-6fa8-4aa6-8f60-5a0f0f38792f div.sk-toggleable__content {max-height: 0;max-width: 0;overflow: hidden;text-align: left;background-color: #f0f8ff;}#sk-1a09a1e9-6fa8-4aa6-8f60-5a0f0f38792f div.sk-toggleable__content pre {margin: 0.2em;color: black;border-radius: 0.25em;background-color: #f0f8ff;}#sk-1a09a1e9-6fa8-4aa6-8f60-5a0f0f38792f input.sk-toggleable__control:checked~div.sk-toggleable__content {max-height: 200px;max-width: 100%;overflow: auto;}#sk-1a09a1e9-6fa8-4aa6-8f60-5a0f0f38792f input.sk-toggleable__control:checked~label.sk-toggleable__label-arrow:before {content: \"▾\";}#sk-1a09a1e9-6fa8-4aa6-8f60-5a0f0f38792f div.sk-estimator input.sk-toggleable__control:checked~label.sk-toggleable__label {background-color: #d4ebff;}#sk-1a09a1e9-6fa8-4aa6-8f60-5a0f0f38792f div.sk-label input.sk-toggleable__control:checked~label.sk-toggleable__label {background-color: #d4ebff;}#sk-1a09a1e9-6fa8-4aa6-8f60-5a0f0f38792f input.sk-hidden--visually {border: 0;clip: rect(1px 1px 1px 1px);clip: rect(1px, 1px, 1px, 1px);height: 1px;margin: -1px;overflow: hidden;padding: 0;position: absolute;width: 1px;}#sk-1a09a1e9-6fa8-4aa6-8f60-5a0f0f38792f div.sk-estimator {font-family: monospace;background-color: #f0f8ff;border: 1px dotted black;border-radius: 0.25em;box-sizing: border-box;margin-bottom: 0.5em;}#sk-1a09a1e9-6fa8-4aa6-8f60-5a0f0f38792f div.sk-estimator:hover {background-color: #d4ebff;}#sk-1a09a1e9-6fa8-4aa6-8f60-5a0f0f38792f div.sk-parallel-item::after {content: \"\";width: 100%;border-bottom: 1px solid gray;flex-grow: 1;}#sk-1a09a1e9-6fa8-4aa6-8f60-5a0f0f38792f div.sk-label:hover label.sk-toggleable__label {background-color: #d4ebff;}#sk-1a09a1e9-6fa8-4aa6-8f60-5a0f0f38792f div.sk-serial::before {content: \"\";position: absolute;border-left: 1px solid gray;box-sizing: border-box;top: 2em;bottom: 0;left: 50%;}#sk-1a09a1e9-6fa8-4aa6-8f60-5a0f0f38792f div.sk-serial {display: flex;flex-direction: column;align-items: center;background-color: white;padding-right: 0.2em;padding-left: 0.2em;}#sk-1a09a1e9-6fa8-4aa6-8f60-5a0f0f38792f div.sk-item {z-index: 1;}#sk-1a09a1e9-6fa8-4aa6-8f60-5a0f0f38792f div.sk-parallel {display: flex;align-items: stretch;justify-content: center;background-color: white;}#sk-1a09a1e9-6fa8-4aa6-8f60-5a0f0f38792f div.sk-parallel::before {content: \"\";position: absolute;border-left: 1px solid gray;box-sizing: border-box;top: 2em;bottom: 0;left: 50%;}#sk-1a09a1e9-6fa8-4aa6-8f60-5a0f0f38792f div.sk-parallel-item {display: flex;flex-direction: column;position: relative;background-color: white;}#sk-1a09a1e9-6fa8-4aa6-8f60-5a0f0f38792f div.sk-parallel-item:first-child::after {align-self: flex-end;width: 50%;}#sk-1a09a1e9-6fa8-4aa6-8f60-5a0f0f38792f div.sk-parallel-item:last-child::after {align-self: flex-start;width: 50%;}#sk-1a09a1e9-6fa8-4aa6-8f60-5a0f0f38792f div.sk-parallel-item:only-child::after {width: 0;}#sk-1a09a1e9-6fa8-4aa6-8f60-5a0f0f38792f div.sk-dashed-wrapped {border: 1px dashed gray;margin: 0 0.4em 0.5em 0.4em;box-sizing: border-box;padding-bottom: 0.4em;background-color: white;position: relative;}#sk-1a09a1e9-6fa8-4aa6-8f60-5a0f0f38792f div.sk-label label {font-family: monospace;font-weight: bold;background-color: white;display: inline-block;line-height: 1.2em;}#sk-1a09a1e9-6fa8-4aa6-8f60-5a0f0f38792f div.sk-label-container {position: relative;z-index: 2;text-align: center;}#sk-1a09a1e9-6fa8-4aa6-8f60-5a0f0f38792f div.sk-container {/* jupyter's `normalize.less` sets `[hidden] { display: none; }` but bootstrap.min.css set `[hidden] { display: none !important; }` so we also need the `!important` here to be able to override the default hidden behavior on the sphinx rendered scikit-learn.org. See: https://github.com/scikit-learn/scikit-learn/issues/21755 */display: inline-block !important;position: relative;}#sk-1a09a1e9-6fa8-4aa6-8f60-5a0f0f38792f div.sk-text-repr-fallback {display: none;}</style><div id=\"sk-1a09a1e9-6fa8-4aa6-8f60-5a0f0f38792f\" class=\"sk-top-container\"><div class=\"sk-text-repr-fallback\"><pre>Pipeline(steps=[(&#x27;standardscaler&#x27;, StandardScaler()),\n",
       "                (&#x27;functiontransformer&#x27;,\n",
       "                 FunctionTransformer(func=&lt;function func at 0x000002B52E5B3A60&gt;)),\n",
       "                (&#x27;svc&#x27;, SVC())])</pre><b>Please rerun this cell to show the HTML repr or trust the notebook.</b></div><div class=\"sk-container\" hidden><div class=\"sk-item sk-dashed-wrapped\"><div class=\"sk-label-container\"><div class=\"sk-label sk-toggleable\"><input class=\"sk-toggleable__control sk-hidden--visually\" id=\"ef8a3f05-fed9-4bbd-9753-1f7abbf1a54b\" type=\"checkbox\" ><label for=\"ef8a3f05-fed9-4bbd-9753-1f7abbf1a54b\" class=\"sk-toggleable__label sk-toggleable__label-arrow\">Pipeline</label><div class=\"sk-toggleable__content\"><pre>Pipeline(steps=[(&#x27;standardscaler&#x27;, StandardScaler()),\n",
       "                (&#x27;functiontransformer&#x27;,\n",
       "                 FunctionTransformer(func=&lt;function func at 0x000002B52E5B3A60&gt;)),\n",
       "                (&#x27;svc&#x27;, SVC())])</pre></div></div></div><div class=\"sk-serial\"><div class=\"sk-item\"><div class=\"sk-estimator sk-toggleable\"><input class=\"sk-toggleable__control sk-hidden--visually\" id=\"3b6e7d3f-2851-4489-952a-dcdecfb6bb40\" type=\"checkbox\" ><label for=\"3b6e7d3f-2851-4489-952a-dcdecfb6bb40\" class=\"sk-toggleable__label sk-toggleable__label-arrow\">StandardScaler</label><div class=\"sk-toggleable__content\"><pre>StandardScaler()</pre></div></div></div><div class=\"sk-item\"><div class=\"sk-estimator sk-toggleable\"><input class=\"sk-toggleable__control sk-hidden--visually\" id=\"b8979b89-78d2-49f3-bbc7-c3a1f3a65dff\" type=\"checkbox\" ><label for=\"b8979b89-78d2-49f3-bbc7-c3a1f3a65dff\" class=\"sk-toggleable__label sk-toggleable__label-arrow\">FunctionTransformer</label><div class=\"sk-toggleable__content\"><pre>FunctionTransformer(func=&lt;function func at 0x000002B52E5B3A60&gt;)</pre></div></div></div><div class=\"sk-item\"><div class=\"sk-estimator sk-toggleable\"><input class=\"sk-toggleable__control sk-hidden--visually\" id=\"82900ab9-7325-48c0-a9b2-67c4a39e58d1\" type=\"checkbox\" ><label for=\"82900ab9-7325-48c0-a9b2-67c4a39e58d1\" class=\"sk-toggleable__label sk-toggleable__label-arrow\">SVC</label><div class=\"sk-toggleable__content\"><pre>SVC()</pre></div></div></div></div></div></div></div>"
      ],
      "text/plain": [
       "Pipeline(steps=[('standardscaler', StandardScaler()),\n",
       "                ('functiontransformer',\n",
       "                 FunctionTransformer(func=<function func at 0x000002B52E5B3A60>)),\n",
       "                ('svc', SVC())])"
      ]
     },
     "execution_count": 119,
     "metadata": {},
     "output_type": "execute_result"
    }
   ],
   "source": [
    "pipeline3"
   ]
  },
  {
   "cell_type": "code",
   "execution_count": 120,
   "id": "ba1cf541-d478-4a2f-b314-f051583eb207",
   "metadata": {},
   "outputs": [
    {
     "name": "stdout",
     "output_type": "stream",
     "text": [
      "Before x [[ 0.87668336  0.79842885  0.64412971 ...  0.0290166  -1.06412236\n",
      "  -0.2059076 ]\n",
      " [-0.36659076 -0.7581304  -0.39779858 ...  0.0290166  -0.73083231\n",
      "  -0.81704676]\n",
      " [-1.69689407 -0.34424759 -0.32337513 ...  0.90197362  0.51900537\n",
      "  -1.31256499]\n",
      " ...\n",
      " [-0.70227477 -0.68615078 -0.65828065 ...  0.46549511  0.51900537\n",
      "  -1.31256499]\n",
      " [ 1.13777093 -0.62316862 -0.91876272 ... -0.18922266  1.03282752\n",
      "   0.80164614]\n",
      " [ 1.4610222   0.12361993  0.42085937 ... -1.45501034 -1.2168803\n",
      "  -0.2719767 ]]\n",
      "After x [[ 1.87668336  1.79842885  1.64412971 ...  1.0290166  -0.06412236\n",
      "   0.7940924 ]\n",
      " [ 0.63340924  0.2418696   0.60220142 ...  1.0290166   0.26916769\n",
      "   0.18295324]\n",
      " [-0.69689407  0.65575241  0.67662487 ...  1.90197362  1.51900537\n",
      "  -0.31256499]\n",
      " ...\n",
      " [ 0.29772523  0.31384922  0.34171935 ...  1.46549511  1.51900537\n",
      "  -0.31256499]\n",
      " [ 2.13777093  0.37683138  0.08123728 ...  0.81077734  2.03282752\n",
      "   1.80164614]\n",
      " [ 2.4610222   1.12361993  1.42085937 ... -0.45501034 -0.2168803\n",
      "   0.7280233 ]]\n"
     ]
    },
    {
     "data": {
      "text/html": [
       "<style>#sk-4479809a-83cd-4d5d-b97c-b015ceaf3eb8 {color: black;background-color: white;}#sk-4479809a-83cd-4d5d-b97c-b015ceaf3eb8 pre{padding: 0;}#sk-4479809a-83cd-4d5d-b97c-b015ceaf3eb8 div.sk-toggleable {background-color: white;}#sk-4479809a-83cd-4d5d-b97c-b015ceaf3eb8 label.sk-toggleable__label {cursor: pointer;display: block;width: 100%;margin-bottom: 0;padding: 0.3em;box-sizing: border-box;text-align: center;}#sk-4479809a-83cd-4d5d-b97c-b015ceaf3eb8 label.sk-toggleable__label-arrow:before {content: \"▸\";float: left;margin-right: 0.25em;color: #696969;}#sk-4479809a-83cd-4d5d-b97c-b015ceaf3eb8 label.sk-toggleable__label-arrow:hover:before {color: black;}#sk-4479809a-83cd-4d5d-b97c-b015ceaf3eb8 div.sk-estimator:hover label.sk-toggleable__label-arrow:before {color: black;}#sk-4479809a-83cd-4d5d-b97c-b015ceaf3eb8 div.sk-toggleable__content {max-height: 0;max-width: 0;overflow: hidden;text-align: left;background-color: #f0f8ff;}#sk-4479809a-83cd-4d5d-b97c-b015ceaf3eb8 div.sk-toggleable__content pre {margin: 0.2em;color: black;border-radius: 0.25em;background-color: #f0f8ff;}#sk-4479809a-83cd-4d5d-b97c-b015ceaf3eb8 input.sk-toggleable__control:checked~div.sk-toggleable__content {max-height: 200px;max-width: 100%;overflow: auto;}#sk-4479809a-83cd-4d5d-b97c-b015ceaf3eb8 input.sk-toggleable__control:checked~label.sk-toggleable__label-arrow:before {content: \"▾\";}#sk-4479809a-83cd-4d5d-b97c-b015ceaf3eb8 div.sk-estimator input.sk-toggleable__control:checked~label.sk-toggleable__label {background-color: #d4ebff;}#sk-4479809a-83cd-4d5d-b97c-b015ceaf3eb8 div.sk-label input.sk-toggleable__control:checked~label.sk-toggleable__label {background-color: #d4ebff;}#sk-4479809a-83cd-4d5d-b97c-b015ceaf3eb8 input.sk-hidden--visually {border: 0;clip: rect(1px 1px 1px 1px);clip: rect(1px, 1px, 1px, 1px);height: 1px;margin: -1px;overflow: hidden;padding: 0;position: absolute;width: 1px;}#sk-4479809a-83cd-4d5d-b97c-b015ceaf3eb8 div.sk-estimator {font-family: monospace;background-color: #f0f8ff;border: 1px dotted black;border-radius: 0.25em;box-sizing: border-box;margin-bottom: 0.5em;}#sk-4479809a-83cd-4d5d-b97c-b015ceaf3eb8 div.sk-estimator:hover {background-color: #d4ebff;}#sk-4479809a-83cd-4d5d-b97c-b015ceaf3eb8 div.sk-parallel-item::after {content: \"\";width: 100%;border-bottom: 1px solid gray;flex-grow: 1;}#sk-4479809a-83cd-4d5d-b97c-b015ceaf3eb8 div.sk-label:hover label.sk-toggleable__label {background-color: #d4ebff;}#sk-4479809a-83cd-4d5d-b97c-b015ceaf3eb8 div.sk-serial::before {content: \"\";position: absolute;border-left: 1px solid gray;box-sizing: border-box;top: 2em;bottom: 0;left: 50%;}#sk-4479809a-83cd-4d5d-b97c-b015ceaf3eb8 div.sk-serial {display: flex;flex-direction: column;align-items: center;background-color: white;padding-right: 0.2em;padding-left: 0.2em;}#sk-4479809a-83cd-4d5d-b97c-b015ceaf3eb8 div.sk-item {z-index: 1;}#sk-4479809a-83cd-4d5d-b97c-b015ceaf3eb8 div.sk-parallel {display: flex;align-items: stretch;justify-content: center;background-color: white;}#sk-4479809a-83cd-4d5d-b97c-b015ceaf3eb8 div.sk-parallel::before {content: \"\";position: absolute;border-left: 1px solid gray;box-sizing: border-box;top: 2em;bottom: 0;left: 50%;}#sk-4479809a-83cd-4d5d-b97c-b015ceaf3eb8 div.sk-parallel-item {display: flex;flex-direction: column;position: relative;background-color: white;}#sk-4479809a-83cd-4d5d-b97c-b015ceaf3eb8 div.sk-parallel-item:first-child::after {align-self: flex-end;width: 50%;}#sk-4479809a-83cd-4d5d-b97c-b015ceaf3eb8 div.sk-parallel-item:last-child::after {align-self: flex-start;width: 50%;}#sk-4479809a-83cd-4d5d-b97c-b015ceaf3eb8 div.sk-parallel-item:only-child::after {width: 0;}#sk-4479809a-83cd-4d5d-b97c-b015ceaf3eb8 div.sk-dashed-wrapped {border: 1px dashed gray;margin: 0 0.4em 0.5em 0.4em;box-sizing: border-box;padding-bottom: 0.4em;background-color: white;position: relative;}#sk-4479809a-83cd-4d5d-b97c-b015ceaf3eb8 div.sk-label label {font-family: monospace;font-weight: bold;background-color: white;display: inline-block;line-height: 1.2em;}#sk-4479809a-83cd-4d5d-b97c-b015ceaf3eb8 div.sk-label-container {position: relative;z-index: 2;text-align: center;}#sk-4479809a-83cd-4d5d-b97c-b015ceaf3eb8 div.sk-container {/* jupyter's `normalize.less` sets `[hidden] { display: none; }` but bootstrap.min.css set `[hidden] { display: none !important; }` so we also need the `!important` here to be able to override the default hidden behavior on the sphinx rendered scikit-learn.org. See: https://github.com/scikit-learn/scikit-learn/issues/21755 */display: inline-block !important;position: relative;}#sk-4479809a-83cd-4d5d-b97c-b015ceaf3eb8 div.sk-text-repr-fallback {display: none;}</style><div id=\"sk-4479809a-83cd-4d5d-b97c-b015ceaf3eb8\" class=\"sk-top-container\"><div class=\"sk-text-repr-fallback\"><pre>Pipeline(steps=[(&#x27;standardscaler&#x27;, StandardScaler()),\n",
       "                (&#x27;functiontransformer&#x27;,\n",
       "                 FunctionTransformer(func=&lt;function func at 0x000002B52E5B3A60&gt;)),\n",
       "                (&#x27;svc&#x27;, SVC())])</pre><b>Please rerun this cell to show the HTML repr or trust the notebook.</b></div><div class=\"sk-container\" hidden><div class=\"sk-item sk-dashed-wrapped\"><div class=\"sk-label-container\"><div class=\"sk-label sk-toggleable\"><input class=\"sk-toggleable__control sk-hidden--visually\" id=\"c50a6fac-aa83-46cd-a29a-0fa93c942cd7\" type=\"checkbox\" ><label for=\"c50a6fac-aa83-46cd-a29a-0fa93c942cd7\" class=\"sk-toggleable__label sk-toggleable__label-arrow\">Pipeline</label><div class=\"sk-toggleable__content\"><pre>Pipeline(steps=[(&#x27;standardscaler&#x27;, StandardScaler()),\n",
       "                (&#x27;functiontransformer&#x27;,\n",
       "                 FunctionTransformer(func=&lt;function func at 0x000002B52E5B3A60&gt;)),\n",
       "                (&#x27;svc&#x27;, SVC())])</pre></div></div></div><div class=\"sk-serial\"><div class=\"sk-item\"><div class=\"sk-estimator sk-toggleable\"><input class=\"sk-toggleable__control sk-hidden--visually\" id=\"39c9f57d-e191-49be-9932-2a315c6c1979\" type=\"checkbox\" ><label for=\"39c9f57d-e191-49be-9932-2a315c6c1979\" class=\"sk-toggleable__label sk-toggleable__label-arrow\">StandardScaler</label><div class=\"sk-toggleable__content\"><pre>StandardScaler()</pre></div></div></div><div class=\"sk-item\"><div class=\"sk-estimator sk-toggleable\"><input class=\"sk-toggleable__control sk-hidden--visually\" id=\"f80bdc9e-2f30-41aa-9ca8-2202edba8d5b\" type=\"checkbox\" ><label for=\"f80bdc9e-2f30-41aa-9ca8-2202edba8d5b\" class=\"sk-toggleable__label sk-toggleable__label-arrow\">FunctionTransformer</label><div class=\"sk-toggleable__content\"><pre>FunctionTransformer(func=&lt;function func at 0x000002B52E5B3A60&gt;)</pre></div></div></div><div class=\"sk-item\"><div class=\"sk-estimator sk-toggleable\"><input class=\"sk-toggleable__control sk-hidden--visually\" id=\"3cc2a965-35b2-45d4-b7e7-81ef936e0746\" type=\"checkbox\" ><label for=\"3cc2a965-35b2-45d4-b7e7-81ef936e0746\" class=\"sk-toggleable__label sk-toggleable__label-arrow\">SVC</label><div class=\"sk-toggleable__content\"><pre>SVC()</pre></div></div></div></div></div></div></div>"
      ],
      "text/plain": [
       "Pipeline(steps=[('standardscaler', StandardScaler()),\n",
       "                ('functiontransformer',\n",
       "                 FunctionTransformer(func=<function func at 0x000002B52E5B3A60>)),\n",
       "                ('svc', SVC())])"
      ]
     },
     "execution_count": 120,
     "metadata": {},
     "output_type": "execute_result"
    }
   ],
   "source": [
    "pipeline3.fit(x_train, y_train)"
   ]
  },
  {
   "cell_type": "code",
   "execution_count": null,
   "id": "d8606b2c-9083-4726-a4ae-0d3d7d0d1ae1",
   "metadata": {},
   "outputs": [],
   "source": []
  }
 ],
 "metadata": {
  "kernelspec": {
   "display_name": "Python 3 (ipykernel)",
   "language": "python",
   "name": "python3"
  },
  "language_info": {
   "codemirror_mode": {
    "name": "ipython",
    "version": 3
   },
   "file_extension": ".py",
   "mimetype": "text/x-python",
   "name": "python",
   "nbconvert_exporter": "python",
   "pygments_lexer": "ipython3",
   "version": "3.9.12"
  }
 },
 "nbformat": 4,
 "nbformat_minor": 5
}
