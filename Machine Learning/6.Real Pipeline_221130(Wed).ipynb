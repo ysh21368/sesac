{
 "cells": [
  {
   "cell_type": "code",
   "execution_count": null,
   "id": "e1f96054-8d16-49a8-9d19-7da3320ee9ff",
   "metadata": {},
   "outputs": [],
   "source": [
    "# 문제: 중앙값 채우기 / \n",
    "null(median) func -> standardscaler -> svc / train, test 0.25\n",
    "real_data = water.iloc[0].values.reshape(1, -1)\n"
   ]
  },
  {
   "cell_type": "code",
   "execution_count": null,
   "id": "3df509bc-9ebd-476a-afbb-aefda3230c0a",
   "metadata": {},
   "outputs": [],
   "source": [
    "# 강사님 풀이"
   ]
  },
  {
   "cell_type": "code",
   "execution_count": 1,
   "id": "48227685-d595-472b-9285-a982b96962e6",
   "metadata": {},
   "outputs": [],
   "source": [
    "from sklearn.datasets import load_wine\n",
    "from sklearn.preprocessing import StandardScaler\n",
    "from sklearn.model_selection import train_test_split\n",
    "from sklearn.svm import SVC\n",
    "from sklearn.pipeline import Pipeline\n",
    "from sklearn import set_config\n",
    "from sklearn.pipeline import make_pipeline\n",
    "\n",
    "import pandas as pd"
   ]
  },
  {
   "cell_type": "code",
   "execution_count": 2,
   "id": "3ec0a19c-3445-4b86-9da6-12f3cfbf0d5e",
   "metadata": {},
   "outputs": [],
   "source": [
    "water = pd.read_csv('drinking_water_potability.csv')"
   ]
  },
  {
   "cell_type": "code",
   "execution_count": 3,
   "id": "ece71c8d-3ed4-4924-bf60-ea81e2f18e82",
   "metadata": {},
   "outputs": [
    {
     "data": {
      "text/plain": [
       "Index(['ph', 'Hardness', 'Solids', 'Chloramines', 'Sulfate', 'Conductivity',\n",
       "       'Organic_carbon', 'Trihalomethanes', 'Turbidity', 'Potability'],\n",
       "      dtype='object')"
      ]
     },
     "execution_count": 3,
     "metadata": {},
     "output_type": "execute_result"
    }
   ],
   "source": [
    "water.columns"
   ]
  },
  {
   "cell_type": "code",
   "execution_count": 4,
   "id": "295745d5-691f-43bb-b11a-669a5a46cbd1",
   "metadata": {},
   "outputs": [
    {
     "data": {
      "text/plain": [
       "ph                 491\n",
       "Hardness             0\n",
       "Solids               0\n",
       "Chloramines          0\n",
       "Sulfate            781\n",
       "Conductivity         0\n",
       "Organic_carbon       0\n",
       "Trihalomethanes    162\n",
       "Turbidity            0\n",
       "Potability           0\n",
       "dtype: int64"
      ]
     },
     "execution_count": 4,
     "metadata": {},
     "output_type": "execute_result"
    }
   ],
   "source": [
    "water.isnull().sum()"
   ]
  },
  {
   "cell_type": "code",
   "execution_count": 5,
   "id": "87589569-4d9e-4380-9940-4ef7a8f5ad83",
   "metadata": {},
   "outputs": [],
   "source": [
    "water['ph'].fillna(water['ph'].median(), inplace = True)"
   ]
  },
  {
   "cell_type": "code",
   "execution_count": null,
   "id": "095169cd-d053-43ae-94e5-031cb063f1b1",
   "metadata": {},
   "outputs": [],
   "source": [
    "# null 값 중앙값으로 채우기\n",
    "col_list = ['ph', 'Sulfate', 'Trihalomethanes']\n",
    "for col in col_list :\n",
    "    water[col].fillna(water[col].median(), inplace = True)"
   ]
  },
  {
   "cell_type": "code",
   "execution_count": null,
   "id": "28bb6ff6-de93-44c9-a83e-4d7e5af938d2",
   "metadata": {},
   "outputs": [],
   "source": [
    "water.isnull().sum()"
   ]
  },
  {
   "cell_type": "code",
   "execution_count": null,
   "id": "fcab4a2d-1f43-4d52-a0e4-07576ccf471f",
   "metadata": {},
   "outputs": [],
   "source": [
    "water[['ph', 'Sulfate', 'Trihalomethanes']].median()"
   ]
  },
  {
   "cell_type": "code",
   "execution_count": 6,
   "id": "b3b16ff2-cbd0-4ab0-a459-41625a1c5265",
   "metadata": {
    "tags": []
   },
   "outputs": [],
   "source": [
    "def median_func(data) :\n",
    "    col_list = ['ph', 'Sulfate', 'Trihalomethanes']\n",
    "    for col in col_list :\n",
    "        if col == 'ph' :\n",
    "            data[col].fillna(7.036752, inplace = True)\n",
    "        elif col == 'Sulfate' :\n",
    "            data[col].fillna(333.073546, inplace = True)\n",
    "        elif col == 'Trihalomethanes':\n",
    "            data[col].fillna(66.622485, inplace = True)\n",
    "    \n",
    "    return data"
   ]
  },
  {
   "cell_type": "code",
   "execution_count": 7,
   "id": "dd5a7d75-b42c-4398-88cb-b7651cd17177",
   "metadata": {},
   "outputs": [],
   "source": [
    "from sklearn.preprocessing import FunctionTransformer, StandardScaler\n",
    "from sklearn.pipeline import make_pipeline\n",
    "from sklearn.model_selection import train_test_split\n",
    "from sklearn.svm import SVC"
   ]
  },
  {
   "cell_type": "code",
   "execution_count": 8,
   "id": "8513dc53-a46b-4367-bfcc-f9fe8061e06e",
   "metadata": {},
   "outputs": [],
   "source": [
    "medianfunc = FunctionTransformer(median_func)"
   ]
  },
  {
   "cell_type": "code",
   "execution_count": 9,
   "id": "5849a11a-7da7-4da3-9743-016f69f4bc21",
   "metadata": {},
   "outputs": [],
   "source": [
    "pipeline = make_pipeline(medianfunc, StandardScaler(), SVC())"
   ]
  },
  {
   "cell_type": "code",
   "execution_count": 10,
   "id": "4407d846-2803-4cad-b61c-f51bc25dfc58",
   "metadata": {},
   "outputs": [],
   "source": [
    "X = water.drop('Potability', axis = 1)\n",
    "Y = water['Potability']"
   ]
  },
  {
   "cell_type": "code",
   "execution_count": 11,
   "id": "56e16ca0-4c38-4bcf-b874-b017ea26f819",
   "metadata": {},
   "outputs": [],
   "source": [
    "x_train, x_test, y_train, y_test = train_test_split(X, Y, test_size=0.25, random_state=0)"
   ]
  },
  {
   "cell_type": "code",
   "execution_count": 12,
   "id": "1111efbc-441a-4863-8f6d-99c492ff3f81",
   "metadata": {},
   "outputs": [
    {
     "data": {
      "text/plain": [
       "Pipeline(steps=[('functiontransformer',\n",
       "                 FunctionTransformer(func=<function median_func at 0x000002108A4CA820>)),\n",
       "                ('standardscaler', StandardScaler()), ('svc', SVC())])"
      ]
     },
     "execution_count": 12,
     "metadata": {},
     "output_type": "execute_result"
    }
   ],
   "source": [
    "pipeline.fit(x_train, y_train)"
   ]
  },
  {
   "cell_type": "code",
   "execution_count": 13,
   "id": "b722345b-2639-4fc5-b0f4-1d75fc50b882",
   "metadata": {},
   "outputs": [
    {
     "data": {
      "text/plain": [
       "0.6715506715506715"
      ]
     },
     "execution_count": 13,
     "metadata": {},
     "output_type": "execute_result"
    }
   ],
   "source": [
    "pipeline.score(x_test, y_test)"
   ]
  },
  {
   "cell_type": "code",
   "execution_count": 14,
   "id": "5fa8f7e5-e7f6-49c7-8593-7e8a13274f20",
   "metadata": {},
   "outputs": [],
   "source": [
    "# 설계 끝내고 저장해야함.\n",
    "from joblib import dump, load"
   ]
  },
  {
   "cell_type": "code",
   "execution_count": 15,
   "id": "af9f335f-b28e-49c1-ade2-dbef98ec75c6",
   "metadata": {},
   "outputs": [
    {
     "data": {
      "text/plain": [
       "['water_model.joblib']"
      ]
     },
     "execution_count": 15,
     "metadata": {},
     "output_type": "execute_result"
    }
   ],
   "source": [
    "dump(pipeline, 'water_model.joblib')"
   ]
  },
  {
   "cell_type": "code",
   "execution_count": 16,
   "id": "e1d88928-3e03-493f-9590-ae1420eec8e0",
   "metadata": {},
   "outputs": [],
   "source": [
    "import pandas as pd"
   ]
  },
  {
   "cell_type": "code",
   "execution_count": 17,
   "id": "56d941a6-a865-4cc9-9177-3392b0ff868a",
   "metadata": {},
   "outputs": [],
   "source": [
    "col_names = ['ph', 'Hardness', 'Solids', 'Chloramines', 'Sulfate', 'Conductivity',\n",
    "       'Organic_carbon', 'Trihalomethanes', 'Turbidity']"
   ]
  },
  {
   "cell_type": "code",
   "execution_count": 18,
   "id": "8d20dbac-144b-4d8a-b70f-ebc2226504b5",
   "metadata": {},
   "outputs": [],
   "source": [
    "real_water = [[None, 2.04890456e+02, 2.07913190e+04, 7.30021187e+00,\n",
    "        3.68516441e+02, 5.64308654e+02, 1.03797831e+01, 8.69909705e+01,\n",
    "        2.96313538e+00]]"
   ]
  },
  {
   "cell_type": "code",
   "execution_count": 20,
   "id": "67e60131-844b-4274-87ff-43446becca0b",
   "metadata": {},
   "outputs": [
    {
     "data": {
      "text/html": [
       "<div>\n",
       "<style scoped>\n",
       "    .dataframe tbody tr th:only-of-type {\n",
       "        vertical-align: middle;\n",
       "    }\n",
       "\n",
       "    .dataframe tbody tr th {\n",
       "        vertical-align: top;\n",
       "    }\n",
       "\n",
       "    .dataframe thead th {\n",
       "        text-align: right;\n",
       "    }\n",
       "</style>\n",
       "<table border=\"1\" class=\"dataframe\">\n",
       "  <thead>\n",
       "    <tr style=\"text-align: right;\">\n",
       "      <th></th>\n",
       "      <th>ph</th>\n",
       "      <th>Hardness</th>\n",
       "      <th>Solids</th>\n",
       "      <th>Chloramines</th>\n",
       "      <th>Sulfate</th>\n",
       "      <th>Conductivity</th>\n",
       "      <th>Organic_carbon</th>\n",
       "      <th>Trihalomethanes</th>\n",
       "      <th>Turbidity</th>\n",
       "    </tr>\n",
       "  </thead>\n",
       "  <tbody>\n",
       "    <tr>\n",
       "      <th>0</th>\n",
       "      <td>None</td>\n",
       "      <td>204.890456</td>\n",
       "      <td>20791.319</td>\n",
       "      <td>7.300212</td>\n",
       "      <td>368.516441</td>\n",
       "      <td>564.308654</td>\n",
       "      <td>10.379783</td>\n",
       "      <td>86.990971</td>\n",
       "      <td>2.963135</td>\n",
       "    </tr>\n",
       "  </tbody>\n",
       "</table>\n",
       "</div>"
      ],
      "text/plain": [
       "     ph    Hardness     Solids  Chloramines     Sulfate  Conductivity  \\\n",
       "0  None  204.890456  20791.319     7.300212  368.516441    564.308654   \n",
       "\n",
       "   Organic_carbon  Trihalomethanes  Turbidity  \n",
       "0       10.379783        86.990971   2.963135  "
      ]
     },
     "execution_count": 20,
     "metadata": {},
     "output_type": "execute_result"
    }
   ],
   "source": [
    "pd.DataFrame(real_water, columns = col_names)"
   ]
  },
  {
   "cell_type": "code",
   "execution_count": 21,
   "id": "6d048dca-096d-480b-a740-5c5dba47c1fa",
   "metadata": {},
   "outputs": [],
   "source": [
    "real_df = pd.DataFrame(real_water, columns = col_names)"
   ]
  },
  {
   "cell_type": "code",
   "execution_count": 22,
   "id": "4f9632f3-e7dd-4d44-a657-4211ef3b8f69",
   "metadata": {},
   "outputs": [],
   "source": [
    "from joblib import load"
   ]
  },
  {
   "cell_type": "code",
   "execution_count": 24,
   "id": "263cc7ba-5c5b-4854-b03b-264b41beae2c",
   "metadata": {},
   "outputs": [],
   "source": [
    "from waterlib import median_func"
   ]
  },
  {
   "cell_type": "code",
   "execution_count": 25,
   "id": "6502ba84-5d80-47b7-bc0c-336f8862f72f",
   "metadata": {
    "tags": []
   },
   "outputs": [],
   "source": [
    "pipeline = load('water_model.joblib')"
   ]
  },
  {
   "cell_type": "code",
   "execution_count": 26,
   "id": "a468616d-dbbf-4f06-81e3-2dac8d85772a",
   "metadata": {},
   "outputs": [
    {
     "data": {
      "text/plain": [
       "Pipeline(steps=[('functiontransformer',\n",
       "                 FunctionTransformer(func=<function median_func at 0x000002108A5004C0>)),\n",
       "                ('standardscaler', StandardScaler()), ('svc', SVC())])"
      ]
     },
     "execution_count": 26,
     "metadata": {},
     "output_type": "execute_result"
    }
   ],
   "source": [
    "pipeline"
   ]
  },
  {
   "cell_type": "code",
   "execution_count": 29,
   "id": "826ac4bb-b798-4beb-9c57-c6121cd1aef1",
   "metadata": {},
   "outputs": [],
   "source": [
    "ret = pipeline.predict(real_df)"
   ]
  },
  {
   "cell_type": "code",
   "execution_count": 34,
   "id": "5a88c17f-4bba-4dab-aa72-da0c4ccbff0c",
   "metadata": {},
   "outputs": [
    {
     "data": {
      "text/plain": [
       "array([0], dtype=int64)"
      ]
     },
     "execution_count": 34,
     "metadata": {},
     "output_type": "execute_result"
    }
   ],
   "source": [
    "pipeline.predict(real_df)"
   ]
  },
  {
   "cell_type": "code",
   "execution_count": 35,
   "id": "e41e4ee2-9a04-4c9b-846e-2136930383a2",
   "metadata": {},
   "outputs": [
    {
     "data": {
      "text/html": [
       "<div>\n",
       "<style scoped>\n",
       "    .dataframe tbody tr th:only-of-type {\n",
       "        vertical-align: middle;\n",
       "    }\n",
       "\n",
       "    .dataframe tbody tr th {\n",
       "        vertical-align: top;\n",
       "    }\n",
       "\n",
       "    .dataframe thead th {\n",
       "        text-align: right;\n",
       "    }\n",
       "</style>\n",
       "<table border=\"1\" class=\"dataframe\">\n",
       "  <thead>\n",
       "    <tr style=\"text-align: right;\">\n",
       "      <th></th>\n",
       "      <th>ph</th>\n",
       "      <th>Hardness</th>\n",
       "      <th>Solids</th>\n",
       "      <th>Chloramines</th>\n",
       "      <th>Sulfate</th>\n",
       "      <th>Conductivity</th>\n",
       "      <th>Organic_carbon</th>\n",
       "      <th>Trihalomethanes</th>\n",
       "      <th>Turbidity</th>\n",
       "    </tr>\n",
       "  </thead>\n",
       "  <tbody>\n",
       "    <tr>\n",
       "      <th>0</th>\n",
       "      <td>7.036752</td>\n",
       "      <td>204.890456</td>\n",
       "      <td>20791.319</td>\n",
       "      <td>7.300212</td>\n",
       "      <td>368.516441</td>\n",
       "      <td>564.308654</td>\n",
       "      <td>10.379783</td>\n",
       "      <td>86.990971</td>\n",
       "      <td>2.963135</td>\n",
       "    </tr>\n",
       "  </tbody>\n",
       "</table>\n",
       "</div>"
      ],
      "text/plain": [
       "         ph    Hardness     Solids  Chloramines     Sulfate  Conductivity  \\\n",
       "0  7.036752  204.890456  20791.319     7.300212  368.516441    564.308654   \n",
       "\n",
       "   Organic_carbon  Trihalomethanes  Turbidity  \n",
       "0       10.379783        86.990971   2.963135  "
      ]
     },
     "execution_count": 35,
     "metadata": {},
     "output_type": "execute_result"
    }
   ],
   "source": [
    "real_df"
   ]
  },
  {
   "cell_type": "code",
   "execution_count": 33,
   "id": "96bc531b-246b-498c-8665-180479d3e142",
   "metadata": {},
   "outputs": [
    {
     "data": {
      "text/plain": [
       "0"
      ]
     },
     "execution_count": 33,
     "metadata": {},
     "output_type": "execute_result"
    }
   ],
   "source": [
    "ret[0]"
   ]
  },
  {
   "cell_type": "code",
   "execution_count": 32,
   "id": "3d819aca-87e5-4b6a-a9ff-e1fc6e03228b",
   "metadata": {},
   "outputs": [
    {
     "name": "stdout",
     "output_type": "stream",
     "text": [
      "Do not Drink!!!\n"
     ]
    }
   ],
   "source": [
    "if ret[0] == 0 :\n",
    "    print('Do not Drink!!!')\n",
    "else :\n",
    "    print('You can Drink')"
   ]
  },
  {
   "cell_type": "code",
   "execution_count": null,
   "id": "cfdcd47e-ce24-477b-954e-e702245105bc",
   "metadata": {},
   "outputs": [],
   "source": []
  },
  {
   "cell_type": "code",
   "execution_count": null,
   "id": "a33e68b1-0bef-426e-ab1b-e82c046ad1cb",
   "metadata": {},
   "outputs": [],
   "source": []
  },
  {
   "cell_type": "code",
   "execution_count": null,
   "id": "e26868ee-e4f1-49e4-a335-61914cb5119a",
   "metadata": {},
   "outputs": [],
   "source": []
  },
  {
   "cell_type": "code",
   "execution_count": null,
   "id": "45c8d20c-22e7-4416-8dd5-d67ac9329bab",
   "metadata": {},
   "outputs": [],
   "source": []
  },
  {
   "cell_type": "code",
   "execution_count": null,
   "id": "155902f1-61ab-4520-83ac-804e70772c2f",
   "metadata": {},
   "outputs": [],
   "source": []
  },
  {
   "cell_type": "code",
   "execution_count": null,
   "id": "4603ed25-c777-41b0-86c8-999f96603490",
   "metadata": {},
   "outputs": [],
   "source": []
  },
  {
   "cell_type": "code",
   "execution_count": null,
   "id": "a50ef878-b3a0-44d5-a7e0-f0f251fac97e",
   "metadata": {},
   "outputs": [],
   "source": [
    "ph = input('ph를 입력하세요.')"
   ]
  },
  {
   "cell_type": "code",
   "execution_count": null,
   "id": "8b0facf6-2b5d-4abc-a91a-abf295d8304f",
   "metadata": {},
   "outputs": [],
   "source": []
  },
  {
   "cell_type": "code",
   "execution_count": null,
   "id": "51f79393-ead3-4d68-a0c2-a3cf41b8edc9",
   "metadata": {},
   "outputs": [],
   "source": [
    "columns = []"
   ]
  },
  {
   "cell_type": "code",
   "execution_count": null,
   "id": "bd11033c-758b-484e-aef4-656c5182f557",
   "metadata": {},
   "outputs": [],
   "source": []
  },
  {
   "cell_type": "code",
   "execution_count": null,
   "id": "f162b93c-498d-44a7-b601-d04e3dc94900",
   "metadata": {},
   "outputs": [],
   "source": []
  },
  {
   "cell_type": "code",
   "execution_count": null,
   "id": "3997d0b6-ddef-443d-9e9a-951b0784fb32",
   "metadata": {},
   "outputs": [],
   "source": [
    "# real data 넣기\n",
    "real_water = [None, 2.04890456e+02, 2.07913190e+04, 7.30021187e+00,\n",
    "        3.68516441e+02, 5.64308654e+02, 1.03797831e+01, 8.69909705e+01,\n",
    "        2.96313538e+00]"
   ]
  },
  {
   "cell_type": "code",
   "execution_count": null,
   "id": "bf8f1fe4-89aa-4d87-b12f-1809653ba709",
   "metadata": {},
   "outputs": [],
   "source": [
    "데이터 프레임으로 컬럼이름 줘서 만들어야겠다."
   ]
  },
  {
   "cell_type": "code",
   "execution_count": null,
   "id": "6014f4ab-6f10-415b-9c7c-ba875d776ffc",
   "metadata": {},
   "outputs": [],
   "source": []
  },
  {
   "cell_type": "code",
   "execution_count": null,
   "id": "f2756ee6-153e-4df5-aaec-93476e4b4d69",
   "metadata": {},
   "outputs": [],
   "source": []
  },
  {
   "cell_type": "code",
   "execution_count": null,
   "id": "8c0e192d-5bf7-4dc9-a435-e19f2d4f95f0",
   "metadata": {},
   "outputs": [],
   "source": []
  },
  {
   "cell_type": "code",
   "execution_count": null,
   "id": "da3db387-a4dc-4339-a95b-97a853cbee2a",
   "metadata": {},
   "outputs": [],
   "source": []
  },
  {
   "cell_type": "code",
   "execution_count": null,
   "id": "50c3bca3-a336-4da1-bdc4-75a60cc0db12",
   "metadata": {},
   "outputs": [],
   "source": []
  },
  {
   "cell_type": "code",
   "execution_count": null,
   "id": "0186eee0-2be6-4a25-bd0a-54817c9d2cbf",
   "metadata": {},
   "outputs": [],
   "source": [
    "water"
   ]
  },
  {
   "cell_type": "code",
   "execution_count": null,
   "id": "f3e7c535-dbcf-4657-b10e-e3a1410f5246",
   "metadata": {},
   "outputs": [],
   "source": [
    "water"
   ]
  },
  {
   "cell_type": "code",
   "execution_count": null,
   "id": "9a5b7ad3-3975-480d-a68c-02cdebbaaaeb",
   "metadata": {},
   "outputs": [],
   "source": [
    "water.info()"
   ]
  },
  {
   "cell_type": "code",
   "execution_count": null,
   "id": "304195a0-74c5-4af5-8cef-a17dd2c0e701",
   "metadata": {},
   "outputs": [],
   "source": [
    "water.iloc[0].values"
   ]
  },
  {
   "cell_type": "code",
   "execution_count": null,
   "id": "71103b74-7805-4ccd-b2c9-c321c09e22e1",
   "metadata": {},
   "outputs": [],
   "source": [
    "water.isnull().sum()"
   ]
  },
  {
   "cell_type": "code",
   "execution_count": null,
   "id": "3e9963f0-d2c7-4b07-a2d3-3601d45f9d1d",
   "metadata": {},
   "outputs": [],
   "source": [
    "col = ['ph', 'Sulfate', 'Trihalomethanes']"
   ]
  },
  {
   "cell_type": "code",
   "execution_count": null,
   "id": "aba95fa8-9f3c-4e8f-8a85-02cfdfe0f614",
   "metadata": {},
   "outputs": [],
   "source": [
    "for i in col :\n",
    "    water[i] = water[i].fillna(water[i].median())"
   ]
  },
  {
   "cell_type": "code",
   "execution_count": null,
   "id": "3803fb7c-99e4-4608-a36f-647d24e0b7d8",
   "metadata": {},
   "outputs": [],
   "source": [
    "water.isnull().sum()"
   ]
  },
  {
   "cell_type": "code",
   "execution_count": null,
   "id": "9cc9b839-a83c-4daa-897e-5224d7427b16",
   "metadata": {},
   "outputs": [],
   "source": []
  },
  {
   "cell_type": "code",
   "execution_count": null,
   "id": "28a3abaa-a34c-4ed8-9756-31957d86aae3",
   "metadata": {},
   "outputs": [],
   "source": [
    "pipeline = Pipeline([('scaler', StandardScaler()), ('svc', SVC())])"
   ]
  },
  {
   "cell_type": "code",
   "execution_count": null,
   "id": "cdbde7ed-437c-484c-ba04-37a5294f16e3",
   "metadata": {},
   "outputs": [],
   "source": [
    "x = water.drop('Potability', axis = 1) # 나머지 변수들"
   ]
  },
  {
   "cell_type": "code",
   "execution_count": null,
   "id": "99308e7e-5408-4f74-88be-3978aa908191",
   "metadata": {},
   "outputs": [],
   "source": [
    "y = water['Potability'] # 종속변수"
   ]
  },
  {
   "cell_type": "code",
   "execution_count": null,
   "id": "ff9038e2-4cb8-432c-9855-921d08cf2cc9",
   "metadata": {},
   "outputs": [],
   "source": [
    "x_train, x_test, y_train, y_test = train_test_split(x, y, test_size = 0.2, random_state = 0)"
   ]
  },
  {
   "cell_type": "code",
   "execution_count": null,
   "id": "7def8d67-7fd6-4773-a91a-b685a514aa2f",
   "metadata": {},
   "outputs": [],
   "source": [
    "pipeline.fit(x_train, y_train)"
   ]
  },
  {
   "cell_type": "code",
   "execution_count": null,
   "id": "1508f1c9-71f8-4b27-bed5-fa8dbf492b34",
   "metadata": {},
   "outputs": [],
   "source": [
    "pipeline.score(x_train, y_train)"
   ]
  },
  {
   "cell_type": "code",
   "execution_count": null,
   "id": "f63d7205-7aab-41f4-adea-248436b8aca6",
   "metadata": {},
   "outputs": [],
   "source": [
    "pipeline.score(x_test, y_test)"
   ]
  },
  {
   "cell_type": "code",
   "execution_count": null,
   "id": "b318ce40-8413-46bc-8d47-22d9ad703c40",
   "metadata": {},
   "outputs": [],
   "source": [
    "# make_pipeline 활용"
   ]
  },
  {
   "cell_type": "code",
   "execution_count": null,
   "id": "9647c6ca-4148-4bd9-83b0-1102312edf26",
   "metadata": {},
   "outputs": [],
   "source": [
    "pipeline2 = make_pipeline(StandardScaler(), SVC())"
   ]
  },
  {
   "cell_type": "code",
   "execution_count": null,
   "id": "16d9cb82-7532-481e-837d-20b5c9ff0acd",
   "metadata": {},
   "outputs": [],
   "source": [
    "pipeline2"
   ]
  },
  {
   "cell_type": "code",
   "execution_count": null,
   "id": "cc5b4db3-c315-4b30-9f1e-48f07c7f943f",
   "metadata": {},
   "outputs": [],
   "source": [
    "pipeline2.fit(x_train, y_train)"
   ]
  },
  {
   "cell_type": "code",
   "execution_count": null,
   "id": "3eb0476d-0a25-4802-a305-a7fb9aad6040",
   "metadata": {},
   "outputs": [],
   "source": [
    "pipeline2.score(x_test, y_test)"
   ]
  },
  {
   "cell_type": "code",
   "execution_count": null,
   "id": "016dd3d7-3091-48c5-b0f6-6060942de9e5",
   "metadata": {},
   "outputs": [],
   "source": [
    "pipeline2.named_steps"
   ]
  },
  {
   "cell_type": "code",
   "execution_count": null,
   "id": "4f9c7139-91c8-411c-9ba9-8276081e093e",
   "metadata": {},
   "outputs": [],
   "source": [
    "pipeline2.named_steps['standardscaler']"
   ]
  },
  {
   "cell_type": "code",
   "execution_count": null,
   "id": "dc823dc7-9a97-4a3f-90d3-79e24f64ac9c",
   "metadata": {},
   "outputs": [],
   "source": [
    "pipeline2.named_steps['standardscaler'].mean_"
   ]
  },
  {
   "cell_type": "code",
   "execution_count": null,
   "id": "38af237f-bbda-4724-a29d-7857e45fba6e",
   "metadata": {},
   "outputs": [],
   "source": []
  },
  {
   "cell_type": "code",
   "execution_count": null,
   "id": "08daf2e8-c9f6-4adb-b5b0-ac653a40c3e4",
   "metadata": {},
   "outputs": [],
   "source": []
  },
  {
   "cell_type": "code",
   "execution_count": null,
   "id": "ae94e1b3-8793-4e2d-9e08-4236ece630cb",
   "metadata": {},
   "outputs": [],
   "source": [
    "water_dict = {}\n",
    "for i in water.columns :\n",
    "    water_dict[i] = water[i].median()"
   ]
  },
  {
   "cell_type": "code",
   "execution_count": null,
   "id": "ac5bbcbe-09d6-4da2-b770-1831c6414001",
   "metadata": {},
   "outputs": [],
   "source": [
    "water_dict"
   ]
  },
  {
   "cell_type": "code",
   "execution_count": null,
   "id": "a7a891cc-f3c1-4ff0-9bf5-8e24d96ab2bb",
   "metadata": {
    "tags": []
   },
   "outputs": [],
   "source": [
    "for i in water :\n",
    "    print(water[i])"
   ]
  },
  {
   "cell_type": "code",
   "execution_count": null,
   "id": "d789bde8-6a4e-4027-ae7a-2eff4fe79870",
   "metadata": {},
   "outputs": [],
   "source": [
    "def scaler(x) : \n",
    "    "
   ]
  },
  {
   "cell_type": "code",
   "execution_count": null,
   "id": "db673934-9714-47cc-aa28-cc939a69c3a9",
   "metadata": {},
   "outputs": [],
   "source": [
    "scaler(real_water)"
   ]
  },
  {
   "cell_type": "code",
   "execution_count": null,
   "id": "bdf86cb9-7e6c-46d6-a610-fb6d1794b28d",
   "metadata": {},
   "outputs": [],
   "source": [
    "trans_func = FunctionTransformer(scaler)"
   ]
  },
  {
   "cell_type": "code",
   "execution_count": null,
   "id": "ef6f139b-cfa3-4ef5-8ecc-2bcd461646ed",
   "metadata": {},
   "outputs": [],
   "source": [
    "pipeline3 = make_pipeline(tran, SVC())"
   ]
  }
 ],
 "metadata": {
  "kernelspec": {
   "display_name": "Python 3 (ipykernel)",
   "language": "python",
   "name": "python3"
  },
  "language_info": {
   "codemirror_mode": {
    "name": "ipython",
    "version": 3
   },
   "file_extension": ".py",
   "mimetype": "text/x-python",
   "name": "python",
   "nbconvert_exporter": "python",
   "pygments_lexer": "ipython3",
   "version": "3.9.12"
  }
 },
 "nbformat": 4,
 "nbformat_minor": 5
}
