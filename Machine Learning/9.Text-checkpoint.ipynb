{
 "cells": [
  {
   "cell_type": "code",
   "execution_count": 1,
   "id": "3b219d4b-edfd-45b9-8632-460acfcb80ce",
   "metadata": {},
   "outputs": [],
   "source": [
    "docs = [\"the cat in the hat\",\n",
    "       \"the cow jumped over the moon\",\n",
    "       \"the cat mooed and the cow meowed\", \n",
    "       \"the cat said to the cow cow you are not a cat\"]"
   ]
  },
  {
   "cell_type": "code",
   "execution_count": null,
   "id": "9a6fce4a-ee46-4da5-bcb1-7a9c6f1209bb",
   "metadata": {},
   "outputs": [],
   "source": [
    "# 단어 분리 후 중복된 것을 빼고 싶음"
   ]
  },
  {
   "cell_type": "code",
   "execution_count": null,
   "id": "4d6b796e-7890-404d-9d22-b3defcf3d7d7",
   "metadata": {},
   "outputs": [],
   "source": [
    "# 강사님 풀이"
   ]
  },
  {
   "cell_type": "code",
   "execution_count": 17,
   "id": "204b481b-5177-4982-a9f1-be67bb95952b",
   "metadata": {},
   "outputs": [],
   "source": [
    "vocabulary= set(' '.join(docs).split())"
   ]
  },
  {
   "cell_type": "code",
   "execution_count": 20,
   "id": "8a649123-4f8a-41f6-89d4-44db4c756aec",
   "metadata": {},
   "outputs": [],
   "source": [
    "common_words = set(['a', 'to', 'the', 'in', 'and', 'are'])"
   ]
  },
  {
   "cell_type": "code",
   "execution_count": 18,
   "id": "eb61074a-cd62-41a1-8abc-fd69ac939a74",
   "metadata": {},
   "outputs": [
    {
     "data": {
      "text/plain": [
       "{'a',\n",
       " 'and',\n",
       " 'are',\n",
       " 'cat',\n",
       " 'cow',\n",
       " 'hat',\n",
       " 'in',\n",
       " 'jumped',\n",
       " 'meowed',\n",
       " 'mooed',\n",
       " 'moon',\n",
       " 'not',\n",
       " 'over',\n",
       " 'said',\n",
       " 'the',\n",
       " 'to',\n",
       " 'you'}"
      ]
     },
     "execution_count": 18,
     "metadata": {},
     "output_type": "execute_result"
    }
   ],
   "source": [
    "vocabulary"
   ]
  },
  {
   "cell_type": "code",
   "execution_count": 21,
   "id": "e946e31b-34d2-4cdd-9c49-48c1a3df27c9",
   "metadata": {},
   "outputs": [
    {
     "data": {
      "text/plain": [
       "{'a', 'and', 'are', 'in', 'the', 'to'}"
      ]
     },
     "execution_count": 21,
     "metadata": {},
     "output_type": "execute_result"
    }
   ],
   "source": [
    "common_words"
   ]
  },
  {
   "cell_type": "code",
   "execution_count": 23,
   "id": "703fadf0-907e-42db-8132-da65f2a37be8",
   "metadata": {},
   "outputs": [],
   "source": [
    "vocabulary2 = vocabulary - common_words"
   ]
  },
  {
   "cell_type": "code",
   "execution_count": 24,
   "id": "43e28147-d256-4d9f-ad53-f5b965b97c0d",
   "metadata": {},
   "outputs": [
    {
     "data": {
      "text/plain": [
       "{'cat',\n",
       " 'cow',\n",
       " 'hat',\n",
       " 'jumped',\n",
       " 'meowed',\n",
       " 'mooed',\n",
       " 'moon',\n",
       " 'not',\n",
       " 'over',\n",
       " 'said',\n",
       " 'you'}"
      ]
     },
     "execution_count": 24,
     "metadata": {},
     "output_type": "execute_result"
    }
   ],
   "source": [
    "vocabulary2"
   ]
  },
  {
   "cell_type": "code",
   "execution_count": null,
   "id": "581674a9-ba71-4447-af91-95a8b41aaf57",
   "metadata": {
    "tags": []
   },
   "outputs": [],
   "source": [
    "#문장마다 검사하기\n",
    "결과값: \n",
    "[{'said': False,\n",
    "  'you': False,\n",
    "  'not': False,\n",
    "  'jumped': False,\n",
    "  'hat': True,\n",
    "  'cow': False,\n",
    "  'over': False,\n",
    "  'meowed': False,\n",
    "  'cat': True,\n",
    "  'moon': False,\n",
    "  'mooed': False},\n",
    " {'said': False,\n",
    "  'you': False,\n",
    "  'not': False,\n",
    "  'jumped': True,\n",
    "  'hat': False,\n",
    "  'cow': True,\n",
    "  'over': True,\n",
    "  'meowed': False,\n",
    "  'cat': False,\n",
    "  'moon': True,\n",
    "  'mooed': False},\n",
    " {'said': False,\n",
    "  'you': False,\n",
    "  'not': False,\n",
    "  'jumped': False,\n",
    "  'hat': False,\n",
    "  'cow': True,\n",
    "  'over': False,\n",
    "  'meowed': True,\n",
    "  'cat': True,\n",
    "  'moon': False,\n",
    "  'mooed': True},\n",
    " {'said': True,\n",
    "  'you': True,\n",
    "  'not': True,\n",
    "  'jumped': False,\n",
    "  'hat': False,\n",
    "  'cow': True,\n",
    "  'over': False,\n",
    "  'meowed': False,\n",
    "  'cat': True,\n",
    "  'moon': False,\n",
    "  'mooed': False}]"
   ]
  },
  {
   "cell_type": "code",
   "execution_count": 67,
   "id": "b0d7ad6e-8e97-4c01-a5cf-11e8888f6170",
   "metadata": {},
   "outputs": [
    {
     "name": "stdout",
     "output_type": "stream",
     "text": [
      "said False\n",
      "you False\n",
      "not False\n",
      "jumped False\n",
      "hat True\n",
      "cow False\n",
      "over False\n",
      "meowed False\n",
      "cat True\n",
      "moon False\n",
      "mooed False\n",
      "said False\n",
      "you False\n",
      "not False\n",
      "jumped True\n",
      "hat False\n",
      "cow True\n",
      "over True\n",
      "meowed False\n",
      "cat False\n",
      "moon True\n",
      "mooed False\n",
      "said False\n",
      "you False\n",
      "not False\n",
      "jumped False\n",
      "hat False\n",
      "cow True\n",
      "over False\n",
      "meowed True\n",
      "cat True\n",
      "moon False\n",
      "mooed True\n",
      "said True\n",
      "you True\n",
      "not True\n",
      "jumped False\n",
      "hat False\n",
      "cow True\n",
      "over False\n",
      "meowed False\n",
      "cat True\n",
      "moon False\n",
      "mooed False\n"
     ]
    }
   ],
   "source": [
    "# 강사님 풀이\n",
    "for d in docs :\n",
    "    for v in vocabulary2 :\n",
    "        print(v, v in d)"
   ]
  },
  {
   "cell_type": "code",
   "execution_count": 71,
   "id": "bc1ceb82-7656-4331-b3af-d6b6fe86f3d6",
   "metadata": {},
   "outputs": [],
   "source": [
    "# 강사님 코드\n",
    "dic_list = []\n",
    "for d in docs :\n",
    "    dic = {}\n",
    "    for v in vocabulary2 :\n",
    "        dic[v] = v in d\n",
    "    dic_list.append(dic)"
   ]
  },
  {
   "cell_type": "code",
   "execution_count": 72,
   "id": "ae6cec83-c754-428b-863f-24a43d1b342e",
   "metadata": {
    "collapsed": true,
    "jupyter": {
     "outputs_hidden": true
    },
    "tags": []
   },
   "outputs": [
    {
     "data": {
      "text/plain": [
       "[{'said': False,\n",
       "  'you': False,\n",
       "  'not': False,\n",
       "  'jumped': False,\n",
       "  'hat': True,\n",
       "  'cow': False,\n",
       "  'over': False,\n",
       "  'meowed': False,\n",
       "  'cat': True,\n",
       "  'moon': False,\n",
       "  'mooed': False},\n",
       " {'said': False,\n",
       "  'you': False,\n",
       "  'not': False,\n",
       "  'jumped': True,\n",
       "  'hat': False,\n",
       "  'cow': True,\n",
       "  'over': True,\n",
       "  'meowed': False,\n",
       "  'cat': False,\n",
       "  'moon': True,\n",
       "  'mooed': False},\n",
       " {'said': False,\n",
       "  'you': False,\n",
       "  'not': False,\n",
       "  'jumped': False,\n",
       "  'hat': False,\n",
       "  'cow': True,\n",
       "  'over': False,\n",
       "  'meowed': True,\n",
       "  'cat': True,\n",
       "  'moon': False,\n",
       "  'mooed': True},\n",
       " {'said': True,\n",
       "  'you': True,\n",
       "  'not': True,\n",
       "  'jumped': False,\n",
       "  'hat': False,\n",
       "  'cow': True,\n",
       "  'over': False,\n",
       "  'meowed': False,\n",
       "  'cat': True,\n",
       "  'moon': False,\n",
       "  'mooed': False}]"
      ]
     },
     "execution_count": 72,
     "metadata": {},
     "output_type": "execute_result"
    }
   ],
   "source": [
    "dic_list"
   ]
  },
  {
   "cell_type": "code",
   "execution_count": 73,
   "id": "d28527ca-6d71-4fb9-af44-74338e9d085c",
   "metadata": {
    "collapsed": true,
    "jupyter": {
     "outputs_hidden": true
    },
    "tags": []
   },
   "outputs": [
    {
     "data": {
      "text/plain": [
       "[{'said': False,\n",
       "  'you': False,\n",
       "  'not': False,\n",
       "  'jumped': False,\n",
       "  'hat': True,\n",
       "  'cow': False,\n",
       "  'over': False,\n",
       "  'meowed': False,\n",
       "  'cat': True,\n",
       "  'moon': False,\n",
       "  'mooed': False},\n",
       " {'said': False,\n",
       "  'you': False,\n",
       "  'not': False,\n",
       "  'jumped': True,\n",
       "  'hat': False,\n",
       "  'cow': True,\n",
       "  'over': True,\n",
       "  'meowed': False,\n",
       "  'cat': False,\n",
       "  'moon': True,\n",
       "  'mooed': False},\n",
       " {'said': False,\n",
       "  'you': False,\n",
       "  'not': False,\n",
       "  'jumped': False,\n",
       "  'hat': False,\n",
       "  'cow': True,\n",
       "  'over': False,\n",
       "  'meowed': True,\n",
       "  'cat': True,\n",
       "  'moon': False,\n",
       "  'mooed': True},\n",
       " {'said': True,\n",
       "  'you': True,\n",
       "  'not': True,\n",
       "  'jumped': False,\n",
       "  'hat': False,\n",
       "  'cow': True,\n",
       "  'over': False,\n",
       "  'meowed': False,\n",
       "  'cat': True,\n",
       "  'moon': False,\n",
       "  'mooed': False}]"
      ]
     },
     "execution_count": 73,
     "metadata": {},
     "output_type": "execute_result"
    }
   ],
   "source": [
    "# 강사님 코드 (comprehension 형태)\n",
    "[{v:(v in d) for v in vocabulary2} for d in docs]"
   ]
  },
  {
   "cell_type": "code",
   "execution_count": 74,
   "id": "f24ff382-28b0-4c72-851c-77430806d3be",
   "metadata": {},
   "outputs": [],
   "source": [
    "doc_contains = [{v:(v in d) for v in vocabulary2} for d in docs]"
   ]
  },
  {
   "cell_type": "code",
   "execution_count": 75,
   "id": "caa55b74-188d-4db6-89bd-95543f800562",
   "metadata": {},
   "outputs": [],
   "source": [
    "import pandas as pd"
   ]
  },
  {
   "cell_type": "code",
   "execution_count": 76,
   "id": "a27a0400-a09e-44cb-9193-0d01eb018655",
   "metadata": {},
   "outputs": [],
   "source": [
    "dcs = pd.DataFrame(doc_contains)"
   ]
  },
  {
   "cell_type": "code",
   "execution_count": 77,
   "id": "299bbb3e-2c6e-4b15-8e0a-610b8e8ee5ff",
   "metadata": {},
   "outputs": [
    {
     "data": {
      "text/html": [
       "<div>\n",
       "<style scoped>\n",
       "    .dataframe tbody tr th:only-of-type {\n",
       "        vertical-align: middle;\n",
       "    }\n",
       "\n",
       "    .dataframe tbody tr th {\n",
       "        vertical-align: top;\n",
       "    }\n",
       "\n",
       "    .dataframe thead th {\n",
       "        text-align: right;\n",
       "    }\n",
       "</style>\n",
       "<table border=\"1\" class=\"dataframe\">\n",
       "  <thead>\n",
       "    <tr style=\"text-align: right;\">\n",
       "      <th></th>\n",
       "      <th>said</th>\n",
       "      <th>you</th>\n",
       "      <th>not</th>\n",
       "      <th>jumped</th>\n",
       "      <th>hat</th>\n",
       "      <th>cow</th>\n",
       "      <th>over</th>\n",
       "      <th>meowed</th>\n",
       "      <th>cat</th>\n",
       "      <th>moon</th>\n",
       "      <th>mooed</th>\n",
       "    </tr>\n",
       "  </thead>\n",
       "  <tbody>\n",
       "    <tr>\n",
       "      <th>0</th>\n",
       "      <td>False</td>\n",
       "      <td>False</td>\n",
       "      <td>False</td>\n",
       "      <td>False</td>\n",
       "      <td>True</td>\n",
       "      <td>False</td>\n",
       "      <td>False</td>\n",
       "      <td>False</td>\n",
       "      <td>True</td>\n",
       "      <td>False</td>\n",
       "      <td>False</td>\n",
       "    </tr>\n",
       "    <tr>\n",
       "      <th>1</th>\n",
       "      <td>False</td>\n",
       "      <td>False</td>\n",
       "      <td>False</td>\n",
       "      <td>True</td>\n",
       "      <td>False</td>\n",
       "      <td>True</td>\n",
       "      <td>True</td>\n",
       "      <td>False</td>\n",
       "      <td>False</td>\n",
       "      <td>True</td>\n",
       "      <td>False</td>\n",
       "    </tr>\n",
       "    <tr>\n",
       "      <th>2</th>\n",
       "      <td>False</td>\n",
       "      <td>False</td>\n",
       "      <td>False</td>\n",
       "      <td>False</td>\n",
       "      <td>False</td>\n",
       "      <td>True</td>\n",
       "      <td>False</td>\n",
       "      <td>True</td>\n",
       "      <td>True</td>\n",
       "      <td>False</td>\n",
       "      <td>True</td>\n",
       "    </tr>\n",
       "    <tr>\n",
       "      <th>3</th>\n",
       "      <td>True</td>\n",
       "      <td>True</td>\n",
       "      <td>True</td>\n",
       "      <td>False</td>\n",
       "      <td>False</td>\n",
       "      <td>True</td>\n",
       "      <td>False</td>\n",
       "      <td>False</td>\n",
       "      <td>True</td>\n",
       "      <td>False</td>\n",
       "      <td>False</td>\n",
       "    </tr>\n",
       "  </tbody>\n",
       "</table>\n",
       "</div>"
      ],
      "text/plain": [
       "    said    you    not  jumped    hat    cow   over  meowed    cat   moon  \\\n",
       "0  False  False  False   False   True  False  False   False   True  False   \n",
       "1  False  False  False    True  False   True   True   False  False   True   \n",
       "2  False  False  False   False  False   True  False    True   True  False   \n",
       "3   True   True   True   False  False   True  False   False   True  False   \n",
       "\n",
       "   mooed  \n",
       "0  False  \n",
       "1  False  \n",
       "2   True  \n",
       "3  False  "
      ]
     },
     "execution_count": 77,
     "metadata": {},
     "output_type": "execute_result"
    }
   ],
   "source": [
    "dcs"
   ]
  },
  {
   "cell_type": "code",
   "execution_count": 78,
   "id": "8580ac93-fed3-4460-848e-5c70d114b933",
   "metadata": {},
   "outputs": [
    {
     "data": {
      "text/html": [
       "<div>\n",
       "<style scoped>\n",
       "    .dataframe tbody tr th:only-of-type {\n",
       "        vertical-align: middle;\n",
       "    }\n",
       "\n",
       "    .dataframe tbody tr th {\n",
       "        vertical-align: top;\n",
       "    }\n",
       "\n",
       "    .dataframe thead th {\n",
       "        text-align: right;\n",
       "    }\n",
       "</style>\n",
       "<table border=\"1\" class=\"dataframe\">\n",
       "  <thead>\n",
       "    <tr style=\"text-align: right;\">\n",
       "      <th></th>\n",
       "      <th>cat</th>\n",
       "      <th>cow</th>\n",
       "      <th>hat</th>\n",
       "      <th>jumped</th>\n",
       "      <th>meowed</th>\n",
       "      <th>mooed</th>\n",
       "      <th>moon</th>\n",
       "      <th>not</th>\n",
       "      <th>over</th>\n",
       "      <th>said</th>\n",
       "      <th>you</th>\n",
       "    </tr>\n",
       "  </thead>\n",
       "  <tbody>\n",
       "    <tr>\n",
       "      <th>0</th>\n",
       "      <td>True</td>\n",
       "      <td>False</td>\n",
       "      <td>True</td>\n",
       "      <td>False</td>\n",
       "      <td>False</td>\n",
       "      <td>False</td>\n",
       "      <td>False</td>\n",
       "      <td>False</td>\n",
       "      <td>False</td>\n",
       "      <td>False</td>\n",
       "      <td>False</td>\n",
       "    </tr>\n",
       "    <tr>\n",
       "      <th>1</th>\n",
       "      <td>False</td>\n",
       "      <td>True</td>\n",
       "      <td>False</td>\n",
       "      <td>True</td>\n",
       "      <td>False</td>\n",
       "      <td>False</td>\n",
       "      <td>True</td>\n",
       "      <td>False</td>\n",
       "      <td>True</td>\n",
       "      <td>False</td>\n",
       "      <td>False</td>\n",
       "    </tr>\n",
       "    <tr>\n",
       "      <th>2</th>\n",
       "      <td>True</td>\n",
       "      <td>True</td>\n",
       "      <td>False</td>\n",
       "      <td>False</td>\n",
       "      <td>True</td>\n",
       "      <td>True</td>\n",
       "      <td>False</td>\n",
       "      <td>False</td>\n",
       "      <td>False</td>\n",
       "      <td>False</td>\n",
       "      <td>False</td>\n",
       "    </tr>\n",
       "    <tr>\n",
       "      <th>3</th>\n",
       "      <td>True</td>\n",
       "      <td>True</td>\n",
       "      <td>False</td>\n",
       "      <td>False</td>\n",
       "      <td>False</td>\n",
       "      <td>False</td>\n",
       "      <td>False</td>\n",
       "      <td>True</td>\n",
       "      <td>False</td>\n",
       "      <td>True</td>\n",
       "      <td>True</td>\n",
       "    </tr>\n",
       "  </tbody>\n",
       "</table>\n",
       "</div>"
      ],
      "text/plain": [
       "     cat    cow    hat  jumped  meowed  mooed   moon    not   over   said  \\\n",
       "0   True  False   True   False   False  False  False  False  False  False   \n",
       "1  False   True  False    True   False  False   True  False   True  False   \n",
       "2   True   True  False   False    True   True  False  False  False  False   \n",
       "3   True   True  False   False   False  False  False   True  False   True   \n",
       "\n",
       "     you  \n",
       "0  False  \n",
       "1  False  \n",
       "2  False  \n",
       "3   True  "
      ]
     },
     "execution_count": 78,
     "metadata": {},
     "output_type": "execute_result"
    }
   ],
   "source": [
    "dcs.sort_index(axis = 1)"
   ]
  },
  {
   "cell_type": "code",
   "execution_count": null,
   "id": "581a18b3-5764-4f6f-8eb3-d235fd7fd48c",
   "metadata": {},
   "outputs": [],
   "source": [
    "# 오후 수업"
   ]
  },
  {
   "cell_type": "code",
   "execution_count": null,
   "id": "1fb5b263-3efc-473f-b49e-f2d2ad7fb5e7",
   "metadata": {},
   "outputs": [],
   "source": [
    "# 갯수 새는 것을 표기해보자."
   ]
  },
  {
   "cell_type": "code",
   "execution_count": 93,
   "id": "1eeabd36-7428-41c4-847f-44a1b100b563",
   "metadata": {},
   "outputs": [],
   "source": [
    "dic_list = []\n",
    "for d in docs :\n",
    "    dic = {}\n",
    "    for v in vocabulary2 :\n",
    "        dic[v] = d.count(v)\n",
    "    dic_list.append(dic)"
   ]
  },
  {
   "cell_type": "code",
   "execution_count": 95,
   "id": "699f92ff-89d3-4426-8d9e-0b37e732a281",
   "metadata": {
    "collapsed": true,
    "jupyter": {
     "outputs_hidden": true
    },
    "tags": []
   },
   "outputs": [
    {
     "data": {
      "text/plain": [
       "[{'said': 0,\n",
       "  'you': 0,\n",
       "  'not': 0,\n",
       "  'jumped': 0,\n",
       "  'hat': 1,\n",
       "  'cow': 0,\n",
       "  'over': 0,\n",
       "  'meowed': 0,\n",
       "  'cat': 1,\n",
       "  'moon': 0,\n",
       "  'mooed': 0},\n",
       " {'said': 0,\n",
       "  'you': 0,\n",
       "  'not': 0,\n",
       "  'jumped': 1,\n",
       "  'hat': 0,\n",
       "  'cow': 1,\n",
       "  'over': 1,\n",
       "  'meowed': 0,\n",
       "  'cat': 0,\n",
       "  'moon': 1,\n",
       "  'mooed': 0},\n",
       " {'said': 0,\n",
       "  'you': 0,\n",
       "  'not': 0,\n",
       "  'jumped': 0,\n",
       "  'hat': 0,\n",
       "  'cow': 1,\n",
       "  'over': 0,\n",
       "  'meowed': 1,\n",
       "  'cat': 1,\n",
       "  'moon': 0,\n",
       "  'mooed': 1},\n",
       " {'said': 1,\n",
       "  'you': 1,\n",
       "  'not': 1,\n",
       "  'jumped': 0,\n",
       "  'hat': 0,\n",
       "  'cow': 2,\n",
       "  'over': 0,\n",
       "  'meowed': 0,\n",
       "  'cat': 2,\n",
       "  'moon': 0,\n",
       "  'mooed': 0}]"
      ]
     },
     "execution_count": 95,
     "metadata": {},
     "output_type": "execute_result"
    }
   ],
   "source": [
    "dic_list"
   ]
  },
  {
   "cell_type": "code",
   "execution_count": 99,
   "id": "e600f975-5ce9-4b79-b386-f40291dfc923",
   "metadata": {},
   "outputs": [],
   "source": [
    "dcs1 = pd.DataFrame(dic_list)"
   ]
  },
  {
   "cell_type": "code",
   "execution_count": 100,
   "id": "96a8791d-0dcb-410e-ab9d-fb56b9ba2d36",
   "metadata": {},
   "outputs": [
    {
     "data": {
      "text/html": [
       "<div>\n",
       "<style scoped>\n",
       "    .dataframe tbody tr th:only-of-type {\n",
       "        vertical-align: middle;\n",
       "    }\n",
       "\n",
       "    .dataframe tbody tr th {\n",
       "        vertical-align: top;\n",
       "    }\n",
       "\n",
       "    .dataframe thead th {\n",
       "        text-align: right;\n",
       "    }\n",
       "</style>\n",
       "<table border=\"1\" class=\"dataframe\">\n",
       "  <thead>\n",
       "    <tr style=\"text-align: right;\">\n",
       "      <th></th>\n",
       "      <th>cat</th>\n",
       "      <th>cow</th>\n",
       "      <th>hat</th>\n",
       "      <th>jumped</th>\n",
       "      <th>meowed</th>\n",
       "      <th>mooed</th>\n",
       "      <th>moon</th>\n",
       "      <th>not</th>\n",
       "      <th>over</th>\n",
       "      <th>said</th>\n",
       "      <th>you</th>\n",
       "    </tr>\n",
       "  </thead>\n",
       "  <tbody>\n",
       "    <tr>\n",
       "      <th>0</th>\n",
       "      <td>1</td>\n",
       "      <td>0</td>\n",
       "      <td>1</td>\n",
       "      <td>0</td>\n",
       "      <td>0</td>\n",
       "      <td>0</td>\n",
       "      <td>0</td>\n",
       "      <td>0</td>\n",
       "      <td>0</td>\n",
       "      <td>0</td>\n",
       "      <td>0</td>\n",
       "    </tr>\n",
       "    <tr>\n",
       "      <th>1</th>\n",
       "      <td>0</td>\n",
       "      <td>1</td>\n",
       "      <td>0</td>\n",
       "      <td>1</td>\n",
       "      <td>0</td>\n",
       "      <td>0</td>\n",
       "      <td>1</td>\n",
       "      <td>0</td>\n",
       "      <td>1</td>\n",
       "      <td>0</td>\n",
       "      <td>0</td>\n",
       "    </tr>\n",
       "    <tr>\n",
       "      <th>2</th>\n",
       "      <td>1</td>\n",
       "      <td>1</td>\n",
       "      <td>0</td>\n",
       "      <td>0</td>\n",
       "      <td>1</td>\n",
       "      <td>1</td>\n",
       "      <td>0</td>\n",
       "      <td>0</td>\n",
       "      <td>0</td>\n",
       "      <td>0</td>\n",
       "      <td>0</td>\n",
       "    </tr>\n",
       "    <tr>\n",
       "      <th>3</th>\n",
       "      <td>2</td>\n",
       "      <td>2</td>\n",
       "      <td>0</td>\n",
       "      <td>0</td>\n",
       "      <td>0</td>\n",
       "      <td>0</td>\n",
       "      <td>0</td>\n",
       "      <td>1</td>\n",
       "      <td>0</td>\n",
       "      <td>1</td>\n",
       "      <td>1</td>\n",
       "    </tr>\n",
       "  </tbody>\n",
       "</table>\n",
       "</div>"
      ],
      "text/plain": [
       "   cat  cow  hat  jumped  meowed  mooed  moon  not  over  said  you\n",
       "0    1    0    1       0       0      0     0    0     0     0    0\n",
       "1    0    1    0       1       0      0     1    0     1     0    0\n",
       "2    1    1    0       0       1      1     0    0     0     0    0\n",
       "3    2    2    0       0       0      0     0    1     0     1    1"
      ]
     },
     "execution_count": 100,
     "metadata": {},
     "output_type": "execute_result"
    }
   ],
   "source": [
    "dcs1.sort_index(axis = 1)"
   ]
  },
  {
   "cell_type": "code",
   "execution_count": 101,
   "id": "f8083981-6ce2-4ef4-a7e0-e2ad7e54757f",
   "metadata": {},
   "outputs": [],
   "source": [
    "word_count = [{v:(d.count(v)) for v in vocabulary2} for d in docs]"
   ]
  },
  {
   "cell_type": "code",
   "execution_count": 104,
   "id": "ce54543d-dc16-4a77-a4ce-34fe9a684580",
   "metadata": {},
   "outputs": [],
   "source": [
    "wcs = pd.DataFrame(word_count)"
   ]
  },
  {
   "cell_type": "code",
   "execution_count": 106,
   "id": "c668e8f4-0c39-4489-bfe6-ba3a3aff3a36",
   "metadata": {},
   "outputs": [
    {
     "data": {
      "text/html": [
       "<div>\n",
       "<style scoped>\n",
       "    .dataframe tbody tr th:only-of-type {\n",
       "        vertical-align: middle;\n",
       "    }\n",
       "\n",
       "    .dataframe tbody tr th {\n",
       "        vertical-align: top;\n",
       "    }\n",
       "\n",
       "    .dataframe thead th {\n",
       "        text-align: right;\n",
       "    }\n",
       "</style>\n",
       "<table border=\"1\" class=\"dataframe\">\n",
       "  <thead>\n",
       "    <tr style=\"text-align: right;\">\n",
       "      <th></th>\n",
       "      <th>said</th>\n",
       "      <th>you</th>\n",
       "      <th>not</th>\n",
       "      <th>jumped</th>\n",
       "      <th>hat</th>\n",
       "      <th>cow</th>\n",
       "      <th>over</th>\n",
       "      <th>meowed</th>\n",
       "      <th>cat</th>\n",
       "      <th>moon</th>\n",
       "      <th>mooed</th>\n",
       "    </tr>\n",
       "  </thead>\n",
       "  <tbody>\n",
       "    <tr>\n",
       "      <th>0</th>\n",
       "      <td>0</td>\n",
       "      <td>0</td>\n",
       "      <td>0</td>\n",
       "      <td>0</td>\n",
       "      <td>1</td>\n",
       "      <td>0</td>\n",
       "      <td>0</td>\n",
       "      <td>0</td>\n",
       "      <td>1</td>\n",
       "      <td>0</td>\n",
       "      <td>0</td>\n",
       "    </tr>\n",
       "    <tr>\n",
       "      <th>1</th>\n",
       "      <td>0</td>\n",
       "      <td>0</td>\n",
       "      <td>0</td>\n",
       "      <td>1</td>\n",
       "      <td>0</td>\n",
       "      <td>1</td>\n",
       "      <td>1</td>\n",
       "      <td>0</td>\n",
       "      <td>0</td>\n",
       "      <td>1</td>\n",
       "      <td>0</td>\n",
       "    </tr>\n",
       "    <tr>\n",
       "      <th>2</th>\n",
       "      <td>0</td>\n",
       "      <td>0</td>\n",
       "      <td>0</td>\n",
       "      <td>0</td>\n",
       "      <td>0</td>\n",
       "      <td>1</td>\n",
       "      <td>0</td>\n",
       "      <td>1</td>\n",
       "      <td>1</td>\n",
       "      <td>0</td>\n",
       "      <td>1</td>\n",
       "    </tr>\n",
       "    <tr>\n",
       "      <th>3</th>\n",
       "      <td>1</td>\n",
       "      <td>1</td>\n",
       "      <td>1</td>\n",
       "      <td>0</td>\n",
       "      <td>0</td>\n",
       "      <td>2</td>\n",
       "      <td>0</td>\n",
       "      <td>0</td>\n",
       "      <td>2</td>\n",
       "      <td>0</td>\n",
       "      <td>0</td>\n",
       "    </tr>\n",
       "  </tbody>\n",
       "</table>\n",
       "</div>"
      ],
      "text/plain": [
       "   said  you  not  jumped  hat  cow  over  meowed  cat  moon  mooed\n",
       "0     0    0    0       0    1    0     0       0    1     0      0\n",
       "1     0    0    0       1    0    1     1       0    0     1      0\n",
       "2     0    0    0       0    0    1     0       1    1     0      1\n",
       "3     1    1    1       0    0    2     0       0    2     0      0"
      ]
     },
     "execution_count": 106,
     "metadata": {},
     "output_type": "execute_result"
    }
   ],
   "source": [
    "wcs"
   ]
  },
  {
   "cell_type": "code",
   "execution_count": 107,
   "id": "3675c6fb-7029-4d2b-a40d-676d177554d3",
   "metadata": {},
   "outputs": [
    {
     "data": {
      "text/html": [
       "<div>\n",
       "<style scoped>\n",
       "    .dataframe tbody tr th:only-of-type {\n",
       "        vertical-align: middle;\n",
       "    }\n",
       "\n",
       "    .dataframe tbody tr th {\n",
       "        vertical-align: top;\n",
       "    }\n",
       "\n",
       "    .dataframe thead th {\n",
       "        text-align: right;\n",
       "    }\n",
       "</style>\n",
       "<table border=\"1\" class=\"dataframe\">\n",
       "  <thead>\n",
       "    <tr style=\"text-align: right;\">\n",
       "      <th></th>\n",
       "      <th>cat</th>\n",
       "      <th>cow</th>\n",
       "      <th>hat</th>\n",
       "      <th>jumped</th>\n",
       "      <th>meowed</th>\n",
       "      <th>mooed</th>\n",
       "      <th>moon</th>\n",
       "      <th>not</th>\n",
       "      <th>over</th>\n",
       "      <th>said</th>\n",
       "      <th>you</th>\n",
       "    </tr>\n",
       "  </thead>\n",
       "  <tbody>\n",
       "    <tr>\n",
       "      <th>0</th>\n",
       "      <td>1</td>\n",
       "      <td>0</td>\n",
       "      <td>1</td>\n",
       "      <td>0</td>\n",
       "      <td>0</td>\n",
       "      <td>0</td>\n",
       "      <td>0</td>\n",
       "      <td>0</td>\n",
       "      <td>0</td>\n",
       "      <td>0</td>\n",
       "      <td>0</td>\n",
       "    </tr>\n",
       "    <tr>\n",
       "      <th>1</th>\n",
       "      <td>0</td>\n",
       "      <td>1</td>\n",
       "      <td>0</td>\n",
       "      <td>1</td>\n",
       "      <td>0</td>\n",
       "      <td>0</td>\n",
       "      <td>1</td>\n",
       "      <td>0</td>\n",
       "      <td>1</td>\n",
       "      <td>0</td>\n",
       "      <td>0</td>\n",
       "    </tr>\n",
       "    <tr>\n",
       "      <th>2</th>\n",
       "      <td>1</td>\n",
       "      <td>1</td>\n",
       "      <td>0</td>\n",
       "      <td>0</td>\n",
       "      <td>1</td>\n",
       "      <td>1</td>\n",
       "      <td>0</td>\n",
       "      <td>0</td>\n",
       "      <td>0</td>\n",
       "      <td>0</td>\n",
       "      <td>0</td>\n",
       "    </tr>\n",
       "    <tr>\n",
       "      <th>3</th>\n",
       "      <td>2</td>\n",
       "      <td>2</td>\n",
       "      <td>0</td>\n",
       "      <td>0</td>\n",
       "      <td>0</td>\n",
       "      <td>0</td>\n",
       "      <td>0</td>\n",
       "      <td>1</td>\n",
       "      <td>0</td>\n",
       "      <td>1</td>\n",
       "      <td>1</td>\n",
       "    </tr>\n",
       "  </tbody>\n",
       "</table>\n",
       "</div>"
      ],
      "text/plain": [
       "   cat  cow  hat  jumped  meowed  mooed  moon  not  over  said  you\n",
       "0    1    0    1       0       0      0     0    0     0     0    0\n",
       "1    0    1    0       1       0      0     1    0     1     0    0\n",
       "2    1    1    0       0       1      1     0    0     0     0    0\n",
       "3    2    2    0       0       0      0     0    1     0     1    1"
      ]
     },
     "execution_count": 107,
     "metadata": {},
     "output_type": "execute_result"
    }
   ],
   "source": [
    "wcs.sort_index(axis = 1)"
   ]
  },
  {
   "cell_type": "code",
   "execution_count": null,
   "id": "e34454ed-4ff6-461d-a9e9-c1ef4e20a710",
   "metadata": {},
   "outputs": [],
   "source": []
  },
  {
   "cell_type": "code",
   "execution_count": 108,
   "id": "f17ffa3c-6b93-4050-8347-4868716f6237",
   "metadata": {},
   "outputs": [],
   "source": [
    "from sklearn.feature_extraction.text import CountVectorizer"
   ]
  },
  {
   "cell_type": "code",
   "execution_count": 109,
   "id": "afaba716-e36c-41d6-aea7-8ea60e4871c1",
   "metadata": {},
   "outputs": [],
   "source": [
    "sparse = CountVectorizer(stop_words='english').fit_transform(docs) #CountVectorizer: 각 칼럼들의 값들을 세주는 것?"
   ]
  },
  {
   "cell_type": "code",
   "execution_count": 110,
   "id": "ed63170b-2a2d-413c-b05f-6958e47f08dc",
   "metadata": {},
   "outputs": [
    {
     "data": {
      "text/plain": [
       "<4x8 sparse matrix of type '<class 'numpy.int64'>'\n",
       "\twith 12 stored elements in Compressed Sparse Row format>"
      ]
     },
     "execution_count": 110,
     "metadata": {},
     "output_type": "execute_result"
    }
   ],
   "source": [
    "sparse"
   ]
  },
  {
   "cell_type": "code",
   "execution_count": 111,
   "id": "87de4bb6-648a-4de8-973e-ff6f5c356215",
   "metadata": {},
   "outputs": [
    {
     "data": {
      "text/plain": [
       "matrix([[1, 0, 1, 0, 0, 0, 0, 0],\n",
       "        [0, 1, 0, 1, 0, 0, 1, 0],\n",
       "        [1, 1, 0, 0, 1, 1, 0, 0],\n",
       "        [2, 2, 0, 0, 0, 0, 0, 1]], dtype=int64)"
      ]
     },
     "execution_count": 111,
     "metadata": {},
     "output_type": "execute_result"
    }
   ],
   "source": [
    "sparse.todense()"
   ]
  },
  {
   "cell_type": "code",
   "execution_count": null,
   "id": "a9d1847d-f3af-489f-bf88-989d3ad6dd78",
   "metadata": {},
   "outputs": [],
   "source": [
    "# 단어의 빈도수 구하기"
   ]
  },
  {
   "cell_type": "code",
   "execution_count": 115,
   "id": "98732a3a-f3a6-48d4-98ac-875a769b130f",
   "metadata": {},
   "outputs": [
    {
     "data": {
      "text/html": [
       "<div>\n",
       "<style scoped>\n",
       "    .dataframe tbody tr th:only-of-type {\n",
       "        vertical-align: middle;\n",
       "    }\n",
       "\n",
       "    .dataframe tbody tr th {\n",
       "        vertical-align: top;\n",
       "    }\n",
       "\n",
       "    .dataframe thead th {\n",
       "        text-align: right;\n",
       "    }\n",
       "</style>\n",
       "<table border=\"1\" class=\"dataframe\">\n",
       "  <thead>\n",
       "    <tr style=\"text-align: right;\">\n",
       "      <th></th>\n",
       "      <th>said</th>\n",
       "      <th>you</th>\n",
       "      <th>not</th>\n",
       "      <th>jumped</th>\n",
       "      <th>hat</th>\n",
       "      <th>cow</th>\n",
       "      <th>over</th>\n",
       "      <th>meowed</th>\n",
       "      <th>cat</th>\n",
       "      <th>moon</th>\n",
       "      <th>mooed</th>\n",
       "    </tr>\n",
       "  </thead>\n",
       "  <tbody>\n",
       "    <tr>\n",
       "      <th>0</th>\n",
       "      <td>False</td>\n",
       "      <td>False</td>\n",
       "      <td>False</td>\n",
       "      <td>False</td>\n",
       "      <td>True</td>\n",
       "      <td>False</td>\n",
       "      <td>False</td>\n",
       "      <td>False</td>\n",
       "      <td>True</td>\n",
       "      <td>False</td>\n",
       "      <td>False</td>\n",
       "    </tr>\n",
       "    <tr>\n",
       "      <th>1</th>\n",
       "      <td>False</td>\n",
       "      <td>False</td>\n",
       "      <td>False</td>\n",
       "      <td>True</td>\n",
       "      <td>False</td>\n",
       "      <td>True</td>\n",
       "      <td>True</td>\n",
       "      <td>False</td>\n",
       "      <td>False</td>\n",
       "      <td>True</td>\n",
       "      <td>False</td>\n",
       "    </tr>\n",
       "    <tr>\n",
       "      <th>2</th>\n",
       "      <td>False</td>\n",
       "      <td>False</td>\n",
       "      <td>False</td>\n",
       "      <td>False</td>\n",
       "      <td>False</td>\n",
       "      <td>True</td>\n",
       "      <td>False</td>\n",
       "      <td>True</td>\n",
       "      <td>True</td>\n",
       "      <td>False</td>\n",
       "      <td>True</td>\n",
       "    </tr>\n",
       "    <tr>\n",
       "      <th>3</th>\n",
       "      <td>True</td>\n",
       "      <td>True</td>\n",
       "      <td>True</td>\n",
       "      <td>False</td>\n",
       "      <td>False</td>\n",
       "      <td>True</td>\n",
       "      <td>False</td>\n",
       "      <td>False</td>\n",
       "      <td>True</td>\n",
       "      <td>False</td>\n",
       "      <td>False</td>\n",
       "    </tr>\n",
       "  </tbody>\n",
       "</table>\n",
       "</div>"
      ],
      "text/plain": [
       "    said    you    not  jumped    hat    cow   over  meowed    cat   moon  \\\n",
       "0  False  False  False   False   True  False  False   False   True  False   \n",
       "1  False  False  False    True  False   True   True   False  False   True   \n",
       "2  False  False  False   False  False   True  False    True   True  False   \n",
       "3   True   True   True   False  False   True  False   False   True  False   \n",
       "\n",
       "   mooed  \n",
       "0  False  \n",
       "1  False  \n",
       "2   True  \n",
       "3  False  "
      ]
     },
     "execution_count": 115,
     "metadata": {},
     "output_type": "execute_result"
    }
   ],
   "source": [
    "dcs"
   ]
  },
  {
   "cell_type": "code",
   "execution_count": 116,
   "id": "82de934d-6b4e-4ac4-a680-67b108ec5d35",
   "metadata": {},
   "outputs": [
    {
     "data": {
      "text/plain": [
       "said      1\n",
       "you       1\n",
       "not       1\n",
       "jumped    1\n",
       "hat       1\n",
       "cow       3\n",
       "over      1\n",
       "meowed    1\n",
       "cat       3\n",
       "moon      1\n",
       "mooed     1\n",
       "dtype: int64"
      ]
     },
     "execution_count": 116,
     "metadata": {},
     "output_type": "execute_result"
    }
   ],
   "source": [
    "dcs.sum()"
   ]
  },
  {
   "cell_type": "code",
   "execution_count": 113,
   "id": "d9a949b8-f801-455c-93e8-13067201f71a",
   "metadata": {},
   "outputs": [],
   "source": [
    "doc_freq = pd.DataFrame(dcs.sum(axis=0)).T"
   ]
  },
  {
   "cell_type": "code",
   "execution_count": 130,
   "id": "f7f40c86-b14d-4af1-9a45-53ecafeddd91",
   "metadata": {},
   "outputs": [
    {
     "data": {
      "text/html": [
       "<div>\n",
       "<style scoped>\n",
       "    .dataframe tbody tr th:only-of-type {\n",
       "        vertical-align: middle;\n",
       "    }\n",
       "\n",
       "    .dataframe tbody tr th {\n",
       "        vertical-align: top;\n",
       "    }\n",
       "\n",
       "    .dataframe thead th {\n",
       "        text-align: right;\n",
       "    }\n",
       "</style>\n",
       "<table border=\"1\" class=\"dataframe\">\n",
       "  <thead>\n",
       "    <tr style=\"text-align: right;\">\n",
       "      <th></th>\n",
       "      <th>said</th>\n",
       "      <th>you</th>\n",
       "      <th>not</th>\n",
       "      <th>jumped</th>\n",
       "      <th>hat</th>\n",
       "      <th>cow</th>\n",
       "      <th>over</th>\n",
       "      <th>meowed</th>\n",
       "      <th>cat</th>\n",
       "      <th>moon</th>\n",
       "      <th>mooed</th>\n",
       "    </tr>\n",
       "  </thead>\n",
       "  <tbody>\n",
       "    <tr>\n",
       "      <th>0</th>\n",
       "      <td>1</td>\n",
       "      <td>1</td>\n",
       "      <td>1</td>\n",
       "      <td>1</td>\n",
       "      <td>1</td>\n",
       "      <td>3</td>\n",
       "      <td>1</td>\n",
       "      <td>1</td>\n",
       "      <td>3</td>\n",
       "      <td>1</td>\n",
       "      <td>1</td>\n",
       "    </tr>\n",
       "  </tbody>\n",
       "</table>\n",
       "</div>"
      ],
      "text/plain": [
       "   said  you  not  jumped  hat  cow  over  meowed  cat  moon  mooed\n",
       "0     1    1    1       1    1    3     1       1    3     1      1"
      ]
     },
     "execution_count": 130,
     "metadata": {},
     "output_type": "execute_result"
    }
   ],
   "source": [
    "#DF(Document Frequency): 특정 단어가 등장한 문서의 수\n",
    "doc_freq "
   ]
  },
  {
   "cell_type": "code",
   "execution_count": 122,
   "id": "3b231951-2ef4-4d7f-ab73-91a8ee94d24f",
   "metadata": {},
   "outputs": [
    {
     "data": {
      "text/html": [
       "<div>\n",
       "<style scoped>\n",
       "    .dataframe tbody tr th:only-of-type {\n",
       "        vertical-align: middle;\n",
       "    }\n",
       "\n",
       "    .dataframe tbody tr th {\n",
       "        vertical-align: top;\n",
       "    }\n",
       "\n",
       "    .dataframe thead th {\n",
       "        text-align: right;\n",
       "    }\n",
       "</style>\n",
       "<table border=\"1\" class=\"dataframe\">\n",
       "  <thead>\n",
       "    <tr style=\"text-align: right;\">\n",
       "      <th></th>\n",
       "      <th>cat</th>\n",
       "      <th>cow</th>\n",
       "      <th>hat</th>\n",
       "      <th>jumped</th>\n",
       "      <th>meowed</th>\n",
       "      <th>mooed</th>\n",
       "      <th>moon</th>\n",
       "      <th>not</th>\n",
       "      <th>over</th>\n",
       "      <th>said</th>\n",
       "      <th>you</th>\n",
       "    </tr>\n",
       "  </thead>\n",
       "  <tbody>\n",
       "    <tr>\n",
       "      <th>0</th>\n",
       "      <td>3</td>\n",
       "      <td>3</td>\n",
       "      <td>1</td>\n",
       "      <td>1</td>\n",
       "      <td>1</td>\n",
       "      <td>1</td>\n",
       "      <td>1</td>\n",
       "      <td>1</td>\n",
       "      <td>1</td>\n",
       "      <td>1</td>\n",
       "      <td>1</td>\n",
       "    </tr>\n",
       "  </tbody>\n",
       "</table>\n",
       "</div>"
      ],
      "text/plain": [
       "   cat  cow  hat  jumped  meowed  mooed  moon  not  over  said  you\n",
       "0    3    3    1       1       1      1     1    1     1     1    1"
      ]
     },
     "execution_count": 122,
     "metadata": {},
     "output_type": "execute_result"
    }
   ],
   "source": [
    "doc_freq.sort_index(axis = 1)"
   ]
  },
  {
   "cell_type": "code",
   "execution_count": null,
   "id": "1f7d62eb-0d60-4755-a6dd-3d78884f4cb3",
   "metadata": {},
   "outputs": [],
   "source": [
    "IDF(Inverse Document Frequency)/TF(Term Frequenchy)"
   ]
  },
  {
   "cell_type": "code",
   "execution_count": 123,
   "id": "7eb0bc38-095b-472f-9c85-ee4acf8e2c93",
   "metadata": {},
   "outputs": [],
   "source": [
    "import numpy as np"
   ]
  },
  {
   "cell_type": "code",
   "execution_count": 124,
   "id": "b4decc0a-34d1-4863-a500-4b9a3052ea7b",
   "metadata": {},
   "outputs": [],
   "source": [
    "pd.options.display.float_format = '{:.2f}'.format"
   ]
  },
  {
   "cell_type": "code",
   "execution_count": 126,
   "id": "bf41b86b-8c26-4fb0-9e2b-40413e257629",
   "metadata": {},
   "outputs": [],
   "source": [
    "idf = np.log(len(docs) / doc_freq)"
   ]
  },
  {
   "cell_type": "code",
   "execution_count": 129,
   "id": "640699ef-adb2-406b-8959-37d6908eebd6",
   "metadata": {},
   "outputs": [
    {
     "data": {
      "text/html": [
       "<div>\n",
       "<style scoped>\n",
       "    .dataframe tbody tr th:only-of-type {\n",
       "        vertical-align: middle;\n",
       "    }\n",
       "\n",
       "    .dataframe tbody tr th {\n",
       "        vertical-align: top;\n",
       "    }\n",
       "\n",
       "    .dataframe thead th {\n",
       "        text-align: right;\n",
       "    }\n",
       "</style>\n",
       "<table border=\"1\" class=\"dataframe\">\n",
       "  <thead>\n",
       "    <tr style=\"text-align: right;\">\n",
       "      <th></th>\n",
       "      <th>said</th>\n",
       "      <th>you</th>\n",
       "      <th>not</th>\n",
       "      <th>jumped</th>\n",
       "      <th>hat</th>\n",
       "      <th>cow</th>\n",
       "      <th>over</th>\n",
       "      <th>meowed</th>\n",
       "      <th>cat</th>\n",
       "      <th>moon</th>\n",
       "      <th>mooed</th>\n",
       "    </tr>\n",
       "  </thead>\n",
       "  <tbody>\n",
       "    <tr>\n",
       "      <th>0</th>\n",
       "      <td>1.39</td>\n",
       "      <td>1.39</td>\n",
       "      <td>1.39</td>\n",
       "      <td>1.39</td>\n",
       "      <td>1.39</td>\n",
       "      <td>0.29</td>\n",
       "      <td>1.39</td>\n",
       "      <td>1.39</td>\n",
       "      <td>0.29</td>\n",
       "      <td>1.39</td>\n",
       "      <td>1.39</td>\n",
       "    </tr>\n",
       "  </tbody>\n",
       "</table>\n",
       "</div>"
      ],
      "text/plain": [
       "   said  you  not  jumped  hat  cow  over  meowed  cat  moon  mooed\n",
       "0  1.39 1.39 1.39    1.39 1.39 0.29  1.39    1.39 0.29  1.39   1.39"
      ]
     },
     "execution_count": 129,
     "metadata": {},
     "output_type": "execute_result"
    }
   ],
   "source": [
    "# IDF(Inverse Document Frequency): 각 컬럼의 값이 작을수록 해당하는 칼럼의 단어가 문장에 더 많이 등장했다.\n",
    "idf"
   ]
  },
  {
   "cell_type": "code",
   "execution_count": null,
   "id": "9ef74036-96f4-485e-a2ba-4964ca8e1de8",
   "metadata": {},
   "outputs": [],
   "source": [
    "# TF(Term Frequenchy): 특정 문서(행)에서 특정 단어의 등장 횟수"
   ]
  },
  {
   "cell_type": "code",
   "execution_count": 131,
   "id": "7f54a665-2092-4d00-9177-de68b6ea3072",
   "metadata": {},
   "outputs": [
    {
     "data": {
      "text/html": [
       "<div>\n",
       "<style scoped>\n",
       "    .dataframe tbody tr th:only-of-type {\n",
       "        vertical-align: middle;\n",
       "    }\n",
       "\n",
       "    .dataframe tbody tr th {\n",
       "        vertical-align: top;\n",
       "    }\n",
       "\n",
       "    .dataframe thead th {\n",
       "        text-align: right;\n",
       "    }\n",
       "</style>\n",
       "<table border=\"1\" class=\"dataframe\">\n",
       "  <thead>\n",
       "    <tr style=\"text-align: right;\">\n",
       "      <th></th>\n",
       "      <th>said</th>\n",
       "      <th>you</th>\n",
       "      <th>not</th>\n",
       "      <th>jumped</th>\n",
       "      <th>hat</th>\n",
       "      <th>cow</th>\n",
       "      <th>over</th>\n",
       "      <th>meowed</th>\n",
       "      <th>cat</th>\n",
       "      <th>moon</th>\n",
       "      <th>mooed</th>\n",
       "    </tr>\n",
       "  </thead>\n",
       "  <tbody>\n",
       "    <tr>\n",
       "      <th>0</th>\n",
       "      <td>0</td>\n",
       "      <td>0</td>\n",
       "      <td>0</td>\n",
       "      <td>0</td>\n",
       "      <td>1</td>\n",
       "      <td>0</td>\n",
       "      <td>0</td>\n",
       "      <td>0</td>\n",
       "      <td>1</td>\n",
       "      <td>0</td>\n",
       "      <td>0</td>\n",
       "    </tr>\n",
       "    <tr>\n",
       "      <th>1</th>\n",
       "      <td>0</td>\n",
       "      <td>0</td>\n",
       "      <td>0</td>\n",
       "      <td>1</td>\n",
       "      <td>0</td>\n",
       "      <td>1</td>\n",
       "      <td>1</td>\n",
       "      <td>0</td>\n",
       "      <td>0</td>\n",
       "      <td>1</td>\n",
       "      <td>0</td>\n",
       "    </tr>\n",
       "    <tr>\n",
       "      <th>2</th>\n",
       "      <td>0</td>\n",
       "      <td>0</td>\n",
       "      <td>0</td>\n",
       "      <td>0</td>\n",
       "      <td>0</td>\n",
       "      <td>1</td>\n",
       "      <td>0</td>\n",
       "      <td>1</td>\n",
       "      <td>1</td>\n",
       "      <td>0</td>\n",
       "      <td>1</td>\n",
       "    </tr>\n",
       "    <tr>\n",
       "      <th>3</th>\n",
       "      <td>1</td>\n",
       "      <td>1</td>\n",
       "      <td>1</td>\n",
       "      <td>0</td>\n",
       "      <td>0</td>\n",
       "      <td>2</td>\n",
       "      <td>0</td>\n",
       "      <td>0</td>\n",
       "      <td>2</td>\n",
       "      <td>0</td>\n",
       "      <td>0</td>\n",
       "    </tr>\n",
       "  </tbody>\n",
       "</table>\n",
       "</div>"
      ],
      "text/plain": [
       "   said  you  not  jumped  hat  cow  over  meowed  cat  moon  mooed\n",
       "0     0    0    0       0    1    0     0       0    1     0      0\n",
       "1     0    0    0       1    0    1     1       0    0     1      0\n",
       "2     0    0    0       0    0    1     0       1    1     0      1\n",
       "3     1    1    1       0    0    2     0       0    2     0      0"
      ]
     },
     "execution_count": 131,
     "metadata": {},
     "output_type": "execute_result"
    }
   ],
   "source": [
    "wcs"
   ]
  },
  {
   "cell_type": "code",
   "execution_count": 132,
   "id": "3dd7de72-6ae0-4069-b2dd-9a653dddf665",
   "metadata": {},
   "outputs": [],
   "source": [
    "tf_idf = wcs * idf.iloc[0]"
   ]
  },
  {
   "cell_type": "code",
   "execution_count": 135,
   "id": "0773fa93-c547-4693-8e5d-0e853f91aa6a",
   "metadata": {},
   "outputs": [
    {
     "data": {
      "text/html": [
       "<div>\n",
       "<style scoped>\n",
       "    .dataframe tbody tr th:only-of-type {\n",
       "        vertical-align: middle;\n",
       "    }\n",
       "\n",
       "    .dataframe tbody tr th {\n",
       "        vertical-align: top;\n",
       "    }\n",
       "\n",
       "    .dataframe thead th {\n",
       "        text-align: right;\n",
       "    }\n",
       "</style>\n",
       "<table border=\"1\" class=\"dataframe\">\n",
       "  <thead>\n",
       "    <tr style=\"text-align: right;\">\n",
       "      <th></th>\n",
       "      <th>said</th>\n",
       "      <th>you</th>\n",
       "      <th>not</th>\n",
       "      <th>jumped</th>\n",
       "      <th>hat</th>\n",
       "      <th>cow</th>\n",
       "      <th>over</th>\n",
       "      <th>meowed</th>\n",
       "      <th>cat</th>\n",
       "      <th>moon</th>\n",
       "      <th>mooed</th>\n",
       "    </tr>\n",
       "  </thead>\n",
       "  <tbody>\n",
       "    <tr>\n",
       "      <th>0</th>\n",
       "      <td>0.00</td>\n",
       "      <td>0.00</td>\n",
       "      <td>0.00</td>\n",
       "      <td>0.00</td>\n",
       "      <td>1.39</td>\n",
       "      <td>0.00</td>\n",
       "      <td>0.00</td>\n",
       "      <td>0.00</td>\n",
       "      <td>0.29</td>\n",
       "      <td>0.00</td>\n",
       "      <td>0.00</td>\n",
       "    </tr>\n",
       "    <tr>\n",
       "      <th>1</th>\n",
       "      <td>0.00</td>\n",
       "      <td>0.00</td>\n",
       "      <td>0.00</td>\n",
       "      <td>1.39</td>\n",
       "      <td>0.00</td>\n",
       "      <td>0.29</td>\n",
       "      <td>1.39</td>\n",
       "      <td>0.00</td>\n",
       "      <td>0.00</td>\n",
       "      <td>1.39</td>\n",
       "      <td>0.00</td>\n",
       "    </tr>\n",
       "    <tr>\n",
       "      <th>2</th>\n",
       "      <td>0.00</td>\n",
       "      <td>0.00</td>\n",
       "      <td>0.00</td>\n",
       "      <td>0.00</td>\n",
       "      <td>0.00</td>\n",
       "      <td>0.29</td>\n",
       "      <td>0.00</td>\n",
       "      <td>1.39</td>\n",
       "      <td>0.29</td>\n",
       "      <td>0.00</td>\n",
       "      <td>1.39</td>\n",
       "    </tr>\n",
       "    <tr>\n",
       "      <th>3</th>\n",
       "      <td>1.39</td>\n",
       "      <td>1.39</td>\n",
       "      <td>1.39</td>\n",
       "      <td>0.00</td>\n",
       "      <td>0.00</td>\n",
       "      <td>0.58</td>\n",
       "      <td>0.00</td>\n",
       "      <td>0.00</td>\n",
       "      <td>0.58</td>\n",
       "      <td>0.00</td>\n",
       "      <td>0.00</td>\n",
       "    </tr>\n",
       "  </tbody>\n",
       "</table>\n",
       "</div>"
      ],
      "text/plain": [
       "   said  you  not  jumped  hat  cow  over  meowed  cat  moon  mooed\n",
       "0  0.00 0.00 0.00    0.00 1.39 0.00  0.00    0.00 0.29  0.00   0.00\n",
       "1  0.00 0.00 0.00    1.39 0.00 0.29  1.39    0.00 0.00  1.39   0.00\n",
       "2  0.00 0.00 0.00    0.00 0.00 0.29  0.00    1.39 0.29  0.00   1.39\n",
       "3  1.39 1.39 1.39    0.00 0.00 0.58  0.00    0.00 0.58  0.00   0.00"
      ]
     },
     "execution_count": 135,
     "metadata": {},
     "output_type": "execute_result"
    }
   ],
   "source": [
    "tf_idf"
   ]
  },
  {
   "cell_type": "code",
   "execution_count": null,
   "id": "6aa14acb-612f-47d0-8412-4d11bad62fe8",
   "metadata": {},
   "outputs": [],
   "source": [
    "# nomalizaion을 하겠다."
   ]
  },
  {
   "cell_type": "code",
   "execution_count": 137,
   "id": "b50717a9-72d0-4756-98dd-13a5c8375a5f",
   "metadata": {},
   "outputs": [],
   "source": [
    "from sklearn.preprocessing import Normalizer"
   ]
  },
  {
   "cell_type": "code",
   "execution_count": 140,
   "id": "b6665067-f700-4fb9-9bf1-76be106aee98",
   "metadata": {},
   "outputs": [
    {
     "data": {
      "text/plain": [
       "array([[0.        , 0.        , 0.        , 0.        , 0.82814449,\n",
       "        0.        , 0.        , 0.        , 0.17185551, 0.        ,\n",
       "        0.        ],\n",
       "       [0.        , 0.        , 0.        , 0.31176747, 0.        ,\n",
       "        0.0646976 , 0.31176747, 0.        , 0.        , 0.31176747,\n",
       "        0.        ],\n",
       "       [0.        , 0.        , 0.        , 0.        , 0.        ,\n",
       "        0.08592775, 0.        , 0.41407225, 0.08592775, 0.        ,\n",
       "        0.41407225],\n",
       "       [0.26109149, 0.26109149, 0.26109149, 0.        , 0.        ,\n",
       "        0.10836276, 0.        , 0.        , 0.10836276, 0.        ,\n",
       "        0.        ]])"
      ]
     },
     "execution_count": 140,
     "metadata": {},
     "output_type": "execute_result"
    }
   ],
   "source": [
    "Normalizer(norm = 'l1').fit_transform(tf_idf)"
   ]
  },
  {
   "cell_type": "code",
   "execution_count": 149,
   "id": "5ba7d6ec-f8f3-4ebb-b671-d69d425bd159",
   "metadata": {},
   "outputs": [],
   "source": [
    "from sklearn.feature_extraction.text import TfidfVectorizer #tf_idf와 관련된 라이브러리 (ex) 문서 유사도 구할 때)"
   ]
  },
  {
   "cell_type": "code",
   "execution_count": 150,
   "id": "1b312766-b829-4a4f-9ad6-e8510a74e26e",
   "metadata": {},
   "outputs": [],
   "source": [
    "vectorizer = TfidfVectorizer(norm = 'l1', stop_words='english')"
   ]
  },
  {
   "cell_type": "code",
   "execution_count": 151,
   "id": "6b0e6622-8675-47e8-b7d8-f676da1b55ee",
   "metadata": {},
   "outputs": [],
   "source": [
    "sparse = vectorizer.fit_transform(docs)"
   ]
  },
  {
   "cell_type": "code",
   "execution_count": 152,
   "id": "911f1fef-fbc2-455f-a972-860053fb1b4d",
   "metadata": {},
   "outputs": [
    {
     "data": {
      "text/plain": [
       "array(['cat', 'cow', 'hat', 'jumped', 'meowed', 'mooed', 'moon', 'said'],\n",
       "      dtype=object)"
      ]
     },
     "execution_count": 152,
     "metadata": {},
     "output_type": "execute_result"
    }
   ],
   "source": [
    "vectorizer.get_feature_names_out()"
   ]
  },
  {
   "cell_type": "code",
   "execution_count": 153,
   "id": "757fcfe7-3c42-4b63-b25f-9847c2fe8cbf",
   "metadata": {},
   "outputs": [
    {
     "data": {
      "text/plain": [
       "matrix([[0.38960636, 0.        , 0.61039364, 0.        , 0.        ,\n",
       "         0.        , 0.        , 0.        ],\n",
       "        [0.        , 0.24193237, 0.        , 0.37903381, 0.        ,\n",
       "         0.        , 0.37903381, 0.        ],\n",
       "        [0.19480318, 0.19480318, 0.        , 0.        , 0.30519682,\n",
       "         0.30519682, 0.        , 0.        ],\n",
       "        [0.35927972, 0.35927972, 0.        , 0.        , 0.        ,\n",
       "         0.        , 0.        , 0.28144056]])"
      ]
     },
     "execution_count": 153,
     "metadata": {},
     "output_type": "execute_result"
    }
   ],
   "source": [
    "sparse.todense()"
   ]
  },
  {
   "cell_type": "markdown",
   "id": "0b662ffc-ae1f-4208-8f99-2d0c13ffb513",
   "metadata": {},
   "source": [
    "---"
   ]
  },
  {
   "cell_type": "code",
   "execution_count": 155,
   "id": "bcfab2eb-65d1-436d-9e6e-9a644d1bcaeb",
   "metadata": {},
   "outputs": [],
   "source": [
    "#\n",
    "from sklearn.datasets import fetch_20newsgroups"
   ]
  },
  {
   "cell_type": "code",
   "execution_count": 156,
   "id": "e5de7271-01b0-4a02-832a-32cc7c6ce896",
   "metadata": {},
   "outputs": [],
   "source": [
    "twenty_train = fetch_20newsgroups(subset = 'train',\n",
    "                                  shuffle=True,\n",
    "                                  random_state=0)"
   ]
  },
  {
   "cell_type": "code",
   "execution_count": 164,
   "id": "78ca98a8-a56f-45b9-b122-362577b85c15",
   "metadata": {
    "collapsed": true,
    "jupyter": {
     "outputs_hidden": true
    },
    "tags": []
   },
   "outputs": [
    {
     "data": {
      "text/plain": [
       "['alt.atheism',\n",
       " 'comp.graphics',\n",
       " 'comp.os.ms-windows.misc',\n",
       " 'comp.sys.ibm.pc.hardware',\n",
       " 'comp.sys.mac.hardware',\n",
       " 'comp.windows.x',\n",
       " 'misc.forsale',\n",
       " 'rec.autos',\n",
       " 'rec.motorcycles',\n",
       " 'rec.sport.baseball',\n",
       " 'rec.sport.hockey',\n",
       " 'sci.crypt',\n",
       " 'sci.electronics',\n",
       " 'sci.med',\n",
       " 'sci.space',\n",
       " 'soc.religion.christian',\n",
       " 'talk.politics.guns',\n",
       " 'talk.politics.mideast',\n",
       " 'talk.politics.misc',\n",
       " 'talk.religion.misc']"
      ]
     },
     "execution_count": 164,
     "metadata": {},
     "output_type": "execute_result"
    }
   ],
   "source": [
    "twenty_train.target_names"
   ]
  },
  {
   "cell_type": "code",
   "execution_count": 165,
   "id": "7c06a5aa-3347-4da3-935a-263664ec9ff0",
   "metadata": {},
   "outputs": [
    {
     "data": {
      "text/plain": [
       "20"
      ]
     },
     "execution_count": 165,
     "metadata": {},
     "output_type": "execute_result"
    }
   ],
   "source": [
    "len(twenty_train.target_names) # 총 20개의 분류 문서가 있음"
   ]
  },
  {
   "cell_type": "code",
   "execution_count": 177,
   "id": "8318c1de-700f-4eba-9fb9-783b3b3c3953",
   "metadata": {},
   "outputs": [
    {
     "data": {
      "text/plain": [
       "'soc.religion.christian'"
      ]
     },
     "execution_count": 177,
     "metadata": {},
     "output_type": "execute_result"
    }
   ],
   "source": [
    "twenty_train.target_names[15]"
   ]
  },
  {
   "cell_type": "code",
   "execution_count": 166,
   "id": "025eeb76-35a1-4452-9b4c-5b9bf590f0e1",
   "metadata": {},
   "outputs": [],
   "source": [
    "from collections import Counter"
   ]
  },
  {
   "cell_type": "code",
   "execution_count": 170,
   "id": "fb45a60d-4a9a-4fad-be57-3939976e158e",
   "metadata": {
    "collapsed": true,
    "jupyter": {
     "outputs_hidden": true
    },
    "tags": []
   },
   "outputs": [
    {
     "data": {
      "text/plain": [
       "Counter({15: 599,\n",
       "         13: 594,\n",
       "         10: 600,\n",
       "         12: 591,\n",
       "         7: 594,\n",
       "         1: 584,\n",
       "         5: 593,\n",
       "         4: 578,\n",
       "         3: 590,\n",
       "         17: 564,\n",
       "         2: 591,\n",
       "         8: 598,\n",
       "         16: 546,\n",
       "         9: 597,\n",
       "         6: 585,\n",
       "         11: 595,\n",
       "         18: 465,\n",
       "         14: 593,\n",
       "         0: 480,\n",
       "         19: 377})"
      ]
     },
     "execution_count": 170,
     "metadata": {},
     "output_type": "execute_result"
    }
   ],
   "source": [
    "Counter(twenty_train.target)"
   ]
  },
  {
   "cell_type": "code",
   "execution_count": 175,
   "id": "d8a016c8-407b-4e21-9ed9-9a3acdc9fe9d",
   "metadata": {
    "collapsed": true,
    "jupyter": {
     "outputs_hidden": true
    },
    "tags": []
   },
   "outputs": [
    {
     "name": "stdout",
     "output_type": "stream",
     "text": [
      "['From: kbanner@philae.sas.upenn.edu (Ken Banner)', 'Subject: Re: SATANIC TOUNGES', 'Organization: University of Pennsylvania', 'Lines: 51', '', 'In article <May.5.02.53.10.1993.28880@athos.rutgers.edu> koberg@spot.Colorado.EDU (Allen Koberg) writes:', '', '>.....................................................There is dis-', '>crepancy even among charismatic organizations as to the proper use', '>of tongues.  Be it revelatory with interpretation, for prayer use,', '>or for signifying believers (which I doubt since any one can do it).', '>Pentecostals (Assembly of God, Church of Christ), seem to espouse all', '>three.  Neo-pentecostals tend to view prayer use and as a sign as the', '>uses.  Speaking in tongues during a service is not usually done by', '>neo-pentecostals because for the most part, they still attend Protestant', '>churches.  Non-denominational churches seem to view the use as a sign', '>as merely optional, but recommended.', '', 'Koberg,', '', '\\tJust a couple of minor corrections here...', '', '\\t1)  The Churches of Christ do not usually believe in speaking in', 'tongues, in fact many of them are known for being strongly opposed to', 'Pentecostal teaching.  You are probably thinking of Church of God in', 'Christ, the largest African-American Pentecostal denomination.', '', '\\t2)  I\\'m not sure what you mean by \"signifying believers\"  but it', 'should be pointed out that the Assemblies of God does not now, nor has it', 'ever, held that speaking in tongues is the sign that one is a Christian. ', 'The doctrine that traditional Pentecostals (including the A/G) maintain is', 'that speaking in tongues is the sign of a second experience after becoming', 'a Christian in which one is \"Baptized in the Holy Spirit\"  That may be', 'what you were referring to, but I point this out because Pentecostals are', 'frequently labeled as believing that you have to speak in tongues in order', 'to be a Christian.  Such a position is only held by some groups and not the', 'majority of Pentecostals.   Many Pentecostals will quote the passage in', 'Mark 16 about \"these signs following them that believe\" but they generally', \"do not interpret this as meaning if you don't pactice the signs you aren't\", '\"saved\".', '', \"\\t3)  I know it's hard to summarize the beliefs of a movement that\", \"has such diversity, but I think you've made some pretty big\", 'generalizations here.  Do \"Neo-Pentecostals\" only believe in tongues as a', 'sign and tongues as prayer but NOT tongues as revelatory with a message? ', \"I've never heard of that before.  In fact I would have characterized them\", 'as believing the same as Pentecostals except less likely to see tongues as', 'a sign of Spirit Baptism.  Also, while neo-Pentecostals may not be', 'inclined to speak in tongues in the non-Pentecostal churches they attend,', 'they do have their own meetings and, in many cases, a whole church will be', 'charismatic.', '', 'Ken Banner', 'Dept. of Religious Studies', 'University of Pennsylvania', 'kbanner@philae.sas.upenn.edu ', '']\n"
     ]
    }
   ],
   "source": [
    "print((twenty_train.data[0].split('\\n')))"
   ]
  },
  {
   "cell_type": "code",
   "execution_count": 176,
   "id": "a8e85398-bab3-4a08-987d-7372fcc51d22",
   "metadata": {
    "collapsed": true,
    "jupyter": {
     "outputs_hidden": true
    },
    "tags": []
   },
   "outputs": [
    {
     "name": "stdout",
     "output_type": "stream",
     "text": [
      "From: kbanner@philae.sas.upenn.edu (Ken Banner)\n",
      "Subject: Re: SATANIC TOUNGES\n",
      "Organization: University of Pennsylvania\n",
      "Lines: 51\n",
      "\n",
      "In article <May.5.02.53.10.1993.28880@athos.rutgers.edu> koberg@spot.Colorado.EDU (Allen Koberg) writes:\n",
      "\n",
      ">.....................................................There is dis-\n",
      ">crepancy even among charismatic organizations as to the proper use\n",
      ">of tongues.  Be it revelatory with interpretation, for prayer use,\n",
      ">or for signifying believers (which I doubt since any one can do it).\n",
      ">Pentecostals (Assembly of God, Church of Christ), seem to espouse all\n",
      ">three.  Neo-pentecostals tend to view prayer use and as a sign as the\n",
      ">uses.  Speaking in tongues during a service is not usually done by\n",
      ">neo-pentecostals because for the most part, they still attend Protestant\n",
      ">churches.  Non-denominational churches seem to view the use as a sign\n",
      ">as merely optional, but recommended.\n",
      "\n",
      "Koberg,\n",
      "\n",
      "\tJust a couple of minor corrections here...\n",
      "\n",
      "\t1)  The Churches of Christ do not usually believe in speaking in\n",
      "tongues, in fact many of them are known for being strongly opposed to\n",
      "Pentecostal teaching.  You are probably thinking of Church of God in\n",
      "Christ, the largest African-American Pentecostal denomination.\n",
      "\n",
      "\t2)  I'm not sure what you mean by \"signifying believers\"  but it\n",
      "should be pointed out that the Assemblies of God does not now, nor has it\n",
      "ever, held that speaking in tongues is the sign that one is a Christian. \n",
      "The doctrine that traditional Pentecostals (including the A/G) maintain is\n",
      "that speaking in tongues is the sign of a second experience after becoming\n",
      "a Christian in which one is \"Baptized in the Holy Spirit\"  That may be\n",
      "what you were referring to, but I point this out because Pentecostals are\n",
      "frequently labeled as believing that you have to speak in tongues in order\n",
      "to be a Christian.  Such a position is only held by some groups and not the\n",
      "majority of Pentecostals.   Many Pentecostals will quote the passage in\n",
      "Mark 16 about \"these signs following them that believe\" but they generally\n",
      "do not interpret this as meaning if you don't pactice the signs you aren't\n",
      "\"saved\".\n",
      "\n",
      "\t3)  I know it's hard to summarize the beliefs of a movement that\n",
      "has such diversity, but I think you've made some pretty big\n",
      "generalizations here.  Do \"Neo-Pentecostals\" only believe in tongues as a\n",
      "sign and tongues as prayer but NOT tongues as revelatory with a message? \n",
      "I've never heard of that before.  In fact I would have characterized them\n",
      "as believing the same as Pentecostals except less likely to see tongues as\n",
      "a sign of Spirit Baptism.  Also, while neo-Pentecostals may not be\n",
      "inclined to speak in tongues in the non-Pentecostal churches they attend,\n",
      "they do have their own meetings and, in many cases, a whole church will be\n",
      "charismatic.\n",
      "\n",
      "Ken Banner\n",
      "Dept. of Religious Studies\n",
      "University of Pennsylvania\n",
      "kbanner@philae.sas.upenn.edu \n",
      "\n"
     ]
    }
   ],
   "source": [
    "print(\"\\n\".join(twenty_train.data[0].split('\\n')))"
   ]
  },
  {
   "cell_type": "code",
   "execution_count": null,
   "id": "26c289ba-1845-453b-a4a3-eeb79f00cdba",
   "metadata": {},
   "outputs": [],
   "source": [
    "# 문제\n",
    "pipeline: tf-idf화 시켜서 -> randomforest로 해보기 "
   ]
  },
  {
   "cell_type": "code",
   "execution_count": 214,
   "id": "d0bc0e3c-c32e-4313-8385-22e096d0bee9",
   "metadata": {},
   "outputs": [],
   "source": [
    "from sklearn import datasets\n",
    "from sklearn.preprocessing import StandardScaler, PolynomialFeatures\n",
    "from sklearn.svm import SVC\n",
    "\n",
    "from sklearn.pipeline import make_pipeline\n",
    "from sklearn.ensemble import RandomForestClassifier\n",
    "\n",
    "import warnings\n",
    "warnings.filterwarnings('ignore')\n",
    "\n",
    "from sklearn import set_config\n",
    "set_config(display = \"diagram\")\n",
    "\n",
    "import pandas as pd"
   ]
  },
  {
   "cell_type": "code",
   "execution_count": 184,
   "id": "b6563935-b7e8-47b8-8d12-500cc2493c64",
   "metadata": {},
   "outputs": [],
   "source": [
    "vectorizer = TfidfVectorizer(norm = 'l1', stop_words='english')"
   ]
  },
  {
   "cell_type": "code",
   "execution_count": 185,
   "id": "47419ebf-b381-43c8-86dc-dd3a9358824f",
   "metadata": {},
   "outputs": [],
   "source": [
    "pipe = make_pipeline(vectorizer, RandomForestClassifier())"
   ]
  },
  {
   "cell_type": "code",
   "execution_count": 186,
   "id": "5d5ecbd5-4286-4cdf-8a87-32edc3994e27",
   "metadata": {},
   "outputs": [
    {
     "data": {
      "text/html": [
       "<style>#sk-b0e7f78e-dfa2-4ea4-aced-920084269ec5 {color: black;background-color: white;}#sk-b0e7f78e-dfa2-4ea4-aced-920084269ec5 pre{padding: 0;}#sk-b0e7f78e-dfa2-4ea4-aced-920084269ec5 div.sk-toggleable {background-color: white;}#sk-b0e7f78e-dfa2-4ea4-aced-920084269ec5 label.sk-toggleable__label {cursor: pointer;display: block;width: 100%;margin-bottom: 0;padding: 0.3em;box-sizing: border-box;text-align: center;}#sk-b0e7f78e-dfa2-4ea4-aced-920084269ec5 label.sk-toggleable__label-arrow:before {content: \"▸\";float: left;margin-right: 0.25em;color: #696969;}#sk-b0e7f78e-dfa2-4ea4-aced-920084269ec5 label.sk-toggleable__label-arrow:hover:before {color: black;}#sk-b0e7f78e-dfa2-4ea4-aced-920084269ec5 div.sk-estimator:hover label.sk-toggleable__label-arrow:before {color: black;}#sk-b0e7f78e-dfa2-4ea4-aced-920084269ec5 div.sk-toggleable__content {max-height: 0;max-width: 0;overflow: hidden;text-align: left;background-color: #f0f8ff;}#sk-b0e7f78e-dfa2-4ea4-aced-920084269ec5 div.sk-toggleable__content pre {margin: 0.2em;color: black;border-radius: 0.25em;background-color: #f0f8ff;}#sk-b0e7f78e-dfa2-4ea4-aced-920084269ec5 input.sk-toggleable__control:checked~div.sk-toggleable__content {max-height: 200px;max-width: 100%;overflow: auto;}#sk-b0e7f78e-dfa2-4ea4-aced-920084269ec5 input.sk-toggleable__control:checked~label.sk-toggleable__label-arrow:before {content: \"▾\";}#sk-b0e7f78e-dfa2-4ea4-aced-920084269ec5 div.sk-estimator input.sk-toggleable__control:checked~label.sk-toggleable__label {background-color: #d4ebff;}#sk-b0e7f78e-dfa2-4ea4-aced-920084269ec5 div.sk-label input.sk-toggleable__control:checked~label.sk-toggleable__label {background-color: #d4ebff;}#sk-b0e7f78e-dfa2-4ea4-aced-920084269ec5 input.sk-hidden--visually {border: 0;clip: rect(1px 1px 1px 1px);clip: rect(1px, 1px, 1px, 1px);height: 1px;margin: -1px;overflow: hidden;padding: 0;position: absolute;width: 1px;}#sk-b0e7f78e-dfa2-4ea4-aced-920084269ec5 div.sk-estimator {font-family: monospace;background-color: #f0f8ff;border: 1px dotted black;border-radius: 0.25em;box-sizing: border-box;margin-bottom: 0.5em;}#sk-b0e7f78e-dfa2-4ea4-aced-920084269ec5 div.sk-estimator:hover {background-color: #d4ebff;}#sk-b0e7f78e-dfa2-4ea4-aced-920084269ec5 div.sk-parallel-item::after {content: \"\";width: 100%;border-bottom: 1px solid gray;flex-grow: 1;}#sk-b0e7f78e-dfa2-4ea4-aced-920084269ec5 div.sk-label:hover label.sk-toggleable__label {background-color: #d4ebff;}#sk-b0e7f78e-dfa2-4ea4-aced-920084269ec5 div.sk-serial::before {content: \"\";position: absolute;border-left: 1px solid gray;box-sizing: border-box;top: 2em;bottom: 0;left: 50%;}#sk-b0e7f78e-dfa2-4ea4-aced-920084269ec5 div.sk-serial {display: flex;flex-direction: column;align-items: center;background-color: white;padding-right: 0.2em;padding-left: 0.2em;}#sk-b0e7f78e-dfa2-4ea4-aced-920084269ec5 div.sk-item {z-index: 1;}#sk-b0e7f78e-dfa2-4ea4-aced-920084269ec5 div.sk-parallel {display: flex;align-items: stretch;justify-content: center;background-color: white;}#sk-b0e7f78e-dfa2-4ea4-aced-920084269ec5 div.sk-parallel::before {content: \"\";position: absolute;border-left: 1px solid gray;box-sizing: border-box;top: 2em;bottom: 0;left: 50%;}#sk-b0e7f78e-dfa2-4ea4-aced-920084269ec5 div.sk-parallel-item {display: flex;flex-direction: column;position: relative;background-color: white;}#sk-b0e7f78e-dfa2-4ea4-aced-920084269ec5 div.sk-parallel-item:first-child::after {align-self: flex-end;width: 50%;}#sk-b0e7f78e-dfa2-4ea4-aced-920084269ec5 div.sk-parallel-item:last-child::after {align-self: flex-start;width: 50%;}#sk-b0e7f78e-dfa2-4ea4-aced-920084269ec5 div.sk-parallel-item:only-child::after {width: 0;}#sk-b0e7f78e-dfa2-4ea4-aced-920084269ec5 div.sk-dashed-wrapped {border: 1px dashed gray;margin: 0 0.4em 0.5em 0.4em;box-sizing: border-box;padding-bottom: 0.4em;background-color: white;position: relative;}#sk-b0e7f78e-dfa2-4ea4-aced-920084269ec5 div.sk-label label {font-family: monospace;font-weight: bold;background-color: white;display: inline-block;line-height: 1.2em;}#sk-b0e7f78e-dfa2-4ea4-aced-920084269ec5 div.sk-label-container {position: relative;z-index: 2;text-align: center;}#sk-b0e7f78e-dfa2-4ea4-aced-920084269ec5 div.sk-container {/* jupyter's `normalize.less` sets `[hidden] { display: none; }` but bootstrap.min.css set `[hidden] { display: none !important; }` so we also need the `!important` here to be able to override the default hidden behavior on the sphinx rendered scikit-learn.org. See: https://github.com/scikit-learn/scikit-learn/issues/21755 */display: inline-block !important;position: relative;}#sk-b0e7f78e-dfa2-4ea4-aced-920084269ec5 div.sk-text-repr-fallback {display: none;}</style><div id=\"sk-b0e7f78e-dfa2-4ea4-aced-920084269ec5\" class=\"sk-top-container\"><div class=\"sk-text-repr-fallback\"><pre>Pipeline(steps=[(&#x27;tfidfvectorizer&#x27;,\n",
       "                 TfidfVectorizer(norm=&#x27;l1&#x27;, stop_words=&#x27;english&#x27;)),\n",
       "                (&#x27;randomforestclassifier&#x27;, RandomForestClassifier())])</pre><b>Please rerun this cell to show the HTML repr or trust the notebook.</b></div><div class=\"sk-container\" hidden><div class=\"sk-item sk-dashed-wrapped\"><div class=\"sk-label-container\"><div class=\"sk-label sk-toggleable\"><input class=\"sk-toggleable__control sk-hidden--visually\" id=\"781218cf-1e68-467e-806d-6febe664573d\" type=\"checkbox\" ><label for=\"781218cf-1e68-467e-806d-6febe664573d\" class=\"sk-toggleable__label sk-toggleable__label-arrow\">Pipeline</label><div class=\"sk-toggleable__content\"><pre>Pipeline(steps=[(&#x27;tfidfvectorizer&#x27;,\n",
       "                 TfidfVectorizer(norm=&#x27;l1&#x27;, stop_words=&#x27;english&#x27;)),\n",
       "                (&#x27;randomforestclassifier&#x27;, RandomForestClassifier())])</pre></div></div></div><div class=\"sk-serial\"><div class=\"sk-item\"><div class=\"sk-estimator sk-toggleable\"><input class=\"sk-toggleable__control sk-hidden--visually\" id=\"61a9205c-dde4-4206-a9a3-b5cb6028146f\" type=\"checkbox\" ><label for=\"61a9205c-dde4-4206-a9a3-b5cb6028146f\" class=\"sk-toggleable__label sk-toggleable__label-arrow\">TfidfVectorizer</label><div class=\"sk-toggleable__content\"><pre>TfidfVectorizer(norm=&#x27;l1&#x27;, stop_words=&#x27;english&#x27;)</pre></div></div></div><div class=\"sk-item\"><div class=\"sk-estimator sk-toggleable\"><input class=\"sk-toggleable__control sk-hidden--visually\" id=\"69b3ffec-90dc-4940-903c-5472ece517dd\" type=\"checkbox\" ><label for=\"69b3ffec-90dc-4940-903c-5472ece517dd\" class=\"sk-toggleable__label sk-toggleable__label-arrow\">RandomForestClassifier</label><div class=\"sk-toggleable__content\"><pre>RandomForestClassifier()</pre></div></div></div></div></div></div></div>"
      ],
      "text/plain": [
       "Pipeline(steps=[('tfidfvectorizer',\n",
       "                 TfidfVectorizer(norm='l1', stop_words='english')),\n",
       "                ('randomforestclassifier', RandomForestClassifier())])"
      ]
     },
     "execution_count": 186,
     "metadata": {},
     "output_type": "execute_result"
    }
   ],
   "source": [
    "pipe"
   ]
  },
  {
   "cell_type": "code",
   "execution_count": 156,
   "id": "783f70d7-0e74-4190-bff1-33b09f295fc8",
   "metadata": {},
   "outputs": [],
   "source": [
    "twenty_train = fetch_20newsgroups(subset = 'train',\n",
    "                                  shuffle=True,\n",
    "                                  random_state=0)"
   ]
  },
  {
   "cell_type": "code",
   "execution_count": 178,
   "id": "bb224ad9-33da-4f8e-a0d8-5619d2e9d5a0",
   "metadata": {},
   "outputs": [],
   "source": [
    "twenty_test = fetch_20newsgroups(subset = 'test',\n",
    "                                  shuffle=True,\n",
    "                                  random_state=0)"
   ]
  },
  {
   "cell_type": "code",
   "execution_count": 188,
   "id": "8698e709-6809-4b2e-b266-9e9f12e065d3",
   "metadata": {},
   "outputs": [
    {
     "data": {
      "text/html": [
       "<style>#sk-a00532d4-d67d-4b29-a29d-46ebd30f2b5d {color: black;background-color: white;}#sk-a00532d4-d67d-4b29-a29d-46ebd30f2b5d pre{padding: 0;}#sk-a00532d4-d67d-4b29-a29d-46ebd30f2b5d div.sk-toggleable {background-color: white;}#sk-a00532d4-d67d-4b29-a29d-46ebd30f2b5d label.sk-toggleable__label {cursor: pointer;display: block;width: 100%;margin-bottom: 0;padding: 0.3em;box-sizing: border-box;text-align: center;}#sk-a00532d4-d67d-4b29-a29d-46ebd30f2b5d label.sk-toggleable__label-arrow:before {content: \"▸\";float: left;margin-right: 0.25em;color: #696969;}#sk-a00532d4-d67d-4b29-a29d-46ebd30f2b5d label.sk-toggleable__label-arrow:hover:before {color: black;}#sk-a00532d4-d67d-4b29-a29d-46ebd30f2b5d div.sk-estimator:hover label.sk-toggleable__label-arrow:before {color: black;}#sk-a00532d4-d67d-4b29-a29d-46ebd30f2b5d div.sk-toggleable__content {max-height: 0;max-width: 0;overflow: hidden;text-align: left;background-color: #f0f8ff;}#sk-a00532d4-d67d-4b29-a29d-46ebd30f2b5d div.sk-toggleable__content pre {margin: 0.2em;color: black;border-radius: 0.25em;background-color: #f0f8ff;}#sk-a00532d4-d67d-4b29-a29d-46ebd30f2b5d input.sk-toggleable__control:checked~div.sk-toggleable__content {max-height: 200px;max-width: 100%;overflow: auto;}#sk-a00532d4-d67d-4b29-a29d-46ebd30f2b5d input.sk-toggleable__control:checked~label.sk-toggleable__label-arrow:before {content: \"▾\";}#sk-a00532d4-d67d-4b29-a29d-46ebd30f2b5d div.sk-estimator input.sk-toggleable__control:checked~label.sk-toggleable__label {background-color: #d4ebff;}#sk-a00532d4-d67d-4b29-a29d-46ebd30f2b5d div.sk-label input.sk-toggleable__control:checked~label.sk-toggleable__label {background-color: #d4ebff;}#sk-a00532d4-d67d-4b29-a29d-46ebd30f2b5d input.sk-hidden--visually {border: 0;clip: rect(1px 1px 1px 1px);clip: rect(1px, 1px, 1px, 1px);height: 1px;margin: -1px;overflow: hidden;padding: 0;position: absolute;width: 1px;}#sk-a00532d4-d67d-4b29-a29d-46ebd30f2b5d div.sk-estimator {font-family: monospace;background-color: #f0f8ff;border: 1px dotted black;border-radius: 0.25em;box-sizing: border-box;margin-bottom: 0.5em;}#sk-a00532d4-d67d-4b29-a29d-46ebd30f2b5d div.sk-estimator:hover {background-color: #d4ebff;}#sk-a00532d4-d67d-4b29-a29d-46ebd30f2b5d div.sk-parallel-item::after {content: \"\";width: 100%;border-bottom: 1px solid gray;flex-grow: 1;}#sk-a00532d4-d67d-4b29-a29d-46ebd30f2b5d div.sk-label:hover label.sk-toggleable__label {background-color: #d4ebff;}#sk-a00532d4-d67d-4b29-a29d-46ebd30f2b5d div.sk-serial::before {content: \"\";position: absolute;border-left: 1px solid gray;box-sizing: border-box;top: 2em;bottom: 0;left: 50%;}#sk-a00532d4-d67d-4b29-a29d-46ebd30f2b5d div.sk-serial {display: flex;flex-direction: column;align-items: center;background-color: white;padding-right: 0.2em;padding-left: 0.2em;}#sk-a00532d4-d67d-4b29-a29d-46ebd30f2b5d div.sk-item {z-index: 1;}#sk-a00532d4-d67d-4b29-a29d-46ebd30f2b5d div.sk-parallel {display: flex;align-items: stretch;justify-content: center;background-color: white;}#sk-a00532d4-d67d-4b29-a29d-46ebd30f2b5d div.sk-parallel::before {content: \"\";position: absolute;border-left: 1px solid gray;box-sizing: border-box;top: 2em;bottom: 0;left: 50%;}#sk-a00532d4-d67d-4b29-a29d-46ebd30f2b5d div.sk-parallel-item {display: flex;flex-direction: column;position: relative;background-color: white;}#sk-a00532d4-d67d-4b29-a29d-46ebd30f2b5d div.sk-parallel-item:first-child::after {align-self: flex-end;width: 50%;}#sk-a00532d4-d67d-4b29-a29d-46ebd30f2b5d div.sk-parallel-item:last-child::after {align-self: flex-start;width: 50%;}#sk-a00532d4-d67d-4b29-a29d-46ebd30f2b5d div.sk-parallel-item:only-child::after {width: 0;}#sk-a00532d4-d67d-4b29-a29d-46ebd30f2b5d div.sk-dashed-wrapped {border: 1px dashed gray;margin: 0 0.4em 0.5em 0.4em;box-sizing: border-box;padding-bottom: 0.4em;background-color: white;position: relative;}#sk-a00532d4-d67d-4b29-a29d-46ebd30f2b5d div.sk-label label {font-family: monospace;font-weight: bold;background-color: white;display: inline-block;line-height: 1.2em;}#sk-a00532d4-d67d-4b29-a29d-46ebd30f2b5d div.sk-label-container {position: relative;z-index: 2;text-align: center;}#sk-a00532d4-d67d-4b29-a29d-46ebd30f2b5d div.sk-container {/* jupyter's `normalize.less` sets `[hidden] { display: none; }` but bootstrap.min.css set `[hidden] { display: none !important; }` so we also need the `!important` here to be able to override the default hidden behavior on the sphinx rendered scikit-learn.org. See: https://github.com/scikit-learn/scikit-learn/issues/21755 */display: inline-block !important;position: relative;}#sk-a00532d4-d67d-4b29-a29d-46ebd30f2b5d div.sk-text-repr-fallback {display: none;}</style><div id=\"sk-a00532d4-d67d-4b29-a29d-46ebd30f2b5d\" class=\"sk-top-container\"><div class=\"sk-text-repr-fallback\"><pre>Pipeline(steps=[(&#x27;tfidfvectorizer&#x27;,\n",
       "                 TfidfVectorizer(norm=&#x27;l1&#x27;, stop_words=&#x27;english&#x27;)),\n",
       "                (&#x27;randomforestclassifier&#x27;, RandomForestClassifier())])</pre><b>Please rerun this cell to show the HTML repr or trust the notebook.</b></div><div class=\"sk-container\" hidden><div class=\"sk-item sk-dashed-wrapped\"><div class=\"sk-label-container\"><div class=\"sk-label sk-toggleable\"><input class=\"sk-toggleable__control sk-hidden--visually\" id=\"40c7b8a8-68be-4e91-be96-6b0337896af2\" type=\"checkbox\" ><label for=\"40c7b8a8-68be-4e91-be96-6b0337896af2\" class=\"sk-toggleable__label sk-toggleable__label-arrow\">Pipeline</label><div class=\"sk-toggleable__content\"><pre>Pipeline(steps=[(&#x27;tfidfvectorizer&#x27;,\n",
       "                 TfidfVectorizer(norm=&#x27;l1&#x27;, stop_words=&#x27;english&#x27;)),\n",
       "                (&#x27;randomforestclassifier&#x27;, RandomForestClassifier())])</pre></div></div></div><div class=\"sk-serial\"><div class=\"sk-item\"><div class=\"sk-estimator sk-toggleable\"><input class=\"sk-toggleable__control sk-hidden--visually\" id=\"5f36187c-9e8c-4bd9-a57e-3147517a226c\" type=\"checkbox\" ><label for=\"5f36187c-9e8c-4bd9-a57e-3147517a226c\" class=\"sk-toggleable__label sk-toggleable__label-arrow\">TfidfVectorizer</label><div class=\"sk-toggleable__content\"><pre>TfidfVectorizer(norm=&#x27;l1&#x27;, stop_words=&#x27;english&#x27;)</pre></div></div></div><div class=\"sk-item\"><div class=\"sk-estimator sk-toggleable\"><input class=\"sk-toggleable__control sk-hidden--visually\" id=\"8a05647f-02f7-48de-8da8-edbbceb691a4\" type=\"checkbox\" ><label for=\"8a05647f-02f7-48de-8da8-edbbceb691a4\" class=\"sk-toggleable__label sk-toggleable__label-arrow\">RandomForestClassifier</label><div class=\"sk-toggleable__content\"><pre>RandomForestClassifier()</pre></div></div></div></div></div></div></div>"
      ],
      "text/plain": [
       "Pipeline(steps=[('tfidfvectorizer',\n",
       "                 TfidfVectorizer(norm='l1', stop_words='english')),\n",
       "                ('randomforestclassifier', RandomForestClassifier())])"
      ]
     },
     "execution_count": 188,
     "metadata": {},
     "output_type": "execute_result"
    }
   ],
   "source": [
    "pipe.fit(twenty_train.data, twenty_train.target)"
   ]
  },
  {
   "cell_type": "code",
   "execution_count": 189,
   "id": "5a60a61c-7288-42b0-b8dc-e853c07415bd",
   "metadata": {},
   "outputs": [
    {
     "data": {
      "text/plain": [
       "0.782129580456718"
      ]
     },
     "execution_count": 189,
     "metadata": {},
     "output_type": "execute_result"
    }
   ],
   "source": [
    "pipe.score(twenty_test.data, twenty_test.target)"
   ]
  },
  {
   "cell_type": "code",
   "execution_count": null,
   "id": "14511a0f-aefb-4efb-9427-2bc067b643d1",
   "metadata": {},
   "outputs": [],
   "source": [
    "# 문제 F1 Score로 다시하기\n",
    "pipeline: tf-idf화 시켜서 -> randomforest로 해보기 "
   ]
  },
  {
   "cell_type": "code",
   "execution_count": 196,
   "id": "9f8e693a-f12e-4a7a-b112-6125034d951a",
   "metadata": {},
   "outputs": [],
   "source": [
    "from sklearn.metrics import f1_score"
   ]
  },
  {
   "cell_type": "code",
   "execution_count": 206,
   "id": "7e7dd57f-f848-43be-9701-bba5767566ee",
   "metadata": {},
   "outputs": [],
   "source": [
    "y_pred = pipe.predict(twenty_test.data)"
   ]
  },
  {
   "cell_type": "code",
   "execution_count": 207,
   "id": "0c214930-c836-4e38-9946-282921149acd",
   "metadata": {},
   "outputs": [
    {
     "data": {
      "text/plain": [
       "0.7701731074285969"
      ]
     },
     "execution_count": 207,
     "metadata": {},
     "output_type": "execute_result"
    }
   ],
   "source": [
    "f1_score(twenty_test.target, y_pred, average='macro')"
   ]
  },
  {
   "cell_type": "code",
   "execution_count": 211,
   "id": "1417cb45-901e-4b55-87b9-a4501df24d61",
   "metadata": {},
   "outputs": [],
   "source": [
    "# GridSearchCV\n",
    "from sklearn.model_selection import GridSearchCV"
   ]
  },
  {
   "cell_type": "code",
   "execution_count": 241,
   "id": "dd273117-a15d-4eb9-bb6e-914dd9a74bfd",
   "metadata": {},
   "outputs": [
    {
     "name": "stdout",
     "output_type": "stream",
     "text": [
      "1\n",
      "2\n",
      "4\n",
      "5\n",
      "10\n",
      "20\n",
      "25\n",
      "50\n",
      "100\n"
     ]
    }
   ],
   "source": [
    "# 100의 약수 구하기\n",
    "n = 100\n",
    "for i in range(1, 101) :\n",
    "    if n % i == 0 :\n",
    "        print(i)"
   ]
  },
  {
   "cell_type": "markdown",
   "id": "5400910a-deae-4f91-a714-019156f532f9",
   "metadata": {},
   "source": [
    "---"
   ]
  },
  {
   "cell_type": "code",
   "execution_count": null,
   "id": "24beba0a-df16-4a6d-a2dc-f16eba17dbb6",
   "metadata": {},
   "outputs": [],
   "source": [
    "# 강사님 풀이"
   ]
  },
  {
   "cell_type": "code",
   "execution_count": 215,
   "id": "baf2c4a3-9637-4268-81d1-0110f302f52a",
   "metadata": {},
   "outputs": [],
   "source": [
    "from sklearn.pipeline import make_pipeline\n",
    "from sklearn.ensemble import RandomForestClassifier"
   ]
  },
  {
   "cell_type": "code",
   "execution_count": 217,
   "id": "d7ef5db6-c857-479b-97d5-38e4f0a6a902",
   "metadata": {},
   "outputs": [],
   "source": [
    "pipe = make_pipeline(TfidfVectorizer(), RandomForestClassifier())"
   ]
  },
  {
   "cell_type": "code",
   "execution_count": 218,
   "id": "ed839d82-51f8-46f2-ace2-d005b45c667b",
   "metadata": {},
   "outputs": [
    {
     "data": {
      "text/html": [
       "<style>#sk-885eb74a-2791-4c6b-9e98-f526e10a63d0 {color: black;background-color: white;}#sk-885eb74a-2791-4c6b-9e98-f526e10a63d0 pre{padding: 0;}#sk-885eb74a-2791-4c6b-9e98-f526e10a63d0 div.sk-toggleable {background-color: white;}#sk-885eb74a-2791-4c6b-9e98-f526e10a63d0 label.sk-toggleable__label {cursor: pointer;display: block;width: 100%;margin-bottom: 0;padding: 0.3em;box-sizing: border-box;text-align: center;}#sk-885eb74a-2791-4c6b-9e98-f526e10a63d0 label.sk-toggleable__label-arrow:before {content: \"▸\";float: left;margin-right: 0.25em;color: #696969;}#sk-885eb74a-2791-4c6b-9e98-f526e10a63d0 label.sk-toggleable__label-arrow:hover:before {color: black;}#sk-885eb74a-2791-4c6b-9e98-f526e10a63d0 div.sk-estimator:hover label.sk-toggleable__label-arrow:before {color: black;}#sk-885eb74a-2791-4c6b-9e98-f526e10a63d0 div.sk-toggleable__content {max-height: 0;max-width: 0;overflow: hidden;text-align: left;background-color: #f0f8ff;}#sk-885eb74a-2791-4c6b-9e98-f526e10a63d0 div.sk-toggleable__content pre {margin: 0.2em;color: black;border-radius: 0.25em;background-color: #f0f8ff;}#sk-885eb74a-2791-4c6b-9e98-f526e10a63d0 input.sk-toggleable__control:checked~div.sk-toggleable__content {max-height: 200px;max-width: 100%;overflow: auto;}#sk-885eb74a-2791-4c6b-9e98-f526e10a63d0 input.sk-toggleable__control:checked~label.sk-toggleable__label-arrow:before {content: \"▾\";}#sk-885eb74a-2791-4c6b-9e98-f526e10a63d0 div.sk-estimator input.sk-toggleable__control:checked~label.sk-toggleable__label {background-color: #d4ebff;}#sk-885eb74a-2791-4c6b-9e98-f526e10a63d0 div.sk-label input.sk-toggleable__control:checked~label.sk-toggleable__label {background-color: #d4ebff;}#sk-885eb74a-2791-4c6b-9e98-f526e10a63d0 input.sk-hidden--visually {border: 0;clip: rect(1px 1px 1px 1px);clip: rect(1px, 1px, 1px, 1px);height: 1px;margin: -1px;overflow: hidden;padding: 0;position: absolute;width: 1px;}#sk-885eb74a-2791-4c6b-9e98-f526e10a63d0 div.sk-estimator {font-family: monospace;background-color: #f0f8ff;border: 1px dotted black;border-radius: 0.25em;box-sizing: border-box;margin-bottom: 0.5em;}#sk-885eb74a-2791-4c6b-9e98-f526e10a63d0 div.sk-estimator:hover {background-color: #d4ebff;}#sk-885eb74a-2791-4c6b-9e98-f526e10a63d0 div.sk-parallel-item::after {content: \"\";width: 100%;border-bottom: 1px solid gray;flex-grow: 1;}#sk-885eb74a-2791-4c6b-9e98-f526e10a63d0 div.sk-label:hover label.sk-toggleable__label {background-color: #d4ebff;}#sk-885eb74a-2791-4c6b-9e98-f526e10a63d0 div.sk-serial::before {content: \"\";position: absolute;border-left: 1px solid gray;box-sizing: border-box;top: 2em;bottom: 0;left: 50%;}#sk-885eb74a-2791-4c6b-9e98-f526e10a63d0 div.sk-serial {display: flex;flex-direction: column;align-items: center;background-color: white;padding-right: 0.2em;padding-left: 0.2em;}#sk-885eb74a-2791-4c6b-9e98-f526e10a63d0 div.sk-item {z-index: 1;}#sk-885eb74a-2791-4c6b-9e98-f526e10a63d0 div.sk-parallel {display: flex;align-items: stretch;justify-content: center;background-color: white;}#sk-885eb74a-2791-4c6b-9e98-f526e10a63d0 div.sk-parallel::before {content: \"\";position: absolute;border-left: 1px solid gray;box-sizing: border-box;top: 2em;bottom: 0;left: 50%;}#sk-885eb74a-2791-4c6b-9e98-f526e10a63d0 div.sk-parallel-item {display: flex;flex-direction: column;position: relative;background-color: white;}#sk-885eb74a-2791-4c6b-9e98-f526e10a63d0 div.sk-parallel-item:first-child::after {align-self: flex-end;width: 50%;}#sk-885eb74a-2791-4c6b-9e98-f526e10a63d0 div.sk-parallel-item:last-child::after {align-self: flex-start;width: 50%;}#sk-885eb74a-2791-4c6b-9e98-f526e10a63d0 div.sk-parallel-item:only-child::after {width: 0;}#sk-885eb74a-2791-4c6b-9e98-f526e10a63d0 div.sk-dashed-wrapped {border: 1px dashed gray;margin: 0 0.4em 0.5em 0.4em;box-sizing: border-box;padding-bottom: 0.4em;background-color: white;position: relative;}#sk-885eb74a-2791-4c6b-9e98-f526e10a63d0 div.sk-label label {font-family: monospace;font-weight: bold;background-color: white;display: inline-block;line-height: 1.2em;}#sk-885eb74a-2791-4c6b-9e98-f526e10a63d0 div.sk-label-container {position: relative;z-index: 2;text-align: center;}#sk-885eb74a-2791-4c6b-9e98-f526e10a63d0 div.sk-container {/* jupyter's `normalize.less` sets `[hidden] { display: none; }` but bootstrap.min.css set `[hidden] { display: none !important; }` so we also need the `!important` here to be able to override the default hidden behavior on the sphinx rendered scikit-learn.org. See: https://github.com/scikit-learn/scikit-learn/issues/21755 */display: inline-block !important;position: relative;}#sk-885eb74a-2791-4c6b-9e98-f526e10a63d0 div.sk-text-repr-fallback {display: none;}</style><div id=\"sk-885eb74a-2791-4c6b-9e98-f526e10a63d0\" class=\"sk-top-container\"><div class=\"sk-text-repr-fallback\"><pre>Pipeline(steps=[(&#x27;tfidfvectorizer&#x27;, TfidfVectorizer()),\n",
       "                (&#x27;randomforestclassifier&#x27;, RandomForestClassifier())])</pre><b>Please rerun this cell to show the HTML repr or trust the notebook.</b></div><div class=\"sk-container\" hidden><div class=\"sk-item sk-dashed-wrapped\"><div class=\"sk-label-container\"><div class=\"sk-label sk-toggleable\"><input class=\"sk-toggleable__control sk-hidden--visually\" id=\"52cb9617-3efa-43bf-8c90-2717fa20afc5\" type=\"checkbox\" ><label for=\"52cb9617-3efa-43bf-8c90-2717fa20afc5\" class=\"sk-toggleable__label sk-toggleable__label-arrow\">Pipeline</label><div class=\"sk-toggleable__content\"><pre>Pipeline(steps=[(&#x27;tfidfvectorizer&#x27;, TfidfVectorizer()),\n",
       "                (&#x27;randomforestclassifier&#x27;, RandomForestClassifier())])</pre></div></div></div><div class=\"sk-serial\"><div class=\"sk-item\"><div class=\"sk-estimator sk-toggleable\"><input class=\"sk-toggleable__control sk-hidden--visually\" id=\"dc871e48-c287-46a6-af13-47274a9d357e\" type=\"checkbox\" ><label for=\"dc871e48-c287-46a6-af13-47274a9d357e\" class=\"sk-toggleable__label sk-toggleable__label-arrow\">TfidfVectorizer</label><div class=\"sk-toggleable__content\"><pre>TfidfVectorizer()</pre></div></div></div><div class=\"sk-item\"><div class=\"sk-estimator sk-toggleable\"><input class=\"sk-toggleable__control sk-hidden--visually\" id=\"d8cb8bda-cdfc-4eb0-945c-4b986296f3b3\" type=\"checkbox\" ><label for=\"d8cb8bda-cdfc-4eb0-945c-4b986296f3b3\" class=\"sk-toggleable__label sk-toggleable__label-arrow\">RandomForestClassifier</label><div class=\"sk-toggleable__content\"><pre>RandomForestClassifier()</pre></div></div></div></div></div></div></div>"
      ],
      "text/plain": [
       "Pipeline(steps=[('tfidfvectorizer', TfidfVectorizer()),\n",
       "                ('randomforestclassifier', RandomForestClassifier())])"
      ]
     },
     "execution_count": 218,
     "metadata": {},
     "output_type": "execute_result"
    }
   ],
   "source": [
    "pipe.fit(twenty_train.data, twenty_train.target)"
   ]
  },
  {
   "cell_type": "code",
   "execution_count": 219,
   "id": "074885e0-9032-49f1-bbc2-a9ecfeb90ff1",
   "metadata": {},
   "outputs": [
    {
     "data": {
      "text/plain": [
       "0.7563728093467871"
      ]
     },
     "execution_count": 219,
     "metadata": {},
     "output_type": "execute_result"
    }
   ],
   "source": [
    "pipe.score(twenty_test.data, twenty_test.target)"
   ]
  },
  {
   "cell_type": "code",
   "execution_count": 220,
   "id": "a5f15cb1-f5b3-4fb3-aa94-9d2f8f680f64",
   "metadata": {},
   "outputs": [],
   "source": [
    "from sklearn.metrics import f1_score"
   ]
  },
  {
   "cell_type": "code",
   "execution_count": 221,
   "id": "0bafc0f9-e579-4e9a-b3d2-3243d4d59623",
   "metadata": {},
   "outputs": [],
   "source": [
    "pred = pipe.predict(twenty_test.data)"
   ]
  },
  {
   "cell_type": "code",
   "execution_count": 222,
   "id": "f051db2a-2f70-4450-b94e-d82fdf999251",
   "metadata": {},
   "outputs": [
    {
     "data": {
      "text/plain": [
       "0.741802156849257"
      ]
     },
     "execution_count": 222,
     "metadata": {},
     "output_type": "execute_result"
    }
   ],
   "source": [
    "f1_score(twenty_test.target, pred, average='macro')"
   ]
  },
  {
   "cell_type": "code",
   "execution_count": 223,
   "id": "16a76f96-a531-4a08-aa25-5b9823f57f51",
   "metadata": {},
   "outputs": [],
   "source": [
    "# GridSearchCV\n",
    "from sklearn.model_selection import GridSearchCV"
   ]
  },
  {
   "cell_type": "code",
   "execution_count": 224,
   "id": "f8ebfde4-5e54-4612-a77b-074f88e2cf94",
   "metadata": {},
   "outputs": [
    {
     "data": {
      "text/html": [
       "<style>#sk-1cd2d220-a51e-44f4-bf73-5667e39ce656 {color: black;background-color: white;}#sk-1cd2d220-a51e-44f4-bf73-5667e39ce656 pre{padding: 0;}#sk-1cd2d220-a51e-44f4-bf73-5667e39ce656 div.sk-toggleable {background-color: white;}#sk-1cd2d220-a51e-44f4-bf73-5667e39ce656 label.sk-toggleable__label {cursor: pointer;display: block;width: 100%;margin-bottom: 0;padding: 0.3em;box-sizing: border-box;text-align: center;}#sk-1cd2d220-a51e-44f4-bf73-5667e39ce656 label.sk-toggleable__label-arrow:before {content: \"▸\";float: left;margin-right: 0.25em;color: #696969;}#sk-1cd2d220-a51e-44f4-bf73-5667e39ce656 label.sk-toggleable__label-arrow:hover:before {color: black;}#sk-1cd2d220-a51e-44f4-bf73-5667e39ce656 div.sk-estimator:hover label.sk-toggleable__label-arrow:before {color: black;}#sk-1cd2d220-a51e-44f4-bf73-5667e39ce656 div.sk-toggleable__content {max-height: 0;max-width: 0;overflow: hidden;text-align: left;background-color: #f0f8ff;}#sk-1cd2d220-a51e-44f4-bf73-5667e39ce656 div.sk-toggleable__content pre {margin: 0.2em;color: black;border-radius: 0.25em;background-color: #f0f8ff;}#sk-1cd2d220-a51e-44f4-bf73-5667e39ce656 input.sk-toggleable__control:checked~div.sk-toggleable__content {max-height: 200px;max-width: 100%;overflow: auto;}#sk-1cd2d220-a51e-44f4-bf73-5667e39ce656 input.sk-toggleable__control:checked~label.sk-toggleable__label-arrow:before {content: \"▾\";}#sk-1cd2d220-a51e-44f4-bf73-5667e39ce656 div.sk-estimator input.sk-toggleable__control:checked~label.sk-toggleable__label {background-color: #d4ebff;}#sk-1cd2d220-a51e-44f4-bf73-5667e39ce656 div.sk-label input.sk-toggleable__control:checked~label.sk-toggleable__label {background-color: #d4ebff;}#sk-1cd2d220-a51e-44f4-bf73-5667e39ce656 input.sk-hidden--visually {border: 0;clip: rect(1px 1px 1px 1px);clip: rect(1px, 1px, 1px, 1px);height: 1px;margin: -1px;overflow: hidden;padding: 0;position: absolute;width: 1px;}#sk-1cd2d220-a51e-44f4-bf73-5667e39ce656 div.sk-estimator {font-family: monospace;background-color: #f0f8ff;border: 1px dotted black;border-radius: 0.25em;box-sizing: border-box;margin-bottom: 0.5em;}#sk-1cd2d220-a51e-44f4-bf73-5667e39ce656 div.sk-estimator:hover {background-color: #d4ebff;}#sk-1cd2d220-a51e-44f4-bf73-5667e39ce656 div.sk-parallel-item::after {content: \"\";width: 100%;border-bottom: 1px solid gray;flex-grow: 1;}#sk-1cd2d220-a51e-44f4-bf73-5667e39ce656 div.sk-label:hover label.sk-toggleable__label {background-color: #d4ebff;}#sk-1cd2d220-a51e-44f4-bf73-5667e39ce656 div.sk-serial::before {content: \"\";position: absolute;border-left: 1px solid gray;box-sizing: border-box;top: 2em;bottom: 0;left: 50%;}#sk-1cd2d220-a51e-44f4-bf73-5667e39ce656 div.sk-serial {display: flex;flex-direction: column;align-items: center;background-color: white;padding-right: 0.2em;padding-left: 0.2em;}#sk-1cd2d220-a51e-44f4-bf73-5667e39ce656 div.sk-item {z-index: 1;}#sk-1cd2d220-a51e-44f4-bf73-5667e39ce656 div.sk-parallel {display: flex;align-items: stretch;justify-content: center;background-color: white;}#sk-1cd2d220-a51e-44f4-bf73-5667e39ce656 div.sk-parallel::before {content: \"\";position: absolute;border-left: 1px solid gray;box-sizing: border-box;top: 2em;bottom: 0;left: 50%;}#sk-1cd2d220-a51e-44f4-bf73-5667e39ce656 div.sk-parallel-item {display: flex;flex-direction: column;position: relative;background-color: white;}#sk-1cd2d220-a51e-44f4-bf73-5667e39ce656 div.sk-parallel-item:first-child::after {align-self: flex-end;width: 50%;}#sk-1cd2d220-a51e-44f4-bf73-5667e39ce656 div.sk-parallel-item:last-child::after {align-self: flex-start;width: 50%;}#sk-1cd2d220-a51e-44f4-bf73-5667e39ce656 div.sk-parallel-item:only-child::after {width: 0;}#sk-1cd2d220-a51e-44f4-bf73-5667e39ce656 div.sk-dashed-wrapped {border: 1px dashed gray;margin: 0 0.4em 0.5em 0.4em;box-sizing: border-box;padding-bottom: 0.4em;background-color: white;position: relative;}#sk-1cd2d220-a51e-44f4-bf73-5667e39ce656 div.sk-label label {font-family: monospace;font-weight: bold;background-color: white;display: inline-block;line-height: 1.2em;}#sk-1cd2d220-a51e-44f4-bf73-5667e39ce656 div.sk-label-container {position: relative;z-index: 2;text-align: center;}#sk-1cd2d220-a51e-44f4-bf73-5667e39ce656 div.sk-container {/* jupyter's `normalize.less` sets `[hidden] { display: none; }` but bootstrap.min.css set `[hidden] { display: none !important; }` so we also need the `!important` here to be able to override the default hidden behavior on the sphinx rendered scikit-learn.org. See: https://github.com/scikit-learn/scikit-learn/issues/21755 */display: inline-block !important;position: relative;}#sk-1cd2d220-a51e-44f4-bf73-5667e39ce656 div.sk-text-repr-fallback {display: none;}</style><div id=\"sk-1cd2d220-a51e-44f4-bf73-5667e39ce656\" class=\"sk-top-container\"><div class=\"sk-text-repr-fallback\"><pre>Pipeline(steps=[(&#x27;tfidfvectorizer&#x27;, TfidfVectorizer()),\n",
       "                (&#x27;randomforestclassifier&#x27;, RandomForestClassifier())])</pre><b>Please rerun this cell to show the HTML repr or trust the notebook.</b></div><div class=\"sk-container\" hidden><div class=\"sk-item sk-dashed-wrapped\"><div class=\"sk-label-container\"><div class=\"sk-label sk-toggleable\"><input class=\"sk-toggleable__control sk-hidden--visually\" id=\"ed63f60e-bb2e-4543-892c-ee19eda68ce1\" type=\"checkbox\" ><label for=\"ed63f60e-bb2e-4543-892c-ee19eda68ce1\" class=\"sk-toggleable__label sk-toggleable__label-arrow\">Pipeline</label><div class=\"sk-toggleable__content\"><pre>Pipeline(steps=[(&#x27;tfidfvectorizer&#x27;, TfidfVectorizer()),\n",
       "                (&#x27;randomforestclassifier&#x27;, RandomForestClassifier())])</pre></div></div></div><div class=\"sk-serial\"><div class=\"sk-item\"><div class=\"sk-estimator sk-toggleable\"><input class=\"sk-toggleable__control sk-hidden--visually\" id=\"30def62f-7685-430a-b6d8-784339acc0e9\" type=\"checkbox\" ><label for=\"30def62f-7685-430a-b6d8-784339acc0e9\" class=\"sk-toggleable__label sk-toggleable__label-arrow\">TfidfVectorizer</label><div class=\"sk-toggleable__content\"><pre>TfidfVectorizer()</pre></div></div></div><div class=\"sk-item\"><div class=\"sk-estimator sk-toggleable\"><input class=\"sk-toggleable__control sk-hidden--visually\" id=\"b0db6302-690d-4060-9e82-a0b90b42aab3\" type=\"checkbox\" ><label for=\"b0db6302-690d-4060-9e82-a0b90b42aab3\" class=\"sk-toggleable__label sk-toggleable__label-arrow\">RandomForestClassifier</label><div class=\"sk-toggleable__content\"><pre>RandomForestClassifier()</pre></div></div></div></div></div></div></div>"
      ],
      "text/plain": [
       "Pipeline(steps=[('tfidfvectorizer', TfidfVectorizer()),\n",
       "                ('randomforestclassifier', RandomForestClassifier())])"
      ]
     },
     "execution_count": 224,
     "metadata": {},
     "output_type": "execute_result"
    }
   ],
   "source": [
    "pipe"
   ]
  },
  {
   "cell_type": "code",
   "execution_count": 226,
   "id": "cc27eb5e-2429-440d-b58c-8899e6ea9229",
   "metadata": {},
   "outputs": [],
   "source": [
    "model = RandomForestClassifier()"
   ]
  },
  {
   "cell_type": "code",
   "execution_count": 235,
   "id": "8711173c-1cca-4a52-b4dc-6e76806a2094",
   "metadata": {},
   "outputs": [],
   "source": [
    "param_grid = {'randomforestclassifier__criterion' : ['gini', 'entropy', 'log_loss'],\n",
    "              'randomforestclassifier__max_features' : ['sqrt', 'log2'],\n",
    "              #'randomforestclassifier__class_weight' : ['balanced', 'balanced_subsample'],\n",
    "              'tfidfvectorizer__norm' : ['l1','l2']}"
   ]
  },
  {
   "cell_type": "code",
   "execution_count": 236,
   "id": "43540428-30dd-429f-b52e-afa903913c41",
   "metadata": {},
   "outputs": [],
   "source": [
    "grid_model = GridSearchCV(pipe, param_grid, verbose=2, n_jobs= -1)"
   ]
  },
  {
   "cell_type": "code",
   "execution_count": 237,
   "id": "8ac74c3a-2e71-4bce-8016-80e6faa11998",
   "metadata": {},
   "outputs": [
    {
     "name": "stdout",
     "output_type": "stream",
     "text": [
      "Fitting 5 folds for each of 12 candidates, totalling 60 fits\n"
     ]
    },
    {
     "data": {
      "text/html": [
       "<style>#sk-cb948a95-131b-4019-af19-71f2bac7d8e6 {color: black;background-color: white;}#sk-cb948a95-131b-4019-af19-71f2bac7d8e6 pre{padding: 0;}#sk-cb948a95-131b-4019-af19-71f2bac7d8e6 div.sk-toggleable {background-color: white;}#sk-cb948a95-131b-4019-af19-71f2bac7d8e6 label.sk-toggleable__label {cursor: pointer;display: block;width: 100%;margin-bottom: 0;padding: 0.3em;box-sizing: border-box;text-align: center;}#sk-cb948a95-131b-4019-af19-71f2bac7d8e6 label.sk-toggleable__label-arrow:before {content: \"▸\";float: left;margin-right: 0.25em;color: #696969;}#sk-cb948a95-131b-4019-af19-71f2bac7d8e6 label.sk-toggleable__label-arrow:hover:before {color: black;}#sk-cb948a95-131b-4019-af19-71f2bac7d8e6 div.sk-estimator:hover label.sk-toggleable__label-arrow:before {color: black;}#sk-cb948a95-131b-4019-af19-71f2bac7d8e6 div.sk-toggleable__content {max-height: 0;max-width: 0;overflow: hidden;text-align: left;background-color: #f0f8ff;}#sk-cb948a95-131b-4019-af19-71f2bac7d8e6 div.sk-toggleable__content pre {margin: 0.2em;color: black;border-radius: 0.25em;background-color: #f0f8ff;}#sk-cb948a95-131b-4019-af19-71f2bac7d8e6 input.sk-toggleable__control:checked~div.sk-toggleable__content {max-height: 200px;max-width: 100%;overflow: auto;}#sk-cb948a95-131b-4019-af19-71f2bac7d8e6 input.sk-toggleable__control:checked~label.sk-toggleable__label-arrow:before {content: \"▾\";}#sk-cb948a95-131b-4019-af19-71f2bac7d8e6 div.sk-estimator input.sk-toggleable__control:checked~label.sk-toggleable__label {background-color: #d4ebff;}#sk-cb948a95-131b-4019-af19-71f2bac7d8e6 div.sk-label input.sk-toggleable__control:checked~label.sk-toggleable__label {background-color: #d4ebff;}#sk-cb948a95-131b-4019-af19-71f2bac7d8e6 input.sk-hidden--visually {border: 0;clip: rect(1px 1px 1px 1px);clip: rect(1px, 1px, 1px, 1px);height: 1px;margin: -1px;overflow: hidden;padding: 0;position: absolute;width: 1px;}#sk-cb948a95-131b-4019-af19-71f2bac7d8e6 div.sk-estimator {font-family: monospace;background-color: #f0f8ff;border: 1px dotted black;border-radius: 0.25em;box-sizing: border-box;margin-bottom: 0.5em;}#sk-cb948a95-131b-4019-af19-71f2bac7d8e6 div.sk-estimator:hover {background-color: #d4ebff;}#sk-cb948a95-131b-4019-af19-71f2bac7d8e6 div.sk-parallel-item::after {content: \"\";width: 100%;border-bottom: 1px solid gray;flex-grow: 1;}#sk-cb948a95-131b-4019-af19-71f2bac7d8e6 div.sk-label:hover label.sk-toggleable__label {background-color: #d4ebff;}#sk-cb948a95-131b-4019-af19-71f2bac7d8e6 div.sk-serial::before {content: \"\";position: absolute;border-left: 1px solid gray;box-sizing: border-box;top: 2em;bottom: 0;left: 50%;}#sk-cb948a95-131b-4019-af19-71f2bac7d8e6 div.sk-serial {display: flex;flex-direction: column;align-items: center;background-color: white;padding-right: 0.2em;padding-left: 0.2em;}#sk-cb948a95-131b-4019-af19-71f2bac7d8e6 div.sk-item {z-index: 1;}#sk-cb948a95-131b-4019-af19-71f2bac7d8e6 div.sk-parallel {display: flex;align-items: stretch;justify-content: center;background-color: white;}#sk-cb948a95-131b-4019-af19-71f2bac7d8e6 div.sk-parallel::before {content: \"\";position: absolute;border-left: 1px solid gray;box-sizing: border-box;top: 2em;bottom: 0;left: 50%;}#sk-cb948a95-131b-4019-af19-71f2bac7d8e6 div.sk-parallel-item {display: flex;flex-direction: column;position: relative;background-color: white;}#sk-cb948a95-131b-4019-af19-71f2bac7d8e6 div.sk-parallel-item:first-child::after {align-self: flex-end;width: 50%;}#sk-cb948a95-131b-4019-af19-71f2bac7d8e6 div.sk-parallel-item:last-child::after {align-self: flex-start;width: 50%;}#sk-cb948a95-131b-4019-af19-71f2bac7d8e6 div.sk-parallel-item:only-child::after {width: 0;}#sk-cb948a95-131b-4019-af19-71f2bac7d8e6 div.sk-dashed-wrapped {border: 1px dashed gray;margin: 0 0.4em 0.5em 0.4em;box-sizing: border-box;padding-bottom: 0.4em;background-color: white;position: relative;}#sk-cb948a95-131b-4019-af19-71f2bac7d8e6 div.sk-label label {font-family: monospace;font-weight: bold;background-color: white;display: inline-block;line-height: 1.2em;}#sk-cb948a95-131b-4019-af19-71f2bac7d8e6 div.sk-label-container {position: relative;z-index: 2;text-align: center;}#sk-cb948a95-131b-4019-af19-71f2bac7d8e6 div.sk-container {/* jupyter's `normalize.less` sets `[hidden] { display: none; }` but bootstrap.min.css set `[hidden] { display: none !important; }` so we also need the `!important` here to be able to override the default hidden behavior on the sphinx rendered scikit-learn.org. See: https://github.com/scikit-learn/scikit-learn/issues/21755 */display: inline-block !important;position: relative;}#sk-cb948a95-131b-4019-af19-71f2bac7d8e6 div.sk-text-repr-fallback {display: none;}</style><div id=\"sk-cb948a95-131b-4019-af19-71f2bac7d8e6\" class=\"sk-top-container\"><div class=\"sk-text-repr-fallback\"><pre>GridSearchCV(estimator=Pipeline(steps=[(&#x27;tfidfvectorizer&#x27;, TfidfVectorizer()),\n",
       "                                       (&#x27;randomforestclassifier&#x27;,\n",
       "                                        RandomForestClassifier())]),\n",
       "             n_jobs=-1,\n",
       "             param_grid={&#x27;randomforestclassifier__criterion&#x27;: [&#x27;gini&#x27;,\n",
       "                                                               &#x27;entropy&#x27;,\n",
       "                                                               &#x27;log_loss&#x27;],\n",
       "                         &#x27;randomforestclassifier__max_features&#x27;: [&#x27;sqrt&#x27;,\n",
       "                                                                  &#x27;log2&#x27;],\n",
       "                         &#x27;tfidfvectorizer__norm&#x27;: [&#x27;l1&#x27;, &#x27;l2&#x27;]},\n",
       "             verbose=2)</pre><b>Please rerun this cell to show the HTML repr or trust the notebook.</b></div><div class=\"sk-container\" hidden><div class=\"sk-item sk-dashed-wrapped\"><div class=\"sk-label-container\"><div class=\"sk-label sk-toggleable\"><input class=\"sk-toggleable__control sk-hidden--visually\" id=\"2aadbd50-6b78-44bf-a9f2-c921823430a7\" type=\"checkbox\" ><label for=\"2aadbd50-6b78-44bf-a9f2-c921823430a7\" class=\"sk-toggleable__label sk-toggleable__label-arrow\">GridSearchCV</label><div class=\"sk-toggleable__content\"><pre>GridSearchCV(estimator=Pipeline(steps=[(&#x27;tfidfvectorizer&#x27;, TfidfVectorizer()),\n",
       "                                       (&#x27;randomforestclassifier&#x27;,\n",
       "                                        RandomForestClassifier())]),\n",
       "             n_jobs=-1,\n",
       "             param_grid={&#x27;randomforestclassifier__criterion&#x27;: [&#x27;gini&#x27;,\n",
       "                                                               &#x27;entropy&#x27;,\n",
       "                                                               &#x27;log_loss&#x27;],\n",
       "                         &#x27;randomforestclassifier__max_features&#x27;: [&#x27;sqrt&#x27;,\n",
       "                                                                  &#x27;log2&#x27;],\n",
       "                         &#x27;tfidfvectorizer__norm&#x27;: [&#x27;l1&#x27;, &#x27;l2&#x27;]},\n",
       "             verbose=2)</pre></div></div></div><div class=\"sk-parallel\"><div class=\"sk-parallel-item\"><div class=\"sk-item\"><div class=\"sk-serial\"><div class=\"sk-item\"><div class=\"sk-serial\"><div class=\"sk-item\"><div class=\"sk-estimator sk-toggleable\"><input class=\"sk-toggleable__control sk-hidden--visually\" id=\"afbee9e6-8278-4c11-87a4-e72525c28d04\" type=\"checkbox\" ><label for=\"afbee9e6-8278-4c11-87a4-e72525c28d04\" class=\"sk-toggleable__label sk-toggleable__label-arrow\">TfidfVectorizer</label><div class=\"sk-toggleable__content\"><pre>TfidfVectorizer()</pre></div></div></div><div class=\"sk-item\"><div class=\"sk-estimator sk-toggleable\"><input class=\"sk-toggleable__control sk-hidden--visually\" id=\"9da4e7bb-4960-4626-87ad-7a533d5442f2\" type=\"checkbox\" ><label for=\"9da4e7bb-4960-4626-87ad-7a533d5442f2\" class=\"sk-toggleable__label sk-toggleable__label-arrow\">RandomForestClassifier</label><div class=\"sk-toggleable__content\"><pre>RandomForestClassifier()</pre></div></div></div></div></div></div></div></div></div></div></div></div>"
      ],
      "text/plain": [
       "GridSearchCV(estimator=Pipeline(steps=[('tfidfvectorizer', TfidfVectorizer()),\n",
       "                                       ('randomforestclassifier',\n",
       "                                        RandomForestClassifier())]),\n",
       "             n_jobs=-1,\n",
       "             param_grid={'randomforestclassifier__criterion': ['gini',\n",
       "                                                               'entropy',\n",
       "                                                               'log_loss'],\n",
       "                         'randomforestclassifier__max_features': ['sqrt',\n",
       "                                                                  'log2'],\n",
       "                         'tfidfvectorizer__norm': ['l1', 'l2']},\n",
       "             verbose=2)"
      ]
     },
     "execution_count": 237,
     "metadata": {},
     "output_type": "execute_result"
    }
   ],
   "source": [
    "grid_model.fit(twenty_train.data, twenty_train.target)"
   ]
  },
  {
   "cell_type": "code",
   "execution_count": 238,
   "id": "cd717e7f-f5c0-441f-90f1-f75f81f192c4",
   "metadata": {},
   "outputs": [
    {
     "data": {
      "text/html": [
       "<style>#sk-ca523a33-15dc-4607-a036-134a0edbd35f {color: black;background-color: white;}#sk-ca523a33-15dc-4607-a036-134a0edbd35f pre{padding: 0;}#sk-ca523a33-15dc-4607-a036-134a0edbd35f div.sk-toggleable {background-color: white;}#sk-ca523a33-15dc-4607-a036-134a0edbd35f label.sk-toggleable__label {cursor: pointer;display: block;width: 100%;margin-bottom: 0;padding: 0.3em;box-sizing: border-box;text-align: center;}#sk-ca523a33-15dc-4607-a036-134a0edbd35f label.sk-toggleable__label-arrow:before {content: \"▸\";float: left;margin-right: 0.25em;color: #696969;}#sk-ca523a33-15dc-4607-a036-134a0edbd35f label.sk-toggleable__label-arrow:hover:before {color: black;}#sk-ca523a33-15dc-4607-a036-134a0edbd35f div.sk-estimator:hover label.sk-toggleable__label-arrow:before {color: black;}#sk-ca523a33-15dc-4607-a036-134a0edbd35f div.sk-toggleable__content {max-height: 0;max-width: 0;overflow: hidden;text-align: left;background-color: #f0f8ff;}#sk-ca523a33-15dc-4607-a036-134a0edbd35f div.sk-toggleable__content pre {margin: 0.2em;color: black;border-radius: 0.25em;background-color: #f0f8ff;}#sk-ca523a33-15dc-4607-a036-134a0edbd35f input.sk-toggleable__control:checked~div.sk-toggleable__content {max-height: 200px;max-width: 100%;overflow: auto;}#sk-ca523a33-15dc-4607-a036-134a0edbd35f input.sk-toggleable__control:checked~label.sk-toggleable__label-arrow:before {content: \"▾\";}#sk-ca523a33-15dc-4607-a036-134a0edbd35f div.sk-estimator input.sk-toggleable__control:checked~label.sk-toggleable__label {background-color: #d4ebff;}#sk-ca523a33-15dc-4607-a036-134a0edbd35f div.sk-label input.sk-toggleable__control:checked~label.sk-toggleable__label {background-color: #d4ebff;}#sk-ca523a33-15dc-4607-a036-134a0edbd35f input.sk-hidden--visually {border: 0;clip: rect(1px 1px 1px 1px);clip: rect(1px, 1px, 1px, 1px);height: 1px;margin: -1px;overflow: hidden;padding: 0;position: absolute;width: 1px;}#sk-ca523a33-15dc-4607-a036-134a0edbd35f div.sk-estimator {font-family: monospace;background-color: #f0f8ff;border: 1px dotted black;border-radius: 0.25em;box-sizing: border-box;margin-bottom: 0.5em;}#sk-ca523a33-15dc-4607-a036-134a0edbd35f div.sk-estimator:hover {background-color: #d4ebff;}#sk-ca523a33-15dc-4607-a036-134a0edbd35f div.sk-parallel-item::after {content: \"\";width: 100%;border-bottom: 1px solid gray;flex-grow: 1;}#sk-ca523a33-15dc-4607-a036-134a0edbd35f div.sk-label:hover label.sk-toggleable__label {background-color: #d4ebff;}#sk-ca523a33-15dc-4607-a036-134a0edbd35f div.sk-serial::before {content: \"\";position: absolute;border-left: 1px solid gray;box-sizing: border-box;top: 2em;bottom: 0;left: 50%;}#sk-ca523a33-15dc-4607-a036-134a0edbd35f div.sk-serial {display: flex;flex-direction: column;align-items: center;background-color: white;padding-right: 0.2em;padding-left: 0.2em;}#sk-ca523a33-15dc-4607-a036-134a0edbd35f div.sk-item {z-index: 1;}#sk-ca523a33-15dc-4607-a036-134a0edbd35f div.sk-parallel {display: flex;align-items: stretch;justify-content: center;background-color: white;}#sk-ca523a33-15dc-4607-a036-134a0edbd35f div.sk-parallel::before {content: \"\";position: absolute;border-left: 1px solid gray;box-sizing: border-box;top: 2em;bottom: 0;left: 50%;}#sk-ca523a33-15dc-4607-a036-134a0edbd35f div.sk-parallel-item {display: flex;flex-direction: column;position: relative;background-color: white;}#sk-ca523a33-15dc-4607-a036-134a0edbd35f div.sk-parallel-item:first-child::after {align-self: flex-end;width: 50%;}#sk-ca523a33-15dc-4607-a036-134a0edbd35f div.sk-parallel-item:last-child::after {align-self: flex-start;width: 50%;}#sk-ca523a33-15dc-4607-a036-134a0edbd35f div.sk-parallel-item:only-child::after {width: 0;}#sk-ca523a33-15dc-4607-a036-134a0edbd35f div.sk-dashed-wrapped {border: 1px dashed gray;margin: 0 0.4em 0.5em 0.4em;box-sizing: border-box;padding-bottom: 0.4em;background-color: white;position: relative;}#sk-ca523a33-15dc-4607-a036-134a0edbd35f div.sk-label label {font-family: monospace;font-weight: bold;background-color: white;display: inline-block;line-height: 1.2em;}#sk-ca523a33-15dc-4607-a036-134a0edbd35f div.sk-label-container {position: relative;z-index: 2;text-align: center;}#sk-ca523a33-15dc-4607-a036-134a0edbd35f div.sk-container {/* jupyter's `normalize.less` sets `[hidden] { display: none; }` but bootstrap.min.css set `[hidden] { display: none !important; }` so we also need the `!important` here to be able to override the default hidden behavior on the sphinx rendered scikit-learn.org. See: https://github.com/scikit-learn/scikit-learn/issues/21755 */display: inline-block !important;position: relative;}#sk-ca523a33-15dc-4607-a036-134a0edbd35f div.sk-text-repr-fallback {display: none;}</style><div id=\"sk-ca523a33-15dc-4607-a036-134a0edbd35f\" class=\"sk-top-container\"><div class=\"sk-text-repr-fallback\"><pre>GridSearchCV(estimator=Pipeline(steps=[(&#x27;tfidfvectorizer&#x27;, TfidfVectorizer()),\n",
       "                                       (&#x27;randomforestclassifier&#x27;,\n",
       "                                        RandomForestClassifier())]),\n",
       "             n_jobs=-1,\n",
       "             param_grid={&#x27;randomforestclassifier__criterion&#x27;: [&#x27;gini&#x27;,\n",
       "                                                               &#x27;entropy&#x27;,\n",
       "                                                               &#x27;log_loss&#x27;],\n",
       "                         &#x27;randomforestclassifier__max_features&#x27;: [&#x27;sqrt&#x27;,\n",
       "                                                                  &#x27;log2&#x27;],\n",
       "                         &#x27;tfidfvectorizer__norm&#x27;: [&#x27;l1&#x27;, &#x27;l2&#x27;]},\n",
       "             verbose=2)</pre><b>Please rerun this cell to show the HTML repr or trust the notebook.</b></div><div class=\"sk-container\" hidden><div class=\"sk-item sk-dashed-wrapped\"><div class=\"sk-label-container\"><div class=\"sk-label sk-toggleable\"><input class=\"sk-toggleable__control sk-hidden--visually\" id=\"b1211603-18ae-4855-985b-1010576485ae\" type=\"checkbox\" ><label for=\"b1211603-18ae-4855-985b-1010576485ae\" class=\"sk-toggleable__label sk-toggleable__label-arrow\">GridSearchCV</label><div class=\"sk-toggleable__content\"><pre>GridSearchCV(estimator=Pipeline(steps=[(&#x27;tfidfvectorizer&#x27;, TfidfVectorizer()),\n",
       "                                       (&#x27;randomforestclassifier&#x27;,\n",
       "                                        RandomForestClassifier())]),\n",
       "             n_jobs=-1,\n",
       "             param_grid={&#x27;randomforestclassifier__criterion&#x27;: [&#x27;gini&#x27;,\n",
       "                                                               &#x27;entropy&#x27;,\n",
       "                                                               &#x27;log_loss&#x27;],\n",
       "                         &#x27;randomforestclassifier__max_features&#x27;: [&#x27;sqrt&#x27;,\n",
       "                                                                  &#x27;log2&#x27;],\n",
       "                         &#x27;tfidfvectorizer__norm&#x27;: [&#x27;l1&#x27;, &#x27;l2&#x27;]},\n",
       "             verbose=2)</pre></div></div></div><div class=\"sk-parallel\"><div class=\"sk-parallel-item\"><div class=\"sk-item\"><div class=\"sk-serial\"><div class=\"sk-item\"><div class=\"sk-serial\"><div class=\"sk-item\"><div class=\"sk-estimator sk-toggleable\"><input class=\"sk-toggleable__control sk-hidden--visually\" id=\"04cc50ed-4157-4f78-899c-d54fe5e7e517\" type=\"checkbox\" ><label for=\"04cc50ed-4157-4f78-899c-d54fe5e7e517\" class=\"sk-toggleable__label sk-toggleable__label-arrow\">TfidfVectorizer</label><div class=\"sk-toggleable__content\"><pre>TfidfVectorizer()</pre></div></div></div><div class=\"sk-item\"><div class=\"sk-estimator sk-toggleable\"><input class=\"sk-toggleable__control sk-hidden--visually\" id=\"2c069682-e743-4254-8149-0c4e565c35e5\" type=\"checkbox\" ><label for=\"2c069682-e743-4254-8149-0c4e565c35e5\" class=\"sk-toggleable__label sk-toggleable__label-arrow\">RandomForestClassifier</label><div class=\"sk-toggleable__content\"><pre>RandomForestClassifier()</pre></div></div></div></div></div></div></div></div></div></div></div></div>"
      ],
      "text/plain": [
       "GridSearchCV(estimator=Pipeline(steps=[('tfidfvectorizer', TfidfVectorizer()),\n",
       "                                       ('randomforestclassifier',\n",
       "                                        RandomForestClassifier())]),\n",
       "             n_jobs=-1,\n",
       "             param_grid={'randomforestclassifier__criterion': ['gini',\n",
       "                                                               'entropy',\n",
       "                                                               'log_loss'],\n",
       "                         'randomforestclassifier__max_features': ['sqrt',\n",
       "                                                                  'log2'],\n",
       "                         'tfidfvectorizer__norm': ['l1', 'l2']},\n",
       "             verbose=2)"
      ]
     },
     "execution_count": 238,
     "metadata": {},
     "output_type": "execute_result"
    }
   ],
   "source": [
    "grid_model"
   ]
  },
  {
   "cell_type": "code",
   "execution_count": 239,
   "id": "6c82034e-11d7-415a-b285-faaab439fac2",
   "metadata": {},
   "outputs": [
    {
     "data": {
      "text/plain": [
       "0.7286245353159851"
      ]
     },
     "execution_count": 239,
     "metadata": {},
     "output_type": "execute_result"
    }
   ],
   "source": [
    "grid_model.best_estimator_.score(twenty_test.data, twenty_test.target)"
   ]
  },
  {
   "cell_type": "code",
   "execution_count": null,
   "id": "84f59b3d-3528-48a6-94e0-f7c157e3787d",
   "metadata": {},
   "outputs": [],
   "source": []
  },
  {
   "cell_type": "code",
   "execution_count": null,
   "id": "d58e29d6-4532-4527-b24c-eeda9aceca62",
   "metadata": {},
   "outputs": [],
   "source": []
  },
  {
   "cell_type": "code",
   "execution_count": null,
   "id": "9dfa7685-c6c2-4c96-9122-a41b1555642d",
   "metadata": {},
   "outputs": [],
   "source": []
  },
  {
   "cell_type": "code",
   "execution_count": null,
   "id": "6a9af875-8d58-4310-ae3f-31a5b4b404d3",
   "metadata": {},
   "outputs": [],
   "source": []
  },
  {
   "cell_type": "code",
   "execution_count": null,
   "id": "b1c32982-46ca-4d4c-addd-f5a50c243ab3",
   "metadata": {},
   "outputs": [],
   "source": []
  },
  {
   "cell_type": "code",
   "execution_count": null,
   "id": "b8b33fa4-ee59-4f68-b071-b97e25bd1c89",
   "metadata": {},
   "outputs": [],
   "source": []
  },
  {
   "cell_type": "code",
   "execution_count": null,
   "id": "d84d5d49-3d54-4323-a023-0b12ea5f7af1",
   "metadata": {},
   "outputs": [],
   "source": []
  },
  {
   "cell_type": "code",
   "execution_count": null,
   "id": "808bb435-561e-407a-92eb-c652539b9050",
   "metadata": {},
   "outputs": [],
   "source": []
  },
  {
   "cell_type": "code",
   "execution_count": null,
   "id": "e783593d-5200-4872-bf33-b7b797242cd4",
   "metadata": {},
   "outputs": [],
   "source": []
  },
  {
   "cell_type": "code",
   "execution_count": 240,
   "id": "b963dab8-5022-43b6-b7be-f63d260fa07a",
   "metadata": {},
   "outputs": [
    {
     "data": {
      "text/html": [
       "<style>#sk-a300d0e7-d59e-4cd0-a41c-04ad14d2109d {color: black;background-color: white;}#sk-a300d0e7-d59e-4cd0-a41c-04ad14d2109d pre{padding: 0;}#sk-a300d0e7-d59e-4cd0-a41c-04ad14d2109d div.sk-toggleable {background-color: white;}#sk-a300d0e7-d59e-4cd0-a41c-04ad14d2109d label.sk-toggleable__label {cursor: pointer;display: block;width: 100%;margin-bottom: 0;padding: 0.3em;box-sizing: border-box;text-align: center;}#sk-a300d0e7-d59e-4cd0-a41c-04ad14d2109d label.sk-toggleable__label-arrow:before {content: \"▸\";float: left;margin-right: 0.25em;color: #696969;}#sk-a300d0e7-d59e-4cd0-a41c-04ad14d2109d label.sk-toggleable__label-arrow:hover:before {color: black;}#sk-a300d0e7-d59e-4cd0-a41c-04ad14d2109d div.sk-estimator:hover label.sk-toggleable__label-arrow:before {color: black;}#sk-a300d0e7-d59e-4cd0-a41c-04ad14d2109d div.sk-toggleable__content {max-height: 0;max-width: 0;overflow: hidden;text-align: left;background-color: #f0f8ff;}#sk-a300d0e7-d59e-4cd0-a41c-04ad14d2109d div.sk-toggleable__content pre {margin: 0.2em;color: black;border-radius: 0.25em;background-color: #f0f8ff;}#sk-a300d0e7-d59e-4cd0-a41c-04ad14d2109d input.sk-toggleable__control:checked~div.sk-toggleable__content {max-height: 200px;max-width: 100%;overflow: auto;}#sk-a300d0e7-d59e-4cd0-a41c-04ad14d2109d input.sk-toggleable__control:checked~label.sk-toggleable__label-arrow:before {content: \"▾\";}#sk-a300d0e7-d59e-4cd0-a41c-04ad14d2109d div.sk-estimator input.sk-toggleable__control:checked~label.sk-toggleable__label {background-color: #d4ebff;}#sk-a300d0e7-d59e-4cd0-a41c-04ad14d2109d div.sk-label input.sk-toggleable__control:checked~label.sk-toggleable__label {background-color: #d4ebff;}#sk-a300d0e7-d59e-4cd0-a41c-04ad14d2109d input.sk-hidden--visually {border: 0;clip: rect(1px 1px 1px 1px);clip: rect(1px, 1px, 1px, 1px);height: 1px;margin: -1px;overflow: hidden;padding: 0;position: absolute;width: 1px;}#sk-a300d0e7-d59e-4cd0-a41c-04ad14d2109d div.sk-estimator {font-family: monospace;background-color: #f0f8ff;border: 1px dotted black;border-radius: 0.25em;box-sizing: border-box;margin-bottom: 0.5em;}#sk-a300d0e7-d59e-4cd0-a41c-04ad14d2109d div.sk-estimator:hover {background-color: #d4ebff;}#sk-a300d0e7-d59e-4cd0-a41c-04ad14d2109d div.sk-parallel-item::after {content: \"\";width: 100%;border-bottom: 1px solid gray;flex-grow: 1;}#sk-a300d0e7-d59e-4cd0-a41c-04ad14d2109d div.sk-label:hover label.sk-toggleable__label {background-color: #d4ebff;}#sk-a300d0e7-d59e-4cd0-a41c-04ad14d2109d div.sk-serial::before {content: \"\";position: absolute;border-left: 1px solid gray;box-sizing: border-box;top: 2em;bottom: 0;left: 50%;}#sk-a300d0e7-d59e-4cd0-a41c-04ad14d2109d div.sk-serial {display: flex;flex-direction: column;align-items: center;background-color: white;padding-right: 0.2em;padding-left: 0.2em;}#sk-a300d0e7-d59e-4cd0-a41c-04ad14d2109d div.sk-item {z-index: 1;}#sk-a300d0e7-d59e-4cd0-a41c-04ad14d2109d div.sk-parallel {display: flex;align-items: stretch;justify-content: center;background-color: white;}#sk-a300d0e7-d59e-4cd0-a41c-04ad14d2109d div.sk-parallel::before {content: \"\";position: absolute;border-left: 1px solid gray;box-sizing: border-box;top: 2em;bottom: 0;left: 50%;}#sk-a300d0e7-d59e-4cd0-a41c-04ad14d2109d div.sk-parallel-item {display: flex;flex-direction: column;position: relative;background-color: white;}#sk-a300d0e7-d59e-4cd0-a41c-04ad14d2109d div.sk-parallel-item:first-child::after {align-self: flex-end;width: 50%;}#sk-a300d0e7-d59e-4cd0-a41c-04ad14d2109d div.sk-parallel-item:last-child::after {align-self: flex-start;width: 50%;}#sk-a300d0e7-d59e-4cd0-a41c-04ad14d2109d div.sk-parallel-item:only-child::after {width: 0;}#sk-a300d0e7-d59e-4cd0-a41c-04ad14d2109d div.sk-dashed-wrapped {border: 1px dashed gray;margin: 0 0.4em 0.5em 0.4em;box-sizing: border-box;padding-bottom: 0.4em;background-color: white;position: relative;}#sk-a300d0e7-d59e-4cd0-a41c-04ad14d2109d div.sk-label label {font-family: monospace;font-weight: bold;background-color: white;display: inline-block;line-height: 1.2em;}#sk-a300d0e7-d59e-4cd0-a41c-04ad14d2109d div.sk-label-container {position: relative;z-index: 2;text-align: center;}#sk-a300d0e7-d59e-4cd0-a41c-04ad14d2109d div.sk-container {/* jupyter's `normalize.less` sets `[hidden] { display: none; }` but bootstrap.min.css set `[hidden] { display: none !important; }` so we also need the `!important` here to be able to override the default hidden behavior on the sphinx rendered scikit-learn.org. See: https://github.com/scikit-learn/scikit-learn/issues/21755 */display: inline-block !important;position: relative;}#sk-a300d0e7-d59e-4cd0-a41c-04ad14d2109d div.sk-text-repr-fallback {display: none;}</style><div id=\"sk-a300d0e7-d59e-4cd0-a41c-04ad14d2109d\" class=\"sk-top-container\"><div class=\"sk-text-repr-fallback\"><pre>RandomForestClassifier()</pre><b>Please rerun this cell to show the HTML repr or trust the notebook.</b></div><div class=\"sk-container\" hidden><div class=\"sk-item\"><div class=\"sk-estimator sk-toggleable\"><input class=\"sk-toggleable__control sk-hidden--visually\" id=\"8e7ac374-41f0-48e1-9873-6cbfba7512a7\" type=\"checkbox\" checked><label for=\"8e7ac374-41f0-48e1-9873-6cbfba7512a7\" class=\"sk-toggleable__label sk-toggleable__label-arrow\">RandomForestClassifier</label><div class=\"sk-toggleable__content\"><pre>RandomForestClassifier()</pre></div></div></div></div></div>"
      ],
      "text/plain": [
       "RandomForestClassifier()"
      ]
     },
     "execution_count": 240,
     "metadata": {},
     "output_type": "execute_result"
    }
   ],
   "source": [
    "pipe.named_steps['randomforestclassifier']"
   ]
  },
  {
   "cell_type": "markdown",
   "id": "2860e370-62c1-4936-aeee-b315bf3ab671",
   "metadata": {},
   "source": [
    "---"
   ]
  },
  {
   "cell_type": "code",
   "execution_count": 64,
   "id": "0d62f41d-44ef-4a31-9b79-c7fcb7b18ed8",
   "metadata": {},
   "outputs": [],
   "source": [
    "# 지예님 코드(문장마다 검사하기)\n",
    "word_list = []\n",
    "for sentence in docs :\n",
    "    word_dict = {}\n",
    "    for voca in vocabulary2 :\n",
    "        word_dict[voca] = voca in sentence.split()\n",
    "    word_list.append(word_dict)"
   ]
  },
  {
   "cell_type": "code",
   "execution_count": 65,
   "id": "a12ea6e3-09c1-4aa8-a8fe-2ec81c64055f",
   "metadata": {
    "collapsed": true,
    "jupyter": {
     "outputs_hidden": true
    },
    "tags": []
   },
   "outputs": [
    {
     "data": {
      "text/plain": [
       "[{'said': False,\n",
       "  'you': False,\n",
       "  'not': False,\n",
       "  'jumped': False,\n",
       "  'hat': True,\n",
       "  'cow': False,\n",
       "  'over': False,\n",
       "  'meowed': False,\n",
       "  'cat': True,\n",
       "  'moon': False,\n",
       "  'mooed': False},\n",
       " {'said': False,\n",
       "  'you': False,\n",
       "  'not': False,\n",
       "  'jumped': True,\n",
       "  'hat': False,\n",
       "  'cow': True,\n",
       "  'over': True,\n",
       "  'meowed': False,\n",
       "  'cat': False,\n",
       "  'moon': True,\n",
       "  'mooed': False},\n",
       " {'said': False,\n",
       "  'you': False,\n",
       "  'not': False,\n",
       "  'jumped': False,\n",
       "  'hat': False,\n",
       "  'cow': True,\n",
       "  'over': False,\n",
       "  'meowed': True,\n",
       "  'cat': True,\n",
       "  'moon': False,\n",
       "  'mooed': True},\n",
       " {'said': True,\n",
       "  'you': True,\n",
       "  'not': True,\n",
       "  'jumped': False,\n",
       "  'hat': False,\n",
       "  'cow': True,\n",
       "  'over': False,\n",
       "  'meowed': False,\n",
       "  'cat': True,\n",
       "  'moon': False,\n",
       "  'mooed': False}]"
      ]
     },
     "execution_count": 65,
     "metadata": {},
     "output_type": "execute_result"
    }
   ],
   "source": [
    "word_list"
   ]
  },
  {
   "cell_type": "code",
   "execution_count": null,
   "id": "15b85648-ac2a-4148-afe6-20026d3dc6f4",
   "metadata": {},
   "outputs": [],
   "source": [
    "# comprehension으로 하기\n"
   ]
  },
  {
   "cell_type": "markdown",
   "id": "96954f2d-880a-4a41-8ee8-7c9feb74b13c",
   "metadata": {},
   "source": [
    "---"
   ]
  },
  {
   "cell_type": "code",
   "execution_count": 48,
   "id": "eb7147e6-3080-4ac9-8e9e-20f1673a63bb",
   "metadata": {},
   "outputs": [
    {
     "data": {
      "text/plain": [
       "['the cat in the hat',\n",
       " 'the cow jumped over the moon',\n",
       " 'the cat mooed and the cow meowed',\n",
       " 'the cat said to the cow cow you are not a cat']"
      ]
     },
     "execution_count": 48,
     "metadata": {},
     "output_type": "execute_result"
    }
   ],
   "source": [
    "docs"
   ]
  },
  {
   "cell_type": "code",
   "execution_count": 58,
   "id": "31295429-04c5-40b6-b4d4-8d5b2999b480",
   "metadata": {},
   "outputs": [
    {
     "data": {
      "text/plain": [
       "'the cat said to the cow cow you are not a cat'"
      ]
     },
     "execution_count": 58,
     "metadata": {},
     "output_type": "execute_result"
    }
   ],
   "source": [
    "sentence"
   ]
  },
  {
   "cell_type": "code",
   "execution_count": 49,
   "id": "d5899f0b-03bd-41b3-a063-9b3d545cc0c1",
   "metadata": {},
   "outputs": [
    {
     "data": {
      "text/plain": [
       "{'cat',\n",
       " 'cow',\n",
       " 'hat',\n",
       " 'jumped',\n",
       " 'meowed',\n",
       " 'mooed',\n",
       " 'moon',\n",
       " 'not',\n",
       " 'over',\n",
       " 'said',\n",
       " 'you'}"
      ]
     },
     "execution_count": 49,
     "metadata": {},
     "output_type": "execute_result"
    }
   ],
   "source": [
    "vocabulary2"
   ]
  },
  {
   "cell_type": "code",
   "execution_count": 60,
   "id": "f3098246-d474-44f1-bed7-2ef79c40bc64",
   "metadata": {},
   "outputs": [
    {
     "data": {
      "text/plain": [
       "'mooed'"
      ]
     },
     "execution_count": 60,
     "metadata": {},
     "output_type": "execute_result"
    }
   ],
   "source": [
    "voca"
   ]
  },
  {
   "cell_type": "code",
   "execution_count": null,
   "id": "a69f85e4-b28c-4c3d-9938-951fccb02d04",
   "metadata": {},
   "outputs": [],
   "source": []
  },
  {
   "cell_type": "code",
   "execution_count": null,
   "id": "b04a3700-2f29-46bb-936b-5a4d85725e03",
   "metadata": {},
   "outputs": [],
   "source": []
  },
  {
   "cell_type": "code",
   "execution_count": null,
   "id": "1f8c42cf-ef7d-42f5-bcd3-79a472df17b0",
   "metadata": {},
   "outputs": [],
   "source": [
    "# 혼자 연습"
   ]
  },
  {
   "cell_type": "code",
   "execution_count": null,
   "id": "fba416fd-34f7-420b-a02e-5a9baf5a560b",
   "metadata": {},
   "outputs": [
    {
     "data": {
      "text/plain": [
       "['the', 'cat', 'in', 'the', 'hat']"
      ]
     },
     "execution_count": 27,
     "metadata": {},
     "output_type": "execute_result"
    }
   ],
   "source": [
    "docs[0].split()"
   ]
  },
  {
   "cell_type": "code",
   "execution_count": 31,
   "id": "4a450cd5-2c52-4f12-8a15-d8acd98119b8",
   "metadata": {
    "tags": []
   },
   "outputs": [
    {
     "name": "stdout",
     "output_type": "stream",
     "text": [
      "the cat in the hat\n",
      "the cow jumped over the moon\n",
      "the cat mooed and the cow meowed\n",
      "the cat said to the cow cow you are not a cat\n"
     ]
    }
   ],
   "source": [
    "word_dict = {}\n",
    "for i in docs :\n",
    "    print(i)\n",
    "    for j in vocabulary2 :\n",
    "        if j in i :\n",
    "            word_dict[i] = {j:\"True\"}\n",
    "        else :\n",
    "            word_dict[i] = {j :\"False\"}\n",
    "        "
   ]
  },
  {
   "cell_type": "code",
   "execution_count": 33,
   "id": "e8d185dc-f5de-4274-8a1a-ef220651049b",
   "metadata": {},
   "outputs": [
    {
     "name": "stdout",
     "output_type": "stream",
     "text": [
      "the cat in the hat\n",
      "the cow jumped over the moon\n",
      "the cat mooed and the cow meowed\n",
      "the cat said to the cow cow you are not a cat\n"
     ]
    }
   ],
   "source": [
    "for i in docs :\n",
    "    print(i)"
   ]
  },
  {
   "cell_type": "code",
   "execution_count": 37,
   "id": "03e0d8a8-00dd-4638-a3de-1cbbdc66fdc8",
   "metadata": {},
   "outputs": [
    {
     "data": {
      "text/plain": [
       "True"
      ]
     },
     "execution_count": 37,
     "metadata": {},
     "output_type": "execute_result"
    }
   ],
   "source": [
    "# 힌트\n",
    "'cat' in docs[0]"
   ]
  },
  {
   "cell_type": "code",
   "execution_count": 38,
   "id": "86300196-d8de-422a-946c-48caef83f7ed",
   "metadata": {},
   "outputs": [
    {
     "data": {
      "text/plain": [
       "'the cat in the hat'"
      ]
     },
     "execution_count": 38,
     "metadata": {},
     "output_type": "execute_result"
    }
   ],
   "source": [
    "docs[0]"
   ]
  },
  {
   "cell_type": "code",
   "execution_count": 43,
   "id": "e598bdb1-4c1b-4fd7-be78-ed765d7aa406",
   "metadata": {},
   "outputs": [
    {
     "name": "stdout",
     "output_type": "stream",
     "text": [
      "cat True\n",
      "cat False\n",
      "cat True\n",
      "cat True\n"
     ]
    }
   ],
   "source": [
    "for doc in docs :\n",
    "    print('cat', 'cat' in doc)"
   ]
  },
  {
   "cell_type": "code",
   "execution_count": null,
   "id": "07ffcf47-699d-4f3e-8331-6110f9df26c1",
   "metadata": {},
   "outputs": [],
   "source": []
  },
  {
   "cell_type": "code",
   "execution_count": null,
   "id": "d69e5541-56f0-46ee-bfd5-fcdc6168938b",
   "metadata": {},
   "outputs": [],
   "source": []
  },
  {
   "cell_type": "code",
   "execution_count": null,
   "id": "d4011317-6a6d-4525-be6c-908ef5204b15",
   "metadata": {},
   "outputs": [],
   "source": []
  },
  {
   "cell_type": "code",
   "execution_count": null,
   "id": "d13045c9-f462-45cc-970a-9657ef7d5c85",
   "metadata": {},
   "outputs": [],
   "source": [
    "set(['a', 'to', 'the', 'in', 'and', 'are'])"
   ]
  },
  {
   "cell_type": "code",
   "execution_count": null,
   "id": "05388ce0-d20b-4018-bf65-5fc176880ca1",
   "metadata": {},
   "outputs": [],
   "source": []
  },
  {
   "cell_type": "code",
   "execution_count": null,
   "id": "d1787f28-ef27-41f6-842e-49e09da369d1",
   "metadata": {},
   "outputs": [],
   "source": []
  },
  {
   "cell_type": "code",
   "execution_count": null,
   "id": "ad4e9aaf-e5c6-4073-aa83-567090d19357",
   "metadata": {},
   "outputs": [],
   "source": []
  },
  {
   "cell_type": "markdown",
   "id": "77687865-9feb-4fa9-9f6f-d979e0c95a1d",
   "metadata": {},
   "source": [
    "----"
   ]
  },
  {
   "cell_type": "code",
   "execution_count": null,
   "id": "9515a065-ab6c-4009-869e-5cc01cece3f2",
   "metadata": {},
   "outputs": [],
   "source": [
    "# 혼자 연습"
   ]
  },
  {
   "cell_type": "code",
   "execution_count": 7,
   "id": "e3b56b00-0b63-4ee2-9161-8648f8df9509",
   "metadata": {},
   "outputs": [
    {
     "name": "stdout",
     "output_type": "stream",
     "text": [
      "the cat in the hat\n"
     ]
    },
    {
     "ename": "TypeError",
     "evalue": "list indices must be integers or slices, not str",
     "output_type": "error",
     "traceback": [
      "\u001b[1;31m---------------------------------------------------------------------------\u001b[0m",
      "\u001b[1;31mTypeError\u001b[0m                                 Traceback (most recent call last)",
      "Input \u001b[1;32mIn [9]\u001b[0m, in \u001b[0;36m<cell line: 1>\u001b[1;34m()\u001b[0m\n\u001b[0;32m      1\u001b[0m \u001b[38;5;28;01mfor\u001b[39;00m i \u001b[38;5;129;01min\u001b[39;00m docs :\n\u001b[0;32m      2\u001b[0m     \u001b[38;5;28mprint\u001b[39m(i)\n\u001b[1;32m----> 3\u001b[0m     \u001b[38;5;28mprint\u001b[39m(\u001b[43mdocs\u001b[49m\u001b[43m[\u001b[49m\u001b[43mi\u001b[49m\u001b[43m]\u001b[49m\u001b[38;5;241m.\u001b[39msplit())\n",
      "\u001b[1;31mTypeError\u001b[0m: list indices must be integers or slices, not str"
     ]
    }
   ],
   "source": [
    "for i in range(len(docs)) :\n",
    "    print(i)\n",
    "    print(docs[i].split())"
   ]
  },
  {
   "cell_type": "code",
   "execution_count": 12,
   "id": "7f9f5bb9-0508-4122-bc8b-9972b7635652",
   "metadata": {},
   "outputs": [
    {
     "name": "stdout",
     "output_type": "stream",
     "text": [
      "['the', 'cat', 'in', 'the', 'hat']\n",
      "['the', 'cow', 'jumped', 'over', 'the', 'moon']\n",
      "['the', 'cat', 'mooed', 'and', 'the', 'cow', 'meowed']\n",
      "['the', 'cat', 'said', 'to', 'the', 'cow', 'cow', 'you', 'are', 'not', 'a', 'cat']\n"
     ]
    }
   ],
   "source": [
    "for i in range(len(docs)) :\n",
    "    print(docs[i].split())"
   ]
  },
  {
   "cell_type": "code",
   "execution_count": 14,
   "id": "972748a3-5a10-4361-8c8c-1ff1ff7d18e2",
   "metadata": {},
   "outputs": [],
   "source": [
    "set(docs)\n",
    "result_docs = list(set(docs))"
   ]
  },
  {
   "cell_type": "code",
   "execution_count": null,
   "id": "94fedadb-61c7-4a3e-8bb2-d658c2717a22",
   "metadata": {},
   "outputs": [],
   "source": [
    "print(result"
   ]
  },
  {
   "cell_type": "code",
   "execution_count": null,
   "id": "00c230a7-3f0e-43c9-9430-8116b30578b0",
   "metadata": {},
   "outputs": [],
   "source": [
    "A = [1, 2, 1, 3, 2, 4, 4, 5, 1]\n",
    "\n",
    "print(set(A))\n",
    "\n",
    "result_A = list(set(A))\n",
    "\n",
    "print(result_A)"
   ]
  },
  {
   "cell_type": "code",
   "execution_count": null,
   "id": "b5b413c4-33db-4a22-beca-970b1bac5068",
   "metadata": {},
   "outputs": [],
   "source": []
  },
  {
   "cell_type": "code",
   "execution_count": null,
   "id": "78380339-102c-4c14-a021-6d1de928d789",
   "metadata": {},
   "outputs": [],
   "source": []
  },
  {
   "cell_type": "code",
   "execution_count": null,
   "id": "bf1fa7f3-0f3f-4c9c-86a7-60d84517af41",
   "metadata": {},
   "outputs": [],
   "source": []
  },
  {
   "cell_type": "code",
   "execution_count": 2,
   "id": "f267fe37-ea0e-41fc-b974-9afd9de84a9e",
   "metadata": {},
   "outputs": [
    {
     "name": "stdout",
     "output_type": "stream",
     "text": [
      "['the cat in the hat', 'the cow jumped over the moon', 'the cat mooed and the cow meowed', 'the cat said to the cow cow you are not a cat']\n"
     ]
    }
   ],
   "source": [
    "docs = [\"the cat in the hat\",\n",
    "       \"the cow jumped over the moon\",\n",
    "       \"the cat mooed and the cow meowed\", \n",
    "       \"the cat said to the cow cow you are not a cat\"]\n",
    "result = [] # 중복 제거된 값들이 들어갈 리스트\n",
    "\n",
    "for value in docs:\n",
    "    if value not in result:\n",
    "        result.append(value)\n",
    "\n",
    "print(result)"
   ]
  },
  {
   "cell_type": "code",
   "execution_count": null,
   "id": "e1b58f5d-9fb7-445f-9905-3f062fe9e991",
   "metadata": {},
   "outputs": [],
   "source": []
  },
  {
   "cell_type": "code",
   "execution_count": 3,
   "id": "84d9dc54-bfea-44ce-b2e3-53f177c2ca26",
   "metadata": {},
   "outputs": [
    {
     "name": "stdout",
     "output_type": "stream",
     "text": [
      "{'the cat in the hat': None, 'the cow jumped over the moon': None, 'the cat mooed and the cow meowed': None, 'the cat said to the cow cow you are not a cat': None}\n",
      "['the cat in the hat', 'the cow jumped over the moon', 'the cat mooed and the cow meowed', 'the cat said to the cow cow you are not a cat']\n"
     ]
    }
   ],
   "source": [
    "docs = [\"the cat in the hat\",\n",
    "       \"the cow jumped over the moon\",\n",
    "       \"the cat mooed and the cow meowed\", \n",
    "       \"the cat said to the cow cow you are not a cat\"]\n",
    "\n",
    "result1 = dict.fromkeys(docs) # 리스트 값들을 key 로 변경\n",
    "print(result1)\n",
    "\n",
    "result2 = list(result1) # list(dict.fromkeys(arr))\n",
    "print(result2)"
   ]
  },
  {
   "cell_type": "code",
   "execution_count": null,
   "id": "8a013598-da7b-4b85-9e95-006fd857da14",
   "metadata": {},
   "outputs": [],
   "source": []
  },
  {
   "cell_type": "code",
   "execution_count": 5,
   "id": "18181d39-7ca2-4d4e-9fbb-5849c2bdf9a0",
   "metadata": {},
   "outputs": [
    {
     "name": "stdout",
     "output_type": "stream",
     "text": [
      "['the cat in the hat' 'the cat mooed and the cow meowed'\n",
      " 'the cat said to the cow cow you are not a cat'\n",
      " 'the cow jumped over the moon']\n"
     ]
    }
   ],
   "source": [
    "import numpy as np\n",
    "\n",
    "docs = [\"the cat in the hat\",\n",
    "       \"the cow jumped over the moon\",\n",
    "       \"the cat mooed and the cow meowed\", \n",
    "       \"the cat said to the cow cow you are not a cat\"]\n",
    "\n",
    "result_docs = np.unique(docs)\n",
    "\n",
    "print(result_docs)"
   ]
  },
  {
   "cell_type": "markdown",
   "id": "76f1977b-63ed-4c01-a1dd-a2d889cfffaa",
   "metadata": {},
   "source": [
    "---"
   ]
  },
  {
   "cell_type": "code",
   "execution_count": null,
   "id": "1a2f797e-953d-4c6f-98cd-26bbce4da3e8",
   "metadata": {},
   "outputs": [],
   "source": []
  },
  {
   "cell_type": "code",
   "execution_count": null,
   "id": "a9d80d3b-86a8-4984-a501-eb028b64d160",
   "metadata": {},
   "outputs": [],
   "source": []
  }
 ],
 "metadata": {
  "kernelspec": {
   "display_name": "Python 3 (ipykernel)",
   "language": "python",
   "name": "python3"
  },
  "language_info": {
   "codemirror_mode": {
    "name": "ipython",
    "version": 3
   },
   "file_extension": ".py",
   "mimetype": "text/x-python",
   "name": "python",
   "nbconvert_exporter": "python",
   "pygments_lexer": "ipython3",
   "version": "3.9.12"
  }
 },
 "nbformat": 4,
 "nbformat_minor": 5
}
