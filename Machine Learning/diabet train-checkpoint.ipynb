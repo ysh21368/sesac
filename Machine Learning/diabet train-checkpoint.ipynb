{
 "cells": [
  {
   "cell_type": "code",
   "execution_count": 1,
   "id": "53f7b8ae-b8ed-41a1-8d22-90b8a76deae0",
   "metadata": {},
   "outputs": [],
   "source": [
    "import pandas as pd\n",
    "import numpy as np\n",
    "from sklearn.svm import SVC\n",
    "import warnings\n",
    "warnings.filterwarnings('ignore')\n",
    "from sklearn.model_selection import train_test_split"
   ]
  },
  {
   "cell_type": "code",
   "execution_count": 2,
   "id": "9ff6dd1d-7e67-4bff-bbc4-3566c1987cfe",
   "metadata": {},
   "outputs": [],
   "source": [
    "data = pd.read_csv('diabetes.csv')\n"
   ]
  },
  {
   "cell_type": "code",
   "execution_count": 3,
   "id": "b4d8745b-1c50-4d8a-8e98-3ba0361e9f1d",
   "metadata": {},
   "outputs": [],
   "source": [
    "col_list = ['Glucose','BloodPressure','SkinThickness','Insulin','BMI']\n",
    "for col in col_list :\n",
    "    #print(col, len(data[data[col] ==0]))\n",
    "    data[col]=np.where((data[col]==0) , np.nan, data[col])"
   ]
  },
  {
   "cell_type": "code",
   "execution_count": 4,
   "id": "30d8d777-a685-4079-b8b7-20e040ec8d0f",
   "metadata": {},
   "outputs": [],
   "source": [
    "def ageRange(age) : \n",
    "    if 21 <= age < 30 :\n",
    "        return 1\n",
    "    elif 30 <= age < 40 :\n",
    "        return 2\n",
    "    elif 40 <= age < 50 :\n",
    "        return 3\n",
    "    elif 50 <= age < 60 :\n",
    "        return 4\n",
    "    elif 60 <= age < 70 :\n",
    "        return 5\n",
    "    else :\n",
    "        return 6"
   ]
  },
  {
   "cell_type": "code",
   "execution_count": 5,
   "id": "0e81f7e6-7fc2-4c4a-87e4-423045984bd4",
   "metadata": {},
   "outputs": [],
   "source": [
    "data['Age2'] = data['Age'].apply(ageRange)"
   ]
  },
  {
   "cell_type": "code",
   "execution_count": 6,
   "id": "ce13ba4f-0879-48d3-9375-ff8d4aba378f",
   "metadata": {},
   "outputs": [],
   "source": [
    "col_list = ['Glucose','BloodPressure','SkinThickness','Insulin','BMI']\n",
    "for col in col_list :\n",
    "    data[col].fillna(data.groupby('Age2')[col].transform('median'), inplace=True)"
   ]
  },
  {
   "cell_type": "markdown",
   "id": "f47225d8-864d-4c2a-853f-a26c06048768",
   "metadata": {},
   "source": [
    "---------"
   ]
  },
  {
   "cell_type": "code",
   "execution_count": 7,
   "id": "d5ca2939-9b85-46c8-ad86-2ac1513640f2",
   "metadata": {},
   "outputs": [],
   "source": [
    "index = data.groupby('Age2')['Glucose'].median().index"
   ]
  },
  {
   "cell_type": "code",
   "execution_count": 8,
   "id": "b89e3d1f-caaa-4206-8670-bebb76fdf49e",
   "metadata": {},
   "outputs": [],
   "source": [
    "value = data.groupby('Age2')['Glucose'].median().values"
   ]
  },
  {
   "cell_type": "code",
   "execution_count": 9,
   "id": "bcaca979-ee26-459c-8737-21a8864c46e5",
   "metadata": {},
   "outputs": [],
   "source": [
    "col_list = ['Glucose','BloodPressure','SkinThickness','Insulin','BMI']"
   ]
  },
  {
   "cell_type": "code",
   "execution_count": 10,
   "id": "e52bfc64-29cb-487f-b3a4-9aecadcd8aed",
   "metadata": {},
   "outputs": [],
   "source": [
    "dict_tot = {}\n",
    "for col in col_list :\n",
    "    index = data.groupby('Age2')[col].median().index\n",
    "    value = data.groupby('Age2')[col].median().values\n",
    "    temp = {}\n",
    "    for i in range(len(index)) :\n",
    "        temp[index[i]] = value[i]\n",
    "    dict_tot[col] = temp"
   ]
  },
  {
   "cell_type": "code",
   "execution_count": 11,
   "id": "2499ac1d-79d0-4abc-91ed-7fd1fd27aab0",
   "metadata": {},
   "outputs": [
    {
     "data": {
      "text/plain": [
       "{'Glucose': {1: 109.0, 2: 122.0, 3: 123.0, 4: 139.0, 5: 136.0, 6: 134.0},\n",
       " 'BloodPressure': {1: 68.0, 2: 74.0, 3: 78.0, 4: 78.0, 5: 78.0, 6: 78.0},\n",
       " 'SkinThickness': {1: 27.0, 2: 32.0, 3: 31.0, 4: 28.5, 5: 31.0, 6: 25.5},\n",
       " 'Insulin': {1: 105.0, 2: 140.0, 3: 131.0, 4: 192.0, 5: 258.0, 6: 60.0},\n",
       " 'BMI': {1: 31.6, 2: 32.0, 3: 33.95, 4: 33.05, 5: 29.3, 6: 25.9}}"
      ]
     },
     "execution_count": 11,
     "metadata": {},
     "output_type": "execute_result"
    }
   ],
   "source": [
    "dict_tot"
   ]
  },
  {
   "cell_type": "code",
   "execution_count": 12,
   "id": "c7b64dc9-c7db-4342-a0e9-48e09fea3d5f",
   "metadata": {},
   "outputs": [],
   "source": [
    "import pickle "
   ]
  },
  {
   "cell_type": "code",
   "execution_count": 13,
   "id": "fb54212a-2e9d-44c1-9101-5a108dc1e29c",
   "metadata": {},
   "outputs": [],
   "source": [
    "with open('dict_tot.pk1','wb') as f :\n",
    "     pickle.dump(dict_tot, f)"
   ]
  },
  {
   "cell_type": "markdown",
   "id": "eaec0df5-99f4-4f2a-aebe-fb4284d7398e",
   "metadata": {},
   "source": [
    "-----"
   ]
  },
  {
   "cell_type": "code",
   "execution_count": 14,
   "id": "8830d87c-a599-409c-8ea4-6fcf12c0a92c",
   "metadata": {},
   "outputs": [],
   "source": [
    "x= data.drop(['Outcome','Age2' ],axis=1)"
   ]
  },
  {
   "cell_type": "code",
   "execution_count": 15,
   "id": "0d406de0-c5d6-47a3-8fdd-befd9ea8df42",
   "metadata": {},
   "outputs": [],
   "source": [
    "y = data['Outcome']"
   ]
  },
  {
   "cell_type": "code",
   "execution_count": 16,
   "id": "5cd2a143-d135-45da-9c4a-d92a9514c0c8",
   "metadata": {},
   "outputs": [],
   "source": [
    "x_train, x_test, y_train, y_test = train_test_split(x,y,test_size=0.2, random_state=0, stratify=y)"
   ]
  },
  {
   "cell_type": "code",
   "execution_count": 17,
   "id": "b73a9687-88a2-46d7-983c-2210cf79262b",
   "metadata": {},
   "outputs": [],
   "source": [
    "model = SVC()"
   ]
  },
  {
   "cell_type": "code",
   "execution_count": 18,
   "id": "1d406619-ec63-43c3-be59-cafa5c8bacf2",
   "metadata": {},
   "outputs": [
    {
     "data": {
      "text/plain": [
       "SVC()"
      ]
     },
     "execution_count": 18,
     "metadata": {},
     "output_type": "execute_result"
    }
   ],
   "source": [
    "model.fit(x_train, y_train)"
   ]
  },
  {
   "cell_type": "code",
   "execution_count": 19,
   "id": "ef5a89a0-47f0-4fc5-8c85-3738ce818997",
   "metadata": {},
   "outputs": [
    {
     "data": {
      "text/plain": [
       "0.749185667752443"
      ]
     },
     "execution_count": 19,
     "metadata": {},
     "output_type": "execute_result"
    }
   ],
   "source": [
    "model.score(x_train, y_train)"
   ]
  },
  {
   "cell_type": "code",
   "execution_count": 20,
   "id": "dc4718fb-a96d-48c0-a9df-22c94f0cbc2d",
   "metadata": {},
   "outputs": [
    {
     "data": {
      "text/plain": [
       "0.7792207792207793"
      ]
     },
     "execution_count": 20,
     "metadata": {},
     "output_type": "execute_result"
    }
   ],
   "source": [
    "model.score(x_test, y_test)"
   ]
  },
  {
   "cell_type": "markdown",
   "id": "3f6f2cc1-c17a-4b7b-9147-cf1c1ea5f916",
   "metadata": {},
   "source": [
    "- 저장 "
   ]
  },
  {
   "cell_type": "code",
   "execution_count": 21,
   "id": "d5cd101f-e125-4df2-a710-7e606fc665a4",
   "metadata": {},
   "outputs": [],
   "source": [
    "import pickle "
   ]
  },
  {
   "cell_type": "code",
   "execution_count": 22,
   "id": "aa21e672-85fd-432c-a377-cd531301106e",
   "metadata": {},
   "outputs": [],
   "source": [
    "with open ('diabet_model.pk1','wb') as f :\n",
    "    pickle.dump(model, f)"
   ]
  },
  {
   "cell_type": "code",
   "execution_count": 23,
   "id": "8162d519-e9f6-4e43-a25a-1d4ed6ea9063",
   "metadata": {},
   "outputs": [],
   "source": [
    "import pandas as pd"
   ]
  },
  {
   "cell_type": "code",
   "execution_count": 24,
   "id": "0ded066f-ba8e-4ce2-90fe-3f900aa1bf88",
   "metadata": {},
   "outputs": [],
   "source": [
    "real =[ 1., 163. ,  72. , 0. , 0. ,39. , 1.222, 33. ,  1.  ]"
   ]
  }
 ],
 "metadata": {
  "kernelspec": {
   "display_name": "Python 3 (ipykernel)",
   "language": "python",
   "name": "python3"
  },
  "language_info": {
   "codemirror_mode": {
    "name": "ipython",
    "version": 3
   },
   "file_extension": ".py",
   "mimetype": "text/x-python",
   "name": "python",
   "nbconvert_exporter": "python",
   "pygments_lexer": "ipython3",
   "version": "3.9.12"
  }
 },
 "nbformat": 4,
 "nbformat_minor": 5
}
