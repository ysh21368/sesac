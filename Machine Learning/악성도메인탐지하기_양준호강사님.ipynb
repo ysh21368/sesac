{
 "cells": [
  {
   "cell_type": "code",
   "execution_count": 1,
   "id": "d052f12a-3b0d-4ead-a60c-8eb02efd28d1",
   "metadata": {},
   "outputs": [],
   "source": [
    "import pandas as pd\n",
    "import numpy as np"
   ]
  },
  {
   "cell_type": "code",
   "execution_count": 2,
   "id": "7a209056-f714-4eca-9cae-d9a4bcc66be7",
   "metadata": {},
   "outputs": [],
   "source": [
    "dga = pd.read_csv('DGA_예선_학습데이터.csv')"
   ]
  },
  {
   "cell_type": "code",
   "execution_count": 3,
   "id": "08b5e926-4f7c-4f0c-9c47-a9256bcc3dd0",
   "metadata": {
    "tags": []
   },
   "outputs": [
    {
     "data": {
      "text/html": [
       "<div>\n",
       "<style scoped>\n",
       "    .dataframe tbody tr th:only-of-type {\n",
       "        vertical-align: middle;\n",
       "    }\n",
       "\n",
       "    .dataframe tbody tr th {\n",
       "        vertical-align: top;\n",
       "    }\n",
       "\n",
       "    .dataframe thead th {\n",
       "        text-align: right;\n",
       "    }\n",
       "</style>\n",
       "<table border=\"1\" class=\"dataframe\">\n",
       "  <thead>\n",
       "    <tr style=\"text-align: right;\">\n",
       "      <th></th>\n",
       "      <th>domain</th>\n",
       "      <th>dga</th>\n",
       "      <th>class</th>\n",
       "    </tr>\n",
       "  </thead>\n",
       "  <tbody>\n",
       "    <tr>\n",
       "      <th>0</th>\n",
       "      <td>vsviqe.com</td>\n",
       "      <td>yes</td>\n",
       "      <td>19</td>\n",
       "    </tr>\n",
       "    <tr>\n",
       "      <th>1</th>\n",
       "      <td>170qknj1onn4c37qf1w71rzei1h.org</td>\n",
       "      <td>yes</td>\n",
       "      <td>6</td>\n",
       "    </tr>\n",
       "    <tr>\n",
       "      <th>2</th>\n",
       "      <td>smartidpro.in</td>\n",
       "      <td>no</td>\n",
       "      <td>0</td>\n",
       "    </tr>\n",
       "    <tr>\n",
       "      <th>3</th>\n",
       "      <td>9mtrkmet8rjnpya4.ru</td>\n",
       "      <td>yes</td>\n",
       "      <td>2</td>\n",
       "    </tr>\n",
       "    <tr>\n",
       "      <th>4</th>\n",
       "      <td>ypyxhi.com</td>\n",
       "      <td>yes</td>\n",
       "      <td>19</td>\n",
       "    </tr>\n",
       "    <tr>\n",
       "      <th>...</th>\n",
       "      <td>...</td>\n",
       "      <td>...</td>\n",
       "      <td>...</td>\n",
       "    </tr>\n",
       "    <tr>\n",
       "      <th>1599995</th>\n",
       "      <td>10zpd8p1ktb8bg1al07c3rfkuqw.net</td>\n",
       "      <td>yes</td>\n",
       "      <td>6</td>\n",
       "    </tr>\n",
       "    <tr>\n",
       "      <th>1599996</th>\n",
       "      <td>acheemprego.com</td>\n",
       "      <td>no</td>\n",
       "      <td>0</td>\n",
       "    </tr>\n",
       "    <tr>\n",
       "      <th>1599997</th>\n",
       "      <td>dtvvqs.com</td>\n",
       "      <td>yes</td>\n",
       "      <td>19</td>\n",
       "    </tr>\n",
       "    <tr>\n",
       "      <th>1599998</th>\n",
       "      <td>qurtpwncfwhjke.pw</td>\n",
       "      <td>yes</td>\n",
       "      <td>7</td>\n",
       "    </tr>\n",
       "    <tr>\n",
       "      <th>1599999</th>\n",
       "      <td>p148e12d7c430db3c04635de27e343c625.ws</td>\n",
       "      <td>yes</td>\n",
       "      <td>5</td>\n",
       "    </tr>\n",
       "  </tbody>\n",
       "</table>\n",
       "<p>1600000 rows × 3 columns</p>\n",
       "</div>"
      ],
      "text/plain": [
       "                                        domain  dga  class\n",
       "0                                   vsviqe.com  yes     19\n",
       "1              170qknj1onn4c37qf1w71rzei1h.org  yes      6\n",
       "2                                smartidpro.in   no      0\n",
       "3                          9mtrkmet8rjnpya4.ru  yes      2\n",
       "4                                   ypyxhi.com  yes     19\n",
       "...                                        ...  ...    ...\n",
       "1599995        10zpd8p1ktb8bg1al07c3rfkuqw.net  yes      6\n",
       "1599996                        acheemprego.com   no      0\n",
       "1599997                             dtvvqs.com  yes     19\n",
       "1599998                      qurtpwncfwhjke.pw  yes      7\n",
       "1599999  p148e12d7c430db3c04635de27e343c625.ws  yes      5\n",
       "\n",
       "[1600000 rows x 3 columns]"
      ]
     },
     "execution_count": 3,
     "metadata": {},
     "output_type": "execute_result"
    }
   ],
   "source": [
    "dga"
   ]
  },
  {
   "cell_type": "markdown",
   "id": "abc7c8a6-44a8-4d86-9e72-5b3312a03964",
   "metadata": {
    "jupyter": {
     "outputs_hidden": true
    },
    "tags": []
   },
   "source": [
    "pip install tld"
   ]
  },
  {
   "cell_type": "code",
   "execution_count": 4,
   "id": "f8c61f43-a8d3-4ebb-a9f0-94d74bfa0641",
   "metadata": {},
   "outputs": [],
   "source": [
    "from tld import get_tld"
   ]
  },
  {
   "cell_type": "code",
   "execution_count": 5,
   "id": "ec6a1a9f-66ab-4d79-be02-a2cea3128792",
   "metadata": {},
   "outputs": [],
   "source": [
    "url = 'http://'+'abc.co.kr'\n",
    "url1 = 'http://'+'naver.com'"
   ]
  },
  {
   "cell_type": "code",
   "execution_count": 6,
   "id": "f230e1b8-1417-4728-85f8-b901b37de37e",
   "metadata": {},
   "outputs": [
    {
     "data": {
      "text/plain": [
       "'co.kr'"
      ]
     },
     "execution_count": 6,
     "metadata": {},
     "output_type": "execute_result"
    }
   ],
   "source": [
    "top = get_tld(url)\n",
    "top"
   ]
  },
  {
   "cell_type": "code",
   "execution_count": 7,
   "id": "a5803084-eccc-4df3-8b36-43a413b33c86",
   "metadata": {},
   "outputs": [
    {
     "data": {
      "text/plain": [
       "'com'"
      ]
     },
     "execution_count": 7,
     "metadata": {},
     "output_type": "execute_result"
    }
   ],
   "source": [
    "top1 = get_tld(url1)\n",
    "top1"
   ]
  },
  {
   "cell_type": "markdown",
   "id": "85ca8295-ae73-4180-b355-78c8c1236c34",
   "metadata": {},
   "source": [
    "# 데이터 탐색 및 가공"
   ]
  },
  {
   "cell_type": "code",
   "execution_count": 8,
   "id": "28d33761-722e-4f0a-852c-98f827101f81",
   "metadata": {},
   "outputs": [
    {
     "name": "stdout",
     "output_type": "stream",
     "text": [
      "<class 'pandas.core.frame.DataFrame'>\n",
      "RangeIndex: 1600000 entries, 0 to 1599999\n",
      "Data columns (total 3 columns):\n",
      " #   Column  Non-Null Count    Dtype \n",
      "---  ------  --------------    ----- \n",
      " 0   domain  1600000 non-null  object\n",
      " 1   dga     1600000 non-null  object\n",
      " 2   class   1600000 non-null  int64 \n",
      "dtypes: int64(1), object(2)\n",
      "memory usage: 36.6+ MB\n"
     ]
    }
   ],
   "source": [
    "dga.info()"
   ]
  },
  {
   "cell_type": "code",
   "execution_count": 9,
   "id": "7dfd991a-a826-44ce-ab31-5128c84b4e26",
   "metadata": {},
   "outputs": [
    {
     "data": {
      "text/plain": [
       "domain    0\n",
       "dga       0\n",
       "class     0\n",
       "dtype: int64"
      ]
     },
     "execution_count": 9,
     "metadata": {},
     "output_type": "execute_result"
    }
   ],
   "source": [
    "dga.isnull().sum()"
   ]
  },
  {
   "cell_type": "code",
   "execution_count": 10,
   "id": "dd7dffc0-7440-413e-813f-b98c2741b04f",
   "metadata": {
    "tags": []
   },
   "outputs": [
    {
     "data": {
      "text/html": [
       "<div>\n",
       "<style scoped>\n",
       "    .dataframe tbody tr th:only-of-type {\n",
       "        vertical-align: middle;\n",
       "    }\n",
       "\n",
       "    .dataframe tbody tr th {\n",
       "        vertical-align: top;\n",
       "    }\n",
       "\n",
       "    .dataframe thead th {\n",
       "        text-align: right;\n",
       "    }\n",
       "</style>\n",
       "<table border=\"1\" class=\"dataframe\">\n",
       "  <thead>\n",
       "    <tr style=\"text-align: right;\">\n",
       "      <th></th>\n",
       "      <th>domain</th>\n",
       "      <th>dga</th>\n",
       "      <th>class</th>\n",
       "    </tr>\n",
       "  </thead>\n",
       "  <tbody>\n",
       "    <tr>\n",
       "      <th>0</th>\n",
       "      <td>vsviqe.com</td>\n",
       "      <td>yes</td>\n",
       "      <td>19</td>\n",
       "    </tr>\n",
       "    <tr>\n",
       "      <th>1</th>\n",
       "      <td>170qknj1onn4c37qf1w71rzei1h.org</td>\n",
       "      <td>yes</td>\n",
       "      <td>6</td>\n",
       "    </tr>\n",
       "    <tr>\n",
       "      <th>2</th>\n",
       "      <td>smartidpro.in</td>\n",
       "      <td>no</td>\n",
       "      <td>0</td>\n",
       "    </tr>\n",
       "    <tr>\n",
       "      <th>3</th>\n",
       "      <td>9mtrkmet8rjnpya4.ru</td>\n",
       "      <td>yes</td>\n",
       "      <td>2</td>\n",
       "    </tr>\n",
       "    <tr>\n",
       "      <th>4</th>\n",
       "      <td>ypyxhi.com</td>\n",
       "      <td>yes</td>\n",
       "      <td>19</td>\n",
       "    </tr>\n",
       "    <tr>\n",
       "      <th>...</th>\n",
       "      <td>...</td>\n",
       "      <td>...</td>\n",
       "      <td>...</td>\n",
       "    </tr>\n",
       "    <tr>\n",
       "      <th>1599995</th>\n",
       "      <td>10zpd8p1ktb8bg1al07c3rfkuqw.net</td>\n",
       "      <td>yes</td>\n",
       "      <td>6</td>\n",
       "    </tr>\n",
       "    <tr>\n",
       "      <th>1599996</th>\n",
       "      <td>acheemprego.com</td>\n",
       "      <td>no</td>\n",
       "      <td>0</td>\n",
       "    </tr>\n",
       "    <tr>\n",
       "      <th>1599997</th>\n",
       "      <td>dtvvqs.com</td>\n",
       "      <td>yes</td>\n",
       "      <td>19</td>\n",
       "    </tr>\n",
       "    <tr>\n",
       "      <th>1599998</th>\n",
       "      <td>qurtpwncfwhjke.pw</td>\n",
       "      <td>yes</td>\n",
       "      <td>7</td>\n",
       "    </tr>\n",
       "    <tr>\n",
       "      <th>1599999</th>\n",
       "      <td>p148e12d7c430db3c04635de27e343c625.ws</td>\n",
       "      <td>yes</td>\n",
       "      <td>5</td>\n",
       "    </tr>\n",
       "  </tbody>\n",
       "</table>\n",
       "<p>1600000 rows × 3 columns</p>\n",
       "</div>"
      ],
      "text/plain": [
       "                                        domain  dga  class\n",
       "0                                   vsviqe.com  yes     19\n",
       "1              170qknj1onn4c37qf1w71rzei1h.org  yes      6\n",
       "2                                smartidpro.in   no      0\n",
       "3                          9mtrkmet8rjnpya4.ru  yes      2\n",
       "4                                   ypyxhi.com  yes     19\n",
       "...                                        ...  ...    ...\n",
       "1599995        10zpd8p1ktb8bg1al07c3rfkuqw.net  yes      6\n",
       "1599996                        acheemprego.com   no      0\n",
       "1599997                             dtvvqs.com  yes     19\n",
       "1599998                      qurtpwncfwhjke.pw  yes      7\n",
       "1599999  p148e12d7c430db3c04635de27e343c625.ws  yes      5\n",
       "\n",
       "[1600000 rows x 3 columns]"
      ]
     },
     "execution_count": 10,
     "metadata": {},
     "output_type": "execute_result"
    }
   ],
   "source": [
    "dga"
   ]
  },
  {
   "cell_type": "code",
   "execution_count": 11,
   "id": "b7796b55-52f9-4134-af19-31d2edf6a04b",
   "metadata": {},
   "outputs": [
    {
     "data": {
      "text/plain": [
       "0     600000\n",
       "1        754\n",
       "2      28944\n",
       "3      13942\n",
       "4      28944\n",
       "5      28944\n",
       "6     323804\n",
       "7      18014\n",
       "8     114863\n",
       "9      63647\n",
       "10      8817\n",
       "11      4863\n",
       "12      2894\n",
       "13     39646\n",
       "14      7815\n",
       "15     10272\n",
       "16     14063\n",
       "17      6206\n",
       "18       927\n",
       "19    282641\n",
       "Name: class, dtype: int64"
      ]
     },
     "execution_count": 11,
     "metadata": {},
     "output_type": "execute_result"
    }
   ],
   "source": [
    "dga['class'].value_counts().sort_index()"
   ]
  },
  {
   "cell_type": "code",
   "execution_count": 5,
   "id": "71612610-a164-4f75-8a54-4dbb838f4a2e",
   "metadata": {},
   "outputs": [],
   "source": [
    "import seaborn as sns"
   ]
  },
  {
   "cell_type": "code",
   "execution_count": 13,
   "id": "8183797d-d80d-4824-be9b-65c6d3931fc3",
   "metadata": {},
   "outputs": [
    {
     "data": {
      "text/plain": [
       "<AxesSubplot:xlabel='class', ylabel='count'>"
      ]
     },
     "execution_count": 13,
     "metadata": {},
     "output_type": "execute_result"
    },
    {
     "data": {
      "image/png": "[encoded data removed]",
      "text/plain": [
       "<Figure size 432x288 with 1 Axes>"
      ]
     },
     "metadata": {
      "needs_background": "light"
     },
     "output_type": "display_data"
    }
   ],
   "source": [
    "sns.countplot(x='class', data=dga)"
   ]
  },
  {
   "cell_type": "code",
   "execution_count": 14,
   "id": "34abf384-8a31-4206-b8fd-86f3adffe1c3",
   "metadata": {
    "tags": []
   },
   "outputs": [
    {
     "data": {
      "text/html": [
       "<div>\n",
       "<style scoped>\n",
       "    .dataframe tbody tr th:only-of-type {\n",
       "        vertical-align: middle;\n",
       "    }\n",
       "\n",
       "    .dataframe tbody tr th {\n",
       "        vertical-align: top;\n",
       "    }\n",
       "\n",
       "    .dataframe thead th {\n",
       "        text-align: right;\n",
       "    }\n",
       "</style>\n",
       "<table border=\"1\" class=\"dataframe\">\n",
       "  <thead>\n",
       "    <tr style=\"text-align: right;\">\n",
       "      <th></th>\n",
       "      <th>domain</th>\n",
       "      <th>dga</th>\n",
       "      <th>class</th>\n",
       "    </tr>\n",
       "  </thead>\n",
       "  <tbody>\n",
       "    <tr>\n",
       "      <th>257</th>\n",
       "      <td>b6427368140624515a0ee4c29d27b789.info</td>\n",
       "      <td>yes</td>\n",
       "      <td>1</td>\n",
       "    </tr>\n",
       "    <tr>\n",
       "      <th>800</th>\n",
       "      <td>6e3772dd01644a88e16b0dbe2a6c0d36.org</td>\n",
       "      <td>yes</td>\n",
       "      <td>1</td>\n",
       "    </tr>\n",
       "    <tr>\n",
       "      <th>1731</th>\n",
       "      <td>1c7fadd66c9fbb16cd1dcd38d743f263.org</td>\n",
       "      <td>yes</td>\n",
       "      <td>1</td>\n",
       "    </tr>\n",
       "    <tr>\n",
       "      <th>4462</th>\n",
       "      <td>773683efbacb0bb70b75322c7e4662b9.info</td>\n",
       "      <td>yes</td>\n",
       "      <td>1</td>\n",
       "    </tr>\n",
       "    <tr>\n",
       "      <th>5435</th>\n",
       "      <td>4a51234e6e87c3c793592df62508a7d4.info</td>\n",
       "      <td>yes</td>\n",
       "      <td>1</td>\n",
       "    </tr>\n",
       "    <tr>\n",
       "      <th>...</th>\n",
       "      <td>...</td>\n",
       "      <td>...</td>\n",
       "      <td>...</td>\n",
       "    </tr>\n",
       "    <tr>\n",
       "      <th>1589137</th>\n",
       "      <td>7a7e47b55b0162d673231eb87881b07a.org</td>\n",
       "      <td>yes</td>\n",
       "      <td>1</td>\n",
       "    </tr>\n",
       "    <tr>\n",
       "      <th>1590363</th>\n",
       "      <td>7f200216723deebc7c91b324fc0962ad.org</td>\n",
       "      <td>yes</td>\n",
       "      <td>1</td>\n",
       "    </tr>\n",
       "    <tr>\n",
       "      <th>1594675</th>\n",
       "      <td>ed6cd7bcc51974b2a76909b46c3c8696.org</td>\n",
       "      <td>yes</td>\n",
       "      <td>1</td>\n",
       "    </tr>\n",
       "    <tr>\n",
       "      <th>1596475</th>\n",
       "      <td>d86e4bd4f58b94de0cbf326ac4be7087.org</td>\n",
       "      <td>yes</td>\n",
       "      <td>1</td>\n",
       "    </tr>\n",
       "    <tr>\n",
       "      <th>1598316</th>\n",
       "      <td>6a97671109629d33769d9e6a07193dd2.org</td>\n",
       "      <td>yes</td>\n",
       "      <td>1</td>\n",
       "    </tr>\n",
       "  </tbody>\n",
       "</table>\n",
       "<p>754 rows × 3 columns</p>\n",
       "</div>"
      ],
      "text/plain": [
       "                                        domain  dga  class\n",
       "257      b6427368140624515a0ee4c29d27b789.info  yes      1\n",
       "800       6e3772dd01644a88e16b0dbe2a6c0d36.org  yes      1\n",
       "1731      1c7fadd66c9fbb16cd1dcd38d743f263.org  yes      1\n",
       "4462     773683efbacb0bb70b75322c7e4662b9.info  yes      1\n",
       "5435     4a51234e6e87c3c793592df62508a7d4.info  yes      1\n",
       "...                                        ...  ...    ...\n",
       "1589137   7a7e47b55b0162d673231eb87881b07a.org  yes      1\n",
       "1590363   7f200216723deebc7c91b324fc0962ad.org  yes      1\n",
       "1594675   ed6cd7bcc51974b2a76909b46c3c8696.org  yes      1\n",
       "1596475   d86e4bd4f58b94de0cbf326ac4be7087.org  yes      1\n",
       "1598316   6a97671109629d33769d9e6a07193dd2.org  yes      1\n",
       "\n",
       "[754 rows x 3 columns]"
      ]
     },
     "execution_count": 14,
     "metadata": {},
     "output_type": "execute_result"
    }
   ],
   "source": [
    "dga[dga['class']==1]"
   ]
  },
  {
   "cell_type": "code",
   "execution_count": 15,
   "id": "46ac011d-72ee-4c08-82c7-0b7a879fb387",
   "metadata": {
    "tags": []
   },
   "outputs": [
    {
     "data": {
      "text/html": [
       "<div>\n",
       "<style scoped>\n",
       "    .dataframe tbody tr th:only-of-type {\n",
       "        vertical-align: middle;\n",
       "    }\n",
       "\n",
       "    .dataframe tbody tr th {\n",
       "        vertical-align: top;\n",
       "    }\n",
       "\n",
       "    .dataframe thead th {\n",
       "        text-align: right;\n",
       "    }\n",
       "</style>\n",
       "<table border=\"1\" class=\"dataframe\">\n",
       "  <thead>\n",
       "    <tr style=\"text-align: right;\">\n",
       "      <th></th>\n",
       "      <th>domain</th>\n",
       "      <th>dga</th>\n",
       "      <th>class</th>\n",
       "    </tr>\n",
       "  </thead>\n",
       "  <tbody>\n",
       "    <tr>\n",
       "      <th>3</th>\n",
       "      <td>9mtrkmet8rjnpya4.ru</td>\n",
       "      <td>yes</td>\n",
       "      <td>2</td>\n",
       "    </tr>\n",
       "    <tr>\n",
       "      <th>72</th>\n",
       "      <td>hft7aej7j8v3lef2.net</td>\n",
       "      <td>yes</td>\n",
       "      <td>2</td>\n",
       "    </tr>\n",
       "    <tr>\n",
       "      <th>104</th>\n",
       "      <td>fkvcyd54agu2ywtg.cn</td>\n",
       "      <td>yes</td>\n",
       "      <td>2</td>\n",
       "    </tr>\n",
       "    <tr>\n",
       "      <th>137</th>\n",
       "      <td>dbd5r2yfduh00apw.biz</td>\n",
       "      <td>yes</td>\n",
       "      <td>2</td>\n",
       "    </tr>\n",
       "    <tr>\n",
       "      <th>138</th>\n",
       "      <td>631w0kgnvsowppy4.biz</td>\n",
       "      <td>yes</td>\n",
       "      <td>2</td>\n",
       "    </tr>\n",
       "    <tr>\n",
       "      <th>...</th>\n",
       "      <td>...</td>\n",
       "      <td>...</td>\n",
       "      <td>...</td>\n",
       "    </tr>\n",
       "    <tr>\n",
       "      <th>1599757</th>\n",
       "      <td>5t7zgfv6pzl6nxwc.net</td>\n",
       "      <td>yes</td>\n",
       "      <td>2</td>\n",
       "    </tr>\n",
       "    <tr>\n",
       "      <th>1599797</th>\n",
       "      <td>ajczzwbxpn3lvy1r.biz</td>\n",
       "      <td>yes</td>\n",
       "      <td>2</td>\n",
       "    </tr>\n",
       "    <tr>\n",
       "      <th>1599823</th>\n",
       "      <td>hejo59u75evcr7mn.info</td>\n",
       "      <td>yes</td>\n",
       "      <td>2</td>\n",
       "    </tr>\n",
       "    <tr>\n",
       "      <th>1599825</th>\n",
       "      <td>0knotsa5jfqvz8he.biz</td>\n",
       "      <td>yes</td>\n",
       "      <td>2</td>\n",
       "    </tr>\n",
       "    <tr>\n",
       "      <th>1599832</th>\n",
       "      <td>ceik2lvfgxgwbk8x.info</td>\n",
       "      <td>yes</td>\n",
       "      <td>2</td>\n",
       "    </tr>\n",
       "  </tbody>\n",
       "</table>\n",
       "<p>28944 rows × 3 columns</p>\n",
       "</div>"
      ],
      "text/plain": [
       "                        domain  dga  class\n",
       "3          9mtrkmet8rjnpya4.ru  yes      2\n",
       "72        hft7aej7j8v3lef2.net  yes      2\n",
       "104        fkvcyd54agu2ywtg.cn  yes      2\n",
       "137       dbd5r2yfduh00apw.biz  yes      2\n",
       "138       631w0kgnvsowppy4.biz  yes      2\n",
       "...                        ...  ...    ...\n",
       "1599757   5t7zgfv6pzl6nxwc.net  yes      2\n",
       "1599797   ajczzwbxpn3lvy1r.biz  yes      2\n",
       "1599823  hejo59u75evcr7mn.info  yes      2\n",
       "1599825   0knotsa5jfqvz8he.biz  yes      2\n",
       "1599832  ceik2lvfgxgwbk8x.info  yes      2\n",
       "\n",
       "[28944 rows x 3 columns]"
      ]
     },
     "execution_count": 15,
     "metadata": {},
     "output_type": "execute_result"
    }
   ],
   "source": [
    "dga[dga['class']==2]"
   ]
  },
  {
   "cell_type": "code",
   "execution_count": 16,
   "id": "0d39f56f-e0c9-4093-b726-f74031fcf8f4",
   "metadata": {},
   "outputs": [
    {
     "name": "stdout",
     "output_type": "stream",
     "text": [
      "0\n",
      "1\n",
      "2\n",
      "3\n",
      "4\n"
     ]
    }
   ],
   "source": [
    "for i in range(0,5):\n",
    "    print(i)\n",
    "    globals()['temp_{}'.format(i)]=i\n",
    "    "
   ]
  },
  {
   "cell_type": "code",
   "execution_count": 17,
   "id": "ae28ec79-7125-453f-87f2-9d537caa6658",
   "metadata": {},
   "outputs": [],
   "source": [
    "temp_0 = 0 \n",
    "temp_1 = 1\n",
    "temp_2 = 2\n",
    "temp_3 = 3\n",
    "temp_4 = 4"
   ]
  },
  {
   "cell_type": "code",
   "execution_count": 18,
   "id": "4f4754f2-ea5a-4498-b7fc-a6c53366bb13",
   "metadata": {},
   "outputs": [
    {
     "data": {
      "text/plain": [
       "4"
      ]
     },
     "execution_count": 18,
     "metadata": {},
     "output_type": "execute_result"
    }
   ],
   "source": [
    "temp_4"
   ]
  },
  {
   "cell_type": "code",
   "execution_count": 19,
   "id": "faef1cc2-edb3-4ae0-89a1-faef212fb935",
   "metadata": {},
   "outputs": [],
   "source": [
    "for i in range(0,20):\n",
    "    globals()['dga_{}'.format(i)] = dga[dga['class']==i]"
   ]
  },
  {
   "cell_type": "code",
   "execution_count": 20,
   "id": "b728e836-51e2-491b-935d-18fc6314f6ea",
   "metadata": {},
   "outputs": [
    {
     "data": {
      "text/html": [
       "<div>\n",
       "<style scoped>\n",
       "    .dataframe tbody tr th:only-of-type {\n",
       "        vertical-align: middle;\n",
       "    }\n",
       "\n",
       "    .dataframe tbody tr th {\n",
       "        vertical-align: top;\n",
       "    }\n",
       "\n",
       "    .dataframe thead th {\n",
       "        text-align: right;\n",
       "    }\n",
       "</style>\n",
       "<table border=\"1\" class=\"dataframe\">\n",
       "  <thead>\n",
       "    <tr style=\"text-align: right;\">\n",
       "      <th></th>\n",
       "      <th>domain</th>\n",
       "      <th>dga</th>\n",
       "      <th>class</th>\n",
       "    </tr>\n",
       "  </thead>\n",
       "  <tbody>\n",
       "    <tr>\n",
       "      <th>0</th>\n",
       "      <td>vsviqe.com</td>\n",
       "      <td>yes</td>\n",
       "      <td>19</td>\n",
       "    </tr>\n",
       "    <tr>\n",
       "      <th>4</th>\n",
       "      <td>ypyxhi.com</td>\n",
       "      <td>yes</td>\n",
       "      <td>19</td>\n",
       "    </tr>\n",
       "    <tr>\n",
       "      <th>8</th>\n",
       "      <td>uirhui.com</td>\n",
       "      <td>yes</td>\n",
       "      <td>19</td>\n",
       "    </tr>\n",
       "    <tr>\n",
       "      <th>9</th>\n",
       "      <td>ydoece.com</td>\n",
       "      <td>yes</td>\n",
       "      <td>19</td>\n",
       "    </tr>\n",
       "    <tr>\n",
       "      <th>17</th>\n",
       "      <td>ccsgke.com</td>\n",
       "      <td>yes</td>\n",
       "      <td>19</td>\n",
       "    </tr>\n",
       "    <tr>\n",
       "      <th>...</th>\n",
       "      <td>...</td>\n",
       "      <td>...</td>\n",
       "      <td>...</td>\n",
       "    </tr>\n",
       "    <tr>\n",
       "      <th>1599987</th>\n",
       "      <td>gamrzx.com</td>\n",
       "      <td>yes</td>\n",
       "      <td>19</td>\n",
       "    </tr>\n",
       "    <tr>\n",
       "      <th>1599988</th>\n",
       "      <td>ybaurd.com</td>\n",
       "      <td>yes</td>\n",
       "      <td>19</td>\n",
       "    </tr>\n",
       "    <tr>\n",
       "      <th>1599990</th>\n",
       "      <td>qjyinr.com</td>\n",
       "      <td>yes</td>\n",
       "      <td>19</td>\n",
       "    </tr>\n",
       "    <tr>\n",
       "      <th>1599992</th>\n",
       "      <td>tuiaob.com</td>\n",
       "      <td>yes</td>\n",
       "      <td>19</td>\n",
       "    </tr>\n",
       "    <tr>\n",
       "      <th>1599997</th>\n",
       "      <td>dtvvqs.com</td>\n",
       "      <td>yes</td>\n",
       "      <td>19</td>\n",
       "    </tr>\n",
       "  </tbody>\n",
       "</table>\n",
       "<p>282641 rows × 3 columns</p>\n",
       "</div>"
      ],
      "text/plain": [
       "             domain  dga  class\n",
       "0        vsviqe.com  yes     19\n",
       "4        ypyxhi.com  yes     19\n",
       "8        uirhui.com  yes     19\n",
       "9        ydoece.com  yes     19\n",
       "17       ccsgke.com  yes     19\n",
       "...             ...  ...    ...\n",
       "1599987  gamrzx.com  yes     19\n",
       "1599988  ybaurd.com  yes     19\n",
       "1599990  qjyinr.com  yes     19\n",
       "1599992  tuiaob.com  yes     19\n",
       "1599997  dtvvqs.com  yes     19\n",
       "\n",
       "[282641 rows x 3 columns]"
      ]
     },
     "execution_count": 20,
     "metadata": {},
     "output_type": "execute_result"
    }
   ],
   "source": [
    "dga_19"
   ]
  },
  {
   "cell_type": "code",
   "execution_count": 21,
   "id": "c2b677b6-0f23-43ba-b3af-5f3c8071a0fe",
   "metadata": {},
   "outputs": [
    {
     "data": {
      "text/html": [
       "<div>\n",
       "<style scoped>\n",
       "    .dataframe tbody tr th:only-of-type {\n",
       "        vertical-align: middle;\n",
       "    }\n",
       "\n",
       "    .dataframe tbody tr th {\n",
       "        vertical-align: top;\n",
       "    }\n",
       "\n",
       "    .dataframe thead th {\n",
       "        text-align: right;\n",
       "    }\n",
       "</style>\n",
       "<table border=\"1\" class=\"dataframe\">\n",
       "  <thead>\n",
       "    <tr style=\"text-align: right;\">\n",
       "      <th></th>\n",
       "      <th>domain</th>\n",
       "      <th>dga</th>\n",
       "      <th>class</th>\n",
       "    </tr>\n",
       "  </thead>\n",
       "  <tbody>\n",
       "    <tr>\n",
       "      <th>257</th>\n",
       "      <td>b6427368140624515a0ee4c29d27b789.info</td>\n",
       "      <td>yes</td>\n",
       "      <td>1</td>\n",
       "    </tr>\n",
       "    <tr>\n",
       "      <th>800</th>\n",
       "      <td>6e3772dd01644a88e16b0dbe2a6c0d36.org</td>\n",
       "      <td>yes</td>\n",
       "      <td>1</td>\n",
       "    </tr>\n",
       "    <tr>\n",
       "      <th>1731</th>\n",
       "      <td>1c7fadd66c9fbb16cd1dcd38d743f263.org</td>\n",
       "      <td>yes</td>\n",
       "      <td>1</td>\n",
       "    </tr>\n",
       "    <tr>\n",
       "      <th>4462</th>\n",
       "      <td>773683efbacb0bb70b75322c7e4662b9.info</td>\n",
       "      <td>yes</td>\n",
       "      <td>1</td>\n",
       "    </tr>\n",
       "    <tr>\n",
       "      <th>5435</th>\n",
       "      <td>4a51234e6e87c3c793592df62508a7d4.info</td>\n",
       "      <td>yes</td>\n",
       "      <td>1</td>\n",
       "    </tr>\n",
       "    <tr>\n",
       "      <th>...</th>\n",
       "      <td>...</td>\n",
       "      <td>...</td>\n",
       "      <td>...</td>\n",
       "    </tr>\n",
       "    <tr>\n",
       "      <th>1589137</th>\n",
       "      <td>7a7e47b55b0162d673231eb87881b07a.org</td>\n",
       "      <td>yes</td>\n",
       "      <td>1</td>\n",
       "    </tr>\n",
       "    <tr>\n",
       "      <th>1590363</th>\n",
       "      <td>7f200216723deebc7c91b324fc0962ad.org</td>\n",
       "      <td>yes</td>\n",
       "      <td>1</td>\n",
       "    </tr>\n",
       "    <tr>\n",
       "      <th>1594675</th>\n",
       "      <td>ed6cd7bcc51974b2a76909b46c3c8696.org</td>\n",
       "      <td>yes</td>\n",
       "      <td>1</td>\n",
       "    </tr>\n",
       "    <tr>\n",
       "      <th>1596475</th>\n",
       "      <td>d86e4bd4f58b94de0cbf326ac4be7087.org</td>\n",
       "      <td>yes</td>\n",
       "      <td>1</td>\n",
       "    </tr>\n",
       "    <tr>\n",
       "      <th>1598316</th>\n",
       "      <td>6a97671109629d33769d9e6a07193dd2.org</td>\n",
       "      <td>yes</td>\n",
       "      <td>1</td>\n",
       "    </tr>\n",
       "  </tbody>\n",
       "</table>\n",
       "<p>754 rows × 3 columns</p>\n",
       "</div>"
      ],
      "text/plain": [
       "                                        domain  dga  class\n",
       "257      b6427368140624515a0ee4c29d27b789.info  yes      1\n",
       "800       6e3772dd01644a88e16b0dbe2a6c0d36.org  yes      1\n",
       "1731      1c7fadd66c9fbb16cd1dcd38d743f263.org  yes      1\n",
       "4462     773683efbacb0bb70b75322c7e4662b9.info  yes      1\n",
       "5435     4a51234e6e87c3c793592df62508a7d4.info  yes      1\n",
       "...                                        ...  ...    ...\n",
       "1589137   7a7e47b55b0162d673231eb87881b07a.org  yes      1\n",
       "1590363   7f200216723deebc7c91b324fc0962ad.org  yes      1\n",
       "1594675   ed6cd7bcc51974b2a76909b46c3c8696.org  yes      1\n",
       "1596475   d86e4bd4f58b94de0cbf326ac4be7087.org  yes      1\n",
       "1598316   6a97671109629d33769d9e6a07193dd2.org  yes      1\n",
       "\n",
       "[754 rows x 3 columns]"
      ]
     },
     "execution_count": 21,
     "metadata": {},
     "output_type": "execute_result"
    }
   ],
   "source": [
    "dga_1"
   ]
  },
  {
   "cell_type": "markdown",
   "id": "6e7e1779-0e7f-4b8c-9816-18eb02a8e802",
   "metadata": {},
   "source": [
    "### 탑도메인 구하기"
   ]
  },
  {
   "cell_type": "code",
   "execution_count": 6,
   "id": "a313e49e-1c26-4ddf-a3c1-bb65918b5dcb",
   "metadata": {},
   "outputs": [],
   "source": [
    "from tld import get_tld"
   ]
  },
  {
   "cell_type": "code",
   "execution_count": 23,
   "id": "ef6df16a-4390-4128-b7e7-13ac6c6b205c",
   "metadata": {},
   "outputs": [],
   "source": [
    "domain = 'b6427368140624515a0ee4c29d27b789.info'"
   ]
  },
  {
   "cell_type": "code",
   "execution_count": 24,
   "id": "4981ff04-4bc3-47b6-bbbe-9c6b5f8404a1",
   "metadata": {},
   "outputs": [],
   "source": [
    "top_domain = get_tld('http://'+domain, as_object=True)"
   ]
  },
  {
   "cell_type": "code",
   "execution_count": 25,
   "id": "3ffc2d7b-c2f7-4c6c-916f-932b32656ae8",
   "metadata": {},
   "outputs": [
    {
     "data": {
      "text/plain": [
       "tld.result.Result"
      ]
     },
     "execution_count": 25,
     "metadata": {},
     "output_type": "execute_result"
    }
   ],
   "source": [
    "type(top_domain)"
   ]
  },
  {
   "cell_type": "code",
   "execution_count": 27,
   "id": "d3e5fd22-038c-4b8a-bdd0-cbf7e5ed2d31",
   "metadata": {},
   "outputs": [],
   "source": [
    "def top_domain(domain):\n",
    "    try:\n",
    "        top = get_tld('http://'+domain)\n",
    "    except:\n",
    "        print('top_domain Error!\\n',domain)\n",
    "    \n",
    "    return top"
   ]
  },
  {
   "cell_type": "code",
   "execution_count": 27,
   "id": "56fdb9b9-a88c-4107-9e17-b6efcdb352c3",
   "metadata": {},
   "outputs": [
    {
     "data": {
      "text/plain": [
       "'biz'"
      ]
     },
     "execution_count": 27,
     "metadata": {},
     "output_type": "execute_result"
    }
   ],
   "source": [
    "domain = 'fkfkhancwqeifu.biz'\n",
    "top_domain(domain)"
   ]
  },
  {
   "cell_type": "code",
   "execution_count": 28,
   "id": "0d320e34-76b3-4490-ba35-2b0583c5e6b8",
   "metadata": {
    "tags": []
   },
   "outputs": [
    {
     "data": {
      "text/html": [
       "<div>\n",
       "<style scoped>\n",
       "    .dataframe tbody tr th:only-of-type {\n",
       "        vertical-align: middle;\n",
       "    }\n",
       "\n",
       "    .dataframe tbody tr th {\n",
       "        vertical-align: top;\n",
       "    }\n",
       "\n",
       "    .dataframe thead th {\n",
       "        text-align: right;\n",
       "    }\n",
       "</style>\n",
       "<table border=\"1\" class=\"dataframe\">\n",
       "  <thead>\n",
       "    <tr style=\"text-align: right;\">\n",
       "      <th></th>\n",
       "      <th>domain</th>\n",
       "      <th>dga</th>\n",
       "      <th>class</th>\n",
       "    </tr>\n",
       "  </thead>\n",
       "  <tbody>\n",
       "    <tr>\n",
       "      <th>79</th>\n",
       "      <td>fkfkhancwqeifu.biz</td>\n",
       "      <td>yes</td>\n",
       "      <td>4</td>\n",
       "    </tr>\n",
       "    <tr>\n",
       "      <th>139</th>\n",
       "      <td>hijayloskyvilo.ru</td>\n",
       "      <td>yes</td>\n",
       "      <td>4</td>\n",
       "    </tr>\n",
       "    <tr>\n",
       "      <th>152</th>\n",
       "      <td>mvyyggruvbtle.net</td>\n",
       "      <td>yes</td>\n",
       "      <td>4</td>\n",
       "    </tr>\n",
       "    <tr>\n",
       "      <th>242</th>\n",
       "      <td>vdofoosxlrtsqq.ru</td>\n",
       "      <td>yes</td>\n",
       "      <td>4</td>\n",
       "    </tr>\n",
       "    <tr>\n",
       "      <th>364</th>\n",
       "      <td>llfwukakgcaxh.co.uk</td>\n",
       "      <td>yes</td>\n",
       "      <td>4</td>\n",
       "    </tr>\n",
       "    <tr>\n",
       "      <th>...</th>\n",
       "      <td>...</td>\n",
       "      <td>...</td>\n",
       "      <td>...</td>\n",
       "    </tr>\n",
       "    <tr>\n",
       "      <th>1599880</th>\n",
       "      <td>caijtgqlxuvnt.ru</td>\n",
       "      <td>yes</td>\n",
       "      <td>4</td>\n",
       "    </tr>\n",
       "    <tr>\n",
       "      <th>1599894</th>\n",
       "      <td>ochalcangyde.org</td>\n",
       "      <td>yes</td>\n",
       "      <td>4</td>\n",
       "    </tr>\n",
       "    <tr>\n",
       "      <th>1599924</th>\n",
       "      <td>cxmherskhqorip.org</td>\n",
       "      <td>yes</td>\n",
       "      <td>4</td>\n",
       "    </tr>\n",
       "    <tr>\n",
       "      <th>1599960</th>\n",
       "      <td>qlulpipqgcsj.org</td>\n",
       "      <td>yes</td>\n",
       "      <td>4</td>\n",
       "    </tr>\n",
       "    <tr>\n",
       "      <th>1599966</th>\n",
       "      <td>gitnmeanhklatgp.info</td>\n",
       "      <td>yes</td>\n",
       "      <td>4</td>\n",
       "    </tr>\n",
       "  </tbody>\n",
       "</table>\n",
       "<p>28944 rows × 3 columns</p>\n",
       "</div>"
      ],
      "text/plain": [
       "                       domain  dga  class\n",
       "79         fkfkhancwqeifu.biz  yes      4\n",
       "139         hijayloskyvilo.ru  yes      4\n",
       "152         mvyyggruvbtle.net  yes      4\n",
       "242         vdofoosxlrtsqq.ru  yes      4\n",
       "364       llfwukakgcaxh.co.uk  yes      4\n",
       "...                       ...  ...    ...\n",
       "1599880      caijtgqlxuvnt.ru  yes      4\n",
       "1599894      ochalcangyde.org  yes      4\n",
       "1599924    cxmherskhqorip.org  yes      4\n",
       "1599960      qlulpipqgcsj.org  yes      4\n",
       "1599966  gitnmeanhklatgp.info  yes      4\n",
       "\n",
       "[28944 rows x 3 columns]"
      ]
     },
     "execution_count": 28,
     "metadata": {},
     "output_type": "execute_result"
    }
   ],
   "source": [
    "dga_4"
   ]
  },
  {
   "cell_type": "code",
   "execution_count": 29,
   "id": "950229c5-5606-4f0a-8003-9c4e725ee548",
   "metadata": {},
   "outputs": [],
   "source": [
    "top_list=[]\n",
    "# 탑도메인을 담기위한 리스트 선언\n",
    "\n",
    "for index, value in dga_1.iterrows():\n",
    "    #print(index)\n",
    "    #print(value)\n",
    "    domain = value[0]\n",
    "    #print(domain)\n",
    "    top = top_domain(domain)\n",
    "    top_list.append(top)\n",
    "    \n",
    "    \n",
    "dga_1.insert(1,'top_domain',top_list, allow_duplicates=True)\n",
    "    #print(top)\n",
    "    #break"
   ]
  },
  {
   "cell_type": "code",
   "execution_count": 30,
   "id": "034ec840-b1b7-479f-b088-f656b7208397",
   "metadata": {},
   "outputs": [],
   "source": [
    "def add_dataframe(dataframe, function, col_name):\n",
    "    temp_list=[]\n",
    "    for index, value in dataframe.iterrows():\n",
    "        domain = value[0]\n",
    "        \n",
    "        temp = function(domain)\n",
    "        temp_list.append(temp)\n",
    "    \n",
    "    dataframe.insert(1,col_name, temp_list, allow_duplicates=True)"
   ]
  },
  {
   "cell_type": "code",
   "execution_count": 31,
   "id": "3ee3c6ee-8a2c-4cdb-8e7e-c3a299d61bc9",
   "metadata": {},
   "outputs": [],
   "source": [
    "add_dataframe(dga, top_domain,'top_domain')"
   ]
  },
  {
   "cell_type": "code",
   "execution_count": 32,
   "id": "32d506e5-2b47-459e-9e2f-20c2455c71bd",
   "metadata": {},
   "outputs": [
    {
     "data": {
      "text/html": [
       "<div>\n",
       "<style scoped>\n",
       "    .dataframe tbody tr th:only-of-type {\n",
       "        vertical-align: middle;\n",
       "    }\n",
       "\n",
       "    .dataframe tbody tr th {\n",
       "        vertical-align: top;\n",
       "    }\n",
       "\n",
       "    .dataframe thead th {\n",
       "        text-align: right;\n",
       "    }\n",
       "</style>\n",
       "<table border=\"1\" class=\"dataframe\">\n",
       "  <thead>\n",
       "    <tr style=\"text-align: right;\">\n",
       "      <th></th>\n",
       "      <th>domain</th>\n",
       "      <th>top_domain</th>\n",
       "      <th>dga</th>\n",
       "      <th>class</th>\n",
       "    </tr>\n",
       "  </thead>\n",
       "  <tbody>\n",
       "    <tr>\n",
       "      <th>0</th>\n",
       "      <td>vsviqe.com</td>\n",
       "      <td>com</td>\n",
       "      <td>yes</td>\n",
       "      <td>19</td>\n",
       "    </tr>\n",
       "    <tr>\n",
       "      <th>1</th>\n",
       "      <td>170qknj1onn4c37qf1w71rzei1h.org</td>\n",
       "      <td>org</td>\n",
       "      <td>yes</td>\n",
       "      <td>6</td>\n",
       "    </tr>\n",
       "    <tr>\n",
       "      <th>2</th>\n",
       "      <td>smartidpro.in</td>\n",
       "      <td>in</td>\n",
       "      <td>no</td>\n",
       "      <td>0</td>\n",
       "    </tr>\n",
       "    <tr>\n",
       "      <th>3</th>\n",
       "      <td>9mtrkmet8rjnpya4.ru</td>\n",
       "      <td>ru</td>\n",
       "      <td>yes</td>\n",
       "      <td>2</td>\n",
       "    </tr>\n",
       "    <tr>\n",
       "      <th>4</th>\n",
       "      <td>ypyxhi.com</td>\n",
       "      <td>com</td>\n",
       "      <td>yes</td>\n",
       "      <td>19</td>\n",
       "    </tr>\n",
       "    <tr>\n",
       "      <th>...</th>\n",
       "      <td>...</td>\n",
       "      <td>...</td>\n",
       "      <td>...</td>\n",
       "      <td>...</td>\n",
       "    </tr>\n",
       "    <tr>\n",
       "      <th>1599995</th>\n",
       "      <td>10zpd8p1ktb8bg1al07c3rfkuqw.net</td>\n",
       "      <td>net</td>\n",
       "      <td>yes</td>\n",
       "      <td>6</td>\n",
       "    </tr>\n",
       "    <tr>\n",
       "      <th>1599996</th>\n",
       "      <td>acheemprego.com</td>\n",
       "      <td>com</td>\n",
       "      <td>no</td>\n",
       "      <td>0</td>\n",
       "    </tr>\n",
       "    <tr>\n",
       "      <th>1599997</th>\n",
       "      <td>dtvvqs.com</td>\n",
       "      <td>com</td>\n",
       "      <td>yes</td>\n",
       "      <td>19</td>\n",
       "    </tr>\n",
       "    <tr>\n",
       "      <th>1599998</th>\n",
       "      <td>qurtpwncfwhjke.pw</td>\n",
       "      <td>pw</td>\n",
       "      <td>yes</td>\n",
       "      <td>7</td>\n",
       "    </tr>\n",
       "    <tr>\n",
       "      <th>1599999</th>\n",
       "      <td>p148e12d7c430db3c04635de27e343c625.ws</td>\n",
       "      <td>ws</td>\n",
       "      <td>yes</td>\n",
       "      <td>5</td>\n",
       "    </tr>\n",
       "  </tbody>\n",
       "</table>\n",
       "<p>1600000 rows × 4 columns</p>\n",
       "</div>"
      ],
      "text/plain": [
       "                                        domain top_domain  dga  class\n",
       "0                                   vsviqe.com        com  yes     19\n",
       "1              170qknj1onn4c37qf1w71rzei1h.org        org  yes      6\n",
       "2                                smartidpro.in         in   no      0\n",
       "3                          9mtrkmet8rjnpya4.ru         ru  yes      2\n",
       "4                                   ypyxhi.com        com  yes     19\n",
       "...                                        ...        ...  ...    ...\n",
       "1599995        10zpd8p1ktb8bg1al07c3rfkuqw.net        net  yes      6\n",
       "1599996                        acheemprego.com        com   no      0\n",
       "1599997                             dtvvqs.com        com  yes     19\n",
       "1599998                      qurtpwncfwhjke.pw         pw  yes      7\n",
       "1599999  p148e12d7c430db3c04635de27e343c625.ws         ws  yes      5\n",
       "\n",
       "[1600000 rows x 4 columns]"
      ]
     },
     "execution_count": 32,
     "metadata": {},
     "output_type": "execute_result"
    }
   ],
   "source": [
    "dga"
   ]
  },
  {
   "cell_type": "markdown",
   "id": "f225ab47-47f5-4172-84ac-1a3f67632c76",
   "metadata": {},
   "source": [
    "### 서브도메인 찾기"
   ]
  },
  {
   "cell_type": "code",
   "execution_count": 33,
   "id": "70404cd5-d8e1-4d0d-b315-022abff451d2",
   "metadata": {
    "tags": []
   },
   "outputs": [
    {
     "data": {
      "text/html": [
       "<div>\n",
       "<style scoped>\n",
       "    .dataframe tbody tr th:only-of-type {\n",
       "        vertical-align: middle;\n",
       "    }\n",
       "\n",
       "    .dataframe tbody tr th {\n",
       "        vertical-align: top;\n",
       "    }\n",
       "\n",
       "    .dataframe thead th {\n",
       "        text-align: right;\n",
       "    }\n",
       "</style>\n",
       "<table border=\"1\" class=\"dataframe\">\n",
       "  <thead>\n",
       "    <tr style=\"text-align: right;\">\n",
       "      <th></th>\n",
       "      <th>domain</th>\n",
       "      <th>top_domain</th>\n",
       "      <th>dga</th>\n",
       "      <th>class</th>\n",
       "    </tr>\n",
       "  </thead>\n",
       "  <tbody>\n",
       "    <tr>\n",
       "      <th>257</th>\n",
       "      <td>b6427368140624515a0ee4c29d27b789.info</td>\n",
       "      <td>info</td>\n",
       "      <td>yes</td>\n",
       "      <td>1</td>\n",
       "    </tr>\n",
       "    <tr>\n",
       "      <th>800</th>\n",
       "      <td>6e3772dd01644a88e16b0dbe2a6c0d36.org</td>\n",
       "      <td>org</td>\n",
       "      <td>yes</td>\n",
       "      <td>1</td>\n",
       "    </tr>\n",
       "    <tr>\n",
       "      <th>1731</th>\n",
       "      <td>1c7fadd66c9fbb16cd1dcd38d743f263.org</td>\n",
       "      <td>org</td>\n",
       "      <td>yes</td>\n",
       "      <td>1</td>\n",
       "    </tr>\n",
       "    <tr>\n",
       "      <th>4462</th>\n",
       "      <td>773683efbacb0bb70b75322c7e4662b9.info</td>\n",
       "      <td>info</td>\n",
       "      <td>yes</td>\n",
       "      <td>1</td>\n",
       "    </tr>\n",
       "    <tr>\n",
       "      <th>5435</th>\n",
       "      <td>4a51234e6e87c3c793592df62508a7d4.info</td>\n",
       "      <td>info</td>\n",
       "      <td>yes</td>\n",
       "      <td>1</td>\n",
       "    </tr>\n",
       "    <tr>\n",
       "      <th>...</th>\n",
       "      <td>...</td>\n",
       "      <td>...</td>\n",
       "      <td>...</td>\n",
       "      <td>...</td>\n",
       "    </tr>\n",
       "    <tr>\n",
       "      <th>1589137</th>\n",
       "      <td>7a7e47b55b0162d673231eb87881b07a.org</td>\n",
       "      <td>org</td>\n",
       "      <td>yes</td>\n",
       "      <td>1</td>\n",
       "    </tr>\n",
       "    <tr>\n",
       "      <th>1590363</th>\n",
       "      <td>7f200216723deebc7c91b324fc0962ad.org</td>\n",
       "      <td>org</td>\n",
       "      <td>yes</td>\n",
       "      <td>1</td>\n",
       "    </tr>\n",
       "    <tr>\n",
       "      <th>1594675</th>\n",
       "      <td>ed6cd7bcc51974b2a76909b46c3c8696.org</td>\n",
       "      <td>org</td>\n",
       "      <td>yes</td>\n",
       "      <td>1</td>\n",
       "    </tr>\n",
       "    <tr>\n",
       "      <th>1596475</th>\n",
       "      <td>d86e4bd4f58b94de0cbf326ac4be7087.org</td>\n",
       "      <td>org</td>\n",
       "      <td>yes</td>\n",
       "      <td>1</td>\n",
       "    </tr>\n",
       "    <tr>\n",
       "      <th>1598316</th>\n",
       "      <td>6a97671109629d33769d9e6a07193dd2.org</td>\n",
       "      <td>org</td>\n",
       "      <td>yes</td>\n",
       "      <td>1</td>\n",
       "    </tr>\n",
       "  </tbody>\n",
       "</table>\n",
       "<p>754 rows × 4 columns</p>\n",
       "</div>"
      ],
      "text/plain": [
       "                                        domain top_domain  dga  class\n",
       "257      b6427368140624515a0ee4c29d27b789.info       info  yes      1\n",
       "800       6e3772dd01644a88e16b0dbe2a6c0d36.org        org  yes      1\n",
       "1731      1c7fadd66c9fbb16cd1dcd38d743f263.org        org  yes      1\n",
       "4462     773683efbacb0bb70b75322c7e4662b9.info       info  yes      1\n",
       "5435     4a51234e6e87c3c793592df62508a7d4.info       info  yes      1\n",
       "...                                        ...        ...  ...    ...\n",
       "1589137   7a7e47b55b0162d673231eb87881b07a.org        org  yes      1\n",
       "1590363   7f200216723deebc7c91b324fc0962ad.org        org  yes      1\n",
       "1594675   ed6cd7bcc51974b2a76909b46c3c8696.org        org  yes      1\n",
       "1596475   d86e4bd4f58b94de0cbf326ac4be7087.org        org  yes      1\n",
       "1598316   6a97671109629d33769d9e6a07193dd2.org        org  yes      1\n",
       "\n",
       "[754 rows x 4 columns]"
      ]
     },
     "execution_count": 33,
     "metadata": {},
     "output_type": "execute_result"
    }
   ],
   "source": [
    "dga_1"
   ]
  },
  {
   "cell_type": "code",
   "execution_count": 34,
   "id": "25ccd1ea-19f2-42f4-bca2-99906228a8d1",
   "metadata": {},
   "outputs": [],
   "source": [
    "dga_1_domain = 'b6427368140624515a0ee4c29d27b789.info'"
   ]
  },
  {
   "cell_type": "code",
   "execution_count": 35,
   "id": "3c885f3c-91b5-48db-8b28-72967b0c4b62",
   "metadata": {},
   "outputs": [],
   "source": [
    "dga_1_top = top_domain(dga_1_domain)"
   ]
  },
  {
   "cell_type": "code",
   "execution_count": 36,
   "id": "748dc56b-b898-4680-b808-ed81bb6907a7",
   "metadata": {},
   "outputs": [
    {
     "data": {
      "text/plain": [
       "'info'"
      ]
     },
     "execution_count": 36,
     "metadata": {},
     "output_type": "execute_result"
    }
   ],
   "source": [
    "dga_1_top"
   ]
  },
  {
   "cell_type": "code",
   "execution_count": 37,
   "id": "eced506d-3dab-46a8-afe4-4194e093d8f2",
   "metadata": {},
   "outputs": [],
   "source": [
    "dga_1_sub = dga_1_domain.replace('.'+str(dga_1_top),'')"
   ]
  },
  {
   "cell_type": "code",
   "execution_count": 38,
   "id": "fbc6f621-5053-4115-a928-60660604c1c0",
   "metadata": {},
   "outputs": [
    {
     "data": {
      "text/plain": [
       "'b6427368140624515a0ee4c29d27b789'"
      ]
     },
     "execution_count": 38,
     "metadata": {},
     "output_type": "execute_result"
    }
   ],
   "source": [
    "dga_1_sub"
   ]
  },
  {
   "cell_type": "code",
   "execution_count": 28,
   "id": "d5ce134f-ed38-491f-bfda-b86e39b9c2da",
   "metadata": {},
   "outputs": [],
   "source": [
    "def sub_domain(domain):\n",
    "    top = top_domain(domain)\n",
    "    sub = domain.replace('.'+str(top),'')\n",
    "    return sub "
   ]
  },
  {
   "cell_type": "code",
   "execution_count": 40,
   "id": "0aa0d89f-7bba-4a3d-aecc-e12bc32727d9",
   "metadata": {},
   "outputs": [
    {
     "data": {
      "text/plain": [
       "'gogogle'"
      ]
     },
     "execution_count": 40,
     "metadata": {},
     "output_type": "execute_result"
    }
   ],
   "source": [
    "sub_domain('gogogle.com')"
   ]
  },
  {
   "cell_type": "code",
   "execution_count": 41,
   "id": "93c8ba49-a2ff-478d-b6b8-2eac04576f4c",
   "metadata": {},
   "outputs": [],
   "source": [
    "add_dataframe(dga, sub_domain,'sub_domain')"
   ]
  },
  {
   "cell_type": "code",
   "execution_count": 42,
   "id": "b2f385b7-350e-49c9-92be-ef6dcc320d2c",
   "metadata": {},
   "outputs": [
    {
     "data": {
      "text/html": [
       "<div>\n",
       "<style scoped>\n",
       "    .dataframe tbody tr th:only-of-type {\n",
       "        vertical-align: middle;\n",
       "    }\n",
       "\n",
       "    .dataframe tbody tr th {\n",
       "        vertical-align: top;\n",
       "    }\n",
       "\n",
       "    .dataframe thead th {\n",
       "        text-align: right;\n",
       "    }\n",
       "</style>\n",
       "<table border=\"1\" class=\"dataframe\">\n",
       "  <thead>\n",
       "    <tr style=\"text-align: right;\">\n",
       "      <th></th>\n",
       "      <th>domain</th>\n",
       "      <th>sub_domain</th>\n",
       "      <th>top_domain</th>\n",
       "      <th>dga</th>\n",
       "      <th>class</th>\n",
       "    </tr>\n",
       "  </thead>\n",
       "  <tbody>\n",
       "    <tr>\n",
       "      <th>0</th>\n",
       "      <td>vsviqe.com</td>\n",
       "      <td>vsviqe</td>\n",
       "      <td>com</td>\n",
       "      <td>yes</td>\n",
       "      <td>19</td>\n",
       "    </tr>\n",
       "    <tr>\n",
       "      <th>1</th>\n",
       "      <td>170qknj1onn4c37qf1w71rzei1h.org</td>\n",
       "      <td>170qknj1onn4c37qf1w71rzei1h</td>\n",
       "      <td>org</td>\n",
       "      <td>yes</td>\n",
       "      <td>6</td>\n",
       "    </tr>\n",
       "    <tr>\n",
       "      <th>2</th>\n",
       "      <td>smartidpro.in</td>\n",
       "      <td>smartidpro</td>\n",
       "      <td>in</td>\n",
       "      <td>no</td>\n",
       "      <td>0</td>\n",
       "    </tr>\n",
       "    <tr>\n",
       "      <th>3</th>\n",
       "      <td>9mtrkmet8rjnpya4.ru</td>\n",
       "      <td>9mtrkmet8rjnpya4</td>\n",
       "      <td>ru</td>\n",
       "      <td>yes</td>\n",
       "      <td>2</td>\n",
       "    </tr>\n",
       "    <tr>\n",
       "      <th>4</th>\n",
       "      <td>ypyxhi.com</td>\n",
       "      <td>ypyxhi</td>\n",
       "      <td>com</td>\n",
       "      <td>yes</td>\n",
       "      <td>19</td>\n",
       "    </tr>\n",
       "    <tr>\n",
       "      <th>...</th>\n",
       "      <td>...</td>\n",
       "      <td>...</td>\n",
       "      <td>...</td>\n",
       "      <td>...</td>\n",
       "      <td>...</td>\n",
       "    </tr>\n",
       "    <tr>\n",
       "      <th>1599995</th>\n",
       "      <td>10zpd8p1ktb8bg1al07c3rfkuqw.net</td>\n",
       "      <td>10zpd8p1ktb8bg1al07c3rfkuqw</td>\n",
       "      <td>net</td>\n",
       "      <td>yes</td>\n",
       "      <td>6</td>\n",
       "    </tr>\n",
       "    <tr>\n",
       "      <th>1599996</th>\n",
       "      <td>acheemprego.com</td>\n",
       "      <td>acheemprego</td>\n",
       "      <td>com</td>\n",
       "      <td>no</td>\n",
       "      <td>0</td>\n",
       "    </tr>\n",
       "    <tr>\n",
       "      <th>1599997</th>\n",
       "      <td>dtvvqs.com</td>\n",
       "      <td>dtvvqs</td>\n",
       "      <td>com</td>\n",
       "      <td>yes</td>\n",
       "      <td>19</td>\n",
       "    </tr>\n",
       "    <tr>\n",
       "      <th>1599998</th>\n",
       "      <td>qurtpwncfwhjke.pw</td>\n",
       "      <td>qurtpwncfwhjke</td>\n",
       "      <td>pw</td>\n",
       "      <td>yes</td>\n",
       "      <td>7</td>\n",
       "    </tr>\n",
       "    <tr>\n",
       "      <th>1599999</th>\n",
       "      <td>p148e12d7c430db3c04635de27e343c625.ws</td>\n",
       "      <td>p148e12d7c430db3c04635de27e343c625</td>\n",
       "      <td>ws</td>\n",
       "      <td>yes</td>\n",
       "      <td>5</td>\n",
       "    </tr>\n",
       "  </tbody>\n",
       "</table>\n",
       "<p>1600000 rows × 5 columns</p>\n",
       "</div>"
      ],
      "text/plain": [
       "                                        domain  \\\n",
       "0                                   vsviqe.com   \n",
       "1              170qknj1onn4c37qf1w71rzei1h.org   \n",
       "2                                smartidpro.in   \n",
       "3                          9mtrkmet8rjnpya4.ru   \n",
       "4                                   ypyxhi.com   \n",
       "...                                        ...   \n",
       "1599995        10zpd8p1ktb8bg1al07c3rfkuqw.net   \n",
       "1599996                        acheemprego.com   \n",
       "1599997                             dtvvqs.com   \n",
       "1599998                      qurtpwncfwhjke.pw   \n",
       "1599999  p148e12d7c430db3c04635de27e343c625.ws   \n",
       "\n",
       "                                 sub_domain top_domain  dga  class  \n",
       "0                                    vsviqe        com  yes     19  \n",
       "1               170qknj1onn4c37qf1w71rzei1h        org  yes      6  \n",
       "2                                smartidpro         in   no      0  \n",
       "3                          9mtrkmet8rjnpya4         ru  yes      2  \n",
       "4                                    ypyxhi        com  yes     19  \n",
       "...                                     ...        ...  ...    ...  \n",
       "1599995         10zpd8p1ktb8bg1al07c3rfkuqw        net  yes      6  \n",
       "1599996                         acheemprego        com   no      0  \n",
       "1599997                              dtvvqs        com  yes     19  \n",
       "1599998                      qurtpwncfwhjke         pw  yes      7  \n",
       "1599999  p148e12d7c430db3c04635de27e343c625         ws  yes      5  \n",
       "\n",
       "[1600000 rows x 5 columns]"
      ]
     },
     "execution_count": 42,
     "metadata": {},
     "output_type": "execute_result"
    }
   ],
   "source": [
    "dga"
   ]
  },
  {
   "cell_type": "markdown",
   "id": "6274ef9f-3af4-44e7-8bef-e6cad4664145",
   "metadata": {},
   "source": [
    "### 서브도메인의 길이 찾기"
   ]
  },
  {
   "cell_type": "code",
   "execution_count": 43,
   "id": "ad4c379d-c5d2-4ff4-bf0d-702c4b4dbbcd",
   "metadata": {
    "tags": []
   },
   "outputs": [
    {
     "data": {
      "text/html": [
       "<div>\n",
       "<style scoped>\n",
       "    .dataframe tbody tr th:only-of-type {\n",
       "        vertical-align: middle;\n",
       "    }\n",
       "\n",
       "    .dataframe tbody tr th {\n",
       "        vertical-align: top;\n",
       "    }\n",
       "\n",
       "    .dataframe thead th {\n",
       "        text-align: right;\n",
       "    }\n",
       "</style>\n",
       "<table border=\"1\" class=\"dataframe\">\n",
       "  <thead>\n",
       "    <tr style=\"text-align: right;\">\n",
       "      <th></th>\n",
       "      <th>domain</th>\n",
       "      <th>top_domain</th>\n",
       "      <th>dga</th>\n",
       "      <th>class</th>\n",
       "    </tr>\n",
       "  </thead>\n",
       "  <tbody>\n",
       "    <tr>\n",
       "      <th>257</th>\n",
       "      <td>b6427368140624515a0ee4c29d27b789.info</td>\n",
       "      <td>info</td>\n",
       "      <td>yes</td>\n",
       "      <td>1</td>\n",
       "    </tr>\n",
       "    <tr>\n",
       "      <th>800</th>\n",
       "      <td>6e3772dd01644a88e16b0dbe2a6c0d36.org</td>\n",
       "      <td>org</td>\n",
       "      <td>yes</td>\n",
       "      <td>1</td>\n",
       "    </tr>\n",
       "    <tr>\n",
       "      <th>1731</th>\n",
       "      <td>1c7fadd66c9fbb16cd1dcd38d743f263.org</td>\n",
       "      <td>org</td>\n",
       "      <td>yes</td>\n",
       "      <td>1</td>\n",
       "    </tr>\n",
       "    <tr>\n",
       "      <th>4462</th>\n",
       "      <td>773683efbacb0bb70b75322c7e4662b9.info</td>\n",
       "      <td>info</td>\n",
       "      <td>yes</td>\n",
       "      <td>1</td>\n",
       "    </tr>\n",
       "    <tr>\n",
       "      <th>5435</th>\n",
       "      <td>4a51234e6e87c3c793592df62508a7d4.info</td>\n",
       "      <td>info</td>\n",
       "      <td>yes</td>\n",
       "      <td>1</td>\n",
       "    </tr>\n",
       "    <tr>\n",
       "      <th>...</th>\n",
       "      <td>...</td>\n",
       "      <td>...</td>\n",
       "      <td>...</td>\n",
       "      <td>...</td>\n",
       "    </tr>\n",
       "    <tr>\n",
       "      <th>1589137</th>\n",
       "      <td>7a7e47b55b0162d673231eb87881b07a.org</td>\n",
       "      <td>org</td>\n",
       "      <td>yes</td>\n",
       "      <td>1</td>\n",
       "    </tr>\n",
       "    <tr>\n",
       "      <th>1590363</th>\n",
       "      <td>7f200216723deebc7c91b324fc0962ad.org</td>\n",
       "      <td>org</td>\n",
       "      <td>yes</td>\n",
       "      <td>1</td>\n",
       "    </tr>\n",
       "    <tr>\n",
       "      <th>1594675</th>\n",
       "      <td>ed6cd7bcc51974b2a76909b46c3c8696.org</td>\n",
       "      <td>org</td>\n",
       "      <td>yes</td>\n",
       "      <td>1</td>\n",
       "    </tr>\n",
       "    <tr>\n",
       "      <th>1596475</th>\n",
       "      <td>d86e4bd4f58b94de0cbf326ac4be7087.org</td>\n",
       "      <td>org</td>\n",
       "      <td>yes</td>\n",
       "      <td>1</td>\n",
       "    </tr>\n",
       "    <tr>\n",
       "      <th>1598316</th>\n",
       "      <td>6a97671109629d33769d9e6a07193dd2.org</td>\n",
       "      <td>org</td>\n",
       "      <td>yes</td>\n",
       "      <td>1</td>\n",
       "    </tr>\n",
       "  </tbody>\n",
       "</table>\n",
       "<p>754 rows × 4 columns</p>\n",
       "</div>"
      ],
      "text/plain": [
       "                                        domain top_domain  dga  class\n",
       "257      b6427368140624515a0ee4c29d27b789.info       info  yes      1\n",
       "800       6e3772dd01644a88e16b0dbe2a6c0d36.org        org  yes      1\n",
       "1731      1c7fadd66c9fbb16cd1dcd38d743f263.org        org  yes      1\n",
       "4462     773683efbacb0bb70b75322c7e4662b9.info       info  yes      1\n",
       "5435     4a51234e6e87c3c793592df62508a7d4.info       info  yes      1\n",
       "...                                        ...        ...  ...    ...\n",
       "1589137   7a7e47b55b0162d673231eb87881b07a.org        org  yes      1\n",
       "1590363   7f200216723deebc7c91b324fc0962ad.org        org  yes      1\n",
       "1594675   ed6cd7bcc51974b2a76909b46c3c8696.org        org  yes      1\n",
       "1596475   d86e4bd4f58b94de0cbf326ac4be7087.org        org  yes      1\n",
       "1598316   6a97671109629d33769d9e6a07193dd2.org        org  yes      1\n",
       "\n",
       "[754 rows x 4 columns]"
      ]
     },
     "execution_count": 43,
     "metadata": {},
     "output_type": "execute_result"
    }
   ],
   "source": [
    "dga_1"
   ]
  },
  {
   "cell_type": "code",
   "execution_count": 44,
   "id": "32e1ab47-a2ce-4ca9-88e3-18aa1d143844",
   "metadata": {},
   "outputs": [],
   "source": [
    "dga_1_domain='b6427368140624515a0ee4c29d27b789.info'"
   ]
  },
  {
   "cell_type": "code",
   "execution_count": 45,
   "id": "a1b6c641-6ed6-4f79-b5f7-1c691d18a660",
   "metadata": {},
   "outputs": [],
   "source": [
    "dga_1_sub = sub_domain(dga_1_domain)"
   ]
  },
  {
   "cell_type": "code",
   "execution_count": 46,
   "id": "ba377ee6-66d6-4e08-bb83-ada641ddeae2",
   "metadata": {},
   "outputs": [
    {
     "data": {
      "text/plain": [
       "'b6427368140624515a0ee4c29d27b789'"
      ]
     },
     "execution_count": 46,
     "metadata": {},
     "output_type": "execute_result"
    }
   ],
   "source": [
    "dga_1_sub"
   ]
  },
  {
   "cell_type": "code",
   "execution_count": 47,
   "id": "c5ce60ee-4698-41f1-a49c-6b262704da1f",
   "metadata": {},
   "outputs": [
    {
     "data": {
      "text/plain": [
       "32"
      ]
     },
     "execution_count": 47,
     "metadata": {},
     "output_type": "execute_result"
    }
   ],
   "source": [
    "len(dga_1_sub)"
   ]
  },
  {
   "cell_type": "code",
   "execution_count": 48,
   "id": "eb3363c4-64aa-48ec-8917-7a638eb93958",
   "metadata": {},
   "outputs": [],
   "source": [
    "def sub_length(domain):\n",
    "    sub = sub_domain(domain)\n",
    "    length = len(sub)\n",
    "    return length"
   ]
  },
  {
   "cell_type": "code",
   "execution_count": 49,
   "id": "513093d3-0317-4be2-9198-66c6836a171b",
   "metadata": {},
   "outputs": [
    {
     "data": {
      "text/plain": [
       "14"
      ]
     },
     "execution_count": 49,
     "metadata": {},
     "output_type": "execute_result"
    }
   ],
   "source": [
    "sub_length('abcdddddddcccc.com')"
   ]
  },
  {
   "cell_type": "code",
   "execution_count": 50,
   "id": "1efd459b-d0f6-4eb5-81d1-0631d6be07d0",
   "metadata": {},
   "outputs": [],
   "source": [
    "add_dataframe(dga, sub_length,'sub_length')"
   ]
  },
  {
   "cell_type": "code",
   "execution_count": 51,
   "id": "c2fde125-41e9-4d32-b3c2-e008567fcbde",
   "metadata": {
    "tags": []
   },
   "outputs": [
    {
     "data": {
      "text/html": [
       "<div>\n",
       "<style scoped>\n",
       "    .dataframe tbody tr th:only-of-type {\n",
       "        vertical-align: middle;\n",
       "    }\n",
       "\n",
       "    .dataframe tbody tr th {\n",
       "        vertical-align: top;\n",
       "    }\n",
       "\n",
       "    .dataframe thead th {\n",
       "        text-align: right;\n",
       "    }\n",
       "</style>\n",
       "<table border=\"1\" class=\"dataframe\">\n",
       "  <thead>\n",
       "    <tr style=\"text-align: right;\">\n",
       "      <th></th>\n",
       "      <th>domain</th>\n",
       "      <th>sub_length</th>\n",
       "      <th>sub_domain</th>\n",
       "      <th>top_domain</th>\n",
       "      <th>dga</th>\n",
       "      <th>class</th>\n",
       "    </tr>\n",
       "  </thead>\n",
       "  <tbody>\n",
       "    <tr>\n",
       "      <th>0</th>\n",
       "      <td>vsviqe.com</td>\n",
       "      <td>6</td>\n",
       "      <td>vsviqe</td>\n",
       "      <td>com</td>\n",
       "      <td>yes</td>\n",
       "      <td>19</td>\n",
       "    </tr>\n",
       "    <tr>\n",
       "      <th>1</th>\n",
       "      <td>170qknj1onn4c37qf1w71rzei1h.org</td>\n",
       "      <td>27</td>\n",
       "      <td>170qknj1onn4c37qf1w71rzei1h</td>\n",
       "      <td>org</td>\n",
       "      <td>yes</td>\n",
       "      <td>6</td>\n",
       "    </tr>\n",
       "    <tr>\n",
       "      <th>2</th>\n",
       "      <td>smartidpro.in</td>\n",
       "      <td>10</td>\n",
       "      <td>smartidpro</td>\n",
       "      <td>in</td>\n",
       "      <td>no</td>\n",
       "      <td>0</td>\n",
       "    </tr>\n",
       "    <tr>\n",
       "      <th>3</th>\n",
       "      <td>9mtrkmet8rjnpya4.ru</td>\n",
       "      <td>16</td>\n",
       "      <td>9mtrkmet8rjnpya4</td>\n",
       "      <td>ru</td>\n",
       "      <td>yes</td>\n",
       "      <td>2</td>\n",
       "    </tr>\n",
       "    <tr>\n",
       "      <th>4</th>\n",
       "      <td>ypyxhi.com</td>\n",
       "      <td>6</td>\n",
       "      <td>ypyxhi</td>\n",
       "      <td>com</td>\n",
       "      <td>yes</td>\n",
       "      <td>19</td>\n",
       "    </tr>\n",
       "    <tr>\n",
       "      <th>...</th>\n",
       "      <td>...</td>\n",
       "      <td>...</td>\n",
       "      <td>...</td>\n",
       "      <td>...</td>\n",
       "      <td>...</td>\n",
       "      <td>...</td>\n",
       "    </tr>\n",
       "    <tr>\n",
       "      <th>1599995</th>\n",
       "      <td>10zpd8p1ktb8bg1al07c3rfkuqw.net</td>\n",
       "      <td>27</td>\n",
       "      <td>10zpd8p1ktb8bg1al07c3rfkuqw</td>\n",
       "      <td>net</td>\n",
       "      <td>yes</td>\n",
       "      <td>6</td>\n",
       "    </tr>\n",
       "    <tr>\n",
       "      <th>1599996</th>\n",
       "      <td>acheemprego.com</td>\n",
       "      <td>11</td>\n",
       "      <td>acheemprego</td>\n",
       "      <td>com</td>\n",
       "      <td>no</td>\n",
       "      <td>0</td>\n",
       "    </tr>\n",
       "    <tr>\n",
       "      <th>1599997</th>\n",
       "      <td>dtvvqs.com</td>\n",
       "      <td>6</td>\n",
       "      <td>dtvvqs</td>\n",
       "      <td>com</td>\n",
       "      <td>yes</td>\n",
       "      <td>19</td>\n",
       "    </tr>\n",
       "    <tr>\n",
       "      <th>1599998</th>\n",
       "      <td>qurtpwncfwhjke.pw</td>\n",
       "      <td>14</td>\n",
       "      <td>qurtpwncfwhjke</td>\n",
       "      <td>pw</td>\n",
       "      <td>yes</td>\n",
       "      <td>7</td>\n",
       "    </tr>\n",
       "    <tr>\n",
       "      <th>1599999</th>\n",
       "      <td>p148e12d7c430db3c04635de27e343c625.ws</td>\n",
       "      <td>34</td>\n",
       "      <td>p148e12d7c430db3c04635de27e343c625</td>\n",
       "      <td>ws</td>\n",
       "      <td>yes</td>\n",
       "      <td>5</td>\n",
       "    </tr>\n",
       "  </tbody>\n",
       "</table>\n",
       "<p>1600000 rows × 6 columns</p>\n",
       "</div>"
      ],
      "text/plain": [
       "                                        domain  sub_length  \\\n",
       "0                                   vsviqe.com           6   \n",
       "1              170qknj1onn4c37qf1w71rzei1h.org          27   \n",
       "2                                smartidpro.in          10   \n",
       "3                          9mtrkmet8rjnpya4.ru          16   \n",
       "4                                   ypyxhi.com           6   \n",
       "...                                        ...         ...   \n",
       "1599995        10zpd8p1ktb8bg1al07c3rfkuqw.net          27   \n",
       "1599996                        acheemprego.com          11   \n",
       "1599997                             dtvvqs.com           6   \n",
       "1599998                      qurtpwncfwhjke.pw          14   \n",
       "1599999  p148e12d7c430db3c04635de27e343c625.ws          34   \n",
       "\n",
       "                                 sub_domain top_domain  dga  class  \n",
       "0                                    vsviqe        com  yes     19  \n",
       "1               170qknj1onn4c37qf1w71rzei1h        org  yes      6  \n",
       "2                                smartidpro         in   no      0  \n",
       "3                          9mtrkmet8rjnpya4         ru  yes      2  \n",
       "4                                    ypyxhi        com  yes     19  \n",
       "...                                     ...        ...  ...    ...  \n",
       "1599995         10zpd8p1ktb8bg1al07c3rfkuqw        net  yes      6  \n",
       "1599996                         acheemprego        com   no      0  \n",
       "1599997                              dtvvqs        com  yes     19  \n",
       "1599998                      qurtpwncfwhjke         pw  yes      7  \n",
       "1599999  p148e12d7c430db3c04635de27e343c625         ws  yes      5  \n",
       "\n",
       "[1600000 rows x 6 columns]"
      ]
     },
     "execution_count": 51,
     "metadata": {},
     "output_type": "execute_result"
    }
   ],
   "source": [
    "dga"
   ]
  },
  {
   "cell_type": "code",
   "execution_count": 7,
   "id": "93c40fc5-9029-4d57-a1e9-e4a3a0ea6abc",
   "metadata": {},
   "outputs": [],
   "source": [
    "import matplotlib.pyplot as plt"
   ]
  },
  {
   "cell_type": "code",
   "execution_count": 53,
   "id": "359f77f4-6c87-47f3-a700-62a9a9ec00f3",
   "metadata": {},
   "outputs": [
    {
     "data": {
      "image/png": "[encoded data removed]",
      "text/plain": [
       "<Figure size 701.25x216 with 1 Axes>"
      ]
     },
     "metadata": {
      "needs_background": "light"
     },
     "output_type": "display_data"
    }
   ],
   "source": [
    "facet = sns.FacetGrid(dga, hue='dga', aspect=3)\n",
    "facet.map(sns.kdeplot, 'sub_length', shade=True)\n",
    "facet.set(xlim=(0,dga['sub_length'].max()))\n",
    "facet.add_legend()\n",
    "plt.show()"
   ]
  },
  {
   "cell_type": "code",
   "execution_count": 54,
   "id": "7f873044-a37e-422c-877f-48963cc07d04",
   "metadata": {},
   "outputs": [
    {
     "data": {
      "text/html": [
       "<div>\n",
       "<style scoped>\n",
       "    .dataframe tbody tr th:only-of-type {\n",
       "        vertical-align: middle;\n",
       "    }\n",
       "\n",
       "    .dataframe tbody tr th {\n",
       "        vertical-align: top;\n",
       "    }\n",
       "\n",
       "    .dataframe thead th {\n",
       "        text-align: right;\n",
       "    }\n",
       "</style>\n",
       "<table border=\"1\" class=\"dataframe\">\n",
       "  <thead>\n",
       "    <tr style=\"text-align: right;\">\n",
       "      <th></th>\n",
       "      <th>domain</th>\n",
       "      <th>top_domain</th>\n",
       "      <th>dga</th>\n",
       "      <th>class</th>\n",
       "    </tr>\n",
       "  </thead>\n",
       "  <tbody>\n",
       "    <tr>\n",
       "      <th>257</th>\n",
       "      <td>b6427368140624515a0ee4c29d27b789.info</td>\n",
       "      <td>info</td>\n",
       "      <td>yes</td>\n",
       "      <td>1</td>\n",
       "    </tr>\n",
       "    <tr>\n",
       "      <th>800</th>\n",
       "      <td>6e3772dd01644a88e16b0dbe2a6c0d36.org</td>\n",
       "      <td>org</td>\n",
       "      <td>yes</td>\n",
       "      <td>1</td>\n",
       "    </tr>\n",
       "    <tr>\n",
       "      <th>1731</th>\n",
       "      <td>1c7fadd66c9fbb16cd1dcd38d743f263.org</td>\n",
       "      <td>org</td>\n",
       "      <td>yes</td>\n",
       "      <td>1</td>\n",
       "    </tr>\n",
       "    <tr>\n",
       "      <th>4462</th>\n",
       "      <td>773683efbacb0bb70b75322c7e4662b9.info</td>\n",
       "      <td>info</td>\n",
       "      <td>yes</td>\n",
       "      <td>1</td>\n",
       "    </tr>\n",
       "    <tr>\n",
       "      <th>5435</th>\n",
       "      <td>4a51234e6e87c3c793592df62508a7d4.info</td>\n",
       "      <td>info</td>\n",
       "      <td>yes</td>\n",
       "      <td>1</td>\n",
       "    </tr>\n",
       "    <tr>\n",
       "      <th>...</th>\n",
       "      <td>...</td>\n",
       "      <td>...</td>\n",
       "      <td>...</td>\n",
       "      <td>...</td>\n",
       "    </tr>\n",
       "    <tr>\n",
       "      <th>1589137</th>\n",
       "      <td>7a7e47b55b0162d673231eb87881b07a.org</td>\n",
       "      <td>org</td>\n",
       "      <td>yes</td>\n",
       "      <td>1</td>\n",
       "    </tr>\n",
       "    <tr>\n",
       "      <th>1590363</th>\n",
       "      <td>7f200216723deebc7c91b324fc0962ad.org</td>\n",
       "      <td>org</td>\n",
       "      <td>yes</td>\n",
       "      <td>1</td>\n",
       "    </tr>\n",
       "    <tr>\n",
       "      <th>1594675</th>\n",
       "      <td>ed6cd7bcc51974b2a76909b46c3c8696.org</td>\n",
       "      <td>org</td>\n",
       "      <td>yes</td>\n",
       "      <td>1</td>\n",
       "    </tr>\n",
       "    <tr>\n",
       "      <th>1596475</th>\n",
       "      <td>d86e4bd4f58b94de0cbf326ac4be7087.org</td>\n",
       "      <td>org</td>\n",
       "      <td>yes</td>\n",
       "      <td>1</td>\n",
       "    </tr>\n",
       "    <tr>\n",
       "      <th>1598316</th>\n",
       "      <td>6a97671109629d33769d9e6a07193dd2.org</td>\n",
       "      <td>org</td>\n",
       "      <td>yes</td>\n",
       "      <td>1</td>\n",
       "    </tr>\n",
       "  </tbody>\n",
       "</table>\n",
       "<p>754 rows × 4 columns</p>\n",
       "</div>"
      ],
      "text/plain": [
       "                                        domain top_domain  dga  class\n",
       "257      b6427368140624515a0ee4c29d27b789.info       info  yes      1\n",
       "800       6e3772dd01644a88e16b0dbe2a6c0d36.org        org  yes      1\n",
       "1731      1c7fadd66c9fbb16cd1dcd38d743f263.org        org  yes      1\n",
       "4462     773683efbacb0bb70b75322c7e4662b9.info       info  yes      1\n",
       "5435     4a51234e6e87c3c793592df62508a7d4.info       info  yes      1\n",
       "...                                        ...        ...  ...    ...\n",
       "1589137   7a7e47b55b0162d673231eb87881b07a.org        org  yes      1\n",
       "1590363   7f200216723deebc7c91b324fc0962ad.org        org  yes      1\n",
       "1594675   ed6cd7bcc51974b2a76909b46c3c8696.org        org  yes      1\n",
       "1596475   d86e4bd4f58b94de0cbf326ac4be7087.org        org  yes      1\n",
       "1598316   6a97671109629d33769d9e6a07193dd2.org        org  yes      1\n",
       "\n",
       "[754 rows x 4 columns]"
      ]
     },
     "execution_count": 54,
     "metadata": {},
     "output_type": "execute_result"
    }
   ],
   "source": [
    "dga_1"
   ]
  },
  {
   "cell_type": "code",
   "execution_count": 55,
   "id": "25a80edb-ada5-455a-bac4-e0593d57198d",
   "metadata": {},
   "outputs": [
    {
     "data": {
      "text/plain": [
       "array(['info', 'org'], dtype=object)"
      ]
     },
     "execution_count": 55,
     "metadata": {},
     "output_type": "execute_result"
    }
   ],
   "source": [
    "dga_1_topview = dga[dga['class']==1]\n",
    "dga_1_topview['top_domain'].unique()"
   ]
  },
  {
   "cell_type": "code",
   "execution_count": 56,
   "id": "e9351e3f-5254-4268-879f-dd11e147ab7d",
   "metadata": {},
   "outputs": [
    {
     "data": {
      "text/plain": [
       "array(['biz', 'ru', 'net', 'co.uk', 'org', 'info', 'com'], dtype=object)"
      ]
     },
     "execution_count": 56,
     "metadata": {},
     "output_type": "execute_result"
    }
   ],
   "source": [
    "dga_4_topview = dga[dga['class']==4]\n",
    "dga_4_topview['top_domain'].unique()"
   ]
  },
  {
   "cell_type": "code",
   "execution_count": 57,
   "id": "8cb7a8e8-a150-40bc-83c5-5dec5a986078",
   "metadata": {},
   "outputs": [],
   "source": [
    "dga_0_topview = dga[dga['class']==0]"
   ]
  },
  {
   "cell_type": "code",
   "execution_count": 58,
   "id": "b12e3574-159e-40b4-9d89-366599664b4d",
   "metadata": {},
   "outputs": [
    {
     "data": {
      "text/plain": [
       "array(['in', 'fr', 'com', ..., 'ltda', 'cieszyn.pl', 'we.bs'],\n",
       "      dtype=object)"
      ]
     },
     "execution_count": 58,
     "metadata": {},
     "output_type": "execute_result"
    }
   ],
   "source": [
    "dga_0_topview['top_domain'].unique()"
   ]
  },
  {
   "cell_type": "markdown",
   "id": "3f85d003-33c4-4969-8b44-1a0947fad3d0",
   "metadata": {},
   "source": [
    "### 자음이 3개이상 것 찾기"
   ]
  },
  {
   "cell_type": "code",
   "execution_count": 59,
   "id": "02594e3b-5eaf-4ad9-b59d-1e249d267ea8",
   "metadata": {
    "tags": []
   },
   "outputs": [
    {
     "data": {
      "text/html": [
       "<div>\n",
       "<style scoped>\n",
       "    .dataframe tbody tr th:only-of-type {\n",
       "        vertical-align: middle;\n",
       "    }\n",
       "\n",
       "    .dataframe tbody tr th {\n",
       "        vertical-align: top;\n",
       "    }\n",
       "\n",
       "    .dataframe thead th {\n",
       "        text-align: right;\n",
       "    }\n",
       "</style>\n",
       "<table border=\"1\" class=\"dataframe\">\n",
       "  <thead>\n",
       "    <tr style=\"text-align: right;\">\n",
       "      <th></th>\n",
       "      <th>domain</th>\n",
       "      <th>dga</th>\n",
       "      <th>class</th>\n",
       "    </tr>\n",
       "  </thead>\n",
       "  <tbody>\n",
       "    <tr>\n",
       "      <th>3</th>\n",
       "      <td>9mtrkmet8rjnpya4.ru</td>\n",
       "      <td>yes</td>\n",
       "      <td>2</td>\n",
       "    </tr>\n",
       "    <tr>\n",
       "      <th>72</th>\n",
       "      <td>hft7aej7j8v3lef2.net</td>\n",
       "      <td>yes</td>\n",
       "      <td>2</td>\n",
       "    </tr>\n",
       "    <tr>\n",
       "      <th>104</th>\n",
       "      <td>fkvcyd54agu2ywtg.cn</td>\n",
       "      <td>yes</td>\n",
       "      <td>2</td>\n",
       "    </tr>\n",
       "    <tr>\n",
       "      <th>137</th>\n",
       "      <td>dbd5r2yfduh00apw.biz</td>\n",
       "      <td>yes</td>\n",
       "      <td>2</td>\n",
       "    </tr>\n",
       "    <tr>\n",
       "      <th>138</th>\n",
       "      <td>631w0kgnvsowppy4.biz</td>\n",
       "      <td>yes</td>\n",
       "      <td>2</td>\n",
       "    </tr>\n",
       "    <tr>\n",
       "      <th>...</th>\n",
       "      <td>...</td>\n",
       "      <td>...</td>\n",
       "      <td>...</td>\n",
       "    </tr>\n",
       "    <tr>\n",
       "      <th>1599757</th>\n",
       "      <td>5t7zgfv6pzl6nxwc.net</td>\n",
       "      <td>yes</td>\n",
       "      <td>2</td>\n",
       "    </tr>\n",
       "    <tr>\n",
       "      <th>1599797</th>\n",
       "      <td>ajczzwbxpn3lvy1r.biz</td>\n",
       "      <td>yes</td>\n",
       "      <td>2</td>\n",
       "    </tr>\n",
       "    <tr>\n",
       "      <th>1599823</th>\n",
       "      <td>hejo59u75evcr7mn.info</td>\n",
       "      <td>yes</td>\n",
       "      <td>2</td>\n",
       "    </tr>\n",
       "    <tr>\n",
       "      <th>1599825</th>\n",
       "      <td>0knotsa5jfqvz8he.biz</td>\n",
       "      <td>yes</td>\n",
       "      <td>2</td>\n",
       "    </tr>\n",
       "    <tr>\n",
       "      <th>1599832</th>\n",
       "      <td>ceik2lvfgxgwbk8x.info</td>\n",
       "      <td>yes</td>\n",
       "      <td>2</td>\n",
       "    </tr>\n",
       "  </tbody>\n",
       "</table>\n",
       "<p>28944 rows × 3 columns</p>\n",
       "</div>"
      ],
      "text/plain": [
       "                        domain  dga  class\n",
       "3          9mtrkmet8rjnpya4.ru  yes      2\n",
       "72        hft7aej7j8v3lef2.net  yes      2\n",
       "104        fkvcyd54agu2ywtg.cn  yes      2\n",
       "137       dbd5r2yfduh00apw.biz  yes      2\n",
       "138       631w0kgnvsowppy4.biz  yes      2\n",
       "...                        ...  ...    ...\n",
       "1599757   5t7zgfv6pzl6nxwc.net  yes      2\n",
       "1599797   ajczzwbxpn3lvy1r.biz  yes      2\n",
       "1599823  hejo59u75evcr7mn.info  yes      2\n",
       "1599825   0knotsa5jfqvz8he.biz  yes      2\n",
       "1599832  ceik2lvfgxgwbk8x.info  yes      2\n",
       "\n",
       "[28944 rows x 3 columns]"
      ]
     },
     "execution_count": 59,
     "metadata": {},
     "output_type": "execute_result"
    }
   ],
   "source": [
    "dga_2"
   ]
  },
  {
   "cell_type": "code",
   "execution_count": 60,
   "id": "8e235101-ba85-45db-bf66-1d055c30ed0b",
   "metadata": {},
   "outputs": [],
   "source": [
    "dga_2_domain = '9mtrkmet8rjnpya4.ru'"
   ]
  },
  {
   "cell_type": "code",
   "execution_count": 61,
   "id": "28d55e35-9a02-43d2-8408-e26e9be211b5",
   "metadata": {},
   "outputs": [],
   "source": [
    "dga_2_sub = sub_domain(dga_2_domain)"
   ]
  },
  {
   "cell_type": "code",
   "execution_count": 62,
   "id": "ec3e93a7-f5be-40c8-b8cf-fdc723f3e4e7",
   "metadata": {},
   "outputs": [
    {
     "data": {
      "text/plain": [
       "'9mtrkmet8rjnpya4'"
      ]
     },
     "execution_count": 62,
     "metadata": {},
     "output_type": "execute_result"
    }
   ],
   "source": [
    "dga_2_sub"
   ]
  },
  {
   "cell_type": "markdown",
   "id": "e784a827-f9bf-4b74-b1b2-943166027805",
   "metadata": {},
   "source": [
    "자음 : bcdfghjklmnpqrstvwxyz"
   ]
  },
  {
   "cell_type": "code",
   "execution_count": 8,
   "id": "a42e308a-3d54-4070-a690-a1d738d008f4",
   "metadata": {},
   "outputs": [],
   "source": [
    "import re"
   ]
  },
  {
   "cell_type": "code",
   "execution_count": 64,
   "id": "4890a015-2819-42a6-ad64-e8c339afed3e",
   "metadata": {},
   "outputs": [],
   "source": [
    "pattern = re.compile(r'[bcdfghjklmnpqrstvwxyz]{3,}')"
   ]
  },
  {
   "cell_type": "code",
   "execution_count": 65,
   "id": "cef6ff02-c851-4508-ae87-608866225478",
   "metadata": {},
   "outputs": [],
   "source": [
    "match = pattern.findall(dga_2_sub)"
   ]
  },
  {
   "cell_type": "code",
   "execution_count": 66,
   "id": "69d4d9b3-8dd7-40fe-b566-b676608358c5",
   "metadata": {},
   "outputs": [
    {
     "data": {
      "text/plain": [
       "2"
      ]
     },
     "execution_count": 66,
     "metadata": {},
     "output_type": "execute_result"
    }
   ],
   "source": [
    "len(match)"
   ]
  },
  {
   "cell_type": "code",
   "execution_count": 67,
   "id": "e5269d95-ac8a-4a13-8a85-837260529496",
   "metadata": {},
   "outputs": [
    {
     "data": {
      "text/plain": [
       "'9mtrkmet8rjnpya4'"
      ]
     },
     "execution_count": 67,
     "metadata": {},
     "output_type": "execute_result"
    }
   ],
   "source": [
    "dga_2_sub"
   ]
  },
  {
   "cell_type": "code",
   "execution_count": 68,
   "id": "d433e411-9114-47ee-8a50-fd26c7edbd8a",
   "metadata": {},
   "outputs": [],
   "source": [
    "def is_con(domain):\n",
    "    sub = sub_domain(domain)\n",
    "    \n",
    "    pattern = re.compile(r'[bcdfghjklmnpqrstvwxyz]{3,}')\n",
    "    match = pattern.findall(sub)\n",
    "    \n",
    "    return len(match)"
   ]
  },
  {
   "cell_type": "code",
   "execution_count": 69,
   "id": "19b1b2ab-d6dd-4bff-9001-7ab6be038498",
   "metadata": {},
   "outputs": [
    {
     "data": {
      "text/plain": [
       "1"
      ]
     },
     "execution_count": 69,
     "metadata": {},
     "output_type": "execute_result"
    }
   ],
   "source": [
    "is_con('fly.com')"
   ]
  },
  {
   "cell_type": "code",
   "execution_count": 70,
   "id": "288ea136-324e-427c-a90e-07597b856df3",
   "metadata": {},
   "outputs": [],
   "source": [
    "add_dataframe(dga, is_con,'is_con')"
   ]
  },
  {
   "cell_type": "code",
   "execution_count": 71,
   "id": "5b9036f1-7e5d-429f-9871-cd8008e30d43",
   "metadata": {},
   "outputs": [
    {
     "data": {
      "text/html": [
       "<div>\n",
       "<style scoped>\n",
       "    .dataframe tbody tr th:only-of-type {\n",
       "        vertical-align: middle;\n",
       "    }\n",
       "\n",
       "    .dataframe tbody tr th {\n",
       "        vertical-align: top;\n",
       "    }\n",
       "\n",
       "    .dataframe thead th {\n",
       "        text-align: right;\n",
       "    }\n",
       "</style>\n",
       "<table border=\"1\" class=\"dataframe\">\n",
       "  <thead>\n",
       "    <tr style=\"text-align: right;\">\n",
       "      <th></th>\n",
       "      <th>domain</th>\n",
       "      <th>is_con</th>\n",
       "      <th>sub_length</th>\n",
       "      <th>sub_domain</th>\n",
       "      <th>top_domain</th>\n",
       "      <th>dga</th>\n",
       "      <th>class</th>\n",
       "    </tr>\n",
       "  </thead>\n",
       "  <tbody>\n",
       "    <tr>\n",
       "      <th>0</th>\n",
       "      <td>vsviqe.com</td>\n",
       "      <td>1</td>\n",
       "      <td>6</td>\n",
       "      <td>vsviqe</td>\n",
       "      <td>com</td>\n",
       "      <td>yes</td>\n",
       "      <td>19</td>\n",
       "    </tr>\n",
       "    <tr>\n",
       "      <th>1</th>\n",
       "      <td>170qknj1onn4c37qf1w71rzei1h.org</td>\n",
       "      <td>1</td>\n",
       "      <td>27</td>\n",
       "      <td>170qknj1onn4c37qf1w71rzei1h</td>\n",
       "      <td>org</td>\n",
       "      <td>yes</td>\n",
       "      <td>6</td>\n",
       "    </tr>\n",
       "    <tr>\n",
       "      <th>2</th>\n",
       "      <td>smartidpro.in</td>\n",
       "      <td>1</td>\n",
       "      <td>10</td>\n",
       "      <td>smartidpro</td>\n",
       "      <td>in</td>\n",
       "      <td>no</td>\n",
       "      <td>0</td>\n",
       "    </tr>\n",
       "    <tr>\n",
       "      <th>3</th>\n",
       "      <td>9mtrkmet8rjnpya4.ru</td>\n",
       "      <td>2</td>\n",
       "      <td>16</td>\n",
       "      <td>9mtrkmet8rjnpya4</td>\n",
       "      <td>ru</td>\n",
       "      <td>yes</td>\n",
       "      <td>2</td>\n",
       "    </tr>\n",
       "    <tr>\n",
       "      <th>4</th>\n",
       "      <td>ypyxhi.com</td>\n",
       "      <td>1</td>\n",
       "      <td>6</td>\n",
       "      <td>ypyxhi</td>\n",
       "      <td>com</td>\n",
       "      <td>yes</td>\n",
       "      <td>19</td>\n",
       "    </tr>\n",
       "    <tr>\n",
       "      <th>...</th>\n",
       "      <td>...</td>\n",
       "      <td>...</td>\n",
       "      <td>...</td>\n",
       "      <td>...</td>\n",
       "      <td>...</td>\n",
       "      <td>...</td>\n",
       "      <td>...</td>\n",
       "    </tr>\n",
       "    <tr>\n",
       "      <th>1599995</th>\n",
       "      <td>10zpd8p1ktb8bg1al07c3rfkuqw.net</td>\n",
       "      <td>3</td>\n",
       "      <td>27</td>\n",
       "      <td>10zpd8p1ktb8bg1al07c3rfkuqw</td>\n",
       "      <td>net</td>\n",
       "      <td>yes</td>\n",
       "      <td>6</td>\n",
       "    </tr>\n",
       "    <tr>\n",
       "      <th>1599996</th>\n",
       "      <td>acheemprego.com</td>\n",
       "      <td>1</td>\n",
       "      <td>11</td>\n",
       "      <td>acheemprego</td>\n",
       "      <td>com</td>\n",
       "      <td>no</td>\n",
       "      <td>0</td>\n",
       "    </tr>\n",
       "    <tr>\n",
       "      <th>1599997</th>\n",
       "      <td>dtvvqs.com</td>\n",
       "      <td>1</td>\n",
       "      <td>6</td>\n",
       "      <td>dtvvqs</td>\n",
       "      <td>com</td>\n",
       "      <td>yes</td>\n",
       "      <td>19</td>\n",
       "    </tr>\n",
       "    <tr>\n",
       "      <th>1599998</th>\n",
       "      <td>qurtpwncfwhjke.pw</td>\n",
       "      <td>1</td>\n",
       "      <td>14</td>\n",
       "      <td>qurtpwncfwhjke</td>\n",
       "      <td>pw</td>\n",
       "      <td>yes</td>\n",
       "      <td>7</td>\n",
       "    </tr>\n",
       "    <tr>\n",
       "      <th>1599999</th>\n",
       "      <td>p148e12d7c430db3c04635de27e343c625.ws</td>\n",
       "      <td>0</td>\n",
       "      <td>34</td>\n",
       "      <td>p148e12d7c430db3c04635de27e343c625</td>\n",
       "      <td>ws</td>\n",
       "      <td>yes</td>\n",
       "      <td>5</td>\n",
       "    </tr>\n",
       "  </tbody>\n",
       "</table>\n",
       "<p>1600000 rows × 7 columns</p>\n",
       "</div>"
      ],
      "text/plain": [
       "                                        domain  is_con  sub_length  \\\n",
       "0                                   vsviqe.com       1           6   \n",
       "1              170qknj1onn4c37qf1w71rzei1h.org       1          27   \n",
       "2                                smartidpro.in       1          10   \n",
       "3                          9mtrkmet8rjnpya4.ru       2          16   \n",
       "4                                   ypyxhi.com       1           6   \n",
       "...                                        ...     ...         ...   \n",
       "1599995        10zpd8p1ktb8bg1al07c3rfkuqw.net       3          27   \n",
       "1599996                        acheemprego.com       1          11   \n",
       "1599997                             dtvvqs.com       1           6   \n",
       "1599998                      qurtpwncfwhjke.pw       1          14   \n",
       "1599999  p148e12d7c430db3c04635de27e343c625.ws       0          34   \n",
       "\n",
       "                                 sub_domain top_domain  dga  class  \n",
       "0                                    vsviqe        com  yes     19  \n",
       "1               170qknj1onn4c37qf1w71rzei1h        org  yes      6  \n",
       "2                                smartidpro         in   no      0  \n",
       "3                          9mtrkmet8rjnpya4         ru  yes      2  \n",
       "4                                    ypyxhi        com  yes     19  \n",
       "...                                     ...        ...  ...    ...  \n",
       "1599995         10zpd8p1ktb8bg1al07c3rfkuqw        net  yes      6  \n",
       "1599996                         acheemprego        com   no      0  \n",
       "1599997                              dtvvqs        com  yes     19  \n",
       "1599998                      qurtpwncfwhjke         pw  yes      7  \n",
       "1599999  p148e12d7c430db3c04635de27e343c625         ws  yes      5  \n",
       "\n",
       "[1600000 rows x 7 columns]"
      ]
     },
     "execution_count": 71,
     "metadata": {},
     "output_type": "execute_result"
    }
   ],
   "source": [
    "dga"
   ]
  },
  {
   "cell_type": "code",
   "execution_count": 72,
   "id": "362b2ef4-b3ea-4edc-b236-a694dc73330c",
   "metadata": {},
   "outputs": [
    {
     "data": {
      "image/png": "[encoded data removed]",
      "text/plain": [
       "<Figure size 701.25x216 with 1 Axes>"
      ]
     },
     "metadata": {
      "needs_background": "light"
     },
     "output_type": "display_data"
    }
   ],
   "source": [
    "facet = sns.FacetGrid(dga, hue='dga', aspect=3)\n",
    "facet.map(sns.kdeplot, 'is_con', shade=True)\n",
    "facet.set(xlim=(0,dga['is_con'].max()))\n",
    "facet.add_legend()\n",
    "plt.show()"
   ]
  },
  {
   "cell_type": "markdown",
   "id": "7d701a11-584f-4808-8d40-e8aeeb261405",
   "metadata": {
    "tags": []
   },
   "source": [
    "### 자음과 모음의 비율 찾기"
   ]
  },
  {
   "cell_type": "markdown",
   "id": "67dc3ddb-e5b1-4b33-92b5-2251c7073f4a",
   "metadata": {},
   "source": [
    "자음 : bcdfghjklmnpqrstvwxyz\n",
    "\n",
    "모음 : aeiou"
   ]
  },
  {
   "cell_type": "code",
   "execution_count": 73,
   "id": "fe253dfb-5d04-404b-8cf9-63da9ca376be",
   "metadata": {
    "tags": []
   },
   "outputs": [
    {
     "data": {
      "text/html": [
       "<div>\n",
       "<style scoped>\n",
       "    .dataframe tbody tr th:only-of-type {\n",
       "        vertical-align: middle;\n",
       "    }\n",
       "\n",
       "    .dataframe tbody tr th {\n",
       "        vertical-align: top;\n",
       "    }\n",
       "\n",
       "    .dataframe thead th {\n",
       "        text-align: right;\n",
       "    }\n",
       "</style>\n",
       "<table border=\"1\" class=\"dataframe\">\n",
       "  <thead>\n",
       "    <tr style=\"text-align: right;\">\n",
       "      <th></th>\n",
       "      <th>domain</th>\n",
       "      <th>top_domain</th>\n",
       "      <th>dga</th>\n",
       "      <th>class</th>\n",
       "    </tr>\n",
       "  </thead>\n",
       "  <tbody>\n",
       "    <tr>\n",
       "      <th>257</th>\n",
       "      <td>b6427368140624515a0ee4c29d27b789.info</td>\n",
       "      <td>info</td>\n",
       "      <td>yes</td>\n",
       "      <td>1</td>\n",
       "    </tr>\n",
       "    <tr>\n",
       "      <th>800</th>\n",
       "      <td>6e3772dd01644a88e16b0dbe2a6c0d36.org</td>\n",
       "      <td>org</td>\n",
       "      <td>yes</td>\n",
       "      <td>1</td>\n",
       "    </tr>\n",
       "    <tr>\n",
       "      <th>1731</th>\n",
       "      <td>1c7fadd66c9fbb16cd1dcd38d743f263.org</td>\n",
       "      <td>org</td>\n",
       "      <td>yes</td>\n",
       "      <td>1</td>\n",
       "    </tr>\n",
       "    <tr>\n",
       "      <th>4462</th>\n",
       "      <td>773683efbacb0bb70b75322c7e4662b9.info</td>\n",
       "      <td>info</td>\n",
       "      <td>yes</td>\n",
       "      <td>1</td>\n",
       "    </tr>\n",
       "    <tr>\n",
       "      <th>5435</th>\n",
       "      <td>4a51234e6e87c3c793592df62508a7d4.info</td>\n",
       "      <td>info</td>\n",
       "      <td>yes</td>\n",
       "      <td>1</td>\n",
       "    </tr>\n",
       "    <tr>\n",
       "      <th>...</th>\n",
       "      <td>...</td>\n",
       "      <td>...</td>\n",
       "      <td>...</td>\n",
       "      <td>...</td>\n",
       "    </tr>\n",
       "    <tr>\n",
       "      <th>1589137</th>\n",
       "      <td>7a7e47b55b0162d673231eb87881b07a.org</td>\n",
       "      <td>org</td>\n",
       "      <td>yes</td>\n",
       "      <td>1</td>\n",
       "    </tr>\n",
       "    <tr>\n",
       "      <th>1590363</th>\n",
       "      <td>7f200216723deebc7c91b324fc0962ad.org</td>\n",
       "      <td>org</td>\n",
       "      <td>yes</td>\n",
       "      <td>1</td>\n",
       "    </tr>\n",
       "    <tr>\n",
       "      <th>1594675</th>\n",
       "      <td>ed6cd7bcc51974b2a76909b46c3c8696.org</td>\n",
       "      <td>org</td>\n",
       "      <td>yes</td>\n",
       "      <td>1</td>\n",
       "    </tr>\n",
       "    <tr>\n",
       "      <th>1596475</th>\n",
       "      <td>d86e4bd4f58b94de0cbf326ac4be7087.org</td>\n",
       "      <td>org</td>\n",
       "      <td>yes</td>\n",
       "      <td>1</td>\n",
       "    </tr>\n",
       "    <tr>\n",
       "      <th>1598316</th>\n",
       "      <td>6a97671109629d33769d9e6a07193dd2.org</td>\n",
       "      <td>org</td>\n",
       "      <td>yes</td>\n",
       "      <td>1</td>\n",
       "    </tr>\n",
       "  </tbody>\n",
       "</table>\n",
       "<p>754 rows × 4 columns</p>\n",
       "</div>"
      ],
      "text/plain": [
       "                                        domain top_domain  dga  class\n",
       "257      b6427368140624515a0ee4c29d27b789.info       info  yes      1\n",
       "800       6e3772dd01644a88e16b0dbe2a6c0d36.org        org  yes      1\n",
       "1731      1c7fadd66c9fbb16cd1dcd38d743f263.org        org  yes      1\n",
       "4462     773683efbacb0bb70b75322c7e4662b9.info       info  yes      1\n",
       "5435     4a51234e6e87c3c793592df62508a7d4.info       info  yes      1\n",
       "...                                        ...        ...  ...    ...\n",
       "1589137   7a7e47b55b0162d673231eb87881b07a.org        org  yes      1\n",
       "1590363   7f200216723deebc7c91b324fc0962ad.org        org  yes      1\n",
       "1594675   ed6cd7bcc51974b2a76909b46c3c8696.org        org  yes      1\n",
       "1596475   d86e4bd4f58b94de0cbf326ac4be7087.org        org  yes      1\n",
       "1598316   6a97671109629d33769d9e6a07193dd2.org        org  yes      1\n",
       "\n",
       "[754 rows x 4 columns]"
      ]
     },
     "execution_count": 73,
     "metadata": {},
     "output_type": "execute_result"
    }
   ],
   "source": [
    "dga_1"
   ]
  },
  {
   "cell_type": "code",
   "execution_count": 74,
   "id": "ba3d8c2b-3fa5-499d-8abf-aa4fd050913b",
   "metadata": {},
   "outputs": [],
   "source": [
    "dga_1_domain = 'b6427368140624515a0ee4c29d27b789.info'"
   ]
  },
  {
   "cell_type": "code",
   "execution_count": 75,
   "id": "f580edf8-4ae9-4def-9564-54c0952ce99a",
   "metadata": {},
   "outputs": [],
   "source": [
    "dga_1_sub = sub_domain(dga_1_domain)"
   ]
  },
  {
   "cell_type": "code",
   "execution_count": 76,
   "id": "222179b2-6ab7-4d14-92e7-3b2e379f7f17",
   "metadata": {},
   "outputs": [],
   "source": [
    "pattern_con = re.compile(r'[bcdfghjklmnpqrstvwxyz]')\n",
    "pattern_vow = re.compile(r'[aeiou]')\n"
   ]
  },
  {
   "cell_type": "code",
   "execution_count": 77,
   "id": "ff3844b6-2c87-41f0-9e54-b504df359b76",
   "metadata": {},
   "outputs": [],
   "source": [
    "match_con = pattern_con.findall(dga_1_sub)\n",
    "match_vow = pattern_vow.findall(dga_1_sub)"
   ]
  },
  {
   "cell_type": "code",
   "execution_count": 78,
   "id": "1e6ae6c4-7e6f-440e-8bf4-a72702e8a4d9",
   "metadata": {},
   "outputs": [
    {
     "data": {
      "text/plain": [
       "0.125"
      ]
     },
     "execution_count": 78,
     "metadata": {},
     "output_type": "execute_result"
    }
   ],
   "source": [
    "len(match_con)/sub_length(dga_1_domain)"
   ]
  },
  {
   "cell_type": "code",
   "execution_count": 79,
   "id": "e6e1f640-696c-4ac8-9515-a298aba85ad1",
   "metadata": {},
   "outputs": [
    {
     "data": {
      "text/plain": [
       "0.09375"
      ]
     },
     "execution_count": 79,
     "metadata": {},
     "output_type": "execute_result"
    }
   ],
   "source": [
    "len(match_vow)/sub_length(dga_1_domain)"
   ]
  },
  {
   "cell_type": "code",
   "execution_count": 80,
   "id": "02cf355f-5ac1-45c6-959a-dd1b21bfabfc",
   "metadata": {},
   "outputs": [],
   "source": [
    "def rate_con(domain):\n",
    "    sub = sub_domain(domain)\n",
    "    \n",
    "    pattern_con = re.compile(r'[bcdfghjklmnpqrstvwxyz]')\n",
    "    match_con = pattern_con.findall(sub)\n",
    "    \n",
    "    rate = round(len(match_con)/len(sub),5)\n",
    "    \n",
    "    return rate"
   ]
  },
  {
   "cell_type": "code",
   "execution_count": 81,
   "id": "18362d3d-ad6b-4ed0-9bcc-7ba61b4ebf91",
   "metadata": {},
   "outputs": [],
   "source": [
    "def rate_vow(domain):\n",
    "    sub = sub_domain(domain)\n",
    "    \n",
    "    pattern_vow = re.compile(r'[aeiou]')\n",
    "    match_vow = pattern_vow.findall(sub)\n",
    "    \n",
    "    rate = round(len(match_vow)/len(sub),5)\n",
    "    \n",
    "    return rate"
   ]
  },
  {
   "cell_type": "code",
   "execution_count": 82,
   "id": "4e8353ca-8aaf-4f94-8fcf-eba6858148b4",
   "metadata": {
    "tags": []
   },
   "outputs": [
    {
     "data": {
      "text/plain": [
       "0.6"
      ]
     },
     "execution_count": 82,
     "metadata": {},
     "output_type": "execute_result"
    }
   ],
   "source": [
    "rate_con('naver.com')"
   ]
  },
  {
   "cell_type": "code",
   "execution_count": 83,
   "id": "1edaad4d-9467-487b-a01c-f98b445e9353",
   "metadata": {},
   "outputs": [],
   "source": [
    "add_dataframe(dga, rate_con,'rate_con')"
   ]
  },
  {
   "cell_type": "code",
   "execution_count": 84,
   "id": "a2a3b7d3-1b3f-4fc4-8e28-bdf85327d08d",
   "metadata": {},
   "outputs": [
    {
     "data": {
      "text/plain": [
       "0.4"
      ]
     },
     "execution_count": 84,
     "metadata": {},
     "output_type": "execute_result"
    }
   ],
   "source": [
    "rate_vow('naver.com')"
   ]
  },
  {
   "cell_type": "code",
   "execution_count": 85,
   "id": "188aeb42-4025-4529-bc7f-3952ff82259b",
   "metadata": {},
   "outputs": [],
   "source": [
    "add_dataframe(dga, rate_vow,'rate_vow')"
   ]
  },
  {
   "cell_type": "code",
   "execution_count": 86,
   "id": "6648baf5-0730-4872-a5f4-4eebaf0bd1d7",
   "metadata": {},
   "outputs": [
    {
     "data": {
      "image/png": "[encoded data removed]",
      "text/plain": [
       "<Figure size 701.25x216 with 1 Axes>"
      ]
     },
     "metadata": {
      "needs_background": "light"
     },
     "output_type": "display_data"
    }
   ],
   "source": [
    "facet = sns.FacetGrid(dga, hue='dga', aspect=3)\n",
    "facet.map(sns.kdeplot, 'rate_vow', shade=True)\n",
    "facet.set(xlim=(0,dga['rate_vow'].max()))\n",
    "facet.add_legend()\n",
    "plt.show()"
   ]
  },
  {
   "cell_type": "markdown",
   "id": "22aac091-b947-48d3-b5ec-7375c02b68ae",
   "metadata": {},
   "source": [
    "### 숫자의 분포 찾기"
   ]
  },
  {
   "cell_type": "code",
   "execution_count": 87,
   "id": "5abdb839-d663-428c-8c91-997d626244fb",
   "metadata": {
    "tags": []
   },
   "outputs": [
    {
     "data": {
      "text/html": [
       "<div>\n",
       "<style scoped>\n",
       "    .dataframe tbody tr th:only-of-type {\n",
       "        vertical-align: middle;\n",
       "    }\n",
       "\n",
       "    .dataframe tbody tr th {\n",
       "        vertical-align: top;\n",
       "    }\n",
       "\n",
       "    .dataframe thead th {\n",
       "        text-align: right;\n",
       "    }\n",
       "</style>\n",
       "<table border=\"1\" class=\"dataframe\">\n",
       "  <thead>\n",
       "    <tr style=\"text-align: right;\">\n",
       "      <th></th>\n",
       "      <th>domain</th>\n",
       "      <th>top_domain</th>\n",
       "      <th>dga</th>\n",
       "      <th>class</th>\n",
       "    </tr>\n",
       "  </thead>\n",
       "  <tbody>\n",
       "    <tr>\n",
       "      <th>257</th>\n",
       "      <td>b6427368140624515a0ee4c29d27b789.info</td>\n",
       "      <td>info</td>\n",
       "      <td>yes</td>\n",
       "      <td>1</td>\n",
       "    </tr>\n",
       "    <tr>\n",
       "      <th>800</th>\n",
       "      <td>6e3772dd01644a88e16b0dbe2a6c0d36.org</td>\n",
       "      <td>org</td>\n",
       "      <td>yes</td>\n",
       "      <td>1</td>\n",
       "    </tr>\n",
       "    <tr>\n",
       "      <th>1731</th>\n",
       "      <td>1c7fadd66c9fbb16cd1dcd38d743f263.org</td>\n",
       "      <td>org</td>\n",
       "      <td>yes</td>\n",
       "      <td>1</td>\n",
       "    </tr>\n",
       "    <tr>\n",
       "      <th>4462</th>\n",
       "      <td>773683efbacb0bb70b75322c7e4662b9.info</td>\n",
       "      <td>info</td>\n",
       "      <td>yes</td>\n",
       "      <td>1</td>\n",
       "    </tr>\n",
       "    <tr>\n",
       "      <th>5435</th>\n",
       "      <td>4a51234e6e87c3c793592df62508a7d4.info</td>\n",
       "      <td>info</td>\n",
       "      <td>yes</td>\n",
       "      <td>1</td>\n",
       "    </tr>\n",
       "    <tr>\n",
       "      <th>...</th>\n",
       "      <td>...</td>\n",
       "      <td>...</td>\n",
       "      <td>...</td>\n",
       "      <td>...</td>\n",
       "    </tr>\n",
       "    <tr>\n",
       "      <th>1589137</th>\n",
       "      <td>7a7e47b55b0162d673231eb87881b07a.org</td>\n",
       "      <td>org</td>\n",
       "      <td>yes</td>\n",
       "      <td>1</td>\n",
       "    </tr>\n",
       "    <tr>\n",
       "      <th>1590363</th>\n",
       "      <td>7f200216723deebc7c91b324fc0962ad.org</td>\n",
       "      <td>org</td>\n",
       "      <td>yes</td>\n",
       "      <td>1</td>\n",
       "    </tr>\n",
       "    <tr>\n",
       "      <th>1594675</th>\n",
       "      <td>ed6cd7bcc51974b2a76909b46c3c8696.org</td>\n",
       "      <td>org</td>\n",
       "      <td>yes</td>\n",
       "      <td>1</td>\n",
       "    </tr>\n",
       "    <tr>\n",
       "      <th>1596475</th>\n",
       "      <td>d86e4bd4f58b94de0cbf326ac4be7087.org</td>\n",
       "      <td>org</td>\n",
       "      <td>yes</td>\n",
       "      <td>1</td>\n",
       "    </tr>\n",
       "    <tr>\n",
       "      <th>1598316</th>\n",
       "      <td>6a97671109629d33769d9e6a07193dd2.org</td>\n",
       "      <td>org</td>\n",
       "      <td>yes</td>\n",
       "      <td>1</td>\n",
       "    </tr>\n",
       "  </tbody>\n",
       "</table>\n",
       "<p>754 rows × 4 columns</p>\n",
       "</div>"
      ],
      "text/plain": [
       "                                        domain top_domain  dga  class\n",
       "257      b6427368140624515a0ee4c29d27b789.info       info  yes      1\n",
       "800       6e3772dd01644a88e16b0dbe2a6c0d36.org        org  yes      1\n",
       "1731      1c7fadd66c9fbb16cd1dcd38d743f263.org        org  yes      1\n",
       "4462     773683efbacb0bb70b75322c7e4662b9.info       info  yes      1\n",
       "5435     4a51234e6e87c3c793592df62508a7d4.info       info  yes      1\n",
       "...                                        ...        ...  ...    ...\n",
       "1589137   7a7e47b55b0162d673231eb87881b07a.org        org  yes      1\n",
       "1590363   7f200216723deebc7c91b324fc0962ad.org        org  yes      1\n",
       "1594675   ed6cd7bcc51974b2a76909b46c3c8696.org        org  yes      1\n",
       "1596475   d86e4bd4f58b94de0cbf326ac4be7087.org        org  yes      1\n",
       "1598316   6a97671109629d33769d9e6a07193dd2.org        org  yes      1\n",
       "\n",
       "[754 rows x 4 columns]"
      ]
     },
     "execution_count": 87,
     "metadata": {},
     "output_type": "execute_result"
    }
   ],
   "source": [
    "dga_1"
   ]
  },
  {
   "cell_type": "code",
   "execution_count": 88,
   "id": "d825713e-aef9-49c6-918c-b1a5d304e5fc",
   "metadata": {},
   "outputs": [],
   "source": [
    "dga_1_domain = 'b6427368140624515a0ee4c29d27b789.info'"
   ]
  },
  {
   "cell_type": "code",
   "execution_count": 89,
   "id": "0c511c73-bacc-40bb-a0ed-8a8a7c794796",
   "metadata": {},
   "outputs": [],
   "source": [
    "dga_1_sub = sub_domain(dga_1_domain)"
   ]
  },
  {
   "cell_type": "code",
   "execution_count": 90,
   "id": "28cd6a9e-f303-4593-b67e-e6e276e6085f",
   "metadata": {},
   "outputs": [
    {
     "data": {
      "text/plain": [
       "'b6427368140624515a0ee4c29d27b789'"
      ]
     },
     "execution_count": 90,
     "metadata": {},
     "output_type": "execute_result"
    }
   ],
   "source": [
    "dga_1_sub"
   ]
  },
  {
   "cell_type": "code",
   "execution_count": 91,
   "id": "f01143d3-e466-45bd-b3f0-cf78d2b94b68",
   "metadata": {},
   "outputs": [],
   "source": [
    "pattern = re.compile('[0-9]{1,}')"
   ]
  },
  {
   "cell_type": "code",
   "execution_count": 92,
   "id": "35ada1f7-759e-4250-8425-b64a3ede1524",
   "metadata": {},
   "outputs": [],
   "source": [
    "match = pattern.findall(dga_1_sub)"
   ]
  },
  {
   "cell_type": "code",
   "execution_count": 93,
   "id": "76b06834-7f21-4d50-b38d-e332c10f9f3e",
   "metadata": {},
   "outputs": [
    {
     "data": {
      "text/plain": [
       "['6427368140624515', '0', '4', '29', '27', '789']"
      ]
     },
     "execution_count": 93,
     "metadata": {},
     "output_type": "execute_result"
    }
   ],
   "source": [
    "match"
   ]
  },
  {
   "cell_type": "code",
   "execution_count": 94,
   "id": "105a572b-6bc0-4775-a6ee-1b259815144d",
   "metadata": {},
   "outputs": [],
   "source": [
    "def dist_num(domain):\n",
    "    sub = sub_domain(domain)\n",
    "    \n",
    "    pattern = re.compile('[0-9]{1,}')\n",
    "    match = pattern.findall(sub)\n",
    "    \n",
    "    return len(match)"
   ]
  },
  {
   "cell_type": "code",
   "execution_count": 95,
   "id": "5b86cbe4-64a3-4f09-aeb9-e925e9faf11d",
   "metadata": {},
   "outputs": [
    {
     "data": {
      "text/plain": [
       "9"
      ]
     },
     "execution_count": 95,
     "metadata": {},
     "output_type": "execute_result"
    }
   ],
   "source": [
    "dist_num('1c7fadd66c9fbb16cd1dcd38d743f263.org')"
   ]
  },
  {
   "cell_type": "code",
   "execution_count": 96,
   "id": "22eccf82-550e-4420-a3c0-742bd1c5c417",
   "metadata": {},
   "outputs": [],
   "source": [
    "add_dataframe(dga, dist_num,'dist_num')"
   ]
  },
  {
   "cell_type": "code",
   "execution_count": 97,
   "id": "c591fbba-d951-4319-b1cb-670178cab0fb",
   "metadata": {
    "tags": []
   },
   "outputs": [
    {
     "data": {
      "text/html": [
       "<div>\n",
       "<style scoped>\n",
       "    .dataframe tbody tr th:only-of-type {\n",
       "        vertical-align: middle;\n",
       "    }\n",
       "\n",
       "    .dataframe tbody tr th {\n",
       "        vertical-align: top;\n",
       "    }\n",
       "\n",
       "    .dataframe thead th {\n",
       "        text-align: right;\n",
       "    }\n",
       "</style>\n",
       "<table border=\"1\" class=\"dataframe\">\n",
       "  <thead>\n",
       "    <tr style=\"text-align: right;\">\n",
       "      <th></th>\n",
       "      <th>domain</th>\n",
       "      <th>dist_num</th>\n",
       "      <th>rate_vow</th>\n",
       "      <th>rate_con</th>\n",
       "      <th>is_con</th>\n",
       "      <th>sub_length</th>\n",
       "      <th>sub_domain</th>\n",
       "      <th>top_domain</th>\n",
       "      <th>dga</th>\n",
       "      <th>class</th>\n",
       "    </tr>\n",
       "  </thead>\n",
       "  <tbody>\n",
       "    <tr>\n",
       "      <th>0</th>\n",
       "      <td>vsviqe.com</td>\n",
       "      <td>0</td>\n",
       "      <td>0.33333</td>\n",
       "      <td>0.66667</td>\n",
       "      <td>1</td>\n",
       "      <td>6</td>\n",
       "      <td>vsviqe</td>\n",
       "      <td>com</td>\n",
       "      <td>yes</td>\n",
       "      <td>19</td>\n",
       "    </tr>\n",
       "    <tr>\n",
       "      <th>1</th>\n",
       "      <td>170qknj1onn4c37qf1w71rzei1h.org</td>\n",
       "      <td>7</td>\n",
       "      <td>0.11111</td>\n",
       "      <td>0.48148</td>\n",
       "      <td>1</td>\n",
       "      <td>27</td>\n",
       "      <td>170qknj1onn4c37qf1w71rzei1h</td>\n",
       "      <td>org</td>\n",
       "      <td>yes</td>\n",
       "      <td>6</td>\n",
       "    </tr>\n",
       "    <tr>\n",
       "      <th>2</th>\n",
       "      <td>smartidpro.in</td>\n",
       "      <td>0</td>\n",
       "      <td>0.30000</td>\n",
       "      <td>0.70000</td>\n",
       "      <td>1</td>\n",
       "      <td>10</td>\n",
       "      <td>smartidpro</td>\n",
       "      <td>in</td>\n",
       "      <td>no</td>\n",
       "      <td>0</td>\n",
       "    </tr>\n",
       "    <tr>\n",
       "      <th>3</th>\n",
       "      <td>9mtrkmet8rjnpya4.ru</td>\n",
       "      <td>3</td>\n",
       "      <td>0.12500</td>\n",
       "      <td>0.68750</td>\n",
       "      <td>2</td>\n",
       "      <td>16</td>\n",
       "      <td>9mtrkmet8rjnpya4</td>\n",
       "      <td>ru</td>\n",
       "      <td>yes</td>\n",
       "      <td>2</td>\n",
       "    </tr>\n",
       "    <tr>\n",
       "      <th>4</th>\n",
       "      <td>ypyxhi.com</td>\n",
       "      <td>0</td>\n",
       "      <td>0.16667</td>\n",
       "      <td>0.83333</td>\n",
       "      <td>1</td>\n",
       "      <td>6</td>\n",
       "      <td>ypyxhi</td>\n",
       "      <td>com</td>\n",
       "      <td>yes</td>\n",
       "      <td>19</td>\n",
       "    </tr>\n",
       "    <tr>\n",
       "      <th>...</th>\n",
       "      <td>...</td>\n",
       "      <td>...</td>\n",
       "      <td>...</td>\n",
       "      <td>...</td>\n",
       "      <td>...</td>\n",
       "      <td>...</td>\n",
       "      <td>...</td>\n",
       "      <td>...</td>\n",
       "      <td>...</td>\n",
       "      <td>...</td>\n",
       "    </tr>\n",
       "    <tr>\n",
       "      <th>1599995</th>\n",
       "      <td>10zpd8p1ktb8bg1al07c3rfkuqw.net</td>\n",
       "      <td>7</td>\n",
       "      <td>0.07407</td>\n",
       "      <td>0.59259</td>\n",
       "      <td>3</td>\n",
       "      <td>27</td>\n",
       "      <td>10zpd8p1ktb8bg1al07c3rfkuqw</td>\n",
       "      <td>net</td>\n",
       "      <td>yes</td>\n",
       "      <td>6</td>\n",
       "    </tr>\n",
       "    <tr>\n",
       "      <th>1599996</th>\n",
       "      <td>acheemprego.com</td>\n",
       "      <td>0</td>\n",
       "      <td>0.45455</td>\n",
       "      <td>0.54545</td>\n",
       "      <td>1</td>\n",
       "      <td>11</td>\n",
       "      <td>acheemprego</td>\n",
       "      <td>com</td>\n",
       "      <td>no</td>\n",
       "      <td>0</td>\n",
       "    </tr>\n",
       "    <tr>\n",
       "      <th>1599997</th>\n",
       "      <td>dtvvqs.com</td>\n",
       "      <td>0</td>\n",
       "      <td>0.00000</td>\n",
       "      <td>1.00000</td>\n",
       "      <td>1</td>\n",
       "      <td>6</td>\n",
       "      <td>dtvvqs</td>\n",
       "      <td>com</td>\n",
       "      <td>yes</td>\n",
       "      <td>19</td>\n",
       "    </tr>\n",
       "    <tr>\n",
       "      <th>1599998</th>\n",
       "      <td>qurtpwncfwhjke.pw</td>\n",
       "      <td>0</td>\n",
       "      <td>0.14286</td>\n",
       "      <td>0.85714</td>\n",
       "      <td>1</td>\n",
       "      <td>14</td>\n",
       "      <td>qurtpwncfwhjke</td>\n",
       "      <td>pw</td>\n",
       "      <td>yes</td>\n",
       "      <td>7</td>\n",
       "    </tr>\n",
       "    <tr>\n",
       "      <th>1599999</th>\n",
       "      <td>p148e12d7c430db3c04635de27e343c625.ws</td>\n",
       "      <td>9</td>\n",
       "      <td>0.08824</td>\n",
       "      <td>0.23529</td>\n",
       "      <td>0</td>\n",
       "      <td>34</td>\n",
       "      <td>p148e12d7c430db3c04635de27e343c625</td>\n",
       "      <td>ws</td>\n",
       "      <td>yes</td>\n",
       "      <td>5</td>\n",
       "    </tr>\n",
       "  </tbody>\n",
       "</table>\n",
       "<p>1600000 rows × 10 columns</p>\n",
       "</div>"
      ],
      "text/plain": [
       "                                        domain  dist_num  rate_vow  rate_con  \\\n",
       "0                                   vsviqe.com         0   0.33333   0.66667   \n",
       "1              170qknj1onn4c37qf1w71rzei1h.org         7   0.11111   0.48148   \n",
       "2                                smartidpro.in         0   0.30000   0.70000   \n",
       "3                          9mtrkmet8rjnpya4.ru         3   0.12500   0.68750   \n",
       "4                                   ypyxhi.com         0   0.16667   0.83333   \n",
       "...                                        ...       ...       ...       ...   \n",
       "1599995        10zpd8p1ktb8bg1al07c3rfkuqw.net         7   0.07407   0.59259   \n",
       "1599996                        acheemprego.com         0   0.45455   0.54545   \n",
       "1599997                             dtvvqs.com         0   0.00000   1.00000   \n",
       "1599998                      qurtpwncfwhjke.pw         0   0.14286   0.85714   \n",
       "1599999  p148e12d7c430db3c04635de27e343c625.ws         9   0.08824   0.23529   \n",
       "\n",
       "         is_con  sub_length                          sub_domain top_domain  \\\n",
       "0             1           6                              vsviqe        com   \n",
       "1             1          27         170qknj1onn4c37qf1w71rzei1h        org   \n",
       "2             1          10                          smartidpro         in   \n",
       "3             2          16                    9mtrkmet8rjnpya4         ru   \n",
       "4             1           6                              ypyxhi        com   \n",
       "...         ...         ...                                 ...        ...   \n",
       "1599995       3          27         10zpd8p1ktb8bg1al07c3rfkuqw        net   \n",
       "1599996       1          11                         acheemprego        com   \n",
       "1599997       1           6                              dtvvqs        com   \n",
       "1599998       1          14                      qurtpwncfwhjke         pw   \n",
       "1599999       0          34  p148e12d7c430db3c04635de27e343c625         ws   \n",
       "\n",
       "         dga  class  \n",
       "0        yes     19  \n",
       "1        yes      6  \n",
       "2         no      0  \n",
       "3        yes      2  \n",
       "4        yes     19  \n",
       "...      ...    ...  \n",
       "1599995  yes      6  \n",
       "1599996   no      0  \n",
       "1599997  yes     19  \n",
       "1599998  yes      7  \n",
       "1599999  yes      5  \n",
       "\n",
       "[1600000 rows x 10 columns]"
      ]
     },
     "execution_count": 97,
     "metadata": {},
     "output_type": "execute_result"
    }
   ],
   "source": [
    "dga"
   ]
  },
  {
   "cell_type": "markdown",
   "id": "7a996d62-5311-49b6-8c71-fc1fe44bbf63",
   "metadata": {},
   "source": [
    "### n-gram 찾기"
   ]
  },
  {
   "cell_type": "markdown",
   "id": "311798f8-9988-477f-aa01-c2d777093968",
   "metadata": {},
   "source": [
    "naver.com\n",
    "---> google\n",
    "1gram = {g:2, o:2, l:1, e:1}\n",
    "2gram = {go:1, oo:1, og:1, gl:1, le:1}\n",
    "3gram = {goo:1, oog:1, ogl:1, gle:1}\n",
    "4gram = {goog:1, oogl:1, ogle:1}"
   ]
  },
  {
   "cell_type": "markdown",
   "id": "1292e3bb-3cac-4d6d-a14b-492d8346e457",
   "metadata": {},
   "source": [
    "#### 정상도메인에서 ngram 찾기\n",
    "- 1gram : 엔트로피에서 활용\n",
    "- 3,4,5gram : 활용"
   ]
  },
  {
   "cell_type": "code",
   "execution_count": null,
   "id": "a5a18974-a629-49d7-bece-af0fe3faed74",
   "metadata": {
    "tags": []
   },
   "outputs": [],
   "source": [
    "dga_0"
   ]
  },
  {
   "cell_type": "code",
   "execution_count": null,
   "id": "16be52db-88d7-41bb-b536-712fe4de6c79",
   "metadata": {},
   "outputs": [],
   "source": [
    "dga_0_domain = 'smartidpro.in'"
   ]
  },
  {
   "cell_type": "code",
   "execution_count": null,
   "id": "b4762ed3-60ff-42e9-a974-57c8da488cb3",
   "metadata": {},
   "outputs": [],
   "source": [
    "dga_0_sub = sub_domain(dga_0_domain)"
   ]
  },
  {
   "cell_type": "code",
   "execution_count": null,
   "id": "cddca32c-fe10-44e3-9aa2-d85c1ef5d4a3",
   "metadata": {},
   "outputs": [],
   "source": [
    "dga_0_sub"
   ]
  },
  {
   "cell_type": "code",
   "execution_count": null,
   "id": "3a235787-369b-4534-9f94-098c16f9eece",
   "metadata": {},
   "outputs": [],
   "source": [
    "gram_list=[]\n",
    "\n",
    "if len(dga_0_sub) < 3: #3-gram\n",
    "    pass\n",
    "else:\n",
    "    for sp in range(len(dga_0_sub)-2):\n",
    "        gram_list.append(dga_0_sub[sp:sp+3])\n",
    "gram_list"
   ]
  },
  {
   "cell_type": "code",
   "execution_count": null,
   "id": "3a981b67-f6e3-4b60-9468-dab4ce4cef67",
   "metadata": {},
   "outputs": [],
   "source": [
    "gram_list=[]\n",
    "\n",
    "if len(dga_0_sub) < 4: #4-gram\n",
    "    pass\n",
    "else:\n",
    "    for sp in range(len(dga_0_sub)-3):\n",
    "        gram_list.append(dga_0_sub[sp:sp+4])\n",
    "gram_list"
   ]
  },
  {
   "cell_type": "code",
   "execution_count": null,
   "id": "7ee9eb75-693e-4b56-9dbc-5f63cc6f7d71",
   "metadata": {},
   "outputs": [],
   "source": [
    "def ngram(domain, number):\n",
    "    sub = sub_domain(domain)\n",
    "    \n",
    "    gram_list=[]\n",
    "    if len(sub) < number:\n",
    "        pass\n",
    "    else:\n",
    "        for sp in range(len(sub)-(number-1)):\n",
    "            gram_list.append(sub[sp:sp+number])\n",
    "    return gram_list"
   ]
  },
  {
   "cell_type": "code",
   "execution_count": null,
   "id": "5d6a25e6-e3ce-48f1-9e6a-46187c2fa19d",
   "metadata": {},
   "outputs": [],
   "source": [
    "ngram('naver.com',3)"
   ]
  },
  {
   "cell_type": "code",
   "execution_count": null,
   "id": "d3fc5423-7618-496b-8ba6-168a6b41d981",
   "metadata": {},
   "outputs": [],
   "source": [
    "import pickle"
   ]
  },
  {
   "cell_type": "code",
   "execution_count": null,
   "id": "247f2d0b-3ea9-4a1b-91dd-11ca5c3f7ce7",
   "metadata": {},
   "outputs": [],
   "source": [
    "def make_ngram_dict(dataframe, number):\n",
    "    freqdict={}\n",
    "    domain_list = dataframe['domain'].tolist()\n",
    "    for domain in domain_list:\n",
    "        ngrams = ngram(domain, number)\n",
    "        for gram in ngrams:\n",
    "            if gram in freqdict:\n",
    "                freqdict[gram] += 1\n",
    "            else:\n",
    "                freqdict[gram] = 1\n",
    "    with open(str(number)+'_gram_dict.pkl','wb') as f:\n",
    "        pickle.dump(freqdict, f, pickle.HIGHEST_PROTOCOL)\n",
    "    f.close()\n",
    "    #return freqdict"
   ]
  },
  {
   "cell_type": "code",
   "execution_count": null,
   "id": "5ebe653c-c3c2-42f0-8587-0a27636c5d4c",
   "metadata": {
    "tags": []
   },
   "outputs": [],
   "source": [
    "dga_0"
   ]
  },
  {
   "cell_type": "markdown",
   "id": "347e6446-e457-4c44-8a06-1e45005f49eb",
   "metadata": {},
   "source": [
    "make_ngram_dict(dga_0, 1)"
   ]
  },
  {
   "cell_type": "markdown",
   "id": "4ecd110f-4218-4e1b-b414-04e93b371aa3",
   "metadata": {},
   "source": [
    "make_ngram_dict(dga_0, 3)"
   ]
  },
  {
   "cell_type": "markdown",
   "id": "0bc2613a-a0e0-4b6d-9cf7-e549b3085f6b",
   "metadata": {},
   "source": [
    "make_ngram_dict(dga_0, 4)"
   ]
  },
  {
   "cell_type": "markdown",
   "id": "21e40cd8-c865-4247-a196-fd7515ead14e",
   "metadata": {},
   "source": [
    "make_ngram_dict(dga_0, 5)"
   ]
  },
  {
   "cell_type": "code",
   "execution_count": null,
   "id": "06fc9ae9-bef9-4b96-b8e0-0e0282561ab0",
   "metadata": {},
   "outputs": [],
   "source": [
    "with open('5_gram_dict.pkl', 'rb') as f:\n",
    "    gram5 = pickle.load(f)\n",
    "f.close()"
   ]
  },
  {
   "cell_type": "code",
   "execution_count": null,
   "id": "29cee747-b108-4587-866d-96fdc5b65055",
   "metadata": {
    "tags": []
   },
   "outputs": [],
   "source": [
    "gram5"
   ]
  },
  {
   "cell_type": "code",
   "execution_count": null,
   "id": "daf24a10-4227-4035-8ff7-2698527cb2bd",
   "metadata": {
    "tags": []
   },
   "outputs": [],
   "source": [
    "dga_1"
   ]
  },
  {
   "cell_type": "code",
   "execution_count": null,
   "id": "a1009544-0e83-4eac-a77e-77c1e01f60e8",
   "metadata": {},
   "outputs": [],
   "source": [
    "dga_1_domain = 'youtube.com'"
   ]
  },
  {
   "cell_type": "code",
   "execution_count": null,
   "id": "2b9ff2ec-3c8a-456d-8b20-5fe98eb67fe4",
   "metadata": {},
   "outputs": [],
   "source": [
    "dga_1_ngram = ngram(dga_1_domain, 3)"
   ]
  },
  {
   "cell_type": "code",
   "execution_count": null,
   "id": "ed44037f-37ad-4823-8771-b2b3a0b58f66",
   "metadata": {},
   "outputs": [],
   "source": [
    "with open('3_gram_dict.pkl', 'rb') as f:\n",
    "    gram3 = pickle.load(f)\n",
    "f.close()"
   ]
  },
  {
   "cell_type": "code",
   "execution_count": null,
   "id": "cf2f8b32-37ca-430d-8460-cf8ceab09c8d",
   "metadata": {},
   "outputs": [],
   "source": [
    "total_score=0\n",
    "\n",
    "for gram in dga_1_ngram:\n",
    "    try:\n",
    "        score = gram3[gram]\n",
    "    except:\n",
    "        score = 0\n",
    "    total_score += score\n",
    "#print(total_score)"
   ]
  },
  {
   "cell_type": "code",
   "execution_count": null,
   "id": "d623276e-a5b8-46c2-bc11-6699d3f5c7ce",
   "metadata": {},
   "outputs": [],
   "source": [
    "def ngram_scoring(domain, number, dict_name):\n",
    "    ngrams = ngram(domain, number)\n",
    "    \n",
    "    total_score = 0\n",
    "    score = 0\n",
    "    for gram in ngrams:\n",
    "        try:\n",
    "            score = dict_name[gram]\n",
    "        except:\n",
    "            score = 0\n",
    "        total_score += score\n",
    "    return total_score"
   ]
  },
  {
   "cell_type": "code",
   "execution_count": null,
   "id": "e133a4e1-b21f-47fd-9caf-3d3820384f16",
   "metadata": {},
   "outputs": [],
   "source": [
    "with open('3_gram_dict.pkl', 'rb') as f:\n",
    "    gram3 = pickle.load(f)\n",
    "f.close()"
   ]
  },
  {
   "cell_type": "code",
   "execution_count": null,
   "id": "46232b25-11fb-4069-8060-8b54d0b5e566",
   "metadata": {},
   "outputs": [],
   "source": [
    "with open('4_gram_dict.pkl', 'rb') as f:\n",
    "    gram4 = pickle.load(f)\n",
    "f.close()"
   ]
  },
  {
   "cell_type": "code",
   "execution_count": null,
   "id": "16aefb4a-d683-4cce-bb2d-ea663c8cec38",
   "metadata": {},
   "outputs": [],
   "source": [
    "with open('5_gram_dict.pkl', 'rb') as f:\n",
    "    gram5 = pickle.load(f)\n",
    "f.close()"
   ]
  },
  {
   "cell_type": "code",
   "execution_count": null,
   "id": "458e1a83-0d7f-4170-af0e-20625463c40e",
   "metadata": {
    "tags": []
   },
   "outputs": [],
   "source": [
    "ngram_scoring('youtube.com', 3, gram3)"
   ]
  },
  {
   "cell_type": "markdown",
   "id": "e90e1c02-be70-4438-8971-dc96bd35e3fa",
   "metadata": {},
   "source": [
    "#3gram\n"
   ]
  },
  {
   "cell_type": "code",
   "execution_count": null,
   "id": "eb6ca050-3b29-43d7-a643-cded9bbc6a3d",
   "metadata": {},
   "outputs": [],
   "source": [
    "def add_dataframe(dataframe, function, col_name, number=0, dictionary=0):\n",
    "    temp_list=[]\n",
    "    for index, value in dataframe.iterrows():\n",
    "        domain = value[0]\n",
    "        if number == 0:\n",
    "        # 일반적인 상황일 때\n",
    "            temp = function(domain)\n",
    "            temp_list.append(temp)\n",
    "        else:\n",
    "        # ngram을 사용할 때\n",
    "            temp = function(domain,number,dictionary)\n",
    "            temp_list.append(temp)\n",
    "        \n",
    "    \n",
    "    dataframe.insert(1,col_name, temp_list, allow_duplicates=True)"
   ]
  },
  {
   "cell_type": "code",
   "execution_count": null,
   "id": "d613f407-5fc0-42d7-b031-ead5b1502ea7",
   "metadata": {},
   "outputs": [],
   "source": [
    "add_dataframe(dga, ngram_scoring,'3gram_scoring', 3, gram3)"
   ]
  },
  {
   "cell_type": "code",
   "execution_count": null,
   "id": "53f1ccd9-2a31-47ec-976a-bf485f117c1f",
   "metadata": {},
   "outputs": [],
   "source": [
    "add_dataframe(dga, ngram_scoring,'4gram_scoring', 4, gram4)"
   ]
  },
  {
   "cell_type": "code",
   "execution_count": null,
   "id": "e6370dae-6876-4581-a5b6-9bf430607714",
   "metadata": {},
   "outputs": [],
   "source": [
    "add_dataframe(dga, ngram_scoring,'5gram_scoring', 5, gram5)"
   ]
  },
  {
   "cell_type": "code",
   "execution_count": null,
   "id": "b01eed1c-bba9-471f-ab96-4c68757139ef",
   "metadata": {},
   "outputs": [],
   "source": [
    "dga"
   ]
  },
  {
   "cell_type": "markdown",
   "id": "6e0faf7e-4f8f-4e21-b57c-bf65e916e09d",
   "metadata": {},
   "source": [
    "facet = sns.FacetGrid(dga, hue='dga', aspect=3)\n",
    "facet.map(sns.kdeplot, '3gram_scoring', shade=True)\n",
    "facet.set(xlim=(0,dga['3gram_scoring'].max()))\n",
    "facet.add_legend()\n",
    "plt.show()"
   ]
  },
  {
   "cell_type": "code",
   "execution_count": 30,
   "id": "3ba05ea9-0353-431e-a396-951ea946d915",
   "metadata": {},
   "outputs": [],
   "source": [
    "import pickle\n",
    "import math\n",
    "from collections import Counter"
   ]
  },
  {
   "cell_type": "code",
   "execution_count": 12,
   "id": "3388cd5f-65ec-4fb1-8898-87a9f736811f",
   "metadata": {},
   "outputs": [],
   "source": [
    "with open('1_gram_dict.pkl','rb') as f:\n",
    "    gram1 = pickle.load(f)\n",
    "f.close()"
   ]
  },
  {
   "cell_type": "code",
   "execution_count": 13,
   "id": "2749290b-9b74-4995-85f5-5934131ef0f1",
   "metadata": {
    "collapsed": true,
    "jupyter": {
     "outputs_hidden": true
    },
    "tags": []
   },
   "outputs": [
    {
     "data": {
      "text/plain": [
       "{'s': 429373,\n",
       " 'm': 219648,\n",
       " 'a': 608650,\n",
       " 'r': 440050,\n",
       " 't': 401265,\n",
       " 'i': 467082,\n",
       " 'd': 211301,\n",
       " 'p': 188805,\n",
       " 'o': 468367,\n",
       " 'e': 636899,\n",
       " 'x': 35236,\n",
       " 'n': 397978,\n",
       " '-': 71701,\n",
       " 'l': 314900,\n",
       " 'h': 165818,\n",
       " 'c': 261772,\n",
       " 'u': 200451,\n",
       " 'k': 113020,\n",
       " 'g': 152334,\n",
       " '6': 4341,\n",
       " '4': 8358,\n",
       " 'w': 74902,\n",
       " 'f': 103077,\n",
       " 'v': 86360,\n",
       " 'y': 104821,\n",
       " 'j': 32052,\n",
       " 'b': 144352,\n",
       " '.': 13076,\n",
       " '2': 12055,\n",
       " 'z': 38004,\n",
       " 'q': 12169,\n",
       " '7': 4205,\n",
       " '1': 12321,\n",
       " '9': 4601,\n",
       " '3': 7595,\n",
       " '5': 4672,\n",
       " '0': 8955,\n",
       " '8': 4838,\n",
       " '_': 21}"
      ]
     },
     "execution_count": 13,
     "metadata": {},
     "output_type": "execute_result"
    }
   ],
   "source": [
    "gram1"
   ]
  },
  {
   "cell_type": "code",
   "execution_count": 14,
   "id": "2f807fde-aa01-4c4b-b6f7-9506fa64dde4",
   "metadata": {},
   "outputs": [],
   "source": [
    "total_prob = sum(gram1.values())"
   ]
  },
  {
   "cell_type": "code",
   "execution_count": 15,
   "id": "5e37aad3-4501-4527-a7bd-8c3c9027c235",
   "metadata": {},
   "outputs": [],
   "source": [
    "for key, value in gram1.items():\n",
    "    gram1[key] = round(value/total_prob,7)"
   ]
  },
  {
   "cell_type": "code",
   "execution_count": 17,
   "id": "86782286-509c-4368-967f-578ee55fcc32",
   "metadata": {},
   "outputs": [],
   "source": [
    "with open('probability.pkl','wb') as f:\n",
    "    pickle.dump(gram1, f, pickle.HIGHEST_PROTOCOL)\n",
    "f.close()"
   ]
  },
  {
   "cell_type": "code",
   "execution_count": 20,
   "id": "564b80c4-e4c1-44c3-9105-869ffcc3e41e",
   "metadata": {},
   "outputs": [],
   "source": [
    "with open('probability.pkl','rb') as f:\n",
    "    prob = pickle.load(f)\n",
    "f.close()"
   ]
  },
  {
   "cell_type": "code",
   "execution_count": 19,
   "id": "4b7b936d-0915-407b-96d4-0b642f385906",
   "metadata": {},
   "outputs": [
    {
     "data": {
      "text/plain": [
       "Counter({'g': 2, 'o': 2, 'l': 1, 'e': 1})"
      ]
     },
     "execution_count": 19,
     "metadata": {},
     "output_type": "execute_result"
    }
   ],
   "source": [
    "Counter('google')"
   ]
  },
  {
   "cell_type": "code",
   "execution_count": 32,
   "id": "f8aa8ee1-143c-4131-be09-16b6814e8d93",
   "metadata": {},
   "outputs": [],
   "source": [
    "def relative_entropy(domain):\n",
    "    entropy = 0\n",
    "    \n",
    "    sub = sub_domain(domain)\n",
    "    length = len(sub)\n",
    "    cnt = Counter(sub)\n",
    "    for key, value in cnt.items():\n",
    "        obs = value / length\n",
    "        exp = prob[key]\n",
    "        entropy += obs * math.log((obs/exp),2)\n",
    "    return entropy\n",
    "        "
   ]
  },
  {
   "cell_type": "code",
   "execution_count": 41,
   "id": "dab51e87-3e3a-4b06-9158-46303f7c5bee",
   "metadata": {
    "tags": []
   },
   "outputs": [
    {
     "data": {
      "text/html": [
       "<div>\n",
       "<style scoped>\n",
       "    .dataframe tbody tr th:only-of-type {\n",
       "        vertical-align: middle;\n",
       "    }\n",
       "\n",
       "    .dataframe tbody tr th {\n",
       "        vertical-align: top;\n",
       "    }\n",
       "\n",
       "    .dataframe thead th {\n",
       "        text-align: right;\n",
       "    }\n",
       "</style>\n",
       "<table border=\"1\" class=\"dataframe\">\n",
       "  <thead>\n",
       "    <tr style=\"text-align: right;\">\n",
       "      <th></th>\n",
       "      <th>domain</th>\n",
       "      <th>dga</th>\n",
       "      <th>class</th>\n",
       "    </tr>\n",
       "  </thead>\n",
       "  <tbody>\n",
       "    <tr>\n",
       "      <th>12</th>\n",
       "      <td>destroycorner.net</td>\n",
       "      <td>yes</td>\n",
       "      <td>16</td>\n",
       "    </tr>\n",
       "    <tr>\n",
       "      <th>83</th>\n",
       "      <td>christinajeremiah.net</td>\n",
       "      <td>yes</td>\n",
       "      <td>16</td>\n",
       "    </tr>\n",
       "    <tr>\n",
       "      <th>234</th>\n",
       "      <td>threetell.net</td>\n",
       "      <td>yes</td>\n",
       "      <td>16</td>\n",
       "    </tr>\n",
       "    <tr>\n",
       "      <th>388</th>\n",
       "      <td>degreebeing.net</td>\n",
       "      <td>yes</td>\n",
       "      <td>16</td>\n",
       "    </tr>\n",
       "    <tr>\n",
       "      <th>412</th>\n",
       "      <td>noneshine.net</td>\n",
       "      <td>yes</td>\n",
       "      <td>16</td>\n",
       "    </tr>\n",
       "    <tr>\n",
       "      <th>...</th>\n",
       "      <td>...</td>\n",
       "      <td>...</td>\n",
       "      <td>...</td>\n",
       "    </tr>\n",
       "    <tr>\n",
       "      <th>1599184</th>\n",
       "      <td>ermintrudeboniface.net</td>\n",
       "      <td>yes</td>\n",
       "      <td>16</td>\n",
       "    </tr>\n",
       "    <tr>\n",
       "      <th>1599540</th>\n",
       "      <td>triesagree.ru</td>\n",
       "      <td>yes</td>\n",
       "      <td>16</td>\n",
       "    </tr>\n",
       "    <tr>\n",
       "      <th>1599717</th>\n",
       "      <td>fallloss.ru</td>\n",
       "      <td>yes</td>\n",
       "      <td>16</td>\n",
       "    </tr>\n",
       "    <tr>\n",
       "      <th>1599806</th>\n",
       "      <td>saidother.net</td>\n",
       "      <td>yes</td>\n",
       "      <td>16</td>\n",
       "    </tr>\n",
       "    <tr>\n",
       "      <th>1599948</th>\n",
       "      <td>christianstephenson.ru</td>\n",
       "      <td>yes</td>\n",
       "      <td>16</td>\n",
       "    </tr>\n",
       "  </tbody>\n",
       "</table>\n",
       "<p>14063 rows × 3 columns</p>\n",
       "</div>"
      ],
      "text/plain": [
       "                         domain  dga  class\n",
       "12            destroycorner.net  yes     16\n",
       "83        christinajeremiah.net  yes     16\n",
       "234               threetell.net  yes     16\n",
       "388             degreebeing.net  yes     16\n",
       "412               noneshine.net  yes     16\n",
       "...                         ...  ...    ...\n",
       "1599184  ermintrudeboniface.net  yes     16\n",
       "1599540           triesagree.ru  yes     16\n",
       "1599717             fallloss.ru  yes     16\n",
       "1599806           saidother.net  yes     16\n",
       "1599948  christianstephenson.ru  yes     16\n",
       "\n",
       "[14063 rows x 3 columns]"
      ]
     },
     "execution_count": 41,
     "metadata": {},
     "output_type": "execute_result"
    }
   ],
   "source": [
    "dga[dga['class']==16]"
   ]
  },
  {
   "cell_type": "code",
   "execution_count": 35,
   "id": "cc2a95ce-7aae-4aa6-9350-9a797cbcfeec",
   "metadata": {},
   "outputs": [],
   "source": [
    "normal = 'google.com'\n",
    "unnormal = '170qknj1onn4c37qf1w71rzei1h.org'"
   ]
  },
  {
   "cell_type": "code",
   "execution_count": 43,
   "id": "549598ab-a095-4fbb-97f4-ca548509a3ba",
   "metadata": {},
   "outputs": [
    {
     "data": {
      "text/plain": [
       "1.7953624179594294"
      ]
     },
     "execution_count": 43,
     "metadata": {},
     "output_type": "execute_result"
    }
   ],
   "source": [
    "relative_entropy('threetell.net')"
   ]
  },
  {
   "cell_type": "code",
   "execution_count": null,
   "id": "0d650401-8de3-4bb4-a7e6-0793358112c9",
   "metadata": {},
   "outputs": [],
   "source": []
  }
 ],
 "metadata": {
  "kernelspec": {
   "display_name": "Python 3.9.13 ('base')",
   "language": "python",
   "name": "python3"
  },
  "language_info": {
   "codemirror_mode": {
    "name": "ipython",
    "version": 3
   },
   "file_extension": ".py",
   "mimetype": "text/x-python",
   "name": "python",
   "nbconvert_exporter": "python",
   "pygments_lexer": "ipython3",
   "version": "3.9.13"
  },
  "vscode": {
   "interpreter": {
    "hash": "701d4f28dcd0866722f5108a3a4cbcd08882d26398b6d44117e791d7b8102912"
   }
  }
 },
 "nbformat": 4,
 "nbformat_minor": 5
}
