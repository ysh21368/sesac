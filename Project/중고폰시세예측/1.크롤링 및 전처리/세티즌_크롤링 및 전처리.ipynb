{
 "cells": [
  {
   "cell_type": "markdown",
   "metadata": {},
   "source": [
    "# 세티즌 "
   ]
  },
  {
   "cell_type": "markdown",
   "metadata": {},
   "source": [
    "## 세티즌 크롤링"
   ]
  },
  {
   "cell_type": "code",
   "execution_count": 1,
   "metadata": {
    "colab": {
     "base_uri": "https://localhost:8080/"
    },
    "id": "uFYmlOkl4wvt",
    "outputId": "bb6f4595-ae18-44be-ae11-ef63978cbc25"
   },
   "outputs": [],
   "source": [
    "#!pip install webdriver_manager"
   ]
  },
  {
   "cell_type": "code",
   "execution_count": 2,
   "metadata": {
    "colab": {
     "base_uri": "https://localhost:8080/"
    },
    "id": "tP5AAKte49mQ",
    "outputId": "eca5666d-ee09-43da-f624-53641b8ed4dd"
   },
   "outputs": [],
   "source": [
    "#!pip install selenium"
   ]
  },
  {
   "cell_type": "code",
   "execution_count": 5,
   "metadata": {
    "id": "XWTB8A1-5PG9"
   },
   "outputs": [],
   "source": [
    "import time\n",
    "import requests\n",
    "import pandas as pd\n",
    "from bs4 import BeautifulSoup\n",
    "from selenium.webdriver.common.by import By\n",
    "from selenium.webdriver.common.keys import Keys\n",
    "from selenium.webdriver.chrome.service import Service\n",
    "from webdriver_manager.chrome import ChromeDriverManager"
   ]
  },
  {
   "cell_type": "code",
   "execution_count": 6,
   "metadata": {
    "id": "-MV9mfv6Aok-"
   },
   "outputs": [],
   "source": [
    "from tqdm import tqdm"
   ]
  },
  {
   "cell_type": "code",
   "execution_count": 14,
   "metadata": {
    "id": "oolTaXgV57P6"
   },
   "outputs": [],
   "source": [
    "url='https://market.cetizen.com/market.php?q=market&m%5B12%5D=12&tabname=pills-brand&p=1'\n",
    "req=requests.get(url,'html.parser')"
   ]
  },
  {
   "cell_type": "code",
   "execution_count": 15,
   "metadata": {
    "id": "Ae7vnYT767pP"
   },
   "outputs": [],
   "source": [
    "soup=BeautifulSoup(req.text)"
   ]
  },
  {
   "cell_type": "code",
   "execution_count": 61,
   "metadata": {
    "id": "zZltS-xz8TQj",
    "tags": []
   },
   "outputs": [],
   "source": [
    "temp=soup.select('#condition_Form > div.row.border-left.border-right > div.col-9.pt-3 > div.row.pl-3.py-3 > div > div > div.col-10.px-3 > div.row.text-left.ml-2 > div.col-10.text-truncate.py-0.my-0 > a')"
   ]
  },
  {
   "cell_type": "code",
   "execution_count": 65,
   "metadata": {
    "colab": {
     "base_uri": "https://localhost:8080/"
    },
    "id": "vFJzv7AI89DW",
    "outputId": "924c3dd9-a6a0-4940-910d-b8f5e1f036cb"
   },
   "outputs": [
    {
     "name": "stderr",
     "output_type": "stream",
     "text": [
      "100%|██████████████████████████████████████████████████████████████████████████████████| 93/93 [00:31<00:00,  2.96it/s]\n"
     ]
    }
   ],
   "source": [
    "link_list=[] ## 개별 링크 저장\n",
    "for page in tqdm(range(1,94)):\n",
    "    url='https://market.cetizen.com/market.php?q=market&m%5B12%5D=12&tabname=pills-brand&p='+str(page)\n",
    "    req=requests.get(url,'html.parser')\n",
    "    soup=BeautifulSoup(req.text)\n",
    "    temp=soup.select('#condition_Form > div.row.border-left.border-right > div.col-9.pt-3 > div.row.pl-3.py-3 > div > div > div.col-10.px-3 > div.row.text-left.ml-2 > div.col-10.text-truncate.py-0.my-0 > a')    \n",
    "    for i in temp:\n",
    "        link_list.append('https://market.cetizen.com'+i['href'])"
   ]
  },
  {
   "cell_type": "code",
   "execution_count": 66,
   "metadata": {
    "colab": {
     "base_uri": "https://localhost:8080/"
    },
    "id": "OtWlrJdzB7fm",
    "outputId": "8270f2e9-3c07-4cd0-8e58-b67dd6e0d303"
   },
   "outputs": [
    {
     "data": {
      "text/plain": [
       "2790"
      ]
     },
     "execution_count": 66,
     "metadata": {},
     "output_type": "execute_result"
    }
   ],
   "source": [
    "len(link_list)"
   ]
  },
  {
   "cell_type": "markdown",
   "metadata": {},
   "source": [
    "## 데이터프레임으로 "
   ]
  },
  {
   "cell_type": "code",
   "execution_count": 87,
   "metadata": {
    "colab": {
     "base_uri": "https://localhost:8080/",
     "height": 266
    },
    "id": "jbj-UuXMK2m-",
    "outputId": "7fb8eb4e-f40f-4666-d225-d37d3bc3bebe"
   },
   "outputs": [
    {
     "name": "stderr",
     "output_type": "stream",
     "text": [
      "100%|██████████████████████████████████████████████████████████████████████████████| 2790/2790 [14:10<00:00,  3.28it/s]\n"
     ]
    }
   ],
   "source": [
    "data=[]\n",
    "\n",
    "for link in tqdm(link_list):\n",
    "    url=link\n",
    "    req=requests.get(url,'html.parser')\n",
    "    soup=BeautifulSoup(req.text)\n",
    "\n",
    "    if len(soup.find_all('div','box_good'))==5:\n",
    "        temp=[]\n",
    "        # 이름\n",
    "        try:\n",
    "            temp.append(soup.select('#main_container > div:nth-child(13) > div.col-4 > div > div:nth-child(1) > div.col.black1 > div > div > span.fb.fsize7' )[0].text )\n",
    "        except:\n",
    "            temp.append('이름없음')\n",
    "        \n",
    "        # 속성들\n",
    "        for i in range(5):\n",
    "            try:\n",
    "                temp.append(soup.find_all('div','box_good')[i].text.strip())\n",
    "            except:\n",
    "                temp.append('')\n",
    "        \n",
    "        \n",
    "        # 가격\n",
    "        try:\n",
    "            temp.append(soup.find_all('span','text-right fsize11 red pl-2')[0].text)\n",
    "        except:\n",
    "            temp.append('가격없음')\n",
    "\n",
    "        data.append(temp)"
   ]
  },
  {
   "cell_type": "markdown",
   "metadata": {},
   "source": [
    "## 가격 전처리"
   ]
  },
  {
   "cell_type": "code",
   "execution_count": 128,
   "metadata": {},
   "outputs": [],
   "source": [
    "# 가격 없는 애들 None값 처리\n",
    "for i in range(len(data)):\n",
    "    if test.loc[i,'가격']=='가격없음':\n",
    "        test.loc[i,'가격']=None"
   ]
  },
  {
   "cell_type": "code",
   "execution_count": 134,
   "metadata": {},
   "outputs": [],
   "source": [
    "# 가격 int로 변경\n",
    "test['가격']=test['가격'].astype(int)"
   ]
  },
  {
   "cell_type": "code",
   "execution_count": 173,
   "metadata": {},
   "outputs": [
    {
     "data": {
      "text/plain": [
       "보증기간\n",
       "기간종료    380000.0\n",
       "미확인     480000.0\n",
       "보증가능    750000.0\n",
       "Name: 가격, dtype: float64"
      ]
     },
     "execution_count": 173,
     "metadata": {},
     "output_type": "execute_result"
    }
   ],
   "source": [
    "test.groupby('보증기간')['가격'].median()"
   ]
  },
  {
   "cell_type": "markdown",
   "metadata": {},
   "source": [
    "+ 제품상태/구성품은 가격에 영향 크게 미침\n",
    "+ 기변 상태는 별로\n",
    "+ 선택약정 -> 25%할인/약정불가 가격차이 좀 있음\n",
    "+ 보증기간 굉장히 영향이 큼!!"
   ]
  },
  {
   "cell_type": "markdown",
   "metadata": {},
   "source": [
    "## 기기명 -> 시리즈/모델/용량 전처리"
   ]
  },
  {
   "cell_type": "code",
   "execution_count": 146,
   "metadata": {},
   "outputs": [
    {
     "name": "stderr",
     "output_type": "stream",
     "text": [
      "C:\\Users\\user\\AppData\\Local\\Temp\\ipykernel_1028\\553252274.py:1: SettingWithCopyWarning: \n",
      "A value is trying to be set on a copy of a slice from a DataFrame.\n",
      "Try using .loc[row_indexer,col_indexer] = value instead\n",
      "\n",
      "See the caveats in the documentation: https://pandas.pydata.org/pandas-docs/stable/user_guide/indexing.html#returning-a-view-versus-a-copy\n",
      "  test['용량']=test['기기명'].str.split(' ').str[-1]\n"
     ]
    }
   ],
   "source": [
    "test['용량']=test['기기명'].str.split(' ').str[-1]"
   ]
  },
  {
   "cell_type": "code",
   "execution_count": 152,
   "metadata": {},
   "outputs": [],
   "source": [
    "test['분류1']=test['기기명'].str.extract(r'(아이폰.{0,1}[0-9]+)') #시리즈"
   ]
  },
  {
   "cell_type": "code",
   "execution_count": 189,
   "metadata": {},
   "outputs": [],
   "source": [
    "test['분류2']=test['기기명'].str.extract(r'아이폰[0-9]+(.*[가-힣]+)') #모델"
   ]
  }
 ],
 "metadata": {
  "colab": {
   "provenance": []
  },
  "kernelspec": {
   "display_name": "Python 3 (ipykernel)",
   "language": "python",
   "name": "python3"
  },
  "language_info": {
   "codemirror_mode": {
    "name": "ipython",
    "version": 3
   },
   "file_extension": ".py",
   "mimetype": "text/x-python",
   "name": "python",
   "nbconvert_exporter": "python",
   "pygments_lexer": "ipython3",
   "version": "3.9.12"
  },
  "toc-autonumbering": true,
  "toc-showmarkdowntxt": true
 },
 "nbformat": 4,
 "nbformat_minor": 4
}
