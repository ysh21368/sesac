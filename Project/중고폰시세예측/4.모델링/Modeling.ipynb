{
 "cells": [
  {
   "cell_type": "code",
   "execution_count": 6,
   "id": "5cf30961-b0de-40fd-b2c8-703fb31100c0",
   "metadata": {},
   "outputs": [],
   "source": [
    "import pandas as pd\n",
    "import numpy as np"
   ]
  },
  {
   "cell_type": "code",
   "execution_count": 3,
   "id": "dfaf98f8-c461-438c-969a-760d68457194",
   "metadata": {
    "collapsed": true,
    "jupyter": {
     "outputs_hidden": true
    },
    "tags": []
   },
   "outputs": [
    {
     "name": "stdout",
     "output_type": "stream",
     "text": [
      "Collecting xgboost\n",
      "  Downloading xgboost-1.7.1-py3-none-win_amd64.whl (89.1 MB)\n",
      "Requirement already satisfied: numpy in c:\\users\\user\\anaconda3\\lib\\site-packages (from xgboost) (1.21.5)\n",
      "Requirement already satisfied: scipy in c:\\users\\user\\anaconda3\\lib\\site-packages (from xgboost) (1.7.3)\n",
      "Installing collected packages: xgboost\n",
      "Successfully installed xgboost-1.7.1\n"
     ]
    }
   ],
   "source": [
    "!pip install xgboost"
   ]
  },
  {
   "cell_type": "code",
   "execution_count": 151,
   "id": "3e4d1418-f127-4679-b25d-463465dde3e1",
   "metadata": {
    "collapsed": true,
    "jupyter": {
     "outputs_hidden": true
    },
    "tags": []
   },
   "outputs": [
    {
     "name": "stdout",
     "output_type": "stream",
     "text": [
      "Collecting lightgbm\n",
      "  Downloading lightgbm-3.3.3-py3-none-win_amd64.whl (1.0 MB)\n",
      "Requirement already satisfied: scipy in c:\\users\\user\\anaconda3\\lib\\site-packages (from lightgbm) (1.7.3)\n",
      "Requirement already satisfied: scikit-learn!=0.22.0 in c:\\users\\user\\anaconda3\\lib\\site-packages (from lightgbm) (1.0.2)\n",
      "Requirement already satisfied: wheel in c:\\users\\user\\anaconda3\\lib\\site-packages (from lightgbm) (0.37.1)\n",
      "Requirement already satisfied: numpy in c:\\users\\user\\anaconda3\\lib\\site-packages (from lightgbm) (1.21.5)\n",
      "Requirement already satisfied: joblib>=0.11 in c:\\users\\user\\anaconda3\\lib\\site-packages (from scikit-learn!=0.22.0->lightgbm) (1.1.0)\n",
      "Requirement already satisfied: threadpoolctl>=2.0.0 in c:\\users\\user\\anaconda3\\lib\\site-packages (from scikit-learn!=0.22.0->lightgbm) (2.2.0)\n",
      "Installing collected packages: lightgbm\n",
      "Successfully installed lightgbm-3.3.3\n"
     ]
    }
   ],
   "source": [
    "!pip install lightgbm"
   ]
  },
  {
   "cell_type": "code",
   "execution_count": 175,
   "id": "05da839c-076b-4fba-bd4f-25ed1e147544",
   "metadata": {},
   "outputs": [],
   "source": [
    "from sklearn.preprocessing import LabelEncoder\n",
    "from sklearn.model_selection import train_test_split\n",
    "\n",
    "from sklearn.tree import DecisionTreeRegressor\n",
    "from sklearn.ensemble import RandomForestRegressor\n",
    "from sklearn.metrics import mean_squared_error\n",
    "\n",
    "import xgboost\n",
    "import lightgbm as lgb "
   ]
  },
  {
   "cell_type": "code",
   "execution_count": 63,
   "id": "f34347a9-938c-4911-a6b5-aabc5ca95aa0",
   "metadata": {},
   "outputs": [],
   "source": [
    "data=pd.read_csv('smartgoat.csv',encoding='euc-kr')"
   ]
  },
  {
   "cell_type": "code",
   "execution_count": 64,
   "id": "fd937f8b-b2cf-40e5-bead-ddadc27993d5",
   "metadata": {},
   "outputs": [
    {
     "data": {
      "text/html": [
       "<div>\n",
       "<style scoped>\n",
       "    .dataframe tbody tr th:only-of-type {\n",
       "        vertical-align: middle;\n",
       "    }\n",
       "\n",
       "    .dataframe tbody tr th {\n",
       "        vertical-align: top;\n",
       "    }\n",
       "\n",
       "    .dataframe thead th {\n",
       "        text-align: right;\n",
       "    }\n",
       "</style>\n",
       "<table border=\"1\" class=\"dataframe\">\n",
       "  <thead>\n",
       "    <tr style=\"text-align: right;\">\n",
       "      <th></th>\n",
       "      <th>기기명</th>\n",
       "      <th>시리즈</th>\n",
       "      <th>모델</th>\n",
       "      <th>용량</th>\n",
       "      <th>제품상태</th>\n",
       "      <th>가격</th>\n",
       "    </tr>\n",
       "  </thead>\n",
       "  <tbody>\n",
       "    <tr>\n",
       "      <th>0</th>\n",
       "      <td>아이폰14프로 256GB</td>\n",
       "      <td>아이폰14</td>\n",
       "      <td>프로</td>\n",
       "      <td>256GB</td>\n",
       "      <td>상</td>\n",
       "      <td>1600000</td>\n",
       "    </tr>\n",
       "    <tr>\n",
       "      <th>1</th>\n",
       "      <td>아이폰12 미니 64GB</td>\n",
       "      <td>아이폰12</td>\n",
       "      <td>미니</td>\n",
       "      <td>64GB</td>\n",
       "      <td>중</td>\n",
       "      <td>380000</td>\n",
       "    </tr>\n",
       "    <tr>\n",
       "      <th>2</th>\n",
       "      <td>아이폰12 프로 256GB</td>\n",
       "      <td>아이폰12</td>\n",
       "      <td>프로</td>\n",
       "      <td>256GB</td>\n",
       "      <td>상</td>\n",
       "      <td>690000</td>\n",
       "    </tr>\n",
       "    <tr>\n",
       "      <th>3</th>\n",
       "      <td>아이폰12 프로 256GB</td>\n",
       "      <td>아이폰12</td>\n",
       "      <td>프로</td>\n",
       "      <td>256GB</td>\n",
       "      <td>중</td>\n",
       "      <td>620000</td>\n",
       "    </tr>\n",
       "    <tr>\n",
       "      <th>4</th>\n",
       "      <td>아이폰13 프로 256GB</td>\n",
       "      <td>아이폰13</td>\n",
       "      <td>프로</td>\n",
       "      <td>256GB</td>\n",
       "      <td>상</td>\n",
       "      <td>1060000</td>\n",
       "    </tr>\n",
       "    <tr>\n",
       "      <th>...</th>\n",
       "      <td>...</td>\n",
       "      <td>...</td>\n",
       "      <td>...</td>\n",
       "      <td>...</td>\n",
       "      <td>...</td>\n",
       "      <td>...</td>\n",
       "    </tr>\n",
       "    <tr>\n",
       "      <th>3070</th>\n",
       "      <td>아이폰 13 미니 128GB</td>\n",
       "      <td>아이폰13</td>\n",
       "      <td>미니</td>\n",
       "      <td>128GB</td>\n",
       "      <td>중</td>\n",
       "      <td>335000</td>\n",
       "    </tr>\n",
       "    <tr>\n",
       "      <th>3071</th>\n",
       "      <td>아이폰 11 128GB</td>\n",
       "      <td>아이폰11</td>\n",
       "      <td>기본</td>\n",
       "      <td>128GB</td>\n",
       "      <td>하</td>\n",
       "      <td>275000</td>\n",
       "    </tr>\n",
       "    <tr>\n",
       "      <th>3072</th>\n",
       "      <td>아이폰 XS 256GB</td>\n",
       "      <td>아이폰XS</td>\n",
       "      <td>기본</td>\n",
       "      <td>256GB</td>\n",
       "      <td>하</td>\n",
       "      <td>165000</td>\n",
       "    </tr>\n",
       "    <tr>\n",
       "      <th>3073</th>\n",
       "      <td>아이폰 11 프로 64GB</td>\n",
       "      <td>아이폰11</td>\n",
       "      <td>프로</td>\n",
       "      <td>64GB</td>\n",
       "      <td>하</td>\n",
       "      <td>265000</td>\n",
       "    </tr>\n",
       "    <tr>\n",
       "      <th>3074</th>\n",
       "      <td>아이폰 11 128GB</td>\n",
       "      <td>아이폰11</td>\n",
       "      <td>기본</td>\n",
       "      <td>128GB</td>\n",
       "      <td>하</td>\n",
       "      <td>245000</td>\n",
       "    </tr>\n",
       "  </tbody>\n",
       "</table>\n",
       "<p>3075 rows × 6 columns</p>\n",
       "</div>"
      ],
      "text/plain": [
       "                  기기명    시리즈  모델     용량 제품상태       가격\n",
       "0       아이폰14프로 256GB  아이폰14  프로  256GB    상  1600000\n",
       "1       아이폰12 미니 64GB  아이폰12  미니   64GB    중   380000\n",
       "2      아이폰12 프로 256GB  아이폰12  프로  256GB    상   690000\n",
       "3      아이폰12 프로 256GB  아이폰12  프로  256GB    중   620000\n",
       "4      아이폰13 프로 256GB  아이폰13  프로  256GB    상  1060000\n",
       "...               ...    ...  ..    ...  ...      ...\n",
       "3070  아이폰 13 미니 128GB  아이폰13  미니  128GB    중   335000\n",
       "3071     아이폰 11 128GB  아이폰11  기본  128GB    하   275000\n",
       "3072     아이폰 XS 256GB  아이폰XS  기본  256GB    하   165000\n",
       "3073   아이폰 11 프로 64GB  아이폰11  프로   64GB    하   265000\n",
       "3074     아이폰 11 128GB  아이폰11  기본  128GB    하   245000\n",
       "\n",
       "[3075 rows x 6 columns]"
      ]
     },
     "execution_count": 64,
     "metadata": {},
     "output_type": "execute_result"
    }
   ],
   "source": [
    "data"
   ]
  },
  {
   "cell_type": "markdown",
   "id": "241a2e11-ecda-4435-bd3a-a48f3a115ebb",
   "metadata": {},
   "source": [
    "## 상관계수 "
   ]
  },
  {
   "cell_type": "code",
   "execution_count": 116,
   "id": "a1110448-11bd-42eb-ac62-f7c4363518f5",
   "metadata": {},
   "outputs": [],
   "source": [
    "data=data.drop('기기명',axis=1)"
   ]
  },
  {
   "cell_type": "code",
   "execution_count": 117,
   "id": "dee90495-9c79-4980-b5a5-9fef37018cef",
   "metadata": {},
   "outputs": [
    {
     "data": {
      "text/html": [
       "<div>\n",
       "<style scoped>\n",
       "    .dataframe tbody tr th:only-of-type {\n",
       "        vertical-align: middle;\n",
       "    }\n",
       "\n",
       "    .dataframe tbody tr th {\n",
       "        vertical-align: top;\n",
       "    }\n",
       "\n",
       "    .dataframe thead th {\n",
       "        text-align: right;\n",
       "    }\n",
       "</style>\n",
       "<table border=\"1\" class=\"dataframe\">\n",
       "  <thead>\n",
       "    <tr style=\"text-align: right;\">\n",
       "      <th></th>\n",
       "      <th>시리즈</th>\n",
       "      <th>모델</th>\n",
       "      <th>용량</th>\n",
       "      <th>제품상태</th>\n",
       "      <th>가격</th>\n",
       "    </tr>\n",
       "  </thead>\n",
       "  <tbody>\n",
       "    <tr>\n",
       "      <th>시리즈</th>\n",
       "      <td>1.000000</td>\n",
       "      <td>-0.436775</td>\n",
       "      <td>0.256738</td>\n",
       "      <td>0.102624</td>\n",
       "      <td>-0.429215</td>\n",
       "    </tr>\n",
       "    <tr>\n",
       "      <th>모델</th>\n",
       "      <td>-0.436775</td>\n",
       "      <td>1.000000</td>\n",
       "      <td>-0.118885</td>\n",
       "      <td>-0.106802</td>\n",
       "      <td>0.522478</td>\n",
       "    </tr>\n",
       "    <tr>\n",
       "      <th>용량</th>\n",
       "      <td>0.256738</td>\n",
       "      <td>-0.118885</td>\n",
       "      <td>1.000000</td>\n",
       "      <td>0.127429</td>\n",
       "      <td>-0.283255</td>\n",
       "    </tr>\n",
       "    <tr>\n",
       "      <th>제품상태</th>\n",
       "      <td>0.102624</td>\n",
       "      <td>-0.106802</td>\n",
       "      <td>0.127429</td>\n",
       "      <td>1.000000</td>\n",
       "      <td>-0.427620</td>\n",
       "    </tr>\n",
       "    <tr>\n",
       "      <th>가격</th>\n",
       "      <td>-0.429215</td>\n",
       "      <td>0.522478</td>\n",
       "      <td>-0.283255</td>\n",
       "      <td>-0.427620</td>\n",
       "      <td>1.000000</td>\n",
       "    </tr>\n",
       "  </tbody>\n",
       "</table>\n",
       "</div>"
      ],
      "text/plain": [
       "           시리즈        모델        용량      제품상태        가격\n",
       "시리즈   1.000000 -0.436775  0.256738  0.102624 -0.429215\n",
       "모델   -0.436775  1.000000 -0.118885 -0.106802  0.522478\n",
       "용량    0.256738 -0.118885  1.000000  0.127429 -0.283255\n",
       "제품상태  0.102624 -0.106802  0.127429  1.000000 -0.427620\n",
       "가격   -0.429215  0.522478 -0.283255 -0.427620  1.000000"
      ]
     },
     "execution_count": 117,
     "metadata": {},
     "output_type": "execute_result"
    }
   ],
   "source": [
    "data.corr()"
   ]
  },
  {
   "cell_type": "code",
   "execution_count": 65,
   "id": "d1aca2ff-7b2c-4f1a-9ef4-0f8d4dcaccad",
   "metadata": {},
   "outputs": [],
   "source": [
    "X=data.drop(['기기명','가격'],axis=1)\n",
    "y=data['가격']"
   ]
  },
  {
   "cell_type": "markdown",
   "id": "e00d11ae-a394-4357-9c43-a973f2dbc13d",
   "metadata": {},
   "source": [
    "## Train Test 데이터 Split"
   ]
  },
  {
   "cell_type": "code",
   "execution_count": 66,
   "id": "50ac93fa-1b4d-4cee-9b9d-856c84b6a55a",
   "metadata": {},
   "outputs": [],
   "source": [
    "X_train,X_test,y_train,y_test=train_test_split(X,y)"
   ]
  },
  {
   "cell_type": "code",
   "execution_count": 67,
   "id": "326c4bd3-f16b-4441-8ad9-d819a64818d4",
   "metadata": {},
   "outputs": [],
   "source": [
    "dt=DecisionTreeRegressor()"
   ]
  },
  {
   "cell_type": "markdown",
   "id": "501ca24c-af4c-4235-9b54-877b74f79170",
   "metadata": {},
   "source": [
    "## LabelEncoding"
   ]
  },
  {
   "cell_type": "code",
   "execution_count": 68,
   "id": "3f292061-d004-4bad-b8a0-02a90840aabf",
   "metadata": {},
   "outputs": [],
   "source": [
    "le=LabelEncoder()"
   ]
  },
  {
   "cell_type": "code",
   "execution_count": 69,
   "id": "0f5e6fe4-7f57-45ea-8f3e-8de94b02b9e1",
   "metadata": {},
   "outputs": [],
   "source": [
    "cat_col=['시리즈',\t'모델',\t'용량',\t'제품상태']"
   ]
  },
  {
   "cell_type": "code",
   "execution_count": 70,
   "id": "86e7f6bc-ef68-4d6f-84f3-7f9655aae876",
   "metadata": {},
   "outputs": [],
   "source": [
    "le_list=[]\n",
    "for cat in cat_col:\n",
    "    le=LabelEncoder()\n",
    "    X[cat]=le.fit_transform(X[cat])\n",
    "    le_list.append(le)"
   ]
  },
  {
   "cell_type": "code",
   "execution_count": 73,
   "id": "ff156775-6a36-49a5-92fa-39ef363780c7",
   "metadata": {},
   "outputs": [
    {
     "data": {
      "text/plain": [
       "array(['아이폰11', '아이폰12', '아이폰13', '아이폰14', '아이폰5S', '아이폰6', '아이폰6S',\n",
       "       '아이폰7', '아이폰8', '아이폰SE', '아이폰SE2', '아이폰SE3', '아이폰X', '아이폰XR',\n",
       "       '아이폰XS'], dtype=object)"
      ]
     },
     "execution_count": 73,
     "metadata": {},
     "output_type": "execute_result"
    }
   ],
   "source": [
    "le_list[0].classes_"
   ]
  },
  {
   "cell_type": "markdown",
   "id": "d40acb58-f150-422c-8a8d-ac3517b46009",
   "metadata": {},
   "source": [
    "## Model Fitting"
   ]
  },
  {
   "cell_type": "code",
   "execution_count": 72,
   "id": "be99da6f-46c3-42cf-b040-901e217cabba",
   "metadata": {},
   "outputs": [
    {
     "data": {
      "text/plain": [
       "DecisionTreeRegressor()"
      ]
     },
     "execution_count": 72,
     "metadata": {},
     "output_type": "execute_result"
    }
   ],
   "source": [
    "dt.fit(X_train,y_train)"
   ]
  },
  {
   "cell_type": "code",
   "execution_count": 51,
   "id": "d9b79a45-ca10-492c-8166-5145b534bfa8",
   "metadata": {},
   "outputs": [
    {
     "data": {
      "text/plain": [
       "0.9509266336945603"
      ]
     },
     "execution_count": 51,
     "metadata": {},
     "output_type": "execute_result"
    }
   ],
   "source": [
    "dt.score(X_train,y_train)"
   ]
  },
  {
   "cell_type": "code",
   "execution_count": 52,
   "id": "19275acb-dfb4-47e2-a08c-d56f64df2e38",
   "metadata": {},
   "outputs": [
    {
     "data": {
      "text/plain": [
       "0.9333673683673136"
      ]
     },
     "execution_count": 52,
     "metadata": {},
     "output_type": "execute_result"
    }
   ],
   "source": [
    "dt.score(X_test,y_test)"
   ]
  },
  {
   "cell_type": "markdown",
   "id": "6fe02a76-ecdc-41e4-a40c-3b949b2b5ca6",
   "metadata": {},
   "source": [
    "## 다양한 모델 피팅"
   ]
  },
  {
   "cell_type": "code",
   "execution_count": 162,
   "id": "98d7063c-6bf3-492b-b677-c6fb3e7ce875",
   "metadata": {},
   "outputs": [],
   "source": [
    "model1=DecisionTreeRegressor()\n",
    "model2=RandomForestRegressor(max_depth=10)\n",
    "model3=xgboost.XGBRegressor()\n",
    "model4=lgb.LGBMRegressor()"
   ]
  },
  {
   "cell_type": "code",
   "execution_count": 140,
   "id": "55972ac7-e3cf-4188-b346-89aa00ae2833",
   "metadata": {},
   "outputs": [
    {
     "data": {
      "text/plain": [
       "((2306, 4), (769, 4))"
      ]
     },
     "execution_count": 140,
     "metadata": {},
     "output_type": "execute_result"
    }
   ],
   "source": [
    "X_train.shape, X_test.shape"
   ]
  },
  {
   "cell_type": "code",
   "execution_count": 141,
   "id": "66741f32-b0d4-451f-990a-6395e448c713",
   "metadata": {},
   "outputs": [
    {
     "data": {
      "text/plain": [
       "((2306,), (769, 4))"
      ]
     },
     "execution_count": 141,
     "metadata": {},
     "output_type": "execute_result"
    }
   ],
   "source": [
    "y_train.shape, y_test.shape"
   ]
  },
  {
   "cell_type": "code",
   "execution_count": 190,
   "id": "6f0a298e-34b3-4deb-9a09-50bce4e201dc",
   "metadata": {},
   "outputs": [
    {
     "name": "stdout",
     "output_type": "stream",
     "text": [
      "DecisionTreeRegressor() 0.9309855287710651\n",
      "rmse= 75767.18856733743\n",
      "RandomForestRegressor(max_depth=10) 0.940537571851391\n",
      "rmse= 70328.67088332922\n",
      "XGBRegressor(base_score=0.5, booster='gbtree', callbacks=None,\n",
      "             colsample_bylevel=1, colsample_bynode=1, colsample_bytree=1,\n",
      "             early_stopping_rounds=None, enable_categorical=False,\n",
      "             eval_metric=None, feature_types=None, gamma=0, gpu_id=-1,\n",
      "             grow_policy='depthwise', importance_type=None,\n",
      "             interaction_constraints='', learning_rate=0.300000012, max_bin=256,\n",
      "             max_cat_threshold=64, max_cat_to_onehot=4, max_delta_step=0,\n",
      "             max_depth=6, max_leaves=0, min_child_weight=1, missing=nan,\n",
      "             monotone_constraints='()', n_estimators=100, n_jobs=0,\n",
      "             num_parallel_tree=1, predictor='auto', random_state=0, ...) 0.9340371140051392\n",
      "rmse= 74073.16717836037\n",
      "LGBMRegressor() 0.9358486083099412\n",
      "rmse= 73048.9758110751\n"
     ]
    }
   ],
   "source": [
    "models=[model1,model2,model3,model4]\n",
    "rmse=[]\n",
    "train=[]\n",
    "test=[]\n",
    "\n",
    "for m in models:\n",
    "    m.fit(X_train,y_train)\n",
    "    y_pred = m.predict(X_test)\n",
    "    mse=mean_squared_error(y_test, y_pred)\n",
    "    train.append(m.score(X_train,y_train))\n",
    "    test.append(m.score(X_test,y_test))\n",
    "    rmse.append(mse**0.5)\n",
    "    print(m,m.score(X_test,y_test), )\n",
    "    print('rmse=',mse**0.5)\n",
    "result =pd.DataFrame([train, test, rmse])"
   ]
  },
  {
   "cell_type": "markdown",
   "id": "40d7dd27-4353-4e8f-b4bd-17d386a1b6fb",
   "metadata": {},
   "source": [
    "## 모델 스코어 데이터프레임으로"
   ]
  },
  {
   "cell_type": "code",
   "execution_count": 191,
   "id": "2b812eee-ff57-4757-ad6d-579924bebc82",
   "metadata": {},
   "outputs": [],
   "source": [
    "result = result.T"
   ]
  },
  {
   "cell_type": "code",
   "execution_count": 192,
   "id": "cef5e0e8-5c6a-4124-891f-c40a62d139fe",
   "metadata": {},
   "outputs": [],
   "source": [
    "result.columns=['train_score', 'test_socre', 'rmse']\n"
   ]
  },
  {
   "cell_type": "code",
   "execution_count": 193,
   "id": "b86648a0-a9a5-4ab2-bef3-20ef741ec150",
   "metadata": {},
   "outputs": [
    {
     "data": {
      "text/html": [
       "<div>\n",
       "<style scoped>\n",
       "    .dataframe tbody tr th:only-of-type {\n",
       "        vertical-align: middle;\n",
       "    }\n",
       "\n",
       "    .dataframe tbody tr th {\n",
       "        vertical-align: top;\n",
       "    }\n",
       "\n",
       "    .dataframe thead th {\n",
       "        text-align: right;\n",
       "    }\n",
       "</style>\n",
       "<table border=\"1\" class=\"dataframe\">\n",
       "  <thead>\n",
       "    <tr style=\"text-align: right;\">\n",
       "      <th></th>\n",
       "      <th>train_score</th>\n",
       "      <th>test_socre</th>\n",
       "      <th>rmse</th>\n",
       "    </tr>\n",
       "  </thead>\n",
       "  <tbody>\n",
       "    <tr>\n",
       "      <th>0</th>\n",
       "      <td>0.949876</td>\n",
       "      <td>0.930986</td>\n",
       "      <td>75767.188567</td>\n",
       "    </tr>\n",
       "    <tr>\n",
       "      <th>1</th>\n",
       "      <td>0.948592</td>\n",
       "      <td>0.940538</td>\n",
       "      <td>70328.670883</td>\n",
       "    </tr>\n",
       "    <tr>\n",
       "      <th>2</th>\n",
       "      <td>0.949857</td>\n",
       "      <td>0.934037</td>\n",
       "      <td>74073.167178</td>\n",
       "    </tr>\n",
       "    <tr>\n",
       "      <th>3</th>\n",
       "      <td>0.936809</td>\n",
       "      <td>0.935849</td>\n",
       "      <td>73048.975811</td>\n",
       "    </tr>\n",
       "  </tbody>\n",
       "</table>\n",
       "</div>"
      ],
      "text/plain": [
       "   train_score  test_socre          rmse\n",
       "0     0.949876    0.930986  75767.188567\n",
       "1     0.948592    0.940538  70328.670883\n",
       "2     0.949857    0.934037  74073.167178\n",
       "3     0.936809    0.935849  73048.975811"
      ]
     },
     "execution_count": 193,
     "metadata": {},
     "output_type": "execute_result"
    }
   ],
   "source": [
    "result"
   ]
  },
  {
   "cell_type": "markdown",
   "id": "9a57d065-0571-4ba9-bbbf-b881b5a42f7a",
   "metadata": {},
   "source": [
    "## 예측 시각화"
   ]
  },
  {
   "cell_type": "code",
   "execution_count": 197,
   "id": "78bd551a-7b59-4bef-9ade-5271f66aa001",
   "metadata": {},
   "outputs": [],
   "source": [
    "import pandas as pd\n",
    "import numpy as np\n",
    "import matplotlib.pyplot as plt\n",
    "import seaborn as sns\n",
    "plt.rcParams['font.family'] = 'Malgun Gothic'"
   ]
  },
  {
   "cell_type": "code",
   "execution_count": 209,
   "id": "8bc07281-bba3-4fd4-b928-ebcfe6dbe8a2",
   "metadata": {},
   "outputs": [
    {
     "data": {
      "text/plain": [
       "RandomForestRegressor(max_depth=10)"
      ]
     },
     "execution_count": 209,
     "metadata": {},
     "output_type": "execute_result"
    }
   ],
   "source": [
    "model2.fit(X_train,y_train) # RandomForest로"
   ]
  },
  {
   "cell_type": "code",
   "execution_count": 211,
   "id": "189f492c-f8e3-455d-9dd1-5b6dc45c763e",
   "metadata": {},
   "outputs": [],
   "source": [
    "y_pred=model2.predict(X_test)"
   ]
  },
  {
   "cell_type": "code",
   "execution_count": 216,
   "id": "3802daa0-67cc-4d54-ae7a-89922190f537",
   "metadata": {},
   "outputs": [],
   "source": [
    "df=pd.DataFrame([X_test['시리즈'],X_test['모델'],X_test['제품상태'],y_test],index=['시리즈','모델','제품상태','실제값'])"
   ]
  },
  {
   "cell_type": "code",
   "execution_count": 218,
   "id": "a87a7715-9d60-491f-91c2-ba8f638562c8",
   "metadata": {},
   "outputs": [],
   "source": [
    "df=df.T"
   ]
  },
  {
   "cell_type": "code",
   "execution_count": 219,
   "id": "cb65d3d5-3730-492e-9c03-fe4816199fdc",
   "metadata": {},
   "outputs": [],
   "source": [
    "df=df.reset_index(drop=True)"
   ]
  },
  {
   "cell_type": "code",
   "execution_count": 220,
   "id": "53305124-18f3-423f-8de8-7b92be90d7c7",
   "metadata": {},
   "outputs": [],
   "source": [
    "df['예측값']=y_pred"
   ]
  },
  {
   "cell_type": "code",
   "execution_count": 221,
   "id": "a9b855a7-3344-4790-8748-d968bc9a866b",
   "metadata": {},
   "outputs": [
    {
     "data": {
      "text/html": [
       "<div>\n",
       "<style scoped>\n",
       "    .dataframe tbody tr th:only-of-type {\n",
       "        vertical-align: middle;\n",
       "    }\n",
       "\n",
       "    .dataframe tbody tr th {\n",
       "        vertical-align: top;\n",
       "    }\n",
       "\n",
       "    .dataframe thead th {\n",
       "        text-align: right;\n",
       "    }\n",
       "</style>\n",
       "<table border=\"1\" class=\"dataframe\">\n",
       "  <thead>\n",
       "    <tr style=\"text-align: right;\">\n",
       "      <th></th>\n",
       "      <th>시리즈</th>\n",
       "      <th>모델</th>\n",
       "      <th>제품상태</th>\n",
       "      <th>실제값</th>\n",
       "      <th>예측값</th>\n",
       "    </tr>\n",
       "  </thead>\n",
       "  <tbody>\n",
       "    <tr>\n",
       "      <th>0</th>\n",
       "      <td>1</td>\n",
       "      <td>3</td>\n",
       "      <td>1</td>\n",
       "      <td>653000</td>\n",
       "      <td>648007.337815</td>\n",
       "    </tr>\n",
       "    <tr>\n",
       "      <th>1</th>\n",
       "      <td>1</td>\n",
       "      <td>0</td>\n",
       "      <td>0</td>\n",
       "      <td>587000</td>\n",
       "      <td>541207.538395</td>\n",
       "    </tr>\n",
       "    <tr>\n",
       "      <th>2</th>\n",
       "      <td>2</td>\n",
       "      <td>3</td>\n",
       "      <td>0</td>\n",
       "      <td>948000</td>\n",
       "      <td>924090.460348</td>\n",
       "    </tr>\n",
       "    <tr>\n",
       "      <th>3</th>\n",
       "      <td>13</td>\n",
       "      <td>0</td>\n",
       "      <td>1</td>\n",
       "      <td>200000</td>\n",
       "      <td>244243.376792</td>\n",
       "    </tr>\n",
       "    <tr>\n",
       "      <th>4</th>\n",
       "      <td>2</td>\n",
       "      <td>0</td>\n",
       "      <td>1</td>\n",
       "      <td>584000</td>\n",
       "      <td>601936.968115</td>\n",
       "    </tr>\n",
       "    <tr>\n",
       "      <th>...</th>\n",
       "      <td>...</td>\n",
       "      <td>...</td>\n",
       "      <td>...</td>\n",
       "      <td>...</td>\n",
       "      <td>...</td>\n",
       "    </tr>\n",
       "    <tr>\n",
       "      <th>764</th>\n",
       "      <td>2</td>\n",
       "      <td>0</td>\n",
       "      <td>0</td>\n",
       "      <td>545000</td>\n",
       "      <td>688487.139903</td>\n",
       "    </tr>\n",
       "    <tr>\n",
       "      <th>765</th>\n",
       "      <td>1</td>\n",
       "      <td>4</td>\n",
       "      <td>0</td>\n",
       "      <td>800000</td>\n",
       "      <td>773467.879918</td>\n",
       "    </tr>\n",
       "    <tr>\n",
       "      <th>766</th>\n",
       "      <td>1</td>\n",
       "      <td>2</td>\n",
       "      <td>1</td>\n",
       "      <td>340000</td>\n",
       "      <td>379324.027456</td>\n",
       "    </tr>\n",
       "    <tr>\n",
       "      <th>767</th>\n",
       "      <td>0</td>\n",
       "      <td>0</td>\n",
       "      <td>2</td>\n",
       "      <td>250000</td>\n",
       "      <td>216659.473455</td>\n",
       "    </tr>\n",
       "    <tr>\n",
       "      <th>768</th>\n",
       "      <td>5</td>\n",
       "      <td>5</td>\n",
       "      <td>2</td>\n",
       "      <td>45000</td>\n",
       "      <td>39491.733766</td>\n",
       "    </tr>\n",
       "  </tbody>\n",
       "</table>\n",
       "<p>769 rows × 5 columns</p>\n",
       "</div>"
      ],
      "text/plain": [
       "     시리즈  모델  제품상태     실제값            예측값\n",
       "0      1   3     1  653000  648007.337815\n",
       "1      1   0     0  587000  541207.538395\n",
       "2      2   3     0  948000  924090.460348\n",
       "3     13   0     1  200000  244243.376792\n",
       "4      2   0     1  584000  601936.968115\n",
       "..   ...  ..   ...     ...            ...\n",
       "764    2   0     0  545000  688487.139903\n",
       "765    1   4     0  800000  773467.879918\n",
       "766    1   2     1  340000  379324.027456\n",
       "767    0   0     2  250000  216659.473455\n",
       "768    5   5     2   45000   39491.733766\n",
       "\n",
       "[769 rows x 5 columns]"
      ]
     },
     "execution_count": 221,
     "metadata": {},
     "output_type": "execute_result"
    }
   ],
   "source": [
    "df"
   ]
  },
  {
   "cell_type": "code",
   "execution_count": 237,
   "id": "cd17fdc4-a66b-4ef9-9b47-0b0dc7055ad0",
   "metadata": {},
   "outputs": [
    {
     "data": {
      "text/plain": [
       "Text(0.5, 1.0, 'RandomForestRegressor 결과 비교')"
      ]
     },
     "execution_count": 237,
     "metadata": {},
     "output_type": "execute_result"
    },
    {
     "data": {
      "image/png": "[encoded data removed]",
      "text/plain": [
       "<Figure size 720x576 with 1 Axes>"
      ]
     },
     "metadata": {
      "needs_background": "light"
     },
     "output_type": "display_data"
    }
   ],
   "source": [
    "plt.figure(figsize=(10,8))\n",
    "sns.scatterplot(x='시리즈',y='실제값',data=df)\n",
    "sns.scatterplot(x='시리즈',y='예측값',data=df)\n",
    "\n",
    "plt.legend(['실제값','예측값'])\n",
    "plt.grid()\n",
    "plt.ylabel('가격')\n",
    "plt.title('RandomForestRegressor 결과 비교')"
   ]
  },
  {
   "cell_type": "markdown",
   "id": "8e899e4d-9e8f-40ec-a9db-07d17ea42938",
   "metadata": {},
   "source": [
    "## 변수 중요도 "
   ]
  },
  {
   "cell_type": "code",
   "execution_count": 242,
   "id": "62581007-a41c-40ce-823d-d863e9aedd04",
   "metadata": {},
   "outputs": [
    {
     "data": {
      "text/plain": [
       "array(['시리즈', '모델', '용량', '제품상태'], dtype=object)"
      ]
     },
     "execution_count": 242,
     "metadata": {},
     "output_type": "execute_result"
    }
   ],
   "source": [
    "model2.feature_names_in_"
   ]
  },
  {
   "cell_type": "code",
   "execution_count": 243,
   "id": "632f5ad1-6977-49b7-8739-194129f46c48",
   "metadata": {},
   "outputs": [
    {
     "data": {
      "text/plain": [
       "array([0.64647094, 0.26460925, 0.02980495, 0.05911487])"
      ]
     },
     "execution_count": 243,
     "metadata": {},
     "output_type": "execute_result"
    }
   ],
   "source": [
    "model2.feature_importances_"
   ]
  },
  {
   "cell_type": "markdown",
   "id": "6d63db10-33ac-4a34-b9f4-c9cfe7d8302b",
   "metadata": {},
   "source": [
    "## 피클로 저장"
   ]
  },
  {
   "cell_type": "code",
   "execution_count": 244,
   "id": "46594cdd-d262-4687-9a0e-686c13210e96",
   "metadata": {},
   "outputs": [],
   "source": [
    "import pickle"
   ]
  },
  {
   "cell_type": "code",
   "execution_count": 245,
   "id": "ea988db2-c5a5-40c5-9447-e2af6271e07c",
   "metadata": {},
   "outputs": [],
   "source": [
    "with open('RFmodel.pkl','wb') as f:\n",
    "    pickle.dump(model2, f)"
   ]
  },
  {
   "cell_type": "code",
   "execution_count": 247,
   "id": "b7073152-d504-46f5-82e7-74d0b02e893a",
   "metadata": {},
   "outputs": [],
   "source": [
    "with open('LabelEncoder.pkl','wb') as f:\n",
    "    pickle.dump(le_list,f)"
   ]
  }
 ],
 "metadata": {
  "kernelspec": {
   "display_name": "Python 3 (ipykernel)",
   "language": "python",
   "name": "python3"
  },
  "language_info": {
   "codemirror_mode": {
    "name": "ipython",
    "version": 3
   },
   "file_extension": ".py",
   "mimetype": "text/x-python",
   "name": "python",
   "nbconvert_exporter": "python",
   "pygments_lexer": "ipython3",
   "version": "3.9.13"
  }
 },
 "nbformat": 4,
 "nbformat_minor": 5
}
