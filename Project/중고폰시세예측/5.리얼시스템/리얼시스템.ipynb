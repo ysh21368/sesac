{
 "cells": [
  {
   "cell_type": "code",
   "execution_count": 1,
   "id": "4b66cc36-7369-4077-b36d-be9077841a29",
   "metadata": {},
   "outputs": [],
   "source": [
    "import numpy as np"
   ]
  },
  {
   "cell_type": "code",
   "execution_count": 2,
   "id": "4af14e29-70ec-4b0d-8ba5-eba4edb5ee65",
   "metadata": {},
   "outputs": [],
   "source": [
    "import pickle\n",
    "import pandas as pd"
   ]
  },
  {
   "cell_type": "code",
   "execution_count": 3,
   "id": "7b29cf17-ec0e-44b5-969a-a708e6b1c783",
   "metadata": {},
   "outputs": [],
   "source": [
    "with open('RFmodel.pkl','rb') as f:\n",
    "    model=pickle.load(f)\n",
    "with open('LabelEncoder.pkl','rb') as f:\n",
    "    le_list=pickle.load(f)"
   ]
  },
  {
   "cell_type": "code",
   "execution_count": 5,
   "id": "39dc97a2-7281-4e06-b10e-f13c3a4a1833",
   "metadata": {},
   "outputs": [
    {
     "name": "stdin",
     "output_type": "stream",
     "text": [
      "시리즈를 입력해주세요 :  아이폰12\n",
      "모델을 입력해주세요 :  프로\n",
      "용량을 입력해주세요 :  128GB\n",
      "제품상태를 입력해주세요 :  상\n"
     ]
    }
   ],
   "source": [
    "data=[]\n",
    "temp=input('시리즈를 입력해주세요 : ')\n",
    "data.append(temp)\n",
    "temp=input('모델을 입력해주세요 : ')\n",
    "data.append(temp)\n",
    "temp=input('용량을 입력해주세요 : ')\n",
    "data.append(temp)\n",
    "temp=input('제품상태를 입력해주세요 : ')\n",
    "data.append(temp)\n"
   ]
  },
  {
   "cell_type": "code",
   "execution_count": 6,
   "id": "4513cea7-eb2b-49d8-92da-f10b52ca11d4",
   "metadata": {},
   "outputs": [],
   "source": [
    "real=pd.DataFrame(data,index=['시리즈','모델','용량','제품상태']).T"
   ]
  },
  {
   "cell_type": "code",
   "execution_count": 7,
   "id": "8223d67e-0901-470b-af06-432fb664ffb9",
   "metadata": {},
   "outputs": [],
   "source": [
    "for index,c in enumerate(real.columns):\n",
    "    real[c]=le_list[index].transform(real[c])"
   ]
  },
  {
   "cell_type": "code",
   "execution_count": 8,
   "id": "02bd5274-6746-4235-a74e-98220a979123",
   "metadata": {},
   "outputs": [
    {
     "name": "stdout",
     "output_type": "stream",
     "text": [
      "예측 가격은 617321원 입니다.\n"
     ]
    }
   ],
   "source": [
    "print(f'예측 가격은 {int(model.predict(real))}원 입니다.')"
   ]
  },
  {
   "cell_type": "code",
   "execution_count": null,
   "id": "0c60e2e7-3dbc-4fc8-a8c8-1b524d116b4e",
   "metadata": {},
   "outputs": [],
   "source": []
  }
 ],
 "metadata": {
  "kernelspec": {
   "display_name": "Python 3 (ipykernel)",
   "language": "python",
   "name": "python3"
  },
  "language_info": {
   "codemirror_mode": {
    "name": "ipython",
    "version": 3
   },
   "file_extension": ".py",
   "mimetype": "text/x-python",
   "name": "python",
   "nbconvert_exporter": "python",
   "pygments_lexer": "ipython3",
   "version": "3.9.13"
  }
 },
 "nbformat": 4,
 "nbformat_minor": 5
}
