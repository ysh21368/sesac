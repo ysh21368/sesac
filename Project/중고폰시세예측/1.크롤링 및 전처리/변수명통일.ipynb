{
 "cells": [
  {
   "cell_type": "code",
   "execution_count": 119,
   "id": "9feff0cd-db17-4bcf-b043-3495dd75f1f6",
   "metadata": {},
   "outputs": [],
   "source": [
    "import pandas as pd\n",
    "import numpy as np"
   ]
  },
  {
   "cell_type": "code",
   "execution_count": 120,
   "id": "2e6138d1-98a6-43b0-a21d-aed4d470bb56",
   "metadata": {},
   "outputs": [],
   "source": [
    "cetizen=pd.read_csv('cetizen_final.csv',encoding='euc-kr')"
   ]
  },
  {
   "cell_type": "code",
   "execution_count": 121,
   "id": "c16ad613-5bde-4e87-8493-5ddd1f0736cb",
   "metadata": {},
   "outputs": [],
   "source": [
    "gabi=pd.read_csv('gabi_final.csv',encoding='euc-kr')"
   ]
  },
  {
   "cell_type": "code",
   "execution_count": 122,
   "id": "48866ef5-fd32-4a78-9458-91465df17f63",
   "metadata": {},
   "outputs": [
    {
     "data": {
      "text/plain": [
       "Index(['기기명', '제품상태', '구성품', '기변상태', '선택약정', '보증기간', '가격', '용량', '분류1', '분류2'], dtype='object')"
      ]
     },
     "execution_count": 122,
     "metadata": {},
     "output_type": "execute_result"
    }
   ],
   "source": [
    "cetizen.columns"
   ]
  },
  {
   "cell_type": "code",
   "execution_count": 123,
   "id": "72bb3e08-b6cf-494b-b42c-26f6924fb0db",
   "metadata": {},
   "outputs": [
    {
     "data": {
      "text/plain": [
       "Index(['폰ID', '개봉여부', '미세손상', '외관손상', '화면잔상', '등급', '가격', '시리즈', '용량', 'name',\n",
       "       '세부분류', '검수중', '계정잠김', '마이크', '배터리성능저하', '생체인식', '스피커', '없음', '전원',\n",
       "       '진동', '충전', '카메라', '터치'],\n",
       "      dtype='object')"
      ]
     },
     "execution_count": 123,
     "metadata": {},
     "output_type": "execute_result"
    }
   ],
   "source": [
    "gabi.columns"
   ]
  },
  {
   "cell_type": "code",
   "execution_count": 124,
   "id": "0faf01d9-e25e-4bd7-ac5c-ab02480fab24",
   "metadata": {},
   "outputs": [],
   "source": [
    "cdata=cetizen[['가격', '용량', '분류1', '분류2']]\n",
    "gdata=gabi[['가격','용량','시리즈','세부분류']]"
   ]
  },
  {
   "cell_type": "markdown",
   "id": "3c727c5a-df1c-4b41-aca3-d67fa1055462",
   "metadata": {},
   "source": [
    "## [시리즈] 11 -> 아이폰11"
   ]
  },
  {
   "cell_type": "code",
   "execution_count": 125,
   "id": "5018c08c-9ac5-4670-83b5-949731d04761",
   "metadata": {},
   "outputs": [
    {
     "name": "stderr",
     "output_type": "stream",
     "text": [
      "C:\\Users\\user\\AppData\\Local\\Temp\\ipykernel_19048\\2725831677.py:1: SettingWithCopyWarning: \n",
      "A value is trying to be set on a copy of a slice from a DataFrame.\n",
      "Try using .loc[row_indexer,col_indexer] = value instead\n",
      "\n",
      "See the caveats in the documentation: https://pandas.pydata.org/pandas-docs/stable/user_guide/indexing.html#returning-a-view-versus-a-copy\n",
      "  gdata['시리즈']='아이폰'+gdata['시리즈']\n"
     ]
    }
   ],
   "source": [
    "gdata['시리즈']='아이폰'+gdata['시리즈']"
   ]
  },
  {
   "cell_type": "code",
   "execution_count": 126,
   "id": "5b029e86-62ac-4847-91d0-37c8321cf52f",
   "metadata": {
    "tags": []
   },
   "outputs": [
    {
     "data": {
      "text/html": [
       "<div>\n",
       "<style scoped>\n",
       "    .dataframe tbody tr th:only-of-type {\n",
       "        vertical-align: middle;\n",
       "    }\n",
       "\n",
       "    .dataframe tbody tr th {\n",
       "        vertical-align: top;\n",
       "    }\n",
       "\n",
       "    .dataframe thead th {\n",
       "        text-align: right;\n",
       "    }\n",
       "</style>\n",
       "<table border=\"1\" class=\"dataframe\">\n",
       "  <thead>\n",
       "    <tr style=\"text-align: right;\">\n",
       "      <th></th>\n",
       "      <th>가격</th>\n",
       "      <th>용량</th>\n",
       "      <th>시리즈</th>\n",
       "      <th>세부분류</th>\n",
       "    </tr>\n",
       "  </thead>\n",
       "  <tbody>\n",
       "    <tr>\n",
       "      <th>0</th>\n",
       "      <td>930000</td>\n",
       "      <td>512GB</td>\n",
       "      <td>아이폰13</td>\n",
       "      <td>프로</td>\n",
       "    </tr>\n",
       "    <tr>\n",
       "      <th>1</th>\n",
       "      <td>430000</td>\n",
       "      <td>128GB</td>\n",
       "      <td>아이폰12</td>\n",
       "      <td>없음</td>\n",
       "    </tr>\n",
       "    <tr>\n",
       "      <th>2</th>\n",
       "      <td>410000</td>\n",
       "      <td>64GB</td>\n",
       "      <td>아이폰11</td>\n",
       "      <td>프로</td>\n",
       "    </tr>\n",
       "    <tr>\n",
       "      <th>3</th>\n",
       "      <td>335000</td>\n",
       "      <td>256GB</td>\n",
       "      <td>아이폰11</td>\n",
       "      <td>프로</td>\n",
       "    </tr>\n",
       "    <tr>\n",
       "      <th>4</th>\n",
       "      <td>1000</td>\n",
       "      <td>128GB</td>\n",
       "      <td>아이폰12</td>\n",
       "      <td>없음</td>\n",
       "    </tr>\n",
       "    <tr>\n",
       "      <th>...</th>\n",
       "      <td>...</td>\n",
       "      <td>...</td>\n",
       "      <td>...</td>\n",
       "      <td>...</td>\n",
       "    </tr>\n",
       "    <tr>\n",
       "      <th>665</th>\n",
       "      <td>335000</td>\n",
       "      <td>128GB</td>\n",
       "      <td>아이폰13</td>\n",
       "      <td>미니</td>\n",
       "    </tr>\n",
       "    <tr>\n",
       "      <th>666</th>\n",
       "      <td>275000</td>\n",
       "      <td>128GB</td>\n",
       "      <td>아이폰11</td>\n",
       "      <td>없음</td>\n",
       "    </tr>\n",
       "    <tr>\n",
       "      <th>667</th>\n",
       "      <td>165000</td>\n",
       "      <td>256GB</td>\n",
       "      <td>아이폰XS</td>\n",
       "      <td>없음</td>\n",
       "    </tr>\n",
       "    <tr>\n",
       "      <th>668</th>\n",
       "      <td>265000</td>\n",
       "      <td>64GB</td>\n",
       "      <td>아이폰11</td>\n",
       "      <td>프로</td>\n",
       "    </tr>\n",
       "    <tr>\n",
       "      <th>669</th>\n",
       "      <td>245000</td>\n",
       "      <td>128GB</td>\n",
       "      <td>아이폰11</td>\n",
       "      <td>없음</td>\n",
       "    </tr>\n",
       "  </tbody>\n",
       "</table>\n",
       "<p>670 rows × 4 columns</p>\n",
       "</div>"
      ],
      "text/plain": [
       "         가격     용량    시리즈 세부분류\n",
       "0    930000  512GB  아이폰13   프로\n",
       "1    430000  128GB  아이폰12   없음\n",
       "2    410000   64GB  아이폰11   프로\n",
       "3    335000  256GB  아이폰11   프로\n",
       "4      1000  128GB  아이폰12   없음\n",
       "..      ...    ...    ...  ...\n",
       "665  335000  128GB  아이폰13   미니\n",
       "666  275000  128GB  아이폰11   없음\n",
       "667  165000  256GB  아이폰XS   없음\n",
       "668  265000   64GB  아이폰11   프로\n",
       "669  245000  128GB  아이폰11   없음\n",
       "\n",
       "[670 rows x 4 columns]"
      ]
     },
     "execution_count": 126,
     "metadata": {},
     "output_type": "execute_result"
    }
   ],
   "source": [
    "gdata"
   ]
  },
  {
   "cell_type": "markdown",
   "id": "6e74fee6-dda2-4899-aae3-52a26dca6e56",
   "metadata": {},
   "source": [
    "## [시리즈/모델] feature명 통일"
   ]
  },
  {
   "cell_type": "code",
   "execution_count": 127,
   "id": "24bb4c75-601c-4500-beaf-179083821f2e",
   "metadata": {},
   "outputs": [],
   "source": [
    "cdata=cdata.rename(columns={'분류1':'시리즈',\n",
    "                     '분류2': '모델'})"
   ]
  },
  {
   "cell_type": "code",
   "execution_count": 128,
   "id": "25f3698b-d0b6-40f9-8d01-42bc7a94a60b",
   "metadata": {},
   "outputs": [],
   "source": [
    "gdata=gdata.rename(columns={'세부분류': '모델'})"
   ]
  },
  {
   "cell_type": "code",
   "execution_count": 129,
   "id": "df5a3e2b-0408-4d8d-b575-c52b9c742176",
   "metadata": {},
   "outputs": [],
   "source": [
    "cdata['시리즈']=cdata['시리즈'].str.upper()"
   ]
  },
  {
   "cell_type": "markdown",
   "id": "3bcde583-6c17-4346-9db5-78c19a39e577",
   "metadata": {},
   "source": [
    "## [모델] se 핸드폰 통일해주기"
   ]
  },
  {
   "cell_type": "code",
   "execution_count": 130,
   "id": "f71b2bc9-51da-4c08-8bb7-8bb5ee74575a",
   "metadata": {},
   "outputs": [
    {
     "data": {
      "text/plain": [
       "array(['2020', '2022', '기본'], dtype=object)"
      ]
     },
     "execution_count": 130,
     "metadata": {},
     "output_type": "execute_result"
    }
   ],
   "source": [
    "cdata[cdata['시리즈']=='아이폰SE']['모델'].unique()"
   ]
  },
  {
   "cell_type": "code",
   "execution_count": 133,
   "id": "7b4f744b-7868-4857-a77c-6634783eb476",
   "metadata": {},
   "outputs": [],
   "source": [
    "se_index=cdata[cdata['시리즈']=='아이폰SE'].index"
   ]
  },
  {
   "cell_type": "code",
   "execution_count": 134,
   "id": "2d718f6d-2bd0-4f7e-befb-4e4e3e197209",
   "metadata": {},
   "outputs": [
    {
     "data": {
      "text/plain": [
       "Int64Index([  73,   76,   92,   94,  110,  113,  116,  120,  132,  143,\n",
       "            ...\n",
       "            2321, 2340, 2343, 2346, 2351, 2356, 2357, 2374, 2377, 2398],\n",
       "           dtype='int64', length=178)"
      ]
     },
     "execution_count": 134,
     "metadata": {},
     "output_type": "execute_result"
    }
   ],
   "source": [
    "se_index"
   ]
  },
  {
   "cell_type": "code",
   "execution_count": 135,
   "id": "bfbca167-e2d6-4549-bba8-3c7dcda88aeb",
   "metadata": {},
   "outputs": [],
   "source": [
    "cdata.loc[se_index,'시리즈']=cdata.loc[se_index,'시리즈']+cdata.loc[se_index,'모델']"
   ]
  },
  {
   "cell_type": "code",
   "execution_count": 136,
   "id": "5c5f2378-35de-453b-b5c2-9b7af815ee78",
   "metadata": {},
   "outputs": [],
   "source": [
    "cdata['시리즈']=np.where(cdata['시리즈']=='아이폰SE2020','아이폰SE2',\n",
    "        np.where(cdata['시리즈']=='아이폰SE2022','아이폰SE3',cdata['시리즈']))"
   ]
  },
  {
   "cell_type": "code",
   "execution_count": 137,
   "id": "3ff5c2a1-b487-4b93-9179-dd2115663480",
   "metadata": {},
   "outputs": [],
   "source": [
    "cdata['시리즈']=np.where(cdata['시리즈']=='아이폰SE기본','아이폰SE',cdata['시리즈'])"
   ]
  },
  {
   "cell_type": "code",
   "execution_count": 139,
   "id": "e6333ed2-10e5-495b-866c-b4018cfb3bde",
   "metadata": {},
   "outputs": [],
   "source": [
    "gdata['모델']=np.where(gdata['모델']=='Max','맥스',\n",
    "         np.where(gdata['모델']=='없음','기본',gdata['모델']))"
   ]
  },
  {
   "cell_type": "code",
   "execution_count": 140,
   "id": "67edef31-273a-4104-9c31-a4206aafff74",
   "metadata": {},
   "outputs": [
    {
     "data": {
      "text/plain": [
       "array(['프로', '기본', '플러스', '미니', '프로맥스', '맥스'], dtype=object)"
      ]
     },
     "execution_count": 140,
     "metadata": {},
     "output_type": "execute_result"
    }
   ],
   "source": [
    "gdata['모델'].unique()"
   ]
  },
  {
   "cell_type": "code",
   "execution_count": 141,
   "id": "690630e2-a5f2-4afc-afa2-fa775b64be95",
   "metadata": {},
   "outputs": [],
   "source": [
    "cdata['모델']=np.where(cdata['모델']=='2020','기본',\n",
    "                     np.where(cdata['모델']=='2022','기본',cdata['모델']))"
   ]
  },
  {
   "cell_type": "markdown",
   "id": "03e616e8-5758-4af9-b0ba-98dd10674260",
   "metadata": {},
   "source": [
    "## [용량] 1TB -> 1024GB 통일"
   ]
  },
  {
   "cell_type": "code",
   "execution_count": 147,
   "id": "02c72125-3bdb-45c7-9769-a6c5ba783587",
   "metadata": {},
   "outputs": [],
   "source": [
    "cdata['용량']=np.where(cdata['용량']=='1TB','1024GB',cdata['용량'])"
   ]
  },
  {
   "cell_type": "code",
   "execution_count": 149,
   "id": "4b60682b-3481-47c0-b0cf-d9c8d6147c8e",
   "metadata": {},
   "outputs": [
    {
     "data": {
      "text/plain": [
       "array(['256GB', '64GB', '128GB', '512GB', '1024GB', '32GB', '16GB'],\n",
       "      dtype=object)"
      ]
     },
     "execution_count": 149,
     "metadata": {},
     "output_type": "execute_result"
    }
   ],
   "source": [
    "cdata['용량'].unique()"
   ]
  }
 ],
 "metadata": {
  "kernelspec": {
   "display_name": "Python 3 (ipykernel)",
   "language": "python",
   "name": "python3"
  },
  "language_info": {
   "codemirror_mode": {
    "name": "ipython",
    "version": 3
   },
   "file_extension": ".py",
   "mimetype": "text/x-python",
   "name": "python",
   "nbconvert_exporter": "python",
   "pygments_lexer": "ipython3",
   "version": "3.9.13"
  }
 },
 "nbformat": 4,
 "nbformat_minor": 5
}
