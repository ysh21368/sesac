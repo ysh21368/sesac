{
 "cells": [
  {
   "cell_type": "code",
   "execution_count": null,
   "id": "5e9edaa3-b72f-4485-84d5-9a5c1291b1f6",
   "metadata": {},
   "outputs": [],
   "source": [
    "import pandas as pd"
   ]
  },
  {
   "cell_type": "code",
   "execution_count": null,
   "id": "897004a6-27a3-4af8-a620-7502f80a8e32",
   "metadata": {
    "tags": []
   },
   "outputs": [],
   "source": [
    "data = pd.read_csv('midwest.csv')"
   ]
  },
  {
   "cell_type": "code",
   "execution_count": null,
   "id": "60e2a9e8-eb8a-4cc9-bee2-cf456ae1fa80",
   "metadata": {},
   "outputs": [],
   "source": [
    "data"
   ]
  },
  {
   "cell_type": "code",
   "execution_count": null,
   "id": "6333030e-0403-4720-8341-414d178e0a8c",
   "metadata": {},
   "outputs": [],
   "source": [
    "data.head()"
   ]
  },
  {
   "cell_type": "code",
   "execution_count": null,
   "id": "adb74798-186d-4e80-be9a-67cb691efe88",
   "metadata": {},
   "outputs": [],
   "source": [
    "# p130 문제2번"
   ]
  },
  {
   "cell_type": "markdown",
   "id": "2550c7c1-805d-4e8a-9cc7-70f96428920f",
   "metadata": {},
   "source": [
    "midwest = midwest.rename({'poptotal':'total', 'popasian':'asian' }, axis=1)\n",
    "midwest = midwest.rename({'poptotal':'total', 'popasian':'asian' }, axis=1, inplace = True)\n",
    "midwest = midwest.rename(columns = {'poptotal':'total', 'popasian':'asian' })"
   ]
  },
  {
   "cell_type": "code",
   "execution_count": null,
   "id": "b87f123c-ff13-4231-9061-0676db80987e",
   "metadata": {},
   "outputs": [],
   "source": [
    "data.rename({'poptotal':'total', 'popasian':'asian' }, axis=1, inplace = True)"
   ]
  },
  {
   "cell_type": "code",
   "execution_count": null,
   "id": "e252af49-b25e-492f-9a4e-eec975868cf5",
   "metadata": {},
   "outputs": [],
   "source": [
    "data"
   ]
  },
  {
   "cell_type": "markdown",
   "id": "4985a098-0836-401a-aabf-2e328d5a6911",
   "metadata": {},
   "source": [
    "# 3"
   ]
  },
  {
   "cell_type": "code",
   "execution_count": null,
   "id": "d30a03c8-1a02-4d60-8942-2f6cbd88e84a",
   "metadata": {},
   "outputs": [],
   "source": [
    "midwest['percent'] = midwest['asian'] / midwest['total']) * 100"
   ]
  },
  {
   "cell_type": "code",
   "execution_count": null,
   "id": "1f9a6dc9-b46c-4f07-9f73-cc61dbeba1d5",
   "metadata": {},
   "outputs": [],
   "source": [
    "x = (data['asian'] / data['total']) * 100"
   ]
  },
  {
   "cell_type": "code",
   "execution_count": null,
   "id": "3e597c5a-a7b7-4cf5-8dd5-aaaf4473d357",
   "metadata": {},
   "outputs": [],
   "source": [
    "x"
   ]
  },
  {
   "cell_type": "code",
   "execution_count": null,
   "id": "c1ebb277-c056-44f1-b968-22d3740a70e5",
   "metadata": {},
   "outputs": [],
   "source": [
    "data['var_mean'] = x"
   ]
  },
  {
   "cell_type": "code",
   "execution_count": null,
   "id": "b71fa84d-08da-43e8-8902-ecc2dbe903e6",
   "metadata": {},
   "outputs": [],
   "source": [
    "data"
   ]
  },
  {
   "cell_type": "markdown",
   "id": "53527750-df8c-4c66-9e48-e627cc06571f",
   "metadata": {
    "tags": []
   },
   "source": [
    "# 4"
   ]
  },
  {
   "cell_type": "code",
   "execution_count": null,
   "id": "4da640f6-776a-4b4a-bff0-0b264ed3b163",
   "metadata": {},
   "outputs": [],
   "source": [
    "x.mean()"
   ]
  },
  {
   "cell_type": "code",
   "execution_count": null,
   "id": "237ab687-6ffa-4eae-9ecb-baf7b9041bf2",
   "metadata": {
    "tags": []
   },
   "outputs": [],
   "source": [
    "midwest['percent'].mean()"
   ]
  },
  {
   "cell_type": "code",
   "execution_count": null,
   "id": "8e0f4692-3663-4e0b-86e9-9ae5f7a72897",
   "metadata": {
    "tags": []
   },
   "outputs": [],
   "source": [
    "midwest['size'] = np.where(midwest['percent'] > midwest['percent'].mean(),\n",
    "                           'large', 'small')"
   ]
  },
  {
   "cell_type": "code",
   "execution_count": null,
   "id": "3cdd6e0c-411c-4767-9e02-f1063518a265",
   "metadata": {
    "tags": []
   },
   "outputs": [],
   "source": [
    "midwest['size'].value_counts()"
   ]
  },
  {
   "cell_type": "code",
   "execution_count": null,
   "id": "430571e0-7287-4974-95d4-8cca670c7c6c",
   "metadata": {},
   "outputs": [],
   "source": [
    "def isAverage(percent, mean) :\n",
    "    if percent > mean :\n",
    "        return 'large'\n",
    "    return 'small'        "
   ]
  },
  {
   "cell_type": "code",
   "execution_count": null,
   "id": "0c93d63c-43f0-4571-9ef6-e10b49a1478a",
   "metadata": {},
   "outputs": [],
   "source": [
    "midwest['size2'] = \\\n",
    "x.apply(isAverage, args=[x.mean()])"
   ]
  },
  {
   "cell_type": "code",
   "execution_count": null,
   "id": "07dd9cfe-ce9e-4361-9367-b56f38099cc1",
   "metadata": {},
   "outputs": [],
   "source": [
    "midwest['size2'].value_counts()"
   ]
  },
  {
   "cell_type": "code",
   "execution_count": null,
   "id": "b86fdefa-ef1e-4e96-9d19-709ea07d9ac1",
   "metadata": {},
   "outputs": [],
   "source": []
  },
  {
   "cell_type": "code",
   "execution_count": null,
   "id": "7a567afd-ce37-4f6d-9e48-b09c59186b9e",
   "metadata": {},
   "outputs": [],
   "source": [
    "import pandas as pd"
   ]
  },
  {
   "cell_type": "code",
   "execution_count": null,
   "id": "3c57a9ba-f782-4d65-915a-edf5a4a5ea59",
   "metadata": {},
   "outputs": [],
   "source": [
    "list_var = ['a', 'b', 'c', 'd']"
   ]
  },
  {
   "cell_type": "code",
   "execution_count": null,
   "id": "7ee3e005-3b60-4a84-a055-033374e14f54",
   "metadata": {},
   "outputs": [],
   "source": [
    "type(list_var)"
   ]
  },
  {
   "cell_type": "code",
   "execution_count": null,
   "id": "4c835e5e-e39c-4ac8-b5e8-73effa54288a",
   "metadata": {},
   "outputs": [],
   "source": [
    "series_var = pd.Series(list_var, index = [1, 2, 3, 4])"
   ]
  },
  {
   "cell_type": "code",
   "execution_count": null,
   "id": "555eed42-fff0-4d44-852a-10bccdf20be6",
   "metadata": {},
   "outputs": [],
   "source": [
    "series_var"
   ]
  },
  {
   "cell_type": "code",
   "execution_count": null,
   "id": "7fca771e-5291-4e88-ba57-eed312a89b0d",
   "metadata": {},
   "outputs": [],
   "source": [
    "type(series_var)"
   ]
  },
  {
   "cell_type": "code",
   "execution_count": null,
   "id": "ce5ced94-1c45-4624-b6ce-2897d1c13d65",
   "metadata": {},
   "outputs": [],
   "source": [
    "series_var2 = pd.Series({1:'a', 2:'b', 3:'c', 4:'d'})"
   ]
  },
  {
   "cell_type": "code",
   "execution_count": null,
   "id": "a0b9fe85-2b26-4886-beb7-aebae3b181e6",
   "metadata": {},
   "outputs": [],
   "source": [
    "series_var2"
   ]
  },
  {
   "cell_type": "code",
   "execution_count": null,
   "id": "4bf84c21-0953-43e4-9184-11618dc98ba0",
   "metadata": {},
   "outputs": [],
   "source": [
    "series_var2[2]"
   ]
  },
  {
   "cell_type": "code",
   "execution_count": null,
   "id": "d33f746d-e533-4128-bfa7-e3f8e44a8cef",
   "metadata": {},
   "outputs": [],
   "source": [
    "type(series_var2)"
   ]
  },
  {
   "cell_type": "code",
   "execution_count": null,
   "id": "ac5fd5b4-b230-4792-aa8d-ffa28bc1e47b",
   "metadata": {},
   "outputs": [],
   "source": [
    "import numpy as np"
   ]
  },
  {
   "cell_type": "code",
   "execution_count": null,
   "id": "e56a0311-bda9-4513-ab38-436ccafa930c",
   "metadata": {},
   "outputs": [],
   "source": [
    "data = [[1,2,3], [4,5,6], [7,8,9]]\n",
    "\n",
    "a = np.array(data)\n",
    "a"
   ]
  },
  {
   "cell_type": "code",
   "execution_count": null,
   "id": "b0153841-aa43-4503-9839-5b8bbc65624a",
   "metadata": {},
   "outputs": [],
   "source": [
    "a.dtype"
   ]
  },
  {
   "cell_type": "code",
   "execution_count": null,
   "id": "4f7dbd83-6fa7-409b-b83e-37ebfea6559c",
   "metadata": {},
   "outputs": [],
   "source": [
    "type(a)"
   ]
  },
  {
   "cell_type": "code",
   "execution_count": null,
   "id": "58191102-5803-4f69-9fb0-498e2309fba1",
   "metadata": {},
   "outputs": [],
   "source": [
    "a.astype(np."
   ]
  },
  {
   "cell_type": "code",
   "execution_count": 1,
   "id": "cdbf8ef0-8e46-440e-bd34-aeea852ed5e3",
   "metadata": {},
   "outputs": [],
   "source": [
    "import pandas as pd"
   ]
  },
  {
   "cell_type": "code",
   "execution_count": 22,
   "id": "c0318cde-b29f-4cdb-bb88-ac8d01cb67f5",
   "metadata": {},
   "outputs": [],
   "source": [
    "df = pd.DataFrame({'name' :['김지훈', '이유진', '박동현', '김민지', '홍길동', '박명수', '유재석'],\n",
    "                   'english' :[90, 80, 60, 70, 80, 90, None],\n",
    "                   'math' : [50, 60, 100, 20, 30, 40, 50]})"
   ]
  },
  {
   "cell_type": "code",
   "execution_count": 23,
   "id": "6c874381-7ee8-4c94-a919-4052af807221",
   "metadata": {},
   "outputs": [
    {
     "data": {
      "text/html": [
       "<div>\n",
       "<style scoped>\n",
       "    .dataframe tbody tr th:only-of-type {\n",
       "        vertical-align: middle;\n",
       "    }\n",
       "\n",
       "    .dataframe tbody tr th {\n",
       "        vertical-align: top;\n",
       "    }\n",
       "\n",
       "    .dataframe thead th {\n",
       "        text-align: right;\n",
       "    }\n",
       "</style>\n",
       "<table border=\"1\" class=\"dataframe\">\n",
       "  <thead>\n",
       "    <tr style=\"text-align: right;\">\n",
       "      <th></th>\n",
       "      <th>name</th>\n",
       "      <th>english</th>\n",
       "      <th>math</th>\n",
       "    </tr>\n",
       "  </thead>\n",
       "  <tbody>\n",
       "    <tr>\n",
       "      <th>0</th>\n",
       "      <td>김지훈</td>\n",
       "      <td>90.0</td>\n",
       "      <td>50</td>\n",
       "    </tr>\n",
       "    <tr>\n",
       "      <th>1</th>\n",
       "      <td>이유진</td>\n",
       "      <td>80.0</td>\n",
       "      <td>60</td>\n",
       "    </tr>\n",
       "    <tr>\n",
       "      <th>2</th>\n",
       "      <td>박동현</td>\n",
       "      <td>60.0</td>\n",
       "      <td>100</td>\n",
       "    </tr>\n",
       "    <tr>\n",
       "      <th>3</th>\n",
       "      <td>김민지</td>\n",
       "      <td>70.0</td>\n",
       "      <td>20</td>\n",
       "    </tr>\n",
       "    <tr>\n",
       "      <th>4</th>\n",
       "      <td>홍길동</td>\n",
       "      <td>80.0</td>\n",
       "      <td>30</td>\n",
       "    </tr>\n",
       "    <tr>\n",
       "      <th>5</th>\n",
       "      <td>박명수</td>\n",
       "      <td>90.0</td>\n",
       "      <td>40</td>\n",
       "    </tr>\n",
       "    <tr>\n",
       "      <th>6</th>\n",
       "      <td>유재석</td>\n",
       "      <td>NaN</td>\n",
       "      <td>50</td>\n",
       "    </tr>\n",
       "  </tbody>\n",
       "</table>\n",
       "</div>"
      ],
      "text/plain": [
       "  name  english  math\n",
       "0  김지훈     90.0    50\n",
       "1  이유진     80.0    60\n",
       "2  박동현     60.0   100\n",
       "3  김민지     70.0    20\n",
       "4  홍길동     80.0    30\n",
       "5  박명수     90.0    40\n",
       "6  유재석      NaN    50"
      ]
     },
     "execution_count": 23,
     "metadata": {},
     "output_type": "execute_result"
    }
   ],
   "source": [
    "df"
   ]
  },
  {
   "cell_type": "code",
   "execution_count": 24,
   "id": "23f721b6-bf47-4d09-a6d2-3e5d66bb6b7a",
   "metadata": {},
   "outputs": [
    {
     "data": {
      "text/plain": [
       "90.0"
      ]
     },
     "execution_count": 24,
     "metadata": {},
     "output_type": "execute_result"
    }
   ],
   "source": [
    "df['english'][0]"
   ]
  },
  {
   "cell_type": "code",
   "execution_count": 25,
   "id": "459c6959-3bdf-4e1d-b6c6-06476b499b0c",
   "metadata": {},
   "outputs": [
    {
     "data": {
      "text/plain": [
       "<bound method NDFrame.astype of   name  english  math\n",
       "0  김지훈     90.0    50\n",
       "1  이유진     80.0    60\n",
       "2  박동현     60.0   100\n",
       "3  김민지     70.0    20\n",
       "4  홍길동     80.0    30\n",
       "5  박명수     90.0    40\n",
       "6  유재석      NaN    50>"
      ]
     },
     "execution_count": 25,
     "metadata": {},
     "output_type": "execute_result"
    }
   ],
   "source": [
    "df.astype"
   ]
  },
  {
   "cell_type": "code",
   "execution_count": 26,
   "id": "909ea86d-5129-417b-963c-f9154240eabc",
   "metadata": {},
   "outputs": [
    {
     "data": {
      "text/html": [
       "<div>\n",
       "<style scoped>\n",
       "    .dataframe tbody tr th:only-of-type {\n",
       "        vertical-align: middle;\n",
       "    }\n",
       "\n",
       "    .dataframe tbody tr th {\n",
       "        vertical-align: top;\n",
       "    }\n",
       "\n",
       "    .dataframe thead th {\n",
       "        text-align: right;\n",
       "    }\n",
       "</style>\n",
       "<table border=\"1\" class=\"dataframe\">\n",
       "  <thead>\n",
       "    <tr style=\"text-align: right;\">\n",
       "      <th></th>\n",
       "      <th>name</th>\n",
       "      <th>english</th>\n",
       "      <th>math</th>\n",
       "    </tr>\n",
       "  </thead>\n",
       "  <tbody>\n",
       "    <tr>\n",
       "      <th>0</th>\n",
       "      <td>김지훈</td>\n",
       "      <td>90.0</td>\n",
       "      <td>50</td>\n",
       "    </tr>\n",
       "    <tr>\n",
       "      <th>1</th>\n",
       "      <td>이유진</td>\n",
       "      <td>80.0</td>\n",
       "      <td>60</td>\n",
       "    </tr>\n",
       "    <tr>\n",
       "      <th>2</th>\n",
       "      <td>박동현</td>\n",
       "      <td>60.0</td>\n",
       "      <td>100</td>\n",
       "    </tr>\n",
       "    <tr>\n",
       "      <th>3</th>\n",
       "      <td>김민지</td>\n",
       "      <td>70.0</td>\n",
       "      <td>20</td>\n",
       "    </tr>\n",
       "    <tr>\n",
       "      <th>4</th>\n",
       "      <td>홍길동</td>\n",
       "      <td>80.0</td>\n",
       "      <td>30</td>\n",
       "    </tr>\n",
       "  </tbody>\n",
       "</table>\n",
       "</div>"
      ],
      "text/plain": [
       "  name  english  math\n",
       "0  김지훈     90.0    50\n",
       "1  이유진     80.0    60\n",
       "2  박동현     60.0   100\n",
       "3  김민지     70.0    20\n",
       "4  홍길동     80.0    30"
      ]
     },
     "execution_count": 26,
     "metadata": {},
     "output_type": "execute_result"
    }
   ],
   "source": [
    "df.head()"
   ]
  },
  {
   "cell_type": "code",
   "execution_count": 27,
   "id": "0b7c4b74-da47-4679-bd05-d7d901d702c7",
   "metadata": {},
   "outputs": [
    {
     "data": {
      "text/html": [
       "<div>\n",
       "<style scoped>\n",
       "    .dataframe tbody tr th:only-of-type {\n",
       "        vertical-align: middle;\n",
       "    }\n",
       "\n",
       "    .dataframe tbody tr th {\n",
       "        vertical-align: top;\n",
       "    }\n",
       "\n",
       "    .dataframe thead th {\n",
       "        text-align: right;\n",
       "    }\n",
       "</style>\n",
       "<table border=\"1\" class=\"dataframe\">\n",
       "  <thead>\n",
       "    <tr style=\"text-align: right;\">\n",
       "      <th></th>\n",
       "      <th>name</th>\n",
       "      <th>english</th>\n",
       "      <th>math</th>\n",
       "    </tr>\n",
       "  </thead>\n",
       "  <tbody>\n",
       "    <tr>\n",
       "      <th>2</th>\n",
       "      <td>박동현</td>\n",
       "      <td>60.0</td>\n",
       "      <td>100</td>\n",
       "    </tr>\n",
       "    <tr>\n",
       "      <th>3</th>\n",
       "      <td>김민지</td>\n",
       "      <td>70.0</td>\n",
       "      <td>20</td>\n",
       "    </tr>\n",
       "    <tr>\n",
       "      <th>4</th>\n",
       "      <td>홍길동</td>\n",
       "      <td>80.0</td>\n",
       "      <td>30</td>\n",
       "    </tr>\n",
       "    <tr>\n",
       "      <th>5</th>\n",
       "      <td>박명수</td>\n",
       "      <td>90.0</td>\n",
       "      <td>40</td>\n",
       "    </tr>\n",
       "    <tr>\n",
       "      <th>6</th>\n",
       "      <td>유재석</td>\n",
       "      <td>NaN</td>\n",
       "      <td>50</td>\n",
       "    </tr>\n",
       "  </tbody>\n",
       "</table>\n",
       "</div>"
      ],
      "text/plain": [
       "  name  english  math\n",
       "2  박동현     60.0   100\n",
       "3  김민지     70.0    20\n",
       "4  홍길동     80.0    30\n",
       "5  박명수     90.0    40\n",
       "6  유재석      NaN    50"
      ]
     },
     "execution_count": 27,
     "metadata": {},
     "output_type": "execute_result"
    }
   ],
   "source": [
    "df.tail()"
   ]
  },
  {
   "cell_type": "code",
   "execution_count": 36,
   "id": "d72a87d1-ace8-40de-ab45-449cf9cf7ac6",
   "metadata": {},
   "outputs": [
    {
     "name": "stdout",
     "output_type": "stream",
     "text": [
      "<class 'pandas.core.frame.DataFrame'>\n",
      "RangeIndex: 7 entries, 0 to 6\n",
      "Data columns (total 3 columns):\n",
      " #   Column   Non-Null Count  Dtype  \n",
      "---  ------   --------------  -----  \n",
      " 0   name     7 non-null      object \n",
      " 1   english  6 non-null      float64\n",
      " 2   math     7 non-null      int64  \n",
      "dtypes: float64(1), int64(1), object(1)\n",
      "memory usage: 296.0+ bytes\n"
     ]
    }
   ],
   "source": [
    "df.info()"
   ]
  },
  {
   "cell_type": "code",
   "execution_count": null,
   "id": "dbe596fa-1af9-475a-8026-eac9b4f541d4",
   "metadata": {},
   "outputs": [],
   "source": []
  }
 ],
 "metadata": {
  "kernelspec": {
   "display_name": "Python 3.9.13 ('base')",
   "language": "python",
   "name": "python3"
  },
  "language_info": {
   "codemirror_mode": {
    "name": "ipython",
    "version": 3
   },
   "file_extension": ".py",
   "mimetype": "text/x-python",
   "name": "python",
   "nbconvert_exporter": "python",
   "pygments_lexer": "ipython3",
   "version": "3.9.13"
  },
  "vscode": {
   "interpreter": {
    "hash": "701d4f28dcd0866722f5108a3a4cbcd08882d26398b6d44117e791d7b8102912"
   }
  }
 },
 "nbformat": 4,
 "nbformat_minor": 5
}
