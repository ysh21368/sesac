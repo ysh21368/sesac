{
 "cells": [
  {
   "cell_type": "markdown",
   "id": "8ac83925-79a6-42e9-ad3f-8ee1a18fbc31",
   "metadata": {},
   "source": [
    "# 판다스"
   ]
  },
  {
   "cell_type": "code",
   "execution_count": 191,
   "id": "57dd984c-bdfb-481c-aa8b-e445616cc5d7",
   "metadata": {},
   "outputs": [],
   "source": [
    "import pandas as pd"
   ]
  },
  {
   "cell_type": "code",
   "execution_count": 192,
   "id": "93870e66-bf20-492e-99d4-ec789e267547",
   "metadata": {},
   "outputs": [],
   "source": [
    "list_str = ['a', 'b', 'c']"
   ]
  },
  {
   "cell_type": "markdown",
   "id": "1b491b85-848e-4978-9daa-c3f90759df63",
   "metadata": {},
   "source": [
    "## 시리즈"
   ]
  },
  {
   "cell_type": "code",
   "execution_count": 193,
   "id": "46f6aea5-301c-41d4-92fe-482b3dc7fc72",
   "metadata": {},
   "outputs": [],
   "source": [
    "series_var = pd.Series(list_str)"
   ]
  },
  {
   "cell_type": "code",
   "execution_count": 194,
   "id": "e349a055-5597-4596-ab77-4b957dd276c5",
   "metadata": {},
   "outputs": [],
   "source": [
    "series_var = pd.Series(list_str, index=[3,4,5])"
   ]
  },
  {
   "cell_type": "code",
   "execution_count": 195,
   "id": "9cbc9b6e-6649-49ce-82fe-2fcfe1b7ced8",
   "metadata": {},
   "outputs": [
    {
     "data": {
      "text/plain": [
       "'a'"
      ]
     },
     "execution_count": 195,
     "metadata": {},
     "output_type": "execute_result"
    }
   ],
   "source": [
    "series_var[3]"
   ]
  },
  {
   "cell_type": "code",
   "execution_count": 196,
   "id": "68171832-06fa-4a9d-9cdf-2489a5daef69",
   "metadata": {},
   "outputs": [],
   "source": [
    "dic = {'a':3, 'b':4, 'c': 5}\n",
    "s_dic = pd.Series(dic)"
   ]
  },
  {
   "cell_type": "code",
   "execution_count": 197,
   "id": "693843e3-7194-4aac-9d6e-ff928d6b9d1d",
   "metadata": {},
   "outputs": [],
   "source": [
    "#시리즈로 되어있다"
   ]
  },
  {
   "cell_type": "code",
   "execution_count": 198,
   "id": "f22fb488-a1e9-4b02-aafc-cf5b79487f5f",
   "metadata": {},
   "outputs": [],
   "source": [
    "#시리즈 끼리 합쳐져잇는게 데이터 프레임"
   ]
  },
  {
   "cell_type": "markdown",
   "id": "34a28510-5b70-4f59-b2bd-05ccca432de1",
   "metadata": {},
   "source": [
    "## Data Frame(데이터 프레임)"
   ]
  },
  {
   "cell_type": "code",
   "execution_count": 199,
   "id": "28d1b358-f66c-4fad-9133-660eb08280e7",
   "metadata": {},
   "outputs": [],
   "source": [
    "dic_p = {\n",
    "    'name' : ['hojin', 'yejin', 'Sanghyeon', 'seonghyeon'],\n",
    "    'age' : [20, 25, 28, 19],\n",
    "    'grade' : ['S', 'A', 'B', 'C']\n",
    "}"
   ]
  },
  {
   "cell_type": "code",
   "execution_count": 200,
   "id": "c7ceffde-3d6e-4d81-8dbc-a5d25caa2b2a",
   "metadata": {},
   "outputs": [],
   "source": [
    "df = pd.DataFrame(dic_p)"
   ]
  },
  {
   "cell_type": "code",
   "execution_count": 201,
   "id": "0af2fc83-70cc-4f3a-8f08-51f24a1830c2",
   "metadata": {},
   "outputs": [
    {
     "data": {
      "text/plain": [
       "0    S\n",
       "1    A\n",
       "2    B\n",
       "3    C\n",
       "Name: grade, dtype: object"
      ]
     },
     "execution_count": 201,
     "metadata": {},
     "output_type": "execute_result"
    }
   ],
   "source": [
    "df['grade']"
   ]
  },
  {
   "cell_type": "code",
   "execution_count": 202,
   "id": "e85aa4b7-56d5-4b0c-8f78-95ae2007d76d",
   "metadata": {},
   "outputs": [
    {
     "data": {
      "text/plain": [
       "23.0"
      ]
     },
     "execution_count": 202,
     "metadata": {},
     "output_type": "execute_result"
    }
   ],
   "source": [
    "df['age'].mean() #평균값"
   ]
  },
  {
   "cell_type": "code",
   "execution_count": 203,
   "id": "84ec166b-cede-4171-b0a1-ea22f5bf7700",
   "metadata": {},
   "outputs": [
    {
     "data": {
      "text/plain": [
       "92"
      ]
     },
     "execution_count": 203,
     "metadata": {},
     "output_type": "execute_result"
    }
   ],
   "source": [
    "df['age'].sum()"
   ]
  },
  {
   "cell_type": "code",
   "execution_count": 204,
   "id": "1d9a2356-8dc2-4d1a-9dec-8f3f2bf64853",
   "metadata": {},
   "outputs": [
    {
     "data": {
      "text/plain": [
       "22.5"
      ]
     },
     "execution_count": 204,
     "metadata": {},
     "output_type": "execute_result"
    }
   ],
   "source": [
    "df['age'].median() #중값"
   ]
  },
  {
   "cell_type": "code",
   "execution_count": 205,
   "id": "a71d1327-86b9-4a0b-a416-a55d425bd7d1",
   "metadata": {},
   "outputs": [
    {
     "data": {
      "text/plain": [
       "18.0"
      ]
     },
     "execution_count": 205,
     "metadata": {},
     "output_type": "execute_result"
    }
   ],
   "source": [
    "df['age'].var()"
   ]
  },
  {
   "cell_type": "code",
   "execution_count": 206,
   "id": "36455b49-7f02-4a5d-a65f-424f3009aee2",
   "metadata": {},
   "outputs": [
    {
     "data": {
      "text/plain": [
       "4.242640687119285"
      ]
     },
     "execution_count": 206,
     "metadata": {},
     "output_type": "execute_result"
    }
   ],
   "source": [
    "df['age'].std()"
   ]
  },
  {
   "cell_type": "code",
   "execution_count": 207,
   "id": "24b14640-3fb2-4d66-a3c4-326b3c647c96",
   "metadata": {},
   "outputs": [
    {
     "data": {
      "text/plain": [
       "28"
      ]
     },
     "execution_count": 207,
     "metadata": {},
     "output_type": "execute_result"
    }
   ],
   "source": [
    "df['age'].max()"
   ]
  },
  {
   "cell_type": "code",
   "execution_count": 208,
   "id": "2d3cac62-7588-4792-bc15-017e67fda3eb",
   "metadata": {},
   "outputs": [
    {
     "data": {
      "text/plain": [
       "19"
      ]
     },
     "execution_count": 208,
     "metadata": {},
     "output_type": "execute_result"
    }
   ],
   "source": [
    "df['age'].min()"
   ]
  },
  {
   "cell_type": "code",
   "execution_count": 209,
   "id": "6220e53d-02b6-4bd5-97f9-81131959d929",
   "metadata": {},
   "outputs": [
    {
     "data": {
      "text/html": [
       "<div>\n",
       "<style scoped>\n",
       "    .dataframe tbody tr th:only-of-type {\n",
       "        vertical-align: middle;\n",
       "    }\n",
       "\n",
       "    .dataframe tbody tr th {\n",
       "        vertical-align: top;\n",
       "    }\n",
       "\n",
       "    .dataframe thead th {\n",
       "        text-align: right;\n",
       "    }\n",
       "</style>\n",
       "<table border=\"1\" class=\"dataframe\">\n",
       "  <thead>\n",
       "    <tr style=\"text-align: right;\">\n",
       "      <th></th>\n",
       "      <th>name</th>\n",
       "      <th>age</th>\n",
       "      <th>grade</th>\n",
       "    </tr>\n",
       "  </thead>\n",
       "  <tbody>\n",
       "    <tr>\n",
       "      <th>0</th>\n",
       "      <td>hojin</td>\n",
       "      <td>20</td>\n",
       "      <td>S</td>\n",
       "    </tr>\n",
       "    <tr>\n",
       "      <th>1</th>\n",
       "      <td>yejin</td>\n",
       "      <td>25</td>\n",
       "      <td>A</td>\n",
       "    </tr>\n",
       "    <tr>\n",
       "      <th>2</th>\n",
       "      <td>Sanghyeon</td>\n",
       "      <td>28</td>\n",
       "      <td>B</td>\n",
       "    </tr>\n",
       "    <tr>\n",
       "      <th>3</th>\n",
       "      <td>seonghyeon</td>\n",
       "      <td>19</td>\n",
       "      <td>C</td>\n",
       "    </tr>\n",
       "  </tbody>\n",
       "</table>\n",
       "</div>"
      ],
      "text/plain": [
       "         name  age grade\n",
       "0       hojin   20     S\n",
       "1       yejin   25     A\n",
       "2   Sanghyeon   28     B\n",
       "3  seonghyeon   19     C"
      ]
     },
     "execution_count": 209,
     "metadata": {},
     "output_type": "execute_result"
    }
   ],
   "source": [
    "df"
   ]
  },
  {
   "cell_type": "code",
   "execution_count": 210,
   "id": "ed8cb7ab-0b86-4d5f-83f1-19a4973d3c6f",
   "metadata": {},
   "outputs": [
    {
     "data": {
      "text/plain": [
       "(4, 3)"
      ]
     },
     "execution_count": 210,
     "metadata": {},
     "output_type": "execute_result"
    }
   ],
   "source": [
    "df.shape #data가 4개=(4 non-null), 속성(columns) 3개"
   ]
  },
  {
   "cell_type": "code",
   "execution_count": 211,
   "id": "60675200-2d3c-433c-9f1b-a4b1f5588710",
   "metadata": {},
   "outputs": [],
   "source": [
    "dic_p = {\n",
    "    'name' : ['hojin', 'yejin', 'Sanghyeon', 'seonghyeon'],\n",
    "    'age' : [20, 25, None, 19],\n",
    "    'grade' : ['S', 'A', 'B', 'C']\n",
    "}"
   ]
  },
  {
   "cell_type": "code",
   "execution_count": 212,
   "id": "0556b12f-0c09-483b-a329-0b003324a535",
   "metadata": {},
   "outputs": [],
   "source": [
    "df = pd.DataFrame(dic_p)"
   ]
  },
  {
   "cell_type": "code",
   "execution_count": 213,
   "id": "986b843b-3967-4364-861e-5d6ce3729bce",
   "metadata": {},
   "outputs": [
    {
     "name": "stdout",
     "output_type": "stream",
     "text": [
      "<class 'pandas.core.frame.DataFrame'>\n",
      "RangeIndex: 4 entries, 0 to 3\n",
      "Data columns (total 3 columns):\n",
      " #   Column  Non-Null Count  Dtype  \n",
      "---  ------  --------------  -----  \n",
      " 0   name    4 non-null      object \n",
      " 1   age     3 non-null      float64\n",
      " 2   grade   4 non-null      object \n",
      "dtypes: float64(1), object(2)\n",
      "memory usage: 224.0+ bytes\n"
     ]
    }
   ],
   "source": [
    "df.info() #출력값을 볼 줄 알아야한다."
   ]
  },
  {
   "cell_type": "code",
   "execution_count": 214,
   "id": "95ac356c-8121-4c5b-ad88-05e4a19a11ff",
   "metadata": {},
   "outputs": [
    {
     "data": {
      "text/html": [
       "<div>\n",
       "<style scoped>\n",
       "    .dataframe tbody tr th:only-of-type {\n",
       "        vertical-align: middle;\n",
       "    }\n",
       "\n",
       "    .dataframe tbody tr th {\n",
       "        vertical-align: top;\n",
       "    }\n",
       "\n",
       "    .dataframe thead th {\n",
       "        text-align: right;\n",
       "    }\n",
       "</style>\n",
       "<table border=\"1\" class=\"dataframe\">\n",
       "  <thead>\n",
       "    <tr style=\"text-align: right;\">\n",
       "      <th></th>\n",
       "      <th>name</th>\n",
       "      <th>age</th>\n",
       "      <th>grade</th>\n",
       "    </tr>\n",
       "  </thead>\n",
       "  <tbody>\n",
       "    <tr>\n",
       "      <th>0</th>\n",
       "      <td>False</td>\n",
       "      <td>False</td>\n",
       "      <td>False</td>\n",
       "    </tr>\n",
       "    <tr>\n",
       "      <th>1</th>\n",
       "      <td>False</td>\n",
       "      <td>False</td>\n",
       "      <td>False</td>\n",
       "    </tr>\n",
       "    <tr>\n",
       "      <th>2</th>\n",
       "      <td>False</td>\n",
       "      <td>True</td>\n",
       "      <td>False</td>\n",
       "    </tr>\n",
       "    <tr>\n",
       "      <th>3</th>\n",
       "      <td>False</td>\n",
       "      <td>False</td>\n",
       "      <td>False</td>\n",
       "    </tr>\n",
       "  </tbody>\n",
       "</table>\n",
       "</div>"
      ],
      "text/plain": [
       "    name    age  grade\n",
       "0  False  False  False\n",
       "1  False  False  False\n",
       "2  False   True  False\n",
       "3  False  False  False"
      ]
     },
     "execution_count": 214,
     "metadata": {},
     "output_type": "execute_result"
    }
   ],
   "source": [
    "df.isnull()"
   ]
  },
  {
   "cell_type": "code",
   "execution_count": 215,
   "id": "7411b4f4-e5c6-4013-8650-b018379207c5",
   "metadata": {},
   "outputs": [
    {
     "data": {
      "text/plain": [
       "name     0\n",
       "age      1\n",
       "grade    0\n",
       "dtype: int64"
      ]
     },
     "execution_count": 215,
     "metadata": {},
     "output_type": "execute_result"
    }
   ],
   "source": [
    "df.isnull().sum()"
   ]
  },
  {
   "cell_type": "code",
   "execution_count": 216,
   "id": "94784e0c-10bf-4e48-a0c6-8d89a558f483",
   "metadata": {},
   "outputs": [
    {
     "data": {
      "text/plain": [
       "Index(['name', 'age', 'grade'], dtype='object')"
      ]
     },
     "execution_count": 216,
     "metadata": {},
     "output_type": "execute_result"
    }
   ],
   "source": [
    "df.columns"
   ]
  },
  {
   "cell_type": "code",
   "execution_count": 217,
   "id": "1a0b6bc7-8acd-49b1-947b-38c089e02229",
   "metadata": {},
   "outputs": [
    {
     "name": "stdout",
     "output_type": "stream",
     "text": [
      "name\n",
      "age\n",
      "grade\n"
     ]
    }
   ],
   "source": [
    "for col in df.columns :\n",
    "    print(col)"
   ]
  },
  {
   "cell_type": "code",
   "execution_count": 218,
   "id": "50689dc5-1ae3-4e28-9702-cd9c2e5ec53a",
   "metadata": {},
   "outputs": [
    {
     "data": {
      "text/plain": [
       "RangeIndex(start=0, stop=4, step=1)"
      ]
     },
     "execution_count": 218,
     "metadata": {},
     "output_type": "execute_result"
    }
   ],
   "source": [
    "df.index"
   ]
  },
  {
   "cell_type": "code",
   "execution_count": 219,
   "id": "6d07dae7-7f82-4ced-962f-21b64dfac4b0",
   "metadata": {},
   "outputs": [
    {
     "data": {
      "text/plain": [
       "[0, 1, 2, 3]"
      ]
     },
     "execution_count": 219,
     "metadata": {},
     "output_type": "execute_result"
    }
   ],
   "source": [
    "list(df.index)"
   ]
  },
  {
   "cell_type": "code",
   "execution_count": 220,
   "id": "bd907404-086a-4513-a156-f72acdb76388",
   "metadata": {},
   "outputs": [
    {
     "data": {
      "text/html": [
       "<div>\n",
       "<style scoped>\n",
       "    .dataframe tbody tr th:only-of-type {\n",
       "        vertical-align: middle;\n",
       "    }\n",
       "\n",
       "    .dataframe tbody tr th {\n",
       "        vertical-align: top;\n",
       "    }\n",
       "\n",
       "    .dataframe thead th {\n",
       "        text-align: right;\n",
       "    }\n",
       "</style>\n",
       "<table border=\"1\" class=\"dataframe\">\n",
       "  <thead>\n",
       "    <tr style=\"text-align: right;\">\n",
       "      <th></th>\n",
       "      <th>name</th>\n",
       "      <th>age</th>\n",
       "      <th>grade</th>\n",
       "    </tr>\n",
       "  </thead>\n",
       "  <tbody>\n",
       "    <tr>\n",
       "      <th>0</th>\n",
       "      <td>hojin</td>\n",
       "      <td>20.0</td>\n",
       "      <td>S</td>\n",
       "    </tr>\n",
       "    <tr>\n",
       "      <th>1</th>\n",
       "      <td>yejin</td>\n",
       "      <td>25.0</td>\n",
       "      <td>A</td>\n",
       "    </tr>\n",
       "    <tr>\n",
       "      <th>2</th>\n",
       "      <td>Sanghyeon</td>\n",
       "      <td>NaN</td>\n",
       "      <td>B</td>\n",
       "    </tr>\n",
       "    <tr>\n",
       "      <th>3</th>\n",
       "      <td>seonghyeon</td>\n",
       "      <td>19.0</td>\n",
       "      <td>C</td>\n",
       "    </tr>\n",
       "  </tbody>\n",
       "</table>\n",
       "</div>"
      ],
      "text/plain": [
       "         name   age grade\n",
       "0       hojin  20.0     S\n",
       "1       yejin  25.0     A\n",
       "2   Sanghyeon   NaN     B\n",
       "3  seonghyeon  19.0     C"
      ]
     },
     "execution_count": 220,
     "metadata": {},
     "output_type": "execute_result"
    }
   ],
   "source": [
    "df"
   ]
  },
  {
   "cell_type": "markdown",
   "id": "075fabf9-0900-416f-ab5f-67686743198f",
   "metadata": {},
   "source": [
    "- loc\n",
    "- iloc"
   ]
  },
  {
   "cell_type": "code",
   "execution_count": 221,
   "id": "d2ba70b7-da79-49e7-b94a-fc239769fc73",
   "metadata": {},
   "outputs": [],
   "source": [
    "dic_p = {\n",
    "    'name' : ['hojin', 'yejin', 'Sanghyeon', 'seonghyeon'],\n",
    "    'age' : [20, 25, 32, 33],\n",
    "    'grade' : ['S', 'A', 'B', 'C']\n",
    "}"
   ]
  },
  {
   "cell_type": "code",
   "execution_count": 222,
   "id": "caa35ce2-ab7d-4b91-818b-b726510b0d5e",
   "metadata": {},
   "outputs": [],
   "source": [
    "df = pd.DataFrame(dic_p, index=['a','b','c','d'])"
   ]
  },
  {
   "cell_type": "markdown",
   "id": "399451be-e870-4c2a-9be6-54e3e0d33967",
   "metadata": {},
   "source": [
    "- loc : index 기반\n",
    "- iloc: 순서 기반"
   ]
  },
  {
   "cell_type": "code",
   "execution_count": 224,
   "id": "a20a2533-c57d-419c-9271-42ed951e3056",
   "metadata": {
    "tags": []
   },
   "outputs": [
    {
     "data": {
      "text/plain": [
       "name     hojin\n",
       "age         20\n",
       "grade        S\n",
       "Name: a, dtype: object"
      ]
     },
     "execution_count": 224,
     "metadata": {},
     "output_type": "execute_result"
    }
   ],
   "source": [
    "df.loc['a']"
   ]
  },
  {
   "cell_type": "code",
   "execution_count": 225,
   "id": "c339b338-2e42-4448-9753-3c447b38178b",
   "metadata": {},
   "outputs": [
    {
     "data": {
      "text/plain": [
       "name     hojin\n",
       "age         20\n",
       "grade        S\n",
       "Name: a, dtype: object"
      ]
     },
     "execution_count": 225,
     "metadata": {},
     "output_type": "execute_result"
    }
   ],
   "source": [
    "df.loc['a']"
   ]
  },
  {
   "cell_type": "code",
   "execution_count": 226,
   "id": "7cda1c9c-6cf2-482b-b8d3-922924a8f70e",
   "metadata": {},
   "outputs": [
    {
     "data": {
      "text/html": [
       "<div>\n",
       "<style scoped>\n",
       "    .dataframe tbody tr th:only-of-type {\n",
       "        vertical-align: middle;\n",
       "    }\n",
       "\n",
       "    .dataframe tbody tr th {\n",
       "        vertical-align: top;\n",
       "    }\n",
       "\n",
       "    .dataframe thead th {\n",
       "        text-align: right;\n",
       "    }\n",
       "</style>\n",
       "<table border=\"1\" class=\"dataframe\">\n",
       "  <thead>\n",
       "    <tr style=\"text-align: right;\">\n",
       "      <th></th>\n",
       "      <th>name</th>\n",
       "      <th>age</th>\n",
       "      <th>grade</th>\n",
       "    </tr>\n",
       "  </thead>\n",
       "  <tbody>\n",
       "    <tr>\n",
       "      <th>a</th>\n",
       "      <td>hojin</td>\n",
       "      <td>20</td>\n",
       "      <td>S</td>\n",
       "    </tr>\n",
       "    <tr>\n",
       "      <th>b</th>\n",
       "      <td>yejin</td>\n",
       "      <td>25</td>\n",
       "      <td>A</td>\n",
       "    </tr>\n",
       "    <tr>\n",
       "      <th>c</th>\n",
       "      <td>Sanghyeon</td>\n",
       "      <td>32</td>\n",
       "      <td>B</td>\n",
       "    </tr>\n",
       "    <tr>\n",
       "      <th>d</th>\n",
       "      <td>seonghyeon</td>\n",
       "      <td>33</td>\n",
       "      <td>C</td>\n",
       "    </tr>\n",
       "  </tbody>\n",
       "</table>\n",
       "</div>"
      ],
      "text/plain": [
       "         name  age grade\n",
       "a       hojin   20     S\n",
       "b       yejin   25     A\n",
       "c   Sanghyeon   32     B\n",
       "d  seonghyeon   33     C"
      ]
     },
     "execution_count": 226,
     "metadata": {},
     "output_type": "execute_result"
    }
   ],
   "source": [
    "df"
   ]
  },
  {
   "cell_type": "code",
   "execution_count": 227,
   "id": "841c4bde-b13c-4782-a6ba-d77722f2c783",
   "metadata": {},
   "outputs": [
    {
     "data": {
      "text/plain": [
       "name     yejin\n",
       "age         25\n",
       "grade        A\n",
       "Name: b, dtype: object"
      ]
     },
     "execution_count": 227,
     "metadata": {},
     "output_type": "execute_result"
    }
   ],
   "source": [
    "df.iloc[1]"
   ]
  },
  {
   "cell_type": "code",
   "execution_count": 228,
   "id": "dbf34ccf-ff08-4b13-8931-69f7d5cc2ec1",
   "metadata": {},
   "outputs": [
    {
     "data": {
      "text/html": [
       "<div>\n",
       "<style scoped>\n",
       "    .dataframe tbody tr th:only-of-type {\n",
       "        vertical-align: middle;\n",
       "    }\n",
       "\n",
       "    .dataframe tbody tr th {\n",
       "        vertical-align: top;\n",
       "    }\n",
       "\n",
       "    .dataframe thead th {\n",
       "        text-align: right;\n",
       "    }\n",
       "</style>\n",
       "<table border=\"1\" class=\"dataframe\">\n",
       "  <thead>\n",
       "    <tr style=\"text-align: right;\">\n",
       "      <th></th>\n",
       "      <th>name</th>\n",
       "      <th>age</th>\n",
       "      <th>grade</th>\n",
       "    </tr>\n",
       "  </thead>\n",
       "  <tbody>\n",
       "    <tr>\n",
       "      <th>b</th>\n",
       "      <td>yejin</td>\n",
       "      <td>25</td>\n",
       "      <td>A</td>\n",
       "    </tr>\n",
       "    <tr>\n",
       "      <th>c</th>\n",
       "      <td>Sanghyeon</td>\n",
       "      <td>32</td>\n",
       "      <td>B</td>\n",
       "    </tr>\n",
       "    <tr>\n",
       "      <th>d</th>\n",
       "      <td>seonghyeon</td>\n",
       "      <td>33</td>\n",
       "      <td>C</td>\n",
       "    </tr>\n",
       "  </tbody>\n",
       "</table>\n",
       "</div>"
      ],
      "text/plain": [
       "         name  age grade\n",
       "b       yejin   25     A\n",
       "c   Sanghyeon   32     B\n",
       "d  seonghyeon   33     C"
      ]
     },
     "execution_count": 228,
     "metadata": {},
     "output_type": "execute_result"
    }
   ],
   "source": [
    "df.iloc[1:]"
   ]
  },
  {
   "cell_type": "code",
   "execution_count": 229,
   "id": "60bd6b3b-809e-4f91-82f6-19fad528306c",
   "metadata": {},
   "outputs": [],
   "source": [
    "import pandas as pd"
   ]
  },
  {
   "cell_type": "code",
   "execution_count": 230,
   "id": "16a2302e-8e11-4be7-b4ef-8a48cb8ee9ce",
   "metadata": {},
   "outputs": [],
   "source": [
    "dic_p = {\n",
    "    'name' : ['hojin', 'yejin', 'Sanghyeon', 'seonghyeon'],\n",
    "    'age' : [20, 25, 32, 33],\n",
    "    'grade' : ['S', 'A', 'B', 'C']\n",
    "}"
   ]
  },
  {
   "cell_type": "code",
   "execution_count": 231,
   "id": "05d7daab-016b-4756-b73f-828b32b5e9d8",
   "metadata": {},
   "outputs": [],
   "source": [
    "df = pd.DataFrame(dic_p, index=['a','b','c','d'])"
   ]
  },
  {
   "cell_type": "code",
   "execution_count": 232,
   "id": "56f8956f-bcbb-4dd4-9ee8-428d99d8e6ef",
   "metadata": {},
   "outputs": [
    {
     "data": {
      "text/html": [
       "<div>\n",
       "<style scoped>\n",
       "    .dataframe tbody tr th:only-of-type {\n",
       "        vertical-align: middle;\n",
       "    }\n",
       "\n",
       "    .dataframe tbody tr th {\n",
       "        vertical-align: top;\n",
       "    }\n",
       "\n",
       "    .dataframe thead th {\n",
       "        text-align: right;\n",
       "    }\n",
       "</style>\n",
       "<table border=\"1\" class=\"dataframe\">\n",
       "  <thead>\n",
       "    <tr style=\"text-align: right;\">\n",
       "      <th></th>\n",
       "      <th>name</th>\n",
       "      <th>age</th>\n",
       "      <th>grade</th>\n",
       "    </tr>\n",
       "  </thead>\n",
       "  <tbody>\n",
       "    <tr>\n",
       "      <th>a</th>\n",
       "      <td>hojin</td>\n",
       "      <td>20</td>\n",
       "      <td>S</td>\n",
       "    </tr>\n",
       "  </tbody>\n",
       "</table>\n",
       "</div>"
      ],
      "text/plain": [
       "    name  age grade\n",
       "a  hojin   20     S"
      ]
     },
     "execution_count": 232,
     "metadata": {},
     "output_type": "execute_result"
    }
   ],
   "source": [
    "df[(df['age'] < 30) & (df['grade'].str.lower() == 's')]"
   ]
  },
  {
   "cell_type": "code",
   "execution_count": 233,
   "id": "d817cf96-34e6-41bf-9c27-5aa541b7289e",
   "metadata": {},
   "outputs": [],
   "source": [
    "df = pd.read_html('https://www.fdic.gov/resources/resolutions/bank-failures/failed-bank-list/')"
   ]
  },
  {
   "cell_type": "code",
   "execution_count": 234,
   "id": "37c8afc1-c261-4baf-9a3a-9add87ffba0b",
   "metadata": {},
   "outputs": [],
   "source": [
    "df = df[0]"
   ]
  },
  {
   "cell_type": "code",
   "execution_count": 238,
   "id": "cd1fd442-f99b-4950-bbb3-18450fe019c7",
   "metadata": {},
   "outputs": [
    {
     "data": {
      "text/html": [
       "<div>\n",
       "<style scoped>\n",
       "    .dataframe tbody tr th:only-of-type {\n",
       "        vertical-align: middle;\n",
       "    }\n",
       "\n",
       "    .dataframe tbody tr th {\n",
       "        vertical-align: top;\n",
       "    }\n",
       "\n",
       "    .dataframe thead th {\n",
       "        text-align: right;\n",
       "    }\n",
       "</style>\n",
       "<table border=\"1\" class=\"dataframe\">\n",
       "  <thead>\n",
       "    <tr style=\"text-align: right;\">\n",
       "      <th></th>\n",
       "      <th>Bank Name</th>\n",
       "      <th>CityCity</th>\n",
       "      <th>StateSt</th>\n",
       "      <th>CertCert</th>\n",
       "      <th>Acquiring InstitutionAI</th>\n",
       "      <th>Closing DateClosing</th>\n",
       "      <th>FundFund</th>\n",
       "    </tr>\n",
       "  </thead>\n",
       "  <tbody>\n",
       "    <tr>\n",
       "      <th>0</th>\n",
       "      <td>Almena State Bank</td>\n",
       "      <td>Almena</td>\n",
       "      <td>KS</td>\n",
       "      <td>15426</td>\n",
       "      <td>Equity Bank</td>\n",
       "      <td>October 23, 2020</td>\n",
       "      <td>10538</td>\n",
       "    </tr>\n",
       "    <tr>\n",
       "      <th>1</th>\n",
       "      <td>First City Bank of Florida</td>\n",
       "      <td>Fort Walton Beach</td>\n",
       "      <td>FL</td>\n",
       "      <td>16748</td>\n",
       "      <td>United Fidelity Bank, fsb</td>\n",
       "      <td>October 16, 2020</td>\n",
       "      <td>10537</td>\n",
       "    </tr>\n",
       "    <tr>\n",
       "      <th>2</th>\n",
       "      <td>The First State Bank</td>\n",
       "      <td>Barboursville</td>\n",
       "      <td>WV</td>\n",
       "      <td>14361</td>\n",
       "      <td>MVB Bank, Inc.</td>\n",
       "      <td>April 3, 2020</td>\n",
       "      <td>10536</td>\n",
       "    </tr>\n",
       "    <tr>\n",
       "      <th>3</th>\n",
       "      <td>Ericson State Bank</td>\n",
       "      <td>Ericson</td>\n",
       "      <td>NE</td>\n",
       "      <td>18265</td>\n",
       "      <td>Farmers and Merchants Bank</td>\n",
       "      <td>February 14, 2020</td>\n",
       "      <td>10535</td>\n",
       "    </tr>\n",
       "    <tr>\n",
       "      <th>4</th>\n",
       "      <td>City National Bank of New Jersey</td>\n",
       "      <td>Newark</td>\n",
       "      <td>NJ</td>\n",
       "      <td>21111</td>\n",
       "      <td>Industrial Bank</td>\n",
       "      <td>November 1, 2019</td>\n",
       "      <td>10534</td>\n",
       "    </tr>\n",
       "    <tr>\n",
       "      <th>...</th>\n",
       "      <td>...</td>\n",
       "      <td>...</td>\n",
       "      <td>...</td>\n",
       "      <td>...</td>\n",
       "      <td>...</td>\n",
       "      <td>...</td>\n",
       "      <td>...</td>\n",
       "    </tr>\n",
       "    <tr>\n",
       "      <th>558</th>\n",
       "      <td>Superior Bank, FSB</td>\n",
       "      <td>Hinsdale</td>\n",
       "      <td>IL</td>\n",
       "      <td>32646</td>\n",
       "      <td>Superior Federal, FSB</td>\n",
       "      <td>July 27, 2001</td>\n",
       "      <td>6004</td>\n",
       "    </tr>\n",
       "    <tr>\n",
       "      <th>559</th>\n",
       "      <td>Malta National Bank</td>\n",
       "      <td>Malta</td>\n",
       "      <td>OH</td>\n",
       "      <td>6629</td>\n",
       "      <td>North Valley Bank</td>\n",
       "      <td>May 3, 2001</td>\n",
       "      <td>4648</td>\n",
       "    </tr>\n",
       "    <tr>\n",
       "      <th>560</th>\n",
       "      <td>First Alliance Bank &amp; Trust Co.</td>\n",
       "      <td>Manchester</td>\n",
       "      <td>NH</td>\n",
       "      <td>34264</td>\n",
       "      <td>Southern New Hampshire Bank &amp; Trust</td>\n",
       "      <td>February 2, 2001</td>\n",
       "      <td>4647</td>\n",
       "    </tr>\n",
       "    <tr>\n",
       "      <th>561</th>\n",
       "      <td>National State Bank of Metropolis</td>\n",
       "      <td>Metropolis</td>\n",
       "      <td>IL</td>\n",
       "      <td>3815</td>\n",
       "      <td>Banterra Bank of Marion</td>\n",
       "      <td>December 14, 2000</td>\n",
       "      <td>4646</td>\n",
       "    </tr>\n",
       "    <tr>\n",
       "      <th>562</th>\n",
       "      <td>Bank of Honolulu</td>\n",
       "      <td>Honolulu</td>\n",
       "      <td>HI</td>\n",
       "      <td>21029</td>\n",
       "      <td>Bank of the Orient</td>\n",
       "      <td>October 13, 2000</td>\n",
       "      <td>4645</td>\n",
       "    </tr>\n",
       "  </tbody>\n",
       "</table>\n",
       "<p>563 rows × 7 columns</p>\n",
       "</div>"
      ],
      "text/plain": [
       "                             Bank Name           CityCity StateSt  CertCert  \\\n",
       "0                    Almena State Bank             Almena      KS     15426   \n",
       "1           First City Bank of Florida  Fort Walton Beach      FL     16748   \n",
       "2                 The First State Bank      Barboursville      WV     14361   \n",
       "3                   Ericson State Bank            Ericson      NE     18265   \n",
       "4     City National Bank of New Jersey             Newark      NJ     21111   \n",
       "..                                 ...                ...     ...       ...   \n",
       "558                 Superior Bank, FSB           Hinsdale      IL     32646   \n",
       "559                Malta National Bank              Malta      OH      6629   \n",
       "560    First Alliance Bank & Trust Co.         Manchester      NH     34264   \n",
       "561  National State Bank of Metropolis         Metropolis      IL      3815   \n",
       "562                   Bank of Honolulu           Honolulu      HI     21029   \n",
       "\n",
       "                 Acquiring InstitutionAI Closing DateClosing  FundFund  \n",
       "0                            Equity Bank    October 23, 2020     10538  \n",
       "1              United Fidelity Bank, fsb    October 16, 2020     10537  \n",
       "2                         MVB Bank, Inc.       April 3, 2020     10536  \n",
       "3             Farmers and Merchants Bank   February 14, 2020     10535  \n",
       "4                        Industrial Bank    November 1, 2019     10534  \n",
       "..                                   ...                 ...       ...  \n",
       "558                Superior Federal, FSB       July 27, 2001      6004  \n",
       "559                    North Valley Bank         May 3, 2001      4648  \n",
       "560  Southern New Hampshire Bank & Trust    February 2, 2001      4647  \n",
       "561              Banterra Bank of Marion   December 14, 2000      4646  \n",
       "562                   Bank of the Orient    October 13, 2000      4645  \n",
       "\n",
       "[563 rows x 7 columns]"
      ]
     },
     "execution_count": 238,
     "metadata": {},
     "output_type": "execute_result"
    }
   ],
   "source": [
    "df.rename({'Bank NameBank' : 'Bank Name'}, axis=1)"
   ]
  },
  {
   "cell_type": "code",
   "execution_count": 239,
   "id": "f2d3e748-4326-4394-a4b8-a0184ab2057c",
   "metadata": {},
   "outputs": [],
   "source": [
    "#"
   ]
  },
  {
   "cell_type": "code",
   "execution_count": 240,
   "id": "87b2f28f-4595-4d45-85a7-a373ecff1921",
   "metadata": {},
   "outputs": [],
   "source": [
    "df.rename({'Bank NameBank' : 'Bank Name', \n",
    "           'CityCity' : 'City', \n",
    "           'StateSt' : 'State', \n",
    "           'CertCert' : 'Cert', \n",
    "           'Acquiring InstitutionAI' : 'Acquiring Institution', \n",
    "           'Closing DateClosing' : 'Closing Date', \n",
    "           'FundFund' : 'Fund'}, axis=1, inplace = True)"
   ]
  },
  {
   "cell_type": "code",
   "execution_count": 241,
   "id": "40d3db51-07eb-4fab-8aee-0d27248353a3",
   "metadata": {},
   "outputs": [
    {
     "data": {
      "text/html": [
       "<div>\n",
       "<style scoped>\n",
       "    .dataframe tbody tr th:only-of-type {\n",
       "        vertical-align: middle;\n",
       "    }\n",
       "\n",
       "    .dataframe tbody tr th {\n",
       "        vertical-align: top;\n",
       "    }\n",
       "\n",
       "    .dataframe thead th {\n",
       "        text-align: right;\n",
       "    }\n",
       "</style>\n",
       "<table border=\"1\" class=\"dataframe\">\n",
       "  <thead>\n",
       "    <tr style=\"text-align: right;\">\n",
       "      <th></th>\n",
       "      <th>Bank Name</th>\n",
       "      <th>City</th>\n",
       "      <th>State</th>\n",
       "      <th>Cert</th>\n",
       "      <th>Acquiring Institution</th>\n",
       "      <th>Closing Date</th>\n",
       "      <th>Fund</th>\n",
       "    </tr>\n",
       "  </thead>\n",
       "  <tbody>\n",
       "    <tr>\n",
       "      <th>0</th>\n",
       "      <td>Almena State Bank</td>\n",
       "      <td>Almena</td>\n",
       "      <td>KS</td>\n",
       "      <td>15426</td>\n",
       "      <td>Equity Bank</td>\n",
       "      <td>October 23, 2020</td>\n",
       "      <td>10538</td>\n",
       "    </tr>\n",
       "    <tr>\n",
       "      <th>1</th>\n",
       "      <td>First City Bank of Florida</td>\n",
       "      <td>Fort Walton Beach</td>\n",
       "      <td>FL</td>\n",
       "      <td>16748</td>\n",
       "      <td>United Fidelity Bank, fsb</td>\n",
       "      <td>October 16, 2020</td>\n",
       "      <td>10537</td>\n",
       "    </tr>\n",
       "    <tr>\n",
       "      <th>2</th>\n",
       "      <td>The First State Bank</td>\n",
       "      <td>Barboursville</td>\n",
       "      <td>WV</td>\n",
       "      <td>14361</td>\n",
       "      <td>MVB Bank, Inc.</td>\n",
       "      <td>April 3, 2020</td>\n",
       "      <td>10536</td>\n",
       "    </tr>\n",
       "    <tr>\n",
       "      <th>3</th>\n",
       "      <td>Ericson State Bank</td>\n",
       "      <td>Ericson</td>\n",
       "      <td>NE</td>\n",
       "      <td>18265</td>\n",
       "      <td>Farmers and Merchants Bank</td>\n",
       "      <td>February 14, 2020</td>\n",
       "      <td>10535</td>\n",
       "    </tr>\n",
       "    <tr>\n",
       "      <th>4</th>\n",
       "      <td>City National Bank of New Jersey</td>\n",
       "      <td>Newark</td>\n",
       "      <td>NJ</td>\n",
       "      <td>21111</td>\n",
       "      <td>Industrial Bank</td>\n",
       "      <td>November 1, 2019</td>\n",
       "      <td>10534</td>\n",
       "    </tr>\n",
       "    <tr>\n",
       "      <th>...</th>\n",
       "      <td>...</td>\n",
       "      <td>...</td>\n",
       "      <td>...</td>\n",
       "      <td>...</td>\n",
       "      <td>...</td>\n",
       "      <td>...</td>\n",
       "      <td>...</td>\n",
       "    </tr>\n",
       "    <tr>\n",
       "      <th>558</th>\n",
       "      <td>Superior Bank, FSB</td>\n",
       "      <td>Hinsdale</td>\n",
       "      <td>IL</td>\n",
       "      <td>32646</td>\n",
       "      <td>Superior Federal, FSB</td>\n",
       "      <td>July 27, 2001</td>\n",
       "      <td>6004</td>\n",
       "    </tr>\n",
       "    <tr>\n",
       "      <th>559</th>\n",
       "      <td>Malta National Bank</td>\n",
       "      <td>Malta</td>\n",
       "      <td>OH</td>\n",
       "      <td>6629</td>\n",
       "      <td>North Valley Bank</td>\n",
       "      <td>May 3, 2001</td>\n",
       "      <td>4648</td>\n",
       "    </tr>\n",
       "    <tr>\n",
       "      <th>560</th>\n",
       "      <td>First Alliance Bank &amp; Trust Co.</td>\n",
       "      <td>Manchester</td>\n",
       "      <td>NH</td>\n",
       "      <td>34264</td>\n",
       "      <td>Southern New Hampshire Bank &amp; Trust</td>\n",
       "      <td>February 2, 2001</td>\n",
       "      <td>4647</td>\n",
       "    </tr>\n",
       "    <tr>\n",
       "      <th>561</th>\n",
       "      <td>National State Bank of Metropolis</td>\n",
       "      <td>Metropolis</td>\n",
       "      <td>IL</td>\n",
       "      <td>3815</td>\n",
       "      <td>Banterra Bank of Marion</td>\n",
       "      <td>December 14, 2000</td>\n",
       "      <td>4646</td>\n",
       "    </tr>\n",
       "    <tr>\n",
       "      <th>562</th>\n",
       "      <td>Bank of Honolulu</td>\n",
       "      <td>Honolulu</td>\n",
       "      <td>HI</td>\n",
       "      <td>21029</td>\n",
       "      <td>Bank of the Orient</td>\n",
       "      <td>October 13, 2000</td>\n",
       "      <td>4645</td>\n",
       "    </tr>\n",
       "  </tbody>\n",
       "</table>\n",
       "<p>563 rows × 7 columns</p>\n",
       "</div>"
      ],
      "text/plain": [
       "                             Bank Name               City State   Cert  \\\n",
       "0                    Almena State Bank             Almena    KS  15426   \n",
       "1           First City Bank of Florida  Fort Walton Beach    FL  16748   \n",
       "2                 The First State Bank      Barboursville    WV  14361   \n",
       "3                   Ericson State Bank            Ericson    NE  18265   \n",
       "4     City National Bank of New Jersey             Newark    NJ  21111   \n",
       "..                                 ...                ...   ...    ...   \n",
       "558                 Superior Bank, FSB           Hinsdale    IL  32646   \n",
       "559                Malta National Bank              Malta    OH   6629   \n",
       "560    First Alliance Bank & Trust Co.         Manchester    NH  34264   \n",
       "561  National State Bank of Metropolis         Metropolis    IL   3815   \n",
       "562                   Bank of Honolulu           Honolulu    HI  21029   \n",
       "\n",
       "                   Acquiring Institution       Closing Date   Fund  \n",
       "0                            Equity Bank   October 23, 2020  10538  \n",
       "1              United Fidelity Bank, fsb   October 16, 2020  10537  \n",
       "2                         MVB Bank, Inc.      April 3, 2020  10536  \n",
       "3             Farmers and Merchants Bank  February 14, 2020  10535  \n",
       "4                        Industrial Bank   November 1, 2019  10534  \n",
       "..                                   ...                ...    ...  \n",
       "558                Superior Federal, FSB      July 27, 2001   6004  \n",
       "559                    North Valley Bank        May 3, 2001   4648  \n",
       "560  Southern New Hampshire Bank & Trust   February 2, 2001   4647  \n",
       "561              Banterra Bank of Marion  December 14, 2000   4646  \n",
       "562                   Bank of the Orient   October 13, 2000   4645  \n",
       "\n",
       "[563 rows x 7 columns]"
      ]
     },
     "execution_count": 241,
     "metadata": {},
     "output_type": "execute_result"
    }
   ],
   "source": [
    "df"
   ]
  },
  {
   "cell_type": "code",
   "execution_count": 242,
   "id": "165c228b-5a4f-4a5d-a0c1-9e8048944e9a",
   "metadata": {},
   "outputs": [
    {
     "name": "stdout",
     "output_type": "stream",
     "text": [
      "<class 'pandas.core.frame.DataFrame'>\n",
      "RangeIndex: 563 entries, 0 to 562\n",
      "Data columns (total 7 columns):\n",
      " #   Column                 Non-Null Count  Dtype \n",
      "---  ------                 --------------  ----- \n",
      " 0   Bank Name              563 non-null    object\n",
      " 1   City                   563 non-null    object\n",
      " 2   State                  563 non-null    object\n",
      " 3   Cert                   563 non-null    int64 \n",
      " 4   Acquiring Institution  563 non-null    object\n",
      " 5   Closing Date           563 non-null    object\n",
      " 6   Fund                   563 non-null    int64 \n",
      "dtypes: int64(2), object(5)\n",
      "memory usage: 30.9+ KB\n"
     ]
    }
   ],
   "source": [
    "df.info()"
   ]
  },
  {
   "cell_type": "code",
   "execution_count": 243,
   "id": "f44a9fb7-c138-41b1-a098-0024c41d2c4f",
   "metadata": {},
   "outputs": [
    {
     "data": {
      "text/plain": [
       "0      15426\n",
       "1      16748\n",
       "2      14361\n",
       "3      18265\n",
       "4      21111\n",
       "       ...  \n",
       "558    32646\n",
       "559     6629\n",
       "560    34264\n",
       "561     3815\n",
       "562    21029\n",
       "Name: Cert, Length: 563, dtype: object"
      ]
     },
     "execution_count": 243,
     "metadata": {},
     "output_type": "execute_result"
    }
   ],
   "source": [
    "df['Cert'].astype(str)"
   ]
  },
  {
   "cell_type": "code",
   "execution_count": 244,
   "id": "86a2bfb7-8c58-44b1-9854-cbf31fe0ffcb",
   "metadata": {},
   "outputs": [],
   "source": [
    "df['Cert'] = df['Cert'].astype(str)"
   ]
  },
  {
   "cell_type": "code",
   "execution_count": 245,
   "id": "b6ac2bfb-a2f6-4c43-a574-46b51aa44783",
   "metadata": {},
   "outputs": [
    {
     "name": "stdout",
     "output_type": "stream",
     "text": [
      "<class 'pandas.core.frame.DataFrame'>\n",
      "RangeIndex: 563 entries, 0 to 562\n",
      "Data columns (total 7 columns):\n",
      " #   Column                 Non-Null Count  Dtype \n",
      "---  ------                 --------------  ----- \n",
      " 0   Bank Name              563 non-null    object\n",
      " 1   City                   563 non-null    object\n",
      " 2   State                  563 non-null    object\n",
      " 3   Cert                   563 non-null    object\n",
      " 4   Acquiring Institution  563 non-null    object\n",
      " 5   Closing Date           563 non-null    object\n",
      " 6   Fund                   563 non-null    int64 \n",
      "dtypes: int64(1), object(6)\n",
      "memory usage: 30.9+ KB\n"
     ]
    }
   ],
   "source": [
    "df.info()"
   ]
  },
  {
   "cell_type": "code",
   "execution_count": 246,
   "id": "74d34178-ea2b-4a63-a40a-8e261a234011",
   "metadata": {},
   "outputs": [
    {
     "data": {
      "text/plain": [
       "10036.8756660746"
      ]
     },
     "execution_count": 246,
     "metadata": {},
     "output_type": "execute_result"
    }
   ],
   "source": [
    "df['Fund'].mean()"
   ]
  },
  {
   "cell_type": "code",
   "execution_count": 247,
   "id": "2fe5dfc5-7956-44e1-bac5-9dbb030476d0",
   "metadata": {},
   "outputs": [
    {
     "data": {
      "text/html": [
       "<div>\n",
       "<style scoped>\n",
       "    .dataframe tbody tr th:only-of-type {\n",
       "        vertical-align: middle;\n",
       "    }\n",
       "\n",
       "    .dataframe tbody tr th {\n",
       "        vertical-align: top;\n",
       "    }\n",
       "\n",
       "    .dataframe thead th {\n",
       "        text-align: right;\n",
       "    }\n",
       "</style>\n",
       "<table border=\"1\" class=\"dataframe\">\n",
       "  <thead>\n",
       "    <tr style=\"text-align: right;\">\n",
       "      <th></th>\n",
       "      <th>Bank Name</th>\n",
       "      <th>City</th>\n",
       "      <th>State</th>\n",
       "      <th>Cert</th>\n",
       "      <th>Acquiring Institution</th>\n",
       "      <th>Closing Date</th>\n",
       "      <th>Fund</th>\n",
       "    </tr>\n",
       "  </thead>\n",
       "  <tbody>\n",
       "    <tr>\n",
       "      <th>0</th>\n",
       "      <td>Almena State Bank</td>\n",
       "      <td>Almena</td>\n",
       "      <td>KS</td>\n",
       "      <td>15426</td>\n",
       "      <td>Equity Bank</td>\n",
       "      <td>October 23, 2020</td>\n",
       "      <td>10538</td>\n",
       "    </tr>\n",
       "    <tr>\n",
       "      <th>1</th>\n",
       "      <td>First City Bank of Florida</td>\n",
       "      <td>Fort Walton Beach</td>\n",
       "      <td>FL</td>\n",
       "      <td>16748</td>\n",
       "      <td>United Fidelity Bank, fsb</td>\n",
       "      <td>October 16, 2020</td>\n",
       "      <td>10537</td>\n",
       "    </tr>\n",
       "    <tr>\n",
       "      <th>2</th>\n",
       "      <td>The First State Bank</td>\n",
       "      <td>Barboursville</td>\n",
       "      <td>WV</td>\n",
       "      <td>14361</td>\n",
       "      <td>MVB Bank, Inc.</td>\n",
       "      <td>April 3, 2020</td>\n",
       "      <td>10536</td>\n",
       "    </tr>\n",
       "    <tr>\n",
       "      <th>3</th>\n",
       "      <td>Ericson State Bank</td>\n",
       "      <td>Ericson</td>\n",
       "      <td>NE</td>\n",
       "      <td>18265</td>\n",
       "      <td>Farmers and Merchants Bank</td>\n",
       "      <td>February 14, 2020</td>\n",
       "      <td>10535</td>\n",
       "    </tr>\n",
       "    <tr>\n",
       "      <th>4</th>\n",
       "      <td>City National Bank of New Jersey</td>\n",
       "      <td>Newark</td>\n",
       "      <td>NJ</td>\n",
       "      <td>21111</td>\n",
       "      <td>Industrial Bank</td>\n",
       "      <td>November 1, 2019</td>\n",
       "      <td>10534</td>\n",
       "    </tr>\n",
       "    <tr>\n",
       "      <th>...</th>\n",
       "      <td>...</td>\n",
       "      <td>...</td>\n",
       "      <td>...</td>\n",
       "      <td>...</td>\n",
       "      <td>...</td>\n",
       "      <td>...</td>\n",
       "      <td>...</td>\n",
       "    </tr>\n",
       "    <tr>\n",
       "      <th>497</th>\n",
       "      <td>Silver Falls Bank</td>\n",
       "      <td>Silverton</td>\n",
       "      <td>OR</td>\n",
       "      <td>35399</td>\n",
       "      <td>Citizens Bank</td>\n",
       "      <td>February 20, 2009</td>\n",
       "      <td>10041</td>\n",
       "    </tr>\n",
       "    <tr>\n",
       "      <th>498</th>\n",
       "      <td>Pinnacle Bank of Oregon</td>\n",
       "      <td>Beaverton</td>\n",
       "      <td>OR</td>\n",
       "      <td>57342</td>\n",
       "      <td>Washington Trust Bank of Spokane</td>\n",
       "      <td>February 13, 2009</td>\n",
       "      <td>10040</td>\n",
       "    </tr>\n",
       "    <tr>\n",
       "      <th>499</th>\n",
       "      <td>Corn Belt Bank &amp; Trust Co.</td>\n",
       "      <td>Pittsfield</td>\n",
       "      <td>IL</td>\n",
       "      <td>16500</td>\n",
       "      <td>The Carlinville National Bank</td>\n",
       "      <td>February 13, 2009</td>\n",
       "      <td>10037</td>\n",
       "    </tr>\n",
       "    <tr>\n",
       "      <th>500</th>\n",
       "      <td>Riverside Bank of the Gulf Coast</td>\n",
       "      <td>Cape Coral</td>\n",
       "      <td>FL</td>\n",
       "      <td>34563</td>\n",
       "      <td>TIB Bank</td>\n",
       "      <td>February 13, 2009</td>\n",
       "      <td>10038</td>\n",
       "    </tr>\n",
       "    <tr>\n",
       "      <th>501</th>\n",
       "      <td>Sherman County Bank</td>\n",
       "      <td>Loup City</td>\n",
       "      <td>NE</td>\n",
       "      <td>5431</td>\n",
       "      <td>Heritage Bank</td>\n",
       "      <td>February 13, 2009</td>\n",
       "      <td>10039</td>\n",
       "    </tr>\n",
       "  </tbody>\n",
       "</table>\n",
       "<p>502 rows × 7 columns</p>\n",
       "</div>"
      ],
      "text/plain": [
       "                            Bank Name               City State   Cert  \\\n",
       "0                   Almena State Bank             Almena    KS  15426   \n",
       "1          First City Bank of Florida  Fort Walton Beach    FL  16748   \n",
       "2                The First State Bank      Barboursville    WV  14361   \n",
       "3                  Ericson State Bank            Ericson    NE  18265   \n",
       "4    City National Bank of New Jersey             Newark    NJ  21111   \n",
       "..                                ...                ...   ...    ...   \n",
       "497                 Silver Falls Bank          Silverton    OR  35399   \n",
       "498           Pinnacle Bank of Oregon          Beaverton    OR  57342   \n",
       "499        Corn Belt Bank & Trust Co.         Pittsfield    IL  16500   \n",
       "500  Riverside Bank of the Gulf Coast         Cape Coral    FL  34563   \n",
       "501               Sherman County Bank          Loup City    NE   5431   \n",
       "\n",
       "                Acquiring Institution       Closing Date   Fund  \n",
       "0                         Equity Bank   October 23, 2020  10538  \n",
       "1           United Fidelity Bank, fsb   October 16, 2020  10537  \n",
       "2                      MVB Bank, Inc.      April 3, 2020  10536  \n",
       "3          Farmers and Merchants Bank  February 14, 2020  10535  \n",
       "4                     Industrial Bank   November 1, 2019  10534  \n",
       "..                                ...                ...    ...  \n",
       "497                     Citizens Bank  February 20, 2009  10041  \n",
       "498  Washington Trust Bank of Spokane  February 13, 2009  10040  \n",
       "499     The Carlinville National Bank  February 13, 2009  10037  \n",
       "500                          TIB Bank  February 13, 2009  10038  \n",
       "501                     Heritage Bank  February 13, 2009  10039  \n",
       "\n",
       "[502 rows x 7 columns]"
      ]
     },
     "execution_count": 247,
     "metadata": {},
     "output_type": "execute_result"
    }
   ],
   "source": [
    "df[df['Fund'] > df['Fund'].mean()]"
   ]
  },
  {
   "cell_type": "code",
   "execution_count": 248,
   "id": "4733f3fa-d089-4888-97fb-77c4d57b0501",
   "metadata": {},
   "outputs": [
    {
     "data": {
      "text/plain": [
       "4645"
      ]
     },
     "execution_count": 248,
     "metadata": {},
     "output_type": "execute_result"
    }
   ],
   "source": [
    "df['Fund'].min()"
   ]
  },
  {
   "cell_type": "code",
   "execution_count": 249,
   "id": "b3cda591-ba0c-4508-8643-1df294a2ef57",
   "metadata": {},
   "outputs": [
    {
     "data": {
      "text/plain": [
       "10257.0"
      ]
     },
     "execution_count": 249,
     "metadata": {},
     "output_type": "execute_result"
    }
   ],
   "source": [
    "df['Fund'].median()"
   ]
  },
  {
   "cell_type": "code",
   "execution_count": 250,
   "id": "170d70c7-9608-44fa-ba24-d40eb1361be5",
   "metadata": {},
   "outputs": [
    {
     "data": {
      "text/plain": [
       "10538"
      ]
     },
     "execution_count": 250,
     "metadata": {},
     "output_type": "execute_result"
    }
   ],
   "source": [
    "df['Fund'].max()"
   ]
  },
  {
   "cell_type": "code",
   "execution_count": 251,
   "id": "b1cf0f01-8482-47b0-93c8-4c18dafcde1b",
   "metadata": {},
   "outputs": [
    {
     "data": {
      "text/plain": [
       "563"
      ]
     },
     "execution_count": 251,
     "metadata": {},
     "output_type": "execute_result"
    }
   ],
   "source": [
    "len(df)"
   ]
  },
  {
   "cell_type": "code",
   "execution_count": 252,
   "id": "4e3491f5-1d11-475a-895f-82899c02b593",
   "metadata": {},
   "outputs": [
    {
     "data": {
      "text/plain": [
       "502"
      ]
     },
     "execution_count": 252,
     "metadata": {},
     "output_type": "execute_result"
    }
   ],
   "source": [
    "len(df[df['Fund'] > df['Fund'].mean()])"
   ]
  },
  {
   "cell_type": "code",
   "execution_count": 253,
   "id": "1ae2ec12-daab-488b-ab36-337d390ef19d",
   "metadata": {},
   "outputs": [
    {
     "data": {
      "text/plain": [
       "281"
      ]
     },
     "execution_count": 253,
     "metadata": {},
     "output_type": "execute_result"
    }
   ],
   "source": [
    "len(df[df['Fund'] > df['Fund'].median()])"
   ]
  },
  {
   "cell_type": "code",
   "execution_count": 254,
   "id": "f9fed7cb-6f30-4884-92be-e85851d7b301",
   "metadata": {},
   "outputs": [
    {
     "data": {
      "text/plain": [
       "0                 Almena\n",
       "1      Fort Walton Beach\n",
       "2          Barboursville\n",
       "3                Ericson\n",
       "4                 Newark\n",
       "             ...        \n",
       "558             Hinsdale\n",
       "559                Malta\n",
       "560           Manchester\n",
       "561           Metropolis\n",
       "562             Honolulu\n",
       "Name: City, Length: 563, dtype: object"
      ]
     },
     "execution_count": 254,
     "metadata": {},
     "output_type": "execute_result"
    }
   ],
   "source": [
    "df['City']"
   ]
  },
  {
   "cell_type": "code",
   "execution_count": 255,
   "id": "e4e887ce-045b-48f8-b645-e05da916cad7",
   "metadata": {},
   "outputs": [
    {
     "data": {
      "text/plain": [
       "433"
      ]
     },
     "execution_count": 255,
     "metadata": {},
     "output_type": "execute_result"
    }
   ],
   "source": [
    "len(df['City'].unique())"
   ]
  },
  {
   "cell_type": "code",
   "execution_count": 256,
   "id": "e95d8020-fd37-4086-b865-486ec4483d8a",
   "metadata": {
    "tags": []
   },
   "outputs": [
    {
     "data": {
      "text/plain": [
       "array(['Almena', 'Fort Walton Beach', 'Barboursville', 'Ericson',\n",
       "       'Newark', 'Maumee', 'Louisa', 'Cooper', 'Chicago', 'Argonia',\n",
       "       'Saint Elmo', 'Milwaukee', 'New Orleans', 'Cottonwood Heights',\n",
       "       'Pennsville', 'Mulberry', 'Woodbury', 'King of Prussia', 'Memphis',\n",
       "       'Longview', 'Peachtree City', 'Denver', 'San Juan', 'Atlanta',\n",
       "       'Crestview', 'Mankato', 'Palm Desert', 'Rising Sun', 'Conyers',\n",
       "       'Freedom', 'Fort Lauderdale', 'Moline', 'Bel Air', 'Cincinnati',\n",
       "       'Berwyn', 'Fairfax', 'Horsham', 'Sterling', 'Boise', 'El Reno',\n",
       "       'West Chicago', 'The Woodlands', 'Graceville', 'Edinburg',\n",
       "       'Bridgeport', 'Phoenix', 'Parsons', 'Wausau', 'Fort Myers',\n",
       "       'Sevierville', 'North Las Vegas', 'Kenosha', 'Scottsdale',\n",
       "       'Valdosta', 'Asheville', 'Douglasville', 'Lenoir', 'Marianna',\n",
       "       'Orange Park', 'Lexington', 'Gold Canyon', 'LaGrange', 'Andover',\n",
       "       'University Place', 'Sunrise Beach', 'Braselton', 'Princeton',\n",
       "       'Lutz', 'Sedalia', 'Tamarac', 'Destin', 'Crete', 'St. Louis',\n",
       "       'Bloomington', 'Waukegan', 'Jasper', 'Leawood', 'Woodstock',\n",
       "       'Buford', 'Naples', 'Glasgow', 'Ailey', 'Lynchburg', 'Marietta',\n",
       "       'Palatka', 'Whiteville', 'Shabbona', 'Charleston', 'Kingfisher',\n",
       "       'Sylacauga', 'North Lauderdale', 'Pawleys Island', 'Maple Grove',\n",
       "       'Gaithersburg', 'Cambridge', 'Fort Lee', 'Dearborn', 'Wilmette',\n",
       "       'Rock Spring', 'Doraville', 'Little Falls', 'Ellaville',\n",
       "       'Shelbyville', 'Hoffman Estates', 'Knoxville', 'Forest Lake',\n",
       "       'Franklin', 'Jacksonville', 'Boothwyn', 'Stockbridge', 'Belleview',\n",
       "       'Lacombe', 'Johnston', 'Rockmart', 'Saint George', 'Omaha',\n",
       "       'Des Plaines', 'Greenwood Village', 'Jonesboro', 'Decatur',\n",
       "       'Clearwater', 'Aledo', 'Cranford', 'Gray', 'Ellington', 'Wyoming',\n",
       "       'Plano', 'Nevada City', 'Norfolk', 'Milton', 'Cumming', 'Geneva',\n",
       "       'Statesboro', 'Palm Beach', 'Huntingdon Valley', 'Olathe',\n",
       "       'Colfax', 'Shorewood', 'Evansville', 'Columbia', 'Richmond',\n",
       "       'Greeley', 'Sarasota', 'Apollo Beach', 'Prescott',\n",
       "       'Port St. Lucie', 'Windsor', 'Castle Rock', 'Clayton', 'Tampa',\n",
       "       'Jackson', 'Snohomish', 'Burlington', 'Macon', 'Cocoa Beach',\n",
       "       'Mount Clemens', 'Dallas', 'Brooksville', 'Winter Park',\n",
       "       'Carthage', 'Rosemount', 'Birmingham', 'East Ellijay',\n",
       "       'Cartersville', 'Las Vegas', 'Western Springs', 'Wood Dale',\n",
       "       'Davis', 'St. Charles', 'San Luis Obispo', 'Napa', 'Springfield',\n",
       "       'Clarkesville', 'Palm Springs', 'Cassville', 'Hamtramck',\n",
       "       'Port Orange', 'Watkinsville', 'Roswell', 'Taos', 'Louisville',\n",
       "       'Stoughton', 'Camargo', 'Easley', 'McDonough', 'Brunswick',\n",
       "       'Orlando', 'Lino Lakes', 'Batesville', 'McCaysville',\n",
       "       'Dawsonville', 'Coral Gables', 'Southampton', 'Farmington Hills',\n",
       "       'Bala Cynwyd', 'Carrabelle', 'Vidalia', 'Tifton', 'Westminster',\n",
       "       'Tacoma', 'Woodland Hills', 'Randallstown', 'Overland Park',\n",
       "       'Maywood', 'Barnesville', 'Gordon', 'Jefferson City',\n",
       "       'Chesterfield', 'Shoreline', 'Crawfordville', 'Arlington',\n",
       "       'Ponte Vedra Beach', 'West Allis', 'Milford', 'Winder', 'Ellijay',\n",
       "       'Cherry Hill', 'Bradenton', 'Sonoma', 'Solvang', 'Chico',\n",
       "       'Stockton', 'Martinsville', 'Ocala', 'Bartow', 'Palos Heights',\n",
       "       'Eugene', 'Panama City Beach', 'Port Saint Joe', 'Acworth',\n",
       "       'Cave Junction', 'New Prague', 'Sylvan Grove', 'Kingstree',\n",
       "       'Lantana', 'Hastings', 'Clewiston', 'Aventura', 'Miami',\n",
       "       'Spartanburg', 'Bluffton', 'Blackwell', 'Port Chester',\n",
       "       'Baltimore', 'Albuquerque', 'Savannah', 'Englewood', 'Reno',\n",
       "       'Seattle', 'Lincoln', 'Arcola', 'Rosedale', 'Granite Bay',\n",
       "       'Saint Paul', 'Elmwood Park', 'Plymouth', 'Saint Marys',\n",
       "       'San Diego', 'Mesa', 'Champlin', 'Bonifay', 'Everett', 'Butler',\n",
       "       'Creve Coeur', 'Port Huron', 'Mayaguez', 'Hato Rey', 'Naperville',\n",
       "       'Peotone', 'Rockford', 'Lynnwood', 'San Rafael', 'Oakland',\n",
       "       'Lowell', 'Fort Pierce', 'Clermont', 'Sterling Heights',\n",
       "       'Myrtle Beach', 'Key West', 'Carrollton', 'Aurora', 'Fort Deposit',\n",
       "       'Hiawassee', 'Draper', 'Duluth', 'Parma', 'Covington', 'New York',\n",
       "       'Ogden', 'Germantown', 'Normal', 'Boca Raton', 'Carson City',\n",
       "       'La Jolla', 'Orland Park', 'La Coste', 'Marco Island', 'Hancock',\n",
       "       'Bainbridge Island', 'Los Angeles', 'Cornelia', 'Hallock',\n",
       "       'Immokalee', 'The Dalles', 'Santa Fe', 'Leeton', 'Kaysville',\n",
       "       'St. Stephen', 'Antioch', 'Bellingham', 'Santa Monica', 'Irondale',\n",
       "       'New Baltimore', 'Panama City', 'Reston', 'Cleveland',\n",
       "       'Reidsville', 'Norcross', 'San Clemente', 'San Francisco',\n",
       "       'Oakdale', 'Detroit', 'Sparta', 'Houston', 'Madisonville',\n",
       "       'Teague', 'Lemont', 'Westmont', 'Otsego', 'Racine',\n",
       "       'Lawrenceville', 'Bakersfield', 'Pueblo', 'Spring Grove', 'Warren',\n",
       "       'Columbus', 'Lacey', 'Flagstaff', 'Rolling Meadows', 'Sioux City',\n",
       "       'Oak Forest', 'Kansas City', 'Ventura', 'Austin', 'Newnan',\n",
       "       'Gilbert', 'Montgomery', 'Pittsburgh', 'Prineville', 'Venice',\n",
       "       'Harvey', 'Elizabeth', 'West Chester', 'Jupiter', 'Altus', 'Perry',\n",
       "       'Alpharetta', 'Suwanee', 'Williamsville', 'Temecula',\n",
       "       'Rancho Cucamonga', 'Sioux Falls', 'Thermopolis', 'Worth',\n",
       "       'Danville', 'Oregon', 'Winchester', 'Clinton', 'Irvine',\n",
       "       'Pine City', 'Villa Rica', 'Anthony', 'Wilmington', 'Fayetteville',\n",
       "       'Lincolnwood', 'Macomb', 'Champaign', 'Bremerton', 'Layton',\n",
       "       'Ridgewood', 'Ketchum', 'Calabasas', 'Kennesaw', 'Elko',\n",
       "       'Sugar Creek', 'Paola', 'Colorado Springs', 'Commerce',\n",
       "       'Henderson', 'Glenwood', 'Silverton', 'Beaverton', 'Pittsfield',\n",
       "       'Cape Coral', 'Loup City', 'Merced', 'Culver City', 'Crofton',\n",
       "       'Salt Lake City', 'Redlands', 'Vancouver', 'Berkeley', 'Sanderson',\n",
       "       'Pomona', 'Newport Beach', 'Loganville', 'Eldred', 'Northville',\n",
       "       'Northfork', 'Topeka', 'Pasadena', 'Staples', 'Bentonville',\n",
       "       'Hume', 'Lakeview', 'Ephraim', 'White Plains', 'Tallahassee',\n",
       "       'Philadelphia', 'Blanchardville', 'Torrance', 'Cheneyville',\n",
       "       'Alamo', 'Stamford', 'Shelby Township', 'Oakwood', 'Sierra Blanca',\n",
       "       'Gravette', 'Hinsdale', 'Malta', 'Manchester', 'Metropolis',\n",
       "       'Honolulu'], dtype=object)"
      ]
     },
     "execution_count": 256,
     "metadata": {},
     "output_type": "execute_result"
    }
   ],
   "source": [
    "df['City'].unique()"
   ]
  },
  {
   "cell_type": "code",
   "execution_count": 257,
   "id": "b53acde3-246b-484e-afa7-40528e8cc599",
   "metadata": {},
   "outputs": [
    {
     "data": {
      "text/plain": [
       "Chicago         20\n",
       "Atlanta         10\n",
       "Phoenix          6\n",
       "Naples           5\n",
       "Scottsdale       4\n",
       "                ..\n",
       "East Ellijay     1\n",
       "Rosemount        1\n",
       "Carthage         1\n",
       "Winter Park      1\n",
       "Honolulu         1\n",
       "Name: City, Length: 433, dtype: int64"
      ]
     },
     "execution_count": 257,
     "metadata": {},
     "output_type": "execute_result"
    }
   ],
   "source": [
    "df['City'].value_counts()"
   ]
  },
  {
   "cell_type": "code",
   "execution_count": 258,
   "id": "769ecc2c-0763-45ec-ad13-fef3bffbcec4",
   "metadata": {
    "tags": []
   },
   "outputs": [
    {
     "data": {
      "text/plain": [
       "GA    93\n",
       "FL    76\n",
       "IL    69\n",
       "CA    41\n",
       "MN    23\n",
       "WA    19\n",
       "AZ    16\n",
       "MO    16\n",
       "MI    14\n",
       "TX    13\n",
       "NV    12\n",
       "KS    11\n",
       "WI    11\n",
       "SC    10\n",
       "CO    10\n",
       "MD    10\n",
       "PA    10\n",
       "OH     9\n",
       "NJ     8\n",
       "UT     8\n",
       "NC     7\n",
       "AL     7\n",
       "OK     7\n",
       "TN     7\n",
       "OR     6\n",
       "VA     5\n",
       "NY     5\n",
       "PR     4\n",
       "AR     4\n",
       "LA     4\n",
       "NE     4\n",
       "NM     3\n",
       "IN     3\n",
       "KY     3\n",
       "WV     2\n",
       "IA     2\n",
       "MS     2\n",
       "CT     2\n",
       "ID     2\n",
       "MA     1\n",
       "SD     1\n",
       "WY     1\n",
       "NH     1\n",
       "HI     1\n",
       "Name: State, dtype: int64"
      ]
     },
     "execution_count": 258,
     "metadata": {},
     "output_type": "execute_result"
    }
   ],
   "source": [
    "df['State'].value_counts()"
   ]
  },
  {
   "cell_type": "code",
   "execution_count": 259,
   "id": "72087cef-182e-4f9e-bdd3-fa56b45fee41",
   "metadata": {},
   "outputs": [
    {
     "data": {
      "text/plain": [
       "4645"
      ]
     },
     "execution_count": 259,
     "metadata": {},
     "output_type": "execute_result"
    }
   ],
   "source": [
    "df['Fund'].min()"
   ]
  },
  {
   "cell_type": "code",
   "execution_count": 260,
   "id": "8ff02a52-d20a-4f41-9ffd-90e42e0403c4",
   "metadata": {},
   "outputs": [
    {
     "data": {
      "text/html": [
       "<div>\n",
       "<style scoped>\n",
       "    .dataframe tbody tr th:only-of-type {\n",
       "        vertical-align: middle;\n",
       "    }\n",
       "\n",
       "    .dataframe tbody tr th {\n",
       "        vertical-align: top;\n",
       "    }\n",
       "\n",
       "    .dataframe thead th {\n",
       "        text-align: right;\n",
       "    }\n",
       "</style>\n",
       "<table border=\"1\" class=\"dataframe\">\n",
       "  <thead>\n",
       "    <tr style=\"text-align: right;\">\n",
       "      <th></th>\n",
       "      <th>Bank Name</th>\n",
       "      <th>City</th>\n",
       "      <th>State</th>\n",
       "      <th>Cert</th>\n",
       "      <th>Acquiring Institution</th>\n",
       "      <th>Closing Date</th>\n",
       "      <th>Fund</th>\n",
       "    </tr>\n",
       "  </thead>\n",
       "  <tbody>\n",
       "    <tr>\n",
       "      <th>562</th>\n",
       "      <td>Bank of Honolulu</td>\n",
       "      <td>Honolulu</td>\n",
       "      <td>HI</td>\n",
       "      <td>21029</td>\n",
       "      <td>Bank of the Orient</td>\n",
       "      <td>October 13, 2000</td>\n",
       "      <td>4645</td>\n",
       "    </tr>\n",
       "  </tbody>\n",
       "</table>\n",
       "</div>"
      ],
      "text/plain": [
       "            Bank Name      City State   Cert Acquiring Institution  \\\n",
       "562  Bank of Honolulu  Honolulu    HI  21029    Bank of the Orient   \n",
       "\n",
       "         Closing Date  Fund  \n",
       "562  October 13, 2000  4645  "
      ]
     },
     "execution_count": 260,
     "metadata": {},
     "output_type": "execute_result"
    }
   ],
   "source": [
    "df[df['Fund'] == df['Fund'].min()]"
   ]
  },
  {
   "cell_type": "code",
   "execution_count": 261,
   "id": "a28f1e0b-9235-4dc5-a4bd-f359d9108796",
   "metadata": {
    "tags": []
   },
   "outputs": [
    {
     "data": {
      "text/html": [
       "<div>\n",
       "<style scoped>\n",
       "    .dataframe tbody tr th:only-of-type {\n",
       "        vertical-align: middle;\n",
       "    }\n",
       "\n",
       "    .dataframe tbody tr th {\n",
       "        vertical-align: top;\n",
       "    }\n",
       "\n",
       "    .dataframe thead th {\n",
       "        text-align: right;\n",
       "    }\n",
       "</style>\n",
       "<table border=\"1\" class=\"dataframe\">\n",
       "  <thead>\n",
       "    <tr style=\"text-align: right;\">\n",
       "      <th></th>\n",
       "      <th>Bank Name</th>\n",
       "      <th>City</th>\n",
       "      <th>State</th>\n",
       "      <th>Cert</th>\n",
       "      <th>Acquiring Institution</th>\n",
       "      <th>Closing Date</th>\n",
       "      <th>Fund</th>\n",
       "    </tr>\n",
       "  </thead>\n",
       "  <tbody>\n",
       "    <tr>\n",
       "      <th>562</th>\n",
       "      <td>Bank of Honolulu</td>\n",
       "      <td>Honolulu</td>\n",
       "      <td>HI</td>\n",
       "      <td>21029</td>\n",
       "      <td>Bank of the Orient</td>\n",
       "      <td>October 13, 2000</td>\n",
       "      <td>4645</td>\n",
       "    </tr>\n",
       "  </tbody>\n",
       "</table>\n",
       "</div>"
      ],
      "text/plain": [
       "            Bank Name      City State   Cert Acquiring Institution  \\\n",
       "562  Bank of Honolulu  Honolulu    HI  21029    Bank of the Orient   \n",
       "\n",
       "         Closing Date  Fund  \n",
       "562  October 13, 2000  4645  "
      ]
     },
     "execution_count": 261,
     "metadata": {},
     "output_type": "execute_result"
    }
   ],
   "source": [
    "df[df['City'].str.upper() == 'honolulu'.upper()]"
   ]
  },
  {
   "cell_type": "markdown",
   "id": "f1635d8c-83ae-4569-bba6-068f46ca0871",
   "metadata": {},
   "source": [
    "## Quiz\n",
    "- State GA이면서 fund가 5000이상 10000이하인 데이터에서 city마다 몇개의 은행이 존재하는지를 구하세요."
   ]
  },
  {
   "cell_type": "code",
   "execution_count": 262,
   "id": "94ef95c8-9cb1-42eb-b2b4-24ad7f402c1d",
   "metadata": {},
   "outputs": [],
   "source": [
    "#State GA이면서 fund가 5000이상 10000이하인 데이터에서 city마다 몇개의 은행이 존재하는지를 구하세요."
   ]
  },
  {
   "cell_type": "code",
   "execution_count": 263,
   "id": "d45e024e-933d-4290-9347-61abbea9fe6a",
   "metadata": {},
   "outputs": [],
   "source": [
    "df2 = df[(df['State'] == 'GA') & (5000 <= df['Fund']) & (df['Fund'] <= 10200)]"
   ]
  },
  {
   "cell_type": "code",
   "execution_count": 264,
   "id": "a65cd74c-d4e5-4a32-b260-a4536a913a79",
   "metadata": {
    "tags": []
   },
   "outputs": [
    {
     "data": {
      "text/plain": [
       "Atlanta          6\n",
       "Alpharetta       4\n",
       "Newnan           2\n",
       "Duluth           2\n",
       "Ellijay          1\n",
       "Jackson          1\n",
       "McDonough        1\n",
       "Commerce         1\n",
       "Stockbridge      1\n",
       "Kennesaw         1\n",
       "Fayetteville     1\n",
       "Villa Rica       1\n",
       "Winder           1\n",
       "Suwanee          1\n",
       "Macon            1\n",
       "Woodstock        1\n",
       "Perry            1\n",
       "Gray             1\n",
       "Lawrenceville    1\n",
       "Sparta           1\n",
       "Norcross         1\n",
       "Reidsville       1\n",
       "Carrollton       1\n",
       "Cornelia         1\n",
       "Loganville       1\n",
       "Name: City, dtype: int64"
      ]
     },
     "execution_count": 264,
     "metadata": {},
     "output_type": "execute_result"
    }
   ],
   "source": [
    "df2['City'].value_counts()"
   ]
  },
  {
   "cell_type": "markdown",
   "id": "7df00293-9182-4ee0-9f82-2ff71e0762a0",
   "metadata": {},
   "source": [
    "## State를 기준으로 Fund 데이터 살펴보기"
   ]
  },
  {
   "cell_type": "code",
   "execution_count": 265,
   "id": "ea2fef90-71a0-44c8-9c74-440b19bbce36",
   "metadata": {
    "tags": []
   },
   "outputs": [
    {
     "name": "stdout",
     "output_type": "stream",
     "text": [
      "KS 113059\n",
      "FL 764744\n",
      "WV 20550\n",
      "NE 41232\n",
      "NJ 78344\n",
      "OH 81074\n",
      "KY 31127\n",
      "TX 127397\n",
      "IL 694783\n",
      "WI 108426\n",
      "LA 35794\n",
      "UT 76253\n",
      "AR 35498\n",
      "GA 948949\n",
      "PA 97682\n",
      "TN 67436\n",
      "WA 194884\n",
      "CO 102931\n",
      "PR 41203\n",
      "MN 235976\n",
      "CA 411858\n",
      "MD 103027\n",
      "OK 72472\n",
      "SC 103460\n",
      "VA 51712\n",
      "ID 20549\n",
      "CT 15145\n",
      "AZ 158881\n",
      "NV 122013\n",
      "NC 72246\n",
      "MO 164012\n",
      "AL 71730\n",
      "MI 137544\n",
      "IN 30929\n",
      "IA 20530\n",
      "MS 20601\n",
      "NM 30760\n",
      "OR 60888\n",
      "NY 45398\n",
      "MA 10211\n",
      "SD 10081\n",
      "WY 10080\n",
      "NH 4647\n",
      "HI 4645\n"
     ]
    }
   ],
   "source": [
    "for i in df['State'].unique():\n",
    "    print(i, df[df['State'] == i] ['Fund'].sum())"
   ]
  },
  {
   "cell_type": "code",
   "execution_count": 266,
   "id": "306d2896-3348-4b59-8343-c0f616fe2c66",
   "metadata": {
    "tags": []
   },
   "outputs": [
    {
     "data": {
      "text/plain": [
       "71730"
      ]
     },
     "execution_count": 266,
     "metadata": {},
     "output_type": "execute_result"
    }
   ],
   "source": [
    "df[df['State'] == 'AL']['Fund'].sum()"
   ]
  },
  {
   "cell_type": "code",
   "execution_count": 267,
   "id": "4ad6c204-aecd-4809-a6c3-025d627df865",
   "metadata": {},
   "outputs": [
    {
     "data": {
      "application/vnd.plotly.v1+json": {
       "config": {
        "plotlyServerURL": "https://plot.ly"
       },
       "data": [
        {
         "alignmentgroup": "True",
         "hovertemplate": "State=%{x}<br>Fund=%{y}<extra></extra>",
         "legendgroup": "",
         "marker": {
          "color": "#636efa",
          "pattern": {
           "shape": ""
          }
         },
         "name": "",
         "offsetgroup": "",
         "orientation": "v",
         "showlegend": false,
         "textposition": "auto",
         "type": "bar",
         "x": [
          "AL",
          "AR",
          "AZ",
          "CA",
          "CO",
          "CT",
          "FL",
          "GA",
          "HI",
          "IA",
          "ID",
          "IL",
          "IN",
          "KS",
          "KY",
          "LA",
          "MA",
          "MD",
          "MI",
          "MN",
          "MO",
          "MS",
          "NC",
          "NE",
          "NH",
          "NJ",
          "NM",
          "NV",
          "NY",
          "OH",
          "OK",
          "OR",
          "PA",
          "PR",
          "SC",
          "SD",
          "TN",
          "TX",
          "UT",
          "VA",
          "WA",
          "WI",
          "WV",
          "WY"
         ],
         "xaxis": "x",
         "y": [
          71730,
          35498,
          158881,
          411858,
          102931,
          15145,
          764744,
          948949,
          4645,
          20530,
          20549,
          694783,
          30929,
          113059,
          31127,
          35794,
          10211,
          103027,
          137544,
          235976,
          164012,
          20601,
          72246,
          41232,
          4647,
          78344,
          30760,
          122013,
          45398,
          81074,
          72472,
          60888,
          97682,
          41203,
          103460,
          10081,
          67436,
          127397,
          76253,
          51712,
          194884,
          108426,
          20550,
          10080
         ],
         "yaxis": "y"
        }
       ],
       "layout": {
        "barmode": "relative",
        "legend": {
         "tracegroupgap": 0
        },
        "margin": {
         "t": 60
        },
        "template": {
         "data": {
          "bar": [
           {
            "error_x": {
             "color": "#2a3f5f"
            },
            "error_y": {
             "color": "#2a3f5f"
            },
            "marker": {
             "line": {
              "color": "#E5ECF6",
              "width": 0.5
             },
             "pattern": {
              "fillmode": "overlay",
              "size": 10,
              "solidity": 0.2
             }
            },
            "type": "bar"
           }
          ],
          "barpolar": [
           {
            "marker": {
             "line": {
              "color": "#E5ECF6",
              "width": 0.5
             },
             "pattern": {
              "fillmode": "overlay",
              "size": 10,
              "solidity": 0.2
             }
            },
            "type": "barpolar"
           }
          ],
          "carpet": [
           {
            "aaxis": {
             "endlinecolor": "#2a3f5f",
             "gridcolor": "white",
             "linecolor": "white",
             "minorgridcolor": "white",
             "startlinecolor": "#2a3f5f"
            },
            "baxis": {
             "endlinecolor": "#2a3f5f",
             "gridcolor": "white",
             "linecolor": "white",
             "minorgridcolor": "white",
             "startlinecolor": "#2a3f5f"
            },
            "type": "carpet"
           }
          ],
          "choropleth": [
           {
            "colorbar": {
             "outlinewidth": 0,
             "ticks": ""
            },
            "type": "choropleth"
           }
          ],
          "contour": [
           {
            "colorbar": {
             "outlinewidth": 0,
             "ticks": ""
            },
            "colorscale": [
             [
              0,
              "#0d0887"
             ],
             [
              0.1111111111111111,
              "#46039f"
             ],
             [
              0.2222222222222222,
              "#7201a8"
             ],
             [
              0.3333333333333333,
              "#9c179e"
             ],
             [
              0.4444444444444444,
              "#bd3786"
             ],
             [
              0.5555555555555556,
              "#d8576b"
             ],
             [
              0.6666666666666666,
              "#ed7953"
             ],
             [
              0.7777777777777778,
              "#fb9f3a"
             ],
             [
              0.8888888888888888,
              "#fdca26"
             ],
             [
              1,
              "#f0f921"
             ]
            ],
            "type": "contour"
           }
          ],
          "contourcarpet": [
           {
            "colorbar": {
             "outlinewidth": 0,
             "ticks": ""
            },
            "type": "contourcarpet"
           }
          ],
          "heatmap": [
           {
            "colorbar": {
             "outlinewidth": 0,
             "ticks": ""
            },
            "colorscale": [
             [
              0,
              "#0d0887"
             ],
             [
              0.1111111111111111,
              "#46039f"
             ],
             [
              0.2222222222222222,
              "#7201a8"
             ],
             [
              0.3333333333333333,
              "#9c179e"
             ],
             [
              0.4444444444444444,
              "#bd3786"
             ],
             [
              0.5555555555555556,
              "#d8576b"
             ],
             [
              0.6666666666666666,
              "#ed7953"
             ],
             [
              0.7777777777777778,
              "#fb9f3a"
             ],
             [
              0.8888888888888888,
              "#fdca26"
             ],
             [
              1,
              "#f0f921"
             ]
            ],
            "type": "heatmap"
           }
          ],
          "heatmapgl": [
           {
            "colorbar": {
             "outlinewidth": 0,
             "ticks": ""
            },
            "colorscale": [
             [
              0,
              "#0d0887"
             ],
             [
              0.1111111111111111,
              "#46039f"
             ],
             [
              0.2222222222222222,
              "#7201a8"
             ],
             [
              0.3333333333333333,
              "#9c179e"
             ],
             [
              0.4444444444444444,
              "#bd3786"
             ],
             [
              0.5555555555555556,
              "#d8576b"
             ],
             [
              0.6666666666666666,
              "#ed7953"
             ],
             [
              0.7777777777777778,
              "#fb9f3a"
             ],
             [
              0.8888888888888888,
              "#fdca26"
             ],
             [
              1,
              "#f0f921"
             ]
            ],
            "type": "heatmapgl"
           }
          ],
          "histogram": [
           {
            "marker": {
             "pattern": {
              "fillmode": "overlay",
              "size": 10,
              "solidity": 0.2
             }
            },
            "type": "histogram"
           }
          ],
          "histogram2d": [
           {
            "colorbar": {
             "outlinewidth": 0,
             "ticks": ""
            },
            "colorscale": [
             [
              0,
              "#0d0887"
             ],
             [
              0.1111111111111111,
              "#46039f"
             ],
             [
              0.2222222222222222,
              "#7201a8"
             ],
             [
              0.3333333333333333,
              "#9c179e"
             ],
             [
              0.4444444444444444,
              "#bd3786"
             ],
             [
              0.5555555555555556,
              "#d8576b"
             ],
             [
              0.6666666666666666,
              "#ed7953"
             ],
             [
              0.7777777777777778,
              "#fb9f3a"
             ],
             [
              0.8888888888888888,
              "#fdca26"
             ],
             [
              1,
              "#f0f921"
             ]
            ],
            "type": "histogram2d"
           }
          ],
          "histogram2dcontour": [
           {
            "colorbar": {
             "outlinewidth": 0,
             "ticks": ""
            },
            "colorscale": [
             [
              0,
              "#0d0887"
             ],
             [
              0.1111111111111111,
              "#46039f"
             ],
             [
              0.2222222222222222,
              "#7201a8"
             ],
             [
              0.3333333333333333,
              "#9c179e"
             ],
             [
              0.4444444444444444,
              "#bd3786"
             ],
             [
              0.5555555555555556,
              "#d8576b"
             ],
             [
              0.6666666666666666,
              "#ed7953"
             ],
             [
              0.7777777777777778,
              "#fb9f3a"
             ],
             [
              0.8888888888888888,
              "#fdca26"
             ],
             [
              1,
              "#f0f921"
             ]
            ],
            "type": "histogram2dcontour"
           }
          ],
          "mesh3d": [
           {
            "colorbar": {
             "outlinewidth": 0,
             "ticks": ""
            },
            "type": "mesh3d"
           }
          ],
          "parcoords": [
           {
            "line": {
             "colorbar": {
              "outlinewidth": 0,
              "ticks": ""
             }
            },
            "type": "parcoords"
           }
          ],
          "pie": [
           {
            "automargin": true,
            "type": "pie"
           }
          ],
          "scatter": [
           {
            "fillpattern": {
             "fillmode": "overlay",
             "size": 10,
             "solidity": 0.2
            },
            "type": "scatter"
           }
          ],
          "scatter3d": [
           {
            "line": {
             "colorbar": {
              "outlinewidth": 0,
              "ticks": ""
             }
            },
            "marker": {
             "colorbar": {
              "outlinewidth": 0,
              "ticks": ""
             }
            },
            "type": "scatter3d"
           }
          ],
          "scattercarpet": [
           {
            "marker": {
             "colorbar": {
              "outlinewidth": 0,
              "ticks": ""
             }
            },
            "type": "scattercarpet"
           }
          ],
          "scattergeo": [
           {
            "marker": {
             "colorbar": {
              "outlinewidth": 0,
              "ticks": ""
             }
            },
            "type": "scattergeo"
           }
          ],
          "scattergl": [
           {
            "marker": {
             "colorbar": {
              "outlinewidth": 0,
              "ticks": ""
             }
            },
            "type": "scattergl"
           }
          ],
          "scattermapbox": [
           {
            "marker": {
             "colorbar": {
              "outlinewidth": 0,
              "ticks": ""
             }
            },
            "type": "scattermapbox"
           }
          ],
          "scatterpolar": [
           {
            "marker": {
             "colorbar": {
              "outlinewidth": 0,
              "ticks": ""
             }
            },
            "type": "scatterpolar"
           }
          ],
          "scatterpolargl": [
           {
            "marker": {
             "colorbar": {
              "outlinewidth": 0,
              "ticks": ""
             }
            },
            "type": "scatterpolargl"
           }
          ],
          "scatterternary": [
           {
            "marker": {
             "colorbar": {
              "outlinewidth": 0,
              "ticks": ""
             }
            },
            "type": "scatterternary"
           }
          ],
          "surface": [
           {
            "colorbar": {
             "outlinewidth": 0,
             "ticks": ""
            },
            "colorscale": [
             [
              0,
              "#0d0887"
             ],
             [
              0.1111111111111111,
              "#46039f"
             ],
             [
              0.2222222222222222,
              "#7201a8"
             ],
             [
              0.3333333333333333,
              "#9c179e"
             ],
             [
              0.4444444444444444,
              "#bd3786"
             ],
             [
              0.5555555555555556,
              "#d8576b"
             ],
             [
              0.6666666666666666,
              "#ed7953"
             ],
             [
              0.7777777777777778,
              "#fb9f3a"
             ],
             [
              0.8888888888888888,
              "#fdca26"
             ],
             [
              1,
              "#f0f921"
             ]
            ],
            "type": "surface"
           }
          ],
          "table": [
           {
            "cells": {
             "fill": {
              "color": "#EBF0F8"
             },
             "line": {
              "color": "white"
             }
            },
            "header": {
             "fill": {
              "color": "#C8D4E3"
             },
             "line": {
              "color": "white"
             }
            },
            "type": "table"
           }
          ]
         },
         "layout": {
          "annotationdefaults": {
           "arrowcolor": "#2a3f5f",
           "arrowhead": 0,
           "arrowwidth": 1
          },
          "autotypenumbers": "strict",
          "coloraxis": {
           "colorbar": {
            "outlinewidth": 0,
            "ticks": ""
           }
          },
          "colorscale": {
           "diverging": [
            [
             0,
             "#8e0152"
            ],
            [
             0.1,
             "#c51b7d"
            ],
            [
             0.2,
             "#de77ae"
            ],
            [
             0.3,
             "#f1b6da"
            ],
            [
             0.4,
             "#fde0ef"
            ],
            [
             0.5,
             "#f7f7f7"
            ],
            [
             0.6,
             "#e6f5d0"
            ],
            [
             0.7,
             "#b8e186"
            ],
            [
             0.8,
             "#7fbc41"
            ],
            [
             0.9,
             "#4d9221"
            ],
            [
             1,
             "#276419"
            ]
           ],
           "sequential": [
            [
             0,
             "#0d0887"
            ],
            [
             0.1111111111111111,
             "#46039f"
            ],
            [
             0.2222222222222222,
             "#7201a8"
            ],
            [
             0.3333333333333333,
             "#9c179e"
            ],
            [
             0.4444444444444444,
             "#bd3786"
            ],
            [
             0.5555555555555556,
             "#d8576b"
            ],
            [
             0.6666666666666666,
             "#ed7953"
            ],
            [
             0.7777777777777778,
             "#fb9f3a"
            ],
            [
             0.8888888888888888,
             "#fdca26"
            ],
            [
             1,
             "#f0f921"
            ]
           ],
           "sequentialminus": [
            [
             0,
             "#0d0887"
            ],
            [
             0.1111111111111111,
             "#46039f"
            ],
            [
             0.2222222222222222,
             "#7201a8"
            ],
            [
             0.3333333333333333,
             "#9c179e"
            ],
            [
             0.4444444444444444,
             "#bd3786"
            ],
            [
             0.5555555555555556,
             "#d8576b"
            ],
            [
             0.6666666666666666,
             "#ed7953"
            ],
            [
             0.7777777777777778,
             "#fb9f3a"
            ],
            [
             0.8888888888888888,
             "#fdca26"
            ],
            [
             1,
             "#f0f921"
            ]
           ]
          },
          "colorway": [
           "#636efa",
           "#EF553B",
           "#00cc96",
           "#ab63fa",
           "#FFA15A",
           "#19d3f3",
           "#FF6692",
           "#B6E880",
           "#FF97FF",
           "#FECB52"
          ],
          "font": {
           "color": "#2a3f5f"
          },
          "geo": {
           "bgcolor": "white",
           "lakecolor": "white",
           "landcolor": "#E5ECF6",
           "showlakes": true,
           "showland": true,
           "subunitcolor": "white"
          },
          "hoverlabel": {
           "align": "left"
          },
          "hovermode": "closest",
          "mapbox": {
           "style": "light"
          },
          "paper_bgcolor": "white",
          "plot_bgcolor": "#E5ECF6",
          "polar": {
           "angularaxis": {
            "gridcolor": "white",
            "linecolor": "white",
            "ticks": ""
           },
           "bgcolor": "#E5ECF6",
           "radialaxis": {
            "gridcolor": "white",
            "linecolor": "white",
            "ticks": ""
           }
          },
          "scene": {
           "xaxis": {
            "backgroundcolor": "#E5ECF6",
            "gridcolor": "white",
            "gridwidth": 2,
            "linecolor": "white",
            "showbackground": true,
            "ticks": "",
            "zerolinecolor": "white"
           },
           "yaxis": {
            "backgroundcolor": "#E5ECF6",
            "gridcolor": "white",
            "gridwidth": 2,
            "linecolor": "white",
            "showbackground": true,
            "ticks": "",
            "zerolinecolor": "white"
           },
           "zaxis": {
            "backgroundcolor": "#E5ECF6",
            "gridcolor": "white",
            "gridwidth": 2,
            "linecolor": "white",
            "showbackground": true,
            "ticks": "",
            "zerolinecolor": "white"
           }
          },
          "shapedefaults": {
           "line": {
            "color": "#2a3f5f"
           }
          },
          "ternary": {
           "aaxis": {
            "gridcolor": "white",
            "linecolor": "white",
            "ticks": ""
           },
           "baxis": {
            "gridcolor": "white",
            "linecolor": "white",
            "ticks": ""
           },
           "bgcolor": "#E5ECF6",
           "caxis": {
            "gridcolor": "white",
            "linecolor": "white",
            "ticks": ""
           }
          },
          "title": {
           "x": 0.05
          },
          "xaxis": {
           "automargin": true,
           "gridcolor": "white",
           "linecolor": "white",
           "ticks": "",
           "title": {
            "standoff": 15
           },
           "zerolinecolor": "white",
           "zerolinewidth": 2
          },
          "yaxis": {
           "automargin": true,
           "gridcolor": "white",
           "linecolor": "white",
           "ticks": "",
           "title": {
            "standoff": 15
           },
           "zerolinecolor": "white",
           "zerolinewidth": 2
          }
         }
        },
        "xaxis": {
         "anchor": "y",
         "domain": [
          0,
          1
         ],
         "title": {
          "text": "State"
         }
        },
        "yaxis": {
         "anchor": "x",
         "domain": [
          0,
          1
         ],
         "title": {
          "text": "Fund"
         }
        }
       }
      }
     },
     "metadata": {},
     "output_type": "display_data"
    }
   ],
   "source": [
    "import plotly.express as px\n",
    "StateFund = df.groupby(['State']).sum()['Fund']#.sort_values()\n",
    "px.bar(data_frame = StateFund, x=StateFund.index, y='Fund')"
   ]
  },
  {
   "cell_type": "code",
   "execution_count": 268,
   "id": "46bb1028-fb7e-499e-8f4d-09be31e8f2cd",
   "metadata": {},
   "outputs": [
    {
     "data": {
      "application/vnd.plotly.v1+json": {
       "config": {
        "plotlyServerURL": "https://plot.ly"
       },
       "data": [
        {
         "alignmentgroup": "True",
         "hovertemplate": "State=%{x}<br>Fund=%{y}<extra></extra>",
         "legendgroup": "",
         "marker": {
          "color": "#636efa",
          "pattern": {
           "shape": ""
          }
         },
         "name": "",
         "offsetgroup": "",
         "orientation": "v",
         "showlegend": false,
         "textposition": "auto",
         "type": "bar",
         "x": [
          "HI",
          "NH",
          "WY",
          "SD",
          "MA",
          "CT",
          "IA",
          "ID",
          "WV",
          "MS",
          "NM",
          "IN",
          "KY",
          "AR",
          "LA",
          "PR",
          "NE",
          "NY",
          "VA",
          "OR",
          "TN",
          "AL",
          "NC",
          "OK",
          "UT",
          "NJ",
          "OH",
          "PA",
          "CO",
          "MD",
          "SC",
          "WI",
          "KS",
          "NV",
          "TX",
          "MI",
          "AZ",
          "MO",
          "WA",
          "MN",
          "CA",
          "IL",
          "FL",
          "GA"
         ],
         "xaxis": "x",
         "y": [
          4645,
          4647,
          10080,
          10081,
          10211,
          15145,
          20530,
          20549,
          20550,
          20601,
          30760,
          30929,
          31127,
          35498,
          35794,
          41203,
          41232,
          45398,
          51712,
          60888,
          67436,
          71730,
          72246,
          72472,
          76253,
          78344,
          81074,
          97682,
          102931,
          103027,
          103460,
          108426,
          113059,
          122013,
          127397,
          137544,
          158881,
          164012,
          194884,
          235976,
          411858,
          694783,
          764744,
          948949
         ],
         "yaxis": "y"
        }
       ],
       "layout": {
        "barmode": "relative",
        "legend": {
         "tracegroupgap": 0
        },
        "margin": {
         "t": 60
        },
        "template": {
         "data": {
          "bar": [
           {
            "error_x": {
             "color": "#2a3f5f"
            },
            "error_y": {
             "color": "#2a3f5f"
            },
            "marker": {
             "line": {
              "color": "#E5ECF6",
              "width": 0.5
             },
             "pattern": {
              "fillmode": "overlay",
              "size": 10,
              "solidity": 0.2
             }
            },
            "type": "bar"
           }
          ],
          "barpolar": [
           {
            "marker": {
             "line": {
              "color": "#E5ECF6",
              "width": 0.5
             },
             "pattern": {
              "fillmode": "overlay",
              "size": 10,
              "solidity": 0.2
             }
            },
            "type": "barpolar"
           }
          ],
          "carpet": [
           {
            "aaxis": {
             "endlinecolor": "#2a3f5f",
             "gridcolor": "white",
             "linecolor": "white",
             "minorgridcolor": "white",
             "startlinecolor": "#2a3f5f"
            },
            "baxis": {
             "endlinecolor": "#2a3f5f",
             "gridcolor": "white",
             "linecolor": "white",
             "minorgridcolor": "white",
             "startlinecolor": "#2a3f5f"
            },
            "type": "carpet"
           }
          ],
          "choropleth": [
           {
            "colorbar": {
             "outlinewidth": 0,
             "ticks": ""
            },
            "type": "choropleth"
           }
          ],
          "contour": [
           {
            "colorbar": {
             "outlinewidth": 0,
             "ticks": ""
            },
            "colorscale": [
             [
              0,
              "#0d0887"
             ],
             [
              0.1111111111111111,
              "#46039f"
             ],
             [
              0.2222222222222222,
              "#7201a8"
             ],
             [
              0.3333333333333333,
              "#9c179e"
             ],
             [
              0.4444444444444444,
              "#bd3786"
             ],
             [
              0.5555555555555556,
              "#d8576b"
             ],
             [
              0.6666666666666666,
              "#ed7953"
             ],
             [
              0.7777777777777778,
              "#fb9f3a"
             ],
             [
              0.8888888888888888,
              "#fdca26"
             ],
             [
              1,
              "#f0f921"
             ]
            ],
            "type": "contour"
           }
          ],
          "contourcarpet": [
           {
            "colorbar": {
             "outlinewidth": 0,
             "ticks": ""
            },
            "type": "contourcarpet"
           }
          ],
          "heatmap": [
           {
            "colorbar": {
             "outlinewidth": 0,
             "ticks": ""
            },
            "colorscale": [
             [
              0,
              "#0d0887"
             ],
             [
              0.1111111111111111,
              "#46039f"
             ],
             [
              0.2222222222222222,
              "#7201a8"
             ],
             [
              0.3333333333333333,
              "#9c179e"
             ],
             [
              0.4444444444444444,
              "#bd3786"
             ],
             [
              0.5555555555555556,
              "#d8576b"
             ],
             [
              0.6666666666666666,
              "#ed7953"
             ],
             [
              0.7777777777777778,
              "#fb9f3a"
             ],
             [
              0.8888888888888888,
              "#fdca26"
             ],
             [
              1,
              "#f0f921"
             ]
            ],
            "type": "heatmap"
           }
          ],
          "heatmapgl": [
           {
            "colorbar": {
             "outlinewidth": 0,
             "ticks": ""
            },
            "colorscale": [
             [
              0,
              "#0d0887"
             ],
             [
              0.1111111111111111,
              "#46039f"
             ],
             [
              0.2222222222222222,
              "#7201a8"
             ],
             [
              0.3333333333333333,
              "#9c179e"
             ],
             [
              0.4444444444444444,
              "#bd3786"
             ],
             [
              0.5555555555555556,
              "#d8576b"
             ],
             [
              0.6666666666666666,
              "#ed7953"
             ],
             [
              0.7777777777777778,
              "#fb9f3a"
             ],
             [
              0.8888888888888888,
              "#fdca26"
             ],
             [
              1,
              "#f0f921"
             ]
            ],
            "type": "heatmapgl"
           }
          ],
          "histogram": [
           {
            "marker": {
             "pattern": {
              "fillmode": "overlay",
              "size": 10,
              "solidity": 0.2
             }
            },
            "type": "histogram"
           }
          ],
          "histogram2d": [
           {
            "colorbar": {
             "outlinewidth": 0,
             "ticks": ""
            },
            "colorscale": [
             [
              0,
              "#0d0887"
             ],
             [
              0.1111111111111111,
              "#46039f"
             ],
             [
              0.2222222222222222,
              "#7201a8"
             ],
             [
              0.3333333333333333,
              "#9c179e"
             ],
             [
              0.4444444444444444,
              "#bd3786"
             ],
             [
              0.5555555555555556,
              "#d8576b"
             ],
             [
              0.6666666666666666,
              "#ed7953"
             ],
             [
              0.7777777777777778,
              "#fb9f3a"
             ],
             [
              0.8888888888888888,
              "#fdca26"
             ],
             [
              1,
              "#f0f921"
             ]
            ],
            "type": "histogram2d"
           }
          ],
          "histogram2dcontour": [
           {
            "colorbar": {
             "outlinewidth": 0,
             "ticks": ""
            },
            "colorscale": [
             [
              0,
              "#0d0887"
             ],
             [
              0.1111111111111111,
              "#46039f"
             ],
             [
              0.2222222222222222,
              "#7201a8"
             ],
             [
              0.3333333333333333,
              "#9c179e"
             ],
             [
              0.4444444444444444,
              "#bd3786"
             ],
             [
              0.5555555555555556,
              "#d8576b"
             ],
             [
              0.6666666666666666,
              "#ed7953"
             ],
             [
              0.7777777777777778,
              "#fb9f3a"
             ],
             [
              0.8888888888888888,
              "#fdca26"
             ],
             [
              1,
              "#f0f921"
             ]
            ],
            "type": "histogram2dcontour"
           }
          ],
          "mesh3d": [
           {
            "colorbar": {
             "outlinewidth": 0,
             "ticks": ""
            },
            "type": "mesh3d"
           }
          ],
          "parcoords": [
           {
            "line": {
             "colorbar": {
              "outlinewidth": 0,
              "ticks": ""
             }
            },
            "type": "parcoords"
           }
          ],
          "pie": [
           {
            "automargin": true,
            "type": "pie"
           }
          ],
          "scatter": [
           {
            "fillpattern": {
             "fillmode": "overlay",
             "size": 10,
             "solidity": 0.2
            },
            "type": "scatter"
           }
          ],
          "scatter3d": [
           {
            "line": {
             "colorbar": {
              "outlinewidth": 0,
              "ticks": ""
             }
            },
            "marker": {
             "colorbar": {
              "outlinewidth": 0,
              "ticks": ""
             }
            },
            "type": "scatter3d"
           }
          ],
          "scattercarpet": [
           {
            "marker": {
             "colorbar": {
              "outlinewidth": 0,
              "ticks": ""
             }
            },
            "type": "scattercarpet"
           }
          ],
          "scattergeo": [
           {
            "marker": {
             "colorbar": {
              "outlinewidth": 0,
              "ticks": ""
             }
            },
            "type": "scattergeo"
           }
          ],
          "scattergl": [
           {
            "marker": {
             "colorbar": {
              "outlinewidth": 0,
              "ticks": ""
             }
            },
            "type": "scattergl"
           }
          ],
          "scattermapbox": [
           {
            "marker": {
             "colorbar": {
              "outlinewidth": 0,
              "ticks": ""
             }
            },
            "type": "scattermapbox"
           }
          ],
          "scatterpolar": [
           {
            "marker": {
             "colorbar": {
              "outlinewidth": 0,
              "ticks": ""
             }
            },
            "type": "scatterpolar"
           }
          ],
          "scatterpolargl": [
           {
            "marker": {
             "colorbar": {
              "outlinewidth": 0,
              "ticks": ""
             }
            },
            "type": "scatterpolargl"
           }
          ],
          "scatterternary": [
           {
            "marker": {
             "colorbar": {
              "outlinewidth": 0,
              "ticks": ""
             }
            },
            "type": "scatterternary"
           }
          ],
          "surface": [
           {
            "colorbar": {
             "outlinewidth": 0,
             "ticks": ""
            },
            "colorscale": [
             [
              0,
              "#0d0887"
             ],
             [
              0.1111111111111111,
              "#46039f"
             ],
             [
              0.2222222222222222,
              "#7201a8"
             ],
             [
              0.3333333333333333,
              "#9c179e"
             ],
             [
              0.4444444444444444,
              "#bd3786"
             ],
             [
              0.5555555555555556,
              "#d8576b"
             ],
             [
              0.6666666666666666,
              "#ed7953"
             ],
             [
              0.7777777777777778,
              "#fb9f3a"
             ],
             [
              0.8888888888888888,
              "#fdca26"
             ],
             [
              1,
              "#f0f921"
             ]
            ],
            "type": "surface"
           }
          ],
          "table": [
           {
            "cells": {
             "fill": {
              "color": "#EBF0F8"
             },
             "line": {
              "color": "white"
             }
            },
            "header": {
             "fill": {
              "color": "#C8D4E3"
             },
             "line": {
              "color": "white"
             }
            },
            "type": "table"
           }
          ]
         },
         "layout": {
          "annotationdefaults": {
           "arrowcolor": "#2a3f5f",
           "arrowhead": 0,
           "arrowwidth": 1
          },
          "autotypenumbers": "strict",
          "coloraxis": {
           "colorbar": {
            "outlinewidth": 0,
            "ticks": ""
           }
          },
          "colorscale": {
           "diverging": [
            [
             0,
             "#8e0152"
            ],
            [
             0.1,
             "#c51b7d"
            ],
            [
             0.2,
             "#de77ae"
            ],
            [
             0.3,
             "#f1b6da"
            ],
            [
             0.4,
             "#fde0ef"
            ],
            [
             0.5,
             "#f7f7f7"
            ],
            [
             0.6,
             "#e6f5d0"
            ],
            [
             0.7,
             "#b8e186"
            ],
            [
             0.8,
             "#7fbc41"
            ],
            [
             0.9,
             "#4d9221"
            ],
            [
             1,
             "#276419"
            ]
           ],
           "sequential": [
            [
             0,
             "#0d0887"
            ],
            [
             0.1111111111111111,
             "#46039f"
            ],
            [
             0.2222222222222222,
             "#7201a8"
            ],
            [
             0.3333333333333333,
             "#9c179e"
            ],
            [
             0.4444444444444444,
             "#bd3786"
            ],
            [
             0.5555555555555556,
             "#d8576b"
            ],
            [
             0.6666666666666666,
             "#ed7953"
            ],
            [
             0.7777777777777778,
             "#fb9f3a"
            ],
            [
             0.8888888888888888,
             "#fdca26"
            ],
            [
             1,
             "#f0f921"
            ]
           ],
           "sequentialminus": [
            [
             0,
             "#0d0887"
            ],
            [
             0.1111111111111111,
             "#46039f"
            ],
            [
             0.2222222222222222,
             "#7201a8"
            ],
            [
             0.3333333333333333,
             "#9c179e"
            ],
            [
             0.4444444444444444,
             "#bd3786"
            ],
            [
             0.5555555555555556,
             "#d8576b"
            ],
            [
             0.6666666666666666,
             "#ed7953"
            ],
            [
             0.7777777777777778,
             "#fb9f3a"
            ],
            [
             0.8888888888888888,
             "#fdca26"
            ],
            [
             1,
             "#f0f921"
            ]
           ]
          },
          "colorway": [
           "#636efa",
           "#EF553B",
           "#00cc96",
           "#ab63fa",
           "#FFA15A",
           "#19d3f3",
           "#FF6692",
           "#B6E880",
           "#FF97FF",
           "#FECB52"
          ],
          "font": {
           "color": "#2a3f5f"
          },
          "geo": {
           "bgcolor": "white",
           "lakecolor": "white",
           "landcolor": "#E5ECF6",
           "showlakes": true,
           "showland": true,
           "subunitcolor": "white"
          },
          "hoverlabel": {
           "align": "left"
          },
          "hovermode": "closest",
          "mapbox": {
           "style": "light"
          },
          "paper_bgcolor": "white",
          "plot_bgcolor": "#E5ECF6",
          "polar": {
           "angularaxis": {
            "gridcolor": "white",
            "linecolor": "white",
            "ticks": ""
           },
           "bgcolor": "#E5ECF6",
           "radialaxis": {
            "gridcolor": "white",
            "linecolor": "white",
            "ticks": ""
           }
          },
          "scene": {
           "xaxis": {
            "backgroundcolor": "#E5ECF6",
            "gridcolor": "white",
            "gridwidth": 2,
            "linecolor": "white",
            "showbackground": true,
            "ticks": "",
            "zerolinecolor": "white"
           },
           "yaxis": {
            "backgroundcolor": "#E5ECF6",
            "gridcolor": "white",
            "gridwidth": 2,
            "linecolor": "white",
            "showbackground": true,
            "ticks": "",
            "zerolinecolor": "white"
           },
           "zaxis": {
            "backgroundcolor": "#E5ECF6",
            "gridcolor": "white",
            "gridwidth": 2,
            "linecolor": "white",
            "showbackground": true,
            "ticks": "",
            "zerolinecolor": "white"
           }
          },
          "shapedefaults": {
           "line": {
            "color": "#2a3f5f"
           }
          },
          "ternary": {
           "aaxis": {
            "gridcolor": "white",
            "linecolor": "white",
            "ticks": ""
           },
           "baxis": {
            "gridcolor": "white",
            "linecolor": "white",
            "ticks": ""
           },
           "bgcolor": "#E5ECF6",
           "caxis": {
            "gridcolor": "white",
            "linecolor": "white",
            "ticks": ""
           }
          },
          "title": {
           "x": 0.05
          },
          "xaxis": {
           "automargin": true,
           "gridcolor": "white",
           "linecolor": "white",
           "ticks": "",
           "title": {
            "standoff": 15
           },
           "zerolinecolor": "white",
           "zerolinewidth": 2
          },
          "yaxis": {
           "automargin": true,
           "gridcolor": "white",
           "linecolor": "white",
           "ticks": "",
           "title": {
            "standoff": 15
           },
           "zerolinecolor": "white",
           "zerolinewidth": 2
          }
         }
        },
        "xaxis": {
         "anchor": "y",
         "domain": [
          0,
          1
         ],
         "title": {
          "text": "State"
         }
        },
        "yaxis": {
         "anchor": "x",
         "domain": [
          0,
          1
         ],
         "title": {
          "text": "Fund"
         }
        }
       }
      }
     },
     "metadata": {},
     "output_type": "display_data"
    }
   ],
   "source": [
    "import plotly.express as px\n",
    "StateFund = df.groupby(['State']).sum()['Fund'].sort_values()\n",
    "px.bar(data_frame = StateFund, x=StateFund.index, y='Fund')"
   ]
  },
  {
   "cell_type": "code",
   "execution_count": 269,
   "id": "c6b64242-80b3-46c3-9f3e-90d3d7fbbba6",
   "metadata": {},
   "outputs": [
    {
     "data": {
      "text/html": [
       "<div>\n",
       "<style scoped>\n",
       "    .dataframe tbody tr th:only-of-type {\n",
       "        vertical-align: middle;\n",
       "    }\n",
       "\n",
       "    .dataframe tbody tr th {\n",
       "        vertical-align: top;\n",
       "    }\n",
       "\n",
       "    .dataframe thead th {\n",
       "        text-align: right;\n",
       "    }\n",
       "</style>\n",
       "<table border=\"1\" class=\"dataframe\">\n",
       "  <thead>\n",
       "    <tr style=\"text-align: right;\">\n",
       "      <th></th>\n",
       "      <th>Bank Name</th>\n",
       "      <th>City</th>\n",
       "      <th>State</th>\n",
       "      <th>Cert</th>\n",
       "      <th>Acquiring Institution</th>\n",
       "      <th>Closing Date</th>\n",
       "      <th>Fund</th>\n",
       "    </tr>\n",
       "  </thead>\n",
       "  <tbody>\n",
       "    <tr>\n",
       "      <th>0</th>\n",
       "      <td>Almena State Bank</td>\n",
       "      <td>Almena</td>\n",
       "      <td>KS</td>\n",
       "      <td>15426</td>\n",
       "      <td>Equity Bank</td>\n",
       "      <td>October 23, 2020</td>\n",
       "      <td>10538</td>\n",
       "    </tr>\n",
       "    <tr>\n",
       "      <th>1</th>\n",
       "      <td>First City Bank of Florida</td>\n",
       "      <td>Fort Walton Beach</td>\n",
       "      <td>FL</td>\n",
       "      <td>16748</td>\n",
       "      <td>United Fidelity Bank, fsb</td>\n",
       "      <td>October 16, 2020</td>\n",
       "      <td>10537</td>\n",
       "    </tr>\n",
       "    <tr>\n",
       "      <th>2</th>\n",
       "      <td>The First State Bank</td>\n",
       "      <td>Barboursville</td>\n",
       "      <td>WV</td>\n",
       "      <td>14361</td>\n",
       "      <td>MVB Bank, Inc.</td>\n",
       "      <td>April 3, 2020</td>\n",
       "      <td>10536</td>\n",
       "    </tr>\n",
       "    <tr>\n",
       "      <th>3</th>\n",
       "      <td>Ericson State Bank</td>\n",
       "      <td>Ericson</td>\n",
       "      <td>NE</td>\n",
       "      <td>18265</td>\n",
       "      <td>Farmers and Merchants Bank</td>\n",
       "      <td>February 14, 2020</td>\n",
       "      <td>10535</td>\n",
       "    </tr>\n",
       "    <tr>\n",
       "      <th>4</th>\n",
       "      <td>City National Bank of New Jersey</td>\n",
       "      <td>Newark</td>\n",
       "      <td>NJ</td>\n",
       "      <td>21111</td>\n",
       "      <td>Industrial Bank</td>\n",
       "      <td>November 1, 2019</td>\n",
       "      <td>10534</td>\n",
       "    </tr>\n",
       "    <tr>\n",
       "      <th>...</th>\n",
       "      <td>...</td>\n",
       "      <td>...</td>\n",
       "      <td>...</td>\n",
       "      <td>...</td>\n",
       "      <td>...</td>\n",
       "      <td>...</td>\n",
       "      <td>...</td>\n",
       "    </tr>\n",
       "    <tr>\n",
       "      <th>558</th>\n",
       "      <td>Superior Bank, FSB</td>\n",
       "      <td>Hinsdale</td>\n",
       "      <td>IL</td>\n",
       "      <td>32646</td>\n",
       "      <td>Superior Federal, FSB</td>\n",
       "      <td>July 27, 2001</td>\n",
       "      <td>6004</td>\n",
       "    </tr>\n",
       "    <tr>\n",
       "      <th>559</th>\n",
       "      <td>Malta National Bank</td>\n",
       "      <td>Malta</td>\n",
       "      <td>OH</td>\n",
       "      <td>6629</td>\n",
       "      <td>North Valley Bank</td>\n",
       "      <td>May 3, 2001</td>\n",
       "      <td>4648</td>\n",
       "    </tr>\n",
       "    <tr>\n",
       "      <th>560</th>\n",
       "      <td>First Alliance Bank &amp; Trust Co.</td>\n",
       "      <td>Manchester</td>\n",
       "      <td>NH</td>\n",
       "      <td>34264</td>\n",
       "      <td>Southern New Hampshire Bank &amp; Trust</td>\n",
       "      <td>February 2, 2001</td>\n",
       "      <td>4647</td>\n",
       "    </tr>\n",
       "    <tr>\n",
       "      <th>561</th>\n",
       "      <td>National State Bank of Metropolis</td>\n",
       "      <td>Metropolis</td>\n",
       "      <td>IL</td>\n",
       "      <td>3815</td>\n",
       "      <td>Banterra Bank of Marion</td>\n",
       "      <td>December 14, 2000</td>\n",
       "      <td>4646</td>\n",
       "    </tr>\n",
       "    <tr>\n",
       "      <th>562</th>\n",
       "      <td>Bank of Honolulu</td>\n",
       "      <td>Honolulu</td>\n",
       "      <td>HI</td>\n",
       "      <td>21029</td>\n",
       "      <td>Bank of the Orient</td>\n",
       "      <td>October 13, 2000</td>\n",
       "      <td>4645</td>\n",
       "    </tr>\n",
       "  </tbody>\n",
       "</table>\n",
       "<p>563 rows × 7 columns</p>\n",
       "</div>"
      ],
      "text/plain": [
       "                             Bank Name               City State   Cert  \\\n",
       "0                    Almena State Bank             Almena    KS  15426   \n",
       "1           First City Bank of Florida  Fort Walton Beach    FL  16748   \n",
       "2                 The First State Bank      Barboursville    WV  14361   \n",
       "3                   Ericson State Bank            Ericson    NE  18265   \n",
       "4     City National Bank of New Jersey             Newark    NJ  21111   \n",
       "..                                 ...                ...   ...    ...   \n",
       "558                 Superior Bank, FSB           Hinsdale    IL  32646   \n",
       "559                Malta National Bank              Malta    OH   6629   \n",
       "560    First Alliance Bank & Trust Co.         Manchester    NH  34264   \n",
       "561  National State Bank of Metropolis         Metropolis    IL   3815   \n",
       "562                   Bank of Honolulu           Honolulu    HI  21029   \n",
       "\n",
       "                   Acquiring Institution       Closing Date   Fund  \n",
       "0                            Equity Bank   October 23, 2020  10538  \n",
       "1              United Fidelity Bank, fsb   October 16, 2020  10537  \n",
       "2                         MVB Bank, Inc.      April 3, 2020  10536  \n",
       "3             Farmers and Merchants Bank  February 14, 2020  10535  \n",
       "4                        Industrial Bank   November 1, 2019  10534  \n",
       "..                                   ...                ...    ...  \n",
       "558                Superior Federal, FSB      July 27, 2001   6004  \n",
       "559                    North Valley Bank        May 3, 2001   4648  \n",
       "560  Southern New Hampshire Bank & Trust   February 2, 2001   4647  \n",
       "561              Banterra Bank of Marion  December 14, 2000   4646  \n",
       "562                   Bank of the Orient   October 13, 2000   4645  \n",
       "\n",
       "[563 rows x 7 columns]"
      ]
     },
     "execution_count": 269,
     "metadata": {},
     "output_type": "execute_result"
    }
   ],
   "source": [
    "df"
   ]
  },
  {
   "cell_type": "markdown",
   "id": "22ab111b-9749-4aec-9f8b-88252ea5af81",
   "metadata": {},
   "source": [
    "## 날짜를 기준으로 데이터 살펴보기"
   ]
  },
  {
   "cell_type": "code",
   "execution_count": 270,
   "id": "35945249-c6a0-4502-b0ab-ddaaf0bbb89d",
   "metadata": {},
   "outputs": [
    {
     "data": {
      "application/vnd.plotly.v1+json": {
       "config": {
        "plotlyServerURL": "https://plot.ly"
       },
       "data": [
        {
         "alignmentgroup": "True",
         "hovertemplate": "Closing Date=%{x}<br>Fund=%{y}<extra></extra>",
         "legendgroup": "",
         "marker": {
          "color": "#636efa",
          "pattern": {
           "shape": ""
          }
         },
         "name": "",
         "offsetgroup": "",
         "orientation": "v",
         "showlegend": false,
         "textposition": "auto",
         "type": "bar",
         "x": [
          "October 23, 2020",
          "October 16, 2020",
          "April 3, 2020",
          "February 14, 2020",
          "November 1, 2019",
          "October 25, 2019",
          "October 25, 2019",
          "May 31, 2019",
          "December 15, 2017",
          "October 13, 2017",
          "May 26, 2017",
          "May 5, 2017",
          "April 28, 2017",
          "March 3, 2017",
          "January 27, 2017",
          "January 13, 2017",
          "September 23, 2016",
          "August 19, 2016",
          "May 6, 2016",
          "April 29, 2016",
          "March 11, 2016",
          "October 2, 2015",
          "October 2, 2015",
          "July 10, 2015",
          "May 8, 2015",
          "February 27, 2015",
          "February 13, 2015",
          "January 23, 2015",
          "January 16, 2015",
          "December 19, 2014",
          "November 7, 2014",
          "October 24, 2014",
          "October 17, 2014",
          "July 25, 2014",
          "July 18, 2014",
          "June 27, 2014",
          "June 20, 2014",
          "June 20, 2014",
          "May 30, 2014",
          "May 23, 2014",
          "May 16, 2014",
          "April 25, 2014",
          "February 28, 2014",
          "February 28, 2014",
          "January 31, 2014",
          "January 24, 2014",
          "January 17, 2014",
          "December 13, 2013",
          "October 30, 2013",
          "September 13, 2013",
          "September 13, 2013",
          "August 23, 2013",
          "August 23, 2013",
          "August 9, 2013",
          "August 2, 2013",
          "June 7, 2013",
          "June 6, 2013",
          "May 31, 2013",
          "May 14, 2013",
          "May 10, 2013",
          "May 10, 2013",
          "April 26, 2013",
          "April 26, 2013",
          "April 19, 2013",
          "April 19, 2013",
          "April 19, 2013",
          "April 5, 2013",
          "March 8, 2013",
          "February 15, 2013",
          "January 18, 2013",
          "January 11, 2013",
          "December 14, 2012",
          "November 16, 2012",
          "November 2, 2012",
          "November 2, 2012",
          "October 26, 2012",
          "October 19, 2012",
          "October 19, 2012",
          "October 19, 2012",
          "September 28, 2012",
          "September 14, 2012",
          "September 7, 2012",
          "August 3, 2012",
          "July 27, 2012",
          "July 20, 2012",
          "July 20, 2012",
          "July 20, 2012",
          "July 20, 2012",
          "July 20, 2012",
          "July 13, 2012",
          "July 6, 2012",
          "June 15, 2012",
          "June 15, 2012",
          "June 15, 2012",
          "June 8, 2012",
          "June 8, 2012",
          "June 8, 2012",
          "June 8, 2012",
          "May 18, 2012",
          "May 4, 2012",
          "April 27, 2012",
          "April 27, 2012",
          "April 27, 2012",
          "April 27, 2012",
          "April 27, 2012",
          "April 20, 2012",
          "March 30, 2012",
          "March 23, 2012",
          "March 23, 2012",
          "March 9, 2012",
          "March 2, 2012",
          "February 24, 2012",
          "February 24, 2012",
          "February 10, 2012",
          "February 10, 2012",
          "January 27, 2012",
          "January 27, 2012",
          "January 27, 2012",
          "January 27, 2012",
          "January 20, 2012",
          "January 20, 2012",
          "January 20, 2012",
          "December 16, 2011",
          "December 16, 2011",
          "November 18, 2011",
          "November 18, 2011",
          "November 10, 2011",
          "November 4, 2011",
          "November 4, 2011",
          "October 28, 2011",
          "October 21, 2011",
          "October 21, 2011",
          "October 21, 2011",
          "October 21, 2011",
          "October 14, 2011",
          "October 14, 2011",
          "October 14, 2011",
          "October 14, 2011",
          "October 7, 2011",
          "October 7, 2011",
          "September 30, 2011",
          "September 23, 2011",
          "September 23, 2011",
          "September 9, 2011",
          "September 2, 2011",
          "September 2, 2011",
          "August 19, 2011",
          "August 19, 2011",
          "August 19, 2011",
          "August 18, 2011",
          "August 12, 2011",
          "August 5, 2011",
          "August 5, 2011",
          "July 29, 2011",
          "July 29, 2011",
          "July 29, 2011",
          "July 22, 2011",
          "July 22, 2011",
          "July 22, 2011",
          "July 15, 2011",
          "July 15, 2011",
          "July 15, 2011",
          "July 15, 2011",
          "July 8, 2011",
          "July 8, 2011",
          "July 8, 2011",
          "June 24, 2011",
          "June 17, 2011",
          "June 17, 2011",
          "June 3, 2011",
          "May 27, 2011",
          "May 20, 2011",
          "May 20, 2011",
          "May 20, 2011",
          "May 6, 2011",
          "April 29, 2011",
          "April 29, 2011",
          "April 29, 2011",
          "April 29, 2011",
          "April 29, 2011",
          "April 15, 2011",
          "April 15, 2011",
          "April 15, 2011",
          "April 15, 2011",
          "April 15, 2011",
          "April 15, 2011",
          "April 8, 2011",
          "April 8, 2011",
          "March 25, 2011",
          "March 11, 2011",
          "March 11, 2011",
          "February 25, 2011",
          "February 18, 2011",
          "February 18, 2011",
          "February 18, 2011",
          "February 18, 2011",
          "February 11, 2011",
          "February 11, 2011",
          "February 11, 2011",
          "February 11, 2011",
          "February 4, 2011",
          "February 4, 2011",
          "February 4, 2011",
          "January 28, 2011",
          "January 28, 2011",
          "January 28, 2011",
          "January 28, 2011",
          "January 21, 2011",
          "January 21, 2011",
          "January 21, 2011",
          "January 21, 2011",
          "January 14, 2011",
          "January 7, 2011",
          "January 7, 2011",
          "December 17, 2010",
          "December 17, 2010",
          "December 17, 2010",
          "December 17, 2010",
          "December 17, 2010",
          "December 17, 2010",
          "December 10, 2010",
          "December 10, 2010",
          "November 19, 2010",
          "November 19, 2010",
          "November 19, 2010",
          "November 12, 2010",
          "November 12, 2010",
          "November 12, 2010",
          "November 5, 2010",
          "November 5, 2010",
          "November 5, 2010",
          "November 5, 2010",
          "October 22, 2010",
          "October 22, 2010",
          "October 22, 2010",
          "October 22, 2010",
          "October 22, 2010",
          "October 22, 2010",
          "October 22, 2010",
          "October 15, 2010",
          "October 15, 2010",
          "October 15, 2010",
          "October 1, 2010",
          "October 1, 2010",
          "September 24, 2010",
          "September 24, 2010",
          "September 17, 2010",
          "September 17, 2010",
          "September 17, 2010",
          "September 17, 2010",
          "September 17, 2010",
          "September 17, 2010",
          "September 10, 2010",
          "August 20, 2010",
          "August 20, 2010",
          "August 20, 2010",
          "August 20, 2010",
          "August 20, 2010",
          "August 20, 2010",
          "August 20, 2010",
          "August 20, 2010",
          "August 13, 2010",
          "August 6, 2010",
          "July 30, 2010",
          "July 30, 2010",
          "July 30, 2010",
          "July 30, 2010",
          "July 30, 2010",
          "July 23, 2010",
          "July 23, 2010",
          "July 23, 2010",
          "July 23, 2010",
          "July 23, 2010",
          "July 23, 2010",
          "July 23, 2010",
          "July 16, 2010",
          "July 16, 2010",
          "July 16, 2010",
          "July 16, 2010",
          "July 16, 2010",
          "July 16, 2010",
          "July 9, 2010",
          "July 9, 2010",
          "July 9, 2010",
          "July 9, 2010",
          "June 25, 2010",
          "June 25, 2010",
          "June 25, 2010",
          "June 18, 2010",
          "June 11, 2010",
          "June 4, 2010",
          "June 4, 2010",
          "June 4, 2010",
          "May 28, 2010",
          "May 28, 2010",
          "May 28, 2010",
          "May 28, 2010",
          "May 28, 2010",
          "May 21, 2010",
          "May 14, 2010",
          "May 14, 2010",
          "May 14, 2010",
          "May 14, 2010",
          "May 7, 2010",
          "May 7, 2010",
          "May 7, 2010",
          "May 7, 2010",
          "April 30, 2010",
          "April 30, 2010",
          "April 30, 2010",
          "April 30, 2010",
          "April 30, 2010",
          "April 30, 2010",
          "April 30, 2010",
          "April 23, 2010",
          "April 23, 2010",
          "April 23, 2010",
          "April 23, 2010",
          "April 23, 2010",
          "April 23, 2010",
          "April 23, 2010",
          "April 16, 2010",
          "April 16, 2010",
          "April 16, 2010",
          "April 16, 2010",
          "April 16, 2010",
          "April 16, 2010",
          "April 16, 2010",
          "April 16, 2010",
          "April 9, 2010",
          "March 26, 2010",
          "March 26, 2010",
          "March 26, 2010",
          "March 26, 2010",
          "March 19, 2010",
          "March 19, 2010",
          "March 19, 2010",
          "March 19, 2010",
          "March 19, 2010",
          "March 19, 2010",
          "March 19, 2010",
          "March 12, 2010",
          "March 12, 2010",
          "March 12, 2010",
          "March 11, 2010",
          "March 5, 2010",
          "March 5, 2010",
          "March 5, 2010",
          "March 5, 2010",
          "February 26, 2010",
          "February 26, 2010",
          "February 19, 2010",
          "February 19, 2010",
          "February 19, 2010",
          "February 19, 2010",
          "February 5, 2010",
          "January 29, 2010",
          "January 29, 2010",
          "January 29, 2010",
          "January 29, 2010",
          "January 29, 2010",
          "January 29, 2010",
          "January 22, 2010",
          "January 22, 2010",
          "January 22, 2010",
          "January 22, 2010",
          "January 22, 2010",
          "January 15, 2010",
          "January 15, 2010",
          "January 15, 2010",
          "January 8, 2010",
          "December 18, 2009",
          "December 18, 2009",
          "December 18, 2009",
          "December 18, 2009",
          "December 18, 2009",
          "December 18, 2009",
          "December 18, 2009",
          "December 11, 2009",
          "December 11, 2009",
          "December 11, 2009",
          "December 4, 2009",
          "December 4, 2009",
          "December 4, 2009",
          "December 4, 2009",
          "December 4, 2009",
          "December 4, 2009",
          "November 20, 2009",
          "November 13, 2009",
          "November 13, 2009",
          "November 13, 2009",
          "November 6, 2009",
          "November 6, 2009",
          "November 6, 2009",
          "November 6, 2009",
          "November 6, 2009",
          "October 30, 2009",
          "October 30, 2009",
          "October 30, 2009",
          "October 30, 2009",
          "October 30, 2009",
          "October 30, 2009",
          "October 30, 2009",
          "October 30, 2009",
          "October 30, 2009",
          "October 23, 2009",
          "October 23, 2009",
          "October 23, 2009",
          "October 23, 2009",
          "October 23, 2009",
          "October 23, 2009",
          "October 23, 2009",
          "October 16, 2009",
          "October 2, 2009",
          "October 2, 2009",
          "October 2, 2009",
          "September 25, 2009",
          "September 18, 2009",
          "September 18, 2009",
          "September 11, 2009",
          "September 11, 2009",
          "September 11, 2009",
          "September 4, 2009",
          "September 4, 2009",
          "September 4, 2009",
          "September 4, 2009",
          "September 4, 2009",
          "August 28, 2009",
          "August 28, 2009",
          "August 28, 2009",
          "August 21, 2009",
          "August 21, 2009",
          "August 21, 2009",
          "August 21, 2009",
          "August 14, 2009",
          "August 14, 2009",
          "August 14, 2009",
          "August 14, 2009",
          "August 14, 2009",
          "August 7, 2009",
          "August 7, 2009",
          "August 7, 2009",
          "July 31, 2009",
          "July 31, 2009",
          "July 31, 2009",
          "July 31, 2009",
          "July 31, 2009",
          "July 24, 2009",
          "July 24, 2009",
          "July 24, 2009",
          "July 24, 2009",
          "July 24, 2009",
          "July 24, 2009",
          "July 24, 2009",
          "July 17, 2009",
          "July 17, 2009",
          "July 17, 2009",
          "July 17, 2009",
          "July 10, 2009",
          "July 2, 2009",
          "July 2, 2009",
          "July 2, 2009",
          "July 2, 2009",
          "July 2, 2009",
          "July 2, 2009",
          "July 2, 2009",
          "June 26, 2009",
          "June 26, 2009",
          "June 26, 2009",
          "June 26, 2009",
          "June 26, 2009",
          "June 19, 2009",
          "June 19, 2009",
          "June 19, 2009",
          "June 5, 2009",
          "May 22, 2009",
          "May 22, 2009",
          "May 21, 2009",
          "May 8, 2009",
          "May 1, 2009",
          "May 1, 2009",
          "May 1, 2009",
          "April 24, 2009",
          "April 24, 2009",
          "April 24, 2009",
          "April 24, 2009",
          "April 17, 2009",
          "April 17, 2009",
          "April 10, 2009",
          "April 10, 2009",
          "March 27, 2009",
          "March 20, 2009",
          "March 20, 2009",
          "March 20, 2009",
          "March 6, 2009",
          "February 27, 2009",
          "February 27, 2009",
          "February 20, 2009",
          "February 13, 2009",
          "February 13, 2009",
          "February 13, 2009",
          "February 13, 2009",
          "February 6, 2009",
          "February 6, 2009",
          "February 6, 2009",
          "January 30, 2009",
          "January 30, 2009",
          "January 30, 2009",
          "January 23, 2009",
          "January 16, 2009",
          "January 16, 2009",
          "December 12, 2008",
          "December 12, 2008",
          "December 5, 2008",
          "November 21, 2008",
          "November 21, 2008",
          "November 21, 2008",
          "November 7, 2008",
          "November 7, 2008",
          "October 31, 2008",
          "October 24, 2008",
          "October 10, 2008",
          "October 10, 2008",
          "September 25, 2008",
          "September 19, 2008",
          "September 5, 2008",
          "August 29, 2008",
          "August 22, 2008",
          "August 1, 2008",
          "July 25, 2008",
          "July 25, 2008",
          "July 11, 2008",
          "May 30, 2008",
          "May 9, 2008",
          "March 7, 2008",
          "January 25, 2008",
          "October 4, 2007",
          "September 28, 2007",
          "February 2, 2007",
          "June 25, 2004",
          "March 19, 2004",
          "March 12, 2004",
          "February 14, 2004",
          "November 14, 2003",
          "May 9, 2003",
          "February 7, 2003",
          "December 17, 2002",
          "November 8, 2002",
          "September 30, 2002",
          "June 27, 2002",
          "June 26, 2002",
          "March 28, 2002",
          "March 1, 2002",
          "February 7, 2002",
          "February 1, 2002",
          "January 18, 2002",
          "January 11, 2002",
          "September 7, 2001",
          "July 27, 2001",
          "May 3, 2001",
          "February 2, 2001",
          "December 14, 2000",
          "October 13, 2000"
         ],
         "xaxis": "x",
         "y": [
          10538,
          10537,
          10536,
          10535,
          10534,
          10533,
          10532,
          10531,
          10530,
          10529,
          10528,
          10527,
          10526,
          10525,
          10524,
          10523,
          10522,
          10521,
          10520,
          10519,
          10518,
          10517,
          10516,
          10515,
          10514,
          10513,
          10512,
          10511,
          10510,
          10509,
          10508,
          10507,
          10506,
          10505,
          10504,
          10503,
          10501,
          10502,
          10500,
          10499,
          10498,
          10497,
          10496,
          10495,
          10494,
          10493,
          10492,
          10491,
          10490,
          10488,
          10489,
          10487,
          10486,
          10485,
          10484,
          10483,
          10482,
          10478,
          10479,
          10481,
          10480,
          10476,
          10477,
          10473,
          10475,
          10474,
          10472,
          10471,
          10470,
          10469,
          10468,
          10467,
          10466,
          10464,
          10465,
          10463,
          10460,
          10461,
          10462,
          10459,
          10458,
          10457,
          10456,
          10455,
          10453,
          10452,
          10450,
          10451,
          10454,
          10449,
          10448,
          10447,
          10446,
          10445,
          10444,
          10442,
          10441,
          10443,
          10440,
          10439,
          10437,
          10438,
          10436,
          10435,
          10434,
          10433,
          10432,
          10431,
          10430,
          10429,
          10428,
          10427,
          10426,
          10425,
          10424,
          10420,
          10422,
          10423,
          10421,
          10417,
          10419,
          10418,
          10416,
          10415,
          10413,
          10414,
          10412,
          10411,
          10410,
          10409,
          10405,
          10406,
          10407,
          10408,
          10402,
          10403,
          10401,
          10404,
          10400,
          10399,
          10398,
          10397,
          10396,
          10395,
          10393,
          10394,
          10390,
          10391,
          10392,
          10389,
          10388,
          10387,
          10386,
          10384,
          10383,
          10385,
          10380,
          10381,
          10382,
          10379,
          10376,
          10377,
          10378,
          10375,
          10373,
          10374,
          10372,
          10370,
          10371,
          10369,
          10368,
          10367,
          10366,
          10365,
          10364,
          10359,
          10363,
          10361,
          10360,
          10362,
          10354,
          10357,
          10358,
          10356,
          10355,
          10353,
          10351,
          10352,
          10350,
          10348,
          10349,
          10347,
          10346,
          10343,
          10344,
          10345,
          10340,
          10339,
          10341,
          10342,
          10337,
          10338,
          10336,
          10333,
          10334,
          10332,
          10335,
          10331,
          10330,
          10328,
          10329,
          10327,
          10326,
          10325,
          10321,
          10322,
          10323,
          10319,
          10320,
          10324,
          10317,
          10318,
          10315,
          10314,
          10316,
          10311,
          10312,
          10313,
          10307,
          10309,
          10310,
          10308,
          10306,
          10302,
          10301,
          10304,
          10305,
          10303,
          10300,
          10297,
          10299,
          10298,
          10295,
          10296,
          10294,
          10293,
          10291,
          10288,
          10292,
          10289,
          10287,
          10290,
          10286,
          10285,
          10282,
          10278,
          10283,
          10284,
          10280,
          10281,
          10279,
          10277,
          10276,
          10273,
          10275,
          10272,
          10271,
          10274,
          10266,
          10267,
          10264,
          10269,
          10270,
          10265,
          10268,
          10258,
          10260,
          10261,
          10259,
          10263,
          10262,
          10256,
          10254,
          10257,
          10255,
          10252,
          10251,
          10253,
          10250,
          10249,
          10248,
          10246,
          10247,
          10245,
          10244,
          10243,
          10242,
          10241,
          10240,
          10236,
          10239,
          10237,
          10238,
          10232,
          10235,
          10233,
          10234,
          10228,
          10225,
          10227,
          10226,
          10231,
          10230,
          10229,
          10224,
          10223,
          10221,
          10222,
          10220,
          10219,
          10218,
          10212,
          10217,
          10214,
          10211,
          10216,
          10210,
          10213,
          10215,
          10209,
          10205,
          10208,
          10206,
          10207,
          10203,
          10204,
          10202,
          10199,
          10200,
          10198,
          10201,
          10196,
          10197,
          10195,
          10194,
          10193,
          10190,
          10191,
          10192,
          10189,
          10188,
          10185,
          10184,
          10186,
          10187,
          10183,
          10178,
          10177,
          10180,
          10182,
          10181,
          10179,
          10176,
          10172,
          10175,
          10174,
          10173,
          10171,
          10169,
          10170,
          10168,
          10167,
          10161,
          10166,
          10163,
          10162,
          10165,
          10164,
          10160,
          10159,
          10158,
          10156,
          10154,
          10155,
          10153,
          10157,
          10152,
          10151,
          10150,
          10149,
          10148,
          10147,
          10146,
          10143,
          10144,
          10145,
          10138,
          10142,
          10141,
          10140,
          10139,
          10134,
          10135,
          10137,
          10136,
          10128,
          10133,
          10132,
          10129,
          10131,
          10127,
          10130,
          10126,
          10123,
          10124,
          10125,
          10122,
          10121,
          10120,
          10119,
          10118,
          10117,
          10114,
          10115,
          10116,
          10113,
          10112,
          10110,
          10111,
          10109,
          10105,
          10106,
          10108,
          10107,
          10100,
          10101,
          10102,
          10103,
          10104,
          10092,
          10099,
          10098,
          10094,
          10097,
          10096,
          10095,
          10093,
          10088,
          10087,
          10085,
          10090,
          10089,
          10086,
          10091,
          10082,
          10083,
          10081,
          10084,
          10080,
          10074,
          10079,
          10078,
          10073,
          10075,
          10077,
          10076,
          10072,
          10071,
          10070,
          10069,
          10068,
          10066,
          10065,
          10067,
          10064,
          10063,
          10062,
          10061,
          10060,
          10057,
          10058,
          10059,
          10055,
          10054,
          10056,
          10053,
          10051,
          10052,
          10050,
          10049,
          10048,
          10046,
          10045,
          10047,
          10044,
          10043,
          10042,
          10041,
          10040,
          10037,
          10038,
          10039,
          10034,
          10035,
          10036,
          10032,
          10033,
          10031,
          10030,
          10029,
          10028,
          10026,
          10027,
          10025,
          10024,
          10023,
          10022,
          10020,
          10021,
          10019,
          10018,
          10017,
          10016,
          10015,
          10014,
          10013,
          10012,
          10011,
          10010,
          10009,
          10008,
          10007,
          10006,
          10005,
          10004,
          10003,
          10002,
          10001,
          10000,
          4665,
          4664,
          4663,
          6006,
          4662,
          4661,
          4660,
          4659,
          4658,
          4657,
          6005,
          4656,
          4655,
          4654,
          4653,
          4652,
          4651,
          4650,
          4649,
          6004,
          4648,
          4647,
          4646,
          4645
         ],
         "yaxis": "y"
        }
       ],
       "layout": {
        "barmode": "relative",
        "legend": {
         "tracegroupgap": 0
        },
        "margin": {
         "t": 60
        },
        "template": {
         "data": {
          "bar": [
           {
            "error_x": {
             "color": "#2a3f5f"
            },
            "error_y": {
             "color": "#2a3f5f"
            },
            "marker": {
             "line": {
              "color": "#E5ECF6",
              "width": 0.5
             },
             "pattern": {
              "fillmode": "overlay",
              "size": 10,
              "solidity": 0.2
             }
            },
            "type": "bar"
           }
          ],
          "barpolar": [
           {
            "marker": {
             "line": {
              "color": "#E5ECF6",
              "width": 0.5
             },
             "pattern": {
              "fillmode": "overlay",
              "size": 10,
              "solidity": 0.2
             }
            },
            "type": "barpolar"
           }
          ],
          "carpet": [
           {
            "aaxis": {
             "endlinecolor": "#2a3f5f",
             "gridcolor": "white",
             "linecolor": "white",
             "minorgridcolor": "white",
             "startlinecolor": "#2a3f5f"
            },
            "baxis": {
             "endlinecolor": "#2a3f5f",
             "gridcolor": "white",
             "linecolor": "white",
             "minorgridcolor": "white",
             "startlinecolor": "#2a3f5f"
            },
            "type": "carpet"
           }
          ],
          "choropleth": [
           {
            "colorbar": {
             "outlinewidth": 0,
             "ticks": ""
            },
            "type": "choropleth"
           }
          ],
          "contour": [
           {
            "colorbar": {
             "outlinewidth": 0,
             "ticks": ""
            },
            "colorscale": [
             [
              0,
              "#0d0887"
             ],
             [
              0.1111111111111111,
              "#46039f"
             ],
             [
              0.2222222222222222,
              "#7201a8"
             ],
             [
              0.3333333333333333,
              "#9c179e"
             ],
             [
              0.4444444444444444,
              "#bd3786"
             ],
             [
              0.5555555555555556,
              "#d8576b"
             ],
             [
              0.6666666666666666,
              "#ed7953"
             ],
             [
              0.7777777777777778,
              "#fb9f3a"
             ],
             [
              0.8888888888888888,
              "#fdca26"
             ],
             [
              1,
              "#f0f921"
             ]
            ],
            "type": "contour"
           }
          ],
          "contourcarpet": [
           {
            "colorbar": {
             "outlinewidth": 0,
             "ticks": ""
            },
            "type": "contourcarpet"
           }
          ],
          "heatmap": [
           {
            "colorbar": {
             "outlinewidth": 0,
             "ticks": ""
            },
            "colorscale": [
             [
              0,
              "#0d0887"
             ],
             [
              0.1111111111111111,
              "#46039f"
             ],
             [
              0.2222222222222222,
              "#7201a8"
             ],
             [
              0.3333333333333333,
              "#9c179e"
             ],
             [
              0.4444444444444444,
              "#bd3786"
             ],
             [
              0.5555555555555556,
              "#d8576b"
             ],
             [
              0.6666666666666666,
              "#ed7953"
             ],
             [
              0.7777777777777778,
              "#fb9f3a"
             ],
             [
              0.8888888888888888,
              "#fdca26"
             ],
             [
              1,
              "#f0f921"
             ]
            ],
            "type": "heatmap"
           }
          ],
          "heatmapgl": [
           {
            "colorbar": {
             "outlinewidth": 0,
             "ticks": ""
            },
            "colorscale": [
             [
              0,
              "#0d0887"
             ],
             [
              0.1111111111111111,
              "#46039f"
             ],
             [
              0.2222222222222222,
              "#7201a8"
             ],
             [
              0.3333333333333333,
              "#9c179e"
             ],
             [
              0.4444444444444444,
              "#bd3786"
             ],
             [
              0.5555555555555556,
              "#d8576b"
             ],
             [
              0.6666666666666666,
              "#ed7953"
             ],
             [
              0.7777777777777778,
              "#fb9f3a"
             ],
             [
              0.8888888888888888,
              "#fdca26"
             ],
             [
              1,
              "#f0f921"
             ]
            ],
            "type": "heatmapgl"
           }
          ],
          "histogram": [
           {
            "marker": {
             "pattern": {
              "fillmode": "overlay",
              "size": 10,
              "solidity": 0.2
             }
            },
            "type": "histogram"
           }
          ],
          "histogram2d": [
           {
            "colorbar": {
             "outlinewidth": 0,
             "ticks": ""
            },
            "colorscale": [
             [
              0,
              "#0d0887"
             ],
             [
              0.1111111111111111,
              "#46039f"
             ],
             [
              0.2222222222222222,
              "#7201a8"
             ],
             [
              0.3333333333333333,
              "#9c179e"
             ],
             [
              0.4444444444444444,
              "#bd3786"
             ],
             [
              0.5555555555555556,
              "#d8576b"
             ],
             [
              0.6666666666666666,
              "#ed7953"
             ],
             [
              0.7777777777777778,
              "#fb9f3a"
             ],
             [
              0.8888888888888888,
              "#fdca26"
             ],
             [
              1,
              "#f0f921"
             ]
            ],
            "type": "histogram2d"
           }
          ],
          "histogram2dcontour": [
           {
            "colorbar": {
             "outlinewidth": 0,
             "ticks": ""
            },
            "colorscale": [
             [
              0,
              "#0d0887"
             ],
             [
              0.1111111111111111,
              "#46039f"
             ],
             [
              0.2222222222222222,
              "#7201a8"
             ],
             [
              0.3333333333333333,
              "#9c179e"
             ],
             [
              0.4444444444444444,
              "#bd3786"
             ],
             [
              0.5555555555555556,
              "#d8576b"
             ],
             [
              0.6666666666666666,
              "#ed7953"
             ],
             [
              0.7777777777777778,
              "#fb9f3a"
             ],
             [
              0.8888888888888888,
              "#fdca26"
             ],
             [
              1,
              "#f0f921"
             ]
            ],
            "type": "histogram2dcontour"
           }
          ],
          "mesh3d": [
           {
            "colorbar": {
             "outlinewidth": 0,
             "ticks": ""
            },
            "type": "mesh3d"
           }
          ],
          "parcoords": [
           {
            "line": {
             "colorbar": {
              "outlinewidth": 0,
              "ticks": ""
             }
            },
            "type": "parcoords"
           }
          ],
          "pie": [
           {
            "automargin": true,
            "type": "pie"
           }
          ],
          "scatter": [
           {
            "fillpattern": {
             "fillmode": "overlay",
             "size": 10,
             "solidity": 0.2
            },
            "type": "scatter"
           }
          ],
          "scatter3d": [
           {
            "line": {
             "colorbar": {
              "outlinewidth": 0,
              "ticks": ""
             }
            },
            "marker": {
             "colorbar": {
              "outlinewidth": 0,
              "ticks": ""
             }
            },
            "type": "scatter3d"
           }
          ],
          "scattercarpet": [
           {
            "marker": {
             "colorbar": {
              "outlinewidth": 0,
              "ticks": ""
             }
            },
            "type": "scattercarpet"
           }
          ],
          "scattergeo": [
           {
            "marker": {
             "colorbar": {
              "outlinewidth": 0,
              "ticks": ""
             }
            },
            "type": "scattergeo"
           }
          ],
          "scattergl": [
           {
            "marker": {
             "colorbar": {
              "outlinewidth": 0,
              "ticks": ""
             }
            },
            "type": "scattergl"
           }
          ],
          "scattermapbox": [
           {
            "marker": {
             "colorbar": {
              "outlinewidth": 0,
              "ticks": ""
             }
            },
            "type": "scattermapbox"
           }
          ],
          "scatterpolar": [
           {
            "marker": {
             "colorbar": {
              "outlinewidth": 0,
              "ticks": ""
             }
            },
            "type": "scatterpolar"
           }
          ],
          "scatterpolargl": [
           {
            "marker": {
             "colorbar": {
              "outlinewidth": 0,
              "ticks": ""
             }
            },
            "type": "scatterpolargl"
           }
          ],
          "scatterternary": [
           {
            "marker": {
             "colorbar": {
              "outlinewidth": 0,
              "ticks": ""
             }
            },
            "type": "scatterternary"
           }
          ],
          "surface": [
           {
            "colorbar": {
             "outlinewidth": 0,
             "ticks": ""
            },
            "colorscale": [
             [
              0,
              "#0d0887"
             ],
             [
              0.1111111111111111,
              "#46039f"
             ],
             [
              0.2222222222222222,
              "#7201a8"
             ],
             [
              0.3333333333333333,
              "#9c179e"
             ],
             [
              0.4444444444444444,
              "#bd3786"
             ],
             [
              0.5555555555555556,
              "#d8576b"
             ],
             [
              0.6666666666666666,
              "#ed7953"
             ],
             [
              0.7777777777777778,
              "#fb9f3a"
             ],
             [
              0.8888888888888888,
              "#fdca26"
             ],
             [
              1,
              "#f0f921"
             ]
            ],
            "type": "surface"
           }
          ],
          "table": [
           {
            "cells": {
             "fill": {
              "color": "#EBF0F8"
             },
             "line": {
              "color": "white"
             }
            },
            "header": {
             "fill": {
              "color": "#C8D4E3"
             },
             "line": {
              "color": "white"
             }
            },
            "type": "table"
           }
          ]
         },
         "layout": {
          "annotationdefaults": {
           "arrowcolor": "#2a3f5f",
           "arrowhead": 0,
           "arrowwidth": 1
          },
          "autotypenumbers": "strict",
          "coloraxis": {
           "colorbar": {
            "outlinewidth": 0,
            "ticks": ""
           }
          },
          "colorscale": {
           "diverging": [
            [
             0,
             "#8e0152"
            ],
            [
             0.1,
             "#c51b7d"
            ],
            [
             0.2,
             "#de77ae"
            ],
            [
             0.3,
             "#f1b6da"
            ],
            [
             0.4,
             "#fde0ef"
            ],
            [
             0.5,
             "#f7f7f7"
            ],
            [
             0.6,
             "#e6f5d0"
            ],
            [
             0.7,
             "#b8e186"
            ],
            [
             0.8,
             "#7fbc41"
            ],
            [
             0.9,
             "#4d9221"
            ],
            [
             1,
             "#276419"
            ]
           ],
           "sequential": [
            [
             0,
             "#0d0887"
            ],
            [
             0.1111111111111111,
             "#46039f"
            ],
            [
             0.2222222222222222,
             "#7201a8"
            ],
            [
             0.3333333333333333,
             "#9c179e"
            ],
            [
             0.4444444444444444,
             "#bd3786"
            ],
            [
             0.5555555555555556,
             "#d8576b"
            ],
            [
             0.6666666666666666,
             "#ed7953"
            ],
            [
             0.7777777777777778,
             "#fb9f3a"
            ],
            [
             0.8888888888888888,
             "#fdca26"
            ],
            [
             1,
             "#f0f921"
            ]
           ],
           "sequentialminus": [
            [
             0,
             "#0d0887"
            ],
            [
             0.1111111111111111,
             "#46039f"
            ],
            [
             0.2222222222222222,
             "#7201a8"
            ],
            [
             0.3333333333333333,
             "#9c179e"
            ],
            [
             0.4444444444444444,
             "#bd3786"
            ],
            [
             0.5555555555555556,
             "#d8576b"
            ],
            [
             0.6666666666666666,
             "#ed7953"
            ],
            [
             0.7777777777777778,
             "#fb9f3a"
            ],
            [
             0.8888888888888888,
             "#fdca26"
            ],
            [
             1,
             "#f0f921"
            ]
           ]
          },
          "colorway": [
           "#636efa",
           "#EF553B",
           "#00cc96",
           "#ab63fa",
           "#FFA15A",
           "#19d3f3",
           "#FF6692",
           "#B6E880",
           "#FF97FF",
           "#FECB52"
          ],
          "font": {
           "color": "#2a3f5f"
          },
          "geo": {
           "bgcolor": "white",
           "lakecolor": "white",
           "landcolor": "#E5ECF6",
           "showlakes": true,
           "showland": true,
           "subunitcolor": "white"
          },
          "hoverlabel": {
           "align": "left"
          },
          "hovermode": "closest",
          "mapbox": {
           "style": "light"
          },
          "paper_bgcolor": "white",
          "plot_bgcolor": "#E5ECF6",
          "polar": {
           "angularaxis": {
            "gridcolor": "white",
            "linecolor": "white",
            "ticks": ""
           },
           "bgcolor": "#E5ECF6",
           "radialaxis": {
            "gridcolor": "white",
            "linecolor": "white",
            "ticks": ""
           }
          },
          "scene": {
           "xaxis": {
            "backgroundcolor": "#E5ECF6",
            "gridcolor": "white",
            "gridwidth": 2,
            "linecolor": "white",
            "showbackground": true,
            "ticks": "",
            "zerolinecolor": "white"
           },
           "yaxis": {
            "backgroundcolor": "#E5ECF6",
            "gridcolor": "white",
            "gridwidth": 2,
            "linecolor": "white",
            "showbackground": true,
            "ticks": "",
            "zerolinecolor": "white"
           },
           "zaxis": {
            "backgroundcolor": "#E5ECF6",
            "gridcolor": "white",
            "gridwidth": 2,
            "linecolor": "white",
            "showbackground": true,
            "ticks": "",
            "zerolinecolor": "white"
           }
          },
          "shapedefaults": {
           "line": {
            "color": "#2a3f5f"
           }
          },
          "ternary": {
           "aaxis": {
            "gridcolor": "white",
            "linecolor": "white",
            "ticks": ""
           },
           "baxis": {
            "gridcolor": "white",
            "linecolor": "white",
            "ticks": ""
           },
           "bgcolor": "#E5ECF6",
           "caxis": {
            "gridcolor": "white",
            "linecolor": "white",
            "ticks": ""
           }
          },
          "title": {
           "x": 0.05
          },
          "xaxis": {
           "automargin": true,
           "gridcolor": "white",
           "linecolor": "white",
           "ticks": "",
           "title": {
            "standoff": 15
           },
           "zerolinecolor": "white",
           "zerolinewidth": 2
          },
          "yaxis": {
           "automargin": true,
           "gridcolor": "white",
           "linecolor": "white",
           "ticks": "",
           "title": {
            "standoff": 15
           },
           "zerolinecolor": "white",
           "zerolinewidth": 2
          }
         }
        },
        "xaxis": {
         "anchor": "y",
         "domain": [
          0,
          1
         ],
         "title": {
          "text": "Closing Date"
         }
        },
        "yaxis": {
         "anchor": "x",
         "domain": [
          0,
          1
         ],
         "title": {
          "text": "Fund"
         }
        }
       }
      }
     },
     "metadata": {},
     "output_type": "display_data"
    }
   ],
   "source": [
    "px.bar(data_frame = df, x='Closing Date', y='Fund')"
   ]
  },
  {
   "cell_type": "code",
   "execution_count": 271,
   "id": "b528c79f-de39-441b-8bb2-29c56e5ee081",
   "metadata": {},
   "outputs": [
    {
     "name": "stdout",
     "output_type": "stream",
     "text": [
      "<class 'pandas.core.frame.DataFrame'>\n",
      "RangeIndex: 563 entries, 0 to 562\n",
      "Data columns (total 7 columns):\n",
      " #   Column                 Non-Null Count  Dtype \n",
      "---  ------                 --------------  ----- \n",
      " 0   Bank Name              563 non-null    object\n",
      " 1   City                   563 non-null    object\n",
      " 2   State                  563 non-null    object\n",
      " 3   Cert                   563 non-null    object\n",
      " 4   Acquiring Institution  563 non-null    object\n",
      " 5   Closing Date           563 non-null    object\n",
      " 6   Fund                   563 non-null    int64 \n",
      "dtypes: int64(1), object(6)\n",
      "memory usage: 30.9+ KB\n"
     ]
    }
   ],
   "source": [
    "df.info()"
   ]
  },
  {
   "cell_type": "code",
   "execution_count": 272,
   "id": "7bb2ecd4-0b5a-46d7-bca1-c3ae313b6b4c",
   "metadata": {},
   "outputs": [
    {
     "data": {
      "text/plain": [
       "2020"
      ]
     },
     "execution_count": 272,
     "metadata": {},
     "output_type": "execute_result"
    }
   ],
   "source": [
    "df['Closing Date'] = pd.to_datetime(df['Closing Date'])\n",
    "df['Closing Date'].iloc[0].year # year, month, day, hour, min"
   ]
  },
  {
   "cell_type": "code",
   "execution_count": 273,
   "id": "6ca4f60d-8df0-49f1-b5fb-2613bca4c59b",
   "metadata": {},
   "outputs": [
    {
     "data": {
      "application/vnd.plotly.v1+json": {
       "config": {
        "plotlyServerURL": "https://plot.ly"
       },
       "data": [
        {
         "hovertemplate": "State=KS<br>Closing Date=%{x}<br>Fund=%{y}<extra></extra>",
         "legendgroup": "KS",
         "marker": {
          "color": "#636efa",
          "symbol": "circle"
         },
         "mode": "markers",
         "name": "KS",
         "orientation": "v",
         "showlegend": true,
         "type": "scatter",
         "x": [
          "2020-10-23T00:00:00",
          "2017-10-13T00:00:00",
          "2012-07-20T00:00:00",
          "2011-08-12T00:00:00",
          "2010-10-22T00:00:00",
          "2010-10-15T00:00:00",
          "2010-07-23T00:00:00",
          "2009-12-11T00:00:00",
          "2009-06-19T00:00:00",
          "2009-03-20T00:00:00",
          "2008-08-22T00:00:00"
         ],
         "xaxis": "x",
         "y": [
          10538,
          10529,
          10452,
          10388,
          10302,
          10298,
          10269,
          10160,
          10066,
          10046,
          10011
         ],
         "yaxis": "y"
        },
        {
         "hovertemplate": "State=FL<br>Closing Date=%{x}<br>Fund=%{y}<extra></extra>",
         "legendgroup": "FL",
         "marker": {
          "color": "#EF553B",
          "symbol": "circle"
         },
         "mode": "markers",
         "name": "FL",
         "orientation": "v",
         "showlegend": true,
         "type": "scatter",
         "x": [
          "2020-10-16T00:00:00",
          "2015-01-16T00:00:00",
          "2014-06-20T00:00:00",
          "2013-10-30T00:00:00",
          "2013-08-02T00:00:00",
          "2013-04-19T00:00:00",
          "2013-04-19T00:00:00",
          "2012-11-02T00:00:00",
          "2012-10-19T00:00:00",
          "2012-10-19T00:00:00",
          "2012-07-20T00:00:00",
          "2012-06-15T00:00:00",
          "2012-05-04T00:00:00",
          "2012-01-27T00:00:00",
          "2012-01-20T00:00:00",
          "2011-12-16T00:00:00",
          "2011-10-21T00:00:00",
          "2011-09-09T00:00:00",
          "2011-08-19T00:00:00",
          "2011-07-22T00:00:00",
          "2011-07-22T00:00:00",
          "2011-07-15T00:00:00",
          "2011-06-17T00:00:00",
          "2011-05-06T00:00:00",
          "2011-04-29T00:00:00",
          "2011-04-29T00:00:00",
          "2011-02-11T00:00:00",
          "2011-01-07T00:00:00",
          "2010-12-17T00:00:00",
          "2010-11-19T00:00:00",
          "2010-10-22T00:00:00",
          "2010-10-22T00:00:00",
          "2010-10-01T00:00:00",
          "2010-09-24T00:00:00",
          "2010-09-10T00:00:00",
          "2010-08-20T00:00:00",
          "2010-08-20T00:00:00",
          "2010-07-30T00:00:00",
          "2010-07-30T00:00:00",
          "2010-07-23T00:00:00",
          "2010-07-16T00:00:00",
          "2010-07-16T00:00:00",
          "2010-07-16T00:00:00",
          "2010-06-25T00:00:00",
          "2010-05-28T00:00:00",
          "2010-05-28T00:00:00",
          "2010-05-28T00:00:00",
          "2010-05-07T00:00:00",
          "2010-04-16T00:00:00",
          "2010-04-16T00:00:00",
          "2010-04-16T00:00:00",
          "2010-03-26T00:00:00",
          "2010-03-12T00:00:00",
          "2010-03-05T00:00:00",
          "2010-02-19T00:00:00",
          "2010-01-29T00:00:00",
          "2010-01-22T00:00:00",
          "2009-12-18T00:00:00",
          "2009-12-11T00:00:00",
          "2009-11-20T00:00:00",
          "2009-11-13T00:00:00",
          "2009-11-13T00:00:00",
          "2009-10-23T00:00:00",
          "2009-10-23T00:00:00",
          "2009-10-23T00:00:00",
          "2009-08-07T00:00:00",
          "2009-08-07T00:00:00",
          "2009-07-31T00:00:00",
          "2009-05-21T00:00:00",
          "2009-02-13T00:00:00",
          "2009-01-30T00:00:00",
          "2008-10-31T00:00:00",
          "2008-08-01T00:00:00",
          "2004-03-12T00:00:00",
          "2002-03-01T00:00:00",
          "2002-01-11T00:00:00"
         ],
         "xaxis": "x",
         "y": [
          10537,
          10510,
          10501,
          10490,
          10484,
          10473,
          10475,
          10465,
          10461,
          10462,
          10454,
          10445,
          10439,
          10421,
          10418,
          10415,
          10408,
          10395,
          10392,
          10381,
          10382,
          10376,
          10370,
          10364,
          10360,
          10362,
          10342,
          10325,
          10324,
          10316,
          10303,
          10300,
          10296,
          10293,
          10286,
          10281,
          10279,
          10272,
          10271,
          10268,
          10260,
          10261,
          10259,
          10253,
          10243,
          10242,
          10241,
          10234,
          10216,
          10210,
          10213,
          10206,
          10197,
          10192,
          10187,
          10181,
          10173,
          10165,
          10158,
          10151,
          10149,
          10148,
          10129,
          10131,
          10130,
          10099,
          10098,
          10095,
          10061,
          10038,
          10032,
          10019,
          10010,
          4663,
          4654,
          4650
         ],
         "yaxis": "y"
        },
        {
         "hovertemplate": "State=WV<br>Closing Date=%{x}<br>Fund=%{y}<extra></extra>",
         "legendgroup": "WV",
         "marker": {
          "color": "#00cc96",
          "symbol": "circle"
         },
         "mode": "markers",
         "name": "WV",
         "orientation": "v",
         "showlegend": true,
         "type": "scatter",
         "x": [
          "2020-04-03T00:00:00",
          "2008-09-19T00:00:00"
         ],
         "xaxis": "x",
         "y": [
          10536,
          10014
         ],
         "yaxis": "y"
        },
        {
         "hovertemplate": "State=NE<br>Closing Date=%{x}<br>Fund=%{y}<extra></extra>",
         "legendgroup": "NE",
         "marker": {
          "color": "#ab63fa",
          "symbol": "circle"
         },
         "mode": "markers",
         "name": "NE",
         "orientation": "v",
         "showlegend": true,
         "type": "scatter",
         "x": [
          "2020-02-14T00:00:00",
          "2011-11-04T00:00:00",
          "2010-06-04T00:00:00",
          "2009-02-13T00:00:00"
         ],
         "xaxis": "x",
         "y": [
          10535,
          10410,
          10248,
          10039
         ],
         "yaxis": "y"
        },
        {
         "hovertemplate": "State=NJ<br>Closing Date=%{x}<br>Fund=%{y}<extra></extra>",
         "legendgroup": "NJ",
         "marker": {
          "color": "#FFA15A",
          "symbol": "circle"
         },
         "mode": "markers",
         "name": "NJ",
         "orientation": "v",
         "showlegend": true,
         "type": "scatter",
         "x": [
          "2019-11-01T00:00:00",
          "2017-01-13T00:00:00",
          "2012-04-20T00:00:00",
          "2011-10-14T00:00:00",
          "2010-09-17T00:00:00",
          "2009-07-31T00:00:00",
          "2009-05-01T00:00:00",
          "2004-02-14T00:00:00"
         ],
         "xaxis": "x",
         "y": [
          10534,
          10523,
          10433,
          10403,
          10290,
          10097,
          10058,
          6006
         ],
         "yaxis": "y"
        },
        {
         "hovertemplate": "State=OH<br>Closing Date=%{x}<br>Fund=%{y}<extra></extra>",
         "legendgroup": "OH",
         "marker": {
          "color": "#19d3f3",
          "symbol": "circle"
         },
         "mode": "markers",
         "name": "OH",
         "orientation": "v",
         "showlegend": true,
         "type": "scatter",
         "x": [
          "2019-10-25T00:00:00",
          "2014-05-23T00:00:00",
          "2010-09-17T00:00:00",
          "2010-03-19T00:00:00",
          "2009-12-04T00:00:00",
          "2009-07-31T00:00:00",
          "2007-10-04T00:00:00",
          "2002-02-01T00:00:00",
          "2001-05-03T00:00:00"
         ],
         "xaxis": "x",
         "y": [
          10533,
          10499,
          10288,
          10201,
          10155,
          10096,
          10002,
          4652,
          4648
         ],
         "yaxis": "y"
        },
        {
         "hovertemplate": "State=KY<br>Closing Date=%{x}<br>Fund=%{y}<extra></extra>",
         "legendgroup": "KY",
         "marker": {
          "color": "#FF6692",
          "symbol": "circle"
         },
         "mode": "markers",
         "name": "KY",
         "orientation": "v",
         "showlegend": true,
         "type": "scatter",
         "x": [
          "2019-10-25T00:00:00",
          "2013-04-19T00:00:00",
          "2009-09-18T00:00:00"
         ],
         "xaxis": "x",
         "y": [
          10532,
          10474,
          10121
         ],
         "yaxis": "y"
        },
        {
         "hovertemplate": "State=TX<br>Closing Date=%{x}<br>Fund=%{y}<extra></extra>",
         "legendgroup": "TX",
         "marker": {
          "color": "#B6E880",
          "symbol": "circle"
         },
         "mode": "markers",
         "name": "TX",
         "orientation": "v",
         "showlegend": true,
         "type": "scatter",
         "x": [
          "2019-05-31T00:00:00",
          "2013-12-13T00:00:00",
          "2013-09-13T00:00:00",
          "2011-09-30T00:00:00",
          "2010-02-19T00:00:00",
          "2009-10-30T00:00:00",
          "2009-10-30T00:00:00",
          "2009-10-30T00:00:00",
          "2009-08-21T00:00:00",
          "2009-07-02T00:00:00",
          "2008-12-12T00:00:00",
          "2008-11-07T00:00:00",
          "2002-01-18T00:00:00"
         ],
         "xaxis": "x",
         "y": [
          10531,
          10491,
          10488,
          10398,
          10186,
          10138,
          10142,
          10141,
          10105,
          10079,
          10026,
          10021,
          4651
         ],
         "yaxis": "y"
        },
        {
         "hovertemplate": "State=IL<br>Closing Date=%{x}<br>Fund=%{y}<extra></extra>",
         "legendgroup": "IL",
         "marker": {
          "color": "#FF97FF",
          "symbol": "circle"
         },
         "mode": "markers",
         "name": "IL",
         "orientation": "v",
         "showlegend": true,
         "type": "scatter",
         "x": [
          "2017-12-15T00:00:00",
          "2017-05-26T00:00:00",
          "2017-01-27T00:00:00",
          "2015-05-08T00:00:00",
          "2015-01-23T00:00:00",
          "2014-10-24T00:00:00",
          "2014-07-25T00:00:00",
          "2014-06-20T00:00:00",
          "2014-05-16T00:00:00",
          "2014-01-17T00:00:00",
          "2013-02-15T00:00:00",
          "2012-11-02T00:00:00",
          "2012-09-28T00:00:00",
          "2012-08-03T00:00:00",
          "2012-07-20T00:00:00",
          "2012-06-08T00:00:00",
          "2012-03-23T00:00:00",
          "2012-03-09T00:00:00",
          "2012-02-10T00:00:00",
          "2011-10-28T00:00:00",
          "2011-10-14T00:00:00",
          "2011-08-19T00:00:00",
          "2011-08-05T00:00:00",
          "2011-07-08T00:00:00",
          "2011-04-08T00:00:00",
          "2011-03-25T00:00:00",
          "2011-02-25T00:00:00",
          "2011-02-04T00:00:00",
          "2010-10-22T00:00:00",
          "2010-08-20T00:00:00",
          "2010-08-13T00:00:00",
          "2010-08-06T00:00:00",
          "2010-06-04T00:00:00",
          "2010-05-14T00:00:00",
          "2010-04-23T00:00:00",
          "2010-04-23T00:00:00",
          "2010-04-23T00:00:00",
          "2010-04-23T00:00:00",
          "2010-04-23T00:00:00",
          "2010-04-23T00:00:00",
          "2010-04-23T00:00:00",
          "2010-03-05T00:00:00",
          "2010-02-19T00:00:00",
          "2010-01-15T00:00:00",
          "2009-12-18T00:00:00",
          "2009-12-04T00:00:00",
          "2009-10-30T00:00:00",
          "2009-10-30T00:00:00",
          "2009-10-23T00:00:00",
          "2009-09-11T00:00:00",
          "2009-09-04T00:00:00",
          "2009-09-04T00:00:00",
          "2009-07-31T00:00:00",
          "2009-07-02T00:00:00",
          "2009-07-02T00:00:00",
          "2009-07-02T00:00:00",
          "2009-07-02T00:00:00",
          "2009-07-02T00:00:00",
          "2009-07-02T00:00:00",
          "2009-06-05T00:00:00",
          "2009-05-22T00:00:00",
          "2009-05-22T00:00:00",
          "2009-02-27T00:00:00",
          "2009-02-13T00:00:00",
          "2009-01-16T00:00:00",
          "2008-10-10T00:00:00",
          "2002-06-27T00:00:00",
          "2001-07-27T00:00:00",
          "2000-12-14T00:00:00"
         ],
         "xaxis": "x",
         "y": [
          10530,
          10528,
          10524,
          10514,
          10511,
          10507,
          10505,
          10502,
          10498,
          10492,
          10470,
          10464,
          10459,
          10456,
          10453,
          10442,
          10431,
          10429,
          10424,
          10409,
          10402,
          10390,
          10386,
          10374,
          10352,
          10350,
          10347,
          10337,
          10301,
          10284,
          10277,
          10276,
          10246,
          10236,
          10224,
          10223,
          10221,
          10222,
          10220,
          10219,
          10218,
          10191,
          10184,
          10170,
          10166,
          10154,
          10140,
          10137,
          10128,
          10117,
          10115,
          10113,
          10094,
          10074,
          10078,
          10073,
          10075,
          10077,
          10076,
          10064,
          10063,
          10062,
          10042,
          10037,
          10028,
          10017,
          6005,
          6004,
          4646
         ],
         "yaxis": "y"
        },
        {
         "hovertemplate": "State=WI<br>Closing Date=%{x}<br>Fund=%{y}<extra></extra>",
         "legendgroup": "WI",
         "marker": {
          "color": "#FECB52",
          "symbol": "circle"
         },
         "mode": "markers",
         "name": "WI",
         "orientation": "v",
         "showlegend": true,
         "type": "scatter",
         "x": [
          "2017-05-05T00:00:00",
          "2016-03-11T00:00:00",
          "2013-08-09T00:00:00",
          "2013-05-31T00:00:00",
          "2011-03-11T00:00:00",
          "2011-02-11T00:00:00",
          "2011-01-28T00:00:00",
          "2010-11-19T00:00:00",
          "2010-09-17T00:00:00",
          "2009-10-23T00:00:00",
          "2003-05-09T00:00:00"
         ],
         "xaxis": "x",
         "y": [
          10527,
          10518,
          10485,
          10478,
          10348,
          10339,
          10332,
          10315,
          10291,
          10132,
          4661
         ],
         "yaxis": "y"
        },
        {
         "hovertemplate": "State=LA<br>Closing Date=%{x}<br>Fund=%{y}<extra></extra>",
         "legendgroup": "LA",
         "marker": {
          "color": "#636efa",
          "symbol": "circle"
         },
         "mode": "markers",
         "name": "LA",
         "orientation": "v",
         "showlegend": true,
         "type": "scatter",
         "x": [
          "2017-04-28T00:00:00",
          "2011-11-18T00:00:00",
          "2010-03-12T00:00:00",
          "2002-12-17T00:00:00"
         ],
         "xaxis": "x",
         "y": [
          10526,
          10413,
          10196,
          4659
         ],
         "yaxis": "y"
        },
        {
         "hovertemplate": "State=UT<br>Closing Date=%{x}<br>Fund=%{y}<extra></extra>",
         "legendgroup": "UT",
         "marker": {
          "color": "#EF553B",
          "symbol": "circle"
         },
         "mode": "markers",
         "name": "UT",
         "orientation": "v",
         "showlegend": true,
         "type": "scatter",
         "x": [
          "2017-03-03T00:00:00",
          "2011-11-04T00:00:00",
          "2010-03-19T00:00:00",
          "2010-03-05T00:00:00",
          "2010-01-15T00:00:00",
          "2009-05-01T00:00:00",
          "2009-01-30T00:00:00",
          "2004-06-25T00:00:00"
         ],
         "xaxis": "x",
         "y": [
          10525,
          10411,
          10200,
          10193,
          10171,
          10057,
          10031,
          4665
         ],
         "yaxis": "y"
        },
        {
         "hovertemplate": "State=AR<br>Closing Date=%{x}<br>Fund=%{y}<extra></extra>",
         "legendgroup": "AR",
         "marker": {
          "color": "#00cc96",
          "symbol": "circle"
         },
         "mode": "markers",
         "name": "AR",
         "orientation": "v",
         "showlegend": true,
         "type": "scatter",
         "x": [
          "2016-09-23T00:00:00",
          "2010-12-17T00:00:00",
          "2008-05-09T00:00:00",
          "2001-09-07T00:00:00"
         ],
         "xaxis": "x",
         "y": [
          10522,
          10322,
          10005,
          4649
         ],
         "yaxis": "y"
        },
        {
         "hovertemplate": "State=GA<br>Closing Date=%{x}<br>Fund=%{y}<extra></extra>",
         "legendgroup": "GA",
         "marker": {
          "color": "#ab63fa",
          "symbol": "circle"
         },
         "mode": "markers",
         "name": "GA",
         "orientation": "v",
         "showlegend": true,
         "type": "scatter",
         "x": [
          "2016-08-19T00:00:00",
          "2015-10-02T00:00:00",
          "2015-02-13T00:00:00",
          "2014-07-18T00:00:00",
          "2013-05-10T00:00:00",
          "2013-04-26T00:00:00",
          "2013-03-08T00:00:00",
          "2012-11-16T00:00:00",
          "2012-07-27T00:00:00",
          "2012-07-20T00:00:00",
          "2012-07-20T00:00:00",
          "2012-07-06T00:00:00",
          "2012-06-15T00:00:00",
          "2012-03-23T00:00:00",
          "2012-03-02T00:00:00",
          "2012-02-24T00:00:00",
          "2012-01-20T00:00:00",
          "2011-11-10T00:00:00",
          "2011-10-21T00:00:00",
          "2011-10-21T00:00:00",
          "2011-10-14T00:00:00",
          "2011-09-02T00:00:00",
          "2011-09-02T00:00:00",
          "2011-08-19T00:00:00",
          "2011-07-15T00:00:00",
          "2011-07-15T00:00:00",
          "2011-06-24T00:00:00",
          "2011-06-17T00:00:00",
          "2011-05-20T00:00:00",
          "2011-05-20T00:00:00",
          "2011-04-29T00:00:00",
          "2011-04-29T00:00:00",
          "2011-04-15T00:00:00",
          "2011-04-15T00:00:00",
          "2011-02-18T00:00:00",
          "2011-02-18T00:00:00",
          "2011-02-04T00:00:00",
          "2011-02-04T00:00:00",
          "2011-01-21T00:00:00",
          "2011-01-14T00:00:00",
          "2010-12-17T00:00:00",
          "2010-12-17T00:00:00",
          "2010-12-17T00:00:00",
          "2010-11-12T00:00:00",
          "2010-11-12T00:00:00",
          "2010-10-22T00:00:00",
          "2010-10-22T00:00:00",
          "2010-09-17T00:00:00",
          "2010-09-17T00:00:00",
          "2010-09-17T00:00:00",
          "2010-07-30T00:00:00",
          "2010-07-23T00:00:00",
          "2010-06-25T00:00:00",
          "2010-05-14T00:00:00",
          "2010-03-26T00:00:00",
          "2010-03-26T00:00:00",
          "2010-03-19T00:00:00",
          "2010-03-19T00:00:00",
          "2010-03-19T00:00:00",
          "2010-01-29T00:00:00",
          "2010-01-29T00:00:00",
          "2009-12-18T00:00:00",
          "2009-12-04T00:00:00",
          "2009-12-04T00:00:00",
          "2009-12-04T00:00:00",
          "2009-11-06T00:00:00",
          "2009-10-23T00:00:00",
          "2009-09-25T00:00:00",
          "2009-08-21T00:00:00",
          "2009-08-21T00:00:00",
          "2009-07-24T00:00:00",
          "2009-07-24T00:00:00",
          "2009-07-24T00:00:00",
          "2009-07-24T00:00:00",
          "2009-07-24T00:00:00",
          "2009-07-24T00:00:00",
          "2009-07-17T00:00:00",
          "2009-06-26T00:00:00",
          "2009-06-26T00:00:00",
          "2009-06-19T00:00:00",
          "2009-05-01T00:00:00",
          "2009-04-24T00:00:00",
          "2009-03-27T00:00:00",
          "2009-03-20T00:00:00",
          "2009-03-06T00:00:00",
          "2009-02-06T00:00:00",
          "2008-12-12T00:00:00",
          "2008-12-05T00:00:00",
          "2008-11-21T00:00:00",
          "2008-10-24T00:00:00",
          "2008-08-29T00:00:00",
          "2007-09-28T00:00:00",
          "2002-09-30T00:00:00"
         ],
         "xaxis": "x",
         "y": [
          10521,
          10516,
          10512,
          10504,
          10481,
          10476,
          10471,
          10466,
          10455,
          10450,
          10451,
          10448,
          10446,
          10430,
          10428,
          10426,
          10419,
          10412,
          10406,
          10407,
          10404,
          10393,
          10394,
          10391,
          10377,
          10378,
          10372,
          10371,
          10366,
          10365,
          10363,
          10361,
          10355,
          10353,
          10344,
          10345,
          10338,
          10336,
          10329,
          10327,
          10323,
          10319,
          10320,
          10312,
          10313,
          10304,
          10305,
          10292,
          10289,
          10287,
          10274,
          10265,
          10251,
          10238,
          10208,
          10207,
          10202,
          10199,
          10198,
          10180,
          10179,
          10164,
          10153,
          10157,
          10152,
          10145,
          10127,
          10122,
          10108,
          10107,
          10088,
          10087,
          10085,
          10090,
          10089,
          10086,
          10084,
          10069,
          10068,
          10067,
          10059,
          10053,
          10048,
          10047,
          10044,
          10036,
          10027,
          10025,
          10022,
          10018,
          10012,
          10001,
          4657
         ],
         "yaxis": "y"
        },
        {
         "hovertemplate": "State=PA<br>Closing Date=%{x}<br>Fund=%{y}<extra></extra>",
         "legendgroup": "PA",
         "marker": {
          "color": "#FFA15A",
          "symbol": "circle"
         },
         "mode": "markers",
         "name": "PA",
         "orientation": "v",
         "showlegend": true,
         "type": "scatter",
         "x": [
          "2016-05-06T00:00:00",
          "2014-02-28T00:00:00",
          "2012-10-26T00:00:00",
          "2012-01-20T00:00:00",
          "2011-08-18T00:00:00",
          "2010-12-10T00:00:00",
          "2010-11-19T00:00:00",
          "2009-08-14T00:00:00",
          "2007-02-02T00:00:00",
          "2003-11-14T00:00:00"
         ],
         "xaxis": "x",
         "y": [
          10520,
          10496,
          10463,
          10417,
          10389,
          10317,
          10314,
          10104,
          10000,
          4662
         ],
         "yaxis": "y"
        },
        {
         "hovertemplate": "State=TN<br>Closing Date=%{x}<br>Fund=%{y}<extra></extra>",
         "legendgroup": "TN",
         "marker": {
          "color": "#19d3f3",
          "symbol": "circle"
         },
         "mode": "markers",
         "name": "TN",
         "orientation": "v",
         "showlegend": true,
         "type": "scatter",
         "x": [
          "2016-04-29T00:00:00",
          "2013-08-23T00:00:00",
          "2013-06-07T00:00:00",
          "2012-06-15T00:00:00",
          "2012-01-27T00:00:00",
          "2012-01-27T00:00:00",
          "2002-11-08T00:00:00"
         ],
         "xaxis": "x",
         "y": [
          10519,
          10486,
          10483,
          10447,
          10420,
          10423,
          4658
         ],
         "yaxis": "y"
        },
        {
         "hovertemplate": "State=WA<br>Closing Date=%{x}<br>Fund=%{y}<extra></extra>",
         "legendgroup": "WA",
         "marker": {
          "color": "#FF6692",
          "symbol": "circle"
         },
         "mode": "markers",
         "name": "WA",
         "orientation": "v",
         "showlegend": true,
         "type": "scatter",
         "x": [
          "2015-10-02T00:00:00",
          "2013-01-11T00:00:00",
          "2011-08-05T00:00:00",
          "2011-05-27T00:00:00",
          "2011-05-20T00:00:00",
          "2010-11-05T00:00:00",
          "2010-10-01T00:00:00",
          "2010-09-24T00:00:00",
          "2010-07-30T00:00:00",
          "2010-06-11T00:00:00",
          "2010-04-30T00:00:00",
          "2010-04-16T00:00:00",
          "2010-02-26T00:00:00",
          "2010-01-29T00:00:00",
          "2010-01-22T00:00:00",
          "2010-01-08T00:00:00",
          "2009-09-11T00:00:00",
          "2009-05-08T00:00:00",
          "2009-01-16T00:00:00"
         ],
         "xaxis": "x",
         "y": [
          10517,
          10468,
          10387,
          10368,
          10367,
          10309,
          10295,
          10294,
          10275,
          10249,
          10228,
          10212,
          10189,
          10178,
          10172,
          10168,
          10119,
          10060,
          10029
         ],
         "yaxis": "y"
        },
        {
         "hovertemplate": "State=CO<br>Closing Date=%{x}<br>Fund=%{y}<extra></extra>",
         "legendgroup": "CO",
         "marker": {
          "color": "#B6E880",
          "symbol": "circle"
         },
         "mode": "markers",
         "name": "CO",
         "orientation": "v",
         "showlegend": true,
         "type": "scatter",
         "x": [
          "2015-07-10T00:00:00",
          "2011-10-21T00:00:00",
          "2011-07-22T00:00:00",
          "2011-07-08T00:00:00",
          "2011-07-08T00:00:00",
          "2011-01-28T00:00:00",
          "2011-01-21T00:00:00",
          "2009-10-02T00:00:00",
          "2009-04-10T00:00:00",
          "2009-03-20T00:00:00"
         ],
         "xaxis": "x",
         "y": [
          10515,
          10405,
          10380,
          10375,
          10373,
          10334,
          10331,
          10123,
          10050,
          10045
         ],
         "yaxis": "y"
        },
        {
         "hovertemplate": "State=PR<br>Closing Date=%{x}<br>Fund=%{y}<extra></extra>",
         "legendgroup": "PR",
         "marker": {
          "color": "#FF97FF",
          "symbol": "circle"
         },
         "mode": "markers",
         "name": "PR",
         "orientation": "v",
         "showlegend": true,
         "type": "scatter",
         "x": [
          "2015-02-27T00:00:00",
          "2010-04-30T00:00:00",
          "2010-04-30T00:00:00",
          "2010-04-30T00:00:00"
         ],
         "xaxis": "x",
         "y": [
          10513,
          10231,
          10230,
          10229
         ],
         "yaxis": "y"
        },
        {
         "hovertemplate": "State=MN<br>Closing Date=%{x}<br>Fund=%{y}<extra></extra>",
         "legendgroup": "MN",
         "marker": {
          "color": "#FECB52",
          "symbol": "circle"
         },
         "mode": "markers",
         "name": "MN",
         "orientation": "v",
         "showlegend": true,
         "type": "scatter",
         "x": [
          "2014-12-19T00:00:00",
          "2013-01-18T00:00:00",
          "2012-09-07T00:00:00",
          "2012-04-27T00:00:00",
          "2012-02-24T00:00:00",
          "2012-01-27T00:00:00",
          "2011-10-07T00:00:00",
          "2011-04-15T00:00:00",
          "2010-12-17T00:00:00",
          "2010-07-23T00:00:00",
          "2010-05-21T00:00:00",
          "2010-05-07T00:00:00",
          "2010-03-19T00:00:00",
          "2010-02-05T00:00:00",
          "2010-01-29T00:00:00",
          "2010-01-15T00:00:00",
          "2009-11-06T00:00:00",
          "2009-10-23T00:00:00",
          "2009-10-02T00:00:00",
          "2009-09-11T00:00:00",
          "2009-08-28T00:00:00",
          "2009-06-26T00:00:00",
          "2008-05-30T00:00:00"
         ],
         "xaxis": "x",
         "y": [
          10509,
          10469,
          10457,
          10436,
          10427,
          10422,
          10399,
          10357,
          10321,
          10264,
          10240,
          10233,
          10203,
          10183,
          10182,
          10169,
          10143,
          10133,
          10124,
          10118,
          10111,
          10070,
          10006
         ],
         "yaxis": "y"
        },
        {
         "hovertemplate": "State=CA<br>Closing Date=%{x}<br>Fund=%{y}<extra></extra>",
         "legendgroup": "CA",
         "marker": {
          "color": "#636efa",
          "symbol": "circle"
         },
         "mode": "markers",
         "name": "CA",
         "orientation": "v",
         "showlegend": true,
         "type": "scatter",
         "x": [
          "2014-11-07T00:00:00",
          "2012-04-27T00:00:00",
          "2011-09-23T00:00:00",
          "2011-02-18T00:00:00",
          "2011-02-18T00:00:00",
          "2011-02-11T00:00:00",
          "2010-11-05T00:00:00",
          "2010-11-05T00:00:00",
          "2010-08-20T00:00:00",
          "2010-08-20T00:00:00",
          "2010-08-20T00:00:00",
          "2010-08-20T00:00:00",
          "2010-05-28T00:00:00",
          "2010-05-07T00:00:00",
          "2010-04-16T00:00:00",
          "2010-04-16T00:00:00",
          "2010-02-19T00:00:00",
          "2010-01-29T00:00:00",
          "2009-12-18T00:00:00",
          "2009-12-18T00:00:00",
          "2009-11-13T00:00:00",
          "2009-11-06T00:00:00",
          "2009-10-30T00:00:00",
          "2009-10-30T00:00:00",
          "2009-10-30T00:00:00",
          "2009-10-16T00:00:00",
          "2009-08-28T00:00:00",
          "2009-07-17T00:00:00",
          "2009-07-17T00:00:00",
          "2009-06-26T00:00:00",
          "2009-06-26T00:00:00",
          "2009-04-24T00:00:00",
          "2009-02-06T00:00:00",
          "2009-02-06T00:00:00",
          "2009-01-23T00:00:00",
          "2008-11-21T00:00:00",
          "2008-11-21T00:00:00",
          "2008-11-07T00:00:00",
          "2008-07-25T00:00:00",
          "2008-07-11T00:00:00",
          "2003-02-07T00:00:00"
         ],
         "xaxis": "x",
         "y": [
          10508,
          10437,
          10397,
          10346,
          10343,
          10340,
          10307,
          10310,
          10285,
          10282,
          10278,
          10283,
          10244,
          10232,
          10217,
          10214,
          10185,
          10177,
          10167,
          10161,
          10150,
          10147,
          10139,
          10134,
          10135,
          10126,
          10110,
          10082,
          10083,
          10072,
          10071,
          10054,
          10034,
          10035,
          10030,
          10024,
          10023,
          10020,
          10009,
          10007,
          4660
         ],
         "yaxis": "y"
        },
        {
         "hovertemplate": "State=MD<br>Closing Date=%{x}<br>Fund=%{y}<extra></extra>",
         "legendgroup": "MD",
         "marker": {
          "color": "#EF553B",
          "symbol": "circle"
         },
         "mode": "markers",
         "name": "MD",
         "orientation": "v",
         "showlegend": true,
         "type": "scatter",
         "x": [
          "2014-10-17T00:00:00",
          "2014-05-30T00:00:00",
          "2012-04-27T00:00:00",
          "2012-04-27T00:00:00",
          "2010-11-05T00:00:00",
          "2010-07-09T00:00:00",
          "2010-07-09T00:00:00",
          "2010-03-05T00:00:00",
          "2009-08-28T00:00:00",
          "2009-01-30T00:00:00"
         ],
         "xaxis": "x",
         "y": [
          10506,
          10500,
          10435,
          10434,
          10308,
          10257,
          10255,
          10190,
          10109,
          10033
         ],
         "yaxis": "y"
        },
        {
         "hovertemplate": "State=OK<br>Closing Date=%{x}<br>Fund=%{y}<extra></extra>",
         "legendgroup": "OK",
         "marker": {
          "color": "#00cc96",
          "symbol": "circle"
         },
         "mode": "markers",
         "name": "OK",
         "orientation": "v",
         "showlegend": true,
         "type": "scatter",
         "x": [
          "2014-06-27T00:00:00",
          "2014-01-24T00:00:00",
          "2012-06-08T00:00:00",
          "2011-03-11T00:00:00",
          "2011-01-28T00:00:00",
          "2010-07-09T00:00:00",
          "2009-07-31T00:00:00"
         ],
         "xaxis": "x",
         "y": [
          10503,
          10493,
          10443,
          10349,
          10335,
          10256,
          10093
         ],
         "yaxis": "y"
        },
        {
         "hovertemplate": "State=SC<br>Closing Date=%{x}<br>Fund=%{y}<extra></extra>",
         "legendgroup": "SC",
         "marker": {
          "color": "#ab63fa",
          "symbol": "circle"
         },
         "mode": "markers",
         "name": "SC",
         "orientation": "v",
         "showlegend": true,
         "type": "scatter",
         "x": [
          "2014-04-25T00:00:00",
          "2012-06-08T00:00:00",
          "2012-04-27T00:00:00",
          "2011-07-29T00:00:00",
          "2011-06-03T00:00:00",
          "2011-01-21T00:00:00",
          "2010-07-23T00:00:00",
          "2010-07-16T00:00:00",
          "2010-07-16T00:00:00",
          "2010-04-09T00:00:00"
         ],
         "xaxis": "x",
         "y": [
          10497,
          10441,
          10438,
          10383,
          10369,
          10328,
          10270,
          10263,
          10262,
          10209
         ],
         "yaxis": "y"
        },
        {
         "hovertemplate": "State=VA<br>Closing Date=%{x}<br>Fund=%{y}<extra></extra>",
         "legendgroup": "VA",
         "marker": {
          "color": "#FFA15A",
          "symbol": "circle"
         },
         "mode": "markers",
         "name": "VA",
         "orientation": "v",
         "showlegend": true,
         "type": "scatter",
         "x": [
          "2014-02-28T00:00:00",
          "2011-09-23T00:00:00",
          "2011-07-29T00:00:00",
          "2010-08-20T00:00:00",
          "2009-12-04T00:00:00"
         ],
         "xaxis": "x",
         "y": [
          10495,
          10396,
          10385,
          10280,
          10156
         ],
         "yaxis": "y"
        },
        {
         "hovertemplate": "State=ID<br>Closing Date=%{x}<br>Fund=%{y}<extra></extra>",
         "legendgroup": "ID",
         "marker": {
          "color": "#19d3f3",
          "symbol": "circle"
         },
         "mode": "markers",
         "name": "ID",
         "orientation": "v",
         "showlegend": true,
         "type": "scatter",
         "x": [
          "2014-01-31T00:00:00",
          "2009-04-24T00:00:00"
         ],
         "xaxis": "x",
         "y": [
          10494,
          10055
         ],
         "yaxis": "y"
        },
        {
         "hovertemplate": "State=CT<br>Closing Date=%{x}<br>Fund=%{y}<extra></extra>",
         "legendgroup": "CT",
         "marker": {
          "color": "#FF6692",
          "symbol": "circle"
         },
         "mode": "markers",
         "name": "CT",
         "orientation": "v",
         "showlegend": true,
         "type": "scatter",
         "x": [
          "2013-09-13T00:00:00",
          "2002-06-26T00:00:00"
         ],
         "xaxis": "x",
         "y": [
          10489,
          4656
         ],
         "yaxis": "y"
        },
        {
         "hovertemplate": "State=AZ<br>Closing Date=%{x}<br>Fund=%{y}<extra></extra>",
         "legendgroup": "AZ",
         "marker": {
          "color": "#B6E880",
          "symbol": "circle"
         },
         "mode": "markers",
         "name": "AZ",
         "orientation": "v",
         "showlegend": true,
         "type": "scatter",
         "x": [
          "2013-08-23T00:00:00",
          "2013-05-14T00:00:00",
          "2013-04-05T00:00:00",
          "2011-12-16T00:00:00",
          "2011-07-15T00:00:00",
          "2011-01-07T00:00:00",
          "2010-11-12T00:00:00",
          "2010-10-22T00:00:00",
          "2010-05-07T00:00:00",
          "2010-03-26T00:00:00",
          "2009-12-11T00:00:00",
          "2009-10-30T00:00:00",
          "2009-09-04T00:00:00",
          "2009-08-14T00:00:00",
          "2009-08-14T00:00:00",
          "2002-02-07T00:00:00"
         ],
         "xaxis": "x",
         "y": [
          10487,
          10479,
          10472,
          10416,
          10379,
          10326,
          10311,
          10306,
          10235,
          10205,
          10159,
          10136,
          10114,
          10101,
          10102,
          4653
         ],
         "yaxis": "y"
        },
        {
         "hovertemplate": "State=NV<br>Closing Date=%{x}<br>Fund=%{y}<extra></extra>",
         "legendgroup": "NV",
         "marker": {
          "color": "#FF97FF",
          "symbol": "circle"
         },
         "mode": "markers",
         "name": "NV",
         "orientation": "v",
         "showlegend": true,
         "type": "scatter",
         "x": [
          "2013-06-06T00:00:00",
          "2011-04-08T00:00:00",
          "2010-07-23T00:00:00",
          "2010-06-18T00:00:00",
          "2010-05-28T00:00:00",
          "2010-02-26T00:00:00",
          "2009-08-14T00:00:00",
          "2009-04-17T00:00:00",
          "2009-02-27T00:00:00",
          "2008-09-25T00:00:00",
          "2008-09-05T00:00:00",
          "2008-07-25T00:00:00"
         ],
         "xaxis": "x",
         "y": [
          10482,
          10351,
          10267,
          10250,
          10245,
          10188,
          10100,
          10051,
          10043,
          10015,
          10013,
          10008
         ],
         "yaxis": "y"
        },
        {
         "hovertemplate": "State=NC<br>Closing Date=%{x}<br>Fund=%{y}<extra></extra>",
         "legendgroup": "NC",
         "marker": {
          "color": "#FECB52",
          "symbol": "circle"
         },
         "mode": "markers",
         "name": "NC",
         "orientation": "v",
         "showlegend": true,
         "type": "scatter",
         "x": [
          "2013-05-10T00:00:00",
          "2013-04-26T00:00:00",
          "2012-06-08T00:00:00",
          "2011-10-14T00:00:00",
          "2011-01-21T00:00:00",
          "2009-06-19T00:00:00",
          "2009-04-10T00:00:00"
         ],
         "xaxis": "x",
         "y": [
          10480,
          10477,
          10444,
          10401,
          10330,
          10065,
          10049
         ],
         "yaxis": "y"
        },
        {
         "hovertemplate": "State=MO<br>Closing Date=%{x}<br>Fund=%{y}<extra></extra>",
         "legendgroup": "MO",
         "marker": {
          "color": "#636efa",
          "symbol": "circle"
         },
         "mode": "markers",
         "name": "MO",
         "orientation": "v",
         "showlegend": true,
         "type": "scatter",
         "x": [
          "2012-12-14T00:00:00",
          "2012-10-19T00:00:00",
          "2012-09-14T00:00:00",
          "2012-07-13T00:00:00",
          "2011-10-07T00:00:00",
          "2010-10-15T00:00:00",
          "2010-10-15T00:00:00",
          "2010-05-14T00:00:00",
          "2010-04-30T00:00:00",
          "2010-04-30T00:00:00",
          "2010-01-22T00:00:00",
          "2009-11-06T00:00:00",
          "2009-09-04T00:00:00",
          "2009-04-17T00:00:00",
          "2008-03-07T00:00:00",
          "2008-01-25T00:00:00"
         ],
         "xaxis": "x",
         "y": [
          10467,
          10460,
          10458,
          10449,
          10400,
          10297,
          10299,
          10239,
          10225,
          10227,
          10174,
          10146,
          10112,
          10052,
          10004,
          10003
         ],
         "yaxis": "y"
        },
        {
         "hovertemplate": "State=AL<br>Closing Date=%{x}<br>Fund=%{y}<extra></extra>",
         "legendgroup": "AL",
         "marker": {
          "color": "#EF553B",
          "symbol": "circle"
         },
         "mode": "markers",
         "name": "AL",
         "orientation": "v",
         "showlegend": true,
         "type": "scatter",
         "x": [
          "2012-05-18T00:00:00",
          "2011-04-15T00:00:00",
          "2011-04-15T00:00:00",
          "2010-03-19T00:00:00",
          "2009-12-18T00:00:00",
          "2009-08-21T00:00:00",
          "2009-08-14T00:00:00"
         ],
         "xaxis": "x",
         "y": [
          10440,
          10358,
          10356,
          10204,
          10163,
          10106,
          10103
         ],
         "yaxis": "y"
        },
        {
         "hovertemplate": "State=MI<br>Closing Date=%{x}<br>Fund=%{y}<extra></extra>",
         "legendgroup": "MI",
         "marker": {
          "color": "#00cc96",
          "symbol": "circle"
         },
         "mode": "markers",
         "name": "MI",
         "orientation": "v",
         "showlegend": true,
         "type": "scatter",
         "x": [
          "2012-03-30T00:00:00",
          "2011-04-29T00:00:00",
          "2011-02-11T00:00:00",
          "2010-12-10T00:00:00",
          "2010-07-16T00:00:00",
          "2010-05-14T00:00:00",
          "2010-04-30T00:00:00",
          "2010-04-16T00:00:00",
          "2009-12-18T00:00:00",
          "2009-11-06T00:00:00",
          "2009-10-02T00:00:00",
          "2009-04-24T00:00:00",
          "2008-10-10T00:00:00",
          "2002-03-28T00:00:00"
         ],
         "xaxis": "x",
         "y": [
          10432,
          10359,
          10341,
          10318,
          10258,
          10237,
          10226,
          10215,
          10162,
          10144,
          10125,
          10056,
          10016,
          4655
         ],
         "yaxis": "y"
        },
        {
         "hovertemplate": "State=IN<br>Closing Date=%{x}<br>Fund=%{y}<extra></extra>",
         "legendgroup": "IN",
         "marker": {
          "color": "#ab63fa",
          "symbol": "circle"
         },
         "mode": "markers",
         "name": "IN",
         "orientation": "v",
         "showlegend": true,
         "type": "scatter",
         "x": [
          "2012-02-10T00:00:00",
          "2011-07-29T00:00:00",
          "2009-09-18T00:00:00"
         ],
         "xaxis": "x",
         "y": [
          10425,
          10384,
          10120
         ],
         "yaxis": "y"
        },
        {
         "hovertemplate": "State=IA<br>Closing Date=%{x}<br>Fund=%{y}<extra></extra>",
         "legendgroup": "IA",
         "marker": {
          "color": "#FFA15A",
          "symbol": "circle"
         },
         "mode": "markers",
         "name": "IA",
         "orientation": "v",
         "showlegend": true,
         "type": "scatter",
         "x": [
          "2011-11-18T00:00:00",
          "2009-09-04T00:00:00"
         ],
         "xaxis": "x",
         "y": [
          10414,
          10116
         ],
         "yaxis": "y"
        },
        {
         "hovertemplate": "State=MS<br>Closing Date=%{x}<br>Fund=%{y}<extra></extra>",
         "legendgroup": "MS",
         "marker": {
          "color": "#19d3f3",
          "symbol": "circle"
         },
         "mode": "markers",
         "name": "MS",
         "orientation": "v",
         "showlegend": true,
         "type": "scatter",
         "x": [
          "2011-04-15T00:00:00",
          "2010-06-04T00:00:00"
         ],
         "xaxis": "x",
         "y": [
          10354,
          10247
         ],
         "yaxis": "y"
        },
        {
         "hovertemplate": "State=NM<br>Closing Date=%{x}<br>Fund=%{y}<extra></extra>",
         "legendgroup": "NM",
         "marker": {
          "color": "#FF6692",
          "symbol": "circle"
         },
         "mode": "markers",
         "name": "NM",
         "orientation": "v",
         "showlegend": true,
         "type": "scatter",
         "x": [
          "2011-01-28T00:00:00",
          "2010-06-25T00:00:00",
          "2010-01-22T00:00:00"
         ],
         "xaxis": "x",
         "y": [
          10333,
          10252,
          10175
         ],
         "yaxis": "y"
        },
        {
         "hovertemplate": "State=OR<br>Closing Date=%{x}<br>Fund=%{y}<extra></extra>",
         "legendgroup": "OR",
         "marker": {
          "color": "#B6E880",
          "symbol": "circle"
         },
         "mode": "markers",
         "name": "OR",
         "orientation": "v",
         "showlegend": true,
         "type": "scatter",
         "x": [
          "2010-07-30T00:00:00",
          "2010-07-23T00:00:00",
          "2010-01-22T00:00:00",
          "2009-08-07T00:00:00",
          "2009-02-20T00:00:00",
          "2009-02-13T00:00:00"
         ],
         "xaxis": "x",
         "y": [
          10273,
          10266,
          10176,
          10092,
          10041,
          10040
         ],
         "yaxis": "y"
        },
        {
         "hovertemplate": "State=NY<br>Closing Date=%{x}<br>Fund=%{y}<extra></extra>",
         "legendgroup": "NY",
         "marker": {
          "color": "#FF97FF",
          "symbol": "circle"
         },
         "mode": "markers",
         "name": "NY",
         "orientation": "v",
         "showlegend": true,
         "type": "scatter",
         "x": [
          "2010-07-09T00:00:00",
          "2010-03-12T00:00:00",
          "2010-03-11T00:00:00",
          "2009-07-24T00:00:00",
          "2004-03-19T00:00:00"
         ],
         "xaxis": "x",
         "y": [
          10254,
          10195,
          10194,
          10091,
          4664
         ],
         "yaxis": "y"
        },
        {
         "hovertemplate": "State=MA<br>Closing Date=%{x}<br>Fund=%{y}<extra></extra>",
         "legendgroup": "MA",
         "marker": {
          "color": "#FECB52",
          "symbol": "circle"
         },
         "mode": "markers",
         "name": "MA",
         "orientation": "v",
         "showlegend": true,
         "type": "scatter",
         "x": [
          "2010-04-16T00:00:00"
         ],
         "xaxis": "x",
         "y": [
          10211
         ],
         "yaxis": "y"
        },
        {
         "hovertemplate": "State=SD<br>Closing Date=%{x}<br>Fund=%{y}<extra></extra>",
         "legendgroup": "SD",
         "marker": {
          "color": "#636efa",
          "symbol": "circle"
         },
         "mode": "markers",
         "name": "SD",
         "orientation": "v",
         "showlegend": true,
         "type": "scatter",
         "x": [
          "2009-07-17T00:00:00"
         ],
         "xaxis": "x",
         "y": [
          10081
         ],
         "yaxis": "y"
        },
        {
         "hovertemplate": "State=WY<br>Closing Date=%{x}<br>Fund=%{y}<extra></extra>",
         "legendgroup": "WY",
         "marker": {
          "color": "#EF553B",
          "symbol": "circle"
         },
         "mode": "markers",
         "name": "WY",
         "orientation": "v",
         "showlegend": true,
         "type": "scatter",
         "x": [
          "2009-07-10T00:00:00"
         ],
         "xaxis": "x",
         "y": [
          10080
         ],
         "yaxis": "y"
        },
        {
         "hovertemplate": "State=NH<br>Closing Date=%{x}<br>Fund=%{y}<extra></extra>",
         "legendgroup": "NH",
         "marker": {
          "color": "#00cc96",
          "symbol": "circle"
         },
         "mode": "markers",
         "name": "NH",
         "orientation": "v",
         "showlegend": true,
         "type": "scatter",
         "x": [
          "2001-02-02T00:00:00"
         ],
         "xaxis": "x",
         "y": [
          4647
         ],
         "yaxis": "y"
        },
        {
         "hovertemplate": "State=HI<br>Closing Date=%{x}<br>Fund=%{y}<extra></extra>",
         "legendgroup": "HI",
         "marker": {
          "color": "#ab63fa",
          "symbol": "circle"
         },
         "mode": "markers",
         "name": "HI",
         "orientation": "v",
         "showlegend": true,
         "type": "scatter",
         "x": [
          "2000-10-13T00:00:00"
         ],
         "xaxis": "x",
         "y": [
          4645
         ],
         "yaxis": "y"
        }
       ],
       "layout": {
        "legend": {
         "title": {
          "text": "State"
         },
         "tracegroupgap": 0
        },
        "margin": {
         "t": 60
        },
        "template": {
         "data": {
          "bar": [
           {
            "error_x": {
             "color": "#2a3f5f"
            },
            "error_y": {
             "color": "#2a3f5f"
            },
            "marker": {
             "line": {
              "color": "#E5ECF6",
              "width": 0.5
             },
             "pattern": {
              "fillmode": "overlay",
              "size": 10,
              "solidity": 0.2
             }
            },
            "type": "bar"
           }
          ],
          "barpolar": [
           {
            "marker": {
             "line": {
              "color": "#E5ECF6",
              "width": 0.5
             },
             "pattern": {
              "fillmode": "overlay",
              "size": 10,
              "solidity": 0.2
             }
            },
            "type": "barpolar"
           }
          ],
          "carpet": [
           {
            "aaxis": {
             "endlinecolor": "#2a3f5f",
             "gridcolor": "white",
             "linecolor": "white",
             "minorgridcolor": "white",
             "startlinecolor": "#2a3f5f"
            },
            "baxis": {
             "endlinecolor": "#2a3f5f",
             "gridcolor": "white",
             "linecolor": "white",
             "minorgridcolor": "white",
             "startlinecolor": "#2a3f5f"
            },
            "type": "carpet"
           }
          ],
          "choropleth": [
           {
            "colorbar": {
             "outlinewidth": 0,
             "ticks": ""
            },
            "type": "choropleth"
           }
          ],
          "contour": [
           {
            "colorbar": {
             "outlinewidth": 0,
             "ticks": ""
            },
            "colorscale": [
             [
              0,
              "#0d0887"
             ],
             [
              0.1111111111111111,
              "#46039f"
             ],
             [
              0.2222222222222222,
              "#7201a8"
             ],
             [
              0.3333333333333333,
              "#9c179e"
             ],
             [
              0.4444444444444444,
              "#bd3786"
             ],
             [
              0.5555555555555556,
              "#d8576b"
             ],
             [
              0.6666666666666666,
              "#ed7953"
             ],
             [
              0.7777777777777778,
              "#fb9f3a"
             ],
             [
              0.8888888888888888,
              "#fdca26"
             ],
             [
              1,
              "#f0f921"
             ]
            ],
            "type": "contour"
           }
          ],
          "contourcarpet": [
           {
            "colorbar": {
             "outlinewidth": 0,
             "ticks": ""
            },
            "type": "contourcarpet"
           }
          ],
          "heatmap": [
           {
            "colorbar": {
             "outlinewidth": 0,
             "ticks": ""
            },
            "colorscale": [
             [
              0,
              "#0d0887"
             ],
             [
              0.1111111111111111,
              "#46039f"
             ],
             [
              0.2222222222222222,
              "#7201a8"
             ],
             [
              0.3333333333333333,
              "#9c179e"
             ],
             [
              0.4444444444444444,
              "#bd3786"
             ],
             [
              0.5555555555555556,
              "#d8576b"
             ],
             [
              0.6666666666666666,
              "#ed7953"
             ],
             [
              0.7777777777777778,
              "#fb9f3a"
             ],
             [
              0.8888888888888888,
              "#fdca26"
             ],
             [
              1,
              "#f0f921"
             ]
            ],
            "type": "heatmap"
           }
          ],
          "heatmapgl": [
           {
            "colorbar": {
             "outlinewidth": 0,
             "ticks": ""
            },
            "colorscale": [
             [
              0,
              "#0d0887"
             ],
             [
              0.1111111111111111,
              "#46039f"
             ],
             [
              0.2222222222222222,
              "#7201a8"
             ],
             [
              0.3333333333333333,
              "#9c179e"
             ],
             [
              0.4444444444444444,
              "#bd3786"
             ],
             [
              0.5555555555555556,
              "#d8576b"
             ],
             [
              0.6666666666666666,
              "#ed7953"
             ],
             [
              0.7777777777777778,
              "#fb9f3a"
             ],
             [
              0.8888888888888888,
              "#fdca26"
             ],
             [
              1,
              "#f0f921"
             ]
            ],
            "type": "heatmapgl"
           }
          ],
          "histogram": [
           {
            "marker": {
             "pattern": {
              "fillmode": "overlay",
              "size": 10,
              "solidity": 0.2
             }
            },
            "type": "histogram"
           }
          ],
          "histogram2d": [
           {
            "colorbar": {
             "outlinewidth": 0,
             "ticks": ""
            },
            "colorscale": [
             [
              0,
              "#0d0887"
             ],
             [
              0.1111111111111111,
              "#46039f"
             ],
             [
              0.2222222222222222,
              "#7201a8"
             ],
             [
              0.3333333333333333,
              "#9c179e"
             ],
             [
              0.4444444444444444,
              "#bd3786"
             ],
             [
              0.5555555555555556,
              "#d8576b"
             ],
             [
              0.6666666666666666,
              "#ed7953"
             ],
             [
              0.7777777777777778,
              "#fb9f3a"
             ],
             [
              0.8888888888888888,
              "#fdca26"
             ],
             [
              1,
              "#f0f921"
             ]
            ],
            "type": "histogram2d"
           }
          ],
          "histogram2dcontour": [
           {
            "colorbar": {
             "outlinewidth": 0,
             "ticks": ""
            },
            "colorscale": [
             [
              0,
              "#0d0887"
             ],
             [
              0.1111111111111111,
              "#46039f"
             ],
             [
              0.2222222222222222,
              "#7201a8"
             ],
             [
              0.3333333333333333,
              "#9c179e"
             ],
             [
              0.4444444444444444,
              "#bd3786"
             ],
             [
              0.5555555555555556,
              "#d8576b"
             ],
             [
              0.6666666666666666,
              "#ed7953"
             ],
             [
              0.7777777777777778,
              "#fb9f3a"
             ],
             [
              0.8888888888888888,
              "#fdca26"
             ],
             [
              1,
              "#f0f921"
             ]
            ],
            "type": "histogram2dcontour"
           }
          ],
          "mesh3d": [
           {
            "colorbar": {
             "outlinewidth": 0,
             "ticks": ""
            },
            "type": "mesh3d"
           }
          ],
          "parcoords": [
           {
            "line": {
             "colorbar": {
              "outlinewidth": 0,
              "ticks": ""
             }
            },
            "type": "parcoords"
           }
          ],
          "pie": [
           {
            "automargin": true,
            "type": "pie"
           }
          ],
          "scatter": [
           {
            "fillpattern": {
             "fillmode": "overlay",
             "size": 10,
             "solidity": 0.2
            },
            "type": "scatter"
           }
          ],
          "scatter3d": [
           {
            "line": {
             "colorbar": {
              "outlinewidth": 0,
              "ticks": ""
             }
            },
            "marker": {
             "colorbar": {
              "outlinewidth": 0,
              "ticks": ""
             }
            },
            "type": "scatter3d"
           }
          ],
          "scattercarpet": [
           {
            "marker": {
             "colorbar": {
              "outlinewidth": 0,
              "ticks": ""
             }
            },
            "type": "scattercarpet"
           }
          ],
          "scattergeo": [
           {
            "marker": {
             "colorbar": {
              "outlinewidth": 0,
              "ticks": ""
             }
            },
            "type": "scattergeo"
           }
          ],
          "scattergl": [
           {
            "marker": {
             "colorbar": {
              "outlinewidth": 0,
              "ticks": ""
             }
            },
            "type": "scattergl"
           }
          ],
          "scattermapbox": [
           {
            "marker": {
             "colorbar": {
              "outlinewidth": 0,
              "ticks": ""
             }
            },
            "type": "scattermapbox"
           }
          ],
          "scatterpolar": [
           {
            "marker": {
             "colorbar": {
              "outlinewidth": 0,
              "ticks": ""
             }
            },
            "type": "scatterpolar"
           }
          ],
          "scatterpolargl": [
           {
            "marker": {
             "colorbar": {
              "outlinewidth": 0,
              "ticks": ""
             }
            },
            "type": "scatterpolargl"
           }
          ],
          "scatterternary": [
           {
            "marker": {
             "colorbar": {
              "outlinewidth": 0,
              "ticks": ""
             }
            },
            "type": "scatterternary"
           }
          ],
          "surface": [
           {
            "colorbar": {
             "outlinewidth": 0,
             "ticks": ""
            },
            "colorscale": [
             [
              0,
              "#0d0887"
             ],
             [
              0.1111111111111111,
              "#46039f"
             ],
             [
              0.2222222222222222,
              "#7201a8"
             ],
             [
              0.3333333333333333,
              "#9c179e"
             ],
             [
              0.4444444444444444,
              "#bd3786"
             ],
             [
              0.5555555555555556,
              "#d8576b"
             ],
             [
              0.6666666666666666,
              "#ed7953"
             ],
             [
              0.7777777777777778,
              "#fb9f3a"
             ],
             [
              0.8888888888888888,
              "#fdca26"
             ],
             [
              1,
              "#f0f921"
             ]
            ],
            "type": "surface"
           }
          ],
          "table": [
           {
            "cells": {
             "fill": {
              "color": "#EBF0F8"
             },
             "line": {
              "color": "white"
             }
            },
            "header": {
             "fill": {
              "color": "#C8D4E3"
             },
             "line": {
              "color": "white"
             }
            },
            "type": "table"
           }
          ]
         },
         "layout": {
          "annotationdefaults": {
           "arrowcolor": "#2a3f5f",
           "arrowhead": 0,
           "arrowwidth": 1
          },
          "autotypenumbers": "strict",
          "coloraxis": {
           "colorbar": {
            "outlinewidth": 0,
            "ticks": ""
           }
          },
          "colorscale": {
           "diverging": [
            [
             0,
             "#8e0152"
            ],
            [
             0.1,
             "#c51b7d"
            ],
            [
             0.2,
             "#de77ae"
            ],
            [
             0.3,
             "#f1b6da"
            ],
            [
             0.4,
             "#fde0ef"
            ],
            [
             0.5,
             "#f7f7f7"
            ],
            [
             0.6,
             "#e6f5d0"
            ],
            [
             0.7,
             "#b8e186"
            ],
            [
             0.8,
             "#7fbc41"
            ],
            [
             0.9,
             "#4d9221"
            ],
            [
             1,
             "#276419"
            ]
           ],
           "sequential": [
            [
             0,
             "#0d0887"
            ],
            [
             0.1111111111111111,
             "#46039f"
            ],
            [
             0.2222222222222222,
             "#7201a8"
            ],
            [
             0.3333333333333333,
             "#9c179e"
            ],
            [
             0.4444444444444444,
             "#bd3786"
            ],
            [
             0.5555555555555556,
             "#d8576b"
            ],
            [
             0.6666666666666666,
             "#ed7953"
            ],
            [
             0.7777777777777778,
             "#fb9f3a"
            ],
            [
             0.8888888888888888,
             "#fdca26"
            ],
            [
             1,
             "#f0f921"
            ]
           ],
           "sequentialminus": [
            [
             0,
             "#0d0887"
            ],
            [
             0.1111111111111111,
             "#46039f"
            ],
            [
             0.2222222222222222,
             "#7201a8"
            ],
            [
             0.3333333333333333,
             "#9c179e"
            ],
            [
             0.4444444444444444,
             "#bd3786"
            ],
            [
             0.5555555555555556,
             "#d8576b"
            ],
            [
             0.6666666666666666,
             "#ed7953"
            ],
            [
             0.7777777777777778,
             "#fb9f3a"
            ],
            [
             0.8888888888888888,
             "#fdca26"
            ],
            [
             1,
             "#f0f921"
            ]
           ]
          },
          "colorway": [
           "#636efa",
           "#EF553B",
           "#00cc96",
           "#ab63fa",
           "#FFA15A",
           "#19d3f3",
           "#FF6692",
           "#B6E880",
           "#FF97FF",
           "#FECB52"
          ],
          "font": {
           "color": "#2a3f5f"
          },
          "geo": {
           "bgcolor": "white",
           "lakecolor": "white",
           "landcolor": "#E5ECF6",
           "showlakes": true,
           "showland": true,
           "subunitcolor": "white"
          },
          "hoverlabel": {
           "align": "left"
          },
          "hovermode": "closest",
          "mapbox": {
           "style": "light"
          },
          "paper_bgcolor": "white",
          "plot_bgcolor": "#E5ECF6",
          "polar": {
           "angularaxis": {
            "gridcolor": "white",
            "linecolor": "white",
            "ticks": ""
           },
           "bgcolor": "#E5ECF6",
           "radialaxis": {
            "gridcolor": "white",
            "linecolor": "white",
            "ticks": ""
           }
          },
          "scene": {
           "xaxis": {
            "backgroundcolor": "#E5ECF6",
            "gridcolor": "white",
            "gridwidth": 2,
            "linecolor": "white",
            "showbackground": true,
            "ticks": "",
            "zerolinecolor": "white"
           },
           "yaxis": {
            "backgroundcolor": "#E5ECF6",
            "gridcolor": "white",
            "gridwidth": 2,
            "linecolor": "white",
            "showbackground": true,
            "ticks": "",
            "zerolinecolor": "white"
           },
           "zaxis": {
            "backgroundcolor": "#E5ECF6",
            "gridcolor": "white",
            "gridwidth": 2,
            "linecolor": "white",
            "showbackground": true,
            "ticks": "",
            "zerolinecolor": "white"
           }
          },
          "shapedefaults": {
           "line": {
            "color": "#2a3f5f"
           }
          },
          "ternary": {
           "aaxis": {
            "gridcolor": "white",
            "linecolor": "white",
            "ticks": ""
           },
           "baxis": {
            "gridcolor": "white",
            "linecolor": "white",
            "ticks": ""
           },
           "bgcolor": "#E5ECF6",
           "caxis": {
            "gridcolor": "white",
            "linecolor": "white",
            "ticks": ""
           }
          },
          "title": {
           "x": 0.05
          },
          "xaxis": {
           "automargin": true,
           "gridcolor": "white",
           "linecolor": "white",
           "ticks": "",
           "title": {
            "standoff": 15
           },
           "zerolinecolor": "white",
           "zerolinewidth": 2
          },
          "yaxis": {
           "automargin": true,
           "gridcolor": "white",
           "linecolor": "white",
           "ticks": "",
           "title": {
            "standoff": 15
           },
           "zerolinecolor": "white",
           "zerolinewidth": 2
          }
         }
        },
        "xaxis": {
         "anchor": "y",
         "domain": [
          0,
          1
         ],
         "title": {
          "text": "Closing Date"
         }
        },
        "yaxis": {
         "anchor": "x",
         "domain": [
          0,
          1
         ],
         "title": {
          "text": "Fund"
         }
        }
       }
      }
     },
     "metadata": {},
     "output_type": "display_data"
    }
   ],
   "source": [
    "px.scatter(data_frame = df, x = 'Closing Date', y='Fund', color='State')"
   ]
  },
  {
   "cell_type": "code",
   "execution_count": 274,
   "id": "2361cf0a-fc2c-4f6f-8332-b5321c37f3db",
   "metadata": {},
   "outputs": [],
   "source": [
    "df['Year-Month'] = df['Closing Date'].dt.year.astype(str) \\\n",
    "    + df['Closing Date'].dt.month.astype(str)"
   ]
  },
  {
   "cell_type": "code",
   "execution_count": 275,
   "id": "88f4ac78-de8a-4199-8e8a-23fb4df4d36a",
   "metadata": {},
   "outputs": [
    {
     "data": {
      "text/plain": [
       "0      202010\n",
       "1      202010\n",
       "2       20204\n",
       "3       20202\n",
       "4      201911\n",
       "        ...  \n",
       "558     20017\n",
       "559     20015\n",
       "560     20012\n",
       "561    200012\n",
       "562    200010\n",
       "Name: Year-Month, Length: 563, dtype: object"
      ]
     },
     "execution_count": 275,
     "metadata": {},
     "output_type": "execute_result"
    }
   ],
   "source": [
    "df['Year-Month'] #연도와 월을 따로 출력되게 만들어보자"
   ]
  },
  {
   "cell_type": "code",
   "execution_count": 276,
   "id": "d5072370-d2e5-4d6a-9976-8cedc590ecc4",
   "metadata": {},
   "outputs": [],
   "source": [
    "df['Year'] = df['Closing Date'].dt.year\n",
    "df['Month'] = df['Closing Date'].dt.month\n",
    "df['Month'] = df['Month'].astype(str)\n",
    "df['Month'] = df['Month'].str.zfill(2)\n",
    "df['Year-Month'] = df['Year'].astype(str) + df['Month'].astype(str)"
   ]
  },
  {
   "cell_type": "code",
   "execution_count": 277,
   "id": "795bc8d1-d2a2-4672-a539-2a75cca3e459",
   "metadata": {},
   "outputs": [
    {
     "data": {
      "application/vnd.plotly.v1+json": {
       "config": {
        "plotlyServerURL": "https://plot.ly"
       },
       "data": [
        {
         "hovertemplate": "State=KS<br>Year-Month=%{x}<br>Fund=%{y}<extra></extra>",
         "legendgroup": "KS",
         "marker": {
          "color": "#636efa",
          "symbol": "circle"
         },
         "mode": "markers",
         "name": "KS",
         "orientation": "v",
         "showlegend": true,
         "type": "scatter",
         "x": [
          "202010",
          "201710",
          "201207",
          "201108",
          "201010",
          "201010",
          "201007",
          "200912",
          "200906",
          "200903",
          "200808"
         ],
         "xaxis": "x",
         "y": [
          10538,
          10529,
          10452,
          10388,
          10302,
          10298,
          10269,
          10160,
          10066,
          10046,
          10011
         ],
         "yaxis": "y"
        },
        {
         "hovertemplate": "State=FL<br>Year-Month=%{x}<br>Fund=%{y}<extra></extra>",
         "legendgroup": "FL",
         "marker": {
          "color": "#EF553B",
          "symbol": "circle"
         },
         "mode": "markers",
         "name": "FL",
         "orientation": "v",
         "showlegend": true,
         "type": "scatter",
         "x": [
          "202010",
          "201501",
          "201406",
          "201310",
          "201308",
          "201304",
          "201304",
          "201211",
          "201210",
          "201210",
          "201207",
          "201206",
          "201205",
          "201201",
          "201201",
          "201112",
          "201110",
          "201109",
          "201108",
          "201107",
          "201107",
          "201107",
          "201106",
          "201105",
          "201104",
          "201104",
          "201102",
          "201101",
          "201012",
          "201011",
          "201010",
          "201010",
          "201010",
          "201009",
          "201009",
          "201008",
          "201008",
          "201007",
          "201007",
          "201007",
          "201007",
          "201007",
          "201007",
          "201006",
          "201005",
          "201005",
          "201005",
          "201005",
          "201004",
          "201004",
          "201004",
          "201003",
          "201003",
          "201003",
          "201002",
          "201001",
          "201001",
          "200912",
          "200912",
          "200911",
          "200911",
          "200911",
          "200910",
          "200910",
          "200910",
          "200908",
          "200908",
          "200907",
          "200905",
          "200902",
          "200901",
          "200810",
          "200808",
          "200403",
          "200203",
          "200201"
         ],
         "xaxis": "x",
         "y": [
          10537,
          10510,
          10501,
          10490,
          10484,
          10473,
          10475,
          10465,
          10461,
          10462,
          10454,
          10445,
          10439,
          10421,
          10418,
          10415,
          10408,
          10395,
          10392,
          10381,
          10382,
          10376,
          10370,
          10364,
          10360,
          10362,
          10342,
          10325,
          10324,
          10316,
          10303,
          10300,
          10296,
          10293,
          10286,
          10281,
          10279,
          10272,
          10271,
          10268,
          10260,
          10261,
          10259,
          10253,
          10243,
          10242,
          10241,
          10234,
          10216,
          10210,
          10213,
          10206,
          10197,
          10192,
          10187,
          10181,
          10173,
          10165,
          10158,
          10151,
          10149,
          10148,
          10129,
          10131,
          10130,
          10099,
          10098,
          10095,
          10061,
          10038,
          10032,
          10019,
          10010,
          4663,
          4654,
          4650
         ],
         "yaxis": "y"
        },
        {
         "hovertemplate": "State=WV<br>Year-Month=%{x}<br>Fund=%{y}<extra></extra>",
         "legendgroup": "WV",
         "marker": {
          "color": "#00cc96",
          "symbol": "circle"
         },
         "mode": "markers",
         "name": "WV",
         "orientation": "v",
         "showlegend": true,
         "type": "scatter",
         "x": [
          "202004",
          "200809"
         ],
         "xaxis": "x",
         "y": [
          10536,
          10014
         ],
         "yaxis": "y"
        },
        {
         "hovertemplate": "State=NE<br>Year-Month=%{x}<br>Fund=%{y}<extra></extra>",
         "legendgroup": "NE",
         "marker": {
          "color": "#ab63fa",
          "symbol": "circle"
         },
         "mode": "markers",
         "name": "NE",
         "orientation": "v",
         "showlegend": true,
         "type": "scatter",
         "x": [
          "202002",
          "201111",
          "201006",
          "200902"
         ],
         "xaxis": "x",
         "y": [
          10535,
          10410,
          10248,
          10039
         ],
         "yaxis": "y"
        },
        {
         "hovertemplate": "State=NJ<br>Year-Month=%{x}<br>Fund=%{y}<extra></extra>",
         "legendgroup": "NJ",
         "marker": {
          "color": "#FFA15A",
          "symbol": "circle"
         },
         "mode": "markers",
         "name": "NJ",
         "orientation": "v",
         "showlegend": true,
         "type": "scatter",
         "x": [
          "201911",
          "201701",
          "201204",
          "201110",
          "201009",
          "200907",
          "200905",
          "200402"
         ],
         "xaxis": "x",
         "y": [
          10534,
          10523,
          10433,
          10403,
          10290,
          10097,
          10058,
          6006
         ],
         "yaxis": "y"
        },
        {
         "hovertemplate": "State=OH<br>Year-Month=%{x}<br>Fund=%{y}<extra></extra>",
         "legendgroup": "OH",
         "marker": {
          "color": "#19d3f3",
          "symbol": "circle"
         },
         "mode": "markers",
         "name": "OH",
         "orientation": "v",
         "showlegend": true,
         "type": "scatter",
         "x": [
          "201910",
          "201405",
          "201009",
          "201003",
          "200912",
          "200907",
          "200710",
          "200202",
          "200105"
         ],
         "xaxis": "x",
         "y": [
          10533,
          10499,
          10288,
          10201,
          10155,
          10096,
          10002,
          4652,
          4648
         ],
         "yaxis": "y"
        },
        {
         "hovertemplate": "State=KY<br>Year-Month=%{x}<br>Fund=%{y}<extra></extra>",
         "legendgroup": "KY",
         "marker": {
          "color": "#FF6692",
          "symbol": "circle"
         },
         "mode": "markers",
         "name": "KY",
         "orientation": "v",
         "showlegend": true,
         "type": "scatter",
         "x": [
          "201910",
          "201304",
          "200909"
         ],
         "xaxis": "x",
         "y": [
          10532,
          10474,
          10121
         ],
         "yaxis": "y"
        },
        {
         "hovertemplate": "State=TX<br>Year-Month=%{x}<br>Fund=%{y}<extra></extra>",
         "legendgroup": "TX",
         "marker": {
          "color": "#B6E880",
          "symbol": "circle"
         },
         "mode": "markers",
         "name": "TX",
         "orientation": "v",
         "showlegend": true,
         "type": "scatter",
         "x": [
          "201905",
          "201312",
          "201309",
          "201109",
          "201002",
          "200910",
          "200910",
          "200910",
          "200908",
          "200907",
          "200812",
          "200811",
          "200201"
         ],
         "xaxis": "x",
         "y": [
          10531,
          10491,
          10488,
          10398,
          10186,
          10138,
          10142,
          10141,
          10105,
          10079,
          10026,
          10021,
          4651
         ],
         "yaxis": "y"
        },
        {
         "hovertemplate": "State=IL<br>Year-Month=%{x}<br>Fund=%{y}<extra></extra>",
         "legendgroup": "IL",
         "marker": {
          "color": "#FF97FF",
          "symbol": "circle"
         },
         "mode": "markers",
         "name": "IL",
         "orientation": "v",
         "showlegend": true,
         "type": "scatter",
         "x": [
          "201712",
          "201705",
          "201701",
          "201505",
          "201501",
          "201410",
          "201407",
          "201406",
          "201405",
          "201401",
          "201302",
          "201211",
          "201209",
          "201208",
          "201207",
          "201206",
          "201203",
          "201203",
          "201202",
          "201110",
          "201110",
          "201108",
          "201108",
          "201107",
          "201104",
          "201103",
          "201102",
          "201102",
          "201010",
          "201008",
          "201008",
          "201008",
          "201006",
          "201005",
          "201004",
          "201004",
          "201004",
          "201004",
          "201004",
          "201004",
          "201004",
          "201003",
          "201002",
          "201001",
          "200912",
          "200912",
          "200910",
          "200910",
          "200910",
          "200909",
          "200909",
          "200909",
          "200907",
          "200907",
          "200907",
          "200907",
          "200907",
          "200907",
          "200907",
          "200906",
          "200905",
          "200905",
          "200902",
          "200902",
          "200901",
          "200810",
          "200206",
          "200107",
          "200012"
         ],
         "xaxis": "x",
         "y": [
          10530,
          10528,
          10524,
          10514,
          10511,
          10507,
          10505,
          10502,
          10498,
          10492,
          10470,
          10464,
          10459,
          10456,
          10453,
          10442,
          10431,
          10429,
          10424,
          10409,
          10402,
          10390,
          10386,
          10374,
          10352,
          10350,
          10347,
          10337,
          10301,
          10284,
          10277,
          10276,
          10246,
          10236,
          10224,
          10223,
          10221,
          10222,
          10220,
          10219,
          10218,
          10191,
          10184,
          10170,
          10166,
          10154,
          10140,
          10137,
          10128,
          10117,
          10115,
          10113,
          10094,
          10074,
          10078,
          10073,
          10075,
          10077,
          10076,
          10064,
          10063,
          10062,
          10042,
          10037,
          10028,
          10017,
          6005,
          6004,
          4646
         ],
         "yaxis": "y"
        },
        {
         "hovertemplate": "State=WI<br>Year-Month=%{x}<br>Fund=%{y}<extra></extra>",
         "legendgroup": "WI",
         "marker": {
          "color": "#FECB52",
          "symbol": "circle"
         },
         "mode": "markers",
         "name": "WI",
         "orientation": "v",
         "showlegend": true,
         "type": "scatter",
         "x": [
          "201705",
          "201603",
          "201308",
          "201305",
          "201103",
          "201102",
          "201101",
          "201011",
          "201009",
          "200910",
          "200305"
         ],
         "xaxis": "x",
         "y": [
          10527,
          10518,
          10485,
          10478,
          10348,
          10339,
          10332,
          10315,
          10291,
          10132,
          4661
         ],
         "yaxis": "y"
        },
        {
         "hovertemplate": "State=LA<br>Year-Month=%{x}<br>Fund=%{y}<extra></extra>",
         "legendgroup": "LA",
         "marker": {
          "color": "#636efa",
          "symbol": "circle"
         },
         "mode": "markers",
         "name": "LA",
         "orientation": "v",
         "showlegend": true,
         "type": "scatter",
         "x": [
          "201704",
          "201111",
          "201003",
          "200212"
         ],
         "xaxis": "x",
         "y": [
          10526,
          10413,
          10196,
          4659
         ],
         "yaxis": "y"
        },
        {
         "hovertemplate": "State=UT<br>Year-Month=%{x}<br>Fund=%{y}<extra></extra>",
         "legendgroup": "UT",
         "marker": {
          "color": "#EF553B",
          "symbol": "circle"
         },
         "mode": "markers",
         "name": "UT",
         "orientation": "v",
         "showlegend": true,
         "type": "scatter",
         "x": [
          "201703",
          "201111",
          "201003",
          "201003",
          "201001",
          "200905",
          "200901",
          "200406"
         ],
         "xaxis": "x",
         "y": [
          10525,
          10411,
          10200,
          10193,
          10171,
          10057,
          10031,
          4665
         ],
         "yaxis": "y"
        },
        {
         "hovertemplate": "State=AR<br>Year-Month=%{x}<br>Fund=%{y}<extra></extra>",
         "legendgroup": "AR",
         "marker": {
          "color": "#00cc96",
          "symbol": "circle"
         },
         "mode": "markers",
         "name": "AR",
         "orientation": "v",
         "showlegend": true,
         "type": "scatter",
         "x": [
          "201609",
          "201012",
          "200805",
          "200109"
         ],
         "xaxis": "x",
         "y": [
          10522,
          10322,
          10005,
          4649
         ],
         "yaxis": "y"
        },
        {
         "hovertemplate": "State=GA<br>Year-Month=%{x}<br>Fund=%{y}<extra></extra>",
         "legendgroup": "GA",
         "marker": {
          "color": "#ab63fa",
          "symbol": "circle"
         },
         "mode": "markers",
         "name": "GA",
         "orientation": "v",
         "showlegend": true,
         "type": "scatter",
         "x": [
          "201608",
          "201510",
          "201502",
          "201407",
          "201305",
          "201304",
          "201303",
          "201211",
          "201207",
          "201207",
          "201207",
          "201207",
          "201206",
          "201203",
          "201203",
          "201202",
          "201201",
          "201111",
          "201110",
          "201110",
          "201110",
          "201109",
          "201109",
          "201108",
          "201107",
          "201107",
          "201106",
          "201106",
          "201105",
          "201105",
          "201104",
          "201104",
          "201104",
          "201104",
          "201102",
          "201102",
          "201102",
          "201102",
          "201101",
          "201101",
          "201012",
          "201012",
          "201012",
          "201011",
          "201011",
          "201010",
          "201010",
          "201009",
          "201009",
          "201009",
          "201007",
          "201007",
          "201006",
          "201005",
          "201003",
          "201003",
          "201003",
          "201003",
          "201003",
          "201001",
          "201001",
          "200912",
          "200912",
          "200912",
          "200912",
          "200911",
          "200910",
          "200909",
          "200908",
          "200908",
          "200907",
          "200907",
          "200907",
          "200907",
          "200907",
          "200907",
          "200907",
          "200906",
          "200906",
          "200906",
          "200905",
          "200904",
          "200903",
          "200903",
          "200903",
          "200902",
          "200812",
          "200812",
          "200811",
          "200810",
          "200808",
          "200709",
          "200209"
         ],
         "xaxis": "x",
         "y": [
          10521,
          10516,
          10512,
          10504,
          10481,
          10476,
          10471,
          10466,
          10455,
          10450,
          10451,
          10448,
          10446,
          10430,
          10428,
          10426,
          10419,
          10412,
          10406,
          10407,
          10404,
          10393,
          10394,
          10391,
          10377,
          10378,
          10372,
          10371,
          10366,
          10365,
          10363,
          10361,
          10355,
          10353,
          10344,
          10345,
          10338,
          10336,
          10329,
          10327,
          10323,
          10319,
          10320,
          10312,
          10313,
          10304,
          10305,
          10292,
          10289,
          10287,
          10274,
          10265,
          10251,
          10238,
          10208,
          10207,
          10202,
          10199,
          10198,
          10180,
          10179,
          10164,
          10153,
          10157,
          10152,
          10145,
          10127,
          10122,
          10108,
          10107,
          10088,
          10087,
          10085,
          10090,
          10089,
          10086,
          10084,
          10069,
          10068,
          10067,
          10059,
          10053,
          10048,
          10047,
          10044,
          10036,
          10027,
          10025,
          10022,
          10018,
          10012,
          10001,
          4657
         ],
         "yaxis": "y"
        },
        {
         "hovertemplate": "State=PA<br>Year-Month=%{x}<br>Fund=%{y}<extra></extra>",
         "legendgroup": "PA",
         "marker": {
          "color": "#FFA15A",
          "symbol": "circle"
         },
         "mode": "markers",
         "name": "PA",
         "orientation": "v",
         "showlegend": true,
         "type": "scatter",
         "x": [
          "201605",
          "201402",
          "201210",
          "201201",
          "201108",
          "201012",
          "201011",
          "200908",
          "200702",
          "200311"
         ],
         "xaxis": "x",
         "y": [
          10520,
          10496,
          10463,
          10417,
          10389,
          10317,
          10314,
          10104,
          10000,
          4662
         ],
         "yaxis": "y"
        },
        {
         "hovertemplate": "State=TN<br>Year-Month=%{x}<br>Fund=%{y}<extra></extra>",
         "legendgroup": "TN",
         "marker": {
          "color": "#19d3f3",
          "symbol": "circle"
         },
         "mode": "markers",
         "name": "TN",
         "orientation": "v",
         "showlegend": true,
         "type": "scatter",
         "x": [
          "201604",
          "201308",
          "201306",
          "201206",
          "201201",
          "201201",
          "200211"
         ],
         "xaxis": "x",
         "y": [
          10519,
          10486,
          10483,
          10447,
          10420,
          10423,
          4658
         ],
         "yaxis": "y"
        },
        {
         "hovertemplate": "State=WA<br>Year-Month=%{x}<br>Fund=%{y}<extra></extra>",
         "legendgroup": "WA",
         "marker": {
          "color": "#FF6692",
          "symbol": "circle"
         },
         "mode": "markers",
         "name": "WA",
         "orientation": "v",
         "showlegend": true,
         "type": "scatter",
         "x": [
          "201510",
          "201301",
          "201108",
          "201105",
          "201105",
          "201011",
          "201010",
          "201009",
          "201007",
          "201006",
          "201004",
          "201004",
          "201002",
          "201001",
          "201001",
          "201001",
          "200909",
          "200905",
          "200901"
         ],
         "xaxis": "x",
         "y": [
          10517,
          10468,
          10387,
          10368,
          10367,
          10309,
          10295,
          10294,
          10275,
          10249,
          10228,
          10212,
          10189,
          10178,
          10172,
          10168,
          10119,
          10060,
          10029
         ],
         "yaxis": "y"
        },
        {
         "hovertemplate": "State=CO<br>Year-Month=%{x}<br>Fund=%{y}<extra></extra>",
         "legendgroup": "CO",
         "marker": {
          "color": "#B6E880",
          "symbol": "circle"
         },
         "mode": "markers",
         "name": "CO",
         "orientation": "v",
         "showlegend": true,
         "type": "scatter",
         "x": [
          "201507",
          "201110",
          "201107",
          "201107",
          "201107",
          "201101",
          "201101",
          "200910",
          "200904",
          "200903"
         ],
         "xaxis": "x",
         "y": [
          10515,
          10405,
          10380,
          10375,
          10373,
          10334,
          10331,
          10123,
          10050,
          10045
         ],
         "yaxis": "y"
        },
        {
         "hovertemplate": "State=PR<br>Year-Month=%{x}<br>Fund=%{y}<extra></extra>",
         "legendgroup": "PR",
         "marker": {
          "color": "#FF97FF",
          "symbol": "circle"
         },
         "mode": "markers",
         "name": "PR",
         "orientation": "v",
         "showlegend": true,
         "type": "scatter",
         "x": [
          "201502",
          "201004",
          "201004",
          "201004"
         ],
         "xaxis": "x",
         "y": [
          10513,
          10231,
          10230,
          10229
         ],
         "yaxis": "y"
        },
        {
         "hovertemplate": "State=MN<br>Year-Month=%{x}<br>Fund=%{y}<extra></extra>",
         "legendgroup": "MN",
         "marker": {
          "color": "#FECB52",
          "symbol": "circle"
         },
         "mode": "markers",
         "name": "MN",
         "orientation": "v",
         "showlegend": true,
         "type": "scatter",
         "x": [
          "201412",
          "201301",
          "201209",
          "201204",
          "201202",
          "201201",
          "201110",
          "201104",
          "201012",
          "201007",
          "201005",
          "201005",
          "201003",
          "201002",
          "201001",
          "201001",
          "200911",
          "200910",
          "200910",
          "200909",
          "200908",
          "200906",
          "200805"
         ],
         "xaxis": "x",
         "y": [
          10509,
          10469,
          10457,
          10436,
          10427,
          10422,
          10399,
          10357,
          10321,
          10264,
          10240,
          10233,
          10203,
          10183,
          10182,
          10169,
          10143,
          10133,
          10124,
          10118,
          10111,
          10070,
          10006
         ],
         "yaxis": "y"
        },
        {
         "hovertemplate": "State=CA<br>Year-Month=%{x}<br>Fund=%{y}<extra></extra>",
         "legendgroup": "CA",
         "marker": {
          "color": "#636efa",
          "symbol": "circle"
         },
         "mode": "markers",
         "name": "CA",
         "orientation": "v",
         "showlegend": true,
         "type": "scatter",
         "x": [
          "201411",
          "201204",
          "201109",
          "201102",
          "201102",
          "201102",
          "201011",
          "201011",
          "201008",
          "201008",
          "201008",
          "201008",
          "201005",
          "201005",
          "201004",
          "201004",
          "201002",
          "201001",
          "200912",
          "200912",
          "200911",
          "200911",
          "200910",
          "200910",
          "200910",
          "200910",
          "200908",
          "200907",
          "200907",
          "200906",
          "200906",
          "200904",
          "200902",
          "200902",
          "200901",
          "200811",
          "200811",
          "200811",
          "200807",
          "200807",
          "200302"
         ],
         "xaxis": "x",
         "y": [
          10508,
          10437,
          10397,
          10346,
          10343,
          10340,
          10307,
          10310,
          10285,
          10282,
          10278,
          10283,
          10244,
          10232,
          10217,
          10214,
          10185,
          10177,
          10167,
          10161,
          10150,
          10147,
          10139,
          10134,
          10135,
          10126,
          10110,
          10082,
          10083,
          10072,
          10071,
          10054,
          10034,
          10035,
          10030,
          10024,
          10023,
          10020,
          10009,
          10007,
          4660
         ],
         "yaxis": "y"
        },
        {
         "hovertemplate": "State=MD<br>Year-Month=%{x}<br>Fund=%{y}<extra></extra>",
         "legendgroup": "MD",
         "marker": {
          "color": "#EF553B",
          "symbol": "circle"
         },
         "mode": "markers",
         "name": "MD",
         "orientation": "v",
         "showlegend": true,
         "type": "scatter",
         "x": [
          "201410",
          "201405",
          "201204",
          "201204",
          "201011",
          "201007",
          "201007",
          "201003",
          "200908",
          "200901"
         ],
         "xaxis": "x",
         "y": [
          10506,
          10500,
          10435,
          10434,
          10308,
          10257,
          10255,
          10190,
          10109,
          10033
         ],
         "yaxis": "y"
        },
        {
         "hovertemplate": "State=OK<br>Year-Month=%{x}<br>Fund=%{y}<extra></extra>",
         "legendgroup": "OK",
         "marker": {
          "color": "#00cc96",
          "symbol": "circle"
         },
         "mode": "markers",
         "name": "OK",
         "orientation": "v",
         "showlegend": true,
         "type": "scatter",
         "x": [
          "201406",
          "201401",
          "201206",
          "201103",
          "201101",
          "201007",
          "200907"
         ],
         "xaxis": "x",
         "y": [
          10503,
          10493,
          10443,
          10349,
          10335,
          10256,
          10093
         ],
         "yaxis": "y"
        },
        {
         "hovertemplate": "State=SC<br>Year-Month=%{x}<br>Fund=%{y}<extra></extra>",
         "legendgroup": "SC",
         "marker": {
          "color": "#ab63fa",
          "symbol": "circle"
         },
         "mode": "markers",
         "name": "SC",
         "orientation": "v",
         "showlegend": true,
         "type": "scatter",
         "x": [
          "201404",
          "201206",
          "201204",
          "201107",
          "201106",
          "201101",
          "201007",
          "201007",
          "201007",
          "201004"
         ],
         "xaxis": "x",
         "y": [
          10497,
          10441,
          10438,
          10383,
          10369,
          10328,
          10270,
          10263,
          10262,
          10209
         ],
         "yaxis": "y"
        },
        {
         "hovertemplate": "State=VA<br>Year-Month=%{x}<br>Fund=%{y}<extra></extra>",
         "legendgroup": "VA",
         "marker": {
          "color": "#FFA15A",
          "symbol": "circle"
         },
         "mode": "markers",
         "name": "VA",
         "orientation": "v",
         "showlegend": true,
         "type": "scatter",
         "x": [
          "201402",
          "201109",
          "201107",
          "201008",
          "200912"
         ],
         "xaxis": "x",
         "y": [
          10495,
          10396,
          10385,
          10280,
          10156
         ],
         "yaxis": "y"
        },
        {
         "hovertemplate": "State=ID<br>Year-Month=%{x}<br>Fund=%{y}<extra></extra>",
         "legendgroup": "ID",
         "marker": {
          "color": "#19d3f3",
          "symbol": "circle"
         },
         "mode": "markers",
         "name": "ID",
         "orientation": "v",
         "showlegend": true,
         "type": "scatter",
         "x": [
          "201401",
          "200904"
         ],
         "xaxis": "x",
         "y": [
          10494,
          10055
         ],
         "yaxis": "y"
        },
        {
         "hovertemplate": "State=CT<br>Year-Month=%{x}<br>Fund=%{y}<extra></extra>",
         "legendgroup": "CT",
         "marker": {
          "color": "#FF6692",
          "symbol": "circle"
         },
         "mode": "markers",
         "name": "CT",
         "orientation": "v",
         "showlegend": true,
         "type": "scatter",
         "x": [
          "201309",
          "200206"
         ],
         "xaxis": "x",
         "y": [
          10489,
          4656
         ],
         "yaxis": "y"
        },
        {
         "hovertemplate": "State=AZ<br>Year-Month=%{x}<br>Fund=%{y}<extra></extra>",
         "legendgroup": "AZ",
         "marker": {
          "color": "#B6E880",
          "symbol": "circle"
         },
         "mode": "markers",
         "name": "AZ",
         "orientation": "v",
         "showlegend": true,
         "type": "scatter",
         "x": [
          "201308",
          "201305",
          "201304",
          "201112",
          "201107",
          "201101",
          "201011",
          "201010",
          "201005",
          "201003",
          "200912",
          "200910",
          "200909",
          "200908",
          "200908",
          "200202"
         ],
         "xaxis": "x",
         "y": [
          10487,
          10479,
          10472,
          10416,
          10379,
          10326,
          10311,
          10306,
          10235,
          10205,
          10159,
          10136,
          10114,
          10101,
          10102,
          4653
         ],
         "yaxis": "y"
        },
        {
         "hovertemplate": "State=NV<br>Year-Month=%{x}<br>Fund=%{y}<extra></extra>",
         "legendgroup": "NV",
         "marker": {
          "color": "#FF97FF",
          "symbol": "circle"
         },
         "mode": "markers",
         "name": "NV",
         "orientation": "v",
         "showlegend": true,
         "type": "scatter",
         "x": [
          "201306",
          "201104",
          "201007",
          "201006",
          "201005",
          "201002",
          "200908",
          "200904",
          "200902",
          "200809",
          "200809",
          "200807"
         ],
         "xaxis": "x",
         "y": [
          10482,
          10351,
          10267,
          10250,
          10245,
          10188,
          10100,
          10051,
          10043,
          10015,
          10013,
          10008
         ],
         "yaxis": "y"
        },
        {
         "hovertemplate": "State=NC<br>Year-Month=%{x}<br>Fund=%{y}<extra></extra>",
         "legendgroup": "NC",
         "marker": {
          "color": "#FECB52",
          "symbol": "circle"
         },
         "mode": "markers",
         "name": "NC",
         "orientation": "v",
         "showlegend": true,
         "type": "scatter",
         "x": [
          "201305",
          "201304",
          "201206",
          "201110",
          "201101",
          "200906",
          "200904"
         ],
         "xaxis": "x",
         "y": [
          10480,
          10477,
          10444,
          10401,
          10330,
          10065,
          10049
         ],
         "yaxis": "y"
        },
        {
         "hovertemplate": "State=MO<br>Year-Month=%{x}<br>Fund=%{y}<extra></extra>",
         "legendgroup": "MO",
         "marker": {
          "color": "#636efa",
          "symbol": "circle"
         },
         "mode": "markers",
         "name": "MO",
         "orientation": "v",
         "showlegend": true,
         "type": "scatter",
         "x": [
          "201212",
          "201210",
          "201209",
          "201207",
          "201110",
          "201010",
          "201010",
          "201005",
          "201004",
          "201004",
          "201001",
          "200911",
          "200909",
          "200904",
          "200803",
          "200801"
         ],
         "xaxis": "x",
         "y": [
          10467,
          10460,
          10458,
          10449,
          10400,
          10297,
          10299,
          10239,
          10225,
          10227,
          10174,
          10146,
          10112,
          10052,
          10004,
          10003
         ],
         "yaxis": "y"
        },
        {
         "hovertemplate": "State=AL<br>Year-Month=%{x}<br>Fund=%{y}<extra></extra>",
         "legendgroup": "AL",
         "marker": {
          "color": "#EF553B",
          "symbol": "circle"
         },
         "mode": "markers",
         "name": "AL",
         "orientation": "v",
         "showlegend": true,
         "type": "scatter",
         "x": [
          "201205",
          "201104",
          "201104",
          "201003",
          "200912",
          "200908",
          "200908"
         ],
         "xaxis": "x",
         "y": [
          10440,
          10358,
          10356,
          10204,
          10163,
          10106,
          10103
         ],
         "yaxis": "y"
        },
        {
         "hovertemplate": "State=MI<br>Year-Month=%{x}<br>Fund=%{y}<extra></extra>",
         "legendgroup": "MI",
         "marker": {
          "color": "#00cc96",
          "symbol": "circle"
         },
         "mode": "markers",
         "name": "MI",
         "orientation": "v",
         "showlegend": true,
         "type": "scatter",
         "x": [
          "201203",
          "201104",
          "201102",
          "201012",
          "201007",
          "201005",
          "201004",
          "201004",
          "200912",
          "200911",
          "200910",
          "200904",
          "200810",
          "200203"
         ],
         "xaxis": "x",
         "y": [
          10432,
          10359,
          10341,
          10318,
          10258,
          10237,
          10226,
          10215,
          10162,
          10144,
          10125,
          10056,
          10016,
          4655
         ],
         "yaxis": "y"
        },
        {
         "hovertemplate": "State=IN<br>Year-Month=%{x}<br>Fund=%{y}<extra></extra>",
         "legendgroup": "IN",
         "marker": {
          "color": "#ab63fa",
          "symbol": "circle"
         },
         "mode": "markers",
         "name": "IN",
         "orientation": "v",
         "showlegend": true,
         "type": "scatter",
         "x": [
          "201202",
          "201107",
          "200909"
         ],
         "xaxis": "x",
         "y": [
          10425,
          10384,
          10120
         ],
         "yaxis": "y"
        },
        {
         "hovertemplate": "State=IA<br>Year-Month=%{x}<br>Fund=%{y}<extra></extra>",
         "legendgroup": "IA",
         "marker": {
          "color": "#FFA15A",
          "symbol": "circle"
         },
         "mode": "markers",
         "name": "IA",
         "orientation": "v",
         "showlegend": true,
         "type": "scatter",
         "x": [
          "201111",
          "200909"
         ],
         "xaxis": "x",
         "y": [
          10414,
          10116
         ],
         "yaxis": "y"
        },
        {
         "hovertemplate": "State=MS<br>Year-Month=%{x}<br>Fund=%{y}<extra></extra>",
         "legendgroup": "MS",
         "marker": {
          "color": "#19d3f3",
          "symbol": "circle"
         },
         "mode": "markers",
         "name": "MS",
         "orientation": "v",
         "showlegend": true,
         "type": "scatter",
         "x": [
          "201104",
          "201006"
         ],
         "xaxis": "x",
         "y": [
          10354,
          10247
         ],
         "yaxis": "y"
        },
        {
         "hovertemplate": "State=NM<br>Year-Month=%{x}<br>Fund=%{y}<extra></extra>",
         "legendgroup": "NM",
         "marker": {
          "color": "#FF6692",
          "symbol": "circle"
         },
         "mode": "markers",
         "name": "NM",
         "orientation": "v",
         "showlegend": true,
         "type": "scatter",
         "x": [
          "201101",
          "201006",
          "201001"
         ],
         "xaxis": "x",
         "y": [
          10333,
          10252,
          10175
         ],
         "yaxis": "y"
        },
        {
         "hovertemplate": "State=OR<br>Year-Month=%{x}<br>Fund=%{y}<extra></extra>",
         "legendgroup": "OR",
         "marker": {
          "color": "#B6E880",
          "symbol": "circle"
         },
         "mode": "markers",
         "name": "OR",
         "orientation": "v",
         "showlegend": true,
         "type": "scatter",
         "x": [
          "201007",
          "201007",
          "201001",
          "200908",
          "200902",
          "200902"
         ],
         "xaxis": "x",
         "y": [
          10273,
          10266,
          10176,
          10092,
          10041,
          10040
         ],
         "yaxis": "y"
        },
        {
         "hovertemplate": "State=NY<br>Year-Month=%{x}<br>Fund=%{y}<extra></extra>",
         "legendgroup": "NY",
         "marker": {
          "color": "#FF97FF",
          "symbol": "circle"
         },
         "mode": "markers",
         "name": "NY",
         "orientation": "v",
         "showlegend": true,
         "type": "scatter",
         "x": [
          "201007",
          "201003",
          "201003",
          "200907",
          "200403"
         ],
         "xaxis": "x",
         "y": [
          10254,
          10195,
          10194,
          10091,
          4664
         ],
         "yaxis": "y"
        },
        {
         "hovertemplate": "State=MA<br>Year-Month=%{x}<br>Fund=%{y}<extra></extra>",
         "legendgroup": "MA",
         "marker": {
          "color": "#FECB52",
          "symbol": "circle"
         },
         "mode": "markers",
         "name": "MA",
         "orientation": "v",
         "showlegend": true,
         "type": "scatter",
         "x": [
          "201004"
         ],
         "xaxis": "x",
         "y": [
          10211
         ],
         "yaxis": "y"
        },
        {
         "hovertemplate": "State=SD<br>Year-Month=%{x}<br>Fund=%{y}<extra></extra>",
         "legendgroup": "SD",
         "marker": {
          "color": "#636efa",
          "symbol": "circle"
         },
         "mode": "markers",
         "name": "SD",
         "orientation": "v",
         "showlegend": true,
         "type": "scatter",
         "x": [
          "200907"
         ],
         "xaxis": "x",
         "y": [
          10081
         ],
         "yaxis": "y"
        },
        {
         "hovertemplate": "State=WY<br>Year-Month=%{x}<br>Fund=%{y}<extra></extra>",
         "legendgroup": "WY",
         "marker": {
          "color": "#EF553B",
          "symbol": "circle"
         },
         "mode": "markers",
         "name": "WY",
         "orientation": "v",
         "showlegend": true,
         "type": "scatter",
         "x": [
          "200907"
         ],
         "xaxis": "x",
         "y": [
          10080
         ],
         "yaxis": "y"
        },
        {
         "hovertemplate": "State=NH<br>Year-Month=%{x}<br>Fund=%{y}<extra></extra>",
         "legendgroup": "NH",
         "marker": {
          "color": "#00cc96",
          "symbol": "circle"
         },
         "mode": "markers",
         "name": "NH",
         "orientation": "v",
         "showlegend": true,
         "type": "scatter",
         "x": [
          "200102"
         ],
         "xaxis": "x",
         "y": [
          4647
         ],
         "yaxis": "y"
        },
        {
         "hovertemplate": "State=HI<br>Year-Month=%{x}<br>Fund=%{y}<extra></extra>",
         "legendgroup": "HI",
         "marker": {
          "color": "#ab63fa",
          "symbol": "circle"
         },
         "mode": "markers",
         "name": "HI",
         "orientation": "v",
         "showlegend": true,
         "type": "scatter",
         "x": [
          "200010"
         ],
         "xaxis": "x",
         "y": [
          4645
         ],
         "yaxis": "y"
        }
       ],
       "layout": {
        "legend": {
         "title": {
          "text": "State"
         },
         "tracegroupgap": 0
        },
        "margin": {
         "t": 60
        },
        "template": {
         "data": {
          "bar": [
           {
            "error_x": {
             "color": "#2a3f5f"
            },
            "error_y": {
             "color": "#2a3f5f"
            },
            "marker": {
             "line": {
              "color": "#E5ECF6",
              "width": 0.5
             },
             "pattern": {
              "fillmode": "overlay",
              "size": 10,
              "solidity": 0.2
             }
            },
            "type": "bar"
           }
          ],
          "barpolar": [
           {
            "marker": {
             "line": {
              "color": "#E5ECF6",
              "width": 0.5
             },
             "pattern": {
              "fillmode": "overlay",
              "size": 10,
              "solidity": 0.2
             }
            },
            "type": "barpolar"
           }
          ],
          "carpet": [
           {
            "aaxis": {
             "endlinecolor": "#2a3f5f",
             "gridcolor": "white",
             "linecolor": "white",
             "minorgridcolor": "white",
             "startlinecolor": "#2a3f5f"
            },
            "baxis": {
             "endlinecolor": "#2a3f5f",
             "gridcolor": "white",
             "linecolor": "white",
             "minorgridcolor": "white",
             "startlinecolor": "#2a3f5f"
            },
            "type": "carpet"
           }
          ],
          "choropleth": [
           {
            "colorbar": {
             "outlinewidth": 0,
             "ticks": ""
            },
            "type": "choropleth"
           }
          ],
          "contour": [
           {
            "colorbar": {
             "outlinewidth": 0,
             "ticks": ""
            },
            "colorscale": [
             [
              0,
              "#0d0887"
             ],
             [
              0.1111111111111111,
              "#46039f"
             ],
             [
              0.2222222222222222,
              "#7201a8"
             ],
             [
              0.3333333333333333,
              "#9c179e"
             ],
             [
              0.4444444444444444,
              "#bd3786"
             ],
             [
              0.5555555555555556,
              "#d8576b"
             ],
             [
              0.6666666666666666,
              "#ed7953"
             ],
             [
              0.7777777777777778,
              "#fb9f3a"
             ],
             [
              0.8888888888888888,
              "#fdca26"
             ],
             [
              1,
              "#f0f921"
             ]
            ],
            "type": "contour"
           }
          ],
          "contourcarpet": [
           {
            "colorbar": {
             "outlinewidth": 0,
             "ticks": ""
            },
            "type": "contourcarpet"
           }
          ],
          "heatmap": [
           {
            "colorbar": {
             "outlinewidth": 0,
             "ticks": ""
            },
            "colorscale": [
             [
              0,
              "#0d0887"
             ],
             [
              0.1111111111111111,
              "#46039f"
             ],
             [
              0.2222222222222222,
              "#7201a8"
             ],
             [
              0.3333333333333333,
              "#9c179e"
             ],
             [
              0.4444444444444444,
              "#bd3786"
             ],
             [
              0.5555555555555556,
              "#d8576b"
             ],
             [
              0.6666666666666666,
              "#ed7953"
             ],
             [
              0.7777777777777778,
              "#fb9f3a"
             ],
             [
              0.8888888888888888,
              "#fdca26"
             ],
             [
              1,
              "#f0f921"
             ]
            ],
            "type": "heatmap"
           }
          ],
          "heatmapgl": [
           {
            "colorbar": {
             "outlinewidth": 0,
             "ticks": ""
            },
            "colorscale": [
             [
              0,
              "#0d0887"
             ],
             [
              0.1111111111111111,
              "#46039f"
             ],
             [
              0.2222222222222222,
              "#7201a8"
             ],
             [
              0.3333333333333333,
              "#9c179e"
             ],
             [
              0.4444444444444444,
              "#bd3786"
             ],
             [
              0.5555555555555556,
              "#d8576b"
             ],
             [
              0.6666666666666666,
              "#ed7953"
             ],
             [
              0.7777777777777778,
              "#fb9f3a"
             ],
             [
              0.8888888888888888,
              "#fdca26"
             ],
             [
              1,
              "#f0f921"
             ]
            ],
            "type": "heatmapgl"
           }
          ],
          "histogram": [
           {
            "marker": {
             "pattern": {
              "fillmode": "overlay",
              "size": 10,
              "solidity": 0.2
             }
            },
            "type": "histogram"
           }
          ],
          "histogram2d": [
           {
            "colorbar": {
             "outlinewidth": 0,
             "ticks": ""
            },
            "colorscale": [
             [
              0,
              "#0d0887"
             ],
             [
              0.1111111111111111,
              "#46039f"
             ],
             [
              0.2222222222222222,
              "#7201a8"
             ],
             [
              0.3333333333333333,
              "#9c179e"
             ],
             [
              0.4444444444444444,
              "#bd3786"
             ],
             [
              0.5555555555555556,
              "#d8576b"
             ],
             [
              0.6666666666666666,
              "#ed7953"
             ],
             [
              0.7777777777777778,
              "#fb9f3a"
             ],
             [
              0.8888888888888888,
              "#fdca26"
             ],
             [
              1,
              "#f0f921"
             ]
            ],
            "type": "histogram2d"
           }
          ],
          "histogram2dcontour": [
           {
            "colorbar": {
             "outlinewidth": 0,
             "ticks": ""
            },
            "colorscale": [
             [
              0,
              "#0d0887"
             ],
             [
              0.1111111111111111,
              "#46039f"
             ],
             [
              0.2222222222222222,
              "#7201a8"
             ],
             [
              0.3333333333333333,
              "#9c179e"
             ],
             [
              0.4444444444444444,
              "#bd3786"
             ],
             [
              0.5555555555555556,
              "#d8576b"
             ],
             [
              0.6666666666666666,
              "#ed7953"
             ],
             [
              0.7777777777777778,
              "#fb9f3a"
             ],
             [
              0.8888888888888888,
              "#fdca26"
             ],
             [
              1,
              "#f0f921"
             ]
            ],
            "type": "histogram2dcontour"
           }
          ],
          "mesh3d": [
           {
            "colorbar": {
             "outlinewidth": 0,
             "ticks": ""
            },
            "type": "mesh3d"
           }
          ],
          "parcoords": [
           {
            "line": {
             "colorbar": {
              "outlinewidth": 0,
              "ticks": ""
             }
            },
            "type": "parcoords"
           }
          ],
          "pie": [
           {
            "automargin": true,
            "type": "pie"
           }
          ],
          "scatter": [
           {
            "fillpattern": {
             "fillmode": "overlay",
             "size": 10,
             "solidity": 0.2
            },
            "type": "scatter"
           }
          ],
          "scatter3d": [
           {
            "line": {
             "colorbar": {
              "outlinewidth": 0,
              "ticks": ""
             }
            },
            "marker": {
             "colorbar": {
              "outlinewidth": 0,
              "ticks": ""
             }
            },
            "type": "scatter3d"
           }
          ],
          "scattercarpet": [
           {
            "marker": {
             "colorbar": {
              "outlinewidth": 0,
              "ticks": ""
             }
            },
            "type": "scattercarpet"
           }
          ],
          "scattergeo": [
           {
            "marker": {
             "colorbar": {
              "outlinewidth": 0,
              "ticks": ""
             }
            },
            "type": "scattergeo"
           }
          ],
          "scattergl": [
           {
            "marker": {
             "colorbar": {
              "outlinewidth": 0,
              "ticks": ""
             }
            },
            "type": "scattergl"
           }
          ],
          "scattermapbox": [
           {
            "marker": {
             "colorbar": {
              "outlinewidth": 0,
              "ticks": ""
             }
            },
            "type": "scattermapbox"
           }
          ],
          "scatterpolar": [
           {
            "marker": {
             "colorbar": {
              "outlinewidth": 0,
              "ticks": ""
             }
            },
            "type": "scatterpolar"
           }
          ],
          "scatterpolargl": [
           {
            "marker": {
             "colorbar": {
              "outlinewidth": 0,
              "ticks": ""
             }
            },
            "type": "scatterpolargl"
           }
          ],
          "scatterternary": [
           {
            "marker": {
             "colorbar": {
              "outlinewidth": 0,
              "ticks": ""
             }
            },
            "type": "scatterternary"
           }
          ],
          "surface": [
           {
            "colorbar": {
             "outlinewidth": 0,
             "ticks": ""
            },
            "colorscale": [
             [
              0,
              "#0d0887"
             ],
             [
              0.1111111111111111,
              "#46039f"
             ],
             [
              0.2222222222222222,
              "#7201a8"
             ],
             [
              0.3333333333333333,
              "#9c179e"
             ],
             [
              0.4444444444444444,
              "#bd3786"
             ],
             [
              0.5555555555555556,
              "#d8576b"
             ],
             [
              0.6666666666666666,
              "#ed7953"
             ],
             [
              0.7777777777777778,
              "#fb9f3a"
             ],
             [
              0.8888888888888888,
              "#fdca26"
             ],
             [
              1,
              "#f0f921"
             ]
            ],
            "type": "surface"
           }
          ],
          "table": [
           {
            "cells": {
             "fill": {
              "color": "#EBF0F8"
             },
             "line": {
              "color": "white"
             }
            },
            "header": {
             "fill": {
              "color": "#C8D4E3"
             },
             "line": {
              "color": "white"
             }
            },
            "type": "table"
           }
          ]
         },
         "layout": {
          "annotationdefaults": {
           "arrowcolor": "#2a3f5f",
           "arrowhead": 0,
           "arrowwidth": 1
          },
          "autotypenumbers": "strict",
          "coloraxis": {
           "colorbar": {
            "outlinewidth": 0,
            "ticks": ""
           }
          },
          "colorscale": {
           "diverging": [
            [
             0,
             "#8e0152"
            ],
            [
             0.1,
             "#c51b7d"
            ],
            [
             0.2,
             "#de77ae"
            ],
            [
             0.3,
             "#f1b6da"
            ],
            [
             0.4,
             "#fde0ef"
            ],
            [
             0.5,
             "#f7f7f7"
            ],
            [
             0.6,
             "#e6f5d0"
            ],
            [
             0.7,
             "#b8e186"
            ],
            [
             0.8,
             "#7fbc41"
            ],
            [
             0.9,
             "#4d9221"
            ],
            [
             1,
             "#276419"
            ]
           ],
           "sequential": [
            [
             0,
             "#0d0887"
            ],
            [
             0.1111111111111111,
             "#46039f"
            ],
            [
             0.2222222222222222,
             "#7201a8"
            ],
            [
             0.3333333333333333,
             "#9c179e"
            ],
            [
             0.4444444444444444,
             "#bd3786"
            ],
            [
             0.5555555555555556,
             "#d8576b"
            ],
            [
             0.6666666666666666,
             "#ed7953"
            ],
            [
             0.7777777777777778,
             "#fb9f3a"
            ],
            [
             0.8888888888888888,
             "#fdca26"
            ],
            [
             1,
             "#f0f921"
            ]
           ],
           "sequentialminus": [
            [
             0,
             "#0d0887"
            ],
            [
             0.1111111111111111,
             "#46039f"
            ],
            [
             0.2222222222222222,
             "#7201a8"
            ],
            [
             0.3333333333333333,
             "#9c179e"
            ],
            [
             0.4444444444444444,
             "#bd3786"
            ],
            [
             0.5555555555555556,
             "#d8576b"
            ],
            [
             0.6666666666666666,
             "#ed7953"
            ],
            [
             0.7777777777777778,
             "#fb9f3a"
            ],
            [
             0.8888888888888888,
             "#fdca26"
            ],
            [
             1,
             "#f0f921"
            ]
           ]
          },
          "colorway": [
           "#636efa",
           "#EF553B",
           "#00cc96",
           "#ab63fa",
           "#FFA15A",
           "#19d3f3",
           "#FF6692",
           "#B6E880",
           "#FF97FF",
           "#FECB52"
          ],
          "font": {
           "color": "#2a3f5f"
          },
          "geo": {
           "bgcolor": "white",
           "lakecolor": "white",
           "landcolor": "#E5ECF6",
           "showlakes": true,
           "showland": true,
           "subunitcolor": "white"
          },
          "hoverlabel": {
           "align": "left"
          },
          "hovermode": "closest",
          "mapbox": {
           "style": "light"
          },
          "paper_bgcolor": "white",
          "plot_bgcolor": "#E5ECF6",
          "polar": {
           "angularaxis": {
            "gridcolor": "white",
            "linecolor": "white",
            "ticks": ""
           },
           "bgcolor": "#E5ECF6",
           "radialaxis": {
            "gridcolor": "white",
            "linecolor": "white",
            "ticks": ""
           }
          },
          "scene": {
           "xaxis": {
            "backgroundcolor": "#E5ECF6",
            "gridcolor": "white",
            "gridwidth": 2,
            "linecolor": "white",
            "showbackground": true,
            "ticks": "",
            "zerolinecolor": "white"
           },
           "yaxis": {
            "backgroundcolor": "#E5ECF6",
            "gridcolor": "white",
            "gridwidth": 2,
            "linecolor": "white",
            "showbackground": true,
            "ticks": "",
            "zerolinecolor": "white"
           },
           "zaxis": {
            "backgroundcolor": "#E5ECF6",
            "gridcolor": "white",
            "gridwidth": 2,
            "linecolor": "white",
            "showbackground": true,
            "ticks": "",
            "zerolinecolor": "white"
           }
          },
          "shapedefaults": {
           "line": {
            "color": "#2a3f5f"
           }
          },
          "ternary": {
           "aaxis": {
            "gridcolor": "white",
            "linecolor": "white",
            "ticks": ""
           },
           "baxis": {
            "gridcolor": "white",
            "linecolor": "white",
            "ticks": ""
           },
           "bgcolor": "#E5ECF6",
           "caxis": {
            "gridcolor": "white",
            "linecolor": "white",
            "ticks": ""
           }
          },
          "title": {
           "x": 0.05
          },
          "xaxis": {
           "automargin": true,
           "gridcolor": "white",
           "linecolor": "white",
           "ticks": "",
           "title": {
            "standoff": 15
           },
           "zerolinecolor": "white",
           "zerolinewidth": 2
          },
          "yaxis": {
           "automargin": true,
           "gridcolor": "white",
           "linecolor": "white",
           "ticks": "",
           "title": {
            "standoff": 15
           },
           "zerolinecolor": "white",
           "zerolinewidth": 2
          }
         }
        },
        "xaxis": {
         "anchor": "y",
         "domain": [
          0,
          1
         ],
         "title": {
          "text": "Year-Month"
         }
        },
        "yaxis": {
         "anchor": "x",
         "domain": [
          0,
          1
         ],
         "title": {
          "text": "Fund"
         }
        }
       }
      }
     },
     "metadata": {},
     "output_type": "display_data"
    }
   ],
   "source": [
    "px.scatter(data_frame=df, x='Year-Month', y='Fund', color='State')"
   ]
  },
  {
   "cell_type": "code",
   "execution_count": 278,
   "id": "6f2defa2-7c0b-43a1-b756-f5c46954068f",
   "metadata": {},
   "outputs": [
    {
     "data": {
      "text/plain": [
       "0      202010\n",
       "1      202010\n",
       "2      202004\n",
       "3      202002\n",
       "4      201911\n",
       "        ...  \n",
       "558    200107\n",
       "559    200105\n",
       "560    200102\n",
       "561    200012\n",
       "562    200010\n",
       "Name: Year-Month, Length: 563, dtype: object"
      ]
     },
     "execution_count": 278,
     "metadata": {},
     "output_type": "execute_result"
    }
   ],
   "source": [
    "df['Year-Month']"
   ]
  },
  {
   "cell_type": "code",
   "execution_count": 279,
   "id": "6515a7f3-67b2-4f50-a17c-04e4f86c4e30",
   "metadata": {},
   "outputs": [
    {
     "data": {
      "text/plain": [
       "200907    24\n",
       "201004    23\n",
       "201007    22\n",
       "200910    20\n",
       "201003    19\n",
       "          ..\n",
       "201609     1\n",
       "201703     1\n",
       "201704     1\n",
       "201710     1\n",
       "200010     1\n",
       "Name: Year-Month, Length: 120, dtype: int64"
      ]
     },
     "execution_count": 279,
     "metadata": {},
     "output_type": "execute_result"
    }
   ],
   "source": [
    "df['Year-Month'].value_counts()"
   ]
  },
  {
   "cell_type": "code",
   "execution_count": 280,
   "id": "c815993b-5c7c-4baa-8056-dc17f4f49525",
   "metadata": {},
   "outputs": [
    {
     "data": {
      "application/vnd.plotly.v1+json": {
       "config": {
        "plotlyServerURL": "https://plot.ly"
       },
       "data": [
        {
         "hovertemplate": "Year-Month=%{x}<br>Fund=%{y}<extra></extra>",
         "legendgroup": "",
         "marker": {
          "color": "#636efa",
          "symbol": "circle"
         },
         "mode": "markers",
         "name": "",
         "orientation": "v",
         "showlegend": false,
         "type": "scatter",
         "x": [
          "200010",
          "200012",
          "200102",
          "200105",
          "200107",
          "200109",
          "200201",
          "200202",
          "200203",
          "200206",
          "200209",
          "200211",
          "200212",
          "200302",
          "200305",
          "200311",
          "200402",
          "200403",
          "200406",
          "200702",
          "200709",
          "200710",
          "200801",
          "200803",
          "200805",
          "200807",
          "200808",
          "200809",
          "200810",
          "200811",
          "200812",
          "200901",
          "200902",
          "200903",
          "200904",
          "200905",
          "200906",
          "200907",
          "200908",
          "200909",
          "200910",
          "200911",
          "200912",
          "201001",
          "201002",
          "201003",
          "201004",
          "201005",
          "201006",
          "201007",
          "201008",
          "201009",
          "201010",
          "201011",
          "201012",
          "201101",
          "201102",
          "201103",
          "201104",
          "201105",
          "201106",
          "201107",
          "201108",
          "201109",
          "201110",
          "201111",
          "201112",
          "201201",
          "201202",
          "201203",
          "201204",
          "201205",
          "201206",
          "201207",
          "201208",
          "201209",
          "201210",
          "201211",
          "201212",
          "201301",
          "201302",
          "201303",
          "201304",
          "201305",
          "201306",
          "201308",
          "201309",
          "201310",
          "201312",
          "201401",
          "201402",
          "201404",
          "201405",
          "201406",
          "201407",
          "201410",
          "201411",
          "201412",
          "201501",
          "201502",
          "201505",
          "201507",
          "201510",
          "201603",
          "201604",
          "201605",
          "201608",
          "201609",
          "201701",
          "201703",
          "201704",
          "201705",
          "201710",
          "201712",
          "201905",
          "201910",
          "201911",
          "202002",
          "202004",
          "202010"
         ],
         "xaxis": "x",
         "y": [
          4645,
          4646,
          4647,
          4648,
          6004,
          4649,
          9301,
          9305,
          9309,
          10661,
          4657,
          4658,
          4659,
          4660,
          4661,
          4662,
          6006,
          9327,
          4665,
          10000,
          10001,
          10002,
          10003,
          10004,
          20011,
          30024,
          30033,
          30042,
          40070,
          50110,
          30078,
          60183,
          100385,
          50230,
          80420,
          70420,
          90612,
          242033,
          151555,
          111287,
          202650,
          91323,
          162552,
          152625,
          71302,
          193781,
          235060,
          143339,
          81996,
          225819,
          102805,
          92610,
          123606,
          103115,
          82564,
          113630,
          124098,
          31047,
          134641,
          51830,
          41482,
          134927,
          72723,
          62373,
          114444,
          52060,
          20831,
          72940,
          41702,
          52150,
          62613,
          20879,
          73108,
          83612,
          10456,
          31374,
          41846,
          31395,
          10467,
          20937,
          10470,
          10471,
          62847,
          41918,
          20965,
          41942,
          20977,
          10490,
          10491,
          31479,
          20991,
          10497,
          31497,
          31506,
          21009,
          21013,
          10508,
          10509,
          21021,
          21025,
          10514,
          10515,
          21033,
          10518,
          10519,
          10520,
          10521,
          10522,
          21047,
          10525,
          10526,
          21055,
          10529,
          10530,
          10531,
          21065,
          10534,
          10535,
          10536,
          21075
         ],
         "yaxis": "y"
        }
       ],
       "layout": {
        "legend": {
         "tracegroupgap": 0
        },
        "margin": {
         "t": 60
        },
        "template": {
         "data": {
          "bar": [
           {
            "error_x": {
             "color": "#2a3f5f"
            },
            "error_y": {
             "color": "#2a3f5f"
            },
            "marker": {
             "line": {
              "color": "#E5ECF6",
              "width": 0.5
             },
             "pattern": {
              "fillmode": "overlay",
              "size": 10,
              "solidity": 0.2
             }
            },
            "type": "bar"
           }
          ],
          "barpolar": [
           {
            "marker": {
             "line": {
              "color": "#E5ECF6",
              "width": 0.5
             },
             "pattern": {
              "fillmode": "overlay",
              "size": 10,
              "solidity": 0.2
             }
            },
            "type": "barpolar"
           }
          ],
          "carpet": [
           {
            "aaxis": {
             "endlinecolor": "#2a3f5f",
             "gridcolor": "white",
             "linecolor": "white",
             "minorgridcolor": "white",
             "startlinecolor": "#2a3f5f"
            },
            "baxis": {
             "endlinecolor": "#2a3f5f",
             "gridcolor": "white",
             "linecolor": "white",
             "minorgridcolor": "white",
             "startlinecolor": "#2a3f5f"
            },
            "type": "carpet"
           }
          ],
          "choropleth": [
           {
            "colorbar": {
             "outlinewidth": 0,
             "ticks": ""
            },
            "type": "choropleth"
           }
          ],
          "contour": [
           {
            "colorbar": {
             "outlinewidth": 0,
             "ticks": ""
            },
            "colorscale": [
             [
              0,
              "#0d0887"
             ],
             [
              0.1111111111111111,
              "#46039f"
             ],
             [
              0.2222222222222222,
              "#7201a8"
             ],
             [
              0.3333333333333333,
              "#9c179e"
             ],
             [
              0.4444444444444444,
              "#bd3786"
             ],
             [
              0.5555555555555556,
              "#d8576b"
             ],
             [
              0.6666666666666666,
              "#ed7953"
             ],
             [
              0.7777777777777778,
              "#fb9f3a"
             ],
             [
              0.8888888888888888,
              "#fdca26"
             ],
             [
              1,
              "#f0f921"
             ]
            ],
            "type": "contour"
           }
          ],
          "contourcarpet": [
           {
            "colorbar": {
             "outlinewidth": 0,
             "ticks": ""
            },
            "type": "contourcarpet"
           }
          ],
          "heatmap": [
           {
            "colorbar": {
             "outlinewidth": 0,
             "ticks": ""
            },
            "colorscale": [
             [
              0,
              "#0d0887"
             ],
             [
              0.1111111111111111,
              "#46039f"
             ],
             [
              0.2222222222222222,
              "#7201a8"
             ],
             [
              0.3333333333333333,
              "#9c179e"
             ],
             [
              0.4444444444444444,
              "#bd3786"
             ],
             [
              0.5555555555555556,
              "#d8576b"
             ],
             [
              0.6666666666666666,
              "#ed7953"
             ],
             [
              0.7777777777777778,
              "#fb9f3a"
             ],
             [
              0.8888888888888888,
              "#fdca26"
             ],
             [
              1,
              "#f0f921"
             ]
            ],
            "type": "heatmap"
           }
          ],
          "heatmapgl": [
           {
            "colorbar": {
             "outlinewidth": 0,
             "ticks": ""
            },
            "colorscale": [
             [
              0,
              "#0d0887"
             ],
             [
              0.1111111111111111,
              "#46039f"
             ],
             [
              0.2222222222222222,
              "#7201a8"
             ],
             [
              0.3333333333333333,
              "#9c179e"
             ],
             [
              0.4444444444444444,
              "#bd3786"
             ],
             [
              0.5555555555555556,
              "#d8576b"
             ],
             [
              0.6666666666666666,
              "#ed7953"
             ],
             [
              0.7777777777777778,
              "#fb9f3a"
             ],
             [
              0.8888888888888888,
              "#fdca26"
             ],
             [
              1,
              "#f0f921"
             ]
            ],
            "type": "heatmapgl"
           }
          ],
          "histogram": [
           {
            "marker": {
             "pattern": {
              "fillmode": "overlay",
              "size": 10,
              "solidity": 0.2
             }
            },
            "type": "histogram"
           }
          ],
          "histogram2d": [
           {
            "colorbar": {
             "outlinewidth": 0,
             "ticks": ""
            },
            "colorscale": [
             [
              0,
              "#0d0887"
             ],
             [
              0.1111111111111111,
              "#46039f"
             ],
             [
              0.2222222222222222,
              "#7201a8"
             ],
             [
              0.3333333333333333,
              "#9c179e"
             ],
             [
              0.4444444444444444,
              "#bd3786"
             ],
             [
              0.5555555555555556,
              "#d8576b"
             ],
             [
              0.6666666666666666,
              "#ed7953"
             ],
             [
              0.7777777777777778,
              "#fb9f3a"
             ],
             [
              0.8888888888888888,
              "#fdca26"
             ],
             [
              1,
              "#f0f921"
             ]
            ],
            "type": "histogram2d"
           }
          ],
          "histogram2dcontour": [
           {
            "colorbar": {
             "outlinewidth": 0,
             "ticks": ""
            },
            "colorscale": [
             [
              0,
              "#0d0887"
             ],
             [
              0.1111111111111111,
              "#46039f"
             ],
             [
              0.2222222222222222,
              "#7201a8"
             ],
             [
              0.3333333333333333,
              "#9c179e"
             ],
             [
              0.4444444444444444,
              "#bd3786"
             ],
             [
              0.5555555555555556,
              "#d8576b"
             ],
             [
              0.6666666666666666,
              "#ed7953"
             ],
             [
              0.7777777777777778,
              "#fb9f3a"
             ],
             [
              0.8888888888888888,
              "#fdca26"
             ],
             [
              1,
              "#f0f921"
             ]
            ],
            "type": "histogram2dcontour"
           }
          ],
          "mesh3d": [
           {
            "colorbar": {
             "outlinewidth": 0,
             "ticks": ""
            },
            "type": "mesh3d"
           }
          ],
          "parcoords": [
           {
            "line": {
             "colorbar": {
              "outlinewidth": 0,
              "ticks": ""
             }
            },
            "type": "parcoords"
           }
          ],
          "pie": [
           {
            "automargin": true,
            "type": "pie"
           }
          ],
          "scatter": [
           {
            "fillpattern": {
             "fillmode": "overlay",
             "size": 10,
             "solidity": 0.2
            },
            "type": "scatter"
           }
          ],
          "scatter3d": [
           {
            "line": {
             "colorbar": {
              "outlinewidth": 0,
              "ticks": ""
             }
            },
            "marker": {
             "colorbar": {
              "outlinewidth": 0,
              "ticks": ""
             }
            },
            "type": "scatter3d"
           }
          ],
          "scattercarpet": [
           {
            "marker": {
             "colorbar": {
              "outlinewidth": 0,
              "ticks": ""
             }
            },
            "type": "scattercarpet"
           }
          ],
          "scattergeo": [
           {
            "marker": {
             "colorbar": {
              "outlinewidth": 0,
              "ticks": ""
             }
            },
            "type": "scattergeo"
           }
          ],
          "scattergl": [
           {
            "marker": {
             "colorbar": {
              "outlinewidth": 0,
              "ticks": ""
             }
            },
            "type": "scattergl"
           }
          ],
          "scattermapbox": [
           {
            "marker": {
             "colorbar": {
              "outlinewidth": 0,
              "ticks": ""
             }
            },
            "type": "scattermapbox"
           }
          ],
          "scatterpolar": [
           {
            "marker": {
             "colorbar": {
              "outlinewidth": 0,
              "ticks": ""
             }
            },
            "type": "scatterpolar"
           }
          ],
          "scatterpolargl": [
           {
            "marker": {
             "colorbar": {
              "outlinewidth": 0,
              "ticks": ""
             }
            },
            "type": "scatterpolargl"
           }
          ],
          "scatterternary": [
           {
            "marker": {
             "colorbar": {
              "outlinewidth": 0,
              "ticks": ""
             }
            },
            "type": "scatterternary"
           }
          ],
          "surface": [
           {
            "colorbar": {
             "outlinewidth": 0,
             "ticks": ""
            },
            "colorscale": [
             [
              0,
              "#0d0887"
             ],
             [
              0.1111111111111111,
              "#46039f"
             ],
             [
              0.2222222222222222,
              "#7201a8"
             ],
             [
              0.3333333333333333,
              "#9c179e"
             ],
             [
              0.4444444444444444,
              "#bd3786"
             ],
             [
              0.5555555555555556,
              "#d8576b"
             ],
             [
              0.6666666666666666,
              "#ed7953"
             ],
             [
              0.7777777777777778,
              "#fb9f3a"
             ],
             [
              0.8888888888888888,
              "#fdca26"
             ],
             [
              1,
              "#f0f921"
             ]
            ],
            "type": "surface"
           }
          ],
          "table": [
           {
            "cells": {
             "fill": {
              "color": "#EBF0F8"
             },
             "line": {
              "color": "white"
             }
            },
            "header": {
             "fill": {
              "color": "#C8D4E3"
             },
             "line": {
              "color": "white"
             }
            },
            "type": "table"
           }
          ]
         },
         "layout": {
          "annotationdefaults": {
           "arrowcolor": "#2a3f5f",
           "arrowhead": 0,
           "arrowwidth": 1
          },
          "autotypenumbers": "strict",
          "coloraxis": {
           "colorbar": {
            "outlinewidth": 0,
            "ticks": ""
           }
          },
          "colorscale": {
           "diverging": [
            [
             0,
             "#8e0152"
            ],
            [
             0.1,
             "#c51b7d"
            ],
            [
             0.2,
             "#de77ae"
            ],
            [
             0.3,
             "#f1b6da"
            ],
            [
             0.4,
             "#fde0ef"
            ],
            [
             0.5,
             "#f7f7f7"
            ],
            [
             0.6,
             "#e6f5d0"
            ],
            [
             0.7,
             "#b8e186"
            ],
            [
             0.8,
             "#7fbc41"
            ],
            [
             0.9,
             "#4d9221"
            ],
            [
             1,
             "#276419"
            ]
           ],
           "sequential": [
            [
             0,
             "#0d0887"
            ],
            [
             0.1111111111111111,
             "#46039f"
            ],
            [
             0.2222222222222222,
             "#7201a8"
            ],
            [
             0.3333333333333333,
             "#9c179e"
            ],
            [
             0.4444444444444444,
             "#bd3786"
            ],
            [
             0.5555555555555556,
             "#d8576b"
            ],
            [
             0.6666666666666666,
             "#ed7953"
            ],
            [
             0.7777777777777778,
             "#fb9f3a"
            ],
            [
             0.8888888888888888,
             "#fdca26"
            ],
            [
             1,
             "#f0f921"
            ]
           ],
           "sequentialminus": [
            [
             0,
             "#0d0887"
            ],
            [
             0.1111111111111111,
             "#46039f"
            ],
            [
             0.2222222222222222,
             "#7201a8"
            ],
            [
             0.3333333333333333,
             "#9c179e"
            ],
            [
             0.4444444444444444,
             "#bd3786"
            ],
            [
             0.5555555555555556,
             "#d8576b"
            ],
            [
             0.6666666666666666,
             "#ed7953"
            ],
            [
             0.7777777777777778,
             "#fb9f3a"
            ],
            [
             0.8888888888888888,
             "#fdca26"
            ],
            [
             1,
             "#f0f921"
            ]
           ]
          },
          "colorway": [
           "#636efa",
           "#EF553B",
           "#00cc96",
           "#ab63fa",
           "#FFA15A",
           "#19d3f3",
           "#FF6692",
           "#B6E880",
           "#FF97FF",
           "#FECB52"
          ],
          "font": {
           "color": "#2a3f5f"
          },
          "geo": {
           "bgcolor": "white",
           "lakecolor": "white",
           "landcolor": "#E5ECF6",
           "showlakes": true,
           "showland": true,
           "subunitcolor": "white"
          },
          "hoverlabel": {
           "align": "left"
          },
          "hovermode": "closest",
          "mapbox": {
           "style": "light"
          },
          "paper_bgcolor": "white",
          "plot_bgcolor": "#E5ECF6",
          "polar": {
           "angularaxis": {
            "gridcolor": "white",
            "linecolor": "white",
            "ticks": ""
           },
           "bgcolor": "#E5ECF6",
           "radialaxis": {
            "gridcolor": "white",
            "linecolor": "white",
            "ticks": ""
           }
          },
          "scene": {
           "xaxis": {
            "backgroundcolor": "#E5ECF6",
            "gridcolor": "white",
            "gridwidth": 2,
            "linecolor": "white",
            "showbackground": true,
            "ticks": "",
            "zerolinecolor": "white"
           },
           "yaxis": {
            "backgroundcolor": "#E5ECF6",
            "gridcolor": "white",
            "gridwidth": 2,
            "linecolor": "white",
            "showbackground": true,
            "ticks": "",
            "zerolinecolor": "white"
           },
           "zaxis": {
            "backgroundcolor": "#E5ECF6",
            "gridcolor": "white",
            "gridwidth": 2,
            "linecolor": "white",
            "showbackground": true,
            "ticks": "",
            "zerolinecolor": "white"
           }
          },
          "shapedefaults": {
           "line": {
            "color": "#2a3f5f"
           }
          },
          "ternary": {
           "aaxis": {
            "gridcolor": "white",
            "linecolor": "white",
            "ticks": ""
           },
           "baxis": {
            "gridcolor": "white",
            "linecolor": "white",
            "ticks": ""
           },
           "bgcolor": "#E5ECF6",
           "caxis": {
            "gridcolor": "white",
            "linecolor": "white",
            "ticks": ""
           }
          },
          "title": {
           "x": 0.05
          },
          "xaxis": {
           "automargin": true,
           "gridcolor": "white",
           "linecolor": "white",
           "ticks": "",
           "title": {
            "standoff": 15
           },
           "zerolinecolor": "white",
           "zerolinewidth": 2
          },
          "yaxis": {
           "automargin": true,
           "gridcolor": "white",
           "linecolor": "white",
           "ticks": "",
           "title": {
            "standoff": 15
           },
           "zerolinecolor": "white",
           "zerolinewidth": 2
          }
         }
        },
        "xaxis": {
         "anchor": "y",
         "domain": [
          0,
          1
         ],
         "title": {
          "text": "Year-Month"
         }
        },
        "yaxis": {
         "anchor": "x",
         "domain": [
          0,
          1
         ],
         "title": {
          "text": "Fund"
         }
        }
       }
      }
     },
     "metadata": {},
     "output_type": "display_data"
    }
   ],
   "source": [
    "DateFund = df.groupby('Year-Month').sum()\n",
    "px.scatter(data_frame = DateFund, x=DateFund.index, y='Fund')"
   ]
  },
  {
   "cell_type": "code",
   "execution_count": 281,
   "id": "474489fb-cb0f-4a5c-9b3f-8d7efea292ba",
   "metadata": {},
   "outputs": [
    {
     "name": "stdout",
     "output_type": "stream",
     "text": [
      "<class 'pandas.core.frame.DataFrame'>\n",
      "RangeIndex: 563 entries, 0 to 562\n",
      "Data columns (total 10 columns):\n",
      " #   Column                 Non-Null Count  Dtype         \n",
      "---  ------                 --------------  -----         \n",
      " 0   Bank Name              563 non-null    object        \n",
      " 1   City                   563 non-null    object        \n",
      " 2   State                  563 non-null    object        \n",
      " 3   Cert                   563 non-null    object        \n",
      " 4   Acquiring Institution  563 non-null    object        \n",
      " 5   Closing Date           563 non-null    datetime64[ns]\n",
      " 6   Fund                   563 non-null    int64         \n",
      " 7   Year-Month             563 non-null    object        \n",
      " 8   Year                   563 non-null    int64         \n",
      " 9   Month                  563 non-null    object        \n",
      "dtypes: datetime64[ns](1), int64(2), object(7)\n",
      "memory usage: 44.1+ KB\n"
     ]
    }
   ],
   "source": [
    "df.info() #데이터:563, 속성: 7"
   ]
  },
  {
   "cell_type": "code",
   "execution_count": 282,
   "id": "c18f2a90-c7ff-4bf3-aefd-9b10505aa9b5",
   "metadata": {},
   "outputs": [
    {
     "data": {
      "text/plain": [
       "(563, 10)"
      ]
     },
     "execution_count": 282,
     "metadata": {},
     "output_type": "execute_result"
    }
   ],
   "source": [
    "df.shape"
   ]
  },
  {
   "cell_type": "code",
   "execution_count": null,
   "id": "b0be0ae9-422e-4f7f-ba2c-6b735d16efc5",
   "metadata": {},
   "outputs": [],
   "source": [
    "df = pd.read_html('https://www.fdic.gov/resources/resolutions/bank-failures/failed-bank-list/')"
   ]
  },
  {
   "cell_type": "code",
   "execution_count": null,
   "id": "04c53143-e207-43ad-aed8-c548519ef1de",
   "metadata": {},
   "outputs": [],
   "source": [
    "df.rename({'Bank NameBank' : 'Bank Name'}, axis=1)"
   ]
  },
  {
   "cell_type": "code",
   "execution_count": null,
   "id": "106e7117-7090-476a-9384-f616856f8f44",
   "metadata": {},
   "outputs": [],
   "source": [
    "df.rename({'Bank NameBank' : 'Bank Name', \n",
    "           'CityCity' : 'City', \n",
    "           'StateSt' : 'State', \n",
    "           'CertCert' : 'Cert', \n",
    "           'Acquiring InstitutionAI' : 'Acquiring Institution', \n",
    "           'Closing DateClosing' : 'Closing Date', \n",
    "           'FundFund' : 'Fund'}, axis=1, inplace = True)"
   ]
  }
 ],
 "metadata": {
  "kernelspec": {
   "display_name": "Python 3.9.13 ('base')",
   "language": "python",
   "name": "python3"
  },
  "language_info": {
   "codemirror_mode": {
    "name": "ipython",
    "version": 3
   },
   "file_extension": ".py",
   "mimetype": "text/x-python",
   "name": "python",
   "nbconvert_exporter": "python",
   "pygments_lexer": "ipython3",
   "version": "3.9.13"
  },
  "vscode": {
   "interpreter": {
    "hash": "701d4f28dcd0866722f5108a3a4cbcd08882d26398b6d44117e791d7b8102912"
   }
  }
 },
 "nbformat": 4,
 "nbformat_minor": 5
}
