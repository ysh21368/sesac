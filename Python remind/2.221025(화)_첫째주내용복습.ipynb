{
 "cells": [
  {
   "cell_type": "code",
   "execution_count": 1,
   "id": "e8ba3d46-b5ce-4d8f-940f-3be5c599b639",
   "metadata": {},
   "outputs": [],
   "source": [
    "x = 1"
   ]
  },
  {
   "cell_type": "code",
   "execution_count": 2,
   "id": "1f0fc5da-bf86-4b93-bb01-69eb0865d15d",
   "metadata": {},
   "outputs": [
    {
     "data": {
      "text/plain": [
       "1"
      ]
     },
     "execution_count": 2,
     "metadata": {},
     "output_type": "execute_result"
    }
   ],
   "source": [
    "x"
   ]
  },
  {
   "cell_type": "code",
   "execution_count": 3,
   "id": "72cd1cce-c2a9-47fc-af17-356ac199ef94",
   "metadata": {},
   "outputs": [
    {
     "data": {
      "text/plain": [
       "int"
      ]
     },
     "execution_count": 3,
     "metadata": {},
     "output_type": "execute_result"
    }
   ],
   "source": [
    "type(x)"
   ]
  },
  {
   "cell_type": "code",
   "execution_count": 4,
   "id": "17c62b32-c6ba-42c9-bae8-5e3ecc4bb585",
   "metadata": {},
   "outputs": [],
   "source": [
    "x = 1.0"
   ]
  },
  {
   "cell_type": "code",
   "execution_count": 5,
   "id": "0cf80ac3-e49d-4d88-b221-a69b21fcdf02",
   "metadata": {},
   "outputs": [
    {
     "data": {
      "text/plain": [
       "1.0"
      ]
     },
     "execution_count": 5,
     "metadata": {},
     "output_type": "execute_result"
    }
   ],
   "source": [
    "x"
   ]
  },
  {
   "cell_type": "code",
   "execution_count": 6,
   "id": "7a2ab364-ad78-48df-96ff-6b7cee5b0742",
   "metadata": {},
   "outputs": [
    {
     "data": {
      "text/plain": [
       "float"
      ]
     },
     "execution_count": 6,
     "metadata": {},
     "output_type": "execute_result"
    }
   ],
   "source": [
    "type(x)"
   ]
  },
  {
   "cell_type": "code",
   "execution_count": 7,
   "id": "46c86a3d-6f56-492c-bf09-4e708742aa3f",
   "metadata": {},
   "outputs": [],
   "source": [
    "x = '1'"
   ]
  },
  {
   "cell_type": "code",
   "execution_count": 8,
   "id": "101d6673-634e-4404-b24d-024e026ae229",
   "metadata": {},
   "outputs": [
    {
     "data": {
      "text/plain": [
       "'1'"
      ]
     },
     "execution_count": 8,
     "metadata": {},
     "output_type": "execute_result"
    }
   ],
   "source": [
    "x"
   ]
  },
  {
   "cell_type": "code",
   "execution_count": 9,
   "id": "e5cf6cb3-028c-47b8-bb50-d18def34e984",
   "metadata": {},
   "outputs": [
    {
     "data": {
      "text/plain": [
       "str"
      ]
     },
     "execution_count": 9,
     "metadata": {},
     "output_type": "execute_result"
    }
   ],
   "source": [
    "type(x)"
   ]
  },
  {
   "cell_type": "code",
   "execution_count": 10,
   "id": "0fea4129-36b1-4e79-876b-8dbe2cae7184",
   "metadata": {
    "tags": []
   },
   "outputs": [],
   "source": [
    "x = True"
   ]
  },
  {
   "cell_type": "code",
   "execution_count": 11,
   "id": "3bb47972-302e-4ff8-b915-2a4c584fe736",
   "metadata": {},
   "outputs": [
    {
     "data": {
      "text/plain": [
       "True"
      ]
     },
     "execution_count": 11,
     "metadata": {},
     "output_type": "execute_result"
    }
   ],
   "source": [
    "x"
   ]
  },
  {
   "cell_type": "code",
   "execution_count": 12,
   "id": "68c9ad2e-afe6-4e50-bbe1-3d6041ab41d0",
   "metadata": {},
   "outputs": [
    {
     "data": {
      "text/plain": [
       "bool"
      ]
     },
     "execution_count": 12,
     "metadata": {},
     "output_type": "execute_result"
    }
   ],
   "source": [
    "type(x)"
   ]
  },
  {
   "cell_type": "code",
   "execution_count": 13,
   "id": "ece1d4d6-a07a-4338-8402-6392b0cfca87",
   "metadata": {},
   "outputs": [],
   "source": [
    "x = 1"
   ]
  },
  {
   "cell_type": "code",
   "execution_count": 14,
   "id": "45b1b961-9adf-4fa1-9b3e-72666fe74d69",
   "metadata": {},
   "outputs": [],
   "source": [
    "x = str(x)"
   ]
  },
  {
   "cell_type": "code",
   "execution_count": 15,
   "id": "4582e0e4-d401-4628-9911-475e47f51466",
   "metadata": {},
   "outputs": [
    {
     "data": {
      "text/plain": [
       "'1'"
      ]
     },
     "execution_count": 15,
     "metadata": {},
     "output_type": "execute_result"
    }
   ],
   "source": [
    "x"
   ]
  },
  {
   "cell_type": "code",
   "execution_count": 16,
   "id": "92bbd931-1a19-4019-a732-6a56f826d02b",
   "metadata": {},
   "outputs": [
    {
     "data": {
      "text/plain": [
       "str"
      ]
     },
     "execution_count": 16,
     "metadata": {},
     "output_type": "execute_result"
    }
   ],
   "source": [
    "type(x)"
   ]
  },
  {
   "cell_type": "code",
   "execution_count": 17,
   "id": "55d83b71-3c2c-4275-b49b-f2f805df9ca1",
   "metadata": {},
   "outputs": [],
   "source": [
    "x = 'a'"
   ]
  },
  {
   "cell_type": "code",
   "execution_count": 18,
   "id": "08994a6e-51b0-41c7-bcbb-10f734c070b9",
   "metadata": {},
   "outputs": [
    {
     "ename": "ValueError",
     "evalue": "invalid literal for int() with base 10: 'a'",
     "output_type": "error",
     "traceback": [
      "\u001b[1;31m---------------------------------------------------------------------------\u001b[0m",
      "\u001b[1;31mValueError\u001b[0m                                Traceback (most recent call last)",
      "Input \u001b[1;32mIn [18]\u001b[0m, in \u001b[0;36m<cell line: 1>\u001b[1;34m()\u001b[0m\n\u001b[1;32m----> 1\u001b[0m \u001b[38;5;28;43mint\u001b[39;49m\u001b[43m(\u001b[49m\u001b[43mx\u001b[49m\u001b[43m)\u001b[49m\n",
      "\u001b[1;31mValueError\u001b[0m: invalid literal for int() with base 10: 'a'"
     ]
    }
   ],
   "source": [
    "int(x) #문자열->숫자로 바꾸지 못함"
   ]
  },
  {
   "cell_type": "code",
   "execution_count": null,
   "id": "7141eb6a-38cd-4c02-a133-543bd5bd698d",
   "metadata": {},
   "outputs": [],
   "source": [
    "x = '1'"
   ]
  },
  {
   "cell_type": "code",
   "execution_count": null,
   "id": "f35bb24b-79fe-47e2-b482-45c120928441",
   "metadata": {},
   "outputs": [],
   "source": [
    "int(x)"
   ]
  },
  {
   "cell_type": "code",
   "execution_count": null,
   "id": "7e7f72e3-37e7-4442-b04b-396efd3bb94b",
   "metadata": {},
   "outputs": [],
   "source": [
    "x = None #Null값을 나타낸다."
   ]
  },
  {
   "cell_type": "code",
   "execution_count": null,
   "id": "3132a89d-e121-48c4-bf6c-aeb89f3d1d57",
   "metadata": {},
   "outputs": [],
   "source": [
    "x"
   ]
  },
  {
   "cell_type": "code",
   "execution_count": 19,
   "id": "a7a3fb49-aafe-4144-ba79-f4e50b169ac4",
   "metadata": {},
   "outputs": [],
   "source": [
    "list1 = []"
   ]
  },
  {
   "cell_type": "code",
   "execution_count": 20,
   "id": "326c0d0b-cc51-4a6e-94c3-3767847d6df2",
   "metadata": {},
   "outputs": [],
   "source": [
    "list1 = list()"
   ]
  },
  {
   "cell_type": "code",
   "execution_count": 21,
   "id": "1adc2b3c-65c5-4775-b7f9-02912bcd6a62",
   "metadata": {},
   "outputs": [],
   "source": [
    "list1.insert(0, 'A')"
   ]
  },
  {
   "cell_type": "code",
   "execution_count": 22,
   "id": "2d178ed9-fd6c-42c7-be24-8463009d268f",
   "metadata": {},
   "outputs": [
    {
     "data": {
      "text/plain": [
       "['A']"
      ]
     },
     "execution_count": 22,
     "metadata": {},
     "output_type": "execute_result"
    }
   ],
   "source": [
    "list1"
   ]
  },
  {
   "cell_type": "code",
   "execution_count": 23,
   "id": "a12e7d71-2035-45a1-967c-55870c218750",
   "metadata": {},
   "outputs": [],
   "source": [
    "list1.append('B') #append는 굉장히 많이 사용한다."
   ]
  },
  {
   "cell_type": "code",
   "execution_count": 24,
   "id": "a7297cfd-f05b-469a-ad6a-c0e4026e6708",
   "metadata": {},
   "outputs": [
    {
     "data": {
      "text/plain": [
       "['A', 'B']"
      ]
     },
     "execution_count": 24,
     "metadata": {},
     "output_type": "execute_result"
    }
   ],
   "source": [
    "list1"
   ]
  },
  {
   "cell_type": "code",
   "execution_count": 35,
   "id": "5e249828-43b3-4bb1-8bb4-be202a787d83",
   "metadata": {
    "tags": []
   },
   "outputs": [],
   "source": [
    "list2 = [i for i in range(10)]"
   ]
  },
  {
   "cell_type": "code",
   "execution_count": 36,
   "id": "e0eb6ca2-bf86-4d16-af4a-c41dbf665fc9",
   "metadata": {},
   "outputs": [
    {
     "data": {
      "text/plain": [
       "[0, 1, 2, 3, 4, 5, 6, 7, 8, 9]"
      ]
     },
     "execution_count": 36,
     "metadata": {},
     "output_type": "execute_result"
    }
   ],
   "source": [
    "list2"
   ]
  },
  {
   "cell_type": "code",
   "execution_count": 37,
   "id": "374a32f1-6b92-425e-9809-1d9159b1c3c9",
   "metadata": {},
   "outputs": [
    {
     "data": {
      "text/plain": [
       "4"
      ]
     },
     "execution_count": 37,
     "metadata": {},
     "output_type": "execute_result"
    }
   ],
   "source": [
    "list2[4]"
   ]
  },
  {
   "cell_type": "code",
   "execution_count": 38,
   "id": "3d52a73c-ca73-4fb4-96ee-b417659151c3",
   "metadata": {
    "tags": []
   },
   "outputs": [
    {
     "data": {
      "text/plain": [
       "9"
      ]
     },
     "execution_count": 38,
     "metadata": {},
     "output_type": "execute_result"
    }
   ],
   "source": [
    "list2[-1]"
   ]
  },
  {
   "cell_type": "code",
   "execution_count": 39,
   "id": "bfb984fa-0f18-42ff-afa4-60611403e662",
   "metadata": {},
   "outputs": [
    {
     "data": {
      "text/plain": [
       "[1, 2, 3, 4]"
      ]
     },
     "execution_count": 39,
     "metadata": {},
     "output_type": "execute_result"
    }
   ],
   "source": [
    "list2[1:5]"
   ]
  },
  {
   "cell_type": "code",
   "execution_count": 41,
   "id": "e9802c38-7ec4-4ed6-a418-6a3f718926ee",
   "metadata": {},
   "outputs": [
    {
     "data": {
      "text/plain": [
       "[6, 7, 8]"
      ]
     },
     "execution_count": 41,
     "metadata": {},
     "output_type": "execute_result"
    }
   ],
   "source": [
    "list2[-4:-1]"
   ]
  },
  {
   "cell_type": "code",
   "execution_count": 42,
   "id": "d20675bd-07ec-4a45-b8a2-eeec8c267892",
   "metadata": {},
   "outputs": [
    {
     "data": {
      "text/plain": [
       "[0, 1, 2, 3, 4, 5, 6, 7, 8]"
      ]
     },
     "execution_count": 42,
     "metadata": {},
     "output_type": "execute_result"
    }
   ],
   "source": [
    "list2[:-1] #x값"
   ]
  },
  {
   "cell_type": "code",
   "execution_count": 43,
   "id": "fb64685f-edaf-43b4-ab0f-05014042972e",
   "metadata": {},
   "outputs": [
    {
     "data": {
      "text/plain": [
       "9"
      ]
     },
     "execution_count": 43,
     "metadata": {},
     "output_type": "execute_result"
    }
   ],
   "source": [
    "list2[-1] #y값"
   ]
  },
  {
   "cell_type": "code",
   "execution_count": 44,
   "id": "03faa640-14e0-4b68-abff-94d7f131e46d",
   "metadata": {},
   "outputs": [],
   "source": [
    "x = (1, 2, 3, 4) #튜플은 값을 변경할 수 없다."
   ]
  },
  {
   "cell_type": "code",
   "execution_count": 45,
   "id": "2cafc3cf-0e1c-4a9a-ae9e-97290bb393d1",
   "metadata": {},
   "outputs": [
    {
     "data": {
      "text/plain": [
       "(1, 2, 3, 4)"
      ]
     },
     "execution_count": 45,
     "metadata": {},
     "output_type": "execute_result"
    }
   ],
   "source": [
    "x"
   ]
  },
  {
   "cell_type": "code",
   "execution_count": 46,
   "id": "b1578219-5222-419b-8647-5fb2b0d50b45",
   "metadata": {},
   "outputs": [],
   "source": [
    "dict1 = {}"
   ]
  },
  {
   "cell_type": "code",
   "execution_count": 47,
   "id": "98958a1d-dfc3-450e-920f-7f4caebe29c4",
   "metadata": {},
   "outputs": [],
   "source": [
    "dict1 = dict()"
   ]
  },
  {
   "cell_type": "code",
   "execution_count": 49,
   "id": "5012577b-4a97-4f85-b373-a57321048c0f",
   "metadata": {},
   "outputs": [],
   "source": [
    "dict1 = {'name':'hojin'}"
   ]
  },
  {
   "cell_type": "code",
   "execution_count": 50,
   "id": "c429241f-461e-4054-b097-bc291af105c0",
   "metadata": {},
   "outputs": [],
   "source": [
    "dict1['age'] = 20"
   ]
  },
  {
   "cell_type": "code",
   "execution_count": 51,
   "id": "58a3b06c-1512-4a10-adee-21cedfa028cf",
   "metadata": {},
   "outputs": [
    {
     "data": {
      "text/plain": [
       "{'name': 'hojin', 'age': 20}"
      ]
     },
     "execution_count": 51,
     "metadata": {},
     "output_type": "execute_result"
    }
   ],
   "source": [
    "dict1"
   ]
  },
  {
   "cell_type": "code",
   "execution_count": 52,
   "id": "00ead425-108b-4c29-8a55-ee281d15eab2",
   "metadata": {},
   "outputs": [
    {
     "data": {
      "text/plain": [
       "20"
      ]
     },
     "execution_count": 52,
     "metadata": {},
     "output_type": "execute_result"
    }
   ],
   "source": [
    "dict1['age']"
   ]
  },
  {
   "cell_type": "code",
   "execution_count": 53,
   "id": "8272ebd4-6d7b-492b-bbcc-19ee7d88a1c7",
   "metadata": {},
   "outputs": [],
   "source": []
  },
  {
   "cell_type": "code",
   "execution_count": 54,
   "id": "12bce9a9-31b3-4455-b5d7-638ec833b33a",
   "metadata": {},
   "outputs": [],
   "source": [
    "dict1[1] = 1"
   ]
  },
  {
   "cell_type": "code",
   "execution_count": 55,
   "id": "63949320-f05b-41f4-b045-341e9be3c2c2",
   "metadata": {},
   "outputs": [],
   "source": [
    "dict1[(1,2,3)] = 1"
   ]
  },
  {
   "cell_type": "code",
   "execution_count": 56,
   "id": "08409b5c-4930-4dca-a9a9-f366f2dd29f4",
   "metadata": {},
   "outputs": [
    {
     "data": {
      "text/plain": [
       "{'name': 'hojin', 'age': 20, 1: 1, (1, 2, 3): 1}"
      ]
     },
     "execution_count": 56,
     "metadata": {},
     "output_type": "execute_result"
    }
   ],
   "source": [
    "dict1"
   ]
  },
  {
   "cell_type": "code",
   "execution_count": 58,
   "id": "7856b647-cbc3-4216-b571-be62f0d648de",
   "metadata": {},
   "outputs": [
    {
     "ename": "TypeError",
     "evalue": "'type' object does not support item assignment",
     "output_type": "error",
     "traceback": [
      "\u001b[1;31m---------------------------------------------------------------------------\u001b[0m",
      "\u001b[1;31mTypeError\u001b[0m                                 Traceback (most recent call last)",
      "Input \u001b[1;32mIn [58]\u001b[0m, in \u001b[0;36m<cell line: 1>\u001b[1;34m()\u001b[0m\n\u001b[1;32m----> 1\u001b[0m \u001b[38;5;28mdict\u001b[39m[[\u001b[38;5;241m1\u001b[39m,\u001b[38;5;241m2\u001b[39m,\u001b[38;5;241m3\u001b[39m]] \u001b[38;5;241m=\u001b[39m \u001b[38;5;241m1\u001b[39m\n",
      "\u001b[1;31mTypeError\u001b[0m: 'type' object does not support item assignment"
     ]
    }
   ],
   "source": [
    "dict[[1,2,3]] = 1 #key값으로 리스트는 넣지 못한다."
   ]
  },
  {
   "cell_type": "code",
   "execution_count": null,
   "id": "ad71c127-e41d-41c5-a715-53e7be2b7b0e",
   "metadata": {},
   "outputs": [],
   "source": []
  },
  {
   "cell_type": "code",
   "execution_count": null,
   "id": "465339ee-4942-432f-bc22-fcdcf4c01d89",
   "metadata": {},
   "outputs": [],
   "source": [
    "if 조건:\n",
    "    구문"
   ]
  },
  {
   "cell_type": "code",
   "execution_count": 2,
   "id": "2354dfaa-19b1-4e97-84c2-03e5851acc33",
   "metadata": {},
   "outputs": [
    {
     "name": "stdout",
     "output_type": "stream",
     "text": [
      "World\n"
     ]
    }
   ],
   "source": [
    "if False :\n",
    "    print('Hello')\n",
    "    print('111')\n",
    "    \n",
    "print('World')"
   ]
  },
  {
   "cell_type": "code",
   "execution_count": null,
   "id": "2f6e60c6-29ee-4db7-ad95-5345fc7fe708",
   "metadata": {},
   "outputs": [],
   "source": [
    "if 조건문 :\n",
    "    구문 1\n",
    "else :\n",
    "    구문 2"
   ]
  },
  {
   "cell_type": "code",
   "execution_count": null,
   "id": "d3a3818c-ec9b-4664-8265-42017e0fadcb",
   "metadata": {},
   "outputs": [],
   "source": [
    "#ex)홀수,짝수 구하는 문제\n",
    "if 조건문 :\n",
    "    구문 1\n",
    "elif 조건문2 :\n",
    "    구문 2\n",
    "elif 조건문3 :\n",
    "    구문 3\n",
    "else :\n",
    "    구문 4"
   ]
  },
  {
   "cell_type": "code",
   "execution_count": 3,
   "id": "ec984a49-80c3-4981-81e3-290937401398",
   "metadata": {},
   "outputs": [],
   "source": [
    "num = 4"
   ]
  },
  {
   "cell_type": "code",
   "execution_count": 4,
   "id": "e9050834-3e1a-4aec-994b-c791cb492bc8",
   "metadata": {},
   "outputs": [
    {
     "name": "stdout",
     "output_type": "stream",
     "text": [
      "짝수\n"
     ]
    }
   ],
   "source": [
    "if num%2 == 0 :\n",
    "    print(\"짝수\")\n",
    "else :\n",
    "    print(\"홀수\")"
   ]
  },
  {
   "cell_type": "code",
   "execution_count": null,
   "id": "1a425e6f-e53a-4151-82d2-33ae53396108",
   "metadata": {},
   "outputs": [],
   "source": [
    "for 변수 in 반복될 대상 :\n",
    "    구문"
   ]
  },
  {
   "cell_type": "code",
   "execution_count": 5,
   "id": "057c18bc-7e49-48ff-85bd-523d755d094f",
   "metadata": {},
   "outputs": [
    {
     "data": {
      "text/plain": [
       "range(0, 10)"
      ]
     },
     "execution_count": 5,
     "metadata": {},
     "output_type": "execute_result"
    }
   ],
   "source": [
    "range(0, 10)"
   ]
  },
  {
   "cell_type": "code",
   "execution_count": 6,
   "id": "9d140eea-59f4-4c3a-ba23-d4da62e5931b",
   "metadata": {},
   "outputs": [
    {
     "data": {
      "text/plain": [
       "[0, 1, 2, 3, 4, 5, 6, 7, 8, 9]"
      ]
     },
     "execution_count": 6,
     "metadata": {},
     "output_type": "execute_result"
    }
   ],
   "source": [
    "list(range(0, 10))"
   ]
  },
  {
   "cell_type": "code",
   "execution_count": 7,
   "id": "0f0b2b8a-190e-4a4d-b6c6-b3255cfa9b5e",
   "metadata": {},
   "outputs": [
    {
     "data": {
      "text/plain": [
       "[0, 2, 4, 6, 8]"
      ]
     },
     "execution_count": 7,
     "metadata": {},
     "output_type": "execute_result"
    }
   ],
   "source": [
    "list(range(0, 10, 2))"
   ]
  },
  {
   "cell_type": "code",
   "execution_count": 8,
   "id": "da297540-cf43-43ec-8e23-41fa578a4f54",
   "metadata": {},
   "outputs": [
    {
     "name": "stdout",
     "output_type": "stream",
     "text": [
      "0\n",
      "1\n",
      "2\n",
      "3\n",
      "4\n",
      "5\n",
      "6\n",
      "7\n",
      "8\n",
      "9\n"
     ]
    }
   ],
   "source": [
    "for i in range(10) :\n",
    "    print(i)"
   ]
  },
  {
   "cell_type": "code",
   "execution_count": 12,
   "id": "99accfd1-1b4d-4ee2-a095-0f35b40b02e8",
   "metadata": {
    "collapsed": true,
    "jupyter": {
     "outputs_hidden": true
    },
    "tags": []
   },
   "outputs": [
    {
     "name": "stdout",
     "output_type": "stream",
     "text": [
      "i: 0 j: 0\n",
      "i: 0 j: 1\n",
      "i: 0 j: 2\n",
      "i: 0 j: 3\n",
      "i: 0 j: 4\n",
      "i: 0 j: 5\n",
      "i: 0 j: 6\n",
      "i: 0 j: 7\n",
      "i: 0 j: 8\n",
      "i: 0 j: 9\n",
      "i: 1 j: 0\n",
      "i: 1 j: 1\n",
      "i: 1 j: 2\n",
      "i: 1 j: 3\n",
      "i: 1 j: 4\n",
      "i: 1 j: 5\n",
      "i: 1 j: 6\n",
      "i: 1 j: 7\n",
      "i: 1 j: 8\n",
      "i: 1 j: 9\n",
      "i: 2 j: 0\n",
      "i: 2 j: 1\n",
      "i: 2 j: 2\n",
      "i: 2 j: 3\n",
      "i: 2 j: 4\n",
      "i: 2 j: 5\n",
      "i: 2 j: 6\n",
      "i: 2 j: 7\n",
      "i: 2 j: 8\n",
      "i: 2 j: 9\n",
      "i: 3 j: 0\n",
      "i: 3 j: 1\n",
      "i: 3 j: 2\n",
      "i: 3 j: 3\n",
      "i: 3 j: 4\n",
      "i: 3 j: 5\n",
      "i: 3 j: 6\n",
      "i: 3 j: 7\n",
      "i: 3 j: 8\n",
      "i: 3 j: 9\n",
      "i: 4 j: 0\n",
      "i: 4 j: 1\n",
      "i: 4 j: 2\n",
      "i: 4 j: 3\n",
      "i: 4 j: 4\n",
      "i: 4 j: 5\n",
      "i: 4 j: 6\n",
      "i: 4 j: 7\n",
      "i: 4 j: 8\n",
      "i: 4 j: 9\n",
      "i: 5 j: 0\n",
      "i: 5 j: 1\n",
      "i: 5 j: 2\n",
      "i: 5 j: 3\n",
      "i: 5 j: 4\n",
      "i: 5 j: 5\n",
      "i: 5 j: 6\n",
      "i: 5 j: 7\n",
      "i: 5 j: 8\n",
      "i: 5 j: 9\n",
      "i: 6 j: 0\n",
      "i: 6 j: 1\n",
      "i: 6 j: 2\n",
      "i: 6 j: 3\n",
      "i: 6 j: 4\n",
      "i: 6 j: 5\n",
      "i: 6 j: 6\n",
      "i: 6 j: 7\n",
      "i: 6 j: 8\n",
      "i: 6 j: 9\n",
      "i: 7 j: 0\n",
      "i: 7 j: 1\n",
      "i: 7 j: 2\n",
      "i: 7 j: 3\n",
      "i: 7 j: 4\n",
      "i: 7 j: 5\n",
      "i: 7 j: 6\n",
      "i: 7 j: 7\n",
      "i: 7 j: 8\n",
      "i: 7 j: 9\n",
      "i: 8 j: 0\n",
      "i: 8 j: 1\n",
      "i: 8 j: 2\n",
      "i: 8 j: 3\n",
      "i: 8 j: 4\n",
      "i: 8 j: 5\n",
      "i: 8 j: 6\n",
      "i: 8 j: 7\n",
      "i: 8 j: 8\n",
      "i: 8 j: 9\n",
      "i: 9 j: 0\n",
      "i: 9 j: 1\n",
      "i: 9 j: 2\n",
      "i: 9 j: 3\n",
      "i: 9 j: 4\n",
      "i: 9 j: 5\n",
      "i: 9 j: 6\n",
      "i: 9 j: 7\n",
      "i: 9 j: 8\n",
      "i: 9 j: 9\n"
     ]
    }
   ],
   "source": [
    "for i in range(10) :\n",
    "    for j in range(10) :\n",
    "        print('i:', i, 'j:',j) #ex) 구구단"
   ]
  },
  {
   "cell_type": "code",
   "execution_count": null,
   "id": "9a0b6dfe-0c09-4c74-8a37-2155b80c1829",
   "metadata": {},
   "outputs": [],
   "source": [
    "def func1() :\n",
    "    구문 1\n",
    "    return"
   ]
  },
  {
   "cell_type": "code",
   "execution_count": 13,
   "id": "9ba3e6e8-7313-4e48-8dbc-20b361e60a28",
   "metadata": {},
   "outputs": [],
   "source": [
    "def fun1() :\n",
    "    print('test')"
   ]
  },
  {
   "cell_type": "code",
   "execution_count": 14,
   "id": "be4a98ae-42d3-4407-ab70-dca8a516aff2",
   "metadata": {},
   "outputs": [
    {
     "name": "stdout",
     "output_type": "stream",
     "text": [
      "test\n"
     ]
    }
   ],
   "source": [
    "fun1()"
   ]
  },
  {
   "cell_type": "code",
   "execution_count": 15,
   "id": "7dc5516e-7f93-4d0b-8a04-24828d58ac4d",
   "metadata": {},
   "outputs": [],
   "source": [
    "def fun2(a) :\n",
    "    print(a)"
   ]
  },
  {
   "cell_type": "code",
   "execution_count": 16,
   "id": "7fba3608-b3c7-4124-9a5d-19dedbd61de2",
   "metadata": {},
   "outputs": [
    {
     "name": "stdout",
     "output_type": "stream",
     "text": [
      "1\n"
     ]
    }
   ],
   "source": [
    "fun2(1)"
   ]
  },
  {
   "cell_type": "code",
   "execution_count": 18,
   "id": "30a2f3ef-678b-4a59-8815-25b6dcba78d3",
   "metadata": {},
   "outputs": [],
   "source": [
    "def fun3() :\n",
    "    return 1+2"
   ]
  },
  {
   "cell_type": "code",
   "execution_count": 19,
   "id": "67930784-1d49-4171-8810-1718ae088adc",
   "metadata": {},
   "outputs": [
    {
     "data": {
      "text/plain": [
       "3"
      ]
     },
     "execution_count": 19,
     "metadata": {},
     "output_type": "execute_result"
    }
   ],
   "source": [
    "fun3()"
   ]
  },
  {
   "cell_type": "code",
   "execution_count": 20,
   "id": "bfcee679-f1fe-4d6f-a60d-286381bea058",
   "metadata": {},
   "outputs": [],
   "source": [
    "def fun4(a,b) :\n",
    "    return a+b"
   ]
  },
  {
   "cell_type": "code",
   "execution_count": 22,
   "id": "2cafcb8e-01f4-4e43-8d10-78a1f912d519",
   "metadata": {},
   "outputs": [
    {
     "data": {
      "text/plain": [
       "3"
      ]
     },
     "execution_count": 22,
     "metadata": {},
     "output_type": "execute_result"
    }
   ],
   "source": [
    "fun4(1, 2)"
   ]
  },
  {
   "cell_type": "code",
   "execution_count": 24,
   "id": "1c1d32c2-75a6-41e3-ba12-edddb7ce1f67",
   "metadata": {},
   "outputs": [],
   "source": [
    "#매개 변수를 몇 개 입력할지 모를 때. ex)계산기 \n",
    "def fun5(*args) :\n",
    "    return args"
   ]
  },
  {
   "cell_type": "code",
   "execution_count": null,
   "id": "b0993bfa-29ed-4d90-ae5a-a64d9aab491f",
   "metadata": {},
   "outputs": [],
   "source": []
  },
  {
   "cell_type": "code",
   "execution_count": 25,
   "id": "0b0a160f-ffe0-47bf-a164-31c6196eafb4",
   "metadata": {},
   "outputs": [],
   "source": [
    "def fun5(*args) :\n",
    "    return args"
   ]
  },
  {
   "cell_type": "code",
   "execution_count": null,
   "id": "750ae9eb-e7f7-46d3-91af-81a5246581cd",
   "metadata": {},
   "outputs": [],
   "source": []
  },
  {
   "cell_type": "code",
   "execution_count": 7,
   "id": "e5d2364f-9704-4540-ab29-a751eda8776d",
   "metadata": {},
   "outputs": [],
   "source": [
    "#매개 변수 이름을 모를때. ex)계산기 \n",
    "def fun6(**kwargs) :\n",
    "    return kwargs"
   ]
  },
  {
   "cell_type": "code",
   "execution_count": 8,
   "id": "f79be5d6-eb4b-4a1d-a9b4-1f12b94fff7b",
   "metadata": {},
   "outputs": [
    {
     "data": {
      "text/plain": [
       "{'name': 'hojin', 'age': 20}"
      ]
     },
     "execution_count": 8,
     "metadata": {},
     "output_type": "execute_result"
    }
   ],
   "source": [
    "fun6(name='hojin', age=20)"
   ]
  },
  {
   "cell_type": "code",
   "execution_count": 9,
   "id": "017ba75a-38d7-4c54-bfa9-556902cfefa8",
   "metadata": {},
   "outputs": [],
   "source": [
    "def fun6(**kwargs) :\n",
    "    for key in kwargs.keys() :\n",
    "        print(key, kwargs[key])\n",
    "    return kwargs"
   ]
  },
  {
   "cell_type": "code",
   "execution_count": 10,
   "id": "d3462a7c-ec84-453c-90ad-ca2b1bd7d128",
   "metadata": {},
   "outputs": [
    {
     "name": "stdout",
     "output_type": "stream",
     "text": [
      "name hojin\n",
      "age 20\n"
     ]
    },
    {
     "data": {
      "text/plain": [
       "{'name': 'hojin', 'age': 20}"
      ]
     },
     "execution_count": 10,
     "metadata": {},
     "output_type": "execute_result"
    }
   ],
   "source": [
    "fun6(name='hojin', age=20)"
   ]
  },
  {
   "cell_type": "code",
   "execution_count": 11,
   "id": "6de90dd1-440e-45e7-9a7e-2ecd7eb74488",
   "metadata": {},
   "outputs": [],
   "source": [
    "def fun6(**kwargs) :\n",
    "    print(kwargs.keys())\n",
    "    for key in kwargs.keys() :\n",
    "        print(key, kwargs[key])\n",
    "    return kwargs"
   ]
  },
  {
   "cell_type": "code",
   "execution_count": 12,
   "id": "741bf042-37a5-4edc-bd97-6a409695c9d8",
   "metadata": {},
   "outputs": [
    {
     "name": "stdout",
     "output_type": "stream",
     "text": [
      "dict_keys(['name', 'age'])\n",
      "name hojin\n",
      "age 20\n"
     ]
    },
    {
     "data": {
      "text/plain": [
       "{'name': 'hojin', 'age': 20}"
      ]
     },
     "execution_count": 12,
     "metadata": {},
     "output_type": "execute_result"
    }
   ],
   "source": [
    "fun6(name='hojin', age=20)"
   ]
  },
  {
   "cell_type": "code",
   "execution_count": null,
   "id": "0042e518-0be3-4adb-9751-843f5c0f2b02",
   "metadata": {},
   "outputs": [],
   "source": [
    "print(*args, sep=' ', end='\\n')"
   ]
  },
  {
   "cell_type": "code",
   "execution_count": null,
   "id": "34028507-d34c-41f3-aa57-b5bfba7174a0",
   "metadata": {},
   "outputs": [],
   "source": [
    "print('문자열', sep, end='\\n')"
   ]
  },
  {
   "cell_type": "code",
   "execution_count": 14,
   "id": "4ca83ae9-63b9-4c92-8c5f-e5b44a95c6de",
   "metadata": {},
   "outputs": [
    {
     "name": "stdout",
     "output_type": "stream",
     "text": [
      "Hello World\n",
      "Hi Python\n"
     ]
    }
   ],
   "source": [
    "print('Hello', 'World')\n",
    "print('Hi', 'Python')"
   ]
  },
  {
   "cell_type": "code",
   "execution_count": 15,
   "id": "5d44c215-424a-4a01-8ed7-213b6d78a5a2",
   "metadata": {},
   "outputs": [
    {
     "name": "stdout",
     "output_type": "stream",
     "text": [
      "Hello|World\n"
     ]
    }
   ],
   "source": [
    "print('Hello', 'World', sep='|')"
   ]
  },
  {
   "cell_type": "code",
   "execution_count": 16,
   "id": "0d6ec2ac-0a08-4367-a41b-30ce4c1a1477",
   "metadata": {},
   "outputs": [
    {
     "name": "stdout",
     "output_type": "stream",
     "text": [
      "Hello WorldHi Python\n"
     ]
    }
   ],
   "source": [
    "print('Hello', 'World', end='')\n",
    "print('Hi', 'Python')"
   ]
  },
  {
   "cell_type": "markdown",
   "id": "c400888c-e9ed-4ee9-9702-215ce387c1f1",
   "metadata": {},
   "source": [
    "print('{x},{y}'.format(value1,value2))"
   ]
  },
  {
   "cell_type": "markdown",
   "id": "2e9f1f17-d36b-4e97-ad41-c42e04e7f236",
   "metadata": {},
   "source": [
    "print('{0},{1}'.format(value1,value2))"
   ]
  },
  {
   "cell_type": "code",
   "execution_count": 17,
   "id": "9a0b2b3b-62b0-453a-ad7b-21926bcd13a8",
   "metadata": {},
   "outputs": [
    {
     "name": "stdout",
     "output_type": "stream",
     "text": [
      "This is apple. That is banna\n"
     ]
    }
   ],
   "source": [
    "print('This is {}. That is {}'.format('apple','banna'))"
   ]
  },
  {
   "cell_type": "code",
   "execution_count": 18,
   "id": "207190f3-32b6-4ae8-be55-5ce9001c419c",
   "metadata": {},
   "outputs": [
    {
     "name": "stdout",
     "output_type": "stream",
     "text": [
      "This is apple. That is banna\n"
     ]
    }
   ],
   "source": [
    "print('This is {0}. That is {1}'.format('apple','banna'))"
   ]
  },
  {
   "cell_type": "code",
   "execution_count": 19,
   "id": "4adf1f44-80d9-405d-90bf-cd5c49b7651f",
   "metadata": {},
   "outputs": [
    {
     "name": "stdout",
     "output_type": "stream",
     "text": [
      "This is banna. That is apple\n"
     ]
    }
   ],
   "source": [
    "print('This is {1}. That is {0}'.format('apple','banna'))"
   ]
  },
  {
   "cell_type": "code",
   "execution_count": 20,
   "id": "96398fa6-2032-44b2-9c9d-dcd9bb8c3779",
   "metadata": {},
   "outputs": [],
   "source": [
    "a = 'apple'\n",
    "b = 'banna'"
   ]
  },
  {
   "cell_type": "code",
   "execution_count": 21,
   "id": "0582f5f3-2f15-4306-9c36-8442266e9cfd",
   "metadata": {},
   "outputs": [
    {
     "name": "stdout",
     "output_type": "stream",
     "text": [
      "This is apple. That is banna\n"
     ]
    }
   ],
   "source": [
    "print('This is {}. That is {}'.format(a, b))"
   ]
  },
  {
   "cell_type": "code",
   "execution_count": 22,
   "id": "ea004f21-8bdb-4c68-b5a9-969016bf0753",
   "metadata": {},
   "outputs": [
    {
     "name": "stdout",
     "output_type": "stream",
     "text": [
      "This is apple. That is banana\n"
     ]
    }
   ],
   "source": [
    "print('This is {fruit1}. That is {fruit2}'.format(fruit1='apple', fruit2='banana'))"
   ]
  },
  {
   "cell_type": "code",
   "execution_count": null,
   "id": "6887f9bd-9276-4413-b618-99e8f8f58401",
   "metadata": {},
   "outputs": [],
   "source": [
    "print('That is {0:0.3f}'.format(123.456789)) #.3f는 소수점 3자리까지 표기"
   ]
  },
  {
   "cell_type": "code",
   "execution_count": 27,
   "id": "fa8974aa-2467-430c-b69c-eb92b5ed080c",
   "metadata": {},
   "outputs": [
    {
     "name": "stdout",
     "output_type": "stream",
     "text": [
      "That is 123.457\n"
     ]
    }
   ],
   "source": [
    "print('That is {:0.3f}'.format(123.456789))"
   ]
  },
  {
   "cell_type": "code",
   "execution_count": 28,
   "id": "1521f2d3-ba2e-4245-b74e-cfd1bdf2b840",
   "metadata": {},
   "outputs": [
    {
     "name": "stdout",
     "output_type": "stream",
     "text": [
      "That is 123.4567890000\n"
     ]
    }
   ],
   "source": [
    "print('That is {0:0.10f}'.format(123.456789)) #.10f는 소수점 10자리까지 표기"
   ]
  },
  {
   "cell_type": "code",
   "execution_count": 29,
   "id": "ceed6042-c067-49cc-bc1e-2d97f96b2b74",
   "metadata": {},
   "outputs": [
    {
     "name": "stdout",
     "output_type": "stream",
     "text": [
      "That is 012\n"
     ]
    }
   ],
   "source": [
    "print('That is {:03d}'.format(12))  #03d는 3자리를 채워라"
   ]
  },
  {
   "cell_type": "code",
   "execution_count": 31,
   "id": "eb20db55-eb66-4f45-ae28-834e5442085f",
   "metadata": {},
   "outputs": [
    {
     "name": "stdout",
     "output_type": "stream",
     "text": [
      "That is 012\n"
     ]
    }
   ],
   "source": [
    "print('That is {0:03d}'.format(12))  #03d는 3자리를 채워라"
   ]
  },
  {
   "cell_type": "code",
   "execution_count": 30,
   "id": "e171e6b9-daae-4918-b9b5-773837c78394",
   "metadata": {},
   "outputs": [
    {
     "name": "stdout",
     "output_type": "stream",
     "text": [
      "That is 1234\n"
     ]
    }
   ],
   "source": [
    "print('That is {:03d}'.format(1234))  #03d는 3자리를 채워라"
   ]
  },
  {
   "cell_type": "code",
   "execution_count": 33,
   "id": "a89bed91-d1c6-4192-9cb7-91270ac29dcc",
   "metadata": {},
   "outputs": [
    {
     "name": "stdout",
     "output_type": "stream",
     "text": [
      "That is 1234\n"
     ]
    }
   ],
   "source": [
    "print('That is {0:03d}'.format(1234))  #03d는 3자리를 채워라"
   ]
  },
  {
   "cell_type": "markdown",
   "id": "2830c1c4-2d1a-47b4-ad81-b8a7c3ea9d99",
   "metadata": {},
   "source": [
    "포맷팅(formatting)\n",
    "- %s : 문자열\n",
    "- %d : 정수\n",
    "- %f : 실수\n",
    "#----------------------------\n",
    "- %0 : 8진수\n",
    "- %x : 16진수\n",
    "(8진수, 16진수는 잘 사용하지 않는다.)"
   ]
  },
  {
   "cell_type": "code",
   "execution_count": 34,
   "id": "5dd4d284-c305-4b02-a581-347ad432c2de",
   "metadata": {},
   "outputs": [
    {
     "name": "stdout",
     "output_type": "stream",
     "text": [
      "This is apple\n"
     ]
    }
   ],
   "source": [
    "print(f'This is %s'%'apple') #f는 formatting를 나타내려고 사용함."
   ]
  },
  {
   "cell_type": "code",
   "execution_count": 39,
   "id": "623982aa-429f-4038-9d7e-a0b2a3867ba4",
   "metadata": {},
   "outputs": [
    {
     "name": "stdout",
     "output_type": "stream",
     "text": [
      "This is apple. That is banana.\n"
     ]
    }
   ],
   "source": [
    "print(f'This is %s. That is %s.'%('apple', 'banana')) "
   ]
  },
  {
   "cell_type": "code",
   "execution_count": 40,
   "id": "383a7ea0-9a94-4040-9cd0-fd235dc56a03",
   "metadata": {},
   "outputs": [
    {
     "name": "stdout",
     "output_type": "stream",
     "text": [
      "The value is 1\n"
     ]
    }
   ],
   "source": [
    "print(f'The value is %d' % 1)"
   ]
  },
  {
   "cell_type": "code",
   "execution_count": 43,
   "id": "c5a62449-4a58-4eef-81bb-5786065cbf87",
   "metadata": {},
   "outputs": [
    {
     "name": "stdout",
     "output_type": "stream",
     "text": [
      "The value is     1\n"
     ]
    }
   ],
   "source": [
    "print(f'The value is %5d' % 1)"
   ]
  },
  {
   "cell_type": "code",
   "execution_count": 49,
   "id": "c416b11a-7a69-472c-8292-cef7e28d251e",
   "metadata": {},
   "outputs": [
    {
     "name": "stdout",
     "output_type": "stream",
     "text": [
      "The value is 00001\n"
     ]
    }
   ],
   "source": [
    "print(f'The value is %05d' % 1)"
   ]
  },
  {
   "cell_type": "code",
   "execution_count": 54,
   "id": "0b7939f8-4e34-469f-96bc-7300c429f2e4",
   "metadata": {
    "collapsed": true,
    "jupyter": {
     "outputs_hidden": true
    },
    "tags": []
   },
   "outputs": [
    {
     "name": "stdout",
     "output_type": "stream",
     "text": [
      "2 * 1 = 2\n",
      "2 * 2 = 4\n",
      "2 * 3 = 6\n",
      "2 * 4 = 8\n",
      "2 * 5 = 10\n",
      "2 * 6 = 12\n",
      "2 * 7 = 14\n",
      "2 * 8 = 16\n",
      "2 * 9 = 18\n",
      "3 * 1 = 3\n",
      "3 * 2 = 6\n",
      "3 * 3 = 9\n",
      "3 * 4 = 12\n",
      "3 * 5 = 15\n",
      "3 * 6 = 18\n",
      "3 * 7 = 21\n",
      "3 * 8 = 24\n",
      "3 * 9 = 27\n",
      "4 * 1 = 4\n",
      "4 * 2 = 8\n",
      "4 * 3 = 12\n",
      "4 * 4 = 16\n",
      "4 * 5 = 20\n",
      "4 * 6 = 24\n",
      "4 * 7 = 28\n",
      "4 * 8 = 32\n",
      "4 * 9 = 36\n",
      "5 * 1 = 5\n",
      "5 * 2 = 10\n",
      "5 * 3 = 15\n",
      "5 * 4 = 20\n",
      "5 * 5 = 25\n",
      "5 * 6 = 30\n",
      "5 * 7 = 35\n",
      "5 * 8 = 40\n",
      "5 * 9 = 45\n",
      "6 * 1 = 6\n",
      "6 * 2 = 12\n",
      "6 * 3 = 18\n",
      "6 * 4 = 24\n",
      "6 * 5 = 30\n",
      "6 * 6 = 36\n",
      "6 * 7 = 42\n",
      "6 * 8 = 48\n",
      "6 * 9 = 54\n",
      "7 * 1 = 7\n",
      "7 * 2 = 14\n",
      "7 * 3 = 21\n",
      "7 * 4 = 28\n",
      "7 * 5 = 35\n",
      "7 * 6 = 42\n",
      "7 * 7 = 49\n",
      "7 * 8 = 56\n",
      "7 * 9 = 63\n",
      "8 * 1 = 8\n",
      "8 * 2 = 16\n",
      "8 * 3 = 24\n",
      "8 * 4 = 32\n",
      "8 * 5 = 40\n",
      "8 * 6 = 48\n",
      "8 * 7 = 56\n",
      "8 * 8 = 64\n",
      "8 * 9 = 72\n",
      "9 * 1 = 9\n",
      "9 * 2 = 18\n",
      "9 * 3 = 27\n",
      "9 * 4 = 36\n",
      "9 * 5 = 45\n",
      "9 * 6 = 54\n",
      "9 * 7 = 63\n",
      "9 * 8 = 72\n",
      "9 * 9 = 81\n"
     ]
    }
   ],
   "source": [
    "for i in range(2, 10) :\n",
    "    for j in range(1, 10) :\n",
    "        print(i, '*', j, '=', i*j)"
   ]
  },
  {
   "cell_type": "code",
   "execution_count": 59,
   "id": "16a52eb6-3be9-4251-b6ac-fe7fac7fc9bd",
   "metadata": {
    "collapsed": true,
    "jupyter": {
     "outputs_hidden": true
    },
    "tags": []
   },
   "outputs": [
    {
     "name": "stdout",
     "output_type": "stream",
     "text": [
      "%d단\n",
      "2 * 1 =  2\n",
      "2 * 2 =  4\n",
      "2 * 3 =  6\n",
      "2 * 4 =  8\n",
      "2 * 5 = 10\n",
      "2 * 6 = 12\n",
      "2 * 7 = 14\n",
      "2 * 8 = 16\n",
      "2 * 9 = 18\n",
      "%d단\n",
      "3 * 1 =  3\n",
      "3 * 2 =  6\n",
      "3 * 3 =  9\n",
      "3 * 4 = 12\n",
      "3 * 5 = 15\n",
      "3 * 6 = 18\n",
      "3 * 7 = 21\n",
      "3 * 8 = 24\n",
      "3 * 9 = 27\n",
      "%d단\n",
      "4 * 1 =  4\n",
      "4 * 2 =  8\n",
      "4 * 3 = 12\n",
      "4 * 4 = 16\n",
      "4 * 5 = 20\n",
      "4 * 6 = 24\n",
      "4 * 7 = 28\n",
      "4 * 8 = 32\n",
      "4 * 9 = 36\n",
      "%d단\n",
      "5 * 1 =  5\n",
      "5 * 2 = 10\n",
      "5 * 3 = 15\n",
      "5 * 4 = 20\n",
      "5 * 5 = 25\n",
      "5 * 6 = 30\n",
      "5 * 7 = 35\n",
      "5 * 8 = 40\n",
      "5 * 9 = 45\n",
      "%d단\n",
      "6 * 1 =  6\n",
      "6 * 2 = 12\n",
      "6 * 3 = 18\n",
      "6 * 4 = 24\n",
      "6 * 5 = 30\n",
      "6 * 6 = 36\n",
      "6 * 7 = 42\n",
      "6 * 8 = 48\n",
      "6 * 9 = 54\n",
      "%d단\n",
      "7 * 1 =  7\n",
      "7 * 2 = 14\n",
      "7 * 3 = 21\n",
      "7 * 4 = 28\n",
      "7 * 5 = 35\n",
      "7 * 6 = 42\n",
      "7 * 7 = 49\n",
      "7 * 8 = 56\n",
      "7 * 9 = 63\n",
      "%d단\n",
      "8 * 1 =  8\n",
      "8 * 2 = 16\n",
      "8 * 3 = 24\n",
      "8 * 4 = 32\n",
      "8 * 5 = 40\n",
      "8 * 6 = 48\n",
      "8 * 7 = 56\n",
      "8 * 8 = 64\n",
      "8 * 9 = 72\n",
      "%d단\n",
      "9 * 1 =  9\n",
      "9 * 2 = 18\n",
      "9 * 3 = 27\n",
      "9 * 4 = 36\n",
      "9 * 5 = 45\n",
      "9 * 6 = 54\n",
      "9 * 7 = 63\n",
      "9 * 8 = 72\n",
      "9 * 9 = 81\n"
     ]
    }
   ],
   "source": [
    "for i in range(2, 10) :\n",
    "    print('%d단')\n",
    "    for j in range(1, 10) :\n",
    "        print(f'%d * %d = %2d' %(i,j,i*j))"
   ]
  },
  {
   "cell_type": "code",
   "execution_count": 60,
   "id": "f26d5ca5-023d-4f87-8d74-ecd271c8fd57",
   "metadata": {},
   "outputs": [
    {
     "name": "stdout",
     "output_type": "stream",
     "text": [
      "The value is 123.457\n"
     ]
    }
   ],
   "source": [
    "print(f'The value is %.3f'%123.456789)"
   ]
  },
  {
   "cell_type": "code",
   "execution_count": null,
   "id": "5e3d4c9a-6fcf-4cad-a1cd-3ffc21067626",
   "metadata": {},
   "outputs": [],
   "source": [
    "2진수 : 0-1\n",
    "8진수 : 0-7\n",
    "10진수 : 0-9\n",
    "16진수 : 0-F"
   ]
  },
  {
   "cell_type": "code",
   "execution_count": null,
   "id": "cd512741-d689-476e-bd7a-8987fc9e859e",
   "metadata": {},
   "outputs": [],
   "source": [
    "2진수  : 0 1 10 11 100 101 110 111\n",
    "10진수 : 0 1 2  3   4   5   6   7\n",
    "8진수  : 0 1 2  3   4   5   6   7  10 11 12 13 15 16 17 20\n",
    "16진수 : "
   ]
  },
  {
   "cell_type": "code",
   "execution_count": null,
   "id": "ff641359-100b-455f-885c-58235ce33a6d",
   "metadata": {},
   "outputs": [],
   "source": [
    "10진수 : 0 1 2 3 4 5 6 7 8 9 10 11 12 13 14 15 \n",
    "16진수 : 0 1 2 3 4 5 6 7 8 9 A  B  C  D  E  F"
   ]
  },
  {
   "cell_type": "code",
   "execution_count": null,
   "id": "8273be78-cfe5-4d26-b757-11f51ca46489",
   "metadata": {},
   "outputs": [],
   "source": [
    "0     ~     f\n",
    "0000  ~   1111"
   ]
  },
  {
   "cell_type": "code",
   "execution_count": 5,
   "id": "d50d5bf7-e835-41a3-a25d-eb9c2f3d4cc4",
   "metadata": {},
   "outputs": [
    {
     "name": "stdout",
     "output_type": "stream",
     "text": [
      "The value is 0\n",
      "The value is 1\n",
      "The value is 2\n",
      "The value is 3\n",
      "The value is 4\n",
      "The value is 5\n",
      "The value is 6\n",
      "The value is 7\n",
      "The value is 10\n",
      "The value is 11\n"
     ]
    }
   ],
   "source": [
    "for i in range(10) :\n",
    "    print(f'The value is %o'%i)    #8진수"
   ]
  },
  {
   "cell_type": "code",
   "execution_count": 6,
   "id": "e0da0d47-376f-40f9-8a59-080ae7674896",
   "metadata": {},
   "outputs": [
    {
     "name": "stdout",
     "output_type": "stream",
     "text": [
      "The value is 0\n",
      "The value is 1\n",
      "The value is 2\n",
      "The value is 3\n",
      "The value is 4\n",
      "The value is 5\n",
      "The value is 6\n",
      "The value is 7\n",
      "The value is 8\n",
      "The value is 9\n",
      "The value is a\n",
      "The value is b\n",
      "The value is c\n",
      "The value is d\n",
      "The value is e\n",
      "The value is f\n",
      "The value is 10\n",
      "The value is 11\n"
     ]
    }
   ],
   "source": [
    "for i in range(18) :\n",
    "    print(f'The value is %x'%i)    #16진수"
   ]
  },
  {
   "cell_type": "code",
   "execution_count": 7,
   "id": "703eff54-c0ab-41f6-a960-480235edaaa5",
   "metadata": {},
   "outputs": [
    {
     "name": "stdout",
     "output_type": "stream",
     "text": [
      "90.0%\n"
     ]
    }
   ],
   "source": [
    "print(f'%0.1f%%'%90)"
   ]
  }
 ],
 "metadata": {
  "kernelspec": {
   "display_name": "Python 3.9.13 ('base')",
   "language": "python",
   "name": "python3"
  },
  "language_info": {
   "codemirror_mode": {
    "name": "ipython",
    "version": 3
   },
   "file_extension": ".py",
   "mimetype": "text/x-python",
   "name": "python",
   "nbconvert_exporter": "python",
   "pygments_lexer": "ipython3",
   "version": "3.9.13"
  },
  "vscode": {
   "interpreter": {
    "hash": "701d4f28dcd0866722f5108a3a4cbcd08882d26398b6d44117e791d7b8102912"
   }
  }
 },
 "nbformat": 4,
 "nbformat_minor": 5
}
