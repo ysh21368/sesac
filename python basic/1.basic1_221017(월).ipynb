{
 "cells": [
  {
   "cell_type": "code",
   "execution_count": 1,
   "id": "ede7c94a-c7c4-42ea-9543-31d4b00b1ae3",
   "metadata": {},
   "outputs": [],
   "source": [
    "a = 1"
   ]
  },
  {
   "cell_type": "code",
   "execution_count": 2,
   "id": "11b5d199-2aef-4df3-8c62-50f51ee46346",
   "metadata": {
    "tags": []
   },
   "outputs": [],
   "source": [
    "a = 'a'"
   ]
  },
  {
   "cell_type": "code",
   "execution_count": 3,
   "id": "5245e869-054b-43b9-bdd6-9ddca09ed9cd",
   "metadata": {},
   "outputs": [],
   "source": [
    "name = 'seong hyeon'"
   ]
  },
  {
   "cell_type": "code",
   "execution_count": 4,
   "id": "3d69fe60-5485-440c-93fc-9c267bc21305",
   "metadata": {},
   "outputs": [
    {
     "data": {
      "text/plain": [
       "'seong hyeon'"
      ]
     },
     "execution_count": 4,
     "metadata": {},
     "output_type": "execute_result"
    }
   ],
   "source": [
    "name"
   ]
  },
  {
   "cell_type": "code",
   "execution_count": 6,
   "id": "e57c78aa-998f-4527-9e38-0401f378dd73",
   "metadata": {},
   "outputs": [],
   "source": [
    "name1 = 'test'"
   ]
  },
  {
   "cell_type": "code",
   "execution_count": 9,
   "id": "cd2f3891-3488-46b3-b2bb-43a35d275e39",
   "metadata": {
    "tags": []
   },
   "outputs": [
    {
     "ename": "SyntaxError",
     "evalue": "invalid syntax (1477110503.py, line 1)",
     "output_type": "error",
     "traceback": [
      "\u001b[0;36m  File \u001b[0;32m\"/var/folders/p_/hv88l_q965d2ywt45g92d86r0000gn/T/ipykernel_14916/1477110503.py\"\u001b[0;36m, line \u001b[0;32m1\u001b[0m\n\u001b[0;31m    1name = 'test'\u001b[0m\n\u001b[0m     ^\u001b[0m\n\u001b[0;31mSyntaxError\u001b[0m\u001b[0;31m:\u001b[0m invalid syntax\n"
     ]
    }
   ],
   "source": [
    "1name = 'test' #문자열 앞에는 숫자가 들어가는것이 불가하다"
   ]
  },
  {
   "cell_type": "markdown",
   "id": "b03ebd75-5d2d-4043-a9dc-669059329d2e",
   "metadata": {},
   "source": [
    "- 숫자형\n",
    "- 문자형\n",
    "- bool(true/false)"
   ]
  },
  {
   "cell_type": "markdown",
   "id": "a01dca1a-afc7-4ddf-8dcf-9f4d14ffa8fe",
   "metadata": {},
   "source": [
    "- 문자형"
   ]
  },
  {
   "cell_type": "code",
   "execution_count": 12,
   "id": "237aa102-50d2-4253-8475-38efe7134b51",
   "metadata": {
    "tags": []
   },
   "outputs": [],
   "source": [
    "이름 = '승현'"
   ]
  },
  {
   "cell_type": "markdown",
   "id": "0ce50260-ca8a-45c0-a9e4-e4e8c460d790",
   "metadata": {},
   "source": [
    "- 숫자형"
   ]
  },
  {
   "cell_type": "code",
   "execution_count": 13,
   "id": "7a20a9c1-813b-4b3d-8ac5-55ebcad923b2",
   "metadata": {},
   "outputs": [],
   "source": [
    "num1 = 123 # int"
   ]
  },
  {
   "cell_type": "code",
   "execution_count": 14,
   "id": "804ac36a-fcf5-4b02-ab0c-53aad49eb21b",
   "metadata": {},
   "outputs": [],
   "source": [
    "num2 = 1.1 # float"
   ]
  },
  {
   "cell_type": "code",
   "execution_count": 15,
   "id": "1b987a96-32ff-432b-ad87-1196a542e350",
   "metadata": {},
   "outputs": [
    {
     "data": {
      "text/plain": [
       "123"
      ]
     },
     "execution_count": 15,
     "metadata": {},
     "output_type": "execute_result"
    }
   ],
   "source": [
    "num1"
   ]
  },
  {
   "cell_type": "code",
   "execution_count": 16,
   "id": "0178ad3f-8c4c-4a3f-b9ec-2df9c973a4e1",
   "metadata": {},
   "outputs": [
    {
     "data": {
      "text/plain": [
       "int"
      ]
     },
     "execution_count": 16,
     "metadata": {},
     "output_type": "execute_result"
    }
   ],
   "source": [
    "type(num1)"
   ]
  },
  {
   "cell_type": "code",
   "execution_count": 17,
   "id": "9e680c8e-73ee-46bf-b19b-379cbd92d989",
   "metadata": {},
   "outputs": [
    {
     "data": {
      "text/plain": [
       "1.1"
      ]
     },
     "execution_count": 17,
     "metadata": {},
     "output_type": "execute_result"
    }
   ],
   "source": [
    "num2"
   ]
  },
  {
   "cell_type": "code",
   "execution_count": 18,
   "id": "5f02f4d5-4d46-43a3-a7d7-7e83bb8bfe85",
   "metadata": {},
   "outputs": [
    {
     "data": {
      "text/plain": [
       "float"
      ]
     },
     "execution_count": 18,
     "metadata": {},
     "output_type": "execute_result"
    }
   ],
   "source": [
    "type(num2)"
   ]
  },
  {
   "cell_type": "markdown",
   "id": "3ea01f8a-d5b6-4373-a64c-a9b2519ef0e9",
   "metadata": {
    "tags": []
   },
   "source": [
    "## 사칙연산\n",
    "- +\n",
    "- -\n",
    "- *\n",
    "- /\n",
    "- %\n",
    "- **"
   ]
  },
  {
   "cell_type": "code",
   "execution_count": 19,
   "id": "6167dc1f-4712-4d45-ae72-e3c69aa587db",
   "metadata": {},
   "outputs": [
    {
     "data": {
      "text/plain": [
       "300"
      ]
     },
     "execution_count": 19,
     "metadata": {},
     "output_type": "execute_result"
    }
   ],
   "source": [
    "100+200"
   ]
  },
  {
   "cell_type": "code",
   "execution_count": 20,
   "id": "18278209-fdda-4dd9-8c13-48f5a0643bf8",
   "metadata": {},
   "outputs": [
    {
     "data": {
      "text/plain": [
       "100"
      ]
     },
     "execution_count": 20,
     "metadata": {},
     "output_type": "execute_result"
    }
   ],
   "source": [
    "200-100"
   ]
  },
  {
   "cell_type": "code",
   "execution_count": 21,
   "id": "e363e9a9-121c-4a07-a1e6-2f0111aa5e54",
   "metadata": {},
   "outputs": [
    {
     "data": {
      "text/plain": [
       "200"
      ]
     },
     "execution_count": 21,
     "metadata": {},
     "output_type": "execute_result"
    }
   ],
   "source": [
    "100*2"
   ]
  },
  {
   "cell_type": "code",
   "execution_count": 22,
   "id": "40c5783f-1f1e-4f34-8187-2471d212c4e5",
   "metadata": {},
   "outputs": [
    {
     "data": {
      "text/plain": [
       "50.0"
      ]
     },
     "execution_count": 22,
     "metadata": {},
     "output_type": "execute_result"
    }
   ],
   "source": [
    "100/2"
   ]
  },
  {
   "cell_type": "code",
   "execution_count": 23,
   "id": "4776ac1c-48ff-4427-91e8-b853201f8a86",
   "metadata": {},
   "outputs": [
    {
     "data": {
      "text/plain": [
       "2.5"
      ]
     },
     "execution_count": 23,
     "metadata": {},
     "output_type": "execute_result"
    }
   ],
   "source": [
    "5/2 # 나눗셈"
   ]
  },
  {
   "cell_type": "code",
   "execution_count": 24,
   "id": "40a9379c-c6fe-4ebf-885f-97bfbf490b62",
   "metadata": {},
   "outputs": [
    {
     "data": {
      "text/plain": [
       "2"
      ]
     },
     "execution_count": 24,
     "metadata": {},
     "output_type": "execute_result"
    }
   ],
   "source": [
    "5//2 # 몫"
   ]
  },
  {
   "cell_type": "code",
   "execution_count": 25,
   "id": "64642611-24a6-408b-8691-704bf1fd346f",
   "metadata": {},
   "outputs": [
    {
     "data": {
      "text/plain": [
       "1"
      ]
     },
     "execution_count": 25,
     "metadata": {},
     "output_type": "execute_result"
    }
   ],
   "source": [
    "5%2 # 나머지"
   ]
  },
  {
   "cell_type": "code",
   "execution_count": 20,
   "id": "a1d9aceb-fe39-456e-8b76-f9d3ebed5e80",
   "metadata": {},
   "outputs": [
    {
     "ename": "ZeroDivisionError",
     "evalue": "division by zero",
     "output_type": "error",
     "traceback": [
      "\u001b[1;31m---------------------------------------------------------------------------\u001b[0m",
      "\u001b[1;31mZeroDivisionError\u001b[0m                         Traceback (most recent call last)",
      "Input \u001b[1;32mIn [20]\u001b[0m, in \u001b[0;36m<cell line: 1>\u001b[1;34m()\u001b[0m\n\u001b[1;32m----> 1\u001b[0m \u001b[38;5;241;43m5\u001b[39;49m\u001b[38;5;241;43m/\u001b[39;49m\u001b[38;5;241;43m0\u001b[39;49m\n",
      "\u001b[1;31mZeroDivisionError\u001b[0m: division by zero"
     ]
    }
   ],
   "source": [
    "5/0 # 0으로는 나눌수가 없다."
   ]
  },
  {
   "cell_type": "code",
   "execution_count": 26,
   "id": "c330ed4c-8f5f-4f22-8b6c-69dd63201339",
   "metadata": {},
   "outputs": [
    {
     "data": {
      "text/plain": [
       "9"
      ]
     },
     "execution_count": 26,
     "metadata": {},
     "output_type": "execute_result"
    }
   ],
   "source": [
    "3 ** 2"
   ]
  },
  {
   "cell_type": "code",
   "execution_count": 27,
   "id": "5e581a98-059a-4407-83f9-7064a032976c",
   "metadata": {},
   "outputs": [
    {
     "data": {
      "text/plain": [
       "27"
      ]
     },
     "execution_count": 27,
     "metadata": {},
     "output_type": "execute_result"
    }
   ],
   "source": [
    "3 ** 3"
   ]
  },
  {
   "cell_type": "markdown",
   "id": "4c206cc8-fe09-4033-9498-e6848a4c1cd3",
   "metadata": {
    "tags": []
   },
   "source": [
    "## Quiz\n",
    "1. 57, 84, 93, 58, 67 의 평균을 구하시오.\n",
    "2. 5188531 초를 시간, 분, 초 단위로 변환하세요. -> X시간 X분 X초 / 1시간 1분 1초 -> 3600+60+1\n",
    "3. 2의 100제곱을 7로 나눈 몫과 나머지를 구하세요"
   ]
  },
  {
   "cell_type": "markdown",
   "id": "e54e85b3-9d72-47bc-98f1-99bfb2b9f002",
   "metadata": {},
   "source": [
    "## Quiz1"
   ]
  },
  {
   "cell_type": "code",
   "execution_count": 28,
   "id": "39f59a7e-a7ab-485f-9b52-b5f5f7698e05",
   "metadata": {},
   "outputs": [
    {
     "data": {
      "text/plain": [
       "71.8"
      ]
     },
     "execution_count": 28,
     "metadata": {},
     "output_type": "execute_result"
    }
   ],
   "source": [
    "(57+84+93+58+67)/5"
   ]
  },
  {
   "cell_type": "markdown",
   "id": "701ee49c-3002-415a-a46a-a17786d43ab8",
   "metadata": {},
   "source": [
    "## Quiz2"
   ]
  },
  {
   "cell_type": "code",
   "execution_count": 29,
   "id": "ccacc559-c968-4484-80dd-98b6f4be24c9",
   "metadata": {
    "tags": []
   },
   "outputs": [],
   "source": [
    "q = 5188531"
   ]
  },
  {
   "cell_type": "code",
   "execution_count": 30,
   "id": "04af6da2-3fd3-4f19-a4cb-494fa0d1489e",
   "metadata": {},
   "outputs": [
    {
     "name": "stdout",
     "output_type": "stream",
     "text": [
      "1441\n"
     ]
    }
   ],
   "source": [
    "hour = q // 3600\n",
    "print(hour)"
   ]
  },
  {
   "cell_type": "code",
   "execution_count": 31,
   "id": "fd3bb123-1f8b-44fd-851e-2670474d8635",
   "metadata": {},
   "outputs": [],
   "source": [
    "minutes = hour % 3600 // 60"
   ]
  },
  {
   "cell_type": "code",
   "execution_count": 32,
   "id": "3e41c5e1-3183-4700-b832-fc194392a240",
   "metadata": {},
   "outputs": [],
   "source": [
    "seconds = q % 3600 % 60"
   ]
  },
  {
   "cell_type": "code",
   "execution_count": 33,
   "id": "4e0aa7a7-6eaf-4b84-a727-0a61145d2b9c",
   "metadata": {
    "tags": []
   },
   "outputs": [
    {
     "name": "stdout",
     "output_type": "stream",
     "text": [
      "1441 시간 24 분 31 초\n"
     ]
    }
   ],
   "source": [
    "print(hour, '시간', minutes, '분', seconds, '초')"
   ]
  },
  {
   "cell_type": "code",
   "execution_count": 34,
   "id": "8c56e77a-18bd-4d30-96b0-a0a33382103b",
   "metadata": {},
   "outputs": [],
   "source": [
    "a = 5188531"
   ]
  },
  {
   "cell_type": "code",
   "execution_count": 35,
   "id": "68c29551-0d62-46f6-8f1c-a7652a247cee",
   "metadata": {},
   "outputs": [
    {
     "name": "stdout",
     "output_type": "stream",
     "text": [
      "1441\n"
     ]
    }
   ],
   "source": [
    "hour = a // 3600\n",
    "print(hour)"
   ]
  },
  {
   "cell_type": "code",
   "execution_count": 36,
   "id": "df4259f1-bb21-46f9-aa4a-06dc5dff3165",
   "metadata": {},
   "outputs": [
    {
     "name": "stdout",
     "output_type": "stream",
     "text": [
      "15\n"
     ]
    }
   ],
   "source": [
    "minutes = a % 3600 // 60\n",
    "print(minutes)"
   ]
  },
  {
   "cell_type": "code",
   "execution_count": 37,
   "id": "2adb3ae9-d2e0-4447-9304-7a5a85670d9d",
   "metadata": {},
   "outputs": [
    {
     "name": "stdout",
     "output_type": "stream",
     "text": [
      "31\n"
     ]
    }
   ],
   "source": [
    "seconds = a % 3600 % 60\n",
    "print(seconds)"
   ]
  },
  {
   "cell_type": "code",
   "execution_count": 40,
   "id": "6f25779b-9e28-4f7a-af37-60b0aa3ca4fc",
   "metadata": {},
   "outputs": [
    {
     "data": {
      "text/plain": [
       "10921"
      ]
     },
     "execution_count": 40,
     "metadata": {},
     "output_type": "execute_result"
    }
   ],
   "source": [
    "3 * 3600 + 2 * 60 + 1 "
   ]
  },
  {
   "cell_type": "code",
   "execution_count": 41,
   "id": "f9167658-7270-4635-bc74-aa52378d7a29",
   "metadata": {},
   "outputs": [
    {
     "data": {
      "text/plain": [
       "3"
      ]
     },
     "execution_count": 41,
     "metadata": {},
     "output_type": "execute_result"
    }
   ],
   "source": [
    "10921 // 3600"
   ]
  },
  {
   "cell_type": "code",
   "execution_count": 42,
   "id": "445b5ad6-2b01-4178-8b52-092ca12baeb5",
   "metadata": {},
   "outputs": [
    {
     "data": {
      "text/plain": [
       "2"
      ]
     },
     "execution_count": 42,
     "metadata": {},
     "output_type": "execute_result"
    }
   ],
   "source": [
    "10921 % 3600 // 60"
   ]
  },
  {
   "cell_type": "code",
   "execution_count": 43,
   "id": "9118fa95-907b-4a4b-887a-2c17dffad35d",
   "metadata": {},
   "outputs": [
    {
     "data": {
      "text/plain": [
       "1"
      ]
     },
     "execution_count": 43,
     "metadata": {},
     "output_type": "execute_result"
    }
   ],
   "source": [
    "10921 % 3600 % 60"
   ]
  },
  {
   "cell_type": "markdown",
   "id": "85652df3-8e99-4595-9dfa-547f48253a1c",
   "metadata": {
    "tags": []
   },
   "source": [
    "## Quiz3"
   ]
  },
  {
   "cell_type": "code",
   "execution_count": 44,
   "id": "d25caae6-191e-4119-b4e2-2007525d3506",
   "metadata": {
    "tags": []
   },
   "outputs": [
    {
     "data": {
      "text/plain": [
       "1.8109294288974705e+29"
      ]
     },
     "execution_count": 44,
     "metadata": {},
     "output_type": "execute_result"
    }
   ],
   "source": [
    "(2 ** 100) / 7"
   ]
  },
  {
   "cell_type": "code",
   "execution_count": 45,
   "id": "7c55558e-848b-402e-8ab8-1fae97d7041a",
   "metadata": {},
   "outputs": [
    {
     "data": {
      "text/plain": [
       "181092942889747057356671886482"
      ]
     },
     "execution_count": 45,
     "metadata": {},
     "output_type": "execute_result"
    }
   ],
   "source": [
    "(2 ** 100) // 7"
   ]
  },
  {
   "cell_type": "code",
   "execution_count": 46,
   "id": "2800f4c7-0f5f-4427-89e2-a4209bcc913b",
   "metadata": {},
   "outputs": [
    {
     "data": {
      "text/plain": [
       "2"
      ]
     },
     "execution_count": 46,
     "metadata": {},
     "output_type": "execute_result"
    }
   ],
   "source": [
    "(2 ** 100) % 7"
   ]
  },
  {
   "cell_type": "code",
   "execution_count": 47,
   "id": "872ba8e4-fef9-4958-b7cd-f3fb56357b1f",
   "metadata": {},
   "outputs": [
    {
     "data": {
      "text/plain": [
       "1"
      ]
     },
     "execution_count": 47,
     "metadata": {},
     "output_type": "execute_result"
    }
   ],
   "source": [
    "int(num2)"
   ]
  },
  {
   "cell_type": "code",
   "execution_count": 48,
   "id": "4c5b84e5-b5f0-4fe2-93b8-e090614b1c38",
   "metadata": {},
   "outputs": [
    {
     "data": {
      "text/plain": [
       "1.1"
      ]
     },
     "execution_count": 48,
     "metadata": {},
     "output_type": "execute_result"
    }
   ],
   "source": [
    "float(num2)"
   ]
  },
  {
   "cell_type": "code",
   "execution_count": 49,
   "id": "bf64ee81-4645-410d-aee6-10c73b996fcc",
   "metadata": {},
   "outputs": [],
   "source": [
    "num3 = '1'"
   ]
  },
  {
   "cell_type": "code",
   "execution_count": 50,
   "id": "24d99a4b-f559-4ff9-9f2c-c85283f1da6c",
   "metadata": {},
   "outputs": [
    {
     "name": "stdout",
     "output_type": "stream",
     "text": [
      "<class 'str'>\n"
     ]
    }
   ],
   "source": [
    "print(type(num3))"
   ]
  },
  {
   "cell_type": "markdown",
   "id": "4c47ffc9-846e-4c92-8e0d-ab23f84f66cc",
   "metadata": {
    "tags": []
   },
   "source": [
    "## 문자열"
   ]
  },
  {
   "cell_type": "code",
   "execution_count": 51,
   "id": "a54f3aff-1722-418f-9ddd-327362704304",
   "metadata": {},
   "outputs": [
    {
     "data": {
      "text/plain": [
       "'Hello'"
      ]
     },
     "execution_count": 51,
     "metadata": {},
     "output_type": "execute_result"
    }
   ],
   "source": [
    "'Hello'"
   ]
  },
  {
   "cell_type": "code",
   "execution_count": 52,
   "id": "7e514bf0-36db-49d5-972e-4c81fb2b571d",
   "metadata": {},
   "outputs": [
    {
     "data": {
      "text/plain": [
       "'1'"
      ]
     },
     "execution_count": 52,
     "metadata": {},
     "output_type": "execute_result"
    }
   ],
   "source": [
    "'1'"
   ]
  },
  {
   "cell_type": "code",
   "execution_count": 53,
   "id": "aca195f2-eb1c-4e81-9bcb-4d9a79c3355f",
   "metadata": {},
   "outputs": [
    {
     "data": {
      "text/plain": [
       "False"
      ]
     },
     "execution_count": 53,
     "metadata": {},
     "output_type": "execute_result"
    }
   ],
   "source": [
    "1 == '1'"
   ]
  },
  {
   "cell_type": "code",
   "execution_count": 54,
   "id": "9a9bcab8-e604-403f-914d-b1f13b785859",
   "metadata": {},
   "outputs": [
    {
     "data": {
      "text/plain": [
       "\"I'm hojin\""
      ]
     },
     "execution_count": 54,
     "metadata": {},
     "output_type": "execute_result"
    }
   ],
   "source": [
    "\"I'm hojin\""
   ]
  },
  {
   "cell_type": "code",
   "execution_count": 55,
   "id": "b2a2a4d7-5669-45d1-bd73-9a35b70fd976",
   "metadata": {},
   "outputs": [
    {
     "data": {
      "text/plain": [
       "\"I'm hojin\""
      ]
     },
     "execution_count": 55,
     "metadata": {},
     "output_type": "execute_result"
    }
   ],
   "source": [
    "'I\\'m hojin'"
   ]
  },
  {
   "cell_type": "code",
   "execution_count": 56,
   "id": "f3ec599a-5257-4338-81dc-809bbde51679",
   "metadata": {},
   "outputs": [
    {
     "name": "stdout",
     "output_type": "stream",
     "text": [
      "Hello World! \n",
      "Hello Python!\n"
     ]
    }
   ],
   "source": [
    "print('Hello World! \\nHello Python!')"
   ]
  },
  {
   "cell_type": "code",
   "execution_count": 57,
   "id": "6d40b58f-6ed3-41ef-b0d3-7b79896182fc",
   "metadata": {
    "tags": []
   },
   "outputs": [
    {
     "name": "stdout",
     "output_type": "stream",
     "text": [
      "Hello World!\n",
      "\n",
      "Hello Python!\n"
     ]
    }
   ],
   "source": [
    "print('''Hello World!\n",
    "\n",
    "Hello Python!''')"
   ]
  },
  {
   "cell_type": "markdown",
   "id": "adf626f9-8a2b-4dd4-b725-3050b0346f96",
   "metadata": {},
   "source": [
    "## 문자열 연산\n",
    "- 더하기(+)\n",
    "- 곱하기(*)"
   ]
  },
  {
   "cell_type": "code",
   "execution_count": 58,
   "id": "6a20f738-3cb1-4fe7-ac53-14a9e85c5c4c",
   "metadata": {},
   "outputs": [],
   "source": [
    "a = 'Hello'\n",
    "b = ' Python!'"
   ]
  },
  {
   "cell_type": "code",
   "execution_count": 59,
   "id": "acf3357b-a4b0-4141-a2f9-f1f2e5fdd61d",
   "metadata": {},
   "outputs": [
    {
     "data": {
      "text/plain": [
       "'Hello Python!'"
      ]
     },
     "execution_count": 59,
     "metadata": {},
     "output_type": "execute_result"
    }
   ],
   "source": [
    "a + b"
   ]
  },
  {
   "cell_type": "code",
   "execution_count": 60,
   "id": "616dc3e7-4d87-482b-90cc-c2ffb19c2d0a",
   "metadata": {},
   "outputs": [
    {
     "name": "stdout",
     "output_type": "stream",
     "text": [
      "Hello Python!Hello Python!Hello Python!\n"
     ]
    }
   ],
   "source": [
    "print('Hello Python!' * 3)"
   ]
  },
  {
   "cell_type": "code",
   "execution_count": 61,
   "id": "a060bebe-2763-41ce-a97f-202d6adcd12c",
   "metadata": {},
   "outputs": [],
   "source": [
    "c = 1"
   ]
  },
  {
   "cell_type": "code",
   "execution_count": 62,
   "id": "16ac4126-5178-4f1f-9d62-8c33868dbc5e",
   "metadata": {},
   "outputs": [
    {
     "data": {
      "text/plain": [
       "'Hello Python!1'"
      ]
     },
     "execution_count": 62,
     "metadata": {},
     "output_type": "execute_result"
    }
   ],
   "source": [
    "a + b + str(c)"
   ]
  },
  {
   "cell_type": "code",
   "execution_count": 63,
   "id": "eff4e5ce-5cae-447a-b105-c52af7973afe",
   "metadata": {},
   "outputs": [
    {
     "name": "stdout",
     "output_type": "stream",
     "text": [
      "Hello Python! 1\n"
     ]
    }
   ],
   "source": [
    "print(a+b, c)"
   ]
  },
  {
   "cell_type": "markdown",
   "id": "a7e529e5-8137-49b0-a7fe-37cb57217608",
   "metadata": {},
   "source": [
    "## 인덱싱과 슬라이싱 (매우중요***************)"
   ]
  },
  {
   "cell_type": "markdown",
   "id": "3d7c5e1c-51b6-4a58-b4c3-9a8dc832e3a8",
   "metadata": {},
   "source": [
    "### 인덱싱 (매우 중요....)"
   ]
  },
  {
   "cell_type": "code",
   "execution_count": 64,
   "id": "30fb79a9-5699-4567-ba5e-3bd8805cf157",
   "metadata": {},
   "outputs": [],
   "source": [
    "t = 'Hello Sesac!'"
   ]
  },
  {
   "cell_type": "code",
   "execution_count": 65,
   "id": "df717b63-a509-4c5d-9a74-50c343ce115c",
   "metadata": {
    "tags": []
   },
   "outputs": [
    {
     "data": {
      "text/plain": [
       "'H'"
      ]
     },
     "execution_count": 65,
     "metadata": {},
     "output_type": "execute_result"
    }
   ],
   "source": [
    "t[0]"
   ]
  },
  {
   "cell_type": "code",
   "execution_count": 66,
   "id": "80e1945a-3cd9-4103-b35c-f772d9d4017a",
   "metadata": {},
   "outputs": [
    {
     "data": {
      "text/plain": [
       "12"
      ]
     },
     "execution_count": 66,
     "metadata": {},
     "output_type": "execute_result"
    }
   ],
   "source": [
    "len(t)"
   ]
  },
  {
   "cell_type": "code",
   "execution_count": 67,
   "id": "d71b5dcf-96d8-4031-b5ce-5c1e40a6eb27",
   "metadata": {},
   "outputs": [
    {
     "data": {
      "text/plain": [
       "'!'"
      ]
     },
     "execution_count": 67,
     "metadata": {},
     "output_type": "execute_result"
    }
   ],
   "source": [
    "t[11]"
   ]
  },
  {
   "cell_type": "code",
   "execution_count": 68,
   "id": "af6d362c-2d6e-4864-98dc-8ffda85a23ae",
   "metadata": {},
   "outputs": [
    {
     "data": {
      "text/plain": [
       "'!'"
      ]
     },
     "execution_count": 68,
     "metadata": {},
     "output_type": "execute_result"
    }
   ],
   "source": [
    "t[-1]"
   ]
  },
  {
   "cell_type": "markdown",
   "id": "9e1e3803-bcdc-4613-a04a-0bc71320ff91",
   "metadata": {},
   "source": [
    "### 슬라이싱 (매우 중요....)"
   ]
  },
  {
   "cell_type": "code",
   "execution_count": 69,
   "id": "be01e5c3-d879-44e9-b420-380ffab3fe73",
   "metadata": {},
   "outputs": [],
   "source": [
    "t = 'Hello Sesac!'"
   ]
  },
  {
   "cell_type": "code",
   "execution_count": 70,
   "id": "85a68b09-e35b-4d80-87a9-1cd0219b9f22",
   "metadata": {},
   "outputs": [
    {
     "data": {
      "text/plain": [
       "'Hello'"
      ]
     },
     "execution_count": 70,
     "metadata": {},
     "output_type": "execute_result"
    }
   ],
   "source": [
    "t[0] + t[1] + t[2] + t[3] + t[4]"
   ]
  },
  {
   "cell_type": "code",
   "execution_count": 71,
   "id": "b94afa33-6349-46cf-b9b3-a5379b23b071",
   "metadata": {},
   "outputs": [
    {
     "data": {
      "text/plain": [
       "'Hello'"
      ]
     },
     "execution_count": 71,
     "metadata": {},
     "output_type": "execute_result"
    }
   ],
   "source": [
    "t[0:5]"
   ]
  },
  {
   "cell_type": "code",
   "execution_count": 72,
   "id": "da72e37d-a1c2-4a8c-b051-d5a72af1749a",
   "metadata": {
    "tags": []
   },
   "outputs": [
    {
     "data": {
      "text/plain": [
       "'Sesac'"
      ]
     },
     "execution_count": 72,
     "metadata": {},
     "output_type": "execute_result"
    }
   ],
   "source": [
    "t[6:11]"
   ]
  },
  {
   "cell_type": "code",
   "execution_count": 73,
   "id": "6c9acf77-faff-4649-bd7f-c3fc18b451d0",
   "metadata": {},
   "outputs": [
    {
     "data": {
      "text/plain": [
       "'Sesac!'"
      ]
     },
     "execution_count": 73,
     "metadata": {},
     "output_type": "execute_result"
    }
   ],
   "source": [
    "t[6:12]"
   ]
  },
  {
   "cell_type": "code",
   "execution_count": 74,
   "id": "55b8b53b-f43c-4ef7-8914-97aad7556f90",
   "metadata": {},
   "outputs": [
    {
     "data": {
      "text/plain": [
       "'Sesac!'"
      ]
     },
     "execution_count": 74,
     "metadata": {},
     "output_type": "execute_result"
    }
   ],
   "source": [
    "t[6:]"
   ]
  },
  {
   "cell_type": "code",
   "execution_count": 75,
   "id": "10ef6e7d-6b6b-4f14-84f8-369c3790f3db",
   "metadata": {},
   "outputs": [
    {
     "data": {
      "text/plain": [
       "'Hello'"
      ]
     },
     "execution_count": 75,
     "metadata": {},
     "output_type": "execute_result"
    }
   ],
   "source": [
    "t[:5]"
   ]
  },
  {
   "cell_type": "code",
   "execution_count": 76,
   "id": "07427967-cf4e-4229-9053-daa8bfcf0fcd",
   "metadata": {},
   "outputs": [
    {
     "data": {
      "text/plain": [
       "'Hello Sesac!'"
      ]
     },
     "execution_count": 76,
     "metadata": {},
     "output_type": "execute_result"
    }
   ],
   "source": [
    "t[:]"
   ]
  },
  {
   "cell_type": "code",
   "execution_count": 77,
   "id": "e815493e-3e39-4d02-a11c-c6462cace799",
   "metadata": {
    "tags": []
   },
   "outputs": [
    {
     "data": {
      "text/plain": [
       "'Sesac'"
      ]
     },
     "execution_count": 77,
     "metadata": {},
     "output_type": "execute_result"
    }
   ],
   "source": [
    "t[-6:-1]"
   ]
  },
  {
   "cell_type": "markdown",
   "id": "dc52e644-d17c-441a-a9d9-516c8b4c140a",
   "metadata": {},
   "source": [
    "## 문자열 관련 함수"
   ]
  },
  {
   "cell_type": "markdown",
   "id": "d692b4a9-7dfe-4f15-98e4-9286c2ae4f41",
   "metadata": {},
   "source": [
    "### count"
   ]
  },
  {
   "cell_type": "code",
   "execution_count": 78,
   "id": "2f292dce-be6f-4285-867f-a89ccf5b2b95",
   "metadata": {},
   "outputs": [],
   "source": [
    "name = 'KIM LEE CHOI PARK LEE LEE'"
   ]
  },
  {
   "cell_type": "code",
   "execution_count": 79,
   "id": "779dbcd6-9ca5-4fcd-9db1-7c08da3fac7a",
   "metadata": {},
   "outputs": [
    {
     "data": {
      "text/plain": [
       "3"
      ]
     },
     "execution_count": 79,
     "metadata": {},
     "output_type": "execute_result"
    }
   ],
   "source": [
    "name.count('LEE')"
   ]
  },
  {
   "cell_type": "code",
   "execution_count": 80,
   "id": "8fee1024-5ece-4e4b-a5ee-954f10304545",
   "metadata": {},
   "outputs": [
    {
     "data": {
      "text/plain": [
       "6"
      ]
     },
     "execution_count": 80,
     "metadata": {},
     "output_type": "execute_result"
    }
   ],
   "source": [
    "name.count('E')"
   ]
  },
  {
   "cell_type": "markdown",
   "id": "44a8c602-d9be-4bef-a778-4b276ef388eb",
   "metadata": {},
   "source": [
    "### find"
   ]
  },
  {
   "cell_type": "code",
   "execution_count": 81,
   "id": "76dedf70-1ea0-428e-9c63-3f1ce9309b88",
   "metadata": {},
   "outputs": [
    {
     "data": {
      "text/plain": [
       "4"
      ]
     },
     "execution_count": 81,
     "metadata": {},
     "output_type": "execute_result"
    }
   ],
   "source": [
    "name.find('LEE')"
   ]
  },
  {
   "cell_type": "code",
   "execution_count": 82,
   "id": "28c0b073-9b8d-4eb9-a32a-2b6a95d2dcb3",
   "metadata": {},
   "outputs": [
    {
     "data": {
      "text/plain": [
       "8"
      ]
     },
     "execution_count": 82,
     "metadata": {},
     "output_type": "execute_result"
    }
   ],
   "source": [
    "name.find('CHOI')"
   ]
  },
  {
   "cell_type": "code",
   "execution_count": 83,
   "id": "42e63d7b-ccb3-4899-9fb8-c69abe845b64",
   "metadata": {},
   "outputs": [
    {
     "data": {
      "text/plain": [
       "'CHOI'"
      ]
     },
     "execution_count": 83,
     "metadata": {},
     "output_type": "execute_result"
    }
   ],
   "source": [
    "name[8:12]"
   ]
  },
  {
   "cell_type": "code",
   "execution_count": 84,
   "id": "84344350-d4dd-402b-9328-d498ea92bc61",
   "metadata": {},
   "outputs": [
    {
     "data": {
      "text/plain": [
       "-1"
      ]
     },
     "execution_count": 84,
     "metadata": {},
     "output_type": "execute_result"
    }
   ],
   "source": [
    "name.find('KWON')"
   ]
  },
  {
   "cell_type": "markdown",
   "id": "ce794e10-f78a-4739-a4b2-398e0da95c89",
   "metadata": {},
   "source": [
    "### Index"
   ]
  },
  {
   "cell_type": "code",
   "execution_count": 85,
   "id": "350ea5fe-34d4-4e50-8739-431dcf947df2",
   "metadata": {},
   "outputs": [
    {
     "data": {
      "text/plain": [
       "8"
      ]
     },
     "execution_count": 85,
     "metadata": {},
     "output_type": "execute_result"
    }
   ],
   "source": [
    "name.index('CHOI')"
   ]
  },
  {
   "cell_type": "markdown",
   "id": "f70add3f-4747-40ff-a4d9-3f08bc537d25",
   "metadata": {},
   "source": [
    "### join"
   ]
  },
  {
   "cell_type": "code",
   "execution_count": 86,
   "id": "8d3c584f-65ab-4c32-94cd-d5f974ab0adf",
   "metadata": {},
   "outputs": [
    {
     "data": {
      "text/plain": [
       "'1-2-3-4-5'"
      ]
     },
     "execution_count": 86,
     "metadata": {},
     "output_type": "execute_result"
    }
   ],
   "source": [
    "'-'.join('12345')"
   ]
  },
  {
   "cell_type": "code",
   "execution_count": 87,
   "id": "a0a74162-e3c4-425d-a0ac-973bb084659a",
   "metadata": {
    "tags": []
   },
   "outputs": [
    {
     "data": {
      "text/plain": [
       "'a^^b^^c^^d^^e^^f^^g'"
      ]
     },
     "execution_count": 87,
     "metadata": {},
     "output_type": "execute_result"
    }
   ],
   "source": [
    "'^^'.join('abcdefg')"
   ]
  },
  {
   "cell_type": "code",
   "execution_count": 88,
   "id": "1d4dd2e7-f4f8-4436-bba8-106b1ebe0b80",
   "metadata": {},
   "outputs": [
    {
     "data": {
      "text/plain": [
       "'H e l l o'"
      ]
     },
     "execution_count": 88,
     "metadata": {},
     "output_type": "execute_result"
    }
   ],
   "source": [
    "' '.join('Hello')"
   ]
  },
  {
   "cell_type": "markdown",
   "id": "d9cf0d8b-4709-47ec-af32-c526ab231083",
   "metadata": {},
   "source": [
    "- upper (대문자)   영어는 대소문자만 구분하면 되고, 한글은 표현 방법이 여러가지라 힘들다...(?)\n",
    "- lower (소문자)"
   ]
  },
  {
   "cell_type": "code",
   "execution_count": 89,
   "id": "67494c4f-cfa1-4f1d-adba-561acfe0072a",
   "metadata": {},
   "outputs": [],
   "source": [
    "msg = 'This is my phone'"
   ]
  },
  {
   "cell_type": "code",
   "execution_count": 90,
   "id": "52fbc56c-5af1-4090-8cf6-ab61288d4074",
   "metadata": {},
   "outputs": [
    {
     "data": {
      "text/plain": [
       "'THIS IS MY PHONE'"
      ]
     },
     "execution_count": 90,
     "metadata": {},
     "output_type": "execute_result"
    }
   ],
   "source": [
    "msg.upper()"
   ]
  },
  {
   "cell_type": "code",
   "execution_count": 91,
   "id": "62d49d67-8787-423f-aecd-bfa87c6f9121",
   "metadata": {
    "tags": []
   },
   "outputs": [
    {
     "data": {
      "text/plain": [
       "'this is my phone'"
      ]
     },
     "execution_count": 91,
     "metadata": {},
     "output_type": "execute_result"
    }
   ],
   "source": [
    "msg.lower()"
   ]
  },
  {
   "cell_type": "code",
   "execution_count": 92,
   "id": "1400ccd7-1be6-45c0-b72c-d6286fb4e457",
   "metadata": {},
   "outputs": [
    {
     "data": {
      "text/plain": [
       "11"
      ]
     },
     "execution_count": 92,
     "metadata": {},
     "output_type": "execute_result"
    }
   ],
   "source": [
    "msg.lower().find('phone')"
   ]
  },
  {
   "cell_type": "code",
   "execution_count": 93,
   "id": "ffa6880b-0061-4a11-b079-34bc78cb307b",
   "metadata": {},
   "outputs": [
    {
     "data": {
      "text/plain": [
       "11"
      ]
     },
     "execution_count": 93,
     "metadata": {},
     "output_type": "execute_result"
    }
   ],
   "source": [
    "msg.upper().find('PHONE')"
   ]
  },
  {
   "cell_type": "markdown",
   "id": "233999bd-c95c-4fb3-b169-fade37bc5c9d",
   "metadata": {
    "tags": []
   },
   "source": [
    "- strip     (크롤링 할 때 꼭 필요한 함수다!!!!)\n",
    "- Istrip\n",
    "- rstrip"
   ]
  },
  {
   "cell_type": "code",
   "execution_count": 94,
   "id": "e796aa6a-ed33-4f9a-9494-a2cc27114aa0",
   "metadata": {},
   "outputs": [],
   "source": [
    "msg = '             This is my Phone         '"
   ]
  },
  {
   "cell_type": "code",
   "execution_count": 95,
   "id": "c54db520-35a0-49a0-ba46-2acb1bf133f3",
   "metadata": {},
   "outputs": [
    {
     "data": {
      "text/plain": [
       "'This is my Phone'"
      ]
     },
     "execution_count": 95,
     "metadata": {},
     "output_type": "execute_result"
    }
   ],
   "source": [
    "msg.strip()"
   ]
  },
  {
   "cell_type": "code",
   "execution_count": 96,
   "id": "d38b2b1f-1c8f-4945-8668-7d92b9d149a7",
   "metadata": {},
   "outputs": [],
   "source": [
    "msg = msg.strip()"
   ]
  },
  {
   "cell_type": "code",
   "execution_count": 97,
   "id": "43329abe-2b33-4928-824a-3ac2a0cadd7e",
   "metadata": {},
   "outputs": [
    {
     "data": {
      "text/plain": [
       "'This is my Phone'"
      ]
     },
     "execution_count": 97,
     "metadata": {},
     "output_type": "execute_result"
    }
   ],
   "source": [
    "msg.lstrip()"
   ]
  },
  {
   "cell_type": "code",
   "execution_count": 98,
   "id": "41171dc1-ba96-4c66-8017-e349786f578c",
   "metadata": {},
   "outputs": [
    {
     "data": {
      "text/plain": [
       "'This is my Phone'"
      ]
     },
     "execution_count": 98,
     "metadata": {},
     "output_type": "execute_result"
    }
   ],
   "source": [
    "msg.rstrip()"
   ]
  },
  {
   "cell_type": "markdown",
   "id": "48bfe03e-c417-417c-a342-df6adf166378",
   "metadata": {},
   "source": [
    "- replace"
   ]
  },
  {
   "cell_type": "code",
   "execution_count": 99,
   "id": "11578a31-5c22-4169-bf8f-9f9ff78c7679",
   "metadata": {},
   "outputs": [
    {
     "data": {
      "text/plain": [
       "'This is my Phone'"
      ]
     },
     "execution_count": 99,
     "metadata": {},
     "output_type": "execute_result"
    }
   ],
   "source": [
    "'This is my Phone'"
   ]
  },
  {
   "cell_type": "code",
   "execution_count": 100,
   "id": "91d23374-32e3-43ce-892f-a905c4430a6f",
   "metadata": {},
   "outputs": [
    {
     "data": {
      "text/plain": [
       "'This is your Phone'"
      ]
     },
     "execution_count": 100,
     "metadata": {},
     "output_type": "execute_result"
    }
   ],
   "source": [
    "msg.replace('my', 'your')"
   ]
  },
  {
   "cell_type": "code",
   "execution_count": 101,
   "id": "95167e31-6cc4-4de0-898b-044fdf7dc8c1",
   "metadata": {},
   "outputs": [
    {
     "data": {
      "text/plain": [
       "'ThisismyPhone'"
      ]
     },
     "execution_count": 101,
     "metadata": {},
     "output_type": "execute_result"
    }
   ],
   "source": [
    "msg.replace(' ', '')"
   ]
  },
  {
   "cell_type": "code",
   "execution_count": 102,
   "id": "7c0dd496-8d5a-434f-af71-80883e0b8fe1",
   "metadata": {},
   "outputs": [
    {
     "data": {
      "text/plain": [
       "' T h i s   i s   m y   P h o n e '"
      ]
     },
     "execution_count": 102,
     "metadata": {},
     "output_type": "execute_result"
    }
   ],
   "source": [
    "msg.replace('', ' ')"
   ]
  },
  {
   "cell_type": "markdown",
   "id": "dcd85e7b-d3ef-4c19-96e1-01fd2c44933b",
   "metadata": {},
   "source": [
    "- split"
   ]
  },
  {
   "cell_type": "code",
   "execution_count": 103,
   "id": "8b112b8c-a918-4eb0-bf26-796fb0a20bad",
   "metadata": {},
   "outputs": [
    {
     "data": {
      "text/plain": [
       "'This is my Phone'"
      ]
     },
     "execution_count": 103,
     "metadata": {},
     "output_type": "execute_result"
    }
   ],
   "source": [
    "msg"
   ]
  },
  {
   "cell_type": "code",
   "execution_count": 104,
   "id": "69b3cf53-dceb-4735-9c89-21b2a3d891be",
   "metadata": {},
   "outputs": [
    {
     "data": {
      "text/plain": [
       "['This', 'is', 'my', 'Phone']"
      ]
     },
     "execution_count": 104,
     "metadata": {},
     "output_type": "execute_result"
    }
   ],
   "source": [
    "msg.split(' ')"
   ]
  },
  {
   "cell_type": "code",
   "execution_count": 105,
   "id": "2d2b8878-2ff7-4cdf-b7da-c07a6a788b09",
   "metadata": {},
   "outputs": [
    {
     "data": {
      "text/plain": [
       "['010', '1234', '5678']"
      ]
     },
     "execution_count": 105,
     "metadata": {},
     "output_type": "execute_result"
    }
   ],
   "source": [
    "'010-1234-5678'.split('-')"
   ]
  },
  {
   "cell_type": "code",
   "execution_count": 106,
   "id": "92398944-ac58-45bc-8c41-f9a67ca2d951",
   "metadata": {},
   "outputs": [
    {
     "data": {
      "text/plain": [
       "'010'"
      ]
     },
     "execution_count": 106,
     "metadata": {},
     "output_type": "execute_result"
    }
   ],
   "source": [
    "'010-1234-5678'.split('-')[0]"
   ]
  },
  {
   "cell_type": "code",
   "execution_count": 107,
   "id": "c955331b-518c-4bd5-a304-12831bd089a8",
   "metadata": {},
   "outputs": [
    {
     "data": {
      "text/plain": [
       "'1234'"
      ]
     },
     "execution_count": 107,
     "metadata": {},
     "output_type": "execute_result"
    }
   ],
   "source": [
    "'010-1234-5678'.split('-')[1]"
   ]
  },
  {
   "cell_type": "code",
   "execution_count": 108,
   "id": "7490b9b5-6e76-458d-988e-82d581db318a",
   "metadata": {},
   "outputs": [
    {
     "data": {
      "text/plain": [
       "'5678'"
      ]
     },
     "execution_count": 108,
     "metadata": {},
     "output_type": "execute_result"
    }
   ],
   "source": [
    "'010-1234-5678'.split('-')[2]"
   ]
  },
  {
   "cell_type": "markdown",
   "id": "1feeda71-e02a-459b-9c28-3b045971151b",
   "metadata": {
    "tags": []
   },
   "source": [
    "### QUIZ\n",
    "\n",
    "1.900101-1234567인 주민등록번호에서 성별을 나타내는 숫자만 인덱싱 하세요.\n",
    "\n",
    "2.900101-1234567인 주민등록번호에서 사람의 나이를 구하세요. (어렵네...)\n",
    "\n",
    "3.900101-1234567인 주민등록번호에서 (-) 뒤의 숫자 전체를 슬라이싱 하세요."
   ]
  },
  {
   "cell_type": "code",
   "execution_count": 109,
   "id": "a4e234ed-aa04-4c2d-8120-2d279ad4369a",
   "metadata": {},
   "outputs": [],
   "source": [
    "jumin = '900101-1234567'"
   ]
  },
  {
   "cell_type": "markdown",
   "id": "dcc83111-3e5a-4687-a07d-6dd646078cec",
   "metadata": {},
   "source": [
    "- Quiz1."
   ]
  },
  {
   "cell_type": "code",
   "execution_count": 110,
   "id": "36fefe1c-fbbe-45cc-9c55-d758238eaac6",
   "metadata": {},
   "outputs": [
    {
     "data": {
      "text/plain": [
       "'1'"
      ]
     },
     "execution_count": 110,
     "metadata": {},
     "output_type": "execute_result"
    }
   ],
   "source": [
    "jumin[-7]"
   ]
  },
  {
   "cell_type": "code",
   "execution_count": 111,
   "id": "35e9bb7a-ac08-48fe-afa5-7e83e1b0f05c",
   "metadata": {},
   "outputs": [
    {
     "data": {
      "text/plain": [
       "'1'"
      ]
     },
     "execution_count": 111,
     "metadata": {},
     "output_type": "execute_result"
    }
   ],
   "source": [
    "jumin[jumin.find('-')+1] # 똑똑하게 코딩 짜는 방법"
   ]
  },
  {
   "cell_type": "markdown",
   "id": "8174be6c-be7e-4ada-999b-73cb93a54639",
   "metadata": {
    "tags": []
   },
   "source": [
    "- Quiz2."
   ]
  },
  {
   "cell_type": "code",
   "execution_count": 112,
   "id": "0ebc01c1-e123-47d9-9008-61dae1b6ca8b",
   "metadata": {},
   "outputs": [
    {
     "data": {
      "text/plain": [
       "33"
      ]
     },
     "execution_count": 112,
     "metadata": {},
     "output_type": "execute_result"
    }
   ],
   "source": [
    "123-int(jumin[0:2])"
   ]
  },
  {
   "cell_type": "code",
   "execution_count": 113,
   "id": "b0eb96d1-14bf-4497-948e-d35c3ff32024",
   "metadata": {},
   "outputs": [
    {
     "data": {
      "text/plain": [
       "33"
      ]
     },
     "execution_count": 113,
     "metadata": {},
     "output_type": "execute_result"
    }
   ],
   "source": [
    "2022 - int('19'+jumin[:2]) + 1"
   ]
  },
  {
   "cell_type": "code",
   "execution_count": 114,
   "id": "d6ba0b1c-8bf2-4e05-934b-5b9aa30e38cd",
   "metadata": {},
   "outputs": [
    {
     "name": "stdout",
     "output_type": "stream",
     "text": [
      "33\n"
     ]
    }
   ],
   "source": [
    "jumin = '900101-1034567'\n",
    "\n",
    "sex = jumin[jumin.find('-')+1]\n",
    "\n",
    "\n",
    "year = 2022\n",
    "\n",
    "if sex == '1' or sex == '2':\n",
    "    print(year - int('19'+jumin[:2]) + 1)\n",
    "else :\n",
    "    print(year - int('20'+jumin[:2]) + 1)"
   ]
  },
  {
   "cell_type": "code",
   "execution_count": 115,
   "id": "6af6992d-066b-46d1-bbe0-478dc147426b",
   "metadata": {},
   "outputs": [],
   "source": [
    "jumin = '900101-4234567'"
   ]
  },
  {
   "cell_type": "code",
   "execution_count": 116,
   "id": "7362f1b3-8fac-4ef1-8d6f-51c341f3d937",
   "metadata": {},
   "outputs": [
    {
     "data": {
      "text/plain": [
       "'4'"
      ]
     },
     "execution_count": 116,
     "metadata": {},
     "output_type": "execute_result"
    }
   ],
   "source": [
    "jumin[jumin.find('-')+1]"
   ]
  },
  {
   "cell_type": "code",
   "execution_count": 117,
   "id": "a9d1b2eb-1405-4dc9-aa6b-8a2dfa40f867",
   "metadata": {},
   "outputs": [
    {
     "data": {
      "text/plain": [
       "'90'"
      ]
     },
     "execution_count": 117,
     "metadata": {},
     "output_type": "execute_result"
    }
   ],
   "source": [
    "jumin[:2]"
   ]
  },
  {
   "cell_type": "code",
   "execution_count": 118,
   "id": "70089e0d-4302-4242-b9be-99523dc8089e",
   "metadata": {},
   "outputs": [
    {
     "name": "stdout",
     "output_type": "stream",
     "text": [
      "33\n"
     ]
    }
   ],
   "source": [
    "print(year - int('19'+jumin[:2]) + 1)"
   ]
  },
  {
   "cell_type": "code",
   "execution_count": 119,
   "id": "27b1c781-bb03-4291-bdee-0389aba5ed83",
   "metadata": {},
   "outputs": [
    {
     "name": "stdout",
     "output_type": "stream",
     "text": [
      "33\n"
     ]
    }
   ],
   "source": [
    "print(year - (1900+int(jumin[:2])) + 1)"
   ]
  },
  {
   "cell_type": "code",
   "execution_count": 120,
   "id": "8a188032-c9b6-425f-ae4e-10c17bb0864c",
   "metadata": {},
   "outputs": [
    {
     "name": "stdout",
     "output_type": "stream",
     "text": [
      "23\n"
     ]
    }
   ],
   "source": [
    "jumin = '000101-4234567'\n",
    "\n",
    "sex = jumin[jumin.find('-')+1]\n",
    "\n",
    "\n",
    "year = 2022\n",
    "\n",
    "if sex == '1' or sex == '2':\n",
    "    print(year - int('19'+jumin[:2]) + 1)\n",
    "else :\n",
    "    print(year - int('20'+jumin[:2]) + 1)"
   ]
  },
  {
   "cell_type": "code",
   "execution_count": 121,
   "id": "b4c2487b-f4f8-49bb-9db4-bc2a94ade038",
   "metadata": {
    "tags": []
   },
   "outputs": [
    {
     "name": "stdout",
     "output_type": "stream",
     "text": [
      "23\n"
     ]
    }
   ],
   "source": [
    "print(year - int('20'+jumin[:2])+1)"
   ]
  },
  {
   "cell_type": "markdown",
   "id": "a8a0fda4-628c-4c68-9504-fe84d20a6925",
   "metadata": {},
   "source": [
    "- Quiz3."
   ]
  },
  {
   "cell_type": "code",
   "execution_count": 122,
   "id": "7faa0945-eaba-4ba1-b8fd-c2eb9736050e",
   "metadata": {},
   "outputs": [
    {
     "data": {
      "text/plain": [
       "'4234567'"
      ]
     },
     "execution_count": 122,
     "metadata": {},
     "output_type": "execute_result"
    }
   ],
   "source": [
    "jumin[7:]"
   ]
  },
  {
   "cell_type": "code",
   "execution_count": 123,
   "id": "49c4451e-3de5-48ec-91d8-7e957ca8b204",
   "metadata": {},
   "outputs": [],
   "source": [
    "jumin = '000101-4234567'"
   ]
  },
  {
   "cell_type": "code",
   "execution_count": 124,
   "id": "396c3c39-1331-4928-8395-34acec711b33",
   "metadata": {},
   "outputs": [
    {
     "data": {
      "text/plain": [
       "'4234567'"
      ]
     },
     "execution_count": 124,
     "metadata": {},
     "output_type": "execute_result"
    }
   ],
   "source": [
    "jumin[jumin.find('-')+1:]"
   ]
  },
  {
   "cell_type": "code",
   "execution_count": 125,
   "id": "fc543a98-12c3-403b-ae02-e7f471f3af03",
   "metadata": {},
   "outputs": [
    {
     "data": {
      "text/plain": [
       "'4234567'"
      ]
     },
     "execution_count": 125,
     "metadata": {},
     "output_type": "execute_result"
    }
   ],
   "source": [
    "jumin.split('-')[1]"
   ]
  },
  {
   "cell_type": "markdown",
   "id": "012eec13-dd02-4f46-8cd0-237d795b344f",
   "metadata": {
    "tags": []
   },
   "source": [
    "### bool (0을 제외하면 True, 0이면 False)"
   ]
  },
  {
   "cell_type": "code",
   "execution_count": 126,
   "id": "f17f3c85-5bd5-466a-85c9-5126acbb7c2a",
   "metadata": {},
   "outputs": [
    {
     "data": {
      "text/plain": [
       "True"
      ]
     },
     "execution_count": 126,
     "metadata": {},
     "output_type": "execute_result"
    }
   ],
   "source": [
    "True"
   ]
  },
  {
   "cell_type": "code",
   "execution_count": 127,
   "id": "d27fd567-e803-41ce-9f3b-b97845e8db7f",
   "metadata": {},
   "outputs": [
    {
     "data": {
      "text/plain": [
       "False"
      ]
     },
     "execution_count": 127,
     "metadata": {},
     "output_type": "execute_result"
    }
   ],
   "source": [
    "False"
   ]
  },
  {
   "cell_type": "code",
   "execution_count": 128,
   "id": "e6927bc8-cad6-4012-ae4a-ecb77ae6135e",
   "metadata": {},
   "outputs": [
    {
     "data": {
      "text/plain": [
       "bool"
      ]
     },
     "execution_count": 128,
     "metadata": {},
     "output_type": "execute_result"
    }
   ],
   "source": [
    "type(True)"
   ]
  },
  {
   "cell_type": "code",
   "execution_count": 129,
   "id": "fd36e14d-6a8f-4072-8543-d0e8c9101945",
   "metadata": {},
   "outputs": [
    {
     "data": {
      "text/plain": [
       "1"
      ]
     },
     "execution_count": 129,
     "metadata": {},
     "output_type": "execute_result"
    }
   ],
   "source": [
    "int(True)"
   ]
  },
  {
   "cell_type": "code",
   "execution_count": 130,
   "id": "4ca58014-9ed6-452a-bd0f-3649376b64c2",
   "metadata": {},
   "outputs": [
    {
     "data": {
      "text/plain": [
       "0"
      ]
     },
     "execution_count": 130,
     "metadata": {},
     "output_type": "execute_result"
    }
   ],
   "source": [
    "int(False)"
   ]
  },
  {
   "cell_type": "code",
   "execution_count": 107,
   "id": "91b97ec5-cdf3-4a2a-8961-8168b009ba69",
   "metadata": {},
   "outputs": [
    {
     "data": {
      "text/plain": [
       "True"
      ]
     },
     "execution_count": 107,
     "metadata": {},
     "output_type": "execute_result"
    }
   ],
   "source": [
    "bool('abc')"
   ]
  },
  {
   "cell_type": "code",
   "execution_count": 108,
   "id": "b496ddbf-3d63-49ca-a16e-c75ebd8190f9",
   "metadata": {},
   "outputs": [
    {
     "data": {
      "text/plain": [
       "True"
      ]
     },
     "execution_count": 108,
     "metadata": {},
     "output_type": "execute_result"
    }
   ],
   "source": [
    "bool(1)"
   ]
  },
  {
   "cell_type": "code",
   "execution_count": 109,
   "id": "be786e34-fbc8-4aaa-b2b0-b131c613e98e",
   "metadata": {},
   "outputs": [
    {
     "data": {
      "text/plain": [
       "False"
      ]
     },
     "execution_count": 109,
     "metadata": {},
     "output_type": "execute_result"
    }
   ],
   "source": [
    "bool(0)"
   ]
  },
  {
   "cell_type": "code",
   "execution_count": 110,
   "id": "b838f3e8-bb1d-4cd2-b483-05e127031f82",
   "metadata": {},
   "outputs": [
    {
     "name": "stdout",
     "output_type": "stream",
     "text": [
      "abc\n"
     ]
    }
   ],
   "source": [
    "a = 'abc'\n",
    "if a :\n",
    "    print(a)\n",
    "else :\n",
    "    print('fail')"
   ]
  },
  {
   "cell_type": "code",
   "execution_count": 111,
   "id": "2da211e7-dad8-40ce-9d04-8ca3af4b17f9",
   "metadata": {},
   "outputs": [
    {
     "name": "stdout",
     "output_type": "stream",
     "text": [
      "fail\n"
     ]
    }
   ],
   "source": [
    "a = 0\n",
    "if a :\n",
    "    print(a)\n",
    "else :\n",
    "    print('fail')"
   ]
  },
  {
   "cell_type": "code",
   "execution_count": 112,
   "id": "a735ebba-e522-4a21-bf6a-b7aced21ecde",
   "metadata": {},
   "outputs": [
    {
     "data": {
      "text/plain": [
       "True"
      ]
     },
     "execution_count": 112,
     "metadata": {},
     "output_type": "execute_result"
    }
   ],
   "source": [
    "1 == 1"
   ]
  },
  {
   "cell_type": "code",
   "execution_count": 113,
   "id": "e8579e18-d582-40cd-97d3-9226f55f5d02",
   "metadata": {},
   "outputs": [
    {
     "data": {
      "text/plain": [
       "False"
      ]
     },
     "execution_count": 113,
     "metadata": {},
     "output_type": "execute_result"
    }
   ],
   "source": [
    "1 == 2"
   ]
  },
  {
   "cell_type": "code",
   "execution_count": 114,
   "id": "87df8191-391e-4ae8-8ecd-1e0b9d102a3c",
   "metadata": {},
   "outputs": [
    {
     "data": {
      "text/plain": [
       "False"
      ]
     },
     "execution_count": 114,
     "metadata": {},
     "output_type": "execute_result"
    }
   ],
   "source": [
    "1 == '1'"
   ]
  },
  {
   "cell_type": "code",
   "execution_count": 115,
   "id": "debb9dd8-d689-4cd3-8cc3-c1fad06e1d9a",
   "metadata": {},
   "outputs": [
    {
     "data": {
      "text/plain": [
       "False"
      ]
     },
     "execution_count": 115,
     "metadata": {},
     "output_type": "execute_result"
    }
   ],
   "source": [
    "1 > 2"
   ]
  },
  {
   "cell_type": "code",
   "execution_count": 116,
   "id": "7e54e584-275e-4442-968b-51bd290800cf",
   "metadata": {},
   "outputs": [
    {
     "data": {
      "text/plain": [
       "False"
      ]
     },
     "execution_count": 116,
     "metadata": {},
     "output_type": "execute_result"
    }
   ],
   "source": [
    "'a' < 'B'"
   ]
  },
  {
   "cell_type": "code",
   "execution_count": 117,
   "id": "fbbd2c91-971a-4a5c-958d-1db2c0e1ef27",
   "metadata": {},
   "outputs": [
    {
     "data": {
      "text/plain": [
       "True"
      ]
     },
     "execution_count": 117,
     "metadata": {},
     "output_type": "execute_result"
    }
   ],
   "source": [
    "'apple' > 'app'"
   ]
  },
  {
   "cell_type": "code",
   "execution_count": 118,
   "id": "9b6ccd60-f889-479f-9d53-ab1f95fbee14",
   "metadata": {},
   "outputs": [
    {
     "data": {
      "text/plain": [
       "True"
      ]
     },
     "execution_count": 118,
     "metadata": {},
     "output_type": "execute_result"
    }
   ],
   "source": [
    "'가' < '나'"
   ]
  }
 ],
 "metadata": {
  "kernelspec": {
   "display_name": "Python 3.9.13 ('base')",
   "language": "python",
   "name": "python3"
  },
  "language_info": {
   "codemirror_mode": {
    "name": "ipython",
    "version": 3
   },
   "file_extension": ".py",
   "mimetype": "text/x-python",
   "name": "python",
   "nbconvert_exporter": "python",
   "pygments_lexer": "ipython3",
   "version": "3.9.13"
  },
  "vscode": {
   "interpreter": {
    "hash": "701d4f28dcd0866722f5108a3a4cbcd08882d26398b6d44117e791d7b8102912"
   }
  }
 },
 "nbformat": 4,
 "nbformat_minor": 5
}
