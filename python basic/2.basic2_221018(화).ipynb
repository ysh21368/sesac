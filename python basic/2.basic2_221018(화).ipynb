{
 "cells": [
  {
   "cell_type": "markdown",
   "id": "6ee52fee-e290-4550-b575-82887e8ce5e9",
   "metadata": {
    "tags": []
   },
   "source": [
    "## 리스트(List)"
   ]
  },
  {
   "cell_type": "code",
   "execution_count": 35,
   "id": "91256c02-7f68-491b-ae22-92017fc8d9fd",
   "metadata": {},
   "outputs": [],
   "source": [
    "a = 1\n",
    "b = 'abc'"
   ]
  },
  {
   "cell_type": "code",
   "execution_count": 36,
   "id": "fb6cbed8-0e9e-4761-89d5-0253071d8c21",
   "metadata": {},
   "outputs": [],
   "source": [
    "l = [1, 2, 3, 4]"
   ]
  },
  {
   "cell_type": "code",
   "execution_count": 37,
   "id": "d4565854-4af1-47e5-ade9-8cf6a5637806",
   "metadata": {},
   "outputs": [
    {
     "data": {
      "text/plain": [
       "list"
      ]
     },
     "execution_count": 37,
     "metadata": {},
     "output_type": "execute_result"
    }
   ],
   "source": [
    "type(l)"
   ]
  },
  {
   "cell_type": "code",
   "execution_count": 38,
   "id": "aece3704-ae10-47d2-87b0-8fb06c995af7",
   "metadata": {},
   "outputs": [],
   "source": [
    "l2 = [1, '2,', True]"
   ]
  },
  {
   "cell_type": "code",
   "execution_count": 39,
   "id": "66d7f660-eaa9-478d-82c3-a7ee9c2e0e79",
   "metadata": {},
   "outputs": [
    {
     "data": {
      "text/plain": [
       "[1, '2,', True]"
      ]
     },
     "execution_count": 39,
     "metadata": {},
     "output_type": "execute_result"
    }
   ],
   "source": [
    "l2"
   ]
  },
  {
   "cell_type": "code",
   "execution_count": 40,
   "id": "f33dddc7-a2c3-49b3-b27c-da45b6518356",
   "metadata": {},
   "outputs": [],
   "source": [
    "l3 = list()"
   ]
  },
  {
   "cell_type": "code",
   "execution_count": 41,
   "id": "83aa5f00-7f5a-4234-a363-cbf7adc2a659",
   "metadata": {
    "tags": []
   },
   "outputs": [
    {
     "data": {
      "text/plain": [
       "[]"
      ]
     },
     "execution_count": 41,
     "metadata": {},
     "output_type": "execute_result"
    }
   ],
   "source": [
    "l3"
   ]
  },
  {
   "cell_type": "code",
   "execution_count": 42,
   "id": "ad2238c4-395e-438d-8b59-e70154f9eee5",
   "metadata": {},
   "outputs": [],
   "source": [
    "l4 = []"
   ]
  },
  {
   "cell_type": "code",
   "execution_count": 43,
   "id": "3633e4a8-a6d2-4485-bad3-418c613a5b82",
   "metadata": {
    "tags": []
   },
   "outputs": [
    {
     "data": {
      "text/plain": [
       "[]"
      ]
     },
     "execution_count": 43,
     "metadata": {},
     "output_type": "execute_result"
    }
   ],
   "source": [
    "l4"
   ]
  },
  {
   "cell_type": "code",
   "execution_count": 44,
   "id": "67ba3d88-a068-48f0-a284-cfa05adce061",
   "metadata": {},
   "outputs": [],
   "source": [
    "num = [1, 2, 3, 4, 5]"
   ]
  },
  {
   "cell_type": "markdown",
   "id": "0d52895f-93f4-42c1-b578-0868476566d6",
   "metadata": {},
   "source": [
    "## 인덱싱(리스트에서 인덱싱 적용가능)"
   ]
  },
  {
   "cell_type": "code",
   "execution_count": 45,
   "id": "fb260eb5-e223-46a4-9a78-8b1dee2f868d",
   "metadata": {},
   "outputs": [
    {
     "data": {
      "text/plain": [
       "3"
      ]
     },
     "execution_count": 45,
     "metadata": {},
     "output_type": "execute_result"
    }
   ],
   "source": [
    "num[2] # list에서의 인덱싱"
   ]
  },
  {
   "cell_type": "code",
   "execution_count": 46,
   "id": "876574b7-32ec-446b-a941-10e8177ed26a",
   "metadata": {},
   "outputs": [
    {
     "data": {
      "text/plain": [
       "3"
      ]
     },
     "execution_count": 46,
     "metadata": {},
     "output_type": "execute_result"
    }
   ],
   "source": [
    "num[-3] # list에서의 인덱싱"
   ]
  },
  {
   "cell_type": "markdown",
   "id": "2b5a5c19-cb03-4506-9cf3-fa6e6cebecb7",
   "metadata": {},
   "source": [
    "## 슬라이싱(리스트에서의 슬라이싱 적용가능)"
   ]
  },
  {
   "cell_type": "code",
   "execution_count": 47,
   "id": "56067148-bf86-4713-9b6c-5bd431658c1e",
   "metadata": {},
   "outputs": [],
   "source": [
    "num =[1, 2, 3, 4, 5]"
   ]
  },
  {
   "cell_type": "code",
   "execution_count": 48,
   "id": "4b1c8c76-51e5-4b1b-9c98-6ed257ada199",
   "metadata": {},
   "outputs": [
    {
     "data": {
      "text/plain": [
       "[2, 3, 4]"
      ]
     },
     "execution_count": 48,
     "metadata": {},
     "output_type": "execute_result"
    }
   ],
   "source": [
    "num[1:4]"
   ]
  },
  {
   "cell_type": "code",
   "execution_count": 49,
   "id": "b792a681-9119-4fcd-950e-5c7d65eb9f45",
   "metadata": {},
   "outputs": [
    {
     "data": {
      "text/plain": [
       "[3, 4]"
      ]
     },
     "execution_count": 49,
     "metadata": {},
     "output_type": "execute_result"
    }
   ],
   "source": [
    "num[-3:-1]"
   ]
  },
  {
   "cell_type": "code",
   "execution_count": 50,
   "id": "d88a628f-b60e-4d92-b76a-e56e818316c6",
   "metadata": {},
   "outputs": [
    {
     "data": {
      "text/plain": [
       "[1, 2, 3]"
      ]
     },
     "execution_count": 50,
     "metadata": {},
     "output_type": "execute_result"
    }
   ],
   "source": [
    "num[:3]"
   ]
  },
  {
   "cell_type": "code",
   "execution_count": 51,
   "id": "0a279928-fb70-4393-9f6d-1d00739334f4",
   "metadata": {},
   "outputs": [
    {
     "data": {
      "text/plain": [
       "[4, 5]"
      ]
     },
     "execution_count": 51,
     "metadata": {},
     "output_type": "execute_result"
    }
   ],
   "source": [
    "num[3:]"
   ]
  },
  {
   "cell_type": "code",
   "execution_count": 52,
   "id": "b40f095c-3c6d-49ae-a594-3c7657066b22",
   "metadata": {},
   "outputs": [],
   "source": [
    "num =[1, 2, 3, 4, 5, '강아지']"
   ]
  },
  {
   "cell_type": "code",
   "execution_count": 53,
   "id": "93adeb45-8533-48b5-8e60-3541f45ab04c",
   "metadata": {},
   "outputs": [
    {
     "data": {
      "text/plain": [
       "'강아지'"
      ]
     },
     "execution_count": 53,
     "metadata": {},
     "output_type": "execute_result"
    }
   ],
   "source": [
    "num[-1]"
   ]
  },
  {
   "cell_type": "code",
   "execution_count": 54,
   "id": "e661d4a8-6136-4326-ba61-5c2cceac8ab5",
   "metadata": {},
   "outputs": [],
   "source": [
    "num =[1, 2, 3, 4, 5,6, 7, 8, 9, 10, '강아지']"
   ]
  },
  {
   "cell_type": "code",
   "execution_count": 55,
   "id": "8b772d89-24db-4c4e-904a-a213bc64f8d9",
   "metadata": {},
   "outputs": [
    {
     "data": {
      "text/plain": [
       "[1, 3, 5]"
      ]
     },
     "execution_count": 55,
     "metadata": {},
     "output_type": "execute_result"
    }
   ],
   "source": [
    "num[:5:2] #리스트에서의 스탭 기능?"
   ]
  },
  {
   "cell_type": "code",
   "execution_count": 56,
   "id": "9f3463b5-385c-48ba-aee2-06f2988d9def",
   "metadata": {},
   "outputs": [
    {
     "data": {
      "text/plain": [
       "['강아지', 10, 9, 8, 7, 6, 5, 4, 3, 2, 1]"
      ]
     },
     "execution_count": 56,
     "metadata": {},
     "output_type": "execute_result"
    }
   ],
   "source": [
    "num[::-1]"
   ]
  },
  {
   "cell_type": "code",
   "execution_count": 57,
   "id": "3b2b53c9-4933-497d-af87-0f66557bf0b7",
   "metadata": {},
   "outputs": [
    {
     "data": {
      "text/plain": [
       "3"
      ]
     },
     "execution_count": 57,
     "metadata": {},
     "output_type": "execute_result"
    }
   ],
   "source": [
    "num[0] + num[1]"
   ]
  },
  {
   "cell_type": "code",
   "execution_count": 58,
   "id": "86ca5b81-e424-4204-a892-f5ca0c7065c8",
   "metadata": {},
   "outputs": [],
   "source": [
    "l1 = [1, 2, 3]"
   ]
  },
  {
   "cell_type": "code",
   "execution_count": 59,
   "id": "9b0b8e1a-67ef-495c-a4ea-53d023d202a4",
   "metadata": {},
   "outputs": [],
   "source": [
    "l2 = [4, 5, 6]"
   ]
  },
  {
   "cell_type": "code",
   "execution_count": 60,
   "id": "1f22f1c8-99c1-4690-904a-e770878211ed",
   "metadata": {},
   "outputs": [
    {
     "data": {
      "text/plain": [
       "[1, 2, 3, 4, 5, 6]"
      ]
     },
     "execution_count": 60,
     "metadata": {},
     "output_type": "execute_result"
    }
   ],
   "source": [
    "l1 + l2"
   ]
  },
  {
   "cell_type": "markdown",
   "id": "c7d09740-c5fe-475b-9f2a-d42608ef0e6e",
   "metadata": {},
   "source": [
    "## 이중리스트 (이런게 있다 정도만 알고 파이썬에서는 주로 Pandas(판다스)를 다룰 것이다~~~"
   ]
  },
  {
   "cell_type": "code",
   "execution_count": 61,
   "id": "df41fa12-2e67-4f33-b70b-a7e762e74cd1",
   "metadata": {},
   "outputs": [],
   "source": [
    "mat2 = [[1, 2, 3, 4],\n",
    "        [5, 6, 7, 8],\n",
    "        [9, 10, 11, 12]]   #이중리스트"
   ]
  },
  {
   "cell_type": "code",
   "execution_count": 62,
   "id": "93e57372-cc33-431e-9ee6-0d5b4677a027",
   "metadata": {},
   "outputs": [
    {
     "data": {
      "text/plain": [
       "[1, 2, 3, 4]"
      ]
     },
     "execution_count": 62,
     "metadata": {},
     "output_type": "execute_result"
    }
   ],
   "source": [
    "mat2[0]"
   ]
  },
  {
   "cell_type": "code",
   "execution_count": 63,
   "id": "6bd2fe1a-77a9-4399-91f0-0731b9a0fb21",
   "metadata": {},
   "outputs": [
    {
     "data": {
      "text/plain": [
       "1"
      ]
     },
     "execution_count": 63,
     "metadata": {},
     "output_type": "execute_result"
    }
   ],
   "source": [
    "mat2[0][0]"
   ]
  },
  {
   "cell_type": "code",
   "execution_count": 64,
   "id": "01a26415-beab-46fc-98c5-2e275be8c480",
   "metadata": {},
   "outputs": [
    {
     "data": {
      "text/plain": [
       "[2, 3]"
      ]
     },
     "execution_count": 64,
     "metadata": {},
     "output_type": "execute_result"
    }
   ],
   "source": [
    "mat2[0][1:3]"
   ]
  },
  {
   "cell_type": "code",
   "execution_count": 65,
   "id": "3014cba6-760d-420e-b838-93e4948cbf58",
   "metadata": {},
   "outputs": [
    {
     "data": {
      "text/plain": [
       "[[5, 6, 7, 8], [9, 10, 11, 12]]"
      ]
     },
     "execution_count": 65,
     "metadata": {},
     "output_type": "execute_result"
    }
   ],
   "source": [
    "mat2[1:]"
   ]
  },
  {
   "cell_type": "code",
   "execution_count": 66,
   "id": "89d157c4-12ac-4066-828c-c4516b2e6bbf",
   "metadata": {},
   "outputs": [
    {
     "data": {
      "text/plain": [
       "[[9, 10, 11, 12]]"
      ]
     },
     "execution_count": 66,
     "metadata": {},
     "output_type": "execute_result"
    }
   ],
   "source": [
    "mat2[1:][1:3]   # why?"
   ]
  },
  {
   "cell_type": "code",
   "execution_count": 67,
   "id": "dc4a6e1a-4478-4504-add8-f1efaad6ec3e",
   "metadata": {},
   "outputs": [],
   "source": [
    "#위에 이중리스트 부분은 다루지 않을 것이다. 이중리스트가 이런 것이다 정도만 알면 될듯?"
   ]
  },
  {
   "cell_type": "code",
   "execution_count": 68,
   "id": "1f14c4d9-902c-460f-a1bb-5e712f71bb57",
   "metadata": {},
   "outputs": [],
   "source": [
    "#파이썬 계의 엑셀 = Pandas(판다스)를 주로 다룰 것이다!!!!!!!!!!!!!!!!!!!!!!!!!!!!!!!!!!!!!!!!!!!!!!!!!"
   ]
  },
  {
   "cell_type": "markdown",
   "id": "b4d50fed-925e-436c-8b70-80c71d5d1d3e",
   "metadata": {
    "tags": []
   },
   "source": [
    "## 리스트는 연산이 가능하다. (리스트는 문자열과 연산 기능이 비슷한 부분이 많다.)"
   ]
  },
  {
   "cell_type": "code",
   "execution_count": 69,
   "id": "76de1b4a-8d1e-4bb6-b863-4c667b00c659",
   "metadata": {},
   "outputs": [],
   "source": [
    "l1 = [1, 2, 3, 4]"
   ]
  },
  {
   "cell_type": "code",
   "execution_count": 70,
   "id": "9ee89e4e-9f38-4b03-96b4-fa695f3e2ca1",
   "metadata": {},
   "outputs": [],
   "source": [
    "l2 = [5, 6, 7, 8]"
   ]
  },
  {
   "cell_type": "code",
   "execution_count": 71,
   "id": "ba4dded1-1e95-4e18-a127-a92738f28320",
   "metadata": {},
   "outputs": [
    {
     "data": {
      "text/plain": [
       "[1, 2, 3, 4, 5, 6, 7, 8]"
      ]
     },
     "execution_count": 71,
     "metadata": {},
     "output_type": "execute_result"
    }
   ],
   "source": [
    "l1 + l2"
   ]
  },
  {
   "cell_type": "code",
   "execution_count": 72,
   "id": "1e50d1c7-e8ad-422d-928b-510eaf5f777d",
   "metadata": {},
   "outputs": [
    {
     "data": {
      "text/plain": [
       "[1, 2, 3, 4, 1, 2, 3, 4, 1, 2, 3, 4]"
      ]
     },
     "execution_count": 72,
     "metadata": {},
     "output_type": "execute_result"
    }
   ],
   "source": [
    "l1 * 3"
   ]
  },
  {
   "cell_type": "code",
   "execution_count": 73,
   "id": "81759484-22c0-440e-905a-c2f4e3c00cf0",
   "metadata": {},
   "outputs": [],
   "source": [
    "l1[0] = 100"
   ]
  },
  {
   "cell_type": "code",
   "execution_count": 74,
   "id": "d750964d-eba1-4e5f-b276-02c1ec4cacc3",
   "metadata": {},
   "outputs": [
    {
     "data": {
      "text/plain": [
       "[100, 2, 3, 4]"
      ]
     },
     "execution_count": 74,
     "metadata": {},
     "output_type": "execute_result"
    }
   ],
   "source": [
    "l1"
   ]
  },
  {
   "cell_type": "code",
   "execution_count": 75,
   "id": "e9162704-5b26-479e-9b4c-55a9d4b7305c",
   "metadata": {},
   "outputs": [],
   "source": [
    "l1[1:3] = [101, 102]"
   ]
  },
  {
   "cell_type": "code",
   "execution_count": 76,
   "id": "831bbdc6-5ba5-4b8a-b1d4-0e926a8b304e",
   "metadata": {},
   "outputs": [
    {
     "data": {
      "text/plain": [
       "[100, 101, 102, 4]"
      ]
     },
     "execution_count": 76,
     "metadata": {},
     "output_type": "execute_result"
    }
   ],
   "source": [
    "l1"
   ]
  },
  {
   "cell_type": "code",
   "execution_count": 77,
   "id": "96062ec7-5325-41d6-a86f-1e6b073f5ed8",
   "metadata": {},
   "outputs": [],
   "source": [
    "del l1[-1]"
   ]
  },
  {
   "cell_type": "code",
   "execution_count": 78,
   "id": "d15d0e0f-cb7d-4c24-9792-16d1e8fe06eb",
   "metadata": {},
   "outputs": [
    {
     "data": {
      "text/plain": [
       "[100, 101, 102]"
      ]
     },
     "execution_count": 78,
     "metadata": {},
     "output_type": "execute_result"
    }
   ],
   "source": [
    "l1"
   ]
  },
  {
   "cell_type": "markdown",
   "id": "6d13a10c-a822-4d24-b98e-dcde794aa9ad",
   "metadata": {},
   "source": [
    "## 리스트 관련 함수"
   ]
  },
  {
   "cell_type": "markdown",
   "id": "d16cc9a6-b425-4b28-af75-9bf92562fc0b",
   "metadata": {
    "tags": []
   },
   "source": [
    "#### append"
   ]
  },
  {
   "cell_type": "code",
   "execution_count": 79,
   "id": "fb4e8d80-5b33-417a-a3ae-60e5e9ca9ceb",
   "metadata": {},
   "outputs": [],
   "source": [
    "l = []"
   ]
  },
  {
   "cell_type": "code",
   "execution_count": 80,
   "id": "1b833f6d-ccac-495a-9c4c-801173680f6f",
   "metadata": {},
   "outputs": [],
   "source": [
    "l.append(1)"
   ]
  },
  {
   "cell_type": "code",
   "execution_count": 81,
   "id": "8bdbfe19-44e5-428d-b073-1b7ebc6f5111",
   "metadata": {},
   "outputs": [
    {
     "data": {
      "text/plain": [
       "[1]"
      ]
     },
     "execution_count": 81,
     "metadata": {},
     "output_type": "execute_result"
    }
   ],
   "source": [
    "l"
   ]
  },
  {
   "cell_type": "code",
   "execution_count": 82,
   "id": "65310de5-6029-47f8-9874-cb082fd31600",
   "metadata": {},
   "outputs": [],
   "source": [
    "l.append(2)"
   ]
  },
  {
   "cell_type": "code",
   "execution_count": 83,
   "id": "2f794d84-928e-4ef8-9948-1802abad0cf8",
   "metadata": {},
   "outputs": [
    {
     "data": {
      "text/plain": [
       "[1, 2]"
      ]
     },
     "execution_count": 83,
     "metadata": {},
     "output_type": "execute_result"
    }
   ],
   "source": [
    "l"
   ]
  },
  {
   "cell_type": "markdown",
   "id": "4abe65a0-17f7-4f6c-a032-22de1e6e60af",
   "metadata": {},
   "source": [
    "### insert"
   ]
  },
  {
   "cell_type": "code",
   "execution_count": 84,
   "id": "5f2871a1-f213-4741-93c9-4d9d1fca0cb7",
   "metadata": {},
   "outputs": [],
   "source": [
    "l.insert(0, 3) #0번째 칸에 3을 넣어라"
   ]
  },
  {
   "cell_type": "code",
   "execution_count": 85,
   "id": "114fcdef-f4ce-4405-bd02-9ac22837c190",
   "metadata": {},
   "outputs": [
    {
     "data": {
      "text/plain": [
       "[3, 1, 2]"
      ]
     },
     "execution_count": 85,
     "metadata": {},
     "output_type": "execute_result"
    }
   ],
   "source": [
    "l"
   ]
  },
  {
   "cell_type": "code",
   "execution_count": 86,
   "id": "fe90c7be-848c-4ccb-b37b-e457644db4cd",
   "metadata": {},
   "outputs": [],
   "source": [
    "l.insert(1, 4) #1번째 칸에 4를 넣어라"
   ]
  },
  {
   "cell_type": "code",
   "execution_count": 87,
   "id": "02b67e86-ad0c-48b0-af85-253f1fce6a33",
   "metadata": {},
   "outputs": [
    {
     "data": {
      "text/plain": [
       "[3, 4, 1, 2]"
      ]
     },
     "execution_count": 87,
     "metadata": {},
     "output_type": "execute_result"
    }
   ],
   "source": [
    "l"
   ]
  },
  {
   "cell_type": "markdown",
   "id": "fbaa4791-9cbd-4027-a05d-0bf9a4c461d1",
   "metadata": {},
   "source": [
    "### remove"
   ]
  },
  {
   "cell_type": "code",
   "execution_count": 88,
   "id": "bf3d1703-ca49-4762-8432-5a8537b430ee",
   "metadata": {},
   "outputs": [
    {
     "data": {
      "text/plain": [
       "[3, 4, 1, 2]"
      ]
     },
     "execution_count": 88,
     "metadata": {},
     "output_type": "execute_result"
    }
   ],
   "source": [
    "l"
   ]
  },
  {
   "cell_type": "code",
   "execution_count": 89,
   "id": "9f327e9c-2b7d-455f-9c21-cbf9e8d4c0f6",
   "metadata": {},
   "outputs": [],
   "source": [
    "l.remove(2)"
   ]
  },
  {
   "cell_type": "code",
   "execution_count": 90,
   "id": "fe07e55b-741c-4c1e-a708-d51988bcf881",
   "metadata": {},
   "outputs": [
    {
     "data": {
      "text/plain": [
       "[3, 4, 1]"
      ]
     },
     "execution_count": 90,
     "metadata": {},
     "output_type": "execute_result"
    }
   ],
   "source": [
    "l"
   ]
  },
  {
   "cell_type": "markdown",
   "id": "537cb64f-041f-4636-a187-074ea7067fc5",
   "metadata": {
    "toc-hr-collapsed": true
   },
   "source": [
    "### sort"
   ]
  },
  {
   "cell_type": "code",
   "execution_count": 91,
   "id": "916df908-5ca9-43e0-9643-ad0272da3eee",
   "metadata": {},
   "outputs": [],
   "source": [
    "l.sort()"
   ]
  },
  {
   "cell_type": "code",
   "execution_count": 92,
   "id": "4566466c-c176-485c-b5a3-b37308b45b5a",
   "metadata": {},
   "outputs": [
    {
     "data": {
      "text/plain": [
       "[1, 3, 4]"
      ]
     },
     "execution_count": 92,
     "metadata": {},
     "output_type": "execute_result"
    }
   ],
   "source": [
    "l"
   ]
  },
  {
   "cell_type": "code",
   "execution_count": 93,
   "id": "a97d52b0-f887-4510-8b39-9abc831d388b",
   "metadata": {},
   "outputs": [],
   "source": [
    "l.append('가')"
   ]
  },
  {
   "cell_type": "code",
   "execution_count": 94,
   "id": "bbd7ed09-6972-46ba-a35d-6505e21852a6",
   "metadata": {},
   "outputs": [
    {
     "data": {
      "text/plain": [
       "[1, 3, 4, '가']"
      ]
     },
     "execution_count": 94,
     "metadata": {},
     "output_type": "execute_result"
    }
   ],
   "source": [
    "l"
   ]
  },
  {
   "cell_type": "code",
   "execution_count": 95,
   "id": "90d53f07-c315-4ef3-b28e-6669761018df",
   "metadata": {},
   "outputs": [
    {
     "ename": "TypeError",
     "evalue": "'<' not supported between instances of 'str' and 'int'",
     "output_type": "error",
     "traceback": [
      "\u001b[0;31m---------------------------------------------------------------------------\u001b[0m",
      "\u001b[0;31mTypeError\u001b[0m                                 Traceback (most recent call last)",
      "\u001b[0;32m/var/folders/p_/hv88l_q965d2ywt45g92d86r0000gn/T/ipykernel_17380/4149526160.py\u001b[0m in \u001b[0;36m<module>\u001b[0;34m\u001b[0m\n\u001b[0;32m----> 1\u001b[0;31m \u001b[0ml\u001b[0m\u001b[0;34m.\u001b[0m\u001b[0msort\u001b[0m\u001b[0;34m(\u001b[0m\u001b[0;34m)\u001b[0m\u001b[0;34m\u001b[0m\u001b[0;34m\u001b[0m\u001b[0m\n\u001b[0m",
      "\u001b[0;31mTypeError\u001b[0m: '<' not supported between instances of 'str' and 'int'"
     ]
    }
   ],
   "source": [
    "l.sort()"
   ]
  },
  {
   "cell_type": "code",
   "execution_count": 96,
   "id": "1f24597b-8cb9-4090-8096-0bb499cea5ce",
   "metadata": {},
   "outputs": [],
   "source": [
    "l.remove('가')"
   ]
  },
  {
   "cell_type": "code",
   "execution_count": 97,
   "id": "e7ae14cd-4f43-4493-bb1c-6364c22fabeb",
   "metadata": {},
   "outputs": [
    {
     "data": {
      "text/plain": [
       "[1, 3, 4]"
      ]
     },
     "execution_count": 97,
     "metadata": {},
     "output_type": "execute_result"
    }
   ],
   "source": [
    "l"
   ]
  },
  {
   "cell_type": "code",
   "execution_count": 98,
   "id": "50b0c4af-dae3-4d09-a884-75d932d1ff42",
   "metadata": {},
   "outputs": [],
   "source": [
    "l.append('0')"
   ]
  },
  {
   "cell_type": "code",
   "execution_count": 99,
   "id": "600d998a-8f96-4c0c-afef-fb58602b87ff",
   "metadata": {},
   "outputs": [
    {
     "data": {
      "text/plain": [
       "[1, 3, 4, '0']"
      ]
     },
     "execution_count": 99,
     "metadata": {},
     "output_type": "execute_result"
    }
   ],
   "source": [
    "l"
   ]
  },
  {
   "cell_type": "code",
   "execution_count": 100,
   "id": "d132756c-ee9e-47bc-9ca9-a5ee75860903",
   "metadata": {
    "tags": []
   },
   "outputs": [
    {
     "ename": "TypeError",
     "evalue": "'<' not supported between instances of 'str' and 'int'",
     "output_type": "error",
     "traceback": [
      "\u001b[0;31m---------------------------------------------------------------------------\u001b[0m",
      "\u001b[0;31mTypeError\u001b[0m                                 Traceback (most recent call last)",
      "\u001b[0;32m/var/folders/p_/hv88l_q965d2ywt45g92d86r0000gn/T/ipykernel_17380/4149526160.py\u001b[0m in \u001b[0;36m<module>\u001b[0;34m\u001b[0m\n\u001b[0;32m----> 1\u001b[0;31m \u001b[0ml\u001b[0m\u001b[0;34m.\u001b[0m\u001b[0msort\u001b[0m\u001b[0;34m(\u001b[0m\u001b[0;34m)\u001b[0m\u001b[0;34m\u001b[0m\u001b[0;34m\u001b[0m\u001b[0m\n\u001b[0m",
      "\u001b[0;31mTypeError\u001b[0m: '<' not supported between instances of 'str' and 'int'"
     ]
    }
   ],
   "source": [
    "l.sort()"
   ]
  },
  {
   "cell_type": "code",
   "execution_count": 101,
   "id": "c826f947-87d9-4035-8ecb-d05a41231341",
   "metadata": {},
   "outputs": [
    {
     "data": {
      "text/plain": [
       "[1, 3, 4, '0']"
      ]
     },
     "execution_count": 101,
     "metadata": {},
     "output_type": "execute_result"
    }
   ],
   "source": [
    "l"
   ]
  },
  {
   "cell_type": "markdown",
   "id": "af7d8453-76c4-45d0-a77a-7a4aee1ee04a",
   "metadata": {},
   "source": [
    "### index"
   ]
  },
  {
   "cell_type": "code",
   "execution_count": 102,
   "id": "ea34f637-cb2f-4ed3-8393-b4abf1188f3a",
   "metadata": {},
   "outputs": [],
   "source": [
    "l = [1, 2, 3, 4]"
   ]
  },
  {
   "cell_type": "code",
   "execution_count": 103,
   "id": "4543c091-59d6-46a3-b81b-cbec071d3b81",
   "metadata": {},
   "outputs": [
    {
     "data": {
      "text/plain": [
       "3"
      ]
     },
     "execution_count": 103,
     "metadata": {},
     "output_type": "execute_result"
    }
   ],
   "source": [
    "l.index(4)  # 왜 3이지? 질문하기"
   ]
  },
  {
   "cell_type": "markdown",
   "id": "10e68c86-80da-4ded-98a9-b2f0b3a19de9",
   "metadata": {},
   "source": [
    "### pop"
   ]
  },
  {
   "cell_type": "code",
   "execution_count": 104,
   "id": "747542db-cab7-4732-b798-9035ba236a17",
   "metadata": {},
   "outputs": [
    {
     "data": {
      "text/plain": [
       "[1, 2, 3, 4]"
      ]
     },
     "execution_count": 104,
     "metadata": {},
     "output_type": "execute_result"
    }
   ],
   "source": [
    "l"
   ]
  },
  {
   "cell_type": "code",
   "execution_count": 105,
   "id": "8c9983a7-4ae7-494e-88d2-5a1645f215ae",
   "metadata": {},
   "outputs": [
    {
     "data": {
      "text/plain": [
       "4"
      ]
     },
     "execution_count": 105,
     "metadata": {},
     "output_type": "execute_result"
    }
   ],
   "source": [
    "l.pop()"
   ]
  },
  {
   "cell_type": "code",
   "execution_count": 106,
   "id": "b308439a-bd50-4ec5-998d-2f84efd1444a",
   "metadata": {},
   "outputs": [
    {
     "data": {
      "text/plain": [
       "[1, 2, 3]"
      ]
     },
     "execution_count": 106,
     "metadata": {},
     "output_type": "execute_result"
    }
   ],
   "source": [
    "l"
   ]
  },
  {
   "cell_type": "code",
   "execution_count": 107,
   "id": "a042d7ec-5396-4982-9e73-c6f5a0ce8b38",
   "metadata": {},
   "outputs": [
    {
     "data": {
      "text/plain": [
       "3"
      ]
     },
     "execution_count": 107,
     "metadata": {},
     "output_type": "execute_result"
    }
   ],
   "source": [
    "l.pop()"
   ]
  },
  {
   "cell_type": "code",
   "execution_count": 108,
   "id": "26095b27-a6ac-4828-8440-b2b05455eced",
   "metadata": {},
   "outputs": [
    {
     "data": {
      "text/plain": [
       "[1, 2]"
      ]
     },
     "execution_count": 108,
     "metadata": {},
     "output_type": "execute_result"
    }
   ],
   "source": [
    "l"
   ]
  },
  {
   "cell_type": "code",
   "execution_count": 109,
   "id": "743a6458-54a7-404d-a14e-d4f10e9d3e4d",
   "metadata": {},
   "outputs": [],
   "source": [
    "l = [1, 1, 1, 2, 2, 3, 4, 5]"
   ]
  },
  {
   "cell_type": "code",
   "execution_count": 110,
   "id": "afb33c84-7539-4e38-a62e-32ca4053ac95",
   "metadata": {
    "tags": []
   },
   "outputs": [
    {
     "data": {
      "text/plain": [
       "3"
      ]
     },
     "execution_count": 110,
     "metadata": {},
     "output_type": "execute_result"
    }
   ],
   "source": [
    "l.count(1) #카운트는 ()안에 있는 숫자 또는 문자의 갯수를 세어주는 기능을 한다."
   ]
  },
  {
   "cell_type": "markdown",
   "id": "b7084403-3462-417d-9a3c-b5b336de190e",
   "metadata": {
    "tags": []
   },
   "source": [
    "# QUIZ(오전) (3~6은 잘 모르겠음.... 익숙해질때까지 계속 혼자 연습하자.. ㅠㅠ)\n",
    "\n",
    "1. list1 = [13, 53, 24, 35, 38]을 큰 수부터 작은 수대로 정렬하시오.\n",
    "2. list2 = [\"Hello\", \"My\", \"Friends\"]를 \"Hello My Friends\"라는 문자열로 출력하세요.\n",
    "3. \"DP, 오징어게임, 슬기로운 의사생활\" 을 netflix_list 라는 변수에 리스트로 만들어보세요.\n",
    "4. netflix_list의 맨 뒤에 \"호텔 델루나\"를 추가해보세요.\n",
    "5. \"갯마을 차차차\"를 netflix list 맨 앞에 추가해보세요.\n",
    "6. \"DP를 삭제하고 그 위치에 \"검은태양\"을 추가해보세요.\n",
    "7. list3 = [294, 185, 1384, 1282, 375, 283]의 최대, 최소, 합, 평균을 구하시오.\n",
    "8. str1 = \"naver,sk,google,kakao\"에서 각각의 회사명을 company_list에 넣고 오름차순으로 정렬하세요.\n"
   ]
  },
  {
   "cell_type": "markdown",
   "id": "c9a6eedd-8466-4def-bae7-735b4dfdfd56",
   "metadata": {
    "jupyter": {
     "source_hidden": true
    },
    "tags": []
   },
   "source": [
    "## Quiz1"
   ]
  },
  {
   "cell_type": "code",
   "execution_count": 111,
   "id": "42090188-b7b6-40ef-8342-5964115dab29",
   "metadata": {},
   "outputs": [],
   "source": [
    "# 퀴즈1 푸는 방법(1번째)"
   ]
  },
  {
   "cell_type": "code",
   "execution_count": 112,
   "id": "ec8c3dfb-09fc-4c35-ad8f-10cc7292fe82",
   "metadata": {
    "tags": []
   },
   "outputs": [],
   "source": [
    "list1 = [13, 53, 24, 35, 38] #Quiz1"
   ]
  },
  {
   "cell_type": "code",
   "execution_count": 113,
   "id": "609e3e0f-cbae-4fdd-bc59-1d7f31437d9b",
   "metadata": {},
   "outputs": [],
   "source": [
    "list1.sort()"
   ]
  },
  {
   "cell_type": "code",
   "execution_count": 114,
   "id": "0d0cf8d6-ae69-45ab-92b4-5708266ee030",
   "metadata": {},
   "outputs": [
    {
     "data": {
      "text/plain": [
       "[13, 24, 35, 38, 53]"
      ]
     },
     "execution_count": 114,
     "metadata": {},
     "output_type": "execute_result"
    }
   ],
   "source": [
    "list1 #올림차수로 적었음"
   ]
  },
  {
   "cell_type": "code",
   "execution_count": 115,
   "id": "89c6b95d-58b5-4e19-8e5b-8da81dbeaeb2",
   "metadata": {},
   "outputs": [],
   "source": [
    "list1.sort(reverse=True) #sort 함수는 올림차수 및 내림차수를 표기할 때 사용하는 함수"
   ]
  },
  {
   "cell_type": "code",
   "execution_count": 116,
   "id": "76ca0440-1970-4495-8585-4b14be952be6",
   "metadata": {
    "tags": []
   },
   "outputs": [
    {
     "data": {
      "text/plain": [
       "[53, 38, 35, 24, 13]"
      ]
     },
     "execution_count": 116,
     "metadata": {},
     "output_type": "execute_result"
    }
   ],
   "source": [
    "list1"
   ]
  },
  {
   "cell_type": "code",
   "execution_count": 117,
   "id": "ea99e7da-cfcc-4a8b-80e6-ce386a7b9558",
   "metadata": {},
   "outputs": [],
   "source": [
    "# 퀴즈1 푸는 방법(2번째)"
   ]
  },
  {
   "cell_type": "code",
   "execution_count": 118,
   "id": "b870d231-a6b2-4576-830c-c1ae0c1bdc87",
   "metadata": {},
   "outputs": [],
   "source": [
    "list1 = [13, 53, 24, 35, 38]"
   ]
  },
  {
   "cell_type": "code",
   "execution_count": 119,
   "id": "917543bd-840b-44c8-8948-9500696a79ad",
   "metadata": {},
   "outputs": [],
   "source": [
    "list1.sort()"
   ]
  },
  {
   "cell_type": "code",
   "execution_count": 120,
   "id": "2b522d62-8056-4bab-9d19-55d18a372a11",
   "metadata": {},
   "outputs": [
    {
     "data": {
      "text/plain": [
       "[53, 38, 35, 24, 13]"
      ]
     },
     "execution_count": 120,
     "metadata": {},
     "output_type": "execute_result"
    }
   ],
   "source": [
    "list1[::-1] #스탭 기능을 활용하여 역순으로 표기할 수 있음"
   ]
  },
  {
   "cell_type": "markdown",
   "id": "967a0a9a-c58c-46f4-a841-f95b8eff75f0",
   "metadata": {
    "tags": []
   },
   "source": [
    "## Quiz2"
   ]
  },
  {
   "cell_type": "code",
   "execution_count": 121,
   "id": "f5cc6aaa-1109-4b3d-8e6c-3beccf759cdf",
   "metadata": {},
   "outputs": [],
   "source": [
    "list2 = [\"Hello\", \"My\", \"Friends\"] #Quiz2 (어제 배운 join을 사용해서 만들 수 있음)"
   ]
  },
  {
   "cell_type": "code",
   "execution_count": 122,
   "id": "f3342611-6ae5-4264-ba6f-efdb42cb1e2f",
   "metadata": {},
   "outputs": [
    {
     "data": {
      "text/plain": [
       "'Hello My Friends'"
      ]
     },
     "execution_count": 122,
     "metadata": {},
     "output_type": "execute_result"
    }
   ],
   "source": [
    "\" \".join(list2)"
   ]
  },
  {
   "cell_type": "markdown",
   "id": "54fa09a8-c703-45c4-9b9f-75eef74449f0",
   "metadata": {},
   "source": [
    "## Quiz3"
   ]
  },
  {
   "cell_type": "code",
   "execution_count": 123,
   "id": "7790da7b-1a6c-4fbc-bd32-b71583099477",
   "metadata": {
    "tags": []
   },
   "outputs": [],
   "source": [
    "data = \"DP, 오징어게임, 슬기로운 의사생활\""
   ]
  },
  {
   "cell_type": "code",
   "execution_count": 124,
   "id": "593baf15-189c-4253-9222-bba4bdbecd04",
   "metadata": {},
   "outputs": [],
   "source": [
    "netflix_list = data.split(', ')"
   ]
  },
  {
   "cell_type": "code",
   "execution_count": 125,
   "id": "e5a86d2e-a5a7-43e1-9cb6-b7fcd6a84a50",
   "metadata": {},
   "outputs": [
    {
     "data": {
      "text/plain": [
       "['DP', '오징어게임', '슬기로운 의사생활']"
      ]
     },
     "execution_count": 125,
     "metadata": {},
     "output_type": "execute_result"
    }
   ],
   "source": [
    "netflix_list"
   ]
  },
  {
   "cell_type": "markdown",
   "id": "5ecf4322-6a33-4cf9-b267-373efcb40482",
   "metadata": {},
   "source": [
    "## Quiz4"
   ]
  },
  {
   "cell_type": "code",
   "execution_count": 126,
   "id": "b35a5fa1-7b5c-493e-bb88-ea4186ce9692",
   "metadata": {},
   "outputs": [],
   "source": [
    "netflix_list.append(\"호텔 델루나\") #append는 리스트의 맨 뒤에 데이터를 추가"
   ]
  },
  {
   "cell_type": "code",
   "execution_count": 127,
   "id": "d2df68af-fcdd-4cc1-a7b6-096c4c992bdb",
   "metadata": {},
   "outputs": [
    {
     "data": {
      "text/plain": [
       "['DP', '오징어게임', '슬기로운 의사생활', '호텔 델루나']"
      ]
     },
     "execution_count": 127,
     "metadata": {},
     "output_type": "execute_result"
    }
   ],
   "source": [
    "netflix_list"
   ]
  },
  {
   "cell_type": "markdown",
   "id": "b8940584-a891-4d78-86e6-f43a8297c5ce",
   "metadata": {},
   "source": [
    "## Quiz5"
   ]
  },
  {
   "cell_type": "code",
   "execution_count": 128,
   "id": "3e6b2387-df3d-413a-b1c5-f60db536e7a4",
   "metadata": {},
   "outputs": [],
   "source": [
    "netflix_list.insert(0, \"갯마을 차차차\") #insert는 리스트의 맨 앞에 데이터를 추가"
   ]
  },
  {
   "cell_type": "code",
   "execution_count": 129,
   "id": "058ea6a4-48d8-42b1-b08f-f00fcbe4a57c",
   "metadata": {},
   "outputs": [
    {
     "data": {
      "text/plain": [
       "['갯마을 차차차', 'DP', '오징어게임', '슬기로운 의사생활', '호텔 델루나']"
      ]
     },
     "execution_count": 129,
     "metadata": {},
     "output_type": "execute_result"
    }
   ],
   "source": [
    "netflix_list"
   ]
  },
  {
   "cell_type": "markdown",
   "id": "beaa3248-d384-45d1-81de-b84d05e4a9df",
   "metadata": {
    "tags": []
   },
   "source": [
    "## Quiz6"
   ]
  },
  {
   "cell_type": "code",
   "execution_count": 130,
   "id": "d9c1e385-5972-47bf-a23f-6a35fb7510e6",
   "metadata": {},
   "outputs": [],
   "source": [
    "#나의 풀이법"
   ]
  },
  {
   "cell_type": "code",
   "execution_count": 131,
   "id": "8809850a-35ea-479f-a202-530a52215660",
   "metadata": {},
   "outputs": [],
   "source": [
    "netflix_list.remove('DP')\n",
    "netflix_list.insert(1, '검은태양')"
   ]
  },
  {
   "cell_type": "code",
   "execution_count": 139,
   "id": "67a426c1-84d4-4cfb-909c-0fd7699bcc85",
   "metadata": {},
   "outputs": [
    {
     "data": {
      "text/plain": [
       "['갯마을 차차차', '검은태양', '오징어게임', '슬기로운 의사생활', '호텔 델루나']"
      ]
     },
     "execution_count": 139,
     "metadata": {},
     "output_type": "execute_result"
    }
   ],
   "source": [
    "netflix_list"
   ]
  },
  {
   "cell_type": "code",
   "execution_count": null,
   "id": "d937fd64-71d0-43e8-ae6c-2fc680fbc9e7",
   "metadata": {},
   "outputs": [],
   "source": []
  },
  {
   "cell_type": "code",
   "execution_count": 140,
   "id": "c32f9cd4-3ef1-49a9-8ec4-4f0a717eb166",
   "metadata": {},
   "outputs": [],
   "source": [
    "#강사님 풀이법"
   ]
  },
  {
   "cell_type": "code",
   "execution_count": 141,
   "id": "3cd06754-f309-47c1-b126-08623a466c8e",
   "metadata": {},
   "outputs": [
    {
     "data": {
      "text/plain": [
       "['갯마을 차차차', '검은태양', '오징어게임', '슬기로운 의사생활', '호텔 델루나']"
      ]
     },
     "execution_count": 141,
     "metadata": {},
     "output_type": "execute_result"
    }
   ],
   "source": [
    "netflix_list"
   ]
  },
  {
   "cell_type": "code",
   "execution_count": null,
   "id": "9d244617-ca11-4c75-8f31-b791f172ee9e",
   "metadata": {},
   "outputs": [],
   "source": []
  },
  {
   "cell_type": "markdown",
   "id": "a58e6130-cfb8-49da-a485-01ee2eebfcad",
   "metadata": {},
   "source": [
    "## Quiz7"
   ]
  },
  {
   "cell_type": "code",
   "execution_count": 142,
   "id": "ec68dae5-8111-4f04-832e-d48e5e3bd06f",
   "metadata": {},
   "outputs": [],
   "source": [
    "list3 = [294, 185, 1384, 1282, 375, 283]"
   ]
  },
  {
   "cell_type": "code",
   "execution_count": 143,
   "id": "26b8cb53-dc81-439d-8f30-c229f0a2a088",
   "metadata": {
    "tags": []
   },
   "outputs": [
    {
     "data": {
      "text/plain": [
       "1384"
      ]
     },
     "execution_count": 143,
     "metadata": {},
     "output_type": "execute_result"
    }
   ],
   "source": [
    "max(list3)"
   ]
  },
  {
   "cell_type": "code",
   "execution_count": 144,
   "id": "773d93ee-5b73-496a-bdd2-14cfb62ffb7a",
   "metadata": {},
   "outputs": [
    {
     "data": {
      "text/plain": [
       "185"
      ]
     },
     "execution_count": 144,
     "metadata": {},
     "output_type": "execute_result"
    }
   ],
   "source": [
    "min(list3)"
   ]
  },
  {
   "cell_type": "markdown",
   "id": "561ac843-531d-41d3-9b32-1c68d081817b",
   "metadata": {},
   "source": [
    "## Quiz8"
   ]
  },
  {
   "cell_type": "code",
   "execution_count": 145,
   "id": "49e6b77e-5341-40b1-bc55-c014070a4a1c",
   "metadata": {},
   "outputs": [],
   "source": [
    "str1 = \"naver, sk, google, kakao\""
   ]
  },
  {
   "cell_type": "code",
   "execution_count": 146,
   "id": "4b8dd20a-4659-4207-81c4-b89819f284cb",
   "metadata": {},
   "outputs": [
    {
     "data": {
      "text/plain": [
       "['naver', ' sk', ' google', ' kakao']"
      ]
     },
     "execution_count": 146,
     "metadata": {},
     "output_type": "execute_result"
    }
   ],
   "source": [
    "str1.split(',')"
   ]
  },
  {
   "cell_type": "code",
   "execution_count": 147,
   "id": "3de2ca3c-a71e-4ed4-9ef6-ac9e5e90b725",
   "metadata": {},
   "outputs": [],
   "source": [
    "company_list = str1.split(',')"
   ]
  },
  {
   "cell_type": "code",
   "execution_count": 148,
   "id": "d8ca282f-89f6-4671-8e10-b91aa11e49c8",
   "metadata": {},
   "outputs": [],
   "source": [
    "company_list.sort() #sort는 오름차순을 나타낼 때 사용하는 함수"
   ]
  },
  {
   "cell_type": "code",
   "execution_count": 149,
   "id": "942b41b0-0195-40a7-b8f9-85556b237401",
   "metadata": {},
   "outputs": [
    {
     "data": {
      "text/plain": [
       "[' google', ' kakao', ' sk', 'naver']"
      ]
     },
     "execution_count": 149,
     "metadata": {},
     "output_type": "execute_result"
    }
   ],
   "source": [
    "company_list"
   ]
  },
  {
   "cell_type": "code",
   "execution_count": 150,
   "id": "64100cb9-82b2-4243-94af-b20869ecf259",
   "metadata": {
    "tags": []
   },
   "outputs": [],
   "source": [
    "company_list2 = sorted(company_list)"
   ]
  },
  {
   "cell_type": "code",
   "execution_count": 151,
   "id": "9e0cb78f-c774-4fee-9cd3-37a020e5ff89",
   "metadata": {
    "tags": []
   },
   "outputs": [
    {
     "data": {
      "text/plain": [
       "[' google', ' kakao', ' sk', 'naver']"
      ]
     },
     "execution_count": 151,
     "metadata": {},
     "output_type": "execute_result"
    }
   ],
   "source": [
    "company_list2"
   ]
  },
  {
   "cell_type": "code",
   "execution_count": 152,
   "id": "28ba330d-97b0-4d82-9c09-95ec97f77e95",
   "metadata": {
    "tags": []
   },
   "outputs": [
    {
     "data": {
      "text/plain": [
       "[' google', ' kakao', ' sk', 'naver']"
      ]
     },
     "execution_count": 152,
     "metadata": {},
     "output_type": "execute_result"
    }
   ],
   "source": [
    "sorted(company_list)"
   ]
  },
  {
   "cell_type": "code",
   "execution_count": null,
   "id": "a36315af-9a73-4e71-8e18-912929e4bca1",
   "metadata": {},
   "outputs": [],
   "source": []
  },
  {
   "cell_type": "code",
   "execution_count": 153,
   "id": "797b6eee-374e-4280-8bae-b53078844ec5",
   "metadata": {},
   "outputs": [],
   "source": [
    "#Quiz8 split을 활용하여 퀴즈 8번 풀 수 있음"
   ]
  },
  {
   "cell_type": "markdown",
   "id": "8c106e4a-e839-4096-9577-dc339e068bc8",
   "metadata": {
    "tags": []
   },
   "source": [
    "# 튜플(tuple) \n",
    "- (튜플은 많이 사용하지 않을 것이다....)"
   ]
  },
  {
   "cell_type": "code",
   "execution_count": 154,
   "id": "3f66d22e-328a-4e22-84b4-2b3f1fa839ff",
   "metadata": {},
   "outputs": [
    {
     "data": {
      "text/plain": [
       "tuple"
      ]
     },
     "execution_count": 154,
     "metadata": {},
     "output_type": "execute_result"
    }
   ],
   "source": [
    "t1 = tuple()\n",
    "type(t1)"
   ]
  },
  {
   "cell_type": "code",
   "execution_count": null,
   "id": "07b1ae80-8f5b-4672-9933-78a2c764c5f5",
   "metadata": {},
   "outputs": [],
   "source": [
    "t2 = ()\n",
    "type(t2)"
   ]
  },
  {
   "cell_type": "code",
   "execution_count": null,
   "id": "e557cd5c-b3d3-4301-b309-226dec7fa79c",
   "metadata": {
    "tags": []
   },
   "outputs": [],
   "source": [
    "tuple1 = (1, 2, 3, 4, 5)"
   ]
  },
  {
   "cell_type": "code",
   "execution_count": null,
   "id": "3f4ce0d8-51dc-455e-9ff1-f3b2e7f260f1",
   "metadata": {},
   "outputs": [],
   "source": [
    "tuple1 = (1, 2, 3, 4, 5)"
   ]
  },
  {
   "cell_type": "code",
   "execution_count": null,
   "id": "2d280d25-a9d1-499f-b547-938a3305f9ea",
   "metadata": {},
   "outputs": [],
   "source": [
    "tuple1,remove(1)"
   ]
  },
  {
   "cell_type": "code",
   "execution_count": null,
   "id": "5f21b45f-d3e5-41f2-8557-5ca17d193e7b",
   "metadata": {},
   "outputs": [],
   "source": [
    "tuple[0] = 100"
   ]
  },
  {
   "cell_type": "code",
   "execution_count": null,
   "id": "b60ef8f2-6cf2-4a16-aac4-ef0fe8bc13e9",
   "metadata": {},
   "outputs": [],
   "source": [
    "tuple1 + tuple2"
   ]
  },
  {
   "cell_type": "code",
   "execution_count": null,
   "id": "36612b78-c22b-4dda-841f-d81b8b55bb5a",
   "metadata": {},
   "outputs": [],
   "source": []
  },
  {
   "cell_type": "markdown",
   "id": "9ae16c07-c50b-414c-837e-5c7b5202ca8c",
   "metadata": {},
   "source": [
    "# 딕셔너리(dict)   "
   ]
  },
  {
   "cell_type": "code",
   "execution_count": null,
   "id": "e4a7f2b3-7595-49ba-b751-18ca2cae53bd",
   "metadata": {},
   "outputs": [],
   "source": [
    "#딕셔너리는 맵핑할 때 많이 사용할 것이다."
   ]
  },
  {
   "cell_type": "code",
   "execution_count": null,
   "id": "c6ce5be0-a9d4-4cdf-8d41-7090b08ae1eb",
   "metadata": {},
   "outputs": [
    {
     "data": {
      "text/plain": [
       "dict"
      ]
     },
     "execution_count": 5,
     "metadata": {},
     "output_type": "execute_result"
    }
   ],
   "source": [
    "dict1 = dict()\n",
    "type(dict1)"
   ]
  },
  {
   "cell_type": "code",
   "execution_count": null,
   "id": "f494707e-3369-4a81-b765-0d1991060c04",
   "metadata": {},
   "outputs": [
    {
     "data": {
      "text/plain": [
       "dict"
      ]
     },
     "execution_count": 6,
     "metadata": {},
     "output_type": "execute_result"
    }
   ],
   "source": [
    "dict2 = {}\n",
    "type(dict2)"
   ]
  },
  {
   "cell_type": "code",
   "execution_count": null,
   "id": "9571d6b0-ccfc-4586-8357-7dc67eb14bd3",
   "metadata": {},
   "outputs": [],
   "source": [
    "people = { 'name' : 'hojin',\n",
    "          'age':20,\n",
    "          'weight': '30kg',\n",
    "          'score': ['A','A+','S']}"
   ]
  },
  {
   "cell_type": "code",
   "execution_count": null,
   "id": "9b8f8a73-4831-46ae-a324-60df4047ef16",
   "metadata": {},
   "outputs": [
    {
     "data": {
      "text/plain": [
       "{'name': 'hojin', 'age': 20, 'weight': '30kg', 'score': ['A', 'A+', 'S']}"
      ]
     },
     "execution_count": 8,
     "metadata": {},
     "output_type": "execute_result"
    }
   ],
   "source": [
    "people"
   ]
  },
  {
   "cell_type": "code",
   "execution_count": null,
   "id": "255c420a-4fb7-4630-8789-162d742dbbaf",
   "metadata": {},
   "outputs": [
    {
     "data": {
      "text/plain": [
       "'hojin'"
      ]
     },
     "execution_count": 9,
     "metadata": {},
     "output_type": "execute_result"
    }
   ],
   "source": [
    "people['name']"
   ]
  },
  {
   "cell_type": "code",
   "execution_count": null,
   "id": "3511f796-890b-49b3-a20e-b203906444cc",
   "metadata": {},
   "outputs": [
    {
     "data": {
      "text/plain": [
       "20"
      ]
     },
     "execution_count": 10,
     "metadata": {},
     "output_type": "execute_result"
    }
   ],
   "source": [
    "people['age']"
   ]
  },
  {
   "cell_type": "code",
   "execution_count": null,
   "id": "ddddf8e2-95ac-49b3-bc78-ea5b2cf12660",
   "metadata": {},
   "outputs": [
    {
     "data": {
      "text/plain": [
       "['A', 'A+', 'S']"
      ]
     },
     "execution_count": 11,
     "metadata": {},
     "output_type": "execute_result"
    }
   ],
   "source": [
    "people['score']"
   ]
  },
  {
   "cell_type": "code",
   "execution_count": null,
   "id": "2652d85c-55f2-4ced-a904-0158f562aa8b",
   "metadata": {},
   "outputs": [],
   "source": [
    "people['height']= '2M'"
   ]
  },
  {
   "cell_type": "code",
   "execution_count": null,
   "id": "f754a2fc-9931-4442-9b35-7f92eca482d1",
   "metadata": {},
   "outputs": [
    {
     "data": {
      "text/plain": [
       "{'name': 'hojin',\n",
       " 'age': 20,\n",
       " 'weight': '30kg',\n",
       " 'score': ['A', 'A+', 'S'],\n",
       " 'height': '2M'}"
      ]
     },
     "execution_count": 13,
     "metadata": {},
     "output_type": "execute_result"
    }
   ],
   "source": [
    "people"
   ]
  },
  {
   "cell_type": "code",
   "execution_count": null,
   "id": "e1d84b7c-7cc4-4e11-8c5c-b878f90039f1",
   "metadata": {},
   "outputs": [],
   "source": [
    "del people['weight']"
   ]
  },
  {
   "cell_type": "code",
   "execution_count": null,
   "id": "94582439-86c6-4d77-9771-d9d05acb80c2",
   "metadata": {},
   "outputs": [
    {
     "data": {
      "text/plain": [
       "{'name': 'hojin', 'age': 20, 'score': ['A', 'A+', 'S'], 'height': '2M'}"
      ]
     },
     "execution_count": 53,
     "metadata": {},
     "output_type": "execute_result"
    }
   ],
   "source": [
    "people"
   ]
  },
  {
   "cell_type": "markdown",
   "id": "f2fd6fa7-2cce-47cb-93fe-8501e3b777ba",
   "metadata": {},
   "source": [
    "# Quiz(오후 간단 퀴즈)"
   ]
  },
  {
   "cell_type": "code",
   "execution_count": null,
   "id": "7fa1c9e5-667b-4b74-b645-35deb4507c7c",
   "metadata": {},
   "outputs": [],
   "source": [
    "# 'score': ['A', 'A+', 'S'] 안에 B를 추가해보시오."
   ]
  },
  {
   "cell_type": "code",
   "execution_count": null,
   "id": "0bdf2d5e-f3a5-443d-905a-cf34a9a98a8a",
   "metadata": {},
   "outputs": [],
   "source": [
    "people['score'].append('B')"
   ]
  },
  {
   "cell_type": "code",
   "execution_count": null,
   "id": "33b1c60b-9718-4cc1-9d92-fedd090f43f0",
   "metadata": {},
   "outputs": [
    {
     "data": {
      "text/plain": [
       "{'name': 'hojin', 'age': 20, 'score': ['A', 'A+', 'S', 'B'], 'height': '2M'}"
      ]
     },
     "execution_count": 56,
     "metadata": {},
     "output_type": "execute_result"
    }
   ],
   "source": [
    "people"
   ]
  },
  {
   "cell_type": "code",
   "execution_count": null,
   "id": "47921e3d-ba5c-4f5d-af8c-c2f9edbdcf64",
   "metadata": {},
   "outputs": [],
   "source": [
    "people['score'].insert(0,'C')"
   ]
  },
  {
   "cell_type": "code",
   "execution_count": null,
   "id": "e8e459a9-317d-4bbe-8360-ba4c0456fc6d",
   "metadata": {},
   "outputs": [
    {
     "data": {
      "text/plain": [
       "{'name': 'hojin',\n",
       " 'age': 20,\n",
       " 'score': ['C', 'A', 'A+', 'S', 'B'],\n",
       " 'height': '2M'}"
      ]
     },
     "execution_count": 58,
     "metadata": {},
     "output_type": "execute_result"
    }
   ],
   "source": [
    "people"
   ]
  },
  {
   "cell_type": "code",
   "execution_count": null,
   "id": "2af6c1d7-3493-4715-b4bd-f2d94773104f",
   "metadata": {},
   "outputs": [],
   "source": [
    "people['name'] = 'test'"
   ]
  },
  {
   "cell_type": "code",
   "execution_count": null,
   "id": "20d6590c-bbe7-4db3-912e-f93538f71747",
   "metadata": {},
   "outputs": [
    {
     "data": {
      "text/plain": [
       "{'name': 'test',\n",
       " 'age': 20,\n",
       " 'score': ['C', 'A', 'A+', 'S', 'B'],\n",
       " 'height': '2M'}"
      ]
     },
     "execution_count": 60,
     "metadata": {},
     "output_type": "execute_result"
    }
   ],
   "source": [
    "people"
   ]
  },
  {
   "cell_type": "code",
   "execution_count": null,
   "id": "2b90e029-ca86-4237-8838-fc61f8d99048",
   "metadata": {},
   "outputs": [],
   "source": [
    "dict1 = { 'name':'hojin', 'name':'test'}"
   ]
  },
  {
   "cell_type": "code",
   "execution_count": null,
   "id": "57fb7ae9-e1e5-48c5-9e79-ffc3a956ed66",
   "metadata": {},
   "outputs": [
    {
     "data": {
      "text/plain": [
       "{'name': 'test'}"
      ]
     },
     "execution_count": 62,
     "metadata": {},
     "output_type": "execute_result"
    }
   ],
   "source": [
    "dict1"
   ]
  },
  {
   "cell_type": "code",
   "execution_count": null,
   "id": "6bf42253-7883-4593-bcb4-a9cc9709774a",
   "metadata": {},
   "outputs": [],
   "source": [
    "dict2 = { 1 :'hojin', 'name':'test'}"
   ]
  },
  {
   "cell_type": "code",
   "execution_count": null,
   "id": "a4056e17-5d98-44d1-ae8b-9828025170d1",
   "metadata": {},
   "outputs": [
    {
     "data": {
      "text/plain": [
       "'hojin'"
      ]
     },
     "execution_count": 64,
     "metadata": {},
     "output_type": "execute_result"
    }
   ],
   "source": [
    "dict2[1]"
   ]
  },
  {
   "cell_type": "code",
   "execution_count": null,
   "id": "294f929e-e639-40d4-8767-40a5a0db69c2",
   "metadata": {},
   "outputs": [
    {
     "ename": "TypeError",
     "evalue": "unhashable type: 'list'",
     "output_type": "error",
     "traceback": [
      "\u001b[1;31m---------------------------------------------------------------------------\u001b[0m",
      "\u001b[1;31mTypeError\u001b[0m                                 Traceback (most recent call last)",
      "Input \u001b[1;32mIn [65]\u001b[0m, in \u001b[0;36m<cell line: 1>\u001b[1;34m()\u001b[0m\n\u001b[1;32m----> 1\u001b[0m dict3 \u001b[38;5;241m=\u001b[39m { [\u001b[38;5;241m1\u001b[39m,\u001b[38;5;241m2\u001b[39m,\u001b[38;5;241m3\u001b[39m] :\u001b[38;5;124m'\u001b[39m\u001b[38;5;124mhojin\u001b[39m\u001b[38;5;124m'\u001b[39m, \u001b[38;5;124m'\u001b[39m\u001b[38;5;124mname\u001b[39m\u001b[38;5;124m'\u001b[39m:\u001b[38;5;124m'\u001b[39m\u001b[38;5;124mtest\u001b[39m\u001b[38;5;124m'\u001b[39m}\n",
      "\u001b[1;31mTypeError\u001b[0m: unhashable type: 'list'"
     ]
    }
   ],
   "source": [
    "dict3 = { [1,2,3] :'hojin', 'name':'test'} #list는 변경이 불가(?)"
   ]
  },
  {
   "cell_type": "code",
   "execution_count": null,
   "id": "eea1b22a-31b5-4a34-b5db-0dbd3980c366",
   "metadata": {},
   "outputs": [],
   "source": [
    "dict4 = { (1,2,3) :'hojin', 'name':'test'}"
   ]
  },
  {
   "cell_type": "code",
   "execution_count": null,
   "id": "8c533501-8ac5-4dbb-a096-c40b46aecca3",
   "metadata": {},
   "outputs": [
    {
     "data": {
      "text/plain": [
       "{(1, 2, 3): 'hojin', 'name': 'test'}"
      ]
     },
     "execution_count": 67,
     "metadata": {},
     "output_type": "execute_result"
    }
   ],
   "source": [
    "dict4"
   ]
  },
  {
   "cell_type": "markdown",
   "id": "d1f45630-6cb4-4311-b8b3-8933de0c770f",
   "metadata": {},
   "source": [
    "## dict 관련 함수"
   ]
  },
  {
   "cell_type": "code",
   "execution_count": null,
   "id": "84b6b070-336b-48a0-b532-91f86d29b17c",
   "metadata": {},
   "outputs": [],
   "source": [
    "people = {'name': 'hojin',\n",
    "          'age': 20,\n",
    "          'score': ['A', 'B', 'C'],\n",
    "          'height': '180cnm'}"
   ]
  },
  {
   "cell_type": "code",
   "execution_count": null,
   "id": "85946804-2f0d-4cd6-86e2-00b768ec7cdd",
   "metadata": {},
   "outputs": [],
   "source": [
    "people"
   ]
  },
  {
   "cell_type": "code",
   "execution_count": null,
   "id": "3c4a02a8-aabd-4ace-a800-61777dfe5feb",
   "metadata": {},
   "outputs": [],
   "source": [
    "people.keys()"
   ]
  },
  {
   "cell_type": "code",
   "execution_count": null,
   "id": "f078f01c-5bfc-45ec-9d35-a3e92bcd7403",
   "metadata": {},
   "outputs": [],
   "source": [
    "people.keys()[0]   #이렇게 하면 안된다. 대신 밑에 제대로 된 방법으로 해보자"
   ]
  },
  {
   "cell_type": "code",
   "execution_count": null,
   "id": "40b27cfc-83d1-4884-8605-5c2a014d5aa4",
   "metadata": {},
   "outputs": [],
   "source": [
    "list(people.keys())"
   ]
  },
  {
   "cell_type": "code",
   "execution_count": null,
   "id": "9e105cf2-57ab-4d1a-8dc9-af244d8bf9bb",
   "metadata": {},
   "outputs": [],
   "source": [
    "people.values()"
   ]
  },
  {
   "cell_type": "code",
   "execution_count": null,
   "id": "43655b9e-f7fc-4e90-9568-72183bdd5e40",
   "metadata": {},
   "outputs": [],
   "source": [
    "list(people.values())"
   ]
  },
  {
   "cell_type": "code",
   "execution_count": null,
   "id": "d5c63bcf-c283-4786-988d-8e39e428beda",
   "metadata": {},
   "outputs": [],
   "source": [
    "people.items()"
   ]
  },
  {
   "cell_type": "code",
   "execution_count": null,
   "id": "810dc09c-eab6-42aa-9726-e8dbecc7cf58",
   "metadata": {},
   "outputs": [],
   "source": [
    "list(people.items())"
   ]
  },
  {
   "cell_type": "code",
   "execution_count": null,
   "id": "bb299e7b-e9ad-4f25-a34b-18d94d75d90e",
   "metadata": {},
   "outputs": [],
   "source": [
    "# list를 계속 해서 변환하는 이유는 for문을 할 때 사용하기 위함"
   ]
  },
  {
   "cell_type": "code",
   "execution_count": null,
   "id": "b62ff763-51ee-4cd4-8e0b-195c0b422d9b",
   "metadata": {},
   "outputs": [],
   "source": [
    "people['name'] "
   ]
  },
  {
   "cell_type": "code",
   "execution_count": null,
   "id": "e867e096-426d-4f64-93b0-23a942f08dbe",
   "metadata": {},
   "outputs": [],
   "source": [
    "people.get('name')"
   ]
  },
  {
   "cell_type": "code",
   "execution_count": null,
   "id": "b9ebd635-5378-455a-8292-aa1d03d3dac4",
   "metadata": {},
   "outputs": [],
   "source": [
    "'name' in people #people 안에 name이라는 키가 있는가? 있으면 True"
   ]
  },
  {
   "cell_type": "code",
   "execution_count": null,
   "id": "95d05278-6b1a-4867-a81b-316eafac20db",
   "metadata": {},
   "outputs": [],
   "source": [
    "'hojin' in people #people 안에 hojin이라는 키가 있는가? 없으면 False"
   ]
  },
  {
   "cell_type": "markdown",
   "id": "17dd542d-d30f-44ab-8f88-ab84d1f009f7",
   "metadata": {},
   "source": [
    "# Quiz(오후) (0)\n",
    "1. 자신의 이름, 나이, 성별이 포함된 my_dict를 생성해보세요.\n",
    "2. my_dict에 사는 곳을 추가해보세요.\n",
    "3. my_dict의 키를 리스트로 출력해보세요."
   ]
  },
  {
   "cell_type": "markdown",
   "id": "14f6a314-df48-45b5-8d4e-31da1594c20a",
   "metadata": {
    "tags": []
   },
   "source": [
    "## Quiz1_1"
   ]
  },
  {
   "cell_type": "code",
   "execution_count": null,
   "id": "9a645b20-9c06-40f9-a49e-cf6609bfc84d",
   "metadata": {
    "tags": []
   },
   "outputs": [],
   "source": [
    "my_dict =  {'name': 'Seong-Hyeon',\n",
    "            'age': 32,\n",
    "            'sex': 'man'}"
   ]
  },
  {
   "cell_type": "code",
   "execution_count": null,
   "id": "ce66f790-022d-436e-ad19-501ddd886ed9",
   "metadata": {},
   "outputs": [],
   "source": [
    "my_dict"
   ]
  },
  {
   "cell_type": "markdown",
   "id": "a1073bbd-b41e-48d5-84ea-a09b5c575d2d",
   "metadata": {},
   "source": [
    "## Quiz1_2"
   ]
  },
  {
   "cell_type": "code",
   "execution_count": null,
   "id": "68628af9-c9cd-4f29-9232-353f76ef1153",
   "metadata": {},
   "outputs": [],
   "source": [
    "my_dict =  {'이름': '남성현',\n",
    "            '나이': 32,\n",
    "            '성별': '남'}"
   ]
  },
  {
   "cell_type": "code",
   "execution_count": null,
   "id": "c67881a9-a466-4041-8356-0abc877fb8da",
   "metadata": {},
   "outputs": [],
   "source": [
    "my_dict"
   ]
  },
  {
   "cell_type": "markdown",
   "id": "ab6afbb0-843f-4d06-a270-f2008d7ac7da",
   "metadata": {
    "tags": []
   },
   "source": [
    "## Quiz2_1"
   ]
  },
  {
   "cell_type": "code",
   "execution_count": null,
   "id": "a2c010a0-5b35-4d1a-965c-c083f97fafce",
   "metadata": {},
   "outputs": [],
   "source": [
    "my_dict['Live']= 'Mookdong'"
   ]
  },
  {
   "cell_type": "code",
   "execution_count": null,
   "id": "fb003b25-56a2-4ead-bd46-ee02fbebc2fd",
   "metadata": {},
   "outputs": [],
   "source": [
    "my_dict"
   ]
  },
  {
   "cell_type": "markdown",
   "id": "52346d42-60f0-4860-8198-0539d3efcf3f",
   "metadata": {},
   "source": [
    "## Quiz2_2"
   ]
  },
  {
   "cell_type": "code",
   "execution_count": null,
   "id": "5f0e0c9c-c414-44b4-9869-21d1f0ef5861",
   "metadata": {},
   "outputs": [],
   "source": [
    "my_dict['사는곳']= '양천구'"
   ]
  },
  {
   "cell_type": "code",
   "execution_count": null,
   "id": "4552b82d-d2b0-4382-bfb3-25f4d0bd04e8",
   "metadata": {},
   "outputs": [],
   "source": [
    "my_dict"
   ]
  },
  {
   "cell_type": "markdown",
   "id": "ecefe423-5ccf-4ab1-93b2-0cbf40d3cb66",
   "metadata": {
    "tags": []
   },
   "source": [
    "## Quiz3_1"
   ]
  },
  {
   "cell_type": "code",
   "execution_count": null,
   "id": "6ea57710-27ba-427d-b4fa-e47714573fe9",
   "metadata": {},
   "outputs": [],
   "source": [
    "list(my_dict.keys())"
   ]
  },
  {
   "cell_type": "markdown",
   "id": "4cb745cf-0c7e-4706-a1ff-67edf4bee6ab",
   "metadata": {},
   "source": [
    "## Quiz3_2"
   ]
  },
  {
   "cell_type": "code",
   "execution_count": null,
   "id": "b275e56e-80a5-4af0-87ae-4a17bdfe79de",
   "metadata": {},
   "outputs": [],
   "source": [
    "list(my_dict.keys())"
   ]
  },
  {
   "cell_type": "markdown",
   "id": "d3c1ce64-ffa5-44ea-8e11-8ab6f0f0f5f1",
   "metadata": {},
   "source": [
    "## Set 함수(셋)"
   ]
  },
  {
   "cell_type": "code",
   "execution_count": null,
   "id": "8cbbe404-999e-47a6-b9d5-eb68805d6124",
   "metadata": {},
   "outputs": [],
   "source": [
    "s1 = set([1, 2, 3])\n",
    "type(s1)"
   ]
  },
  {
   "cell_type": "code",
   "execution_count": null,
   "id": "6dbb6183-f330-4313-9a21-d2f78a1a814d",
   "metadata": {},
   "outputs": [],
   "source": [
    "s1 = set([5, 4, 1, 2, 3, 1, 2, 3])\n",
    "s1"
   ]
  },
  {
   "cell_type": "code",
   "execution_count": null,
   "id": "e29161c7-5f55-498a-8c83-17e961c4d85a",
   "metadata": {},
   "outputs": [],
   "source": [
    "set('AABBCCDDEE')"
   ]
  },
  {
   "cell_type": "code",
   "execution_count": null,
   "id": "966572ad-3b6d-496b-9f12-ddd75c614bfe",
   "metadata": {},
   "outputs": [],
   "source": [
    "list(set('AABBCCDDEE')) #강사님이랑 다르게 출력되는데 왜지?"
   ]
  },
  {
   "cell_type": "code",
   "execution_count": null,
   "id": "df33d911-3c60-4885-bbf9-da221b14899f",
   "metadata": {},
   "outputs": [],
   "source": [
    "s2 = set([1,2,3])\n",
    "s3 = set([3,4,5])"
   ]
  },
  {
   "cell_type": "code",
   "execution_count": null,
   "id": "4c26415f-e533-499d-82d3-d96bcc50ad5b",
   "metadata": {},
   "outputs": [],
   "source": [
    "s2 & s3 #교집합"
   ]
  },
  {
   "cell_type": "code",
   "execution_count": null,
   "id": "ea6ec7f6-e35d-4ee5-bca7-04419bbee0f8",
   "metadata": {},
   "outputs": [],
   "source": [
    "s2.intersection(s3)"
   ]
  },
  {
   "cell_type": "code",
   "execution_count": null,
   "id": "b77a49ae-ed24-43a0-a3b7-c5415137c549",
   "metadata": {},
   "outputs": [],
   "source": [
    "s2 | s3 #합집합"
   ]
  },
  {
   "cell_type": "code",
   "execution_count": null,
   "id": "63cf05d9-6431-4e2e-b675-bca3ed7fcd5c",
   "metadata": {},
   "outputs": [],
   "source": [
    "s2.union(s3)"
   ]
  },
  {
   "cell_type": "code",
   "execution_count": null,
   "id": "757d1165-f2e2-410f-8d40-77973c5498e2",
   "metadata": {},
   "outputs": [],
   "source": [
    "s2 - s3 #차집합"
   ]
  },
  {
   "cell_type": "code",
   "execution_count": null,
   "id": "88a19c2f-8e0e-4ec4-9bc5-69f1cdb64817",
   "metadata": {},
   "outputs": [],
   "source": [
    "s2.difference(s3)"
   ]
  },
  {
   "cell_type": "code",
   "execution_count": null,
   "id": "af29aa43-71fd-4998-9f01-b8d5bdd04659",
   "metadata": {},
   "outputs": [],
   "source": [
    "s2.add(10)"
   ]
  },
  {
   "cell_type": "code",
   "execution_count": null,
   "id": "031b9056-1620-46b8-aee3-02bff2a2183b",
   "metadata": {},
   "outputs": [],
   "source": [
    "s2"
   ]
  },
  {
   "cell_type": "code",
   "execution_count": null,
   "id": "9b6977e2-679a-457e-8fd4-6519a9c0aabe",
   "metadata": {},
   "outputs": [],
   "source": [
    "s2.add(1)   #add는 값을 하나만 넣을 수 있다."
   ]
  },
  {
   "cell_type": "code",
   "execution_count": null,
   "id": "e0f2ac26-e631-4614-ae18-ff6899ff6441",
   "metadata": {},
   "outputs": [],
   "source": [
    "s2"
   ]
  },
  {
   "cell_type": "code",
   "execution_count": null,
   "id": "f3c0b951-77a5-4900-b0fa-12beb106060a",
   "metadata": {},
   "outputs": [],
   "source": [
    "s2.update([11,12]) #update는 값을 리스트로 넣을 수 있다."
   ]
  },
  {
   "cell_type": "code",
   "execution_count": null,
   "id": "3d479245-ac77-43be-be8a-0389f5dafca7",
   "metadata": {},
   "outputs": [],
   "source": [
    "s2"
   ]
  },
  {
   "cell_type": "code",
   "execution_count": null,
   "id": "3e727443-1551-48f6-9dbd-d6582e06beee",
   "metadata": {},
   "outputs": [],
   "source": [
    "s2.remove(1)"
   ]
  },
  {
   "cell_type": "code",
   "execution_count": null,
   "id": "7081222f-6fae-48dd-9787-c5de1b2c3ed5",
   "metadata": {},
   "outputs": [],
   "source": [
    "s2"
   ]
  },
  {
   "cell_type": "code",
   "execution_count": null,
   "id": "1571649a-b9f1-4b28-a9ad-b3e820385a80",
   "metadata": {},
   "outputs": [],
   "source": [
    "# 간단 Quiz list1 = [1, 2, 1, 4, 5, 1, 3, 5, 7, 8, 1 ]에서 중복 된 값에서 제외된 값의 수량을 구하라."
   ]
  },
  {
   "cell_type": "code",
   "execution_count": null,
   "id": "8b77b949-6838-4c43-acba-57e53fe46da1",
   "metadata": {},
   "outputs": [],
   "source": [
    "list1 = [1, 2, 1, 4, 5, 1, 3, 5, 7, 8, 1 ]"
   ]
  },
  {
   "cell_type": "code",
   "execution_count": null,
   "id": "4440f320-c471-4131-aec7-fc9211b18740",
   "metadata": {},
   "outputs": [],
   "source": [
    "len(list(set(list1)))"
   ]
  },
  {
   "cell_type": "code",
   "execution_count": null,
   "id": "26a9b811-8c4e-46bb-a0f6-a55054c336c7",
   "metadata": {},
   "outputs": [],
   "source": [
    "set(list1)"
   ]
  },
  {
   "cell_type": "code",
   "execution_count": null,
   "id": "2be934e7-0a65-4b93-8156-326a79736f40",
   "metadata": {},
   "outputs": [],
   "source": [
    "list1 = set(list1)"
   ]
  },
  {
   "cell_type": "code",
   "execution_count": null,
   "id": "927d6b20-3c60-4861-86fd-228364290e4e",
   "metadata": {},
   "outputs": [],
   "source": [
    "list1"
   ]
  },
  {
   "cell_type": "code",
   "execution_count": null,
   "id": "0e75ad48-eb70-483e-b0fb-e161c9d942b7",
   "metadata": {},
   "outputs": [],
   "source": [
    "list(list1)"
   ]
  },
  {
   "cell_type": "code",
   "execution_count": null,
   "id": "86efa710-300a-4c12-bf1b-93be6cd6242f",
   "metadata": {},
   "outputs": [],
   "source": [
    "list1 = list(list1)"
   ]
  },
  {
   "cell_type": "code",
   "execution_count": null,
   "id": "1f45fb30-331d-442d-ae9c-b5fdb2e37ad1",
   "metadata": {},
   "outputs": [],
   "source": [
    "list1"
   ]
  },
  {
   "cell_type": "code",
   "execution_count": null,
   "id": "745c3f1b-c815-444e-8163-ec4cd776ef68",
   "metadata": {},
   "outputs": [],
   "source": [
    "a = 1\n",
    "b = 2"
   ]
  },
  {
   "cell_type": "code",
   "execution_count": null,
   "id": "86b8f33e-3eb4-4a59-8e63-385da83bea55",
   "metadata": {},
   "outputs": [],
   "source": [
    "ret = a + b"
   ]
  },
  {
   "cell_type": "code",
   "execution_count": null,
   "id": "310242aa-8d5e-44a9-8525-e8313483cb8e",
   "metadata": {},
   "outputs": [],
   "source": [
    "c = 3"
   ]
  },
  {
   "cell_type": "code",
   "execution_count": null,
   "id": "52dfae7e-1303-448d-ac95-a5ecd6031ddf",
   "metadata": {},
   "outputs": [],
   "source": [
    "ret + c"
   ]
  },
  {
   "cell_type": "markdown",
   "id": "7d7c0f74-0574-4e9a-8c24-fdeb46d6906e",
   "metadata": {},
   "source": [
    "# 네이밍 규칙 \n",
    "(명명 규칙) 명명 규칙에 대해 습관을 잘 들어놓자!!!"
   ]
  },
  {
   "cell_type": "markdown",
   "id": "68a0d23e-5cad-4752-a498-eb7c1808f473",
   "metadata": {
    "tags": []
   },
   "source": [
    "#### Camel Case, Snake Case"
   ]
  },
  {
   "cell_type": "code",
   "execution_count": null,
   "id": "bd3db420-ff0f-4920-9049-9ebf15347b04",
   "metadata": {},
   "outputs": [],
   "source": [
    "trainInput = 'train' # 변수명을 사용할 때는 맨 앞에 소문자를 쓴다. (CameL Case)"
   ]
  },
  {
   "cell_type": "code",
   "execution_count": null,
   "id": "6bd61e41-105a-480c-ad0d-be1bbd9163c5",
   "metadata": {},
   "outputs": [],
   "source": [
    "myPhoneNumber = '010-0000-0000' # (CameL Case)"
   ]
  },
  {
   "cell_type": "code",
   "execution_count": null,
   "id": "4be7dd6b-26d2-4ccd-9562-a2fe2801541b",
   "metadata": {},
   "outputs": [],
   "source": []
  },
  {
   "cell_type": "code",
   "execution_count": null,
   "id": "acca2b2f-cc6d-41fe-b7df-2eba9609af45",
   "metadata": {},
   "outputs": [],
   "source": [
    "train_input = 'train' # 파이썬에서는 주로 Snake Case를 많이 사용한다. (Snake Case)"
   ]
  },
  {
   "cell_type": "code",
   "execution_count": null,
   "id": "2b7a886f-f28e-488a-a570-0505c9c5ef9e",
   "metadata": {},
   "outputs": [],
   "source": [
    "my_phone_number = 1 #(Snake Case)"
   ]
  },
  {
   "cell_type": "code",
   "execution_count": null,
   "id": "5af18699-b8d5-4a0d-a769-aa75fb5523ae",
   "metadata": {},
   "outputs": [],
   "source": [
    "my_phone_number"
   ]
  },
  {
   "cell_type": "code",
   "execution_count": null,
   "id": "738e82e5-03be-43c3-9f18-bc38bc023b5b",
   "metadata": {},
   "outputs": [],
   "source": [
    "list_1 #(Snake Case)"
   ]
  },
  {
   "cell_type": "code",
   "execution_count": null,
   "id": "719533f4-01d0-4753-bcd6-7266272bf2ff",
   "metadata": {},
   "outputs": [],
   "source": [
    "min_1 #(Snake Case)"
   ]
  },
  {
   "cell_type": "code",
   "execution_count": null,
   "id": "442b19d0-47bc-4a7f-8cb3-863b5fbe1258",
   "metadata": {},
   "outputs": [],
   "source": []
  },
  {
   "cell_type": "markdown",
   "id": "e08a3d2c-a982-4b32-8243-bcfdfc4c4a04",
   "metadata": {},
   "source": [
    "# 점프 투 파이썬 2장 연습문제"
   ]
  },
  {
   "cell_type": "markdown",
   "id": "02d789b3-e8d0-493e-b4d2-49ee5abf2031",
   "metadata": {},
   "source": [
    "#Q1"
   ]
  },
  {
   "cell_type": "code",
   "execution_count": null,
   "id": "dd0f1520-631d-42f1-9ab6-19b2e7cb58ad",
   "metadata": {},
   "outputs": [],
   "source": [
    "kil_Dong_each_score = (80, 75, 55)"
   ]
  },
  {
   "cell_type": "code",
   "execution_count": null,
   "id": "a0e24fb3-d642-4b46-9561-5afcc40c0f48",
   "metadata": {},
   "outputs": [],
   "source": [
    "average_score = int((80 + 75 + 55) / 3)"
   ]
  },
  {
   "cell_type": "code",
   "execution_count": null,
   "id": "50def930-6ca4-454c-ad31-e93926fb8563",
   "metadata": {},
   "outputs": [
    {
     "data": {
      "text/plain": [
       "70"
      ]
     },
     "execution_count": 3,
     "metadata": {},
     "output_type": "execute_result"
    }
   ],
   "source": [
    "average_score"
   ]
  },
  {
   "cell_type": "code",
   "execution_count": 156,
   "id": "5ff5e670-aa1c-48ea-8096-9a30173d73ce",
   "metadata": {},
   "outputs": [
    {
     "data": {
      "text/plain": [
       "1"
      ]
     },
     "execution_count": 156,
     "metadata": {},
     "output_type": "execute_result"
    }
   ],
   "source": [
    "a"
   ]
  },
  {
   "cell_type": "code",
   "execution_count": 157,
   "id": "d4dd7fc1-e361-4081-8f6b-ce036360c070",
   "metadata": {},
   "outputs": [
    {
     "data": {
      "text/plain": [
       "'abc'"
      ]
     },
     "execution_count": 157,
     "metadata": {},
     "output_type": "execute_result"
    }
   ],
   "source": [
    "b"
   ]
  },
  {
   "cell_type": "code",
   "execution_count": 167,
   "id": "bb0ce158",
   "metadata": {},
   "outputs": [],
   "source": [
    "import copy"
   ]
  },
  {
   "cell_type": "code",
   "execution_count": 170,
   "id": "b43c41a1",
   "metadata": {},
   "outputs": [
    {
     "data": {
      "text/plain": [
       "1"
      ]
     },
     "execution_count": 170,
     "metadata": {},
     "output_type": "execute_result"
    }
   ],
   "source": [
    "a"
   ]
  },
  {
   "cell_type": "code",
   "execution_count": 171,
   "id": "47f7a303-d4db-439b-a109-d9f8f55a6160",
   "metadata": {},
   "outputs": [
    {
     "ename": "AttributeError",
     "evalue": "'int' object has no attribute 'copy'",
     "output_type": "error",
     "traceback": [
      "\u001b[0;31m---------------------------------------------------------------------------\u001b[0m",
      "\u001b[0;31mAttributeError\u001b[0m                            Traceback (most recent call last)",
      "\u001b[0;32m/var/folders/p_/hv88l_q965d2ywt45g92d86r0000gn/T/ipykernel_17380/309705101.py\u001b[0m in \u001b[0;36m<module>\u001b[0;34m\u001b[0m\n\u001b[0;32m----> 1\u001b[0;31m \u001b[0mc\u001b[0m \u001b[0;34m=\u001b[0m \u001b[0ma\u001b[0m\u001b[0;34m.\u001b[0m\u001b[0mcopy\u001b[0m\u001b[0;34m(\u001b[0m\u001b[0;34m)\u001b[0m \u001b[0;31m# int 는 copy불가\u001b[0m\u001b[0;34m\u001b[0m\u001b[0;34m\u001b[0m\u001b[0m\n\u001b[0m",
      "\u001b[0;31mAttributeError\u001b[0m: 'int' object has no attribute 'copy'"
     ]
    }
   ],
   "source": [
    "c = a.copy() # int 는 copy불가"
   ]
  },
  {
   "cell_type": "code",
   "execution_count": 172,
   "id": "f33ca29b-6c3e-4d29-8c01-3f425dd99c26",
   "metadata": {},
   "outputs": [
    {
     "ename": "NameError",
     "evalue": "name 'c' is not defined",
     "output_type": "error",
     "traceback": [
      "\u001b[0;31m---------------------------------------------------------------------------\u001b[0m",
      "\u001b[0;31mNameError\u001b[0m                                 Traceback (most recent call last)",
      "\u001b[0;32m/var/folders/p_/hv88l_q965d2ywt45g92d86r0000gn/T/ipykernel_17380/3235490055.py\u001b[0m in \u001b[0;36m<module>\u001b[0;34m\u001b[0m\n\u001b[0;32m----> 1\u001b[0;31m \u001b[0mc\u001b[0m\u001b[0;34m\u001b[0m\u001b[0;34m\u001b[0m\u001b[0m\n\u001b[0m",
      "\u001b[0;31mNameError\u001b[0m: name 'c' is not defined"
     ]
    }
   ],
   "source": [
    "c"
   ]
  },
  {
   "cell_type": "code",
   "execution_count": 173,
   "id": "ad6cfc3d-80e5-45f0-80e6-ccb234b07619",
   "metadata": {},
   "outputs": [
    {
     "data": {
      "text/plain": [
       "1"
      ]
     },
     "execution_count": 173,
     "metadata": {},
     "output_type": "execute_result"
    }
   ],
   "source": [
    "a"
   ]
  },
  {
   "cell_type": "code",
   "execution_count": 174,
   "id": "662ab651-ae08-4c9e-982e-f66c19090575",
   "metadata": {},
   "outputs": [
    {
     "ename": "TypeError",
     "evalue": "'int' object does not support item assignment",
     "output_type": "error",
     "traceback": [
      "\u001b[0;31m---------------------------------------------------------------------------\u001b[0m",
      "\u001b[0;31mTypeError\u001b[0m                                 Traceback (most recent call last)",
      "\u001b[0;32m/var/folders/p_/hv88l_q965d2ywt45g92d86r0000gn/T/ipykernel_17380/2785576353.py\u001b[0m in \u001b[0;36m<module>\u001b[0;34m\u001b[0m\n\u001b[0;32m----> 1\u001b[0;31m \u001b[0ma\u001b[0m\u001b[0;34m[\u001b[0m\u001b[0;36m1\u001b[0m\u001b[0;34m]\u001b[0m \u001b[0;34m=\u001b[0m \u001b[0;36m8\u001b[0m\u001b[0;34m\u001b[0m\u001b[0;34m\u001b[0m\u001b[0m\n\u001b[0m",
      "\u001b[0;31mTypeError\u001b[0m: 'int' object does not support item assignment"
     ]
    }
   ],
   "source": [
    "a[1] = 8"
   ]
  },
  {
   "cell_type": "code",
   "execution_count": 175,
   "id": "0e71274a-695c-45ca-a24c-37764c9ea964",
   "metadata": {},
   "outputs": [
    {
     "data": {
      "text/plain": [
       "1"
      ]
     },
     "execution_count": 175,
     "metadata": {},
     "output_type": "execute_result"
    }
   ],
   "source": [
    "a"
   ]
  },
  {
   "cell_type": "code",
   "execution_count": 176,
   "id": "bbad85dc-6276-41df-8812-e8c533301d78",
   "metadata": {},
   "outputs": [
    {
     "ename": "NameError",
     "evalue": "name 'c' is not defined",
     "output_type": "error",
     "traceback": [
      "\u001b[0;31m---------------------------------------------------------------------------\u001b[0m",
      "\u001b[0;31mNameError\u001b[0m                                 Traceback (most recent call last)",
      "\u001b[0;32m/var/folders/p_/hv88l_q965d2ywt45g92d86r0000gn/T/ipykernel_17380/3235490055.py\u001b[0m in \u001b[0;36m<module>\u001b[0;34m\u001b[0m\n\u001b[0;32m----> 1\u001b[0;31m \u001b[0mc\u001b[0m\u001b[0;34m\u001b[0m\u001b[0;34m\u001b[0m\u001b[0m\n\u001b[0m",
      "\u001b[0;31mNameError\u001b[0m: name 'c' is not defined"
     ]
    }
   ],
   "source": [
    "c"
   ]
  },
  {
   "cell_type": "markdown",
   "id": "b4fd6f86-c64c-4a6e-ad2e-88ab461aa474",
   "metadata": {
    "tags": []
   },
   "source": [
    "# IF문"
   ]
  },
  {
   "cell_type": "markdown",
   "id": "a1887d07-e23f-47dc-8e24-91aa19b3070e",
   "metadata": {},
   "source": [
    "- if는 만약에 ~라면 뜻\n",
    "- if 뒤에 나오는 값이 참(True)일 경우, ~를 실행하라.\n",
    "- if 조건문 : 어떤 행위\n",
    "- if 조건문 뒤에 나오는 행위는 tab, space 4번으로 들여쓰기(indent)"
   ]
  },
  {
   "cell_type": "code",
   "execution_count": 177,
   "id": "947bde14-324c-4c81-865a-de893569c3da",
   "metadata": {},
   "outputs": [
    {
     "name": "stdout",
     "output_type": "stream",
     "text": [
      "참\n"
     ]
    }
   ],
   "source": [
    "if 1>0 :\n",
    "    print('참')"
   ]
  },
  {
   "cell_type": "code",
   "execution_count": 178,
   "id": "d4e17d04-013a-47d7-a56c-2c4fdbb15b00",
   "metadata": {},
   "outputs": [
    {
     "name": "stdout",
     "output_type": "stream",
     "text": [
      "참\n"
     ]
    }
   ],
   "source": [
    "if True :\n",
    "    print('참')"
   ]
  },
  {
   "cell_type": "code",
   "execution_count": 179,
   "id": "cb1872e6-f456-4422-8e99-f5f51ddeadd3",
   "metadata": {},
   "outputs": [],
   "source": [
    "if False :\n",
    "    print('거짓')"
   ]
  },
  {
   "cell_type": "code",
   "execution_count": 180,
   "id": "e292fe70-3dbb-4788-96a3-fc59d6bd6b05",
   "metadata": {},
   "outputs": [
    {
     "name": "stdout",
     "output_type": "stream",
     "text": [
      "참\n"
     ]
    }
   ],
   "source": [
    "if 1 :\n",
    "    print('참')"
   ]
  },
  {
   "cell_type": "code",
   "execution_count": 181,
   "id": "c888fc62-e566-41a6-aecf-05c3c41243aa",
   "metadata": {},
   "outputs": [],
   "source": [
    "if 0 :\n",
    "    print('거짓') #0이면 False"
   ]
  },
  {
   "cell_type": "code",
   "execution_count": 182,
   "id": "4208acf1-426f-4fb4-9609-a32cab9fd1be",
   "metadata": {},
   "outputs": [
    {
     "name": "stdout",
     "output_type": "stream",
     "text": [
      "끝\n"
     ]
    }
   ],
   "source": [
    "if 0 :\n",
    "    print('거짓')\n",
    "    \n",
    "print('끝')"
   ]
  },
  {
   "cell_type": "code",
   "execution_count": 183,
   "id": "1cb6593d-b892-480c-9e91-72f57077d345",
   "metadata": {},
   "outputs": [
    {
     "name": "stdout",
     "output_type": "stream",
     "text": [
      "A\n"
     ]
    }
   ],
   "source": [
    "if 'A' :\n",
    "    print('A')"
   ]
  },
  {
   "cell_type": "code",
   "execution_count": 184,
   "id": "bad55eba-4f85-4ec5-b1e6-c7bbaebe00c0",
   "metadata": {},
   "outputs": [],
   "source": [
    "if '':\n",
    "    print('test') # 공백은 False!!!"
   ]
  },
  {
   "cell_type": "markdown",
   "id": "5a41d81c-e0f3-44eb-97fa-ce7e2cc73d7a",
   "metadata": {},
   "source": [
    "## 비교 연산자"
   ]
  },
  {
   "cell_type": "markdown",
   "id": "c944df35-603b-440c-80c9-a5c5c740c47f",
   "metadata": {},
   "source": [
    "- a < b (a가 b보다 작다.)\n",
    "- a > b (a가 b보다 크다.)\n",
    "- a == b (a와 b가 같다.)\n",
    "- a != b (a와 b가 다르다.)\n",
    "- a <= b (a가 b보다 작거나 같다.)\n",
    "- a >= b (a가 b보다 크거나 같다.)"
   ]
  },
  {
   "cell_type": "code",
   "execution_count": 185,
   "id": "8d52049d-b7ca-4857-8ea1-d1acafd08ad8",
   "metadata": {},
   "outputs": [
    {
     "data": {
      "text/plain": [
       "True"
      ]
     },
     "execution_count": 185,
     "metadata": {},
     "output_type": "execute_result"
    }
   ],
   "source": [
    "1 < 2"
   ]
  },
  {
   "cell_type": "code",
   "execution_count": 186,
   "id": "38d5b1fd-6538-49f5-8285-4bdaa3324055",
   "metadata": {},
   "outputs": [
    {
     "data": {
      "text/plain": [
       "False"
      ]
     },
     "execution_count": 186,
     "metadata": {},
     "output_type": "execute_result"
    }
   ],
   "source": [
    "1 > 2"
   ]
  },
  {
   "cell_type": "code",
   "execution_count": 187,
   "id": "f9d00d42-f23c-45d9-9f58-3fdc1f42e0cc",
   "metadata": {},
   "outputs": [
    {
     "data": {
      "text/plain": [
       "True"
      ]
     },
     "execution_count": 187,
     "metadata": {},
     "output_type": "execute_result"
    }
   ],
   "source": [
    "'a' < 'b' #아스키코드라 True다."
   ]
  },
  {
   "cell_type": "code",
   "execution_count": 188,
   "id": "a3cc5c5c-87a3-4154-b4b7-2503545790d8",
   "metadata": {},
   "outputs": [
    {
     "data": {
      "text/plain": [
       "True"
      ]
     },
     "execution_count": 188,
     "metadata": {},
     "output_type": "execute_result"
    }
   ],
   "source": [
    "'apple' <= 'banna' #아스키코드라 True다."
   ]
  },
  {
   "cell_type": "code",
   "execution_count": 189,
   "id": "eba18d2d-7da3-4eb8-8dd3-6e72cb39be27",
   "metadata": {},
   "outputs": [
    {
     "data": {
      "text/plain": [
       "False"
      ]
     },
     "execution_count": 189,
     "metadata": {},
     "output_type": "execute_result"
    }
   ],
   "source": [
    "1 == '1'"
   ]
  },
  {
   "cell_type": "code",
   "execution_count": 190,
   "id": "af81a1bd-1cb1-459f-a973-0d6b34348215",
   "metadata": {},
   "outputs": [
    {
     "data": {
      "text/plain": [
       "True"
      ]
     },
     "execution_count": 190,
     "metadata": {},
     "output_type": "execute_result"
    }
   ],
   "source": [
    "1 == int('1') # int('1') = 1"
   ]
  },
  {
   "cell_type": "markdown",
   "id": "5d3348bc-d431-4deb-8c61-1e7275da5d14",
   "metadata": {
    "tags": []
   },
   "source": [
    "## and, or, not"
   ]
  },
  {
   "cell_type": "markdown",
   "id": "583a56a9-3f5d-47cf-8b5d-5904af249ac4",
   "metadata": {},
   "source": [
    "- and (모두 T일 때만 T)\n",
    "- or (하나라도 T면 T)\n",
    "- not (반대 T->F, F->T)"
   ]
  },
  {
   "cell_type": "code",
   "execution_count": 191,
   "id": "98e5dee3-5687-48c5-bb41-2fe941aed366",
   "metadata": {},
   "outputs": [
    {
     "data": {
      "text/plain": [
       "True"
      ]
     },
     "execution_count": 191,
     "metadata": {},
     "output_type": "execute_result"
    }
   ],
   "source": [
    "(3 > 1) and (4 > 2)"
   ]
  },
  {
   "cell_type": "code",
   "execution_count": 192,
   "id": "cd0309eb-a058-4e82-ab3d-5a0529085cf6",
   "metadata": {},
   "outputs": [
    {
     "data": {
      "text/plain": [
       "False"
      ]
     },
     "execution_count": 192,
     "metadata": {},
     "output_type": "execute_result"
    }
   ],
   "source": [
    "(3 > 1) and (4 < 2)"
   ]
  },
  {
   "cell_type": "code",
   "execution_count": 193,
   "id": "bb9bed9e-fc12-42a9-8133-5701e09f5e5e",
   "metadata": {},
   "outputs": [
    {
     "data": {
      "text/plain": [
       "True"
      ]
     },
     "execution_count": 193,
     "metadata": {},
     "output_type": "execute_result"
    }
   ],
   "source": [
    "(3 > 1) or (4 > 2)"
   ]
  },
  {
   "cell_type": "code",
   "execution_count": 194,
   "id": "037ea6d6-e694-4864-b9e2-6e87bab7b8c8",
   "metadata": {},
   "outputs": [
    {
     "data": {
      "text/plain": [
       "True"
      ]
     },
     "execution_count": 194,
     "metadata": {},
     "output_type": "execute_result"
    }
   ],
   "source": [
    "(3 > 1) or (4 < 2)"
   ]
  },
  {
   "cell_type": "code",
   "execution_count": 195,
   "id": "fa96b17f-d1c0-44ee-a98a-fdee0c587a31",
   "metadata": {},
   "outputs": [
    {
     "data": {
      "text/plain": [
       "True"
      ]
     },
     "execution_count": 195,
     "metadata": {},
     "output_type": "execute_result"
    }
   ],
   "source": [
    "not 0"
   ]
  },
  {
   "cell_type": "code",
   "execution_count": 196,
   "id": "e21aadc9-63b6-4933-9ea8-385898f96536",
   "metadata": {},
   "outputs": [
    {
     "data": {
      "text/plain": [
       "False"
      ]
     },
     "execution_count": 196,
     "metadata": {},
     "output_type": "execute_result"
    }
   ],
   "source": [
    "not 'A'"
   ]
  },
  {
   "cell_type": "markdown",
   "id": "64e8149a-6506-4145-a3e3-43e68272b597",
   "metadata": {},
   "source": [
    "## in, not in (리스트랑 관련이 있는 부분)"
   ]
  },
  {
   "cell_type": "markdown",
   "id": "3e641757-7e6d-4230-b9bf-98052c368f4b",
   "metadata": {},
   "source": [
    "- in : 문자열이나 리스트에서 해당 요소가 포함되어 있는지 검사\n",
    "- not in : 문자열이나 리스트에서 해당 요소가 포함되어 있지 않은지 검사"
   ]
  },
  {
   "cell_type": "code",
   "execution_count": 197,
   "id": "33a0650a-a429-402d-adb0-e102bb7fb4d3",
   "metadata": {},
   "outputs": [],
   "source": [
    "l = [1, 2, 3]"
   ]
  },
  {
   "cell_type": "code",
   "execution_count": 198,
   "id": "dfa1c0f1-1c49-4987-b5d0-ef7216b29835",
   "metadata": {},
   "outputs": [
    {
     "data": {
      "text/plain": [
       "True"
      ]
     },
     "execution_count": 198,
     "metadata": {},
     "output_type": "execute_result"
    }
   ],
   "source": [
    "3 in l"
   ]
  },
  {
   "cell_type": "code",
   "execution_count": 199,
   "id": "0c8aa0a9-44b1-48ca-8962-0432dcff3c1c",
   "metadata": {},
   "outputs": [
    {
     "data": {
      "text/plain": [
       "False"
      ]
     },
     "execution_count": 199,
     "metadata": {},
     "output_type": "execute_result"
    }
   ],
   "source": [
    "4 in l"
   ]
  },
  {
   "cell_type": "code",
   "execution_count": 200,
   "id": "c97b2773-7061-4fac-87d3-f73f503e4881",
   "metadata": {},
   "outputs": [
    {
     "data": {
      "text/plain": [
       "True"
      ]
     },
     "execution_count": 200,
     "metadata": {},
     "output_type": "execute_result"
    }
   ],
   "source": [
    "'a' in 'apple'"
   ]
  },
  {
   "cell_type": "code",
   "execution_count": 201,
   "id": "553b4fbd-6ed2-4fae-a970-9ba9531db0b2",
   "metadata": {},
   "outputs": [
    {
     "data": {
      "text/plain": [
       "False"
      ]
     },
     "execution_count": 201,
     "metadata": {},
     "output_type": "execute_result"
    }
   ],
   "source": [
    "'z' in 'apple'"
   ]
  },
  {
   "cell_type": "code",
   "execution_count": 202,
   "id": "2bda0b8f-d180-4f0a-aa91-6481cb5f3d35",
   "metadata": {},
   "outputs": [
    {
     "data": {
      "text/plain": [
       "False"
      ]
     },
     "execution_count": 202,
     "metadata": {},
     "output_type": "execute_result"
    }
   ],
   "source": [
    "'a' in ['apple', 'banana']"
   ]
  },
  {
   "cell_type": "code",
   "execution_count": 203,
   "id": "d5325da5-36cd-4306-973b-33039d657cab",
   "metadata": {},
   "outputs": [
    {
     "data": {
      "text/plain": [
       "False"
      ]
     },
     "execution_count": 203,
     "metadata": {},
     "output_type": "execute_result"
    }
   ],
   "source": [
    "'a' not in 'apple' #???"
   ]
  },
  {
   "cell_type": "markdown",
   "id": "7bfb3ca6-412e-4c5e-b791-bbd6c3de82d9",
   "metadata": {},
   "source": [
    "## elif, else"
   ]
  },
  {
   "cell_type": "code",
   "execution_count": 204,
   "id": "72f57347-1f99-4c8a-8edf-b4d401eb3d7a",
   "metadata": {},
   "outputs": [
    {
     "ename": "SyntaxError",
     "evalue": "invalid syntax (66343067.py, line 1)",
     "output_type": "error",
     "traceback": [
      "\u001b[0;36m  File \u001b[0;32m\"/var/folders/p_/hv88l_q965d2ywt45g92d86r0000gn/T/ipykernel_17380/66343067.py\"\u001b[0;36m, line \u001b[0;32m1\u001b[0m\n\u001b[0;31m    if :\u001b[0m\n\u001b[0m       ^\u001b[0m\n\u001b[0;31mSyntaxError\u001b[0m\u001b[0;31m:\u001b[0m invalid syntax\n"
     ]
    }
   ],
   "source": [
    "if :\n",
    "else if :\n",
    "else :\n",
    "#이거는 다른 언어에서 이렇게 보통 사용한다."
   ]
  },
  {
   "cell_type": "code",
   "execution_count": null,
   "id": "cb2693da-9399-4e5f-b0e8-5ee2ef4b959d",
   "metadata": {},
   "outputs": [
    {
     "ename": "SyntaxError",
     "evalue": "invalid syntax (3319596054.py, line 1)",
     "output_type": "error",
     "traceback": [
      "\u001b[1;36m  Input \u001b[1;32mIn [5]\u001b[1;36m\u001b[0m\n\u001b[1;33m    if :\u001b[0m\n\u001b[1;37m       ^\u001b[0m\n\u001b[1;31mSyntaxError\u001b[0m\u001b[1;31m:\u001b[0m invalid syntax\n"
     ]
    }
   ],
   "source": [
    "if :\n",
    "elif:\n",
    "else :"
   ]
  },
  {
   "cell_type": "code",
   "execution_count": null,
   "id": "55d2e2ec-f91d-42d3-9516-e8c4c7d89db5",
   "metadata": {},
   "outputs": [
    {
     "name": "stdout",
     "output_type": "stream",
     "text": [
      "a 는 5보다 작습니다.\n"
     ]
    }
   ],
   "source": [
    "a = 1\n",
    "if a < 5 :\n",
    "    print('a 는 5보다 작습니다.')"
   ]
  },
  {
   "cell_type": "code",
   "execution_count": null,
   "id": "f6af3009-a99b-4414-8e1b-86ce5f706546",
   "metadata": {},
   "outputs": [],
   "source": [
    "a = 6\n",
    "if a < 5 :\n",
    "    print('a 는 5보다 작습니다.')"
   ]
  },
  {
   "cell_type": "code",
   "execution_count": null,
   "id": "42c473bb-9e20-4178-80bc-9d673c6b7455",
   "metadata": {},
   "outputs": [
    {
     "name": "stdout",
     "output_type": "stream",
     "text": [
      "a는 10보다 작습니다.\n"
     ]
    }
   ],
   "source": [
    "a = 6\n",
    "if a < 5 :\n",
    "    print('a 는 5보다 작습니다.')\n",
    "elif a < 10 :\n",
    "    print('a는 10보다 작습니다.')"
   ]
  },
  {
   "cell_type": "code",
   "execution_count": null,
   "id": "be087eb0-5e15-4797-ae9c-d5c70fa429e4",
   "metadata": {},
   "outputs": [
    {
     "name": "stdout",
     "output_type": "stream",
     "text": [
      "a 는 5보다 작습니다.\n"
     ]
    }
   ],
   "source": [
    "a = 1\n",
    "if a < 5 :\n",
    "    print('a 는 5보다 작습니다.')\n",
    "elif a < 10 :\n",
    "    print('a는 10보다 작습니다.')"
   ]
  },
  {
   "cell_type": "code",
   "execution_count": null,
   "id": "cd66a378-491b-4e89-9c17-6b43e2dbaa17",
   "metadata": {},
   "outputs": [
    {
     "name": "stdout",
     "output_type": "stream",
     "text": [
      "a 는 5보다 작습니다.\n",
      "a 는 10보다 작습니다.\n"
     ]
    }
   ],
   "source": [
    "a = 1\n",
    "if a < 5 :\n",
    "    print('a 는 5보다 작습니다.')\n",
    "if a < 10 :\n",
    "    print('a 는 10보다 작습니다.')"
   ]
  },
  {
   "cell_type": "code",
   "execution_count": 205,
   "id": "3aa98ae4-44e0-4524-be0f-2934abf0bee6",
   "metadata": {},
   "outputs": [
    {
     "name": "stdout",
     "output_type": "stream",
     "text": [
      "a 는 10보다 큽니다.\n"
     ]
    }
   ],
   "source": [
    "a = 15\n",
    "if a < 5 :\n",
    "    print('a 는 5보다 작습니다.')\n",
    "elif a < 10 :\n",
    "    print('a 는 10보다 작습니다.')\n",
    "else :\n",
    "    print('a 는 10보다 큽니다.')"
   ]
  },
  {
   "cell_type": "markdown",
   "id": "2b85cbd7-20c5-4afc-82b5-ab34648914f4",
   "metadata": {},
   "source": [
    "a가 0보다 크고 5보다 작다"
   ]
  },
  {
   "cell_type": "code",
   "execution_count": 206,
   "id": "27f0410a-c57f-44b5-8d0e-7b4e2bd55331",
   "metadata": {},
   "outputs": [
    {
     "name": "stdout",
     "output_type": "stream",
     "text": [
      "aaa\n"
     ]
    }
   ],
   "source": [
    "a = 1\n",
    "if 0 < a < 5 :\n",
    "    print('aaa')"
   ]
  },
  {
   "cell_type": "markdown",
   "id": "cb0717ed-9871-4c74-843c-951b939b090b",
   "metadata": {},
   "source": [
    "## Quiz(오후2)\n",
    "\n",
    "-주어진 숫자가 홀수인지 짝수인지 구하시오. (if, else 이용)"
   ]
  },
  {
   "cell_type": "code",
   "execution_count": 207,
   "id": "d1868ee1-250a-438c-9080-cf87f737f6d5",
   "metadata": {},
   "outputs": [],
   "source": [
    "num = 11"
   ]
  },
  {
   "cell_type": "code",
   "execution_count": 211,
   "id": "9a93c1e8-fb3d-4d61-9cfd-b3b277d1aa9d",
   "metadata": {},
   "outputs": [
    {
     "ename": "NameError",
     "evalue": "name 'odd' is not defined",
     "output_type": "error",
     "traceback": [
      "\u001b[0;31m---------------------------------------------------------------------------\u001b[0m",
      "\u001b[0;31mNameError\u001b[0m                                 Traceback (most recent call last)",
      "\u001b[0;32m/var/folders/p_/hv88l_q965d2ywt45g92d86r0000gn/T/ipykernel_17380/346248079.py\u001b[0m in \u001b[0;36m<module>\u001b[0;34m\u001b[0m\n\u001b[1;32m      1\u001b[0m \u001b[0mnum\u001b[0m \u001b[0;34m=\u001b[0m \u001b[0;36m11\u001b[0m\u001b[0;34m\u001b[0m\u001b[0;34m\u001b[0m\u001b[0m\n\u001b[0;32m----> 2\u001b[0;31m \u001b[0;32mif\u001b[0m \u001b[0modd\u001b[0m\u001b[0;34m(\u001b[0m\u001b[0mnum\u001b[0m\u001b[0;34m)\u001b[0m \u001b[0;34m:\u001b[0m\u001b[0;34m\u001b[0m\u001b[0;34m\u001b[0m\u001b[0m\n\u001b[0m\u001b[1;32m      3\u001b[0m     \u001b[0mprint\u001b[0m\u001b[0;34m(\u001b[0m\u001b[0;34m'num의 숫자는 홀수입니다.'\u001b[0m\u001b[0;34m)\u001b[0m\u001b[0;34m\u001b[0m\u001b[0;34m\u001b[0m\u001b[0m\n\u001b[1;32m      4\u001b[0m \u001b[0;32melif\u001b[0m \u001b[0meven\u001b[0m\u001b[0;34m(\u001b[0m\u001b[0mnum\u001b[0m\u001b[0;34m)\u001b[0m \u001b[0;34m:\u001b[0m\u001b[0;34m\u001b[0m\u001b[0;34m\u001b[0m\u001b[0m\n\u001b[1;32m      5\u001b[0m     \u001b[0mprint\u001b[0m\u001b[0;34m(\u001b[0m\u001b[0;34m'num의 숫자는 짝수입니다.'\u001b[0m\u001b[0;34m)\u001b[0m\u001b[0;34m\u001b[0m\u001b[0;34m\u001b[0m\u001b[0m\n",
      "\u001b[0;31mNameError\u001b[0m: name 'odd' is not defined"
     ]
    }
   ],
   "source": [
    "num = 11\n",
    "if odd(num) :\n",
    "    print('num의 숫자는 홀수입니다.')\n",
    "elif even(num) :\n",
    "    print('num의 숫자는 짝수입니다.') \n",
    "    \n",
    "#이런 건 파이썬에 없음"
   ]
  },
  {
   "cell_type": "code",
   "execution_count": 212,
   "id": "9a362e43-b56a-43c2-9729-29293a6716ca",
   "metadata": {},
   "outputs": [
    {
     "name": "stdout",
     "output_type": "stream",
     "text": [
      "홀수\n"
     ]
    }
   ],
   "source": [
    "if num % 2 == 1 :\n",
    "    print('홀수')\n",
    "else :\n",
    "    print('짝수')"
   ]
  },
  {
   "cell_type": "code",
   "execution_count": 213,
   "id": "9371184f-fd22-4dc5-a115-021161395825",
   "metadata": {},
   "outputs": [],
   "source": [
    "num = '가'"
   ]
  },
  {
   "cell_type": "code",
   "execution_count": 214,
   "id": "5b3fde82-cc6b-4a83-91ac-2281213eaf6d",
   "metadata": {},
   "outputs": [
    {
     "ename": "TypeError",
     "evalue": "not all arguments converted during string formatting",
     "output_type": "error",
     "traceback": [
      "\u001b[0;31m---------------------------------------------------------------------------\u001b[0m",
      "\u001b[0;31mTypeError\u001b[0m                                 Traceback (most recent call last)",
      "\u001b[0;32m/var/folders/p_/hv88l_q965d2ywt45g92d86r0000gn/T/ipykernel_17380/2262079674.py\u001b[0m in \u001b[0;36m<module>\u001b[0;34m\u001b[0m\n\u001b[0;32m----> 1\u001b[0;31m \u001b[0;32mif\u001b[0m \u001b[0mnum\u001b[0m \u001b[0;34m%\u001b[0m \u001b[0;36m2\u001b[0m \u001b[0;34m==\u001b[0m \u001b[0;36m1\u001b[0m \u001b[0;34m:\u001b[0m\u001b[0;34m\u001b[0m\u001b[0;34m\u001b[0m\u001b[0m\n\u001b[0m\u001b[1;32m      2\u001b[0m     \u001b[0mprint\u001b[0m\u001b[0;34m(\u001b[0m\u001b[0;34m'홀수'\u001b[0m\u001b[0;34m)\u001b[0m\u001b[0;34m\u001b[0m\u001b[0;34m\u001b[0m\u001b[0m\n\u001b[1;32m      3\u001b[0m \u001b[0;32melse\u001b[0m \u001b[0;34m:\u001b[0m\u001b[0;34m\u001b[0m\u001b[0;34m\u001b[0m\u001b[0m\n\u001b[1;32m      4\u001b[0m     \u001b[0mprint\u001b[0m\u001b[0;34m(\u001b[0m\u001b[0;34m'짝수'\u001b[0m\u001b[0;34m)\u001b[0m\u001b[0;34m\u001b[0m\u001b[0;34m\u001b[0m\u001b[0m\n",
      "\u001b[0;31mTypeError\u001b[0m: not all arguments converted during string formatting"
     ]
    }
   ],
   "source": [
    "if num % 2 == 1 :\n",
    "    print('홀수')\n",
    "else :\n",
    "    print('짝수')"
   ]
  },
  {
   "cell_type": "code",
   "execution_count": null,
   "id": "d03ebcf6-73d3-4ba6-9287-07c221d6aadd",
   "metadata": {},
   "outputs": [
    {
     "data": {
      "text/plain": [
       "True"
      ]
     },
     "execution_count": 17,
     "metadata": {},
     "output_type": "execute_result"
    }
   ],
   "source": [
    "isinstance(0, int) #ininstance(값, 어떤 형태인지)"
   ]
  },
  {
   "cell_type": "code",
   "execution_count": null,
   "id": "766fa72b-31a4-4330-a76d-7920b1e8a44c",
   "metadata": {},
   "outputs": [
    {
     "data": {
      "text/plain": [
       "False"
      ]
     },
     "execution_count": 18,
     "metadata": {},
     "output_type": "execute_result"
    }
   ],
   "source": [
    "isinstance('0', int)"
   ]
  },
  {
   "cell_type": "code",
   "execution_count": 215,
   "id": "a361a1fe-593f-4f51-aa00-c759e3352096",
   "metadata": {},
   "outputs": [
    {
     "data": {
      "text/plain": [
       "True"
      ]
     },
     "execution_count": 215,
     "metadata": {},
     "output_type": "execute_result"
    }
   ],
   "source": [
    "isinstance('0', str) #ininstance(값(문자), 어떤 형태인지(문자열))"
   ]
  },
  {
   "cell_type": "code",
   "execution_count": 216,
   "id": "77c49754-0b12-4684-a8f5-e85ba221819e",
   "metadata": {},
   "outputs": [
    {
     "data": {
      "text/plain": [
       "True"
      ]
     },
     "execution_count": 216,
     "metadata": {},
     "output_type": "execute_result"
    }
   ],
   "source": [
    "isinstance(['1'], list)"
   ]
  },
  {
   "cell_type": "code",
   "execution_count": 217,
   "id": "307783f3-d8e4-4271-9d03-0489e75adc10",
   "metadata": {},
   "outputs": [
    {
     "data": {
      "text/plain": [
       "True"
      ]
     },
     "execution_count": 217,
     "metadata": {},
     "output_type": "execute_result"
    }
   ],
   "source": [
    "isinstance(('1',12), tuple) "
   ]
  },
  {
   "cell_type": "code",
   "execution_count": 218,
   "id": "4dcaf274-1515-4640-8277-51656e934985",
   "metadata": {},
   "outputs": [
    {
     "data": {
      "text/plain": [
       "True"
      ]
     },
     "execution_count": 218,
     "metadata": {},
     "output_type": "execute_result"
    }
   ],
   "source": [
    "isinstance({'1':2}, dict)"
   ]
  },
  {
   "cell_type": "code",
   "execution_count": null,
   "id": "4229ced7-3a01-4276-85ef-358b06fad4de",
   "metadata": {},
   "outputs": [],
   "source": []
  },
  {
   "cell_type": "code",
   "execution_count": 219,
   "id": "c63e8283-ad51-4d73-9277-dda72005bcd2",
   "metadata": {},
   "outputs": [
    {
     "name": "stdout",
     "output_type": "stream",
     "text": [
      "num은 문자열입니다!\n"
     ]
    }
   ],
   "source": [
    "num = '가'\n",
    "if isinstance(num, int) :\n",
    "    if num % 2 == 1 :\n",
    "        print('홀수')\n",
    "    else :\n",
    "        print('짝수')\n",
    "else :\n",
    "    print('num은 문자열입니다!')"
   ]
  },
  {
   "cell_type": "code",
   "execution_count": 220,
   "id": "f9786129-f34b-46a0-a9ee-127e2407c215",
   "metadata": {},
   "outputs": [
    {
     "name": "stdout",
     "output_type": "stream",
     "text": [
      "num은 0입니다.\n"
     ]
    }
   ],
   "source": [
    "num = 0\n",
    "if isinstance(num, int) :\n",
    "    if num == 0 :\n",
    "        print('num은 0입니다.')\n",
    "    elif num % 2 == 1 :\n",
    "        print('홀수')\n",
    "    else :\n",
    "        print('짝수')\n",
    "else :\n",
    "    print('num은 문자열입니다!')"
   ]
  },
  {
   "cell_type": "code",
   "execution_count": 221,
   "id": "9b9a718d-02c0-4c63-b5b3-c176c59f1cd9",
   "metadata": {},
   "outputs": [
    {
     "name": "stdout",
     "output_type": "stream",
     "text": [
      "num은 0입니다.\n"
     ]
    }
   ],
   "source": [
    "num = 0\n",
    "if isinstance(num, int) :\n",
    "    if num == 0 :\n",
    "        print('num은 0입니다.')\n",
    "    else:\n",
    "        if num % 2 == 1 :\n",
    "            print('홀수')\n",
    "        else :\n",
    "            print('짝수')\n",
    "else :\n",
    "    print('num은 문자열입니다!')"
   ]
  },
  {
   "cell_type": "markdown",
   "id": "b7dd3139-5b51-49fb-abfd-3c01af3d12d6",
   "metadata": {
    "tags": []
   },
   "source": [
    "## 사용자 입력 값 받기 (사용자 입력값 받는 법)"
   ]
  },
  {
   "cell_type": "code",
   "execution_count": 222,
   "id": "87f585ad-6a10-44d3-9b39-61a39ac51dda",
   "metadata": {},
   "outputs": [],
   "source": [
    "text = input()"
   ]
  },
  {
   "cell_type": "code",
   "execution_count": 223,
   "id": "0e02d356-2a1d-436a-9aca-99d5c20f1601",
   "metadata": {},
   "outputs": [
    {
     "data": {
      "text/plain": [
       "''"
      ]
     },
     "execution_count": 223,
     "metadata": {},
     "output_type": "execute_result"
    }
   ],
   "source": [
    "text"
   ]
  },
  {
   "cell_type": "code",
   "execution_count": 224,
   "id": "033a96f0-d7e6-4da0-8095-f48c16621a03",
   "metadata": {},
   "outputs": [],
   "source": [
    "user_age = input('나이를 입력해주세요')"
   ]
  },
  {
   "cell_type": "code",
   "execution_count": 225,
   "id": "edb34fee-a593-45fe-ad08-f7d62d9ec2cb",
   "metadata": {},
   "outputs": [
    {
     "data": {
      "text/plain": [
       "''"
      ]
     },
     "execution_count": 225,
     "metadata": {},
     "output_type": "execute_result"
    }
   ],
   "source": [
    "user_age"
   ]
  },
  {
   "cell_type": "code",
   "execution_count": 226,
   "id": "6f0b6206-b568-461e-b860-09db9a71bdad",
   "metadata": {},
   "outputs": [],
   "source": [
    "#input으로 들어온 데이터는 '문자열'로 인식된다."
   ]
  },
  {
   "cell_type": "code",
   "execution_count": 227,
   "id": "d34de973-f7f7-4410-9945-e29059ded5da",
   "metadata": {},
   "outputs": [],
   "source": [
    "user_age = input('나이를 입력해주세요')"
   ]
  },
  {
   "cell_type": "code",
   "execution_count": 228,
   "id": "9a9b6415-66f2-433d-9bb6-44bce12cf166",
   "metadata": {},
   "outputs": [
    {
     "name": "stdout",
     "output_type": "stream",
     "text": [
      "숫자를 입력해주세요.\n"
     ]
    }
   ],
   "source": [
    "user_age = input('나이를 입력해주세요')\n",
    "try :\n",
    "    print(int(user_age))\n",
    "except :\n",
    "    print('숫자를 입력해주세요.')"
   ]
  },
  {
   "cell_type": "markdown",
   "id": "b71bb0e2-519f-43ea-bc88-9eacb5f03da0",
   "metadata": {},
   "source": [
    "# Quiz(오후3)"
   ]
  },
  {
   "cell_type": "markdown",
   "id": "5d3bf316-e9cf-4ceb-8161-4acab90d2c07",
   "metadata": {
    "tags": []
   },
   "source": [
    "1. 사용자의 나이를 입력 받으세요.  \n",
    "(1) 20세 이상이면 \"성인\", 아니면 \"미성년자\"라고 출력되는 코드를 작성하세요    \n",
    "(2) \"20대 미만, 20대, 30대, 40대 이상\" 을 출력하는 코드를 작성하세요    \n",
    "\n",
    "2. 사용자의 이름을 입력 받으세요.  (다시보기)  \n",
    "(1) 사용자의 성을 출력해주는 코드를 작성하세요     \n",
    "(2) 사용자의 성이 popular_last_name = [\"김\", \"이\", \"박\"]에 포함되는지 출력해주는 코드를 작성하세요     \n",
    "(3) 사용자의 이름이 user_info = {\"홍길동\":24, \"유재석\":26, \"김종국\":27} 에 해당하는 이름이면 나이를 출력해주는 코드를 작성하세요     \n",
    "\n",
    "3. 사용자로부터 세 개의 숫자를 입력받아 가장 큰 수를 출력하세요.(입력형식: 1,2,3)   (다시보기)  \n",
    "\n",
    "4. 사용자로부터 주민등록번호를 입력받아, 뒷자리의 숫자가 1또는 3이면 \"남자\", 2또는 4면 \"여자\", 이외에는 \"오류\"라고 출력하세요.(입력 형식: 900000-1000000)   (다시보기)  \n",
    "\n"
   ]
  },
  {
   "cell_type": "markdown",
   "id": "4bfc5466-0221-4969-9b42-38e4f0933ff8",
   "metadata": {
    "tags": []
   },
   "source": [
    "## Quiz1"
   ]
  },
  {
   "cell_type": "code",
   "execution_count": null,
   "id": "a0e8852a-ed3a-4e4a-ad94-d591dd0f6852",
   "metadata": {},
   "outputs": [
    {
     "name": "stdout",
     "output_type": "stream",
     "text": [
      "나이를 입력해주세요. 23\n"
     ]
    },
    {
     "name": "stdout",
     "output_type": "stream",
     "text": [
      "성인\n",
      "20대 이상\n"
     ]
    }
   ],
   "source": [
    "age = int(input('나이를 입력해주세요.'))\n",
    "\n",
    "if age < 20 :\n",
    "    print('미성년자')\n",
    "    print('20대 미만')\n",
    "elif age >= 20 :\n",
    "    print('성인')\n",
    "    if 20 <= age < 30 :\n",
    "        print('20대 이상')\n",
    "    elif 30 <= age < 40 :\n",
    "        print('30대 이상')\n",
    "    else :\n",
    "        print('40대 이상')"
   ]
  },
  {
   "cell_type": "code",
   "execution_count": null,
   "id": "cd41c4d8-204d-4ece-968f-ab4928c6f083",
   "metadata": {},
   "outputs": [],
   "source": []
  },
  {
   "cell_type": "code",
   "execution_count": null,
   "id": "224613f3-e8b7-45ec-992f-48f620403655",
   "metadata": {},
   "outputs": [],
   "source": [
    "# 강사님 코딩 퀴즈1"
   ]
  },
  {
   "cell_type": "code",
   "execution_count": null,
   "id": "9f15023f-04e9-4dc3-913b-3a558fc6b571",
   "metadata": {},
   "outputs": [
    {
     "name": "stdout",
     "output_type": "stream",
     "text": [
      "나이를 입력하세요. 20\n"
     ]
    }
   ],
   "source": [
    "age = input('나이를 입력하세요.')"
   ]
  },
  {
   "cell_type": "code",
   "execution_count": null,
   "id": "3954f92e-05c8-4bd4-ab7a-c256107425b9",
   "metadata": {},
   "outputs": [],
   "source": [
    "age = int(age)"
   ]
  },
  {
   "cell_type": "code",
   "execution_count": null,
   "id": "1952a997-698a-42ae-85e2-0e4ada21b3dd",
   "metadata": {},
   "outputs": [],
   "source": [
    "if age >= 20 :\n",
    "    print('성인')\n",
    "    if 20 <= age < 30 :\n",
    "        print('20대 이상')\n",
    "    elif 30 <= age < 40 :\n",
    "        print('30대 이상')\n",
    "    else :\n",
    "        print('40대 이상')\n",
    "else :\n",
    "    print('미성년자')\n",
    "    print('20대 미만')"
   ]
  },
  {
   "cell_type": "markdown",
   "id": "3622f071-b06e-42b4-9017-fa3f7d3eec95",
   "metadata": {},
   "source": [
    "## Quiz2"
   ]
  },
  {
   "cell_type": "code",
   "execution_count": null,
   "id": "2da28564-31fb-452a-a333-9bf45eafb88c",
   "metadata": {
    "tags": []
   },
   "outputs": [],
   "source": [
    "last_name = input('사용자의 성을 입력해주세요.')\n",
    "\n",
    "if last_name == '김' and '이' and '박' :\n",
    "    print('popular_last_name')\n",
    "else :\n",
    "    print('unpopular_last_name')"
   ]
  },
  {
   "cell_type": "code",
   "execution_count": null,
   "id": "d74df986-526a-4004-9794-47a815deba95",
   "metadata": {},
   "outputs": [
    {
     "name": "stdout",
     "output_type": "stream",
     "text": [
      "이름을 입력하세요. 남\n"
     ]
    },
    {
     "name": "stdout",
     "output_type": "stream",
     "text": [
      "popular_last_name\n"
     ]
    }
   ],
   "source": [
    "name = input('이름을 입력하세요.')\n",
    "if name == '김' or '이' or '박' :\n",
    "    print('popular_last_name')\n",
    "else :\n",
    "    print('unpopular_last_name')"
   ]
  },
  {
   "cell_type": "code",
   "execution_count": null,
   "id": "0687f087-d9b2-42d5-8176-55ac347ae72d",
   "metadata": {},
   "outputs": [],
   "source": [
    "# 강사님 코딩 퀴즈2"
   ]
  },
  {
   "cell_type": "code",
   "execution_count": null,
   "id": "300ffca2-2bb7-4aba-9bef-a9533c636469",
   "metadata": {},
   "outputs": [],
   "source": [
    "#2-1)"
   ]
  },
  {
   "cell_type": "code",
   "execution_count": null,
   "id": "c3ae2a8d-01f5-4119-b8cd-8ce1f52dc24b",
   "metadata": {},
   "outputs": [
    {
     "name": "stdout",
     "output_type": "stream",
     "text": [
      "이름을 입력하세요. 이호진\n"
     ]
    }
   ],
   "source": [
    "name = input('이름을 입력하세요.')"
   ]
  },
  {
   "cell_type": "code",
   "execution_count": null,
   "id": "a02060b9-95cf-49d6-9beb-940adbad71f1",
   "metadata": {},
   "outputs": [
    {
     "data": {
      "text/plain": [
       "'이'"
      ]
     },
     "execution_count": 20,
     "metadata": {},
     "output_type": "execute_result"
    }
   ],
   "source": [
    "name[0] #????"
   ]
  },
  {
   "cell_type": "code",
   "execution_count": null,
   "id": "3556d0b8-c3ce-4c54-96a4-0b2ea554e6cb",
   "metadata": {},
   "outputs": [],
   "source": [
    "#2-2)"
   ]
  },
  {
   "cell_type": "code",
   "execution_count": null,
   "id": "fb4af334-9cc0-405a-b99d-2268c8691425",
   "metadata": {},
   "outputs": [],
   "source": [
    "popular_last_name = [\"김\", \"이\", \"박\"]"
   ]
  },
  {
   "cell_type": "code",
   "execution_count": null,
   "id": "3da26938-8578-4684-99fe-23f9e1b698f8",
   "metadata": {
    "tags": []
   },
   "outputs": [],
   "source": [
    "if name[0] in popular_last_name :\n",
    "    print('오 유명한 이름')     #????"
   ]
  },
  {
   "cell_type": "code",
   "execution_count": null,
   "id": "91388f0b-d9a0-4a17-9e75-64329606041c",
   "metadata": {},
   "outputs": [],
   "source": [
    "#2-3)"
   ]
  },
  {
   "cell_type": "code",
   "execution_count": null,
   "id": "dc62ff06-c487-4809-b089-691ba5b02baa",
   "metadata": {
    "tags": []
   },
   "outputs": [
    {
     "name": "stdout",
     "output_type": "stream",
     "text": [
      "이름을 입력하세요 ㄴㅇ\n"
     ]
    }
   ],
   "source": [
    "name = input('이름을 입력하세요')"
   ]
  },
  {
   "cell_type": "code",
   "execution_count": null,
   "id": "056b5fbf-e189-400e-b68d-88abdefb0443",
   "metadata": {},
   "outputs": [],
   "source": [
    "user_info = {\"홍길동\":24, \"유재석\":26, \"김종국\":27}"
   ]
  },
  {
   "cell_type": "code",
   "execution_count": null,
   "id": "6ecdaf63-7fd1-4e4b-804b-ab0677d00140",
   "metadata": {},
   "outputs": [
    {
     "data": {
      "text/plain": [
       "26"
      ]
     },
     "execution_count": 104,
     "metadata": {},
     "output_type": "execute_result"
    }
   ],
   "source": [
    "user_info['유재석']"
   ]
  },
  {
   "cell_type": "code",
   "execution_count": null,
   "id": "cdc5ac24-7316-4d88-b966-b0521bd7c828",
   "metadata": {},
   "outputs": [
    {
     "name": "stdout",
     "output_type": "stream",
     "text": [
      "이름을 입력하세요 김종국\n"
     ]
    }
   ],
   "source": [
    "name = input('이름을 입력하세요')"
   ]
  },
  {
   "cell_type": "code",
   "execution_count": null,
   "id": "a8259df1-ee31-4cd0-a5ca-60fca43d7da4",
   "metadata": {},
   "outputs": [
    {
     "data": {
      "text/plain": [
       "dict_keys(['홍길동', '유재석', '김종국'])"
      ]
     },
     "execution_count": 106,
     "metadata": {},
     "output_type": "execute_result"
    }
   ],
   "source": [
    "user_info.keys()"
   ]
  },
  {
   "cell_type": "code",
   "execution_count": null,
   "id": "6c845500-4324-4fe3-94dc-bc5052509b2f",
   "metadata": {},
   "outputs": [
    {
     "name": "stdout",
     "output_type": "stream",
     "text": [
      "27\n"
     ]
    }
   ],
   "source": [
    "if name in user_info.keys() :\n",
    "    print(user_info[name])"
   ]
  },
  {
   "cell_type": "code",
   "execution_count": null,
   "id": "f4ee689a-d0d9-4782-be4f-bd75b2ba6f5b",
   "metadata": {},
   "outputs": [],
   "source": [
    "# 3번 힌트\n",
    "list(map(int, ['1', '2', '3']))"
   ]
  },
  {
   "cell_type": "code",
   "execution_count": null,
   "id": "15b4664a-b7d2-43d6-9107-367bbf7f9904",
   "metadata": {},
   "outputs": [],
   "source": [
    "#강사님 코딩 퀴즈3"
   ]
  },
  {
   "cell_type": "code",
   "execution_count": null,
   "id": "a00bed49-1640-45b4-9a2c-e55a03d32c02",
   "metadata": {
    "tags": []
   },
   "outputs": [
    {
     "data": {
      "text/plain": [
       "[1, 2, 3]"
      ]
     },
     "execution_count": 12,
     "metadata": {},
     "output_type": "execute_result"
    }
   ],
   "source": [
    "list(map(int, [1, 2, 3]))"
   ]
  },
  {
   "cell_type": "code",
   "execution_count": null,
   "id": "dcbf7655-95c1-4384-9f77-51df4430fb41",
   "metadata": {},
   "outputs": [
    {
     "name": "stdout",
     "output_type": "stream",
     "text": [
      "세 개의 숫자를 입력하세요. 1,2,3\n"
     ]
    }
   ],
   "source": [
    "num = input('세 개의 숫자를 입력하세요.')"
   ]
  },
  {
   "cell_type": "code",
   "execution_count": null,
   "id": "b3e05994-d795-4c9b-9c1f-9e83492412da",
   "metadata": {},
   "outputs": [],
   "source": [
    "num_list = num.split(',')"
   ]
  },
  {
   "cell_type": "code",
   "execution_count": null,
   "id": "7174f4d0-b8cc-4768-8391-057aeafae0aa",
   "metadata": {},
   "outputs": [],
   "source": [
    "num_list2 = list(map(int, num_list))"
   ]
  },
  {
   "cell_type": "code",
   "execution_count": null,
   "id": "b6d5b2f6-e975-4739-b1c0-8b0ff95260a6",
   "metadata": {},
   "outputs": [
    {
     "data": {
      "text/plain": [
       "3"
      ]
     },
     "execution_count": 16,
     "metadata": {},
     "output_type": "execute_result"
    }
   ],
   "source": [
    "max(num_list2)"
   ]
  },
  {
   "cell_type": "code",
   "execution_count": null,
   "id": "973d3873-279f-4399-bc75-72b8e949ebb1",
   "metadata": {},
   "outputs": [],
   "source": [
    "#강사님 코딩 퀴즈4"
   ]
  },
  {
   "cell_type": "code",
   "execution_count": null,
   "id": "365b22a6-593e-4aba-8d73-356fd02f9888",
   "metadata": {},
   "outputs": [
    {
     "name": "stdout",
     "output_type": "stream",
     "text": [
      "주민등록번호를 입력하세요. 23232323-565656\n"
     ]
    }
   ],
   "source": [
    "jumin = input('주민등록번호를 입력하세요.')"
   ]
  },
  {
   "cell_type": "code",
   "execution_count": null,
   "id": "449fed7f-3fee-4c17-88c6-940b2e803260",
   "metadata": {},
   "outputs": [],
   "source": [
    "sex = jumin[jumin.find('-') + 1]"
   ]
  },
  {
   "cell_type": "code",
   "execution_count": null,
   "id": "270af343-bcb7-4832-8497-e4432d70b073",
   "metadata": {},
   "outputs": [
    {
     "name": "stdout",
     "output_type": "stream",
     "text": [
      "오류\n"
     ]
    }
   ],
   "source": [
    "if sex == '1' or sex == '3' :\n",
    "    print('남자')\n",
    "elif sex == '2' or sex == '4' :\n",
    "    print('여자')\n",
    "else :\n",
    "    print('오류')"
   ]
  },
  {
   "cell_type": "markdown",
   "id": "76d1cc7b-b12d-4e0d-a113-8144d1e6d86d",
   "metadata": {},
   "source": [
    "1. 사용자의 나이를 입력 받으세요.  \n",
    "(1) 20세 이상이면 \"성인\", 아니면 \"미성년자\"라고 출력되는 코드를 작성하세요    \n",
    "(2) \"20대 미만, 20대, 30대, 40대 이상\" 을 출력하는 코드를 작성하세요    \n",
    "\n",
    "2. 사용자의 이름을 입력 받으세요.  (다시보기)  \n",
    "(1) 사용자의 성을 출력해주는 코드를 작성하세요     \n",
    "(2) 사용자의 성이 popular_last_name = [\"김\", \"이\", \"박\"]에 포함되는지 출력해주는 코드를 작성하세요     \n",
    "(3) 사용자의 이름이 user_info = {\"홍길동\":24, \"유재석\":26, \"김종국\":27} 에 해당하는 이름이면 나이를 출력해주는 코드를 작성하세요     \n",
    "\n",
    "3. 사용자로부터 세 개의 숫자를 입력받아 가장 큰 수를 출력하세요.(입력형식: 1,2,3)   (다시보기)  \n",
    "\n",
    "4. 사용자로부터 주민등록번호를 입력받아, 뒷자리의 숫자가 1또는 3이면 \"남자\", 2또는 4면 \"여자\", 이외에는 \"오류\"라고 출력하세요.(입력 형식: 900000-1000000)   (다시보기)  \n",
    "\n"
   ]
  },
  {
   "cell_type": "code",
   "execution_count": null,
   "id": "a04a03c4-c698-456d-91e1-727410489208",
   "metadata": {},
   "outputs": [
    {
     "name": "stdout",
     "output_type": "stream",
     "text": [
      "윤\n"
     ]
    }
   ],
   "source": [
    "\n",
    "print(name[0])"
   ]
  },
  {
   "cell_type": "code",
   "execution_count": null,
   "id": "b6bf69ba-236e-423c-be9c-ca395018594d",
   "metadata": {},
   "outputs": [
    {
     "name": "stdout",
     "output_type": "stream",
     "text": [
      " 윤\n"
     ]
    },
    {
     "name": "stdout",
     "output_type": "stream",
     "text": [
      "김,이,박 이 아닙니다.\n"
     ]
    }
   ],
   "source": [
    "name = input()\n",
    "\n",
    "popular_last_name = [\"김\", \"이\", \"박\"]\n",
    "\n",
    "if name[0] in popular_last_name :\n",
    "    print(\"김\", \"이\", \"박\", '포함된 성입니다.')\n",
    "else :\n",
    "    print('김,이,박 이 아닙니다.')"
   ]
  },
  {
   "cell_type": "markdown",
   "id": "a36ac466-1e1b-4f1a-a049-ebf2b4ea3e33",
   "metadata": {},
   "source": [
    "1. 사용자의 나이를 입력 받으세요.  \n",
    "(1) 20세 이상이면 \"성인\", 아니면 \"미성년자\"라고 출력되는 코드를 작성하세요    \n",
    "(2) \"20대 미만, 20대, 30대, 40대 이상\" 을 출력하는 코드를 작성하세요    \n",
    "\n",
    "2. 사용자의 이름을 입력 받으세요.  (다시보기)  \n",
    "(1) 사용자의 성을 출력해주는 코드를 작성하세요     \n",
    "(2) 사용자의 성이 popular_last_name = [\"김\", \"이\", \"박\"]에 포함되는지 출력해주는 코드를 작성하세요     \n",
    "(3) 사용자의 이름이 user_info = {\"홍길동\":24, \"유재석\":26, \"김종국\":27} 에 해당하는 이름이면 나이를 출력해주는 코드를 작성하세요     \n",
    "\n",
    "3. 사용자로부터 세 개의 숫자를 입력받아 가장 큰 수를 출력하세요.(입력형식: 1,2,3)   (다시보기)  \n",
    "\n",
    "4. 사용자로부터 주민등록번호를 입력받아, 뒷자리의 숫자가 1또는 3이면 \"남자\", 2또는 4면 \"여자\", 이외에는 \"오류\"라고 출력하세요.(입력 형식: 900000-1000000)   (다시보기)  "
   ]
  }
 ],
 "metadata": {
  "kernelspec": {
   "display_name": "Python 3.9.13 ('base')",
   "language": "python",
   "name": "python3"
  },
  "language_info": {
   "codemirror_mode": {
    "name": "ipython",
    "version": 3
   },
   "file_extension": ".py",
   "mimetype": "text/x-python",
   "name": "python",
   "nbconvert_exporter": "python",
   "pygments_lexer": "ipython3",
   "version": "3.9.13"
  },
  "vscode": {
   "interpreter": {
    "hash": "701d4f28dcd0866722f5108a3a4cbcd08882d26398b6d44117e791d7b8102912"
   }
  }
 },
 "nbformat": 4,
 "nbformat_minor": 5
}
