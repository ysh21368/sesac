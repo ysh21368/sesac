{
 "cells": [
  {
   "cell_type": "markdown",
   "id": "9e97ce8d-4faf-4d77-90d2-b6aaf153132d",
   "metadata": {
    "tags": []
   },
   "source": [
    "# 패키지"
   ]
  },
  {
   "cell_type": "code",
   "execution_count": null,
   "id": "85df2ef8-fe71-4ef4-9349-1aa2ee01b5bb",
   "metadata": {},
   "outputs": [],
   "source": [
    "# pip install emoji"
   ]
  },
  {
   "cell_type": "code",
   "execution_count": null,
   "id": "fadda9af-f0be-4e44-bc35-15971e18dba7",
   "metadata": {},
   "outputs": [],
   "source": [
    "import emoji"
   ]
  },
  {
   "cell_type": "code",
   "execution_count": null,
   "id": "1c003bc4-1dd3-4eed-b7bd-08bb31a54035",
   "metadata": {},
   "outputs": [],
   "source": [
    "print(emoji.emojize('Phd is very easy!!! :thumbs_up:'))"
   ]
  },
  {
   "cell_type": "code",
   "execution_count": null,
   "id": "0e9a0972-e058-4cca-9ee4-be4e7aff90b9",
   "metadata": {},
   "outputs": [],
   "source": [
    "print('😁')"
   ]
  },
  {
   "cell_type": "code",
   "execution_count": null,
   "id": "3340ea77-0727-4caa-8050-97c8cc49541d",
   "metadata": {},
   "outputs": [],
   "source": [
    "print(emoji.emojize(':red_heart:'))"
   ]
  },
  {
   "cell_type": "code",
   "execution_count": null,
   "id": "6f529b1b-03e3-4ce6-be2e-be35724d9342",
   "metadata": {},
   "outputs": [],
   "source": [
    "import emoji as e # 이 방법을 많이 사용할 것이다."
   ]
  },
  {
   "cell_type": "code",
   "execution_count": null,
   "id": "8b77561b-6319-4571-b483-be05537e5b0d",
   "metadata": {},
   "outputs": [],
   "source": [
    "from emoji import emojize #이 방법은 별로 좋지 않다."
   ]
  },
  {
   "cell_type": "code",
   "execution_count": null,
   "id": "69ff6332-13ae-41ed-8a70-f5743b2d555a",
   "metadata": {},
   "outputs": [],
   "source": [
    "print(emoji.emojize('Phd is very easy!!! :thumbs_up:'))"
   ]
  },
  {
   "cell_type": "code",
   "execution_count": null,
   "id": "0697d86d-62b8-4acd-9dd5-57c6a7be645d",
   "metadata": {},
   "outputs": [],
   "source": [
    "e.emojize"
   ]
  },
  {
   "cell_type": "code",
   "execution_count": null,
   "id": "86224ab4-13f0-410e-bcc5-752343dd3c18",
   "metadata": {},
   "outputs": [],
   "source": [
    "# pip install pydataset"
   ]
  },
  {
   "cell_type": "code",
   "execution_count": null,
   "id": "11b22bcc-8037-4160-aae1-522ed8fbe9b7",
   "metadata": {},
   "outputs": [],
   "source": [
    "import pydataset as pds"
   ]
  },
  {
   "cell_type": "code",
   "execution_count": null,
   "id": "1d6c72a8-f8c0-4a59-8773-6bbd6d3bc5f1",
   "metadata": {},
   "outputs": [],
   "source": [
    "pds.data()"
   ]
  },
  {
   "cell_type": "code",
   "execution_count": null,
   "id": "f2b76841-cba7-4442-a97a-fc337709e371",
   "metadata": {},
   "outputs": [],
   "source": [
    "type(pds.data())"
   ]
  },
  {
   "cell_type": "code",
   "execution_count": null,
   "id": "8ac9e027-30b5-44ca-80a0-a72b251599b7",
   "metadata": {},
   "outputs": [],
   "source": [
    "import pydataset as pds"
   ]
  },
  {
   "cell_type": "code",
   "execution_count": null,
   "id": "6d188d5b-8300-485e-96a9-c5cd4d8ea428",
   "metadata": {},
   "outputs": [],
   "source": [
    "data = pds.data()"
   ]
  },
  {
   "cell_type": "code",
   "execution_count": null,
   "id": "44d1721e-5b18-4ff3-b640-0f11ca26efc4",
   "metadata": {},
   "outputs": [],
   "source": [
    "data.head(1)"
   ]
  },
  {
   "cell_type": "code",
   "execution_count": null,
   "id": "6c664642-1d8f-424a-8e3c-b915b91577c2",
   "metadata": {},
   "outputs": [],
   "source": [
    "data[data['dataset_id'] == 'mtcars']"
   ]
  },
  {
   "cell_type": "code",
   "execution_count": null,
   "id": "9d7398fb-f959-4543-946f-cb822f676b22",
   "metadata": {},
   "outputs": [],
   "source": [
    "data['dataset_id'] == 'mtcars'"
   ]
  },
  {
   "cell_type": "code",
   "execution_count": null,
   "id": "3b2a49f6-61d8-4e14-949d-ff65d6248739",
   "metadata": {},
   "outputs": [],
   "source": [
    "data[data['dataset_id'] == 'mtcars']"
   ]
  },
  {
   "cell_type": "code",
   "execution_count": null,
   "id": "8dc67062-66d9-41c9-aca0-491c6d80cab6",
   "metadata": {},
   "outputs": [],
   "source": [
    "pds.data('mtcars')"
   ]
  },
  {
   "cell_type": "code",
   "execution_count": null,
   "id": "4880f998-fe78-4d6b-9410-7a4c0035979a",
   "metadata": {},
   "outputs": [],
   "source": [
    "df = pds.data('mtcars')"
   ]
  },
  {
   "cell_type": "code",
   "execution_count": null,
   "id": "0b3264bc-eb81-4ccc-b99c-1749316e220e",
   "metadata": {},
   "outputs": [],
   "source": [
    "df"
   ]
  },
  {
   "cell_type": "code",
   "execution_count": null,
   "id": "fddf5737-2dfe-43f2-9535-3961c1d13634",
   "metadata": {},
   "outputs": [],
   "source": [
    "df.shape #데이터의 갯수를 확인할 때 사용하는 함수"
   ]
  },
  {
   "cell_type": "code",
   "execution_count": null,
   "id": "8e1dd5fa-f70e-4be2-bf31-aabb28336520",
   "metadata": {},
   "outputs": [],
   "source": [
    "df['am'].value_counts()"
   ]
  },
  {
   "cell_type": "code",
   "execution_count": null,
   "id": "331f2c10-d5cd-4961-9d72-d2d1133862f6",
   "metadata": {},
   "outputs": [],
   "source": [
    "#변속기가 자동이면서 변속기어수인 4개인 애들 찾아보라."
   ]
  },
  {
   "cell_type": "code",
   "execution_count": null,
   "id": "81ab8aeb-4bc4-4d59-8954-2290fa60c621",
   "metadata": {},
   "outputs": [],
   "source": [
    "df[(df['am'] == 0) & (df['gear'] == 4)]"
   ]
  },
  {
   "cell_type": "code",
   "execution_count": null,
   "id": "54ed042e-6680-4738-8781-371369efabfa",
   "metadata": {},
   "outputs": [],
   "source": [
    "len(df[(df['am'] == 0) & (df['gear'] == 4)])"
   ]
  },
  {
   "cell_type": "code",
   "execution_count": null,
   "id": "e2d7fe46-7bd3-49af-bee4-bddd28529fb0",
   "metadata": {},
   "outputs": [],
   "source": [
    "#'HairEyeColor'로 문제 만들어서 풀어보기"
   ]
  },
  {
   "cell_type": "code",
   "execution_count": null,
   "id": "52afe8cb-45be-4751-bf6c-0384e9fa7508",
   "metadata": {},
   "outputs": [],
   "source": [
    "df2 = pds.data('HairEyeColor')"
   ]
  },
  {
   "cell_type": "code",
   "execution_count": null,
   "id": "b8a31bfa-de38-43db-a586-cd539897ea1b",
   "metadata": {
    "tags": []
   },
   "outputs": [],
   "source": [
    "df2"
   ]
  },
  {
   "cell_type": "code",
   "execution_count": null,
   "id": "021f815b-057c-40d7-9b32-b631b7a7f6c1",
   "metadata": {
    "tags": []
   },
   "outputs": [],
   "source": [
    "# 헤어는 검정, 눈은 brown, 남자인 사람은?"
   ]
  },
  {
   "cell_type": "code",
   "execution_count": null,
   "id": "a047786b-dbf5-4b19-83a9-86f46369eba8",
   "metadata": {
    "tags": []
   },
   "outputs": [],
   "source": [
    "hair_mapping = {}\n",
    "for i, j in enumerate(['Black', 'Blue', 'Red', 'Blond']) :\n",
    "    print(i, j)"
   ]
  },
  {
   "cell_type": "code",
   "execution_count": null,
   "id": "0792bbdc-8cfa-414c-8140-e18e9d951f1e",
   "metadata": {},
   "outputs": [],
   "source": [
    "eye_mapping = {}\n",
    "for i, j in enumerate(['Brown', 'Blue', 'Hazel', 'Green', ]) :\n",
    "    print(i, j)"
   ]
  },
  {
   "cell_type": "code",
   "execution_count": null,
   "id": "c2ffd1fb-28e1-4f7b-9a24-d07d9a79f0ba",
   "metadata": {},
   "outputs": [],
   "source": [
    "gender_mapping = {}\n",
    "for i, j in enumerate(['Female', 'Male']) :\n",
    "    print(i, j)"
   ]
  },
  {
   "cell_type": "code",
   "execution_count": null,
   "id": "057ed9b3-c8ab-4714-8282-3f74bcb69cb2",
   "metadata": {},
   "outputs": [],
   "source": [
    "df2[(df2['Hair'] == 'Black') & (df2['Eye'] == 'Brown') & (df2['Sex'] == 'Male')]"
   ]
  },
  {
   "cell_type": "code",
   "execution_count": null,
   "id": "2764cf84-7ec5-4390-b463-65edc284b6a5",
   "metadata": {},
   "outputs": [],
   "source": [
    "len(df2[(df2['Hair'] == 'Black') & (df2['Eye'] == 'Brown') & (df2['Sex'] == 'Male')])"
   ]
  },
  {
   "cell_type": "code",
   "execution_count": null,
   "id": "b5fb36dc-bf27-44ea-8c50-fc5dbbd4e664",
   "metadata": {},
   "outputs": [],
   "source": [
    "# 헤어 아이 컬러에서 성별에 데이터 타입을 확인하고 남자는 0 여자 1 (정섭님이 만든 문제)"
   ]
  },
  {
   "cell_type": "code",
   "execution_count": null,
   "id": "58740856-e8c4-486d-bb15-a398cb3eee59",
   "metadata": {},
   "outputs": [],
   "source": [
    "df2.info()"
   ]
  },
  {
   "cell_type": "code",
   "execution_count": null,
   "id": "ea1a225e-4bdc-4923-86a2-ea011628c1ac",
   "metadata": {},
   "outputs": [],
   "source": [
    "gender_mapping = {}\n",
    "for i, j in enumerate(['Male', 'Female']) :\n",
    "    print(i, j)"
   ]
  },
  {
   "cell_type": "code",
   "execution_count": null,
   "id": "de2c6fd9-b4ca-431e-8408-9d86cee76cbf",
   "metadata": {
    "tags": []
   },
   "outputs": [],
   "source": [
    "df2['Hair'], df2['Eye'], df2['Sex']"
   ]
  },
  {
   "cell_type": "code",
   "execution_count": null,
   "id": "17dd1dbc-5dbe-44d4-8e24-215e6b407293",
   "metadata": {},
   "outputs": [],
   "source": [
    "#데이터 프레임으로 분석하기 (p.81 ~ )"
   ]
  },
  {
   "cell_type": "code",
   "execution_count": null,
   "id": "b2b2cf77-c888-482e-9bbe-784c01aa6677",
   "metadata": {},
   "outputs": [],
   "source": [
    "import pandas as pd"
   ]
  },
  {
   "cell_type": "code",
   "execution_count": null,
   "id": "f15f884d-8071-4159-b858-f217c320b07e",
   "metadata": {},
   "outputs": [],
   "source": [
    "df = pd.DataFrame({'name': ['김지훈', '이유진', '박동현', '김민지'],\n",
    "                  'english': [90, 80, 60, 70],\n",
    "                  'math' : [50, 60, 100, 20]})"
   ]
  },
  {
   "cell_type": "code",
   "execution_count": null,
   "id": "6eb37227-312b-431a-8abd-2cf9c1c51ee9",
   "metadata": {},
   "outputs": [],
   "source": [
    "df"
   ]
  },
  {
   "cell_type": "code",
   "execution_count": null,
   "id": "8e306fb0-0938-4b14-9943-3f2e2fa830b1",
   "metadata": {},
   "outputs": [],
   "source": [
    "df['english'].sum() # 합"
   ]
  },
  {
   "cell_type": "code",
   "execution_count": null,
   "id": "9f79592b-a03f-4b6f-ba7e-18a8c01b2152",
   "metadata": {},
   "outputs": [],
   "source": [
    "df['english'].mean() # 평균"
   ]
  },
  {
   "cell_type": "code",
   "execution_count": null,
   "id": "076a68da-cfb3-4603-84fd-667d5ff3f2f7",
   "metadata": {},
   "outputs": [],
   "source": [
    "df1 = df.rename({'name':'이름', 'english':'영어점수', 'math':'수학점수'}, axis=1)"
   ]
  },
  {
   "cell_type": "code",
   "execution_count": null,
   "id": "c0edff7f-7f35-4f89-b693-15ace6c34579",
   "metadata": {},
   "outputs": [],
   "source": [
    "df1"
   ]
  },
  {
   "cell_type": "code",
   "execution_count": null,
   "id": "93b447e1-49be-4836-a04b-269bc18c1913",
   "metadata": {},
   "outputs": [],
   "source": [
    "df2 = df1"
   ]
  },
  {
   "cell_type": "code",
   "execution_count": null,
   "id": "d73c0878-a523-4404-9741-add492a0ea72",
   "metadata": {},
   "outputs": [],
   "source": [
    "df2"
   ]
  },
  {
   "cell_type": "code",
   "execution_count": null,
   "id": "175ce63a-dac2-42fc-9d1c-81e69b0626c6",
   "metadata": {},
   "outputs": [],
   "source": [
    "df2.rename({'이름':'name'}, axis=1, inplace = True)"
   ]
  },
  {
   "cell_type": "code",
   "execution_count": null,
   "id": "9e4da197-6ac2-4ca7-9db7-1c57cf185b71",
   "metadata": {},
   "outputs": [],
   "source": [
    "df2"
   ]
  },
  {
   "cell_type": "code",
   "execution_count": null,
   "id": "90acd53b-f796-42d8-9ebb-788ed2fa9dc3",
   "metadata": {},
   "outputs": [],
   "source": [
    "df1"
   ]
  },
  {
   "cell_type": "code",
   "execution_count": null,
   "id": "213d525f-1b11-47ef-ae0a-56dd867f5fb8",
   "metadata": {},
   "outputs": [],
   "source": [
    "df1['name'] = '홍길동'"
   ]
  },
  {
   "cell_type": "code",
   "execution_count": null,
   "id": "0b587ffd-b92e-4f5b-9652-fb9b0a2985df",
   "metadata": {},
   "outputs": [],
   "source": [
    "df2"
   ]
  },
  {
   "cell_type": "code",
   "execution_count": null,
   "id": "a88e9fa6-df48-4fd8-b9d5-7d6862e36938",
   "metadata": {},
   "outputs": [],
   "source": []
  },
  {
   "cell_type": "code",
   "execution_count": null,
   "id": "3e31bb59-961d-45d2-9246-cd9cc0079d67",
   "metadata": {},
   "outputs": [],
   "source": [
    "df3 = df1"
   ]
  },
  {
   "cell_type": "code",
   "execution_count": null,
   "id": "ef26eb51-67f9-4619-b5e5-a1eb03a52c0d",
   "metadata": {},
   "outputs": [],
   "source": [
    "df3['이름'] = '예진'"
   ]
  },
  {
   "cell_type": "code",
   "execution_count": null,
   "id": "360905cc-072c-4b0b-bc91-0fd597bdd85a",
   "metadata": {},
   "outputs": [],
   "source": [
    "df3"
   ]
  },
  {
   "cell_type": "code",
   "execution_count": null,
   "id": "cb5be544-31e3-409d-bb7e-2e11bd8514b7",
   "metadata": {},
   "outputs": [],
   "source": [
    "# df1 원본\n",
    "# df2 그냥 변수명 복사 / 얕은복사(swallo copy) (얕은 복사는 메모리 용량을 줄일 수 있음) (파이썬은 얕은복사가 기본임)\n",
    "# df3 copy() / 깊은 복사(deep copy) (깊은 복사는 메모리 용량이 늘어남)"
   ]
  },
  {
   "cell_type": "code",
   "execution_count": null,
   "id": "c27dc517-c78d-4670-8887-516b17bcd63c",
   "metadata": {},
   "outputs": [],
   "source": [
    "#id를 붙이는 이유는?????? 위치를 알기 위함\n",
    "print(id(df1))\n",
    "print(id(df2))\n",
    "print(id(df3))"
   ]
  },
  {
   "cell_type": "code",
   "execution_count": null,
   "id": "2987dea6-9801-4957-ba25-83809856296b",
   "metadata": {},
   "outputs": [],
   "source": []
  },
  {
   "cell_type": "code",
   "execution_count": null,
   "id": "ca3e2f4b-21ff-45fd-827d-46baad19a024",
   "metadata": {},
   "outputs": [],
   "source": [
    "# 파생변수 만들기 p116"
   ]
  },
  {
   "cell_type": "code",
   "execution_count": null,
   "id": "017eeb8c-5d49-406c-86aa-6d5f31236bf0",
   "metadata": {},
   "outputs": [],
   "source": [
    "import pandas as pd"
   ]
  },
  {
   "cell_type": "code",
   "execution_count": null,
   "id": "59ba53c0-eb4b-49cf-a95a-7cd940cbfc2b",
   "metadata": {},
   "outputs": [],
   "source": [
    "df = pd.DataFrame({'var1':[4, 3, 8],\n",
    "                   'var2':[2, 6, 1]})"
   ]
  },
  {
   "cell_type": "code",
   "execution_count": null,
   "id": "5fe8d4f6-0a1e-4927-906b-d555ea4075c5",
   "metadata": {},
   "outputs": [],
   "source": [
    "df"
   ]
  },
  {
   "cell_type": "code",
   "execution_count": null,
   "id": "1049f9fc-ae6c-4c0a-9424-6e76cb573d17",
   "metadata": {},
   "outputs": [],
   "source": [
    "df['var_sum'] = df['var1'] + df['var2']"
   ]
  },
  {
   "cell_type": "code",
   "execution_count": null,
   "id": "f37a8c98-92da-4785-bf87-df2da5409d53",
   "metadata": {},
   "outputs": [],
   "source": [
    "df['var_mean'] = (df['var1'] + df['var2']) / 2"
   ]
  },
  {
   "cell_type": "code",
   "execution_count": null,
   "id": "be1bea03-757e-4088-a9cb-8810957c0e0d",
   "metadata": {},
   "outputs": [],
   "source": [
    "df"
   ]
  },
  {
   "cell_type": "code",
   "execution_count": null,
   "id": "18dee598-9fe2-4936-a1e2-f35e6f2d86a5",
   "metadata": {},
   "outputs": [],
   "source": [
    "import pydataset as pds"
   ]
  },
  {
   "cell_type": "code",
   "execution_count": null,
   "id": "8ffcd25f-1fe4-4fd0-94d1-ca18d2f497c6",
   "metadata": {},
   "outputs": [],
   "source": [
    "mpg = pds.data('mpg', show_doc = True)"
   ]
  },
  {
   "cell_type": "code",
   "execution_count": null,
   "id": "fadec916-8a26-4e91-a9d0-c1c19d5e49be",
   "metadata": {},
   "outputs": [],
   "source": [
    "mpg = pds.data('mpg')"
   ]
  },
  {
   "cell_type": "code",
   "execution_count": null,
   "id": "f8a63100-56d7-4488-8e9b-c35ac2637dc0",
   "metadata": {},
   "outputs": [],
   "source": [
    "mpg"
   ]
  },
  {
   "cell_type": "markdown",
   "id": "1349708d-a150-4afa-9144-0d8e3495df4b",
   "metadata": {},
   "source": [
    "  * cty. city miles per gallon \n",
    "\n",
    "  * hwy. highway miles per gallon \n",
    "  \n",
    "  이 2가지의 토탈을 낼 것이다."
   ]
  },
  {
   "cell_type": "code",
   "execution_count": null,
   "id": "77de66b8-7823-4c35-b881-a3c246416c05",
   "metadata": {},
   "outputs": [],
   "source": [
    "mpg['total'] = (mpg['cty'] + mpg['hwy'])/2"
   ]
  },
  {
   "cell_type": "code",
   "execution_count": null,
   "id": "3459b4eb-4f77-4ee9-923b-a78dcb025e63",
   "metadata": {},
   "outputs": [],
   "source": [
    "mpg"
   ]
  },
  {
   "cell_type": "code",
   "execution_count": null,
   "id": "97a1ec66-50d2-408c-add0-39f5048f77f5",
   "metadata": {},
   "outputs": [],
   "source": [
    "mpg['total'].mean()"
   ]
  },
  {
   "cell_type": "code",
   "execution_count": null,
   "id": "788476e0-9863-424c-8658-37cf9c63ceb4",
   "metadata": {},
   "outputs": [],
   "source": [
    "len(mpg[mpg['total'] > 20]) #total이 20보다 큰 애들이 갯수 구할 때 사용함"
   ]
  },
  {
   "cell_type": "code",
   "execution_count": null,
   "id": "a8ae62f3-5c29-4c25-91b4-60a3f901a6ce",
   "metadata": {},
   "outputs": [],
   "source": [
    "# 20 > pass\n",
    "# 20 <= fail"
   ]
  },
  {
   "cell_type": "code",
   "execution_count": null,
   "id": "6c9bd6f2-bc0c-4cb3-bb70-4efac12cffd7",
   "metadata": {},
   "outputs": [],
   "source": [
    "mpg"
   ]
  },
  {
   "cell_type": "code",
   "execution_count": null,
   "id": "0170372d-fa96-4986-8ff0-492550b10513",
   "metadata": {},
   "outputs": [],
   "source": [
    "# .apply를 사용하여 ~\n",
    "def isPass(t) :\n",
    "    if t > 20 :\n",
    "        return 'Pass'\n",
    "    else :\n",
    "        return 'Fail'"
   ]
  },
  {
   "cell_type": "code",
   "execution_count": null,
   "id": "76fab89c-1705-41c1-9b6b-f3b533c31e1a",
   "metadata": {
    "tags": []
   },
   "outputs": [],
   "source": [
    "mpg['total'].apply(isPass)"
   ]
  },
  {
   "cell_type": "code",
   "execution_count": null,
   "id": "62c664d5-84e6-45a4-ad51-15b36cf906b2",
   "metadata": {},
   "outputs": [],
   "source": [
    "mpg['test'] = mpg['total'].apply(isPass) #-> 무슨 말인지 적기!"
   ]
  },
  {
   "cell_type": "code",
   "execution_count": null,
   "id": "3bbfdf29-c1d8-4371-bbae-f87479cb9d67",
   "metadata": {},
   "outputs": [],
   "source": [
    "mpg['test'].value_counts()"
   ]
  },
  {
   "cell_type": "code",
   "execution_count": null,
   "id": "5f6e9df8-45f3-4a73-9049-5573afdf85d8",
   "metadata": {},
   "outputs": [],
   "source": [
    "mpg"
   ]
  },
  {
   "cell_type": "markdown",
   "id": "d7aa7148-23af-40ce-ade6-d9a3011c4dd5",
   "metadata": {
    "tags": []
   },
   "source": [
    "mpg['grade']\n",
    "# mpg['total'] >= 30 'A'\n",
    "# mpg['total'] >= 20 'B'\n",
    "#else 'C'"
   ]
  },
  {
   "cell_type": "markdown",
   "id": "84aa5ae7-913d-43b5-a59f-818f2e03cbb3",
   "metadata": {
    "tags": []
   },
   "source": [
    "def mpg(g) :\n",
    "    if g >= 30 :\n",
    "        return 'A'\n",
    "    elif 20 <= g < 30 :\n",
    "        return 'B'\n",
    "    else :\n",
    "        return 'C'"
   ]
  },
  {
   "cell_type": "markdown",
   "id": "2e0fd8bd-0b9e-402a-a8d1-784a761bd875",
   "metadata": {
    "tags": []
   },
   "source": [
    "mpg['grade'].apply(mpg)"
   ]
  },
  {
   "cell_type": "code",
   "execution_count": null,
   "id": "524d6861-1363-416b-8aaa-a552413e0e4d",
   "metadata": {},
   "outputs": [],
   "source": []
  },
  {
   "cell_type": "code",
   "execution_count": null,
   "id": "f0ebdda7-37a2-4a6c-85fd-ae5431d706da",
   "metadata": {},
   "outputs": [],
   "source": [
    "mpg"
   ]
  },
  {
   "cell_type": "code",
   "execution_count": null,
   "id": "0f698729-30d9-4599-abb4-0267693308e0",
   "metadata": {},
   "outputs": [],
   "source": [
    "def doGrade(t) :\n",
    "    if t >= 30 :\n",
    "        return 'A'\n",
    "    elif t >= 20 :\n",
    "        return 'B'\n",
    "    else :\n",
    "        return 'C'"
   ]
  },
  {
   "cell_type": "code",
   "execution_count": null,
   "id": "0222ba69-5c46-4708-8091-cc8659f5c291",
   "metadata": {},
   "outputs": [],
   "source": [
    "mpg['Grade'] = mpg['total'].apply(doGrade)"
   ]
  },
  {
   "cell_type": "code",
   "execution_count": null,
   "id": "5c5b7968-6963-4ed0-b499-0ca5750895c6",
   "metadata": {},
   "outputs": [],
   "source": [
    "mpg['Grade'].value_counts()"
   ]
  },
  {
   "cell_type": "code",
   "execution_count": null,
   "id": "0a7eaf21-4859-49fc-a72d-6aaefc57a62a",
   "metadata": {},
   "outputs": [],
   "source": [
    "mpg['Grade'].value_counts().sort_index()"
   ]
  },
  {
   "cell_type": "code",
   "execution_count": null,
   "id": "2fb18180-8499-4a3d-998b-dc05c365fc79",
   "metadata": {},
   "outputs": [],
   "source": [
    "len(mpg[mpg['total'] >= 30])"
   ]
  },
  {
   "cell_type": "code",
   "execution_count": null,
   "id": "841f13b5-3073-4cf2-8619-f31dd091f36c",
   "metadata": {},
   "outputs": [],
   "source": [
    "len(mpg[mpg['total'] < 20])"
   ]
  },
  {
   "cell_type": "code",
   "execution_count": null,
   "id": "b01dd628-e303-4b61-9ffd-4129b93becb6",
   "metadata": {},
   "outputs": [],
   "source": [
    "# numpy를 사용할 것이다. / np.where"
   ]
  },
  {
   "cell_type": "code",
   "execution_count": null,
   "id": "2ccde585-b2a8-44ee-9f73-e94d9538028d",
   "metadata": {},
   "outputs": [],
   "source": [
    "import numpy as np"
   ]
  },
  {
   "cell_type": "code",
   "execution_count": null,
   "id": "681b887b-02fd-45e9-b7b3-31f6b3288fd4",
   "metadata": {},
   "outputs": [],
   "source": [
    "np.where(mpg['total'] > 20, 'Pass', 'Fail')"
   ]
  },
  {
   "cell_type": "code",
   "execution_count": null,
   "id": "7a7454d5-0637-41aa-a9c1-9e52d54e4594",
   "metadata": {},
   "outputs": [],
   "source": [
    "mpg['test2'] = np.where(mpg['total'] > 20, 'Pass', 'Fail')"
   ]
  },
  {
   "cell_type": "code",
   "execution_count": null,
   "id": "530d15c8-f852-461e-ba48-eee0833098c1",
   "metadata": {},
   "outputs": [],
   "source": [
    "mpg['test2'].value_counts()"
   ]
  },
  {
   "cell_type": "code",
   "execution_count": null,
   "id": "231c077a-3a57-45be-82d9-ee8af28c0641",
   "metadata": {},
   "outputs": [],
   "source": [
    "np.where(mpg['total'] > 30, 'A', \n",
    "         np.where(mpg['total'] > 20, 'B', \n",
    "                  np.where(mpg['total'] > 10, 'C', 'D')))"
   ]
  },
  {
   "cell_type": "code",
   "execution_count": null,
   "id": "21b40d73-fc42-4bd0-9ec6-57d72dffe535",
   "metadata": {},
   "outputs": [],
   "source": [
    "mpg['Grade2'] = (np.where(mpg['total'] >= 30, 'A', \n",
    "                np.where(mpg['total'] >= 20, 'B', 'C')))"
   ]
  },
  {
   "cell_type": "code",
   "execution_count": null,
   "id": "5e26a8fc-4e84-402c-9a4a-0bf6545b1a94",
   "metadata": {},
   "outputs": [],
   "source": [
    "mpg['Grade2'].value_counts()"
   ]
  },
  {
   "cell_type": "code",
   "execution_count": null,
   "id": "76f5124f-f14e-409d-be8b-576c75f0deb7",
   "metadata": {},
   "outputs": [],
   "source": []
  },
  {
   "cell_type": "code",
   "execution_count": null,
   "id": "bfb3e23e-2306-4a92-b8b7-54542b348c1a",
   "metadata": {},
   "outputs": [],
   "source": [
    "mpg['class'].unique()"
   ]
  },
  {
   "cell_type": "code",
   "execution_count": null,
   "id": "fc8ec4d9-3260-4a6a-963f-bddfcdd968d2",
   "metadata": {},
   "outputs": [],
   "source": [
    "# .apply 또는 np.where을 활용해서 문제를 풀어보시오.\n",
    "# class -> compact, subcompact, 2seater => small / 나머지는 large \n",
    "# (나의 버전)"
   ]
  },
  {
   "cell_type": "code",
   "execution_count": null,
   "id": "33222962-2e88-4908-a033-92634722cd1c",
   "metadata": {},
   "outputs": [],
   "source": [
    "# .apply를 사용하여 ~\n",
    "def appSize(i) :\n",
    "    if i == 'compact' :\n",
    "        return 'small'\n",
    "    elif i == 'subcompact' :\n",
    "        return 'small'\n",
    "    elif i == '2seater' : \n",
    "        return 'small'\n",
    "    else :\n",
    "        return 'large'"
   ]
  },
  {
   "cell_type": "code",
   "execution_count": null,
   "id": "4bdf78e0-62b1-40db-9124-6ca47589418d",
   "metadata": {},
   "outputs": [],
   "source": [
    "x = mpg['class'].apply(appSize)"
   ]
  },
  {
   "cell_type": "code",
   "execution_count": null,
   "id": "891150d0-0b2f-403f-993e-4b9e65f95ff2",
   "metadata": {},
   "outputs": [],
   "source": [
    "x.value_counts()"
   ]
  },
  {
   "cell_type": "code",
   "execution_count": null,
   "id": "b4b0027c-3d63-4f1e-b20e-2729338a5e95",
   "metadata": {},
   "outputs": [],
   "source": []
  },
  {
   "cell_type": "code",
   "execution_count": null,
   "id": "df4e4275-9d3b-4868-ba87-fc9d407fb33b",
   "metadata": {},
   "outputs": [],
   "source": [
    "import numpy as np"
   ]
  },
  {
   "cell_type": "code",
   "execution_count": null,
   "id": "39466fc8-9de7-4845-9d18-1bc7d161f4fa",
   "metadata": {},
   "outputs": [],
   "source": [
    "mpg['size2'] = np.where(mpg['total'] == 'compact', 'Small', \n",
    "                        np.where(mpg['total'] == 'subcompact', 'Small', \n",
    "                                 np.where(mpg['total'] == '2seater', 'Small', 'large')))"
   ]
  },
  {
   "cell_type": "code",
   "execution_count": null,
   "id": "be9902d4-ff0b-4b0a-87ff-e4d786beff32",
   "metadata": {},
   "outputs": [],
   "source": []
  },
  {
   "cell_type": "code",
   "execution_count": null,
   "id": "cf6dc6e5-75a1-42a4-a12c-5132fd8cd9ea",
   "metadata": {},
   "outputs": [],
   "source": []
  },
  {
   "cell_type": "code",
   "execution_count": null,
   "id": "ad43a987-1c29-40a6-9e2b-e0951659dec0",
   "metadata": {},
   "outputs": [],
   "source": []
  },
  {
   "cell_type": "code",
   "execution_count": null,
   "id": "1990c99a-14e1-49fc-862e-865df6f8e331",
   "metadata": {},
   "outputs": [],
   "source": []
  },
  {
   "cell_type": "code",
   "execution_count": null,
   "id": "fffb3453-b88c-4c2b-89ce-639b21e481e6",
   "metadata": {},
   "outputs": [],
   "source": [
    "# np.where를 사용하여 ~\n",
    "def npSize(i) :\n",
    "    if 조건 :\n",
    "        return 'compact'\n",
    "    elif 조건 :\n",
    "        return 'subcompact'\n",
    "    elif 조건 : \n",
    "        return '2seater'\n",
    "    else :\n",
    "        return 'large'"
   ]
  },
  {
   "cell_type": "code",
   "execution_count": null,
   "id": "0d280e5e-2123-4fce-9664-3dbbd7208d88",
   "metadata": {},
   "outputs": [],
   "source": [
    "mpg['size2']"
   ]
  },
  {
   "cell_type": "code",
   "execution_count": null,
   "id": "01f04550-c517-4c59-87c0-d40333216fb8",
   "metadata": {},
   "outputs": [],
   "source": []
  },
  {
   "cell_type": "code",
   "execution_count": null,
   "id": "8240665c-818f-47c5-bcbd-0071baf646c2",
   "metadata": {},
   "outputs": [],
   "source": []
  },
  {
   "cell_type": "code",
   "execution_count": null,
   "id": "2295ef79-68d0-4461-a442-28e1dd16cc96",
   "metadata": {},
   "outputs": [],
   "source": []
  },
  {
   "cell_type": "code",
   "execution_count": null,
   "id": "1135f303-b5ec-4809-a4ff-e5c7d3a35da5",
   "metadata": {},
   "outputs": [],
   "source": []
  },
  {
   "cell_type": "code",
   "execution_count": null,
   "id": "7f472e06-aeb0-48be-bbdf-dfb95575176b",
   "metadata": {},
   "outputs": [],
   "source": [
    "# .apply 또는 np.where을 활용해서 문제를 풀어보시오.\n",
    "# class -> compact, subcompact, 2seater => small / 나머지는 large\n",
    "# (강사님 버젼)"
   ]
  },
  {
   "cell_type": "code",
   "execution_count": null,
   "id": "8646116c-1bae-4e4b-9a73-c54d42bab3df",
   "metadata": {},
   "outputs": [],
   "source": [
    "def isSize(c) :\n",
    "    l = ['compact', 'subcompact', '2seater']\n",
    "    if c in l :\n",
    "        return 'small'\n",
    "    return 'large'"
   ]
  },
  {
   "cell_type": "code",
   "execution_count": null,
   "id": "53cd258d-a781-470e-8bd9-aaa1b99185e5",
   "metadata": {},
   "outputs": [],
   "source": [
    "mpg['size'] = mpg['class'].apply(isSize)"
   ]
  },
  {
   "cell_type": "code",
   "execution_count": null,
   "id": "2aae5d02-b27d-4205-b73a-6a75fdc1d663",
   "metadata": {},
   "outputs": [],
   "source": [
    "mpg['size'].value_counts()"
   ]
  },
  {
   "cell_type": "code",
   "execution_count": null,
   "id": "f1d61098-c819-4024-a48d-99678da92f9b",
   "metadata": {},
   "outputs": [],
   "source": [
    "len(mpg[mpg['class'].isin(['compact', 'subcompact', '2seater'])])"
   ]
  },
  {
   "cell_type": "code",
   "execution_count": null,
   "id": "783618e8-1867-4487-8e4c-0a8a7d8e3bc6",
   "metadata": {
    "tags": []
   },
   "outputs": [],
   "source": [
    "np.where((mpg['class'] == 'compact') | \n",
    "         (mpg['total'] == 'subcompact') |\n",
    "         (mpg['total'] == '2seater'), 'Small', 'large')"
   ]
  },
  {
   "cell_type": "code",
   "execution_count": null,
   "id": "2d57809a-dbdc-44ab-ab4b-cb871fb63f04",
   "metadata": {},
   "outputs": [],
   "source": [
    "mpg['size2'] = np.where(mpg['class'].isin(['compact', 'subcompact', '2seater']), \n",
    "                        'small', 'large')"
   ]
  },
  {
   "cell_type": "code",
   "execution_count": null,
   "id": "76efe703-0f51-4eee-b287-8db203b7bafc",
   "metadata": {},
   "outputs": [],
   "source": [
    "len(mpg[mpg['class'].isin(['compact', 'subcompact', '2seater'])])"
   ]
  },
  {
   "cell_type": "code",
   "execution_count": null,
   "id": "be75cc22-ceb7-4de1-a8ef-6da508e46230",
   "metadata": {},
   "outputs": [],
   "source": []
  },
  {
   "cell_type": "code",
   "execution_count": null,
   "id": "eb132d49-f2a2-4420-bf9b-148846519598",
   "metadata": {},
   "outputs": [],
   "source": [
    "#p130 문제 2~3번"
   ]
  },
  {
   "cell_type": "code",
   "execution_count": null,
   "id": "35c5c6fc-1c1e-4104-a736-af035ebfe09f",
   "metadata": {},
   "outputs": [],
   "source": [
    "#문제2번"
   ]
  },
  {
   "cell_type": "code",
   "execution_count": null,
   "id": "ccb43c05-1ede-4614-a82a-6902d8490d8f",
   "metadata": {},
   "outputs": [],
   "source": [
    "import pandas as pd"
   ]
  },
  {
   "cell_type": "code",
   "execution_count": null,
   "id": "688ba876-6254-4de9-8e40-bc2a9389cb93",
   "metadata": {},
   "outputs": [],
   "source": [
    "midwest = pd.read_csv('midwest.csv')"
   ]
  },
  {
   "cell_type": "code",
   "execution_count": null,
   "id": "0774bae0-a5ce-49f2-9130-8ee43771860f",
   "metadata": {},
   "outputs": [],
   "source": [
    "midwest"
   ]
  },
  {
   "cell_type": "code",
   "execution_count": null,
   "id": "c2a35e06-be3a-4bd1-a062-d3e44b4180fc",
   "metadata": {},
   "outputs": [],
   "source": [
    "midwest = midwest.rename({'poptotal':'total', 'popasian':'asian' }, axis=1)\n",
    "# midwest = midwest.rename({'poptotal':'total', 'popasian':'asian' }, axis=1, inplace = True)\n",
    "# midwest = midwest.rename(columns = {'poptotal':'total', 'popasian':'asian' })"
   ]
  },
  {
   "cell_type": "code",
   "execution_count": null,
   "id": "f7162614-5cce-4754-af9a-76c9a447f291",
   "metadata": {},
   "outputs": [],
   "source": [
    "midwest"
   ]
  },
  {
   "cell_type": "code",
   "execution_count": null,
   "id": "d6aec07f-b3ed-4037-a644-44019171f485",
   "metadata": {},
   "outputs": [],
   "source": [
    "#문제3번"
   ]
  },
  {
   "cell_type": "code",
   "execution_count": null,
   "id": "3cffd6ca-75b4-4537-b9e3-a57b57073d3f",
   "metadata": {},
   "outputs": [],
   "source": [
    "midwest['percent'] = (midwest['asian'] / midwest['total']) * 100"
   ]
  },
  {
   "cell_type": "code",
   "execution_count": null,
   "id": "4865ca77-6247-4329-aec5-09b1deea3178",
   "metadata": {},
   "outputs": [],
   "source": [
    "midwest['percent']"
   ]
  },
  {
   "cell_type": "code",
   "execution_count": null,
   "id": "39b4c387-3bc4-4443-aebe-b77557a94b93",
   "metadata": {},
   "outputs": [],
   "source": [
    "#문제4번"
   ]
  },
  {
   "cell_type": "code",
   "execution_count": null,
   "id": "4ed5ef09-a553-4022-8afd-5abf6ccfe635",
   "metadata": {},
   "outputs": [],
   "source": [
    "#np.where로 풀어봄\n",
    "midwest['percent'].mean()"
   ]
  },
  {
   "cell_type": "code",
   "execution_count": null,
   "id": "2ebfc5f6-8055-4cd2-8b3a-dca7a6d475d8",
   "metadata": {},
   "outputs": [],
   "source": [
    "import numpy as np"
   ]
  },
  {
   "cell_type": "code",
   "execution_count": null,
   "id": "05bf00ea-cc05-49f5-ba12-bab0c50d0791",
   "metadata": {},
   "outputs": [],
   "source": [
    "midwest['size'] = np.where(midwest['percent'] > midwest['percent'].mean(),\n",
    "                           'large', 'small')"
   ]
  },
  {
   "cell_type": "code",
   "execution_count": null,
   "id": "70964dbe-4b7a-43eb-aa35-b4e453270a63",
   "metadata": {},
   "outputs": [],
   "source": [
    "midwest['size'].value_counts()"
   ]
  },
  {
   "cell_type": "code",
   "execution_count": null,
   "id": "6900599f-59b4-4f2b-9051-30cf0830afbc",
   "metadata": {},
   "outputs": [],
   "source": [
    "#.apply로 풀어봄"
   ]
  },
  {
   "cell_type": "code",
   "execution_count": null,
   "id": "1c9e4b73-c67b-400b-ab34-796d48a73154",
   "metadata": {
    "tags": []
   },
   "outputs": [],
   "source": [
    "def isSize(percent, mean) :\n",
    "    if percent > mean :\n",
    "        return 'large'\n",
    "    return 'small'        "
   ]
  },
  {
   "cell_type": "code",
   "execution_count": null,
   "id": "c2c1d4aa-154b-4f8c-a8dd-a1351b740b32",
   "metadata": {},
   "outputs": [],
   "source": [
    "midwest['size2'] = \\\n",
    "midwest['percent'].apply(isSize, args=[midwest['percent'].mean()])"
   ]
  },
  {
   "cell_type": "code",
   "execution_count": null,
   "id": "a9c57fbc-6698-4396-8cc6-592473790a79",
   "metadata": {},
   "outputs": [],
   "source": [
    "midwest['size2'].value_counts()"
   ]
  },
  {
   "cell_type": "code",
   "execution_count": null,
   "id": "00c2899b-3222-41a7-a21d-82effbc4d9d1",
   "metadata": {},
   "outputs": [],
   "source": [
    "# p176 문제 풀기"
   ]
  },
  {
   "cell_type": "code",
   "execution_count": null,
   "id": "f94dc754-30e0-4373-a496-64efd1fe4c9b",
   "metadata": {},
   "outputs": [],
   "source": [
    "# 1번"
   ]
  },
  {
   "cell_type": "code",
   "execution_count": 1,
   "id": "6a538538-74cd-4572-9afe-e50c82522cd0",
   "metadata": {},
   "outputs": [],
   "source": [
    "import pandas as pd"
   ]
  },
  {
   "cell_type": "code",
   "execution_count": 2,
   "id": "229d9356-88c7-4f7b-8155-535ed5e21f76",
   "metadata": {},
   "outputs": [],
   "source": [
    "midwest = pd.read_csv('midwest.csv')"
   ]
  },
  {
   "cell_type": "code",
   "execution_count": 3,
   "id": "7e31c03e-4c13-45b4-8ba0-0f7f8bccbc96",
   "metadata": {
    "tags": []
   },
   "outputs": [
    {
     "data": {
      "text/html": [
       "<div>\n",
       "<style scoped>\n",
       "    .dataframe tbody tr th:only-of-type {\n",
       "        vertical-align: middle;\n",
       "    }\n",
       "\n",
       "    .dataframe tbody tr th {\n",
       "        vertical-align: top;\n",
       "    }\n",
       "\n",
       "    .dataframe thead th {\n",
       "        text-align: right;\n",
       "    }\n",
       "</style>\n",
       "<table border=\"1\" class=\"dataframe\">\n",
       "  <thead>\n",
       "    <tr style=\"text-align: right;\">\n",
       "      <th></th>\n",
       "      <th>PID</th>\n",
       "      <th>county</th>\n",
       "      <th>state</th>\n",
       "      <th>area</th>\n",
       "      <th>poptotal</th>\n",
       "      <th>popdensity</th>\n",
       "      <th>popwhite</th>\n",
       "      <th>popblack</th>\n",
       "      <th>popamerindian</th>\n",
       "      <th>popasian</th>\n",
       "      <th>...</th>\n",
       "      <th>percollege</th>\n",
       "      <th>percprof</th>\n",
       "      <th>poppovertyknown</th>\n",
       "      <th>percpovertyknown</th>\n",
       "      <th>percbelowpoverty</th>\n",
       "      <th>percchildbelowpovert</th>\n",
       "      <th>percadultpoverty</th>\n",
       "      <th>percelderlypoverty</th>\n",
       "      <th>inmetro</th>\n",
       "      <th>category</th>\n",
       "    </tr>\n",
       "  </thead>\n",
       "  <tbody>\n",
       "    <tr>\n",
       "      <th>0</th>\n",
       "      <td>561</td>\n",
       "      <td>ADAMS</td>\n",
       "      <td>IL</td>\n",
       "      <td>0.052</td>\n",
       "      <td>66090</td>\n",
       "      <td>1270.961540</td>\n",
       "      <td>63917</td>\n",
       "      <td>1702</td>\n",
       "      <td>98</td>\n",
       "      <td>249</td>\n",
       "      <td>...</td>\n",
       "      <td>19.631392</td>\n",
       "      <td>4.355859</td>\n",
       "      <td>63628</td>\n",
       "      <td>96.274777</td>\n",
       "      <td>13.151443</td>\n",
       "      <td>18.011717</td>\n",
       "      <td>11.009776</td>\n",
       "      <td>12.443812</td>\n",
       "      <td>0</td>\n",
       "      <td>AAR</td>\n",
       "    </tr>\n",
       "    <tr>\n",
       "      <th>1</th>\n",
       "      <td>562</td>\n",
       "      <td>ALEXANDER</td>\n",
       "      <td>IL</td>\n",
       "      <td>0.014</td>\n",
       "      <td>10626</td>\n",
       "      <td>759.000000</td>\n",
       "      <td>7054</td>\n",
       "      <td>3496</td>\n",
       "      <td>19</td>\n",
       "      <td>48</td>\n",
       "      <td>...</td>\n",
       "      <td>11.243308</td>\n",
       "      <td>2.870315</td>\n",
       "      <td>10529</td>\n",
       "      <td>99.087145</td>\n",
       "      <td>32.244278</td>\n",
       "      <td>45.826514</td>\n",
       "      <td>27.385647</td>\n",
       "      <td>25.228976</td>\n",
       "      <td>0</td>\n",
       "      <td>LHR</td>\n",
       "    </tr>\n",
       "    <tr>\n",
       "      <th>2</th>\n",
       "      <td>563</td>\n",
       "      <td>BOND</td>\n",
       "      <td>IL</td>\n",
       "      <td>0.022</td>\n",
       "      <td>14991</td>\n",
       "      <td>681.409091</td>\n",
       "      <td>14477</td>\n",
       "      <td>429</td>\n",
       "      <td>35</td>\n",
       "      <td>16</td>\n",
       "      <td>...</td>\n",
       "      <td>17.033819</td>\n",
       "      <td>4.488572</td>\n",
       "      <td>14235</td>\n",
       "      <td>94.956974</td>\n",
       "      <td>12.068844</td>\n",
       "      <td>14.036061</td>\n",
       "      <td>10.852090</td>\n",
       "      <td>12.697410</td>\n",
       "      <td>0</td>\n",
       "      <td>AAR</td>\n",
       "    </tr>\n",
       "    <tr>\n",
       "      <th>3</th>\n",
       "      <td>564</td>\n",
       "      <td>BOONE</td>\n",
       "      <td>IL</td>\n",
       "      <td>0.017</td>\n",
       "      <td>30806</td>\n",
       "      <td>1812.117650</td>\n",
       "      <td>29344</td>\n",
       "      <td>127</td>\n",
       "      <td>46</td>\n",
       "      <td>150</td>\n",
       "      <td>...</td>\n",
       "      <td>17.278954</td>\n",
       "      <td>4.197800</td>\n",
       "      <td>30337</td>\n",
       "      <td>98.477569</td>\n",
       "      <td>7.209019</td>\n",
       "      <td>11.179536</td>\n",
       "      <td>5.536013</td>\n",
       "      <td>6.217047</td>\n",
       "      <td>1</td>\n",
       "      <td>ALU</td>\n",
       "    </tr>\n",
       "    <tr>\n",
       "      <th>4</th>\n",
       "      <td>565</td>\n",
       "      <td>BROWN</td>\n",
       "      <td>IL</td>\n",
       "      <td>0.018</td>\n",
       "      <td>5836</td>\n",
       "      <td>324.222222</td>\n",
       "      <td>5264</td>\n",
       "      <td>547</td>\n",
       "      <td>14</td>\n",
       "      <td>5</td>\n",
       "      <td>...</td>\n",
       "      <td>14.475999</td>\n",
       "      <td>3.367680</td>\n",
       "      <td>4815</td>\n",
       "      <td>82.505140</td>\n",
       "      <td>13.520249</td>\n",
       "      <td>13.022889</td>\n",
       "      <td>11.143211</td>\n",
       "      <td>19.200000</td>\n",
       "      <td>0</td>\n",
       "      <td>AAR</td>\n",
       "    </tr>\n",
       "    <tr>\n",
       "      <th>...</th>\n",
       "      <td>...</td>\n",
       "      <td>...</td>\n",
       "      <td>...</td>\n",
       "      <td>...</td>\n",
       "      <td>...</td>\n",
       "      <td>...</td>\n",
       "      <td>...</td>\n",
       "      <td>...</td>\n",
       "      <td>...</td>\n",
       "      <td>...</td>\n",
       "      <td>...</td>\n",
       "      <td>...</td>\n",
       "      <td>...</td>\n",
       "      <td>...</td>\n",
       "      <td>...</td>\n",
       "      <td>...</td>\n",
       "      <td>...</td>\n",
       "      <td>...</td>\n",
       "      <td>...</td>\n",
       "      <td>...</td>\n",
       "      <td>...</td>\n",
       "    </tr>\n",
       "    <tr>\n",
       "      <th>432</th>\n",
       "      <td>3048</td>\n",
       "      <td>WAUKESHA</td>\n",
       "      <td>WI</td>\n",
       "      <td>0.034</td>\n",
       "      <td>304715</td>\n",
       "      <td>8962.205880</td>\n",
       "      <td>298313</td>\n",
       "      <td>1096</td>\n",
       "      <td>672</td>\n",
       "      <td>2699</td>\n",
       "      <td>...</td>\n",
       "      <td>35.396784</td>\n",
       "      <td>7.667090</td>\n",
       "      <td>299802</td>\n",
       "      <td>98.387674</td>\n",
       "      <td>3.121060</td>\n",
       "      <td>3.785820</td>\n",
       "      <td>2.590061</td>\n",
       "      <td>4.085479</td>\n",
       "      <td>1</td>\n",
       "      <td>HLU</td>\n",
       "    </tr>\n",
       "    <tr>\n",
       "      <th>433</th>\n",
       "      <td>3049</td>\n",
       "      <td>WAUPACA</td>\n",
       "      <td>WI</td>\n",
       "      <td>0.045</td>\n",
       "      <td>46104</td>\n",
       "      <td>1024.533330</td>\n",
       "      <td>45695</td>\n",
       "      <td>22</td>\n",
       "      <td>125</td>\n",
       "      <td>92</td>\n",
       "      <td>...</td>\n",
       "      <td>16.549869</td>\n",
       "      <td>3.138596</td>\n",
       "      <td>44412</td>\n",
       "      <td>96.330036</td>\n",
       "      <td>8.488697</td>\n",
       "      <td>10.071411</td>\n",
       "      <td>6.953799</td>\n",
       "      <td>10.338641</td>\n",
       "      <td>0</td>\n",
       "      <td>AAR</td>\n",
       "    </tr>\n",
       "    <tr>\n",
       "      <th>434</th>\n",
       "      <td>3050</td>\n",
       "      <td>WAUSHARA</td>\n",
       "      <td>WI</td>\n",
       "      <td>0.037</td>\n",
       "      <td>19385</td>\n",
       "      <td>523.918919</td>\n",
       "      <td>19094</td>\n",
       "      <td>29</td>\n",
       "      <td>70</td>\n",
       "      <td>43</td>\n",
       "      <td>...</td>\n",
       "      <td>15.064584</td>\n",
       "      <td>2.620907</td>\n",
       "      <td>19163</td>\n",
       "      <td>98.854785</td>\n",
       "      <td>13.786985</td>\n",
       "      <td>20.050708</td>\n",
       "      <td>11.695784</td>\n",
       "      <td>11.804558</td>\n",
       "      <td>0</td>\n",
       "      <td>AAR</td>\n",
       "    </tr>\n",
       "    <tr>\n",
       "      <th>435</th>\n",
       "      <td>3051</td>\n",
       "      <td>WINNEBAGO</td>\n",
       "      <td>WI</td>\n",
       "      <td>0.035</td>\n",
       "      <td>140320</td>\n",
       "      <td>4009.142860</td>\n",
       "      <td>136822</td>\n",
       "      <td>697</td>\n",
       "      <td>685</td>\n",
       "      <td>1728</td>\n",
       "      <td>...</td>\n",
       "      <td>24.995504</td>\n",
       "      <td>5.659847</td>\n",
       "      <td>133950</td>\n",
       "      <td>95.460376</td>\n",
       "      <td>8.804031</td>\n",
       "      <td>10.592031</td>\n",
       "      <td>8.660587</td>\n",
       "      <td>6.661094</td>\n",
       "      <td>1</td>\n",
       "      <td>HAU</td>\n",
       "    </tr>\n",
       "    <tr>\n",
       "      <th>436</th>\n",
       "      <td>3052</td>\n",
       "      <td>WOOD</td>\n",
       "      <td>WI</td>\n",
       "      <td>0.048</td>\n",
       "      <td>73605</td>\n",
       "      <td>1533.437500</td>\n",
       "      <td>72157</td>\n",
       "      <td>90</td>\n",
       "      <td>481</td>\n",
       "      <td>722</td>\n",
       "      <td>...</td>\n",
       "      <td>21.666382</td>\n",
       "      <td>4.583725</td>\n",
       "      <td>72685</td>\n",
       "      <td>98.750085</td>\n",
       "      <td>8.525831</td>\n",
       "      <td>11.162997</td>\n",
       "      <td>7.375656</td>\n",
       "      <td>7.882918</td>\n",
       "      <td>0</td>\n",
       "      <td>AAR</td>\n",
       "    </tr>\n",
       "  </tbody>\n",
       "</table>\n",
       "<p>437 rows × 28 columns</p>\n",
       "</div>"
      ],
      "text/plain": [
       "      PID     county state   area  poptotal   popdensity  popwhite  popblack  \\\n",
       "0     561      ADAMS    IL  0.052     66090  1270.961540     63917      1702   \n",
       "1     562  ALEXANDER    IL  0.014     10626   759.000000      7054      3496   \n",
       "2     563       BOND    IL  0.022     14991   681.409091     14477       429   \n",
       "3     564      BOONE    IL  0.017     30806  1812.117650     29344       127   \n",
       "4     565      BROWN    IL  0.018      5836   324.222222      5264       547   \n",
       "..    ...        ...   ...    ...       ...          ...       ...       ...   \n",
       "432  3048   WAUKESHA    WI  0.034    304715  8962.205880    298313      1096   \n",
       "433  3049    WAUPACA    WI  0.045     46104  1024.533330     45695        22   \n",
       "434  3050   WAUSHARA    WI  0.037     19385   523.918919     19094        29   \n",
       "435  3051  WINNEBAGO    WI  0.035    140320  4009.142860    136822       697   \n",
       "436  3052       WOOD    WI  0.048     73605  1533.437500     72157        90   \n",
       "\n",
       "     popamerindian  popasian  ...  percollege  percprof  poppovertyknown  \\\n",
       "0               98       249  ...   19.631392  4.355859            63628   \n",
       "1               19        48  ...   11.243308  2.870315            10529   \n",
       "2               35        16  ...   17.033819  4.488572            14235   \n",
       "3               46       150  ...   17.278954  4.197800            30337   \n",
       "4               14         5  ...   14.475999  3.367680             4815   \n",
       "..             ...       ...  ...         ...       ...              ...   \n",
       "432            672      2699  ...   35.396784  7.667090           299802   \n",
       "433            125        92  ...   16.549869  3.138596            44412   \n",
       "434             70        43  ...   15.064584  2.620907            19163   \n",
       "435            685      1728  ...   24.995504  5.659847           133950   \n",
       "436            481       722  ...   21.666382  4.583725            72685   \n",
       "\n",
       "     percpovertyknown  percbelowpoverty  percchildbelowpovert  \\\n",
       "0           96.274777         13.151443             18.011717   \n",
       "1           99.087145         32.244278             45.826514   \n",
       "2           94.956974         12.068844             14.036061   \n",
       "3           98.477569          7.209019             11.179536   \n",
       "4           82.505140         13.520249             13.022889   \n",
       "..                ...               ...                   ...   \n",
       "432         98.387674          3.121060              3.785820   \n",
       "433         96.330036          8.488697             10.071411   \n",
       "434         98.854785         13.786985             20.050708   \n",
       "435         95.460376          8.804031             10.592031   \n",
       "436         98.750085          8.525831             11.162997   \n",
       "\n",
       "     percadultpoverty  percelderlypoverty  inmetro  category  \n",
       "0           11.009776           12.443812        0       AAR  \n",
       "1           27.385647           25.228976        0       LHR  \n",
       "2           10.852090           12.697410        0       AAR  \n",
       "3            5.536013            6.217047        1       ALU  \n",
       "4           11.143211           19.200000        0       AAR  \n",
       "..                ...                 ...      ...       ...  \n",
       "432          2.590061            4.085479        1       HLU  \n",
       "433          6.953799           10.338641        0       AAR  \n",
       "434         11.695784           11.804558        0       AAR  \n",
       "435          8.660587            6.661094        1       HAU  \n",
       "436          7.375656            7.882918        0       AAR  \n",
       "\n",
       "[437 rows x 28 columns]"
      ]
     },
     "execution_count": 3,
     "metadata": {},
     "output_type": "execute_result"
    }
   ],
   "source": [
    "midwest"
   ]
  },
  {
   "cell_type": "code",
   "execution_count": 4,
   "id": "f0cf33f7-090f-4eac-98cd-e5a2dbf7098e",
   "metadata": {},
   "outputs": [],
   "source": [
    "midwest['menor']= ((midwest['poptotal']-midwest['popadults']) / (midwest['poptotal'])) * 100"
   ]
  },
  {
   "cell_type": "code",
   "execution_count": 5,
   "id": "75eaac70-0d76-4286-8266-555a8696e4a7",
   "metadata": {},
   "outputs": [
    {
     "data": {
      "text/plain": [
       "0      34.486307\n",
       "1      36.721250\n",
       "2      35.501301\n",
       "3      37.440758\n",
       "4      31.819740\n",
       "         ...    \n",
       "432    35.731093\n",
       "433    34.693302\n",
       "434    31.307712\n",
       "435    36.602052\n",
       "436    36.422797\n",
       "Name: menor, Length: 437, dtype: float64"
      ]
     },
     "execution_count": 5,
     "metadata": {},
     "output_type": "execute_result"
    }
   ],
   "source": [
    "midwest['menor']"
   ]
  },
  {
   "cell_type": "code",
   "execution_count": null,
   "id": "8fb890a4-b3e9-4022-b7f8-3a7abf7f35de",
   "metadata": {},
   "outputs": [],
   "source": []
  },
  {
   "cell_type": "code",
   "execution_count": 31,
   "id": "b91a584f-63c9-4353-83c7-a23dad718160",
   "metadata": {},
   "outputs": [
    {
     "data": {
      "text/html": [
       "<div>\n",
       "<style scoped>\n",
       "    .dataframe tbody tr th:only-of-type {\n",
       "        vertical-align: middle;\n",
       "    }\n",
       "\n",
       "    .dataframe tbody tr th {\n",
       "        vertical-align: top;\n",
       "    }\n",
       "\n",
       "    .dataframe thead th {\n",
       "        text-align: right;\n",
       "    }\n",
       "</style>\n",
       "<table border=\"1\" class=\"dataframe\">\n",
       "  <thead>\n",
       "    <tr style=\"text-align: right;\">\n",
       "      <th></th>\n",
       "      <th>poptotal</th>\n",
       "      <th>popadults</th>\n",
       "      <th>menor</th>\n",
       "      <th>adults</th>\n",
       "    </tr>\n",
       "  </thead>\n",
       "  <tbody>\n",
       "    <tr>\n",
       "      <th>0</th>\n",
       "      <td>66090</td>\n",
       "      <td>43298</td>\n",
       "      <td>34.486307</td>\n",
       "      <td>65.513693</td>\n",
       "    </tr>\n",
       "    <tr>\n",
       "      <th>1</th>\n",
       "      <td>10626</td>\n",
       "      <td>6724</td>\n",
       "      <td>36.721250</td>\n",
       "      <td>63.278750</td>\n",
       "    </tr>\n",
       "    <tr>\n",
       "      <th>2</th>\n",
       "      <td>14991</td>\n",
       "      <td>9669</td>\n",
       "      <td>35.501301</td>\n",
       "      <td>64.498699</td>\n",
       "    </tr>\n",
       "    <tr>\n",
       "      <th>3</th>\n",
       "      <td>30806</td>\n",
       "      <td>19272</td>\n",
       "      <td>37.440758</td>\n",
       "      <td>62.559242</td>\n",
       "    </tr>\n",
       "    <tr>\n",
       "      <th>4</th>\n",
       "      <td>5836</td>\n",
       "      <td>3979</td>\n",
       "      <td>31.819740</td>\n",
       "      <td>68.180260</td>\n",
       "    </tr>\n",
       "    <tr>\n",
       "      <th>...</th>\n",
       "      <td>...</td>\n",
       "      <td>...</td>\n",
       "      <td>...</td>\n",
       "      <td>...</td>\n",
       "    </tr>\n",
       "    <tr>\n",
       "      <th>432</th>\n",
       "      <td>304715</td>\n",
       "      <td>195837</td>\n",
       "      <td>35.731093</td>\n",
       "      <td>64.268907</td>\n",
       "    </tr>\n",
       "    <tr>\n",
       "      <th>433</th>\n",
       "      <td>46104</td>\n",
       "      <td>30109</td>\n",
       "      <td>34.693302</td>\n",
       "      <td>65.306698</td>\n",
       "    </tr>\n",
       "    <tr>\n",
       "      <th>434</th>\n",
       "      <td>19385</td>\n",
       "      <td>13316</td>\n",
       "      <td>31.307712</td>\n",
       "      <td>68.692288</td>\n",
       "    </tr>\n",
       "    <tr>\n",
       "      <th>435</th>\n",
       "      <td>140320</td>\n",
       "      <td>88960</td>\n",
       "      <td>36.602052</td>\n",
       "      <td>63.397948</td>\n",
       "    </tr>\n",
       "    <tr>\n",
       "      <th>436</th>\n",
       "      <td>73605</td>\n",
       "      <td>46796</td>\n",
       "      <td>36.422797</td>\n",
       "      <td>63.577203</td>\n",
       "    </tr>\n",
       "  </tbody>\n",
       "</table>\n",
       "<p>437 rows × 4 columns</p>\n",
       "</div>"
      ],
      "text/plain": [
       "     poptotal  popadults      menor     adults\n",
       "0       66090      43298  34.486307  65.513693\n",
       "1       10626       6724  36.721250  63.278750\n",
       "2       14991       9669  35.501301  64.498699\n",
       "3       30806      19272  37.440758  62.559242\n",
       "4        5836       3979  31.819740  68.180260\n",
       "..        ...        ...        ...        ...\n",
       "432    304715     195837  35.731093  64.268907\n",
       "433     46104      30109  34.693302  65.306698\n",
       "434     19385      13316  31.307712  68.692288\n",
       "435    140320      88960  36.602052  63.397948\n",
       "436     73605      46796  36.422797  63.577203\n",
       "\n",
       "[437 rows x 4 columns]"
      ]
     },
     "execution_count": 31,
     "metadata": {},
     "output_type": "execute_result"
    }
   ],
   "source": [
    "midwest[['poptotal', 'popadults', 'menor', 'adults']]"
   ]
  },
  {
   "cell_type": "code",
   "execution_count": 30,
   "id": "a87a0e5b-2693-4533-a388-f284ac0684f3",
   "metadata": {},
   "outputs": [],
   "source": [
    "midwest['adults']= midwest['popadults'] / midwest['poptotal'] * 100"
   ]
  },
  {
   "cell_type": "code",
   "execution_count": null,
   "id": "6f3feb9f-13ee-4444-9498-0b5921eb7d57",
   "metadata": {},
   "outputs": [],
   "source": [
    "m"
   ]
  },
  {
   "cell_type": "code",
   "execution_count": 34,
   "id": "c9ef87bd-4f86-4112-a0e0-735ea19c3aec",
   "metadata": {},
   "outputs": [],
   "source": [
    "midwest['grade'] = np.where(midwest['menor'] >= 40, 'large',\n",
    "        np.where(midwest['menor'] >= 30, 'middle', 'small'))"
   ]
  },
  {
   "cell_type": "code",
   "execution_count": 42,
   "id": "b8e4dc74-12e0-4540-bc66-1ee3ed21e685",
   "metadata": {},
   "outputs": [
    {
     "data": {
      "text/plain": [
       "middle    396\n",
       "large      32\n",
       "small       9\n",
       "Name: grade, dtype: int64"
      ]
     },
     "execution_count": 42,
     "metadata": {},
     "output_type": "execute_result"
    }
   ],
   "source": [
    "midwest['grade'].value_counts()"
   ]
  },
  {
   "cell_type": "code",
   "execution_count": 26,
   "id": "672b7e0f-0e15-429a-9848-a520ac2caaeb",
   "metadata": {},
   "outputs": [
    {
     "data": {
      "text/html": [
       "<div>\n",
       "<style scoped>\n",
       "    .dataframe tbody tr th:only-of-type {\n",
       "        vertical-align: middle;\n",
       "    }\n",
       "\n",
       "    .dataframe tbody tr th {\n",
       "        vertical-align: top;\n",
       "    }\n",
       "\n",
       "    .dataframe thead th {\n",
       "        text-align: right;\n",
       "    }\n",
       "</style>\n",
       "<table border=\"1\" class=\"dataframe\">\n",
       "  <thead>\n",
       "    <tr style=\"text-align: right;\">\n",
       "      <th></th>\n",
       "      <th>PID</th>\n",
       "      <th>county</th>\n",
       "      <th>state</th>\n",
       "      <th>area</th>\n",
       "      <th>poptotal</th>\n",
       "      <th>popdensity</th>\n",
       "      <th>popwhite</th>\n",
       "      <th>popblack</th>\n",
       "      <th>popamerindian</th>\n",
       "      <th>popasian</th>\n",
       "      <th>...</th>\n",
       "      <th>percprof</th>\n",
       "      <th>poppovertyknown</th>\n",
       "      <th>percpovertyknown</th>\n",
       "      <th>percbelowpoverty</th>\n",
       "      <th>percchildbelowpovert</th>\n",
       "      <th>percadultpoverty</th>\n",
       "      <th>percelderlypoverty</th>\n",
       "      <th>inmetro</th>\n",
       "      <th>category</th>\n",
       "      <th>menor</th>\n",
       "    </tr>\n",
       "  </thead>\n",
       "  <tbody>\n",
       "    <tr>\n",
       "      <th>0</th>\n",
       "      <td>561</td>\n",
       "      <td>ADAMS</td>\n",
       "      <td>IL</td>\n",
       "      <td>0.052</td>\n",
       "      <td>66090</td>\n",
       "      <td>1270.961540</td>\n",
       "      <td>63917</td>\n",
       "      <td>1702</td>\n",
       "      <td>98</td>\n",
       "      <td>249</td>\n",
       "      <td>...</td>\n",
       "      <td>4.355859</td>\n",
       "      <td>63628</td>\n",
       "      <td>96.274777</td>\n",
       "      <td>13.151443</td>\n",
       "      <td>18.011717</td>\n",
       "      <td>11.009776</td>\n",
       "      <td>12.443812</td>\n",
       "      <td>0</td>\n",
       "      <td>AAR</td>\n",
       "      <td>34.486307</td>\n",
       "    </tr>\n",
       "    <tr>\n",
       "      <th>1</th>\n",
       "      <td>562</td>\n",
       "      <td>ALEXANDER</td>\n",
       "      <td>IL</td>\n",
       "      <td>0.014</td>\n",
       "      <td>10626</td>\n",
       "      <td>759.000000</td>\n",
       "      <td>7054</td>\n",
       "      <td>3496</td>\n",
       "      <td>19</td>\n",
       "      <td>48</td>\n",
       "      <td>...</td>\n",
       "      <td>2.870315</td>\n",
       "      <td>10529</td>\n",
       "      <td>99.087145</td>\n",
       "      <td>32.244278</td>\n",
       "      <td>45.826514</td>\n",
       "      <td>27.385647</td>\n",
       "      <td>25.228976</td>\n",
       "      <td>0</td>\n",
       "      <td>LHR</td>\n",
       "      <td>36.721250</td>\n",
       "    </tr>\n",
       "    <tr>\n",
       "      <th>2</th>\n",
       "      <td>563</td>\n",
       "      <td>BOND</td>\n",
       "      <td>IL</td>\n",
       "      <td>0.022</td>\n",
       "      <td>14991</td>\n",
       "      <td>681.409091</td>\n",
       "      <td>14477</td>\n",
       "      <td>429</td>\n",
       "      <td>35</td>\n",
       "      <td>16</td>\n",
       "      <td>...</td>\n",
       "      <td>4.488572</td>\n",
       "      <td>14235</td>\n",
       "      <td>94.956974</td>\n",
       "      <td>12.068844</td>\n",
       "      <td>14.036061</td>\n",
       "      <td>10.852090</td>\n",
       "      <td>12.697410</td>\n",
       "      <td>0</td>\n",
       "      <td>AAR</td>\n",
       "      <td>35.501301</td>\n",
       "    </tr>\n",
       "    <tr>\n",
       "      <th>3</th>\n",
       "      <td>564</td>\n",
       "      <td>BOONE</td>\n",
       "      <td>IL</td>\n",
       "      <td>0.017</td>\n",
       "      <td>30806</td>\n",
       "      <td>1812.117650</td>\n",
       "      <td>29344</td>\n",
       "      <td>127</td>\n",
       "      <td>46</td>\n",
       "      <td>150</td>\n",
       "      <td>...</td>\n",
       "      <td>4.197800</td>\n",
       "      <td>30337</td>\n",
       "      <td>98.477569</td>\n",
       "      <td>7.209019</td>\n",
       "      <td>11.179536</td>\n",
       "      <td>5.536013</td>\n",
       "      <td>6.217047</td>\n",
       "      <td>1</td>\n",
       "      <td>ALU</td>\n",
       "      <td>37.440758</td>\n",
       "    </tr>\n",
       "    <tr>\n",
       "      <th>4</th>\n",
       "      <td>565</td>\n",
       "      <td>BROWN</td>\n",
       "      <td>IL</td>\n",
       "      <td>0.018</td>\n",
       "      <td>5836</td>\n",
       "      <td>324.222222</td>\n",
       "      <td>5264</td>\n",
       "      <td>547</td>\n",
       "      <td>14</td>\n",
       "      <td>5</td>\n",
       "      <td>...</td>\n",
       "      <td>3.367680</td>\n",
       "      <td>4815</td>\n",
       "      <td>82.505140</td>\n",
       "      <td>13.520249</td>\n",
       "      <td>13.022889</td>\n",
       "      <td>11.143211</td>\n",
       "      <td>19.200000</td>\n",
       "      <td>0</td>\n",
       "      <td>AAR</td>\n",
       "      <td>31.819740</td>\n",
       "    </tr>\n",
       "    <tr>\n",
       "      <th>...</th>\n",
       "      <td>...</td>\n",
       "      <td>...</td>\n",
       "      <td>...</td>\n",
       "      <td>...</td>\n",
       "      <td>...</td>\n",
       "      <td>...</td>\n",
       "      <td>...</td>\n",
       "      <td>...</td>\n",
       "      <td>...</td>\n",
       "      <td>...</td>\n",
       "      <td>...</td>\n",
       "      <td>...</td>\n",
       "      <td>...</td>\n",
       "      <td>...</td>\n",
       "      <td>...</td>\n",
       "      <td>...</td>\n",
       "      <td>...</td>\n",
       "      <td>...</td>\n",
       "      <td>...</td>\n",
       "      <td>...</td>\n",
       "      <td>...</td>\n",
       "    </tr>\n",
       "    <tr>\n",
       "      <th>432</th>\n",
       "      <td>3048</td>\n",
       "      <td>WAUKESHA</td>\n",
       "      <td>WI</td>\n",
       "      <td>0.034</td>\n",
       "      <td>304715</td>\n",
       "      <td>8962.205880</td>\n",
       "      <td>298313</td>\n",
       "      <td>1096</td>\n",
       "      <td>672</td>\n",
       "      <td>2699</td>\n",
       "      <td>...</td>\n",
       "      <td>7.667090</td>\n",
       "      <td>299802</td>\n",
       "      <td>98.387674</td>\n",
       "      <td>3.121060</td>\n",
       "      <td>3.785820</td>\n",
       "      <td>2.590061</td>\n",
       "      <td>4.085479</td>\n",
       "      <td>1</td>\n",
       "      <td>HLU</td>\n",
       "      <td>35.731093</td>\n",
       "    </tr>\n",
       "    <tr>\n",
       "      <th>433</th>\n",
       "      <td>3049</td>\n",
       "      <td>WAUPACA</td>\n",
       "      <td>WI</td>\n",
       "      <td>0.045</td>\n",
       "      <td>46104</td>\n",
       "      <td>1024.533330</td>\n",
       "      <td>45695</td>\n",
       "      <td>22</td>\n",
       "      <td>125</td>\n",
       "      <td>92</td>\n",
       "      <td>...</td>\n",
       "      <td>3.138596</td>\n",
       "      <td>44412</td>\n",
       "      <td>96.330036</td>\n",
       "      <td>8.488697</td>\n",
       "      <td>10.071411</td>\n",
       "      <td>6.953799</td>\n",
       "      <td>10.338641</td>\n",
       "      <td>0</td>\n",
       "      <td>AAR</td>\n",
       "      <td>34.693302</td>\n",
       "    </tr>\n",
       "    <tr>\n",
       "      <th>434</th>\n",
       "      <td>3050</td>\n",
       "      <td>WAUSHARA</td>\n",
       "      <td>WI</td>\n",
       "      <td>0.037</td>\n",
       "      <td>19385</td>\n",
       "      <td>523.918919</td>\n",
       "      <td>19094</td>\n",
       "      <td>29</td>\n",
       "      <td>70</td>\n",
       "      <td>43</td>\n",
       "      <td>...</td>\n",
       "      <td>2.620907</td>\n",
       "      <td>19163</td>\n",
       "      <td>98.854785</td>\n",
       "      <td>13.786985</td>\n",
       "      <td>20.050708</td>\n",
       "      <td>11.695784</td>\n",
       "      <td>11.804558</td>\n",
       "      <td>0</td>\n",
       "      <td>AAR</td>\n",
       "      <td>31.307712</td>\n",
       "    </tr>\n",
       "    <tr>\n",
       "      <th>435</th>\n",
       "      <td>3051</td>\n",
       "      <td>WINNEBAGO</td>\n",
       "      <td>WI</td>\n",
       "      <td>0.035</td>\n",
       "      <td>140320</td>\n",
       "      <td>4009.142860</td>\n",
       "      <td>136822</td>\n",
       "      <td>697</td>\n",
       "      <td>685</td>\n",
       "      <td>1728</td>\n",
       "      <td>...</td>\n",
       "      <td>5.659847</td>\n",
       "      <td>133950</td>\n",
       "      <td>95.460376</td>\n",
       "      <td>8.804031</td>\n",
       "      <td>10.592031</td>\n",
       "      <td>8.660587</td>\n",
       "      <td>6.661094</td>\n",
       "      <td>1</td>\n",
       "      <td>HAU</td>\n",
       "      <td>36.602052</td>\n",
       "    </tr>\n",
       "    <tr>\n",
       "      <th>436</th>\n",
       "      <td>3052</td>\n",
       "      <td>WOOD</td>\n",
       "      <td>WI</td>\n",
       "      <td>0.048</td>\n",
       "      <td>73605</td>\n",
       "      <td>1533.437500</td>\n",
       "      <td>72157</td>\n",
       "      <td>90</td>\n",
       "      <td>481</td>\n",
       "      <td>722</td>\n",
       "      <td>...</td>\n",
       "      <td>4.583725</td>\n",
       "      <td>72685</td>\n",
       "      <td>98.750085</td>\n",
       "      <td>8.525831</td>\n",
       "      <td>11.162997</td>\n",
       "      <td>7.375656</td>\n",
       "      <td>7.882918</td>\n",
       "      <td>0</td>\n",
       "      <td>AAR</td>\n",
       "      <td>36.422797</td>\n",
       "    </tr>\n",
       "  </tbody>\n",
       "</table>\n",
       "<p>437 rows × 29 columns</p>\n",
       "</div>"
      ],
      "text/plain": [
       "      PID     county state   area  poptotal   popdensity  popwhite  popblack  \\\n",
       "0     561      ADAMS    IL  0.052     66090  1270.961540     63917      1702   \n",
       "1     562  ALEXANDER    IL  0.014     10626   759.000000      7054      3496   \n",
       "2     563       BOND    IL  0.022     14991   681.409091     14477       429   \n",
       "3     564      BOONE    IL  0.017     30806  1812.117650     29344       127   \n",
       "4     565      BROWN    IL  0.018      5836   324.222222      5264       547   \n",
       "..    ...        ...   ...    ...       ...          ...       ...       ...   \n",
       "432  3048   WAUKESHA    WI  0.034    304715  8962.205880    298313      1096   \n",
       "433  3049    WAUPACA    WI  0.045     46104  1024.533330     45695        22   \n",
       "434  3050   WAUSHARA    WI  0.037     19385   523.918919     19094        29   \n",
       "435  3051  WINNEBAGO    WI  0.035    140320  4009.142860    136822       697   \n",
       "436  3052       WOOD    WI  0.048     73605  1533.437500     72157        90   \n",
       "\n",
       "     popamerindian  popasian  ...  percprof  poppovertyknown  \\\n",
       "0               98       249  ...  4.355859            63628   \n",
       "1               19        48  ...  2.870315            10529   \n",
       "2               35        16  ...  4.488572            14235   \n",
       "3               46       150  ...  4.197800            30337   \n",
       "4               14         5  ...  3.367680             4815   \n",
       "..             ...       ...  ...       ...              ...   \n",
       "432            672      2699  ...  7.667090           299802   \n",
       "433            125        92  ...  3.138596            44412   \n",
       "434             70        43  ...  2.620907            19163   \n",
       "435            685      1728  ...  5.659847           133950   \n",
       "436            481       722  ...  4.583725            72685   \n",
       "\n",
       "     percpovertyknown  percbelowpoverty  percchildbelowpovert  \\\n",
       "0           96.274777         13.151443             18.011717   \n",
       "1           99.087145         32.244278             45.826514   \n",
       "2           94.956974         12.068844             14.036061   \n",
       "3           98.477569          7.209019             11.179536   \n",
       "4           82.505140         13.520249             13.022889   \n",
       "..                ...               ...                   ...   \n",
       "432         98.387674          3.121060              3.785820   \n",
       "433         96.330036          8.488697             10.071411   \n",
       "434         98.854785         13.786985             20.050708   \n",
       "435         95.460376          8.804031             10.592031   \n",
       "436         98.750085          8.525831             11.162997   \n",
       "\n",
       "     percadultpoverty  percelderlypoverty  inmetro  category      menor  \n",
       "0           11.009776           12.443812        0       AAR  34.486307  \n",
       "1           27.385647           25.228976        0       LHR  36.721250  \n",
       "2           10.852090           12.697410        0       AAR  35.501301  \n",
       "3            5.536013            6.217047        1       ALU  37.440758  \n",
       "4           11.143211           19.200000        0       AAR  31.819740  \n",
       "..                ...                 ...      ...       ...        ...  \n",
       "432          2.590061            4.085479        1       HLU  35.731093  \n",
       "433          6.953799           10.338641        0       AAR  34.693302  \n",
       "434         11.695784           11.804558        0       AAR  31.307712  \n",
       "435          8.660587            6.661094        1       HAU  36.602052  \n",
       "436          7.375656            7.882918        0       AAR  36.422797  \n",
       "\n",
       "[437 rows x 29 columns]"
      ]
     },
     "execution_count": 26,
     "metadata": {},
     "output_type": "execute_result"
    }
   ],
   "source": [
    "midwest"
   ]
  },
  {
   "cell_type": "code",
   "execution_count": null,
   "id": "e4d9771d-d82a-46f5-ab71-a2702b706f47",
   "metadata": {},
   "outputs": [],
   "source": []
  },
  {
   "cell_type": "code",
   "execution_count": 7,
   "id": "5804a830-fe20-4624-a7b7-45a1d6d8b569",
   "metadata": {},
   "outputs": [],
   "source": [
    "# 2번"
   ]
  },
  {
   "cell_type": "markdown",
   "id": "0bc24dd6-8571-4f60-bbe3-54d074b80f76",
   "metadata": {},
   "source": [
    "midwest['menor'].sort_values()[['county', 'menor']]"
   ]
  },
  {
   "cell_type": "code",
   "execution_count": null,
   "id": "a59db3f5-fda1-4a3b-955f-e5c3da203def",
   "metadata": {},
   "outputs": [],
   "source": []
  },
  {
   "cell_type": "code",
   "execution_count": null,
   "id": "c85b7897-0d4c-4e98-990f-d6e3823d6a39",
   "metadata": {},
   "outputs": [],
   "source": []
  },
  {
   "cell_type": "code",
   "execution_count": 8,
   "id": "9c6f48b6-b68c-42ee-a8db-0ca80743d522",
   "metadata": {},
   "outputs": [
    {
     "data": {
      "text/html": [
       "<div>\n",
       "<style scoped>\n",
       "    .dataframe tbody tr th:only-of-type {\n",
       "        vertical-align: middle;\n",
       "    }\n",
       "\n",
       "    .dataframe tbody tr th {\n",
       "        vertical-align: top;\n",
       "    }\n",
       "\n",
       "    .dataframe thead th {\n",
       "        text-align: right;\n",
       "    }\n",
       "</style>\n",
       "<table border=\"1\" class=\"dataframe\">\n",
       "  <thead>\n",
       "    <tr style=\"text-align: right;\">\n",
       "      <th></th>\n",
       "      <th>county</th>\n",
       "      <th>menor</th>\n",
       "    </tr>\n",
       "  </thead>\n",
       "  <tbody>\n",
       "    <tr>\n",
       "      <th>235</th>\n",
       "      <td>KEWEENAW</td>\n",
       "      <td>24.338624</td>\n",
       "    </tr>\n",
       "    <tr>\n",
       "      <th>265</th>\n",
       "      <td>ROSCOMMON</td>\n",
       "      <td>27.007484</td>\n",
       "    </tr>\n",
       "    <tr>\n",
       "      <th>229</th>\n",
       "      <td>IRON</td>\n",
       "      <td>27.180266</td>\n",
       "    </tr>\n",
       "    <tr>\n",
       "      <th>194</th>\n",
       "      <td>ALCONA</td>\n",
       "      <td>27.373090</td>\n",
       "    </tr>\n",
       "    <tr>\n",
       "      <th>365</th>\n",
       "      <td>ADAMS</td>\n",
       "      <td>27.445479</td>\n",
       "    </tr>\n",
       "    <tr>\n",
       "      <th>...</th>\n",
       "      <td>...</td>\n",
       "      <td>...</td>\n",
       "    </tr>\n",
       "    <tr>\n",
       "      <th>154</th>\n",
       "      <td>MONROE</td>\n",
       "      <td>47.358182</td>\n",
       "    </tr>\n",
       "    <tr>\n",
       "      <th>247</th>\n",
       "      <td>MECOSTA</td>\n",
       "      <td>49.059183</td>\n",
       "    </tr>\n",
       "    <tr>\n",
       "      <th>281</th>\n",
       "      <td>ATHENS</td>\n",
       "      <td>49.320727</td>\n",
       "    </tr>\n",
       "    <tr>\n",
       "      <th>404</th>\n",
       "      <td>MENOMINEE</td>\n",
       "      <td>50.591260</td>\n",
       "    </tr>\n",
       "    <tr>\n",
       "      <th>230</th>\n",
       "      <td>ISABELLA</td>\n",
       "      <td>51.501172</td>\n",
       "    </tr>\n",
       "  </tbody>\n",
       "</table>\n",
       "<p>437 rows × 2 columns</p>\n",
       "</div>"
      ],
      "text/plain": [
       "        county      menor\n",
       "235   KEWEENAW  24.338624\n",
       "265  ROSCOMMON  27.007484\n",
       "229       IRON  27.180266\n",
       "194     ALCONA  27.373090\n",
       "365      ADAMS  27.445479\n",
       "..         ...        ...\n",
       "154     MONROE  47.358182\n",
       "247    MECOSTA  49.059183\n",
       "281     ATHENS  49.320727\n",
       "404  MENOMINEE  50.591260\n",
       "230   ISABELLA  51.501172\n",
       "\n",
       "[437 rows x 2 columns]"
      ]
     },
     "execution_count": 8,
     "metadata": {},
     "output_type": "execute_result"
    }
   ],
   "source": [
    "midwest.sort_values('menor')[['county', 'menor']]"
   ]
  },
  {
   "cell_type": "code",
   "execution_count": 9,
   "id": "a92c0276-c9d8-447d-8b03-eeb6d1f7f8ee",
   "metadata": {},
   "outputs": [
    {
     "data": {
      "text/html": [
       "<div>\n",
       "<style scoped>\n",
       "    .dataframe tbody tr th:only-of-type {\n",
       "        vertical-align: middle;\n",
       "    }\n",
       "\n",
       "    .dataframe tbody tr th {\n",
       "        vertical-align: top;\n",
       "    }\n",
       "\n",
       "    .dataframe thead th {\n",
       "        text-align: right;\n",
       "    }\n",
       "</style>\n",
       "<table border=\"1\" class=\"dataframe\">\n",
       "  <thead>\n",
       "    <tr style=\"text-align: right;\">\n",
       "      <th></th>\n",
       "      <th>county</th>\n",
       "      <th>menor</th>\n",
       "    </tr>\n",
       "  </thead>\n",
       "  <tbody>\n",
       "    <tr>\n",
       "      <th>230</th>\n",
       "      <td>ISABELLA</td>\n",
       "      <td>51.501172</td>\n",
       "    </tr>\n",
       "    <tr>\n",
       "      <th>404</th>\n",
       "      <td>MENOMINEE</td>\n",
       "      <td>50.591260</td>\n",
       "    </tr>\n",
       "    <tr>\n",
       "      <th>281</th>\n",
       "      <td>ATHENS</td>\n",
       "      <td>49.320727</td>\n",
       "    </tr>\n",
       "    <tr>\n",
       "      <th>247</th>\n",
       "      <td>MECOSTA</td>\n",
       "      <td>49.059183</td>\n",
       "    </tr>\n",
       "    <tr>\n",
       "      <th>154</th>\n",
       "      <td>MONROE</td>\n",
       "      <td>47.358182</td>\n",
       "    </tr>\n",
       "  </tbody>\n",
       "</table>\n",
       "</div>"
      ],
      "text/plain": [
       "        county      menor\n",
       "230   ISABELLA  51.501172\n",
       "404  MENOMINEE  50.591260\n",
       "281     ATHENS  49.320727\n",
       "247    MECOSTA  49.059183\n",
       "154     MONROE  47.358182"
      ]
     },
     "execution_count": 9,
     "metadata": {},
     "output_type": "execute_result"
    }
   ],
   "source": [
    "midwest.sort_values('menor', ascending=False)[['county', 'menor']][:5]"
   ]
  },
  {
   "cell_type": "code",
   "execution_count": 10,
   "id": "af177fad-b135-45ca-9669-57dd8493cd7c",
   "metadata": {},
   "outputs": [
    {
     "data": {
      "text/html": [
       "<div>\n",
       "<style scoped>\n",
       "    .dataframe tbody tr th:only-of-type {\n",
       "        vertical-align: middle;\n",
       "    }\n",
       "\n",
       "    .dataframe tbody tr th {\n",
       "        vertical-align: top;\n",
       "    }\n",
       "\n",
       "    .dataframe thead th {\n",
       "        text-align: right;\n",
       "    }\n",
       "</style>\n",
       "<table border=\"1\" class=\"dataframe\">\n",
       "  <thead>\n",
       "    <tr style=\"text-align: right;\">\n",
       "      <th></th>\n",
       "      <th>county</th>\n",
       "      <th>menor</th>\n",
       "    </tr>\n",
       "  </thead>\n",
       "  <tbody>\n",
       "    <tr>\n",
       "      <th>230</th>\n",
       "      <td>ISABELLA</td>\n",
       "      <td>51.501172</td>\n",
       "    </tr>\n",
       "    <tr>\n",
       "      <th>404</th>\n",
       "      <td>MENOMINEE</td>\n",
       "      <td>50.591260</td>\n",
       "    </tr>\n",
       "    <tr>\n",
       "      <th>281</th>\n",
       "      <td>ATHENS</td>\n",
       "      <td>49.320727</td>\n",
       "    </tr>\n",
       "    <tr>\n",
       "      <th>247</th>\n",
       "      <td>MECOSTA</td>\n",
       "      <td>49.059183</td>\n",
       "    </tr>\n",
       "    <tr>\n",
       "      <th>154</th>\n",
       "      <td>MONROE</td>\n",
       "      <td>47.358182</td>\n",
       "    </tr>\n",
       "  </tbody>\n",
       "</table>\n",
       "</div>"
      ],
      "text/plain": [
       "        county      menor\n",
       "230   ISABELLA  51.501172\n",
       "404  MENOMINEE  50.591260\n",
       "281     ATHENS  49.320727\n",
       "247    MECOSTA  49.059183\n",
       "154     MONROE  47.358182"
      ]
     },
     "execution_count": 10,
     "metadata": {},
     "output_type": "execute_result"
    }
   ],
   "source": [
    "midwest.sort_values('menor', ascending=False)[['county', 'menor']].head()"
   ]
  },
  {
   "cell_type": "code",
   "execution_count": 11,
   "id": "aa00fe89-4d80-4b97-a4b0-8ce564bf8916",
   "metadata": {},
   "outputs": [],
   "source": [
    "# 3번"
   ]
  },
  {
   "cell_type": "code",
   "execution_count": 45,
   "id": "e4cf7a37-16d2-444d-a91c-193d7c7aa4b2",
   "metadata": {},
   "outputs": [
    {
     "data": {
      "text/html": [
       "<div>\n",
       "<style scoped>\n",
       "    .dataframe tbody tr th:only-of-type {\n",
       "        vertical-align: middle;\n",
       "    }\n",
       "\n",
       "    .dataframe tbody tr th {\n",
       "        vertical-align: top;\n",
       "    }\n",
       "\n",
       "    .dataframe thead th {\n",
       "        text-align: right;\n",
       "    }\n",
       "</style>\n",
       "<table border=\"1\" class=\"dataframe\">\n",
       "  <thead>\n",
       "    <tr style=\"text-align: right;\">\n",
       "      <th></th>\n",
       "      <th>county</th>\n",
       "      <th>menor</th>\n",
       "    </tr>\n",
       "  </thead>\n",
       "  <tbody>\n",
       "    <tr>\n",
       "      <th>230</th>\n",
       "      <td>ISABELLA</td>\n",
       "      <td>51.501172</td>\n",
       "    </tr>\n",
       "    <tr>\n",
       "      <th>404</th>\n",
       "      <td>MENOMINEE</td>\n",
       "      <td>50.591260</td>\n",
       "    </tr>\n",
       "    <tr>\n",
       "      <th>281</th>\n",
       "      <td>ATHENS</td>\n",
       "      <td>49.320727</td>\n",
       "    </tr>\n",
       "    <tr>\n",
       "      <th>247</th>\n",
       "      <td>MECOSTA</td>\n",
       "      <td>49.059183</td>\n",
       "    </tr>\n",
       "    <tr>\n",
       "      <th>154</th>\n",
       "      <td>MONROE</td>\n",
       "      <td>47.358182</td>\n",
       "    </tr>\n",
       "  </tbody>\n",
       "</table>\n",
       "</div>"
      ],
      "text/plain": [
       "        county      menor\n",
       "230   ISABELLA  51.501172\n",
       "404  MENOMINEE  50.591260\n",
       "281     ATHENS  49.320727\n",
       "247    MECOSTA  49.059183\n",
       "154     MONROE  47.358182"
      ]
     },
     "execution_count": 45,
     "metadata": {},
     "output_type": "execute_result"
    }
   ],
   "source": [
    "midwest.sort_values('menor', ascending = False)[['county', 'menor']].head()"
   ]
  },
  {
   "cell_type": "code",
   "execution_count": 46,
   "id": "3f5885d0-4dc2-4f3a-b923-5febc834e807",
   "metadata": {},
   "outputs": [
    {
     "data": {
      "text/html": [
       "<div>\n",
       "<style scoped>\n",
       "    .dataframe tbody tr th:only-of-type {\n",
       "        vertical-align: middle;\n",
       "    }\n",
       "\n",
       "    .dataframe tbody tr th {\n",
       "        vertical-align: top;\n",
       "    }\n",
       "\n",
       "    .dataframe thead th {\n",
       "        text-align: right;\n",
       "    }\n",
       "</style>\n",
       "<table border=\"1\" class=\"dataframe\">\n",
       "  <thead>\n",
       "    <tr style=\"text-align: right;\">\n",
       "      <th></th>\n",
       "      <th>county</th>\n",
       "    </tr>\n",
       "  </thead>\n",
       "  <tbody>\n",
       "    <tr>\n",
       "      <th>230</th>\n",
       "      <td>ISABELLA</td>\n",
       "    </tr>\n",
       "    <tr>\n",
       "      <th>404</th>\n",
       "      <td>MENOMINEE</td>\n",
       "    </tr>\n",
       "    <tr>\n",
       "      <th>281</th>\n",
       "      <td>ATHENS</td>\n",
       "    </tr>\n",
       "    <tr>\n",
       "      <th>247</th>\n",
       "      <td>MECOSTA</td>\n",
       "    </tr>\n",
       "    <tr>\n",
       "      <th>154</th>\n",
       "      <td>MONROE</td>\n",
       "    </tr>\n",
       "  </tbody>\n",
       "</table>\n",
       "</div>"
      ],
      "text/plain": [
       "        county\n",
       "230   ISABELLA\n",
       "404  MENOMINEE\n",
       "281     ATHENS\n",
       "247    MECOSTA\n",
       "154     MONROE"
      ]
     },
     "execution_count": 46,
     "metadata": {},
     "output_type": "execute_result"
    }
   ],
   "source": [
    "midwest.sort_values('menor', ascending = False)[['county']].head()"
   ]
  },
  {
   "cell_type": "code",
   "execution_count": 14,
   "id": "7a9b63b5-22f4-41b4-adc3-46755aa9e396",
   "metadata": {},
   "outputs": [],
   "source": [
    "import numpy as np"
   ]
  },
  {
   "cell_type": "code",
   "execution_count": null,
   "id": "63789b2f-2bf7-48a7-8b64-2bdc758b5b21",
   "metadata": {},
   "outputs": [],
   "source": []
  },
  {
   "cell_type": "code",
   "execution_count": 24,
   "id": "234df1b8-f946-47ae-9eb1-e8d2c34b86e6",
   "metadata": {
    "tags": []
   },
   "outputs": [
    {
     "data": {
      "text/plain": [
       "((array([  9,  14,  18,  38,  54,  56, 102, 119, 145, 154, 180, 224, 226,\n",
       "         227, 230, 245, 247, 263, 274, 281, 309, 314, 343, 345, 363, 381,\n",
       "         382, 386, 396, 404, 412, 414], dtype=int64),),\n",
       " 'large',\n",
       " array(['middle', 'middle', 'middle', 'middle', 'middle', 'middle',\n",
       "        'middle', 'middle', 'middle', 'middle', 'middle', 'middle',\n",
       "        'middle', 'middle', 'middle', 'middle', 'middle', 'middle',\n",
       "        'middle', 'middle', 'middle', 'middle', 'middle', 'middle',\n",
       "        'middle', 'middle', 'middle', 'middle', 'middle', 'middle',\n",
       "        'middle', 'middle', 'middle', 'middle', 'middle', 'middle',\n",
       "        'middle', 'middle', 'middle', 'middle', 'middle', 'middle',\n",
       "        'middle', 'middle', 'middle', 'middle', 'middle', 'middle',\n",
       "        'middle', 'middle', 'middle', 'middle', 'middle', 'middle',\n",
       "        'middle', 'middle', 'middle', 'middle', 'middle', 'middle',\n",
       "        'middle', 'middle', 'middle', 'middle', 'middle', 'middle',\n",
       "        'middle', 'middle', 'middle', 'middle', 'middle', 'middle',\n",
       "        'middle', 'middle', 'middle', 'middle', 'middle', 'middle',\n",
       "        'middle', 'middle', 'middle', 'middle', 'middle', 'middle',\n",
       "        'middle', 'middle', 'middle', 'middle', 'middle', 'middle',\n",
       "        'middle', 'middle', 'middle', 'middle', 'middle', 'middle',\n",
       "        'middle', 'middle', 'middle', 'middle', 'middle', 'middle',\n",
       "        'middle', 'middle', 'middle', 'middle', 'middle', 'middle',\n",
       "        'middle', 'middle', 'middle', 'middle', 'middle', 'middle',\n",
       "        'middle', 'middle', 'middle', 'middle', 'middle', 'middle',\n",
       "        'middle', 'middle', 'middle', 'middle', 'middle', 'middle',\n",
       "        'middle', 'middle', 'middle', 'middle', 'middle', 'middle',\n",
       "        'middle', 'middle', 'middle', 'middle', 'middle', 'middle',\n",
       "        'middle', 'middle', 'middle', 'middle', 'middle', 'middle',\n",
       "        'middle', 'middle', 'middle', 'middle', 'middle', 'middle',\n",
       "        'middle', 'middle', 'middle', 'middle', 'middle', 'middle',\n",
       "        'middle', 'middle', 'middle', 'middle', 'middle', 'middle',\n",
       "        'middle', 'middle', 'middle', 'middle', 'middle', 'middle',\n",
       "        'middle', 'middle', 'middle', 'middle', 'middle', 'middle',\n",
       "        'middle', 'middle', 'middle', 'middle', 'middle', 'middle',\n",
       "        'middle', 'middle', 'middle', 'middle', 'middle', 'middle',\n",
       "        'middle', 'middle', 'middle', 'middle', 'middle', 'middle',\n",
       "        'middle', 'middle', 'small', 'middle', 'middle', 'middle',\n",
       "        'middle', 'middle', 'middle', 'middle', 'middle', 'middle',\n",
       "        'middle', 'middle', 'middle', 'middle', 'middle', 'middle',\n",
       "        'middle', 'middle', 'middle', 'middle', 'middle', 'middle',\n",
       "        'middle', 'middle', 'middle', 'middle', 'middle', 'middle',\n",
       "        'middle', 'middle', 'middle', 'middle', 'middle', 'middle',\n",
       "        'middle', 'small', 'middle', 'middle', 'middle', 'middle',\n",
       "        'middle', 'small', 'middle', 'middle', 'middle', 'middle',\n",
       "        'middle', 'middle', 'middle', 'middle', 'middle', 'middle',\n",
       "        'middle', 'middle', 'middle', 'middle', 'middle', 'middle',\n",
       "        'middle', 'small', 'middle', 'middle', 'middle', 'middle',\n",
       "        'middle', 'small', 'middle', 'middle', 'middle', 'middle',\n",
       "        'middle', 'small', 'middle', 'middle', 'middle', 'middle',\n",
       "        'middle', 'middle', 'middle', 'middle', 'middle', 'middle',\n",
       "        'middle', 'middle', 'middle', 'middle', 'middle', 'middle',\n",
       "        'middle', 'middle', 'middle', 'middle', 'middle', 'middle',\n",
       "        'middle', 'middle', 'middle', 'middle', 'middle', 'middle',\n",
       "        'middle', 'middle', 'middle', 'middle', 'middle', 'middle',\n",
       "        'middle', 'middle', 'middle', 'middle', 'middle', 'middle',\n",
       "        'middle', 'middle', 'middle', 'middle', 'middle', 'middle',\n",
       "        'middle', 'middle', 'middle', 'middle', 'middle', 'middle',\n",
       "        'middle', 'middle', 'middle', 'middle', 'middle', 'middle',\n",
       "        'middle', 'middle', 'middle', 'middle', 'middle', 'middle',\n",
       "        'middle', 'middle', 'middle', 'middle', 'middle', 'middle',\n",
       "        'middle', 'middle', 'middle', 'middle', 'middle', 'middle',\n",
       "        'middle', 'middle', 'middle', 'middle', 'middle', 'middle',\n",
       "        'middle', 'middle', 'middle', 'middle', 'middle', 'middle',\n",
       "        'middle', 'middle', 'middle', 'middle', 'middle', 'middle',\n",
       "        'middle', 'middle', 'middle', 'middle', 'middle', 'small',\n",
       "        'middle', 'middle', 'middle', 'middle', 'middle', 'middle',\n",
       "        'middle', 'middle', 'middle', 'middle', 'middle', 'middle',\n",
       "        'middle', 'middle', 'middle', 'middle', 'middle', 'middle',\n",
       "        'middle', 'middle', 'middle', 'middle', 'middle', 'middle',\n",
       "        'small', 'middle', 'middle', 'middle', 'middle', 'middle',\n",
       "        'middle', 'middle', 'middle', 'middle', 'middle', 'middle',\n",
       "        'middle', 'middle', 'middle', 'middle', 'middle', 'middle',\n",
       "        'middle', 'middle', 'middle', 'middle', 'middle', 'middle',\n",
       "        'middle', 'middle', 'middle', 'middle', 'middle', 'middle',\n",
       "        'middle', 'middle', 'middle', 'middle', 'middle', 'middle',\n",
       "        'middle', 'middle', 'small', 'middle', 'middle', 'middle',\n",
       "        'middle', 'middle', 'middle', 'middle', 'middle'], dtype='<U6'))"
      ]
     },
     "execution_count": 24,
     "metadata": {},
     "output_type": "execute_result"
    }
   ],
   "source": [
    "np.where(midwest['menor'] >= 40), 'large', np.where(midwest['menor'] >= 30, 'middle', 'small') "
   ]
  },
  {
   "cell_type": "code",
   "execution_count": null,
   "id": "fed50dca-e5f9-413e-a34c-60ce20ff8113",
   "metadata": {},
   "outputs": [],
   "source": []
  },
  {
   "cell_type": "code",
   "execution_count": 47,
   "id": "850eca0b-23a7-4759-a964-b7e1d29a8c19",
   "metadata": {},
   "outputs": [
    {
     "data": {
      "text/html": [
       "<div>\n",
       "<style scoped>\n",
       "    .dataframe tbody tr th:only-of-type {\n",
       "        vertical-align: middle;\n",
       "    }\n",
       "\n",
       "    .dataframe tbody tr th {\n",
       "        vertical-align: top;\n",
       "    }\n",
       "\n",
       "    .dataframe thead th {\n",
       "        text-align: right;\n",
       "    }\n",
       "</style>\n",
       "<table border=\"1\" class=\"dataframe\">\n",
       "  <thead>\n",
       "    <tr style=\"text-align: right;\">\n",
       "      <th></th>\n",
       "      <th>PID</th>\n",
       "      <th>county</th>\n",
       "      <th>state</th>\n",
       "      <th>area</th>\n",
       "      <th>poptotal</th>\n",
       "      <th>popdensity</th>\n",
       "      <th>popwhite</th>\n",
       "      <th>popblack</th>\n",
       "      <th>popamerindian</th>\n",
       "      <th>popasian</th>\n",
       "      <th>...</th>\n",
       "      <th>percpovertyknown</th>\n",
       "      <th>percbelowpoverty</th>\n",
       "      <th>percchildbelowpovert</th>\n",
       "      <th>percadultpoverty</th>\n",
       "      <th>percelderlypoverty</th>\n",
       "      <th>inmetro</th>\n",
       "      <th>category</th>\n",
       "      <th>menor</th>\n",
       "      <th>adults</th>\n",
       "      <th>grade</th>\n",
       "    </tr>\n",
       "  </thead>\n",
       "  <tbody>\n",
       "    <tr>\n",
       "      <th>0</th>\n",
       "      <td>561</td>\n",
       "      <td>ADAMS</td>\n",
       "      <td>IL</td>\n",
       "      <td>0.052</td>\n",
       "      <td>66090</td>\n",
       "      <td>1270.961540</td>\n",
       "      <td>63917</td>\n",
       "      <td>1702</td>\n",
       "      <td>98</td>\n",
       "      <td>249</td>\n",
       "      <td>...</td>\n",
       "      <td>96.274777</td>\n",
       "      <td>13.151443</td>\n",
       "      <td>18.011717</td>\n",
       "      <td>11.009776</td>\n",
       "      <td>12.443812</td>\n",
       "      <td>0</td>\n",
       "      <td>AAR</td>\n",
       "      <td>34.486307</td>\n",
       "      <td>65.513693</td>\n",
       "      <td>middle</td>\n",
       "    </tr>\n",
       "    <tr>\n",
       "      <th>1</th>\n",
       "      <td>562</td>\n",
       "      <td>ALEXANDER</td>\n",
       "      <td>IL</td>\n",
       "      <td>0.014</td>\n",
       "      <td>10626</td>\n",
       "      <td>759.000000</td>\n",
       "      <td>7054</td>\n",
       "      <td>3496</td>\n",
       "      <td>19</td>\n",
       "      <td>48</td>\n",
       "      <td>...</td>\n",
       "      <td>99.087145</td>\n",
       "      <td>32.244278</td>\n",
       "      <td>45.826514</td>\n",
       "      <td>27.385647</td>\n",
       "      <td>25.228976</td>\n",
       "      <td>0</td>\n",
       "      <td>LHR</td>\n",
       "      <td>36.721250</td>\n",
       "      <td>63.278750</td>\n",
       "      <td>middle</td>\n",
       "    </tr>\n",
       "    <tr>\n",
       "      <th>2</th>\n",
       "      <td>563</td>\n",
       "      <td>BOND</td>\n",
       "      <td>IL</td>\n",
       "      <td>0.022</td>\n",
       "      <td>14991</td>\n",
       "      <td>681.409091</td>\n",
       "      <td>14477</td>\n",
       "      <td>429</td>\n",
       "      <td>35</td>\n",
       "      <td>16</td>\n",
       "      <td>...</td>\n",
       "      <td>94.956974</td>\n",
       "      <td>12.068844</td>\n",
       "      <td>14.036061</td>\n",
       "      <td>10.852090</td>\n",
       "      <td>12.697410</td>\n",
       "      <td>0</td>\n",
       "      <td>AAR</td>\n",
       "      <td>35.501301</td>\n",
       "      <td>64.498699</td>\n",
       "      <td>middle</td>\n",
       "    </tr>\n",
       "    <tr>\n",
       "      <th>3</th>\n",
       "      <td>564</td>\n",
       "      <td>BOONE</td>\n",
       "      <td>IL</td>\n",
       "      <td>0.017</td>\n",
       "      <td>30806</td>\n",
       "      <td>1812.117650</td>\n",
       "      <td>29344</td>\n",
       "      <td>127</td>\n",
       "      <td>46</td>\n",
       "      <td>150</td>\n",
       "      <td>...</td>\n",
       "      <td>98.477569</td>\n",
       "      <td>7.209019</td>\n",
       "      <td>11.179536</td>\n",
       "      <td>5.536013</td>\n",
       "      <td>6.217047</td>\n",
       "      <td>1</td>\n",
       "      <td>ALU</td>\n",
       "      <td>37.440758</td>\n",
       "      <td>62.559242</td>\n",
       "      <td>middle</td>\n",
       "    </tr>\n",
       "    <tr>\n",
       "      <th>4</th>\n",
       "      <td>565</td>\n",
       "      <td>BROWN</td>\n",
       "      <td>IL</td>\n",
       "      <td>0.018</td>\n",
       "      <td>5836</td>\n",
       "      <td>324.222222</td>\n",
       "      <td>5264</td>\n",
       "      <td>547</td>\n",
       "      <td>14</td>\n",
       "      <td>5</td>\n",
       "      <td>...</td>\n",
       "      <td>82.505140</td>\n",
       "      <td>13.520249</td>\n",
       "      <td>13.022889</td>\n",
       "      <td>11.143211</td>\n",
       "      <td>19.200000</td>\n",
       "      <td>0</td>\n",
       "      <td>AAR</td>\n",
       "      <td>31.819740</td>\n",
       "      <td>68.180260</td>\n",
       "      <td>middle</td>\n",
       "    </tr>\n",
       "    <tr>\n",
       "      <th>...</th>\n",
       "      <td>...</td>\n",
       "      <td>...</td>\n",
       "      <td>...</td>\n",
       "      <td>...</td>\n",
       "      <td>...</td>\n",
       "      <td>...</td>\n",
       "      <td>...</td>\n",
       "      <td>...</td>\n",
       "      <td>...</td>\n",
       "      <td>...</td>\n",
       "      <td>...</td>\n",
       "      <td>...</td>\n",
       "      <td>...</td>\n",
       "      <td>...</td>\n",
       "      <td>...</td>\n",
       "      <td>...</td>\n",
       "      <td>...</td>\n",
       "      <td>...</td>\n",
       "      <td>...</td>\n",
       "      <td>...</td>\n",
       "      <td>...</td>\n",
       "    </tr>\n",
       "    <tr>\n",
       "      <th>432</th>\n",
       "      <td>3048</td>\n",
       "      <td>WAUKESHA</td>\n",
       "      <td>WI</td>\n",
       "      <td>0.034</td>\n",
       "      <td>304715</td>\n",
       "      <td>8962.205880</td>\n",
       "      <td>298313</td>\n",
       "      <td>1096</td>\n",
       "      <td>672</td>\n",
       "      <td>2699</td>\n",
       "      <td>...</td>\n",
       "      <td>98.387674</td>\n",
       "      <td>3.121060</td>\n",
       "      <td>3.785820</td>\n",
       "      <td>2.590061</td>\n",
       "      <td>4.085479</td>\n",
       "      <td>1</td>\n",
       "      <td>HLU</td>\n",
       "      <td>35.731093</td>\n",
       "      <td>64.268907</td>\n",
       "      <td>middle</td>\n",
       "    </tr>\n",
       "    <tr>\n",
       "      <th>433</th>\n",
       "      <td>3049</td>\n",
       "      <td>WAUPACA</td>\n",
       "      <td>WI</td>\n",
       "      <td>0.045</td>\n",
       "      <td>46104</td>\n",
       "      <td>1024.533330</td>\n",
       "      <td>45695</td>\n",
       "      <td>22</td>\n",
       "      <td>125</td>\n",
       "      <td>92</td>\n",
       "      <td>...</td>\n",
       "      <td>96.330036</td>\n",
       "      <td>8.488697</td>\n",
       "      <td>10.071411</td>\n",
       "      <td>6.953799</td>\n",
       "      <td>10.338641</td>\n",
       "      <td>0</td>\n",
       "      <td>AAR</td>\n",
       "      <td>34.693302</td>\n",
       "      <td>65.306698</td>\n",
       "      <td>middle</td>\n",
       "    </tr>\n",
       "    <tr>\n",
       "      <th>434</th>\n",
       "      <td>3050</td>\n",
       "      <td>WAUSHARA</td>\n",
       "      <td>WI</td>\n",
       "      <td>0.037</td>\n",
       "      <td>19385</td>\n",
       "      <td>523.918919</td>\n",
       "      <td>19094</td>\n",
       "      <td>29</td>\n",
       "      <td>70</td>\n",
       "      <td>43</td>\n",
       "      <td>...</td>\n",
       "      <td>98.854785</td>\n",
       "      <td>13.786985</td>\n",
       "      <td>20.050708</td>\n",
       "      <td>11.695784</td>\n",
       "      <td>11.804558</td>\n",
       "      <td>0</td>\n",
       "      <td>AAR</td>\n",
       "      <td>31.307712</td>\n",
       "      <td>68.692288</td>\n",
       "      <td>middle</td>\n",
       "    </tr>\n",
       "    <tr>\n",
       "      <th>435</th>\n",
       "      <td>3051</td>\n",
       "      <td>WINNEBAGO</td>\n",
       "      <td>WI</td>\n",
       "      <td>0.035</td>\n",
       "      <td>140320</td>\n",
       "      <td>4009.142860</td>\n",
       "      <td>136822</td>\n",
       "      <td>697</td>\n",
       "      <td>685</td>\n",
       "      <td>1728</td>\n",
       "      <td>...</td>\n",
       "      <td>95.460376</td>\n",
       "      <td>8.804031</td>\n",
       "      <td>10.592031</td>\n",
       "      <td>8.660587</td>\n",
       "      <td>6.661094</td>\n",
       "      <td>1</td>\n",
       "      <td>HAU</td>\n",
       "      <td>36.602052</td>\n",
       "      <td>63.397948</td>\n",
       "      <td>middle</td>\n",
       "    </tr>\n",
       "    <tr>\n",
       "      <th>436</th>\n",
       "      <td>3052</td>\n",
       "      <td>WOOD</td>\n",
       "      <td>WI</td>\n",
       "      <td>0.048</td>\n",
       "      <td>73605</td>\n",
       "      <td>1533.437500</td>\n",
       "      <td>72157</td>\n",
       "      <td>90</td>\n",
       "      <td>481</td>\n",
       "      <td>722</td>\n",
       "      <td>...</td>\n",
       "      <td>98.750085</td>\n",
       "      <td>8.525831</td>\n",
       "      <td>11.162997</td>\n",
       "      <td>7.375656</td>\n",
       "      <td>7.882918</td>\n",
       "      <td>0</td>\n",
       "      <td>AAR</td>\n",
       "      <td>36.422797</td>\n",
       "      <td>63.577203</td>\n",
       "      <td>middle</td>\n",
       "    </tr>\n",
       "  </tbody>\n",
       "</table>\n",
       "<p>437 rows × 31 columns</p>\n",
       "</div>"
      ],
      "text/plain": [
       "      PID     county state   area  poptotal   popdensity  popwhite  popblack  \\\n",
       "0     561      ADAMS    IL  0.052     66090  1270.961540     63917      1702   \n",
       "1     562  ALEXANDER    IL  0.014     10626   759.000000      7054      3496   \n",
       "2     563       BOND    IL  0.022     14991   681.409091     14477       429   \n",
       "3     564      BOONE    IL  0.017     30806  1812.117650     29344       127   \n",
       "4     565      BROWN    IL  0.018      5836   324.222222      5264       547   \n",
       "..    ...        ...   ...    ...       ...          ...       ...       ...   \n",
       "432  3048   WAUKESHA    WI  0.034    304715  8962.205880    298313      1096   \n",
       "433  3049    WAUPACA    WI  0.045     46104  1024.533330     45695        22   \n",
       "434  3050   WAUSHARA    WI  0.037     19385   523.918919     19094        29   \n",
       "435  3051  WINNEBAGO    WI  0.035    140320  4009.142860    136822       697   \n",
       "436  3052       WOOD    WI  0.048     73605  1533.437500     72157        90   \n",
       "\n",
       "     popamerindian  popasian  ...  percpovertyknown  percbelowpoverty  \\\n",
       "0               98       249  ...         96.274777         13.151443   \n",
       "1               19        48  ...         99.087145         32.244278   \n",
       "2               35        16  ...         94.956974         12.068844   \n",
       "3               46       150  ...         98.477569          7.209019   \n",
       "4               14         5  ...         82.505140         13.520249   \n",
       "..             ...       ...  ...               ...               ...   \n",
       "432            672      2699  ...         98.387674          3.121060   \n",
       "433            125        92  ...         96.330036          8.488697   \n",
       "434             70        43  ...         98.854785         13.786985   \n",
       "435            685      1728  ...         95.460376          8.804031   \n",
       "436            481       722  ...         98.750085          8.525831   \n",
       "\n",
       "     percchildbelowpovert  percadultpoverty  percelderlypoverty  inmetro  \\\n",
       "0               18.011717         11.009776           12.443812        0   \n",
       "1               45.826514         27.385647           25.228976        0   \n",
       "2               14.036061         10.852090           12.697410        0   \n",
       "3               11.179536          5.536013            6.217047        1   \n",
       "4               13.022889         11.143211           19.200000        0   \n",
       "..                    ...               ...                 ...      ...   \n",
       "432              3.785820          2.590061            4.085479        1   \n",
       "433             10.071411          6.953799           10.338641        0   \n",
       "434             20.050708         11.695784           11.804558        0   \n",
       "435             10.592031          8.660587            6.661094        1   \n",
       "436             11.162997          7.375656            7.882918        0   \n",
       "\n",
       "     category      menor     adults   grade  \n",
       "0         AAR  34.486307  65.513693  middle  \n",
       "1         LHR  36.721250  63.278750  middle  \n",
       "2         AAR  35.501301  64.498699  middle  \n",
       "3         ALU  37.440758  62.559242  middle  \n",
       "4         AAR  31.819740  68.180260  middle  \n",
       "..        ...        ...        ...     ...  \n",
       "432       HLU  35.731093  64.268907  middle  \n",
       "433       AAR  34.693302  65.306698  middle  \n",
       "434       AAR  31.307712  68.692288  middle  \n",
       "435       HAU  36.602052  63.397948  middle  \n",
       "436       AAR  36.422797  63.577203  middle  \n",
       "\n",
       "[437 rows x 31 columns]"
      ]
     },
     "execution_count": 47,
     "metadata": {},
     "output_type": "execute_result"
    }
   ],
   "source": [
    "midwest"
   ]
  },
  {
   "cell_type": "code",
   "execution_count": null,
   "id": "fb1e5b97-93d3-428d-9cae-5fca453ede11",
   "metadata": {},
   "outputs": [],
   "source": [
    "# 4번"
   ]
  },
  {
   "cell_type": "code",
   "execution_count": 48,
   "id": "1cdda44a-af83-4291-82c5-3a47b2ebe773",
   "metadata": {},
   "outputs": [],
   "source": [
    "midwest['total1'] = midwest['popasian'] / midwest['poptotal'] * 100 "
   ]
  },
  {
   "cell_type": "code",
   "execution_count": 50,
   "id": "c89f4ec6-b90d-49d4-863d-5698eaf05736",
   "metadata": {},
   "outputs": [
    {
     "data": {
      "text/html": [
       "<div>\n",
       "<style scoped>\n",
       "    .dataframe tbody tr th:only-of-type {\n",
       "        vertical-align: middle;\n",
       "    }\n",
       "\n",
       "    .dataframe tbody tr th {\n",
       "        vertical-align: top;\n",
       "    }\n",
       "\n",
       "    .dataframe thead th {\n",
       "        text-align: right;\n",
       "    }\n",
       "</style>\n",
       "<table border=\"1\" class=\"dataframe\">\n",
       "  <thead>\n",
       "    <tr style=\"text-align: right;\">\n",
       "      <th></th>\n",
       "      <th>PID</th>\n",
       "      <th>county</th>\n",
       "      <th>state</th>\n",
       "      <th>area</th>\n",
       "      <th>poptotal</th>\n",
       "      <th>popdensity</th>\n",
       "      <th>popwhite</th>\n",
       "      <th>popblack</th>\n",
       "      <th>popamerindian</th>\n",
       "      <th>popasian</th>\n",
       "      <th>...</th>\n",
       "      <th>percbelowpoverty</th>\n",
       "      <th>percchildbelowpovert</th>\n",
       "      <th>percadultpoverty</th>\n",
       "      <th>percelderlypoverty</th>\n",
       "      <th>inmetro</th>\n",
       "      <th>category</th>\n",
       "      <th>menor</th>\n",
       "      <th>adults</th>\n",
       "      <th>grade</th>\n",
       "      <th>total1</th>\n",
       "    </tr>\n",
       "  </thead>\n",
       "  <tbody>\n",
       "    <tr>\n",
       "      <th>0</th>\n",
       "      <td>561</td>\n",
       "      <td>ADAMS</td>\n",
       "      <td>IL</td>\n",
       "      <td>0.052</td>\n",
       "      <td>66090</td>\n",
       "      <td>1270.961540</td>\n",
       "      <td>63917</td>\n",
       "      <td>1702</td>\n",
       "      <td>98</td>\n",
       "      <td>249</td>\n",
       "      <td>...</td>\n",
       "      <td>13.151443</td>\n",
       "      <td>18.011717</td>\n",
       "      <td>11.009776</td>\n",
       "      <td>12.443812</td>\n",
       "      <td>0</td>\n",
       "      <td>AAR</td>\n",
       "      <td>34.486307</td>\n",
       "      <td>65.513693</td>\n",
       "      <td>middle</td>\n",
       "      <td>0.376759</td>\n",
       "    </tr>\n",
       "    <tr>\n",
       "      <th>1</th>\n",
       "      <td>562</td>\n",
       "      <td>ALEXANDER</td>\n",
       "      <td>IL</td>\n",
       "      <td>0.014</td>\n",
       "      <td>10626</td>\n",
       "      <td>759.000000</td>\n",
       "      <td>7054</td>\n",
       "      <td>3496</td>\n",
       "      <td>19</td>\n",
       "      <td>48</td>\n",
       "      <td>...</td>\n",
       "      <td>32.244278</td>\n",
       "      <td>45.826514</td>\n",
       "      <td>27.385647</td>\n",
       "      <td>25.228976</td>\n",
       "      <td>0</td>\n",
       "      <td>LHR</td>\n",
       "      <td>36.721250</td>\n",
       "      <td>63.278750</td>\n",
       "      <td>middle</td>\n",
       "      <td>0.451722</td>\n",
       "    </tr>\n",
       "    <tr>\n",
       "      <th>2</th>\n",
       "      <td>563</td>\n",
       "      <td>BOND</td>\n",
       "      <td>IL</td>\n",
       "      <td>0.022</td>\n",
       "      <td>14991</td>\n",
       "      <td>681.409091</td>\n",
       "      <td>14477</td>\n",
       "      <td>429</td>\n",
       "      <td>35</td>\n",
       "      <td>16</td>\n",
       "      <td>...</td>\n",
       "      <td>12.068844</td>\n",
       "      <td>14.036061</td>\n",
       "      <td>10.852090</td>\n",
       "      <td>12.697410</td>\n",
       "      <td>0</td>\n",
       "      <td>AAR</td>\n",
       "      <td>35.501301</td>\n",
       "      <td>64.498699</td>\n",
       "      <td>middle</td>\n",
       "      <td>0.106731</td>\n",
       "    </tr>\n",
       "    <tr>\n",
       "      <th>3</th>\n",
       "      <td>564</td>\n",
       "      <td>BOONE</td>\n",
       "      <td>IL</td>\n",
       "      <td>0.017</td>\n",
       "      <td>30806</td>\n",
       "      <td>1812.117650</td>\n",
       "      <td>29344</td>\n",
       "      <td>127</td>\n",
       "      <td>46</td>\n",
       "      <td>150</td>\n",
       "      <td>...</td>\n",
       "      <td>7.209019</td>\n",
       "      <td>11.179536</td>\n",
       "      <td>5.536013</td>\n",
       "      <td>6.217047</td>\n",
       "      <td>1</td>\n",
       "      <td>ALU</td>\n",
       "      <td>37.440758</td>\n",
       "      <td>62.559242</td>\n",
       "      <td>middle</td>\n",
       "      <td>0.486918</td>\n",
       "    </tr>\n",
       "    <tr>\n",
       "      <th>4</th>\n",
       "      <td>565</td>\n",
       "      <td>BROWN</td>\n",
       "      <td>IL</td>\n",
       "      <td>0.018</td>\n",
       "      <td>5836</td>\n",
       "      <td>324.222222</td>\n",
       "      <td>5264</td>\n",
       "      <td>547</td>\n",
       "      <td>14</td>\n",
       "      <td>5</td>\n",
       "      <td>...</td>\n",
       "      <td>13.520249</td>\n",
       "      <td>13.022889</td>\n",
       "      <td>11.143211</td>\n",
       "      <td>19.200000</td>\n",
       "      <td>0</td>\n",
       "      <td>AAR</td>\n",
       "      <td>31.819740</td>\n",
       "      <td>68.180260</td>\n",
       "      <td>middle</td>\n",
       "      <td>0.085675</td>\n",
       "    </tr>\n",
       "    <tr>\n",
       "      <th>...</th>\n",
       "      <td>...</td>\n",
       "      <td>...</td>\n",
       "      <td>...</td>\n",
       "      <td>...</td>\n",
       "      <td>...</td>\n",
       "      <td>...</td>\n",
       "      <td>...</td>\n",
       "      <td>...</td>\n",
       "      <td>...</td>\n",
       "      <td>...</td>\n",
       "      <td>...</td>\n",
       "      <td>...</td>\n",
       "      <td>...</td>\n",
       "      <td>...</td>\n",
       "      <td>...</td>\n",
       "      <td>...</td>\n",
       "      <td>...</td>\n",
       "      <td>...</td>\n",
       "      <td>...</td>\n",
       "      <td>...</td>\n",
       "      <td>...</td>\n",
       "    </tr>\n",
       "    <tr>\n",
       "      <th>432</th>\n",
       "      <td>3048</td>\n",
       "      <td>WAUKESHA</td>\n",
       "      <td>WI</td>\n",
       "      <td>0.034</td>\n",
       "      <td>304715</td>\n",
       "      <td>8962.205880</td>\n",
       "      <td>298313</td>\n",
       "      <td>1096</td>\n",
       "      <td>672</td>\n",
       "      <td>2699</td>\n",
       "      <td>...</td>\n",
       "      <td>3.121060</td>\n",
       "      <td>3.785820</td>\n",
       "      <td>2.590061</td>\n",
       "      <td>4.085479</td>\n",
       "      <td>1</td>\n",
       "      <td>HLU</td>\n",
       "      <td>35.731093</td>\n",
       "      <td>64.268907</td>\n",
       "      <td>middle</td>\n",
       "      <td>0.885746</td>\n",
       "    </tr>\n",
       "    <tr>\n",
       "      <th>433</th>\n",
       "      <td>3049</td>\n",
       "      <td>WAUPACA</td>\n",
       "      <td>WI</td>\n",
       "      <td>0.045</td>\n",
       "      <td>46104</td>\n",
       "      <td>1024.533330</td>\n",
       "      <td>45695</td>\n",
       "      <td>22</td>\n",
       "      <td>125</td>\n",
       "      <td>92</td>\n",
       "      <td>...</td>\n",
       "      <td>8.488697</td>\n",
       "      <td>10.071411</td>\n",
       "      <td>6.953799</td>\n",
       "      <td>10.338641</td>\n",
       "      <td>0</td>\n",
       "      <td>AAR</td>\n",
       "      <td>34.693302</td>\n",
       "      <td>65.306698</td>\n",
       "      <td>middle</td>\n",
       "      <td>0.199549</td>\n",
       "    </tr>\n",
       "    <tr>\n",
       "      <th>434</th>\n",
       "      <td>3050</td>\n",
       "      <td>WAUSHARA</td>\n",
       "      <td>WI</td>\n",
       "      <td>0.037</td>\n",
       "      <td>19385</td>\n",
       "      <td>523.918919</td>\n",
       "      <td>19094</td>\n",
       "      <td>29</td>\n",
       "      <td>70</td>\n",
       "      <td>43</td>\n",
       "      <td>...</td>\n",
       "      <td>13.786985</td>\n",
       "      <td>20.050708</td>\n",
       "      <td>11.695784</td>\n",
       "      <td>11.804558</td>\n",
       "      <td>0</td>\n",
       "      <td>AAR</td>\n",
       "      <td>31.307712</td>\n",
       "      <td>68.692288</td>\n",
       "      <td>middle</td>\n",
       "      <td>0.221821</td>\n",
       "    </tr>\n",
       "    <tr>\n",
       "      <th>435</th>\n",
       "      <td>3051</td>\n",
       "      <td>WINNEBAGO</td>\n",
       "      <td>WI</td>\n",
       "      <td>0.035</td>\n",
       "      <td>140320</td>\n",
       "      <td>4009.142860</td>\n",
       "      <td>136822</td>\n",
       "      <td>697</td>\n",
       "      <td>685</td>\n",
       "      <td>1728</td>\n",
       "      <td>...</td>\n",
       "      <td>8.804031</td>\n",
       "      <td>10.592031</td>\n",
       "      <td>8.660587</td>\n",
       "      <td>6.661094</td>\n",
       "      <td>1</td>\n",
       "      <td>HAU</td>\n",
       "      <td>36.602052</td>\n",
       "      <td>63.397948</td>\n",
       "      <td>middle</td>\n",
       "      <td>1.231471</td>\n",
       "    </tr>\n",
       "    <tr>\n",
       "      <th>436</th>\n",
       "      <td>3052</td>\n",
       "      <td>WOOD</td>\n",
       "      <td>WI</td>\n",
       "      <td>0.048</td>\n",
       "      <td>73605</td>\n",
       "      <td>1533.437500</td>\n",
       "      <td>72157</td>\n",
       "      <td>90</td>\n",
       "      <td>481</td>\n",
       "      <td>722</td>\n",
       "      <td>...</td>\n",
       "      <td>8.525831</td>\n",
       "      <td>11.162997</td>\n",
       "      <td>7.375656</td>\n",
       "      <td>7.882918</td>\n",
       "      <td>0</td>\n",
       "      <td>AAR</td>\n",
       "      <td>36.422797</td>\n",
       "      <td>63.577203</td>\n",
       "      <td>middle</td>\n",
       "      <td>0.980912</td>\n",
       "    </tr>\n",
       "  </tbody>\n",
       "</table>\n",
       "<p>437 rows × 32 columns</p>\n",
       "</div>"
      ],
      "text/plain": [
       "      PID     county state   area  poptotal   popdensity  popwhite  popblack  \\\n",
       "0     561      ADAMS    IL  0.052     66090  1270.961540     63917      1702   \n",
       "1     562  ALEXANDER    IL  0.014     10626   759.000000      7054      3496   \n",
       "2     563       BOND    IL  0.022     14991   681.409091     14477       429   \n",
       "3     564      BOONE    IL  0.017     30806  1812.117650     29344       127   \n",
       "4     565      BROWN    IL  0.018      5836   324.222222      5264       547   \n",
       "..    ...        ...   ...    ...       ...          ...       ...       ...   \n",
       "432  3048   WAUKESHA    WI  0.034    304715  8962.205880    298313      1096   \n",
       "433  3049    WAUPACA    WI  0.045     46104  1024.533330     45695        22   \n",
       "434  3050   WAUSHARA    WI  0.037     19385   523.918919     19094        29   \n",
       "435  3051  WINNEBAGO    WI  0.035    140320  4009.142860    136822       697   \n",
       "436  3052       WOOD    WI  0.048     73605  1533.437500     72157        90   \n",
       "\n",
       "     popamerindian  popasian  ...  percbelowpoverty  percchildbelowpovert  \\\n",
       "0               98       249  ...         13.151443             18.011717   \n",
       "1               19        48  ...         32.244278             45.826514   \n",
       "2               35        16  ...         12.068844             14.036061   \n",
       "3               46       150  ...          7.209019             11.179536   \n",
       "4               14         5  ...         13.520249             13.022889   \n",
       "..             ...       ...  ...               ...                   ...   \n",
       "432            672      2699  ...          3.121060              3.785820   \n",
       "433            125        92  ...          8.488697             10.071411   \n",
       "434             70        43  ...         13.786985             20.050708   \n",
       "435            685      1728  ...          8.804031             10.592031   \n",
       "436            481       722  ...          8.525831             11.162997   \n",
       "\n",
       "     percadultpoverty  percelderlypoverty  inmetro  category      menor  \\\n",
       "0           11.009776           12.443812        0       AAR  34.486307   \n",
       "1           27.385647           25.228976        0       LHR  36.721250   \n",
       "2           10.852090           12.697410        0       AAR  35.501301   \n",
       "3            5.536013            6.217047        1       ALU  37.440758   \n",
       "4           11.143211           19.200000        0       AAR  31.819740   \n",
       "..                ...                 ...      ...       ...        ...   \n",
       "432          2.590061            4.085479        1       HLU  35.731093   \n",
       "433          6.953799           10.338641        0       AAR  34.693302   \n",
       "434         11.695784           11.804558        0       AAR  31.307712   \n",
       "435          8.660587            6.661094        1       HAU  36.602052   \n",
       "436          7.375656            7.882918        0       AAR  36.422797   \n",
       "\n",
       "        adults   grade    total1  \n",
       "0    65.513693  middle  0.376759  \n",
       "1    63.278750  middle  0.451722  \n",
       "2    64.498699  middle  0.106731  \n",
       "3    62.559242  middle  0.486918  \n",
       "4    68.180260  middle  0.085675  \n",
       "..         ...     ...       ...  \n",
       "432  64.268907  middle  0.885746  \n",
       "433  65.306698  middle  0.199549  \n",
       "434  68.692288  middle  0.221821  \n",
       "435  63.397948  middle  1.231471  \n",
       "436  63.577203  middle  0.980912  \n",
       "\n",
       "[437 rows x 32 columns]"
      ]
     },
     "execution_count": 50,
     "metadata": {},
     "output_type": "execute_result"
    }
   ],
   "source": [
    "midwest"
   ]
  },
  {
   "cell_type": "code",
   "execution_count": 52,
   "id": "bd530af8-ca5a-466b-8aab-a1e856125c39",
   "metadata": {},
   "outputs": [
    {
     "data": {
      "text/html": [
       "<div>\n",
       "<style scoped>\n",
       "    .dataframe tbody tr th:only-of-type {\n",
       "        vertical-align: middle;\n",
       "    }\n",
       "\n",
       "    .dataframe tbody tr th {\n",
       "        vertical-align: top;\n",
       "    }\n",
       "\n",
       "    .dataframe thead th {\n",
       "        text-align: right;\n",
       "    }\n",
       "</style>\n",
       "<table border=\"1\" class=\"dataframe\">\n",
       "  <thead>\n",
       "    <tr style=\"text-align: right;\">\n",
       "      <th></th>\n",
       "      <th>state</th>\n",
       "      <th>county</th>\n",
       "      <th>total1</th>\n",
       "    </tr>\n",
       "  </thead>\n",
       "  <tbody>\n",
       "    <tr>\n",
       "      <th>404</th>\n",
       "      <td>WI</td>\n",
       "      <td>MENOMINEE</td>\n",
       "      <td>0.000000</td>\n",
       "    </tr>\n",
       "    <tr>\n",
       "      <th>105</th>\n",
       "      <td>IN</td>\n",
       "      <td>BENTON</td>\n",
       "      <td>0.010592</td>\n",
       "    </tr>\n",
       "    <tr>\n",
       "      <th>109</th>\n",
       "      <td>IN</td>\n",
       "      <td>CARROLL</td>\n",
       "      <td>0.015950</td>\n",
       "    </tr>\n",
       "    <tr>\n",
       "      <th>358</th>\n",
       "      <td>OH</td>\n",
       "      <td>VINTON</td>\n",
       "      <td>0.027032</td>\n",
       "    </tr>\n",
       "    <tr>\n",
       "      <th>390</th>\n",
       "      <td>WI</td>\n",
       "      <td>IRON</td>\n",
       "      <td>0.032504</td>\n",
       "    </tr>\n",
       "  </tbody>\n",
       "</table>\n",
       "</div>"
      ],
      "text/plain": [
       "    state     county    total1\n",
       "404    WI  MENOMINEE  0.000000\n",
       "105    IN     BENTON  0.010592\n",
       "109    IN    CARROLL  0.015950\n",
       "358    OH     VINTON  0.027032\n",
       "390    WI       IRON  0.032504"
      ]
     },
     "execution_count": 52,
     "metadata": {},
     "output_type": "execute_result"
    }
   ],
   "source": [
    "midwest.sort_values('total1')[['state', 'county', 'total1']].head()"
   ]
  },
  {
   "cell_type": "code",
   "execution_count": null,
   "id": "fd6404a9-5f06-47d8-9609-21bc94b464fa",
   "metadata": {},
   "outputs": [],
   "source": []
  },
  {
   "cell_type": "code",
   "execution_count": null,
   "id": "6b3ac815-969b-41ad-a1b9-595ce913c107",
   "metadata": {},
   "outputs": [],
   "source": []
  },
  {
   "cell_type": "code",
   "execution_count": null,
   "id": "472f6a5b-82ae-4fb6-b670-a17b66b5b7bc",
   "metadata": {},
   "outputs": [],
   "source": []
  },
  {
   "cell_type": "code",
   "execution_count": null,
   "id": "eed4d635-b71b-444d-b1e7-66bf68465cf6",
   "metadata": {},
   "outputs": [],
   "source": [
    "#"
   ]
  },
  {
   "cell_type": "code",
   "execution_count": null,
   "id": "e6b16cb1-ac3d-4353-b515-9d71ac2bb911",
   "metadata": {},
   "outputs": [],
   "source": [
    "len(midwest['state'].unique())"
   ]
  },
  {
   "cell_type": "code",
   "execution_count": null,
   "id": "1c3d9f7f-64fb-4347-9202-d63fcc3760b5",
   "metadata": {},
   "outputs": [],
   "source": [
    "midwest.groupby('state')['asian_per'].mean().sort_values()"
   ]
  },
  {
   "cell_type": "code",
   "execution_count": null,
   "id": "49081a96-8d15-4151-b7b4-15728be528d5",
   "metadata": {},
   "outputs": [],
   "source": []
  },
  {
   "cell_type": "code",
   "execution_count": null,
   "id": "3b2f1701-8a92-43f5-b3b5-19a9b59669aa",
   "metadata": {},
   "outputs": [],
   "source": [
    "midwest"
   ]
  },
  {
   "cell_type": "code",
   "execution_count": null,
   "id": "2301c1be-a373-4ff4-af70-3250e822c033",
   "metadata": {},
   "outputs": [],
   "source": [
    "midwest['inmetro'].value_counts()"
   ]
  },
  {
   "cell_type": "code",
   "execution_count": null,
   "id": "b17ad122-6f05-4c1d-a1b3-b4af0c051417",
   "metadata": {},
   "outputs": [],
   "source": [
    "midwest.loc[0, 'county'] = 'Hojin'"
   ]
  },
  {
   "cell_type": "code",
   "execution_count": null,
   "id": "1ddf3d53-e2c0-47c5-af2b-303f5b3095b0",
   "metadata": {},
   "outputs": [],
   "source": [
    "midwest.apply"
   ]
  },
  {
   "cell_type": "code",
   "execution_count": null,
   "id": "78b3c88e-c77a-4d47-8520-ed8828cc5305",
   "metadata": {},
   "outputs": [],
   "source": [
    "np.where"
   ]
  },
  {
   "cell_type": "code",
   "execution_count": null,
   "id": "b126f6e2-b2be-444f-8ac6-a8e3b9d85fc6",
   "metadata": {},
   "outputs": [],
   "source": []
  }
 ],
 "metadata": {
  "kernelspec": {
   "display_name": "Python 3.9.13 ('base')",
   "language": "python",
   "name": "python3"
  },
  "language_info": {
   "codemirror_mode": {
    "name": "ipython",
    "version": 3
   },
   "file_extension": ".py",
   "mimetype": "text/x-python",
   "name": "python",
   "nbconvert_exporter": "python",
   "pygments_lexer": "ipython3",
   "version": "3.9.13"
  },
  "vscode": {
   "interpreter": {
    "hash": "701d4f28dcd0866722f5108a3a4cbcd08882d26398b6d44117e791d7b8102912"
   }
  }
 },
 "nbformat": 4,
 "nbformat_minor": 5
}
