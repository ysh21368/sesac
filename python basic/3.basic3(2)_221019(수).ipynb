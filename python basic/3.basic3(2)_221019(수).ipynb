{
 "cells": [
  {
   "cell_type": "markdown",
   "id": "b829f1f2-ea16-45c8-934d-18ab8b013ab6",
   "metadata": {},
   "source": [
    "# 함수(function)"
   ]
  },
  {
   "cell_type": "code",
   "execution_count": 74,
   "id": "1089b36c-a124-452e-93a6-f52208334432",
   "metadata": {},
   "outputs": [],
   "source": [
    "def test() : # def test()에서 괄호 안에 들어가는 변수(?) 또는 인자(?)를 argurment라고 한다. \n",
    "    print('test 함수입니다.')"
   ]
  },
  {
   "cell_type": "code",
   "execution_count": 75,
   "id": "58a1ac97-de78-4e56-9938-7e1ef76bf159",
   "metadata": {},
   "outputs": [
    {
     "name": "stdout",
     "output_type": "stream",
     "text": [
      "test 함수입니다.\n"
     ]
    }
   ],
   "source": [
    "test()"
   ]
  },
  {
   "cell_type": "code",
   "execution_count": 76,
   "id": "9c195bfa-3d20-4d07-b531-a018e923bd5a",
   "metadata": {},
   "outputs": [],
   "source": [
    "def max_user() :\n",
    "    max_n = random_list[0]\n",
    "\n",
    "    for n in random_list :\n",
    "        if max_n < n :\n",
    "            max_n = n\n",
    "            \n",
    "    print(max_n)"
   ]
  },
  {
   "cell_type": "code",
   "execution_count": 77,
   "id": "2ce8e9a7-f366-422f-83dd-975c9858987e",
   "metadata": {
    "tags": []
   },
   "outputs": [],
   "source": [
    "# 매개변수 / Return이라는 개념이 있다.\n",
    "\n",
    "def test() : \n",
    "    print('test 함수입니다.')\n"
   ]
  },
  {
   "cell_type": "code",
   "execution_count": 78,
   "id": "2e64c157-175a-410f-a6ec-2749fdc06444",
   "metadata": {},
   "outputs": [],
   "source": [
    "#매개변수 a, b가 있는 함수\n",
    "\n",
    "def test(a, b) : \n",
    "    print('test 함수입니다.')\n",
    "    print(a, b)"
   ]
  },
  {
   "cell_type": "code",
   "execution_count": 13,
   "id": "0a1e5c00-0dad-42a4-ac41-be6b616fcd02",
   "metadata": {},
   "outputs": [
    {
     "name": "stdout",
     "output_type": "stream",
     "text": [
      "test 함수입니다.\n",
      "1 2\n"
     ]
    }
   ],
   "source": [
    "test(1, 2)"
   ]
  },
  {
   "cell_type": "code",
   "execution_count": 1,
   "id": "f175ce45-f2ae-4b1f-a800-a825c65e8496",
   "metadata": {},
   "outputs": [],
   "source": [
    "#매개변수 a가 있는 함수\n",
    "\n",
    "def test(a, b) : \n",
    "    print('test 함수입니다.')\n",
    "    print(a, b)"
   ]
  },
  {
   "cell_type": "code",
   "execution_count": 2,
   "id": "bdd06a56-1000-4c6f-bff7-c4020497d494",
   "metadata": {},
   "outputs": [
    {
     "name": "stdout",
     "output_type": "stream",
     "text": [
      "test 함수입니다.\n",
      "1 2\n"
     ]
    }
   ],
   "source": [
    "test(1, 2)"
   ]
  },
  {
   "cell_type": "code",
   "execution_count": 4,
   "id": "f58a57de-bfec-47af-8b56-323c9d7a90c2",
   "metadata": {},
   "outputs": [],
   "source": [
    "#매개변수를 사용하여 만든 코드\n",
    "def max_user(l) :\n",
    "    max_n = l[0]\n",
    "\n",
    "    for n in l :\n",
    "        if max_n < n :\n",
    "            max_n = n\n",
    "            \n",
    "    print(max_n)"
   ]
  },
  {
   "cell_type": "code",
   "execution_count": 5,
   "id": "92059de1-1509-40af-91e9-22d8759dc615",
   "metadata": {},
   "outputs": [
    {
     "name": "stdout",
     "output_type": "stream",
     "text": [
      "5\n"
     ]
    }
   ],
   "source": [
    "max_user([1,3,5,2,4])"
   ]
  },
  {
   "cell_type": "code",
   "execution_count": 6,
   "id": "ad9fb377-fae1-4c0c-bb4c-22f24a4f42cc",
   "metadata": {},
   "outputs": [
    {
     "name": "stdout",
     "output_type": "stream",
     "text": [
      "5\n"
     ]
    }
   ],
   "source": [
    "max_num = max_user([1,3,5,2,4])"
   ]
  },
  {
   "cell_type": "code",
   "execution_count": 7,
   "id": "f3317fcf-592b-4a39-881d-fda2c9f63c20",
   "metadata": {},
   "outputs": [],
   "source": [
    "max_num"
   ]
  },
  {
   "cell_type": "code",
   "execution_count": 8,
   "id": "9b0a8cdc-c3b5-4039-840a-d55f9edfea62",
   "metadata": {},
   "outputs": [],
   "source": [
    "#Return을 사용하여 만든 코드\n",
    "def max_user(l) :\n",
    "    max_n = l[0]\n",
    "\n",
    "    for n in l :\n",
    "        if max_n < n :\n",
    "            max_n = n\n",
    "            \n",
    "    return max_n"
   ]
  },
  {
   "cell_type": "code",
   "execution_count": 9,
   "id": "3a7f5674-1889-427d-b3bc-2e24c06c6722",
   "metadata": {},
   "outputs": [],
   "source": [
    "max_num = max_user([1,3,5,2,4])"
   ]
  },
  {
   "cell_type": "code",
   "execution_count": 10,
   "id": "e9bcf67d-7fc2-4b1a-a9a6-3cc643920919",
   "metadata": {},
   "outputs": [
    {
     "data": {
      "text/plain": [
       "5"
      ]
     },
     "execution_count": 10,
     "metadata": {},
     "output_type": "execute_result"
    }
   ],
   "source": [
    "max_num"
   ]
  },
  {
   "cell_type": "markdown",
   "id": "d4ebca1b-5bc2-4a71-a335-af44dc8f6007",
   "metadata": {},
   "source": [
    "## 표현방법 4가지"
   ]
  },
  {
   "cell_type": "code",
   "execution_count": 11,
   "id": "6662b298-8c59-4ea1-adea-8f05a57e8552",
   "metadata": {},
   "outputs": [],
   "source": [
    "# 1) 매개변수가 x, Return x : \n",
    "# ex) def test() :\n",
    "      # print('test')"
   ]
  },
  {
   "cell_type": "code",
   "execution_count": 12,
   "id": "b2a7c8e1-28c3-4951-9b75-4d4deb2e6977",
   "metadata": {},
   "outputs": [],
   "source": [
    "# 매개변수가 x, Return x : \n",
    "def test() :\n",
    "    print('test')"
   ]
  },
  {
   "cell_type": "code",
   "execution_count": 13,
   "id": "1f8c36f2-de00-4ebc-b0ad-cdfd40ae6b3d",
   "metadata": {},
   "outputs": [
    {
     "name": "stdout",
     "output_type": "stream",
     "text": [
      "test\n"
     ]
    }
   ],
   "source": [
    "test()"
   ]
  },
  {
   "cell_type": "code",
   "execution_count": 14,
   "id": "376bc763-385a-4c5a-89fa-b023a75319b2",
   "metadata": {},
   "outputs": [],
   "source": [
    "# 2) 매개변수가 0, Return x : \n",
    "def test2(a) :\n",
    "    print(a)"
   ]
  },
  {
   "cell_type": "code",
   "execution_count": 15,
   "id": "f89d8647-bcab-4b64-b0b0-46c00a63d0c6",
   "metadata": {},
   "outputs": [
    {
     "name": "stdout",
     "output_type": "stream",
     "text": [
      "1\n"
     ]
    }
   ],
   "source": [
    "test2(1)"
   ]
  },
  {
   "cell_type": "code",
   "execution_count": 16,
   "id": "9b503b30-a431-4e32-a62f-fecfb2d62904",
   "metadata": {},
   "outputs": [],
   "source": [
    "# 3) 매개변수가 X, Return 0 : \n",
    "def test3() :\n",
    "    return 1+2"
   ]
  },
  {
   "cell_type": "code",
   "execution_count": 17,
   "id": "9225607b-b686-4e24-98d1-c4271271ec52",
   "metadata": {},
   "outputs": [
    {
     "data": {
      "text/plain": [
       "3"
      ]
     },
     "execution_count": 17,
     "metadata": {},
     "output_type": "execute_result"
    }
   ],
   "source": [
    "test3()"
   ]
  },
  {
   "cell_type": "code",
   "execution_count": 18,
   "id": "77ad1b83-761a-4963-b872-9ed10719edcf",
   "metadata": {},
   "outputs": [],
   "source": [
    "# 4-0) 매개변수가 0, Return 0 : \n",
    "def test4(a, b) :\n",
    "    return a+b"
   ]
  },
  {
   "cell_type": "code",
   "execution_count": 19,
   "id": "d1b65a59-418e-40df-871c-22aaa4e4f67d",
   "metadata": {},
   "outputs": [
    {
     "data": {
      "text/plain": [
       "3"
      ]
     },
     "execution_count": 19,
     "metadata": {},
     "output_type": "execute_result"
    }
   ],
   "source": [
    "test4(1,2)"
   ]
  },
  {
   "cell_type": "code",
   "execution_count": 20,
   "id": "a2915afb-3391-4958-8544-fa8529b58d23",
   "metadata": {},
   "outputs": [
    {
     "data": {
      "text/plain": [
       "3"
      ]
     },
     "execution_count": 20,
     "metadata": {},
     "output_type": "execute_result"
    }
   ],
   "source": [
    "test4(b=1, a=2)"
   ]
  },
  {
   "cell_type": "code",
   "execution_count": 21,
   "id": "efc99034-5a98-4185-ae3e-5d04db6d3f3b",
   "metadata": {},
   "outputs": [],
   "source": [
    "# 4-1) 매개변수가 0, Return 0 : \n",
    "def test44(a, b) :\n",
    "    print('a:', a, 'b:', b)\n",
    "    return a+b"
   ]
  },
  {
   "cell_type": "code",
   "execution_count": 22,
   "id": "adc2d405-1d35-43a6-b0b7-2a6911cbfba4",
   "metadata": {},
   "outputs": [
    {
     "name": "stdout",
     "output_type": "stream",
     "text": [
      "a: 1 b: 2\n"
     ]
    },
    {
     "data": {
      "text/plain": [
       "3"
      ]
     },
     "execution_count": 22,
     "metadata": {},
     "output_type": "execute_result"
    }
   ],
   "source": [
    "test44(1, 2)"
   ]
  },
  {
   "cell_type": "code",
   "execution_count": 23,
   "id": "c4e99648-358a-4cdb-b70c-57e299f37ba4",
   "metadata": {},
   "outputs": [],
   "source": [
    "# 4-2) 매개변수가 0, Return 0 : \n",
    "def test4(a, b) :\n",
    "    print('a:' + str(a) + ' , ' + 'b:' + str(b))\n",
    "    return a+b"
   ]
  },
  {
   "cell_type": "code",
   "execution_count": 24,
   "id": "fdc40646-a654-4b2c-ae81-8d3f7b22f021",
   "metadata": {},
   "outputs": [
    {
     "name": "stdout",
     "output_type": "stream",
     "text": [
      "a:2 , b:1\n"
     ]
    },
    {
     "data": {
      "text/plain": [
       "3"
      ]
     },
     "execution_count": 24,
     "metadata": {},
     "output_type": "execute_result"
    }
   ],
   "source": [
    "test4(b=1, a=2)"
   ]
  },
  {
   "cell_type": "code",
   "execution_count": 25,
   "id": "c746403d-620c-481b-bf46-e0beda765ab3",
   "metadata": {},
   "outputs": [
    {
     "data": {
      "text/plain": [
       "range"
      ]
     },
     "execution_count": 25,
     "metadata": {},
     "output_type": "execute_result"
    }
   ],
   "source": [
    "range"
   ]
  },
  {
   "cell_type": "code",
   "execution_count": 26,
   "id": "986d214a-a0d5-405d-8632-09c9137f8567",
   "metadata": {},
   "outputs": [],
   "source": [
    "# 4-3) 매개변수가 0, Return 0 :        \n",
    "def test5(a, b=1) :\n",
    "    print('a:',a,'b:', b)\n",
    "    return a+b"
   ]
  },
  {
   "cell_type": "code",
   "execution_count": 27,
   "id": "f4607bc1-97ee-4e54-a3c7-5f551fef9f15",
   "metadata": {},
   "outputs": [
    {
     "name": "stdout",
     "output_type": "stream",
     "text": [
      "a: 1 b: 1\n"
     ]
    },
    {
     "data": {
      "text/plain": [
       "2"
      ]
     },
     "execution_count": 27,
     "metadata": {},
     "output_type": "execute_result"
    }
   ],
   "source": [
    "test5(1)"
   ]
  },
  {
   "cell_type": "markdown",
   "id": "8824351e-ec13-4699-9cd0-a7fcb93d04b2",
   "metadata": {},
   "source": [
    "## Args"
   ]
  },
  {
   "cell_type": "code",
   "execution_count": 28,
   "id": "30bda091-e0af-4081-8b77-fded945e3496",
   "metadata": {},
   "outputs": [],
   "source": [
    "def hojin(*args) :\n",
    "    print(args)"
   ]
  },
  {
   "cell_type": "code",
   "execution_count": 29,
   "id": "ad51a27b-faa8-4948-95bb-93d30140993d",
   "metadata": {},
   "outputs": [
    {
     "name": "stdout",
     "output_type": "stream",
     "text": [
      "(1, 2, 3, 4)\n"
     ]
    }
   ],
   "source": [
    "hojin(1,2,3,4)"
   ]
  },
  {
   "cell_type": "code",
   "execution_count": 30,
   "id": "4041f7d1-9b68-4d4f-bf5d-4a0abe037dda",
   "metadata": {},
   "outputs": [
    {
     "name": "stdout",
     "output_type": "stream",
     "text": [
      "(1, 2, 3, 4, 5)\n"
     ]
    }
   ],
   "source": [
    "hojin(1,2,3,4,5)"
   ]
  },
  {
   "cell_type": "code",
   "execution_count": 31,
   "id": "7ea8abe4-5a6d-4bce-8f29-f4ec64f81179",
   "metadata": {},
   "outputs": [],
   "source": [
    "def hojin(*args) :\n",
    "    print(args[0])"
   ]
  },
  {
   "cell_type": "code",
   "execution_count": 32,
   "id": "5ec3e7f5-b1be-4c86-857b-81afbe6f9c9c",
   "metadata": {},
   "outputs": [
    {
     "name": "stdout",
     "output_type": "stream",
     "text": [
      "1\n"
     ]
    }
   ],
   "source": [
    "hojin(1,2,3,4)"
   ]
  },
  {
   "cell_type": "code",
   "execution_count": 33,
   "id": "0dd1d3a2-2e56-4452-b63a-d5f436086d3f",
   "metadata": {},
   "outputs": [],
   "source": [
    "def hojin(*args) :\n",
    "    for i in args :\n",
    "        print(i)"
   ]
  },
  {
   "cell_type": "code",
   "execution_count": 34,
   "id": "1c20e053-4219-4d9a-b979-ae48e8b4214b",
   "metadata": {},
   "outputs": [
    {
     "name": "stdout",
     "output_type": "stream",
     "text": [
      "1\n",
      "2\n",
      "3\n",
      "4\n"
     ]
    }
   ],
   "source": [
    "hojin(1,2,3,4)"
   ]
  },
  {
   "cell_type": "code",
   "execution_count": 35,
   "id": "6ab6bb32-5186-474e-ab0c-b6424a2e7be0",
   "metadata": {},
   "outputs": [
    {
     "name": "stdout",
     "output_type": "stream",
     "text": [
      "1\n",
      "2\n",
      "3\n",
      "4\n",
      "5\n"
     ]
    }
   ],
   "source": [
    "hojin(1,2,3,4,5)"
   ]
  },
  {
   "cell_type": "code",
   "execution_count": 36,
   "id": "3704e136-3ad0-498d-9cd0-3db732463c72",
   "metadata": {},
   "outputs": [],
   "source": [
    "def hojin(*args) :\n",
    "    ret = 0\n",
    "    for i in args :\n",
    "        ret += i\n",
    "        \n",
    "    return ret"
   ]
  },
  {
   "cell_type": "code",
   "execution_count": 37,
   "id": "7260205c-ae55-43fc-a00d-4b4038077f12",
   "metadata": {},
   "outputs": [
    {
     "data": {
      "text/plain": [
       "10"
      ]
     },
     "execution_count": 37,
     "metadata": {},
     "output_type": "execute_result"
    }
   ],
   "source": [
    "hojin(1,2,3,4)"
   ]
  },
  {
   "cell_type": "code",
   "execution_count": 38,
   "id": "39649b1a-04ab-41aa-8cba-76dd1f1649e0",
   "metadata": {},
   "outputs": [
    {
     "data": {
      "text/plain": [
       "15"
      ]
     },
     "execution_count": 38,
     "metadata": {},
     "output_type": "execute_result"
    }
   ],
   "source": [
    "hojin(1,2,3,4,5)"
   ]
  },
  {
   "cell_type": "code",
   "execution_count": null,
   "id": "072bd8f2-b9c8-4e35-9109-3e0bfd18a91e",
   "metadata": {},
   "outputs": [],
   "source": []
  },
  {
   "cell_type": "markdown",
   "id": "5d2ded38-237c-4be0-8a86-6a5ee5dc79d9",
   "metadata": {
    "tags": []
   },
   "source": [
    "## Quiz 계산기\n",
    "\n",
    "계산기 - 인자 2개 / 1개는 + - * / 1개는 값(몇개가 들어올지 몰라)  \n",
    "def calc(oper, *args) :  \n",
    "     return"
   ]
  },
  {
   "cell_type": "code",
   "execution_count": 39,
   "id": "a971a7fb-fc89-4ddc-940e-3cb4b92929ec",
   "metadata": {
    "tags": []
   },
   "outputs": [],
   "source": [
    "#내가 만든 계산기\n",
    "\n",
    "def calc_seonghyeon(oper, *args) :\n",
    "    if oper == \"+\" :\n",
    "        ret = 0\n",
    "        for i in args :\n",
    "            ret = ret + i\n",
    "        return(ret)   \n",
    "    \n",
    "    elif oper == \"-\" :\n",
    "        ret = 0\n",
    "        for i in args :\n",
    "            ret = ret - i\n",
    "        return(ret)\n",
    "    \n",
    "    elif oper == \"*\" :\n",
    "        ret = 1\n",
    "        for i in args :\n",
    "            ret = ret * i\n",
    "        return(ret)\n",
    "    \n",
    "    elif oper == '/' :\n",
    "        ret = 1\n",
    "        for i in args :\n",
    "            ret = ret / i\n",
    "        return(ret)\n",
    "    \n",
    "    else :\n",
    "        print(\"잘못기입하셨습니다.\")"
   ]
  },
  {
   "cell_type": "code",
   "execution_count": 40,
   "id": "d352a5f4-c98d-4843-8fde-2753a108439a",
   "metadata": {},
   "outputs": [
    {
     "name": "stdout",
     "output_type": "stream",
     "text": [
      "잘못기입하셨습니다.\n"
     ]
    }
   ],
   "source": [
    "calc_seonghyeon(\"12\",)"
   ]
  },
  {
   "cell_type": "code",
   "execution_count": 41,
   "id": "9be1d8fc-b5a8-4f94-9e1e-70ce6de4e89e",
   "metadata": {},
   "outputs": [],
   "source": [
    "# 강사님 풀이법\n",
    "def calc(oper, *args) :\n",
    "    ret = None           #ret = None 은 아무것도 없는 빈 상태라는 뜻이다.\n",
    "    if oper == '+' :\n",
    "        ret = 0\n",
    "        for i in args :\n",
    "            ret += i\n",
    "    elif oper == '*' :\n",
    "        ret = 1\n",
    "        for i in args :\n",
    "            ret *= i\n",
    "    else :\n",
    "        print('operation을 확인해주세요.')\n",
    "    \n",
    "    return ret"
   ]
  },
  {
   "cell_type": "code",
   "execution_count": 42,
   "id": "7ba5aede-a4b7-4c09-9eec-997c0cc18b93",
   "metadata": {},
   "outputs": [
    {
     "data": {
      "text/plain": [
       "3"
      ]
     },
     "execution_count": 42,
     "metadata": {},
     "output_type": "execute_result"
    }
   ],
   "source": [
    "calc('+',1,2)"
   ]
  },
  {
   "cell_type": "code",
   "execution_count": 43,
   "id": "5d635c7b-7e6c-42c3-bdd9-8368261fa9a6",
   "metadata": {},
   "outputs": [
    {
     "data": {
      "text/plain": [
       "6"
      ]
     },
     "execution_count": 43,
     "metadata": {},
     "output_type": "execute_result"
    }
   ],
   "source": [
    "calc('*',1,2,3)"
   ]
  },
  {
   "cell_type": "code",
   "execution_count": 44,
   "id": "c68f73a4-46b5-4ae6-a013-2303ec5c1c97",
   "metadata": {},
   "outputs": [
    {
     "name": "stdout",
     "output_type": "stream",
     "text": [
      "operation을 확인해주세요.\n"
     ]
    }
   ],
   "source": [
    "ret3 = calc('-',1,2,3)"
   ]
  },
  {
   "cell_type": "code",
   "execution_count": 45,
   "id": "02e703d8-0fed-4fda-b5db-037b6408d6b6",
   "metadata": {},
   "outputs": [],
   "source": [
    "# 강사님 풀이법\n",
    "def calc(oper, *args) :\n",
    "     #ret = None 은 아무것도 없는 빈 상태라는 뜻이다.\n",
    "    if oper == '+' :\n",
    "        ret = 0\n",
    "        for i in args :\n",
    "            ret += i\n",
    "    elif oper == '*' :\n",
    "        ret = 1\n",
    "        for i in args :\n",
    "            ret *= i\n",
    "    else :\n",
    "        print('operation을 확인해주세요.')\n",
    "    \n",
    "    return ret"
   ]
  },
  {
   "cell_type": "code",
   "execution_count": 46,
   "id": "74f41711-7646-4fb0-82e8-684167a33fcf",
   "metadata": {},
   "outputs": [],
   "source": [
    "ret3 = calc('*',1,2,3)"
   ]
  },
  {
   "cell_type": "code",
   "execution_count": 47,
   "id": "888594f8-8355-4c9d-8428-52828b91d48c",
   "metadata": {},
   "outputs": [],
   "source": [
    "# + 기만 가능한 계산기\n",
    "\n",
    "def seonghyeon(oper, *args) :\n",
    "    if oper == \"+\" :\n",
    "        ret = 0\n",
    "        for i in args :\n",
    "            ret = ret + i\n",
    "        return(ret)\n",
    "    "
   ]
  },
  {
   "cell_type": "code",
   "execution_count": 48,
   "id": "b3278d27-f9b6-405a-b321-64a43f999373",
   "metadata": {},
   "outputs": [
    {
     "data": {
      "text/plain": [
       "6"
      ]
     },
     "execution_count": 48,
     "metadata": {},
     "output_type": "execute_result"
    }
   ],
   "source": [
    "seonghyeon(\"+\",1,2,3)"
   ]
  },
  {
   "cell_type": "code",
   "execution_count": 49,
   "id": "3b2f5e36-00a5-41bb-a64a-bd249116bb47",
   "metadata": {},
   "outputs": [],
   "source": [
    "# - 기만 가능한 계산기\n",
    "\n",
    "def calc(oper, *args) :\n",
    "    if oper == '-' :\n",
    "        x = 0\n",
    "        for i in args :\n",
    "            x = x - i\n",
    "        return(x)"
   ]
  },
  {
   "cell_type": "code",
   "execution_count": 50,
   "id": "2d1e2d21-3258-4723-8c7b-9b98a952b40f",
   "metadata": {},
   "outputs": [
    {
     "data": {
      "text/plain": [
       "-10"
      ]
     },
     "execution_count": 50,
     "metadata": {},
     "output_type": "execute_result"
    }
   ],
   "source": [
    "calc(\"-\", 1,2,3,4)"
   ]
  },
  {
   "cell_type": "code",
   "execution_count": 51,
   "id": "347f3405-e200-4286-97d6-624571f11dab",
   "metadata": {},
   "outputs": [],
   "source": [
    "# / 기만 가능한 계산기 ????????????\n",
    "def calc(oper, *args):\n",
    "    if oper == \"/\":\n",
    "        b = 1\n",
    "        for i in args:\n",
    "            b = b / i\n",
    "        return(b)"
   ]
  },
  {
   "cell_type": "code",
   "execution_count": 52,
   "id": "0951f32c-c994-46a9-a577-9fcf183f6cd5",
   "metadata": {},
   "outputs": [
    {
     "data": {
      "text/plain": [
       "0.041666666666666664"
      ]
     },
     "execution_count": 52,
     "metadata": {},
     "output_type": "execute_result"
    }
   ],
   "source": [
    "calc(\"/\",2,3,4)"
   ]
  },
  {
   "cell_type": "code",
   "execution_count": 53,
   "id": "5d1e7c99-7992-4b93-a483-6a9a5bc49978",
   "metadata": {},
   "outputs": [],
   "source": [
    "# * 기만 가능한 계산기(0)"
   ]
  },
  {
   "cell_type": "code",
   "execution_count": 54,
   "id": "68d42b5a-6dc4-429c-b77f-04d40c9931d2",
   "metadata": {},
   "outputs": [],
   "source": [
    "def calc(oper, *args) :\n",
    "    if oper == \"*\" :\n",
    "        b = 1\n",
    "        for i in args :\n",
    "            b *= i\n",
    "        return(b)"
   ]
  },
  {
   "cell_type": "code",
   "execution_count": 55,
   "id": "274fe130-c62d-448e-b48c-cadff008e040",
   "metadata": {},
   "outputs": [
    {
     "data": {
      "text/plain": [
       "6"
      ]
     },
     "execution_count": 55,
     "metadata": {},
     "output_type": "execute_result"
    }
   ],
   "source": [
    "calc(\"*\",2,3)"
   ]
  },
  {
   "cell_type": "code",
   "execution_count": 56,
   "id": "ded87486-bb81-4772-af49-f3bc739ccb0f",
   "metadata": {},
   "outputs": [],
   "source": [
    "def calc(*args):\n",
    "    ret = 0\n",
    "    for i in args:\n",
    "        ret = ret + i\n",
    "        "
   ]
  },
  {
   "cell_type": "code",
   "execution_count": 57,
   "id": "548f5505-70e4-4d64-ac95-ff0c1ae965a7",
   "metadata": {},
   "outputs": [],
   "source": [
    "def cal(oper,*args):\n",
    "    if oper == \"+\":\n",
    "        result = 0\n",
    "        for i in args:\n",
    "            result += i\n",
    "        return result\n",
    "    elif oper == \"*\":\n",
    "        result = 1\n",
    "        for i in args:\n",
    "            result *= i\n",
    "        return result"
   ]
  },
  {
   "cell_type": "code",
   "execution_count": 58,
   "id": "5a0d6008-2790-4a2d-8c11-7dc8cbd2dd0f",
   "metadata": {},
   "outputs": [],
   "source": [
    "def cal(a, *b) :\n",
    "    result = 0\n",
    "    if a == '+':\n",
    "        for plus in b: \n",
    "            result += plus\n",
    "        return result\n",
    "    elif a == \"-\":\n",
    "        for plus in b: \n",
    "            result -= plus\n",
    "        return abs(result)\n"
   ]
  },
  {
   "cell_type": "code",
   "execution_count": 59,
   "id": "6c3fbf72-75b3-498b-8a50-0b54e7fa7d1b",
   "metadata": {},
   "outputs": [
    {
     "data": {
      "text/plain": [
       "15"
      ]
     },
     "execution_count": 59,
     "metadata": {},
     "output_type": "execute_result"
    }
   ],
   "source": [
    "cal(\"-\",1,2,3,4,5)"
   ]
  },
  {
   "cell_type": "code",
   "execution_count": 64,
   "id": "a5b3dd17-6fc9-437a-aef9-f551dbb68160",
   "metadata": {},
   "outputs": [],
   "source": [
    "def calc(*args):\n",
    "    result = 0\n",
    "    for number in args:\n",
    "        result += number\n",
    "    print(result)"
   ]
  },
  {
   "cell_type": "code",
   "execution_count": 65,
   "id": "21b8c7d6-0fb3-4b8a-b93a-3cf3e463b0f7",
   "metadata": {},
   "outputs": [],
   "source": [
    "def calc(oper, *args) :\n",
    "    if args :\n",
    "        if oper == '+' :\n",
    "            ret = 0\n",
    "            for i in args :\n",
    "                ret += i\n",
    "                \n",
    "        elif oper == '*' :\n",
    "            ret = 1\n",
    "            for i in args :\n",
    "                ret *= i\n",
    "        else :\n",
    "            ret = '그건 못해요'\n",
    "    else :\n",
    "        ret = '인수를 넣어주세요'\n",
    "    return ret"
   ]
  },
  {
   "cell_type": "code",
   "execution_count": 67,
   "id": "a5aaf00a-140d-4fb0-a1e9-f1b60882be44",
   "metadata": {},
   "outputs": [
    {
     "data": {
      "text/plain": [
       "3"
      ]
     },
     "execution_count": 67,
     "metadata": {},
     "output_type": "execute_result"
    }
   ],
   "source": [
    "calc('+',1,2)"
   ]
  },
  {
   "cell_type": "code",
   "execution_count": 68,
   "id": "cb69ce41-fe2f-4c23-bfe5-724d8514c720",
   "metadata": {},
   "outputs": [
    {
     "data": {
      "text/plain": [
       "120"
      ]
     },
     "execution_count": 68,
     "metadata": {},
     "output_type": "execute_result"
    }
   ],
   "source": [
    "calc('*',1,2,3,4,5)"
   ]
  },
  {
   "cell_type": "code",
   "execution_count": 69,
   "id": "282501db-d185-4b3a-bf98-66997f5b26c9",
   "metadata": {},
   "outputs": [],
   "source": [
    "def calc(*args) :\n",
    "    for i in args :\n",
    "        print(args)"
   ]
  },
  {
   "cell_type": "code",
   "execution_count": 70,
   "id": "a8feb546-bd7d-405a-928e-0c5881ab1872",
   "metadata": {},
   "outputs": [
    {
     "name": "stdout",
     "output_type": "stream",
     "text": [
      "('+',)\n"
     ]
    }
   ],
   "source": [
    "calc('+')"
   ]
  },
  {
   "cell_type": "code",
   "execution_count": 71,
   "id": "7811662a-8bc2-4efb-af9d-97245d3aaf10",
   "metadata": {},
   "outputs": [
    {
     "name": "stdout",
     "output_type": "stream",
     "text": [
      "55\n"
     ]
    }
   ],
   "source": [
    "def plus(*args):\n",
    "    result = 0\n",
    "    for number in args:\n",
    "        result += number\n",
    "    print(result)\n",
    "\n",
    "plus(1, 2, 3, 4, 5, 6, 7, 8, 9, 10)"
   ]
  }
 ],
 "metadata": {
  "kernelspec": {
   "display_name": "Python 3.9.13 ('base')",
   "language": "python",
   "name": "python3"
  },
  "language_info": {
   "codemirror_mode": {
    "name": "ipython",
    "version": 3
   },
   "file_extension": ".py",
   "mimetype": "text/x-python",
   "name": "python",
   "nbconvert_exporter": "python",
   "pygments_lexer": "ipython3",
   "version": "3.9.13"
  },
  "vscode": {
   "interpreter": {
    "hash": "701d4f28dcd0866722f5108a3a4cbcd08882d26398b6d44117e791d7b8102912"
   }
  }
 },
 "nbformat": 4,
 "nbformat_minor": 5
}
