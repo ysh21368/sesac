{
 "cells": [
  {
   "cell_type": "markdown",
   "id": "b0b5fe0e-6944-4bb9-855b-918d8f531bdf",
   "metadata": {},
   "source": [
    "## For 문"
   ]
  },
  {
   "cell_type": "code",
   "execution_count": 71,
   "id": "f43f95a0-9273-4f11-b524-83ec644dc051",
   "metadata": {},
   "outputs": [
    {
     "data": {
      "text/plain": [
       "range(1, 10)"
      ]
     },
     "execution_count": 71,
     "metadata": {},
     "output_type": "execute_result"
    }
   ],
   "source": [
    "range(1, 10)"
   ]
  },
  {
   "cell_type": "code",
   "execution_count": 72,
   "id": "1fabcaba-827c-483b-8daf-ef77832ff56d",
   "metadata": {
    "tags": []
   },
   "outputs": [
    {
     "data": {
      "text/plain": [
       "[1, 2, 3, 4, 5, 6, 7, 8, 9]"
      ]
     },
     "execution_count": 72,
     "metadata": {},
     "output_type": "execute_result"
    }
   ],
   "source": [
    "list(range(1, 10))"
   ]
  },
  {
   "cell_type": "code",
   "execution_count": 73,
   "id": "8551fdec-5d9d-4ba9-8b03-f75680fdfa39",
   "metadata": {},
   "outputs": [
    {
     "data": {
      "text/plain": [
       "[1, 3, 5, 7, 9]"
      ]
     },
     "execution_count": 73,
     "metadata": {},
     "output_type": "execute_result"
    }
   ],
   "source": [
    "list(range(1, 10, 2))"
   ]
  },
  {
   "cell_type": "code",
   "execution_count": 74,
   "id": "4e8963c2-0b2c-4696-9d59-2f92c219bf47",
   "metadata": {},
   "outputs": [
    {
     "data": {
      "text/plain": [
       "[0, 1, 2, 3, 4, 5, 6, 7, 8, 9]"
      ]
     },
     "execution_count": 74,
     "metadata": {},
     "output_type": "execute_result"
    }
   ],
   "source": [
    "list(range(10))"
   ]
  },
  {
   "cell_type": "code",
   "execution_count": 75,
   "id": "f5b8b230-e2b5-4817-a1d1-092cc3dd4740",
   "metadata": {},
   "outputs": [
    {
     "name": "stdout",
     "output_type": "stream",
     "text": [
      "0\n",
      "1\n",
      "2\n",
      "3\n"
     ]
    }
   ],
   "source": [
    "for i in [0, 1, 2, 3] :\n",
    "    print(i)"
   ]
  },
  {
   "cell_type": "code",
   "execution_count": 76,
   "id": "2c5ea6e2-dbc4-4f11-924e-44e1d876b56e",
   "metadata": {},
   "outputs": [
    {
     "name": "stdout",
     "output_type": "stream",
     "text": [
      "0\n",
      "1\n",
      "2\n",
      "3\n"
     ]
    }
   ],
   "source": [
    "for i in range(4) :\n",
    "    print(i)"
   ]
  },
  {
   "cell_type": "code",
   "execution_count": 77,
   "id": "54f8c0d6-ce11-46aa-8b3a-46a117d27740",
   "metadata": {},
   "outputs": [
    {
     "name": "stdout",
     "output_type": "stream",
     "text": [
      "0\n",
      "1\n",
      "2\n",
      "3\n"
     ]
    }
   ],
   "source": [
    "for i in (0, 1, 2, 3) :\n",
    "    print(i)"
   ]
  },
  {
   "cell_type": "code",
   "execution_count": 78,
   "id": "721c0789-58b4-4ee7-8f59-195db3e7a09f",
   "metadata": {},
   "outputs": [
    {
     "name": "stdout",
     "output_type": "stream",
     "text": [
      "a\n",
      "b\n",
      "c\n",
      "d\n",
      "e\n"
     ]
    }
   ],
   "source": [
    "for i in 'abcde' :\n",
    "    print(i)"
   ]
  },
  {
   "cell_type": "code",
   "execution_count": 79,
   "id": "e65a9c9c-5e42-4aca-b098-a1b0ea405607",
   "metadata": {},
   "outputs": [],
   "source": [
    "gender_list = [0, 0, 1, 1, 1] #남(0), 여(1) / 0이면 남자, 1이면 여자"
   ]
  },
  {
   "cell_type": "code",
   "execution_count": 80,
   "id": "49e346f6-2f26-4f5d-a723-562466f3152e",
   "metadata": {},
   "outputs": [
    {
     "name": "stdout",
     "output_type": "stream",
     "text": [
      "1 남자\n",
      "2 남자\n",
      "3 여자\n",
      "4 여자\n",
      "5 여자\n"
     ]
    }
   ],
   "source": [
    "# 0이면 남자, 1이면 여자_version1\n",
    "n = 1\n",
    "for gender in gender_list :\n",
    "    if gender==0 :\n",
    "        print(n, '남자')\n",
    "    else :\n",
    "        print(n, '여자')\n",
    "    n = n + 1"
   ]
  },
  {
   "cell_type": "code",
   "execution_count": 81,
   "id": "89905104-f288-4ff1-ad4d-42f877590b89",
   "metadata": {},
   "outputs": [
    {
     "name": "stdout",
     "output_type": "stream",
     "text": [
      "1 남자\n",
      "2 남자\n",
      "3 여자\n",
      "4 여자\n",
      "5 여자\n"
     ]
    }
   ],
   "source": [
    "# 0이면 남자, 1이면 여자_version2(파이썬스럽지 못한 코드다.)\n",
    "n = 0\n",
    "for gender in gender_list :\n",
    "    n = n + 1\n",
    "    if gender==0 :\n",
    "        print(n, '남자')\n",
    "    else :\n",
    "        print(n, '여자')              "
   ]
  },
  {
   "cell_type": "code",
   "execution_count": 82,
   "id": "b1f88a39-8b1d-4f33-83be-f402b2304e23",
   "metadata": {},
   "outputs": [
    {
     "name": "stdout",
     "output_type": "stream",
     "text": [
      "1 남자\n",
      "2 남자\n",
      "3 여자\n",
      "4 여자\n",
      "5 여자\n"
     ]
    }
   ],
   "source": [
    "#enumerate를 사용해서 코드 수정해보기\n",
    "gender_list = [0, 0, 1, 1, 1]\n",
    "for index, gender in enumerate(gender_list) :\n",
    "    if gender ==  0 :\n",
    "        print(index+1, '남자')\n",
    "    else :\n",
    "        print(index+1, '여자')"
   ]
  },
  {
   "cell_type": "code",
   "execution_count": null,
   "id": "302fb6c7-fc53-4839-a91f-28bed2ba1e56",
   "metadata": {},
   "outputs": [],
   "source": []
  },
  {
   "cell_type": "code",
   "execution_count": 83,
   "id": "16b8c5b1-9e08-4919-95dd-3420717a20aa",
   "metadata": {},
   "outputs": [
    {
     "name": "stdout",
     "output_type": "stream",
     "text": [
      "0\n",
      "0\n",
      "1\n",
      "1\n",
      "1\n"
     ]
    }
   ],
   "source": [
    "for i in range(len(gender_list)) :\n",
    "    print(gender_list[i])                   #파이썬스럽지않다. 파이썬에서는 이런식으로 잘 사용하지 않는다. 이건 C언어에서 배열할때 사용했었음."
   ]
  },
  {
   "cell_type": "code",
   "execution_count": 84,
   "id": "16bcf1be-acf5-4a58-aa08-c5ce4f6598c3",
   "metadata": {},
   "outputs": [
    {
     "data": {
      "text/plain": [
       "<enumerate at 0x7f8b886cd3c0>"
      ]
     },
     "execution_count": 84,
     "metadata": {},
     "output_type": "execute_result"
    }
   ],
   "source": [
    "enumerate([1,2,3])"
   ]
  },
  {
   "cell_type": "code",
   "execution_count": 85,
   "id": "2ca4d519-f8c3-44e4-95cd-55ce0b663bb0",
   "metadata": {},
   "outputs": [
    {
     "data": {
      "text/plain": [
       "[(0, 1), (1, 2), (2, 3)]"
      ]
     },
     "execution_count": 85,
     "metadata": {},
     "output_type": "execute_result"
    }
   ],
   "source": [
    "list(enumerate([1,2,3])) # 이 함수의 역할 알아보기    (인덱스번호, 실제값)"
   ]
  },
  {
   "cell_type": "code",
   "execution_count": 86,
   "id": "a3cff439-e763-4f0d-813b-bdf2152e670b",
   "metadata": {
    "tags": []
   },
   "outputs": [
    {
     "name": "stdout",
     "output_type": "stream",
     "text": [
      "0 | 1\n",
      "1 | 2\n",
      "2 | 3\n"
     ]
    }
   ],
   "source": [
    "for i,j in enumerate([1,2,3]) :\n",
    "    print(i, '|' ,j)"
   ]
  },
  {
   "cell_type": "markdown",
   "id": "9d3748ef-b855-4b18-bed9-548e91f3817a",
   "metadata": {},
   "source": [
    "## 1부터 100까지 합 구하기"
   ]
  },
  {
   "cell_type": "code",
   "execution_count": 87,
   "id": "d1967925-bc06-450d-90f9-3a5f2f1b4764",
   "metadata": {},
   "outputs": [
    {
     "name": "stdout",
     "output_type": "stream",
     "text": [
      "5050\n"
     ]
    }
   ],
   "source": [
    "sum = 0\n",
    "for i in range(1,101):\n",
    "    sum += i\n",
    "print(sum)"
   ]
  },
  {
   "cell_type": "code",
   "execution_count": 88,
   "id": "0849cb40-4fc6-4391-9c6c-fef78639a9c0",
   "metadata": {
    "tags": []
   },
   "outputs": [
    {
     "name": "stdout",
     "output_type": "stream",
     "text": [
      "5050\n"
     ]
    }
   ],
   "source": [
    "ret = 0\n",
    "for i in range(1, 101): # = range(101)\n",
    "    ret += i # = ret = ret + i\n",
    "print(ret)"
   ]
  },
  {
   "cell_type": "code",
   "execution_count": 89,
   "id": "afe19690-11a5-4c8d-9cac-88fb2f4e5443",
   "metadata": {},
   "outputs": [
    {
     "name": "stdout",
     "output_type": "stream",
     "text": [
      "5050\n"
     ]
    }
   ],
   "source": [
    "ret = 0\n",
    "for i in range(1, 101):\n",
    "    ret = ret + i # ret += i\n",
    "print(ret)"
   ]
  },
  {
   "cell_type": "markdown",
   "id": "bc5ba681-404d-474a-a5ef-17b2d8294639",
   "metadata": {},
   "source": [
    "## 홀수의 합, 짝수의 합"
   ]
  },
  {
   "cell_type": "code",
   "execution_count": 90,
   "id": "f43a972c-b3fc-4f3c-bb89-632547ff6e4d",
   "metadata": {},
   "outputs": [],
   "source": [
    "# 내가 풀어 본 것(짝수)"
   ]
  },
  {
   "cell_type": "code",
   "execution_count": 91,
   "id": "e1500234-6ac7-4dc1-bfa7-344870584e0d",
   "metadata": {},
   "outputs": [
    {
     "name": "stdout",
     "output_type": "stream",
     "text": [
      "2550\n"
     ]
    }
   ],
   "source": [
    "ret = 0\n",
    "for i in range(1, 101) :\n",
    "    if(i%2 == 0) : # 짝수\n",
    "        ret += i\n",
    "print(ret)"
   ]
  },
  {
   "cell_type": "code",
   "execution_count": 92,
   "id": "cadf6ef4-56ca-4217-92e8-804fca14347a",
   "metadata": {},
   "outputs": [],
   "source": [
    "# 내가 풀어 본 것(홀수)"
   ]
  },
  {
   "cell_type": "code",
   "execution_count": 93,
   "id": "e9aff5f5-a356-4e65-91b8-8d5af1382445",
   "metadata": {},
   "outputs": [
    {
     "name": "stdout",
     "output_type": "stream",
     "text": [
      "2500\n"
     ]
    }
   ],
   "source": [
    "ret = 0\n",
    "for i in range(1, 101):\n",
    "    if(i%2 == 1) : # 홀수\n",
    "        ret = ret + i\n",
    "print(ret)"
   ]
  },
  {
   "cell_type": "code",
   "execution_count": 94,
   "id": "404e3c7d-c813-461b-bb5a-bbd211d56b55",
   "metadata": {},
   "outputs": [
    {
     "name": "stdout",
     "output_type": "stream",
     "text": [
      "짝수: 2550 / 홀수: 2500\n"
     ]
    }
   ],
   "source": [
    "# 강사님 풀이법\n",
    "odd = 0\n",
    "even = 0\n",
    "for i in range(1, 101) :\n",
    "    if(i%2 == 0) : # 짝수\n",
    "        even += i\n",
    "    else :\n",
    "        odd += i\n",
    "print('짝수:', even, '/ 홀수:', odd)"
   ]
  },
  {
   "cell_type": "markdown",
   "id": "d825574f-0993-425b-b7c9-b6a0889fbd63",
   "metadata": {
    "tags": []
   },
   "source": [
    "## 별찍기"
   ]
  },
  {
   "cell_type": "code",
   "execution_count": 95,
   "id": "26d68fe2-6a3f-4080-8111-fe7b43e386d4",
   "metadata": {},
   "outputs": [
    {
     "data": {
      "text/plain": [
       "[1, 2, 3, 4, 5]"
      ]
     },
     "execution_count": 95,
     "metadata": {},
     "output_type": "execute_result"
    }
   ],
   "source": [
    "list(range(1, 6))"
   ]
  },
  {
   "cell_type": "code",
   "execution_count": 96,
   "id": "a094982c-a6d2-402a-92ee-c0fdb097a964",
   "metadata": {},
   "outputs": [
    {
     "name": "stdout",
     "output_type": "stream",
     "text": [
      "*\n",
      "**\n",
      "***\n",
      "****\n",
      "*****\n"
     ]
    }
   ],
   "source": [
    "# 1\n",
    "for i in range(1, 6) :\n",
    "    print(\"*\" * i)"
   ]
  },
  {
   "cell_type": "code",
   "execution_count": 97,
   "id": "07e5467e-7bd3-4daa-980f-f81f867f9447",
   "metadata": {},
   "outputs": [
    {
     "data": {
      "text/plain": [
       "[5, 4, 3, 2, 1]"
      ]
     },
     "execution_count": 97,
     "metadata": {},
     "output_type": "execute_result"
    }
   ],
   "source": [
    "list(range(5, 0, -1))"
   ]
  },
  {
   "cell_type": "code",
   "execution_count": 98,
   "id": "9269c012-0140-45d6-82d5-60018d34bb96",
   "metadata": {},
   "outputs": [
    {
     "name": "stdout",
     "output_type": "stream",
     "text": [
      "*****\n",
      "****\n",
      "***\n",
      "**\n",
      "*\n"
     ]
    }
   ],
   "source": [
    "# 2\n",
    "for i in range(5, 0, -1) : # (, ,Step)\n",
    "    print(\"*\" * i)"
   ]
  },
  {
   "cell_type": "code",
   "execution_count": 99,
   "id": "ee937218-4811-4903-87bc-7e9a346dd06d",
   "metadata": {},
   "outputs": [
    {
     "name": "stdout",
     "output_type": "stream",
     "text": [
      "*****\n",
      " ****\n",
      "  ***\n",
      "   **\n",
      "    *\n"
     ]
    }
   ],
   "source": [
    "# 3\n",
    "for i in range(5) :\n",
    "    print(\" \" * i + \"*\" * (5-i))   #앞쪽이 공백 / 뒷쪽이 별\n",
    "    "
   ]
  },
  {
   "cell_type": "code",
   "execution_count": 100,
   "id": "78b3b054-059f-4ff2-9437-5d5c72324076",
   "metadata": {},
   "outputs": [],
   "source": [
    "# 4"
   ]
  },
  {
   "cell_type": "code",
   "execution_count": 101,
   "id": "90aff017-ecb7-4877-9277-7164fac66461",
   "metadata": {},
   "outputs": [
    {
     "name": "stdout",
     "output_type": "stream",
     "text": [
      "   *\n",
      "  ***\n",
      " *****\n",
      "*******\n"
     ]
    }
   ],
   "source": [
    "for i in range(4) :\n",
    "    print((3-i)*' ' + ((2*i)+1)*'*')"
   ]
  },
  {
   "cell_type": "code",
   "execution_count": 102,
   "id": "ab5ca5e5-a162-4c37-844e-c92829942b2f",
   "metadata": {},
   "outputs": [
    {
     "name": "stdout",
     "output_type": "stream",
     "text": [
      "1 *\n",
      "3 ***\n",
      "5 *****\n",
      "7 *******\n"
     ]
    }
   ],
   "source": [
    "for i in range(1, 8, 2) :\n",
    "    print(i, '*' * i)"
   ]
  },
  {
   "cell_type": "code",
   "execution_count": 103,
   "id": "4910c207-f151-405e-b54e-1e8dd9b59186",
   "metadata": {},
   "outputs": [
    {
     "name": "stdout",
     "output_type": "stream",
     "text": [
      "1 1\n",
      "1 2\n",
      "----\n",
      "2 1\n",
      "2 2\n",
      "----\n",
      "3 1\n",
      "3 2\n",
      "----\n"
     ]
    }
   ],
   "source": [
    "for i in range(1, 4) :\n",
    "    for j in range(1, 3) :\n",
    "        print(i, j)\n",
    "    print('----')"
   ]
  },
  {
   "cell_type": "markdown",
   "id": "fc2c67f1-e864-435a-b3c7-4e4d5448d62a",
   "metadata": {},
   "source": [
    "## 구구단 만들기"
   ]
  },
  {
   "cell_type": "code",
   "execution_count": 104,
   "id": "b0941a81-1293-40af-9c90-af6914762481",
   "metadata": {
    "collapsed": true,
    "jupyter": {
     "outputs_hidden": true
    },
    "tags": []
   },
   "outputs": [
    {
     "name": "stdout",
     "output_type": "stream",
     "text": [
      "2 * 1 = 2\n",
      "2 * 2 = 4\n",
      "2 * 3 = 6\n",
      "2 * 4 = 8\n",
      "2 * 5 = 10\n",
      "2 * 6 = 12\n",
      "2 * 7 = 14\n",
      "2 * 8 = 16\n",
      "2 * 9 = 18\n",
      "------------\n",
      "3 * 1 = 3\n",
      "3 * 2 = 6\n",
      "3 * 3 = 9\n",
      "3 * 4 = 12\n",
      "3 * 5 = 15\n",
      "3 * 6 = 18\n",
      "3 * 7 = 21\n",
      "3 * 8 = 24\n",
      "3 * 9 = 27\n",
      "------------\n",
      "4 * 1 = 4\n",
      "4 * 2 = 8\n",
      "4 * 3 = 12\n",
      "4 * 4 = 16\n",
      "4 * 5 = 20\n",
      "4 * 6 = 24\n",
      "4 * 7 = 28\n",
      "4 * 8 = 32\n",
      "4 * 9 = 36\n",
      "------------\n",
      "5 * 1 = 5\n",
      "5 * 2 = 10\n",
      "5 * 3 = 15\n",
      "5 * 4 = 20\n",
      "5 * 5 = 25\n",
      "5 * 6 = 30\n",
      "5 * 7 = 35\n",
      "5 * 8 = 40\n",
      "5 * 9 = 45\n",
      "------------\n",
      "6 * 1 = 6\n",
      "6 * 2 = 12\n",
      "6 * 3 = 18\n",
      "6 * 4 = 24\n",
      "6 * 5 = 30\n",
      "6 * 6 = 36\n",
      "6 * 7 = 42\n",
      "6 * 8 = 48\n",
      "6 * 9 = 54\n",
      "------------\n",
      "7 * 1 = 7\n",
      "7 * 2 = 14\n",
      "7 * 3 = 21\n",
      "7 * 4 = 28\n",
      "7 * 5 = 35\n",
      "7 * 6 = 42\n",
      "7 * 7 = 49\n",
      "7 * 8 = 56\n",
      "7 * 9 = 63\n",
      "------------\n",
      "8 * 1 = 8\n",
      "8 * 2 = 16\n",
      "8 * 3 = 24\n",
      "8 * 4 = 32\n",
      "8 * 5 = 40\n",
      "8 * 6 = 48\n",
      "8 * 7 = 56\n",
      "8 * 8 = 64\n",
      "8 * 9 = 72\n",
      "------------\n",
      "9 * 1 = 9\n",
      "9 * 2 = 18\n",
      "9 * 3 = 27\n",
      "9 * 4 = 36\n",
      "9 * 5 = 45\n",
      "9 * 6 = 54\n",
      "9 * 7 = 63\n",
      "9 * 8 = 72\n",
      "9 * 9 = 81\n",
      "------------\n"
     ]
    }
   ],
   "source": [
    "#내가 풀어봄 / 강사님 풀이법\n",
    "for i in range(2, 10) :\n",
    "    for j in range(1, 10) :\n",
    "        print(i,'*', j, '=', i*j)\n",
    "    print('------------')"
   ]
  },
  {
   "cell_type": "code",
   "execution_count": 105,
   "id": "6b63d1a3-95ca-40d0-a0b5-02cf978c9077",
   "metadata": {},
   "outputs": [
    {
     "name": "stdout",
     "output_type": "stream",
     "text": [
      "★ 구구단을 출력합니다.\n",
      "\n",
      "------- [2단] -------\n",
      "2 X 1 = 2\n",
      "2 X 2 = 4\n",
      "2 X 3 = 6\n",
      "2 X 4 = 8\n",
      "2 X 5 = 10\n",
      "2 X 6 = 12\n",
      "2 X 7 = 14\n",
      "2 X 8 = 16\n",
      "2 X 9 = 18\n",
      "------- [3단] -------\n",
      "3 X 1 = 3\n",
      "3 X 2 = 6\n",
      "3 X 3 = 9\n",
      "3 X 4 = 12\n",
      "3 X 5 = 15\n",
      "3 X 6 = 18\n",
      "3 X 7 = 21\n",
      "3 X 8 = 24\n",
      "3 X 9 = 27\n",
      "------- [4단] -------\n",
      "4 X 1 = 4\n",
      "4 X 2 = 8\n",
      "4 X 3 = 12\n",
      "4 X 4 = 16\n",
      "4 X 5 = 20\n",
      "4 X 6 = 24\n",
      "4 X 7 = 28\n",
      "4 X 8 = 32\n",
      "4 X 9 = 36\n",
      "------- [5단] -------\n",
      "5 X 1 = 5\n",
      "5 X 2 = 10\n",
      "5 X 3 = 15\n",
      "5 X 4 = 20\n",
      "5 X 5 = 25\n",
      "5 X 6 = 30\n",
      "5 X 7 = 35\n",
      "5 X 8 = 40\n",
      "5 X 9 = 45\n",
      "------- [6단] -------\n",
      "6 X 1 = 6\n",
      "6 X 2 = 12\n",
      "6 X 3 = 18\n",
      "6 X 4 = 24\n",
      "6 X 5 = 30\n",
      "6 X 6 = 36\n",
      "6 X 7 = 42\n",
      "6 X 8 = 48\n",
      "6 X 9 = 54\n",
      "------- [7단] -------\n",
      "7 X 1 = 7\n",
      "7 X 2 = 14\n",
      "7 X 3 = 21\n",
      "7 X 4 = 28\n",
      "7 X 5 = 35\n",
      "7 X 6 = 42\n",
      "7 X 7 = 49\n",
      "7 X 8 = 56\n",
      "7 X 9 = 63\n",
      "------- [8단] -------\n",
      "8 X 1 = 8\n",
      "8 X 2 = 16\n",
      "8 X 3 = 24\n",
      "8 X 4 = 32\n",
      "8 X 5 = 40\n",
      "8 X 6 = 48\n",
      "8 X 7 = 56\n",
      "8 X 8 = 64\n",
      "8 X 9 = 72\n",
      "------- [9단] -------\n",
      "9 X 1 = 9\n",
      "9 X 2 = 18\n",
      "9 X 3 = 27\n",
      "9 X 4 = 36\n",
      "9 X 5 = 45\n",
      "9 X 6 = 54\n",
      "9 X 7 = 63\n",
      "9 X 8 = 72\n",
      "9 X 9 = 81\n",
      "---------------------\n"
     ]
    }
   ],
   "source": [
    "print(\"★ 구구단을 출력합니다.\\n\")\n",
    "for x in range(2, 10):\n",
    "    print(\"------- [\" + str(x) + \"단] -------\")\n",
    "    for y in range(1, 10):\n",
    "        print(x, \"X\", y, \"=\", x*y)\n",
    "print(\"---------------------\")"
   ]
  },
  {
   "cell_type": "code",
   "execution_count": 106,
   "id": "e98264d2-ca67-4990-b1d0-a318983f3241",
   "metadata": {},
   "outputs": [
    {
     "name": "stdout",
     "output_type": "stream",
     "text": [
      "2 * 1 = 2\n",
      "2 * 2 = 4\n",
      "2 * 3 = 6\n",
      "2 * 4 = 8\n",
      "2 * 5 = 10\n",
      "2 * 6 = 12\n",
      "2 * 7 = 14\n",
      "2 * 8 = 16\n",
      "2 * 9 = 18\n"
     ]
    }
   ],
   "source": [
    "for i in range(1, 10) :\n",
    "    print('2 *', i, '=', 2*i)"
   ]
  },
  {
   "cell_type": "markdown",
   "id": "afeb48a7-c500-47b0-8f31-e169c8be364d",
   "metadata": {},
   "source": [
    "## Quiz\n",
    "\n",
    "1. for문을 이용하여 recevied_list에서 allowed_list에 존재하지 않는 목록을 뽑아 spam_mail 이라는 리스트를 만드는 코드를 구현\n",
    "received_list = ['tom', 'jenny', 'kyle', 'young', 'temi']\n",
    "allowed_list = ['kyle', 'temi', 'json']\n",
    "\n",
    "2. for \n"
   ]
  },
  {
   "cell_type": "markdown",
   "id": "8db99f2b-51a6-4df4-b9bb-0bb8e1be08d2",
   "metadata": {},
   "source": [
    "## Quiz(오후1)\n",
    "1. for문을 이용하여 recevied_list에서 allowed_list에 존재하는 않는 목록을 뽑아 spam_mail 이라는 리스트를 만드는 코드를 구현  (다시하기)  \n",
    "received_list = ['tom', 'jenny', 'kyle', 'young', 'tami']  \n",
    "allowed_list = ['kyle', 'tami', 'json']  \n",
    "\n",
    "2. for문을 이용하여 word_list에서 단어가 7글자 이상이면 모두 대문자(.upper)로, 7글자 미만이면 모두 소문자(.lower)로 출력하는 코드를 구현       (다시하기)  \n",
    "word_list = ['culture','symbol','effect','experience','affair']        \n",
    "\n",
    "3. 구구단 3단 중 결과가 홀수인 결과만 출력하는 코드를 구현\n",
    "\n",
    "4. 다음 2차원 리스트의 모든 요소를 출력하는 코드를 구현                           (다시하기)  \n",
    "matrix=[[1,2,3],[4,5,6],[7,8,9],[10,11,12]]     "
   ]
  },
  {
   "cell_type": "code",
   "execution_count": 107,
   "id": "735b4cb1-cc7d-4719-87da-359a68e74710",
   "metadata": {},
   "outputs": [],
   "source": [
    "# 1 (나)\n",
    "received_list = ['tom', 'jenny', 'kyle', 'young', 'tami']\n",
    "allowed_list = ['kyle', 'tami', 'json']\n",
    "spam_list = []"
   ]
  },
  {
   "cell_type": "code",
   "execution_count": 108,
   "id": "d0ae744a-71ed-468e-9f53-83d2b1e08218",
   "metadata": {},
   "outputs": [],
   "source": [
    "# 1 (강사님) 강사님 풀이법\n",
    "\n",
    "for user in received_list :\n",
    "    # print(user)\n",
    "    if user not in allowed_list :\n",
    "        # print(user)\n",
    "        spam_list.append(user)"
   ]
  },
  {
   "cell_type": "code",
   "execution_count": 109,
   "id": "b168d005-3ac1-49dd-984e-c811c345dad8",
   "metadata": {},
   "outputs": [],
   "source": [
    "# 2 (강사님) 강사님 풀이법"
   ]
  },
  {
   "cell_type": "code",
   "execution_count": 110,
   "id": "dbccbd22-13e9-414f-9219-894db9bbe8d9",
   "metadata": {},
   "outputs": [],
   "source": [
    "word_list = ['culture','symbol','effect','experience','affair']"
   ]
  },
  {
   "cell_type": "code",
   "execution_count": 111,
   "id": "10de193a-edaa-4e39-8975-f6769e779c7b",
   "metadata": {},
   "outputs": [
    {
     "name": "stdout",
     "output_type": "stream",
     "text": [
      "7\n",
      "CULTURE\n",
      "6\n",
      "symbol\n",
      "6\n",
      "effect\n",
      "10\n",
      "EXPERIENCE\n",
      "6\n",
      "affair\n"
     ]
    }
   ],
   "source": [
    "for word in word_list :\n",
    "    print(len(word))\n",
    "    if len(word) >= 7 :\n",
    "        print(word.upper())\n",
    "    else :\n",
    "        print(word.lower())"
   ]
  },
  {
   "cell_type": "code",
   "execution_count": 112,
   "id": "8da7ff69-0e2c-4d91-b298-4cbfd7bf62bf",
   "metadata": {
    "tags": []
   },
   "outputs": [
    {
     "name": "stdout",
     "output_type": "stream",
     "text": [
      "3 * 1 = 3\n",
      "3 * 3 = 9\n",
      "3 * 5 = 15\n",
      "3 * 7 = 21\n",
      "3 * 9 = 27\n"
     ]
    }
   ],
   "source": [
    "# 3 (나)\n",
    "\n",
    "for i in range(1, 10) :\n",
    "    if i % 2 == 1 :\n",
    "        print('3 *', i, '=', 3*i)"
   ]
  },
  {
   "cell_type": "code",
   "execution_count": 113,
   "id": "de25b289-b7a6-4b2d-942a-cc13c91e2dda",
   "metadata": {},
   "outputs": [
    {
     "name": "stdout",
     "output_type": "stream",
     "text": [
      "3 * 1 = 3\n",
      "3 * 3 = 3\n",
      "3 * 5 = 3\n",
      "3 * 7 = 3\n",
      "3 * 9 = 3\n"
     ]
    }
   ],
   "source": [
    "# 3 (강사님) 강사님 풀이법\n",
    "\n",
    "num = 3\n",
    "for i in range(1, 10) :\n",
    "    if (num*i % 2 == 1) :\n",
    "        print(num, '*', i, '=', num*1)"
   ]
  },
  {
   "cell_type": "code",
   "execution_count": 114,
   "id": "ba76ee5e-8164-47f3-95d6-3e9ae5f4ff44",
   "metadata": {},
   "outputs": [],
   "source": [
    "# 4 (강사님) 강사님 풀이법"
   ]
  },
  {
   "cell_type": "code",
   "execution_count": 115,
   "id": "07b42c94-6480-4798-9ada-118f5a6673ac",
   "metadata": {},
   "outputs": [],
   "source": [
    "matrix = [[1,2,3],[4,5,6],[7,8,9],[10,11,12]]"
   ]
  },
  {
   "cell_type": "code",
   "execution_count": 116,
   "id": "aae5959d-f79d-47c8-9bad-80316ae7e82a",
   "metadata": {},
   "outputs": [
    {
     "name": "stdout",
     "output_type": "stream",
     "text": [
      "1 2 3 \n",
      "4 5 6 \n",
      "7 8 9 \n",
      "10 11 12 \n"
     ]
    }
   ],
   "source": [
    "for m in matrix :\n",
    "    for i in m :\n",
    "        print(i, end=' ')\n",
    "    print('')"
   ]
  },
  {
   "cell_type": "markdown",
   "id": "a751ed03-cdae-430d-bdc8-605420d08e1a",
   "metadata": {},
   "source": [
    "## while문"
   ]
  },
  {
   "cell_type": "markdown",
   "id": "2936fdcd-6780-4e22-abc4-14e96f895c21",
   "metadata": {},
   "source": [
    "if 조건문 :\n",
    "    행동"
   ]
  },
  {
   "cell_type": "code",
   "execution_count": null,
   "id": "bc443dca-716e-4731-a822-2d7c93ac6cb3",
   "metadata": {},
   "outputs": [],
   "source": [
    "while 조건문 :\n",
    "    행동"
   ]
  },
  {
   "cell_type": "code",
   "execution_count": 118,
   "id": "698017fc-7258-4abb-aba8-fbaf8f9b03e2",
   "metadata": {},
   "outputs": [
    {
     "name": "stdout",
     "output_type": "stream",
     "text": [
      "count 0 입니다.\n",
      "count 1 입니다.\n",
      "count 2 입니다.\n",
      "count 3 입니다.\n",
      "count 4 입니다.\n"
     ]
    }
   ],
   "source": [
    "count = 0\n",
    "while count < 5 :\n",
    "    print(\"count\", count, \"입니다.\")\n",
    "    count += 1 # count = count + 1"
   ]
  },
  {
   "cell_type": "code",
   "execution_count": 119,
   "id": "e943f04f-c6eb-4dc7-9139-06c3afad3a15",
   "metadata": {
    "tags": []
   },
   "outputs": [
    {
     "name": "stdout",
     "output_type": "stream",
     "text": [
      "count 0 입니다.\n",
      "count 1 입니다.\n",
      "count 2 입니다.\n",
      "count 3 입니다.\n",
      "count 4 입니다.\n"
     ]
    }
   ],
   "source": [
    "for i in range(5) :\n",
    "    print(\"count\", i, \"입니다.\")"
   ]
  },
  {
   "cell_type": "markdown",
   "id": "55b67f3f-75f9-40ce-bec6-c44269089b0b",
   "metadata": {},
   "source": [
    "## import random"
   ]
  },
  {
   "cell_type": "code",
   "execution_count": 120,
   "id": "478f0355-beaa-4e68-aa46-96964d585e86",
   "metadata": {},
   "outputs": [],
   "source": [
    "import random"
   ]
  },
  {
   "cell_type": "code",
   "execution_count": 121,
   "id": "5972e014-3682-4d3f-9ec1-fae4ec275505",
   "metadata": {},
   "outputs": [],
   "source": [
    "random.seed(1)"
   ]
  },
  {
   "cell_type": "code",
   "execution_count": 122,
   "id": "10e4ea5e-bc1d-46f4-818b-77e4c2d16ebb",
   "metadata": {},
   "outputs": [
    {
     "data": {
      "text/plain": [
       "138"
      ]
     },
     "execution_count": 122,
     "metadata": {},
     "output_type": "execute_result"
    }
   ],
   "source": [
    "random.randint(1, 1000)"
   ]
  },
  {
   "cell_type": "code",
   "execution_count": 123,
   "id": "f0595ebb-29ba-46e8-880b-d4cda531f99c",
   "metadata": {},
   "outputs": [],
   "source": [
    "random_list = []"
   ]
  },
  {
   "cell_type": "code",
   "execution_count": 124,
   "id": "84abcb69-cddf-49db-9a6d-12658644c810",
   "metadata": {},
   "outputs": [],
   "source": [
    "for i in range (100) :\n",
    "    random_list.append(random.randint(1, 1000))"
   ]
  },
  {
   "cell_type": "code",
   "execution_count": 125,
   "id": "9c9fbc93-3b1a-4f1e-a018-6ab279165bd1",
   "metadata": {
    "collapsed": true,
    "jupyter": {
     "outputs_hidden": true
    },
    "tags": []
   },
   "outputs": [
    {
     "data": {
      "text/plain": [
       "[583,\n",
       " 868,\n",
       " 822,\n",
       " 783,\n",
       " 65,\n",
       " 262,\n",
       " 121,\n",
       " 508,\n",
       " 780,\n",
       " 461,\n",
       " 484,\n",
       " 668,\n",
       " 389,\n",
       " 808,\n",
       " 215,\n",
       " 97,\n",
       " 500,\n",
       " 30,\n",
       " 915,\n",
       " 856,\n",
       " 400,\n",
       " 444,\n",
       " 623,\n",
       " 781,\n",
       " 786,\n",
       " 3,\n",
       " 713,\n",
       " 457,\n",
       " 273,\n",
       " 739,\n",
       " 822,\n",
       " 235,\n",
       " 606,\n",
       " 968,\n",
       " 105,\n",
       " 924,\n",
       " 326,\n",
       " 32,\n",
       " 23,\n",
       " 27,\n",
       " 666,\n",
       " 555,\n",
       " 10,\n",
       " 962,\n",
       " 903,\n",
       " 391,\n",
       " 703,\n",
       " 222,\n",
       " 993,\n",
       " 433,\n",
       " 744,\n",
       " 30,\n",
       " 541,\n",
       " 228,\n",
       " 783,\n",
       " 449,\n",
       " 962,\n",
       " 508,\n",
       " 567,\n",
       " 239,\n",
       " 354,\n",
       " 237,\n",
       " 694,\n",
       " 225,\n",
       " 780,\n",
       " 471,\n",
       " 976,\n",
       " 297,\n",
       " 949,\n",
       " 23,\n",
       " 427,\n",
       " 858,\n",
       " 939,\n",
       " 570,\n",
       " 945,\n",
       " 658,\n",
       " 103,\n",
       " 191,\n",
       " 645,\n",
       " 742,\n",
       " 881,\n",
       " 304,\n",
       " 124,\n",
       " 761,\n",
       " 341,\n",
       " 918,\n",
       " 739,\n",
       " 997,\n",
       " 729,\n",
       " 513,\n",
       " 959,\n",
       " 991,\n",
       " 433,\n",
       " 520,\n",
       " 850,\n",
       " 933,\n",
       " 687,\n",
       " 195,\n",
       " 311,\n",
       " 291]"
      ]
     },
     "execution_count": 125,
     "metadata": {},
     "output_type": "execute_result"
    }
   ],
   "source": [
    "random_list"
   ]
  },
  {
   "cell_type": "code",
   "execution_count": 126,
   "id": "718b35f7-b8bd-47d3-bfa5-582e807587b8",
   "metadata": {},
   "outputs": [
    {
     "data": {
      "text/plain": [
       "100"
      ]
     },
     "execution_count": 126,
     "metadata": {},
     "output_type": "execute_result"
    }
   ],
   "source": [
    "len(random_list)"
   ]
  },
  {
   "cell_type": "code",
   "execution_count": 127,
   "id": "67964f9a-7131-400b-81e6-7c859c90792a",
   "metadata": {},
   "outputs": [],
   "source": [
    "random_list.sort(reverse=True)"
   ]
  },
  {
   "cell_type": "code",
   "execution_count": 128,
   "id": "75d2a253-437c-4c8c-bb41-3b2e41acee0d",
   "metadata": {
    "collapsed": true,
    "jupyter": {
     "outputs_hidden": true
    },
    "tags": []
   },
   "outputs": [
    {
     "name": "stdout",
     "output_type": "stream",
     "text": [
      "[997, 993, 991, 976, 968, 962, 962, 959, 949, 945, 939, 933, 924, 918, 915, 903, 881, 868, 858, 856, 850, 822, 822, 808, 786, 783, 783, 781, 780, 780, 761, 744, 742, 739, 739, 729, 713, 703, 694, 687, 668, 666, 658, 645, 623, 606, 583, 570, 567, 555, 541, 520, 513, 508, 508, 500, 484, 471, 461, 457, 449, 444, 433, 433, 427, 400, 391, 389, 354, 341, 326, 311, 304, 297, 291, 273, 262, 239, 237, 235, 228, 225, 222, 215, 195, 191, 124, 121, 105, 103, 97, 65, 32, 30, 30, 27, 23, 23, 10, 3] "
     ]
    }
   ],
   "source": [
    "print(random_list, end = ' ')"
   ]
  },
  {
   "cell_type": "code",
   "execution_count": 129,
   "id": "7c9fec62-d7d0-405c-9516-19ae113462a0",
   "metadata": {},
   "outputs": [
    {
     "data": {
      "text/plain": [
       "3"
      ]
     },
     "execution_count": 129,
     "metadata": {},
     "output_type": "execute_result"
    }
   ],
   "source": [
    "min(random_list)"
   ]
  },
  {
   "cell_type": "code",
   "execution_count": 130,
   "id": "13fad9d7-4d5b-4919-aa15-b8529bc2a569",
   "metadata": {},
   "outputs": [
    {
     "name": "stdout",
     "output_type": "stream",
     "text": [
      "0\n",
      "1\n",
      "2\n",
      "3\n",
      "4\n",
      "5\n",
      "6\n",
      "7\n",
      "8\n",
      "9\n",
      "10\n",
      "11\n",
      "12\n",
      "13\n",
      "14\n",
      "15\n",
      "16\n",
      "17\n",
      "18\n",
      "19\n",
      "20\n",
      "21\n",
      "22\n",
      "23\n",
      "24\n",
      "25\n",
      "26\n",
      "27\n",
      "28\n",
      "29\n",
      "30\n",
      "31\n",
      "32\n",
      "33\n",
      "34\n",
      "35\n",
      "36\n",
      "37\n",
      "38\n",
      "39\n",
      "40\n",
      "41\n",
      "42\n",
      "43\n",
      "44\n",
      "45\n",
      "46\n",
      "47\n",
      "48\n",
      "49\n",
      "50\n",
      "51\n",
      "52\n",
      "53\n",
      "54\n",
      "55\n",
      "56\n",
      "57\n",
      "58\n",
      "59\n",
      "60\n",
      "61\n",
      "62\n",
      "63\n",
      "64\n",
      "65\n",
      "66\n",
      "67\n",
      "68\n",
      "69\n",
      "70\n",
      "71\n",
      "72\n",
      "73\n",
      "74\n",
      "75\n",
      "76\n",
      "77\n",
      "78\n",
      "79\n",
      "80\n",
      "81\n",
      "82\n",
      "83\n",
      "84\n",
      "85\n",
      "86\n",
      "87\n",
      "88\n",
      "89\n",
      "90\n",
      "91\n",
      "92\n",
      "93\n",
      "94\n",
      "95\n",
      "96\n",
      "97\n",
      "98\n",
      "99\n"
     ]
    }
   ],
   "source": [
    "for i in range(len(random_list)) :\n",
    "    print(i)"
   ]
  },
  {
   "cell_type": "code",
   "execution_count": 131,
   "id": "80c64c18-eeb0-4b44-92ae-a2bbdc133174",
   "metadata": {},
   "outputs": [
    {
     "data": {
      "text/plain": [
       "997"
      ]
     },
     "execution_count": 131,
     "metadata": {},
     "output_type": "execute_result"
    }
   ],
   "source": [
    "max(random_list)"
   ]
  },
  {
   "cell_type": "code",
   "execution_count": 132,
   "id": "efa99774-0dec-4a08-8824-ab2f6e3c3ca6",
   "metadata": {},
   "outputs": [
    {
     "data": {
      "text/plain": [
       "[3, 1, 2, 4, 5]"
      ]
     },
     "execution_count": 132,
     "metadata": {},
     "output_type": "execute_result"
    }
   ],
   "source": [
    "[3, 1, 2, 4, 5]"
   ]
  },
  {
   "cell_type": "code",
   "execution_count": 133,
   "id": "b9e50be8-2f27-4f1f-80a6-35004bfac05b",
   "metadata": {},
   "outputs": [
    {
     "name": "stdout",
     "output_type": "stream",
     "text": [
      "997\n"
     ]
    }
   ],
   "source": [
    "# max 함수 쓰지 않고 최대값 찾는 코드\n",
    "max_n = random_list[0]\n",
    "\n",
    "for n in random_list :\n",
    "    if max_n < n :\n",
    "        max_n = n\n",
    "        \n",
    "print(max_n)"
   ]
  },
  {
   "cell_type": "code",
   "execution_count": 134,
   "id": "af576cd6-2807-494b-8b7a-661e97a9bc5c",
   "metadata": {},
   "outputs": [
    {
     "name": "stdout",
     "output_type": "stream",
     "text": [
      "3\n"
     ]
    }
   ],
   "source": [
    "# min 함수 쓰지 않고 최솟값 찾는 코드\n",
    "min_n = random_list[0]\n",
    "\n",
    "for n in random_list :\n",
    "    if min_n > n :\n",
    "        min_n = n\n",
    "        \n",
    "print(min_n)"
   ]
  },
  {
   "cell_type": "markdown",
   "id": "9292842b-f82e-4bef-b804-27456da4559d",
   "metadata": {},
   "source": [
    "## Quiz: 로또 프로그램 만들어 보기"
   ]
  },
  {
   "cell_type": "code",
   "execution_count": 135,
   "id": "1375fd34-f535-46ea-ae1e-2f8ba625793c",
   "metadata": {},
   "outputs": [],
   "source": [
    "lotto = list(range(1, 46))"
   ]
  },
  {
   "cell_type": "code",
   "execution_count": 136,
   "id": "b7780621-7239-4b7e-a930-f32dc8cc1b17",
   "metadata": {},
   "outputs": [],
   "source": [
    "import random\n",
    "random.shuffle(lotto)"
   ]
  },
  {
   "cell_type": "code",
   "execution_count": 137,
   "id": "d2fdd0f0-bba3-4497-935a-0efbdc33291b",
   "metadata": {
    "tags": []
   },
   "outputs": [
    {
     "data": {
      "text/plain": [
       "[23,\n",
       " 7,\n",
       " 19,\n",
       " 20,\n",
       " 39,\n",
       " 5,\n",
       " 8,\n",
       " 11,\n",
       " 18,\n",
       " 14,\n",
       " 36,\n",
       " 21,\n",
       " 28,\n",
       " 9,\n",
       " 40,\n",
       " 37,\n",
       " 43,\n",
       " 10,\n",
       " 2,\n",
       " 30,\n",
       " 1,\n",
       " 41,\n",
       " 35,\n",
       " 13,\n",
       " 29,\n",
       " 44,\n",
       " 25,\n",
       " 4,\n",
       " 17,\n",
       " 22,\n",
       " 15,\n",
       " 6,\n",
       " 34,\n",
       " 24,\n",
       " 12,\n",
       " 27,\n",
       " 42,\n",
       " 16,\n",
       " 31,\n",
       " 3,\n",
       " 45,\n",
       " 26,\n",
       " 33,\n",
       " 32,\n",
       " 38]"
      ]
     },
     "execution_count": 137,
     "metadata": {},
     "output_type": "execute_result"
    }
   ],
   "source": [
    "lotto"
   ]
  },
  {
   "cell_type": "code",
   "execution_count": 138,
   "id": "0b36380a-7491-46c1-b10c-fbb5a69918ec",
   "metadata": {},
   "outputs": [
    {
     "name": "stdout",
     "output_type": "stream",
     "text": [
      "[30, 35, 16, 44, 17, 5]\n",
      "[16, 32, 15, 5, 18, 1]\n",
      "[9, 40, 7, 17, 19, 25]\n",
      "[32, 7, 13, 30, 38, 16]\n",
      "[3, 27, 14, 31, 24, 32]\n",
      "[38, 7, 17, 37, 24, 18]\n",
      "[7, 39, 41, 3, 44, 2]\n",
      "[14, 21, 8, 37, 33, 19]\n",
      "[18, 40, 10, 44, 30, 27]\n",
      "[37, 30, 18, 44, 3, 11]\n"
     ]
    }
   ],
   "source": [
    "#리스트에서 6가지의 값만 뽑아보아라.\n",
    "for _ in range(10) : \n",
    "    random.shuffle(lotto)\n",
    "    print(lotto[:6])"
   ]
  }
 ],
 "metadata": {
  "kernelspec": {
   "display_name": "Python 3.9.13 ('base')",
   "language": "python",
   "name": "python3"
  },
  "language_info": {
   "codemirror_mode": {
    "name": "ipython",
    "version": 3
   },
   "file_extension": ".py",
   "mimetype": "text/x-python",
   "name": "python",
   "nbconvert_exporter": "python",
   "pygments_lexer": "ipython3",
   "version": "3.9.13"
  },
  "vscode": {
   "interpreter": {
    "hash": "701d4f28dcd0866722f5108a3a4cbcd08882d26398b6d44117e791d7b8102912"
   }
  }
 },
 "nbformat": 4,
 "nbformat_minor": 5
}
