{
 "cells": [
  {
   "cell_type": "code",
   "execution_count": 1,
   "id": "662a026b-7027-4b4d-be8b-0f863f9b3695",
   "metadata": {},
   "outputs": [],
   "source": [
    "#basic(2)_221019(수) -> 이어서 함수 부분 (어제 이어서 함수 부분(04-1 함수) (04-1 함수에서 input과 return에 대해서만 알면된다(?)))"
   ]
  },
  {
   "cell_type": "code",
   "execution_count": 2,
   "id": "ee4a5d5d-b286-45b1-84c5-14842e9cf2d1",
   "metadata": {},
   "outputs": [],
   "source": [
    "a = 1\n",
    "\n",
    "def test(a) :\n",
    "    scope_var = a + 1\n",
    "    print(scope_var)"
   ]
  },
  {
   "cell_type": "code",
   "execution_count": 3,
   "id": "5746946d-6f5c-48fc-9fea-dd75843235cb",
   "metadata": {},
   "outputs": [
    {
     "name": "stdout",
     "output_type": "stream",
     "text": [
      "2\n"
     ]
    }
   ],
   "source": [
    "test(a)"
   ]
  },
  {
   "cell_type": "code",
   "execution_count": 5,
   "id": "aeb4d7b0-9d93-4543-9d77-b3862066e4da",
   "metadata": {},
   "outputs": [],
   "source": [
    "def test2(a) :\n",
    "    a += 1\n",
    "    print(a)"
   ]
  },
  {
   "cell_type": "code",
   "execution_count": 6,
   "id": "62dbb78b-67b8-4bf0-8952-9be2774c8c7b",
   "metadata": {},
   "outputs": [
    {
     "name": "stdout",
     "output_type": "stream",
     "text": [
      "2\n"
     ]
    }
   ],
   "source": [
    "a = 1\n",
    "test(a)"
   ]
  },
  {
   "cell_type": "code",
   "execution_count": 7,
   "id": "6e1b969e-e72f-4119-ae4e-1ca5653ab423",
   "metadata": {},
   "outputs": [
    {
     "data": {
      "text/plain": [
       "1"
      ]
     },
     "execution_count": 7,
     "metadata": {},
     "output_type": "execute_result"
    }
   ],
   "source": [
    "a"
   ]
  },
  {
   "cell_type": "code",
   "execution_count": 8,
   "id": "b7c0d951-bcd2-4689-89e7-7f6cc921857a",
   "metadata": {},
   "outputs": [],
   "source": [
    "def test3() :\n",
    "    global a             #global a -> 뭐임? / 글로벌 변수는 잘 사용하지 않을 것이다. 그냥 귀찮을때나 알고리즘짜기 싫을때 가끔 사용할듯?\n",
    "    a += 1\n",
    "    print(a)"
   ]
  },
  {
   "cell_type": "code",
   "execution_count": 9,
   "id": "fd182fd2-4581-4256-abdc-ce705ef63b9f",
   "metadata": {},
   "outputs": [
    {
     "name": "stdout",
     "output_type": "stream",
     "text": [
      "4\n"
     ]
    }
   ],
   "source": [
    "a = 3\n",
    "test3()"
   ]
  },
  {
   "cell_type": "code",
   "execution_count": 10,
   "id": "8b2639bc-696f-4932-b62b-ddbf26d62129",
   "metadata": {},
   "outputs": [],
   "source": [
    "def many_args(*args) :\n",
    "    print(args)"
   ]
  },
  {
   "cell_type": "code",
   "execution_count": 11,
   "id": "1e5a940e-7903-439e-a4a2-01e4789f8ae9",
   "metadata": {},
   "outputs": [
    {
     "name": "stdout",
     "output_type": "stream",
     "text": [
      "(1, 2, 3)\n"
     ]
    }
   ],
   "source": [
    "many_args(1,2,3)"
   ]
  },
  {
   "cell_type": "code",
   "execution_count": 12,
   "id": "b569fe52-8ae5-4f49-84f0-7f7269604c19",
   "metadata": {},
   "outputs": [
    {
     "name": "stdout",
     "output_type": "stream",
     "text": [
      "(1, 2, 3, 4)\n"
     ]
    }
   ],
   "source": [
    "many_args(1,2,3,4)"
   ]
  },
  {
   "cell_type": "code",
   "execution_count": 13,
   "id": "ae307a38-1b84-4253-bf49-f6ecbeb94fc8",
   "metadata": {},
   "outputs": [],
   "source": [
    "def print_kwargs(**kwargs) :\n",
    "    print(kwargs)"
   ]
  },
  {
   "cell_type": "code",
   "execution_count": 14,
   "id": "31f72278-7283-4912-ab05-7f94586047a3",
   "metadata": {},
   "outputs": [
    {
     "name": "stdout",
     "output_type": "stream",
     "text": [
      "{'a': 1, 'b': 2}\n"
     ]
    }
   ],
   "source": [
    "print_kwargs(a=1, b=2)"
   ]
  },
  {
   "cell_type": "code",
   "execution_count": 15,
   "id": "c24e9ab5-e363-4b1e-8621-4b6d55a9eab5",
   "metadata": {},
   "outputs": [
    {
     "name": "stdout",
     "output_type": "stream",
     "text": [
      "{'foo': 'a', 'bar': 'b', 'c': 'c'}\n"
     ]
    }
   ],
   "source": [
    "print_kwargs(foo='a', bar='b', c='c')"
   ]
  },
  {
   "cell_type": "code",
   "execution_count": 16,
   "id": "bc967205-0281-4c2a-ae69-d3c1208379d1",
   "metadata": {},
   "outputs": [],
   "source": [
    "def print_kwargs(**kwargs) :\n",
    "    print(kwargs)\n",
    "    for key, value in kwargs.items() :\n",
    "        print(key,\":\", value)"
   ]
  },
  {
   "cell_type": "code",
   "execution_count": 17,
   "id": "d121ea3b-7023-42cd-a07f-02df2f18d5ab",
   "metadata": {},
   "outputs": [
    {
     "name": "stdout",
     "output_type": "stream",
     "text": [
      "{'a': 1, 'b': 2}\n",
      "a : 1\n",
      "b : 2\n"
     ]
    }
   ],
   "source": [
    "print_kwargs(a=1, b=2)"
   ]
  },
  {
   "cell_type": "code",
   "execution_count": 18,
   "id": "1cfa17cb-8731-47cb-ac64-792f26dfb648",
   "metadata": {},
   "outputs": [
    {
     "name": "stdout",
     "output_type": "stream",
     "text": [
      "{'a': [1, 2, 3], 'b': 2}\n",
      "a : [1, 2, 3]\n",
      "b : 2\n"
     ]
    }
   ],
   "source": [
    "print_kwargs(a=[1,2,3], b=2)"
   ]
  },
  {
   "cell_type": "code",
   "execution_count": 19,
   "id": "0f0fbb41-1fdd-42cf-bb7c-c9192d9dac4c",
   "metadata": {},
   "outputs": [],
   "source": [
    "def test(a, b, c) :\n",
    "    return a+b, a+c"
   ]
  },
  {
   "cell_type": "code",
   "execution_count": 20,
   "id": "442a1ded-cff2-422b-b752-2b0960eab65a",
   "metadata": {},
   "outputs": [
    {
     "data": {
      "text/plain": [
       "(3, 4)"
      ]
     },
     "execution_count": 20,
     "metadata": {},
     "output_type": "execute_result"
    }
   ],
   "source": [
    "test(1, 2, 3)"
   ]
  },
  {
   "cell_type": "code",
   "execution_count": 21,
   "id": "15fb8e05-f358-4e62-a838-f08c0dc017d5",
   "metadata": {},
   "outputs": [],
   "source": [
    "def test(a, b, c) :\n",
    "    return a+b, a+c"
   ]
  },
  {
   "cell_type": "code",
   "execution_count": 22,
   "id": "7a82e15a-640c-4ea0-b397-87750b6cda44",
   "metadata": {},
   "outputs": [],
   "source": [
    "ret1, ret2 = test(1, 2, 3)"
   ]
  },
  {
   "cell_type": "code",
   "execution_count": 23,
   "id": "1d285a42-5475-4aa0-a445-7cd0b380ae8f",
   "metadata": {},
   "outputs": [
    {
     "data": {
      "text/plain": [
       "3"
      ]
     },
     "execution_count": 23,
     "metadata": {},
     "output_type": "execute_result"
    }
   ],
   "source": [
    "ret1"
   ]
  },
  {
   "cell_type": "code",
   "execution_count": 24,
   "id": "2dbaa913-b6fa-474b-8596-c3da99121cef",
   "metadata": {},
   "outputs": [
    {
     "data": {
      "text/plain": [
       "4"
      ]
     },
     "execution_count": 24,
     "metadata": {},
     "output_type": "execute_result"
    }
   ],
   "source": [
    "ret2"
   ]
  },
  {
   "cell_type": "code",
   "execution_count": null,
   "id": "db70f4b4-5af3-43ee-a752-4720e00e856a",
   "metadata": {},
   "outputs": [],
   "source": [
    "#함수는 input이랑 return만 잘 알면 된다!!!!!!!!!!!! (?)"
   ]
  },
  {
   "cell_type": "markdown",
   "id": "f20a9caf-7e42-4823-92a8-e8256527e143",
   "metadata": {},
   "source": [
    "# 파일 입출력  \n",
    "\n",
    "핵심: 가중치를 저장해서 불러서 사용한다.(?)"
   ]
  },
  {
   "cell_type": "markdown",
   "id": "a89ba8bd-0c19-4e6e-b103-fcf9aee4668b",
   "metadata": {},
   "source": [
    "open(filename, mode)\n",
    "\n",
    "- r(read) : 읽음\n",
    "- a(append) : 기존 내용에다가 추가\n",
    "- w(write) : 새로운 파일\n"
   ]
  },
  {
   "cell_type": "code",
   "execution_count": 25,
   "id": "661810d5-c627-4223-93a3-8b1d6daca567",
   "metadata": {},
   "outputs": [],
   "source": [
    "f = open('4.sample4_1_221020(목).txt', 'r', encoding = 'utf-8')"
   ]
  },
  {
   "cell_type": "code",
   "execution_count": 26,
   "id": "86eae1c5-01e8-4f52-8931-b4d1bf6f9518",
   "metadata": {},
   "outputs": [],
   "source": [
    "line = f.readline()"
   ]
  },
  {
   "cell_type": "code",
   "execution_count": 27,
   "id": "68a7372d-3b41-4d7b-9f97-b5f6a41f4cf1",
   "metadata": {},
   "outputs": [
    {
     "name": "stdout",
     "output_type": "stream",
     "text": [
      "1번째 줄입니다.\n",
      "2번째 줄입니다.\n",
      "3번째 줄입니다.\n",
      "4번째 줄입니다.\n",
      "5번째 줄입니다.\n"
     ]
    }
   ],
   "source": [
    "f = open('4.sample4_1_221020(목).txt', 'r', encoding = 'utf-8')\n",
    "while True :\n",
    "    line = f.readline()\n",
    "    if line : \n",
    "        print(line, end = \"\")\n",
    "    else : \n",
    "        break"
   ]
  },
  {
   "cell_type": "code",
   "execution_count": 28,
   "id": "8da5e390-0236-4bd3-bf70-1d1a7d006fca",
   "metadata": {},
   "outputs": [],
   "source": [
    "f2 = open('4.sample4_2_221020(목).txt','r')  # 왜 값이 출력이 안될까 ?????????????????????????????????????"
   ]
  },
  {
   "cell_type": "code",
   "execution_count": 29,
   "id": "c06d6ee2-9f60-4951-8ad8-b4109e95823f",
   "metadata": {},
   "outputs": [],
   "source": [
    "data = f2.readline()"
   ]
  },
  {
   "cell_type": "code",
   "execution_count": 30,
   "id": "e6335424-e0ba-40a2-967c-ceffded964e3",
   "metadata": {},
   "outputs": [
    {
     "data": {
      "text/plain": [
       "'This is first text!\\n'"
      ]
     },
     "execution_count": 30,
     "metadata": {},
     "output_type": "execute_result"
    }
   ],
   "source": [
    "data"
   ]
  },
  {
   "cell_type": "code",
   "execution_count": 31,
   "id": "ae884f70-a7e8-41a1-82f2-5f661c63a6a8",
   "metadata": {},
   "outputs": [
    {
     "data": {
      "text/plain": [
       "'This is second text!\\nThis is third text!'"
      ]
     },
     "execution_count": 31,
     "metadata": {},
     "output_type": "execute_result"
    }
   ],
   "source": [
    "f2.read()"
   ]
  },
  {
   "cell_type": "code",
   "execution_count": 32,
   "id": "6a210701-8a41-46be-9e94-10f384cffdfb",
   "metadata": {},
   "outputs": [],
   "source": [
    "data = f2.read()"
   ]
  },
  {
   "cell_type": "code",
   "execution_count": 33,
   "id": "564a6bee-d420-4238-8467-cf8716440a7b",
   "metadata": {},
   "outputs": [
    {
     "data": {
      "text/plain": [
       "''"
      ]
     },
     "execution_count": 33,
     "metadata": {},
     "output_type": "execute_result"
    }
   ],
   "source": [
    "data"
   ]
  },
  {
   "cell_type": "code",
   "execution_count": 34,
   "id": "582517f6-237d-4068-a05d-30e8e68a74f5",
   "metadata": {},
   "outputs": [
    {
     "name": "stdout",
     "output_type": "stream",
     "text": [
      "\n"
     ]
    }
   ],
   "source": [
    "print(data)"
   ]
  },
  {
   "cell_type": "code",
   "execution_count": 35,
   "id": "f962da5b-7c55-4622-9ab8-e6840be01b8e",
   "metadata": {},
   "outputs": [
    {
     "data": {
      "text/plain": [
       "['']"
      ]
     },
     "execution_count": 35,
     "metadata": {},
     "output_type": "execute_result"
    }
   ],
   "source": [
    "data.split('\\n')"
   ]
  },
  {
   "cell_type": "code",
   "execution_count": 36,
   "id": "952d0187-34c0-496d-9ac1-b4eba5ac9a66",
   "metadata": {
    "tags": []
   },
   "outputs": [
    {
     "name": "stdout",
     "output_type": "stream",
     "text": [
      "This is first text!\n",
      "This is second text!\n",
      "This is third text!\n",
      "['This is first text!', 'This is second text!', 'This is third text!']\n"
     ]
    }
   ],
   "source": [
    "f2 = open('4.sample4_2_221020(목).txt','r')\n",
    "data = f2.read()\n",
    "print(data)\n",
    "print(data.split('\\n'))\n",
    "f2.close()"
   ]
  },
  {
   "cell_type": "code",
   "execution_count": 37,
   "id": "c4cc5003-668d-4ecb-9bf6-25910565e3f4",
   "metadata": {},
   "outputs": [
    {
     "name": "stdout",
     "output_type": "stream",
     "text": [
      "1번째 출력입니다.\n",
      "\n",
      "2번째 출력입니다.\n",
      "\n",
      "3번째 출력입니다.\n",
      "\n",
      "4번째 출력입니다.\n",
      "\n",
      "5번째 출력입니다.\n",
      "\n"
     ]
    }
   ],
   "source": [
    "f3 = open('sample3.txt', 'w')\n",
    "\n",
    "for i in range(1, 6) :\n",
    "    data = str(i) + '번째 출력입니다.\\n'\n",
    "    print(data)\n",
    "    f3.write(data)\n",
    "\n",
    "f3.close()"
   ]
  },
  {
   "cell_type": "code",
   "execution_count": 38,
   "id": "6787c04b-3ab5-4189-9cbb-1dc1fb082cb7",
   "metadata": {},
   "outputs": [
    {
     "name": "stdout",
     "output_type": "stream",
     "text": [
      "1번째 출력입니다.\n",
      "\n",
      "2번째 출력입니다.\n",
      "\n",
      "3번째 출력입니다.\n",
      "\n",
      "4번째 출력입니다.\n",
      "\n",
      "5번째 출력입니다.\n",
      "\n"
     ]
    }
   ],
   "source": [
    "f3 = open('sample3.txt', 'w', encoding = 'utf-8')\n",
    "\n",
    "for i in range(1, 6) :\n",
    "    data = str(i) + '번째 출력입니다.\\n'\n",
    "    print(data)\n",
    "    f3.write(data)\n",
    "\n",
    "f3.close()"
   ]
  },
  {
   "cell_type": "code",
   "execution_count": 39,
   "id": "61ed693c-f909-447c-988f-98a29ca8cadb",
   "metadata": {},
   "outputs": [],
   "source": [
    "f4 = open('sample3.txt', 'r', encoding = 'utf-8')"
   ]
  },
  {
   "cell_type": "code",
   "execution_count": 40,
   "id": "32b33ac3-e011-4550-97b7-8cf270d8a11f",
   "metadata": {},
   "outputs": [
    {
     "data": {
      "text/plain": [
       "'1번째 출력입니다.\\n2번째 출력입니다.\\n3번째 출력입니다.\\n4번째 출력입니다.\\n5번째 출력입니다.\\n'"
      ]
     },
     "execution_count": 40,
     "metadata": {},
     "output_type": "execute_result"
    }
   ],
   "source": [
    "f4.read()"
   ]
  },
  {
   "cell_type": "code",
   "execution_count": 41,
   "id": "5a7a7306-cda8-445e-a474-c0dd98bf19a8",
   "metadata": {},
   "outputs": [],
   "source": [
    "# 한줄씩읽는다.(readline) / 한줄씩 짤라서 전체를 다 가져온다.(readlines) / 통으로 다 읽어온다.(read)"
   ]
  },
  {
   "cell_type": "code",
   "execution_count": 42,
   "id": "cb27705c-ada5-4409-9518-5beddf5c06a3",
   "metadata": {},
   "outputs": [],
   "source": [
    "f5 = open('sample3.txt', 'a', encoding = 'utf-8')"
   ]
  },
  {
   "cell_type": "code",
   "execution_count": 43,
   "id": "ed664854-a036-4476-8746-76667f07ebda",
   "metadata": {},
   "outputs": [
    {
     "name": "stdout",
     "output_type": "stream",
     "text": [
      "6번째 출력입니다.\n",
      "\n",
      "7번째 출력입니다.\n",
      "\n",
      "8번째 출력입니다.\n",
      "\n",
      "9번째 출력입니다.\n",
      "\n",
      "10번째 출력입니다.\n",
      "\n"
     ]
    }
   ],
   "source": [
    "for i in range(6, 11) :\n",
    "    data = str(i) + '번째 출력입니다.\\n'\n",
    "    print(data)\n",
    "    f5.write(data)\n",
    "f5.close()"
   ]
  },
  {
   "cell_type": "markdown",
   "id": "97034759-e856-45e2-b6c9-653bff2ded83",
   "metadata": {
    "tags": []
   },
   "source": [
    "## Quiz  \n",
    "\n",
    "quiz.txt  \n",
    "\n",
    "1. 1~100 파일에 작성하세요. (0)\n",
    "2. 100~1 파일 뒤에 추가하세요.  \n",
    "3. 파일의 전체 내용을 출력하세요.  \n"
   ]
  },
  {
   "cell_type": "code",
   "execution_count": 44,
   "id": "89aacfc0-474c-4d5c-96e7-124face10406",
   "metadata": {
    "tags": []
   },
   "outputs": [],
   "source": [
    "# 1.\n",
    "f6 = open('newsample.txt', 'w', encoding = 'utf-8')"
   ]
  },
  {
   "cell_type": "code",
   "execution_count": 45,
   "id": "c1e5b5fa-9493-4589-8462-42cadf9ac96d",
   "metadata": {
    "tags": []
   },
   "outputs": [
    {
     "name": "stdout",
     "output_type": "stream",
     "text": [
      "1\n",
      "\n",
      "2\n",
      "\n",
      "3\n",
      "\n",
      "4\n",
      "\n",
      "5\n",
      "\n",
      "6\n",
      "\n",
      "7\n",
      "\n",
      "8\n",
      "\n",
      "9\n",
      "\n",
      "10\n",
      "\n",
      "11\n",
      "\n",
      "12\n",
      "\n",
      "13\n",
      "\n",
      "14\n",
      "\n",
      "15\n",
      "\n",
      "16\n",
      "\n",
      "17\n",
      "\n",
      "18\n",
      "\n",
      "19\n",
      "\n",
      "20\n",
      "\n",
      "21\n",
      "\n",
      "22\n",
      "\n",
      "23\n",
      "\n",
      "24\n",
      "\n",
      "25\n",
      "\n",
      "26\n",
      "\n",
      "27\n",
      "\n",
      "28\n",
      "\n",
      "29\n",
      "\n",
      "30\n",
      "\n",
      "31\n",
      "\n",
      "32\n",
      "\n",
      "33\n",
      "\n",
      "34\n",
      "\n",
      "35\n",
      "\n",
      "36\n",
      "\n",
      "37\n",
      "\n",
      "38\n",
      "\n",
      "39\n",
      "\n",
      "40\n",
      "\n",
      "41\n",
      "\n",
      "42\n",
      "\n",
      "43\n",
      "\n",
      "44\n",
      "\n",
      "45\n",
      "\n",
      "46\n",
      "\n",
      "47\n",
      "\n",
      "48\n",
      "\n",
      "49\n",
      "\n",
      "50\n",
      "\n",
      "51\n",
      "\n",
      "52\n",
      "\n",
      "53\n",
      "\n",
      "54\n",
      "\n",
      "55\n",
      "\n",
      "56\n",
      "\n",
      "57\n",
      "\n",
      "58\n",
      "\n",
      "59\n",
      "\n",
      "60\n",
      "\n",
      "61\n",
      "\n",
      "62\n",
      "\n",
      "63\n",
      "\n",
      "64\n",
      "\n",
      "65\n",
      "\n",
      "66\n",
      "\n",
      "67\n",
      "\n",
      "68\n",
      "\n",
      "69\n",
      "\n",
      "70\n",
      "\n",
      "71\n",
      "\n",
      "72\n",
      "\n",
      "73\n",
      "\n",
      "74\n",
      "\n",
      "75\n",
      "\n",
      "76\n",
      "\n",
      "77\n",
      "\n",
      "78\n",
      "\n",
      "79\n",
      "\n",
      "80\n",
      "\n",
      "81\n",
      "\n",
      "82\n",
      "\n",
      "83\n",
      "\n",
      "84\n",
      "\n",
      "85\n",
      "\n",
      "86\n",
      "\n",
      "87\n",
      "\n",
      "88\n",
      "\n",
      "89\n",
      "\n",
      "90\n",
      "\n",
      "91\n",
      "\n",
      "92\n",
      "\n",
      "93\n",
      "\n",
      "94\n",
      "\n",
      "95\n",
      "\n",
      "96\n",
      "\n",
      "97\n",
      "\n",
      "98\n",
      "\n",
      "99\n",
      "\n",
      "100\n",
      "\n"
     ]
    }
   ],
   "source": [
    "for i in range(1, 101) :\n",
    "    data = str(i) + '\\n'\n",
    "    print(data)\n",
    "    f6.write(data)\n",
    "    \n",
    "f6.close()"
   ]
  },
  {
   "cell_type": "code",
   "execution_count": 46,
   "id": "5192e18e-dc85-4280-a844-aabf3a7bc75a",
   "metadata": {
    "tags": []
   },
   "outputs": [
    {
     "name": "stdout",
     "output_type": "stream",
     "text": [
      "100\n",
      "\n",
      "99\n",
      "\n",
      "98\n",
      "\n",
      "97\n",
      "\n",
      "96\n",
      "\n",
      "95\n",
      "\n",
      "94\n",
      "\n",
      "93\n",
      "\n",
      "92\n",
      "\n",
      "91\n",
      "\n",
      "90\n",
      "\n",
      "89\n",
      "\n",
      "88\n",
      "\n",
      "87\n",
      "\n",
      "86\n",
      "\n",
      "85\n",
      "\n",
      "84\n",
      "\n",
      "83\n",
      "\n",
      "82\n",
      "\n",
      "81\n",
      "\n",
      "80\n",
      "\n",
      "79\n",
      "\n",
      "78\n",
      "\n",
      "77\n",
      "\n",
      "76\n",
      "\n",
      "75\n",
      "\n",
      "74\n",
      "\n",
      "73\n",
      "\n",
      "72\n",
      "\n",
      "71\n",
      "\n",
      "70\n",
      "\n",
      "69\n",
      "\n",
      "68\n",
      "\n",
      "67\n",
      "\n",
      "66\n",
      "\n",
      "65\n",
      "\n",
      "64\n",
      "\n",
      "63\n",
      "\n",
      "62\n",
      "\n",
      "61\n",
      "\n",
      "60\n",
      "\n",
      "59\n",
      "\n",
      "58\n",
      "\n",
      "57\n",
      "\n",
      "56\n",
      "\n",
      "55\n",
      "\n",
      "54\n",
      "\n",
      "53\n",
      "\n",
      "52\n",
      "\n",
      "51\n",
      "\n",
      "50\n",
      "\n",
      "49\n",
      "\n",
      "48\n",
      "\n",
      "47\n",
      "\n",
      "46\n",
      "\n",
      "45\n",
      "\n",
      "44\n",
      "\n",
      "43\n",
      "\n",
      "42\n",
      "\n",
      "41\n",
      "\n",
      "40\n",
      "\n",
      "39\n",
      "\n",
      "38\n",
      "\n",
      "37\n",
      "\n",
      "36\n",
      "\n",
      "35\n",
      "\n",
      "34\n",
      "\n",
      "33\n",
      "\n",
      "32\n",
      "\n",
      "31\n",
      "\n",
      "30\n",
      "\n",
      "29\n",
      "\n",
      "28\n",
      "\n",
      "27\n",
      "\n",
      "26\n",
      "\n",
      "25\n",
      "\n",
      "24\n",
      "\n",
      "23\n",
      "\n",
      "22\n",
      "\n",
      "21\n",
      "\n",
      "20\n",
      "\n",
      "19\n",
      "\n",
      "18\n",
      "\n",
      "17\n",
      "\n",
      "16\n",
      "\n",
      "15\n",
      "\n",
      "14\n",
      "\n",
      "13\n",
      "\n",
      "12\n",
      "\n",
      "11\n",
      "\n",
      "10\n",
      "\n",
      "9\n",
      "\n",
      "8\n",
      "\n",
      "7\n",
      "\n",
      "6\n",
      "\n",
      "5\n",
      "\n",
      "4\n",
      "\n",
      "3\n",
      "\n",
      "2\n",
      "\n",
      "1\n",
      "\n"
     ]
    }
   ],
   "source": [
    "# 2.\n",
    "f6 = open('newsample.txt', 'a', encoding = 'utf-8')\n",
    "for i in range(100, 0, -1) :\n",
    "    data = str(i) + '\\n'\n",
    "    print(data)\n",
    "    f6.write(data)\n",
    "    \n",
    "f6.close()"
   ]
  },
  {
   "cell_type": "code",
   "execution_count": 47,
   "id": "c17eed83-fb4f-4658-a018-2a990b5c070e",
   "metadata": {},
   "outputs": [
    {
     "data": {
      "text/plain": [
       "1"
      ]
     },
     "execution_count": 47,
     "metadata": {},
     "output_type": "execute_result"
    }
   ],
   "source": [
    "#example)\n",
    "1\n",
    "2\n",
    "...\n",
    "100\n",
    "100\n",
    "...\n",
    "2\n",
    "1"
   ]
  },
  {
   "cell_type": "code",
   "execution_count": 48,
   "id": "4a59817f-0db0-4722-8d50-c0ea16e26c4a",
   "metadata": {},
   "outputs": [
    {
     "name": "stdout",
     "output_type": "stream",
     "text": [
      "100\n",
      "\n"
     ]
    },
    {
     "ename": "UnsupportedOperation",
     "evalue": "not writable",
     "output_type": "error",
     "traceback": [
      "\u001b[0;31m---------------------------------------------------------------------------\u001b[0m",
      "\u001b[0;31mUnsupportedOperation\u001b[0m                      Traceback (most recent call last)",
      "\u001b[0;32m/var/folders/p_/hv88l_q965d2ywt45g92d86r0000gn/T/ipykernel_20666/4188331070.py\u001b[0m in \u001b[0;36m<module>\u001b[0;34m\u001b[0m\n\u001b[1;32m      4\u001b[0m     \u001b[0mdata\u001b[0m \u001b[0;34m=\u001b[0m \u001b[0mstr\u001b[0m\u001b[0;34m(\u001b[0m\u001b[0mi\u001b[0m\u001b[0;34m)\u001b[0m \u001b[0;34m+\u001b[0m \u001b[0;34m'\\n'\u001b[0m\u001b[0;34m\u001b[0m\u001b[0;34m\u001b[0m\u001b[0m\n\u001b[1;32m      5\u001b[0m     \u001b[0mprint\u001b[0m\u001b[0;34m(\u001b[0m\u001b[0mdata\u001b[0m\u001b[0;34m)\u001b[0m\u001b[0;34m\u001b[0m\u001b[0;34m\u001b[0m\u001b[0m\n\u001b[0;32m----> 6\u001b[0;31m     \u001b[0mf6\u001b[0m\u001b[0;34m.\u001b[0m\u001b[0mwrite\u001b[0m\u001b[0;34m(\u001b[0m\u001b[0mdata\u001b[0m\u001b[0;34m)\u001b[0m\u001b[0;34m\u001b[0m\u001b[0;34m\u001b[0m\u001b[0m\n\u001b[0m\u001b[1;32m      7\u001b[0m \u001b[0;34m\u001b[0m\u001b[0m\n\u001b[1;32m      8\u001b[0m \u001b[0;34m\u001b[0m\u001b[0m\n",
      "\u001b[0;31mUnsupportedOperation\u001b[0m: not writable"
     ]
    }
   ],
   "source": [
    "# 3 (다시해야함!!!!!!!!!!!!!!!!)\n",
    "f6 = open('newsample.txt', 'r', encoding = 'utf-8')\n",
    "for i in range(100, 0, -1) :\n",
    "    data = str(i) + '\\n'\n",
    "    print(data)\n",
    "    f6.write(data)"
   ]
  },
  {
   "cell_type": "code",
   "execution_count": 52,
   "id": "69e00441-6a90-4036-99d8-f78a4923893e",
   "metadata": {},
   "outputs": [],
   "source": [
    "# 강사님 풀이법"
   ]
  },
  {
   "cell_type": "code",
   "execution_count": 53,
   "id": "4f32c237-4273-4e6a-8498-49ad1d8e77a5",
   "metadata": {},
   "outputs": [],
   "source": [
    "f = open('quiz.txt', 'w', encoding = 'utf-8')"
   ]
  },
  {
   "cell_type": "code",
   "execution_count": 54,
   "id": "838e2d56-a768-4c25-8187-a66dcbfb80b3",
   "metadata": {},
   "outputs": [],
   "source": [
    "for i in range(1, 101) :\n",
    "    f.write(str(i) + '\\n')"
   ]
  },
  {
   "cell_type": "code",
   "execution_count": 55,
   "id": "a004fb53-db73-4e5b-ade9-61b32ad68ed7",
   "metadata": {},
   "outputs": [],
   "source": [
    "f.close()"
   ]
  },
  {
   "cell_type": "code",
   "execution_count": 56,
   "id": "bcef342b-b94e-43db-b066-a2273f4ea047",
   "metadata": {},
   "outputs": [],
   "source": [
    "f1 = open('quiz.txt', 'a', encoding = 'utf-8')"
   ]
  },
  {
   "cell_type": "code",
   "execution_count": 57,
   "id": "5a663f6a-0e5b-4d19-bb2a-bab81d5a08e9",
   "metadata": {},
   "outputs": [],
   "source": [
    "for i in range(100, 0, -1) :\n",
    "    f1.write(str(i) + '\\n')"
   ]
  },
  {
   "cell_type": "code",
   "execution_count": 58,
   "id": "fa565171-4a73-4681-bbd2-204a266b9478",
   "metadata": {},
   "outputs": [],
   "source": [
    "f1.close()"
   ]
  },
  {
   "cell_type": "code",
   "execution_count": 59,
   "id": "cda34a99-c864-42f6-83f9-0417105d28b8",
   "metadata": {
    "tags": []
   },
   "outputs": [
    {
     "name": "stdout",
     "output_type": "stream",
     "text": [
      "1\n",
      "2\n",
      "3\n",
      "4\n",
      "5\n",
      "6\n",
      "7\n",
      "8\n",
      "9\n",
      "10\n",
      "11\n",
      "12\n",
      "13\n",
      "14\n",
      "15\n",
      "16\n",
      "17\n",
      "18\n",
      "19\n",
      "20\n",
      "21\n",
      "22\n",
      "23\n",
      "24\n",
      "25\n",
      "26\n",
      "27\n",
      "28\n",
      "29\n",
      "30\n",
      "31\n",
      "32\n",
      "33\n",
      "34\n",
      "35\n",
      "36\n",
      "37\n",
      "38\n",
      "39\n",
      "40\n",
      "41\n",
      "42\n",
      "43\n",
      "44\n",
      "45\n",
      "46\n",
      "47\n",
      "48\n",
      "49\n",
      "50\n",
      "51\n",
      "52\n",
      "53\n",
      "54\n",
      "55\n",
      "56\n",
      "57\n",
      "58\n",
      "59\n",
      "60\n",
      "61\n",
      "62\n",
      "63\n",
      "64\n",
      "65\n",
      "66\n",
      "67\n",
      "68\n",
      "69\n",
      "70\n",
      "71\n",
      "72\n",
      "73\n",
      "74\n",
      "75\n",
      "76\n",
      "77\n",
      "78\n",
      "79\n",
      "80\n",
      "81\n",
      "82\n",
      "83\n",
      "84\n",
      "85\n",
      "86\n",
      "87\n",
      "88\n",
      "89\n",
      "90\n",
      "91\n",
      "92\n",
      "93\n",
      "94\n",
      "95\n",
      "96\n",
      "97\n",
      "98\n",
      "99\n",
      "100\n",
      "100\n",
      "99\n",
      "98\n",
      "97\n",
      "96\n",
      "95\n",
      "94\n",
      "93\n",
      "92\n",
      "91\n",
      "90\n",
      "89\n",
      "88\n",
      "87\n",
      "86\n",
      "85\n",
      "84\n",
      "83\n",
      "82\n",
      "81\n",
      "80\n",
      "79\n",
      "78\n",
      "77\n",
      "76\n",
      "75\n",
      "74\n",
      "73\n",
      "72\n",
      "71\n",
      "70\n",
      "69\n",
      "68\n",
      "67\n",
      "66\n",
      "65\n",
      "64\n",
      "63\n",
      "62\n",
      "61\n",
      "60\n",
      "59\n",
      "58\n",
      "57\n",
      "56\n",
      "55\n",
      "54\n",
      "53\n",
      "52\n",
      "51\n",
      "50\n",
      "49\n",
      "48\n",
      "47\n",
      "46\n",
      "45\n",
      "44\n",
      "43\n",
      "42\n",
      "41\n",
      "40\n",
      "39\n",
      "38\n",
      "37\n",
      "36\n",
      "35\n",
      "34\n",
      "33\n",
      "32\n",
      "31\n",
      "30\n",
      "29\n",
      "28\n",
      "27\n",
      "26\n",
      "25\n",
      "24\n",
      "23\n",
      "22\n",
      "21\n",
      "20\n",
      "19\n",
      "18\n",
      "17\n",
      "16\n",
      "15\n",
      "14\n",
      "13\n",
      "12\n",
      "11\n",
      "10\n",
      "9\n",
      "8\n",
      "7\n",
      "6\n",
      "5\n",
      "4\n",
      "3\n",
      "2\n",
      "1\n",
      "\n"
     ]
    }
   ],
   "source": [
    "f2 = open('quiz.txt', 'r', encoding = 'utf-8')\n",
    "data = f2.read()\n",
    "print(data)\n",
    "f2.close()"
   ]
  },
  {
   "cell_type": "markdown",
   "id": "2960c2bd-cb4b-41ff-af78-0b0387014f1f",
   "metadata": {},
   "source": [
    "# 모듈 (3가지 방법) 중요!!!  \n",
    "1)  \n",
    "2)  \n",
    "3)  "
   ]
  },
  {
   "cell_type": "code",
   "execution_count": 65,
   "id": "763762f7-abac-4802-ab98-361a2ab04bd8",
   "metadata": {},
   "outputs": [
    {
     "ename": "NameError",
     "evalue": "name 'mod1' is not defined",
     "output_type": "error",
     "traceback": [
      "\u001b[0;31m---------------------------------------------------------------------------\u001b[0m",
      "\u001b[0;31mNameError\u001b[0m                                 Traceback (most recent call last)",
      "\u001b[0;32m/var/folders/p_/hv88l_q965d2ywt45g92d86r0000gn/T/ipykernel_20666/1767182882.py\u001b[0m in \u001b[0;36m<module>\u001b[0;34m\u001b[0m\n\u001b[0;32m----> 1\u001b[0;31m \u001b[0mmod1\u001b[0m\u001b[0;34m.\u001b[0m\u001b[0madd\u001b[0m\u001b[0;34m(\u001b[0m\u001b[0;36m1\u001b[0m\u001b[0;34m,\u001b[0m \u001b[0;36m2\u001b[0m\u001b[0;34m)\u001b[0m\u001b[0;34m\u001b[0m\u001b[0;34m\u001b[0m\u001b[0m\n\u001b[0m",
      "\u001b[0;31mNameError\u001b[0m: name 'mod1' is not defined"
     ]
    }
   ],
   "source": [
    "mod1.add(1, 2)"
   ]
  },
  {
   "cell_type": "code",
   "execution_count": 66,
   "id": "83cf5bc7-ddb4-40ba-8acd-c31e89edfa16",
   "metadata": {},
   "outputs": [
    {
     "ename": "NameError",
     "evalue": "name 'mod1' is not defined",
     "output_type": "error",
     "traceback": [
      "\u001b[0;31m---------------------------------------------------------------------------\u001b[0m",
      "\u001b[0;31mNameError\u001b[0m                                 Traceback (most recent call last)",
      "\u001b[0;32m/var/folders/p_/hv88l_q965d2ywt45g92d86r0000gn/T/ipykernel_20666/1710571164.py\u001b[0m in \u001b[0;36m<module>\u001b[0;34m\u001b[0m\n\u001b[0;32m----> 1\u001b[0;31m \u001b[0mmod1\u001b[0m\u001b[0;34m.\u001b[0m\u001b[0msub\u001b[0m\u001b[0;34m(\u001b[0m\u001b[0;36m2\u001b[0m\u001b[0;34m,\u001b[0m\u001b[0;36m1\u001b[0m\u001b[0;34m)\u001b[0m\u001b[0;34m\u001b[0m\u001b[0;34m\u001b[0m\u001b[0m\n\u001b[0m",
      "\u001b[0;31mNameError\u001b[0m: name 'mod1' is not defined"
     ]
    }
   ],
   "source": [
    "mod1.sub(2,1)"
   ]
  },
  {
   "cell_type": "code",
   "execution_count": 67,
   "id": "da097776-faeb-496d-a5d7-b3300bc1190a",
   "metadata": {},
   "outputs": [],
   "source": [
    "import random"
   ]
  },
  {
   "cell_type": "code",
   "execution_count": 68,
   "id": "6440a6b0-a1e9-4669-8fea-27185d96836e",
   "metadata": {},
   "outputs": [
    {
     "data": {
      "text/plain": [
       "1"
      ]
     },
     "execution_count": 68,
     "metadata": {},
     "output_type": "execute_result"
    }
   ],
   "source": [
    "random.randint(1, 3)"
   ]
  },
  {
   "cell_type": "code",
   "execution_count": 69,
   "id": "45e60887-9437-4d7c-8ae1-8bb6c6a69dc7",
   "metadata": {},
   "outputs": [
    {
     "ename": "ModuleNotFoundError",
     "evalue": "No module named 'mod1'",
     "output_type": "error",
     "traceback": [
      "\u001b[0;31m---------------------------------------------------------------------------\u001b[0m",
      "\u001b[0;31mModuleNotFoundError\u001b[0m                       Traceback (most recent call last)",
      "\u001b[0;32m/var/folders/p_/hv88l_q965d2ywt45g92d86r0000gn/T/ipykernel_20666/405880398.py\u001b[0m in \u001b[0;36m<module>\u001b[0;34m\u001b[0m\n\u001b[0;32m----> 1\u001b[0;31m \u001b[0;32mimport\u001b[0m \u001b[0mmod1\u001b[0m \u001b[0;32mas\u001b[0m \u001b[0mm\u001b[0m          \u001b[0;31m#이렇게 사용하는게 가장 베스트다. (일반적임)\u001b[0m\u001b[0;34m\u001b[0m\u001b[0;34m\u001b[0m\u001b[0m\n\u001b[0m",
      "\u001b[0;31mModuleNotFoundError\u001b[0m: No module named 'mod1'"
     ]
    }
   ],
   "source": [
    "import mod1 as m          #이렇게 사용하는게 가장 베스트다. (일반적임)"
   ]
  },
  {
   "cell_type": "code",
   "execution_count": 70,
   "id": "c7126469-e9a8-47f7-82c1-fbe7bd65df79",
   "metadata": {},
   "outputs": [
    {
     "ename": "NameError",
     "evalue": "name 'm' is not defined",
     "output_type": "error",
     "traceback": [
      "\u001b[0;31m---------------------------------------------------------------------------\u001b[0m",
      "\u001b[0;31mNameError\u001b[0m                                 Traceback (most recent call last)",
      "\u001b[0;32m/var/folders/p_/hv88l_q965d2ywt45g92d86r0000gn/T/ipykernel_20666/922688922.py\u001b[0m in \u001b[0;36m<module>\u001b[0;34m\u001b[0m\n\u001b[0;32m----> 1\u001b[0;31m \u001b[0mm\u001b[0m\u001b[0;34m.\u001b[0m\u001b[0madd\u001b[0m\u001b[0;34m(\u001b[0m\u001b[0;36m1\u001b[0m\u001b[0;34m,\u001b[0m \u001b[0;36m2\u001b[0m\u001b[0;34m)\u001b[0m                \u001b[0;31m#이렇게 사용하는게 가장 베스트다. (일반적임)\u001b[0m\u001b[0;34m\u001b[0m\u001b[0;34m\u001b[0m\u001b[0m\n\u001b[0m",
      "\u001b[0;31mNameError\u001b[0m: name 'm' is not defined"
     ]
    }
   ],
   "source": [
    "m.add(1, 2)                #이렇게 사용하는게 가장 베스트다. (일반적임)"
   ]
  },
  {
   "cell_type": "code",
   "execution_count": 71,
   "id": "e70b383d-9434-4e77-9149-8abe155c6ed5",
   "metadata": {},
   "outputs": [
    {
     "ename": "ModuleNotFoundError",
     "evalue": "No module named 'mod1'",
     "output_type": "error",
     "traceback": [
      "\u001b[0;31m---------------------------------------------------------------------------\u001b[0m",
      "\u001b[0;31mModuleNotFoundError\u001b[0m                       Traceback (most recent call last)",
      "\u001b[0;32m/var/folders/p_/hv88l_q965d2ywt45g92d86r0000gn/T/ipykernel_20666/2594285707.py\u001b[0m in \u001b[0;36m<module>\u001b[0;34m\u001b[0m\n\u001b[0;32m----> 1\u001b[0;31m \u001b[0;32mfrom\u001b[0m \u001b[0mmod1\u001b[0m \u001b[0;32mimport\u001b[0m \u001b[0madd\u001b[0m\u001b[0;34m,\u001b[0m \u001b[0msub\u001b[0m\u001b[0;34m\u001b[0m\u001b[0;34m\u001b[0m\u001b[0m\n\u001b[0m",
      "\u001b[0;31mModuleNotFoundError\u001b[0m: No module named 'mod1'"
     ]
    }
   ],
   "source": [
    "from mod1 import add, sub"
   ]
  },
  {
   "cell_type": "code",
   "execution_count": 72,
   "id": "0d5d5592-8e9f-410e-81a5-1bd65c8e0576",
   "metadata": {},
   "outputs": [
    {
     "ename": "NameError",
     "evalue": "name 'add' is not defined",
     "output_type": "error",
     "traceback": [
      "\u001b[0;31m---------------------------------------------------------------------------\u001b[0m",
      "\u001b[0;31mNameError\u001b[0m                                 Traceback (most recent call last)",
      "\u001b[0;32m/var/folders/p_/hv88l_q965d2ywt45g92d86r0000gn/T/ipykernel_20666/991749134.py\u001b[0m in \u001b[0;36m<module>\u001b[0;34m\u001b[0m\n\u001b[0;32m----> 1\u001b[0;31m \u001b[0madd\u001b[0m\u001b[0;34m(\u001b[0m\u001b[0;36m1\u001b[0m\u001b[0;34m,\u001b[0m\u001b[0;36m2\u001b[0m\u001b[0;34m)\u001b[0m\u001b[0;34m\u001b[0m\u001b[0;34m\u001b[0m\u001b[0m\n\u001b[0m",
      "\u001b[0;31mNameError\u001b[0m: name 'add' is not defined"
     ]
    }
   ],
   "source": [
    "add(1,2)"
   ]
  },
  {
   "cell_type": "code",
   "execution_count": null,
   "id": "623dc1c7-75b2-4f9a-a5f0-4eb1a3d5de1c",
   "metadata": {},
   "outputs": [],
   "source": [
    "sub(1,2)"
   ]
  },
  {
   "cell_type": "code",
   "execution_count": null,
   "id": "76c1b724-c43a-4eb6-8c1f-ebfae061a102",
   "metadata": {},
   "outputs": [],
   "source": [
    "from mod1 import *   #보통 이렇게는 잘 사용하지 않는다."
   ]
  },
  {
   "cell_type": "code",
   "execution_count": null,
   "id": "0080880e-229f-415a-ae45-58a4cdb4b63f",
   "metadata": {},
   "outputs": [],
   "source": [
    "import sesac.ai.func"
   ]
  },
  {
   "cell_type": "code",
   "execution_count": null,
   "id": "cc6e0f9f-ff35-4279-b346-19099702676b",
   "metadata": {},
   "outputs": [],
   "source": [
    "sesac.ai.func.test()"
   ]
  },
  {
   "cell_type": "code",
   "execution_count": null,
   "id": "742c3b85-44aa-43a1-8e69-77f253b41e00",
   "metadata": {},
   "outputs": [],
   "source": [
    "import sesac.ai.func as s"
   ]
  },
  {
   "cell_type": "code",
   "execution_count": null,
   "id": "529b64cf-7111-445c-81df-cd66551509ff",
   "metadata": {},
   "outputs": [],
   "source": [
    "s.test()"
   ]
  },
  {
   "cell_type": "code",
   "execution_count": null,
   "id": "76f64af5-bf47-4206-8184-16cac7bf8cf0",
   "metadata": {},
   "outputs": [],
   "source": [
    "from sesac.ai import func #이렇게 사용하는게 가장 베스트다. (일반적임)"
   ]
  },
  {
   "cell_type": "code",
   "execution_count": null,
   "id": "b0cd15d5-ad69-4751-8d84-d56ad29e5961",
   "metadata": {
    "tags": []
   },
   "outputs": [],
   "source": [
    "func.test()"
   ]
  },
  {
   "cell_type": "code",
   "execution_count": null,
   "id": "23a6c657-f740-4bba-8a49-fa1c7fb79323",
   "metadata": {},
   "outputs": [],
   "source": [
    "from sesac.ai.func import test, test2"
   ]
  },
  {
   "cell_type": "code",
   "execution_count": null,
   "id": "4a5f2531-f1a4-4dd2-a779-10a4c82fa3d9",
   "metadata": {},
   "outputs": [],
   "source": [
    "test()"
   ]
  },
  {
   "cell_type": "code",
   "execution_count": null,
   "id": "e0899820-f0ab-488e-a9b4-873fcac2c471",
   "metadata": {},
   "outputs": [],
   "source": [
    "test2()"
   ]
  },
  {
   "cell_type": "code",
   "execution_count": null,
   "id": "b14f3467-6f79-4f03-8ffc-d865d4cca3d4",
   "metadata": {},
   "outputs": [],
   "source": [
    "from sesac.ai import func"
   ]
  },
  {
   "cell_type": "code",
   "execution_count": null,
   "id": "92f7f38a-92fb-4944-8689-e015dde447af",
   "metadata": {},
   "outputs": [],
   "source": [
    "func.test2()"
   ]
  },
  {
   "cell_type": "code",
   "execution_count": null,
   "id": "b61fc9d4-1c97-47ca-8247-44e1ee5ff9df",
   "metadata": {},
   "outputs": [],
   "source": [
    "# 베스킨라빈스 31 게임 만들기 (while문->break 으로 만들기) / input() / random함수도 사용해야함 /\n",
    "## -규칙\n",
    "1. 1부터 1~3개까지 숫자를 연속적으로 이야기해야함\n",
    "2. 31을 말하는 사람이 지는거임\n",
    "3. 랜덤으로 선공과 후공을 정해야됨\n",
    "\n",
    "(선공)\n",
    "사용자로부터 숫자를 입력받는거 3개\n",
    "1, 2, 3\n",
    "컴퓨터는 1~3개, 2개\n",
    "4, 5\n",
    "\n",
    "랜덤으로 선공과 후공을 정해야됨"
   ]
  },
  {
   "cell_type": "code",
   "execution_count": null,
   "id": "3c38824d-e097-4535-b1d1-774bafda49c6",
   "metadata": {},
   "outputs": [],
   "source": [
    "\n",
    "\n",
    "count = 0\n",
    "while count < 5 :\n",
    "    print(\"count\", count, \"입니다.\")\n",
    "    count += 1 # count = count + 1"
   ]
  },
  {
   "cell_type": "code",
   "execution_count": null,
   "id": "e2601e00-8fe1-4278-aee0-9827b1c1514f",
   "metadata": {},
   "outputs": [],
   "source": [
    "a = input()"
   ]
  },
  {
   "cell_type": "code",
   "execution_count": null,
   "id": "c8988777-e956-4660-a243-15425a7e4825",
   "metadata": {},
   "outputs": [],
   "source": [
    "a"
   ]
  },
  {
   "cell_type": "code",
   "execution_count": null,
   "id": "6eaffedf-471f-46fe-85f2-67eaf97e6892",
   "metadata": {},
   "outputs": [],
   "source": [
    "number = input(\"숫자를 입력하세요: \")\n",
    "print(number)"
   ]
  },
  {
   "cell_type": "code",
   "execution_count": 1,
   "id": "819266b3-9f8a-4cfa-ab94-741ec2673239",
   "metadata": {
    "tags": []
   },
   "outputs": [
    {
     "name": "stdout",
     "output_type": "stream",
     "text": [
      "후공\n"
     ]
    }
   ],
   "source": [
    "#출력 했을 시, 선공 또는 후공이 임의로 출력되게 만들어보자\n",
    "\n",
    "import random\n",
    "turn = random.randint(0,1)\n",
    "\n",
    "if turn == 0 :\n",
    "    print(\"선공\")\n",
    "else :\n",
    "    print(\"후공\")\n",
    "    "
   ]
  },
  {
   "cell_type": "code",
   "execution_count": null,
   "id": "71a95269-6137-4db3-983b-37d64ebbadb8",
   "metadata": {
    "tags": []
   },
   "outputs": [],
   "source": [
    "# 선공 또는 후공 임의로 선택\n",
    "import random\n",
    "turn = random.randint(0,1)\n",
    "\n",
    "if turn == 0 :\n",
    "    print(\"사용자: 선공\", \",\", \"컴퓨터: 후공\")\n",
    "else :\n",
    "    print(\"사용자: 후공\", \",\", \"컴퓨터: 선공\")\n",
    "    \n",
    "#--------------------------------------------------------------------------------\n",
    "#게임 시작\n",
    "num = 0\n",
    "\n",
    "while True :\n",
    "    \n",
    "    if num >= 31 :\n",
    "        break\n",
    "#--------------------------------------------------------------------------------     \n",
    "    if turn == 0 :\n",
    "        print(\"'사용자의 차례입니다.'\")\n",
    "        user = input(\"숫자(1~3)를 입력해주세요:\")\n",
    "        if user in ['1','2','3'] :\n",
    "            user = int(user)\n",
    "            for i in range(user) :\n",
    "                num = num + 1\n",
    "                if num > 31 :\n",
    "                    break\n",
    "                print('사용자:', num)\n",
    "            turn = 1\n",
    "        else :\n",
    "            print(\"잘못 입력 하셨습니다.\")\n",
    "            \n",
    "#--------------------------------------------------------------------------------        \n",
    "    else :\n",
    "        com = random.randint(1,3)\n",
    "        print('컴퓨터의 차례입니다.')\n",
    "        for i in range(com) :\n",
    "            num = num + 1\n",
    "            if num > 31 :\n",
    "                break\n",
    "            print(num)\n",
    "        turn = 0\n",
    "#--------------------------------------------------------------------------------        \n",
    "if turn==0:\n",
    "    print('사용자 승')\n",
    "else:\n",
    "    print('컴퓨터 승')"
   ]
  },
  {
   "cell_type": "code",
   "execution_count": null,
   "id": "09b4b2e6-da07-414e-b71c-ba0561feca08",
   "metadata": {},
   "outputs": [],
   "source": []
  },
  {
   "cell_type": "markdown",
   "id": "31a04128-423f-418a-aed0-8fd949fcf5e0",
   "metadata": {},
   "source": [
    "## 모스 부호 해독 문제"
   ]
  },
  {
   "cell_type": "code",
   "execution_count": 45,
   "id": "f16679f6-9f3f-4744-b360-d996d8e65ca6",
   "metadata": {},
   "outputs": [
    {
     "data": {
      "text/plain": [
       "['.... .  ... .-.. . . .--. ...  . .- .-. .-.. -.--']"
      ]
     },
     "execution_count": 45,
     "metadata": {},
     "output_type": "execute_result"
    }
   ],
   "source": []
  },
  {
   "cell_type": "code",
   "execution_count": 53,
   "id": "0e9d01de-294b-4d4d-814c-d1be94a065e0",
   "metadata": {},
   "outputs": [
    {
     "ename": "NameError",
     "evalue": "name 'srt' is not defined",
     "output_type": "error",
     "traceback": [
      "\u001b[1;31m---------------------------------------------------------------------------\u001b[0m",
      "\u001b[1;31mNameError\u001b[0m                                 Traceback (most recent call last)",
      "Input \u001b[1;32mIn [53]\u001b[0m, in \u001b[0;36m<cell line: 28>\u001b[1;34m()\u001b[0m\n\u001b[0;32m     26\u001b[0m text1\u001b[38;5;241m=\u001b[39m\u001b[38;5;124m'\u001b[39m\u001b[38;5;124m'\u001b[39m\n\u001b[0;32m     27\u001b[0m dic3\u001b[38;5;241m=\u001b[39m{}\n\u001b[1;32m---> 28\u001b[0m test_list1\u001b[38;5;241m=\u001b[39m\u001b[43msrt\u001b[49m\u001b[38;5;241m.\u001b[39msplit()\n\u001b[0;32m     29\u001b[0m \u001b[38;5;28;01mfor\u001b[39;00m i \u001b[38;5;129;01min\u001b[39;00m \u001b[38;5;28mrange\u001b[39m(\u001b[38;5;28mlen\u001b[39m(test_list1)):\n\u001b[0;32m     30\u001b[0m     \u001b[38;5;28;01mif\u001b[39;00m i\u001b[38;5;241m%\u001b[39m\u001b[38;5;241m2\u001b[39m\u001b[38;5;241m==\u001b[39m\u001b[38;5;241m1\u001b[39m:\n",
      "\u001b[1;31mNameError\u001b[0m: name 'srt' is not defined"
     ]
    }
   ],
   "source": [
    "#1 mos_test -> dic화 \n",
    "\n",
    "mos_text=''' A\t.-\tN\t-.\n",
    "B\t-...\tO\t---\n",
    "C\t-.-.\tP\t.--.\n",
    "D\t-..\tQ\t--.-\n",
    "E\t.\tR\t.-.\n",
    "F\t..-.\tS\t...\n",
    "G\t--.\tT\t-\n",
    "H\t....\tU\t..-\n",
    "I\t..\tV\t...-\n",
    "J\t.---\tW\t.--\n",
    "K\t-.-\tX\t-..-\n",
    "L\t.-..\tY\t-.--\n",
    "M\t--\tZ\t--.. '''\n",
    "\n",
    "\n",
    "\n",
    "#1. 암호 문 -> 딕셔너리 화\n",
    "# -1. split (리스트)\n",
    "# -2. dic1={}\n",
    "# -3.\n",
    "# 3.딕셔너리에 넣는거죠 (키:)\n",
    "\n",
    "text='.... .  ... .-.. . . .--. ...  . .- .-. .-.. -.--'\n",
    "text1=''\n",
    "dic3={}\n",
    "test_list1=srt.split()\n",
    "for i in range(len(test_list1)):\n",
    "    if i%2==1:\n",
    "        dic3[test_list1[i]] = test_list1[i-1]\n",
    "\n"
   ]
  },
  {
   "cell_type": "code",
   "execution_count": 48,
   "id": "f8d92248-2df2-4d67-98dc-2d47302ad73f",
   "metadata": {},
   "outputs": [
    {
     "data": {
      "text/plain": [
       "' A\\t.-\\tN\\t-.\\nB\\t-...\\tO\\t---\\nC\\t-.-.\\tP\\t.--.\\nD\\t-..\\tQ\\t--.-\\nE\\t.\\tR\\t.-.\\nF\\t..-.\\tS\\t...\\nG\\t--.\\tT\\t-\\nH\\t....\\tU\\t..-\\nI\\t..\\tV\\t...-\\nJ\\t.---\\tW\\t.--\\nK\\t-.-\\tX\\t-..-\\nL\\t.-..\\tY\\t-.--\\nM\\t--\\tZ\\t--.. '"
      ]
     },
     "execution_count": 48,
     "metadata": {},
     "output_type": "execute_result"
    }
   ],
   "source": [
    "mos_text"
   ]
  },
  {
   "cell_type": "code",
   "execution_count": 49,
   "id": "cb9d2456-0d51-4b42-99cb-067a0a934e80",
   "metadata": {},
   "outputs": [
    {
     "data": {
      "text/plain": [
       "['.... .  ... .-.. . . .--. ...  . .- .-. .-.. -.--']"
      ]
     },
     "execution_count": 49,
     "metadata": {},
     "output_type": "execute_result"
    }
   ],
   "source": [
    "text.split(mos_text)"
   ]
  },
  {
   "cell_type": "code",
   "execution_count": 51,
   "id": "fab23a67-0327-43cc-a2ee-c1382636ca0f",
   "metadata": {},
   "outputs": [],
   "source": [
    "dic = {mos_text}"
   ]
  },
  {
   "cell_type": "code",
   "execution_count": 36,
   "id": "764f680c-6120-4dcb-91f6-b0c2979c82c5",
   "metadata": {},
   "outputs": [
    {
     "name": "stdout",
     "output_type": "stream",
     "text": [
      " A\t.-\tN\t-.\n",
      "B\t-...\tO\t---\n",
      "C\t-.-.\tP\t.--.\n",
      "D\t-..\tQ\t--.-\n",
      "E\t.\tR\t.-.\n",
      "F\t..-.\tS\t...\n",
      "G\t--.\tT\t-\n",
      "H\t....\tU\t..-\n",
      "I\t..\tV\t...-\n",
      "J\t.---\tW\t.--\n",
      "K\t-.-\tX\t-..-\n",
      "L\t.-..\tY\t-.--\n",
      "M\t--\tZ\t--.. \n"
     ]
    }
   ],
   "source": [
    "print(mos_text)"
   ]
  },
  {
   "cell_type": "code",
   "execution_count": 39,
   "id": "03162ffa-feef-4d47-a318-6d15a9c38ce2",
   "metadata": {},
   "outputs": [],
   "source": [
    "dic = {mos_text}"
   ]
  },
  {
   "cell_type": "code",
   "execution_count": 19,
   "id": "201fa682-3ac7-4ca2-bd18-55ef4cebe679",
   "metadata": {},
   "outputs": [
    {
     "name": "stdout",
     "output_type": "stream",
     "text": [
      "....\n",
      ".\n",
      "\n",
      "...\n",
      ".-..\n",
      ".\n",
      ".\n",
      ".--.\n",
      "...\n",
      "\n",
      ".\n",
      ".-\n",
      ".-.\n",
      ".-..\n",
      "-.--\n",
      "HE SLEEPS EARLY\n"
     ]
    }
   ],
   "source": [
    "#1. 암호 문 -> 딕셔너리 화\n",
    "# -1. split (리스트)\n",
    "# -2. dic1={}\n",
    "# -3.\n",
    "# 3.딕셔너리에 넣는거죠 (키:)\n",
    "srt='''A\t.-\tN\t-.\n",
    "B\t-...\tO\t---\n",
    "C\t-.-.\tP\t.--.\n",
    "D\t-..\tQ\t--.-\n",
    "E\t.\tR\t.-.\n",
    "F\t..-.\tS\t...\n",
    "G\t--.\tT\t-\n",
    "H\t....\tU\t..-\n",
    "I\t..\tV\t...-\n",
    "J\t.---\tW\t.--\n",
    "K\t-.-\tX\t-..-\n",
    "L\t.-..\tY\t-.--\n",
    "M\t--\tZ\t--..'''\n",
    "\n",
    "text='.... .  ... .-.. . . .--. ...  . .- .-. .-.. -.--'\n",
    "text1=''\n",
    "dic = {}\n",
    "test_list1=srt.split()\n",
    "for i in range(len(test_list1)):\n",
    "    if i%2==1:\n",
    "        dic[test_list1[i]] = test_list1[i-1]\n",
    "#----------------------------------------------------\n",
    "#2. 딕셔너리 화 -> 밸류값 반환\n",
    "# - 1. 주어진 텍스트(문제) (스플릿으로 변환하고) 리스트 에 넣어서 포문 돌리면 뭐가 나올까? -> 키 값\n",
    "# - 2. 딕셔너리로 키 값을 반환하자\n",
    "# - 3. if 문으로 빈칸을 처리하자\n",
    "# 딕셔너리 화 -> 밸류값 반환\n",
    "for sample in text.split(' '):\n",
    "    print(sample)\n",
    "    if sample =='':\n",
    "        text1 += ' '\n",
    "    else:\n",
    "        text1 += dic3[sample]\n",
    "print(text1)"
   ]
  },
  {
   "cell_type": "code",
   "execution_count": 9,
   "id": "b56c195c-67a5-4d7b-a48d-0ad6b6b4996c",
   "metadata": {
    "tags": []
   },
   "outputs": [],
   "source": [
    "srt='''A\t.-\tN\t-.\n",
    "B\t-...\tO\t---\n",
    "C\t-.-.\tP\t.--.\n",
    "D\t-..\tQ\t--.-\n",
    "E\t.\tR\t.-.\n",
    "F\t..-.\tS\t...\n",
    "G\t--.\tT\t-\n",
    "H\t....\tU\t..-\n",
    "I\t..\tV\t...-\n",
    "J\t.---\tW\t.--\n",
    "K\t-.-\tX\t-..-\n",
    "L\t.-..\tY\t-.--\n",
    "M\t--\tZ\t--..'''"
   ]
  },
  {
   "cell_type": "code",
   "execution_count": 10,
   "id": "6708e226-c304-4100-908e-2f19f67ec308",
   "metadata": {},
   "outputs": [
    {
     "data": {
      "text/plain": [
       "'A\\t.-\\tN\\t-.\\nB\\t-...\\tO\\t---\\nC\\t-.-.\\tP\\t.--.\\nD\\t-..\\tQ\\t--.-\\nE\\t.\\tR\\t.-.\\nF\\t..-.\\tS\\t...\\nG\\t--.\\tT\\t-\\nH\\t....\\tU\\t..-\\nI\\t..\\tV\\t...-\\nJ\\t.---\\tW\\t.--\\nK\\t-.-\\tX\\t-..-\\nL\\t.-..\\tY\\t-.--\\nM\\t--\\tZ\\t--..'"
      ]
     },
     "execution_count": 10,
     "metadata": {},
     "output_type": "execute_result"
    }
   ],
   "source": [
    "srt"
   ]
  },
  {
   "cell_type": "code",
   "execution_count": 6,
   "id": "99bfc4cb-0a19-498e-aff4-e940fe104c00",
   "metadata": {},
   "outputs": [],
   "source": [
    "mos_text='.... .  ... .-.. . . .--. ...  . .- .-. .-.. -.--' #문제: 이 암호문을 알파벳으로 나타내시오.\n",
    "dic1={}\n",
    "\n",
    "test_list1 = srt.split()\n",
    "\n",
    "for i in range (len(test_list1)):\n",
    "    if i % 2 == 1:\n",
    "        dic1[test_list1[i]] = test_list1[i-1] # ******\n",
    "    "
   ]
  },
  {
   "cell_type": "code",
   "execution_count": 7,
   "id": "c6738df5-be2d-4aba-a8d1-22d8ef581ae3",
   "metadata": {
    "collapsed": true,
    "jupyter": {
     "outputs_hidden": true
    },
    "tags": []
   },
   "outputs": [
    {
     "data": {
      "text/plain": [
       "['A',\n",
       " '.-',\n",
       " 'N',\n",
       " '-.',\n",
       " 'B',\n",
       " '-...',\n",
       " 'O',\n",
       " '---',\n",
       " 'C',\n",
       " '-.-.',\n",
       " 'P',\n",
       " '.--.',\n",
       " 'D',\n",
       " '-..',\n",
       " 'Q',\n",
       " '--.-',\n",
       " 'E',\n",
       " '.',\n",
       " 'R',\n",
       " '.-.',\n",
       " 'F',\n",
       " '..-.',\n",
       " 'S',\n",
       " '...',\n",
       " 'G',\n",
       " '--.',\n",
       " 'T',\n",
       " '-',\n",
       " 'H',\n",
       " '....',\n",
       " 'U',\n",
       " '..-',\n",
       " 'I',\n",
       " '..',\n",
       " 'V',\n",
       " '...-',\n",
       " 'J',\n",
       " '.---',\n",
       " 'W',\n",
       " '.--',\n",
       " 'K',\n",
       " '-.-',\n",
       " 'X',\n",
       " '-..-',\n",
       " 'L',\n",
       " '.-..',\n",
       " 'Y',\n",
       " '-.--',\n",
       " 'M',\n",
       " '--',\n",
       " 'Z',\n",
       " '--..']"
      ]
     },
     "execution_count": 7,
     "metadata": {},
     "output_type": "execute_result"
    }
   ],
   "source": [
    "srt.split()"
   ]
  },
  {
   "cell_type": "code",
   "execution_count": 8,
   "id": "cb271fc2-d245-4412-a425-d20468e494fe",
   "metadata": {},
   "outputs": [
    {
     "data": {
      "text/plain": [
       "{'.-': 'A',\n",
       " '-.': 'N',\n",
       " '-...': 'B',\n",
       " '---': 'O',\n",
       " '-.-.': 'C',\n",
       " '.--.': 'P',\n",
       " '-..': 'D',\n",
       " '--.-': 'Q',\n",
       " '.': 'E',\n",
       " '.-.': 'R',\n",
       " '..-.': 'F',\n",
       " '...': 'S',\n",
       " '--.': 'G',\n",
       " '-': 'T',\n",
       " '....': 'H',\n",
       " '..-': 'U',\n",
       " '..': 'I',\n",
       " '...-': 'V',\n",
       " '.---': 'J',\n",
       " '.--': 'W',\n",
       " '-.-': 'K',\n",
       " '-..-': 'X',\n",
       " '.-..': 'L',\n",
       " '-.--': 'Y',\n",
       " '--': 'M',\n",
       " '--..': 'Z'}"
      ]
     },
     "execution_count": 8,
     "metadata": {},
     "output_type": "execute_result"
    }
   ],
   "source": [
    "dic1"
   ]
  },
  {
   "cell_type": "code",
   "execution_count": null,
   "id": "c4d9c0ec-d996-4e0b-8ed5-8ee70dd202b5",
   "metadata": {},
   "outputs": [],
   "source": []
  },
  {
   "cell_type": "code",
   "execution_count": null,
   "id": "86c028ec-70b6-4994-8caa-390425cadd46",
   "metadata": {},
   "outputs": [],
   "source": []
  },
  {
   "cell_type": "code",
   "execution_count": null,
   "id": "dd976d2c-1a95-4b73-afb0-c260ef3d70f3",
   "metadata": {},
   "outputs": [],
   "source": []
  },
  {
   "cell_type": "code",
   "execution_count": 2,
   "id": "4996232d-3dda-427b-890d-5204b9fcfb8e",
   "metadata": {},
   "outputs": [],
   "source": [
    "text = '.... .  ... .-.. . . .--. ...  . .- .-. .-.. -.--'"
   ]
  },
  {
   "cell_type": "code",
   "execution_count": 23,
   "id": "83c01430-5115-45cf-9996-1f0cbf352249",
   "metadata": {},
   "outputs": [
    {
     "data": {
      "text/plain": [
       "['....',\n",
       " '.',\n",
       " '',\n",
       " '...',\n",
       " '.-..',\n",
       " '.',\n",
       " '.',\n",
       " '.--.',\n",
       " '...',\n",
       " '',\n",
       " '.',\n",
       " '.-',\n",
       " '.-.',\n",
       " '.-..',\n",
       " '-.--']"
      ]
     },
     "execution_count": 23,
     "metadata": {},
     "output_type": "execute_result"
    }
   ],
   "source": [
    "text.split(' ')"
   ]
  },
  {
   "cell_type": "code",
   "execution_count": 5,
   "id": "43aad818-c711-41f8-964b-c64633c1dc8c",
   "metadata": {},
   "outputs": [
    {
     "data": {
      "text/plain": [
       "15"
      ]
     },
     "execution_count": 5,
     "metadata": {},
     "output_type": "execute_result"
    }
   ],
   "source": [
    "len(text.split(' '))"
   ]
  },
  {
   "cell_type": "code",
   "execution_count": 20,
   "id": "8fda34b8-dd0d-44c3-b777-6f19b577a2b3",
   "metadata": {},
   "outputs": [],
   "source": [
    "mos_text =''' A\t.-\tN\t-.\n",
    "B\t-...\tO\t---\n",
    "C\t-.-.\tP\t.--.\n",
    "D\t-..\tQ\t--.-\n",
    "E\t.\tR\t.-.\n",
    "F\t..-.\tS\t...\n",
    "G\t--.\tT\t-\n",
    "H\t....\tU\t..-\n",
    "I\t..\tV\t...-\n",
    "J\t.---\tW\t.--\n",
    "K\t-.-\tX\t-..-\n",
    "L\t.-..\tY\t-.--\n",
    "M\t--\tZ\t--.. '''"
   ]
  },
  {
   "cell_type": "code",
   "execution_count": 21,
   "id": "5c1366f8-5bcf-48bb-8671-d937772cfb93",
   "metadata": {
    "tags": []
   },
   "outputs": [
    {
     "data": {
      "text/plain": [
       "' A\\t.-\\tN\\t-.\\nB\\t-...\\tO\\t---\\nC\\t-.-.\\tP\\t.--.\\nD\\t-..\\tQ\\t--.-\\nE\\t.\\tR\\t.-.\\nF\\t..-.\\tS\\t...\\nG\\t--.\\tT\\t-\\nH\\t....\\tU\\t..-\\nI\\t..\\tV\\t...-\\nJ\\t.---\\tW\\t.--\\nK\\t-.-\\tX\\t-..-\\nL\\t.-..\\tY\\t-.--\\nM\\t--\\tZ\\t--.. '"
      ]
     },
     "execution_count": 21,
     "metadata": {},
     "output_type": "execute_result"
    }
   ],
   "source": [
    "mos_text"
   ]
  },
  {
   "cell_type": "code",
   "execution_count": 22,
   "id": "7cab72fb-9833-4940-b3de-4de3f036198e",
   "metadata": {
    "jupyter": {
     "source_hidden": true
    },
    "tags": []
   },
   "outputs": [
    {
     "data": {
      "text/plain": [
       "['A',\n",
       " '.-',\n",
       " 'N',\n",
       " '-.',\n",
       " 'B',\n",
       " '-...',\n",
       " 'O',\n",
       " '---',\n",
       " 'C',\n",
       " '-.-.',\n",
       " 'P',\n",
       " '.--.',\n",
       " 'D',\n",
       " '-..',\n",
       " 'Q',\n",
       " '--.-',\n",
       " 'E',\n",
       " '.',\n",
       " 'R',\n",
       " '.-.',\n",
       " 'F',\n",
       " '..-.',\n",
       " 'S',\n",
       " '...',\n",
       " 'G',\n",
       " '--.',\n",
       " 'T',\n",
       " '-',\n",
       " 'H',\n",
       " '....',\n",
       " 'U',\n",
       " '..-',\n",
       " 'I',\n",
       " '..',\n",
       " 'V',\n",
       " '...-',\n",
       " 'J',\n",
       " '.---',\n",
       " 'W',\n",
       " '.--',\n",
       " 'K',\n",
       " '-.-',\n",
       " 'X',\n",
       " '-..-',\n",
       " 'L',\n",
       " '.-..',\n",
       " 'Y',\n",
       " '-.--',\n",
       " 'M',\n",
       " '--',\n",
       " 'Z',\n",
       " '--..']"
      ]
     },
     "execution_count": 22,
     "metadata": {},
     "output_type": "execute_result"
    }
   ],
   "source": [
    "mos_text.split()"
   ]
  },
  {
   "cell_type": "code",
   "execution_count": null,
   "id": "35457fa8-ab4c-4c2e-86ab-8955870dad8a",
   "metadata": {},
   "outputs": [],
   "source": [
    "#강사님 모스부호\n",
    "- .... .. ...   .. ...   ... .--. .- .-. - .-"
   ]
  },
  {
   "cell_type": "code",
   "execution_count": 15,
   "id": "187e17b2-ce6c-453a-a25f-40af49dc4c19",
   "metadata": {},
   "outputs": [],
   "source": [
    "#강사님 모스부호 풀이법\n",
    "text = '''A\t.-\tN\t-.\n",
    "B\t-...\tO\t---\n",
    "C\t-.-.\tP\t.--.\n",
    "D\t-..\tQ\t--.-\n",
    "E\t.\tR\t.-.\n",
    "F\t..-.\tS\t...\n",
    "G\t--.\tT\t-\n",
    "H\t....\tU\t..-\n",
    "I\t..\tV\t...-\n",
    "J\t.---\tW\t.--\n",
    "K\t-.-\tX\t-..-\n",
    "L\t.-..\tY\t-.--\n",
    "M\t--\tZ\t--..'''"
   ]
  },
  {
   "cell_type": "code",
   "execution_count": 16,
   "id": "da4d15eb-eb57-4e8e-949d-0cf89db7238a",
   "metadata": {},
   "outputs": [
    {
     "data": {
      "text/plain": [
       "'A\\t.-\\tN\\t-.\\nB\\t-...\\tO\\t---\\nC\\t-.-.\\tP\\t.--.\\nD\\t-..\\tQ\\t--.-\\nE\\t.\\tR\\t.-.\\nF\\t..-.\\tS\\t...\\nG\\t--.\\tT\\t-\\nH\\t....\\tU\\t..-\\nI\\t..\\tV\\t...-\\nJ\\t.---\\tW\\t.--\\nK\\t-.-\\tX\\t-..-\\nL\\t.-..\\tY\\t-.--\\nM\\t--\\tZ\\t--..'"
      ]
     },
     "execution_count": 16,
     "metadata": {},
     "output_type": "execute_result"
    }
   ],
   "source": [
    "text"
   ]
  },
  {
   "cell_type": "code",
   "execution_count": 44,
   "id": "dcf67c71-ca9b-443c-b9c8-da5188590c2d",
   "metadata": {},
   "outputs": [],
   "source": [
    "mos_list = text.split()"
   ]
  },
  {
   "cell_type": "code",
   "execution_count": 45,
   "id": "df8b0542-9eb1-4761-bd53-3393bbcdffff",
   "metadata": {},
   "outputs": [
    {
     "data": {
      "text/plain": [
       "52"
      ]
     },
     "execution_count": 45,
     "metadata": {},
     "output_type": "execute_result"
    }
   ],
   "source": [
    "len(mos_list)"
   ]
  },
  {
   "cell_type": "code",
   "execution_count": 46,
   "id": "87fc9be6-29c1-462e-8f7a-d0e5ef7ef779",
   "metadata": {
    "collapsed": true,
    "jupyter": {
     "outputs_hidden": true
    },
    "tags": []
   },
   "outputs": [
    {
     "data": {
      "text/plain": [
       "['A',\n",
       " '.-',\n",
       " 'N',\n",
       " '-.',\n",
       " 'B',\n",
       " '-...',\n",
       " 'O',\n",
       " '---',\n",
       " 'C',\n",
       " '-.-.',\n",
       " 'P',\n",
       " '.--.',\n",
       " 'D',\n",
       " '-..',\n",
       " 'Q',\n",
       " '--.-',\n",
       " 'E',\n",
       " '.',\n",
       " 'R',\n",
       " '.-.',\n",
       " 'F',\n",
       " '..-.',\n",
       " 'S',\n",
       " '...',\n",
       " 'G',\n",
       " '--.',\n",
       " 'T',\n",
       " '-',\n",
       " 'H',\n",
       " '....',\n",
       " 'U',\n",
       " '..-',\n",
       " 'I',\n",
       " '..',\n",
       " 'V',\n",
       " '...-',\n",
       " 'J',\n",
       " '.---',\n",
       " 'W',\n",
       " '.--',\n",
       " 'K',\n",
       " '-.-',\n",
       " 'X',\n",
       " '-..-',\n",
       " 'L',\n",
       " '.-..',\n",
       " 'Y',\n",
       " '-.--',\n",
       " 'M',\n",
       " '--',\n",
       " 'Z',\n",
       " '--..']"
      ]
     },
     "execution_count": 46,
     "metadata": {},
     "output_type": "execute_result"
    }
   ],
   "source": [
    "mos_list"
   ]
  },
  {
   "cell_type": "code",
   "execution_count": 63,
   "id": "e4028589-42cd-4247-8f6e-18914af57dd1",
   "metadata": {},
   "outputs": [],
   "source": [
    "mos_dict = {} #모스->영어"
   ]
  },
  {
   "cell_type": "code",
   "execution_count": 62,
   "id": "2b79f160-0635-4d2e-8930-b18517316431",
   "metadata": {
    "tags": []
   },
   "outputs": [
    {
     "name": "stdout",
     "output_type": "stream",
     "text": [
      ".- A\n",
      "-. N\n",
      "-... B\n",
      "--- O\n",
      "-.-. C\n",
      ".--. P\n",
      "-.. D\n",
      "--.- Q\n",
      ". E\n",
      ".-. R\n",
      "..-. F\n",
      "... S\n",
      "--. G\n",
      "- T\n",
      ".... H\n",
      "..- U\n",
      ".. I\n",
      "...- V\n",
      ".--- J\n",
      ".-- W\n",
      "-.- K\n",
      "-..- X\n",
      ".-.. L\n",
      "-.-- Y\n",
      "-- M\n",
      "--.. Z\n"
     ]
    }
   ],
   "source": [
    "for i in range(0, len(mos_list), 2):\n",
    "    key = mos_list[i+1]\n",
    "    value = mos_list[i]\n",
    "    mos_dict[value] = key\n",
    "    print(key, value)"
   ]
  },
  {
   "cell_type": "code",
   "execution_count": 67,
   "id": "ea14817e-5f4b-409b-8811-993fa4d7f8e3",
   "metadata": {
    "tags": []
   },
   "outputs": [],
   "source": [
    "#1. 모스->영어 / 강사님 모스부호 풀이법\n",
    "text = '''A\t.-\tN\t-.\n",
    "B\t-...\tO\t---\n",
    "C\t-.-.\tP\t.--.\n",
    "D\t-..\tQ\t--.-\n",
    "E\t.\tR\t.-.\n",
    "F\t..-.\tS\t...\n",
    "G\t--.\tT\t-\n",
    "H\t....\tU\t..-\n",
    "I\t..\tV\t...-\n",
    "J\t.---\tW\t.--\n",
    "K\t-.-\tX\t-..-\n",
    "L\t.-..\tY\t-.--\n",
    "M\t--\tZ\t--..'''"
   ]
  },
  {
   "cell_type": "code",
   "execution_count": 68,
   "id": "49c49083-cf90-4710-8c1b-106ec35908ea",
   "metadata": {
    "tags": []
   },
   "outputs": [],
   "source": [
    "mos_list = text.split()\n",
    "mos_dict = {}\n",
    "for i in range(0, len(mos_list), 2):\n",
    "    key = mos_list[i+1]\n",
    "    value = mos_list[i]\n",
    "    mos_dict[key] = value"
   ]
  },
  {
   "cell_type": "code",
   "execution_count": 69,
   "id": "35a2b9c1-4cc1-45e6-a517-69bfe0280a0c",
   "metadata": {
    "tags": []
   },
   "outputs": [],
   "source": [
    "mos = '.... .  ... .-.. . . .--. ...  . .- .-. .-.. -.--'"
   ]
  },
  {
   "cell_type": "code",
   "execution_count": 70,
   "id": "72ad675d-06a8-4757-820a-4df7bf51f9dc",
   "metadata": {
    "tags": []
   },
   "outputs": [
    {
     "name": "stdout",
     "output_type": "stream",
     "text": [
      "HE SLEEPS EARLY\n"
     ]
    }
   ],
   "source": [
    "unmos = []\n",
    "for m in mos.split(' ') :\n",
    "    if m == '' :\n",
    "        # print(' ', end = '')\n",
    "        unmos.append(' ')\n",
    "    else :\n",
    "        # print(mos_dict[m], end='')\n",
    "        unmos.append(mos_dict[m])\n",
    "print(''.join(unmos))"
   ]
  },
  {
   "cell_type": "code",
   "execution_count": 90,
   "id": "cfc2c0da-2e99-471b-89a0-884f0869673a",
   "metadata": {
    "tags": []
   },
   "outputs": [],
   "source": [
    "#2. 영어->모스 / 강사님 모스부호 풀이법\n",
    "text = '''A\t.-\tN\t-.\n",
    "B\t-...\tO\t---\n",
    "C\t-.-.\tP\t.--.\n",
    "D\t-..\tQ\t--.-\n",
    "E\t.\tR\t.-.\n",
    "F\t..-.\tS\t...\n",
    "G\t--.\tT\t-\n",
    "H\t....\tU\t..-\n",
    "I\t..\tV\t...-\n",
    "J\t.---\tW\t.--\n",
    "K\t-.-\tX\t-..-\n",
    "L\t.-..\tY\t-.--\n",
    "M\t--\tZ\t--..'''"
   ]
  },
  {
   "cell_type": "code",
   "execution_count": 91,
   "id": "00f087e4-6547-4a0b-b734-5bfc73cd8106",
   "metadata": {
    "tags": []
   },
   "outputs": [],
   "source": [
    "mos_list2 = text.split()\n",
    "mos_dict2 = {}\n",
    "for i in range(0, len(mos_list2), 2):\n",
    "    key = mos_list2[i]\n",
    "    value = mos_list2[i+1]\n",
    "    mos_dict2[key] = value"
   ]
  },
  {
   "cell_type": "code",
   "execution_count": null,
   "id": "9cd5aaed-3161-4492-ad06-c9a0f24f3150",
   "metadata": {},
   "outputs": [],
   "source": [
    "alp = 'he sleeps early'\n",
    "alp = alp.upper()"
   ]
  },
  {
   "cell_type": "code",
   "execution_count": 92,
   "id": "48a833a9-6a6c-4447-93eb-2b7e91f1cf52",
   "metadata": {},
   "outputs": [
    {
     "data": {
      "text/plain": [
       "{'A': '.-',\n",
       " 'N': '-.',\n",
       " 'B': '-...',\n",
       " 'O': '---',\n",
       " 'C': '-.-.',\n",
       " 'P': '.--.',\n",
       " 'D': '-..',\n",
       " 'Q': '--.-',\n",
       " 'E': '.',\n",
       " 'R': '.-.',\n",
       " 'F': '..-.',\n",
       " 'S': '...',\n",
       " 'G': '--.',\n",
       " 'T': '-',\n",
       " 'H': '....',\n",
       " 'U': '..-',\n",
       " 'I': '..',\n",
       " 'V': '...-',\n",
       " 'J': '.---',\n",
       " 'W': '.--',\n",
       " 'K': '-.-',\n",
       " 'X': '-..-',\n",
       " 'L': '.-..',\n",
       " 'Y': '-.--',\n",
       " 'M': '--',\n",
       " 'Z': '--..'}"
      ]
     },
     "execution_count": 92,
     "metadata": {},
     "output_type": "execute_result"
    }
   ],
   "source": [
    "mos_dict2"
   ]
  },
  {
   "cell_type": "code",
   "execution_count": 105,
   "id": "0f9bbcaf-c785-42af-b54d-2be292f6528e",
   "metadata": {
    "tags": []
   },
   "outputs": [],
   "source": [
    "alp = 'he sleeps early'"
   ]
  },
  {
   "cell_type": "code",
   "execution_count": 106,
   "id": "6ccfa209-ec21-4e88-a319-66ad10d88cdf",
   "metadata": {},
   "outputs": [],
   "source": [
    "alp = alp.upper()"
   ]
  },
  {
   "cell_type": "code",
   "execution_count": 107,
   "id": "70e1ea42-e287-44a0-8634-db1b9e4d36aa",
   "metadata": {},
   "outputs": [
    {
     "data": {
      "text/plain": [
       "'HE SLEEPS EARLY'"
      ]
     },
     "execution_count": 107,
     "metadata": {},
     "output_type": "execute_result"
    }
   ],
   "source": [
    "alp"
   ]
  },
  {
   "cell_type": "code",
   "execution_count": 115,
   "id": "74e46700-f0ed-41a4-b97e-a684e19f1ac2",
   "metadata": {},
   "outputs": [
    {
     "data": {
      "text/plain": [
       "['H', 'E', ' ', 'S', 'L', 'E', 'E', 'P', 'S', ' ', 'E', 'A', 'R', 'L', 'Y']"
      ]
     },
     "execution_count": 115,
     "metadata": {},
     "output_type": "execute_result"
    }
   ],
   "source": [
    "list(alp)"
   ]
  },
  {
   "cell_type": "code",
   "execution_count": 112,
   "id": "5089a364-fcc0-4b49-86c0-dca2035ce9f8",
   "metadata": {},
   "outputs": [],
   "source": [
    "ret = ''\n",
    "for i in range(5):\n",
    "    ret += str(i)"
   ]
  },
  {
   "cell_type": "code",
   "execution_count": 113,
   "id": "ca125f16-c642-42a3-8a88-9f5d9cf4d9e1",
   "metadata": {},
   "outputs": [
    {
     "data": {
      "text/plain": [
       "10"
      ]
     },
     "execution_count": 113,
     "metadata": {},
     "output_type": "execute_result"
    }
   ],
   "source": [
    "ret"
   ]
  },
  {
   "cell_type": "code",
   "execution_count": 119,
   "id": "e5f2b10a-bb8a-452f-825e-45138ed5ead6",
   "metadata": {},
   "outputs": [
    {
     "name": "stdout",
     "output_type": "stream",
     "text": [
      ".... .   ... .-.. . . .--. ...   . .- .-. .-.. -.--\n"
     ]
    }
   ],
   "source": [
    "plain = ''\n",
    "for i in alp :\n",
    "    if i == ' ' :\n",
    "        #print(' ' , end = ' ')\n",
    "        plain += ' '\n",
    "    else :\n",
    "        #print(mos_dict2[i], end = ' ')\n",
    "        plain += mos_dict2[i]\n",
    "    \n",
    "    plain += ' '\n",
    "print(plain.rstrip())"
   ]
  },
  {
   "cell_type": "code",
   "execution_count": 117,
   "id": "98f6749b-438e-4d27-8d31-89ccbcd02468",
   "metadata": {},
   "outputs": [
    {
     "data": {
      "text/plain": [
       "'.... .   ... .-.. . . .--. ...   . .- .-. .-.. -.-- '"
      ]
     },
     "execution_count": 117,
     "metadata": {},
     "output_type": "execute_result"
    }
   ],
   "source": [
    "plain"
   ]
  },
  {
   "cell_type": "code",
   "execution_count": 118,
   "id": "62b0baa1-1f8e-4060-8474-954c53ff36d8",
   "metadata": {},
   "outputs": [
    {
     "data": {
      "text/plain": [
       "'.... .   ... .-.. . . .--. ...   . .- .-. .-.. -.--'"
      ]
     },
     "execution_count": 118,
     "metadata": {},
     "output_type": "execute_result"
    }
   ],
   "source": [
    "plain.rstrip()"
   ]
  },
  {
   "cell_type": "code",
   "execution_count": 84,
   "id": "79060f61-3d3d-4723-ab95-0d76fa7167d5",
   "metadata": {
    "tags": []
   },
   "outputs": [
    {
     "ename": "KeyError",
     "evalue": "'HE'",
     "output_type": "error",
     "traceback": [
      "\u001b[1;31m---------------------------------------------------------------------------\u001b[0m",
      "\u001b[1;31mKeyError\u001b[0m                                  Traceback (most recent call last)",
      "Input \u001b[1;32mIn [84]\u001b[0m, in \u001b[0;36m<cell line: 2>\u001b[1;34m()\u001b[0m\n\u001b[0;32m      5\u001b[0m         unalp\u001b[38;5;241m.\u001b[39mappend(\u001b[38;5;124m'\u001b[39m\u001b[38;5;124m \u001b[39m\u001b[38;5;124m'\u001b[39m)\n\u001b[0;32m      6\u001b[0m     \u001b[38;5;28;01melse\u001b[39;00m :\n\u001b[0;32m      7\u001b[0m         \u001b[38;5;66;03m# print(mos_dict[m], end='')\u001b[39;00m\n\u001b[1;32m----> 8\u001b[0m         unalp\u001b[38;5;241m.\u001b[39mappend(\u001b[43mmos_dict\u001b[49m\u001b[43m[\u001b[49m\u001b[43mi\u001b[49m\u001b[43m]\u001b[49m)\n\u001b[0;32m      9\u001b[0m \u001b[38;5;28mprint\u001b[39m(\u001b[38;5;124m'\u001b[39m\u001b[38;5;124m'\u001b[39m\u001b[38;5;241m.\u001b[39mjoin(unalp))\n",
      "\u001b[1;31mKeyError\u001b[0m: 'HE'"
     ]
    }
   ],
   "source": [
    "unalp = []\n",
    "for i in alp.split(' ') :\n",
    "    if i == '' :\n",
    "        # print(' ', end = '')\n",
    "        unalp.append(' ')\n",
    "    else :\n",
    "        # print(mos_dict[m], end='')\n",
    "        unalp.append(mos_dict[i])\n",
    "print(''.join(unalp))"
   ]
  },
  {
   "cell_type": "code",
   "execution_count": 39,
   "id": "442d22c6-d598-41c8-9f4b-3b86d9e9fd02",
   "metadata": {},
   "outputs": [],
   "source": [
    "mos_dict2 = {} #영어->모스"
   ]
  },
  {
   "cell_type": "code",
   "execution_count": 40,
   "id": "8763f274-9e30-423d-ad9f-f9233f72b728",
   "metadata": {},
   "outputs": [
    {
     "name": "stdout",
     "output_type": "stream",
     "text": [
      "A .-\n",
      "N -.\n",
      "B -...\n",
      "O ---\n",
      "C -.-.\n",
      "P .--.\n",
      "D -..\n",
      "Q --.-\n",
      "E .\n",
      "R .-.\n",
      "F ..-.\n",
      "S ...\n",
      "G --.\n",
      "T -\n",
      "H ....\n",
      "U ..-\n",
      "I ..\n",
      "V ...-\n",
      "J .---\n",
      "W .--\n",
      "K -.-\n",
      "X -..-\n",
      "L .-..\n",
      "Y -.--\n",
      "M --\n",
      "Z --..\n"
     ]
    }
   ],
   "source": [
    "for i in range(0, len(mos_list), 2):\n",
    "    key = mos_list[i]\n",
    "    value = mos_list[i+1]\n",
    "    mos_dict2[key] = value\n",
    "    print(key, value)"
   ]
  },
  {
   "cell_type": "code",
   "execution_count": 54,
   "id": "f7e21612-9cb5-4644-9f7c-302ebe810f6d",
   "metadata": {},
   "outputs": [],
   "source": [
    "mos = '.... .  ... .-.. . . .--. ...  . .- .-. .-.. -.--'"
   ]
  },
  {
   "cell_type": "code",
   "execution_count": 56,
   "id": "6fe7eec0-3117-4b40-ba22-ac9da2017aa8",
   "metadata": {},
   "outputs": [
    {
     "data": {
      "text/plain": [
       "['....',\n",
       " '.',\n",
       " '',\n",
       " '...',\n",
       " '.-..',\n",
       " '.',\n",
       " '.',\n",
       " '.--.',\n",
       " '...',\n",
       " '',\n",
       " '.',\n",
       " '.-',\n",
       " '.-.',\n",
       " '.-..',\n",
       " '-.--']"
      ]
     },
     "execution_count": 56,
     "metadata": {},
     "output_type": "execute_result"
    }
   ],
   "source": [
    "mos.split(' ')"
   ]
  },
  {
   "cell_type": "code",
   "execution_count": 58,
   "id": "984f877e-0bb8-435f-a59e-5c68f9272036",
   "metadata": {
    "tags": []
   },
   "outputs": [
    {
     "name": "stdout",
     "output_type": "stream",
     "text": [
      "....\n",
      ".\n",
      "\n",
      "...\n",
      ".-..\n",
      ".\n",
      ".\n",
      ".--.\n",
      "...\n",
      "\n",
      ".\n",
      ".-\n",
      ".-.\n",
      ".-..\n",
      "-.--\n"
     ]
    }
   ],
   "source": [
    "for m in mos.split(' ') :\n",
    "    dic(m)"
   ]
  },
  {
   "cell_type": "code",
   "execution_count": 71,
   "id": "1eeb6f60-130b-4053-9edc-1c4e5d4eebf0",
   "metadata": {},
   "outputs": [
    {
     "name": "stdout",
     "output_type": "stream",
     "text": [
      "0 0\n",
      "0 1\n",
      "0 2\n",
      "0 3\n",
      "0 4\n",
      "0 5\n",
      "0 6\n",
      "0 7\n",
      "0 8\n",
      "0 9\n",
      "2 0\n",
      "2 1\n",
      "2 2\n",
      "2 3\n",
      "2 4\n",
      "2 5\n",
      "2 6\n",
      "2 7\n",
      "2 8\n",
      "2 9\n",
      "4 0\n",
      "4 1\n",
      "4 2\n",
      "4 3\n",
      "4 4\n",
      "4 5\n",
      "4 6\n",
      "4 7\n",
      "4 8\n",
      "4 9\n",
      "6 0\n",
      "6 1\n",
      "6 2\n",
      "6 3\n",
      "6 4\n",
      "6 5\n",
      "6 6\n",
      "6 7\n",
      "6 8\n",
      "6 9\n",
      "8 0\n",
      "8 1\n",
      "8 2\n",
      "8 3\n",
      "8 4\n",
      "8 5\n",
      "8 6\n",
      "8 7\n",
      "8 8\n",
      "8 9\n"
     ]
    }
   ],
   "source": [
    "#for문 연습!!!!\n",
    "for i in range(0, 10, 2) :\n",
    "    for j in range(10) :\n",
    "        print(i, j)"
   ]
  }
 ],
 "metadata": {
  "kernelspec": {
   "display_name": "Python 3.9.13 ('base')",
   "language": "python",
   "name": "python3"
  },
  "language_info": {
   "codemirror_mode": {
    "name": "ipython",
    "version": 3
   },
   "file_extension": ".py",
   "mimetype": "text/x-python",
   "name": "python",
   "nbconvert_exporter": "python",
   "pygments_lexer": "ipython3",
   "version": "3.9.13"
  },
  "vscode": {
   "interpreter": {
    "hash": "701d4f28dcd0866722f5108a3a4cbcd08882d26398b6d44117e791d7b8102912"
   }
  }
 },
 "nbformat": 4,
 "nbformat_minor": 5
}
