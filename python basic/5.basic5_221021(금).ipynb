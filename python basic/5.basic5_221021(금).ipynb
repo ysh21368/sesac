{
 "cells": [
  {
   "cell_type": "code",
   "execution_count": null,
   "id": "bd0b2887-d420-497d-8712-2e955840c448",
   "metadata": {},
   "outputs": [],
   "source": [
    "# 221020(목)에 모스 <-> 영어 바꾸는 것"
   ]
  },
  {
   "cell_type": "code",
   "execution_count": 10,
   "id": "ed9ebbd0-664a-4679-aee2-3e3eb8184804",
   "metadata": {},
   "outputs": [],
   "source": [
    "#1. 모스->영어 / 강사님 모스부호 풀이법\n",
    "text = '''A\t.-\tN\t-.\n",
    "B\t-...\tO\t---\n",
    "C\t-.-.\tP\t.--.\n",
    "D\t-..\tQ\t--.-\n",
    "E\t.\tR\t.-.\n",
    "F\t..-.\tS\t...\n",
    "G\t--.\tT\t-\n",
    "H\t....\tU\t..-\n",
    "I\t..\tV\t...-\n",
    "J\t.---\tW\t.--\n",
    "K\t-.-\tX\t-..-\n",
    "L\t.-..\tY\t-.--\n",
    "M\t--\tZ\t--..'''"
   ]
  },
  {
   "cell_type": "code",
   "execution_count": 11,
   "id": "afe077d2-2fc7-4700-951d-aa7e27848589",
   "metadata": {},
   "outputs": [],
   "source": [
    "mos_list = text.split()\n",
    "mos_dict = {}\n",
    "for i in range(0, len(mos_list), 2):\n",
    "    key = mos_list[i+1]\n",
    "    value = mos_list[i]\n",
    "    mos_dict[key] = value"
   ]
  },
  {
   "cell_type": "code",
   "execution_count": 12,
   "id": "5bc9d15e-7fa6-4681-a7ee-4edb91bc2b77",
   "metadata": {},
   "outputs": [],
   "source": [
    "mos = '.... .  ... .-.. . . .--. ...  . .- .-. .-.. -.--'"
   ]
  },
  {
   "cell_type": "code",
   "execution_count": 13,
   "id": "ccfd2cc9-145b-4d9d-a33a-f9fc3bc9d846",
   "metadata": {},
   "outputs": [
    {
     "name": "stdout",
     "output_type": "stream",
     "text": [
      "HE SLEEPS EARLY\n"
     ]
    }
   ],
   "source": [
    "unmos = []\n",
    "for m in mos.split(' ') :\n",
    "    if m == '' :\n",
    "        # print(' ', end = '')\n",
    "        unmos.append(' ')\n",
    "    else :\n",
    "        # print(mos_dict[m], end='')\n",
    "        unmos.append(mos_dict[m])\n",
    "print(''.join(unmos))"
   ]
  },
  {
   "cell_type": "code",
   "execution_count": 5,
   "id": "7208e643-3de2-47f1-830a-e326c4397b23",
   "metadata": {},
   "outputs": [],
   "source": [
    "#2. 영어->모스 / 강사님 모스부호 풀이법\n",
    "text = '''A\t.-\tN\t-.\n",
    "B\t-...\tO\t---\n",
    "C\t-.-.\tP\t.--.\n",
    "D\t-..\tQ\t--.-\n",
    "E\t.\tR\t.-.\n",
    "F\t..-.\tS\t...\n",
    "G\t--.\tT\t-\n",
    "H\t....\tU\t..-\n",
    "I\t..\tV\t...-\n",
    "J\t.---\tW\t.--\n",
    "K\t-.-\tX\t-..-\n",
    "L\t.-..\tY\t-.--\n",
    "M\t--\tZ\t--..'''"
   ]
  },
  {
   "cell_type": "code",
   "execution_count": 6,
   "id": "d059c20f-4527-4a79-9b74-a3c92eaf4626",
   "metadata": {},
   "outputs": [],
   "source": [
    "mos_list2 = text.split()\n",
    "mos_dict2 = {}\n",
    "for i in range(0, len(mos_list2), 2):\n",
    "    key = mos_list2[i]\n",
    "    value = mos_list2[i+1]\n",
    "    mos_dict2[key] = value"
   ]
  },
  {
   "cell_type": "code",
   "execution_count": 7,
   "id": "31b86227-163c-4df9-a23d-70ac2da57063",
   "metadata": {},
   "outputs": [],
   "source": [
    "alp = 'he sleeps early'\n",
    "alp = alp.upper()"
   ]
  },
  {
   "cell_type": "code",
   "execution_count": 8,
   "id": "f68efc71-a04b-4572-a0dd-e5711336af37",
   "metadata": {},
   "outputs": [
    {
     "data": {
      "text/plain": [
       "['H', 'E', ' ', 'S', 'L', 'E', 'E', 'P', 'S', ' ', 'E', 'A', 'R', 'L', 'Y']"
      ]
     },
     "execution_count": 8,
     "metadata": {},
     "output_type": "execute_result"
    }
   ],
   "source": [
    "list(alp)"
   ]
  },
  {
   "cell_type": "code",
   "execution_count": 9,
   "id": "43fc2f11-2361-4470-be06-eaf49353e62a",
   "metadata": {},
   "outputs": [
    {
     "name": "stdout",
     "output_type": "stream",
     "text": [
      ".... .   ... .-.. . . .--. ...   . .- .-. .-.. -.--\n"
     ]
    }
   ],
   "source": [
    "plain = ''\n",
    "for i in alp :\n",
    "    if i == ' ' :\n",
    "        #print(' ' , end = ' ')\n",
    "        plain += ' '\n",
    "    else :\n",
    "        #print(mos_dict2[i], end = ' ')\n",
    "        plain += mos_dict2[i]\n",
    "    \n",
    "    plain += ' '\n",
    "print(plain.rstrip())"
   ]
  }
 ],
 "metadata": {
  "kernelspec": {
   "display_name": "Python 3.9.13 ('base')",
   "language": "python",
   "name": "python3"
  },
  "language_info": {
   "codemirror_mode": {
    "name": "ipython",
    "version": 3
   },
   "file_extension": ".py",
   "mimetype": "text/x-python",
   "name": "python",
   "nbconvert_exporter": "python",
   "pygments_lexer": "ipython3",
   "version": "3.9.13"
  },
  "vscode": {
   "interpreter": {
    "hash": "701d4f28dcd0866722f5108a3a4cbcd08882d26398b6d44117e791d7b8102912"
   }
  }
 },
 "nbformat": 4,
 "nbformat_minor": 5
}
