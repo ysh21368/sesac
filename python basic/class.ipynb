{
 "cells": [
  {
   "cell_type": "markdown",
   "id": "c16b3483-f95e-4f61-8195-c5bf26e3a146",
   "metadata": {},
   "source": [
    "# class"
   ]
  },
  {
   "cell_type": "code",
   "execution_count": 52,
   "id": "5ed38924-e993-4d92-8516-bc852e82510f",
   "metadata": {},
   "outputs": [],
   "source": [
    "class Human:\n",
    "    def __init__(self):\n",
    "        self.a = None\n",
    "    def add(self,a,b):\n",
    "        return a+b"
   ]
  },
  {
   "cell_type": "code",
   "execution_count": 53,
   "id": "88b7980e-a793-4ba1-ab8c-4e6049032370",
   "metadata": {},
   "outputs": [],
   "source": [
    "c = Human()\n",
    "d = Human()"
   ]
  },
  {
   "cell_type": "code",
   "execution_count": 54,
   "id": "eafe2343-785d-491b-9ffa-dffb5d606ede",
   "metadata": {},
   "outputs": [],
   "source": [
    "c1 = c.add(2,2)"
   ]
  },
  {
   "cell_type": "code",
   "execution_count": 55,
   "id": "ccb93117-00bf-43b7-b3bf-0ae71949d733",
   "metadata": {},
   "outputs": [
    {
     "data": {
      "text/plain": [
       "4"
      ]
     },
     "execution_count": 55,
     "metadata": {},
     "output_type": "execute_result"
    }
   ],
   "source": [
    "c1"
   ]
  },
  {
   "cell_type": "code",
   "execution_count": 56,
   "id": "c27d7540-37fb-46bf-a346-8ccf4d069b8e",
   "metadata": {},
   "outputs": [
    {
     "data": {
      "text/plain": [
       "7"
      ]
     },
     "execution_count": 56,
     "metadata": {},
     "output_type": "execute_result"
    }
   ],
   "source": [
    "c.add(c1,3)"
   ]
  },
  {
   "cell_type": "code",
   "execution_count": null,
   "id": "bb2199e3-1be5-4cf1-9c34-6d9e31f7a042",
   "metadata": {},
   "outputs": [],
   "source": []
  },
  {
   "cell_type": "code",
   "execution_count": 45,
   "id": "c39a7f58-b498-49d9-80c0-73983e607c0a",
   "metadata": {},
   "outputs": [],
   "source": [
    "b = Human()"
   ]
  },
  {
   "cell_type": "code",
   "execution_count": 46,
   "id": "a9a099b3-1217-475c-9a65-b1d1ef55403e",
   "metadata": {},
   "outputs": [
    {
     "data": {
      "text/plain": [
       "6"
      ]
     },
     "execution_count": 46,
     "metadata": {},
     "output_type": "execute_result"
    }
   ],
   "source": [
    "b.add(4,2)"
   ]
  },
  {
   "cell_type": "code",
   "execution_count": 57,
   "id": "d1045ea4-a24f-41cd-bc19-fbca863b8570",
   "metadata": {},
   "outputs": [],
   "source": [
    "class Human :\n",
    "    pass"
   ]
  },
  {
   "cell_type": "code",
   "execution_count": 58,
   "id": "0265e066-79ec-4bea-963b-a3e7edc6fc93",
   "metadata": {},
   "outputs": [],
   "source": [
    "areum = Human()"
   ]
  },
  {
   "cell_type": "code",
   "execution_count": 59,
   "id": "ffe6f67a-ee84-488a-a572-8b7880547971",
   "metadata": {},
   "outputs": [],
   "source": [
    "class Human:\n",
    "    def __init__(self) :\n",
    "        print('응애응애')"
   ]
  },
  {
   "cell_type": "code",
   "execution_count": 63,
   "id": "99ec9ec2-b826-4649-960b-585f7b1fe95e",
   "metadata": {},
   "outputs": [
    {
     "name": "stdout",
     "output_type": "stream",
     "text": [
      "응애응애\n"
     ]
    }
   ],
   "source": [
    "b = Human()"
   ]
  },
  {
   "cell_type": "code",
   "execution_count": 65,
   "id": "a2e44faf-f0f7-4425-9cb0-f82351baac2a",
   "metadata": {},
   "outputs": [],
   "source": [
    "class Human:\n",
    "    def __init__(self,name, age, sex):\n",
    "        self.name = name\n",
    "        self.age = age\n",
    "        self.sex = sex\n",
    "    "
   ]
  },
  {
   "cell_type": "code",
   "execution_count": 68,
   "id": "6d5ca395-ce2d-4c80-b713-b80447c1e680",
   "metadata": {},
   "outputs": [],
   "source": [
    "areum = Human(\"조아름\", 25, \"여자\")"
   ]
  },
  {
   "cell_type": "code",
   "execution_count": 69,
   "id": "abd9aa05-20d4-444b-ba4c-25ad96ea31d9",
   "metadata": {},
   "outputs": [
    {
     "name": "stdout",
     "output_type": "stream",
     "text": [
      "25\n"
     ]
    }
   ],
   "source": [
    "print(areum.age)"
   ]
  },
  {
   "cell_type": "code",
   "execution_count": 70,
   "id": "ff90139e-2079-45c7-ba9f-52668c5a82f0",
   "metadata": {},
   "outputs": [],
   "source": [
    "class Human:\n",
    "    def __init__(self,name, age, sex):\n",
    "        self.name = name\n",
    "        self.age = age\n",
    "        self.sex = sex\n",
    "    def who(self):\n",
    "        print('이름 : {} 나이 : {} 성별 : {}'.format(self.name,self.age,self.sex))"
   ]
  },
  {
   "cell_type": "code",
   "execution_count": 73,
   "id": "4778e401-17f1-4eef-805f-59d29398aae3",
   "metadata": {},
   "outputs": [],
   "source": [
    "areum = Human('아름',25,'여자')"
   ]
  },
  {
   "cell_type": "code",
   "execution_count": 74,
   "id": "bca05c88-be31-469e-b241-b4cb2ef9d9e8",
   "metadata": {},
   "outputs": [
    {
     "name": "stdout",
     "output_type": "stream",
     "text": [
      "이름 : 아름 나이 : 25 성별 : 여자\n"
     ]
    }
   ],
   "source": [
    "areum.who()"
   ]
  },
  {
   "cell_type": "code",
   "execution_count": null,
   "id": "137d18e2-e319-440c-811b-e6a8e34a6991",
   "metadata": {},
   "outputs": [],
   "source": [
    "class Human:\n",
    "    def __init__(self, name , age, sex):\n",
    "        self.name = name, "
   ]
  },
  {
   "cell_type": "code",
   "execution_count": 81,
   "id": "70771f13-d453-4a6b-b527-14a9669ab00d",
   "metadata": {},
   "outputs": [
    {
     "name": "stdout",
     "output_type": "stream",
     "text": [
      "이름: 불명 나이: 미상 성별: 모름\n",
      "이름: 아름 나이: 25 성별: 여자\n"
     ]
    }
   ],
   "source": [
    "class Human:\n",
    "    def __init__(self, name, age, sex):\n",
    "        self.name = name\n",
    "        self.age = age\n",
    "        self.sex = sex\n",
    "\n",
    "    def who(self):\n",
    "        print(\"이름: {} 나이: {} 성별: {}\".format(self.name, self.age, self.sex))\n",
    "\n",
    "    def setInfo(self, name, age, sex):\n",
    "        self.name = name\n",
    "        self.age = age\n",
    "        self.sex = sex\n",
    "\n",
    "\n",
    "areum = Human(\"불명\", \"미상\", \"모름\")\n",
    "areum.who()      # Human.who(areum)\n",
    "\n",
    "areum.setInfo(\"아름\", 25, \"여자\")\n",
    "areum.who()      # Human.who(areum"
   ]
  },
  {
   "cell_type": "code",
   "execution_count": 95,
   "id": "31107c46-c2c7-4a77-91bc-ff02cab4b728",
   "metadata": {},
   "outputs": [
    {
     "name": "stdout",
     "output_type": "stream",
     "text": [
      "월드콘의 가격은 1000원 입니다.\n"
     ]
    }
   ],
   "source": [
    "class IceCream:\n",
    "\tdef __init__(self, name, price):\n",
    "\t\tself.name = name\n",
    "\t\tself.price = price\n",
    "\t\tprint(self.name + \"의 가격은 \" + str(price) + \"원 입니다.\")\n",
    "\tdef __del__(self):\n",
    "\t\tprint(self.name + \" 객체가 소멸합니다.\")\n",
    "\t\n",
    "objectIc = IceCream(\"월드콘\", 1000)\n"
   ]
  },
  {
   "cell_type": "code",
   "execution_count": 99,
   "id": "d2274806-cc7d-4386-93af-cab1c5a31656",
   "metadata": {},
   "outputs": [],
   "source": [
    "import lib as t"
   ]
  },
  {
   "cell_type": "code",
   "execution_count": 102,
   "id": "00b9e009-00f2-4b5d-8762-590d459effb0",
   "metadata": {},
   "outputs": [],
   "source": [
    "class Human:\n",
    "    pass"
   ]
  },
  {
   "cell_type": "code",
   "execution_count": 104,
   "id": "deecdad4-1ab4-4827-b812-db022ccccf86",
   "metadata": {},
   "outputs": [],
   "source": [
    "areum = Human()"
   ]
  },
  {
   "cell_type": "code",
   "execution_count": 105,
   "id": "df69077d-8af8-4bbe-b42b-13878c06c968",
   "metadata": {},
   "outputs": [
    {
     "data": {
      "text/plain": [
       "<__main__.Human at 0x26abe8b5220>"
      ]
     },
     "execution_count": 105,
     "metadata": {},
     "output_type": "execute_result"
    }
   ],
   "source": [
    "areum"
   ]
  },
  {
   "cell_type": "code",
   "execution_count": 116,
   "id": "d688f1fe-9565-4137-a278-d6a93589cd48",
   "metadata": {},
   "outputs": [],
   "source": [
    "class Human:\n",
    "    def __init__(self):\n",
    "        print('응애응애')"
   ]
  },
  {
   "cell_type": "code",
   "execution_count": 119,
   "id": "be0e65d9-6ccc-41c1-b9dd-c15be63b25d9",
   "metadata": {},
   "outputs": [
    {
     "name": "stdout",
     "output_type": "stream",
     "text": [
      "응애응애\n"
     ]
    }
   ],
   "source": [
    "areum = Human()"
   ]
  },
  {
   "cell_type": "code",
   "execution_count": 118,
   "id": "a065c2ae-c61e-4737-86da-6ef298748d32",
   "metadata": {},
   "outputs": [
    {
     "data": {
      "text/plain": [
       "<__main__.Human at 0x26abec88580>"
      ]
     },
     "execution_count": 118,
     "metadata": {},
     "output_type": "execute_result"
    }
   ],
   "source": [
    "areum"
   ]
  },
  {
   "cell_type": "code",
   "execution_count": 135,
   "id": "df925f92-353f-460e-8175-d064f1b624f8",
   "metadata": {},
   "outputs": [],
   "source": [
    "class Human:\n",
    "    def __init__(self, 이름, 나이, 성별):\n",
    "        self.name = 이름\n",
    "        self.age  = 나이\n",
    "        self.sex = 성별"
   ]
  },
  {
   "cell_type": "code",
   "execution_count": 140,
   "id": "dd35ebd5-26a9-4679-bf64-ce35046789a7",
   "metadata": {},
   "outputs": [],
   "source": [
    "areum = Human('승현',25,'남')"
   ]
  },
  {
   "cell_type": "code",
   "execution_count": 145,
   "id": "7d17f35d-3ae8-4e43-a81d-086ad261f389",
   "metadata": {},
   "outputs": [
    {
     "name": "stdout",
     "output_type": "stream",
     "text": [
      "승현\n"
     ]
    }
   ],
   "source": [
    "print(areum.name)"
   ]
  },
  {
   "cell_type": "code",
   "execution_count": 172,
   "id": "829f6f7a-ecc9-48ea-a9dc-6dd5808a4cdd",
   "metadata": {},
   "outputs": [],
   "source": [
    "import datetime as dt"
   ]
  },
  {
   "cell_type": "code",
   "execution_count": 173,
   "id": "31ce10af-26f1-4c1b-95c2-7140cf9d9ca8",
   "metadata": {},
   "outputs": [],
   "source": [
    "now = dt.datetime.now()"
   ]
  },
  {
   "cell_type": "code",
   "execution_count": 175,
   "id": "5a48de64-9641-4ea1-afcf-1e462d02dfba",
   "metadata": {},
   "outputs": [
    {
     "name": "stdout",
     "output_type": "stream",
     "text": [
      "2023-01-05 18:20:11.577263 <class 'datetime.datetime'>\n"
     ]
    }
   ],
   "source": [
    "print(now,type(now))"
   ]
  },
  {
   "cell_type": "code",
   "execution_count": 181,
   "id": "79e0e2b5-10f3-402d-9957-5615646f2f52",
   "metadata": {},
   "outputs": [],
   "source": [
    "class Human:\n",
    "    def __init__(self, name, age, sex):\n",
    "        self.name = name\n",
    "        self.age = age\n",
    "        self.sex = sex\n",
    "\n",
    "    def who(self):\n",
    "        print(\"이름: {} 나이: {} 성별: {}\".format(self.name, self.age, self.sex))\n",
    "    \n",
    "    def setInfo(self, name, age, sex):\n",
    "        self.name = name\n",
    "        self.age = age\n",
    "        self.sex = sex\n",
    "        \n",
    "    def __del__(self):\n",
    "        print('나의 죽음을 알리지말라')\n",
    "\n",
    "areum = H"
   ]
  },
  {
   "cell_type": "code",
   "execution_count": 185,
   "id": "4ec8c3ea-9928-4149-b60a-c8c9afb5211d",
   "metadata": {},
   "outputs": [],
   "source": [
    "areum = Human('',0,'모르')"
   ]
  },
  {
   "cell_type": "code",
   "execution_count": 186,
   "id": "bd3eaa83-12de-4b71-a4b9-4a9238f79141",
   "metadata": {},
   "outputs": [
    {
     "name": "stdout",
     "output_type": "stream",
     "text": [
      "이름:  나이: 0 성별: 모르\n"
     ]
    }
   ],
   "source": [
    "areum.who()"
   ]
  },
  {
   "cell_type": "code",
   "execution_count": 190,
   "id": "0d5ba727-023f-4526-b516-305e10fd452f",
   "metadata": {},
   "outputs": [],
   "source": [
    "areum.setInfo('아름',25,'여자') # 재생성"
   ]
  },
  {
   "cell_type": "code",
   "execution_count": 192,
   "id": "b7f0ed00-681b-4431-ba79-45a40c6e75b8",
   "metadata": {},
   "outputs": [],
   "source": [
    "del(areum)"
   ]
  },
  {
   "cell_type": "code",
   "execution_count": 201,
   "id": "bc2cdfe3-148c-41fa-9438-5678e15843d0",
   "metadata": {},
   "outputs": [
    {
     "name": "stdout",
     "output_type": "stream",
     "text": [
      "Oh my god\n"
     ]
    }
   ],
   "source": [
    "class OMG : \n",
    "    def print(self) :\n",
    "        print(\"Oh my god\")\n",
    "\n",
    "myStock = OMG()\n",
    "myStock.print()"
   ]
  },
  {
   "cell_type": "code",
   "execution_count": 238,
   "id": "3018c795-09fa-4a47-895b-a6f5adf00767",
   "metadata": {},
   "outputs": [],
   "source": [
    "class Stock:\n",
    "    def __init__(self, name, code, per, pbr, dividend):\n",
    "        self.name = name\n",
    "        self.code = code\n",
    "        self.per = per\n",
    "        self.pbr = pbr\n",
    "        self.dividend = dividend\n",
    "        \n",
    "    def set_name(self, name):\n",
    "        self.name = name "
   ]
  },
  {
   "cell_type": "code",
   "execution_count": 242,
   "id": "3cb6b2dc-07d5-4bc2-8290-8979283ae3db",
   "metadata": {},
   "outputs": [],
   "source": [
    "a = Stock(None,None,None,None,None)"
   ]
  },
  {
   "cell_type": "code",
   "execution_count": 232,
   "id": "8176f0fd-b849-4325-b9b7-649a85493bae",
   "metadata": {},
   "outputs": [],
   "source": [
    "class Stock:\n",
    "    def __init__(self,종목명, 종목코드, PER, PBR, 배당수익률):\n",
    "        self.종목명 = 종목명\n",
    "        self.종목코드 = 종목코드\n",
    "        self.PER = PER\n",
    "        self.PBR = PBR\n",
    "        self.배당수익률 = 배당수익률\n",
    "    \n",
    "    def set_name(self, name):\n",
    "        self.name = name\n",
    "\n",
    "    def set_code(self, code):\n",
    "        self.code = code\n",
    "\n",
    "    def get_name(self):\n",
    "        return self.name\n",
    "\n",
    "    def get_code(self):\n",
    "        return self.code\n",
    "    \n",
    "    def set_per(self):"
   ]
  },
  {
   "cell_type": "code",
   "execution_count": 234,
   "id": "1b97930a-aece-460e-8720-257dc929591f",
   "metadata": {},
   "outputs": [],
   "source": [
    "삼성  =Stock(\"삼성전자\", \"005930\", 15.79, 1.33, 2.83)\n"
   ]
  },
  {
   "cell_type": "code",
   "execution_count": 248,
   "id": "2db7a192-3224-40ac-91d0-1b1af65774e7",
   "metadata": {},
   "outputs": [],
   "source": [
    "class Stock:\n",
    "    def __init__(self, name=None, code=None, per=None, pbr=None, dividend=None):\n",
    "        self.name = name\n",
    "        self.code = code\n",
    "        self.per = per\n",
    "        self.pbr = pbr\n",
    "        self.dividend = dividend\n",
    "\n",
    "    def set_name(self, name):\n",
    "        self.name = name\n",
    "\n",
    "    def set_code(self, code):\n",
    "        self.code = code\n",
    "\n",
    "    def get_name(self):\n",
    "        return self.name\n",
    "\n",
    "    def get_code(self):\n",
    "        return self.code\n",
    "\n",
    "    def set_per(self, per):\n",
    "        self.per = per\n",
    "\n",
    "    def set_pbr(self, pbr):\n",
    "        self.pbr = pbr\n",
    "\n",
    "    def set_dividend(self, dividend):\n",
    "        self.dividend = dividend"
   ]
  },
  {
   "cell_type": "code",
   "execution_count": 244,
   "id": "6b2a133a-6c4f-497a-9d8a-d042dee4a1c3",
   "metadata": {},
   "outputs": [],
   "source": [
    "삼성 = Stock(\"삼성전자\", \"005930\", 15.79, 1.33, 2.83)"
   ]
  },
  {
   "cell_type": "code",
   "execution_count": 245,
   "id": "e66a1ce8-b653-48fd-99aa-654752625378",
   "metadata": {},
   "outputs": [],
   "source": [
    "삼성.set_per(12.75)"
   ]
  },
  {
   "cell_type": "code",
   "execution_count": 246,
   "id": "4a4522f1-a7fe-43bb-92c4-5b2c01161f8f",
   "metadata": {},
   "outputs": [
    {
     "name": "stdout",
     "output_type": "stream",
     "text": [
      "12.75\n"
     ]
    }
   ],
   "source": [
    "print(삼성.per)"
   ]
  },
  {
   "cell_type": "code",
   "execution_count": 250,
   "id": "96bb7d72-1c8d-4afa-9d8f-ddfc2a8620df",
   "metadata": {},
   "outputs": [],
   "source": [
    "삼성전자 = Stock(code= 1)"
   ]
  },
  {
   "cell_type": "code",
   "execution_count": 255,
   "id": "19e00b41-3fcd-49b5-a51f-3ac973b9abff",
   "metadata": {},
   "outputs": [],
   "source": [
    "삼성전자.code = 2"
   ]
  },
  {
   "cell_type": "code",
   "execution_count": 256,
   "id": "b5143b36-7114-42a0-a60d-89e1a23b4f8d",
   "metadata": {},
   "outputs": [
    {
     "data": {
      "text/plain": [
       "2"
      ]
     },
     "execution_count": 256,
     "metadata": {},
     "output_type": "execute_result"
    }
   ],
   "source": [
    "삼성전자.code"
   ]
  },
  {
   "cell_type": "code",
   "execution_count": 257,
   "id": "9f094a02-b769-49ee-a550-074a34fe19a3",
   "metadata": {},
   "outputs": [],
   "source": [
    "class Stock:\n",
    "    def __init__(self, name=None, code=None, per=None, pbr=None, dividend=None):\n",
    "        self.name = name\n",
    "        self.code = code\n",
    "        self.per = per\n",
    "        self.pbr = pbr\n",
    "        self.dividend = dividend"
   ]
  },
  {
   "cell_type": "code",
   "execution_count": 263,
   "id": "eb2c7000-46de-43d3-add8-dffc836d3f3b",
   "metadata": {},
   "outputs": [],
   "source": [
    "삼성전자 = Stock()\n",
    "현대차 = Stock()\n",
    "LG전자 = Stock()"
   ]
  },
  {
   "cell_type": "code",
   "execution_count": 265,
   "id": "6ea3fee1-a3ce-405f-bfb9-589b366f1884",
   "metadata": {},
   "outputs": [],
   "source": [
    "삼성전자= Stock(\"삼성전자\",'005930',15.79,1.33,2.83)\n",
    "현대차= Stock(\"현대차\",'005380',8.70,0.35,4.27)\n",
    "LG전자= Stock(\"LG전자\",'066570',317.34,0.69,1.37)"
   ]
  },
  {
   "cell_type": "code",
   "execution_count": 276,
   "id": "14f80501-2116-45dc-82f9-68b0a0f2b07c",
   "metadata": {},
   "outputs": [],
   "source": [
    "import random"
   ]
  },
  {
   "cell_type": "code",
   "execution_count": 271,
   "id": "c2182785-0142-42d7-88c5-68af042e89f7",
   "metadata": {},
   "outputs": [],
   "source": [
    "class Account:\n",
    "    account_count = 0\n",
    "    \n",
    "    def __init__(self, name=None, moneyname=None, account=None, money=None):\n",
    "        self.name = name\n",
    "        self.moneyname = moneyname\n",
    "        self.account = account\n",
    "        self.money = money\n",
    "        \n",
    "        num1 = str(num1).zfill(2)\n",
    "        num2 = str(num2).zfill(2)"
   ]
  },
  {
   "cell_type": "code",
   "execution_count": 272,
   "id": "df3440b2-6f18-4113-aaaf-886a150ba143",
   "metadata": {},
   "outputs": [],
   "source": [
    "은행 = Account()"
   ]
  },
  {
   "cell_type": "code",
   "execution_count": 274,
   "id": "3c28aa6a-5564-4d1d-9774-64e506bf9627",
   "metadata": {},
   "outputs": [],
   "source": [
    "은행.name = \"sc은행\"\n",
    "은행.moneyname = \"111-11-111111\""
   ]
  },
  {
   "cell_type": "code",
   "execution_count": 275,
   "id": "1ad5828d-248b-4082-a14a-78c0e31167d7",
   "metadata": {},
   "outputs": [
    {
     "name": "stdout",
     "output_type": "stream",
     "text": [
      "sc은행 111-11-111111\n"
     ]
    }
   ],
   "source": [
    "print(은행.name, 은행.moneyname)"
   ]
  },
  {
   "cell_type": "code",
   "execution_count": 358,
   "id": "47de2ec2-1284-4b73-ae35-f357bf6bf3fa",
   "metadata": {},
   "outputs": [
    {
     "name": "stdout",
     "output_type": "stream",
     "text": [
      "2\n"
     ]
    }
   ],
   "source": [
    "import random\n",
    "\n",
    "class Account:\n",
    "    # class variable\n",
    "    account_count = 0\n",
    "\n",
    "    def __init__(self, name, balance):\n",
    "        self.name = name\n",
    "        self.balance = balance\n",
    "        self.bank = \"SC은행\"\n",
    "\n",
    "        # 3-2-6\n",
    "        num1 = random.randint(0, 999)\n",
    "        num2 = random.randint(0, 99)\n",
    "        num3 = random.randint(0, 999999)\n",
    "\n",
    "        num1 = str(num1).zfill(3)      # 1 -> '1' -> '001'\n",
    "        num2 = str(num2).zfill(2)      # 1 -> '1' -> '01'\n",
    "        num3 = str(num3).zfill(6)      # 1 -> '1' -> '0000001'\n",
    "        self.account_number = num1 + '-' + num2 + '-' + num3  # 001-01-000001\n",
    "        Account.account_count +=1\n",
    "        \n",
    "    def get_account_num(cls):\n",
    "        print(cls.account_count)     # Account.account_count\n",
    "\n",
    "            \n",
    "kim = Account(\"김민수\", 100)\n",
    "lee = Account(\"이민수\", 100)\n",
    "kim.get_account_num()"
   ]
  },
  {
   "cell_type": "code",
   "execution_count": 349,
   "id": "0c3a8094-e542-42a9-bf5e-c424f11f5612",
   "metadata": {},
   "outputs": [],
   "source": [
    "kim = Account('김민수',100)\n",
    "lee = Account('이민수',100)"
   ]
  },
  {
   "cell_type": "code",
   "execution_count": 350,
   "id": "abb18140-725d-43b3-8119-434624113eec",
   "metadata": {},
   "outputs": [
    {
     "name": "stdout",
     "output_type": "stream",
     "text": [
      "3\n",
      "4\n"
     ]
    }
   ],
   "source": [
    "kim = Account(\"김민수\", 100)\n",
    "print(Account.account_count)\n",
    "lee = Account(\"이민수\", 100)\n",
    "print(Account.account_count)"
   ]
  },
  {
   "cell_type": "code",
   "execution_count": 351,
   "id": "5c1a2a92-0f68-400e-bb80-75b404adcbd2",
   "metadata": {},
   "outputs": [
    {
     "data": {
      "text/plain": [
       "4"
      ]
     },
     "execution_count": 351,
     "metadata": {},
     "output_type": "execute_result"
    }
   ],
   "source": [
    "Account.ss"
   ]
  },
  {
   "cell_type": "code",
   "execution_count": 352,
   "id": "a87a335d-076c-49ac-b60b-515bd7382be0",
   "metadata": {},
   "outputs": [
    {
     "data": {
      "text/plain": [
       "4"
      ]
     },
     "execution_count": 352,
     "metadata": {},
     "output_type": "execute_result"
    }
   ],
   "source": [
    "kim.ss"
   ]
  },
  {
   "cell_type": "code",
   "execution_count": null,
   "id": "094b00a2-17f0-4dc5-aa81-302d848c3003",
   "metadata": {},
   "outputs": [],
   "source": [
    "계산기 = cal()\n",
    "계산기.add()"
   ]
  },
  {
   "cell_type": "code",
   "execution_count": 815,
   "id": "44a93365-375b-44a8-9ac2-64b902dafff8",
   "metadata": {},
   "outputs": [],
   "source": [
    "class cal :\n",
    "    def __init__(self):\n",
    "        self.init = 0\n",
    "\n",
    "        \n",
    "    def add_func(self,num):\n",
    "        self.init += num\n",
    "  \n",
    "        \n",
    "    def sub_func(self,num):\n",
    "        self.init -= num\n",
    "\n",
    "        \n",
    "    def mul_func(self,num):\n",
    "        self.init *= num\n",
    "\n",
    "        \n",
    "    def div_func(self,num):\n",
    "        self.init /= num\n",
    "\n",
    "    def final_func(self):\n",
    "        print(self.init)"
   ]
  },
  {
   "cell_type": "code",
   "execution_count": 408,
   "id": "89431064-874e-495b-bc12-17b175337a2f",
   "metadata": {},
   "outputs": [],
   "source": [
    "계산기 = cal()"
   ]
  },
  {
   "cell_type": "code",
   "execution_count": 409,
   "id": "16af75f1-edde-45cf-9950-0bff5ab99846",
   "metadata": {},
   "outputs": [],
   "source": [
    "계산기.add_func(3)"
   ]
  },
  {
   "cell_type": "code",
   "execution_count": 399,
   "id": "189312f4-ac90-42f0-9d22-8337d659e887",
   "metadata": {},
   "outputs": [],
   "source": [
    "계산기1 = cal()"
   ]
  },
  {
   "cell_type": "code",
   "execution_count": 403,
   "id": "bea82714-d096-428a-b48d-130b22f6078f",
   "metadata": {},
   "outputs": [
    {
     "name": "stdout",
     "output_type": "stream",
     "text": [
      "0.0\n"
     ]
    }
   ],
   "source": [
    "계산기1.mul_func(2)"
   ]
  },
  {
   "cell_type": "code",
   "execution_count": 398,
   "id": "3963b0ef-5138-4a3e-814c-2cd91a58cdc2",
   "metadata": {},
   "outputs": [
    {
     "name": "stdout",
     "output_type": "stream",
     "text": [
      "-5.0\n"
     ]
    }
   ],
   "source": [
    "계산기.div_func(5)"
   ]
  },
  {
   "cell_type": "code",
   "execution_count": 807,
   "id": "cee4115c-4e4b-4d25-b45d-dd16d231687c",
   "metadata": {},
   "outputs": [],
   "source": [
    "class calcc:\n",
    "    \n",
    "    def __init__(self): \n",
    "        self.init = 0\n",
    "        self.num = 0\n",
    "        self.cnt = 0\n",
    "        self.input_num = 0\n",
    "        print(self.init)\n",
    "        \n",
    "    def input_(self, num): #입력\n",
    "        self.num = num\n",
    "        self.input_num += 1\n",
    "        print(num)\n",
    "        print(f\"입력버튼 누른갯수:{self.input_num}\")\n",
    "        \n",
    "    def add(self): #더하기\n",
    "        if self.cnt > 0:\n",
    "            self.init = self.init + self.num\n",
    "            self.num = 0\n",
    "            print(self.init)\n",
    "            print(f\"더하기버튼 누른갯수:{self.cnt+1}\")\n",
    "        else:\n",
    "            self.init = self.init\n",
    "            \n",
    "        self.cnt += 1\n",
    "        print(self.cnt)\n",
    "        \n",
    "    def sub(self): #빼기\n",
    "\n",
    "        if self.cnt > self.input_num : #갯수\n",
    "            self.init = self.init - self.num\n",
    "            self.num = 0\n",
    "            print(self.num)\n",
    "        else:\n",
    "            self.cnt += 1\n",
    "            print(self.init)\n",
    "        \n",
    "        \n",
    "    def result(self):\n",
    "        print(self.init)"
   ]
  },
  {
   "cell_type": "code",
   "execution_count": 808,
   "id": "3f306342-2eeb-46e8-a6c2-5869c5fae09e",
   "metadata": {},
   "outputs": [
    {
     "name": "stdout",
     "output_type": "stream",
     "text": [
      "0\n"
     ]
    }
   ],
   "source": [
    "a = calcc()"
   ]
  },
  {
   "cell_type": "code",
   "execution_count": 809,
   "id": "6a2afd7b-79b8-4824-a3c8-a28e2e2d6f67",
   "metadata": {},
   "outputs": [
    {
     "name": "stdout",
     "output_type": "stream",
     "text": [
      "44\n",
      "입력버튼 누른갯수:1\n"
     ]
    }
   ],
   "source": [
    "a.input_(44)"
   ]
  },
  {
   "cell_type": "code",
   "execution_count": 814,
   "id": "8c732354-8d3d-42b6-80a4-1b8c5db6289b",
   "metadata": {},
   "outputs": [
    {
     "name": "stdout",
     "output_type": "stream",
     "text": [
      "44\n",
      "더하기버튼 누른갯수:5\n",
      "5\n"
     ]
    }
   ],
   "source": [
    "a.add()"
   ]
  },
  {
   "cell_type": "code",
   "execution_count": 745,
   "id": "4e755505-98b5-4ebe-ab23-3a10ac55222c",
   "metadata": {},
   "outputs": [
    {
     "name": "stdout",
     "output_type": "stream",
     "text": [
      "0\n"
     ]
    }
   ],
   "source": [
    "a.sub()"
   ]
  },
  {
   "cell_type": "code",
   "execution_count": 651,
   "id": "6154e53c-8107-4550-b66a-4ce93899c839",
   "metadata": {},
   "outputs": [
    {
     "name": "stdout",
     "output_type": "stream",
     "text": [
      "44\n"
     ]
    }
   ],
   "source": [
    "a.result()"
   ]
  },
  {
   "cell_type": "code",
   "execution_count": 436,
   "id": "ffc16991-d013-4f60-8c0b-d1aa51b0b69d",
   "metadata": {},
   "outputs": [
    {
     "name": "stdout",
     "output_type": "stream",
     "text": [
      "9\n"
     ]
    }
   ],
   "source": [
    "a.input_num(9)"
   ]
  },
  {
   "cell_type": "code",
   "execution_count": 437,
   "id": "b9e6a74e-2478-4bc4-b54a-513813787178",
   "metadata": {},
   "outputs": [
    {
     "name": "stdout",
     "output_type": "stream",
     "text": [
      "64\n"
     ]
    }
   ],
   "source": [
    "a.add()"
   ]
  },
  {
   "cell_type": "code",
   "execution_count": 536,
   "id": "7852e6eb-18ab-48a8-961a-cd820891ad91",
   "metadata": {},
   "outputs": [
    {
     "name": "stdout",
     "output_type": "stream",
     "text": [
      "0\n"
     ]
    }
   ],
   "source": [
    "a.result()"
   ]
  },
  {
   "cell_type": "code",
   "execution_count": 439,
   "id": "dfd36e22-24dc-4ae9-8e12-cdbdb8f1b1d5",
   "metadata": {},
   "outputs": [],
   "source": [
    "txt = \"\""
   ]
  },
  {
   "cell_type": "code",
   "execution_count": 440,
   "id": "fda67376-1230-4605-9b61-6140ab81920d",
   "metadata": {},
   "outputs": [],
   "source": [
    "txt = txt + \"1\""
   ]
  },
  {
   "cell_type": "code",
   "execution_count": 441,
   "id": "cfaddc3a-c8d2-4df7-bb24-969d3bbf5261",
   "metadata": {},
   "outputs": [
    {
     "data": {
      "text/plain": [
       "'1'"
      ]
     },
     "execution_count": 441,
     "metadata": {},
     "output_type": "execute_result"
    }
   ],
   "source": [
    "txt"
   ]
  },
  {
   "cell_type": "code",
   "execution_count": 816,
   "id": "65dc3542-1b01-4a32-8053-47edc5b9eb7b",
   "metadata": {},
   "outputs": [
    {
     "data": {
      "text/plain": [
       "'C:\\\\Users\\\\user\\\\python\\\\스터디'"
      ]
     },
     "execution_count": 816,
     "metadata": {},
     "output_type": "execute_result"
    }
   ],
   "source": [
    "pwd"
   ]
  },
  {
   "cell_type": "code",
   "execution_count": 817,
   "id": "583434e7-a339-40fd-854d-9a14e67e3a6f",
   "metadata": {},
   "outputs": [
    {
     "data": {
      "text/plain": [
       "'C:\\\\Users\\\\user\\\\python\\\\스터디'"
      ]
     },
     "execution_count": 817,
     "metadata": {},
     "output_type": "execute_result"
    }
   ],
   "source": [
    "pwd"
   ]
  },
  {
   "cell_type": "code",
   "execution_count": null,
   "id": "d23bbf40-eb98-4a16-ab25-3c1439f1e4e3",
   "metadata": {},
   "outputs": [],
   "source": []
  }
 ],
 "metadata": {
  "kernelspec": {
   "display_name": "Python 3 (ipykernel)",
   "language": "python",
   "name": "python3"
  },
  "language_info": {
   "codemirror_mode": {
    "name": "ipython",
    "version": 3
   },
   "file_extension": ".py",
   "mimetype": "text/x-python",
   "name": "python",
   "nbconvert_exporter": "python",
   "pygments_lexer": "ipython3",
   "version": "3.9.15"
  }
 },
 "nbformat": 4,
 "nbformat_minor": 5
}
