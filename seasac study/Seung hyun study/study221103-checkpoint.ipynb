{
 "cells": [
  {
   "cell_type": "markdown",
   "id": "258b59e6-e0c6-4597-8051-0238c31bf4ea",
   "metadata": {},
   "source": [
    "1. (데이터 수집)\n",
    "https://store.steampowered.com/search/?filter=topsellers\n",
    " 에서 상위 50개 항목을 크롤링하여\n",
    " 각각의 순위, 게임명, 가격, 할인율을 담는 DataFrame을 만드시오."
   ]
  },
  {
   "cell_type": "code",
   "execution_count": 1,
   "id": "fa70d178-3bbb-469c-91f2-3aa4d248ae45",
   "metadata": {},
   "outputs": [],
   "source": [
    "import pandas as pd\n",
    "import requests\n",
    "from bs4 import BeautifulSoup"
   ]
  },
  {
   "cell_type": "code",
   "execution_count": 2,
   "id": "35b27bb4-82f3-4c1a-b272-a98d9c739388",
   "metadata": {},
   "outputs": [],
   "source": [
    "url = 'https://store.steampowered.com/search/?filter=topsellers'"
   ]
  },
  {
   "cell_type": "code",
   "execution_count": 3,
   "id": "1e981466-8551-4e16-b117-cab58939e937",
   "metadata": {},
   "outputs": [],
   "source": [
    "req = requests.get(url)"
   ]
  },
  {
   "cell_type": "code",
   "execution_count": 5,
   "id": "e9f510ac-1594-435b-9389-90ea3c35bb6d",
   "metadata": {},
   "outputs": [
    {
     "data": {
      "text/plain": [
       "<Response [200]>"
      ]
     },
     "execution_count": 5,
     "metadata": {},
     "output_type": "execute_result"
    }
   ],
   "source": [
    "req"
   ]
  },
  {
   "cell_type": "code",
   "execution_count": 10,
   "id": "ad697782-f78f-4cdf-94f0-50edb5ecb0f6",
   "metadata": {
    "tags": []
   },
   "outputs": [],
   "source": [
    "soup = BeautifulSoup(req.text, 'html.parser')"
   ]
  },
  {
   "cell_type": "code",
   "execution_count": 39,
   "id": "ae6a7c67-18d4-48cc-ab04-111144a2a040",
   "metadata": {},
   "outputs": [],
   "source": [
    "order = soup.select('#search_resultsRows > a > div.responsive_search_name_combined > div.col.search_name.ellipsis > span')"
   ]
  },
  {
   "cell_type": "code",
   "execution_count": 71,
   "id": "d460f647-9140-43a4-aee1-7d4810a43633",
   "metadata": {
    "tags": []
   },
   "outputs": [],
   "source": [
    "data  = []\n",
    "for i in range(len(gametitle)) :\n",
    "    order.append(i+1)"
   ]
  },
  {
   "cell_type": "code",
   "execution_count": 72,
   "id": "a4523da5-0b62-4573-a97b-65d785f9e658",
   "metadata": {
    "collapsed": true,
    "jupyter": {
     "outputs_hidden": true
    },
    "tags": []
   },
   "outputs": [
    {
     "data": {
      "text/plain": [
       "[1,\n",
       " 2,\n",
       " 3,\n",
       " 4,\n",
       " 5,\n",
       " 6,\n",
       " 7,\n",
       " 8,\n",
       " 9,\n",
       " 10,\n",
       " 11,\n",
       " 12,\n",
       " 13,\n",
       " 14,\n",
       " 15,\n",
       " 16,\n",
       " 17,\n",
       " 18,\n",
       " 19,\n",
       " 20,\n",
       " 21,\n",
       " 22,\n",
       " 23,\n",
       " 24,\n",
       " 25,\n",
       " 26,\n",
       " 27,\n",
       " 28,\n",
       " 29,\n",
       " 30,\n",
       " 31,\n",
       " 32,\n",
       " 33,\n",
       " 34,\n",
       " 35,\n",
       " 36,\n",
       " 37,\n",
       " 38,\n",
       " 39,\n",
       " 40,\n",
       " 41,\n",
       " 42,\n",
       " 43,\n",
       " 44,\n",
       " 45,\n",
       " 46,\n",
       " 47,\n",
       " 48,\n",
       " 49,\n",
       " 50]"
      ]
     },
     "execution_count": 72,
     "metadata": {},
     "output_type": "execute_result"
    }
   ],
   "source": [
    "order"
   ]
  },
  {
   "cell_type": "code",
   "execution_count": null,
   "id": "cf7ff430-d4a4-49f6-8009-0c89b03f9af3",
   "metadata": {},
   "outputs": [],
   "source": []
  },
  {
   "cell_type": "code",
   "execution_count": null,
   "id": "5ffd56dc-c585-4350-81f2-8fac4844a383",
   "metadata": {},
   "outputs": [],
   "source": []
  },
  {
   "cell_type": "code",
   "execution_count": null,
   "id": "ac1e57fa-a2a4-4888-aed3-20bb23cfb7a5",
   "metadata": {},
   "outputs": [],
   "source": []
  },
  {
   "cell_type": "code",
   "execution_count": 27,
   "id": "0a6ad53c-0a49-4b98-8f19-1a87cafdf9b7",
   "metadata": {},
   "outputs": [],
   "source": [
    "gametitle = soup.select('#search_resultsRows > a > div.responsive_search_name_combined > div.col.search_name.ellipsis > span')"
   ]
  },
  {
   "cell_type": "code",
   "execution_count": 28,
   "id": "ce1e5349-b6d8-4703-9adf-c15ac002878e",
   "metadata": {
    "collapsed": true,
    "jupyter": {
     "outputs_hidden": true
    },
    "tags": []
   },
   "outputs": [
    {
     "data": {
      "text/plain": [
       "[<span class=\"title\">DAVE THE DIVER</span>,\n",
       " <span class=\"title\">Football Manager 2023</span>,\n",
       " <span class=\"title\">PUBG: BATTLEGROUNDS</span>,\n",
       " <span class=\"title\">Call of Duty®: Modern Warfare® II</span>,\n",
       " <span class=\"title\">Mount &amp; Blade II: Bannerlord</span>,\n",
       " <span class=\"title\">V Rising</span>,\n",
       " <span class=\"title\">EA SPORTS™ FIFA 23</span>,\n",
       " <span class=\"title\">FreestyleFootball R</span>,\n",
       " <span class=\"title\">War Thunder</span>,\n",
       " <span class=\"title\">Against the Storm</span>,\n",
       " <span class=\"title\">GrandChase</span>,\n",
       " <span class=\"title\">Victoria 3</span>,\n",
       " <span class=\"title\">Soulstone Survivors</span>,\n",
       " <span class=\"title\">Apex Legends™</span>,\n",
       " <span class=\"title\">Battlefield™ 1</span>,\n",
       " <span class=\"title\">Torchlight: Infinite</span>,\n",
       " <span class=\"title\">Deep Rock Galactic</span>,\n",
       " <span class=\"title\">Grand Theft Auto V</span>,\n",
       " <span class=\"title\">Counter-Strike: Global Offensive</span>,\n",
       " <span class=\"title\">Warhammer: Vermintide 2</span>,\n",
       " <span class=\"title\">Yu-Gi-Oh! Master Duel</span>,\n",
       " <span class=\"title\">Destiny 2</span>,\n",
       " <span class=\"title\">Persona 5 Royal</span>,\n",
       " <span class=\"title\">RimWorld</span>,\n",
       " <span class=\"title\">EZ2ON REBOOT : R</span>,\n",
       " <span class=\"title\">The Past Within</span>,\n",
       " <span class=\"title\">Sixtar Gate: STARTRAIL</span>,\n",
       " <span class=\"title\">Dead by Daylight</span>,\n",
       " <span class=\"title\">Dota 2</span>,\n",
       " <span class=\"title\">Sonic Frontiers</span>,\n",
       " <span class=\"title\">ELDEN RING</span>,\n",
       " <span class=\"title\">Frostpunk</span>,\n",
       " <span class=\"title\">Atelier Ryza 2: Lost Legends &amp; the Secret Fairy</span>,\n",
       " <span class=\"title\">Dying Light</span>,\n",
       " <span class=\"title\">Brotato</span>,\n",
       " <span class=\"title\">Warframe</span>,\n",
       " <span class=\"title\">Metal: Hellsinger</span>,\n",
       " <span class=\"title\">Project Zomboid</span>,\n",
       " <span class=\"title\">타워 오브 판타지</span>,\n",
       " <span class=\"title\">Raft</span>,\n",
       " <span class=\"title\">Warhammer 40,000: Darktide</span>,\n",
       " <span class=\"title\">MARVEL SNAP</span>,\n",
       " <span class=\"title\">Stardew Valley</span>,\n",
       " <span class=\"title\">EZ2ON REBOOT : R - GROOVE COASTER Collaboration DLC</span>,\n",
       " <span class=\"title\">Marvel’s Spider-Man Remastered</span>,\n",
       " <span class=\"title\">Conqueror's Blade</span>,\n",
       " <span class=\"title\">RimWorld - Biotech</span>,\n",
       " <span class=\"title\">ENDER LILIES: Quietus of the Knights</span>,\n",
       " <span class=\"title\">Heroes of Hammerwatch</span>,\n",
       " <span class=\"title\">Hero Siege</span>]"
      ]
     },
     "execution_count": 28,
     "metadata": {},
     "output_type": "execute_result"
    }
   ],
   "source": [
    "gametitle"
   ]
  },
  {
   "cell_type": "code",
   "execution_count": 36,
   "id": "b3416443-e39e-471a-a032-3c8bc730eb4a",
   "metadata": {},
   "outputs": [],
   "source": [
    "price = soup.select('#search_resultsRows > a:nth-child(1) > div.responsive_search_name_combined > div.col.search_price_discount_combined.responsive_secondrow > div.col.search_price.responsive_secondrow')"
   ]
  },
  {
   "cell_type": "code",
   "execution_count": 37,
   "id": "51818512-8889-4d08-8085-2745bd8ac366",
   "metadata": {},
   "outputs": [
    {
     "data": {
      "text/plain": [
       "'24,000'"
      ]
     },
     "execution_count": 37,
     "metadata": {},
     "output_type": "execute_result"
    }
   ],
   "source": [
    "price[0].text.strip().replace('₩ ', '')"
   ]
  },
  {
   "cell_type": "code",
   "execution_count": null,
   "id": "88c6c07e-df21-4029-9189-b35e3220b5f6",
   "metadata": {},
   "outputs": [],
   "source": [
    "rate = soup.select()"
   ]
  },
  {
   "cell_type": "code",
   "execution_count": null,
   "id": "06a3b90e-d75a-4921-afff-e01d1496c873",
   "metadata": {},
   "outputs": [],
   "source": []
  },
  {
   "cell_type": "code",
   "execution_count": null,
   "id": "8b517058-b5d0-43f9-931d-199efbfe4f6e",
   "metadata": {},
   "outputs": [],
   "source": []
  },
  {
   "cell_type": "code",
   "execution_count": null,
   "id": "f9a3f2fd-2441-4770-a899-d18c38ed27b7",
   "metadata": {},
   "outputs": [],
   "source": []
  },
  {
   "cell_type": "code",
   "execution_count": null,
   "id": "ccb4c345-1dc4-4cee-b911-9745c90ea160",
   "metadata": {},
   "outputs": [],
   "source": []
  },
  {
   "cell_type": "code",
   "execution_count": null,
   "id": "05da8329-7ba5-4df6-ae53-927efb01d47a",
   "metadata": {},
   "outputs": [],
   "source": []
  },
  {
   "cell_type": "markdown",
   "id": "8634735f-4908-4afd-bf36-db19b0fc5ed0",
   "metadata": {},
   "source": [
    "2. (데이터 전처리)\n",
    "1) 가격을 int형태의 수치로 나타내고 무료인 가격항목을 0으로 처리하시오.\n",
    "2) 할인하지 않는 항목에 대한 값을 공백이 아닌 0으로 채워넣으시오."
   ]
  },
  {
   "cell_type": "code",
   "execution_count": null,
   "id": "002fac06-e08d-4678-b81c-a67b9153b107",
   "metadata": {},
   "outputs": [],
   "source": []
  },
  {
   "cell_type": "code",
   "execution_count": null,
   "id": "aafb5cbe-18d9-4bc5-986c-c96c6eff5ae6",
   "metadata": {},
   "outputs": [],
   "source": []
  },
  {
   "cell_type": "markdown",
   "id": "d684c2e6-6020-4231-987d-5b98d485d226",
   "metadata": {},
   "source": [
    "3. (데이터 살펴보기)\n",
    "1) 무료게임을 제외한 나머지게임들을 할인율이 높은 순으로 재정렬하시오.\n",
    "2) 1)번 결과의 자료에서 '가성비'란 항목을 추가하여 가성비가 높은 순서대로 재정렬하시오.\n",
    "* 가성비 = ((표본개수 *1.5)+ 게임순위) * 10000 / 가격"
   ]
  },
  {
   "cell_type": "code",
   "execution_count": null,
   "id": "93de59c0-c0d7-4d73-9308-989cb0e74923",
   "metadata": {},
   "outputs": [],
   "source": []
  },
  {
   "cell_type": "markdown",
   "id": "ab1acb03-ee52-46c5-bcf8-d786c33c7943",
   "metadata": {},
   "source": [
    "# 4.(분석과 모델검정) 은 자료가 적어서 PASS~  "
   ]
  }
 ],
 "metadata": {
  "kernelspec": {
   "display_name": "Python 3.9.13 ('base')",
   "language": "python",
   "name": "python3"
  },
  "language_info": {
   "codemirror_mode": {
    "name": "ipython",
    "version": 3
   },
   "file_extension": ".py",
   "mimetype": "text/x-python",
   "name": "python",
   "nbconvert_exporter": "python",
   "pygments_lexer": "ipython3",
   "version": "3.9.13"
  },
  "vscode": {
   "interpreter": {
    "hash": "701d4f28dcd0866722f5108a3a4cbcd08882d26398b6d44117e791d7b8102912"
   }
  }
 },
 "nbformat": 4,
 "nbformat_minor": 5
}
