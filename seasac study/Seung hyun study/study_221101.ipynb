{
 "cells": [
  {
   "cell_type": "markdown",
   "id": "71d6dfec-d709-4123-96f8-ac5b62775637",
   "metadata": {
    "tags": []
   },
   "source": [
    "# 찬웅님 문제1"
   ]
  },
  {
   "cell_type": "markdown",
   "id": "9b47c3b9-bff2-4a53-9b8d-967f9d7e8409",
   "metadata": {},
   "source": [
    "1. '고소득층(high_income)으로 분류되는 남성과 여성 각각의 생존율을 구하고, 그 수치를 막대 그래프를 이용하여 시각화하시오.'¶\n",
    "(단, 고소득층(high_income)은 'Fare'가 전체 승객 내에 상위 25% 안에 들며, 'Pclass'가 1등급인 사람을 지칭한다.)"
   ]
  },
  {
   "cell_type": "code",
   "execution_count": null,
   "id": "bf3310bc-21fa-4af4-99e4-ec3289d2afa0",
   "metadata": {},
   "outputs": [],
   "source": [
    "import pandas as pd\n",
    "import numpy as np"
   ]
  },
  {
   "cell_type": "code",
   "execution_count": null,
   "id": "48c69ab1-87fd-4be6-a456-44999da5e336",
   "metadata": {},
   "outputs": [],
   "source": [
    "train = pd.read_csv('titanic/train.csv')"
   ]
  },
  {
   "cell_type": "code",
   "execution_count": null,
   "id": "a079e5b4-5182-40c3-b254-da3d0869ecbd",
   "metadata": {},
   "outputs": [],
   "source": [
    "train"
   ]
  },
  {
   "cell_type": "code",
   "execution_count": null,
   "id": "d614c174-5f8a-4248-9c74-19a08bb5ea71",
   "metadata": {},
   "outputs": [],
   "source": [
    "train.info()"
   ]
  },
  {
   "cell_type": "code",
   "execution_count": null,
   "id": "b1d9c12e-86f9-40f5-9ba4-d9d0fb2d62e0",
   "metadata": {},
   "outputs": [],
   "source": [
    "train.describe()"
   ]
  },
  {
   "cell_type": "code",
   "execution_count": null,
   "id": "4c0c83b0-0ed0-44d4-908f-a927ea636094",
   "metadata": {},
   "outputs": [],
   "source": [
    "train[(train['Fare'] >= train['Fare'].quantile(q = 0.75)) & (train['Pclass'] == 1)].sort_values(by = 'Fare', ascending = False)"
   ]
  },
  {
   "cell_type": "code",
   "execution_count": null,
   "id": "37474818-faa9-46f5-a467-5e2bdfe291dc",
   "metadata": {},
   "outputs": [],
   "source": [
    "# 고소득층(high_income)으로 분류 -> 이 부분 풀 때 시간이 오래걸렸음. why? ('Fare'가 전체 승객 내에 상위 25%) 이 부분 때문에 오래걸림 ㅠㅠ"
   ]
  },
  {
   "cell_type": "code",
   "execution_count": null,
   "id": "4744dc27-6c01-4996-8d8c-1437bb2707c9",
   "metadata": {},
   "outputs": [],
   "source": [
    "high_income = train[(train['Fare'] >= train['Fare'].quantile(q = 0.75)) & (train['Pclass'] == 1)].sort_values(by = 'Fare', ascending = False)"
   ]
  },
  {
   "cell_type": "code",
   "execution_count": null,
   "id": "337422b5-1e46-4bb6-91ff-20eb7d4b921b",
   "metadata": {},
   "outputs": [],
   "source": [
    "high_income"
   ]
  },
  {
   "cell_type": "code",
   "execution_count": null,
   "id": "09928991-db8c-4aec-81ba-5d2e67b70e70",
   "metadata": {},
   "outputs": [],
   "source": [
    "#'고소득층(high_income)으로 분류되는 남성의 생존율:  34.666667\n",
    "# 고소득층(high_income)으로 분류되는 여성의 생존율:  97.701149"
   ]
  },
  {
   "cell_type": "code",
   "execution_count": null,
   "id": "1bb25efe-08a2-4b79-ad05-c15cf08d54cb",
   "metadata": {},
   "outputs": [],
   "source": [
    "hmw = high_income.groupby('Sex')['Survived'].mean() * 100 # 이 부분은 그룹핑 방법에 대해 다시 살펴봐야함."
   ]
  },
  {
   "cell_type": "code",
   "execution_count": null,
   "id": "001c72de-831a-4e82-ae1c-f59f97c88fad",
   "metadata": {},
   "outputs": [],
   "source": [
    "hmw"
   ]
  },
  {
   "cell_type": "code",
   "execution_count": null,
   "id": "30740ead-8d81-40fa-b444-af2139150c00",
   "metadata": {},
   "outputs": [],
   "source": [
    "#막대 그래프"
   ]
  },
  {
   "cell_type": "code",
   "execution_count": null,
   "id": "9d9c450e-a8a1-4c97-917f-7c9543891165",
   "metadata": {},
   "outputs": [],
   "source": [
    "hmw.plot.bar();"
   ]
  },
  {
   "cell_type": "code",
   "execution_count": null,
   "id": "8f7261ab-84f9-48fc-8466-871595351867",
   "metadata": {},
   "outputs": [],
   "source": [
    "hmw.plot(legend=True);"
   ]
  },
  {
   "cell_type": "code",
   "execution_count": null,
   "id": "d162ca64-1414-4a8f-abaa-e8e7f8bc12de",
   "metadata": {},
   "outputs": [],
   "source": []
  },
  {
   "cell_type": "markdown",
   "id": "1cdb7d0e-6562-4527-ba87-78b3a3b81edc",
   "metadata": {},
   "source": [
    "# 찬웅님 문제2"
   ]
  },
  {
   "cell_type": "markdown",
   "id": "316e43d2-cf2f-491a-a72c-b4fe258a5780",
   "metadata": {},
   "source": [
    "Titanic'모델을 바탕으로, Titanic모델의 'Fare'값에 <이상치>가 있음을 확인하고,\n",
    "이상치를 제거한 'Fare'데이터를 상위계층('A') (Fare값이 전체 데이터내 66%~100%에 해당), 중위계층('B') (33%~66%), 하위계층('C') (0~33%) 으로 나눈다 했을 때,\n",
    "각 계층별 생존율을 구하고, 이를 가시화 하고 결과를 해석해보시오.\n",
    "\n",
    "<이상치> =\n",
    "iqr = (사분위 범위 ; 1사분위와 3사분위 사이의 거리)\n",
    "[(하위25% 값) - (iqr * 1.5)] < X < [(상위25% 값) - (iqr * 1.5)]\n",
    "위 식을 만족하는 X값을 실데이터로 분류하고, 위 식을 만족하지 않는 X값들을\n",
    "이상치로 분류한다.\n",
    "hint ) 사분위값을 넣을 때,   .quantile(.구간값)을 사용하면 편함.\n",
    "예) data.quantile(.25) = 데이터의 하위 25% 위치 값 (편집됨) "
   ]
  },
  {
   "cell_type": "code",
   "execution_count": null,
   "id": "b1e8e94d-591f-49c3-abac-3b83741b52fb",
   "metadata": {},
   "outputs": [],
   "source": [
    "train"
   ]
  },
  {
   "cell_type": "code",
   "execution_count": null,
   "id": "5a86f6e4-0f9f-4fa3-922c-5fc7630357f3",
   "metadata": {},
   "outputs": [],
   "source": [
    "train['Fare'].mean()"
   ]
  },
  {
   "cell_type": "code",
   "execution_count": null,
   "id": "650a1912-5ddd-461a-a042-2b86c73fc471",
   "metadata": {},
   "outputs": [],
   "source": [
    "train['Fare'].median()"
   ]
  },
  {
   "cell_type": "code",
   "execution_count": null,
   "id": "991d02ee-dd85-46c5-8524-f069a298fe3d",
   "metadata": {},
   "outputs": [],
   "source": [
    "train['Fare'].max()"
   ]
  },
  {
   "cell_type": "code",
   "execution_count": null,
   "id": "e20ad2d4-6637-4251-9c5b-0e756b6f8fe2",
   "metadata": {},
   "outputs": [],
   "source": [
    "train['Fare'].min()"
   ]
  },
  {
   "cell_type": "code",
   "execution_count": null,
   "id": "8ce5bc09-da90-455b-a82e-8e28068b7e2b",
   "metadata": {},
   "outputs": [],
   "source": [
    "train['Fare'].sort_values(ascending=True)"
   ]
  },
  {
   "cell_type": "code",
   "execution_count": null,
   "id": "91c5748c-71ce-4530-94af-e6aa40681421",
   "metadata": {},
   "outputs": [],
   "source": []
  },
  {
   "cell_type": "code",
   "execution_count": null,
   "id": "63bc44d8-72c1-4870-9240-39c9dc16ff76",
   "metadata": {},
   "outputs": [],
   "source": []
  },
  {
   "cell_type": "code",
   "execution_count": null,
   "id": "b2e959c9-3e4f-4b14-b70b-4f504b9f3d63",
   "metadata": {},
   "outputs": [],
   "source": []
  },
  {
   "cell_type": "code",
   "execution_count": null,
   "id": "5c257fde-9cdb-4184-9269-1669fb304ad1",
   "metadata": {},
   "outputs": [],
   "source": []
  },
  {
   "cell_type": "markdown",
   "id": "306f73dd-6e92-4ccf-aabe-5a6b406f9a02",
   "metadata": {},
   "source": [
    "# 1번 풀 때 고민 했던 부분"
   ]
  },
  {
   "cell_type": "code",
   "execution_count": null,
   "id": "f859674e-d2da-4bb6-88dd-9265a533596d",
   "metadata": {},
   "outputs": [],
   "source": [
    "train['Fare'].quantile(q = 0.25)"
   ]
  },
  {
   "cell_type": "code",
   "execution_count": null,
   "id": "8149e842-a9e6-4ef6-846a-5e0128ac529e",
   "metadata": {},
   "outputs": [],
   "source": []
  },
  {
   "cell_type": "code",
   "execution_count": null,
   "id": "b062a233-a4be-40bf-aa96-bd1cf0f2773f",
   "metadata": {},
   "outputs": [],
   "source": [
    "num = pd.Series([1, 2, 3, 4, 5, 6, 7, 8, 9, 10])"
   ]
  },
  {
   "cell_type": "code",
   "execution_count": null,
   "id": "fedf16dc-6139-4b22-a87f-d48a67f91167",
   "metadata": {},
   "outputs": [],
   "source": [
    "num"
   ]
  },
  {
   "cell_type": "code",
   "execution_count": null,
   "id": "38e0d420-ccf5-407f-ae91-9ad23ca36663",
   "metadata": {},
   "outputs": [],
   "source": [
    "# 'Fare'가 전체 승객 내에 상위 25%, Pclass가 1등급인 사람"
   ]
  },
  {
   "cell_type": "code",
   "execution_count": null,
   "id": "c05f19da-5920-48d2-8c03-d8ce415b966a",
   "metadata": {
    "tags": []
   },
   "outputs": [],
   "source": [
    "train_ftf = (train['Fare'] == 0.25) & (train['Pclass'] == 1)"
   ]
  },
  {
   "cell_type": "code",
   "execution_count": null,
   "id": "88bc30ae-1fcb-4cc8-b874-9aa51099bcdb",
   "metadata": {},
   "outputs": [],
   "source": [
    "train_ftf.sum()"
   ]
  },
  {
   "cell_type": "code",
   "execution_count": null,
   "id": "9ffc05ae-7d24-4d76-b8ef-34caddf1689e",
   "metadata": {},
   "outputs": [],
   "source": [
    "train"
   ]
  },
  {
   "cell_type": "code",
   "execution_count": null,
   "id": "6ddd06b4-0c45-4d4a-8393-2e617410419e",
   "metadata": {},
   "outputs": [],
   "source": []
  },
  {
   "cell_type": "code",
   "execution_count": null,
   "id": "1f8395e8-2874-4bd7-adaf-bccac7f0eda4",
   "metadata": {},
   "outputs": [],
   "source": [
    "# 'Fare'가 전체 승객 내에 상위 25%, Pclass가 1등급인 사람"
   ]
  },
  {
   "cell_type": "code",
   "execution_count": null,
   "id": "d7d3b5e3-a8f5-49d5-87ea-2ffdfdfca321",
   "metadata": {},
   "outputs": [],
   "source": [
    "train[(train['Fare'] == 0.25) & (train['Pclass'] == 1)]"
   ]
  },
  {
   "cell_type": "code",
   "execution_count": null,
   "id": "32dceb86-fcdd-4042-aa74-3cebefe36667",
   "metadata": {},
   "outputs": [],
   "source": []
  },
  {
   "cell_type": "code",
   "execution_count": null,
   "id": "f4b16981-3c81-4249-be2d-bcfe20c1809c",
   "metadata": {},
   "outputs": [],
   "source": []
  },
  {
   "cell_type": "code",
   "execution_count": null,
   "id": "cecdfe8f-3f8e-422d-9577-ea615ed1e5a2",
   "metadata": {},
   "outputs": [],
   "source": []
  },
  {
   "cell_type": "code",
   "execution_count": null,
   "id": "3ff4b4d5-4083-45f5-81ac-6790b36b7a92",
   "metadata": {},
   "outputs": [],
   "source": [
    "고소득별 남자, 여자"
   ]
  },
  {
   "cell_type": "code",
   "execution_count": null,
   "id": "1833be70-ec42-42d7-b5c7-75adf54c38ac",
   "metadata": {},
   "outputs": [],
   "source": [
    "train.groupby('Fare')[['Sex']].sum()"
   ]
  },
  {
   "cell_type": "code",
   "execution_count": null,
   "id": "9a878b40-10d6-4eff-aeb0-90020dcef022",
   "metadata": {},
   "outputs": [],
   "source": [
    "train['Sex'].value_counts() # 'male':0, 'female':1"
   ]
  },
  {
   "cell_type": "code",
   "execution_count": null,
   "id": "d355777a-504a-4341-af17-686206941bdd",
   "metadata": {},
   "outputs": [],
   "source": [
    "# 'Fare'가 전체 승객 내에 상위 25%\n",
    "Fare_twenty_five = train['Fare'] * 0.25 "
   ]
  },
  {
   "cell_type": "code",
   "execution_count": null,
   "id": "056647eb-fe40-48ae-862c-81c27adce2bc",
   "metadata": {},
   "outputs": [],
   "source": [
    "Fare_twenty_five.value_counts()"
   ]
  },
  {
   "cell_type": "code",
   "execution_count": null,
   "id": "b69074fc-d8b6-4549-9659-6dc3b7fee703",
   "metadata": {},
   "outputs": [],
   "source": [
    "# Pclass가 1등급인 사람: 216명"
   ]
  },
  {
   "cell_type": "code",
   "execution_count": null,
   "id": "55fbc2a7-21c2-4f62-ac52-a0033c32cd18",
   "metadata": {},
   "outputs": [],
   "source": [
    "train['Pclass'].value_counts()[1]"
   ]
  },
  {
   "cell_type": "code",
   "execution_count": null,
   "id": "11ad37ab-93cf-4304-956b-3949cf10c26e",
   "metadata": {},
   "outputs": [],
   "source": [
    "train.describe()"
   ]
  },
  {
   "cell_type": "code",
   "execution_count": null,
   "id": "aa4fadbe-8a8a-46bd-b0d2-a28b94be4502",
   "metadata": {},
   "outputs": [],
   "source": [
    "train['Fare'].describe()"
   ]
  },
  {
   "cell_type": "code",
   "execution_count": null,
   "id": "0401efa9-63a8-48dc-b54d-8129fa6ed85e",
   "metadata": {},
   "outputs": [],
   "source": []
  },
  {
   "cell_type": "markdown",
   "id": "294c3623-edc4-4c01-abcc-ec6c2ad1ece4",
   "metadata": {},
   "source": [
    "# 예진 문제"
   ]
  },
  {
   "cell_type": "markdown",
   "id": "d620ed33-e03a-4159-8f30-f4dc9546f50d",
   "metadata": {},
   "source": [
    "2. 'Age'의 null 값을 성별 중앙값으로 채워 'Age2'에 저장한 다음 0~9세 'kids' , 10~19세 'teens' , 20~29세 '20s' , 30~39세 '30s' , 40~49세 '40s' , 50세이상 'over 50s'로 묶어서 'Age_group'에 저장하세요. \n",
    "그리고 'Pclass'의 'Age_group'그룹별로 생존율을 구하세요."
   ]
  },
  {
   "cell_type": "markdown",
   "id": "48754e97-783b-4972-8034-9a60fbd669a5",
   "metadata": {},
   "source": [
    "1) 'Age'의 null 값을 성별 중앙값으로 채워 'Age2'에 저장하시오.\n",
    "2) 0~9세 'kids' , 10~19세 'teens' , 20~29세 '20s' , 30~39세 '30s' , 40~49세 '40s' , 50세이상 'over 50s' 묶으시오.\n",
    "3) 'Pclass'의 'Age_group'그룹별로 생존율을 구하세요."
   ]
  },
  {
   "cell_type": "code",
   "execution_count": 1,
   "id": "25742f92-e1bd-40ad-957a-e113e356b005",
   "metadata": {},
   "outputs": [],
   "source": [
    "import pandas as pd"
   ]
  },
  {
   "cell_type": "code",
   "execution_count": 2,
   "id": "71dba915-2e6c-4b88-8baa-6a42bd5aaed8",
   "metadata": {},
   "outputs": [],
   "source": [
    "train = pd.read_csv('titanic/train.csv')"
   ]
  },
  {
   "cell_type": "code",
   "execution_count": null,
   "id": "59a3df4f-7368-4035-ac5f-17bdf9441760",
   "metadata": {},
   "outputs": [],
   "source": []
  },
  {
   "cell_type": "code",
   "execution_count": null,
   "id": "4dc5d83e-224c-46e7-9f6e-bd4167bbaf97",
   "metadata": {},
   "outputs": [],
   "source": []
  },
  {
   "cell_type": "code",
   "execution_count": null,
   "id": "0ed0276b-3d97-4bd1-b213-2472b1661173",
   "metadata": {},
   "outputs": [],
   "source": [
    "train['Age3'] = train['Age'].copy()"
   ]
  },
  {
   "cell_type": "code",
   "execution_count": null,
   "id": "e2576be1-d954-4c2c-8a45-0d769e6c7af8",
   "metadata": {},
   "outputs": [],
   "source": [
    "train[['Age']]"
   ]
  },
  {
   "cell_type": "code",
   "execution_count": null,
   "id": "9488bced-6e45-4285-aea6-e9b263e987ca",
   "metadata": {},
   "outputs": [],
   "source": [
    "train['Sex2'] = train['Sex'].copy()"
   ]
  },
  {
   "cell_type": "code",
   "execution_count": null,
   "id": "3646f117-23a5-4ee0-9b20-8bc0a32e2091",
   "metadata": {},
   "outputs": [],
   "source": [
    "train['Sex']"
   ]
  },
  {
   "cell_type": "code",
   "execution_count": null,
   "id": "31e53cbf-b602-43d3-8ac1-166534f74202",
   "metadata": {
    "tags": []
   },
   "outputs": [],
   "source": [
    "train.groupby('Sex2')['Age2'].mean()"
   ]
  },
  {
   "cell_type": "code",
   "execution_count": null,
   "id": "388f9d60-1c44-46b8-99fc-acefeb14ff2d",
   "metadata": {},
   "outputs": [],
   "source": [
    "train['Age3']"
   ]
  },
  {
   "cell_type": "code",
   "execution_count": 4,
   "id": "45b05b7c-316d-44c6-92b0-116832fa4ef2",
   "metadata": {
    "tags": []
   },
   "outputs": [],
   "source": [
    "train['Age2'] = train['Age'].fillna(train.groupby('Sex')['Age'].transform('median'))"
   ]
  },
  {
   "cell_type": "code",
   "execution_count": 6,
   "id": "4d97d0cc-67cc-469d-a8d4-51b033e2da49",
   "metadata": {},
   "outputs": [],
   "source": [
    "tmp_df = train[['Age','Age2','Sex']]"
   ]
  },
  {
   "cell_type": "code",
   "execution_count": 13,
   "id": "80670587-7acb-4343-a3e6-b8c7f16592ad",
   "metadata": {},
   "outputs": [],
   "source": [
    "#tmp_df[tmp_df['Age'].isnull()].groupby('Sex').mean()\n",
    "tmp2_df = tmp_df[tmp_df['Age'].isnull()]"
   ]
  },
  {
   "cell_type": "code",
   "execution_count": 12,
   "id": "b312d082-dcd7-4719-a1ee-e183127c0a48",
   "metadata": {},
   "outputs": [
    {
     "data": {
      "text/plain": [
       "Sex\n",
       "female    27.0\n",
       "male      29.0\n",
       "Name: Age, dtype: float64"
      ]
     },
     "execution_count": 12,
     "metadata": {},
     "output_type": "execute_result"
    }
   ],
   "source": [
    "train.groupby('Sex')['Age'].median()"
   ]
  },
  {
   "cell_type": "code",
   "execution_count": 20,
   "id": "043c3b6f-d4ee-4d3d-ae33-d929b96249d8",
   "metadata": {},
   "outputs": [
    {
     "data": {
      "text/plain": [
       "0      29.0\n",
       "1      27.0\n",
       "2      27.0\n",
       "3      27.0\n",
       "4      29.0\n",
       "       ... \n",
       "886    29.0\n",
       "887    27.0\n",
       "888    27.0\n",
       "889    29.0\n",
       "890    29.0\n",
       "Name: Age, Length: 891, dtype: float64"
      ]
     },
     "execution_count": 20,
     "metadata": {},
     "output_type": "execute_result"
    }
   ],
   "source": [
    "train.groupby('Sex')['Age'].transform('median')"
   ]
  },
  {
   "cell_type": "code",
   "execution_count": 21,
   "id": "1f7266e2-eba6-4a60-acac-32baba2013f8",
   "metadata": {},
   "outputs": [
    {
     "data": {
      "text/plain": [
       "0      22.0\n",
       "1      38.0\n",
       "2      26.0\n",
       "3      35.0\n",
       "4      35.0\n",
       "       ... \n",
       "886    27.0\n",
       "887    19.0\n",
       "888     NaN\n",
       "889    26.0\n",
       "890    32.0\n",
       "Name: Age, Length: 891, dtype: float64"
      ]
     },
     "execution_count": 21,
     "metadata": {},
     "output_type": "execute_result"
    }
   ],
   "source": [
    "train[\"Age\"]"
   ]
  },
  {
   "cell_type": "code",
   "execution_count": null,
   "id": "e45f45be-c34f-4e27-a565-bada4b8de7dc",
   "metadata": {},
   "outputs": [],
   "source": []
  },
  {
   "cell_type": "code",
   "execution_count": null,
   "id": "e04fb2b8-5586-4b1b-a8a4-a833b80457fe",
   "metadata": {},
   "outputs": [],
   "source": [
    "train['Age2'].isnull().sum()"
   ]
  },
  {
   "cell_type": "code",
   "execution_count": null,
   "id": "a6c2bfe3-35df-4691-98d9-d01546354238",
   "metadata": {},
   "outputs": [],
   "source": [
    "train['Age2'].median()"
   ]
  },
  {
   "cell_type": "code",
   "execution_count": null,
   "id": "9d31be7d-bdee-4714-b054-1220c6a15406",
   "metadata": {},
   "outputs": [],
   "source": [
    "# 1) 'Age'의 null 값을 성별 중앙값으로 채워 'Age2'에 저장하시오. (0)"
   ]
  },
  {
   "cell_type": "code",
   "execution_count": null,
   "id": "7d3c3aee-72db-434e-82f9-c615642f792a",
   "metadata": {},
   "outputs": [],
   "source": [
    "train[['Age', 'Age2']]"
   ]
  },
  {
   "cell_type": "code",
   "execution_count": null,
   "id": "e60be21c-e67d-43e2-b745-e73c0ff67bd0",
   "metadata": {},
   "outputs": [],
   "source": []
  },
  {
   "cell_type": "code",
   "execution_count": null,
   "id": "c8a08cee-a74a-4bb7-b85d-e06671a17284",
   "metadata": {},
   "outputs": [],
   "source": []
  },
  {
   "cell_type": "code",
   "execution_count": null,
   "id": "2111daa0-c096-4921-8bb9-061654e59031",
   "metadata": {},
   "outputs": [],
   "source": [
    "# 2) 0~9세 'kids' , 10~19세 'teens' , 20~29세 '20s' , 30~39세 '30s' , 40~49세 '40s' , 50세이상 'over 50s' 묶으시오. (0)"
   ]
  },
  {
   "cell_type": "code",
   "execution_count": null,
   "id": "4cce3103-7b6c-4055-8d1a-e38bdf28c5c6",
   "metadata": {},
   "outputs": [],
   "source": [
    "train['Age_group'] = np.where(train['Age2'] <=9, 'kids',\n",
    "                     np.where(train['Age2'] <= 19, 'teens', \n",
    "                                    np.where(train['Age2'] <= 29, '20s',\n",
    "                                            np.where(train['Age2'] <= 39, '30s',\n",
    "                                                    np.where(train['Age2'] <= 49, '40s', 'over 50s')))))"
   ]
  },
  {
   "cell_type": "code",
   "execution_count": null,
   "id": "4b674cb6-75d1-4c34-8c7f-5d106709abe4",
   "metadata": {},
   "outputs": [],
   "source": [
    "train"
   ]
  },
  {
   "cell_type": "code",
   "execution_count": null,
   "id": "ffbab521-3059-4f30-a7f6-154b6e62c26a",
   "metadata": {},
   "outputs": [],
   "source": [
    "train['Age_group'].value_counts()"
   ]
  },
  {
   "cell_type": "code",
   "execution_count": null,
   "id": "2db87892-f13d-4cd5-ab8b-117d22447209",
   "metadata": {},
   "outputs": [],
   "source": [
    "# 3) 'Pclass'의 'Age_group'그룹별로 생존율을 구하세요."
   ]
  },
  {
   "cell_type": "code",
   "execution_count": null,
   "id": "bc723c54-7da8-4842-a985-6f65aacdad87",
   "metadata": {},
   "outputs": [],
   "source": [
    "train.groupby(['Pclass', 'Age_group'])['Survived'].mean()"
   ]
  },
  {
   "cell_type": "markdown",
   "id": "a213cae4-8fb1-407f-8f01-58d484f143d5",
   "metadata": {},
   "source": []
  },
  {
   "cell_type": "code",
   "execution_count": null,
   "id": "ba5f49ca-9bb7-4d71-b5e7-35c024b1a92a",
   "metadata": {},
   "outputs": [],
   "source": []
  },
  {
   "cell_type": "code",
   "execution_count": null,
   "id": "42f2da64-c427-4216-8bc7-d749fbb7772b",
   "metadata": {},
   "outputs": [],
   "source": []
  },
  {
   "cell_type": "code",
   "execution_count": null,
   "id": "a37f6bca-11ca-49c9-9202-85a0c1546dea",
   "metadata": {},
   "outputs": [],
   "source": []
  },
  {
   "cell_type": "code",
   "execution_count": null,
   "id": "36703dd9-606e-41be-944d-ae28a60f9742",
   "metadata": {},
   "outputs": [],
   "source": []
  },
  {
   "cell_type": "code",
   "execution_count": null,
   "id": "c0358a38-5cef-431a-b21f-eb8860c607db",
   "metadata": {},
   "outputs": [],
   "source": []
  },
  {
   "cell_type": "code",
   "execution_count": null,
   "id": "d9e3e678-5d93-40e0-aae0-a6d37ce0ffcc",
   "metadata": {},
   "outputs": [],
   "source": []
  },
  {
   "cell_type": "code",
   "execution_count": null,
   "id": "5387ee6d-9802-4f81-beea-dae0c8544588",
   "metadata": {},
   "outputs": [],
   "source": []
  },
  {
   "cell_type": "code",
   "execution_count": null,
   "id": "93187f7b-4721-4eea-8708-c16ef426977e",
   "metadata": {},
   "outputs": [],
   "source": []
  },
  {
   "cell_type": "code",
   "execution_count": null,
   "id": "50f59b37-d3fe-4b08-a3ee-d12178332a0f",
   "metadata": {},
   "outputs": [],
   "source": []
  },
  {
   "cell_type": "code",
   "execution_count": null,
   "id": "5f37e3a9-48a8-49f9-b575-c5f5e330a90c",
   "metadata": {},
   "outputs": [],
   "source": []
  }
 ],
 "metadata": {
  "kernelspec": {
   "display_name": "Python 3.9.13 ('base')",
   "language": "python",
   "name": "python3"
  },
  "language_info": {
   "codemirror_mode": {
    "name": "ipython",
    "version": 3
   },
   "file_extension": ".py",
   "mimetype": "text/x-python",
   "name": "python",
   "nbconvert_exporter": "python",
   "pygments_lexer": "ipython3",
   "version": "3.9.13"
  },
  "vscode": {
   "interpreter": {
    "hash": "701d4f28dcd0866722f5108a3a4cbcd08882d26398b6d44117e791d7b8102912"
   }
  }
 },
 "nbformat": 4,
 "nbformat_minor": 5
}
