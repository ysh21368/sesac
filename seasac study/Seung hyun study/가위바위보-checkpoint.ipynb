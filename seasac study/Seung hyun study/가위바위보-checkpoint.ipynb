{
 "cells": [
  {
   "cell_type": "code",
   "execution_count": 1,
   "id": "41b51d19-b0b1-48b2-9f3d-941e73c6afc4",
   "metadata": {
    "tags": []
   },
   "outputs": [],
   "source": [
    "import random\n",
    "rock = '''\n",
    "    _______\n",
    "---'   ____)\n",
    "      (_____)\n",
    "      (_____)\n",
    "      (____)\n",
    "---.__(___)\n",
    "'''\n",
    "paper = '''\n",
    "    _______\n",
    "---'   ____)____\n",
    "          ______)\n",
    "          _______)\n",
    "         _______)\n",
    "---.__________)\n",
    "'''\n",
    "scissors = '''\n",
    "    _______\n",
    "---'   ____)____\n",
    "          ______)\n",
    "       __________)\n",
    "      (____)\n",
    "---.__(___)\n",
    "'''\n"
   ]
  },
  {
   "cell_type": "code",
   "execution_count": 2,
   "id": "4f531b6e-6a13-48d8-8821-e9ae6b4776d1",
   "metadata": {},
   "outputs": [],
   "source": [
    "game_images = [rock, paper, scissors]"
   ]
  },
  {
   "cell_type": "code",
   "execution_count": null,
   "id": "08d04069-509d-4875-8cdd-8483406c2c96",
   "metadata": {},
   "outputs": [],
   "source": []
  },
  {
   "cell_type": "code",
   "execution_count": null,
   "id": "ae48a421-fcf5-4ed4-a315-49855b8cfdd4",
   "metadata": {},
   "outputs": [],
   "source": []
  },
  {
   "cell_type": "code",
   "execution_count": null,
   "id": "12f4b640-fe68-4e36-b2c4-e070af0b4562",
   "metadata": {},
   "outputs": [],
   "source": []
  },
  {
   "cell_type": "code",
   "execution_count": 3,
   "id": "275baa9c-d565-4768-a885-5fe58c35b25a",
   "metadata": {},
   "outputs": [
    {
     "ename": "ValueError",
     "evalue": "invalid literal for int() with base 10: '가위'",
     "output_type": "error",
     "traceback": [
      "\u001b[0;31m---------------------------------------------------------------------------\u001b[0m",
      "\u001b[0;31mValueError\u001b[0m                                Traceback (most recent call last)",
      "\u001b[0;32m/var/folders/p_/hv88l_q965d2ywt45g92d86r0000gn/T/ipykernel_27460/1106464037.py\u001b[0m in \u001b[0;36m<module>\u001b[0;34m\u001b[0m\n\u001b[0;32m----> 1\u001b[0;31m \u001b[0mprint\u001b[0m\u001b[0;34m(\u001b[0m\u001b[0mgame_images\u001b[0m\u001b[0;34m[\u001b[0m\u001b[0mint\u001b[0m\u001b[0;34m(\u001b[0m\u001b[0minput\u001b[0m\u001b[0;34m(\u001b[0m\u001b[0;34m'바위'\u001b[0m\u001b[0;34m)\u001b[0m\u001b[0;34m)\u001b[0m\u001b[0;34m]\u001b[0m\u001b[0;34m)\u001b[0m\u001b[0;34m\u001b[0m\u001b[0;34m\u001b[0m\u001b[0m\n\u001b[0m",
      "\u001b[0;31mValueError\u001b[0m: invalid literal for int() with base 10: '가위'"
     ]
    }
   ],
   "source": [
    "print(game_images[int(input('바위'))])"
   ]
  },
  {
   "cell_type": "code",
   "execution_count": null,
   "id": "823b6ff0-202b-4ee3-b0b3-fafced9600d2",
   "metadata": {},
   "outputs": [],
   "source": [
    "print(rock)"
   ]
  },
  {
   "cell_type": "code",
   "execution_count": null,
   "id": "c5df8121-cb8f-4e44-bc65-114b28c59575",
   "metadata": {},
   "outputs": [],
   "source": [
    "print(game_images[int(input('바위...'))])"
   ]
  },
  {
   "cell_type": "code",
   "execution_count": null,
   "id": "2825681f-203e-4ca0-877f-2dc387206d53",
   "metadata": {},
   "outputs": [],
   "source": [
    "game_images[0]"
   ]
  },
  {
   "cell_type": "code",
   "execution_count": null,
   "id": "c80e9a8e-ffcf-420c-ab08-562190325abf",
   "metadata": {},
   "outputs": [],
   "source": [
    "game_images = [rock, paper, scissors]\n",
    "사용자한테 input('Type 0 for Rock, 1 for Paper or 2 for Scissors) 숫자로 입력받아 가위바위보 하시오.\n",
    "(단,while문과 if 문을 사용하시오)"
   ]
  },
  {
   "cell_type": "code",
   "execution_count": null,
   "id": "4a0d6cea-bb70-4246-80e0-31c04e9570a5",
   "metadata": {},
   "outputs": [],
   "source": [
    "*총 경우의 수 7가지\n",
    "1)rock(0) 일 때(2가지)\n",
    "1-1)사용자가 rock으로 이겼을 때\n",
    "1-2)사용자가 rock으로 졌을 때\n",
    "\n",
    "2)paper(1) 일 때(2가지)\n",
    "2-1)사용자가 paper로 이겼을 때\n",
    "2-2)사용자가 paper로 졌을 때\n",
    "\n",
    "3)scissors(2) 일 때(2가지)\n",
    "1-1)사용자가 scissors으로 이겼을 때\n",
    "1-2)사용자가 scissors으로 졌을 때\n",
    "\n",
    "4)사용자(3)가 비겼을 경우(1가지)"
   ]
  },
  {
   "cell_type": "code",
   "execution_count": null,
   "id": "87b91e8f-0084-46e8-a210-e65a01bb6532",
   "metadata": {},
   "outputs": [],
   "source": [
    "package_list = [0, 1, 2]"
   ]
  },
  {
   "cell_type": "code",
   "execution_count": null,
   "id": "bf90e43e-5c64-46f4-b6b7-79cb2c5c829b",
   "metadata": {},
   "outputs": [],
   "source": [
    "if i in package_list :\n",
    "    "
   ]
  },
  {
   "cell_type": "markdown",
   "id": "081b96da-3ecd-4cd0-adb3-94e22a2e20cd",
   "metadata": {
    "tags": []
   },
   "source": [
    "a = 1\n",
    "while a <= 10 :\n",
    "    print(a)\n",
    "    a += 1\n",
    "    print(a)\n",
    "    a += 1\n",
    "    print(a)\n",
    "    break"
   ]
  },
  {
   "cell_type": "code",
   "execution_count": null,
   "id": "0455ee03-8473-4b46-916d-ab25c104c5ad",
   "metadata": {},
   "outputs": [],
   "source": [
    "if i in range"
   ]
  },
  {
   "cell_type": "code",
   "execution_count": null,
   "id": "0f7ad7e2-f6af-42b7-a9a1-6ac1325c6fad",
   "metadata": {},
   "outputs": [],
   "source": [
    "# 컴퓨터가 말한다.\n",
    "a = input('바위는 0, 보는 1, 가위는 2를 입력하시오.')\n",
    "print(a)"
   ]
  },
  {
   "cell_type": "code",
   "execution_count": null,
   "id": "660ef600-91f8-4043-abc7-01b0ae5dc2cf",
   "metadata": {},
   "outputs": [],
   "source": [
    "choicelist = random.choice(package_list)\n",
    "print(choicelist)"
   ]
  },
  {
   "cell_type": "code",
   "execution_count": null,
   "id": "b06e27e9-3a7d-4917-97d5-93d5cd923311",
   "metadata": {},
   "outputs": [],
   "source": [
    "choicelist"
   ]
  },
  {
   "cell_type": "code",
   "execution_count": null,
   "id": "1821e3cf-c839-4445-839e-84b364e8243c",
   "metadata": {},
   "outputs": [],
   "source": [
    "while True :\n",
    "    a = input('바위는 0, 보는 1, 가위는 2를 입력하시오.')\n",
    "    print(a)\n",
    "    break"
   ]
  },
  {
   "cell_type": "code",
   "execution_count": null,
   "id": "63861b1a-d7e5-4ed7-b280-4a9b1f71c226",
   "metadata": {},
   "outputs": [],
   "source": [
    "while True :\n",
    "    a = input('바위는 0, 보는 1, 가위는 2를 입력하시오.')\n",
    "    if i == 0 :\n",
    "        print('바위')\n",
    "            break"
   ]
  },
  {
   "cell_type": "code",
   "execution_count": null,
   "id": "2af2e8c1-f479-47e3-8b33-f2785e20b6a8",
   "metadata": {
    "tags": []
   },
   "outputs": [],
   "source": [
    "# 사용자가 말한다.\n",
    "\n"
   ]
  },
  {
   "cell_type": "code",
   "execution_count": null,
   "id": "fd8ce477-0ac9-4925-9867-2b79e6cdedaa",
   "metadata": {},
   "outputs": [],
   "source": []
  },
  {
   "cell_type": "code",
   "execution_count": null,
   "id": "1ea5f59c-7eeb-48b2-ba7f-67fb9dec1d5f",
   "metadata": {},
   "outputs": [],
   "source": [
    "package_list = [0, 1, 2]"
   ]
  },
  {
   "cell_type": "code",
   "execution_count": null,
   "id": "6a2bb1a8-d702-47ae-bdf9-77ce7ed1af5a",
   "metadata": {},
   "outputs": [],
   "source": [
    "a = input('바위는 0, 보는 1, 가위는 2를 입력하시오.')"
   ]
  },
  {
   "cell_type": "code",
   "execution_count": null,
   "id": "b3e0951c-d0a0-489d-8b41-4e0ae06b8e8c",
   "metadata": {},
   "outputs": [],
   "source": [
    "choicelist = random.choice(game_images)\n",
    "print(choicelist)"
   ]
  },
  {
   "cell_type": "code",
   "execution_count": null,
   "id": "4eeba6c0-4a1f-4fd3-8752-fd3d9c241e19",
   "metadata": {},
   "outputs": [],
   "source": [
    "print(game_images[0])"
   ]
  },
  {
   "cell_type": "code",
   "execution_count": null,
   "id": "3325a0ed-0563-421f-b21d-d5d97d9f81fe",
   "metadata": {},
   "outputs": [],
   "source": [
    "user = input('바위는 0, 보는 1, 가위는 2를 입력하시오.')\n",
    "print(int(user))\n",
    "print(game_images[0])"
   ]
  },
  {
   "cell_type": "code",
   "execution_count": null,
   "id": "0b593a74-4306-44a5-93ef-be9b0b399611",
   "metadata": {},
   "outputs": [],
   "source": [
    "------------"
   ]
  },
  {
   "cell_type": "code",
   "execution_count": null,
   "id": "98acd0a6-6743-47d3-ae1f-54bcf79b7ab9",
   "metadata": {},
   "outputs": [],
   "source": [
    "input('바위는 0, 보는 1, 가위는 2를 입력하시오.')"
   ]
  },
  {
   "cell_type": "code",
   "execution_count": null,
   "id": "4f68a9bb-8df9-49ea-8c2c-f21937aaf947",
   "metadata": {},
   "outputs": [],
   "source": [
    "if user = coumpter :\n",
    "    user = input('바위')\n",
    "    print(int(user))\n",
    "    print(game_images[0])"
   ]
  },
  {
   "cell_type": "code",
   "execution_count": null,
   "id": "eaa50be6-d09f-4ce9-bdc3-4cc5563f3226",
   "metadata": {},
   "outputs": [],
   "source": []
  },
  {
   "cell_type": "code",
   "execution_count": null,
   "id": "1c86e80e-6c39-4446-918d-336abf76419f",
   "metadata": {},
   "outputs": [],
   "source": []
  },
  {
   "cell_type": "code",
   "execution_count": null,
   "id": "b108f0b2-2d64-4c35-a07a-2bc2f63b4c34",
   "metadata": {},
   "outputs": [],
   "source": [
    "random.choice([0,1,2])"
   ]
  },
  {
   "cell_type": "markdown",
   "id": "d2027cc0-bd7a-4e7d-aca4-d53b29a9b1ed",
   "metadata": {
    "tags": []
   },
   "source": [
    "user = input('바위는 0, 보는 1, 가위는 2를 입력하시오.')\n",
    "print(int(user))\n",
    "print(game_images[int(user)])"
   ]
  },
  {
   "cell_type": "markdown",
   "id": "7eac7035-4986-4da9-8974-1c7e781a426f",
   "metadata": {},
   "source": [
    "---"
   ]
  },
  {
   "cell_type": "code",
   "execution_count": null,
   "id": "a27d3296-8810-4305-b56e-78a6fcfd2db0",
   "metadata": {},
   "outputs": [],
   "source": [
    "import random\n",
    "rock = '''\n",
    "    _______\n",
    "---'   ____)\n",
    "      (_____)\n",
    "      (_____)\n",
    "      (____)\n",
    "---.__(___)\n",
    "'''\n",
    "paper = '''\n",
    "    _______\n",
    "---'   ____)____\n",
    "          ______)\n",
    "          _______)\n",
    "         _______)\n",
    "---.__________)\n",
    "'''\n",
    "scissors = '''\n",
    "    _______\n",
    "---'   ____)____\n",
    "          ______)\n",
    "       __________)\n",
    "      (____)\n",
    "---.__(___)\n",
    "'''\n"
   ]
  },
  {
   "cell_type": "code",
   "execution_count": null,
   "id": "3ae0f0a4-0249-44ac-b1cd-902b543c9479",
   "metadata": {},
   "outputs": [],
   "source": [
    "game_images = [rock, paper, scissors]"
   ]
  },
  {
   "cell_type": "code",
   "execution_count": null,
   "id": "915c52a2-c618-4c1c-8eca-dee49c6138be",
   "metadata": {},
   "outputs": [],
   "source": [
    "user = input('바위는 0, 보는 1, 가위는 2를 입력하시오.')\n",
    "print(game_images[int(user)])"
   ]
  },
  {
   "cell_type": "code",
   "execution_count": null,
   "id": "d49428e1-fa4f-4c2a-8338-4d76cec09247",
   "metadata": {},
   "outputs": [],
   "source": [
    "input('바위는 0, 보는 1, 가위는 2를 입력하시오.')"
   ]
  },
  {
   "cell_type": "code",
   "execution_count": null,
   "id": "f21c0538-0fa7-4781-869e-83ef67f61ca7",
   "metadata": {},
   "outputs": [],
   "source": [
    "int(user) = random.choice([0,1,2])"
   ]
  },
  {
   "cell_type": "code",
   "execution_count": null,
   "id": "2a69133c-60a9-4ab7-a1b8-dd48fb47d36e",
   "metadata": {},
   "outputs": [],
   "source": []
  },
  {
   "cell_type": "code",
   "execution_count": null,
   "id": "c7a1e0f1-f795-46a6-ba5c-092b58d9d980",
   "metadata": {},
   "outputs": [],
   "source": [
    "-----------------------------------------------------------------------------------------------------------------------------"
   ]
  },
  {
   "cell_type": "code",
   "execution_count": 5,
   "id": "5abe8fab-1063-4c3d-af63-048c0052fd48",
   "metadata": {},
   "outputs": [],
   "source": [
    "import random\n",
    "rock = '''\n",
    "    _______\n",
    "---'   ____)\n",
    "      (_____)\n",
    "      (_____)\n",
    "      (____)\n",
    "---.__(___)\n",
    "'''\n",
    "paper = '''\n",
    "    _______\n",
    "---'   ____)____\n",
    "          ______)\n",
    "          _______)\n",
    "         _______)\n",
    "---.__________)\n",
    "'''\n",
    "scissors = '''\n",
    "    _______\n",
    "---'   ____)____\n",
    "          ______)\n",
    "       __________)\n",
    "      (____)\n",
    "---.__(___)\n",
    "'''\n"
   ]
  },
  {
   "cell_type": "code",
   "execution_count": 29,
   "id": "7fe0a7e1-4970-40fc-b20e-315bbb582e48",
   "metadata": {},
   "outputs": [],
   "source": [
    "game_images = [rock, paper, scissors]"
   ]
  },
  {
   "cell_type": "code",
   "execution_count": 194,
   "id": "e4d97da9-7476-4763-a32e-5d8dc33269cd",
   "metadata": {},
   "outputs": [
    {
     "name": "stdout",
     "output_type": "stream",
     "text": [
      "바위는 0, 보는 1, 가위는 2를 입력하시오. 0\n"
     ]
    },
    {
     "name": "stdout",
     "output_type": "stream",
     "text": [
      "0\n"
     ]
    }
   ],
   "source": [
    "user = int(input('바위는 0, 보는 1, 가위는 2를 입력하시오.'))\n",
    "print(user)"
   ]
  },
  {
   "cell_type": "code",
   "execution_count": 195,
   "id": "d4007f26-9a1c-46dc-afd9-a5d922efa155",
   "metadata": {},
   "outputs": [
    {
     "name": "stdout",
     "output_type": "stream",
     "text": [
      "\n",
      "    _______\n",
      "---'   ____)____\n",
      "          ______)\n",
      "          _______)\n",
      "         _______)\n",
      "---.__________)\n",
      "\n"
     ]
    }
   ],
   "source": [
    "coumpter = game_images[random.choice([0,1,2])]\n",
    "print(coumpter)"
   ]
  },
  {
   "cell_type": "code",
   "execution_count": null,
   "id": "bc87829e-9d10-4035-a8fc-ee3d3c45afda",
   "metadata": {},
   "outputs": [],
   "source": [
    "random.choice([0,1,2]) =="
   ]
  },
  {
   "cell_type": "code",
   "execution_count": 245,
   "id": "26c1bc66-2a1d-4a31-89f1-6eb9c2df029e",
   "metadata": {},
   "outputs": [],
   "source": [
    "coumpter = game_images[0]"
   ]
  },
  {
   "cell_type": "code",
   "execution_count": 248,
   "id": "867a950e-8caa-456a-9406-220dcb77f632",
   "metadata": {},
   "outputs": [
    {
     "data": {
      "text/plain": [
       "\"\\n    _______\\n---'   ____)\\n      (_____)\\n      (_____)\\n      (____)\\n---.__(___)\\n\""
      ]
     },
     "execution_count": 248,
     "metadata": {},
     "output_type": "execute_result"
    }
   ],
   "source": [
    "game_images[0]"
   ]
  },
  {
   "cell_type": "code",
   "execution_count": 247,
   "id": "151d14bb-8796-4945-86d9-7bcc9e7b3702",
   "metadata": {},
   "outputs": [
    {
     "name": "stdout",
     "output_type": "stream",
     "text": [
      "\n",
      "    _______\n",
      "---'   ____)\n",
      "      (_____)\n",
      "      (_____)\n",
      "      (____)\n",
      "---.__(___)\n",
      "\n"
     ]
    }
   ],
   "source": [
    "print(coumpter)"
   ]
  },
  {
   "cell_type": "code",
   "execution_count": 244,
   "id": "4d4e0b06-8a95-42d7-8fc7-ff9612f72df1",
   "metadata": {},
   "outputs": [
    {
     "ename": "SyntaxError",
     "evalue": "'break' outside loop (3008269783.py, line 4)",
     "output_type": "error",
     "traceback": [
      "\u001b[1;36m  Input \u001b[1;32mIn [244]\u001b[1;36m\u001b[0m\n\u001b[1;33m    break\u001b[0m\n\u001b[1;37m    ^\u001b[0m\n\u001b[1;31mSyntaxError\u001b[0m\u001b[1;31m:\u001b[0m 'break' outside loop\n"
     ]
    }
   ],
   "source": [
    "if user == random.choice([0,1,2]) :\n",
    "    print(user)\n",
    "    print(coumpter)\n",
    "    break"
   ]
  },
  {
   "cell_type": "code",
   "execution_count": null,
   "id": "d9c8a11a-ff4c-4152-acbb-5c0251dc8de3",
   "metadata": {},
   "outputs": [],
   "source": []
  },
  {
   "cell_type": "code",
   "execution_count": 259,
   "id": "a299c59e-0335-476a-b415-1daf9b66768b",
   "metadata": {},
   "outputs": [
    {
     "name": "stdout",
     "output_type": "stream",
     "text": [
      "이김\n",
      "\n",
      "    _______\n",
      "---'   ____)\n",
      "      (_____)\n",
      "      (_____)\n",
      "      (____)\n",
      "---.__(___)\n",
      "\n"
     ]
    }
   ],
   "source": [
    "# 사용자가 바위일 때 \n",
    "while True :\n",
    "    if (user == 0) & (random.choice([0,1,2]) == 0):\n",
    "        print('비김')\n",
    "        print(coumpter)\n",
    "        break\n",
    "    elif (user == 0) & (random.choice([0,1,2]) == 1):\n",
    "        print('짐')\n",
    "        print(coumpter)\n",
    "        break\n",
    "    elif (user == 0) & (random.choice([0,1,2]) == 2):\n",
    "        print('이김')\n",
    "        print(coumpter)\n",
    "        break"
   ]
  },
  {
   "cell_type": "code",
   "execution_count": null,
   "id": "d6260b61-d62a-4758-8fd7-f3b17e348c38",
   "metadata": {},
   "outputs": [],
   "source": []
  },
  {
   "cell_type": "code",
   "execution_count": null,
   "id": "83d06d38-5831-475e-a997-b811bc6c8d94",
   "metadata": {},
   "outputs": [],
   "source": []
  },
  {
   "cell_type": "code",
   "execution_count": null,
   "id": "3eafaf35-641e-4aac-9d04-09c34b445578",
   "metadata": {},
   "outputs": [],
   "source": []
  },
  {
   "cell_type": "code",
   "execution_count": null,
   "id": "cf18c73f-8a5f-48be-9400-f5ac9910d4eb",
   "metadata": {},
   "outputs": [],
   "source": []
  },
  {
   "cell_type": "code",
   "execution_count": null,
   "id": "8de3845c-0e37-4dc5-b3bc-c2baab2fa8e0",
   "metadata": {},
   "outputs": [],
   "source": []
  },
  {
   "cell_type": "code",
   "execution_count": null,
   "id": "9c1df729-5f9e-404b-82e6-3d003bf13be3",
   "metadata": {},
   "outputs": [],
   "source": []
  },
  {
   "cell_type": "code",
   "execution_count": null,
   "id": "28b2e5f9-ab23-4fb2-9a83-4a21fbf547fb",
   "metadata": {},
   "outputs": [],
   "source": []
  },
  {
   "cell_type": "code",
   "execution_count": 154,
   "id": "b7d414b2-0f51-4863-9e7a-fa2911c6cb4a",
   "metadata": {},
   "outputs": [
    {
     "ename": "SyntaxError",
     "evalue": "invalid syntax (890620468.py, line 1)",
     "output_type": "error",
     "traceback": [
      "\u001b[1;36m  Input \u001b[1;32mIn [154]\u001b[1;36m\u001b[0m\n\u001b[1;33m    -----------------------------------------------------------------------------------------------------------------------------\u001b[0m\n\u001b[1;37m                                                                                                                                 ^\u001b[0m\n\u001b[1;31mSyntaxError\u001b[0m\u001b[1;31m:\u001b[0m invalid syntax\n"
     ]
    }
   ],
   "source": [
    "-----------------------------------------------------------------------------------------------------------------------------"
   ]
  },
  {
   "cell_type": "code",
   "execution_count": null,
   "id": "f9148aec-b28c-45ef-9a47-3501114fef14",
   "metadata": {},
   "outputs": [],
   "source": []
  },
  {
   "cell_type": "code",
   "execution_count": null,
   "id": "b8252861-91d9-4412-8b8f-d8d30b4c6caf",
   "metadata": {},
   "outputs": [],
   "source": [
    "# user가 바위일 경우\n",
    "user = input('바위')\n",
    "print(int(user))\n",
    "print(game_images[0])"
   ]
  },
  {
   "cell_type": "code",
   "execution_count": null,
   "id": "c350cbdd-1dba-41d0-b284-d535e84caedf",
   "metadata": {},
   "outputs": [],
   "source": [
    "coumpter = random.choice(game_images)\n",
    "print(coumpter)"
   ]
  },
  {
   "cell_type": "code",
   "execution_count": null,
   "id": "e4749631-1a9b-49db-b7bb-80f08d6cca42",
   "metadata": {},
   "outputs": [],
   "source": [
    "print('이김')"
   ]
  },
  {
   "cell_type": "code",
   "execution_count": null,
   "id": "9d307822-3dfc-483f-9a98-aaf4213a277b",
   "metadata": {},
   "outputs": [],
   "source": []
  },
  {
   "cell_type": "code",
   "execution_count": null,
   "id": "af2a4016-6b72-4909-8d19-c375ef5eba17",
   "metadata": {},
   "outputs": [],
   "source": []
  },
  {
   "cell_type": "code",
   "execution_count": null,
   "id": "3b7b4961-b664-4343-be5b-d369a18d29ca",
   "metadata": {},
   "outputs": [],
   "source": [
    "if user = computer :\n",
    "    print('draw')"
   ]
  },
  {
   "cell_type": "code",
   "execution_count": null,
   "id": "4a7d4ef3-0cd5-428e-bc21-4b6b9636e43e",
   "metadata": {},
   "outputs": [],
   "source": [
    "if "
   ]
  },
  {
   "cell_type": "code",
   "execution_count": null,
   "id": "182a8f4b-171b-4e00-86cf-3252f4715d71",
   "metadata": {},
   "outputs": [],
   "source": [
    "game_images[0]"
   ]
  },
  {
   "cell_type": "code",
   "execution_count": null,
   "id": "f2cadf55-927f-4c39-8870-cbf857667025",
   "metadata": {},
   "outputs": [],
   "source": [
    "# 바위일 때\n",
    "print(game_images[int(input(game_images[0]))])"
   ]
  },
  {
   "cell_type": "code",
   "execution_count": null,
   "id": "613b2162-fc71-4775-b9ac-74f3af66f692",
   "metadata": {},
   "outputs": [],
   "source": [
    "# 보일 때\n",
    "print(game_images[int(input(game_images[1]))])"
   ]
  },
  {
   "cell_type": "code",
   "execution_count": null,
   "id": "d11ceebb-aa66-45d8-ae20-800e9ba642dc",
   "metadata": {},
   "outputs": [],
   "source": [
    "# 가위일 때\n",
    "print(game_images[int(input(game_images[2]))])"
   ]
  },
  {
   "cell_type": "code",
   "execution_count": null,
   "id": "9462bdfc-b776-4808-a289-64e3a24f382a",
   "metadata": {},
   "outputs": [],
   "source": []
  },
  {
   "cell_type": "markdown",
   "id": "280310e8-95ab-4dce-83f0-be5d57aaaf30",
   "metadata": {},
   "source": [
    "-----"
   ]
  },
  {
   "cell_type": "code",
   "execution_count": null,
   "id": "c6185c1a-58b2-477e-a88f-27bf19203062",
   "metadata": {},
   "outputs": [],
   "source": []
  },
  {
   "cell_type": "code",
   "execution_count": 29,
   "id": "08f475c7-b182-4af1-986a-214d1936df77",
   "metadata": {},
   "outputs": [],
   "source": [
    "game_images = [rock, paper, scissors]"
   ]
  },
  {
   "cell_type": "code",
   "execution_count": 194,
   "id": "0a269679-64da-430b-8a51-a76499c4d0c6",
   "metadata": {},
   "outputs": [
    {
     "name": "stdout",
     "output_type": "stream",
     "text": [
      "바위는 0, 보는 1, 가위는 2를 입력하시오. 0\n"
     ]
    },
    {
     "name": "stdout",
     "output_type": "stream",
     "text": [
      "0\n"
     ]
    }
   ],
   "source": [
    "user = int(input('바위는 0, 보는 1, 가위는 2를 입력하시오.'))"
   ]
  },
  {
   "cell_type": "code",
   "execution_count": 269,
   "id": "b9727a2d-1ee8-44c7-95e7-dcfafd933542",
   "metadata": {},
   "outputs": [],
   "source": [
    "com = random.choice([0,1,2]) "
   ]
  },
  {
   "cell_type": "code",
   "execution_count": 270,
   "id": "273a71fe-8476-4cf2-8f0e-fe5e5e4cb10e",
   "metadata": {},
   "outputs": [
    {
     "data": {
      "text/plain": [
       "0"
      ]
     },
     "execution_count": 270,
     "metadata": {},
     "output_type": "execute_result"
    }
   ],
   "source": [
    "com"
   ]
  },
  {
   "cell_type": "code",
   "execution_count": null,
   "id": "97bd009d-2153-4792-b262-60034e9df629",
   "metadata": {},
   "outputs": [],
   "source": [
    "game_images[com]"
   ]
  },
  {
   "cell_type": "code",
   "execution_count": 272,
   "id": "d670593f-d24e-4686-b477-f9d811cc21e9",
   "metadata": {},
   "outputs": [],
   "source": [
    "com = 0"
   ]
  },
  {
   "cell_type": "code",
   "execution_count": 273,
   "id": "8ad883cc-26fd-42d0-80c2-9bcfb0c40fca",
   "metadata": {},
   "outputs": [],
   "source": [
    "user= 0"
   ]
  },
  {
   "cell_type": "code",
   "execution_count": 284,
   "id": "4ef5637f-f614-4f39-be53-e03aad3e9d4d",
   "metadata": {
    "tags": []
   },
   "outputs": [
    {
     "name": "stdout",
     "output_type": "stream",
     "text": [
      "바위는 0, 보는 1, 가위는 2를 입력하시오. 0\n"
     ]
    },
    {
     "name": "stdout",
     "output_type": "stream",
     "text": [
      "\n",
      "    _______\n",
      "---'   ____)\n",
      "      (_____)\n",
      "      (_____)\n",
      "      (____)\n",
      "---.__(___)\n",
      " 나\n",
      "\n",
      "    _______\n",
      "---'   ____)____\n",
      "          ______)\n",
      "          _______)\n",
      "         _______)\n",
      "---.__________)\n",
      " 컴\n",
      "--\n",
      "짐\n"
     ]
    }
   ],
   "source": [
    "while True :\n",
    "    user = int(input('바위는 0, 보는 1, 가위는 2를 입력하시오.'))\n",
    "    com = random.choice([0,1,2])\n",
    "    print(game_images[user], '나')\n",
    "    print(game_images[com], '컴')\n",
    "\n",
    "    if user == com :\n",
    "        print(\"--\")\n",
    "        print('비김')\n",
    "        continue\n",
    "        \n",
    "    elif (user == 0) & (com == 1):\n",
    "        print(\"--\")\n",
    "        print('짐')\n",
    "        break\n",
    "        \n",
    "    elif (user == 0) & (com == 2):\n",
    "        print(\"--\")\n",
    "        print('이김')\n",
    "        break\n",
    "        \n",
    "    elif (user == 1) & (com == 0):\n",
    "        print(\"--\")\n",
    "        print('이김')\n",
    "        break\n",
    "        \n",
    "    elif (user == 1) & (com == 2):\n",
    "        print(\"--\")\n",
    "        print('짐')\n",
    "        break\n",
    "        \n",
    "    elif (user == 2) & (com == 0):\n",
    "        print(\"--\")\n",
    "        print('짐')\n",
    "        break\n",
    "        \n",
    "    elif (user == 2) & (com == 1):\n",
    "        print(\"--\")\n",
    "        print('이김')\n",
    "        break"
   ]
  },
  {
   "cell_type": "code",
   "execution_count": null,
   "id": "731216d7-09af-4b3f-8784-5dc97974d457",
   "metadata": {},
   "outputs": [],
   "source": []
  }
 ],
 "metadata": {
  "kernelspec": {
   "display_name": "Python 3.9.13 ('base')",
   "language": "python",
   "name": "python3"
  },
  "language_info": {
   "codemirror_mode": {
    "name": "ipython",
    "version": 3
   },
   "file_extension": ".py",
   "mimetype": "text/x-python",
   "name": "python",
   "nbconvert_exporter": "python",
   "pygments_lexer": "ipython3",
   "version": "3.9.13"
  },
  "vscode": {
   "interpreter": {
    "hash": "701d4f28dcd0866722f5108a3a4cbcd08882d26398b6d44117e791d7b8102912"
   }
  }
 },
 "nbformat": 4,
 "nbformat_minor": 5
}
