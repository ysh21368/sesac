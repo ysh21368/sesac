{
 "cells": [
  {
   "cell_type": "code",
   "execution_count": 3,
   "id": "bd0bb2ee-258c-45f9-9f01-114ff151212f",
   "metadata": {},
   "outputs": [],
   "source": [
    "list = []\n",
    "for i in range(1, 11):\n",
    "    list.append(i)"
   ]
  },
  {
   "cell_type": "code",
   "execution_count": 4,
   "id": "01b36245-51bc-402f-8d95-14732d1d43ea",
   "metadata": {},
   "outputs": [
    {
     "data": {
      "text/plain": [
       "[1, 2, 3, 4, 5, 6, 7, 8, 9, 10]"
      ]
     },
     "execution_count": 4,
     "metadata": {},
     "output_type": "execute_result"
    }
   ],
   "source": [
    "list"
   ]
  },
  {
   "cell_type": "code",
   "execution_count": 83,
   "id": "b0b0c656-d728-4198-a5ac-ffeaf426de52",
   "metadata": {},
   "outputs": [],
   "source": [
    "n = 10"
   ]
  },
  {
   "cell_type": "code",
   "execution_count": 84,
   "id": "b85c7099-1f05-4c59-8682-1649238e98e5",
   "metadata": {},
   "outputs": [],
   "source": [
    "ls = list(range(0,n+2,1))"
   ]
  },
  {
   "cell_type": "code",
   "execution_count": 85,
   "id": "fdc035c2-7609-46d7-902d-726f269adaf1",
   "metadata": {},
   "outputs": [],
   "source": [
    "ls_ch = [False]*2+[True]*n"
   ]
  },
  {
   "cell_type": "code",
   "execution_count": 86,
   "id": "e987f38b-cb1d-40ea-8247-d39ee7c0e04d",
   "metadata": {},
   "outputs": [],
   "source": [
    "res = []"
   ]
  },
  {
   "cell_type": "code",
   "execution_count": 87,
   "id": "eda5a12b-0c35-4070-91ac-b4b8cc20d75a",
   "metadata": {},
   "outputs": [
    {
     "data": {
      "text/plain": [
       "12"
      ]
     },
     "execution_count": 87,
     "metadata": {},
     "output_type": "execute_result"
    }
   ],
   "source": [
    "len(ls_ch)"
   ]
  },
  {
   "cell_type": "code",
   "execution_count": 88,
   "id": "29a17396-2cd5-4f06-8aa8-e3e37b1b5ce7",
   "metadata": {},
   "outputs": [
    {
     "data": {
      "text/plain": [
       "12"
      ]
     },
     "execution_count": 88,
     "metadata": {},
     "output_type": "execute_result"
    }
   ],
   "source": [
    "len(ls)"
   ]
  },
  {
   "cell_type": "code",
   "execution_count": 89,
   "id": "0caabb70-21c7-4990-bbb2-1f80ca765263",
   "metadata": {},
   "outputs": [],
   "source": [
    "for i in ls:\n",
    "    # print(i)\n",
    "    if ls_ch[i]:# 소수\n",
    "        # print(ls_ch)\n",
    "        res.append(i)\n",
    "        # print(list(range(i,n,i)[1:]))\n",
    "        for ii in list(range(i,n+1,i)[1:]):\n",
    "            ls_ch[ii] = False"
   ]
  },
  {
   "cell_type": "code",
   "execution_count": 90,
   "id": "5cce20c9-2343-4681-8750-882c1375e152",
   "metadata": {},
   "outputs": [
    {
     "data": {
      "text/plain": [
       "[2, 3, 5, 7, 11]"
      ]
     },
     "execution_count": 90,
     "metadata": {},
     "output_type": "execute_result"
    }
   ],
   "source": [
    "res"
   ]
  },
  {
   "cell_type": "code",
   "execution_count": 80,
   "id": "8fe14346-1a80-4f2e-8c2a-cea7daa1ba9a",
   "metadata": {},
   "outputs": [
    {
     "data": {
      "text/plain": [
       "[False, False, True, True, False, True, False, True, False, False, False, True]"
      ]
     },
     "execution_count": 80,
     "metadata": {},
     "output_type": "execute_result"
    }
   ],
   "source": [
    "ls_ch"
   ]
  },
  {
   "cell_type": "code",
   "execution_count": 21,
   "id": "5959262f-70d1-475c-8d5e-f94972c7e719",
   "metadata": {},
   "outputs": [],
   "source": [
    "temp = []\n",
    "for i in range(1, 11):\n",
    "    for j in range(1, 11):\n",
    "        if (i == 1) & (i == j) :\n",
    "            temp.append(i)"
   ]
  },
  {
   "cell_type": "code",
   "execution_count": 22,
   "id": "2e4d13ba-401b-458d-9b4a-96fa6162e176",
   "metadata": {},
   "outputs": [
    {
     "data": {
      "text/plain": [
       "[1]"
      ]
     },
     "execution_count": 22,
     "metadata": {},
     "output_type": "execute_result"
    }
   ],
   "source": [
    "temp"
   ]
  },
  {
   "cell_type": "code",
   "execution_count": null,
   "id": "5022fcdb-2638-49bc-9acb-a036d02cdf68",
   "metadata": {},
   "outputs": [],
   "source": []
  }
 ],
 "metadata": {
  "kernelspec": {
   "display_name": "Python 3 (ipykernel)",
   "language": "python",
   "name": "python3"
  },
  "language_info": {
   "codemirror_mode": {
    "name": "ipython",
    "version": 3
   },
   "file_extension": ".py",
   "mimetype": "text/x-python",
   "name": "python",
   "nbconvert_exporter": "python",
   "pygments_lexer": "ipython3",
   "version": "3.9.12"
  }
 },
 "nbformat": 4,
 "nbformat_minor": 5
}
